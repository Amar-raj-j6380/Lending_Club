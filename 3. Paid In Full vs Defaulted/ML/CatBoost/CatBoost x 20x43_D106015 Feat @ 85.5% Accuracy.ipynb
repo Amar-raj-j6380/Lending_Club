{
 "cells": [
  {
   "cell_type": "code",
   "execution_count": 1,
   "id": "6152f23e",
   "metadata": {},
   "outputs": [],
   "source": [
    "import pandas as pd\n",
    "import numpy as np\n",
    "import seaborn as sns\n",
    "\n",
    "from sklearn.model_selection import cross_val_score\n",
    "from sklearn.model_selection import RepeatedStratifiedKFold\n",
    "\n",
    "#from numpy import mean\n",
    "#from sklearn.datasets import make_classification\n",
    "#from sklearn.tree import DecisionTreeClassifier\n",
    "from imblearn.pipeline import Pipeline\n",
    "#from imblearn.over_sampling import RandomOverSampler"
   ]
  },
  {
   "cell_type": "code",
   "execution_count": 2,
   "id": "a2b85a18",
   "metadata": {},
   "outputs": [],
   "source": [
    "from catboost import CatBoostClassifier\n",
    "cb = CatBoostClassifier(iterations=1000, verbose = 10)\n",
    "#cb.fit(X, y, cat_features = cat_features, verbose = False)"
   ]
  },
  {
   "cell_type": "code",
   "execution_count": 3,
   "id": "3bfc733e",
   "metadata": {},
   "outputs": [],
   "source": [
    "data = pd.read_csv('../../Data/20x43_D106015.csv')"
   ]
  },
  {
   "cell_type": "code",
   "execution_count": 4,
   "id": "b67e970e",
   "metadata": {},
   "outputs": [
    {
     "data": {
      "text/html": [
       "<div>\n",
       "<style scoped>\n",
       "    .dataframe tbody tr th:only-of-type {\n",
       "        vertical-align: middle;\n",
       "    }\n",
       "\n",
       "    .dataframe tbody tr th {\n",
       "        vertical-align: top;\n",
       "    }\n",
       "\n",
       "    .dataframe thead th {\n",
       "        text-align: right;\n",
       "    }\n",
       "</style>\n",
       "<table border=\"1\" class=\"dataframe\">\n",
       "  <thead>\n",
       "    <tr style=\"text-align: right;\">\n",
       "      <th></th>\n",
       "      <th>loan_amnt</th>\n",
       "      <th>annual_inc</th>\n",
       "      <th>dti</th>\n",
       "      <th>fico_range_low</th>\n",
       "      <th>fico_range_high</th>\n",
       "      <th>int_rate</th>\n",
       "      <th>installment</th>\n",
       "      <th>open_acc</th>\n",
       "      <th>total_acc</th>\n",
       "      <th>revol_bal</th>\n",
       "      <th>...</th>\n",
       "      <th>medical</th>\n",
       "      <th>moving</th>\n",
       "      <th>other</th>\n",
       "      <th>renewable_energy</th>\n",
       "      <th>small_business</th>\n",
       "      <th>vacation</th>\n",
       "      <th>Not Verified</th>\n",
       "      <th>Source Verified</th>\n",
       "      <th>Verified</th>\n",
       "      <th>loan_status_bin</th>\n",
       "    </tr>\n",
       "  </thead>\n",
       "  <tbody>\n",
       "    <tr>\n",
       "      <th>0</th>\n",
       "      <td>-1.710264</td>\n",
       "      <td>-0.170493</td>\n",
       "      <td>0.829172</td>\n",
       "      <td>-0.425785</td>\n",
       "      <td>-0.425785</td>\n",
       "      <td>-0.643790</td>\n",
       "      <td>-1.712281</td>\n",
       "      <td>-0.534592</td>\n",
       "      <td>0.045671</td>\n",
       "      <td>0.052599</td>\n",
       "      <td>...</td>\n",
       "      <td>-0.185873</td>\n",
       "      <td>-0.19115</td>\n",
       "      <td>1.963633</td>\n",
       "      <td>-0.043113</td>\n",
       "      <td>-0.144338</td>\n",
       "      <td>-0.144338</td>\n",
       "      <td>1.296762</td>\n",
       "      <td>-0.758962</td>\n",
       "      <td>-0.595207</td>\n",
       "      <td>0.0</td>\n",
       "    </tr>\n",
       "    <tr>\n",
       "      <th>1</th>\n",
       "      <td>-0.220640</td>\n",
       "      <td>-0.022381</td>\n",
       "      <td>-0.004694</td>\n",
       "      <td>-0.713738</td>\n",
       "      <td>-0.713738</td>\n",
       "      <td>1.352522</td>\n",
       "      <td>-0.187752</td>\n",
       "      <td>0.281683</td>\n",
       "      <td>0.133276</td>\n",
       "      <td>-0.375976</td>\n",
       "      <td>...</td>\n",
       "      <td>-0.185873</td>\n",
       "      <td>-0.19115</td>\n",
       "      <td>-0.509260</td>\n",
       "      <td>-0.043113</td>\n",
       "      <td>-0.144338</td>\n",
       "      <td>-0.144338</td>\n",
       "      <td>-0.771151</td>\n",
       "      <td>1.317589</td>\n",
       "      <td>-0.595207</td>\n",
       "      <td>1.0</td>\n",
       "    </tr>\n",
       "    <tr>\n",
       "      <th>2</th>\n",
       "      <td>-1.071854</td>\n",
       "      <td>0.240519</td>\n",
       "      <td>0.629044</td>\n",
       "      <td>-0.425785</td>\n",
       "      <td>-0.425785</td>\n",
       "      <td>1.352522</td>\n",
       "      <td>-1.051675</td>\n",
       "      <td>-0.738661</td>\n",
       "      <td>-1.005580</td>\n",
       "      <td>1.311539</td>\n",
       "      <td>...</td>\n",
       "      <td>-0.185873</td>\n",
       "      <td>-0.19115</td>\n",
       "      <td>1.963633</td>\n",
       "      <td>-0.043113</td>\n",
       "      <td>-0.144338</td>\n",
       "      <td>-0.144338</td>\n",
       "      <td>-0.771151</td>\n",
       "      <td>-0.758962</td>\n",
       "      <td>1.680088</td>\n",
       "      <td>0.0</td>\n",
       "    </tr>\n",
       "    <tr>\n",
       "      <th>3</th>\n",
       "      <td>-0.220640</td>\n",
       "      <td>0.014648</td>\n",
       "      <td>0.680359</td>\n",
       "      <td>0.150120</td>\n",
       "      <td>0.150120</td>\n",
       "      <td>1.352522</td>\n",
       "      <td>-0.187752</td>\n",
       "      <td>1.506095</td>\n",
       "      <td>0.746505</td>\n",
       "      <td>2.320996</td>\n",
       "      <td>...</td>\n",
       "      <td>5.380004</td>\n",
       "      <td>-0.19115</td>\n",
       "      <td>-0.509260</td>\n",
       "      <td>-0.043113</td>\n",
       "      <td>-0.144338</td>\n",
       "      <td>-0.144338</td>\n",
       "      <td>-0.771151</td>\n",
       "      <td>1.317589</td>\n",
       "      <td>-0.595207</td>\n",
       "      <td>0.0</td>\n",
       "    </tr>\n",
       "    <tr>\n",
       "      <th>4</th>\n",
       "      <td>-0.305762</td>\n",
       "      <td>-0.194784</td>\n",
       "      <td>1.090877</td>\n",
       "      <td>-0.425785</td>\n",
       "      <td>-0.425785</td>\n",
       "      <td>1.352522</td>\n",
       "      <td>-0.274111</td>\n",
       "      <td>1.506095</td>\n",
       "      <td>1.972965</td>\n",
       "      <td>-0.350852</td>\n",
       "      <td>...</td>\n",
       "      <td>-0.185873</td>\n",
       "      <td>-0.19115</td>\n",
       "      <td>-0.509260</td>\n",
       "      <td>-0.043113</td>\n",
       "      <td>-0.144338</td>\n",
       "      <td>-0.144338</td>\n",
       "      <td>-0.771151</td>\n",
       "      <td>-0.758962</td>\n",
       "      <td>1.680088</td>\n",
       "      <td>1.0</td>\n",
       "    </tr>\n",
       "  </tbody>\n",
       "</table>\n",
       "<p>5 rows × 43 columns</p>\n",
       "</div>"
      ],
      "text/plain": [
       "   loan_amnt  annual_inc       dti  fico_range_low  fico_range_high  int_rate  \\\n",
       "0  -1.710264   -0.170493  0.829172       -0.425785        -0.425785 -0.643790   \n",
       "1  -0.220640   -0.022381 -0.004694       -0.713738        -0.713738  1.352522   \n",
       "2  -1.071854    0.240519  0.629044       -0.425785        -0.425785  1.352522   \n",
       "3  -0.220640    0.014648  0.680359        0.150120         0.150120  1.352522   \n",
       "4  -0.305762   -0.194784  1.090877       -0.425785        -0.425785  1.352522   \n",
       "\n",
       "   installment  open_acc  total_acc  revol_bal  ...   medical   moving  \\\n",
       "0    -1.712281 -0.534592   0.045671   0.052599  ... -0.185873 -0.19115   \n",
       "1    -0.187752  0.281683   0.133276  -0.375976  ... -0.185873 -0.19115   \n",
       "2    -1.051675 -0.738661  -1.005580   1.311539  ... -0.185873 -0.19115   \n",
       "3    -0.187752  1.506095   0.746505   2.320996  ...  5.380004 -0.19115   \n",
       "4    -0.274111  1.506095   1.972965  -0.350852  ... -0.185873 -0.19115   \n",
       "\n",
       "      other  renewable_energy  small_business  vacation  Not Verified  \\\n",
       "0  1.963633         -0.043113       -0.144338 -0.144338      1.296762   \n",
       "1 -0.509260         -0.043113       -0.144338 -0.144338     -0.771151   \n",
       "2  1.963633         -0.043113       -0.144338 -0.144338     -0.771151   \n",
       "3 -0.509260         -0.043113       -0.144338 -0.144338     -0.771151   \n",
       "4 -0.509260         -0.043113       -0.144338 -0.144338     -0.771151   \n",
       "\n",
       "   Source Verified  Verified  loan_status_bin  \n",
       "0        -0.758962 -0.595207              0.0  \n",
       "1         1.317589 -0.595207              1.0  \n",
       "2        -0.758962  1.680088              0.0  \n",
       "3         1.317589 -0.595207              0.0  \n",
       "4        -0.758962  1.680088              1.0  \n",
       "\n",
       "[5 rows x 43 columns]"
      ]
     },
     "execution_count": 4,
     "metadata": {},
     "output_type": "execute_result"
    }
   ],
   "source": [
    "data.head(5)"
   ]
  },
  {
   "cell_type": "code",
   "execution_count": 5,
   "id": "2d771aea",
   "metadata": {},
   "outputs": [
    {
     "data": {
      "text/plain": [
       "(539, 42)"
      ]
     },
     "execution_count": 5,
     "metadata": {},
     "output_type": "execute_result"
    }
   ],
   "source": [
    "X = data.drop('loan_status_bin', axis=1)\n",
    "X.shape"
   ]
  },
  {
   "cell_type": "code",
   "execution_count": 6,
   "id": "664792cd",
   "metadata": {},
   "outputs": [],
   "source": [
    "y = data['loan_status_bin']"
   ]
  },
  {
   "cell_type": "code",
   "execution_count": 7,
   "id": "038d3bc3",
   "metadata": {},
   "outputs": [],
   "source": [
    "steps = [('model', cb)]\n",
    "pipeline = Pipeline(steps=steps)"
   ]
  },
  {
   "cell_type": "code",
   "execution_count": 8,
   "id": "4124111e",
   "metadata": {},
   "outputs": [
    {
     "name": "stdout",
     "output_type": "stream",
     "text": [
      "[0.85185185 0.85185185 0.85185185 0.86111111 0.85981308]\n",
      "0.8552959501557632\n"
     ]
    }
   ],
   "source": [
    "cv = RepeatedStratifiedKFold(n_splits=5, n_repeats=1, random_state=1)\n",
    "scores = cross_val_score(pipeline, X, y, scoring='accuracy', cv=cv, n_jobs=-1) \n",
    "\n",
    "print(scores)\n",
    "score = np.mean(scores)\n",
    "print(score)"
   ]
  },
  {
   "cell_type": "code",
   "execution_count": null,
   "id": "bd1519ec",
   "metadata": {},
   "outputs": [],
   "source": []
  },
  {
   "cell_type": "code",
   "execution_count": null,
   "id": "eedcaa8e",
   "metadata": {},
   "outputs": [],
   "source": []
  }
 ],
 "metadata": {
  "hide_input": false,
  "kernelspec": {
   "display_name": "Python 3 (ipykernel)",
   "language": "python",
   "name": "python3"
  },
  "language_info": {
   "codemirror_mode": {
    "name": "ipython",
    "version": 3
   },
   "file_extension": ".py",
   "mimetype": "text/x-python",
   "name": "python",
   "nbconvert_exporter": "python",
   "pygments_lexer": "ipython3",
   "version": "3.8.8"
  },
  "varInspector": {
   "cols": {
    "lenName": 16,
    "lenType": 16,
    "lenVar": 40
   },
   "kernels_config": {
    "python": {
     "delete_cmd_postfix": "",
     "delete_cmd_prefix": "del ",
     "library": "var_list.py",
     "varRefreshCmd": "print(var_dic_list())"
    },
    "r": {
     "delete_cmd_postfix": ") ",
     "delete_cmd_prefix": "rm(",
     "library": "var_list.r",
     "varRefreshCmd": "cat(var_dic_list()) "
    }
   },
   "types_to_exclude": [
    "module",
    "function",
    "builtin_function_or_method",
    "instance",
    "_Feature"
   ],
   "window_display": false
  }
 },
 "nbformat": 4,
 "nbformat_minor": 5
}
