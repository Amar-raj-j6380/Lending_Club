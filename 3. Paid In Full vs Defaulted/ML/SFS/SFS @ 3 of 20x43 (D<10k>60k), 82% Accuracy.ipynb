{
 "cells": [
  {
   "cell_type": "code",
   "execution_count": 1,
   "id": "891650eb",
   "metadata": {},
   "outputs": [],
   "source": [
    "import pandas as pd\n",
    "from sklearn.linear_model import LogisticRegression\n",
    "from sklearn.feature_selection import SequentialFeatureSelector\n",
    "\n",
    "from imblearn.pipeline import Pipeline\n",
    "from sklearn.model_selection import RepeatedStratifiedKFold, cross_val_score"
   ]
  },
  {
   "cell_type": "code",
   "execution_count": 2,
   "id": "75e9e0cb",
   "metadata": {},
   "outputs": [],
   "source": [
    "pd.set_option(\"display.max_columns\", 200)\n",
    "pd.set_option(\"display.max_row\", 160)\n",
    "pd.set_option('max_colwidth', 200)"
   ]
  },
  {
   "cell_type": "code",
   "execution_count": 4,
   "id": "e4071527",
   "metadata": {},
   "outputs": [],
   "source": [
    "data = pd.read_csv('../../Data/20x43_D1060.csv')"
   ]
  },
  {
   "cell_type": "code",
   "execution_count": 5,
   "id": "b397a6b0",
   "metadata": {},
   "outputs": [
    {
     "data": {
      "text/html": [
       "<div>\n",
       "<style scoped>\n",
       "    .dataframe tbody tr th:only-of-type {\n",
       "        vertical-align: middle;\n",
       "    }\n",
       "\n",
       "    .dataframe tbody tr th {\n",
       "        vertical-align: top;\n",
       "    }\n",
       "\n",
       "    .dataframe thead th {\n",
       "        text-align: right;\n",
       "    }\n",
       "</style>\n",
       "<table border=\"1\" class=\"dataframe\">\n",
       "  <thead>\n",
       "    <tr style=\"text-align: right;\">\n",
       "      <th></th>\n",
       "      <th>loan_amnt</th>\n",
       "      <th>annual_inc</th>\n",
       "      <th>dti</th>\n",
       "      <th>fico_range_low</th>\n",
       "      <th>fico_range_high</th>\n",
       "      <th>int_rate</th>\n",
       "      <th>installment</th>\n",
       "      <th>open_acc</th>\n",
       "      <th>total_acc</th>\n",
       "      <th>revol_bal</th>\n",
       "      <th>inq_last_6mths</th>\n",
       "      <th>delinq_2yrs</th>\n",
       "      <th>acc_now_delinq</th>\n",
       "      <th>collections_12_mths_ex_med</th>\n",
       "      <th>tot_coll_amt</th>\n",
       "      <th>tot_cur_bal</th>\n",
       "      <th>pub_rec</th>\n",
       "      <th>months_cr_line</th>\n",
       "      <th>term</th>\n",
       "      <th>initial_list_status</th>\n",
       "      <th>sub_grade</th>\n",
       "      <th>emp_length</th>\n",
       "      <th>ANY</th>\n",
       "      <th>MORTGAGE</th>\n",
       "      <th>OWN</th>\n",
       "      <th>RENT</th>\n",
       "      <th>car</th>\n",
       "      <th>credit_card</th>\n",
       "      <th>debt_consolidation</th>\n",
       "      <th>home_improvement</th>\n",
       "      <th>house</th>\n",
       "      <th>major_purchase</th>\n",
       "      <th>medical</th>\n",
       "      <th>moving</th>\n",
       "      <th>other</th>\n",
       "      <th>renewable_energy</th>\n",
       "      <th>small_business</th>\n",
       "      <th>vacation</th>\n",
       "      <th>wedding</th>\n",
       "      <th>Not Verified</th>\n",
       "      <th>Source Verified</th>\n",
       "      <th>Verified</th>\n",
       "      <th>loan_status_bin</th>\n",
       "    </tr>\n",
       "  </thead>\n",
       "  <tbody>\n",
       "    <tr>\n",
       "      <th>0</th>\n",
       "      <td>-0.274940</td>\n",
       "      <td>-0.184102</td>\n",
       "      <td>1.311385</td>\n",
       "      <td>-0.819734</td>\n",
       "      <td>-0.819734</td>\n",
       "      <td>-0.643016</td>\n",
       "      <td>-0.284620</td>\n",
       "      <td>-0.307975</td>\n",
       "      <td>-1.102652</td>\n",
       "      <td>-0.320978</td>\n",
       "      <td>-0.916391</td>\n",
       "      <td>-0.442188</td>\n",
       "      <td>-0.056501</td>\n",
       "      <td>-0.161202</td>\n",
       "      <td>-0.046841</td>\n",
       "      <td>-0.782920</td>\n",
       "      <td>1.081878</td>\n",
       "      <td>-1.829511</td>\n",
       "      <td>-0.069254</td>\n",
       "      <td>0.876318</td>\n",
       "      <td>-1.305077</td>\n",
       "      <td>0.970118</td>\n",
       "      <td>-0.028217</td>\n",
       "      <td>-0.952594</td>\n",
       "      <td>-0.369497</td>\n",
       "      <td>1.216261</td>\n",
       "      <td>-0.156365</td>\n",
       "      <td>-0.320362</td>\n",
       "      <td>-0.858014</td>\n",
       "      <td>-0.287554</td>\n",
       "      <td>-0.120532</td>\n",
       "      <td>-0.194898</td>\n",
       "      <td>-0.199254</td>\n",
       "      <td>5.189733</td>\n",
       "      <td>-0.513144</td>\n",
       "      <td>-0.048912</td>\n",
       "      <td>-0.133468</td>\n",
       "      <td>-0.164197</td>\n",
       "      <td>-0.056501</td>\n",
       "      <td>-0.680683</td>\n",
       "      <td>-0.770166</td>\n",
       "      <td>1.488232</td>\n",
       "      <td>0.0</td>\n",
       "    </tr>\n",
       "    <tr>\n",
       "      <th>1</th>\n",
       "      <td>-1.703308</td>\n",
       "      <td>-0.172927</td>\n",
       "      <td>-0.550169</td>\n",
       "      <td>-0.538202</td>\n",
       "      <td>-0.538202</td>\n",
       "      <td>-0.643016</td>\n",
       "      <td>-1.704670</td>\n",
       "      <td>-0.833958</td>\n",
       "      <td>-0.301199</td>\n",
       "      <td>-0.284038</td>\n",
       "      <td>-0.916391</td>\n",
       "      <td>-0.442188</td>\n",
       "      <td>-0.056501</td>\n",
       "      <td>-0.161202</td>\n",
       "      <td>-0.107754</td>\n",
       "      <td>-0.846388</td>\n",
       "      <td>-0.354152</td>\n",
       "      <td>-0.248663</td>\n",
       "      <td>-0.069254</td>\n",
       "      <td>0.876318</td>\n",
       "      <td>-1.305077</td>\n",
       "      <td>-0.087275</td>\n",
       "      <td>-0.028217</td>\n",
       "      <td>-0.952594</td>\n",
       "      <td>-0.369497</td>\n",
       "      <td>1.216261</td>\n",
       "      <td>-0.156365</td>\n",
       "      <td>-0.320362</td>\n",
       "      <td>-0.858014</td>\n",
       "      <td>-0.287554</td>\n",
       "      <td>-0.120532</td>\n",
       "      <td>-0.194898</td>\n",
       "      <td>-0.199254</td>\n",
       "      <td>-0.192688</td>\n",
       "      <td>1.948771</td>\n",
       "      <td>-0.048912</td>\n",
       "      <td>-0.133468</td>\n",
       "      <td>-0.164197</td>\n",
       "      <td>-0.056501</td>\n",
       "      <td>1.469112</td>\n",
       "      <td>-0.770166</td>\n",
       "      <td>-0.671938</td>\n",
       "      <td>0.0</td>\n",
       "    </tr>\n",
       "    <tr>\n",
       "      <th>2</th>\n",
       "      <td>-0.188373</td>\n",
       "      <td>0.050580</td>\n",
       "      <td>-0.932357</td>\n",
       "      <td>-0.819734</td>\n",
       "      <td>-0.819734</td>\n",
       "      <td>1.336744</td>\n",
       "      <td>-0.155399</td>\n",
       "      <td>-0.132647</td>\n",
       "      <td>-0.221053</td>\n",
       "      <td>-0.503128</td>\n",
       "      <td>-0.045057</td>\n",
       "      <td>-0.442188</td>\n",
       "      <td>-0.056501</td>\n",
       "      <td>-0.161202</td>\n",
       "      <td>-0.107754</td>\n",
       "      <td>-0.843614</td>\n",
       "      <td>3.953939</td>\n",
       "      <td>0.407996</td>\n",
       "      <td>-0.069254</td>\n",
       "      <td>0.876318</td>\n",
       "      <td>0.766238</td>\n",
       "      <td>-1.673364</td>\n",
       "      <td>-0.028217</td>\n",
       "      <td>-0.952594</td>\n",
       "      <td>-0.369497</td>\n",
       "      <td>1.216261</td>\n",
       "      <td>-0.156365</td>\n",
       "      <td>-0.320362</td>\n",
       "      <td>-0.858014</td>\n",
       "      <td>3.477607</td>\n",
       "      <td>-0.120532</td>\n",
       "      <td>-0.194898</td>\n",
       "      <td>-0.199254</td>\n",
       "      <td>-0.192688</td>\n",
       "      <td>-0.513144</td>\n",
       "      <td>-0.048912</td>\n",
       "      <td>-0.133468</td>\n",
       "      <td>-0.164197</td>\n",
       "      <td>-0.056501</td>\n",
       "      <td>-0.680683</td>\n",
       "      <td>1.298421</td>\n",
       "      <td>-0.671938</td>\n",
       "      <td>1.0</td>\n",
       "    </tr>\n",
       "    <tr>\n",
       "      <th>3</th>\n",
       "      <td>0.255287</td>\n",
       "      <td>-0.161752</td>\n",
       "      <td>-0.160924</td>\n",
       "      <td>0.587924</td>\n",
       "      <td>0.587924</td>\n",
       "      <td>1.336744</td>\n",
       "      <td>0.294572</td>\n",
       "      <td>-0.132647</td>\n",
       "      <td>-0.942361</td>\n",
       "      <td>-0.561085</td>\n",
       "      <td>-0.916391</td>\n",
       "      <td>-0.442188</td>\n",
       "      <td>-0.056501</td>\n",
       "      <td>-0.161202</td>\n",
       "      <td>-0.107754</td>\n",
       "      <td>-0.695133</td>\n",
       "      <td>-0.354152</td>\n",
       "      <td>-0.418909</td>\n",
       "      <td>-0.069254</td>\n",
       "      <td>0.876318</td>\n",
       "      <td>0.766238</td>\n",
       "      <td>-0.880319</td>\n",
       "      <td>-0.028217</td>\n",
       "      <td>-0.952594</td>\n",
       "      <td>-0.369497</td>\n",
       "      <td>1.216261</td>\n",
       "      <td>-0.156365</td>\n",
       "      <td>-0.320362</td>\n",
       "      <td>-0.858014</td>\n",
       "      <td>-0.287554</td>\n",
       "      <td>-0.120532</td>\n",
       "      <td>-0.194898</td>\n",
       "      <td>-0.199254</td>\n",
       "      <td>-0.192688</td>\n",
       "      <td>-0.513144</td>\n",
       "      <td>-0.048912</td>\n",
       "      <td>-0.133468</td>\n",
       "      <td>6.090231</td>\n",
       "      <td>-0.056501</td>\n",
       "      <td>1.469112</td>\n",
       "      <td>-0.770166</td>\n",
       "      <td>-0.671938</td>\n",
       "      <td>1.0</td>\n",
       "    </tr>\n",
       "    <tr>\n",
       "      <th>4</th>\n",
       "      <td>0.460885</td>\n",
       "      <td>-0.200865</td>\n",
       "      <td>0.964475</td>\n",
       "      <td>0.587924</td>\n",
       "      <td>0.587924</td>\n",
       "      <td>1.336744</td>\n",
       "      <td>0.503030</td>\n",
       "      <td>-0.132647</td>\n",
       "      <td>-0.461489</td>\n",
       "      <td>0.018166</td>\n",
       "      <td>-0.916391</td>\n",
       "      <td>-0.442188</td>\n",
       "      <td>-0.056501</td>\n",
       "      <td>-0.161202</td>\n",
       "      <td>-0.107754</td>\n",
       "      <td>0.480341</td>\n",
       "      <td>-0.354152</td>\n",
       "      <td>-0.637795</td>\n",
       "      <td>-0.069254</td>\n",
       "      <td>0.876318</td>\n",
       "      <td>0.766238</td>\n",
       "      <td>-1.409016</td>\n",
       "      <td>-0.028217</td>\n",
       "      <td>1.049765</td>\n",
       "      <td>-0.369497</td>\n",
       "      <td>-0.822192</td>\n",
       "      <td>6.395311</td>\n",
       "      <td>-0.320362</td>\n",
       "      <td>-0.858014</td>\n",
       "      <td>-0.287554</td>\n",
       "      <td>-0.120532</td>\n",
       "      <td>-0.194898</td>\n",
       "      <td>-0.199254</td>\n",
       "      <td>-0.192688</td>\n",
       "      <td>-0.513144</td>\n",
       "      <td>-0.048912</td>\n",
       "      <td>-0.133468</td>\n",
       "      <td>-0.164197</td>\n",
       "      <td>-0.056501</td>\n",
       "      <td>-0.680683</td>\n",
       "      <td>-0.770166</td>\n",
       "      <td>1.488232</td>\n",
       "      <td>0.0</td>\n",
       "    </tr>\n",
       "  </tbody>\n",
       "</table>\n",
       "</div>"
      ],
      "text/plain": [
       "   loan_amnt  annual_inc       dti  fico_range_low  fico_range_high  int_rate  \\\n",
       "0  -0.274940   -0.184102  1.311385       -0.819734        -0.819734 -0.643016   \n",
       "1  -1.703308   -0.172927 -0.550169       -0.538202        -0.538202 -0.643016   \n",
       "2  -0.188373    0.050580 -0.932357       -0.819734        -0.819734  1.336744   \n",
       "3   0.255287   -0.161752 -0.160924        0.587924         0.587924  1.336744   \n",
       "4   0.460885   -0.200865  0.964475        0.587924         0.587924  1.336744   \n",
       "\n",
       "   installment  open_acc  total_acc  revol_bal  inq_last_6mths  delinq_2yrs  \\\n",
       "0    -0.284620 -0.307975  -1.102652  -0.320978       -0.916391    -0.442188   \n",
       "1    -1.704670 -0.833958  -0.301199  -0.284038       -0.916391    -0.442188   \n",
       "2    -0.155399 -0.132647  -0.221053  -0.503128       -0.045057    -0.442188   \n",
       "3     0.294572 -0.132647  -0.942361  -0.561085       -0.916391    -0.442188   \n",
       "4     0.503030 -0.132647  -0.461489   0.018166       -0.916391    -0.442188   \n",
       "\n",
       "   acc_now_delinq  collections_12_mths_ex_med  tot_coll_amt  tot_cur_bal  \\\n",
       "0       -0.056501                   -0.161202     -0.046841    -0.782920   \n",
       "1       -0.056501                   -0.161202     -0.107754    -0.846388   \n",
       "2       -0.056501                   -0.161202     -0.107754    -0.843614   \n",
       "3       -0.056501                   -0.161202     -0.107754    -0.695133   \n",
       "4       -0.056501                   -0.161202     -0.107754     0.480341   \n",
       "\n",
       "    pub_rec  months_cr_line      term  initial_list_status  sub_grade  \\\n",
       "0  1.081878       -1.829511 -0.069254             0.876318  -1.305077   \n",
       "1 -0.354152       -0.248663 -0.069254             0.876318  -1.305077   \n",
       "2  3.953939        0.407996 -0.069254             0.876318   0.766238   \n",
       "3 -0.354152       -0.418909 -0.069254             0.876318   0.766238   \n",
       "4 -0.354152       -0.637795 -0.069254             0.876318   0.766238   \n",
       "\n",
       "   emp_length       ANY  MORTGAGE       OWN      RENT       car  credit_card  \\\n",
       "0    0.970118 -0.028217 -0.952594 -0.369497  1.216261 -0.156365    -0.320362   \n",
       "1   -0.087275 -0.028217 -0.952594 -0.369497  1.216261 -0.156365    -0.320362   \n",
       "2   -1.673364 -0.028217 -0.952594 -0.369497  1.216261 -0.156365    -0.320362   \n",
       "3   -0.880319 -0.028217 -0.952594 -0.369497  1.216261 -0.156365    -0.320362   \n",
       "4   -1.409016 -0.028217  1.049765 -0.369497 -0.822192  6.395311    -0.320362   \n",
       "\n",
       "   debt_consolidation  home_improvement     house  major_purchase   medical  \\\n",
       "0           -0.858014         -0.287554 -0.120532       -0.194898 -0.199254   \n",
       "1           -0.858014         -0.287554 -0.120532       -0.194898 -0.199254   \n",
       "2           -0.858014          3.477607 -0.120532       -0.194898 -0.199254   \n",
       "3           -0.858014         -0.287554 -0.120532       -0.194898 -0.199254   \n",
       "4           -0.858014         -0.287554 -0.120532       -0.194898 -0.199254   \n",
       "\n",
       "     moving     other  renewable_energy  small_business  vacation   wedding  \\\n",
       "0  5.189733 -0.513144         -0.048912       -0.133468 -0.164197 -0.056501   \n",
       "1 -0.192688  1.948771         -0.048912       -0.133468 -0.164197 -0.056501   \n",
       "2 -0.192688 -0.513144         -0.048912       -0.133468 -0.164197 -0.056501   \n",
       "3 -0.192688 -0.513144         -0.048912       -0.133468  6.090231 -0.056501   \n",
       "4 -0.192688 -0.513144         -0.048912       -0.133468 -0.164197 -0.056501   \n",
       "\n",
       "   Not Verified  Source Verified  Verified  loan_status_bin  \n",
       "0     -0.680683        -0.770166  1.488232              0.0  \n",
       "1      1.469112        -0.770166 -0.671938              0.0  \n",
       "2     -0.680683         1.298421 -0.671938              1.0  \n",
       "3      1.469112        -0.770166 -0.671938              1.0  \n",
       "4     -0.680683        -0.770166  1.488232              0.0  "
      ]
     },
     "execution_count": 5,
     "metadata": {},
     "output_type": "execute_result"
    }
   ],
   "source": [
    "data.head(5)"
   ]
  },
  {
   "cell_type": "code",
   "execution_count": 6,
   "id": "e2bc504c",
   "metadata": {},
   "outputs": [
    {
     "data": {
      "text/plain": [
       "(1257, 43)"
      ]
     },
     "execution_count": 6,
     "metadata": {},
     "output_type": "execute_result"
    }
   ],
   "source": [
    "data.shape"
   ]
  },
  {
   "cell_type": "code",
   "execution_count": 7,
   "id": "79f7fea2",
   "metadata": {},
   "outputs": [
    {
     "data": {
      "text/plain": [
       "1.0    1032\n",
       "0.0     225\n",
       "Name: loan_status_bin, dtype: int64"
      ]
     },
     "execution_count": 7,
     "metadata": {},
     "output_type": "execute_result"
    }
   ],
   "source": [
    "data.loan_status_bin.value_counts()"
   ]
  },
  {
   "cell_type": "code",
   "execution_count": 8,
   "id": "c5f95e95",
   "metadata": {},
   "outputs": [
    {
     "data": {
      "text/plain": [
       "0.8210023866348448"
      ]
     },
     "execution_count": 8,
     "metadata": {},
     "output_type": "execute_result"
    }
   ],
   "source": [
    "#Null Model (or random investment) will yield, 59.3% of picking a good loan: \n",
    "data.loan_status_bin.value_counts()[1] / len(data)"
   ]
  },
  {
   "cell_type": "code",
   "execution_count": 9,
   "id": "ff93c60b",
   "metadata": {},
   "outputs": [
    {
     "data": {
      "text/plain": [
       "(1257, 42)"
      ]
     },
     "execution_count": 9,
     "metadata": {},
     "output_type": "execute_result"
    }
   ],
   "source": [
    "X = data.drop('loan_status_bin', axis=1)\n",
    "X.shape"
   ]
  },
  {
   "cell_type": "code",
   "execution_count": 10,
   "id": "d6f47bde",
   "metadata": {},
   "outputs": [],
   "source": [
    "y = data['loan_status_bin']"
   ]
  },
  {
   "cell_type": "code",
   "execution_count": 15,
   "id": "e41f44d6",
   "metadata": {},
   "outputs": [],
   "source": [
    "n_features = 3\n",
    "lr = LogisticRegression()\n",
    "sfs = SequentialFeatureSelector(lr, n_features_to_select=n_features)"
   ]
  },
  {
   "cell_type": "code",
   "execution_count": 16,
   "id": "b4eb8b6c",
   "metadata": {},
   "outputs": [
    {
     "data": {
      "text/html": [
       "<style>#sk-container-id-2 {color: black;background-color: white;}#sk-container-id-2 pre{padding: 0;}#sk-container-id-2 div.sk-toggleable {background-color: white;}#sk-container-id-2 label.sk-toggleable__label {cursor: pointer;display: block;width: 100%;margin-bottom: 0;padding: 0.3em;box-sizing: border-box;text-align: center;}#sk-container-id-2 label.sk-toggleable__label-arrow:before {content: \"▸\";float: left;margin-right: 0.25em;color: #696969;}#sk-container-id-2 label.sk-toggleable__label-arrow:hover:before {color: black;}#sk-container-id-2 div.sk-estimator:hover label.sk-toggleable__label-arrow:before {color: black;}#sk-container-id-2 div.sk-toggleable__content {max-height: 0;max-width: 0;overflow: hidden;text-align: left;background-color: #f0f8ff;}#sk-container-id-2 div.sk-toggleable__content pre {margin: 0.2em;color: black;border-radius: 0.25em;background-color: #f0f8ff;}#sk-container-id-2 input.sk-toggleable__control:checked~div.sk-toggleable__content {max-height: 200px;max-width: 100%;overflow: auto;}#sk-container-id-2 input.sk-toggleable__control:checked~label.sk-toggleable__label-arrow:before {content: \"▾\";}#sk-container-id-2 div.sk-estimator input.sk-toggleable__control:checked~label.sk-toggleable__label {background-color: #d4ebff;}#sk-container-id-2 div.sk-label input.sk-toggleable__control:checked~label.sk-toggleable__label {background-color: #d4ebff;}#sk-container-id-2 input.sk-hidden--visually {border: 0;clip: rect(1px 1px 1px 1px);clip: rect(1px, 1px, 1px, 1px);height: 1px;margin: -1px;overflow: hidden;padding: 0;position: absolute;width: 1px;}#sk-container-id-2 div.sk-estimator {font-family: monospace;background-color: #f0f8ff;border: 1px dotted black;border-radius: 0.25em;box-sizing: border-box;margin-bottom: 0.5em;}#sk-container-id-2 div.sk-estimator:hover {background-color: #d4ebff;}#sk-container-id-2 div.sk-parallel-item::after {content: \"\";width: 100%;border-bottom: 1px solid gray;flex-grow: 1;}#sk-container-id-2 div.sk-label:hover label.sk-toggleable__label {background-color: #d4ebff;}#sk-container-id-2 div.sk-serial::before {content: \"\";position: absolute;border-left: 1px solid gray;box-sizing: border-box;top: 0;bottom: 0;left: 50%;z-index: 0;}#sk-container-id-2 div.sk-serial {display: flex;flex-direction: column;align-items: center;background-color: white;padding-right: 0.2em;padding-left: 0.2em;position: relative;}#sk-container-id-2 div.sk-item {position: relative;z-index: 1;}#sk-container-id-2 div.sk-parallel {display: flex;align-items: stretch;justify-content: center;background-color: white;position: relative;}#sk-container-id-2 div.sk-item::before, #sk-container-id-2 div.sk-parallel-item::before {content: \"\";position: absolute;border-left: 1px solid gray;box-sizing: border-box;top: 0;bottom: 0;left: 50%;z-index: -1;}#sk-container-id-2 div.sk-parallel-item {display: flex;flex-direction: column;z-index: 1;position: relative;background-color: white;}#sk-container-id-2 div.sk-parallel-item:first-child::after {align-self: flex-end;width: 50%;}#sk-container-id-2 div.sk-parallel-item:last-child::after {align-self: flex-start;width: 50%;}#sk-container-id-2 div.sk-parallel-item:only-child::after {width: 0;}#sk-container-id-2 div.sk-dashed-wrapped {border: 1px dashed gray;margin: 0 0.4em 0.5em 0.4em;box-sizing: border-box;padding-bottom: 0.4em;background-color: white;}#sk-container-id-2 div.sk-label label {font-family: monospace;font-weight: bold;display: inline-block;line-height: 1.2em;}#sk-container-id-2 div.sk-label-container {text-align: center;}#sk-container-id-2 div.sk-container {/* jupyter's `normalize.less` sets `[hidden] { display: none; }` but bootstrap.min.css set `[hidden] { display: none !important; }` so we also need the `!important` here to be able to override the default hidden behavior on the sphinx rendered scikit-learn.org. See: https://github.com/scikit-learn/scikit-learn/issues/21755 */display: inline-block !important;position: relative;}#sk-container-id-2 div.sk-text-repr-fallback {display: none;}</style><div id=\"sk-container-id-2\" class=\"sk-top-container\"><div class=\"sk-text-repr-fallback\"><pre>SequentialFeatureSelector(estimator=LogisticRegression(),\n",
       "                          n_features_to_select=3)</pre><b>In a Jupyter environment, please rerun this cell to show the HTML representation or trust the notebook. <br />On GitHub, the HTML representation is unable to render, please try loading this page with nbviewer.org.</b></div><div class=\"sk-container\" hidden><div class=\"sk-item sk-dashed-wrapped\"><div class=\"sk-label-container\"><div class=\"sk-label sk-toggleable\"><input class=\"sk-toggleable__control sk-hidden--visually\" id=\"sk-estimator-id-4\" type=\"checkbox\" ><label for=\"sk-estimator-id-4\" class=\"sk-toggleable__label sk-toggleable__label-arrow\">SequentialFeatureSelector</label><div class=\"sk-toggleable__content\"><pre>SequentialFeatureSelector(estimator=LogisticRegression(),\n",
       "                          n_features_to_select=3)</pre></div></div></div><div class=\"sk-parallel\"><div class=\"sk-parallel-item\"><div class=\"sk-item\"><div class=\"sk-label-container\"><div class=\"sk-label sk-toggleable\"><input class=\"sk-toggleable__control sk-hidden--visually\" id=\"sk-estimator-id-5\" type=\"checkbox\" ><label for=\"sk-estimator-id-5\" class=\"sk-toggleable__label sk-toggleable__label-arrow\">estimator: LogisticRegression</label><div class=\"sk-toggleable__content\"><pre>LogisticRegression()</pre></div></div></div><div class=\"sk-serial\"><div class=\"sk-item\"><div class=\"sk-estimator sk-toggleable\"><input class=\"sk-toggleable__control sk-hidden--visually\" id=\"sk-estimator-id-6\" type=\"checkbox\" ><label for=\"sk-estimator-id-6\" class=\"sk-toggleable__label sk-toggleable__label-arrow\">LogisticRegression</label><div class=\"sk-toggleable__content\"><pre>LogisticRegression()</pre></div></div></div></div></div></div></div></div></div></div>"
      ],
      "text/plain": [
       "SequentialFeatureSelector(estimator=LogisticRegression(),\n",
       "                          n_features_to_select=3)"
      ]
     },
     "execution_count": 16,
     "metadata": {},
     "output_type": "execute_result"
    }
   ],
   "source": [
    "sfs.fit(X,y)"
   ]
  },
  {
   "cell_type": "code",
   "execution_count": 17,
   "id": "70c93071",
   "metadata": {},
   "outputs": [],
   "source": [
    "#sfs.get_support()"
   ]
  },
  {
   "cell_type": "code",
   "execution_count": 18,
   "id": "dbffd04e",
   "metadata": {},
   "outputs": [
    {
     "name": "stdout",
     "output_type": "stream",
     "text": [
      "Top 3 features selected by forward sequential selection:['loan_amnt', 'annual_inc', 'dti']\n"
     ]
    }
   ],
   "source": [
    "print(\"Top {} features selected by forward sequential selection:{}\"\\\n",
    "      .format(n_features, list(X.columns[sfs.get_support()])))\n"
   ]
  },
  {
   "cell_type": "code",
   "execution_count": 19,
   "id": "1f39da4f",
   "metadata": {},
   "outputs": [
    {
     "data": {
      "text/plain": [
       "['loan_amnt', 'annual_inc', 'dti']"
      ]
     },
     "execution_count": 19,
     "metadata": {},
     "output_type": "execute_result"
    }
   ],
   "source": [
    "feat = list(X.columns[sfs.get_support()])\n",
    "feat"
   ]
  },
  {
   "cell_type": "code",
   "execution_count": 20,
   "id": "d2d0e00e",
   "metadata": {},
   "outputs": [],
   "source": [
    "X_feat = data[feat]"
   ]
  },
  {
   "cell_type": "code",
   "execution_count": 21,
   "id": "eb0b2988",
   "metadata": {},
   "outputs": [
    {
     "data": {
      "text/plain": [
       "0       0.0\n",
       "1       0.0\n",
       "2       1.0\n",
       "3       1.0\n",
       "4       0.0\n",
       "       ... \n",
       "1252    0.0\n",
       "1253    0.0\n",
       "1254    1.0\n",
       "1255    1.0\n",
       "1256    0.0\n",
       "Name: loan_status_bin, Length: 1257, dtype: float64"
      ]
     },
     "execution_count": 21,
     "metadata": {},
     "output_type": "execute_result"
    }
   ],
   "source": [
    "y = data['loan_status_bin']\n",
    "y"
   ]
  },
  {
   "cell_type": "code",
   "execution_count": 22,
   "id": "a888c925",
   "metadata": {},
   "outputs": [],
   "source": [
    "lr_check = LogisticRegression()\n",
    "steps = [('model', lr_check)]\n",
    "pipeline = Pipeline(steps=steps)"
   ]
  },
  {
   "cell_type": "code",
   "execution_count": 23,
   "id": "0423b0b2",
   "metadata": {},
   "outputs": [
    {
     "name": "stdout",
     "output_type": "stream",
     "text": [
      "[0.82142857 0.82142857 0.82071713 0.82071713 0.82071713]\n",
      "0.8210017074558907\n"
     ]
    }
   ],
   "source": [
    "#Accuracy:\n",
    "\n",
    "cv = RepeatedStratifiedKFold(n_splits=5, n_repeats=1, random_state=1)\n",
    "scores = cross_val_score(pipeline, X_feat, y, scoring='accuracy', cv=cv, n_jobs=-1) \n",
    "print(scores)\n",
    "\n",
    "score = np.mean(scores)\n",
    "print(score)"
   ]
  },
  {
   "cell_type": "code",
   "execution_count": null,
   "id": "80613a5c",
   "metadata": {},
   "outputs": [],
   "source": []
  },
  {
   "cell_type": "code",
   "execution_count": 24,
   "id": "0e5c48bf",
   "metadata": {},
   "outputs": [],
   "source": [
    "from sklearn.ensemble import AdaBoostClassifier\n",
    "ada = AdaBoostClassifier()\n",
    "steps2 = [('model', ada)]\n",
    "pipeline2 = Pipeline(steps=steps2)"
   ]
  },
  {
   "cell_type": "code",
   "execution_count": 25,
   "id": "34d06f94",
   "metadata": {},
   "outputs": [
    {
     "name": "stdout",
     "output_type": "stream",
     "text": [
      "[0.82539683 0.81746032 0.81673307 0.79681275 0.80876494]\n",
      "0.8130335799658509\n"
     ]
    }
   ],
   "source": [
    "#Accuracy:\n",
    "\n",
    "cv = RepeatedStratifiedKFold(n_splits=5, n_repeats=1, random_state=1)\n",
    "scores = cross_val_score(pipeline2, X_feat, y, scoring='accuracy', cv=cv, n_jobs=-1) \n",
    "print(scores)\n",
    "\n",
    "score = np.mean(scores)\n",
    "print(score)"
   ]
  },
  {
   "cell_type": "code",
   "execution_count": null,
   "id": "379e763c",
   "metadata": {},
   "outputs": [],
   "source": []
  },
  {
   "cell_type": "code",
   "execution_count": 26,
   "id": "dd8bb743",
   "metadata": {},
   "outputs": [],
   "source": [
    "from sklearn.neural_network import MLPClassifier\n",
    "nn = MLPClassifier(alpha=1, max_iter=1000)\n",
    "steps3 = [('model', nn)]\n",
    "pipeline3 = Pipeline(steps=steps3)"
   ]
  },
  {
   "cell_type": "code",
   "execution_count": 27,
   "id": "69659651",
   "metadata": {},
   "outputs": [
    {
     "name": "stdout",
     "output_type": "stream",
     "text": [
      "[0.82142857 0.82142857 0.82071713 0.82071713 0.82071713]\n",
      "0.8210017074558907\n"
     ]
    }
   ],
   "source": [
    "#Accuracy:\n",
    "\n",
    "cv = RepeatedStratifiedKFold(n_splits=5, n_repeats=1, random_state=1)\n",
    "scores = cross_val_score(pipeline3, X_feat, y, scoring='accuracy', cv=cv, n_jobs=-1) \n",
    "print(scores)\n",
    "\n",
    "score = np.mean(scores)\n",
    "print(score)"
   ]
  },
  {
   "cell_type": "code",
   "execution_count": null,
   "id": "f5ed01b9",
   "metadata": {},
   "outputs": [],
   "source": []
  },
  {
   "cell_type": "code",
   "execution_count": 28,
   "id": "18cbf57c",
   "metadata": {},
   "outputs": [],
   "source": [
    "from sklearn.ensemble import GradientBoostingClassifier\n",
    "gb = GradientBoostingClassifier()\n",
    "steps4 = [('model', gb)]\n",
    "pipeline4 = Pipeline(steps=steps4)"
   ]
  },
  {
   "cell_type": "code",
   "execution_count": 29,
   "id": "82650289",
   "metadata": {},
   "outputs": [
    {
     "name": "stdout",
     "output_type": "stream",
     "text": [
      "[0.82142857 0.80952381 0.80079681 0.78884462 0.812749  ]\n",
      "0.8066685638398786\n"
     ]
    }
   ],
   "source": [
    "#Accuracy:\n",
    "\n",
    "cv = RepeatedStratifiedKFold(n_splits=5, n_repeats=1, random_state=1)\n",
    "scores = cross_val_score(pipeline4, X_feat, y, scoring='accuracy', cv=cv, n_jobs=-1) \n",
    "print(scores)\n",
    "\n",
    "score = np.mean(scores)\n",
    "print(score)"
   ]
  },
  {
   "cell_type": "code",
   "execution_count": null,
   "id": "b095c060",
   "metadata": {},
   "outputs": [],
   "source": []
  },
  {
   "cell_type": "code",
   "execution_count": null,
   "id": "9df59e81",
   "metadata": {},
   "outputs": [],
   "source": []
  }
 ],
 "metadata": {
  "hide_input": false,
  "kernelspec": {
   "display_name": "Python 3 (ipykernel)",
   "language": "python",
   "name": "python3"
  },
  "language_info": {
   "codemirror_mode": {
    "name": "ipython",
    "version": 3
   },
   "file_extension": ".py",
   "mimetype": "text/x-python",
   "name": "python",
   "nbconvert_exporter": "python",
   "pygments_lexer": "ipython3",
   "version": "3.8.8"
  },
  "varInspector": {
   "cols": {
    "lenName": 16,
    "lenType": 16,
    "lenVar": 40
   },
   "kernels_config": {
    "python": {
     "delete_cmd_postfix": "",
     "delete_cmd_prefix": "del ",
     "library": "var_list.py",
     "varRefreshCmd": "print(var_dic_list())"
    },
    "r": {
     "delete_cmd_postfix": ") ",
     "delete_cmd_prefix": "rm(",
     "library": "var_list.r",
     "varRefreshCmd": "cat(var_dic_list()) "
    }
   },
   "types_to_exclude": [
    "module",
    "function",
    "builtin_function_or_method",
    "instance",
    "_Feature"
   ],
   "window_display": false
  }
 },
 "nbformat": 4,
 "nbformat_minor": 5
}
