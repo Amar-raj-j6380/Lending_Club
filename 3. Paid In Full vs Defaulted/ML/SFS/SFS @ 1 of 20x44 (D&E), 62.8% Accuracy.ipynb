{
 "cells": [
  {
   "cell_type": "code",
   "execution_count": 15,
   "id": "891650eb",
   "metadata": {},
   "outputs": [],
   "source": [
    "import pandas as pd\n",
    "from sklearn.linear_model import LogisticRegression\n",
    "from sklearn.feature_selection import SequentialFeatureSelector\n",
    "\n",
    "from imblearn.pipeline import Pipeline\n",
    "from sklearn.model_selection import RepeatedStratifiedKFold, cross_val_score"
   ]
  },
  {
   "cell_type": "code",
   "execution_count": 16,
   "id": "75e9e0cb",
   "metadata": {},
   "outputs": [],
   "source": [
    "pd.set_option(\"display.max_columns\", 200)\n",
    "pd.set_option(\"display.max_row\", 160)\n",
    "pd.set_option('max_colwidth', 200)"
   ]
  },
  {
   "cell_type": "code",
   "execution_count": 17,
   "id": "e4071527",
   "metadata": {},
   "outputs": [],
   "source": [
    "data = pd.read_csv('../../Data/20x44_DE.csv')"
   ]
  },
  {
   "cell_type": "code",
   "execution_count": 18,
   "id": "b397a6b0",
   "metadata": {},
   "outputs": [
    {
     "data": {
      "text/html": [
       "<div>\n",
       "<style scoped>\n",
       "    .dataframe tbody tr th:only-of-type {\n",
       "        vertical-align: middle;\n",
       "    }\n",
       "\n",
       "    .dataframe tbody tr th {\n",
       "        vertical-align: top;\n",
       "    }\n",
       "\n",
       "    .dataframe thead th {\n",
       "        text-align: right;\n",
       "    }\n",
       "</style>\n",
       "<table border=\"1\" class=\"dataframe\">\n",
       "  <thead>\n",
       "    <tr style=\"text-align: right;\">\n",
       "      <th></th>\n",
       "      <th>loan_amnt</th>\n",
       "      <th>annual_inc</th>\n",
       "      <th>dti</th>\n",
       "      <th>fico_range_low</th>\n",
       "      <th>fico_range_high</th>\n",
       "      <th>int_rate</th>\n",
       "      <th>installment</th>\n",
       "      <th>open_acc</th>\n",
       "      <th>total_acc</th>\n",
       "      <th>revol_bal</th>\n",
       "      <th>inq_last_6mths</th>\n",
       "      <th>delinq_2yrs</th>\n",
       "      <th>acc_now_delinq</th>\n",
       "      <th>collections_12_mths_ex_med</th>\n",
       "      <th>pub_rec</th>\n",
       "      <th>months_cr_line</th>\n",
       "      <th>term</th>\n",
       "      <th>initial_list_status</th>\n",
       "      <th>grade</th>\n",
       "      <th>sub_grade</th>\n",
       "      <th>emp_length</th>\n",
       "      <th>ANY</th>\n",
       "      <th>MORTGAGE</th>\n",
       "      <th>NONE</th>\n",
       "      <th>OTHER</th>\n",
       "      <th>OWN</th>\n",
       "      <th>RENT</th>\n",
       "      <th>car</th>\n",
       "      <th>credit_card</th>\n",
       "      <th>debt_consolidation</th>\n",
       "      <th>home_improvement</th>\n",
       "      <th>house</th>\n",
       "      <th>major_purchase</th>\n",
       "      <th>medical</th>\n",
       "      <th>moving</th>\n",
       "      <th>other</th>\n",
       "      <th>renewable_energy</th>\n",
       "      <th>small_business</th>\n",
       "      <th>vacation</th>\n",
       "      <th>wedding</th>\n",
       "      <th>Not Verified</th>\n",
       "      <th>Source Verified</th>\n",
       "      <th>Verified</th>\n",
       "      <th>loan_status_bin</th>\n",
       "    </tr>\n",
       "  </thead>\n",
       "  <tbody>\n",
       "    <tr>\n",
       "      <th>0</th>\n",
       "      <td>0.606309</td>\n",
       "      <td>0.606130</td>\n",
       "      <td>0.035808</td>\n",
       "      <td>-1.068212</td>\n",
       "      <td>-1.068212</td>\n",
       "      <td>-0.986813</td>\n",
       "      <td>0.287230</td>\n",
       "      <td>-0.133221</td>\n",
       "      <td>-0.047127</td>\n",
       "      <td>0.205624</td>\n",
       "      <td>-0.867990</td>\n",
       "      <td>-0.383964</td>\n",
       "      <td>-0.069702</td>\n",
       "      <td>-0.125211</td>\n",
       "      <td>-0.37762</td>\n",
       "      <td>2.003373</td>\n",
       "      <td>0.863576</td>\n",
       "      <td>0.978751</td>\n",
       "      <td>0.482775</td>\n",
       "      <td>0.755624</td>\n",
       "      <td>-0.927085</td>\n",
       "      <td>-0.019008</td>\n",
       "      <td>-0.911567</td>\n",
       "      <td>-0.003879</td>\n",
       "      <td>-0.006719</td>\n",
       "      <td>2.781231</td>\n",
       "      <td>-0.870794</td>\n",
       "      <td>11.590255</td>\n",
       "      <td>-0.36524</td>\n",
       "      <td>-1.302022</td>\n",
       "      <td>-0.251026</td>\n",
       "      <td>-0.105686</td>\n",
       "      <td>-0.144603</td>\n",
       "      <td>-0.125725</td>\n",
       "      <td>-0.113695</td>\n",
       "      <td>-0.319218</td>\n",
       "      <td>-0.034935</td>\n",
       "      <td>-0.152178</td>\n",
       "      <td>-0.088896</td>\n",
       "      <td>-0.051386</td>\n",
       "      <td>2.401683</td>\n",
       "      <td>-0.786521</td>\n",
       "      <td>-0.941810</td>\n",
       "      <td>0.0</td>\n",
       "    </tr>\n",
       "    <tr>\n",
       "      <th>1</th>\n",
       "      <td>1.847046</td>\n",
       "      <td>0.774764</td>\n",
       "      <td>1.783361</td>\n",
       "      <td>0.837623</td>\n",
       "      <td>0.837623</td>\n",
       "      <td>-0.986813</td>\n",
       "      <td>1.380044</td>\n",
       "      <td>2.362517</td>\n",
       "      <td>2.382457</td>\n",
       "      <td>-0.101756</td>\n",
       "      <td>-0.867990</td>\n",
       "      <td>0.696178</td>\n",
       "      <td>-0.069702</td>\n",
       "      <td>-0.125211</td>\n",
       "      <td>-0.37762</td>\n",
       "      <td>0.842595</td>\n",
       "      <td>0.863576</td>\n",
       "      <td>0.978751</td>\n",
       "      <td>0.482775</td>\n",
       "      <td>0.755624</td>\n",
       "      <td>0.605102</td>\n",
       "      <td>-0.019008</td>\n",
       "      <td>1.097012</td>\n",
       "      <td>-0.003879</td>\n",
       "      <td>-0.006719</td>\n",
       "      <td>-0.359553</td>\n",
       "      <td>-0.870794</td>\n",
       "      <td>-0.086279</td>\n",
       "      <td>-0.36524</td>\n",
       "      <td>0.768036</td>\n",
       "      <td>-0.251026</td>\n",
       "      <td>-0.105686</td>\n",
       "      <td>-0.144603</td>\n",
       "      <td>-0.125725</td>\n",
       "      <td>-0.113695</td>\n",
       "      <td>-0.319218</td>\n",
       "      <td>-0.034935</td>\n",
       "      <td>-0.152178</td>\n",
       "      <td>-0.088896</td>\n",
       "      <td>-0.051386</td>\n",
       "      <td>-0.416375</td>\n",
       "      <td>1.271422</td>\n",
       "      <td>-0.941810</td>\n",
       "      <td>1.0</td>\n",
       "    </tr>\n",
       "    <tr>\n",
       "      <th>2</th>\n",
       "      <td>0.163188</td>\n",
       "      <td>-0.321359</td>\n",
       "      <td>-0.521897</td>\n",
       "      <td>0.837623</td>\n",
       "      <td>0.837623</td>\n",
       "      <td>-0.433996</td>\n",
       "      <td>0.617784</td>\n",
       "      <td>-0.133221</td>\n",
       "      <td>0.114845</td>\n",
       "      <td>-0.470743</td>\n",
       "      <td>0.922834</td>\n",
       "      <td>-0.383964</td>\n",
       "      <td>-0.069702</td>\n",
       "      <td>-0.125211</td>\n",
       "      <td>-0.37762</td>\n",
       "      <td>0.463565</td>\n",
       "      <td>-1.157976</td>\n",
       "      <td>-1.021711</td>\n",
       "      <td>0.482775</td>\n",
       "      <td>1.287329</td>\n",
       "      <td>-1.437814</td>\n",
       "      <td>-0.019008</td>\n",
       "      <td>1.097012</td>\n",
       "      <td>-0.003879</td>\n",
       "      <td>-0.006719</td>\n",
       "      <td>-0.359553</td>\n",
       "      <td>-0.870794</td>\n",
       "      <td>-0.086279</td>\n",
       "      <td>-0.36524</td>\n",
       "      <td>0.768036</td>\n",
       "      <td>-0.251026</td>\n",
       "      <td>-0.105686</td>\n",
       "      <td>-0.144603</td>\n",
       "      <td>-0.125725</td>\n",
       "      <td>-0.113695</td>\n",
       "      <td>-0.319218</td>\n",
       "      <td>-0.034935</td>\n",
       "      <td>-0.152178</td>\n",
       "      <td>-0.088896</td>\n",
       "      <td>-0.051386</td>\n",
       "      <td>2.401683</td>\n",
       "      <td>-0.786521</td>\n",
       "      <td>-0.941810</td>\n",
       "      <td>0.0</td>\n",
       "    </tr>\n",
       "    <tr>\n",
       "      <th>3</th>\n",
       "      <td>-0.037519</td>\n",
       "      <td>-0.456266</td>\n",
       "      <td>0.225909</td>\n",
       "      <td>-0.115295</td>\n",
       "      <td>-0.115295</td>\n",
       "      <td>-0.433996</td>\n",
       "      <td>-0.247858</td>\n",
       "      <td>-0.311488</td>\n",
       "      <td>0.195831</td>\n",
       "      <td>-0.472931</td>\n",
       "      <td>0.027422</td>\n",
       "      <td>-0.383964</td>\n",
       "      <td>-0.069702</td>\n",
       "      <td>-0.125211</td>\n",
       "      <td>1.23937</td>\n",
       "      <td>0.368808</td>\n",
       "      <td>0.863576</td>\n",
       "      <td>0.978751</td>\n",
       "      <td>0.482775</td>\n",
       "      <td>1.287329</td>\n",
       "      <td>1.115831</td>\n",
       "      <td>-0.019008</td>\n",
       "      <td>-0.911567</td>\n",
       "      <td>-0.003879</td>\n",
       "      <td>-0.006719</td>\n",
       "      <td>-0.359553</td>\n",
       "      <td>1.148377</td>\n",
       "      <td>-0.086279</td>\n",
       "      <td>-0.36524</td>\n",
       "      <td>-1.302022</td>\n",
       "      <td>-0.251026</td>\n",
       "      <td>-0.105686</td>\n",
       "      <td>6.915465</td>\n",
       "      <td>-0.125725</td>\n",
       "      <td>-0.113695</td>\n",
       "      <td>-0.319218</td>\n",
       "      <td>-0.034935</td>\n",
       "      <td>-0.152178</td>\n",
       "      <td>-0.088896</td>\n",
       "      <td>-0.051386</td>\n",
       "      <td>-0.416375</td>\n",
       "      <td>-0.786521</td>\n",
       "      <td>1.061786</td>\n",
       "      <td>0.0</td>\n",
       "    </tr>\n",
       "    <tr>\n",
       "      <th>4</th>\n",
       "      <td>1.117201</td>\n",
       "      <td>0.167680</td>\n",
       "      <td>1.963155</td>\n",
       "      <td>0.837623</td>\n",
       "      <td>0.837623</td>\n",
       "      <td>-0.986813</td>\n",
       "      <td>0.737218</td>\n",
       "      <td>1.827716</td>\n",
       "      <td>2.220485</td>\n",
       "      <td>2.561753</td>\n",
       "      <td>0.027422</td>\n",
       "      <td>-0.383964</td>\n",
       "      <td>-0.069702</td>\n",
       "      <td>-0.125211</td>\n",
       "      <td>-0.37762</td>\n",
       "      <td>0.131914</td>\n",
       "      <td>0.863576</td>\n",
       "      <td>0.978751</td>\n",
       "      <td>0.482775</td>\n",
       "      <td>0.755624</td>\n",
       "      <td>1.115831</td>\n",
       "      <td>-0.019008</td>\n",
       "      <td>-0.911567</td>\n",
       "      <td>-0.003879</td>\n",
       "      <td>-0.006719</td>\n",
       "      <td>-0.359553</td>\n",
       "      <td>1.148377</td>\n",
       "      <td>-0.086279</td>\n",
       "      <td>-0.36524</td>\n",
       "      <td>0.768036</td>\n",
       "      <td>-0.251026</td>\n",
       "      <td>-0.105686</td>\n",
       "      <td>-0.144603</td>\n",
       "      <td>-0.125725</td>\n",
       "      <td>-0.113695</td>\n",
       "      <td>-0.319218</td>\n",
       "      <td>-0.034935</td>\n",
       "      <td>-0.152178</td>\n",
       "      <td>-0.088896</td>\n",
       "      <td>-0.051386</td>\n",
       "      <td>-0.416375</td>\n",
       "      <td>1.271422</td>\n",
       "      <td>-0.941810</td>\n",
       "      <td>0.0</td>\n",
       "    </tr>\n",
       "  </tbody>\n",
       "</table>\n",
       "</div>"
      ],
      "text/plain": [
       "   loan_amnt  annual_inc       dti  fico_range_low  fico_range_high  int_rate  \\\n",
       "0   0.606309    0.606130  0.035808       -1.068212        -1.068212 -0.986813   \n",
       "1   1.847046    0.774764  1.783361        0.837623         0.837623 -0.986813   \n",
       "2   0.163188   -0.321359 -0.521897        0.837623         0.837623 -0.433996   \n",
       "3  -0.037519   -0.456266  0.225909       -0.115295        -0.115295 -0.433996   \n",
       "4   1.117201    0.167680  1.963155        0.837623         0.837623 -0.986813   \n",
       "\n",
       "   installment  open_acc  total_acc  revol_bal  inq_last_6mths  delinq_2yrs  \\\n",
       "0     0.287230 -0.133221  -0.047127   0.205624       -0.867990    -0.383964   \n",
       "1     1.380044  2.362517   2.382457  -0.101756       -0.867990     0.696178   \n",
       "2     0.617784 -0.133221   0.114845  -0.470743        0.922834    -0.383964   \n",
       "3    -0.247858 -0.311488   0.195831  -0.472931        0.027422    -0.383964   \n",
       "4     0.737218  1.827716   2.220485   2.561753        0.027422    -0.383964   \n",
       "\n",
       "   acc_now_delinq  collections_12_mths_ex_med  pub_rec  months_cr_line  \\\n",
       "0       -0.069702                   -0.125211 -0.37762        2.003373   \n",
       "1       -0.069702                   -0.125211 -0.37762        0.842595   \n",
       "2       -0.069702                   -0.125211 -0.37762        0.463565   \n",
       "3       -0.069702                   -0.125211  1.23937        0.368808   \n",
       "4       -0.069702                   -0.125211 -0.37762        0.131914   \n",
       "\n",
       "       term  initial_list_status     grade  sub_grade  emp_length       ANY  \\\n",
       "0  0.863576             0.978751  0.482775   0.755624   -0.927085 -0.019008   \n",
       "1  0.863576             0.978751  0.482775   0.755624    0.605102 -0.019008   \n",
       "2 -1.157976            -1.021711  0.482775   1.287329   -1.437814 -0.019008   \n",
       "3  0.863576             0.978751  0.482775   1.287329    1.115831 -0.019008   \n",
       "4  0.863576             0.978751  0.482775   0.755624    1.115831 -0.019008   \n",
       "\n",
       "   MORTGAGE      NONE     OTHER       OWN      RENT        car  credit_card  \\\n",
       "0 -0.911567 -0.003879 -0.006719  2.781231 -0.870794  11.590255     -0.36524   \n",
       "1  1.097012 -0.003879 -0.006719 -0.359553 -0.870794  -0.086279     -0.36524   \n",
       "2  1.097012 -0.003879 -0.006719 -0.359553 -0.870794  -0.086279     -0.36524   \n",
       "3 -0.911567 -0.003879 -0.006719 -0.359553  1.148377  -0.086279     -0.36524   \n",
       "4 -0.911567 -0.003879 -0.006719 -0.359553  1.148377  -0.086279     -0.36524   \n",
       "\n",
       "   debt_consolidation  home_improvement     house  major_purchase   medical  \\\n",
       "0           -1.302022         -0.251026 -0.105686       -0.144603 -0.125725   \n",
       "1            0.768036         -0.251026 -0.105686       -0.144603 -0.125725   \n",
       "2            0.768036         -0.251026 -0.105686       -0.144603 -0.125725   \n",
       "3           -1.302022         -0.251026 -0.105686        6.915465 -0.125725   \n",
       "4            0.768036         -0.251026 -0.105686       -0.144603 -0.125725   \n",
       "\n",
       "     moving     other  renewable_energy  small_business  vacation   wedding  \\\n",
       "0 -0.113695 -0.319218         -0.034935       -0.152178 -0.088896 -0.051386   \n",
       "1 -0.113695 -0.319218         -0.034935       -0.152178 -0.088896 -0.051386   \n",
       "2 -0.113695 -0.319218         -0.034935       -0.152178 -0.088896 -0.051386   \n",
       "3 -0.113695 -0.319218         -0.034935       -0.152178 -0.088896 -0.051386   \n",
       "4 -0.113695 -0.319218         -0.034935       -0.152178 -0.088896 -0.051386   \n",
       "\n",
       "   Not Verified  Source Verified  Verified  loan_status_bin  \n",
       "0      2.401683        -0.786521 -0.941810              0.0  \n",
       "1     -0.416375         1.271422 -0.941810              1.0  \n",
       "2      2.401683        -0.786521 -0.941810              0.0  \n",
       "3     -0.416375        -0.786521  1.061786              0.0  \n",
       "4     -0.416375         1.271422 -0.941810              0.0  "
      ]
     },
     "execution_count": 18,
     "metadata": {},
     "output_type": "execute_result"
    }
   ],
   "source": [
    "data.head(5)"
   ]
  },
  {
   "cell_type": "code",
   "execution_count": 19,
   "id": "e2bc504c",
   "metadata": {},
   "outputs": [
    {
     "data": {
      "text/plain": [
       "(66449, 44)"
      ]
     },
     "execution_count": 19,
     "metadata": {},
     "output_type": "execute_result"
    }
   ],
   "source": [
    "data.shape"
   ]
  },
  {
   "cell_type": "code",
   "execution_count": 20,
   "id": "79f7fea2",
   "metadata": {},
   "outputs": [
    {
     "data": {
      "text/plain": [
       "1.0    41777\n",
       "0.0    24672\n",
       "Name: loan_status_bin, dtype: int64"
      ]
     },
     "execution_count": 20,
     "metadata": {},
     "output_type": "execute_result"
    }
   ],
   "source": [
    "data.loan_status_bin.value_counts()"
   ]
  },
  {
   "cell_type": "code",
   "execution_count": 21,
   "id": "c5f95e95",
   "metadata": {},
   "outputs": [
    {
     "data": {
      "text/plain": [
       "0.6287077307408689"
      ]
     },
     "execution_count": 21,
     "metadata": {},
     "output_type": "execute_result"
    }
   ],
   "source": [
    "#Null Model (or random investment) will yield, 59.3% of picking a good loan: \n",
    "data.loan_status_bin.value_counts()[1] / len(data)"
   ]
  },
  {
   "cell_type": "code",
   "execution_count": 22,
   "id": "ff93c60b",
   "metadata": {},
   "outputs": [
    {
     "data": {
      "text/plain": [
       "(66449, 43)"
      ]
     },
     "execution_count": 22,
     "metadata": {},
     "output_type": "execute_result"
    }
   ],
   "source": [
    "X = data.drop('loan_status_bin', axis=1)\n",
    "X.shape"
   ]
  },
  {
   "cell_type": "code",
   "execution_count": 23,
   "id": "d6f47bde",
   "metadata": {},
   "outputs": [],
   "source": [
    "y = data['loan_status_bin']"
   ]
  },
  {
   "cell_type": "code",
   "execution_count": 24,
   "id": "e41f44d6",
   "metadata": {},
   "outputs": [],
   "source": [
    "n_features = 1\n",
    "lr = LogisticRegression()\n",
    "sfs = SequentialFeatureSelector(lr, n_features_to_select=n_features)"
   ]
  },
  {
   "cell_type": "code",
   "execution_count": 25,
   "id": "b4eb8b6c",
   "metadata": {},
   "outputs": [
    {
     "data": {
      "text/html": [
       "<style>#sk-container-id-1 {color: black;background-color: white;}#sk-container-id-1 pre{padding: 0;}#sk-container-id-1 div.sk-toggleable {background-color: white;}#sk-container-id-1 label.sk-toggleable__label {cursor: pointer;display: block;width: 100%;margin-bottom: 0;padding: 0.3em;box-sizing: border-box;text-align: center;}#sk-container-id-1 label.sk-toggleable__label-arrow:before {content: \"▸\";float: left;margin-right: 0.25em;color: #696969;}#sk-container-id-1 label.sk-toggleable__label-arrow:hover:before {color: black;}#sk-container-id-1 div.sk-estimator:hover label.sk-toggleable__label-arrow:before {color: black;}#sk-container-id-1 div.sk-toggleable__content {max-height: 0;max-width: 0;overflow: hidden;text-align: left;background-color: #f0f8ff;}#sk-container-id-1 div.sk-toggleable__content pre {margin: 0.2em;color: black;border-radius: 0.25em;background-color: #f0f8ff;}#sk-container-id-1 input.sk-toggleable__control:checked~div.sk-toggleable__content {max-height: 200px;max-width: 100%;overflow: auto;}#sk-container-id-1 input.sk-toggleable__control:checked~label.sk-toggleable__label-arrow:before {content: \"▾\";}#sk-container-id-1 div.sk-estimator input.sk-toggleable__control:checked~label.sk-toggleable__label {background-color: #d4ebff;}#sk-container-id-1 div.sk-label input.sk-toggleable__control:checked~label.sk-toggleable__label {background-color: #d4ebff;}#sk-container-id-1 input.sk-hidden--visually {border: 0;clip: rect(1px 1px 1px 1px);clip: rect(1px, 1px, 1px, 1px);height: 1px;margin: -1px;overflow: hidden;padding: 0;position: absolute;width: 1px;}#sk-container-id-1 div.sk-estimator {font-family: monospace;background-color: #f0f8ff;border: 1px dotted black;border-radius: 0.25em;box-sizing: border-box;margin-bottom: 0.5em;}#sk-container-id-1 div.sk-estimator:hover {background-color: #d4ebff;}#sk-container-id-1 div.sk-parallel-item::after {content: \"\";width: 100%;border-bottom: 1px solid gray;flex-grow: 1;}#sk-container-id-1 div.sk-label:hover label.sk-toggleable__label {background-color: #d4ebff;}#sk-container-id-1 div.sk-serial::before {content: \"\";position: absolute;border-left: 1px solid gray;box-sizing: border-box;top: 0;bottom: 0;left: 50%;z-index: 0;}#sk-container-id-1 div.sk-serial {display: flex;flex-direction: column;align-items: center;background-color: white;padding-right: 0.2em;padding-left: 0.2em;position: relative;}#sk-container-id-1 div.sk-item {position: relative;z-index: 1;}#sk-container-id-1 div.sk-parallel {display: flex;align-items: stretch;justify-content: center;background-color: white;position: relative;}#sk-container-id-1 div.sk-item::before, #sk-container-id-1 div.sk-parallel-item::before {content: \"\";position: absolute;border-left: 1px solid gray;box-sizing: border-box;top: 0;bottom: 0;left: 50%;z-index: -1;}#sk-container-id-1 div.sk-parallel-item {display: flex;flex-direction: column;z-index: 1;position: relative;background-color: white;}#sk-container-id-1 div.sk-parallel-item:first-child::after {align-self: flex-end;width: 50%;}#sk-container-id-1 div.sk-parallel-item:last-child::after {align-self: flex-start;width: 50%;}#sk-container-id-1 div.sk-parallel-item:only-child::after {width: 0;}#sk-container-id-1 div.sk-dashed-wrapped {border: 1px dashed gray;margin: 0 0.4em 0.5em 0.4em;box-sizing: border-box;padding-bottom: 0.4em;background-color: white;}#sk-container-id-1 div.sk-label label {font-family: monospace;font-weight: bold;display: inline-block;line-height: 1.2em;}#sk-container-id-1 div.sk-label-container {text-align: center;}#sk-container-id-1 div.sk-container {/* jupyter's `normalize.less` sets `[hidden] { display: none; }` but bootstrap.min.css set `[hidden] { display: none !important; }` so we also need the `!important` here to be able to override the default hidden behavior on the sphinx rendered scikit-learn.org. See: https://github.com/scikit-learn/scikit-learn/issues/21755 */display: inline-block !important;position: relative;}#sk-container-id-1 div.sk-text-repr-fallback {display: none;}</style><div id=\"sk-container-id-1\" class=\"sk-top-container\"><div class=\"sk-text-repr-fallback\"><pre>SequentialFeatureSelector(estimator=LogisticRegression(),\n",
       "                          n_features_to_select=1)</pre><b>In a Jupyter environment, please rerun this cell to show the HTML representation or trust the notebook. <br />On GitHub, the HTML representation is unable to render, please try loading this page with nbviewer.org.</b></div><div class=\"sk-container\" hidden><div class=\"sk-item sk-dashed-wrapped\"><div class=\"sk-label-container\"><div class=\"sk-label sk-toggleable\"><input class=\"sk-toggleable__control sk-hidden--visually\" id=\"sk-estimator-id-1\" type=\"checkbox\" ><label for=\"sk-estimator-id-1\" class=\"sk-toggleable__label sk-toggleable__label-arrow\">SequentialFeatureSelector</label><div class=\"sk-toggleable__content\"><pre>SequentialFeatureSelector(estimator=LogisticRegression(),\n",
       "                          n_features_to_select=1)</pre></div></div></div><div class=\"sk-parallel\"><div class=\"sk-parallel-item\"><div class=\"sk-item\"><div class=\"sk-label-container\"><div class=\"sk-label sk-toggleable\"><input class=\"sk-toggleable__control sk-hidden--visually\" id=\"sk-estimator-id-2\" type=\"checkbox\" ><label for=\"sk-estimator-id-2\" class=\"sk-toggleable__label sk-toggleable__label-arrow\">estimator: LogisticRegression</label><div class=\"sk-toggleable__content\"><pre>LogisticRegression()</pre></div></div></div><div class=\"sk-serial\"><div class=\"sk-item\"><div class=\"sk-estimator sk-toggleable\"><input class=\"sk-toggleable__control sk-hidden--visually\" id=\"sk-estimator-id-3\" type=\"checkbox\" ><label for=\"sk-estimator-id-3\" class=\"sk-toggleable__label sk-toggleable__label-arrow\">LogisticRegression</label><div class=\"sk-toggleable__content\"><pre>LogisticRegression()</pre></div></div></div></div></div></div></div></div></div></div>"
      ],
      "text/plain": [
       "SequentialFeatureSelector(estimator=LogisticRegression(),\n",
       "                          n_features_to_select=1)"
      ]
     },
     "execution_count": 25,
     "metadata": {},
     "output_type": "execute_result"
    }
   ],
   "source": [
    "sfs.fit(X,y)"
   ]
  },
  {
   "cell_type": "code",
   "execution_count": 26,
   "id": "70c93071",
   "metadata": {},
   "outputs": [],
   "source": [
    "#sfs.get_support()"
   ]
  },
  {
   "cell_type": "code",
   "execution_count": 27,
   "id": "dbffd04e",
   "metadata": {},
   "outputs": [
    {
     "name": "stdout",
     "output_type": "stream",
     "text": [
      "Top 1 features selected by forward sequential selection:['open_acc']\n"
     ]
    }
   ],
   "source": [
    "print(\"Top {} features selected by forward sequential selection:{}\"\\\n",
    "      .format(n_features, list(X.columns[sfs.get_support()])))\n"
   ]
  },
  {
   "cell_type": "code",
   "execution_count": 28,
   "id": "1f39da4f",
   "metadata": {},
   "outputs": [
    {
     "data": {
      "text/plain": [
       "['open_acc']"
      ]
     },
     "execution_count": 28,
     "metadata": {},
     "output_type": "execute_result"
    }
   ],
   "source": [
    "feat = list(X.columns[sfs.get_support()])\n",
    "feat"
   ]
  },
  {
   "cell_type": "code",
   "execution_count": 29,
   "id": "d2d0e00e",
   "metadata": {},
   "outputs": [],
   "source": [
    "X_feat = data[feat]"
   ]
  },
  {
   "cell_type": "code",
   "execution_count": 30,
   "id": "eb0b2988",
   "metadata": {},
   "outputs": [
    {
     "data": {
      "text/plain": [
       "0        0.0\n",
       "1        1.0\n",
       "2        0.0\n",
       "3        0.0\n",
       "4        0.0\n",
       "        ... \n",
       "66444    1.0\n",
       "66445    0.0\n",
       "66446    1.0\n",
       "66447    1.0\n",
       "66448    1.0\n",
       "Name: loan_status_bin, Length: 66449, dtype: float64"
      ]
     },
     "execution_count": 30,
     "metadata": {},
     "output_type": "execute_result"
    }
   ],
   "source": [
    "y = data['loan_status_bin']\n",
    "y"
   ]
  },
  {
   "cell_type": "code",
   "execution_count": 31,
   "id": "a888c925",
   "metadata": {},
   "outputs": [],
   "source": [
    "lr_check = LogisticRegression()\n",
    "steps = [('model', lr_check)]\n",
    "pipeline = Pipeline(steps=steps)"
   ]
  },
  {
   "cell_type": "code",
   "execution_count": 32,
   "id": "0423b0b2",
   "metadata": {},
   "outputs": [
    {
     "name": "stdout",
     "output_type": "stream",
     "text": [
      "[0.62866817 0.62866817 0.62881866 0.62874342 0.62871548]\n",
      "0.6287227797664253\n"
     ]
    }
   ],
   "source": [
    "#Accuracy:\n",
    "\n",
    "cv = RepeatedStratifiedKFold(n_splits=5, n_repeats=1, random_state=1)\n",
    "scores = cross_val_score(pipeline, X_feat, y, scoring='accuracy', cv=cv, n_jobs=-1) \n",
    "print(scores)\n",
    "\n",
    "score = np.mean(scores)\n",
    "print(score)"
   ]
  },
  {
   "cell_type": "code",
   "execution_count": null,
   "id": "80613a5c",
   "metadata": {},
   "outputs": [],
   "source": []
  },
  {
   "cell_type": "code",
   "execution_count": 33,
   "id": "0e5c48bf",
   "metadata": {},
   "outputs": [],
   "source": [
    "from sklearn.ensemble import AdaBoostClassifier\n",
    "ada = AdaBoostClassifier()\n",
    "steps2 = [('model', ada)]\n",
    "pipeline2 = Pipeline(steps=steps2)"
   ]
  },
  {
   "cell_type": "code",
   "execution_count": 34,
   "id": "34d06f94",
   "metadata": {},
   "outputs": [
    {
     "name": "stdout",
     "output_type": "stream",
     "text": [
      "[0.62866817 0.62859293 0.62874342 0.62874342 0.62886598]\n",
      "0.6287227820312924\n"
     ]
    }
   ],
   "source": [
    "#Accuracy:\n",
    "\n",
    "cv = RepeatedStratifiedKFold(n_splits=5, n_repeats=1, random_state=1)\n",
    "scores = cross_val_score(pipeline2, X_feat, y, scoring='accuracy', cv=cv, n_jobs=-1) \n",
    "print(scores)\n",
    "\n",
    "score = np.mean(scores)\n",
    "print(score)"
   ]
  },
  {
   "cell_type": "code",
   "execution_count": null,
   "id": "379e763c",
   "metadata": {},
   "outputs": [],
   "source": []
  },
  {
   "cell_type": "code",
   "execution_count": 35,
   "id": "dd8bb743",
   "metadata": {},
   "outputs": [],
   "source": [
    "from sklearn.neural_network import MLPClassifier\n",
    "nn = MLPClassifier(alpha=1, max_iter=1000)\n",
    "steps3 = [('model', nn)]\n",
    "pipeline3 = Pipeline(steps=steps3)"
   ]
  },
  {
   "cell_type": "code",
   "execution_count": 36,
   "id": "69659651",
   "metadata": {},
   "outputs": [
    {
     "name": "stdout",
     "output_type": "stream",
     "text": [
      "[0.62866817 0.62866817 0.62874342 0.62874342 0.62871548]\n",
      "0.6287077308574712\n"
     ]
    }
   ],
   "source": [
    "#Accuracy:\n",
    "\n",
    "cv = RepeatedStratifiedKFold(n_splits=5, n_repeats=1, random_state=1)\n",
    "scores = cross_val_score(pipeline3, X_feat, y, scoring='accuracy', cv=cv, n_jobs=-1) \n",
    "print(scores)\n",
    "\n",
    "score = np.mean(scores)\n",
    "print(score)"
   ]
  },
  {
   "cell_type": "code",
   "execution_count": null,
   "id": "f5ed01b9",
   "metadata": {},
   "outputs": [],
   "source": []
  },
  {
   "cell_type": "code",
   "execution_count": 37,
   "id": "18cbf57c",
   "metadata": {},
   "outputs": [],
   "source": [
    "from sklearn.ensemble import GradientBoostingClassifier\n",
    "gb = GradientBoostingClassifier()\n",
    "steps4 = [('model', gb)]\n",
    "pipeline4 = Pipeline(steps=steps4)"
   ]
  },
  {
   "cell_type": "code",
   "execution_count": 38,
   "id": "82650289",
   "metadata": {},
   "outputs": [
    {
     "name": "stdout",
     "output_type": "stream",
     "text": [
      "[0.62851768 0.62859293 0.62829195 0.62866817 0.62886598]\n",
      "0.6285873418507055\n"
     ]
    }
   ],
   "source": [
    "#Accuracy:\n",
    "\n",
    "cv = RepeatedStratifiedKFold(n_splits=5, n_repeats=1, random_state=1)\n",
    "scores = cross_val_score(pipeline4, X_feat, y, scoring='accuracy', cv=cv, n_jobs=-1) \n",
    "print(scores)\n",
    "\n",
    "score = np.mean(scores)\n",
    "print(score)"
   ]
  },
  {
   "cell_type": "code",
   "execution_count": null,
   "id": "b095c060",
   "metadata": {},
   "outputs": [],
   "source": []
  },
  {
   "cell_type": "code",
   "execution_count": null,
   "id": "9df59e81",
   "metadata": {},
   "outputs": [],
   "source": []
  }
 ],
 "metadata": {
  "hide_input": false,
  "kernelspec": {
   "display_name": "Python 3 (ipykernel)",
   "language": "python",
   "name": "python3"
  },
  "language_info": {
   "codemirror_mode": {
    "name": "ipython",
    "version": 3
   },
   "file_extension": ".py",
   "mimetype": "text/x-python",
   "name": "python",
   "nbconvert_exporter": "python",
   "pygments_lexer": "ipython3",
   "version": "3.8.8"
  },
  "varInspector": {
   "cols": {
    "lenName": 16,
    "lenType": 16,
    "lenVar": 40
   },
   "kernels_config": {
    "python": {
     "delete_cmd_postfix": "",
     "delete_cmd_prefix": "del ",
     "library": "var_list.py",
     "varRefreshCmd": "print(var_dic_list())"
    },
    "r": {
     "delete_cmd_postfix": ") ",
     "delete_cmd_prefix": "rm(",
     "library": "var_list.r",
     "varRefreshCmd": "cat(var_dic_list()) "
    }
   },
   "types_to_exclude": [
    "module",
    "function",
    "builtin_function_or_method",
    "instance",
    "_Feature"
   ],
   "window_display": false
  }
 },
 "nbformat": 4,
 "nbformat_minor": 5
}
