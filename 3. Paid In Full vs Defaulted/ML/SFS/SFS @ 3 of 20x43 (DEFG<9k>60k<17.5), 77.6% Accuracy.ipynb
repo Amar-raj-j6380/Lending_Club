{
 "cells": [
  {
   "cell_type": "code",
   "execution_count": 1,
   "id": "891650eb",
   "metadata": {},
   "outputs": [],
   "source": [
    "import pandas as pd\n",
    "from sklearn.linear_model import LogisticRegression\n",
    "from sklearn.feature_selection import SequentialFeatureSelector\n",
    "\n",
    "from imblearn.pipeline import Pipeline\n",
    "from sklearn.model_selection import RepeatedStratifiedKFold, cross_val_score"
   ]
  },
  {
   "cell_type": "code",
   "execution_count": 2,
   "id": "75e9e0cb",
   "metadata": {},
   "outputs": [],
   "source": [
    "pd.set_option(\"display.max_columns\", 200)\n",
    "pd.set_option(\"display.max_row\", 160)\n",
    "pd.set_option('max_colwidth', 200)"
   ]
  },
  {
   "cell_type": "code",
   "execution_count": 3,
   "id": "e4071527",
   "metadata": {},
   "outputs": [],
   "source": [
    "data = pd.read_csv('../../Data/20x43_DEFG106017_5.csv')"
   ]
  },
  {
   "cell_type": "code",
   "execution_count": 4,
   "id": "b397a6b0",
   "metadata": {},
   "outputs": [
    {
     "data": {
      "text/html": [
       "<div>\n",
       "<style scoped>\n",
       "    .dataframe tbody tr th:only-of-type {\n",
       "        vertical-align: middle;\n",
       "    }\n",
       "\n",
       "    .dataframe tbody tr th {\n",
       "        vertical-align: top;\n",
       "    }\n",
       "\n",
       "    .dataframe thead th {\n",
       "        text-align: right;\n",
       "    }\n",
       "</style>\n",
       "<table border=\"1\" class=\"dataframe\">\n",
       "  <thead>\n",
       "    <tr style=\"text-align: right;\">\n",
       "      <th></th>\n",
       "      <th>loan_amnt</th>\n",
       "      <th>annual_inc</th>\n",
       "      <th>dti</th>\n",
       "      <th>fico_range_low</th>\n",
       "      <th>fico_range_high</th>\n",
       "      <th>int_rate</th>\n",
       "      <th>installment</th>\n",
       "      <th>open_acc</th>\n",
       "      <th>total_acc</th>\n",
       "      <th>revol_bal</th>\n",
       "      <th>inq_last_6mths</th>\n",
       "      <th>delinq_2yrs</th>\n",
       "      <th>mths_since_last_delinq</th>\n",
       "      <th>acc_now_delinq</th>\n",
       "      <th>collections_12_mths_ex_med</th>\n",
       "      <th>pub_rec</th>\n",
       "      <th>months_cr_line</th>\n",
       "      <th>term</th>\n",
       "      <th>initial_list_status</th>\n",
       "      <th>grade</th>\n",
       "      <th>sub_grade</th>\n",
       "      <th>emp_length</th>\n",
       "      <th>ANY</th>\n",
       "      <th>MORTGAGE</th>\n",
       "      <th>OWN</th>\n",
       "      <th>RENT</th>\n",
       "      <th>car</th>\n",
       "      <th>credit_card</th>\n",
       "      <th>debt_consolidation</th>\n",
       "      <th>home_improvement</th>\n",
       "      <th>house</th>\n",
       "      <th>major_purchase</th>\n",
       "      <th>medical</th>\n",
       "      <th>moving</th>\n",
       "      <th>other</th>\n",
       "      <th>renewable_energy</th>\n",
       "      <th>small_business</th>\n",
       "      <th>vacation</th>\n",
       "      <th>wedding</th>\n",
       "      <th>Not Verified</th>\n",
       "      <th>Source Verified</th>\n",
       "      <th>Verified</th>\n",
       "      <th>loan_status_bin</th>\n",
       "    </tr>\n",
       "  </thead>\n",
       "  <tbody>\n",
       "    <tr>\n",
       "      <th>0</th>\n",
       "      <td>-0.688961</td>\n",
       "      <td>-0.098407</td>\n",
       "      <td>-0.878946</td>\n",
       "      <td>1.908757</td>\n",
       "      <td>1.908757</td>\n",
       "      <td>-0.572337</td>\n",
       "      <td>-0.680069</td>\n",
       "      <td>-0.344434</td>\n",
       "      <td>-0.847799</td>\n",
       "      <td>-0.559022</td>\n",
       "      <td>1.176249</td>\n",
       "      <td>0.379582</td>\n",
       "      <td>-0.304934</td>\n",
       "      <td>-0.078675</td>\n",
       "      <td>-0.150104</td>\n",
       "      <td>-0.440423</td>\n",
       "      <td>-0.879612</td>\n",
       "      <td>-0.255268</td>\n",
       "      <td>1.415665</td>\n",
       "      <td>-0.029548</td>\n",
       "      <td>0.543690</td>\n",
       "      <td>-0.520336</td>\n",
       "      <td>-0.036999</td>\n",
       "      <td>-0.797214</td>\n",
       "      <td>-0.351647</td>\n",
       "      <td>1.0</td>\n",
       "      <td>-0.126381</td>\n",
       "      <td>-0.231636</td>\n",
       "      <td>-0.749244</td>\n",
       "      <td>3.41565</td>\n",
       "      <td>-0.157698</td>\n",
       "      <td>-0.194825</td>\n",
       "      <td>-0.220784</td>\n",
       "      <td>-0.218218</td>\n",
       "      <td>-0.561299</td>\n",
       "      <td>-0.069338</td>\n",
       "      <td>-0.252217</td>\n",
       "      <td>-0.17609</td>\n",
       "      <td>-0.08901</td>\n",
       "      <td>-0.598141</td>\n",
       "      <td>1.218142</td>\n",
       "      <td>-0.708013</td>\n",
       "      <td>0.0</td>\n",
       "    </tr>\n",
       "    <tr>\n",
       "      <th>1</th>\n",
       "      <td>-0.955672</td>\n",
       "      <td>-0.272715</td>\n",
       "      <td>0.853446</td>\n",
       "      <td>0.113095</td>\n",
       "      <td>0.113095</td>\n",
       "      <td>0.621456</td>\n",
       "      <td>-0.892889</td>\n",
       "      <td>-0.745154</td>\n",
       "      <td>-0.932905</td>\n",
       "      <td>-0.449493</td>\n",
       "      <td>0.415315</td>\n",
       "      <td>-0.463741</td>\n",
       "      <td>-0.896243</td>\n",
       "      <td>-0.078675</td>\n",
       "      <td>-0.150104</td>\n",
       "      <td>-0.440423</td>\n",
       "      <td>0.314916</td>\n",
       "      <td>-0.255268</td>\n",
       "      <td>1.415665</td>\n",
       "      <td>1.342791</td>\n",
       "      <td>1.503181</td>\n",
       "      <td>-1.587261</td>\n",
       "      <td>-0.036999</td>\n",
       "      <td>1.254368</td>\n",
       "      <td>-0.351647</td>\n",
       "      <td>-1.0</td>\n",
       "      <td>-0.126381</td>\n",
       "      <td>-0.231636</td>\n",
       "      <td>1.334679</td>\n",
       "      <td>-0.29277</td>\n",
       "      <td>-0.157698</td>\n",
       "      <td>-0.194825</td>\n",
       "      <td>-0.220784</td>\n",
       "      <td>-0.218218</td>\n",
       "      <td>-0.561299</td>\n",
       "      <td>-0.069338</td>\n",
       "      <td>-0.252217</td>\n",
       "      <td>-0.17609</td>\n",
       "      <td>-0.08901</td>\n",
       "      <td>-0.598141</td>\n",
       "      <td>1.218142</td>\n",
       "      <td>-0.708013</td>\n",
       "      <td>0.0</td>\n",
       "    </tr>\n",
       "    <tr>\n",
       "      <th>2</th>\n",
       "      <td>0.143178</td>\n",
       "      <td>-0.083250</td>\n",
       "      <td>1.574731</td>\n",
       "      <td>-0.656475</td>\n",
       "      <td>-0.656475</td>\n",
       "      <td>-0.572337</td>\n",
       "      <td>0.145642</td>\n",
       "      <td>0.256648</td>\n",
       "      <td>0.939420</td>\n",
       "      <td>-0.097825</td>\n",
       "      <td>2.698116</td>\n",
       "      <td>2.909549</td>\n",
       "      <td>-0.896243</td>\n",
       "      <td>-0.078675</td>\n",
       "      <td>-0.150104</td>\n",
       "      <td>0.894995</td>\n",
       "      <td>-0.355482</td>\n",
       "      <td>-0.255268</td>\n",
       "      <td>1.415665</td>\n",
       "      <td>-0.029548</td>\n",
       "      <td>0.543690</td>\n",
       "      <td>-0.520336</td>\n",
       "      <td>-0.036999</td>\n",
       "      <td>1.254368</td>\n",
       "      <td>-0.351647</td>\n",
       "      <td>-1.0</td>\n",
       "      <td>-0.126381</td>\n",
       "      <td>-0.231636</td>\n",
       "      <td>-0.749244</td>\n",
       "      <td>-0.29277</td>\n",
       "      <td>-0.157698</td>\n",
       "      <td>-0.194825</td>\n",
       "      <td>-0.220784</td>\n",
       "      <td>-0.218218</td>\n",
       "      <td>-0.561299</td>\n",
       "      <td>-0.069338</td>\n",
       "      <td>3.964846</td>\n",
       "      <td>-0.17609</td>\n",
       "      <td>-0.08901</td>\n",
       "      <td>-0.598141</td>\n",
       "      <td>1.218142</td>\n",
       "      <td>-0.708013</td>\n",
       "      <td>1.0</td>\n",
       "    </tr>\n",
       "    <tr>\n",
       "      <th>3</th>\n",
       "      <td>-0.571608</td>\n",
       "      <td>-0.242401</td>\n",
       "      <td>1.060462</td>\n",
       "      <td>-0.912998</td>\n",
       "      <td>-0.912998</td>\n",
       "      <td>1.408668</td>\n",
       "      <td>-0.452957</td>\n",
       "      <td>-0.344434</td>\n",
       "      <td>-0.422271</td>\n",
       "      <td>-0.422451</td>\n",
       "      <td>2.698116</td>\n",
       "      <td>0.379582</td>\n",
       "      <td>0.331859</td>\n",
       "      <td>-0.078675</td>\n",
       "      <td>-0.150104</td>\n",
       "      <td>0.894995</td>\n",
       "      <td>-0.562696</td>\n",
       "      <td>-0.255268</td>\n",
       "      <td>1.415665</td>\n",
       "      <td>1.342791</td>\n",
       "      <td>2.142842</td>\n",
       "      <td>0.013127</td>\n",
       "      <td>-0.036999</td>\n",
       "      <td>1.254368</td>\n",
       "      <td>-0.351647</td>\n",
       "      <td>-1.0</td>\n",
       "      <td>-0.126381</td>\n",
       "      <td>-0.231636</td>\n",
       "      <td>1.334679</td>\n",
       "      <td>-0.29277</td>\n",
       "      <td>-0.157698</td>\n",
       "      <td>-0.194825</td>\n",
       "      <td>-0.220784</td>\n",
       "      <td>-0.218218</td>\n",
       "      <td>-0.561299</td>\n",
       "      <td>-0.069338</td>\n",
       "      <td>-0.252217</td>\n",
       "      <td>-0.17609</td>\n",
       "      <td>-0.08901</td>\n",
       "      <td>-0.598141</td>\n",
       "      <td>1.218142</td>\n",
       "      <td>-0.708013</td>\n",
       "      <td>1.0</td>\n",
       "    </tr>\n",
       "    <tr>\n",
       "      <th>4</th>\n",
       "      <td>0.207189</td>\n",
       "      <td>-0.227244</td>\n",
       "      <td>1.467955</td>\n",
       "      <td>-0.143429</td>\n",
       "      <td>-0.143429</td>\n",
       "      <td>-0.996220</td>\n",
       "      <td>0.175789</td>\n",
       "      <td>0.256648</td>\n",
       "      <td>-0.081848</td>\n",
       "      <td>0.130144</td>\n",
       "      <td>-0.345619</td>\n",
       "      <td>-0.463741</td>\n",
       "      <td>-0.896243</td>\n",
       "      <td>-0.078675</td>\n",
       "      <td>-0.150104</td>\n",
       "      <td>0.894995</td>\n",
       "      <td>1.168150</td>\n",
       "      <td>-0.255268</td>\n",
       "      <td>1.415665</td>\n",
       "      <td>-0.029548</td>\n",
       "      <td>0.223859</td>\n",
       "      <td>1.080052</td>\n",
       "      <td>-0.036999</td>\n",
       "      <td>1.254368</td>\n",
       "      <td>-0.351647</td>\n",
       "      <td>-1.0</td>\n",
       "      <td>-0.126381</td>\n",
       "      <td>-0.231636</td>\n",
       "      <td>-0.749244</td>\n",
       "      <td>3.41565</td>\n",
       "      <td>-0.157698</td>\n",
       "      <td>-0.194825</td>\n",
       "      <td>-0.220784</td>\n",
       "      <td>-0.218218</td>\n",
       "      <td>-0.561299</td>\n",
       "      <td>-0.069338</td>\n",
       "      <td>-0.252217</td>\n",
       "      <td>-0.17609</td>\n",
       "      <td>-0.08901</td>\n",
       "      <td>-0.598141</td>\n",
       "      <td>-0.820922</td>\n",
       "      <td>1.412403</td>\n",
       "      <td>1.0</td>\n",
       "    </tr>\n",
       "  </tbody>\n",
       "</table>\n",
       "</div>"
      ],
      "text/plain": [
       "   loan_amnt  annual_inc       dti  fico_range_low  fico_range_high  int_rate  \\\n",
       "0  -0.688961   -0.098407 -0.878946        1.908757         1.908757 -0.572337   \n",
       "1  -0.955672   -0.272715  0.853446        0.113095         0.113095  0.621456   \n",
       "2   0.143178   -0.083250  1.574731       -0.656475        -0.656475 -0.572337   \n",
       "3  -0.571608   -0.242401  1.060462       -0.912998        -0.912998  1.408668   \n",
       "4   0.207189   -0.227244  1.467955       -0.143429        -0.143429 -0.996220   \n",
       "\n",
       "   installment  open_acc  total_acc  revol_bal  inq_last_6mths  delinq_2yrs  \\\n",
       "0    -0.680069 -0.344434  -0.847799  -0.559022        1.176249     0.379582   \n",
       "1    -0.892889 -0.745154  -0.932905  -0.449493        0.415315    -0.463741   \n",
       "2     0.145642  0.256648   0.939420  -0.097825        2.698116     2.909549   \n",
       "3    -0.452957 -0.344434  -0.422271  -0.422451        2.698116     0.379582   \n",
       "4     0.175789  0.256648  -0.081848   0.130144       -0.345619    -0.463741   \n",
       "\n",
       "   mths_since_last_delinq  acc_now_delinq  collections_12_mths_ex_med  \\\n",
       "0               -0.304934       -0.078675                   -0.150104   \n",
       "1               -0.896243       -0.078675                   -0.150104   \n",
       "2               -0.896243       -0.078675                   -0.150104   \n",
       "3                0.331859       -0.078675                   -0.150104   \n",
       "4               -0.896243       -0.078675                   -0.150104   \n",
       "\n",
       "    pub_rec  months_cr_line      term  initial_list_status     grade  \\\n",
       "0 -0.440423       -0.879612 -0.255268             1.415665 -0.029548   \n",
       "1 -0.440423        0.314916 -0.255268             1.415665  1.342791   \n",
       "2  0.894995       -0.355482 -0.255268             1.415665 -0.029548   \n",
       "3  0.894995       -0.562696 -0.255268             1.415665  1.342791   \n",
       "4  0.894995        1.168150 -0.255268             1.415665 -0.029548   \n",
       "\n",
       "   sub_grade  emp_length       ANY  MORTGAGE       OWN  RENT       car  \\\n",
       "0   0.543690   -0.520336 -0.036999 -0.797214 -0.351647   1.0 -0.126381   \n",
       "1   1.503181   -1.587261 -0.036999  1.254368 -0.351647  -1.0 -0.126381   \n",
       "2   0.543690   -0.520336 -0.036999  1.254368 -0.351647  -1.0 -0.126381   \n",
       "3   2.142842    0.013127 -0.036999  1.254368 -0.351647  -1.0 -0.126381   \n",
       "4   0.223859    1.080052 -0.036999  1.254368 -0.351647  -1.0 -0.126381   \n",
       "\n",
       "   credit_card  debt_consolidation  home_improvement     house  \\\n",
       "0    -0.231636           -0.749244           3.41565 -0.157698   \n",
       "1    -0.231636            1.334679          -0.29277 -0.157698   \n",
       "2    -0.231636           -0.749244          -0.29277 -0.157698   \n",
       "3    -0.231636            1.334679          -0.29277 -0.157698   \n",
       "4    -0.231636           -0.749244           3.41565 -0.157698   \n",
       "\n",
       "   major_purchase   medical    moving     other  renewable_energy  \\\n",
       "0       -0.194825 -0.220784 -0.218218 -0.561299         -0.069338   \n",
       "1       -0.194825 -0.220784 -0.218218 -0.561299         -0.069338   \n",
       "2       -0.194825 -0.220784 -0.218218 -0.561299         -0.069338   \n",
       "3       -0.194825 -0.220784 -0.218218 -0.561299         -0.069338   \n",
       "4       -0.194825 -0.220784 -0.218218 -0.561299         -0.069338   \n",
       "\n",
       "   small_business  vacation  wedding  Not Verified  Source Verified  Verified  \\\n",
       "0       -0.252217  -0.17609 -0.08901     -0.598141         1.218142 -0.708013   \n",
       "1       -0.252217  -0.17609 -0.08901     -0.598141         1.218142 -0.708013   \n",
       "2        3.964846  -0.17609 -0.08901     -0.598141         1.218142 -0.708013   \n",
       "3       -0.252217  -0.17609 -0.08901     -0.598141         1.218142 -0.708013   \n",
       "4       -0.252217  -0.17609 -0.08901     -0.598141        -0.820922  1.412403   \n",
       "\n",
       "   loan_status_bin  \n",
       "0              0.0  \n",
       "1              0.0  \n",
       "2              1.0  \n",
       "3              1.0  \n",
       "4              1.0  "
      ]
     },
     "execution_count": 4,
     "metadata": {},
     "output_type": "execute_result"
    }
   ],
   "source": [
    "data.head(5)"
   ]
  },
  {
   "cell_type": "code",
   "execution_count": 5,
   "id": "e2bc504c",
   "metadata": {},
   "outputs": [
    {
     "data": {
      "text/plain": [
       "(2926, 43)"
      ]
     },
     "execution_count": 5,
     "metadata": {},
     "output_type": "execute_result"
    }
   ],
   "source": [
    "data.shape"
   ]
  },
  {
   "cell_type": "code",
   "execution_count": 6,
   "id": "79f7fea2",
   "metadata": {},
   "outputs": [
    {
     "data": {
      "text/plain": [
       "1.0    2260\n",
       "0.0     666\n",
       "Name: loan_status_bin, dtype: int64"
      ]
     },
     "execution_count": 6,
     "metadata": {},
     "output_type": "execute_result"
    }
   ],
   "source": [
    "data.loan_status_bin.value_counts()"
   ]
  },
  {
   "cell_type": "code",
   "execution_count": 7,
   "id": "c5f95e95",
   "metadata": {},
   "outputs": [
    {
     "data": {
      "text/plain": [
       "0.7723855092276145"
      ]
     },
     "execution_count": 7,
     "metadata": {},
     "output_type": "execute_result"
    }
   ],
   "source": [
    "#Null Model (or random investment) will yield, 59.3% of picking a good loan: \n",
    "data.loan_status_bin.value_counts()[1] / len(data)"
   ]
  },
  {
   "cell_type": "code",
   "execution_count": 8,
   "id": "ff93c60b",
   "metadata": {},
   "outputs": [
    {
     "data": {
      "text/plain": [
       "(2926, 42)"
      ]
     },
     "execution_count": 8,
     "metadata": {},
     "output_type": "execute_result"
    }
   ],
   "source": [
    "X = data.drop('loan_status_bin', axis=1)\n",
    "X.shape"
   ]
  },
  {
   "cell_type": "code",
   "execution_count": 9,
   "id": "d6f47bde",
   "metadata": {},
   "outputs": [],
   "source": [
    "y = data['loan_status_bin']"
   ]
  },
  {
   "cell_type": "code",
   "execution_count": 10,
   "id": "e41f44d6",
   "metadata": {},
   "outputs": [],
   "source": [
    "n_features = 3\n",
    "lr = LogisticRegression()\n",
    "sfs = SequentialFeatureSelector(lr, n_features_to_select=n_features)"
   ]
  },
  {
   "cell_type": "code",
   "execution_count": 11,
   "id": "b4eb8b6c",
   "metadata": {},
   "outputs": [
    {
     "data": {
      "text/html": [
       "<style>#sk-container-id-1 {color: black;background-color: white;}#sk-container-id-1 pre{padding: 0;}#sk-container-id-1 div.sk-toggleable {background-color: white;}#sk-container-id-1 label.sk-toggleable__label {cursor: pointer;display: block;width: 100%;margin-bottom: 0;padding: 0.3em;box-sizing: border-box;text-align: center;}#sk-container-id-1 label.sk-toggleable__label-arrow:before {content: \"▸\";float: left;margin-right: 0.25em;color: #696969;}#sk-container-id-1 label.sk-toggleable__label-arrow:hover:before {color: black;}#sk-container-id-1 div.sk-estimator:hover label.sk-toggleable__label-arrow:before {color: black;}#sk-container-id-1 div.sk-toggleable__content {max-height: 0;max-width: 0;overflow: hidden;text-align: left;background-color: #f0f8ff;}#sk-container-id-1 div.sk-toggleable__content pre {margin: 0.2em;color: black;border-radius: 0.25em;background-color: #f0f8ff;}#sk-container-id-1 input.sk-toggleable__control:checked~div.sk-toggleable__content {max-height: 200px;max-width: 100%;overflow: auto;}#sk-container-id-1 input.sk-toggleable__control:checked~label.sk-toggleable__label-arrow:before {content: \"▾\";}#sk-container-id-1 div.sk-estimator input.sk-toggleable__control:checked~label.sk-toggleable__label {background-color: #d4ebff;}#sk-container-id-1 div.sk-label input.sk-toggleable__control:checked~label.sk-toggleable__label {background-color: #d4ebff;}#sk-container-id-1 input.sk-hidden--visually {border: 0;clip: rect(1px 1px 1px 1px);clip: rect(1px, 1px, 1px, 1px);height: 1px;margin: -1px;overflow: hidden;padding: 0;position: absolute;width: 1px;}#sk-container-id-1 div.sk-estimator {font-family: monospace;background-color: #f0f8ff;border: 1px dotted black;border-radius: 0.25em;box-sizing: border-box;margin-bottom: 0.5em;}#sk-container-id-1 div.sk-estimator:hover {background-color: #d4ebff;}#sk-container-id-1 div.sk-parallel-item::after {content: \"\";width: 100%;border-bottom: 1px solid gray;flex-grow: 1;}#sk-container-id-1 div.sk-label:hover label.sk-toggleable__label {background-color: #d4ebff;}#sk-container-id-1 div.sk-serial::before {content: \"\";position: absolute;border-left: 1px solid gray;box-sizing: border-box;top: 0;bottom: 0;left: 50%;z-index: 0;}#sk-container-id-1 div.sk-serial {display: flex;flex-direction: column;align-items: center;background-color: white;padding-right: 0.2em;padding-left: 0.2em;position: relative;}#sk-container-id-1 div.sk-item {position: relative;z-index: 1;}#sk-container-id-1 div.sk-parallel {display: flex;align-items: stretch;justify-content: center;background-color: white;position: relative;}#sk-container-id-1 div.sk-item::before, #sk-container-id-1 div.sk-parallel-item::before {content: \"\";position: absolute;border-left: 1px solid gray;box-sizing: border-box;top: 0;bottom: 0;left: 50%;z-index: -1;}#sk-container-id-1 div.sk-parallel-item {display: flex;flex-direction: column;z-index: 1;position: relative;background-color: white;}#sk-container-id-1 div.sk-parallel-item:first-child::after {align-self: flex-end;width: 50%;}#sk-container-id-1 div.sk-parallel-item:last-child::after {align-self: flex-start;width: 50%;}#sk-container-id-1 div.sk-parallel-item:only-child::after {width: 0;}#sk-container-id-1 div.sk-dashed-wrapped {border: 1px dashed gray;margin: 0 0.4em 0.5em 0.4em;box-sizing: border-box;padding-bottom: 0.4em;background-color: white;}#sk-container-id-1 div.sk-label label {font-family: monospace;font-weight: bold;display: inline-block;line-height: 1.2em;}#sk-container-id-1 div.sk-label-container {text-align: center;}#sk-container-id-1 div.sk-container {/* jupyter's `normalize.less` sets `[hidden] { display: none; }` but bootstrap.min.css set `[hidden] { display: none !important; }` so we also need the `!important` here to be able to override the default hidden behavior on the sphinx rendered scikit-learn.org. See: https://github.com/scikit-learn/scikit-learn/issues/21755 */display: inline-block !important;position: relative;}#sk-container-id-1 div.sk-text-repr-fallback {display: none;}</style><div id=\"sk-container-id-1\" class=\"sk-top-container\"><div class=\"sk-text-repr-fallback\"><pre>SequentialFeatureSelector(estimator=LogisticRegression(),\n",
       "                          n_features_to_select=3)</pre><b>In a Jupyter environment, please rerun this cell to show the HTML representation or trust the notebook. <br />On GitHub, the HTML representation is unable to render, please try loading this page with nbviewer.org.</b></div><div class=\"sk-container\" hidden><div class=\"sk-item sk-dashed-wrapped\"><div class=\"sk-label-container\"><div class=\"sk-label sk-toggleable\"><input class=\"sk-toggleable__control sk-hidden--visually\" id=\"sk-estimator-id-1\" type=\"checkbox\" ><label for=\"sk-estimator-id-1\" class=\"sk-toggleable__label sk-toggleable__label-arrow\">SequentialFeatureSelector</label><div class=\"sk-toggleable__content\"><pre>SequentialFeatureSelector(estimator=LogisticRegression(),\n",
       "                          n_features_to_select=3)</pre></div></div></div><div class=\"sk-parallel\"><div class=\"sk-parallel-item\"><div class=\"sk-item\"><div class=\"sk-label-container\"><div class=\"sk-label sk-toggleable\"><input class=\"sk-toggleable__control sk-hidden--visually\" id=\"sk-estimator-id-2\" type=\"checkbox\" ><label for=\"sk-estimator-id-2\" class=\"sk-toggleable__label sk-toggleable__label-arrow\">estimator: LogisticRegression</label><div class=\"sk-toggleable__content\"><pre>LogisticRegression()</pre></div></div></div><div class=\"sk-serial\"><div class=\"sk-item\"><div class=\"sk-estimator sk-toggleable\"><input class=\"sk-toggleable__control sk-hidden--visually\" id=\"sk-estimator-id-3\" type=\"checkbox\" ><label for=\"sk-estimator-id-3\" class=\"sk-toggleable__label sk-toggleable__label-arrow\">LogisticRegression</label><div class=\"sk-toggleable__content\"><pre>LogisticRegression()</pre></div></div></div></div></div></div></div></div></div></div>"
      ],
      "text/plain": [
       "SequentialFeatureSelector(estimator=LogisticRegression(),\n",
       "                          n_features_to_select=3)"
      ]
     },
     "execution_count": 11,
     "metadata": {},
     "output_type": "execute_result"
    }
   ],
   "source": [
    "sfs.fit(X,y)"
   ]
  },
  {
   "cell_type": "code",
   "execution_count": 12,
   "id": "70c93071",
   "metadata": {},
   "outputs": [],
   "source": [
    "#sfs.get_support()"
   ]
  },
  {
   "cell_type": "code",
   "execution_count": 13,
   "id": "dbffd04e",
   "metadata": {},
   "outputs": [
    {
     "name": "stdout",
     "output_type": "stream",
     "text": [
      "Top 3 features selected by forward sequential selection:['loan_amnt', 'annual_inc', 'fico_range_low']\n"
     ]
    }
   ],
   "source": [
    "print(\"Top {} features selected by forward sequential selection:{}\"\\\n",
    "      .format(n_features, list(X.columns[sfs.get_support()])))\n"
   ]
  },
  {
   "cell_type": "code",
   "execution_count": 14,
   "id": "1f39da4f",
   "metadata": {},
   "outputs": [
    {
     "data": {
      "text/plain": [
       "['loan_amnt', 'annual_inc', 'fico_range_low']"
      ]
     },
     "execution_count": 14,
     "metadata": {},
     "output_type": "execute_result"
    }
   ],
   "source": [
    "feat = list(X.columns[sfs.get_support()])\n",
    "feat"
   ]
  },
  {
   "cell_type": "code",
   "execution_count": 15,
   "id": "d2d0e00e",
   "metadata": {},
   "outputs": [],
   "source": [
    "X_feat = data[feat]"
   ]
  },
  {
   "cell_type": "code",
   "execution_count": 16,
   "id": "eb0b2988",
   "metadata": {},
   "outputs": [
    {
     "data": {
      "text/plain": [
       "0       0.0\n",
       "1       0.0\n",
       "2       1.0\n",
       "3       1.0\n",
       "4       1.0\n",
       "       ... \n",
       "2921    1.0\n",
       "2922    1.0\n",
       "2923    0.0\n",
       "2924    0.0\n",
       "2925    1.0\n",
       "Name: loan_status_bin, Length: 2926, dtype: float64"
      ]
     },
     "execution_count": 16,
     "metadata": {},
     "output_type": "execute_result"
    }
   ],
   "source": [
    "y = data['loan_status_bin']\n",
    "y"
   ]
  },
  {
   "cell_type": "code",
   "execution_count": 17,
   "id": "a888c925",
   "metadata": {},
   "outputs": [],
   "source": [
    "lr_check = LogisticRegression()\n",
    "steps = [('model', lr_check)]\n",
    "pipeline = Pipeline(steps=steps)"
   ]
  },
  {
   "cell_type": "code",
   "execution_count": 18,
   "id": "0423b0b2",
   "metadata": {},
   "outputs": [
    {
     "name": "stdout",
     "output_type": "stream",
     "text": [
      "[0.77133106 0.77606838 0.77264957 0.77264957 0.77264957]\n",
      "0.7730696304075144\n"
     ]
    }
   ],
   "source": [
    "#Accuracy:\n",
    "\n",
    "cv = RepeatedStratifiedKFold(n_splits=5, n_repeats=1, random_state=1)\n",
    "scores = cross_val_score(pipeline, X_feat, y, scoring='accuracy', cv=cv, n_jobs=-1) \n",
    "print(scores)\n",
    "\n",
    "score = np.mean(scores)\n",
    "print(score)"
   ]
  },
  {
   "cell_type": "code",
   "execution_count": null,
   "id": "80613a5c",
   "metadata": {},
   "outputs": [],
   "source": []
  },
  {
   "cell_type": "code",
   "execution_count": 19,
   "id": "0e5c48bf",
   "metadata": {},
   "outputs": [],
   "source": [
    "from sklearn.ensemble import AdaBoostClassifier\n",
    "ada = AdaBoostClassifier()\n",
    "steps2 = [('model', ada)]\n",
    "pipeline2 = Pipeline(steps=steps2)"
   ]
  },
  {
   "cell_type": "code",
   "execution_count": 20,
   "id": "34d06f94",
   "metadata": {},
   "outputs": [
    {
     "name": "stdout",
     "output_type": "stream",
     "text": [
      "[0.77474403 0.77606838 0.77094017 0.75897436 0.76923077]\n",
      "0.7699915405034858\n"
     ]
    }
   ],
   "source": [
    "#Accuracy:\n",
    "\n",
    "cv = RepeatedStratifiedKFold(n_splits=5, n_repeats=1, random_state=1)\n",
    "scores = cross_val_score(pipeline2, X_feat, y, scoring='accuracy', cv=cv, n_jobs=-1) \n",
    "print(scores)\n",
    "\n",
    "score = np.mean(scores)\n",
    "print(score)"
   ]
  },
  {
   "cell_type": "code",
   "execution_count": null,
   "id": "379e763c",
   "metadata": {},
   "outputs": [],
   "source": []
  },
  {
   "cell_type": "code",
   "execution_count": 21,
   "id": "dd8bb743",
   "metadata": {},
   "outputs": [],
   "source": [
    "from sklearn.neural_network import MLPClassifier\n",
    "nn = MLPClassifier(alpha=1, max_iter=1000)\n",
    "steps3 = [('model', nn)]\n",
    "pipeline3 = Pipeline(steps=steps3)"
   ]
  },
  {
   "cell_type": "code",
   "execution_count": 22,
   "id": "69659651",
   "metadata": {},
   "outputs": [
    {
     "name": "stdout",
     "output_type": "stream",
     "text": [
      "[0.77303754 0.77264957 0.77264957 0.77094017 0.77264957]\n",
      "0.772385286310201\n"
     ]
    }
   ],
   "source": [
    "#Accuracy:\n",
    "\n",
    "cv = RepeatedStratifiedKFold(n_splits=5, n_repeats=1, random_state=1)\n",
    "scores = cross_val_score(pipeline3, X_feat, y, scoring='accuracy', cv=cv, n_jobs=-1) \n",
    "print(scores)\n",
    "\n",
    "score = np.mean(scores)\n",
    "print(score)"
   ]
  },
  {
   "cell_type": "code",
   "execution_count": null,
   "id": "f5ed01b9",
   "metadata": {},
   "outputs": [],
   "source": []
  },
  {
   "cell_type": "code",
   "execution_count": 23,
   "id": "18cbf57c",
   "metadata": {},
   "outputs": [],
   "source": [
    "from sklearn.ensemble import GradientBoostingClassifier\n",
    "gb = GradientBoostingClassifier()\n",
    "steps4 = [('model', gb)]\n",
    "pipeline4 = Pipeline(steps=steps4)"
   ]
  },
  {
   "cell_type": "code",
   "execution_count": 24,
   "id": "82650289",
   "metadata": {},
   "outputs": [
    {
     "name": "stdout",
     "output_type": "stream",
     "text": [
      "[0.77645051 0.77264957 0.76923077 0.76410256 0.76923077]\n",
      "0.7703328374318136\n"
     ]
    }
   ],
   "source": [
    "#Accuracy:\n",
    "\n",
    "cv = RepeatedStratifiedKFold(n_splits=5, n_repeats=1, random_state=1)\n",
    "scores = cross_val_score(pipeline4, X_feat, y, scoring='accuracy', cv=cv, n_jobs=-1) \n",
    "print(scores)\n",
    "\n",
    "score = np.mean(scores)\n",
    "print(score)"
   ]
  },
  {
   "cell_type": "code",
   "execution_count": null,
   "id": "b095c060",
   "metadata": {},
   "outputs": [],
   "source": []
  },
  {
   "cell_type": "code",
   "execution_count": null,
   "id": "9df59e81",
   "metadata": {},
   "outputs": [],
   "source": []
  }
 ],
 "metadata": {
  "hide_input": false,
  "kernelspec": {
   "display_name": "Python 3 (ipykernel)",
   "language": "python",
   "name": "python3"
  },
  "language_info": {
   "codemirror_mode": {
    "name": "ipython",
    "version": 3
   },
   "file_extension": ".py",
   "mimetype": "text/x-python",
   "name": "python",
   "nbconvert_exporter": "python",
   "pygments_lexer": "ipython3",
   "version": "3.8.8"
  },
  "varInspector": {
   "cols": {
    "lenName": 16,
    "lenType": 16,
    "lenVar": 40
   },
   "kernels_config": {
    "python": {
     "delete_cmd_postfix": "",
     "delete_cmd_prefix": "del ",
     "library": "var_list.py",
     "varRefreshCmd": "print(var_dic_list())"
    },
    "r": {
     "delete_cmd_postfix": ") ",
     "delete_cmd_prefix": "rm(",
     "library": "var_list.r",
     "varRefreshCmd": "cat(var_dic_list()) "
    }
   },
   "types_to_exclude": [
    "module",
    "function",
    "builtin_function_or_method",
    "instance",
    "_Feature"
   ],
   "window_display": false
  }
 },
 "nbformat": 4,
 "nbformat_minor": 5
}
