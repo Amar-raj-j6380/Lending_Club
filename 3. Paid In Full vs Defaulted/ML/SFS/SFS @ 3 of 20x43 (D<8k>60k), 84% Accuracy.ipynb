{
 "cells": [
  {
   "cell_type": "code",
   "execution_count": 1,
   "id": "891650eb",
   "metadata": {},
   "outputs": [],
   "source": [
    "import pandas as pd\n",
    "from sklearn.linear_model import LogisticRegression\n",
    "from sklearn.feature_selection import SequentialFeatureSelector\n",
    "\n",
    "from imblearn.pipeline import Pipeline\n",
    "from sklearn.model_selection import RepeatedStratifiedKFold, cross_val_score"
   ]
  },
  {
   "cell_type": "code",
   "execution_count": 2,
   "id": "75e9e0cb",
   "metadata": {},
   "outputs": [],
   "source": [
    "pd.set_option(\"display.max_columns\", 200)\n",
    "pd.set_option(\"display.max_row\", 160)\n",
    "pd.set_option('max_colwidth', 200)"
   ]
  },
  {
   "cell_type": "code",
   "execution_count": 3,
   "id": "e4071527",
   "metadata": {},
   "outputs": [],
   "source": [
    "data = pd.read_csv('../../Data/20x43_D860.csv')"
   ]
  },
  {
   "cell_type": "code",
   "execution_count": 4,
   "id": "b397a6b0",
   "metadata": {},
   "outputs": [
    {
     "data": {
      "text/html": [
       "<div>\n",
       "<style scoped>\n",
       "    .dataframe tbody tr th:only-of-type {\n",
       "        vertical-align: middle;\n",
       "    }\n",
       "\n",
       "    .dataframe tbody tr th {\n",
       "        vertical-align: top;\n",
       "    }\n",
       "\n",
       "    .dataframe thead th {\n",
       "        text-align: right;\n",
       "    }\n",
       "</style>\n",
       "<table border=\"1\" class=\"dataframe\">\n",
       "  <thead>\n",
       "    <tr style=\"text-align: right;\">\n",
       "      <th></th>\n",
       "      <th>loan_amnt</th>\n",
       "      <th>annual_inc</th>\n",
       "      <th>dti</th>\n",
       "      <th>fico_range_low</th>\n",
       "      <th>fico_range_high</th>\n",
       "      <th>int_rate</th>\n",
       "      <th>installment</th>\n",
       "      <th>open_acc</th>\n",
       "      <th>total_acc</th>\n",
       "      <th>revol_bal</th>\n",
       "      <th>inq_last_6mths</th>\n",
       "      <th>delinq_2yrs</th>\n",
       "      <th>acc_now_delinq</th>\n",
       "      <th>collections_12_mths_ex_med</th>\n",
       "      <th>tot_coll_amt</th>\n",
       "      <th>tot_cur_bal</th>\n",
       "      <th>pub_rec</th>\n",
       "      <th>months_cr_line</th>\n",
       "      <th>term</th>\n",
       "      <th>initial_list_status</th>\n",
       "      <th>sub_grade</th>\n",
       "      <th>emp_length</th>\n",
       "      <th>ANY</th>\n",
       "      <th>MORTGAGE</th>\n",
       "      <th>OWN</th>\n",
       "      <th>RENT</th>\n",
       "      <th>car</th>\n",
       "      <th>credit_card</th>\n",
       "      <th>debt_consolidation</th>\n",
       "      <th>home_improvement</th>\n",
       "      <th>house</th>\n",
       "      <th>major_purchase</th>\n",
       "      <th>medical</th>\n",
       "      <th>moving</th>\n",
       "      <th>other</th>\n",
       "      <th>renewable_energy</th>\n",
       "      <th>small_business</th>\n",
       "      <th>vacation</th>\n",
       "      <th>wedding</th>\n",
       "      <th>Not Verified</th>\n",
       "      <th>Source Verified</th>\n",
       "      <th>Verified</th>\n",
       "      <th>loan_status_bin</th>\n",
       "    </tr>\n",
       "  </thead>\n",
       "  <tbody>\n",
       "    <tr>\n",
       "      <th>0</th>\n",
       "      <td>0.126095</td>\n",
       "      <td>-0.171185</td>\n",
       "      <td>1.284007</td>\n",
       "      <td>-0.832409</td>\n",
       "      <td>-0.832409</td>\n",
       "      <td>-0.628702</td>\n",
       "      <td>0.113224</td>\n",
       "      <td>-0.289595</td>\n",
       "      <td>-1.128516</td>\n",
       "      <td>-0.366924</td>\n",
       "      <td>-0.906273</td>\n",
       "      <td>-0.442383</td>\n",
       "      <td>-0.031863</td>\n",
       "      <td>-0.15631</td>\n",
       "      <td>-0.039654</td>\n",
       "      <td>-0.794874</td>\n",
       "      <td>1.082347</td>\n",
       "      <td>-1.814253</td>\n",
       "      <td>-0.063823</td>\n",
       "      <td>0.881236</td>\n",
       "      <td>-1.281964</td>\n",
       "      <td>0.948529</td>\n",
       "      <td>-0.031863</td>\n",
       "      <td>-0.948582</td>\n",
       "      <td>-0.363362</td>\n",
       "      <td>1.202768</td>\n",
       "      <td>-0.164570</td>\n",
       "      <td>-0.309121</td>\n",
       "      <td>-0.805499</td>\n",
       "      <td>-0.284851</td>\n",
       "      <td>-0.12429</td>\n",
       "      <td>-0.188982</td>\n",
       "      <td>-0.218681</td>\n",
       "      <td>4.927682</td>\n",
       "      <td>-0.545315</td>\n",
       "      <td>-0.055244</td>\n",
       "      <td>-0.132453</td>\n",
       "      <td>-0.177146</td>\n",
       "      <td>-0.055244</td>\n",
       "      <td>-0.699590</td>\n",
       "      <td>-0.761661</td>\n",
       "      <td>1.512173</td>\n",
       "      <td>0.0</td>\n",
       "    </tr>\n",
       "    <tr>\n",
       "      <th>1</th>\n",
       "      <td>-1.706372</td>\n",
       "      <td>-0.161231</td>\n",
       "      <td>-0.572577</td>\n",
       "      <td>-0.554658</td>\n",
       "      <td>-0.554658</td>\n",
       "      <td>-0.628702</td>\n",
       "      <td>-1.710281</td>\n",
       "      <td>-0.817722</td>\n",
       "      <td>-0.306473</td>\n",
       "      <td>-0.324679</td>\n",
       "      <td>-0.906273</td>\n",
       "      <td>-0.442383</td>\n",
       "      <td>-0.031863</td>\n",
       "      <td>-0.15631</td>\n",
       "      <td>-0.106365</td>\n",
       "      <td>-0.859867</td>\n",
       "      <td>-0.323706</td>\n",
       "      <td>-0.261957</td>\n",
       "      <td>-0.063823</td>\n",
       "      <td>0.881236</td>\n",
       "      <td>-1.281964</td>\n",
       "      <td>-0.107952</td>\n",
       "      <td>-0.031863</td>\n",
       "      <td>-0.948582</td>\n",
       "      <td>-0.363362</td>\n",
       "      <td>1.202768</td>\n",
       "      <td>-0.164570</td>\n",
       "      <td>-0.309121</td>\n",
       "      <td>-0.805499</td>\n",
       "      <td>-0.284851</td>\n",
       "      <td>-0.12429</td>\n",
       "      <td>-0.188982</td>\n",
       "      <td>-0.218681</td>\n",
       "      <td>-0.202935</td>\n",
       "      <td>1.833803</td>\n",
       "      <td>-0.055244</td>\n",
       "      <td>-0.132453</td>\n",
       "      <td>-0.177146</td>\n",
       "      <td>-0.055244</td>\n",
       "      <td>1.429409</td>\n",
       "      <td>-0.761661</td>\n",
       "      <td>-0.661300</td>\n",
       "      <td>0.0</td>\n",
       "    </tr>\n",
       "    <tr>\n",
       "      <th>2</th>\n",
       "      <td>0.237154</td>\n",
       "      <td>0.037836</td>\n",
       "      <td>-0.953746</td>\n",
       "      <td>-0.832409</td>\n",
       "      <td>-0.832409</td>\n",
       "      <td>1.340048</td>\n",
       "      <td>0.279158</td>\n",
       "      <td>-0.113553</td>\n",
       "      <td>-0.224269</td>\n",
       "      <td>-0.575234</td>\n",
       "      <td>-0.025894</td>\n",
       "      <td>-0.442383</td>\n",
       "      <td>-0.031863</td>\n",
       "      <td>-0.15631</td>\n",
       "      <td>-0.106365</td>\n",
       "      <td>-0.857026</td>\n",
       "      <td>3.894453</td>\n",
       "      <td>0.382842</td>\n",
       "      <td>-0.063823</td>\n",
       "      <td>0.881236</td>\n",
       "      <td>0.780053</td>\n",
       "      <td>-1.692673</td>\n",
       "      <td>-0.031863</td>\n",
       "      <td>-0.948582</td>\n",
       "      <td>-0.363362</td>\n",
       "      <td>1.202768</td>\n",
       "      <td>-0.164570</td>\n",
       "      <td>-0.309121</td>\n",
       "      <td>-0.805499</td>\n",
       "      <td>3.510602</td>\n",
       "      <td>-0.12429</td>\n",
       "      <td>-0.188982</td>\n",
       "      <td>-0.218681</td>\n",
       "      <td>-0.202935</td>\n",
       "      <td>-0.545315</td>\n",
       "      <td>-0.055244</td>\n",
       "      <td>-0.132453</td>\n",
       "      <td>-0.177146</td>\n",
       "      <td>-0.055244</td>\n",
       "      <td>-0.699590</td>\n",
       "      <td>1.312919</td>\n",
       "      <td>-0.661300</td>\n",
       "      <td>1.0</td>\n",
       "    </tr>\n",
       "    <tr>\n",
       "      <th>3</th>\n",
       "      <td>0.806329</td>\n",
       "      <td>-0.151278</td>\n",
       "      <td>-0.184372</td>\n",
       "      <td>0.556348</td>\n",
       "      <td>0.556348</td>\n",
       "      <td>1.340048</td>\n",
       "      <td>0.856971</td>\n",
       "      <td>-0.113553</td>\n",
       "      <td>-0.964107</td>\n",
       "      <td>-0.641515</td>\n",
       "      <td>-0.906273</td>\n",
       "      <td>-0.442383</td>\n",
       "      <td>-0.031863</td>\n",
       "      <td>-0.15631</td>\n",
       "      <td>-0.106365</td>\n",
       "      <td>-0.704978</td>\n",
       "      <td>-0.323706</td>\n",
       "      <td>-0.429128</td>\n",
       "      <td>-0.063823</td>\n",
       "      <td>0.881236</td>\n",
       "      <td>0.780053</td>\n",
       "      <td>-0.900312</td>\n",
       "      <td>-0.031863</td>\n",
       "      <td>-0.948582</td>\n",
       "      <td>-0.363362</td>\n",
       "      <td>1.202768</td>\n",
       "      <td>-0.164570</td>\n",
       "      <td>-0.309121</td>\n",
       "      <td>-0.805499</td>\n",
       "      <td>-0.284851</td>\n",
       "      <td>-0.12429</td>\n",
       "      <td>-0.188982</td>\n",
       "      <td>-0.218681</td>\n",
       "      <td>-0.202935</td>\n",
       "      <td>-0.545315</td>\n",
       "      <td>-0.055244</td>\n",
       "      <td>-0.132453</td>\n",
       "      <td>5.645057</td>\n",
       "      <td>-0.055244</td>\n",
       "      <td>1.429409</td>\n",
       "      <td>-0.761661</td>\n",
       "      <td>-0.661300</td>\n",
       "      <td>1.0</td>\n",
       "    </tr>\n",
       "    <tr>\n",
       "      <th>4</th>\n",
       "      <td>1.070094</td>\n",
       "      <td>-0.186115</td>\n",
       "      <td>0.938023</td>\n",
       "      <td>0.556348</td>\n",
       "      <td>0.556348</td>\n",
       "      <td>1.340048</td>\n",
       "      <td>1.124656</td>\n",
       "      <td>-0.113553</td>\n",
       "      <td>-0.470882</td>\n",
       "      <td>0.020928</td>\n",
       "      <td>-0.906273</td>\n",
       "      <td>-0.442383</td>\n",
       "      <td>-0.031863</td>\n",
       "      <td>-0.15631</td>\n",
       "      <td>-0.106365</td>\n",
       "      <td>0.498734</td>\n",
       "      <td>-0.323706</td>\n",
       "      <td>-0.644061</td>\n",
       "      <td>-0.063823</td>\n",
       "      <td>0.881236</td>\n",
       "      <td>0.780053</td>\n",
       "      <td>-1.428552</td>\n",
       "      <td>-0.031863</td>\n",
       "      <td>1.054205</td>\n",
       "      <td>-0.363362</td>\n",
       "      <td>-0.831416</td>\n",
       "      <td>6.076436</td>\n",
       "      <td>-0.309121</td>\n",
       "      <td>-0.805499</td>\n",
       "      <td>-0.284851</td>\n",
       "      <td>-0.12429</td>\n",
       "      <td>-0.188982</td>\n",
       "      <td>-0.218681</td>\n",
       "      <td>-0.202935</td>\n",
       "      <td>-0.545315</td>\n",
       "      <td>-0.055244</td>\n",
       "      <td>-0.132453</td>\n",
       "      <td>-0.177146</td>\n",
       "      <td>-0.055244</td>\n",
       "      <td>-0.699590</td>\n",
       "      <td>-0.761661</td>\n",
       "      <td>1.512173</td>\n",
       "      <td>0.0</td>\n",
       "    </tr>\n",
       "  </tbody>\n",
       "</table>\n",
       "</div>"
      ],
      "text/plain": [
       "   loan_amnt  annual_inc       dti  fico_range_low  fico_range_high  int_rate  \\\n",
       "0   0.126095   -0.171185  1.284007       -0.832409        -0.832409 -0.628702   \n",
       "1  -1.706372   -0.161231 -0.572577       -0.554658        -0.554658 -0.628702   \n",
       "2   0.237154    0.037836 -0.953746       -0.832409        -0.832409  1.340048   \n",
       "3   0.806329   -0.151278 -0.184372        0.556348         0.556348  1.340048   \n",
       "4   1.070094   -0.186115  0.938023        0.556348         0.556348  1.340048   \n",
       "\n",
       "   installment  open_acc  total_acc  revol_bal  inq_last_6mths  delinq_2yrs  \\\n",
       "0     0.113224 -0.289595  -1.128516  -0.366924       -0.906273    -0.442383   \n",
       "1    -1.710281 -0.817722  -0.306473  -0.324679       -0.906273    -0.442383   \n",
       "2     0.279158 -0.113553  -0.224269  -0.575234       -0.025894    -0.442383   \n",
       "3     0.856971 -0.113553  -0.964107  -0.641515       -0.906273    -0.442383   \n",
       "4     1.124656 -0.113553  -0.470882   0.020928       -0.906273    -0.442383   \n",
       "\n",
       "   acc_now_delinq  collections_12_mths_ex_med  tot_coll_amt  tot_cur_bal  \\\n",
       "0       -0.031863                    -0.15631     -0.039654    -0.794874   \n",
       "1       -0.031863                    -0.15631     -0.106365    -0.859867   \n",
       "2       -0.031863                    -0.15631     -0.106365    -0.857026   \n",
       "3       -0.031863                    -0.15631     -0.106365    -0.704978   \n",
       "4       -0.031863                    -0.15631     -0.106365     0.498734   \n",
       "\n",
       "    pub_rec  months_cr_line      term  initial_list_status  sub_grade  \\\n",
       "0  1.082347       -1.814253 -0.063823             0.881236  -1.281964   \n",
       "1 -0.323706       -0.261957 -0.063823             0.881236  -1.281964   \n",
       "2  3.894453        0.382842 -0.063823             0.881236   0.780053   \n",
       "3 -0.323706       -0.429128 -0.063823             0.881236   0.780053   \n",
       "4 -0.323706       -0.644061 -0.063823             0.881236   0.780053   \n",
       "\n",
       "   emp_length       ANY  MORTGAGE       OWN      RENT       car  credit_card  \\\n",
       "0    0.948529 -0.031863 -0.948582 -0.363362  1.202768 -0.164570    -0.309121   \n",
       "1   -0.107952 -0.031863 -0.948582 -0.363362  1.202768 -0.164570    -0.309121   \n",
       "2   -1.692673 -0.031863 -0.948582 -0.363362  1.202768 -0.164570    -0.309121   \n",
       "3   -0.900312 -0.031863 -0.948582 -0.363362  1.202768 -0.164570    -0.309121   \n",
       "4   -1.428552 -0.031863  1.054205 -0.363362 -0.831416  6.076436    -0.309121   \n",
       "\n",
       "   debt_consolidation  home_improvement    house  major_purchase   medical  \\\n",
       "0           -0.805499         -0.284851 -0.12429       -0.188982 -0.218681   \n",
       "1           -0.805499         -0.284851 -0.12429       -0.188982 -0.218681   \n",
       "2           -0.805499          3.510602 -0.12429       -0.188982 -0.218681   \n",
       "3           -0.805499         -0.284851 -0.12429       -0.188982 -0.218681   \n",
       "4           -0.805499         -0.284851 -0.12429       -0.188982 -0.218681   \n",
       "\n",
       "     moving     other  renewable_energy  small_business  vacation   wedding  \\\n",
       "0  4.927682 -0.545315         -0.055244       -0.132453 -0.177146 -0.055244   \n",
       "1 -0.202935  1.833803         -0.055244       -0.132453 -0.177146 -0.055244   \n",
       "2 -0.202935 -0.545315         -0.055244       -0.132453 -0.177146 -0.055244   \n",
       "3 -0.202935 -0.545315         -0.055244       -0.132453  5.645057 -0.055244   \n",
       "4 -0.202935 -0.545315         -0.055244       -0.132453 -0.177146 -0.055244   \n",
       "\n",
       "   Not Verified  Source Verified  Verified  loan_status_bin  \n",
       "0     -0.699590        -0.761661  1.512173              0.0  \n",
       "1      1.429409        -0.761661 -0.661300              0.0  \n",
       "2     -0.699590         1.312919 -0.661300              1.0  \n",
       "3      1.429409        -0.761661 -0.661300              1.0  \n",
       "4     -0.699590        -0.761661  1.512173              0.0  "
      ]
     },
     "execution_count": 4,
     "metadata": {},
     "output_type": "execute_result"
    }
   ],
   "source": [
    "data.head(5)"
   ]
  },
  {
   "cell_type": "code",
   "execution_count": 5,
   "id": "e2bc504c",
   "metadata": {},
   "outputs": [
    {
     "data": {
      "text/plain": [
       "(986, 43)"
      ]
     },
     "execution_count": 5,
     "metadata": {},
     "output_type": "execute_result"
    }
   ],
   "source": [
    "data.shape"
   ]
  },
  {
   "cell_type": "code",
   "execution_count": 6,
   "id": "79f7fea2",
   "metadata": {},
   "outputs": [
    {
     "data": {
      "text/plain": [
       "1.0    828\n",
       "0.0    158\n",
       "Name: loan_status_bin, dtype: int64"
      ]
     },
     "execution_count": 6,
     "metadata": {},
     "output_type": "execute_result"
    }
   ],
   "source": [
    "data.loan_status_bin.value_counts()"
   ]
  },
  {
   "cell_type": "code",
   "execution_count": 7,
   "id": "c5f95e95",
   "metadata": {},
   "outputs": [
    {
     "data": {
      "text/plain": [
       "0.8397565922920892"
      ]
     },
     "execution_count": 7,
     "metadata": {},
     "output_type": "execute_result"
    }
   ],
   "source": [
    "#Null Model (or random investment) will yield, 59.3% of picking a good loan: \n",
    "data.loan_status_bin.value_counts()[1] / len(data)"
   ]
  },
  {
   "cell_type": "code",
   "execution_count": 8,
   "id": "ff93c60b",
   "metadata": {},
   "outputs": [
    {
     "data": {
      "text/plain": [
       "(986, 42)"
      ]
     },
     "execution_count": 8,
     "metadata": {},
     "output_type": "execute_result"
    }
   ],
   "source": [
    "X = data.drop('loan_status_bin', axis=1)\n",
    "X.shape"
   ]
  },
  {
   "cell_type": "code",
   "execution_count": 9,
   "id": "d6f47bde",
   "metadata": {},
   "outputs": [],
   "source": [
    "y = data['loan_status_bin']"
   ]
  },
  {
   "cell_type": "code",
   "execution_count": 11,
   "id": "e41f44d6",
   "metadata": {},
   "outputs": [],
   "source": [
    "n_features = 5\n",
    "lr = LogisticRegression()\n",
    "sfs = SequentialFeatureSelector(lr, n_features_to_select=n_features)"
   ]
  },
  {
   "cell_type": "code",
   "execution_count": 12,
   "id": "b4eb8b6c",
   "metadata": {},
   "outputs": [
    {
     "data": {
      "text/html": [
       "<style>#sk-container-id-1 {color: black;background-color: white;}#sk-container-id-1 pre{padding: 0;}#sk-container-id-1 div.sk-toggleable {background-color: white;}#sk-container-id-1 label.sk-toggleable__label {cursor: pointer;display: block;width: 100%;margin-bottom: 0;padding: 0.3em;box-sizing: border-box;text-align: center;}#sk-container-id-1 label.sk-toggleable__label-arrow:before {content: \"▸\";float: left;margin-right: 0.25em;color: #696969;}#sk-container-id-1 label.sk-toggleable__label-arrow:hover:before {color: black;}#sk-container-id-1 div.sk-estimator:hover label.sk-toggleable__label-arrow:before {color: black;}#sk-container-id-1 div.sk-toggleable__content {max-height: 0;max-width: 0;overflow: hidden;text-align: left;background-color: #f0f8ff;}#sk-container-id-1 div.sk-toggleable__content pre {margin: 0.2em;color: black;border-radius: 0.25em;background-color: #f0f8ff;}#sk-container-id-1 input.sk-toggleable__control:checked~div.sk-toggleable__content {max-height: 200px;max-width: 100%;overflow: auto;}#sk-container-id-1 input.sk-toggleable__control:checked~label.sk-toggleable__label-arrow:before {content: \"▾\";}#sk-container-id-1 div.sk-estimator input.sk-toggleable__control:checked~label.sk-toggleable__label {background-color: #d4ebff;}#sk-container-id-1 div.sk-label input.sk-toggleable__control:checked~label.sk-toggleable__label {background-color: #d4ebff;}#sk-container-id-1 input.sk-hidden--visually {border: 0;clip: rect(1px 1px 1px 1px);clip: rect(1px, 1px, 1px, 1px);height: 1px;margin: -1px;overflow: hidden;padding: 0;position: absolute;width: 1px;}#sk-container-id-1 div.sk-estimator {font-family: monospace;background-color: #f0f8ff;border: 1px dotted black;border-radius: 0.25em;box-sizing: border-box;margin-bottom: 0.5em;}#sk-container-id-1 div.sk-estimator:hover {background-color: #d4ebff;}#sk-container-id-1 div.sk-parallel-item::after {content: \"\";width: 100%;border-bottom: 1px solid gray;flex-grow: 1;}#sk-container-id-1 div.sk-label:hover label.sk-toggleable__label {background-color: #d4ebff;}#sk-container-id-1 div.sk-serial::before {content: \"\";position: absolute;border-left: 1px solid gray;box-sizing: border-box;top: 0;bottom: 0;left: 50%;z-index: 0;}#sk-container-id-1 div.sk-serial {display: flex;flex-direction: column;align-items: center;background-color: white;padding-right: 0.2em;padding-left: 0.2em;position: relative;}#sk-container-id-1 div.sk-item {position: relative;z-index: 1;}#sk-container-id-1 div.sk-parallel {display: flex;align-items: stretch;justify-content: center;background-color: white;position: relative;}#sk-container-id-1 div.sk-item::before, #sk-container-id-1 div.sk-parallel-item::before {content: \"\";position: absolute;border-left: 1px solid gray;box-sizing: border-box;top: 0;bottom: 0;left: 50%;z-index: -1;}#sk-container-id-1 div.sk-parallel-item {display: flex;flex-direction: column;z-index: 1;position: relative;background-color: white;}#sk-container-id-1 div.sk-parallel-item:first-child::after {align-self: flex-end;width: 50%;}#sk-container-id-1 div.sk-parallel-item:last-child::after {align-self: flex-start;width: 50%;}#sk-container-id-1 div.sk-parallel-item:only-child::after {width: 0;}#sk-container-id-1 div.sk-dashed-wrapped {border: 1px dashed gray;margin: 0 0.4em 0.5em 0.4em;box-sizing: border-box;padding-bottom: 0.4em;background-color: white;}#sk-container-id-1 div.sk-label label {font-family: monospace;font-weight: bold;display: inline-block;line-height: 1.2em;}#sk-container-id-1 div.sk-label-container {text-align: center;}#sk-container-id-1 div.sk-container {/* jupyter's `normalize.less` sets `[hidden] { display: none; }` but bootstrap.min.css set `[hidden] { display: none !important; }` so we also need the `!important` here to be able to override the default hidden behavior on the sphinx rendered scikit-learn.org. See: https://github.com/scikit-learn/scikit-learn/issues/21755 */display: inline-block !important;position: relative;}#sk-container-id-1 div.sk-text-repr-fallback {display: none;}</style><div id=\"sk-container-id-1\" class=\"sk-top-container\"><div class=\"sk-text-repr-fallback\"><pre>SequentialFeatureSelector(estimator=LogisticRegression(),\n",
       "                          n_features_to_select=5)</pre><b>In a Jupyter environment, please rerun this cell to show the HTML representation or trust the notebook. <br />On GitHub, the HTML representation is unable to render, please try loading this page with nbviewer.org.</b></div><div class=\"sk-container\" hidden><div class=\"sk-item sk-dashed-wrapped\"><div class=\"sk-label-container\"><div class=\"sk-label sk-toggleable\"><input class=\"sk-toggleable__control sk-hidden--visually\" id=\"sk-estimator-id-1\" type=\"checkbox\" ><label for=\"sk-estimator-id-1\" class=\"sk-toggleable__label sk-toggleable__label-arrow\">SequentialFeatureSelector</label><div class=\"sk-toggleable__content\"><pre>SequentialFeatureSelector(estimator=LogisticRegression(),\n",
       "                          n_features_to_select=5)</pre></div></div></div><div class=\"sk-parallel\"><div class=\"sk-parallel-item\"><div class=\"sk-item\"><div class=\"sk-label-container\"><div class=\"sk-label sk-toggleable\"><input class=\"sk-toggleable__control sk-hidden--visually\" id=\"sk-estimator-id-2\" type=\"checkbox\" ><label for=\"sk-estimator-id-2\" class=\"sk-toggleable__label sk-toggleable__label-arrow\">estimator: LogisticRegression</label><div class=\"sk-toggleable__content\"><pre>LogisticRegression()</pre></div></div></div><div class=\"sk-serial\"><div class=\"sk-item\"><div class=\"sk-estimator sk-toggleable\"><input class=\"sk-toggleable__control sk-hidden--visually\" id=\"sk-estimator-id-3\" type=\"checkbox\" ><label for=\"sk-estimator-id-3\" class=\"sk-toggleable__label sk-toggleable__label-arrow\">LogisticRegression</label><div class=\"sk-toggleable__content\"><pre>LogisticRegression()</pre></div></div></div></div></div></div></div></div></div></div>"
      ],
      "text/plain": [
       "SequentialFeatureSelector(estimator=LogisticRegression(),\n",
       "                          n_features_to_select=5)"
      ]
     },
     "execution_count": 12,
     "metadata": {},
     "output_type": "execute_result"
    }
   ],
   "source": [
    "sfs.fit(X,y)"
   ]
  },
  {
   "cell_type": "code",
   "execution_count": 13,
   "id": "70c93071",
   "metadata": {},
   "outputs": [],
   "source": [
    "#sfs.get_support()"
   ]
  },
  {
   "cell_type": "code",
   "execution_count": 14,
   "id": "dbffd04e",
   "metadata": {},
   "outputs": [
    {
     "name": "stdout",
     "output_type": "stream",
     "text": [
      "Top 5 features selected by forward sequential selection:['loan_amnt', 'dti', 'fico_range_low', 'emp_length', 'small_business']\n"
     ]
    }
   ],
   "source": [
    "print(\"Top {} features selected by forward sequential selection:{}\"\\\n",
    "      .format(n_features, list(X.columns[sfs.get_support()])))\n"
   ]
  },
  {
   "cell_type": "code",
   "execution_count": 15,
   "id": "1f39da4f",
   "metadata": {},
   "outputs": [
    {
     "data": {
      "text/plain": [
       "['loan_amnt', 'dti', 'fico_range_low', 'emp_length', 'small_business']"
      ]
     },
     "execution_count": 15,
     "metadata": {},
     "output_type": "execute_result"
    }
   ],
   "source": [
    "feat = list(X.columns[sfs.get_support()])\n",
    "feat"
   ]
  },
  {
   "cell_type": "code",
   "execution_count": 16,
   "id": "d2d0e00e",
   "metadata": {},
   "outputs": [],
   "source": [
    "X_feat = data[feat]"
   ]
  },
  {
   "cell_type": "code",
   "execution_count": 17,
   "id": "eb0b2988",
   "metadata": {},
   "outputs": [
    {
     "data": {
      "text/plain": [
       "0      0.0\n",
       "1      0.0\n",
       "2      1.0\n",
       "3      1.0\n",
       "4      0.0\n",
       "      ... \n",
       "981    0.0\n",
       "982    0.0\n",
       "983    1.0\n",
       "984    1.0\n",
       "985    0.0\n",
       "Name: loan_status_bin, Length: 986, dtype: float64"
      ]
     },
     "execution_count": 17,
     "metadata": {},
     "output_type": "execute_result"
    }
   ],
   "source": [
    "y = data['loan_status_bin']\n",
    "y"
   ]
  },
  {
   "cell_type": "code",
   "execution_count": 18,
   "id": "a888c925",
   "metadata": {},
   "outputs": [],
   "source": [
    "lr_check = LogisticRegression()\n",
    "steps = [('model', lr_check)]\n",
    "pipeline = Pipeline(steps=steps)"
   ]
  },
  {
   "cell_type": "code",
   "execution_count": 19,
   "id": "0423b0b2",
   "metadata": {},
   "outputs": [
    {
     "name": "stdout",
     "output_type": "stream",
     "text": [
      "[0.83838384 0.84263959 0.84263959 0.84263959 0.84263959]\n",
      "0.8417884428036713\n"
     ]
    }
   ],
   "source": [
    "#Accuracy:\n",
    "\n",
    "cv = RepeatedStratifiedKFold(n_splits=5, n_repeats=1, random_state=1)\n",
    "scores = cross_val_score(pipeline, X_feat, y, scoring='accuracy', cv=cv, n_jobs=-1) \n",
    "print(scores)\n",
    "\n",
    "score = np.mean(scores)\n",
    "print(score)"
   ]
  },
  {
   "cell_type": "code",
   "execution_count": null,
   "id": "80613a5c",
   "metadata": {},
   "outputs": [],
   "source": []
  },
  {
   "cell_type": "code",
   "execution_count": 20,
   "id": "0e5c48bf",
   "metadata": {},
   "outputs": [],
   "source": [
    "from sklearn.ensemble import AdaBoostClassifier\n",
    "ada = AdaBoostClassifier()\n",
    "steps2 = [('model', ada)]\n",
    "pipeline2 = Pipeline(steps=steps2)"
   ]
  },
  {
   "cell_type": "code",
   "execution_count": 21,
   "id": "34d06f94",
   "metadata": {},
   "outputs": [
    {
     "name": "stdout",
     "output_type": "stream",
     "text": [
      "[0.83333333 0.82741117 0.84263959 0.82233503 0.83756345]\n",
      "0.8326565143824027\n"
     ]
    }
   ],
   "source": [
    "#Accuracy:\n",
    "\n",
    "cv = RepeatedStratifiedKFold(n_splits=5, n_repeats=1, random_state=1)\n",
    "scores = cross_val_score(pipeline2, X_feat, y, scoring='accuracy', cv=cv, n_jobs=-1) \n",
    "print(scores)\n",
    "\n",
    "score = np.mean(scores)\n",
    "print(score)"
   ]
  },
  {
   "cell_type": "code",
   "execution_count": null,
   "id": "379e763c",
   "metadata": {},
   "outputs": [],
   "source": []
  },
  {
   "cell_type": "code",
   "execution_count": 22,
   "id": "dd8bb743",
   "metadata": {},
   "outputs": [],
   "source": [
    "from sklearn.neural_network import MLPClassifier\n",
    "nn = MLPClassifier(alpha=1, max_iter=1000)\n",
    "steps3 = [('model', nn)]\n",
    "pipeline3 = Pipeline(steps=steps3)"
   ]
  },
  {
   "cell_type": "code",
   "execution_count": 23,
   "id": "69659651",
   "metadata": {},
   "outputs": [
    {
     "name": "stdout",
     "output_type": "stream",
     "text": [
      "[0.83838384 0.83756345 0.83756345 0.84263959 0.84263959]\n",
      "0.8397579859508794\n"
     ]
    }
   ],
   "source": [
    "#Accuracy:\n",
    "\n",
    "cv = RepeatedStratifiedKFold(n_splits=5, n_repeats=1, random_state=1)\n",
    "scores = cross_val_score(pipeline3, X_feat, y, scoring='accuracy', cv=cv, n_jobs=-1) \n",
    "print(scores)\n",
    "\n",
    "score = np.mean(scores)\n",
    "print(score)"
   ]
  },
  {
   "cell_type": "code",
   "execution_count": null,
   "id": "f5ed01b9",
   "metadata": {},
   "outputs": [],
   "source": []
  },
  {
   "cell_type": "code",
   "execution_count": 24,
   "id": "18cbf57c",
   "metadata": {},
   "outputs": [],
   "source": [
    "from sklearn.ensemble import GradientBoostingClassifier\n",
    "gb = GradientBoostingClassifier()\n",
    "steps4 = [('model', gb)]\n",
    "pipeline4 = Pipeline(steps=steps4)"
   ]
  },
  {
   "cell_type": "code",
   "execution_count": 25,
   "id": "82650289",
   "metadata": {},
   "outputs": [
    {
     "name": "stdout",
     "output_type": "stream",
     "text": [
      "[0.84848485 0.84263959 0.82233503 0.82741117 0.82233503]\n",
      "0.8326411321335179\n"
     ]
    }
   ],
   "source": [
    "#Accuracy:\n",
    "\n",
    "cv = RepeatedStratifiedKFold(n_splits=5, n_repeats=1, random_state=1)\n",
    "scores = cross_val_score(pipeline4, X_feat, y, scoring='accuracy', cv=cv, n_jobs=-1) \n",
    "print(scores)\n",
    "\n",
    "score = np.mean(scores)\n",
    "print(score)"
   ]
  },
  {
   "cell_type": "code",
   "execution_count": null,
   "id": "b095c060",
   "metadata": {},
   "outputs": [],
   "source": []
  },
  {
   "cell_type": "code",
   "execution_count": null,
   "id": "9df59e81",
   "metadata": {},
   "outputs": [],
   "source": []
  }
 ],
 "metadata": {
  "hide_input": false,
  "kernelspec": {
   "display_name": "Python 3 (ipykernel)",
   "language": "python",
   "name": "python3"
  },
  "language_info": {
   "codemirror_mode": {
    "name": "ipython",
    "version": 3
   },
   "file_extension": ".py",
   "mimetype": "text/x-python",
   "name": "python",
   "nbconvert_exporter": "python",
   "pygments_lexer": "ipython3",
   "version": "3.8.8"
  },
  "varInspector": {
   "cols": {
    "lenName": 16,
    "lenType": 16,
    "lenVar": 40
   },
   "kernels_config": {
    "python": {
     "delete_cmd_postfix": "",
     "delete_cmd_prefix": "del ",
     "library": "var_list.py",
     "varRefreshCmd": "print(var_dic_list())"
    },
    "r": {
     "delete_cmd_postfix": ") ",
     "delete_cmd_prefix": "rm(",
     "library": "var_list.r",
     "varRefreshCmd": "cat(var_dic_list()) "
    }
   },
   "types_to_exclude": [
    "module",
    "function",
    "builtin_function_or_method",
    "instance",
    "_Feature"
   ],
   "window_display": false
  }
 },
 "nbformat": 4,
 "nbformat_minor": 5
}
