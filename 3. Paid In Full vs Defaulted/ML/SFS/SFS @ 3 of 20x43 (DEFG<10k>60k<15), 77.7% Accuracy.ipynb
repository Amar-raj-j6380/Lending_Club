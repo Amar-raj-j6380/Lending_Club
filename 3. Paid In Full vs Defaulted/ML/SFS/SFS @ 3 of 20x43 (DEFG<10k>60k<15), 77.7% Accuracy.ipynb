{
 "cells": [
  {
   "cell_type": "code",
   "execution_count": 1,
   "id": "891650eb",
   "metadata": {},
   "outputs": [],
   "source": [
    "import pandas as pd\n",
    "from sklearn.linear_model import LogisticRegression\n",
    "from sklearn.feature_selection import SequentialFeatureSelector\n",
    "\n",
    "from imblearn.pipeline import Pipeline\n",
    "from sklearn.model_selection import RepeatedStratifiedKFold, cross_val_score"
   ]
  },
  {
   "cell_type": "code",
   "execution_count": 2,
   "id": "75e9e0cb",
   "metadata": {},
   "outputs": [],
   "source": [
    "pd.set_option(\"display.max_columns\", 200)\n",
    "pd.set_option(\"display.max_row\", 160)\n",
    "pd.set_option('max_colwidth', 200)"
   ]
  },
  {
   "cell_type": "code",
   "execution_count": 3,
   "id": "e4071527",
   "metadata": {},
   "outputs": [],
   "source": [
    "data = pd.read_csv('../../Data/20x43_D106015.csv')"
   ]
  },
  {
   "cell_type": "code",
   "execution_count": 4,
   "id": "b397a6b0",
   "metadata": {},
   "outputs": [
    {
     "data": {
      "text/html": [
       "<div>\n",
       "<style scoped>\n",
       "    .dataframe tbody tr th:only-of-type {\n",
       "        vertical-align: middle;\n",
       "    }\n",
       "\n",
       "    .dataframe tbody tr th {\n",
       "        vertical-align: top;\n",
       "    }\n",
       "\n",
       "    .dataframe thead th {\n",
       "        text-align: right;\n",
       "    }\n",
       "</style>\n",
       "<table border=\"1\" class=\"dataframe\">\n",
       "  <thead>\n",
       "    <tr style=\"text-align: right;\">\n",
       "      <th></th>\n",
       "      <th>loan_amnt</th>\n",
       "      <th>annual_inc</th>\n",
       "      <th>dti</th>\n",
       "      <th>fico_range_low</th>\n",
       "      <th>fico_range_high</th>\n",
       "      <th>int_rate</th>\n",
       "      <th>installment</th>\n",
       "      <th>open_acc</th>\n",
       "      <th>total_acc</th>\n",
       "      <th>revol_bal</th>\n",
       "      <th>revol_util</th>\n",
       "      <th>inq_last_6mths</th>\n",
       "      <th>delinq_2yrs</th>\n",
       "      <th>mths_since_last_delinq</th>\n",
       "      <th>acc_now_delinq</th>\n",
       "      <th>collections_12_mths_ex_med</th>\n",
       "      <th>tot_coll_amt</th>\n",
       "      <th>tot_cur_bal</th>\n",
       "      <th>pub_rec</th>\n",
       "      <th>months_cr_line</th>\n",
       "      <th>term</th>\n",
       "      <th>initial_list_status</th>\n",
       "      <th>sub_grade</th>\n",
       "      <th>emp_length</th>\n",
       "      <th>MORTGAGE</th>\n",
       "      <th>OWN</th>\n",
       "      <th>RENT</th>\n",
       "      <th>car</th>\n",
       "      <th>credit_card</th>\n",
       "      <th>debt_consolidation</th>\n",
       "      <th>home_improvement</th>\n",
       "      <th>house</th>\n",
       "      <th>major_purchase</th>\n",
       "      <th>medical</th>\n",
       "      <th>moving</th>\n",
       "      <th>other</th>\n",
       "      <th>renewable_energy</th>\n",
       "      <th>small_business</th>\n",
       "      <th>vacation</th>\n",
       "      <th>Not Verified</th>\n",
       "      <th>Source Verified</th>\n",
       "      <th>Verified</th>\n",
       "      <th>loan_status_bin</th>\n",
       "    </tr>\n",
       "  </thead>\n",
       "  <tbody>\n",
       "    <tr>\n",
       "      <th>0</th>\n",
       "      <td>-1.710264</td>\n",
       "      <td>-0.170493</td>\n",
       "      <td>0.829172</td>\n",
       "      <td>-0.425785</td>\n",
       "      <td>-0.425785</td>\n",
       "      <td>-0.643790</td>\n",
       "      <td>-1.712281</td>\n",
       "      <td>-0.534592</td>\n",
       "      <td>0.045671</td>\n",
       "      <td>0.052599</td>\n",
       "      <td>0.324558</td>\n",
       "      <td>-0.938786</td>\n",
       "      <td>-0.475411</td>\n",
       "      <td>0.653234</td>\n",
       "      <td>-0.074813</td>\n",
       "      <td>-0.169192</td>\n",
       "      <td>-0.105946</td>\n",
       "      <td>-0.604541</td>\n",
       "      <td>-0.392733</td>\n",
       "      <td>-0.077399</td>\n",
       "      <td>-0.074813</td>\n",
       "      <td>0.902671</td>\n",
       "      <td>-1.424110</td>\n",
       "      <td>0.045419</td>\n",
       "      <td>-0.752901</td>\n",
       "      <td>-0.392652</td>\n",
       "      <td>0.990766</td>\n",
       "      <td>-0.169192</td>\n",
       "      <td>-0.312665</td>\n",
       "      <td>-0.885871</td>\n",
       "      <td>-0.271487</td>\n",
       "      <td>-0.114708</td>\n",
       "      <td>-0.215875</td>\n",
       "      <td>-0.185873</td>\n",
       "      <td>-0.19115</td>\n",
       "      <td>1.963633</td>\n",
       "      <td>-0.043113</td>\n",
       "      <td>-0.144338</td>\n",
       "      <td>-0.144338</td>\n",
       "      <td>1.296762</td>\n",
       "      <td>-0.758962</td>\n",
       "      <td>-0.595207</td>\n",
       "      <td>0.0</td>\n",
       "    </tr>\n",
       "    <tr>\n",
       "      <th>1</th>\n",
       "      <td>-0.220640</td>\n",
       "      <td>-0.022381</td>\n",
       "      <td>-0.004694</td>\n",
       "      <td>-0.713738</td>\n",
       "      <td>-0.713738</td>\n",
       "      <td>1.352522</td>\n",
       "      <td>-0.187752</td>\n",
       "      <td>0.281683</td>\n",
       "      <td>0.133276</td>\n",
       "      <td>-0.375976</td>\n",
       "      <td>-0.664238</td>\n",
       "      <td>-0.094035</td>\n",
       "      <td>-0.475411</td>\n",
       "      <td>1.318457</td>\n",
       "      <td>-0.074813</td>\n",
       "      <td>-0.169192</td>\n",
       "      <td>-0.105946</td>\n",
       "      <td>-0.601645</td>\n",
       "      <td>3.601285</td>\n",
       "      <td>0.605054</td>\n",
       "      <td>-0.074813</td>\n",
       "      <td>0.902671</td>\n",
       "      <td>0.702193</td>\n",
       "      <td>-1.568703</td>\n",
       "      <td>-0.752901</td>\n",
       "      <td>-0.392652</td>\n",
       "      <td>0.990766</td>\n",
       "      <td>-0.169192</td>\n",
       "      <td>-0.312665</td>\n",
       "      <td>-0.885871</td>\n",
       "      <td>3.683418</td>\n",
       "      <td>-0.114708</td>\n",
       "      <td>-0.215875</td>\n",
       "      <td>-0.185873</td>\n",
       "      <td>-0.19115</td>\n",
       "      <td>-0.509260</td>\n",
       "      <td>-0.043113</td>\n",
       "      <td>-0.144338</td>\n",
       "      <td>-0.144338</td>\n",
       "      <td>-0.771151</td>\n",
       "      <td>1.317589</td>\n",
       "      <td>-0.595207</td>\n",
       "      <td>1.0</td>\n",
       "    </tr>\n",
       "    <tr>\n",
       "      <th>2</th>\n",
       "      <td>-1.071854</td>\n",
       "      <td>0.240519</td>\n",
       "      <td>0.629044</td>\n",
       "      <td>-0.425785</td>\n",
       "      <td>-0.425785</td>\n",
       "      <td>1.352522</td>\n",
       "      <td>-1.051675</td>\n",
       "      <td>-0.738661</td>\n",
       "      <td>-1.005580</td>\n",
       "      <td>1.311539</td>\n",
       "      <td>1.802279</td>\n",
       "      <td>-0.938786</td>\n",
       "      <td>-0.475411</td>\n",
       "      <td>2.601388</td>\n",
       "      <td>-0.074813</td>\n",
       "      <td>-0.169192</td>\n",
       "      <td>-0.105946</td>\n",
       "      <td>-0.395169</td>\n",
       "      <td>-0.392733</td>\n",
       "      <td>2.930452</td>\n",
       "      <td>-0.074813</td>\n",
       "      <td>0.902671</td>\n",
       "      <td>0.702193</td>\n",
       "      <td>-0.223601</td>\n",
       "      <td>-0.752901</td>\n",
       "      <td>2.546784</td>\n",
       "      <td>-1.009320</td>\n",
       "      <td>-0.169192</td>\n",
       "      <td>-0.312665</td>\n",
       "      <td>-0.885871</td>\n",
       "      <td>-0.271487</td>\n",
       "      <td>-0.114708</td>\n",
       "      <td>-0.215875</td>\n",
       "      <td>-0.185873</td>\n",
       "      <td>-0.19115</td>\n",
       "      <td>1.963633</td>\n",
       "      <td>-0.043113</td>\n",
       "      <td>-0.144338</td>\n",
       "      <td>-0.144338</td>\n",
       "      <td>-0.771151</td>\n",
       "      <td>-0.758962</td>\n",
       "      <td>1.680088</td>\n",
       "      <td>0.0</td>\n",
       "    </tr>\n",
       "    <tr>\n",
       "      <th>3</th>\n",
       "      <td>-0.220640</td>\n",
       "      <td>0.014648</td>\n",
       "      <td>0.680359</td>\n",
       "      <td>0.150120</td>\n",
       "      <td>0.150120</td>\n",
       "      <td>1.352522</td>\n",
       "      <td>-0.187752</td>\n",
       "      <td>1.506095</td>\n",
       "      <td>0.746505</td>\n",
       "      <td>2.320996</td>\n",
       "      <td>0.561723</td>\n",
       "      <td>-0.938786</td>\n",
       "      <td>-0.475411</td>\n",
       "      <td>-0.914792</td>\n",
       "      <td>-0.074813</td>\n",
       "      <td>-0.169192</td>\n",
       "      <td>-0.105946</td>\n",
       "      <td>1.111594</td>\n",
       "      <td>-0.392733</td>\n",
       "      <td>-0.671386</td>\n",
       "      <td>-0.074813</td>\n",
       "      <td>-1.107823</td>\n",
       "      <td>0.702193</td>\n",
       "      <td>-0.223601</td>\n",
       "      <td>1.328195</td>\n",
       "      <td>-0.392652</td>\n",
       "      <td>-1.009320</td>\n",
       "      <td>-0.169192</td>\n",
       "      <td>-0.312665</td>\n",
       "      <td>-0.885871</td>\n",
       "      <td>-0.271487</td>\n",
       "      <td>-0.114708</td>\n",
       "      <td>-0.215875</td>\n",
       "      <td>5.380004</td>\n",
       "      <td>-0.19115</td>\n",
       "      <td>-0.509260</td>\n",
       "      <td>-0.043113</td>\n",
       "      <td>-0.144338</td>\n",
       "      <td>-0.144338</td>\n",
       "      <td>-0.771151</td>\n",
       "      <td>1.317589</td>\n",
       "      <td>-0.595207</td>\n",
       "      <td>0.0</td>\n",
       "    </tr>\n",
       "    <tr>\n",
       "      <th>4</th>\n",
       "      <td>-0.305762</td>\n",
       "      <td>-0.194784</td>\n",
       "      <td>1.090877</td>\n",
       "      <td>-0.425785</td>\n",
       "      <td>-0.425785</td>\n",
       "      <td>1.352522</td>\n",
       "      <td>-0.274111</td>\n",
       "      <td>1.506095</td>\n",
       "      <td>1.972965</td>\n",
       "      <td>-0.350852</td>\n",
       "      <td>-0.631400</td>\n",
       "      <td>0.750715</td>\n",
       "      <td>-0.475411</td>\n",
       "      <td>2.126228</td>\n",
       "      <td>-0.074813</td>\n",
       "      <td>-0.169192</td>\n",
       "      <td>0.113927</td>\n",
       "      <td>0.117630</td>\n",
       "      <td>-0.392733</td>\n",
       "      <td>-0.077399</td>\n",
       "      <td>-0.074813</td>\n",
       "      <td>0.902671</td>\n",
       "      <td>0.702193</td>\n",
       "      <td>-1.568703</td>\n",
       "      <td>-0.752901</td>\n",
       "      <td>2.546784</td>\n",
       "      <td>-1.009320</td>\n",
       "      <td>-0.169192</td>\n",
       "      <td>-0.312665</td>\n",
       "      <td>1.128832</td>\n",
       "      <td>-0.271487</td>\n",
       "      <td>-0.114708</td>\n",
       "      <td>-0.215875</td>\n",
       "      <td>-0.185873</td>\n",
       "      <td>-0.19115</td>\n",
       "      <td>-0.509260</td>\n",
       "      <td>-0.043113</td>\n",
       "      <td>-0.144338</td>\n",
       "      <td>-0.144338</td>\n",
       "      <td>-0.771151</td>\n",
       "      <td>-0.758962</td>\n",
       "      <td>1.680088</td>\n",
       "      <td>1.0</td>\n",
       "    </tr>\n",
       "  </tbody>\n",
       "</table>\n",
       "</div>"
      ],
      "text/plain": [
       "   loan_amnt  annual_inc       dti  fico_range_low  fico_range_high  int_rate  \\\n",
       "0  -1.710264   -0.170493  0.829172       -0.425785        -0.425785 -0.643790   \n",
       "1  -0.220640   -0.022381 -0.004694       -0.713738        -0.713738  1.352522   \n",
       "2  -1.071854    0.240519  0.629044       -0.425785        -0.425785  1.352522   \n",
       "3  -0.220640    0.014648  0.680359        0.150120         0.150120  1.352522   \n",
       "4  -0.305762   -0.194784  1.090877       -0.425785        -0.425785  1.352522   \n",
       "\n",
       "   installment  open_acc  total_acc  revol_bal  revol_util  inq_last_6mths  \\\n",
       "0    -1.712281 -0.534592   0.045671   0.052599    0.324558       -0.938786   \n",
       "1    -0.187752  0.281683   0.133276  -0.375976   -0.664238       -0.094035   \n",
       "2    -1.051675 -0.738661  -1.005580   1.311539    1.802279       -0.938786   \n",
       "3    -0.187752  1.506095   0.746505   2.320996    0.561723       -0.938786   \n",
       "4    -0.274111  1.506095   1.972965  -0.350852   -0.631400        0.750715   \n",
       "\n",
       "   delinq_2yrs  mths_since_last_delinq  acc_now_delinq  \\\n",
       "0    -0.475411                0.653234       -0.074813   \n",
       "1    -0.475411                1.318457       -0.074813   \n",
       "2    -0.475411                2.601388       -0.074813   \n",
       "3    -0.475411               -0.914792       -0.074813   \n",
       "4    -0.475411                2.126228       -0.074813   \n",
       "\n",
       "   collections_12_mths_ex_med  tot_coll_amt  tot_cur_bal   pub_rec  \\\n",
       "0                   -0.169192     -0.105946    -0.604541 -0.392733   \n",
       "1                   -0.169192     -0.105946    -0.601645  3.601285   \n",
       "2                   -0.169192     -0.105946    -0.395169 -0.392733   \n",
       "3                   -0.169192     -0.105946     1.111594 -0.392733   \n",
       "4                   -0.169192      0.113927     0.117630 -0.392733   \n",
       "\n",
       "   months_cr_line      term  initial_list_status  sub_grade  emp_length  \\\n",
       "0       -0.077399 -0.074813             0.902671  -1.424110    0.045419   \n",
       "1        0.605054 -0.074813             0.902671   0.702193   -1.568703   \n",
       "2        2.930452 -0.074813             0.902671   0.702193   -0.223601   \n",
       "3       -0.671386 -0.074813            -1.107823   0.702193   -0.223601   \n",
       "4       -0.077399 -0.074813             0.902671   0.702193   -1.568703   \n",
       "\n",
       "   MORTGAGE       OWN      RENT       car  credit_card  debt_consolidation  \\\n",
       "0 -0.752901 -0.392652  0.990766 -0.169192    -0.312665           -0.885871   \n",
       "1 -0.752901 -0.392652  0.990766 -0.169192    -0.312665           -0.885871   \n",
       "2 -0.752901  2.546784 -1.009320 -0.169192    -0.312665           -0.885871   \n",
       "3  1.328195 -0.392652 -1.009320 -0.169192    -0.312665           -0.885871   \n",
       "4 -0.752901  2.546784 -1.009320 -0.169192    -0.312665            1.128832   \n",
       "\n",
       "   home_improvement     house  major_purchase   medical   moving     other  \\\n",
       "0         -0.271487 -0.114708       -0.215875 -0.185873 -0.19115  1.963633   \n",
       "1          3.683418 -0.114708       -0.215875 -0.185873 -0.19115 -0.509260   \n",
       "2         -0.271487 -0.114708       -0.215875 -0.185873 -0.19115  1.963633   \n",
       "3         -0.271487 -0.114708       -0.215875  5.380004 -0.19115 -0.509260   \n",
       "4         -0.271487 -0.114708       -0.215875 -0.185873 -0.19115 -0.509260   \n",
       "\n",
       "   renewable_energy  small_business  vacation  Not Verified  Source Verified  \\\n",
       "0         -0.043113       -0.144338 -0.144338      1.296762        -0.758962   \n",
       "1         -0.043113       -0.144338 -0.144338     -0.771151         1.317589   \n",
       "2         -0.043113       -0.144338 -0.144338     -0.771151        -0.758962   \n",
       "3         -0.043113       -0.144338 -0.144338     -0.771151         1.317589   \n",
       "4         -0.043113       -0.144338 -0.144338     -0.771151        -0.758962   \n",
       "\n",
       "   Verified  loan_status_bin  \n",
       "0 -0.595207              0.0  \n",
       "1 -0.595207              1.0  \n",
       "2  1.680088              0.0  \n",
       "3 -0.595207              0.0  \n",
       "4  1.680088              1.0  "
      ]
     },
     "execution_count": 4,
     "metadata": {},
     "output_type": "execute_result"
    }
   ],
   "source": [
    "data.head(5)"
   ]
  },
  {
   "cell_type": "code",
   "execution_count": 5,
   "id": "e2bc504c",
   "metadata": {},
   "outputs": [
    {
     "data": {
      "text/plain": [
       "(539, 43)"
      ]
     },
     "execution_count": 5,
     "metadata": {},
     "output_type": "execute_result"
    }
   ],
   "source": [
    "data.shape"
   ]
  },
  {
   "cell_type": "code",
   "execution_count": 6,
   "id": "79f7fea2",
   "metadata": {},
   "outputs": [
    {
     "data": {
      "text/plain": [
       "1.0    461\n",
       "0.0     78\n",
       "Name: loan_status_bin, dtype: int64"
      ]
     },
     "execution_count": 6,
     "metadata": {},
     "output_type": "execute_result"
    }
   ],
   "source": [
    "data.loan_status_bin.value_counts()"
   ]
  },
  {
   "cell_type": "code",
   "execution_count": 7,
   "id": "c5f95e95",
   "metadata": {},
   "outputs": [
    {
     "data": {
      "text/plain": [
       "0.8552875695732839"
      ]
     },
     "execution_count": 7,
     "metadata": {},
     "output_type": "execute_result"
    }
   ],
   "source": [
    "#Null Model (or random investment) will yield, 59.3% of picking a good loan: \n",
    "data.loan_status_bin.value_counts()[1] / len(data)"
   ]
  },
  {
   "cell_type": "code",
   "execution_count": 8,
   "id": "ff93c60b",
   "metadata": {},
   "outputs": [
    {
     "data": {
      "text/plain": [
       "(539, 42)"
      ]
     },
     "execution_count": 8,
     "metadata": {},
     "output_type": "execute_result"
    }
   ],
   "source": [
    "X = data.drop('loan_status_bin', axis=1)\n",
    "X.shape"
   ]
  },
  {
   "cell_type": "code",
   "execution_count": 9,
   "id": "d6f47bde",
   "metadata": {},
   "outputs": [],
   "source": [
    "y = data['loan_status_bin']"
   ]
  },
  {
   "cell_type": "code",
   "execution_count": 10,
   "id": "e41f44d6",
   "metadata": {},
   "outputs": [],
   "source": [
    "n_features = 3\n",
    "lr = LogisticRegression()\n",
    "sfs = SequentialFeatureSelector(lr, n_features_to_select=n_features)"
   ]
  },
  {
   "cell_type": "code",
   "execution_count": 11,
   "id": "b4eb8b6c",
   "metadata": {},
   "outputs": [
    {
     "data": {
      "text/html": [
       "<style>#sk-container-id-1 {color: black;background-color: white;}#sk-container-id-1 pre{padding: 0;}#sk-container-id-1 div.sk-toggleable {background-color: white;}#sk-container-id-1 label.sk-toggleable__label {cursor: pointer;display: block;width: 100%;margin-bottom: 0;padding: 0.3em;box-sizing: border-box;text-align: center;}#sk-container-id-1 label.sk-toggleable__label-arrow:before {content: \"▸\";float: left;margin-right: 0.25em;color: #696969;}#sk-container-id-1 label.sk-toggleable__label-arrow:hover:before {color: black;}#sk-container-id-1 div.sk-estimator:hover label.sk-toggleable__label-arrow:before {color: black;}#sk-container-id-1 div.sk-toggleable__content {max-height: 0;max-width: 0;overflow: hidden;text-align: left;background-color: #f0f8ff;}#sk-container-id-1 div.sk-toggleable__content pre {margin: 0.2em;color: black;border-radius: 0.25em;background-color: #f0f8ff;}#sk-container-id-1 input.sk-toggleable__control:checked~div.sk-toggleable__content {max-height: 200px;max-width: 100%;overflow: auto;}#sk-container-id-1 input.sk-toggleable__control:checked~label.sk-toggleable__label-arrow:before {content: \"▾\";}#sk-container-id-1 div.sk-estimator input.sk-toggleable__control:checked~label.sk-toggleable__label {background-color: #d4ebff;}#sk-container-id-1 div.sk-label input.sk-toggleable__control:checked~label.sk-toggleable__label {background-color: #d4ebff;}#sk-container-id-1 input.sk-hidden--visually {border: 0;clip: rect(1px 1px 1px 1px);clip: rect(1px, 1px, 1px, 1px);height: 1px;margin: -1px;overflow: hidden;padding: 0;position: absolute;width: 1px;}#sk-container-id-1 div.sk-estimator {font-family: monospace;background-color: #f0f8ff;border: 1px dotted black;border-radius: 0.25em;box-sizing: border-box;margin-bottom: 0.5em;}#sk-container-id-1 div.sk-estimator:hover {background-color: #d4ebff;}#sk-container-id-1 div.sk-parallel-item::after {content: \"\";width: 100%;border-bottom: 1px solid gray;flex-grow: 1;}#sk-container-id-1 div.sk-label:hover label.sk-toggleable__label {background-color: #d4ebff;}#sk-container-id-1 div.sk-serial::before {content: \"\";position: absolute;border-left: 1px solid gray;box-sizing: border-box;top: 0;bottom: 0;left: 50%;z-index: 0;}#sk-container-id-1 div.sk-serial {display: flex;flex-direction: column;align-items: center;background-color: white;padding-right: 0.2em;padding-left: 0.2em;position: relative;}#sk-container-id-1 div.sk-item {position: relative;z-index: 1;}#sk-container-id-1 div.sk-parallel {display: flex;align-items: stretch;justify-content: center;background-color: white;position: relative;}#sk-container-id-1 div.sk-item::before, #sk-container-id-1 div.sk-parallel-item::before {content: \"\";position: absolute;border-left: 1px solid gray;box-sizing: border-box;top: 0;bottom: 0;left: 50%;z-index: -1;}#sk-container-id-1 div.sk-parallel-item {display: flex;flex-direction: column;z-index: 1;position: relative;background-color: white;}#sk-container-id-1 div.sk-parallel-item:first-child::after {align-self: flex-end;width: 50%;}#sk-container-id-1 div.sk-parallel-item:last-child::after {align-self: flex-start;width: 50%;}#sk-container-id-1 div.sk-parallel-item:only-child::after {width: 0;}#sk-container-id-1 div.sk-dashed-wrapped {border: 1px dashed gray;margin: 0 0.4em 0.5em 0.4em;box-sizing: border-box;padding-bottom: 0.4em;background-color: white;}#sk-container-id-1 div.sk-label label {font-family: monospace;font-weight: bold;display: inline-block;line-height: 1.2em;}#sk-container-id-1 div.sk-label-container {text-align: center;}#sk-container-id-1 div.sk-container {/* jupyter's `normalize.less` sets `[hidden] { display: none; }` but bootstrap.min.css set `[hidden] { display: none !important; }` so we also need the `!important` here to be able to override the default hidden behavior on the sphinx rendered scikit-learn.org. See: https://github.com/scikit-learn/scikit-learn/issues/21755 */display: inline-block !important;position: relative;}#sk-container-id-1 div.sk-text-repr-fallback {display: none;}</style><div id=\"sk-container-id-1\" class=\"sk-top-container\"><div class=\"sk-text-repr-fallback\"><pre>SequentialFeatureSelector(estimator=LogisticRegression(),\n",
       "                          n_features_to_select=3)</pre><b>In a Jupyter environment, please rerun this cell to show the HTML representation or trust the notebook. <br />On GitHub, the HTML representation is unable to render, please try loading this page with nbviewer.org.</b></div><div class=\"sk-container\" hidden><div class=\"sk-item sk-dashed-wrapped\"><div class=\"sk-label-container\"><div class=\"sk-label sk-toggleable\"><input class=\"sk-toggleable__control sk-hidden--visually\" id=\"sk-estimator-id-1\" type=\"checkbox\" ><label for=\"sk-estimator-id-1\" class=\"sk-toggleable__label sk-toggleable__label-arrow\">SequentialFeatureSelector</label><div class=\"sk-toggleable__content\"><pre>SequentialFeatureSelector(estimator=LogisticRegression(),\n",
       "                          n_features_to_select=3)</pre></div></div></div><div class=\"sk-parallel\"><div class=\"sk-parallel-item\"><div class=\"sk-item\"><div class=\"sk-label-container\"><div class=\"sk-label sk-toggleable\"><input class=\"sk-toggleable__control sk-hidden--visually\" id=\"sk-estimator-id-2\" type=\"checkbox\" ><label for=\"sk-estimator-id-2\" class=\"sk-toggleable__label sk-toggleable__label-arrow\">estimator: LogisticRegression</label><div class=\"sk-toggleable__content\"><pre>LogisticRegression()</pre></div></div></div><div class=\"sk-serial\"><div class=\"sk-item\"><div class=\"sk-estimator sk-toggleable\"><input class=\"sk-toggleable__control sk-hidden--visually\" id=\"sk-estimator-id-3\" type=\"checkbox\" ><label for=\"sk-estimator-id-3\" class=\"sk-toggleable__label sk-toggleable__label-arrow\">LogisticRegression</label><div class=\"sk-toggleable__content\"><pre>LogisticRegression()</pre></div></div></div></div></div></div></div></div></div></div>"
      ],
      "text/plain": [
       "SequentialFeatureSelector(estimator=LogisticRegression(),\n",
       "                          n_features_to_select=3)"
      ]
     },
     "execution_count": 11,
     "metadata": {},
     "output_type": "execute_result"
    }
   ],
   "source": [
    "sfs.fit(X,y)"
   ]
  },
  {
   "cell_type": "code",
   "execution_count": 12,
   "id": "70c93071",
   "metadata": {},
   "outputs": [],
   "source": [
    "#sfs.get_support()"
   ]
  },
  {
   "cell_type": "code",
   "execution_count": 13,
   "id": "dbffd04e",
   "metadata": {},
   "outputs": [
    {
     "name": "stdout",
     "output_type": "stream",
     "text": [
      "Top 3 features selected by forward sequential selection:['loan_amnt', 'annual_inc', 'dti']\n"
     ]
    }
   ],
   "source": [
    "print(\"Top {} features selected by forward sequential selection:{}\"\\\n",
    "      .format(n_features, list(X.columns[sfs.get_support()])))\n"
   ]
  },
  {
   "cell_type": "code",
   "execution_count": 14,
   "id": "1f39da4f",
   "metadata": {},
   "outputs": [
    {
     "data": {
      "text/plain": [
       "['loan_amnt', 'annual_inc', 'dti']"
      ]
     },
     "execution_count": 14,
     "metadata": {},
     "output_type": "execute_result"
    }
   ],
   "source": [
    "feat = list(X.columns[sfs.get_support()])\n",
    "feat"
   ]
  },
  {
   "cell_type": "code",
   "execution_count": 15,
   "id": "d2d0e00e",
   "metadata": {},
   "outputs": [],
   "source": [
    "X_feat = data[feat]"
   ]
  },
  {
   "cell_type": "code",
   "execution_count": 16,
   "id": "eb0b2988",
   "metadata": {},
   "outputs": [
    {
     "data": {
      "text/plain": [
       "0      0.0\n",
       "1      1.0\n",
       "2      0.0\n",
       "3      0.0\n",
       "4      1.0\n",
       "      ... \n",
       "534    1.0\n",
       "535    1.0\n",
       "536    1.0\n",
       "537    1.0\n",
       "538    0.0\n",
       "Name: loan_status_bin, Length: 539, dtype: float64"
      ]
     },
     "execution_count": 16,
     "metadata": {},
     "output_type": "execute_result"
    }
   ],
   "source": [
    "y = data['loan_status_bin']\n",
    "y"
   ]
  },
  {
   "cell_type": "code",
   "execution_count": 17,
   "id": "a888c925",
   "metadata": {},
   "outputs": [],
   "source": [
    "lr_check = LogisticRegression()\n",
    "steps = [('model', lr_check)]\n",
    "pipeline = Pipeline(steps=steps)"
   ]
  },
  {
   "cell_type": "code",
   "execution_count": 18,
   "id": "0423b0b2",
   "metadata": {},
   "outputs": [
    {
     "name": "stdout",
     "output_type": "stream",
     "text": [
      "[0.85185185 0.85185185 0.85185185 0.86111111 0.85981308]\n",
      "0.8552959501557632\n"
     ]
    }
   ],
   "source": [
    "#Accuracy:\n",
    "\n",
    "cv = RepeatedStratifiedKFold(n_splits=5, n_repeats=1, random_state=1)\n",
    "scores = cross_val_score(pipeline, X_feat, y, scoring='accuracy', cv=cv, n_jobs=-1) \n",
    "print(scores)\n",
    "\n",
    "score = np.mean(scores)\n",
    "print(score)"
   ]
  },
  {
   "cell_type": "code",
   "execution_count": null,
   "id": "80613a5c",
   "metadata": {},
   "outputs": [],
   "source": []
  },
  {
   "cell_type": "code",
   "execution_count": 19,
   "id": "0e5c48bf",
   "metadata": {},
   "outputs": [],
   "source": [
    "from sklearn.ensemble import AdaBoostClassifier\n",
    "ada = AdaBoostClassifier()\n",
    "steps2 = [('model', ada)]\n",
    "pipeline2 = Pipeline(steps=steps2)"
   ]
  },
  {
   "cell_type": "code",
   "execution_count": 20,
   "id": "34d06f94",
   "metadata": {},
   "outputs": [
    {
     "name": "stdout",
     "output_type": "stream",
     "text": [
      "[0.81481481 0.83333333 0.83333333 0.85185185 0.8317757 ]\n",
      "0.8330218068535824\n"
     ]
    }
   ],
   "source": [
    "#Accuracy:\n",
    "\n",
    "cv = RepeatedStratifiedKFold(n_splits=5, n_repeats=1, random_state=1)\n",
    "scores = cross_val_score(pipeline2, X_feat, y, scoring='accuracy', cv=cv, n_jobs=-1) \n",
    "print(scores)\n",
    "\n",
    "score = np.mean(scores)\n",
    "print(score)"
   ]
  },
  {
   "cell_type": "code",
   "execution_count": null,
   "id": "379e763c",
   "metadata": {},
   "outputs": [],
   "source": []
  },
  {
   "cell_type": "code",
   "execution_count": 21,
   "id": "dd8bb743",
   "metadata": {},
   "outputs": [],
   "source": [
    "from sklearn.neural_network import MLPClassifier\n",
    "nn = MLPClassifier(alpha=1, max_iter=1000)\n",
    "steps3 = [('model', nn)]\n",
    "pipeline3 = Pipeline(steps=steps3)"
   ]
  },
  {
   "cell_type": "code",
   "execution_count": 22,
   "id": "69659651",
   "metadata": {},
   "outputs": [
    {
     "name": "stdout",
     "output_type": "stream",
     "text": [
      "[0.85185185 0.85185185 0.85185185 0.86111111 0.85981308]\n",
      "0.8552959501557632\n"
     ]
    }
   ],
   "source": [
    "#Accuracy:\n",
    "\n",
    "cv = RepeatedStratifiedKFold(n_splits=5, n_repeats=1, random_state=1)\n",
    "scores = cross_val_score(pipeline3, X_feat, y, scoring='accuracy', cv=cv, n_jobs=-1) \n",
    "print(scores)\n",
    "\n",
    "score = np.mean(scores)\n",
    "print(score)"
   ]
  },
  {
   "cell_type": "code",
   "execution_count": null,
   "id": "f5ed01b9",
   "metadata": {},
   "outputs": [],
   "source": []
  },
  {
   "cell_type": "code",
   "execution_count": 23,
   "id": "18cbf57c",
   "metadata": {},
   "outputs": [],
   "source": [
    "from sklearn.ensemble import GradientBoostingClassifier\n",
    "gb = GradientBoostingClassifier()\n",
    "steps4 = [('model', gb)]\n",
    "pipeline4 = Pipeline(steps=steps4)"
   ]
  },
  {
   "cell_type": "code",
   "execution_count": 24,
   "id": "82650289",
   "metadata": {},
   "outputs": [
    {
     "name": "stdout",
     "output_type": "stream",
     "text": [
      "[0.80555556 0.82407407 0.84259259 0.85185185 0.79439252]\n",
      "0.8236933194877121\n"
     ]
    }
   ],
   "source": [
    "#Accuracy:\n",
    "\n",
    "cv = RepeatedStratifiedKFold(n_splits=5, n_repeats=1, random_state=1)\n",
    "scores = cross_val_score(pipeline4, X_feat, y, scoring='accuracy', cv=cv, n_jobs=-1) \n",
    "print(scores)\n",
    "\n",
    "score = np.mean(scores)\n",
    "print(score)"
   ]
  },
  {
   "cell_type": "code",
   "execution_count": null,
   "id": "b095c060",
   "metadata": {},
   "outputs": [],
   "source": []
  },
  {
   "cell_type": "code",
   "execution_count": null,
   "id": "9df59e81",
   "metadata": {},
   "outputs": [],
   "source": []
  }
 ],
 "metadata": {
  "hide_input": false,
  "kernelspec": {
   "display_name": "Python 3 (ipykernel)",
   "language": "python",
   "name": "python3"
  },
  "language_info": {
   "codemirror_mode": {
    "name": "ipython",
    "version": 3
   },
   "file_extension": ".py",
   "mimetype": "text/x-python",
   "name": "python",
   "nbconvert_exporter": "python",
   "pygments_lexer": "ipython3",
   "version": "3.8.8"
  },
  "varInspector": {
   "cols": {
    "lenName": 16,
    "lenType": 16,
    "lenVar": 40
   },
   "kernels_config": {
    "python": {
     "delete_cmd_postfix": "",
     "delete_cmd_prefix": "del ",
     "library": "var_list.py",
     "varRefreshCmd": "print(var_dic_list())"
    },
    "r": {
     "delete_cmd_postfix": ") ",
     "delete_cmd_prefix": "rm(",
     "library": "var_list.r",
     "varRefreshCmd": "cat(var_dic_list()) "
    }
   },
   "types_to_exclude": [
    "module",
    "function",
    "builtin_function_or_method",
    "instance",
    "_Feature"
   ],
   "window_display": false
  }
 },
 "nbformat": 4,
 "nbformat_minor": 5
}
