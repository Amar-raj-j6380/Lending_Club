{
 "cells": [
  {
   "cell_type": "code",
   "execution_count": 1,
   "id": "891650eb",
   "metadata": {},
   "outputs": [],
   "source": [
    "import pandas as pd\n",
    "from sklearn.linear_model import LogisticRegression\n",
    "from sklearn.feature_selection import SequentialFeatureSelector\n",
    "\n",
    "from imblearn.pipeline import Pipeline\n",
    "from sklearn.model_selection import RepeatedStratifiedKFold, cross_val_score"
   ]
  },
  {
   "cell_type": "code",
   "execution_count": 2,
   "id": "75e9e0cb",
   "metadata": {},
   "outputs": [],
   "source": [
    "pd.set_option(\"display.max_columns\", 200)\n",
    "pd.set_option(\"display.max_row\", 160)\n",
    "pd.set_option('max_colwidth', 200)"
   ]
  },
  {
   "cell_type": "code",
   "execution_count": 3,
   "id": "e4071527",
   "metadata": {},
   "outputs": [],
   "source": [
    "data = pd.read_csv('../../Data/20x44_D.csv')"
   ]
  },
  {
   "cell_type": "code",
   "execution_count": 4,
   "id": "b397a6b0",
   "metadata": {},
   "outputs": [
    {
     "data": {
      "text/html": [
       "<div>\n",
       "<style scoped>\n",
       "    .dataframe tbody tr th:only-of-type {\n",
       "        vertical-align: middle;\n",
       "    }\n",
       "\n",
       "    .dataframe tbody tr th {\n",
       "        vertical-align: top;\n",
       "    }\n",
       "\n",
       "    .dataframe thead th {\n",
       "        text-align: right;\n",
       "    }\n",
       "</style>\n",
       "<table border=\"1\" class=\"dataframe\">\n",
       "  <thead>\n",
       "    <tr style=\"text-align: right;\">\n",
       "      <th></th>\n",
       "      <th>loan_amnt</th>\n",
       "      <th>annual_inc</th>\n",
       "      <th>dti</th>\n",
       "      <th>fico_range_low</th>\n",
       "      <th>fico_range_high</th>\n",
       "      <th>int_rate</th>\n",
       "      <th>installment</th>\n",
       "      <th>open_acc</th>\n",
       "      <th>total_acc</th>\n",
       "      <th>revol_bal</th>\n",
       "      <th>inq_last_6mths</th>\n",
       "      <th>delinq_2yrs</th>\n",
       "      <th>acc_now_delinq</th>\n",
       "      <th>collections_12_mths_ex_med</th>\n",
       "      <th>tot_coll_amt</th>\n",
       "      <th>tot_cur_bal</th>\n",
       "      <th>pub_rec</th>\n",
       "      <th>months_cr_line</th>\n",
       "      <th>term</th>\n",
       "      <th>initial_list_status</th>\n",
       "      <th>grade</th>\n",
       "      <th>sub_grade</th>\n",
       "      <th>emp_length</th>\n",
       "      <th>ANY</th>\n",
       "      <th>MORTGAGE</th>\n",
       "      <th>OWN</th>\n",
       "      <th>RENT</th>\n",
       "      <th>car</th>\n",
       "      <th>credit_card</th>\n",
       "      <th>debt_consolidation</th>\n",
       "      <th>home_improvement</th>\n",
       "      <th>house</th>\n",
       "      <th>major_purchase</th>\n",
       "      <th>medical</th>\n",
       "      <th>moving</th>\n",
       "      <th>other</th>\n",
       "      <th>renewable_energy</th>\n",
       "      <th>small_business</th>\n",
       "      <th>vacation</th>\n",
       "      <th>wedding</th>\n",
       "      <th>Not Verified</th>\n",
       "      <th>Source Verified</th>\n",
       "      <th>Verified</th>\n",
       "      <th>loan_status_bin</th>\n",
       "    </tr>\n",
       "  </thead>\n",
       "  <tbody>\n",
       "    <tr>\n",
       "      <th>0</th>\n",
       "      <td>1.511139</td>\n",
       "      <td>-0.223515</td>\n",
       "      <td>0.946930</td>\n",
       "      <td>-0.175524</td>\n",
       "      <td>-0.175524</td>\n",
       "      <td>1.241699</td>\n",
       "      <td>2.175892</td>\n",
       "      <td>-0.088824</td>\n",
       "      <td>0.195374</td>\n",
       "      <td>0.650273</td>\n",
       "      <td>0.162822</td>\n",
       "      <td>-0.392640</td>\n",
       "      <td>-0.060009</td>\n",
       "      <td>-0.142227</td>\n",
       "      <td>-0.013729</td>\n",
       "      <td>0.182902</td>\n",
       "      <td>-0.405876</td>\n",
       "      <td>0.390609</td>\n",
       "      <td>-0.848851</td>\n",
       "      <td>0.698931</td>\n",
       "      <td>0.0</td>\n",
       "      <td>0.655895</td>\n",
       "      <td>1.151668</td>\n",
       "      <td>-0.019956</td>\n",
       "      <td>-0.873672</td>\n",
       "      <td>2.604210</td>\n",
       "      <td>-0.883202</td>\n",
       "      <td>-0.104626</td>\n",
       "      <td>-0.392277</td>\n",
       "      <td>0.812980</td>\n",
       "      <td>-0.245324</td>\n",
       "      <td>-0.105786</td>\n",
       "      <td>-0.161171</td>\n",
       "      <td>-0.131657</td>\n",
       "      <td>-0.115377</td>\n",
       "      <td>-0.338908</td>\n",
       "      <td>-0.033405</td>\n",
       "      <td>-0.126882</td>\n",
       "      <td>-0.093131</td>\n",
       "      <td>-0.042832</td>\n",
       "      <td>-0.520822</td>\n",
       "      <td>-0.774070</td>\n",
       "      <td>1.194790</td>\n",
       "      <td>1.0</td>\n",
       "    </tr>\n",
       "    <tr>\n",
       "      <th>1</th>\n",
       "      <td>0.564527</td>\n",
       "      <td>0.110293</td>\n",
       "      <td>-0.431794</td>\n",
       "      <td>-0.847996</td>\n",
       "      <td>-0.847996</td>\n",
       "      <td>-0.799780</td>\n",
       "      <td>0.213470</td>\n",
       "      <td>0.612170</td>\n",
       "      <td>0.277261</td>\n",
       "      <td>-0.042050</td>\n",
       "      <td>-0.815670</td>\n",
       "      <td>0.687894</td>\n",
       "      <td>-0.060009</td>\n",
       "      <td>-0.142227</td>\n",
       "      <td>-0.013729</td>\n",
       "      <td>-0.011647</td>\n",
       "      <td>-0.405876</td>\n",
       "      <td>-0.805105</td>\n",
       "      <td>1.178063</td>\n",
       "      <td>0.698931</td>\n",
       "      <td>0.0</td>\n",
       "      <td>-1.524634</td>\n",
       "      <td>1.151668</td>\n",
       "      <td>-0.019956</td>\n",
       "      <td>-0.873672</td>\n",
       "      <td>2.604210</td>\n",
       "      <td>-0.883202</td>\n",
       "      <td>-0.104626</td>\n",
       "      <td>-0.392277</td>\n",
       "      <td>-1.230043</td>\n",
       "      <td>-0.245324</td>\n",
       "      <td>9.453027</td>\n",
       "      <td>-0.161171</td>\n",
       "      <td>-0.131657</td>\n",
       "      <td>-0.115377</td>\n",
       "      <td>-0.338908</td>\n",
       "      <td>-0.033405</td>\n",
       "      <td>-0.126882</td>\n",
       "      <td>-0.093131</td>\n",
       "      <td>-0.042832</td>\n",
       "      <td>-0.520822</td>\n",
       "      <td>1.291872</td>\n",
       "      <td>-0.836967</td>\n",
       "      <td>1.0</td>\n",
       "    </tr>\n",
       "    <tr>\n",
       "      <th>2</th>\n",
       "      <td>-0.129656</td>\n",
       "      <td>-0.159138</td>\n",
       "      <td>1.715609</td>\n",
       "      <td>0.945262</td>\n",
       "      <td>0.945262</td>\n",
       "      <td>-0.799780</td>\n",
       "      <td>0.136280</td>\n",
       "      <td>-0.439322</td>\n",
       "      <td>-0.623493</td>\n",
       "      <td>0.354388</td>\n",
       "      <td>-0.815670</td>\n",
       "      <td>-0.392640</td>\n",
       "      <td>-0.060009</td>\n",
       "      <td>-0.142227</td>\n",
       "      <td>-0.013729</td>\n",
       "      <td>-0.534775</td>\n",
       "      <td>-0.405876</td>\n",
       "      <td>-0.549710</td>\n",
       "      <td>-0.848851</td>\n",
       "      <td>0.698931</td>\n",
       "      <td>0.0</td>\n",
       "      <td>-1.524634</td>\n",
       "      <td>-0.361745</td>\n",
       "      <td>-0.019956</td>\n",
       "      <td>-0.873672</td>\n",
       "      <td>-0.383994</td>\n",
       "      <td>1.132244</td>\n",
       "      <td>9.557873</td>\n",
       "      <td>-0.392277</td>\n",
       "      <td>-1.230043</td>\n",
       "      <td>-0.245324</td>\n",
       "      <td>-0.105786</td>\n",
       "      <td>-0.161171</td>\n",
       "      <td>-0.131657</td>\n",
       "      <td>-0.115377</td>\n",
       "      <td>-0.338908</td>\n",
       "      <td>-0.033405</td>\n",
       "      <td>-0.126882</td>\n",
       "      <td>-0.093131</td>\n",
       "      <td>-0.042832</td>\n",
       "      <td>-0.520822</td>\n",
       "      <td>-0.774070</td>\n",
       "      <td>1.194790</td>\n",
       "      <td>0.0</td>\n",
       "    </tr>\n",
       "    <tr>\n",
       "      <th>3</th>\n",
       "      <td>-0.066548</td>\n",
       "      <td>0.044724</td>\n",
       "      <td>-0.397967</td>\n",
       "      <td>-0.175524</td>\n",
       "      <td>-0.175524</td>\n",
       "      <td>-0.799780</td>\n",
       "      <td>-0.326487</td>\n",
       "      <td>0.436922</td>\n",
       "      <td>1.096127</td>\n",
       "      <td>-0.415254</td>\n",
       "      <td>-0.815670</td>\n",
       "      <td>1.768427</td>\n",
       "      <td>-0.060009</td>\n",
       "      <td>-0.142227</td>\n",
       "      <td>-0.013729</td>\n",
       "      <td>1.500886</td>\n",
       "      <td>-0.405876</td>\n",
       "      <td>0.297738</td>\n",
       "      <td>1.178063</td>\n",
       "      <td>0.698931</td>\n",
       "      <td>0.0</td>\n",
       "      <td>-1.524634</td>\n",
       "      <td>1.151668</td>\n",
       "      <td>-0.019956</td>\n",
       "      <td>1.144595</td>\n",
       "      <td>-0.383994</td>\n",
       "      <td>-0.883202</td>\n",
       "      <td>-0.104626</td>\n",
       "      <td>-0.392277</td>\n",
       "      <td>0.812980</td>\n",
       "      <td>-0.245324</td>\n",
       "      <td>-0.105786</td>\n",
       "      <td>-0.161171</td>\n",
       "      <td>-0.131657</td>\n",
       "      <td>-0.115377</td>\n",
       "      <td>-0.338908</td>\n",
       "      <td>-0.033405</td>\n",
       "      <td>-0.126882</td>\n",
       "      <td>-0.093131</td>\n",
       "      <td>-0.042832</td>\n",
       "      <td>-0.520822</td>\n",
       "      <td>1.291872</td>\n",
       "      <td>-0.836967</td>\n",
       "      <td>0.0</td>\n",
       "    </tr>\n",
       "    <tr>\n",
       "      <th>4</th>\n",
       "      <td>1.511139</td>\n",
       "      <td>-0.151985</td>\n",
       "      <td>0.534013</td>\n",
       "      <td>0.496947</td>\n",
       "      <td>0.496947</td>\n",
       "      <td>1.241699</td>\n",
       "      <td>2.175892</td>\n",
       "      <td>0.787419</td>\n",
       "      <td>1.423674</td>\n",
       "      <td>1.199929</td>\n",
       "      <td>2.119807</td>\n",
       "      <td>0.687894</td>\n",
       "      <td>-0.060009</td>\n",
       "      <td>-0.142227</td>\n",
       "      <td>-0.013729</td>\n",
       "      <td>-0.541927</td>\n",
       "      <td>-0.405876</td>\n",
       "      <td>0.100387</td>\n",
       "      <td>-0.848851</td>\n",
       "      <td>0.698931</td>\n",
       "      <td>0.0</td>\n",
       "      <td>0.655895</td>\n",
       "      <td>1.151668</td>\n",
       "      <td>-0.019956</td>\n",
       "      <td>1.144595</td>\n",
       "      <td>-0.383994</td>\n",
       "      <td>-0.883202</td>\n",
       "      <td>-0.104626</td>\n",
       "      <td>-0.392277</td>\n",
       "      <td>-1.230043</td>\n",
       "      <td>-0.245324</td>\n",
       "      <td>-0.105786</td>\n",
       "      <td>-0.161171</td>\n",
       "      <td>-0.131657</td>\n",
       "      <td>-0.115377</td>\n",
       "      <td>2.950650</td>\n",
       "      <td>-0.033405</td>\n",
       "      <td>-0.126882</td>\n",
       "      <td>-0.093131</td>\n",
       "      <td>-0.042832</td>\n",
       "      <td>-0.520822</td>\n",
       "      <td>1.291872</td>\n",
       "      <td>-0.836967</td>\n",
       "      <td>0.0</td>\n",
       "    </tr>\n",
       "  </tbody>\n",
       "</table>\n",
       "</div>"
      ],
      "text/plain": [
       "   loan_amnt  annual_inc       dti  fico_range_low  fico_range_high  int_rate  \\\n",
       "0   1.511139   -0.223515  0.946930       -0.175524        -0.175524  1.241699   \n",
       "1   0.564527    0.110293 -0.431794       -0.847996        -0.847996 -0.799780   \n",
       "2  -0.129656   -0.159138  1.715609        0.945262         0.945262 -0.799780   \n",
       "3  -0.066548    0.044724 -0.397967       -0.175524        -0.175524 -0.799780   \n",
       "4   1.511139   -0.151985  0.534013        0.496947         0.496947  1.241699   \n",
       "\n",
       "   installment  open_acc  total_acc  revol_bal  inq_last_6mths  delinq_2yrs  \\\n",
       "0     2.175892 -0.088824   0.195374   0.650273        0.162822    -0.392640   \n",
       "1     0.213470  0.612170   0.277261  -0.042050       -0.815670     0.687894   \n",
       "2     0.136280 -0.439322  -0.623493   0.354388       -0.815670    -0.392640   \n",
       "3    -0.326487  0.436922   1.096127  -0.415254       -0.815670     1.768427   \n",
       "4     2.175892  0.787419   1.423674   1.199929        2.119807     0.687894   \n",
       "\n",
       "   acc_now_delinq  collections_12_mths_ex_med  tot_coll_amt  tot_cur_bal  \\\n",
       "0       -0.060009                   -0.142227     -0.013729     0.182902   \n",
       "1       -0.060009                   -0.142227     -0.013729    -0.011647   \n",
       "2       -0.060009                   -0.142227     -0.013729    -0.534775   \n",
       "3       -0.060009                   -0.142227     -0.013729     1.500886   \n",
       "4       -0.060009                   -0.142227     -0.013729    -0.541927   \n",
       "\n",
       "    pub_rec  months_cr_line      term  initial_list_status  grade  sub_grade  \\\n",
       "0 -0.405876        0.390609 -0.848851             0.698931    0.0   0.655895   \n",
       "1 -0.405876       -0.805105  1.178063             0.698931    0.0  -1.524634   \n",
       "2 -0.405876       -0.549710 -0.848851             0.698931    0.0  -1.524634   \n",
       "3 -0.405876        0.297738  1.178063             0.698931    0.0  -1.524634   \n",
       "4 -0.405876        0.100387 -0.848851             0.698931    0.0   0.655895   \n",
       "\n",
       "   emp_length       ANY  MORTGAGE       OWN      RENT       car  credit_card  \\\n",
       "0    1.151668 -0.019956 -0.873672  2.604210 -0.883202 -0.104626    -0.392277   \n",
       "1    1.151668 -0.019956 -0.873672  2.604210 -0.883202 -0.104626    -0.392277   \n",
       "2   -0.361745 -0.019956 -0.873672 -0.383994  1.132244  9.557873    -0.392277   \n",
       "3    1.151668 -0.019956  1.144595 -0.383994 -0.883202 -0.104626    -0.392277   \n",
       "4    1.151668 -0.019956  1.144595 -0.383994 -0.883202 -0.104626    -0.392277   \n",
       "\n",
       "   debt_consolidation  home_improvement     house  major_purchase   medical  \\\n",
       "0            0.812980         -0.245324 -0.105786       -0.161171 -0.131657   \n",
       "1           -1.230043         -0.245324  9.453027       -0.161171 -0.131657   \n",
       "2           -1.230043         -0.245324 -0.105786       -0.161171 -0.131657   \n",
       "3            0.812980         -0.245324 -0.105786       -0.161171 -0.131657   \n",
       "4           -1.230043         -0.245324 -0.105786       -0.161171 -0.131657   \n",
       "\n",
       "     moving     other  renewable_energy  small_business  vacation   wedding  \\\n",
       "0 -0.115377 -0.338908         -0.033405       -0.126882 -0.093131 -0.042832   \n",
       "1 -0.115377 -0.338908         -0.033405       -0.126882 -0.093131 -0.042832   \n",
       "2 -0.115377 -0.338908         -0.033405       -0.126882 -0.093131 -0.042832   \n",
       "3 -0.115377 -0.338908         -0.033405       -0.126882 -0.093131 -0.042832   \n",
       "4 -0.115377  2.950650         -0.033405       -0.126882 -0.093131 -0.042832   \n",
       "\n",
       "   Not Verified  Source Verified  Verified  loan_status_bin  \n",
       "0     -0.520822        -0.774070  1.194790              1.0  \n",
       "1     -0.520822         1.291872 -0.836967              1.0  \n",
       "2     -0.520822        -0.774070  1.194790              0.0  \n",
       "3     -0.520822         1.291872 -0.836967              0.0  \n",
       "4     -0.520822         1.291872 -0.836967              0.0  "
      ]
     },
     "execution_count": 4,
     "metadata": {},
     "output_type": "execute_result"
    }
   ],
   "source": [
    "data.head(5)"
   ]
  },
  {
   "cell_type": "code",
   "execution_count": 5,
   "id": "e2bc504c",
   "metadata": {},
   "outputs": [
    {
     "data": {
      "text/plain": [
       "(12560, 44)"
      ]
     },
     "execution_count": 5,
     "metadata": {},
     "output_type": "execute_result"
    }
   ],
   "source": [
    "data.shape"
   ]
  },
  {
   "cell_type": "code",
   "execution_count": 6,
   "id": "79f7fea2",
   "metadata": {},
   "outputs": [
    {
     "data": {
      "text/plain": [
       "1.0    8447\n",
       "0.0    4113\n",
       "Name: loan_status_bin, dtype: int64"
      ]
     },
     "execution_count": 6,
     "metadata": {},
     "output_type": "execute_result"
    }
   ],
   "source": [
    "data.loan_status_bin.value_counts()"
   ]
  },
  {
   "cell_type": "code",
   "execution_count": 7,
   "id": "c5f95e95",
   "metadata": {},
   "outputs": [
    {
     "data": {
      "text/plain": [
       "0.6725318471337579"
      ]
     },
     "execution_count": 7,
     "metadata": {},
     "output_type": "execute_result"
    }
   ],
   "source": [
    "#Null Model (or random investment) will yield, 59.3% of picking a good loan: \n",
    "data.loan_status_bin.value_counts()[1] / len(data)"
   ]
  },
  {
   "cell_type": "code",
   "execution_count": 8,
   "id": "ff93c60b",
   "metadata": {},
   "outputs": [
    {
     "data": {
      "text/plain": [
       "(12560, 43)"
      ]
     },
     "execution_count": 8,
     "metadata": {},
     "output_type": "execute_result"
    }
   ],
   "source": [
    "X = data.drop('loan_status_bin', axis=1)\n",
    "X.shape"
   ]
  },
  {
   "cell_type": "code",
   "execution_count": 9,
   "id": "d6f47bde",
   "metadata": {},
   "outputs": [],
   "source": [
    "y = data['loan_status_bin']"
   ]
  },
  {
   "cell_type": "code",
   "execution_count": 10,
   "id": "e41f44d6",
   "metadata": {},
   "outputs": [],
   "source": [
    "n_features = 1\n",
    "lr = LogisticRegression()\n",
    "sfs = SequentialFeatureSelector(lr, n_features_to_select=n_features)"
   ]
  },
  {
   "cell_type": "code",
   "execution_count": 11,
   "id": "b4eb8b6c",
   "metadata": {},
   "outputs": [
    {
     "data": {
      "text/html": [
       "<style>#sk-container-id-1 {color: black;background-color: white;}#sk-container-id-1 pre{padding: 0;}#sk-container-id-1 div.sk-toggleable {background-color: white;}#sk-container-id-1 label.sk-toggleable__label {cursor: pointer;display: block;width: 100%;margin-bottom: 0;padding: 0.3em;box-sizing: border-box;text-align: center;}#sk-container-id-1 label.sk-toggleable__label-arrow:before {content: \"▸\";float: left;margin-right: 0.25em;color: #696969;}#sk-container-id-1 label.sk-toggleable__label-arrow:hover:before {color: black;}#sk-container-id-1 div.sk-estimator:hover label.sk-toggleable__label-arrow:before {color: black;}#sk-container-id-1 div.sk-toggleable__content {max-height: 0;max-width: 0;overflow: hidden;text-align: left;background-color: #f0f8ff;}#sk-container-id-1 div.sk-toggleable__content pre {margin: 0.2em;color: black;border-radius: 0.25em;background-color: #f0f8ff;}#sk-container-id-1 input.sk-toggleable__control:checked~div.sk-toggleable__content {max-height: 200px;max-width: 100%;overflow: auto;}#sk-container-id-1 input.sk-toggleable__control:checked~label.sk-toggleable__label-arrow:before {content: \"▾\";}#sk-container-id-1 div.sk-estimator input.sk-toggleable__control:checked~label.sk-toggleable__label {background-color: #d4ebff;}#sk-container-id-1 div.sk-label input.sk-toggleable__control:checked~label.sk-toggleable__label {background-color: #d4ebff;}#sk-container-id-1 input.sk-hidden--visually {border: 0;clip: rect(1px 1px 1px 1px);clip: rect(1px, 1px, 1px, 1px);height: 1px;margin: -1px;overflow: hidden;padding: 0;position: absolute;width: 1px;}#sk-container-id-1 div.sk-estimator {font-family: monospace;background-color: #f0f8ff;border: 1px dotted black;border-radius: 0.25em;box-sizing: border-box;margin-bottom: 0.5em;}#sk-container-id-1 div.sk-estimator:hover {background-color: #d4ebff;}#sk-container-id-1 div.sk-parallel-item::after {content: \"\";width: 100%;border-bottom: 1px solid gray;flex-grow: 1;}#sk-container-id-1 div.sk-label:hover label.sk-toggleable__label {background-color: #d4ebff;}#sk-container-id-1 div.sk-serial::before {content: \"\";position: absolute;border-left: 1px solid gray;box-sizing: border-box;top: 0;bottom: 0;left: 50%;z-index: 0;}#sk-container-id-1 div.sk-serial {display: flex;flex-direction: column;align-items: center;background-color: white;padding-right: 0.2em;padding-left: 0.2em;position: relative;}#sk-container-id-1 div.sk-item {position: relative;z-index: 1;}#sk-container-id-1 div.sk-parallel {display: flex;align-items: stretch;justify-content: center;background-color: white;position: relative;}#sk-container-id-1 div.sk-item::before, #sk-container-id-1 div.sk-parallel-item::before {content: \"\";position: absolute;border-left: 1px solid gray;box-sizing: border-box;top: 0;bottom: 0;left: 50%;z-index: -1;}#sk-container-id-1 div.sk-parallel-item {display: flex;flex-direction: column;z-index: 1;position: relative;background-color: white;}#sk-container-id-1 div.sk-parallel-item:first-child::after {align-self: flex-end;width: 50%;}#sk-container-id-1 div.sk-parallel-item:last-child::after {align-self: flex-start;width: 50%;}#sk-container-id-1 div.sk-parallel-item:only-child::after {width: 0;}#sk-container-id-1 div.sk-dashed-wrapped {border: 1px dashed gray;margin: 0 0.4em 0.5em 0.4em;box-sizing: border-box;padding-bottom: 0.4em;background-color: white;}#sk-container-id-1 div.sk-label label {font-family: monospace;font-weight: bold;display: inline-block;line-height: 1.2em;}#sk-container-id-1 div.sk-label-container {text-align: center;}#sk-container-id-1 div.sk-container {/* jupyter's `normalize.less` sets `[hidden] { display: none; }` but bootstrap.min.css set `[hidden] { display: none !important; }` so we also need the `!important` here to be able to override the default hidden behavior on the sphinx rendered scikit-learn.org. See: https://github.com/scikit-learn/scikit-learn/issues/21755 */display: inline-block !important;position: relative;}#sk-container-id-1 div.sk-text-repr-fallback {display: none;}</style><div id=\"sk-container-id-1\" class=\"sk-top-container\"><div class=\"sk-text-repr-fallback\"><pre>SequentialFeatureSelector(estimator=LogisticRegression(),\n",
       "                          n_features_to_select=1)</pre><b>In a Jupyter environment, please rerun this cell to show the HTML representation or trust the notebook. <br />On GitHub, the HTML representation is unable to render, please try loading this page with nbviewer.org.</b></div><div class=\"sk-container\" hidden><div class=\"sk-item sk-dashed-wrapped\"><div class=\"sk-label-container\"><div class=\"sk-label sk-toggleable\"><input class=\"sk-toggleable__control sk-hidden--visually\" id=\"sk-estimator-id-1\" type=\"checkbox\" ><label for=\"sk-estimator-id-1\" class=\"sk-toggleable__label sk-toggleable__label-arrow\">SequentialFeatureSelector</label><div class=\"sk-toggleable__content\"><pre>SequentialFeatureSelector(estimator=LogisticRegression(),\n",
       "                          n_features_to_select=1)</pre></div></div></div><div class=\"sk-parallel\"><div class=\"sk-parallel-item\"><div class=\"sk-item\"><div class=\"sk-label-container\"><div class=\"sk-label sk-toggleable\"><input class=\"sk-toggleable__control sk-hidden--visually\" id=\"sk-estimator-id-2\" type=\"checkbox\" ><label for=\"sk-estimator-id-2\" class=\"sk-toggleable__label sk-toggleable__label-arrow\">estimator: LogisticRegression</label><div class=\"sk-toggleable__content\"><pre>LogisticRegression()</pre></div></div></div><div class=\"sk-serial\"><div class=\"sk-item\"><div class=\"sk-estimator sk-toggleable\"><input class=\"sk-toggleable__control sk-hidden--visually\" id=\"sk-estimator-id-3\" type=\"checkbox\" ><label for=\"sk-estimator-id-3\" class=\"sk-toggleable__label sk-toggleable__label-arrow\">LogisticRegression</label><div class=\"sk-toggleable__content\"><pre>LogisticRegression()</pre></div></div></div></div></div></div></div></div></div></div>"
      ],
      "text/plain": [
       "SequentialFeatureSelector(estimator=LogisticRegression(),\n",
       "                          n_features_to_select=1)"
      ]
     },
     "execution_count": 11,
     "metadata": {},
     "output_type": "execute_result"
    }
   ],
   "source": [
    "sfs.fit(X,y)"
   ]
  },
  {
   "cell_type": "code",
   "execution_count": 12,
   "id": "70c93071",
   "metadata": {},
   "outputs": [],
   "source": [
    "#sfs.get_support()"
   ]
  },
  {
   "cell_type": "code",
   "execution_count": 13,
   "id": "dbffd04e",
   "metadata": {},
   "outputs": [
    {
     "name": "stdout",
     "output_type": "stream",
     "text": [
      "Top 1 features selected by forward sequential selection:['loan_amnt']\n"
     ]
    }
   ],
   "source": [
    "print(\"Top {} features selected by forward sequential selection:{}\"\\\n",
    "      .format(n_features, list(X.columns[sfs.get_support()])))\n"
   ]
  },
  {
   "cell_type": "code",
   "execution_count": 14,
   "id": "1f39da4f",
   "metadata": {},
   "outputs": [
    {
     "data": {
      "text/plain": [
       "['loan_amnt']"
      ]
     },
     "execution_count": 14,
     "metadata": {},
     "output_type": "execute_result"
    }
   ],
   "source": [
    "feat = list(X.columns[sfs.get_support()])\n",
    "feat"
   ]
  },
  {
   "cell_type": "code",
   "execution_count": 15,
   "id": "d2d0e00e",
   "metadata": {},
   "outputs": [],
   "source": [
    "X_feat = data[feat]"
   ]
  },
  {
   "cell_type": "code",
   "execution_count": 16,
   "id": "eb0b2988",
   "metadata": {},
   "outputs": [
    {
     "data": {
      "text/plain": [
       "0        1.0\n",
       "1        1.0\n",
       "2        0.0\n",
       "3        0.0\n",
       "4        0.0\n",
       "        ... \n",
       "12555    1.0\n",
       "12556    0.0\n",
       "12557    1.0\n",
       "12558    1.0\n",
       "12559    1.0\n",
       "Name: loan_status_bin, Length: 12560, dtype: float64"
      ]
     },
     "execution_count": 16,
     "metadata": {},
     "output_type": "execute_result"
    }
   ],
   "source": [
    "y = data['loan_status_bin']\n",
    "y"
   ]
  },
  {
   "cell_type": "code",
   "execution_count": 17,
   "id": "a888c925",
   "metadata": {},
   "outputs": [],
   "source": [
    "lr_check = LogisticRegression()\n",
    "steps = [('model', lr_check)]\n",
    "pipeline = Pipeline(steps=steps)"
   ]
  },
  {
   "cell_type": "code",
   "execution_count": 18,
   "id": "0423b0b2",
   "metadata": {},
   "outputs": [
    {
     "name": "stdout",
     "output_type": "stream",
     "text": [
      "[0.6727707  0.6727707  0.67237261 0.67237261 0.67237261]\n",
      "0.672531847133758\n"
     ]
    }
   ],
   "source": [
    "#Accuracy:\n",
    "\n",
    "cv = RepeatedStratifiedKFold(n_splits=5, n_repeats=1, random_state=1)\n",
    "scores = cross_val_score(pipeline, X_feat, y, scoring='accuracy', cv=cv, n_jobs=-1) \n",
    "print(scores)\n",
    "\n",
    "score = np.mean(scores)\n",
    "print(score)"
   ]
  },
  {
   "cell_type": "code",
   "execution_count": null,
   "id": "80613a5c",
   "metadata": {},
   "outputs": [],
   "source": []
  },
  {
   "cell_type": "code",
   "execution_count": 19,
   "id": "0e5c48bf",
   "metadata": {},
   "outputs": [],
   "source": [
    "from sklearn.ensemble import AdaBoostClassifier\n",
    "ada = AdaBoostClassifier()\n",
    "steps2 = [('model', ada)]\n",
    "pipeline2 = Pipeline(steps=steps2)"
   ]
  },
  {
   "cell_type": "code",
   "execution_count": 20,
   "id": "34d06f94",
   "metadata": {},
   "outputs": [
    {
     "name": "stdout",
     "output_type": "stream",
     "text": [
      "[0.6727707  0.6727707  0.67237261 0.67237261 0.67237261]\n",
      "0.672531847133758\n"
     ]
    }
   ],
   "source": [
    "#Accuracy:\n",
    "\n",
    "cv = RepeatedStratifiedKFold(n_splits=5, n_repeats=1, random_state=1)\n",
    "scores = cross_val_score(pipeline2, X_feat, y, scoring='accuracy', cv=cv, n_jobs=-1) \n",
    "print(scores)\n",
    "\n",
    "score = np.mean(scores)\n",
    "print(score)"
   ]
  },
  {
   "cell_type": "code",
   "execution_count": null,
   "id": "379e763c",
   "metadata": {},
   "outputs": [],
   "source": []
  },
  {
   "cell_type": "code",
   "execution_count": 21,
   "id": "dd8bb743",
   "metadata": {},
   "outputs": [],
   "source": [
    "from sklearn.neural_network import MLPClassifier\n",
    "nn = MLPClassifier(alpha=1, max_iter=1000)\n",
    "steps3 = [('model', nn)]\n",
    "pipeline3 = Pipeline(steps=steps3)"
   ]
  },
  {
   "cell_type": "code",
   "execution_count": 22,
   "id": "69659651",
   "metadata": {},
   "outputs": [
    {
     "name": "stdout",
     "output_type": "stream",
     "text": [
      "[0.6727707  0.6727707  0.67237261 0.67237261 0.67237261]\n",
      "0.672531847133758\n"
     ]
    }
   ],
   "source": [
    "#Accuracy:\n",
    "\n",
    "cv = RepeatedStratifiedKFold(n_splits=5, n_repeats=1, random_state=1)\n",
    "scores = cross_val_score(pipeline3, X_feat, y, scoring='accuracy', cv=cv, n_jobs=-1) \n",
    "print(scores)\n",
    "\n",
    "score = np.mean(scores)\n",
    "print(score)"
   ]
  },
  {
   "cell_type": "code",
   "execution_count": null,
   "id": "f5ed01b9",
   "metadata": {},
   "outputs": [],
   "source": []
  },
  {
   "cell_type": "code",
   "execution_count": 23,
   "id": "18cbf57c",
   "metadata": {},
   "outputs": [],
   "source": [
    "from sklearn.ensemble import GradientBoostingClassifier\n",
    "gb = GradientBoostingClassifier()\n",
    "steps4 = [('model', gb)]\n",
    "pipeline4 = Pipeline(steps=steps4)"
   ]
  },
  {
   "cell_type": "code",
   "execution_count": 24,
   "id": "82650289",
   "metadata": {},
   "outputs": [
    {
     "name": "stdout",
     "output_type": "stream",
     "text": [
      "[0.67117834 0.66759554 0.6727707  0.67157643 0.67038217]\n",
      "0.6707006369426751\n"
     ]
    }
   ],
   "source": [
    "#Accuracy:\n",
    "\n",
    "cv = RepeatedStratifiedKFold(n_splits=5, n_repeats=1, random_state=1)\n",
    "scores = cross_val_score(pipeline4, X_feat, y, scoring='accuracy', cv=cv, n_jobs=-1) \n",
    "print(scores)\n",
    "\n",
    "score = np.mean(scores)\n",
    "print(score)"
   ]
  },
  {
   "cell_type": "code",
   "execution_count": null,
   "id": "b095c060",
   "metadata": {},
   "outputs": [],
   "source": []
  },
  {
   "cell_type": "code",
   "execution_count": null,
   "id": "9df59e81",
   "metadata": {},
   "outputs": [],
   "source": []
  }
 ],
 "metadata": {
  "hide_input": false,
  "kernelspec": {
   "display_name": "Python 3 (ipykernel)",
   "language": "python",
   "name": "python3"
  },
  "language_info": {
   "codemirror_mode": {
    "name": "ipython",
    "version": 3
   },
   "file_extension": ".py",
   "mimetype": "text/x-python",
   "name": "python",
   "nbconvert_exporter": "python",
   "pygments_lexer": "ipython3",
   "version": "3.8.8"
  },
  "varInspector": {
   "cols": {
    "lenName": 16,
    "lenType": 16,
    "lenVar": 40
   },
   "kernels_config": {
    "python": {
     "delete_cmd_postfix": "",
     "delete_cmd_prefix": "del ",
     "library": "var_list.py",
     "varRefreshCmd": "print(var_dic_list())"
    },
    "r": {
     "delete_cmd_postfix": ") ",
     "delete_cmd_prefix": "rm(",
     "library": "var_list.r",
     "varRefreshCmd": "cat(var_dic_list()) "
    }
   },
   "types_to_exclude": [
    "module",
    "function",
    "builtin_function_or_method",
    "instance",
    "_Feature"
   ],
   "window_display": false
  }
 },
 "nbformat": 4,
 "nbformat_minor": 5
}
