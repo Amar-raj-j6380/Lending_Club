{
 "cells": [
  {
   "cell_type": "code",
   "execution_count": 61,
   "id": "891650eb",
   "metadata": {},
   "outputs": [],
   "source": [
    "import pandas as pd\n",
    "from sklearn.linear_model import LogisticRegression\n",
    "from sklearn.feature_selection import SequentialFeatureSelector\n",
    "\n",
    "from imblearn.pipeline import Pipeline\n",
    "from sklearn.model_selection import RepeatedStratifiedKFold, cross_val_score"
   ]
  },
  {
   "cell_type": "code",
   "execution_count": 25,
   "id": "75e9e0cb",
   "metadata": {},
   "outputs": [],
   "source": [
    "pd.set_option(\"display.max_columns\", 200)\n",
    "pd.set_option(\"display.max_row\", 160)\n",
    "pd.set_option('max_colwidth', 200)"
   ]
  },
  {
   "cell_type": "code",
   "execution_count": 26,
   "id": "e4071527",
   "metadata": {},
   "outputs": [],
   "source": [
    "data = pd.read_csv('../../Data/20x41.csv')"
   ]
  },
  {
   "cell_type": "code",
   "execution_count": 27,
   "id": "b397a6b0",
   "metadata": {},
   "outputs": [
    {
     "data": {
      "text/html": [
       "<div>\n",
       "<style scoped>\n",
       "    .dataframe tbody tr th:only-of-type {\n",
       "        vertical-align: middle;\n",
       "    }\n",
       "\n",
       "    .dataframe tbody tr th {\n",
       "        vertical-align: top;\n",
       "    }\n",
       "\n",
       "    .dataframe thead th {\n",
       "        text-align: right;\n",
       "    }\n",
       "</style>\n",
       "<table border=\"1\" class=\"dataframe\">\n",
       "  <thead>\n",
       "    <tr style=\"text-align: right;\">\n",
       "      <th></th>\n",
       "      <th>loan_amnt</th>\n",
       "      <th>annual_inc</th>\n",
       "      <th>dti</th>\n",
       "      <th>fico_range_low</th>\n",
       "      <th>fico_range_high</th>\n",
       "      <th>int_rate</th>\n",
       "      <th>installment</th>\n",
       "      <th>open_acc</th>\n",
       "      <th>total_acc</th>\n",
       "      <th>revol_bal</th>\n",
       "      <th>inq_last_6mths</th>\n",
       "      <th>delinq_2yrs</th>\n",
       "      <th>acc_now_delinq</th>\n",
       "      <th>collections_12_mths_ex_med</th>\n",
       "      <th>pub_rec</th>\n",
       "      <th>earliest_cr_line_month</th>\n",
       "      <th>earliest_cr_line_year</th>\n",
       "      <th>term</th>\n",
       "      <th>initial_list_status</th>\n",
       "      <th>grade</th>\n",
       "      <th>sub_grade</th>\n",
       "      <th>ANY</th>\n",
       "      <th>MORTGAGE</th>\n",
       "      <th>NONE</th>\n",
       "      <th>OTHER</th>\n",
       "      <th>OWN</th>\n",
       "      <th>RENT</th>\n",
       "      <th>car</th>\n",
       "      <th>credit_card</th>\n",
       "      <th>debt_consolidation</th>\n",
       "      <th>home_improvement</th>\n",
       "      <th>house</th>\n",
       "      <th>major_purchase</th>\n",
       "      <th>medical</th>\n",
       "      <th>moving</th>\n",
       "      <th>other</th>\n",
       "      <th>renewable_energy</th>\n",
       "      <th>small_business</th>\n",
       "      <th>vacation</th>\n",
       "      <th>wedding</th>\n",
       "      <th>loan_status_bin</th>\n",
       "    </tr>\n",
       "  </thead>\n",
       "  <tbody>\n",
       "    <tr>\n",
       "      <th>0</th>\n",
       "      <td>-0.872628</td>\n",
       "      <td>0.503581</td>\n",
       "      <td>0.572069</td>\n",
       "      <td>0.682326</td>\n",
       "      <td>0.682323</td>\n",
       "      <td>-0.405165</td>\n",
       "      <td>-0.986330</td>\n",
       "      <td>0.012921</td>\n",
       "      <td>0.800766</td>\n",
       "      <td>0.257759</td>\n",
       "      <td>1.655427</td>\n",
       "      <td>0.676995</td>\n",
       "      <td>-0.076039</td>\n",
       "      <td>-0.125241</td>\n",
       "      <td>-0.375888</td>\n",
       "      <td>-0.217886</td>\n",
       "      <td>-0.270704</td>\n",
       "      <td>0.690939</td>\n",
       "      <td>1.03777</td>\n",
       "      <td>0.791627</td>\n",
       "      <td>0.270731</td>\n",
       "      <td>-0.016391</td>\n",
       "      <td>1.090377</td>\n",
       "      <td>-0.008029</td>\n",
       "      <td>-0.008029</td>\n",
       "      <td>-0.356997</td>\n",
       "      <td>-0.868052</td>\n",
       "      <td>-0.079872</td>\n",
       "      <td>-0.338635</td>\n",
       "      <td>-1.339332</td>\n",
       "      <td>-0.250197</td>\n",
       "      <td>-0.117242</td>\n",
       "      <td>7.035681</td>\n",
       "      <td>-0.118367</td>\n",
       "      <td>-0.10911</td>\n",
       "      <td>-0.314762</td>\n",
       "      <td>-0.036377</td>\n",
       "      <td>-0.179301</td>\n",
       "      <td>-0.0771</td>\n",
       "      <td>-0.048454</td>\n",
       "      <td>1.0</td>\n",
       "    </tr>\n",
       "    <tr>\n",
       "      <th>1</th>\n",
       "      <td>1.718531</td>\n",
       "      <td>0.772725</td>\n",
       "      <td>1.749064</td>\n",
       "      <td>0.928630</td>\n",
       "      <td>0.928625</td>\n",
       "      <td>-1.135245</td>\n",
       "      <td>1.241494</td>\n",
       "      <td>2.298594</td>\n",
       "      <td>2.322233</td>\n",
       "      <td>-0.117413</td>\n",
       "      <td>-0.904407</td>\n",
       "      <td>0.676995</td>\n",
       "      <td>-0.076039</td>\n",
       "      <td>-0.125241</td>\n",
       "      <td>-0.375888</td>\n",
       "      <td>0.957605</td>\n",
       "      <td>-0.830117</td>\n",
       "      <td>0.690939</td>\n",
       "      <td>1.03777</td>\n",
       "      <td>-0.473750</td>\n",
       "      <td>-0.279696</td>\n",
       "      <td>-0.016391</td>\n",
       "      <td>1.090377</td>\n",
       "      <td>-0.008029</td>\n",
       "      <td>-0.008029</td>\n",
       "      <td>-0.356997</td>\n",
       "      <td>-0.868052</td>\n",
       "      <td>-0.079872</td>\n",
       "      <td>-0.338635</td>\n",
       "      <td>0.746641</td>\n",
       "      <td>-0.250197</td>\n",
       "      <td>-0.117242</td>\n",
       "      <td>-0.142133</td>\n",
       "      <td>-0.118367</td>\n",
       "      <td>-0.10911</td>\n",
       "      <td>-0.314762</td>\n",
       "      <td>-0.036377</td>\n",
       "      <td>-0.179301</td>\n",
       "      <td>-0.0771</td>\n",
       "      <td>-0.048454</td>\n",
       "      <td>1.0</td>\n",
       "    </tr>\n",
       "    <tr>\n",
       "      <th>2</th>\n",
       "      <td>0.752113</td>\n",
       "      <td>-0.126322</td>\n",
       "      <td>1.291724</td>\n",
       "      <td>-0.302888</td>\n",
       "      <td>-0.302887</td>\n",
       "      <td>0.946418</td>\n",
       "      <td>0.680639</td>\n",
       "      <td>1.067847</td>\n",
       "      <td>0.640612</td>\n",
       "      <td>0.202920</td>\n",
       "      <td>-0.051129</td>\n",
       "      <td>-0.380734</td>\n",
       "      <td>-0.076039</td>\n",
       "      <td>-0.125241</td>\n",
       "      <td>-0.375888</td>\n",
       "      <td>-1.687248</td>\n",
       "      <td>0.288709</td>\n",
       "      <td>0.690939</td>\n",
       "      <td>1.03777</td>\n",
       "      <td>0.791627</td>\n",
       "      <td>1.371584</td>\n",
       "      <td>-0.016391</td>\n",
       "      <td>-0.917114</td>\n",
       "      <td>-0.008029</td>\n",
       "      <td>-0.008029</td>\n",
       "      <td>-0.356997</td>\n",
       "      <td>1.152005</td>\n",
       "      <td>-0.079872</td>\n",
       "      <td>-0.338635</td>\n",
       "      <td>0.746641</td>\n",
       "      <td>-0.250197</td>\n",
       "      <td>-0.117242</td>\n",
       "      <td>-0.142133</td>\n",
       "      <td>-0.118367</td>\n",
       "      <td>-0.10911</td>\n",
       "      <td>-0.314762</td>\n",
       "      <td>-0.036377</td>\n",
       "      <td>-0.179301</td>\n",
       "      <td>-0.0771</td>\n",
       "      <td>-0.048454</td>\n",
       "      <td>0.0</td>\n",
       "    </tr>\n",
       "    <tr>\n",
       "      <th>3</th>\n",
       "      <td>0.620448</td>\n",
       "      <td>0.288623</td>\n",
       "      <td>0.434069</td>\n",
       "      <td>2.160147</td>\n",
       "      <td>2.160138</td>\n",
       "      <td>-0.405165</td>\n",
       "      <td>0.373911</td>\n",
       "      <td>-0.690363</td>\n",
       "      <td>0.160148</td>\n",
       "      <td>0.413576</td>\n",
       "      <td>-0.904407</td>\n",
       "      <td>-0.380734</td>\n",
       "      <td>-0.076039</td>\n",
       "      <td>-0.125241</td>\n",
       "      <td>-0.375888</td>\n",
       "      <td>1.251477</td>\n",
       "      <td>-0.550411</td>\n",
       "      <td>0.690939</td>\n",
       "      <td>1.03777</td>\n",
       "      <td>0.791627</td>\n",
       "      <td>0.270731</td>\n",
       "      <td>-0.016391</td>\n",
       "      <td>1.090377</td>\n",
       "      <td>-0.008029</td>\n",
       "      <td>-0.008029</td>\n",
       "      <td>-0.356997</td>\n",
       "      <td>-0.868052</td>\n",
       "      <td>-0.079872</td>\n",
       "      <td>-0.338635</td>\n",
       "      <td>0.746641</td>\n",
       "      <td>-0.250197</td>\n",
       "      <td>-0.117242</td>\n",
       "      <td>-0.142133</td>\n",
       "      <td>-0.118367</td>\n",
       "      <td>-0.10911</td>\n",
       "      <td>-0.314762</td>\n",
       "      <td>-0.036377</td>\n",
       "      <td>-0.179301</td>\n",
       "      <td>-0.0771</td>\n",
       "      <td>-0.048454</td>\n",
       "      <td>1.0</td>\n",
       "    </tr>\n",
       "    <tr>\n",
       "      <th>4</th>\n",
       "      <td>-0.185339</td>\n",
       "      <td>-0.489399</td>\n",
       "      <td>0.197985</td>\n",
       "      <td>-0.056584</td>\n",
       "      <td>-0.056584</td>\n",
       "      <td>-0.768333</td>\n",
       "      <td>-0.392324</td>\n",
       "      <td>-0.338721</td>\n",
       "      <td>0.160148</td>\n",
       "      <td>-0.494239</td>\n",
       "      <td>-0.051129</td>\n",
       "      <td>-0.380734</td>\n",
       "      <td>-0.076039</td>\n",
       "      <td>-0.125241</td>\n",
       "      <td>1.170753</td>\n",
       "      <td>-1.393376</td>\n",
       "      <td>-0.270704</td>\n",
       "      <td>0.690939</td>\n",
       "      <td>1.03777</td>\n",
       "      <td>-0.473750</td>\n",
       "      <td>-0.004483</td>\n",
       "      <td>-0.016391</td>\n",
       "      <td>-0.917114</td>\n",
       "      <td>-0.008029</td>\n",
       "      <td>-0.008029</td>\n",
       "      <td>-0.356997</td>\n",
       "      <td>1.152005</td>\n",
       "      <td>-0.079872</td>\n",
       "      <td>-0.338635</td>\n",
       "      <td>-1.339332</td>\n",
       "      <td>-0.250197</td>\n",
       "      <td>-0.117242</td>\n",
       "      <td>7.035681</td>\n",
       "      <td>-0.118367</td>\n",
       "      <td>-0.10911</td>\n",
       "      <td>-0.314762</td>\n",
       "      <td>-0.036377</td>\n",
       "      <td>-0.179301</td>\n",
       "      <td>-0.0771</td>\n",
       "      <td>-0.048454</td>\n",
       "      <td>0.0</td>\n",
       "    </tr>\n",
       "  </tbody>\n",
       "</table>\n",
       "</div>"
      ],
      "text/plain": [
       "   loan_amnt  annual_inc       dti  fico_range_low  fico_range_high  int_rate  \\\n",
       "0  -0.872628    0.503581  0.572069        0.682326         0.682323 -0.405165   \n",
       "1   1.718531    0.772725  1.749064        0.928630         0.928625 -1.135245   \n",
       "2   0.752113   -0.126322  1.291724       -0.302888        -0.302887  0.946418   \n",
       "3   0.620448    0.288623  0.434069        2.160147         2.160138 -0.405165   \n",
       "4  -0.185339   -0.489399  0.197985       -0.056584        -0.056584 -0.768333   \n",
       "\n",
       "   installment  open_acc  total_acc  revol_bal  inq_last_6mths  delinq_2yrs  \\\n",
       "0    -0.986330  0.012921   0.800766   0.257759        1.655427     0.676995   \n",
       "1     1.241494  2.298594   2.322233  -0.117413       -0.904407     0.676995   \n",
       "2     0.680639  1.067847   0.640612   0.202920       -0.051129    -0.380734   \n",
       "3     0.373911 -0.690363   0.160148   0.413576       -0.904407    -0.380734   \n",
       "4    -0.392324 -0.338721   0.160148  -0.494239       -0.051129    -0.380734   \n",
       "\n",
       "   acc_now_delinq  collections_12_mths_ex_med   pub_rec  \\\n",
       "0       -0.076039                   -0.125241 -0.375888   \n",
       "1       -0.076039                   -0.125241 -0.375888   \n",
       "2       -0.076039                   -0.125241 -0.375888   \n",
       "3       -0.076039                   -0.125241 -0.375888   \n",
       "4       -0.076039                   -0.125241  1.170753   \n",
       "\n",
       "   earliest_cr_line_month  earliest_cr_line_year      term  \\\n",
       "0               -0.217886              -0.270704  0.690939   \n",
       "1                0.957605              -0.830117  0.690939   \n",
       "2               -1.687248               0.288709  0.690939   \n",
       "3                1.251477              -0.550411  0.690939   \n",
       "4               -1.393376              -0.270704  0.690939   \n",
       "\n",
       "   initial_list_status     grade  sub_grade       ANY  MORTGAGE      NONE  \\\n",
       "0              1.03777  0.791627   0.270731 -0.016391  1.090377 -0.008029   \n",
       "1              1.03777 -0.473750  -0.279696 -0.016391  1.090377 -0.008029   \n",
       "2              1.03777  0.791627   1.371584 -0.016391 -0.917114 -0.008029   \n",
       "3              1.03777  0.791627   0.270731 -0.016391  1.090377 -0.008029   \n",
       "4              1.03777 -0.473750  -0.004483 -0.016391 -0.917114 -0.008029   \n",
       "\n",
       "      OTHER       OWN      RENT       car  credit_card  debt_consolidation  \\\n",
       "0 -0.008029 -0.356997 -0.868052 -0.079872    -0.338635           -1.339332   \n",
       "1 -0.008029 -0.356997 -0.868052 -0.079872    -0.338635            0.746641   \n",
       "2 -0.008029 -0.356997  1.152005 -0.079872    -0.338635            0.746641   \n",
       "3 -0.008029 -0.356997 -0.868052 -0.079872    -0.338635            0.746641   \n",
       "4 -0.008029 -0.356997  1.152005 -0.079872    -0.338635           -1.339332   \n",
       "\n",
       "   home_improvement     house  major_purchase   medical   moving     other  \\\n",
       "0         -0.250197 -0.117242        7.035681 -0.118367 -0.10911 -0.314762   \n",
       "1         -0.250197 -0.117242       -0.142133 -0.118367 -0.10911 -0.314762   \n",
       "2         -0.250197 -0.117242       -0.142133 -0.118367 -0.10911 -0.314762   \n",
       "3         -0.250197 -0.117242       -0.142133 -0.118367 -0.10911 -0.314762   \n",
       "4         -0.250197 -0.117242        7.035681 -0.118367 -0.10911 -0.314762   \n",
       "\n",
       "   renewable_energy  small_business  vacation   wedding  loan_status_bin  \n",
       "0         -0.036377       -0.179301   -0.0771 -0.048454              1.0  \n",
       "1         -0.036377       -0.179301   -0.0771 -0.048454              1.0  \n",
       "2         -0.036377       -0.179301   -0.0771 -0.048454              0.0  \n",
       "3         -0.036377       -0.179301   -0.0771 -0.048454              1.0  \n",
       "4         -0.036377       -0.179301   -0.0771 -0.048454              0.0  "
      ]
     },
     "execution_count": 27,
     "metadata": {},
     "output_type": "execute_result"
    }
   ],
   "source": [
    "data.head(5)"
   ]
  },
  {
   "cell_type": "code",
   "execution_count": 28,
   "id": "e2bc504c",
   "metadata": {},
   "outputs": [
    {
     "data": {
      "text/plain": [
       "(93073, 41)"
      ]
     },
     "execution_count": 28,
     "metadata": {},
     "output_type": "execute_result"
    }
   ],
   "source": [
    "data.shape"
   ]
  },
  {
   "cell_type": "code",
   "execution_count": 29,
   "id": "79f7fea2",
   "metadata": {},
   "outputs": [
    {
     "data": {
      "text/plain": [
       "1.0    54388\n",
       "0.0    38685\n",
       "Name: loan_status_bin, dtype: int64"
      ]
     },
     "execution_count": 29,
     "metadata": {},
     "output_type": "execute_result"
    }
   ],
   "source": [
    "data.loan_status_bin.value_counts()"
   ]
  },
  {
   "cell_type": "code",
   "execution_count": 30,
   "id": "ff93c60b",
   "metadata": {},
   "outputs": [
    {
     "data": {
      "text/plain": [
       "(93073, 40)"
      ]
     },
     "execution_count": 30,
     "metadata": {},
     "output_type": "execute_result"
    }
   ],
   "source": [
    "X = data.drop('loan_status_bin', axis=1)\n",
    "X.shape"
   ]
  },
  {
   "cell_type": "code",
   "execution_count": 31,
   "id": "d6f47bde",
   "metadata": {},
   "outputs": [],
   "source": [
    "y = data['loan_status_bin']"
   ]
  },
  {
   "cell_type": "code",
   "execution_count": 46,
   "id": "e41f44d6",
   "metadata": {},
   "outputs": [],
   "source": [
    "n_features = 10\n",
    "lr = LogisticRegression()\n",
    "sfs = SequentialFeatureSelector(lr, n_features_to_select=n_features)"
   ]
  },
  {
   "cell_type": "code",
   "execution_count": 47,
   "id": "b4eb8b6c",
   "metadata": {},
   "outputs": [
    {
     "data": {
      "text/html": [
       "<style>#sk-container-id-4 {color: black;background-color: white;}#sk-container-id-4 pre{padding: 0;}#sk-container-id-4 div.sk-toggleable {background-color: white;}#sk-container-id-4 label.sk-toggleable__label {cursor: pointer;display: block;width: 100%;margin-bottom: 0;padding: 0.3em;box-sizing: border-box;text-align: center;}#sk-container-id-4 label.sk-toggleable__label-arrow:before {content: \"▸\";float: left;margin-right: 0.25em;color: #696969;}#sk-container-id-4 label.sk-toggleable__label-arrow:hover:before {color: black;}#sk-container-id-4 div.sk-estimator:hover label.sk-toggleable__label-arrow:before {color: black;}#sk-container-id-4 div.sk-toggleable__content {max-height: 0;max-width: 0;overflow: hidden;text-align: left;background-color: #f0f8ff;}#sk-container-id-4 div.sk-toggleable__content pre {margin: 0.2em;color: black;border-radius: 0.25em;background-color: #f0f8ff;}#sk-container-id-4 input.sk-toggleable__control:checked~div.sk-toggleable__content {max-height: 200px;max-width: 100%;overflow: auto;}#sk-container-id-4 input.sk-toggleable__control:checked~label.sk-toggleable__label-arrow:before {content: \"▾\";}#sk-container-id-4 div.sk-estimator input.sk-toggleable__control:checked~label.sk-toggleable__label {background-color: #d4ebff;}#sk-container-id-4 div.sk-label input.sk-toggleable__control:checked~label.sk-toggleable__label {background-color: #d4ebff;}#sk-container-id-4 input.sk-hidden--visually {border: 0;clip: rect(1px 1px 1px 1px);clip: rect(1px, 1px, 1px, 1px);height: 1px;margin: -1px;overflow: hidden;padding: 0;position: absolute;width: 1px;}#sk-container-id-4 div.sk-estimator {font-family: monospace;background-color: #f0f8ff;border: 1px dotted black;border-radius: 0.25em;box-sizing: border-box;margin-bottom: 0.5em;}#sk-container-id-4 div.sk-estimator:hover {background-color: #d4ebff;}#sk-container-id-4 div.sk-parallel-item::after {content: \"\";width: 100%;border-bottom: 1px solid gray;flex-grow: 1;}#sk-container-id-4 div.sk-label:hover label.sk-toggleable__label {background-color: #d4ebff;}#sk-container-id-4 div.sk-serial::before {content: \"\";position: absolute;border-left: 1px solid gray;box-sizing: border-box;top: 0;bottom: 0;left: 50%;z-index: 0;}#sk-container-id-4 div.sk-serial {display: flex;flex-direction: column;align-items: center;background-color: white;padding-right: 0.2em;padding-left: 0.2em;position: relative;}#sk-container-id-4 div.sk-item {position: relative;z-index: 1;}#sk-container-id-4 div.sk-parallel {display: flex;align-items: stretch;justify-content: center;background-color: white;position: relative;}#sk-container-id-4 div.sk-item::before, #sk-container-id-4 div.sk-parallel-item::before {content: \"\";position: absolute;border-left: 1px solid gray;box-sizing: border-box;top: 0;bottom: 0;left: 50%;z-index: -1;}#sk-container-id-4 div.sk-parallel-item {display: flex;flex-direction: column;z-index: 1;position: relative;background-color: white;}#sk-container-id-4 div.sk-parallel-item:first-child::after {align-self: flex-end;width: 50%;}#sk-container-id-4 div.sk-parallel-item:last-child::after {align-self: flex-start;width: 50%;}#sk-container-id-4 div.sk-parallel-item:only-child::after {width: 0;}#sk-container-id-4 div.sk-dashed-wrapped {border: 1px dashed gray;margin: 0 0.4em 0.5em 0.4em;box-sizing: border-box;padding-bottom: 0.4em;background-color: white;}#sk-container-id-4 div.sk-label label {font-family: monospace;font-weight: bold;display: inline-block;line-height: 1.2em;}#sk-container-id-4 div.sk-label-container {text-align: center;}#sk-container-id-4 div.sk-container {/* jupyter's `normalize.less` sets `[hidden] { display: none; }` but bootstrap.min.css set `[hidden] { display: none !important; }` so we also need the `!important` here to be able to override the default hidden behavior on the sphinx rendered scikit-learn.org. See: https://github.com/scikit-learn/scikit-learn/issues/21755 */display: inline-block !important;position: relative;}#sk-container-id-4 div.sk-text-repr-fallback {display: none;}</style><div id=\"sk-container-id-4\" class=\"sk-top-container\"><div class=\"sk-text-repr-fallback\"><pre>SequentialFeatureSelector(estimator=LogisticRegression(),\n",
       "                          n_features_to_select=10)</pre><b>In a Jupyter environment, please rerun this cell to show the HTML representation or trust the notebook. <br />On GitHub, the HTML representation is unable to render, please try loading this page with nbviewer.org.</b></div><div class=\"sk-container\" hidden><div class=\"sk-item sk-dashed-wrapped\"><div class=\"sk-label-container\"><div class=\"sk-label sk-toggleable\"><input class=\"sk-toggleable__control sk-hidden--visually\" id=\"sk-estimator-id-10\" type=\"checkbox\" ><label for=\"sk-estimator-id-10\" class=\"sk-toggleable__label sk-toggleable__label-arrow\">SequentialFeatureSelector</label><div class=\"sk-toggleable__content\"><pre>SequentialFeatureSelector(estimator=LogisticRegression(),\n",
       "                          n_features_to_select=10)</pre></div></div></div><div class=\"sk-parallel\"><div class=\"sk-parallel-item\"><div class=\"sk-item\"><div class=\"sk-label-container\"><div class=\"sk-label sk-toggleable\"><input class=\"sk-toggleable__control sk-hidden--visually\" id=\"sk-estimator-id-11\" type=\"checkbox\" ><label for=\"sk-estimator-id-11\" class=\"sk-toggleable__label sk-toggleable__label-arrow\">estimator: LogisticRegression</label><div class=\"sk-toggleable__content\"><pre>LogisticRegression()</pre></div></div></div><div class=\"sk-serial\"><div class=\"sk-item\"><div class=\"sk-estimator sk-toggleable\"><input class=\"sk-toggleable__control sk-hidden--visually\" id=\"sk-estimator-id-12\" type=\"checkbox\" ><label for=\"sk-estimator-id-12\" class=\"sk-toggleable__label sk-toggleable__label-arrow\">LogisticRegression</label><div class=\"sk-toggleable__content\"><pre>LogisticRegression()</pre></div></div></div></div></div></div></div></div></div></div>"
      ],
      "text/plain": [
       "SequentialFeatureSelector(estimator=LogisticRegression(),\n",
       "                          n_features_to_select=10)"
      ]
     },
     "execution_count": 47,
     "metadata": {},
     "output_type": "execute_result"
    }
   ],
   "source": [
    "sfs.fit(X,y)"
   ]
  },
  {
   "cell_type": "code",
   "execution_count": 48,
   "id": "70c93071",
   "metadata": {},
   "outputs": [],
   "source": [
    "#sfs.get_support()"
   ]
  },
  {
   "cell_type": "code",
   "execution_count": 49,
   "id": "dbffd04e",
   "metadata": {},
   "outputs": [
    {
     "name": "stdout",
     "output_type": "stream",
     "text": [
      "Top 10 features selected by forward sequential selection:['annual_inc', 'dti', 'fico_range_low', 'installment', 'open_acc', 'revol_bal', 'term', 'grade', 'sub_grade', 'RENT']\n"
     ]
    }
   ],
   "source": [
    "print(\"Top {} features selected by forward sequential selection:{}\"\\\n",
    "      .format(n_features, list(X.columns[sfs.get_support()])))\n"
   ]
  },
  {
   "cell_type": "code",
   "execution_count": 51,
   "id": "1f39da4f",
   "metadata": {},
   "outputs": [
    {
     "data": {
      "text/plain": [
       "['annual_inc',\n",
       " 'dti',\n",
       " 'fico_range_low',\n",
       " 'installment',\n",
       " 'open_acc',\n",
       " 'revol_bal',\n",
       " 'term',\n",
       " 'grade',\n",
       " 'sub_grade',\n",
       " 'RENT']"
      ]
     },
     "execution_count": 51,
     "metadata": {},
     "output_type": "execute_result"
    }
   ],
   "source": [
    "feat = list(X.columns[sfs.get_support()])\n",
    "feat"
   ]
  },
  {
   "cell_type": "code",
   "execution_count": 67,
   "id": "d2d0e00e",
   "metadata": {},
   "outputs": [],
   "source": [
    "X_feat = data[feat]"
   ]
  },
  {
   "cell_type": "code",
   "execution_count": 68,
   "id": "eb0b2988",
   "metadata": {},
   "outputs": [
    {
     "data": {
      "text/plain": [
       "0        1.0\n",
       "1        1.0\n",
       "2        0.0\n",
       "3        1.0\n",
       "4        0.0\n",
       "        ... \n",
       "93068    0.0\n",
       "93069    1.0\n",
       "93070    1.0\n",
       "93071    1.0\n",
       "93072    1.0\n",
       "Name: loan_status_bin, Length: 93073, dtype: float64"
      ]
     },
     "execution_count": 68,
     "metadata": {},
     "output_type": "execute_result"
    }
   ],
   "source": [
    "y = data['loan_status_bin']\n",
    "y"
   ]
  },
  {
   "cell_type": "code",
   "execution_count": 69,
   "id": "a888c925",
   "metadata": {},
   "outputs": [],
   "source": [
    "lr_check = LogisticRegression()\n",
    "steps = [('model', lr_check)]\n",
    "pipeline = Pipeline(steps=steps)"
   ]
  },
  {
   "cell_type": "code",
   "execution_count": 70,
   "id": "0423b0b2",
   "metadata": {},
   "outputs": [
    {
     "name": "stdout",
     "output_type": "stream",
     "text": [
      "[0.60714478 0.61063658 0.61009938 0.60852047 0.60653272]\n",
      "0.6085867854223559\n"
     ]
    }
   ],
   "source": [
    "#Accuracy:\n",
    "\n",
    "cv = RepeatedStratifiedKFold(n_splits=5, n_repeats=1, random_state=1)\n",
    "scores = cross_val_score(pipeline, X_feat, y, scoring='accuracy', cv=cv, n_jobs=-1) \n",
    "print(scores)\n",
    "\n",
    "score = np.mean(scores)\n",
    "print(score)"
   ]
  },
  {
   "cell_type": "code",
   "execution_count": null,
   "id": "80613a5c",
   "metadata": {},
   "outputs": [],
   "source": []
  },
  {
   "cell_type": "code",
   "execution_count": 71,
   "id": "0e5c48bf",
   "metadata": {},
   "outputs": [],
   "source": [
    "from sklearn.ensemble import AdaBoostClassifier\n",
    "ada = AdaBoostClassifier()\n",
    "steps2 = [('model', ada)]\n",
    "pipeline2 = Pipeline(steps=steps2)"
   ]
  },
  {
   "cell_type": "code",
   "execution_count": 72,
   "id": "34d06f94",
   "metadata": {},
   "outputs": [
    {
     "name": "stdout",
     "output_type": "stream",
     "text": [
      "[0.60521085 0.61208703 0.60650013 0.60631783 0.60524337]\n",
      "0.60707184057148\n"
     ]
    }
   ],
   "source": [
    "#Accuracy:\n",
    "\n",
    "cv = RepeatedStratifiedKFold(n_splits=5, n_repeats=1, random_state=1)\n",
    "scores = cross_val_score(pipeline2, X_feat, y, scoring='accuracy', cv=cv, n_jobs=-1) \n",
    "print(scores)\n",
    "\n",
    "score = np.mean(scores)\n",
    "print(score)"
   ]
  },
  {
   "cell_type": "code",
   "execution_count": null,
   "id": "379e763c",
   "metadata": {},
   "outputs": [],
   "source": []
  },
  {
   "cell_type": "code",
   "execution_count": 73,
   "id": "dd8bb743",
   "metadata": {},
   "outputs": [],
   "source": [
    "from sklearn.neural_network import MLPClassifier\n",
    "nn = MLPClassifier(alpha=1, max_iter=1000)\n",
    "steps3 = [('model', nn)]\n",
    "pipeline3 = Pipeline(steps=steps3)"
   ]
  },
  {
   "cell_type": "code",
   "execution_count": 74,
   "id": "69659651",
   "metadata": {},
   "outputs": [
    {
     "name": "stdout",
     "output_type": "stream",
     "text": [
      "[0.60644641 0.61197959 0.60864894 0.60782207 0.60545826]\n",
      "0.6080710532401465\n"
     ]
    }
   ],
   "source": [
    "#Accuracy:\n",
    "\n",
    "cv = RepeatedStratifiedKFold(n_splits=5, n_repeats=1, random_state=1)\n",
    "scores = cross_val_score(pipeline3, X_feat, y, scoring='accuracy', cv=cv, n_jobs=-1) \n",
    "print(scores)\n",
    "\n",
    "score = np.mean(scores)\n",
    "print(score)"
   ]
  },
  {
   "cell_type": "code",
   "execution_count": null,
   "id": "f5ed01b9",
   "metadata": {},
   "outputs": [],
   "source": []
  },
  {
   "cell_type": "code",
   "execution_count": 76,
   "id": "18cbf57c",
   "metadata": {},
   "outputs": [],
   "source": [
    "from sklearn.ensemble import GradientBoostingClassifier\n",
    "gb = GradientBoostingClassifier()\n",
    "steps4 = [('model', gb)]\n",
    "pipeline4 = Pipeline(steps=steps4)"
   ]
  },
  {
   "cell_type": "code",
   "execution_count": 77,
   "id": "82650289",
   "metadata": {},
   "outputs": [
    {
     "name": "stdout",
     "output_type": "stream",
     "text": [
      "[0.60805802 0.61375235 0.61160355 0.60970237 0.60733856]\n",
      "0.6100909700879606\n"
     ]
    }
   ],
   "source": [
    "#Accuracy:\n",
    "\n",
    "cv = RepeatedStratifiedKFold(n_splits=5, n_repeats=1, random_state=1)\n",
    "scores = cross_val_score(pipeline4, X_feat, y, scoring='accuracy', cv=cv, n_jobs=-1) \n",
    "print(scores)\n",
    "\n",
    "score = np.mean(scores)\n",
    "print(score)"
   ]
  },
  {
   "cell_type": "code",
   "execution_count": null,
   "id": "b095c060",
   "metadata": {},
   "outputs": [],
   "source": []
  },
  {
   "cell_type": "code",
   "execution_count": null,
   "id": "9df59e81",
   "metadata": {},
   "outputs": [],
   "source": []
  }
 ],
 "metadata": {
  "hide_input": false,
  "kernelspec": {
   "display_name": "Python 3 (ipykernel)",
   "language": "python",
   "name": "python3"
  },
  "language_info": {
   "codemirror_mode": {
    "name": "ipython",
    "version": 3
   },
   "file_extension": ".py",
   "mimetype": "text/x-python",
   "name": "python",
   "nbconvert_exporter": "python",
   "pygments_lexer": "ipython3",
   "version": "3.8.8"
  },
  "varInspector": {
   "cols": {
    "lenName": 16,
    "lenType": 16,
    "lenVar": 40
   },
   "kernels_config": {
    "python": {
     "delete_cmd_postfix": "",
     "delete_cmd_prefix": "del ",
     "library": "var_list.py",
     "varRefreshCmd": "print(var_dic_list())"
    },
    "r": {
     "delete_cmd_postfix": ") ",
     "delete_cmd_prefix": "rm(",
     "library": "var_list.r",
     "varRefreshCmd": "cat(var_dic_list()) "
    }
   },
   "types_to_exclude": [
    "module",
    "function",
    "builtin_function_or_method",
    "instance",
    "_Feature"
   ],
   "window_display": false
  }
 },
 "nbformat": 4,
 "nbformat_minor": 5
}
