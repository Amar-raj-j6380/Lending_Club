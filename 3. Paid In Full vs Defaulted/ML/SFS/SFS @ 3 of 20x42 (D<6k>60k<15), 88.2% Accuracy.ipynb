{
 "cells": [
  {
   "cell_type": "code",
   "execution_count": 1,
   "id": "891650eb",
   "metadata": {},
   "outputs": [],
   "source": [
    "import pandas as pd\n",
    "from sklearn.linear_model import LogisticRegression\n",
    "from sklearn.feature_selection import SequentialFeatureSelector\n",
    "\n",
    "from imblearn.pipeline import Pipeline\n",
    "from sklearn.model_selection import RepeatedStratifiedKFold, cross_val_score"
   ]
  },
  {
   "cell_type": "code",
   "execution_count": 2,
   "id": "75e9e0cb",
   "metadata": {},
   "outputs": [],
   "source": [
    "pd.set_option(\"display.max_columns\", 200)\n",
    "pd.set_option(\"display.max_row\", 160)\n",
    "pd.set_option('max_colwidth', 200)"
   ]
  },
  {
   "cell_type": "code",
   "execution_count": 3,
   "id": "e4071527",
   "metadata": {},
   "outputs": [],
   "source": [
    "data = pd.read_csv('../../Data/20x42_D66015.csv')"
   ]
  },
  {
   "cell_type": "code",
   "execution_count": 4,
   "id": "b397a6b0",
   "metadata": {},
   "outputs": [
    {
     "data": {
      "text/html": [
       "<div>\n",
       "<style scoped>\n",
       "    .dataframe tbody tr th:only-of-type {\n",
       "        vertical-align: middle;\n",
       "    }\n",
       "\n",
       "    .dataframe tbody tr th {\n",
       "        vertical-align: top;\n",
       "    }\n",
       "\n",
       "    .dataframe thead th {\n",
       "        text-align: right;\n",
       "    }\n",
       "</style>\n",
       "<table border=\"1\" class=\"dataframe\">\n",
       "  <thead>\n",
       "    <tr style=\"text-align: right;\">\n",
       "      <th></th>\n",
       "      <th>loan_amnt</th>\n",
       "      <th>annual_inc</th>\n",
       "      <th>dti</th>\n",
       "      <th>fico_range_low</th>\n",
       "      <th>fico_range_high</th>\n",
       "      <th>int_rate</th>\n",
       "      <th>installment</th>\n",
       "      <th>open_acc</th>\n",
       "      <th>total_acc</th>\n",
       "      <th>revol_bal</th>\n",
       "      <th>revol_util</th>\n",
       "      <th>inq_last_6mths</th>\n",
       "      <th>delinq_2yrs</th>\n",
       "      <th>acc_now_delinq</th>\n",
       "      <th>collections_12_mths_ex_med</th>\n",
       "      <th>tot_coll_amt</th>\n",
       "      <th>tot_cur_bal</th>\n",
       "      <th>pub_rec</th>\n",
       "      <th>months_cr_line</th>\n",
       "      <th>term</th>\n",
       "      <th>initial_list_status</th>\n",
       "      <th>sub_grade</th>\n",
       "      <th>emp_length</th>\n",
       "      <th>MORTGAGE</th>\n",
       "      <th>OWN</th>\n",
       "      <th>RENT</th>\n",
       "      <th>car</th>\n",
       "      <th>credit_card</th>\n",
       "      <th>debt_consolidation</th>\n",
       "      <th>home_improvement</th>\n",
       "      <th>house</th>\n",
       "      <th>major_purchase</th>\n",
       "      <th>medical</th>\n",
       "      <th>moving</th>\n",
       "      <th>other</th>\n",
       "      <th>small_business</th>\n",
       "      <th>vacation</th>\n",
       "      <th>Not Verified</th>\n",
       "      <th>Source Verified</th>\n",
       "      <th>Verified</th>\n",
       "      <th>loan_status_bin</th>\n",
       "    </tr>\n",
       "  </thead>\n",
       "  <tbody>\n",
       "    <tr>\n",
       "      <th>0</th>\n",
       "      <td>-1.617892</td>\n",
       "      <td>-0.159444</td>\n",
       "      <td>0.818226</td>\n",
       "      <td>-0.445124</td>\n",
       "      <td>-0.445124</td>\n",
       "      <td>-0.652128</td>\n",
       "      <td>-1.618351</td>\n",
       "      <td>-0.470515</td>\n",
       "      <td>0.027112</td>\n",
       "      <td>0.040613</td>\n",
       "      <td>0.258267</td>\n",
       "      <td>-0.984507</td>\n",
       "      <td>-0.48967</td>\n",
       "      <td>0.0</td>\n",
       "      <td>-0.132686</td>\n",
       "      <td>-0.212846</td>\n",
       "      <td>-0.636643</td>\n",
       "      <td>-0.352472</td>\n",
       "      <td>-0.152326</td>\n",
       "      <td>-0.058926</td>\n",
       "      <td>0.942809</td>\n",
       "      <td>-1.429022</td>\n",
       "      <td>-0.019978</td>\n",
       "      <td>-0.727393</td>\n",
       "      <td>-0.371208</td>\n",
       "      <td>0.936282</td>\n",
       "      <td>-0.208138</td>\n",
       "      <td>-0.321019</td>\n",
       "      <td>-0.732963</td>\n",
       "      <td>-0.257722</td>\n",
       "      <td>-0.11847</td>\n",
       "      <td>-0.198918</td>\n",
       "      <td>-0.225630</td>\n",
       "      <td>-0.208138</td>\n",
       "      <td>1.659291</td>\n",
       "      <td>-0.11847</td>\n",
       "      <td>-0.179284</td>\n",
       "      <td>1.212471</td>\n",
       "      <td>-0.738549</td>\n",
       "      <td>-0.565362</td>\n",
       "      <td>0.0</td>\n",
       "    </tr>\n",
       "    <tr>\n",
       "      <th>1</th>\n",
       "      <td>0.998307</td>\n",
       "      <td>-0.013596</td>\n",
       "      <td>-0.021126</td>\n",
       "      <td>-0.756603</td>\n",
       "      <td>-0.756603</td>\n",
       "      <td>1.344381</td>\n",
       "      <td>1.047605</td>\n",
       "      <td>0.368860</td>\n",
       "      <td>0.119291</td>\n",
       "      <td>-0.434052</td>\n",
       "      <td>-0.718750</td>\n",
       "      <td>-0.106351</td>\n",
       "      <td>-0.48967</td>\n",
       "      <td>0.0</td>\n",
       "      <td>-0.132686</td>\n",
       "      <td>-0.212846</td>\n",
       "      <td>-0.633592</td>\n",
       "      <td>3.160097</td>\n",
       "      <td>0.506178</td>\n",
       "      <td>-0.058926</td>\n",
       "      <td>0.942809</td>\n",
       "      <td>0.699779</td>\n",
       "      <td>-1.669549</td>\n",
       "      <td>-0.727393</td>\n",
       "      <td>-0.371208</td>\n",
       "      <td>0.936282</td>\n",
       "      <td>-0.208138</td>\n",
       "      <td>-0.321019</td>\n",
       "      <td>-0.732963</td>\n",
       "      <td>3.880149</td>\n",
       "      <td>-0.11847</td>\n",
       "      <td>-0.198918</td>\n",
       "      <td>-0.225630</td>\n",
       "      <td>-0.208138</td>\n",
       "      <td>-0.602667</td>\n",
       "      <td>-0.11847</td>\n",
       "      <td>-0.179284</td>\n",
       "      <td>-0.824762</td>\n",
       "      <td>1.354006</td>\n",
       "      <td>-0.565362</td>\n",
       "      <td>1.0</td>\n",
       "    </tr>\n",
       "    <tr>\n",
       "      <th>2</th>\n",
       "      <td>-0.496664</td>\n",
       "      <td>0.245284</td>\n",
       "      <td>0.616782</td>\n",
       "      <td>-0.445124</td>\n",
       "      <td>-0.445124</td>\n",
       "      <td>1.344381</td>\n",
       "      <td>-0.463143</td>\n",
       "      <td>-0.680359</td>\n",
       "      <td>-1.079039</td>\n",
       "      <td>1.434940</td>\n",
       "      <td>1.718384</td>\n",
       "      <td>-0.984507</td>\n",
       "      <td>-0.48967</td>\n",
       "      <td>0.0</td>\n",
       "      <td>-0.132686</td>\n",
       "      <td>-0.212846</td>\n",
       "      <td>-0.416120</td>\n",
       "      <td>-0.352472</td>\n",
       "      <td>2.749971</td>\n",
       "      <td>-0.058926</td>\n",
       "      <td>0.942809</td>\n",
       "      <td>0.699779</td>\n",
       "      <td>-0.294906</td>\n",
       "      <td>-0.727393</td>\n",
       "      <td>2.693908</td>\n",
       "      <td>-1.068055</td>\n",
       "      <td>-0.208138</td>\n",
       "      <td>-0.321019</td>\n",
       "      <td>-0.732963</td>\n",
       "      <td>-0.257722</td>\n",
       "      <td>-0.11847</td>\n",
       "      <td>-0.198918</td>\n",
       "      <td>-0.225630</td>\n",
       "      <td>-0.208138</td>\n",
       "      <td>1.659291</td>\n",
       "      <td>-0.11847</td>\n",
       "      <td>-0.179284</td>\n",
       "      <td>-0.824762</td>\n",
       "      <td>-0.738549</td>\n",
       "      <td>1.768777</td>\n",
       "      <td>0.0</td>\n",
       "    </tr>\n",
       "    <tr>\n",
       "      <th>3</th>\n",
       "      <td>0.998307</td>\n",
       "      <td>0.022866</td>\n",
       "      <td>0.668434</td>\n",
       "      <td>0.177834</td>\n",
       "      <td>0.177834</td>\n",
       "      <td>1.344381</td>\n",
       "      <td>1.047605</td>\n",
       "      <td>1.627924</td>\n",
       "      <td>0.764545</td>\n",
       "      <td>2.552955</td>\n",
       "      <td>0.492606</td>\n",
       "      <td>-0.984507</td>\n",
       "      <td>-0.48967</td>\n",
       "      <td>0.0</td>\n",
       "      <td>-0.132686</td>\n",
       "      <td>-0.212846</td>\n",
       "      <td>1.170891</td>\n",
       "      <td>-0.352472</td>\n",
       "      <td>-0.725469</td>\n",
       "      <td>-0.058926</td>\n",
       "      <td>-1.060660</td>\n",
       "      <td>0.699779</td>\n",
       "      <td>-0.294906</td>\n",
       "      <td>1.374773</td>\n",
       "      <td>-0.371208</td>\n",
       "      <td>-1.068055</td>\n",
       "      <td>-0.208138</td>\n",
       "      <td>-0.321019</td>\n",
       "      <td>-0.732963</td>\n",
       "      <td>-0.257722</td>\n",
       "      <td>-0.11847</td>\n",
       "      <td>-0.198918</td>\n",
       "      <td>4.432026</td>\n",
       "      <td>-0.208138</td>\n",
       "      <td>-0.602667</td>\n",
       "      <td>-0.11847</td>\n",
       "      <td>-0.179284</td>\n",
       "      <td>-0.824762</td>\n",
       "      <td>1.354006</td>\n",
       "      <td>-0.565362</td>\n",
       "      <td>0.0</td>\n",
       "    </tr>\n",
       "    <tr>\n",
       "      <th>4</th>\n",
       "      <td>0.848810</td>\n",
       "      <td>-0.183363</td>\n",
       "      <td>1.081653</td>\n",
       "      <td>-0.445124</td>\n",
       "      <td>-0.445124</td>\n",
       "      <td>1.344381</td>\n",
       "      <td>0.896590</td>\n",
       "      <td>1.627924</td>\n",
       "      <td>2.055053</td>\n",
       "      <td>-0.406225</td>\n",
       "      <td>-0.686303</td>\n",
       "      <td>0.771805</td>\n",
       "      <td>-0.48967</td>\n",
       "      <td>0.0</td>\n",
       "      <td>-0.132686</td>\n",
       "      <td>0.491336</td>\n",
       "      <td>0.123990</td>\n",
       "      <td>-0.352472</td>\n",
       "      <td>-0.152326</td>\n",
       "      <td>-0.058926</td>\n",
       "      <td>0.942809</td>\n",
       "      <td>0.699779</td>\n",
       "      <td>-1.669549</td>\n",
       "      <td>-0.727393</td>\n",
       "      <td>2.693908</td>\n",
       "      <td>-1.068055</td>\n",
       "      <td>-0.208138</td>\n",
       "      <td>-0.321019</td>\n",
       "      <td>1.364326</td>\n",
       "      <td>-0.257722</td>\n",
       "      <td>-0.11847</td>\n",
       "      <td>-0.198918</td>\n",
       "      <td>-0.225630</td>\n",
       "      <td>-0.208138</td>\n",
       "      <td>-0.602667</td>\n",
       "      <td>-0.11847</td>\n",
       "      <td>-0.179284</td>\n",
       "      <td>-0.824762</td>\n",
       "      <td>-0.738549</td>\n",
       "      <td>1.768777</td>\n",
       "      <td>1.0</td>\n",
       "    </tr>\n",
       "  </tbody>\n",
       "</table>\n",
       "</div>"
      ],
      "text/plain": [
       "   loan_amnt  annual_inc       dti  fico_range_low  fico_range_high  int_rate  \\\n",
       "0  -1.617892   -0.159444  0.818226       -0.445124        -0.445124 -0.652128   \n",
       "1   0.998307   -0.013596 -0.021126       -0.756603        -0.756603  1.344381   \n",
       "2  -0.496664    0.245284  0.616782       -0.445124        -0.445124  1.344381   \n",
       "3   0.998307    0.022866  0.668434        0.177834         0.177834  1.344381   \n",
       "4   0.848810   -0.183363  1.081653       -0.445124        -0.445124  1.344381   \n",
       "\n",
       "   installment  open_acc  total_acc  revol_bal  revol_util  inq_last_6mths  \\\n",
       "0    -1.618351 -0.470515   0.027112   0.040613    0.258267       -0.984507   \n",
       "1     1.047605  0.368860   0.119291  -0.434052   -0.718750       -0.106351   \n",
       "2    -0.463143 -0.680359  -1.079039   1.434940    1.718384       -0.984507   \n",
       "3     1.047605  1.627924   0.764545   2.552955    0.492606       -0.984507   \n",
       "4     0.896590  1.627924   2.055053  -0.406225   -0.686303        0.771805   \n",
       "\n",
       "   delinq_2yrs  acc_now_delinq  collections_12_mths_ex_med  tot_coll_amt  \\\n",
       "0     -0.48967             0.0                   -0.132686     -0.212846   \n",
       "1     -0.48967             0.0                   -0.132686     -0.212846   \n",
       "2     -0.48967             0.0                   -0.132686     -0.212846   \n",
       "3     -0.48967             0.0                   -0.132686     -0.212846   \n",
       "4     -0.48967             0.0                   -0.132686      0.491336   \n",
       "\n",
       "   tot_cur_bal   pub_rec  months_cr_line      term  initial_list_status  \\\n",
       "0    -0.636643 -0.352472       -0.152326 -0.058926             0.942809   \n",
       "1    -0.633592  3.160097        0.506178 -0.058926             0.942809   \n",
       "2    -0.416120 -0.352472        2.749971 -0.058926             0.942809   \n",
       "3     1.170891 -0.352472       -0.725469 -0.058926            -1.060660   \n",
       "4     0.123990 -0.352472       -0.152326 -0.058926             0.942809   \n",
       "\n",
       "   sub_grade  emp_length  MORTGAGE       OWN      RENT       car  credit_card  \\\n",
       "0  -1.429022   -0.019978 -0.727393 -0.371208  0.936282 -0.208138    -0.321019   \n",
       "1   0.699779   -1.669549 -0.727393 -0.371208  0.936282 -0.208138    -0.321019   \n",
       "2   0.699779   -0.294906 -0.727393  2.693908 -1.068055 -0.208138    -0.321019   \n",
       "3   0.699779   -0.294906  1.374773 -0.371208 -1.068055 -0.208138    -0.321019   \n",
       "4   0.699779   -1.669549 -0.727393  2.693908 -1.068055 -0.208138    -0.321019   \n",
       "\n",
       "   debt_consolidation  home_improvement    house  major_purchase   medical  \\\n",
       "0           -0.732963         -0.257722 -0.11847       -0.198918 -0.225630   \n",
       "1           -0.732963          3.880149 -0.11847       -0.198918 -0.225630   \n",
       "2           -0.732963         -0.257722 -0.11847       -0.198918 -0.225630   \n",
       "3           -0.732963         -0.257722 -0.11847       -0.198918  4.432026   \n",
       "4            1.364326         -0.257722 -0.11847       -0.198918 -0.225630   \n",
       "\n",
       "     moving     other  small_business  vacation  Not Verified  \\\n",
       "0 -0.208138  1.659291        -0.11847 -0.179284      1.212471   \n",
       "1 -0.208138 -0.602667        -0.11847 -0.179284     -0.824762   \n",
       "2 -0.208138  1.659291        -0.11847 -0.179284     -0.824762   \n",
       "3 -0.208138 -0.602667        -0.11847 -0.179284     -0.824762   \n",
       "4 -0.208138 -0.602667        -0.11847 -0.179284     -0.824762   \n",
       "\n",
       "   Source Verified  Verified  loan_status_bin  \n",
       "0        -0.738549 -0.565362              0.0  \n",
       "1         1.354006 -0.565362              1.0  \n",
       "2        -0.738549  1.768777              0.0  \n",
       "3         1.354006 -0.565362              0.0  \n",
       "4        -0.738549  1.768777              1.0  "
      ]
     },
     "execution_count": 4,
     "metadata": {},
     "output_type": "execute_result"
    }
   ],
   "source": [
    "data.head(5)"
   ]
  },
  {
   "cell_type": "code",
   "execution_count": 5,
   "id": "e2bc504c",
   "metadata": {},
   "outputs": [
    {
     "data": {
      "text/plain": [
       "(289, 41)"
      ]
     },
     "execution_count": 5,
     "metadata": {},
     "output_type": "execute_result"
    }
   ],
   "source": [
    "data.shape"
   ]
  },
  {
   "cell_type": "code",
   "execution_count": 6,
   "id": "79f7fea2",
   "metadata": {},
   "outputs": [
    {
     "data": {
      "text/plain": [
       "1.0    255\n",
       "0.0     34\n",
       "Name: loan_status_bin, dtype: int64"
      ]
     },
     "execution_count": 6,
     "metadata": {},
     "output_type": "execute_result"
    }
   ],
   "source": [
    "data.loan_status_bin.value_counts()"
   ]
  },
  {
   "cell_type": "code",
   "execution_count": 7,
   "id": "c5f95e95",
   "metadata": {},
   "outputs": [
    {
     "data": {
      "text/plain": [
       "0.8823529411764706"
      ]
     },
     "execution_count": 7,
     "metadata": {},
     "output_type": "execute_result"
    }
   ],
   "source": [
    "#Null Model (or random investment) will yield, 59.3% of picking a good loan: \n",
    "data.loan_status_bin.value_counts()[1] / len(data)"
   ]
  },
  {
   "cell_type": "code",
   "execution_count": 8,
   "id": "ff93c60b",
   "metadata": {},
   "outputs": [
    {
     "data": {
      "text/plain": [
       "(289, 40)"
      ]
     },
     "execution_count": 8,
     "metadata": {},
     "output_type": "execute_result"
    }
   ],
   "source": [
    "X = data.drop('loan_status_bin', axis=1)\n",
    "X.shape"
   ]
  },
  {
   "cell_type": "code",
   "execution_count": 9,
   "id": "d6f47bde",
   "metadata": {},
   "outputs": [],
   "source": [
    "y = data['loan_status_bin']"
   ]
  },
  {
   "cell_type": "code",
   "execution_count": 10,
   "id": "e41f44d6",
   "metadata": {},
   "outputs": [],
   "source": [
    "n_features = 3\n",
    "lr = LogisticRegression()\n",
    "sfs = SequentialFeatureSelector(lr, n_features_to_select=n_features)"
   ]
  },
  {
   "cell_type": "code",
   "execution_count": 11,
   "id": "b4eb8b6c",
   "metadata": {},
   "outputs": [
    {
     "data": {
      "text/html": [
       "<style>#sk-container-id-1 {color: black;background-color: white;}#sk-container-id-1 pre{padding: 0;}#sk-container-id-1 div.sk-toggleable {background-color: white;}#sk-container-id-1 label.sk-toggleable__label {cursor: pointer;display: block;width: 100%;margin-bottom: 0;padding: 0.3em;box-sizing: border-box;text-align: center;}#sk-container-id-1 label.sk-toggleable__label-arrow:before {content: \"▸\";float: left;margin-right: 0.25em;color: #696969;}#sk-container-id-1 label.sk-toggleable__label-arrow:hover:before {color: black;}#sk-container-id-1 div.sk-estimator:hover label.sk-toggleable__label-arrow:before {color: black;}#sk-container-id-1 div.sk-toggleable__content {max-height: 0;max-width: 0;overflow: hidden;text-align: left;background-color: #f0f8ff;}#sk-container-id-1 div.sk-toggleable__content pre {margin: 0.2em;color: black;border-radius: 0.25em;background-color: #f0f8ff;}#sk-container-id-1 input.sk-toggleable__control:checked~div.sk-toggleable__content {max-height: 200px;max-width: 100%;overflow: auto;}#sk-container-id-1 input.sk-toggleable__control:checked~label.sk-toggleable__label-arrow:before {content: \"▾\";}#sk-container-id-1 div.sk-estimator input.sk-toggleable__control:checked~label.sk-toggleable__label {background-color: #d4ebff;}#sk-container-id-1 div.sk-label input.sk-toggleable__control:checked~label.sk-toggleable__label {background-color: #d4ebff;}#sk-container-id-1 input.sk-hidden--visually {border: 0;clip: rect(1px 1px 1px 1px);clip: rect(1px, 1px, 1px, 1px);height: 1px;margin: -1px;overflow: hidden;padding: 0;position: absolute;width: 1px;}#sk-container-id-1 div.sk-estimator {font-family: monospace;background-color: #f0f8ff;border: 1px dotted black;border-radius: 0.25em;box-sizing: border-box;margin-bottom: 0.5em;}#sk-container-id-1 div.sk-estimator:hover {background-color: #d4ebff;}#sk-container-id-1 div.sk-parallel-item::after {content: \"\";width: 100%;border-bottom: 1px solid gray;flex-grow: 1;}#sk-container-id-1 div.sk-label:hover label.sk-toggleable__label {background-color: #d4ebff;}#sk-container-id-1 div.sk-serial::before {content: \"\";position: absolute;border-left: 1px solid gray;box-sizing: border-box;top: 0;bottom: 0;left: 50%;z-index: 0;}#sk-container-id-1 div.sk-serial {display: flex;flex-direction: column;align-items: center;background-color: white;padding-right: 0.2em;padding-left: 0.2em;position: relative;}#sk-container-id-1 div.sk-item {position: relative;z-index: 1;}#sk-container-id-1 div.sk-parallel {display: flex;align-items: stretch;justify-content: center;background-color: white;position: relative;}#sk-container-id-1 div.sk-item::before, #sk-container-id-1 div.sk-parallel-item::before {content: \"\";position: absolute;border-left: 1px solid gray;box-sizing: border-box;top: 0;bottom: 0;left: 50%;z-index: -1;}#sk-container-id-1 div.sk-parallel-item {display: flex;flex-direction: column;z-index: 1;position: relative;background-color: white;}#sk-container-id-1 div.sk-parallel-item:first-child::after {align-self: flex-end;width: 50%;}#sk-container-id-1 div.sk-parallel-item:last-child::after {align-self: flex-start;width: 50%;}#sk-container-id-1 div.sk-parallel-item:only-child::after {width: 0;}#sk-container-id-1 div.sk-dashed-wrapped {border: 1px dashed gray;margin: 0 0.4em 0.5em 0.4em;box-sizing: border-box;padding-bottom: 0.4em;background-color: white;}#sk-container-id-1 div.sk-label label {font-family: monospace;font-weight: bold;display: inline-block;line-height: 1.2em;}#sk-container-id-1 div.sk-label-container {text-align: center;}#sk-container-id-1 div.sk-container {/* jupyter's `normalize.less` sets `[hidden] { display: none; }` but bootstrap.min.css set `[hidden] { display: none !important; }` so we also need the `!important` here to be able to override the default hidden behavior on the sphinx rendered scikit-learn.org. See: https://github.com/scikit-learn/scikit-learn/issues/21755 */display: inline-block !important;position: relative;}#sk-container-id-1 div.sk-text-repr-fallback {display: none;}</style><div id=\"sk-container-id-1\" class=\"sk-top-container\"><div class=\"sk-text-repr-fallback\"><pre>SequentialFeatureSelector(estimator=LogisticRegression(),\n",
       "                          n_features_to_select=3)</pre><b>In a Jupyter environment, please rerun this cell to show the HTML representation or trust the notebook. <br />On GitHub, the HTML representation is unable to render, please try loading this page with nbviewer.org.</b></div><div class=\"sk-container\" hidden><div class=\"sk-item sk-dashed-wrapped\"><div class=\"sk-label-container\"><div class=\"sk-label sk-toggleable\"><input class=\"sk-toggleable__control sk-hidden--visually\" id=\"sk-estimator-id-1\" type=\"checkbox\" ><label for=\"sk-estimator-id-1\" class=\"sk-toggleable__label sk-toggleable__label-arrow\">SequentialFeatureSelector</label><div class=\"sk-toggleable__content\"><pre>SequentialFeatureSelector(estimator=LogisticRegression(),\n",
       "                          n_features_to_select=3)</pre></div></div></div><div class=\"sk-parallel\"><div class=\"sk-parallel-item\"><div class=\"sk-item\"><div class=\"sk-label-container\"><div class=\"sk-label sk-toggleable\"><input class=\"sk-toggleable__control sk-hidden--visually\" id=\"sk-estimator-id-2\" type=\"checkbox\" ><label for=\"sk-estimator-id-2\" class=\"sk-toggleable__label sk-toggleable__label-arrow\">estimator: LogisticRegression</label><div class=\"sk-toggleable__content\"><pre>LogisticRegression()</pre></div></div></div><div class=\"sk-serial\"><div class=\"sk-item\"><div class=\"sk-estimator sk-toggleable\"><input class=\"sk-toggleable__control sk-hidden--visually\" id=\"sk-estimator-id-3\" type=\"checkbox\" ><label for=\"sk-estimator-id-3\" class=\"sk-toggleable__label sk-toggleable__label-arrow\">LogisticRegression</label><div class=\"sk-toggleable__content\"><pre>LogisticRegression()</pre></div></div></div></div></div></div></div></div></div></div>"
      ],
      "text/plain": [
       "SequentialFeatureSelector(estimator=LogisticRegression(),\n",
       "                          n_features_to_select=3)"
      ]
     },
     "execution_count": 11,
     "metadata": {},
     "output_type": "execute_result"
    }
   ],
   "source": [
    "sfs.fit(X,y)"
   ]
  },
  {
   "cell_type": "code",
   "execution_count": 12,
   "id": "70c93071",
   "metadata": {},
   "outputs": [],
   "source": [
    "#sfs.get_support()"
   ]
  },
  {
   "cell_type": "code",
   "execution_count": 13,
   "id": "dbffd04e",
   "metadata": {},
   "outputs": [
    {
     "name": "stdout",
     "output_type": "stream",
     "text": [
      "Top 3 features selected by forward sequential selection:['loan_amnt', 'annual_inc', 'dti']\n"
     ]
    }
   ],
   "source": [
    "print(\"Top {} features selected by forward sequential selection:{}\"\\\n",
    "      .format(n_features, list(X.columns[sfs.get_support()])))\n"
   ]
  },
  {
   "cell_type": "code",
   "execution_count": 14,
   "id": "1f39da4f",
   "metadata": {},
   "outputs": [
    {
     "data": {
      "text/plain": [
       "['loan_amnt', 'annual_inc', 'dti']"
      ]
     },
     "execution_count": 14,
     "metadata": {},
     "output_type": "execute_result"
    }
   ],
   "source": [
    "feat = list(X.columns[sfs.get_support()])\n",
    "feat"
   ]
  },
  {
   "cell_type": "code",
   "execution_count": 15,
   "id": "d2d0e00e",
   "metadata": {},
   "outputs": [],
   "source": [
    "X_feat = data[feat]"
   ]
  },
  {
   "cell_type": "code",
   "execution_count": 16,
   "id": "eb0b2988",
   "metadata": {},
   "outputs": [
    {
     "data": {
      "text/plain": [
       "0      0.0\n",
       "1      1.0\n",
       "2      0.0\n",
       "3      0.0\n",
       "4      1.0\n",
       "      ... \n",
       "284    1.0\n",
       "285    1.0\n",
       "286    1.0\n",
       "287    1.0\n",
       "288    1.0\n",
       "Name: loan_status_bin, Length: 289, dtype: float64"
      ]
     },
     "execution_count": 16,
     "metadata": {},
     "output_type": "execute_result"
    }
   ],
   "source": [
    "y = data['loan_status_bin']\n",
    "y"
   ]
  },
  {
   "cell_type": "code",
   "execution_count": 17,
   "id": "a888c925",
   "metadata": {},
   "outputs": [],
   "source": [
    "lr_check = LogisticRegression()\n",
    "steps = [('model', lr_check)]\n",
    "pipeline = Pipeline(steps=steps)"
   ]
  },
  {
   "cell_type": "code",
   "execution_count": 18,
   "id": "0423b0b2",
   "metadata": {},
   "outputs": [
    {
     "name": "stdout",
     "output_type": "stream",
     "text": [
      "[0.87931034 0.87931034 0.87931034 0.87931034 0.89473684]\n",
      "0.8823956442831216\n"
     ]
    }
   ],
   "source": [
    "#Accuracy:\n",
    "\n",
    "cv = RepeatedStratifiedKFold(n_splits=5, n_repeats=1, random_state=1)\n",
    "scores = cross_val_score(pipeline, X_feat, y, scoring='accuracy', cv=cv, n_jobs=-1) \n",
    "print(scores)\n",
    "\n",
    "score = np.mean(scores)\n",
    "print(score)"
   ]
  },
  {
   "cell_type": "code",
   "execution_count": null,
   "id": "80613a5c",
   "metadata": {},
   "outputs": [],
   "source": []
  },
  {
   "cell_type": "code",
   "execution_count": 19,
   "id": "0e5c48bf",
   "metadata": {},
   "outputs": [],
   "source": [
    "from sklearn.ensemble import AdaBoostClassifier\n",
    "ada = AdaBoostClassifier()\n",
    "steps2 = [('model', ada)]\n",
    "pipeline2 = Pipeline(steps=steps2)"
   ]
  },
  {
   "cell_type": "code",
   "execution_count": 20,
   "id": "34d06f94",
   "metadata": {},
   "outputs": [
    {
     "name": "stdout",
     "output_type": "stream",
     "text": [
      "[0.84482759 0.81034483 0.79310345 0.86206897 0.85964912]\n",
      "0.8339987900786447\n"
     ]
    }
   ],
   "source": [
    "#Accuracy:\n",
    "\n",
    "cv = RepeatedStratifiedKFold(n_splits=5, n_repeats=1, random_state=1)\n",
    "scores = cross_val_score(pipeline2, X_feat, y, scoring='accuracy', cv=cv, n_jobs=-1) \n",
    "print(scores)\n",
    "\n",
    "score = np.mean(scores)\n",
    "print(score)"
   ]
  },
  {
   "cell_type": "code",
   "execution_count": null,
   "id": "379e763c",
   "metadata": {},
   "outputs": [],
   "source": []
  },
  {
   "cell_type": "code",
   "execution_count": 21,
   "id": "dd8bb743",
   "metadata": {},
   "outputs": [],
   "source": [
    "from sklearn.neural_network import MLPClassifier\n",
    "nn = MLPClassifier(alpha=1, max_iter=1000)\n",
    "steps3 = [('model', nn)]\n",
    "pipeline3 = Pipeline(steps=steps3)"
   ]
  },
  {
   "cell_type": "code",
   "execution_count": 22,
   "id": "69659651",
   "metadata": {},
   "outputs": [
    {
     "name": "stdout",
     "output_type": "stream",
     "text": [
      "[0.87931034 0.87931034 0.87931034 0.87931034 0.89473684]\n",
      "0.8823956442831216\n"
     ]
    }
   ],
   "source": [
    "#Accuracy:\n",
    "\n",
    "cv = RepeatedStratifiedKFold(n_splits=5, n_repeats=1, random_state=1)\n",
    "scores = cross_val_score(pipeline3, X_feat, y, scoring='accuracy', cv=cv, n_jobs=-1) \n",
    "print(scores)\n",
    "\n",
    "score = np.mean(scores)\n",
    "print(score)"
   ]
  },
  {
   "cell_type": "code",
   "execution_count": null,
   "id": "f5ed01b9",
   "metadata": {},
   "outputs": [],
   "source": []
  },
  {
   "cell_type": "code",
   "execution_count": 23,
   "id": "18cbf57c",
   "metadata": {},
   "outputs": [],
   "source": [
    "from sklearn.ensemble import GradientBoostingClassifier\n",
    "gb = GradientBoostingClassifier()\n",
    "steps4 = [('model', gb)]\n",
    "pipeline4 = Pipeline(steps=steps4)"
   ]
  },
  {
   "cell_type": "code",
   "execution_count": 24,
   "id": "82650289",
   "metadata": {},
   "outputs": [
    {
     "name": "stdout",
     "output_type": "stream",
     "text": [
      "[0.82758621 0.87931034 0.81034483 0.82758621 0.87719298]\n",
      "0.8444041137326073\n"
     ]
    }
   ],
   "source": [
    "#Accuracy:\n",
    "\n",
    "cv = RepeatedStratifiedKFold(n_splits=5, n_repeats=1, random_state=1)\n",
    "scores = cross_val_score(pipeline4, X_feat, y, scoring='accuracy', cv=cv, n_jobs=-1) \n",
    "print(scores)\n",
    "\n",
    "score = np.mean(scores)\n",
    "print(score)"
   ]
  },
  {
   "cell_type": "code",
   "execution_count": null,
   "id": "b095c060",
   "metadata": {},
   "outputs": [],
   "source": []
  },
  {
   "cell_type": "code",
   "execution_count": null,
   "id": "9df59e81",
   "metadata": {},
   "outputs": [],
   "source": []
  }
 ],
 "metadata": {
  "hide_input": false,
  "kernelspec": {
   "display_name": "Python 3 (ipykernel)",
   "language": "python",
   "name": "python3"
  },
  "language_info": {
   "codemirror_mode": {
    "name": "ipython",
    "version": 3
   },
   "file_extension": ".py",
   "mimetype": "text/x-python",
   "name": "python",
   "nbconvert_exporter": "python",
   "pygments_lexer": "ipython3",
   "version": "3.8.8"
  },
  "varInspector": {
   "cols": {
    "lenName": 16,
    "lenType": 16,
    "lenVar": 40
   },
   "kernels_config": {
    "python": {
     "delete_cmd_postfix": "",
     "delete_cmd_prefix": "del ",
     "library": "var_list.py",
     "varRefreshCmd": "print(var_dic_list())"
    },
    "r": {
     "delete_cmd_postfix": ") ",
     "delete_cmd_prefix": "rm(",
     "library": "var_list.r",
     "varRefreshCmd": "cat(var_dic_list()) "
    }
   },
   "types_to_exclude": [
    "module",
    "function",
    "builtin_function_or_method",
    "instance",
    "_Feature"
   ],
   "window_display": false
  }
 },
 "nbformat": 4,
 "nbformat_minor": 5
}
