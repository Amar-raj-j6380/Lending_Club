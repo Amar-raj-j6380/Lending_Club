{
 "cells": [
  {
   "cell_type": "code",
   "execution_count": 1,
   "id": "6f4648b5",
   "metadata": {},
   "outputs": [],
   "source": [
    "import pandas as pd\n",
    "import numpy as np\n",
    "import seaborn as sns\n",
    "import copy as cp\n",
    "import matplotlib.pyplot as plt\n",
    "\n",
    "from sklearn.model_selection import cross_val_score, cross_val_predict \n",
    "from sklearn.model_selection import train_test_split\n",
    "from sklearn.model_selection import RepeatedStratifiedKFold\n",
    "from imblearn.pipeline import Pipeline\n",
    "from imblearn.over_sampling import SMOTE\n",
    "\n",
    "from sklearn.linear_model import LogisticRegression\n",
    "from sklearn.metrics import roc_auc_score, roc_curve, precision_recall_curve\n",
    "from sklearn.metrics import confusion_matrix, accuracy_score\n",
    "\n",
    "from typing import Tuple"
   ]
  },
  {
   "cell_type": "code",
   "execution_count": 2,
   "id": "a6b2eaad",
   "metadata": {},
   "outputs": [],
   "source": [
    "pd.set_option(\"display.max_columns\", 200)\n",
    "pd.set_option(\"display.max_row\", 160)\n",
    "pd.set_option('max_colwidth', 200)"
   ]
  },
  {
   "cell_type": "code",
   "execution_count": 3,
   "id": "acc59130",
   "metadata": {},
   "outputs": [
    {
     "data": {
      "text/html": [
       "<div>\n",
       "<style scoped>\n",
       "    .dataframe tbody tr th:only-of-type {\n",
       "        vertical-align: middle;\n",
       "    }\n",
       "\n",
       "    .dataframe tbody tr th {\n",
       "        vertical-align: top;\n",
       "    }\n",
       "\n",
       "    .dataframe thead th {\n",
       "        text-align: right;\n",
       "    }\n",
       "</style>\n",
       "<table border=\"1\" class=\"dataframe\">\n",
       "  <thead>\n",
       "    <tr style=\"text-align: right;\">\n",
       "      <th></th>\n",
       "      <th>loan_amnt</th>\n",
       "      <th>annual_inc</th>\n",
       "      <th>dti</th>\n",
       "      <th>fico_range_low</th>\n",
       "      <th>fico_range_high</th>\n",
       "      <th>int_rate</th>\n",
       "      <th>installment</th>\n",
       "      <th>open_acc</th>\n",
       "      <th>total_acc</th>\n",
       "      <th>revol_bal</th>\n",
       "      <th>inq_last_6mths</th>\n",
       "      <th>delinq_2yrs</th>\n",
       "      <th>acc_now_delinq</th>\n",
       "      <th>collections_12_mths_ex_med</th>\n",
       "      <th>pub_rec</th>\n",
       "      <th>months_cr_line</th>\n",
       "      <th>term</th>\n",
       "      <th>initial_list_status</th>\n",
       "      <th>grade</th>\n",
       "      <th>sub_grade</th>\n",
       "      <th>emp_length</th>\n",
       "      <th>ANY</th>\n",
       "      <th>MORTGAGE</th>\n",
       "      <th>NONE</th>\n",
       "      <th>OTHER</th>\n",
       "      <th>OWN</th>\n",
       "      <th>RENT</th>\n",
       "      <th>car</th>\n",
       "      <th>credit_card</th>\n",
       "      <th>debt_consolidation</th>\n",
       "      <th>home_improvement</th>\n",
       "      <th>house</th>\n",
       "      <th>major_purchase</th>\n",
       "      <th>medical</th>\n",
       "      <th>moving</th>\n",
       "      <th>other</th>\n",
       "      <th>renewable_energy</th>\n",
       "      <th>small_business</th>\n",
       "      <th>vacation</th>\n",
       "      <th>wedding</th>\n",
       "      <th>Not Verified</th>\n",
       "      <th>Source Verified</th>\n",
       "      <th>Verified</th>\n",
       "      <th>loan_status_bin</th>\n",
       "    </tr>\n",
       "  </thead>\n",
       "  <tbody>\n",
       "    <tr>\n",
       "      <th>0</th>\n",
       "      <td>0.606309</td>\n",
       "      <td>0.606130</td>\n",
       "      <td>0.035808</td>\n",
       "      <td>-1.068212</td>\n",
       "      <td>-1.068212</td>\n",
       "      <td>-0.986813</td>\n",
       "      <td>0.287230</td>\n",
       "      <td>-0.133221</td>\n",
       "      <td>-0.047127</td>\n",
       "      <td>0.205624</td>\n",
       "      <td>-0.867990</td>\n",
       "      <td>-0.383964</td>\n",
       "      <td>-0.069702</td>\n",
       "      <td>-0.125211</td>\n",
       "      <td>-0.37762</td>\n",
       "      <td>2.003373</td>\n",
       "      <td>0.863576</td>\n",
       "      <td>0.978751</td>\n",
       "      <td>0.482775</td>\n",
       "      <td>0.755624</td>\n",
       "      <td>-0.927085</td>\n",
       "      <td>-0.019008</td>\n",
       "      <td>-0.911567</td>\n",
       "      <td>-0.003879</td>\n",
       "      <td>-0.006719</td>\n",
       "      <td>2.781231</td>\n",
       "      <td>-0.870794</td>\n",
       "      <td>11.590255</td>\n",
       "      <td>-0.36524</td>\n",
       "      <td>-1.302022</td>\n",
       "      <td>-0.251026</td>\n",
       "      <td>-0.105686</td>\n",
       "      <td>-0.144603</td>\n",
       "      <td>-0.125725</td>\n",
       "      <td>-0.113695</td>\n",
       "      <td>-0.319218</td>\n",
       "      <td>-0.034935</td>\n",
       "      <td>-0.152178</td>\n",
       "      <td>-0.088896</td>\n",
       "      <td>-0.051386</td>\n",
       "      <td>2.401683</td>\n",
       "      <td>-0.786521</td>\n",
       "      <td>-0.941810</td>\n",
       "      <td>0.0</td>\n",
       "    </tr>\n",
       "    <tr>\n",
       "      <th>1</th>\n",
       "      <td>1.847046</td>\n",
       "      <td>0.774764</td>\n",
       "      <td>1.783361</td>\n",
       "      <td>0.837623</td>\n",
       "      <td>0.837623</td>\n",
       "      <td>-0.986813</td>\n",
       "      <td>1.380044</td>\n",
       "      <td>2.362517</td>\n",
       "      <td>2.382457</td>\n",
       "      <td>-0.101756</td>\n",
       "      <td>-0.867990</td>\n",
       "      <td>0.696178</td>\n",
       "      <td>-0.069702</td>\n",
       "      <td>-0.125211</td>\n",
       "      <td>-0.37762</td>\n",
       "      <td>0.842595</td>\n",
       "      <td>0.863576</td>\n",
       "      <td>0.978751</td>\n",
       "      <td>0.482775</td>\n",
       "      <td>0.755624</td>\n",
       "      <td>0.605102</td>\n",
       "      <td>-0.019008</td>\n",
       "      <td>1.097012</td>\n",
       "      <td>-0.003879</td>\n",
       "      <td>-0.006719</td>\n",
       "      <td>-0.359553</td>\n",
       "      <td>-0.870794</td>\n",
       "      <td>-0.086279</td>\n",
       "      <td>-0.36524</td>\n",
       "      <td>0.768036</td>\n",
       "      <td>-0.251026</td>\n",
       "      <td>-0.105686</td>\n",
       "      <td>-0.144603</td>\n",
       "      <td>-0.125725</td>\n",
       "      <td>-0.113695</td>\n",
       "      <td>-0.319218</td>\n",
       "      <td>-0.034935</td>\n",
       "      <td>-0.152178</td>\n",
       "      <td>-0.088896</td>\n",
       "      <td>-0.051386</td>\n",
       "      <td>-0.416375</td>\n",
       "      <td>1.271422</td>\n",
       "      <td>-0.941810</td>\n",
       "      <td>1.0</td>\n",
       "    </tr>\n",
       "    <tr>\n",
       "      <th>2</th>\n",
       "      <td>0.163188</td>\n",
       "      <td>-0.321359</td>\n",
       "      <td>-0.521897</td>\n",
       "      <td>0.837623</td>\n",
       "      <td>0.837623</td>\n",
       "      <td>-0.433996</td>\n",
       "      <td>0.617784</td>\n",
       "      <td>-0.133221</td>\n",
       "      <td>0.114845</td>\n",
       "      <td>-0.470743</td>\n",
       "      <td>0.922834</td>\n",
       "      <td>-0.383964</td>\n",
       "      <td>-0.069702</td>\n",
       "      <td>-0.125211</td>\n",
       "      <td>-0.37762</td>\n",
       "      <td>0.463565</td>\n",
       "      <td>-1.157976</td>\n",
       "      <td>-1.021711</td>\n",
       "      <td>0.482775</td>\n",
       "      <td>1.287329</td>\n",
       "      <td>-1.437814</td>\n",
       "      <td>-0.019008</td>\n",
       "      <td>1.097012</td>\n",
       "      <td>-0.003879</td>\n",
       "      <td>-0.006719</td>\n",
       "      <td>-0.359553</td>\n",
       "      <td>-0.870794</td>\n",
       "      <td>-0.086279</td>\n",
       "      <td>-0.36524</td>\n",
       "      <td>0.768036</td>\n",
       "      <td>-0.251026</td>\n",
       "      <td>-0.105686</td>\n",
       "      <td>-0.144603</td>\n",
       "      <td>-0.125725</td>\n",
       "      <td>-0.113695</td>\n",
       "      <td>-0.319218</td>\n",
       "      <td>-0.034935</td>\n",
       "      <td>-0.152178</td>\n",
       "      <td>-0.088896</td>\n",
       "      <td>-0.051386</td>\n",
       "      <td>2.401683</td>\n",
       "      <td>-0.786521</td>\n",
       "      <td>-0.941810</td>\n",
       "      <td>0.0</td>\n",
       "    </tr>\n",
       "    <tr>\n",
       "      <th>3</th>\n",
       "      <td>-0.037519</td>\n",
       "      <td>-0.456266</td>\n",
       "      <td>0.225909</td>\n",
       "      <td>-0.115295</td>\n",
       "      <td>-0.115295</td>\n",
       "      <td>-0.433996</td>\n",
       "      <td>-0.247858</td>\n",
       "      <td>-0.311488</td>\n",
       "      <td>0.195831</td>\n",
       "      <td>-0.472931</td>\n",
       "      <td>0.027422</td>\n",
       "      <td>-0.383964</td>\n",
       "      <td>-0.069702</td>\n",
       "      <td>-0.125211</td>\n",
       "      <td>1.23937</td>\n",
       "      <td>0.368808</td>\n",
       "      <td>0.863576</td>\n",
       "      <td>0.978751</td>\n",
       "      <td>0.482775</td>\n",
       "      <td>1.287329</td>\n",
       "      <td>1.115831</td>\n",
       "      <td>-0.019008</td>\n",
       "      <td>-0.911567</td>\n",
       "      <td>-0.003879</td>\n",
       "      <td>-0.006719</td>\n",
       "      <td>-0.359553</td>\n",
       "      <td>1.148377</td>\n",
       "      <td>-0.086279</td>\n",
       "      <td>-0.36524</td>\n",
       "      <td>-1.302022</td>\n",
       "      <td>-0.251026</td>\n",
       "      <td>-0.105686</td>\n",
       "      <td>6.915465</td>\n",
       "      <td>-0.125725</td>\n",
       "      <td>-0.113695</td>\n",
       "      <td>-0.319218</td>\n",
       "      <td>-0.034935</td>\n",
       "      <td>-0.152178</td>\n",
       "      <td>-0.088896</td>\n",
       "      <td>-0.051386</td>\n",
       "      <td>-0.416375</td>\n",
       "      <td>-0.786521</td>\n",
       "      <td>1.061786</td>\n",
       "      <td>0.0</td>\n",
       "    </tr>\n",
       "    <tr>\n",
       "      <th>4</th>\n",
       "      <td>1.117201</td>\n",
       "      <td>0.167680</td>\n",
       "      <td>1.963155</td>\n",
       "      <td>0.837623</td>\n",
       "      <td>0.837623</td>\n",
       "      <td>-0.986813</td>\n",
       "      <td>0.737218</td>\n",
       "      <td>1.827716</td>\n",
       "      <td>2.220485</td>\n",
       "      <td>2.561753</td>\n",
       "      <td>0.027422</td>\n",
       "      <td>-0.383964</td>\n",
       "      <td>-0.069702</td>\n",
       "      <td>-0.125211</td>\n",
       "      <td>-0.37762</td>\n",
       "      <td>0.131914</td>\n",
       "      <td>0.863576</td>\n",
       "      <td>0.978751</td>\n",
       "      <td>0.482775</td>\n",
       "      <td>0.755624</td>\n",
       "      <td>1.115831</td>\n",
       "      <td>-0.019008</td>\n",
       "      <td>-0.911567</td>\n",
       "      <td>-0.003879</td>\n",
       "      <td>-0.006719</td>\n",
       "      <td>-0.359553</td>\n",
       "      <td>1.148377</td>\n",
       "      <td>-0.086279</td>\n",
       "      <td>-0.36524</td>\n",
       "      <td>0.768036</td>\n",
       "      <td>-0.251026</td>\n",
       "      <td>-0.105686</td>\n",
       "      <td>-0.144603</td>\n",
       "      <td>-0.125725</td>\n",
       "      <td>-0.113695</td>\n",
       "      <td>-0.319218</td>\n",
       "      <td>-0.034935</td>\n",
       "      <td>-0.152178</td>\n",
       "      <td>-0.088896</td>\n",
       "      <td>-0.051386</td>\n",
       "      <td>-0.416375</td>\n",
       "      <td>1.271422</td>\n",
       "      <td>-0.941810</td>\n",
       "      <td>0.0</td>\n",
       "    </tr>\n",
       "  </tbody>\n",
       "</table>\n",
       "</div>"
      ],
      "text/plain": [
       "   loan_amnt  annual_inc       dti  fico_range_low  fico_range_high  int_rate  \\\n",
       "0   0.606309    0.606130  0.035808       -1.068212        -1.068212 -0.986813   \n",
       "1   1.847046    0.774764  1.783361        0.837623         0.837623 -0.986813   \n",
       "2   0.163188   -0.321359 -0.521897        0.837623         0.837623 -0.433996   \n",
       "3  -0.037519   -0.456266  0.225909       -0.115295        -0.115295 -0.433996   \n",
       "4   1.117201    0.167680  1.963155        0.837623         0.837623 -0.986813   \n",
       "\n",
       "   installment  open_acc  total_acc  revol_bal  inq_last_6mths  delinq_2yrs  \\\n",
       "0     0.287230 -0.133221  -0.047127   0.205624       -0.867990    -0.383964   \n",
       "1     1.380044  2.362517   2.382457  -0.101756       -0.867990     0.696178   \n",
       "2     0.617784 -0.133221   0.114845  -0.470743        0.922834    -0.383964   \n",
       "3    -0.247858 -0.311488   0.195831  -0.472931        0.027422    -0.383964   \n",
       "4     0.737218  1.827716   2.220485   2.561753        0.027422    -0.383964   \n",
       "\n",
       "   acc_now_delinq  collections_12_mths_ex_med  pub_rec  months_cr_line  \\\n",
       "0       -0.069702                   -0.125211 -0.37762        2.003373   \n",
       "1       -0.069702                   -0.125211 -0.37762        0.842595   \n",
       "2       -0.069702                   -0.125211 -0.37762        0.463565   \n",
       "3       -0.069702                   -0.125211  1.23937        0.368808   \n",
       "4       -0.069702                   -0.125211 -0.37762        0.131914   \n",
       "\n",
       "       term  initial_list_status     grade  sub_grade  emp_length       ANY  \\\n",
       "0  0.863576             0.978751  0.482775   0.755624   -0.927085 -0.019008   \n",
       "1  0.863576             0.978751  0.482775   0.755624    0.605102 -0.019008   \n",
       "2 -1.157976            -1.021711  0.482775   1.287329   -1.437814 -0.019008   \n",
       "3  0.863576             0.978751  0.482775   1.287329    1.115831 -0.019008   \n",
       "4  0.863576             0.978751  0.482775   0.755624    1.115831 -0.019008   \n",
       "\n",
       "   MORTGAGE      NONE     OTHER       OWN      RENT        car  credit_card  \\\n",
       "0 -0.911567 -0.003879 -0.006719  2.781231 -0.870794  11.590255     -0.36524   \n",
       "1  1.097012 -0.003879 -0.006719 -0.359553 -0.870794  -0.086279     -0.36524   \n",
       "2  1.097012 -0.003879 -0.006719 -0.359553 -0.870794  -0.086279     -0.36524   \n",
       "3 -0.911567 -0.003879 -0.006719 -0.359553  1.148377  -0.086279     -0.36524   \n",
       "4 -0.911567 -0.003879 -0.006719 -0.359553  1.148377  -0.086279     -0.36524   \n",
       "\n",
       "   debt_consolidation  home_improvement     house  major_purchase   medical  \\\n",
       "0           -1.302022         -0.251026 -0.105686       -0.144603 -0.125725   \n",
       "1            0.768036         -0.251026 -0.105686       -0.144603 -0.125725   \n",
       "2            0.768036         -0.251026 -0.105686       -0.144603 -0.125725   \n",
       "3           -1.302022         -0.251026 -0.105686        6.915465 -0.125725   \n",
       "4            0.768036         -0.251026 -0.105686       -0.144603 -0.125725   \n",
       "\n",
       "     moving     other  renewable_energy  small_business  vacation   wedding  \\\n",
       "0 -0.113695 -0.319218         -0.034935       -0.152178 -0.088896 -0.051386   \n",
       "1 -0.113695 -0.319218         -0.034935       -0.152178 -0.088896 -0.051386   \n",
       "2 -0.113695 -0.319218         -0.034935       -0.152178 -0.088896 -0.051386   \n",
       "3 -0.113695 -0.319218         -0.034935       -0.152178 -0.088896 -0.051386   \n",
       "4 -0.113695 -0.319218         -0.034935       -0.152178 -0.088896 -0.051386   \n",
       "\n",
       "   Not Verified  Source Verified  Verified  loan_status_bin  \n",
       "0      2.401683        -0.786521 -0.941810              0.0  \n",
       "1     -0.416375         1.271422 -0.941810              1.0  \n",
       "2      2.401683        -0.786521 -0.941810              0.0  \n",
       "3     -0.416375        -0.786521  1.061786              0.0  \n",
       "4     -0.416375         1.271422 -0.941810              0.0  "
      ]
     },
     "execution_count": 3,
     "metadata": {},
     "output_type": "execute_result"
    }
   ],
   "source": [
    "data = pd.read_csv('../../Data/20x44_DE.csv')\n",
    "data.head(5)"
   ]
  },
  {
   "cell_type": "code",
   "execution_count": 4,
   "id": "771565fb",
   "metadata": {},
   "outputs": [
    {
     "data": {
      "text/plain": [
       "(66449, 44)"
      ]
     },
     "execution_count": 4,
     "metadata": {},
     "output_type": "execute_result"
    }
   ],
   "source": [
    "data.shape"
   ]
  },
  {
   "cell_type": "code",
   "execution_count": 5,
   "id": "74758ddc",
   "metadata": {},
   "outputs": [
    {
     "data": {
      "text/plain": [
       "1.0    41777\n",
       "0.0    24672\n",
       "Name: loan_status_bin, dtype: int64"
      ]
     },
     "execution_count": 5,
     "metadata": {},
     "output_type": "execute_result"
    }
   ],
   "source": [
    "data.loan_status_bin.value_counts()\n",
    "#0 = Defaulted Loans\n",
    "#1 = Loans Paid In Full"
   ]
  },
  {
   "cell_type": "code",
   "execution_count": 6,
   "id": "b9a9c6be",
   "metadata": {},
   "outputs": [
    {
     "data": {
      "text/plain": [
       "(66449, 43)"
      ]
     },
     "execution_count": 6,
     "metadata": {},
     "output_type": "execute_result"
    }
   ],
   "source": [
    "X = data.drop('loan_status_bin', axis=1)\n",
    "X.shape"
   ]
  },
  {
   "cell_type": "code",
   "execution_count": 7,
   "id": "0559962b",
   "metadata": {},
   "outputs": [],
   "source": [
    "y = data['loan_status_bin']"
   ]
  },
  {
   "cell_type": "code",
   "execution_count": 8,
   "id": "9b1bb6de",
   "metadata": {},
   "outputs": [],
   "source": [
    "lr1 = LogisticRegression()"
   ]
  },
  {
   "cell_type": "code",
   "execution_count": 9,
   "id": "e9e711e2",
   "metadata": {},
   "outputs": [],
   "source": [
    "steps = [('model', lr1)]\n",
    "pipeline = Pipeline(steps=steps)"
   ]
  },
  {
   "cell_type": "code",
   "execution_count": 10,
   "id": "fb714eeb",
   "metadata": {},
   "outputs": [
    {
     "name": "stdout",
     "output_type": "stream",
     "text": [
      "[0.63370956 0.63762227 0.63950339 0.64040632 0.64278727]\n",
      "0.6388057605307398\n"
     ]
    }
   ],
   "source": [
    "#Accuracy:\n",
    "\n",
    "cv = RepeatedStratifiedKFold(n_splits=5, n_repeats=1, random_state=1)\n",
    "scores = cross_val_score(pipeline, X, y, scoring='accuracy', cv=cv, n_jobs=-1) \n",
    "print(scores)\n",
    "\n",
    "score = np.mean(scores)\n",
    "print(score)"
   ]
  },
  {
   "cell_type": "code",
   "execution_count": 11,
   "id": "9db484eb",
   "metadata": {},
   "outputs": [
    {
     "data": {
      "text/plain": [
       "array([[ 3699, 20973],\n",
       "       [ 3028, 38749]])"
      ]
     },
     "execution_count": 11,
     "metadata": {},
     "output_type": "execute_result"
    }
   ],
   "source": [
    "#Aggregated Confusion Matrix From RepeatedStratifiedKFold: \n",
    "y_pred = cross_val_predict(pipeline, X, y, cv=cv, n_jobs=-1)\n",
    "conf_mat = confusion_matrix(y, y_pred)\n",
    "conf_mat"
   ]
  },
  {
   "cell_type": "code",
   "execution_count": 12,
   "id": "cd14efda",
   "metadata": {},
   "outputs": [
    {
     "data": {
      "image/png": "[encoded data removed]",
      "text/plain": [
       "<Figure size 864x432 with 1 Axes>"
      ]
     },
     "metadata": {},
     "output_type": "display_data"
    }
   ],
   "source": [
    "sns.set(rc = {'figure.figsize':(12,6)})\n",
    "#cmap = sns.cubehelix_palette(start=2, rot=0, dark=0, light=.95, reverse=True, as_cmap=True)\n",
    "cmap = sns.light_palette('seagreen', as_cmap=True)\n",
    "\n",
    "res = sns.heatmap(conf_mat, annot=True, fmt='d', annot_kws={\"size\":20},\n",
    "#            xticklabels = ['Good = Paid In Full', 'Bad = Default'],\n",
    "#            yticklabels = ['Loan Paid In Full', 'Bad = Default'], \n",
    "            cmap=cmap, cbar=False)\n",
    "\n",
    "res.set_xticklabels(['Loan Default', 'Loan Repaid'], fontsize=15)\n",
    "res.set_yticklabels(['Loan Default', 'Loan Repaid'], fontsize=15)\n",
    "\n",
    "\n",
    "plt.title('Confusion Matrix For Logistic Regression', fontsize=25, pad=15)\n",
    "plt.xlabel('Predicted', fontsize=20)\n",
    "plt.ylabel('Actual', fontsize=20);"
   ]
  },
  {
   "cell_type": "code",
   "execution_count": 13,
   "id": "345a55b6",
   "metadata": {},
   "outputs": [
    {
     "data": {
      "text/plain": [
       "0.6388057006124999"
      ]
     },
     "execution_count": 13,
     "metadata": {},
     "output_type": "execute_result"
    }
   ],
   "source": [
    "accuracy_score(y, y_pred)"
   ]
  },
  {
   "cell_type": "code",
   "execution_count": 14,
   "id": "22662a59",
   "metadata": {},
   "outputs": [
    {
     "name": "stdout",
     "output_type": "stream",
     "text": [
      "38749\n",
      "20973\n",
      "3028\n",
      "3699\n",
      "0.6388057006124999\n"
     ]
    }
   ],
   "source": [
    "TN, FP, FN, TP = conf_mat.ravel()\n",
    "print(TP)\n",
    "print(FP)\n",
    "print(FN)\n",
    "print(TN)\n",
    "print((TP + TN) / (TN + TP + FP + FN))"
   ]
  },
  {
   "cell_type": "code",
   "execution_count": null,
   "id": "4dcedec5",
   "metadata": {},
   "outputs": [],
   "source": []
  },
  {
   "cell_type": "code",
   "execution_count": 15,
   "id": "36dec5fa",
   "metadata": {},
   "outputs": [
    {
     "name": "stdout",
     "output_type": "stream",
     "text": [
      "1.0    41777\n",
      "0.0    24672\n",
      "Name: loan_status_bin, dtype: int64\n",
      "\n",
      "0.6287077307408689\n"
     ]
    }
   ],
   "source": [
    "#Re-examine original pool of accepted LC Loans: \n",
    "\n",
    "print(data.loan_status_bin.value_counts())\n",
    "#0 = Loan Defaulted\n",
    "#1 = Loan Fully Paid\n",
    "\n",
    "good_loan = data.loan_status_bin.value_counts()[1]\n",
    "bad_loan = data.loan_status_bin.value_counts()[0]\n",
    "\n",
    "print()\n",
    "print(good_loan / (good_loan + bad_loan))\n",
    "\n",
    "#Random investment would give us 59% chance of pickkng a good loan"
   ]
  },
  {
   "cell_type": "code",
   "execution_count": 16,
   "id": "9be4be5d",
   "metadata": {},
   "outputs": [
    {
     "data": {
      "text/plain": [
       "0.6488228793409464"
      ]
     },
     "execution_count": 16,
     "metadata": {},
     "output_type": "execute_result"
    }
   ],
   "source": [
    "#Positive Predictive Value (or Precision)\n",
    "#Logistic Model only does 3% better than Null Model or \"random investment\"\n",
    "TP / (TP+FP)"
   ]
  },
  {
   "cell_type": "code",
   "execution_count": null,
   "id": "33d49ed8",
   "metadata": {},
   "outputs": [],
   "source": []
  },
  {
   "cell_type": "code",
   "execution_count": 17,
   "id": "3e6f9d5f",
   "metadata": {},
   "outputs": [],
   "source": [
    "#Obtain predicted probabilities (not predicted classes) from RSKF: \n",
    "y_pred_prob = cross_val_predict(pipeline, X, y, cv=cv, n_jobs=-1, method='predict_proba')"
   ]
  },
  {
   "cell_type": "code",
   "execution_count": 18,
   "id": "9f850d5b",
   "metadata": {},
   "outputs": [
    {
     "data": {
      "text/plain": [
       "array([[0.37579718, 0.62420282],\n",
       "       [0.41802749, 0.58197251],\n",
       "       [0.28435653, 0.71564347],\n",
       "       ...,\n",
       "       [0.29416292, 0.70583708],\n",
       "       [0.35738582, 0.64261418],\n",
       "       [0.21047152, 0.78952848]])"
      ]
     },
     "execution_count": 18,
     "metadata": {},
     "output_type": "execute_result"
    }
   ],
   "source": [
    "y_pred_prob"
   ]
  },
  {
   "cell_type": "code",
   "execution_count": 19,
   "id": "973f2937",
   "metadata": {},
   "outputs": [
    {
     "data": {
      "text/plain": [
       "array([0., 0., 0., ..., 0., 0., 0.])"
      ]
     },
     "execution_count": 19,
     "metadata": {},
     "output_type": "execute_result"
    }
   ],
   "source": [
    "#Obtaining classification based on desired threshold of 0.8: \n",
    "\n",
    "y_pred_success = (y_pred_prob[:, 1] > 0.8).astype('float')\n",
    "y_pred_success"
   ]
  },
  {
   "cell_type": "code",
   "execution_count": 20,
   "id": "686a5f94",
   "metadata": {},
   "outputs": [
    {
     "data": {
      "text/plain": [
       "array([[24236,   436],\n",
       "       [39753,  2024]])"
      ]
     },
     "execution_count": 20,
     "metadata": {},
     "output_type": "execute_result"
    }
   ],
   "source": [
    "conf_mat = confusion_matrix(y, y_pred_success)\n",
    "conf_mat"
   ]
  },
  {
   "cell_type": "code",
   "execution_count": 21,
   "id": "6c050cfb",
   "metadata": {},
   "outputs": [
    {
     "data": {
      "image/png": "[encoded data removed]",
      "text/plain": [
       "<Figure size 864x432 with 1 Axes>"
      ]
     },
     "metadata": {},
     "output_type": "display_data"
    }
   ],
   "source": [
    "sns.set(rc = {'figure.figsize':(12,6)})\n",
    "#cmap = sns.cubehelix_palette(start=2, rot=0, dark=0, light=.95, reverse=True, as_cmap=True)\n",
    "cmap = sns.light_palette('seagreen', as_cmap=True)\n",
    "\n",
    "res = sns.heatmap(conf_mat, annot=True, fmt='d', annot_kws={\"size\":20},\n",
    "#            xticklabels = ['Good = Paid In Full', 'Bad = Default'],\n",
    "#            yticklabels = ['Loan Paid In Full', 'Bad = Default'], \n",
    "            cmap=cmap, cbar=False)\n",
    "\n",
    "res.set_xticklabels(['Loan Default', 'Loan Repaid'], fontsize=15)\n",
    "res.set_yticklabels(['Loan Default', 'Loan Repaid'], fontsize=15)\n",
    "\n",
    "\n",
    "plt.title('Confusion Matrix For Logistic Regression', fontsize=25, pad=15)\n",
    "plt.xlabel('Predicted', fontsize=20)\n",
    "plt.ylabel('Actual', fontsize=20);"
   ]
  },
  {
   "cell_type": "code",
   "execution_count": 22,
   "id": "c5dc62cd",
   "metadata": {},
   "outputs": [
    {
     "data": {
      "text/plain": [
       "0.39519029631747654"
      ]
     },
     "execution_count": 22,
     "metadata": {},
     "output_type": "execute_result"
    }
   ],
   "source": [
    "accuracy_score(y, y_pred_success)"
   ]
  },
  {
   "cell_type": "code",
   "execution_count": 23,
   "id": "25920782",
   "metadata": {},
   "outputs": [
    {
     "name": "stdout",
     "output_type": "stream",
     "text": [
      "2024\n",
      "436\n",
      "39753\n",
      "24236\n",
      "0.39519029631747654\n"
     ]
    }
   ],
   "source": [
    "TN, FP, FN, TP = conf_mat.ravel()\n",
    "print(TP)\n",
    "print(FP)\n",
    "print(FN)\n",
    "print(TN)\n",
    "print((TP + TN) / (TN + TP + FP + FN))"
   ]
  },
  {
   "cell_type": "code",
   "execution_count": 24,
   "id": "67e15484",
   "metadata": {},
   "outputs": [
    {
     "data": {
      "text/plain": [
       "0.8227642276422764"
      ]
     },
     "execution_count": 24,
     "metadata": {},
     "output_type": "execute_result"
    }
   ],
   "source": [
    "#Positive Predictive Value (or Precision)\n",
    "#Logistic Model only does 3% better than Null Model or \"random investment\"\n",
    "TP / (TP+FP)"
   ]
  },
  {
   "cell_type": "code",
   "execution_count": null,
   "id": "a51b3ce5",
   "metadata": {},
   "outputs": [],
   "source": [
    "## Next question. what was characteristic of the 217 loans that defaulted??\n",
    "## Get all loans which you predicted greater than 80% and find out which ones defaulted.\n",
    "## Any pattern?????"
   ]
  },
  {
   "cell_type": "code",
   "execution_count": null,
   "id": "2bb4a848",
   "metadata": {},
   "outputs": [],
   "source": [
    "#Do we drop all observations where the source is not verified? \n",
    "#Do we drop all observations loan amount is greater than half of one's income? "
   ]
  },
  {
   "cell_type": "code",
   "execution_count": null,
   "id": "88205f9a",
   "metadata": {},
   "outputs": [],
   "source": []
  }
 ],
 "metadata": {
  "hide_input": false,
  "kernelspec": {
   "display_name": "Python 3 (ipykernel)",
   "language": "python",
   "name": "python3"
  },
  "language_info": {
   "codemirror_mode": {
    "name": "ipython",
    "version": 3
   },
   "file_extension": ".py",
   "mimetype": "text/x-python",
   "name": "python",
   "nbconvert_exporter": "python",
   "pygments_lexer": "ipython3",
   "version": "3.8.8"
  },
  "varInspector": {
   "cols": {
    "lenName": 16,
    "lenType": 16,
    "lenVar": 40
   },
   "kernels_config": {
    "python": {
     "delete_cmd_postfix": "",
     "delete_cmd_prefix": "del ",
     "library": "var_list.py",
     "varRefreshCmd": "print(var_dic_list())"
    },
    "r": {
     "delete_cmd_postfix": ") ",
     "delete_cmd_prefix": "rm(",
     "library": "var_list.r",
     "varRefreshCmd": "cat(var_dic_list()) "
    }
   },
   "types_to_exclude": [
    "module",
    "function",
    "builtin_function_or_method",
    "instance",
    "_Feature"
   ],
   "window_display": false
  }
 },
 "nbformat": 4,
 "nbformat_minor": 5
}
