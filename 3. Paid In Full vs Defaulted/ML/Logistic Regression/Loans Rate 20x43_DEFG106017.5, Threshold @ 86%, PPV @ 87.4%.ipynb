{
 "cells": [
  {
   "cell_type": "code",
   "execution_count": 1,
   "id": "6f4648b5",
   "metadata": {},
   "outputs": [],
   "source": [
    "import pandas as pd\n",
    "import numpy as np\n",
    "import seaborn as sns\n",
    "import copy as cp\n",
    "import matplotlib.pyplot as plt\n",
    "\n",
    "from sklearn.model_selection import cross_val_score, cross_val_predict \n",
    "from sklearn.model_selection import train_test_split\n",
    "from sklearn.model_selection import RepeatedStratifiedKFold\n",
    "from imblearn.pipeline import Pipeline\n",
    "from imblearn.over_sampling import SMOTE\n",
    "\n",
    "from sklearn.linear_model import LogisticRegression\n",
    "from sklearn.metrics import roc_auc_score, roc_curve, precision_recall_curve\n",
    "from sklearn.metrics import confusion_matrix, accuracy_score\n",
    "\n",
    "from typing import Tuple"
   ]
  },
  {
   "cell_type": "code",
   "execution_count": 2,
   "id": "a6b2eaad",
   "metadata": {},
   "outputs": [],
   "source": [
    "pd.set_option(\"display.max_columns\", 200)\n",
    "pd.set_option(\"display.max_row\", 160)\n",
    "pd.set_option('max_colwidth', 200)"
   ]
  },
  {
   "cell_type": "code",
   "execution_count": 3,
   "id": "acc59130",
   "metadata": {},
   "outputs": [
    {
     "data": {
      "text/html": [
       "<div>\n",
       "<style scoped>\n",
       "    .dataframe tbody tr th:only-of-type {\n",
       "        vertical-align: middle;\n",
       "    }\n",
       "\n",
       "    .dataframe tbody tr th {\n",
       "        vertical-align: top;\n",
       "    }\n",
       "\n",
       "    .dataframe thead th {\n",
       "        text-align: right;\n",
       "    }\n",
       "</style>\n",
       "<table border=\"1\" class=\"dataframe\">\n",
       "  <thead>\n",
       "    <tr style=\"text-align: right;\">\n",
       "      <th></th>\n",
       "      <th>loan_amnt</th>\n",
       "      <th>annual_inc</th>\n",
       "      <th>dti</th>\n",
       "      <th>fico_range_low</th>\n",
       "      <th>fico_range_high</th>\n",
       "      <th>int_rate</th>\n",
       "      <th>installment</th>\n",
       "      <th>open_acc</th>\n",
       "      <th>total_acc</th>\n",
       "      <th>revol_bal</th>\n",
       "      <th>inq_last_6mths</th>\n",
       "      <th>delinq_2yrs</th>\n",
       "      <th>mths_since_last_delinq</th>\n",
       "      <th>acc_now_delinq</th>\n",
       "      <th>collections_12_mths_ex_med</th>\n",
       "      <th>pub_rec</th>\n",
       "      <th>months_cr_line</th>\n",
       "      <th>term</th>\n",
       "      <th>initial_list_status</th>\n",
       "      <th>grade</th>\n",
       "      <th>sub_grade</th>\n",
       "      <th>emp_length</th>\n",
       "      <th>ANY</th>\n",
       "      <th>MORTGAGE</th>\n",
       "      <th>OWN</th>\n",
       "      <th>RENT</th>\n",
       "      <th>car</th>\n",
       "      <th>credit_card</th>\n",
       "      <th>debt_consolidation</th>\n",
       "      <th>home_improvement</th>\n",
       "      <th>house</th>\n",
       "      <th>major_purchase</th>\n",
       "      <th>medical</th>\n",
       "      <th>moving</th>\n",
       "      <th>other</th>\n",
       "      <th>renewable_energy</th>\n",
       "      <th>small_business</th>\n",
       "      <th>vacation</th>\n",
       "      <th>wedding</th>\n",
       "      <th>Not Verified</th>\n",
       "      <th>Source Verified</th>\n",
       "      <th>Verified</th>\n",
       "      <th>loan_status_bin</th>\n",
       "    </tr>\n",
       "  </thead>\n",
       "  <tbody>\n",
       "    <tr>\n",
       "      <th>0</th>\n",
       "      <td>-0.688961</td>\n",
       "      <td>-0.098407</td>\n",
       "      <td>-0.878946</td>\n",
       "      <td>1.908757</td>\n",
       "      <td>1.908757</td>\n",
       "      <td>-0.572337</td>\n",
       "      <td>-0.680069</td>\n",
       "      <td>-0.344434</td>\n",
       "      <td>-0.847799</td>\n",
       "      <td>-0.559022</td>\n",
       "      <td>1.176249</td>\n",
       "      <td>0.379582</td>\n",
       "      <td>-0.304934</td>\n",
       "      <td>-0.078675</td>\n",
       "      <td>-0.150104</td>\n",
       "      <td>-0.440423</td>\n",
       "      <td>-0.879612</td>\n",
       "      <td>-0.255268</td>\n",
       "      <td>1.415665</td>\n",
       "      <td>-0.029548</td>\n",
       "      <td>0.543690</td>\n",
       "      <td>-0.520336</td>\n",
       "      <td>-0.036999</td>\n",
       "      <td>-0.797214</td>\n",
       "      <td>-0.351647</td>\n",
       "      <td>1.0</td>\n",
       "      <td>-0.126381</td>\n",
       "      <td>-0.231636</td>\n",
       "      <td>-0.749244</td>\n",
       "      <td>3.41565</td>\n",
       "      <td>-0.157698</td>\n",
       "      <td>-0.194825</td>\n",
       "      <td>-0.220784</td>\n",
       "      <td>-0.218218</td>\n",
       "      <td>-0.561299</td>\n",
       "      <td>-0.069338</td>\n",
       "      <td>-0.252217</td>\n",
       "      <td>-0.17609</td>\n",
       "      <td>-0.08901</td>\n",
       "      <td>-0.598141</td>\n",
       "      <td>1.218142</td>\n",
       "      <td>-0.708013</td>\n",
       "      <td>0.0</td>\n",
       "    </tr>\n",
       "    <tr>\n",
       "      <th>1</th>\n",
       "      <td>-0.955672</td>\n",
       "      <td>-0.272715</td>\n",
       "      <td>0.853446</td>\n",
       "      <td>0.113095</td>\n",
       "      <td>0.113095</td>\n",
       "      <td>0.621456</td>\n",
       "      <td>-0.892889</td>\n",
       "      <td>-0.745154</td>\n",
       "      <td>-0.932905</td>\n",
       "      <td>-0.449493</td>\n",
       "      <td>0.415315</td>\n",
       "      <td>-0.463741</td>\n",
       "      <td>-0.896243</td>\n",
       "      <td>-0.078675</td>\n",
       "      <td>-0.150104</td>\n",
       "      <td>-0.440423</td>\n",
       "      <td>0.314916</td>\n",
       "      <td>-0.255268</td>\n",
       "      <td>1.415665</td>\n",
       "      <td>1.342791</td>\n",
       "      <td>1.503181</td>\n",
       "      <td>-1.587261</td>\n",
       "      <td>-0.036999</td>\n",
       "      <td>1.254368</td>\n",
       "      <td>-0.351647</td>\n",
       "      <td>-1.0</td>\n",
       "      <td>-0.126381</td>\n",
       "      <td>-0.231636</td>\n",
       "      <td>1.334679</td>\n",
       "      <td>-0.29277</td>\n",
       "      <td>-0.157698</td>\n",
       "      <td>-0.194825</td>\n",
       "      <td>-0.220784</td>\n",
       "      <td>-0.218218</td>\n",
       "      <td>-0.561299</td>\n",
       "      <td>-0.069338</td>\n",
       "      <td>-0.252217</td>\n",
       "      <td>-0.17609</td>\n",
       "      <td>-0.08901</td>\n",
       "      <td>-0.598141</td>\n",
       "      <td>1.218142</td>\n",
       "      <td>-0.708013</td>\n",
       "      <td>0.0</td>\n",
       "    </tr>\n",
       "    <tr>\n",
       "      <th>2</th>\n",
       "      <td>0.143178</td>\n",
       "      <td>-0.083250</td>\n",
       "      <td>1.574731</td>\n",
       "      <td>-0.656475</td>\n",
       "      <td>-0.656475</td>\n",
       "      <td>-0.572337</td>\n",
       "      <td>0.145642</td>\n",
       "      <td>0.256648</td>\n",
       "      <td>0.939420</td>\n",
       "      <td>-0.097825</td>\n",
       "      <td>2.698116</td>\n",
       "      <td>2.909549</td>\n",
       "      <td>-0.896243</td>\n",
       "      <td>-0.078675</td>\n",
       "      <td>-0.150104</td>\n",
       "      <td>0.894995</td>\n",
       "      <td>-0.355482</td>\n",
       "      <td>-0.255268</td>\n",
       "      <td>1.415665</td>\n",
       "      <td>-0.029548</td>\n",
       "      <td>0.543690</td>\n",
       "      <td>-0.520336</td>\n",
       "      <td>-0.036999</td>\n",
       "      <td>1.254368</td>\n",
       "      <td>-0.351647</td>\n",
       "      <td>-1.0</td>\n",
       "      <td>-0.126381</td>\n",
       "      <td>-0.231636</td>\n",
       "      <td>-0.749244</td>\n",
       "      <td>-0.29277</td>\n",
       "      <td>-0.157698</td>\n",
       "      <td>-0.194825</td>\n",
       "      <td>-0.220784</td>\n",
       "      <td>-0.218218</td>\n",
       "      <td>-0.561299</td>\n",
       "      <td>-0.069338</td>\n",
       "      <td>3.964846</td>\n",
       "      <td>-0.17609</td>\n",
       "      <td>-0.08901</td>\n",
       "      <td>-0.598141</td>\n",
       "      <td>1.218142</td>\n",
       "      <td>-0.708013</td>\n",
       "      <td>1.0</td>\n",
       "    </tr>\n",
       "    <tr>\n",
       "      <th>3</th>\n",
       "      <td>-0.571608</td>\n",
       "      <td>-0.242401</td>\n",
       "      <td>1.060462</td>\n",
       "      <td>-0.912998</td>\n",
       "      <td>-0.912998</td>\n",
       "      <td>1.408668</td>\n",
       "      <td>-0.452957</td>\n",
       "      <td>-0.344434</td>\n",
       "      <td>-0.422271</td>\n",
       "      <td>-0.422451</td>\n",
       "      <td>2.698116</td>\n",
       "      <td>0.379582</td>\n",
       "      <td>0.331859</td>\n",
       "      <td>-0.078675</td>\n",
       "      <td>-0.150104</td>\n",
       "      <td>0.894995</td>\n",
       "      <td>-0.562696</td>\n",
       "      <td>-0.255268</td>\n",
       "      <td>1.415665</td>\n",
       "      <td>1.342791</td>\n",
       "      <td>2.142842</td>\n",
       "      <td>0.013127</td>\n",
       "      <td>-0.036999</td>\n",
       "      <td>1.254368</td>\n",
       "      <td>-0.351647</td>\n",
       "      <td>-1.0</td>\n",
       "      <td>-0.126381</td>\n",
       "      <td>-0.231636</td>\n",
       "      <td>1.334679</td>\n",
       "      <td>-0.29277</td>\n",
       "      <td>-0.157698</td>\n",
       "      <td>-0.194825</td>\n",
       "      <td>-0.220784</td>\n",
       "      <td>-0.218218</td>\n",
       "      <td>-0.561299</td>\n",
       "      <td>-0.069338</td>\n",
       "      <td>-0.252217</td>\n",
       "      <td>-0.17609</td>\n",
       "      <td>-0.08901</td>\n",
       "      <td>-0.598141</td>\n",
       "      <td>1.218142</td>\n",
       "      <td>-0.708013</td>\n",
       "      <td>1.0</td>\n",
       "    </tr>\n",
       "    <tr>\n",
       "      <th>4</th>\n",
       "      <td>0.207189</td>\n",
       "      <td>-0.227244</td>\n",
       "      <td>1.467955</td>\n",
       "      <td>-0.143429</td>\n",
       "      <td>-0.143429</td>\n",
       "      <td>-0.996220</td>\n",
       "      <td>0.175789</td>\n",
       "      <td>0.256648</td>\n",
       "      <td>-0.081848</td>\n",
       "      <td>0.130144</td>\n",
       "      <td>-0.345619</td>\n",
       "      <td>-0.463741</td>\n",
       "      <td>-0.896243</td>\n",
       "      <td>-0.078675</td>\n",
       "      <td>-0.150104</td>\n",
       "      <td>0.894995</td>\n",
       "      <td>1.168150</td>\n",
       "      <td>-0.255268</td>\n",
       "      <td>1.415665</td>\n",
       "      <td>-0.029548</td>\n",
       "      <td>0.223859</td>\n",
       "      <td>1.080052</td>\n",
       "      <td>-0.036999</td>\n",
       "      <td>1.254368</td>\n",
       "      <td>-0.351647</td>\n",
       "      <td>-1.0</td>\n",
       "      <td>-0.126381</td>\n",
       "      <td>-0.231636</td>\n",
       "      <td>-0.749244</td>\n",
       "      <td>3.41565</td>\n",
       "      <td>-0.157698</td>\n",
       "      <td>-0.194825</td>\n",
       "      <td>-0.220784</td>\n",
       "      <td>-0.218218</td>\n",
       "      <td>-0.561299</td>\n",
       "      <td>-0.069338</td>\n",
       "      <td>-0.252217</td>\n",
       "      <td>-0.17609</td>\n",
       "      <td>-0.08901</td>\n",
       "      <td>-0.598141</td>\n",
       "      <td>-0.820922</td>\n",
       "      <td>1.412403</td>\n",
       "      <td>1.0</td>\n",
       "    </tr>\n",
       "  </tbody>\n",
       "</table>\n",
       "</div>"
      ],
      "text/plain": [
       "   loan_amnt  annual_inc       dti  fico_range_low  fico_range_high  int_rate  \\\n",
       "0  -0.688961   -0.098407 -0.878946        1.908757         1.908757 -0.572337   \n",
       "1  -0.955672   -0.272715  0.853446        0.113095         0.113095  0.621456   \n",
       "2   0.143178   -0.083250  1.574731       -0.656475        -0.656475 -0.572337   \n",
       "3  -0.571608   -0.242401  1.060462       -0.912998        -0.912998  1.408668   \n",
       "4   0.207189   -0.227244  1.467955       -0.143429        -0.143429 -0.996220   \n",
       "\n",
       "   installment  open_acc  total_acc  revol_bal  inq_last_6mths  delinq_2yrs  \\\n",
       "0    -0.680069 -0.344434  -0.847799  -0.559022        1.176249     0.379582   \n",
       "1    -0.892889 -0.745154  -0.932905  -0.449493        0.415315    -0.463741   \n",
       "2     0.145642  0.256648   0.939420  -0.097825        2.698116     2.909549   \n",
       "3    -0.452957 -0.344434  -0.422271  -0.422451        2.698116     0.379582   \n",
       "4     0.175789  0.256648  -0.081848   0.130144       -0.345619    -0.463741   \n",
       "\n",
       "   mths_since_last_delinq  acc_now_delinq  collections_12_mths_ex_med  \\\n",
       "0               -0.304934       -0.078675                   -0.150104   \n",
       "1               -0.896243       -0.078675                   -0.150104   \n",
       "2               -0.896243       -0.078675                   -0.150104   \n",
       "3                0.331859       -0.078675                   -0.150104   \n",
       "4               -0.896243       -0.078675                   -0.150104   \n",
       "\n",
       "    pub_rec  months_cr_line      term  initial_list_status     grade  \\\n",
       "0 -0.440423       -0.879612 -0.255268             1.415665 -0.029548   \n",
       "1 -0.440423        0.314916 -0.255268             1.415665  1.342791   \n",
       "2  0.894995       -0.355482 -0.255268             1.415665 -0.029548   \n",
       "3  0.894995       -0.562696 -0.255268             1.415665  1.342791   \n",
       "4  0.894995        1.168150 -0.255268             1.415665 -0.029548   \n",
       "\n",
       "   sub_grade  emp_length       ANY  MORTGAGE       OWN  RENT       car  \\\n",
       "0   0.543690   -0.520336 -0.036999 -0.797214 -0.351647   1.0 -0.126381   \n",
       "1   1.503181   -1.587261 -0.036999  1.254368 -0.351647  -1.0 -0.126381   \n",
       "2   0.543690   -0.520336 -0.036999  1.254368 -0.351647  -1.0 -0.126381   \n",
       "3   2.142842    0.013127 -0.036999  1.254368 -0.351647  -1.0 -0.126381   \n",
       "4   0.223859    1.080052 -0.036999  1.254368 -0.351647  -1.0 -0.126381   \n",
       "\n",
       "   credit_card  debt_consolidation  home_improvement     house  \\\n",
       "0    -0.231636           -0.749244           3.41565 -0.157698   \n",
       "1    -0.231636            1.334679          -0.29277 -0.157698   \n",
       "2    -0.231636           -0.749244          -0.29277 -0.157698   \n",
       "3    -0.231636            1.334679          -0.29277 -0.157698   \n",
       "4    -0.231636           -0.749244           3.41565 -0.157698   \n",
       "\n",
       "   major_purchase   medical    moving     other  renewable_energy  \\\n",
       "0       -0.194825 -0.220784 -0.218218 -0.561299         -0.069338   \n",
       "1       -0.194825 -0.220784 -0.218218 -0.561299         -0.069338   \n",
       "2       -0.194825 -0.220784 -0.218218 -0.561299         -0.069338   \n",
       "3       -0.194825 -0.220784 -0.218218 -0.561299         -0.069338   \n",
       "4       -0.194825 -0.220784 -0.218218 -0.561299         -0.069338   \n",
       "\n",
       "   small_business  vacation  wedding  Not Verified  Source Verified  Verified  \\\n",
       "0       -0.252217  -0.17609 -0.08901     -0.598141         1.218142 -0.708013   \n",
       "1       -0.252217  -0.17609 -0.08901     -0.598141         1.218142 -0.708013   \n",
       "2        3.964846  -0.17609 -0.08901     -0.598141         1.218142 -0.708013   \n",
       "3       -0.252217  -0.17609 -0.08901     -0.598141         1.218142 -0.708013   \n",
       "4       -0.252217  -0.17609 -0.08901     -0.598141        -0.820922  1.412403   \n",
       "\n",
       "   loan_status_bin  \n",
       "0              0.0  \n",
       "1              0.0  \n",
       "2              1.0  \n",
       "3              1.0  \n",
       "4              1.0  "
      ]
     },
     "execution_count": 3,
     "metadata": {},
     "output_type": "execute_result"
    }
   ],
   "source": [
    "data = pd.read_csv('../../Data/20x43_DEFG106017_5.csv')\n",
    "data.head(5)"
   ]
  },
  {
   "cell_type": "code",
   "execution_count": 4,
   "id": "771565fb",
   "metadata": {},
   "outputs": [
    {
     "data": {
      "text/plain": [
       "(2926, 43)"
      ]
     },
     "execution_count": 4,
     "metadata": {},
     "output_type": "execute_result"
    }
   ],
   "source": [
    "data.shape"
   ]
  },
  {
   "cell_type": "code",
   "execution_count": 5,
   "id": "74758ddc",
   "metadata": {},
   "outputs": [
    {
     "data": {
      "text/plain": [
       "1.0    2260\n",
       "0.0     666\n",
       "Name: loan_status_bin, dtype: int64"
      ]
     },
     "execution_count": 5,
     "metadata": {},
     "output_type": "execute_result"
    }
   ],
   "source": [
    "data.loan_status_bin.value_counts()\n",
    "#0 = Defaulted Loans\n",
    "#1 = Loans Paid In Full"
   ]
  },
  {
   "cell_type": "code",
   "execution_count": 6,
   "id": "b9a9c6be",
   "metadata": {},
   "outputs": [
    {
     "data": {
      "text/plain": [
       "(2926, 42)"
      ]
     },
     "execution_count": 6,
     "metadata": {},
     "output_type": "execute_result"
    }
   ],
   "source": [
    "X = data.drop('loan_status_bin', axis=1)\n",
    "X.shape"
   ]
  },
  {
   "cell_type": "code",
   "execution_count": 7,
   "id": "0559962b",
   "metadata": {},
   "outputs": [],
   "source": [
    "y = data['loan_status_bin']"
   ]
  },
  {
   "cell_type": "code",
   "execution_count": 8,
   "id": "9b1bb6de",
   "metadata": {},
   "outputs": [],
   "source": [
    "lr1 = LogisticRegression()"
   ]
  },
  {
   "cell_type": "code",
   "execution_count": 9,
   "id": "e9e711e2",
   "metadata": {},
   "outputs": [],
   "source": [
    "steps = [('model', lr1)]\n",
    "pipeline = Pipeline(steps=steps)"
   ]
  },
  {
   "cell_type": "code",
   "execution_count": 10,
   "id": "fb714eeb",
   "metadata": {},
   "outputs": [
    {
     "name": "stdout",
     "output_type": "stream",
     "text": [
      "[0.77645051 0.77435897 0.77777778 0.76752137 0.76068376]\n",
      "0.7713584784574545\n"
     ]
    }
   ],
   "source": [
    "#Accuracy:\n",
    "\n",
    "cv = RepeatedStratifiedKFold(n_splits=5, n_repeats=1, random_state=1)\n",
    "scores = cross_val_score(pipeline, X, y, scoring='accuracy', cv=cv, n_jobs=-1) \n",
    "print(scores)\n",
    "\n",
    "score = np.mean(scores)\n",
    "print(score)"
   ]
  },
  {
   "cell_type": "code",
   "execution_count": 11,
   "id": "9db484eb",
   "metadata": {},
   "outputs": [
    {
     "data": {
      "text/plain": [
       "array([[  33,  633],\n",
       "       [  36, 2224]])"
      ]
     },
     "execution_count": 11,
     "metadata": {},
     "output_type": "execute_result"
    }
   ],
   "source": [
    "#Aggregated Confusion Matrix From RepeatedStratifiedKFold: \n",
    "y_pred = cross_val_predict(pipeline, X, y, cv=cv, n_jobs=-1)\n",
    "conf_mat = confusion_matrix(y, y_pred)\n",
    "conf_mat"
   ]
  },
  {
   "cell_type": "code",
   "execution_count": 12,
   "id": "cd14efda",
   "metadata": {},
   "outputs": [
    {
     "data": {
      "image/png": "[encoded data removed]",
      "text/plain": [
       "<Figure size 864x432 with 1 Axes>"
      ]
     },
     "metadata": {},
     "output_type": "display_data"
    }
   ],
   "source": [
    "sns.set(rc = {'figure.figsize':(12,6)})\n",
    "#cmap = sns.cubehelix_palette(start=2, rot=0, dark=0, light=.95, reverse=True, as_cmap=True)\n",
    "cmap = sns.light_palette('seagreen', as_cmap=True)\n",
    "\n",
    "res = sns.heatmap(conf_mat, annot=True, fmt='d', annot_kws={\"size\":20},\n",
    "#            xticklabels = ['Good = Paid In Full', 'Bad = Default'],\n",
    "#            yticklabels = ['Loan Paid In Full', 'Bad = Default'], \n",
    "            cmap=cmap, cbar=False)\n",
    "\n",
    "res.set_xticklabels(['Loan Default', 'Loan Repaid'], fontsize=15)\n",
    "res.set_yticklabels(['Loan Default', 'Loan Repaid'], fontsize=15)\n",
    "\n",
    "\n",
    "plt.title('Confusion Matrix For Logistic Regression', fontsize=25, pad=15)\n",
    "plt.xlabel('Predicted', fontsize=20)\n",
    "plt.ylabel('Actual', fontsize=20);"
   ]
  },
  {
   "cell_type": "code",
   "execution_count": 13,
   "id": "345a55b6",
   "metadata": {},
   "outputs": [
    {
     "data": {
      "text/plain": [
       "0.7713602187286398"
      ]
     },
     "execution_count": 13,
     "metadata": {},
     "output_type": "execute_result"
    }
   ],
   "source": [
    "accuracy_score(y, y_pred)"
   ]
  },
  {
   "cell_type": "code",
   "execution_count": 14,
   "id": "22662a59",
   "metadata": {},
   "outputs": [
    {
     "name": "stdout",
     "output_type": "stream",
     "text": [
      "2224\n",
      "633\n",
      "36\n",
      "33\n",
      "0.7713602187286398\n"
     ]
    }
   ],
   "source": [
    "TN, FP, FN, TP = conf_mat.ravel()\n",
    "print(TP)\n",
    "print(FP)\n",
    "print(FN)\n",
    "print(TN)\n",
    "print((TP + TN) / (TN + TP + FP + FN))"
   ]
  },
  {
   "cell_type": "code",
   "execution_count": null,
   "id": "4dcedec5",
   "metadata": {},
   "outputs": [],
   "source": []
  },
  {
   "cell_type": "code",
   "execution_count": 15,
   "id": "36dec5fa",
   "metadata": {},
   "outputs": [
    {
     "name": "stdout",
     "output_type": "stream",
     "text": [
      "1.0    2260\n",
      "0.0     666\n",
      "Name: loan_status_bin, dtype: int64\n",
      "\n",
      "0.7723855092276145\n"
     ]
    }
   ],
   "source": [
    "#Re-examine original pool of accepted LC Loans: \n",
    "\n",
    "print(data.loan_status_bin.value_counts())\n",
    "#0 = Loan Defaulted\n",
    "#1 = Loan Fully Paid\n",
    "\n",
    "good_loan = data.loan_status_bin.value_counts()[1]\n",
    "bad_loan = data.loan_status_bin.value_counts()[0]\n",
    "\n",
    "print()\n",
    "print(good_loan / (good_loan + bad_loan))\n",
    "\n",
    "#Random investment would give us 59% chance of pickkng a good loan"
   ]
  },
  {
   "cell_type": "code",
   "execution_count": 16,
   "id": "9be4be5d",
   "metadata": {},
   "outputs": [
    {
     "data": {
      "text/plain": [
       "0.7784389219460973"
      ]
     },
     "execution_count": 16,
     "metadata": {},
     "output_type": "execute_result"
    }
   ],
   "source": [
    "#Positive Predictive Value (or Precision)\n",
    "#Logistic Model only does 0.1% better than Null Model or \"random investment\"\n",
    "TP / (TP+FP)"
   ]
  },
  {
   "cell_type": "code",
   "execution_count": null,
   "id": "747fa766",
   "metadata": {},
   "outputs": [],
   "source": []
  },
  {
   "cell_type": "code",
   "execution_count": 17,
   "id": "3188e143",
   "metadata": {},
   "outputs": [],
   "source": [
    "#What if we \"balance\" the weight class to avoid \"imbalanced\" nature...No Change! "
   ]
  },
  {
   "cell_type": "code",
   "execution_count": 18,
   "id": "0d86ed92",
   "metadata": {},
   "outputs": [],
   "source": [
    "lr_balanced = LogisticRegression(class_weight='balanced')"
   ]
  },
  {
   "cell_type": "code",
   "execution_count": 19,
   "id": "1e582bb8",
   "metadata": {},
   "outputs": [],
   "source": [
    "steps_balanced = [('model', lr_balanced)]\n",
    "pipeline_balanced = Pipeline(steps=steps)"
   ]
  },
  {
   "cell_type": "code",
   "execution_count": 20,
   "id": "1f2cdc5a",
   "metadata": {},
   "outputs": [
    {
     "name": "stdout",
     "output_type": "stream",
     "text": [
      "[0.77645051 0.77435897 0.77777778 0.76752137 0.76068376]\n",
      "0.7713584784574545\n"
     ]
    }
   ],
   "source": [
    "#Accuracy:\n",
    "\n",
    "cv = RepeatedStratifiedKFold(n_splits=5, n_repeats=1, random_state=1)\n",
    "scores = cross_val_score(pipeline_balanced, X, y, scoring='accuracy', cv=cv, n_jobs=-1) \n",
    "print(scores)\n",
    "\n",
    "score = np.mean(scores)\n",
    "print(score)"
   ]
  },
  {
   "cell_type": "code",
   "execution_count": 21,
   "id": "b5943c47",
   "metadata": {},
   "outputs": [
    {
     "data": {
      "text/plain": [
       "array([[  33,  633],\n",
       "       [  36, 2224]])"
      ]
     },
     "execution_count": 21,
     "metadata": {},
     "output_type": "execute_result"
    }
   ],
   "source": [
    "#Aggregated Confusion Matrix From RepeatedStratifiedKFold: \n",
    "y_pred_balanced = cross_val_predict(pipeline_balanced, X, y, cv=cv, n_jobs=-1)\n",
    "conf_mat_balanced = confusion_matrix(y, y_pred_balanced)\n",
    "conf_mat_balanced"
   ]
  },
  {
   "cell_type": "code",
   "execution_count": null,
   "id": "33d49ed8",
   "metadata": {},
   "outputs": [],
   "source": []
  },
  {
   "cell_type": "code",
   "execution_count": null,
   "id": "c2672371",
   "metadata": {},
   "outputs": [],
   "source": []
  },
  {
   "cell_type": "code",
   "execution_count": 22,
   "id": "3e6f9d5f",
   "metadata": {},
   "outputs": [],
   "source": [
    "#Obtain predicted probabilities (not predicted classes) from RSKF: \n",
    "y_pred_prob = cross_val_predict(pipeline, X, y, cv=cv, n_jobs=-1, method='predict_proba')"
   ]
  },
  {
   "cell_type": "code",
   "execution_count": 23,
   "id": "9f850d5b",
   "metadata": {},
   "outputs": [
    {
     "data": {
      "text/plain": [
       "array([[0.3404435 , 0.6595565 ],\n",
       "       [0.31326633, 0.68673367],\n",
       "       [0.21914773, 0.78085227],\n",
       "       ...,\n",
       "       [0.14340387, 0.85659613],\n",
       "       [0.27220702, 0.72779298],\n",
       "       [0.2075845 , 0.7924155 ]])"
      ]
     },
     "execution_count": 23,
     "metadata": {},
     "output_type": "execute_result"
    }
   ],
   "source": [
    "y_pred_prob"
   ]
  },
  {
   "cell_type": "code",
   "execution_count": 85,
   "id": "973f2937",
   "metadata": {},
   "outputs": [
    {
     "data": {
      "text/plain": [
       "array([0., 0., 0., ..., 0., 0., 0.])"
      ]
     },
     "execution_count": 85,
     "metadata": {},
     "output_type": "execute_result"
    }
   ],
   "source": [
    "#Obtaining classification based on desired threshold of 0.8: \n",
    "\n",
    "y_pred_success = (y_pred_prob[:, 1] > 0.865).astype('float')\n",
    "y_pred_success"
   ]
  },
  {
   "cell_type": "code",
   "execution_count": 86,
   "id": "686a5f94",
   "metadata": {},
   "outputs": [
    {
     "data": {
      "text/plain": [
       "array([[ 586,   80],\n",
       "       [1713,  547]])"
      ]
     },
     "execution_count": 86,
     "metadata": {},
     "output_type": "execute_result"
    }
   ],
   "source": [
    "conf_mat = confusion_matrix(y, y_pred_success)\n",
    "conf_mat"
   ]
  },
  {
   "cell_type": "code",
   "execution_count": 87,
   "id": "6c050cfb",
   "metadata": {},
   "outputs": [
    {
     "data": {
      "image/png": "[encoded data removed]",
      "text/plain": [
       "<Figure size 864x432 with 1 Axes>"
      ]
     },
     "metadata": {},
     "output_type": "display_data"
    }
   ],
   "source": [
    "sns.set(rc = {'figure.figsize':(12,6)})\n",
    "#cmap = sns.cubehelix_palette(start=2, rot=0, dark=0, light=.95, reverse=True, as_cmap=True)\n",
    "cmap = sns.light_palette('seagreen', as_cmap=True)\n",
    "\n",
    "res = sns.heatmap(conf_mat, annot=True, fmt='d', annot_kws={\"size\":20},\n",
    "#            xticklabels = ['Good = Paid In Full', 'Bad = Default'],\n",
    "#            yticklabels = ['Loan Paid In Full', 'Bad = Default'], \n",
    "            cmap=cmap, cbar=False)\n",
    "\n",
    "res.set_xticklabels(['Loan Default', 'Loan Repaid'], fontsize=15)\n",
    "res.set_yticklabels(['Loan Default', 'Loan Repaid'], fontsize=15)\n",
    "\n",
    "\n",
    "plt.title('Confusion Matrix For Logistic Regression', fontsize=25, pad=15)\n",
    "plt.xlabel('Predicted', fontsize=20)\n",
    "plt.ylabel('Actual', fontsize=20);"
   ]
  },
  {
   "cell_type": "code",
   "execution_count": 88,
   "id": "c5dc62cd",
   "metadata": {},
   "outputs": [
    {
     "data": {
      "text/plain": [
       "0.38721804511278196"
      ]
     },
     "execution_count": 88,
     "metadata": {},
     "output_type": "execute_result"
    }
   ],
   "source": [
    "accuracy_score(y, y_pred_success)"
   ]
  },
  {
   "cell_type": "code",
   "execution_count": 89,
   "id": "25920782",
   "metadata": {},
   "outputs": [
    {
     "name": "stdout",
     "output_type": "stream",
     "text": [
      "547\n",
      "80\n",
      "1713\n",
      "586\n",
      "0.38721804511278196\n"
     ]
    }
   ],
   "source": [
    "TN, FP, FN, TP = conf_mat.ravel()\n",
    "print(TP)\n",
    "print(FP)\n",
    "print(FN)\n",
    "print(TN)\n",
    "print((TP + TN) / (TN + TP + FP + FN))"
   ]
  },
  {
   "cell_type": "code",
   "execution_count": 90,
   "id": "67e15484",
   "metadata": {},
   "outputs": [
    {
     "data": {
      "text/plain": [
       "0.8724082934609251"
      ]
     },
     "execution_count": 90,
     "metadata": {},
     "output_type": "execute_result"
    }
   ],
   "source": [
    "#Positive Predictive Value (or Precision)\n",
    "#Logistic Model only does 3% better than Null Model or \"random investment\"\n",
    "TP / (TP+FP)"
   ]
  },
  {
   "cell_type": "code",
   "execution_count": 30,
   "id": "a51b3ce5",
   "metadata": {},
   "outputs": [],
   "source": [
    "## Next question. what was characteristic of the 217 loans that defaulted??\n",
    "## Get all loans which you predicted greater than 80% and find out which ones defaulted.\n",
    "## Any pattern?????"
   ]
  },
  {
   "cell_type": "code",
   "execution_count": 31,
   "id": "2bb4a848",
   "metadata": {},
   "outputs": [],
   "source": [
    "#Do we drop all observations where the source is not verified? \n",
    "#Do we drop all observations loan amount is greater than half of one's income? "
   ]
  },
  {
   "cell_type": "code",
   "execution_count": null,
   "id": "88205f9a",
   "metadata": {},
   "outputs": [],
   "source": []
  }
 ],
 "metadata": {
  "hide_input": false,
  "kernelspec": {
   "display_name": "Python 3 (ipykernel)",
   "language": "python",
   "name": "python3"
  },
  "language_info": {
   "codemirror_mode": {
    "name": "ipython",
    "version": 3
   },
   "file_extension": ".py",
   "mimetype": "text/x-python",
   "name": "python",
   "nbconvert_exporter": "python",
   "pygments_lexer": "ipython3",
   "version": "3.8.8"
  },
  "varInspector": {
   "cols": {
    "lenName": 16,
    "lenType": 16,
    "lenVar": 40
   },
   "kernels_config": {
    "python": {
     "delete_cmd_postfix": "",
     "delete_cmd_prefix": "del ",
     "library": "var_list.py",
     "varRefreshCmd": "print(var_dic_list())"
    },
    "r": {
     "delete_cmd_postfix": ") ",
     "delete_cmd_prefix": "rm(",
     "library": "var_list.r",
     "varRefreshCmd": "cat(var_dic_list()) "
    }
   },
   "types_to_exclude": [
    "module",
    "function",
    "builtin_function_or_method",
    "instance",
    "_Feature"
   ],
   "window_display": false
  }
 },
 "nbformat": 4,
 "nbformat_minor": 5
}
