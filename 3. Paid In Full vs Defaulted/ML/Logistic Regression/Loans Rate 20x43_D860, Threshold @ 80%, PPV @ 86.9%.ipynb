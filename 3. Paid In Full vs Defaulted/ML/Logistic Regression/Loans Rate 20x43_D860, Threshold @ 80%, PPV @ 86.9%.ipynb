{
 "cells": [
  {
   "cell_type": "code",
   "execution_count": 1,
   "id": "6f4648b5",
   "metadata": {},
   "outputs": [],
   "source": [
    "import pandas as pd\n",
    "import numpy as np\n",
    "import seaborn as sns\n",
    "import copy as cp\n",
    "import matplotlib.pyplot as plt\n",
    "\n",
    "from sklearn.model_selection import cross_val_score, cross_val_predict \n",
    "from sklearn.model_selection import train_test_split\n",
    "from sklearn.model_selection import RepeatedStratifiedKFold\n",
    "from imblearn.pipeline import Pipeline\n",
    "from imblearn.over_sampling import SMOTE\n",
    "\n",
    "from sklearn.linear_model import LogisticRegression\n",
    "from sklearn.metrics import roc_auc_score, roc_curve, precision_recall_curve\n",
    "from sklearn.metrics import confusion_matrix, accuracy_score\n",
    "\n",
    "from typing import Tuple"
   ]
  },
  {
   "cell_type": "code",
   "execution_count": 2,
   "id": "a6b2eaad",
   "metadata": {},
   "outputs": [],
   "source": [
    "pd.set_option(\"display.max_columns\", 200)\n",
    "pd.set_option(\"display.max_row\", 160)\n",
    "pd.set_option('max_colwidth', 200)"
   ]
  },
  {
   "cell_type": "code",
   "execution_count": 3,
   "id": "acc59130",
   "metadata": {},
   "outputs": [
    {
     "data": {
      "text/html": [
       "<div>\n",
       "<style scoped>\n",
       "    .dataframe tbody tr th:only-of-type {\n",
       "        vertical-align: middle;\n",
       "    }\n",
       "\n",
       "    .dataframe tbody tr th {\n",
       "        vertical-align: top;\n",
       "    }\n",
       "\n",
       "    .dataframe thead th {\n",
       "        text-align: right;\n",
       "    }\n",
       "</style>\n",
       "<table border=\"1\" class=\"dataframe\">\n",
       "  <thead>\n",
       "    <tr style=\"text-align: right;\">\n",
       "      <th></th>\n",
       "      <th>loan_amnt</th>\n",
       "      <th>annual_inc</th>\n",
       "      <th>dti</th>\n",
       "      <th>fico_range_low</th>\n",
       "      <th>fico_range_high</th>\n",
       "      <th>int_rate</th>\n",
       "      <th>installment</th>\n",
       "      <th>open_acc</th>\n",
       "      <th>total_acc</th>\n",
       "      <th>revol_bal</th>\n",
       "      <th>inq_last_6mths</th>\n",
       "      <th>delinq_2yrs</th>\n",
       "      <th>acc_now_delinq</th>\n",
       "      <th>collections_12_mths_ex_med</th>\n",
       "      <th>tot_coll_amt</th>\n",
       "      <th>tot_cur_bal</th>\n",
       "      <th>pub_rec</th>\n",
       "      <th>months_cr_line</th>\n",
       "      <th>term</th>\n",
       "      <th>initial_list_status</th>\n",
       "      <th>sub_grade</th>\n",
       "      <th>emp_length</th>\n",
       "      <th>ANY</th>\n",
       "      <th>MORTGAGE</th>\n",
       "      <th>OWN</th>\n",
       "      <th>RENT</th>\n",
       "      <th>car</th>\n",
       "      <th>credit_card</th>\n",
       "      <th>debt_consolidation</th>\n",
       "      <th>home_improvement</th>\n",
       "      <th>house</th>\n",
       "      <th>major_purchase</th>\n",
       "      <th>medical</th>\n",
       "      <th>moving</th>\n",
       "      <th>other</th>\n",
       "      <th>renewable_energy</th>\n",
       "      <th>small_business</th>\n",
       "      <th>vacation</th>\n",
       "      <th>wedding</th>\n",
       "      <th>Not Verified</th>\n",
       "      <th>Source Verified</th>\n",
       "      <th>Verified</th>\n",
       "      <th>loan_status_bin</th>\n",
       "    </tr>\n",
       "  </thead>\n",
       "  <tbody>\n",
       "    <tr>\n",
       "      <th>0</th>\n",
       "      <td>0.126095</td>\n",
       "      <td>-0.171185</td>\n",
       "      <td>1.284007</td>\n",
       "      <td>-0.832409</td>\n",
       "      <td>-0.832409</td>\n",
       "      <td>-0.628702</td>\n",
       "      <td>0.113224</td>\n",
       "      <td>-0.289595</td>\n",
       "      <td>-1.128516</td>\n",
       "      <td>-0.366924</td>\n",
       "      <td>-0.906273</td>\n",
       "      <td>-0.442383</td>\n",
       "      <td>-0.031863</td>\n",
       "      <td>-0.15631</td>\n",
       "      <td>-0.039654</td>\n",
       "      <td>-0.794874</td>\n",
       "      <td>1.082347</td>\n",
       "      <td>-1.814253</td>\n",
       "      <td>-0.063823</td>\n",
       "      <td>0.881236</td>\n",
       "      <td>-1.281964</td>\n",
       "      <td>0.948529</td>\n",
       "      <td>-0.031863</td>\n",
       "      <td>-0.948582</td>\n",
       "      <td>-0.363362</td>\n",
       "      <td>1.202768</td>\n",
       "      <td>-0.164570</td>\n",
       "      <td>-0.309121</td>\n",
       "      <td>-0.805499</td>\n",
       "      <td>-0.284851</td>\n",
       "      <td>-0.12429</td>\n",
       "      <td>-0.188982</td>\n",
       "      <td>-0.218681</td>\n",
       "      <td>4.927682</td>\n",
       "      <td>-0.545315</td>\n",
       "      <td>-0.055244</td>\n",
       "      <td>-0.132453</td>\n",
       "      <td>-0.177146</td>\n",
       "      <td>-0.055244</td>\n",
       "      <td>-0.699590</td>\n",
       "      <td>-0.761661</td>\n",
       "      <td>1.512173</td>\n",
       "      <td>0.0</td>\n",
       "    </tr>\n",
       "    <tr>\n",
       "      <th>1</th>\n",
       "      <td>-1.706372</td>\n",
       "      <td>-0.161231</td>\n",
       "      <td>-0.572577</td>\n",
       "      <td>-0.554658</td>\n",
       "      <td>-0.554658</td>\n",
       "      <td>-0.628702</td>\n",
       "      <td>-1.710281</td>\n",
       "      <td>-0.817722</td>\n",
       "      <td>-0.306473</td>\n",
       "      <td>-0.324679</td>\n",
       "      <td>-0.906273</td>\n",
       "      <td>-0.442383</td>\n",
       "      <td>-0.031863</td>\n",
       "      <td>-0.15631</td>\n",
       "      <td>-0.106365</td>\n",
       "      <td>-0.859867</td>\n",
       "      <td>-0.323706</td>\n",
       "      <td>-0.261957</td>\n",
       "      <td>-0.063823</td>\n",
       "      <td>0.881236</td>\n",
       "      <td>-1.281964</td>\n",
       "      <td>-0.107952</td>\n",
       "      <td>-0.031863</td>\n",
       "      <td>-0.948582</td>\n",
       "      <td>-0.363362</td>\n",
       "      <td>1.202768</td>\n",
       "      <td>-0.164570</td>\n",
       "      <td>-0.309121</td>\n",
       "      <td>-0.805499</td>\n",
       "      <td>-0.284851</td>\n",
       "      <td>-0.12429</td>\n",
       "      <td>-0.188982</td>\n",
       "      <td>-0.218681</td>\n",
       "      <td>-0.202935</td>\n",
       "      <td>1.833803</td>\n",
       "      <td>-0.055244</td>\n",
       "      <td>-0.132453</td>\n",
       "      <td>-0.177146</td>\n",
       "      <td>-0.055244</td>\n",
       "      <td>1.429409</td>\n",
       "      <td>-0.761661</td>\n",
       "      <td>-0.661300</td>\n",
       "      <td>0.0</td>\n",
       "    </tr>\n",
       "    <tr>\n",
       "      <th>2</th>\n",
       "      <td>0.237154</td>\n",
       "      <td>0.037836</td>\n",
       "      <td>-0.953746</td>\n",
       "      <td>-0.832409</td>\n",
       "      <td>-0.832409</td>\n",
       "      <td>1.340048</td>\n",
       "      <td>0.279158</td>\n",
       "      <td>-0.113553</td>\n",
       "      <td>-0.224269</td>\n",
       "      <td>-0.575234</td>\n",
       "      <td>-0.025894</td>\n",
       "      <td>-0.442383</td>\n",
       "      <td>-0.031863</td>\n",
       "      <td>-0.15631</td>\n",
       "      <td>-0.106365</td>\n",
       "      <td>-0.857026</td>\n",
       "      <td>3.894453</td>\n",
       "      <td>0.382842</td>\n",
       "      <td>-0.063823</td>\n",
       "      <td>0.881236</td>\n",
       "      <td>0.780053</td>\n",
       "      <td>-1.692673</td>\n",
       "      <td>-0.031863</td>\n",
       "      <td>-0.948582</td>\n",
       "      <td>-0.363362</td>\n",
       "      <td>1.202768</td>\n",
       "      <td>-0.164570</td>\n",
       "      <td>-0.309121</td>\n",
       "      <td>-0.805499</td>\n",
       "      <td>3.510602</td>\n",
       "      <td>-0.12429</td>\n",
       "      <td>-0.188982</td>\n",
       "      <td>-0.218681</td>\n",
       "      <td>-0.202935</td>\n",
       "      <td>-0.545315</td>\n",
       "      <td>-0.055244</td>\n",
       "      <td>-0.132453</td>\n",
       "      <td>-0.177146</td>\n",
       "      <td>-0.055244</td>\n",
       "      <td>-0.699590</td>\n",
       "      <td>1.312919</td>\n",
       "      <td>-0.661300</td>\n",
       "      <td>1.0</td>\n",
       "    </tr>\n",
       "    <tr>\n",
       "      <th>3</th>\n",
       "      <td>0.806329</td>\n",
       "      <td>-0.151278</td>\n",
       "      <td>-0.184372</td>\n",
       "      <td>0.556348</td>\n",
       "      <td>0.556348</td>\n",
       "      <td>1.340048</td>\n",
       "      <td>0.856971</td>\n",
       "      <td>-0.113553</td>\n",
       "      <td>-0.964107</td>\n",
       "      <td>-0.641515</td>\n",
       "      <td>-0.906273</td>\n",
       "      <td>-0.442383</td>\n",
       "      <td>-0.031863</td>\n",
       "      <td>-0.15631</td>\n",
       "      <td>-0.106365</td>\n",
       "      <td>-0.704978</td>\n",
       "      <td>-0.323706</td>\n",
       "      <td>-0.429128</td>\n",
       "      <td>-0.063823</td>\n",
       "      <td>0.881236</td>\n",
       "      <td>0.780053</td>\n",
       "      <td>-0.900312</td>\n",
       "      <td>-0.031863</td>\n",
       "      <td>-0.948582</td>\n",
       "      <td>-0.363362</td>\n",
       "      <td>1.202768</td>\n",
       "      <td>-0.164570</td>\n",
       "      <td>-0.309121</td>\n",
       "      <td>-0.805499</td>\n",
       "      <td>-0.284851</td>\n",
       "      <td>-0.12429</td>\n",
       "      <td>-0.188982</td>\n",
       "      <td>-0.218681</td>\n",
       "      <td>-0.202935</td>\n",
       "      <td>-0.545315</td>\n",
       "      <td>-0.055244</td>\n",
       "      <td>-0.132453</td>\n",
       "      <td>5.645057</td>\n",
       "      <td>-0.055244</td>\n",
       "      <td>1.429409</td>\n",
       "      <td>-0.761661</td>\n",
       "      <td>-0.661300</td>\n",
       "      <td>1.0</td>\n",
       "    </tr>\n",
       "    <tr>\n",
       "      <th>4</th>\n",
       "      <td>1.070094</td>\n",
       "      <td>-0.186115</td>\n",
       "      <td>0.938023</td>\n",
       "      <td>0.556348</td>\n",
       "      <td>0.556348</td>\n",
       "      <td>1.340048</td>\n",
       "      <td>1.124656</td>\n",
       "      <td>-0.113553</td>\n",
       "      <td>-0.470882</td>\n",
       "      <td>0.020928</td>\n",
       "      <td>-0.906273</td>\n",
       "      <td>-0.442383</td>\n",
       "      <td>-0.031863</td>\n",
       "      <td>-0.15631</td>\n",
       "      <td>-0.106365</td>\n",
       "      <td>0.498734</td>\n",
       "      <td>-0.323706</td>\n",
       "      <td>-0.644061</td>\n",
       "      <td>-0.063823</td>\n",
       "      <td>0.881236</td>\n",
       "      <td>0.780053</td>\n",
       "      <td>-1.428552</td>\n",
       "      <td>-0.031863</td>\n",
       "      <td>1.054205</td>\n",
       "      <td>-0.363362</td>\n",
       "      <td>-0.831416</td>\n",
       "      <td>6.076436</td>\n",
       "      <td>-0.309121</td>\n",
       "      <td>-0.805499</td>\n",
       "      <td>-0.284851</td>\n",
       "      <td>-0.12429</td>\n",
       "      <td>-0.188982</td>\n",
       "      <td>-0.218681</td>\n",
       "      <td>-0.202935</td>\n",
       "      <td>-0.545315</td>\n",
       "      <td>-0.055244</td>\n",
       "      <td>-0.132453</td>\n",
       "      <td>-0.177146</td>\n",
       "      <td>-0.055244</td>\n",
       "      <td>-0.699590</td>\n",
       "      <td>-0.761661</td>\n",
       "      <td>1.512173</td>\n",
       "      <td>0.0</td>\n",
       "    </tr>\n",
       "  </tbody>\n",
       "</table>\n",
       "</div>"
      ],
      "text/plain": [
       "   loan_amnt  annual_inc       dti  fico_range_low  fico_range_high  int_rate  \\\n",
       "0   0.126095   -0.171185  1.284007       -0.832409        -0.832409 -0.628702   \n",
       "1  -1.706372   -0.161231 -0.572577       -0.554658        -0.554658 -0.628702   \n",
       "2   0.237154    0.037836 -0.953746       -0.832409        -0.832409  1.340048   \n",
       "3   0.806329   -0.151278 -0.184372        0.556348         0.556348  1.340048   \n",
       "4   1.070094   -0.186115  0.938023        0.556348         0.556348  1.340048   \n",
       "\n",
       "   installment  open_acc  total_acc  revol_bal  inq_last_6mths  delinq_2yrs  \\\n",
       "0     0.113224 -0.289595  -1.128516  -0.366924       -0.906273    -0.442383   \n",
       "1    -1.710281 -0.817722  -0.306473  -0.324679       -0.906273    -0.442383   \n",
       "2     0.279158 -0.113553  -0.224269  -0.575234       -0.025894    -0.442383   \n",
       "3     0.856971 -0.113553  -0.964107  -0.641515       -0.906273    -0.442383   \n",
       "4     1.124656 -0.113553  -0.470882   0.020928       -0.906273    -0.442383   \n",
       "\n",
       "   acc_now_delinq  collections_12_mths_ex_med  tot_coll_amt  tot_cur_bal  \\\n",
       "0       -0.031863                    -0.15631     -0.039654    -0.794874   \n",
       "1       -0.031863                    -0.15631     -0.106365    -0.859867   \n",
       "2       -0.031863                    -0.15631     -0.106365    -0.857026   \n",
       "3       -0.031863                    -0.15631     -0.106365    -0.704978   \n",
       "4       -0.031863                    -0.15631     -0.106365     0.498734   \n",
       "\n",
       "    pub_rec  months_cr_line      term  initial_list_status  sub_grade  \\\n",
       "0  1.082347       -1.814253 -0.063823             0.881236  -1.281964   \n",
       "1 -0.323706       -0.261957 -0.063823             0.881236  -1.281964   \n",
       "2  3.894453        0.382842 -0.063823             0.881236   0.780053   \n",
       "3 -0.323706       -0.429128 -0.063823             0.881236   0.780053   \n",
       "4 -0.323706       -0.644061 -0.063823             0.881236   0.780053   \n",
       "\n",
       "   emp_length       ANY  MORTGAGE       OWN      RENT       car  credit_card  \\\n",
       "0    0.948529 -0.031863 -0.948582 -0.363362  1.202768 -0.164570    -0.309121   \n",
       "1   -0.107952 -0.031863 -0.948582 -0.363362  1.202768 -0.164570    -0.309121   \n",
       "2   -1.692673 -0.031863 -0.948582 -0.363362  1.202768 -0.164570    -0.309121   \n",
       "3   -0.900312 -0.031863 -0.948582 -0.363362  1.202768 -0.164570    -0.309121   \n",
       "4   -1.428552 -0.031863  1.054205 -0.363362 -0.831416  6.076436    -0.309121   \n",
       "\n",
       "   debt_consolidation  home_improvement    house  major_purchase   medical  \\\n",
       "0           -0.805499         -0.284851 -0.12429       -0.188982 -0.218681   \n",
       "1           -0.805499         -0.284851 -0.12429       -0.188982 -0.218681   \n",
       "2           -0.805499          3.510602 -0.12429       -0.188982 -0.218681   \n",
       "3           -0.805499         -0.284851 -0.12429       -0.188982 -0.218681   \n",
       "4           -0.805499         -0.284851 -0.12429       -0.188982 -0.218681   \n",
       "\n",
       "     moving     other  renewable_energy  small_business  vacation   wedding  \\\n",
       "0  4.927682 -0.545315         -0.055244       -0.132453 -0.177146 -0.055244   \n",
       "1 -0.202935  1.833803         -0.055244       -0.132453 -0.177146 -0.055244   \n",
       "2 -0.202935 -0.545315         -0.055244       -0.132453 -0.177146 -0.055244   \n",
       "3 -0.202935 -0.545315         -0.055244       -0.132453  5.645057 -0.055244   \n",
       "4 -0.202935 -0.545315         -0.055244       -0.132453 -0.177146 -0.055244   \n",
       "\n",
       "   Not Verified  Source Verified  Verified  loan_status_bin  \n",
       "0     -0.699590        -0.761661  1.512173              0.0  \n",
       "1      1.429409        -0.761661 -0.661300              0.0  \n",
       "2     -0.699590         1.312919 -0.661300              1.0  \n",
       "3      1.429409        -0.761661 -0.661300              1.0  \n",
       "4     -0.699590        -0.761661  1.512173              0.0  "
      ]
     },
     "execution_count": 3,
     "metadata": {},
     "output_type": "execute_result"
    }
   ],
   "source": [
    "data = pd.read_csv('../../Data/20x43_D860.csv')\n",
    "data.head(5)"
   ]
  },
  {
   "cell_type": "code",
   "execution_count": 4,
   "id": "771565fb",
   "metadata": {},
   "outputs": [
    {
     "data": {
      "text/plain": [
       "(986, 43)"
      ]
     },
     "execution_count": 4,
     "metadata": {},
     "output_type": "execute_result"
    }
   ],
   "source": [
    "data.shape"
   ]
  },
  {
   "cell_type": "code",
   "execution_count": 5,
   "id": "74758ddc",
   "metadata": {},
   "outputs": [
    {
     "data": {
      "text/plain": [
       "1.0    828\n",
       "0.0    158\n",
       "Name: loan_status_bin, dtype: int64"
      ]
     },
     "execution_count": 5,
     "metadata": {},
     "output_type": "execute_result"
    }
   ],
   "source": [
    "data.loan_status_bin.value_counts()\n",
    "#0 = Defaulted Loans\n",
    "#1 = Loans Paid In Full"
   ]
  },
  {
   "cell_type": "code",
   "execution_count": 6,
   "id": "b9a9c6be",
   "metadata": {},
   "outputs": [
    {
     "data": {
      "text/plain": [
       "(986, 42)"
      ]
     },
     "execution_count": 6,
     "metadata": {},
     "output_type": "execute_result"
    }
   ],
   "source": [
    "X = data.drop('loan_status_bin', axis=1)\n",
    "X.shape"
   ]
  },
  {
   "cell_type": "code",
   "execution_count": 7,
   "id": "0559962b",
   "metadata": {},
   "outputs": [],
   "source": [
    "y = data['loan_status_bin']"
   ]
  },
  {
   "cell_type": "code",
   "execution_count": 8,
   "id": "9b1bb6de",
   "metadata": {},
   "outputs": [],
   "source": [
    "lr1 = LogisticRegression()"
   ]
  },
  {
   "cell_type": "code",
   "execution_count": 9,
   "id": "e9e711e2",
   "metadata": {},
   "outputs": [],
   "source": [
    "steps = [('model', lr1)]\n",
    "pipeline = Pipeline(steps=steps)"
   ]
  },
  {
   "cell_type": "code",
   "execution_count": 10,
   "id": "fb714eeb",
   "metadata": {},
   "outputs": [
    {
     "name": "stdout",
     "output_type": "stream",
     "text": [
      "[0.83838384 0.84263959 0.83756345 0.83756345 0.83756345]\n",
      "0.8387427575244834\n"
     ]
    }
   ],
   "source": [
    "#Accuracy:\n",
    "\n",
    "cv = RepeatedStratifiedKFold(n_splits=5, n_repeats=1, random_state=1)\n",
    "scores = cross_val_score(pipeline, X, y, scoring='accuracy', cv=cv, n_jobs=-1) \n",
    "print(scores)\n",
    "\n",
    "score = np.mean(scores)\n",
    "print(score)"
   ]
  },
  {
   "cell_type": "code",
   "execution_count": 11,
   "id": "9db484eb",
   "metadata": {},
   "outputs": [
    {
     "data": {
      "text/plain": [
       "array([[  5, 153],\n",
       "       [  6, 822]])"
      ]
     },
     "execution_count": 11,
     "metadata": {},
     "output_type": "execute_result"
    }
   ],
   "source": [
    "#Aggregated Confusion Matrix From RepeatedStratifiedKFold: \n",
    "y_pred = cross_val_predict(pipeline, X, y, cv=cv, n_jobs=-1)\n",
    "conf_mat = confusion_matrix(y, y_pred)\n",
    "conf_mat"
   ]
  },
  {
   "cell_type": "code",
   "execution_count": 12,
   "id": "cd14efda",
   "metadata": {},
   "outputs": [
    {
     "data": {
      "image/png": "[encoded data removed]",
      "text/plain": [
       "<Figure size 864x432 with 1 Axes>"
      ]
     },
     "metadata": {},
     "output_type": "display_data"
    }
   ],
   "source": [
    "sns.set(rc = {'figure.figsize':(12,6)})\n",
    "#cmap = sns.cubehelix_palette(start=2, rot=0, dark=0, light=.95, reverse=True, as_cmap=True)\n",
    "cmap = sns.light_palette('seagreen', as_cmap=True)\n",
    "\n",
    "res = sns.heatmap(conf_mat, annot=True, fmt='d', annot_kws={\"size\":20},\n",
    "#            xticklabels = ['Good = Paid In Full', 'Bad = Default'],\n",
    "#            yticklabels = ['Loan Paid In Full', 'Bad = Default'], \n",
    "            cmap=cmap, cbar=False)\n",
    "\n",
    "res.set_xticklabels(['Loan Default', 'Loan Repaid'], fontsize=15)\n",
    "res.set_yticklabels(['Loan Default', 'Loan Repaid'], fontsize=15)\n",
    "\n",
    "\n",
    "plt.title('Confusion Matrix For Logistic Regression', fontsize=25, pad=15)\n",
    "plt.xlabel('Predicted', fontsize=20)\n",
    "plt.ylabel('Actual', fontsize=20);"
   ]
  },
  {
   "cell_type": "code",
   "execution_count": 13,
   "id": "345a55b6",
   "metadata": {},
   "outputs": [
    {
     "data": {
      "text/plain": [
       "0.8387423935091278"
      ]
     },
     "execution_count": 13,
     "metadata": {},
     "output_type": "execute_result"
    }
   ],
   "source": [
    "accuracy_score(y, y_pred)"
   ]
  },
  {
   "cell_type": "code",
   "execution_count": 14,
   "id": "22662a59",
   "metadata": {},
   "outputs": [
    {
     "name": "stdout",
     "output_type": "stream",
     "text": [
      "822\n",
      "153\n",
      "6\n",
      "5\n",
      "0.8387423935091278\n"
     ]
    }
   ],
   "source": [
    "TN, FP, FN, TP = conf_mat.ravel()\n",
    "print(TP)\n",
    "print(FP)\n",
    "print(FN)\n",
    "print(TN)\n",
    "print((TP + TN) / (TN + TP + FP + FN))"
   ]
  },
  {
   "cell_type": "code",
   "execution_count": null,
   "id": "4dcedec5",
   "metadata": {},
   "outputs": [],
   "source": []
  },
  {
   "cell_type": "code",
   "execution_count": 15,
   "id": "36dec5fa",
   "metadata": {},
   "outputs": [
    {
     "name": "stdout",
     "output_type": "stream",
     "text": [
      "1.0    828\n",
      "0.0    158\n",
      "Name: loan_status_bin, dtype: int64\n",
      "\n",
      "0.8397565922920892\n"
     ]
    }
   ],
   "source": [
    "#Re-examine original pool of accepted LC Loans: \n",
    "\n",
    "print(data.loan_status_bin.value_counts())\n",
    "#0 = Loan Defaulted\n",
    "#1 = Loan Fully Paid\n",
    "\n",
    "good_loan = data.loan_status_bin.value_counts()[1]\n",
    "bad_loan = data.loan_status_bin.value_counts()[0]\n",
    "\n",
    "print()\n",
    "print(good_loan / (good_loan + bad_loan))\n",
    "\n",
    "#Random investment would give us 59% chance of pickkng a good loan"
   ]
  },
  {
   "cell_type": "code",
   "execution_count": 16,
   "id": "9be4be5d",
   "metadata": {},
   "outputs": [
    {
     "data": {
      "text/plain": [
       "0.8430769230769231"
      ]
     },
     "execution_count": 16,
     "metadata": {},
     "output_type": "execute_result"
    }
   ],
   "source": [
    "#Positive Predictive Value (or Precision)\n",
    "#Logistic Model only does 3% better than Null Model or \"random investment\"\n",
    "TP / (TP+FP)"
   ]
  },
  {
   "cell_type": "code",
   "execution_count": null,
   "id": "33d49ed8",
   "metadata": {},
   "outputs": [],
   "source": []
  },
  {
   "cell_type": "code",
   "execution_count": 17,
   "id": "3e6f9d5f",
   "metadata": {},
   "outputs": [],
   "source": [
    "#Obtain predicted probabilities (not predicted classes) from RSKF: \n",
    "y_pred_prob = cross_val_predict(pipeline, X, y, cv=cv, n_jobs=-1, method='predict_proba')"
   ]
  },
  {
   "cell_type": "code",
   "execution_count": 18,
   "id": "9f850d5b",
   "metadata": {},
   "outputs": [
    {
     "data": {
      "text/plain": [
       "array([[0.20543296, 0.79456704],\n",
       "       [0.0861859 , 0.9138141 ],\n",
       "       [0.15649402, 0.84350598],\n",
       "       ...,\n",
       "       [0.26899329, 0.73100671],\n",
       "       [0.16739697, 0.83260303],\n",
       "       [0.23246784, 0.76753216]])"
      ]
     },
     "execution_count": 18,
     "metadata": {},
     "output_type": "execute_result"
    }
   ],
   "source": [
    "y_pred_prob"
   ]
  },
  {
   "cell_type": "code",
   "execution_count": 19,
   "id": "973f2937",
   "metadata": {},
   "outputs": [
    {
     "data": {
      "text/plain": [
       "array([0., 1., 1., 1., 1., 0., 0., 0., 1., 0., 0., 1., 1., 1., 1., 1., 1.,\n",
       "       1., 1., 1., 1., 1., 1., 1., 1., 1., 1., 1., 1., 1., 0., 1., 1., 1.,\n",
       "       0., 0., 1., 1., 0., 1., 0., 1., 1., 1., 1., 1., 1., 1., 1., 1., 1.,\n",
       "       1., 1., 1., 1., 1., 0., 1., 1., 1., 1., 1., 1., 1., 0., 1., 1., 0.,\n",
       "       1., 0., 0., 1., 1., 1., 0., 1., 0., 0., 1., 1., 1., 1., 1., 1., 1.,\n",
       "       0., 1., 0., 1., 1., 1., 0., 1., 1., 1., 1., 1., 1., 0., 1., 1., 1.,\n",
       "       1., 1., 1., 1., 1., 0., 1., 1., 1., 1., 1., 1., 0., 1., 0., 0., 0.,\n",
       "       1., 1., 1., 1., 1., 1., 0., 1., 1., 1., 1., 0., 1., 1., 0., 0., 1.,\n",
       "       1., 1., 0., 1., 1., 1., 1., 1., 1., 1., 1., 0., 1., 1., 0., 1., 1.,\n",
       "       1., 0., 0., 1., 1., 0., 1., 1., 1., 0., 0., 1., 1., 1., 0., 1., 0.,\n",
       "       1., 0., 1., 0., 1., 1., 0., 1., 1., 1., 1., 1., 1., 1., 0., 1., 1.,\n",
       "       1., 1., 1., 1., 0., 1., 1., 1., 0., 1., 0., 1., 1., 1., 1., 1., 1.,\n",
       "       1., 0., 1., 1., 0., 1., 1., 0., 1., 1., 0., 0., 1., 0., 1., 1., 0.,\n",
       "       1., 1., 0., 1., 1., 1., 1., 1., 1., 0., 1., 1., 1., 0., 1., 1., 1.,\n",
       "       1., 1., 0., 1., 0., 1., 1., 1., 0., 1., 0., 1., 1., 1., 1., 1., 1.,\n",
       "       0., 1., 1., 0., 1., 1., 1., 1., 1., 0., 1., 1., 0., 1., 1., 1., 0.,\n",
       "       1., 1., 1., 1., 1., 1., 1., 1., 0., 1., 0., 0., 1., 1., 1., 1., 1.,\n",
       "       1., 1., 0., 1., 0., 1., 1., 0., 1., 1., 1., 1., 0., 1., 1., 1., 1.,\n",
       "       1., 1., 1., 0., 1., 1., 1., 1., 1., 1., 1., 1., 0., 1., 0., 1., 1.,\n",
       "       0., 1., 1., 1., 1., 1., 0., 0., 1., 1., 1., 1., 0., 1., 0., 1., 0.,\n",
       "       1., 1., 1., 1., 1., 1., 0., 0., 1., 1., 1., 1., 1., 0., 1., 1., 1.,\n",
       "       1., 1., 0., 1., 0., 1., 0., 1., 1., 1., 0., 0., 1., 1., 0., 0., 0.,\n",
       "       0., 1., 0., 1., 0., 0., 1., 0., 1., 1., 1., 0., 0., 1., 0., 1., 0.,\n",
       "       1., 1., 1., 0., 0., 0., 1., 0., 1., 0., 1., 1., 0., 1., 1., 1., 1.,\n",
       "       1., 1., 1., 1., 1., 1., 1., 1., 1., 1., 1., 1., 1., 1., 1., 0., 0.,\n",
       "       1., 0., 1., 1., 1., 0., 1., 1., 1., 1., 1., 1., 1., 0., 1., 1., 1.,\n",
       "       1., 1., 0., 1., 1., 1., 1., 1., 1., 1., 1., 1., 0., 1., 1., 1., 1.,\n",
       "       1., 1., 1., 1., 1., 0., 0., 0., 1., 1., 0., 1., 1., 1., 0., 1., 1.,\n",
       "       1., 0., 1., 0., 1., 1., 1., 0., 1., 1., 0., 1., 1., 1., 0., 1., 1.,\n",
       "       1., 0., 1., 1., 0., 0., 0., 0., 0., 1., 0., 1., 1., 1., 0., 1., 0.,\n",
       "       1., 1., 1., 1., 1., 1., 0., 0., 1., 0., 1., 0., 1., 1., 0., 0., 1.,\n",
       "       1., 0., 1., 1., 0., 0., 1., 1., 1., 1., 0., 1., 1., 0., 0., 1., 1.,\n",
       "       1., 1., 1., 1., 1., 0., 1., 1., 0., 0., 0., 1., 1., 1., 0., 1., 1.,\n",
       "       1., 1., 0., 0., 1., 1., 1., 1., 1., 1., 0., 1., 1., 1., 1., 1., 1.,\n",
       "       0., 0., 1., 1., 0., 0., 1., 1., 1., 1., 0., 1., 1., 0., 1., 1., 0.,\n",
       "       1., 1., 1., 1., 1., 1., 1., 0., 0., 1., 1., 1., 1., 1., 1., 1., 1.,\n",
       "       1., 0., 1., 1., 1., 0., 1., 1., 1., 0., 1., 1., 1., 0., 1., 0., 1.,\n",
       "       1., 1., 1., 1., 1., 0., 1., 1., 1., 1., 1., 0., 1., 0., 1., 1., 0.,\n",
       "       1., 1., 1., 1., 1., 1., 1., 0., 1., 0., 1., 1., 1., 0., 1., 0., 0.,\n",
       "       1., 0., 1., 1., 0., 0., 1., 0., 0., 1., 0., 0., 0., 1., 0., 1., 1.,\n",
       "       1., 1., 1., 1., 1., 1., 1., 0., 1., 1., 1., 1., 0., 0., 0., 0., 0.,\n",
       "       1., 1., 1., 1., 1., 1., 1., 0., 1., 1., 1., 1., 0., 1., 0., 1., 1.,\n",
       "       0., 1., 0., 0., 0., 0., 0., 0., 1., 1., 1., 0., 0., 0., 1., 1., 0.,\n",
       "       1., 0., 1., 0., 1., 1., 0., 0., 1., 0., 0., 0., 0., 0., 1., 1., 1.,\n",
       "       0., 1., 0., 0., 1., 0., 1., 0., 1., 1., 1., 1., 1., 1., 1., 1., 1.,\n",
       "       1., 1., 0., 1., 0., 1., 1., 1., 1., 0., 1., 0., 1., 1., 1., 1., 1.,\n",
       "       1., 1., 0., 1., 1., 1., 1., 0., 1., 1., 0., 1., 1., 1., 1., 1., 1.,\n",
       "       0., 1., 1., 1., 0., 1., 1., 1., 1., 1., 1., 1., 1., 1., 1., 0., 0.,\n",
       "       1., 1., 1., 0., 1., 0., 1., 1., 1., 1., 1., 1., 1., 1., 1., 0., 0.,\n",
       "       1., 1., 0., 1., 1., 1., 1., 0., 1., 1., 0., 1., 1., 0., 1., 0., 1.,\n",
       "       1., 1., 1., 1., 1., 1., 1., 1., 0., 1., 1., 1., 0., 1., 1., 1., 0.,\n",
       "       1., 1., 1., 1., 1., 1., 0., 1., 1., 1., 1., 1., 0., 0., 1., 1., 1.,\n",
       "       0., 0., 1., 0., 1., 1., 1., 1., 1., 1., 1., 0., 0., 1., 1., 1., 0.,\n",
       "       0., 1., 1., 0., 1., 0., 1., 1., 0., 0., 1., 1., 1., 1., 0., 0., 1.,\n",
       "       1., 1., 1., 1., 0., 1., 1., 0., 0., 1., 1., 1., 1., 0., 1., 1., 0.,\n",
       "       1., 1., 0., 1., 1., 1., 0., 1., 0., 1., 1., 1., 0., 1., 1., 1., 1.,\n",
       "       1., 1., 1., 1., 1., 1., 1., 1., 0., 0., 1., 0., 1., 1., 1., 0., 1.,\n",
       "       0., 1., 0., 0., 1., 0., 1., 1., 0., 1., 1., 1., 0., 0., 0., 1., 0.])"
      ]
     },
     "execution_count": 19,
     "metadata": {},
     "output_type": "execute_result"
    }
   ],
   "source": [
    "#Obtaining classification based on desired threshold of 0.8: \n",
    "\n",
    "y_pred_success = (y_pred_prob[:, 1] > 0.8).astype('float')\n",
    "y_pred_success"
   ]
  },
  {
   "cell_type": "code",
   "execution_count": 20,
   "id": "686a5f94",
   "metadata": {},
   "outputs": [
    {
     "data": {
      "text/plain": [
       "array([[ 66,  92],\n",
       "       [217, 611]])"
      ]
     },
     "execution_count": 20,
     "metadata": {},
     "output_type": "execute_result"
    }
   ],
   "source": [
    "conf_mat = confusion_matrix(y, y_pred_success)\n",
    "conf_mat"
   ]
  },
  {
   "cell_type": "code",
   "execution_count": 21,
   "id": "6c050cfb",
   "metadata": {},
   "outputs": [
    {
     "data": {
      "image/png": "[encoded data removed]",
      "text/plain": [
       "<Figure size 864x432 with 1 Axes>"
      ]
     },
     "metadata": {},
     "output_type": "display_data"
    }
   ],
   "source": [
    "sns.set(rc = {'figure.figsize':(12,6)})\n",
    "#cmap = sns.cubehelix_palette(start=2, rot=0, dark=0, light=.95, reverse=True, as_cmap=True)\n",
    "cmap = sns.light_palette('seagreen', as_cmap=True)\n",
    "\n",
    "res = sns.heatmap(conf_mat, annot=True, fmt='d', annot_kws={\"size\":20},\n",
    "#            xticklabels = ['Good = Paid In Full', 'Bad = Default'],\n",
    "#            yticklabels = ['Loan Paid In Full', 'Bad = Default'], \n",
    "            cmap=cmap, cbar=False)\n",
    "\n",
    "res.set_xticklabels(['Loan Default', 'Loan Repaid'], fontsize=15)\n",
    "res.set_yticklabels(['Loan Default', 'Loan Repaid'], fontsize=15)\n",
    "\n",
    "\n",
    "plt.title('Confusion Matrix For Logistic Regression', fontsize=25, pad=15)\n",
    "plt.xlabel('Predicted', fontsize=20)\n",
    "plt.ylabel('Actual', fontsize=20);"
   ]
  },
  {
   "cell_type": "code",
   "execution_count": 22,
   "id": "c5dc62cd",
   "metadata": {},
   "outputs": [
    {
     "data": {
      "text/plain": [
       "0.6866125760649088"
      ]
     },
     "execution_count": 22,
     "metadata": {},
     "output_type": "execute_result"
    }
   ],
   "source": [
    "accuracy_score(y, y_pred_success)"
   ]
  },
  {
   "cell_type": "code",
   "execution_count": 23,
   "id": "25920782",
   "metadata": {},
   "outputs": [
    {
     "name": "stdout",
     "output_type": "stream",
     "text": [
      "611\n",
      "92\n",
      "217\n",
      "66\n",
      "0.6866125760649088\n"
     ]
    }
   ],
   "source": [
    "TN, FP, FN, TP = conf_mat.ravel()\n",
    "print(TP)\n",
    "print(FP)\n",
    "print(FN)\n",
    "print(TN)\n",
    "print((TP + TN) / (TN + TP + FP + FN))"
   ]
  },
  {
   "cell_type": "code",
   "execution_count": 24,
   "id": "67e15484",
   "metadata": {},
   "outputs": [
    {
     "data": {
      "text/plain": [
       "0.8691322901849218"
      ]
     },
     "execution_count": 24,
     "metadata": {},
     "output_type": "execute_result"
    }
   ],
   "source": [
    "#Positive Predictive Value (or Precision)\n",
    "#Logistic Model only does 3% better than Null Model or \"random investment\"\n",
    "TP / (TP+FP)"
   ]
  },
  {
   "cell_type": "code",
   "execution_count": null,
   "id": "a51b3ce5",
   "metadata": {},
   "outputs": [],
   "source": [
    "## Next question. what was characteristic of the 217 loans that defaulted??\n",
    "## Get all loans which you predicted greater than 80% and find out which ones defaulted.\n",
    "## Any pattern?????"
   ]
  },
  {
   "cell_type": "code",
   "execution_count": null,
   "id": "2bb4a848",
   "metadata": {},
   "outputs": [],
   "source": [
    "#Do we drop all observations where the source is not verified? \n",
    "#Do we drop all observations loan amount is greater than half of one's income? "
   ]
  },
  {
   "cell_type": "code",
   "execution_count": null,
   "id": "88205f9a",
   "metadata": {},
   "outputs": [],
   "source": []
  }
 ],
 "metadata": {
  "hide_input": false,
  "kernelspec": {
   "display_name": "Python 3 (ipykernel)",
   "language": "python",
   "name": "python3"
  },
  "language_info": {
   "codemirror_mode": {
    "name": "ipython",
    "version": 3
   },
   "file_extension": ".py",
   "mimetype": "text/x-python",
   "name": "python",
   "nbconvert_exporter": "python",
   "pygments_lexer": "ipython3",
   "version": "3.8.8"
  },
  "varInspector": {
   "cols": {
    "lenName": 16,
    "lenType": 16,
    "lenVar": 40
   },
   "kernels_config": {
    "python": {
     "delete_cmd_postfix": "",
     "delete_cmd_prefix": "del ",
     "library": "var_list.py",
     "varRefreshCmd": "print(var_dic_list())"
    },
    "r": {
     "delete_cmd_postfix": ") ",
     "delete_cmd_prefix": "rm(",
     "library": "var_list.r",
     "varRefreshCmd": "cat(var_dic_list()) "
    }
   },
   "types_to_exclude": [
    "module",
    "function",
    "builtin_function_or_method",
    "instance",
    "_Feature"
   ],
   "window_display": false
  }
 },
 "nbformat": 4,
 "nbformat_minor": 5
}
