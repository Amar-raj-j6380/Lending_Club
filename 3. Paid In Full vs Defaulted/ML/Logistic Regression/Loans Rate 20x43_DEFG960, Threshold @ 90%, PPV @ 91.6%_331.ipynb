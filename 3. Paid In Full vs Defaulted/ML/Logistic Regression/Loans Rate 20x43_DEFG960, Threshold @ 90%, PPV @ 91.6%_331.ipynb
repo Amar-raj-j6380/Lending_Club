{
 "cells": [
  {
   "cell_type": "code",
   "execution_count": 1,
   "id": "6f4648b5",
   "metadata": {},
   "outputs": [],
   "source": [
    "import pandas as pd\n",
    "import numpy as np\n",
    "import seaborn as sns\n",
    "import copy as cp\n",
    "import matplotlib.pyplot as plt\n",
    "\n",
    "from sklearn.model_selection import cross_val_score, cross_val_predict \n",
    "from sklearn.model_selection import train_test_split\n",
    "from sklearn.model_selection import RepeatedStratifiedKFold\n",
    "from imblearn.pipeline import Pipeline\n",
    "from imblearn.over_sampling import SMOTE\n",
    "\n",
    "from sklearn.linear_model import LogisticRegression\n",
    "from sklearn.metrics import roc_auc_score, roc_curve, precision_recall_curve\n",
    "from sklearn.metrics import confusion_matrix, accuracy_score\n",
    "\n",
    "from typing import Tuple"
   ]
  },
  {
   "cell_type": "code",
   "execution_count": 2,
   "id": "a6b2eaad",
   "metadata": {},
   "outputs": [],
   "source": [
    "pd.set_option(\"display.max_columns\", 200)\n",
    "pd.set_option(\"display.max_row\", 160)\n",
    "pd.set_option('max_colwidth', 200)"
   ]
  },
  {
   "cell_type": "code",
   "execution_count": 3,
   "id": "acc59130",
   "metadata": {},
   "outputs": [
    {
     "data": {
      "text/html": [
       "<div>\n",
       "<style scoped>\n",
       "    .dataframe tbody tr th:only-of-type {\n",
       "        vertical-align: middle;\n",
       "    }\n",
       "\n",
       "    .dataframe tbody tr th {\n",
       "        vertical-align: top;\n",
       "    }\n",
       "\n",
       "    .dataframe thead th {\n",
       "        text-align: right;\n",
       "    }\n",
       "</style>\n",
       "<table border=\"1\" class=\"dataframe\">\n",
       "  <thead>\n",
       "    <tr style=\"text-align: right;\">\n",
       "      <th></th>\n",
       "      <th>loan_amnt</th>\n",
       "      <th>annual_inc</th>\n",
       "      <th>dti</th>\n",
       "      <th>fico_range_low</th>\n",
       "      <th>fico_range_high</th>\n",
       "      <th>int_rate</th>\n",
       "      <th>installment</th>\n",
       "      <th>open_acc</th>\n",
       "      <th>total_acc</th>\n",
       "      <th>revol_bal</th>\n",
       "      <th>inq_last_6mths</th>\n",
       "      <th>delinq_2yrs</th>\n",
       "      <th>mths_since_last_delinq</th>\n",
       "      <th>acc_now_delinq</th>\n",
       "      <th>collections_12_mths_ex_med</th>\n",
       "      <th>pub_rec</th>\n",
       "      <th>months_cr_line</th>\n",
       "      <th>term</th>\n",
       "      <th>initial_list_status</th>\n",
       "      <th>grade</th>\n",
       "      <th>sub_grade</th>\n",
       "      <th>emp_length</th>\n",
       "      <th>ANY</th>\n",
       "      <th>MORTGAGE</th>\n",
       "      <th>OWN</th>\n",
       "      <th>RENT</th>\n",
       "      <th>car</th>\n",
       "      <th>credit_card</th>\n",
       "      <th>debt_consolidation</th>\n",
       "      <th>home_improvement</th>\n",
       "      <th>house</th>\n",
       "      <th>major_purchase</th>\n",
       "      <th>medical</th>\n",
       "      <th>moving</th>\n",
       "      <th>other</th>\n",
       "      <th>renewable_energy</th>\n",
       "      <th>small_business</th>\n",
       "      <th>vacation</th>\n",
       "      <th>wedding</th>\n",
       "      <th>Not Verified</th>\n",
       "      <th>Source Verified</th>\n",
       "      <th>Verified</th>\n",
       "      <th>loan_status_bin</th>\n",
       "    </tr>\n",
       "  </thead>\n",
       "  <tbody>\n",
       "    <tr>\n",
       "      <th>0</th>\n",
       "      <td>1.738898</td>\n",
       "      <td>-0.182527</td>\n",
       "      <td>0.400638</td>\n",
       "      <td>-0.972492</td>\n",
       "      <td>-0.972492</td>\n",
       "      <td>-0.163114</td>\n",
       "      <td>1.762586</td>\n",
       "      <td>0.419585</td>\n",
       "      <td>1.498572</td>\n",
       "      <td>-0.314370</td>\n",
       "      <td>2.025625</td>\n",
       "      <td>-0.449462</td>\n",
       "      <td>1.815617</td>\n",
       "      <td>-0.076696</td>\n",
       "      <td>-0.151385</td>\n",
       "      <td>1.017895</td>\n",
       "      <td>-0.901444</td>\n",
       "      <td>-0.227696</td>\n",
       "      <td>1.412222</td>\n",
       "      <td>1.395096</td>\n",
       "      <td>0.923513</td>\n",
       "      <td>0.991772</td>\n",
       "      <td>-0.032332</td>\n",
       "      <td>-0.914655</td>\n",
       "      <td>-0.349428</td>\n",
       "      <td>1.140534</td>\n",
       "      <td>-0.125291</td>\n",
       "      <td>4.004890</td>\n",
       "      <td>-0.763077</td>\n",
       "      <td>-0.295285</td>\n",
       "      <td>-0.143798</td>\n",
       "      <td>-0.19128</td>\n",
       "      <td>-0.222058</td>\n",
       "      <td>-0.218933</td>\n",
       "      <td>-0.558052</td>\n",
       "      <td>-0.063119</td>\n",
       "      <td>-0.223091</td>\n",
       "      <td>-0.184125</td>\n",
       "      <td>-0.088249</td>\n",
       "      <td>-0.572848</td>\n",
       "      <td>1.254117</td>\n",
       "      <td>-0.756922</td>\n",
       "      <td>1.0</td>\n",
       "    </tr>\n",
       "    <tr>\n",
       "      <th>1</th>\n",
       "      <td>-0.584556</td>\n",
       "      <td>-0.058123</td>\n",
       "      <td>-1.179441</td>\n",
       "      <td>1.937525</td>\n",
       "      <td>1.937525</td>\n",
       "      <td>-0.577803</td>\n",
       "      <td>-0.584252</td>\n",
       "      <td>-0.595731</td>\n",
       "      <td>-1.066401</td>\n",
       "      <td>-0.687793</td>\n",
       "      <td>1.256559</td>\n",
       "      <td>0.436874</td>\n",
       "      <td>-0.285566</td>\n",
       "      <td>-0.076696</td>\n",
       "      <td>-0.151385</td>\n",
       "      <td>-0.405909</td>\n",
       "      <td>-0.972438</td>\n",
       "      <td>-0.227696</td>\n",
       "      <td>1.412222</td>\n",
       "      <td>0.013276</td>\n",
       "      <td>0.599644</td>\n",
       "      <td>-0.597631</td>\n",
       "      <td>-0.032332</td>\n",
       "      <td>-0.914655</td>\n",
       "      <td>-0.349428</td>\n",
       "      <td>1.140534</td>\n",
       "      <td>-0.125291</td>\n",
       "      <td>-0.249695</td>\n",
       "      <td>-0.763077</td>\n",
       "      <td>3.386554</td>\n",
       "      <td>-0.143798</td>\n",
       "      <td>-0.19128</td>\n",
       "      <td>-0.222058</td>\n",
       "      <td>-0.218933</td>\n",
       "      <td>-0.558052</td>\n",
       "      <td>-0.063119</td>\n",
       "      <td>-0.223091</td>\n",
       "      <td>-0.184125</td>\n",
       "      <td>-0.088249</td>\n",
       "      <td>-0.572848</td>\n",
       "      <td>1.254117</td>\n",
       "      <td>-0.756922</td>\n",
       "      <td>0.0</td>\n",
       "    </tr>\n",
       "    <tr>\n",
       "      <th>2</th>\n",
       "      <td>-0.879411</td>\n",
       "      <td>-0.278223</td>\n",
       "      <td>-0.291066</td>\n",
       "      <td>0.085696</td>\n",
       "      <td>0.085696</td>\n",
       "      <td>0.602136</td>\n",
       "      <td>-0.818236</td>\n",
       "      <td>-0.934170</td>\n",
       "      <td>-1.144127</td>\n",
       "      <td>-0.600710</td>\n",
       "      <td>0.487493</td>\n",
       "      <td>-0.449462</td>\n",
       "      <td>-0.866744</td>\n",
       "      <td>-0.076696</td>\n",
       "      <td>-0.151385</td>\n",
       "      <td>-0.405909</td>\n",
       "      <td>0.187142</td>\n",
       "      <td>-0.227696</td>\n",
       "      <td>1.412222</td>\n",
       "      <td>1.395096</td>\n",
       "      <td>1.571250</td>\n",
       "      <td>-1.657233</td>\n",
       "      <td>-0.032332</td>\n",
       "      <td>1.093308</td>\n",
       "      <td>-0.349428</td>\n",
       "      <td>-0.876783</td>\n",
       "      <td>-0.125291</td>\n",
       "      <td>-0.249695</td>\n",
       "      <td>1.310483</td>\n",
       "      <td>-0.295285</td>\n",
       "      <td>-0.143798</td>\n",
       "      <td>-0.19128</td>\n",
       "      <td>-0.222058</td>\n",
       "      <td>-0.218933</td>\n",
       "      <td>-0.558052</td>\n",
       "      <td>-0.063119</td>\n",
       "      <td>-0.223091</td>\n",
       "      <td>-0.184125</td>\n",
       "      <td>-0.088249</td>\n",
       "      <td>-0.572848</td>\n",
       "      <td>1.254117</td>\n",
       "      <td>-0.756922</td>\n",
       "      <td>0.0</td>\n",
       "    </tr>\n",
       "    <tr>\n",
       "      <th>3</th>\n",
       "      <td>0.335390</td>\n",
       "      <td>-0.038984</td>\n",
       "      <td>0.078811</td>\n",
       "      <td>-0.707945</td>\n",
       "      <td>-0.707945</td>\n",
       "      <td>-0.577803</td>\n",
       "      <td>0.323572</td>\n",
       "      <td>-0.088073</td>\n",
       "      <td>0.565854</td>\n",
       "      <td>-0.321111</td>\n",
       "      <td>2.794691</td>\n",
       "      <td>3.095885</td>\n",
       "      <td>-0.866744</td>\n",
       "      <td>-0.076696</td>\n",
       "      <td>-0.151385</td>\n",
       "      <td>1.017895</td>\n",
       "      <td>-0.463643</td>\n",
       "      <td>-0.227696</td>\n",
       "      <td>1.412222</td>\n",
       "      <td>0.013276</td>\n",
       "      <td>0.599644</td>\n",
       "      <td>-0.597631</td>\n",
       "      <td>-0.032332</td>\n",
       "      <td>1.093308</td>\n",
       "      <td>-0.349428</td>\n",
       "      <td>-0.876783</td>\n",
       "      <td>-0.125291</td>\n",
       "      <td>-0.249695</td>\n",
       "      <td>-0.763077</td>\n",
       "      <td>-0.295285</td>\n",
       "      <td>-0.143798</td>\n",
       "      <td>-0.19128</td>\n",
       "      <td>-0.222058</td>\n",
       "      <td>-0.218933</td>\n",
       "      <td>-0.558052</td>\n",
       "      <td>-0.063119</td>\n",
       "      <td>4.482467</td>\n",
       "      <td>-0.184125</td>\n",
       "      <td>-0.088249</td>\n",
       "      <td>-0.572848</td>\n",
       "      <td>1.254117</td>\n",
       "      <td>-0.756922</td>\n",
       "      <td>1.0</td>\n",
       "    </tr>\n",
       "    <tr>\n",
       "      <th>4</th>\n",
       "      <td>1.833252</td>\n",
       "      <td>-0.259084</td>\n",
       "      <td>0.530262</td>\n",
       "      <td>4.053900</td>\n",
       "      <td>4.053900</td>\n",
       "      <td>-0.577803</td>\n",
       "      <td>1.801624</td>\n",
       "      <td>-0.934170</td>\n",
       "      <td>-0.133684</td>\n",
       "      <td>-0.688924</td>\n",
       "      <td>1.256559</td>\n",
       "      <td>-0.449462</td>\n",
       "      <td>-0.866744</td>\n",
       "      <td>-0.076696</td>\n",
       "      <td>-0.151385</td>\n",
       "      <td>-0.405909</td>\n",
       "      <td>-1.303747</td>\n",
       "      <td>-0.227696</td>\n",
       "      <td>1.412222</td>\n",
       "      <td>0.013276</td>\n",
       "      <td>0.599644</td>\n",
       "      <td>-0.862531</td>\n",
       "      <td>-0.032332</td>\n",
       "      <td>-0.914655</td>\n",
       "      <td>2.861821</td>\n",
       "      <td>-0.876783</td>\n",
       "      <td>-0.125291</td>\n",
       "      <td>-0.249695</td>\n",
       "      <td>-0.763077</td>\n",
       "      <td>-0.295285</td>\n",
       "      <td>-0.143798</td>\n",
       "      <td>-0.19128</td>\n",
       "      <td>-0.222058</td>\n",
       "      <td>4.567605</td>\n",
       "      <td>-0.558052</td>\n",
       "      <td>-0.063119</td>\n",
       "      <td>-0.223091</td>\n",
       "      <td>-0.184125</td>\n",
       "      <td>-0.088249</td>\n",
       "      <td>-0.572848</td>\n",
       "      <td>1.254117</td>\n",
       "      <td>-0.756922</td>\n",
       "      <td>1.0</td>\n",
       "    </tr>\n",
       "  </tbody>\n",
       "</table>\n",
       "</div>"
      ],
      "text/plain": [
       "   loan_amnt  annual_inc       dti  fico_range_low  fico_range_high  int_rate  \\\n",
       "0   1.738898   -0.182527  0.400638       -0.972492        -0.972492 -0.163114   \n",
       "1  -0.584556   -0.058123 -1.179441        1.937525         1.937525 -0.577803   \n",
       "2  -0.879411   -0.278223 -0.291066        0.085696         0.085696  0.602136   \n",
       "3   0.335390   -0.038984  0.078811       -0.707945        -0.707945 -0.577803   \n",
       "4   1.833252   -0.259084  0.530262        4.053900         4.053900 -0.577803   \n",
       "\n",
       "   installment  open_acc  total_acc  revol_bal  inq_last_6mths  delinq_2yrs  \\\n",
       "0     1.762586  0.419585   1.498572  -0.314370        2.025625    -0.449462   \n",
       "1    -0.584252 -0.595731  -1.066401  -0.687793        1.256559     0.436874   \n",
       "2    -0.818236 -0.934170  -1.144127  -0.600710        0.487493    -0.449462   \n",
       "3     0.323572 -0.088073   0.565854  -0.321111        2.794691     3.095885   \n",
       "4     1.801624 -0.934170  -0.133684  -0.688924        1.256559    -0.449462   \n",
       "\n",
       "   mths_since_last_delinq  acc_now_delinq  collections_12_mths_ex_med  \\\n",
       "0                1.815617       -0.076696                   -0.151385   \n",
       "1               -0.285566       -0.076696                   -0.151385   \n",
       "2               -0.866744       -0.076696                   -0.151385   \n",
       "3               -0.866744       -0.076696                   -0.151385   \n",
       "4               -0.866744       -0.076696                   -0.151385   \n",
       "\n",
       "    pub_rec  months_cr_line      term  initial_list_status     grade  \\\n",
       "0  1.017895       -0.901444 -0.227696             1.412222  1.395096   \n",
       "1 -0.405909       -0.972438 -0.227696             1.412222  0.013276   \n",
       "2 -0.405909        0.187142 -0.227696             1.412222  1.395096   \n",
       "3  1.017895       -0.463643 -0.227696             1.412222  0.013276   \n",
       "4 -0.405909       -1.303747 -0.227696             1.412222  0.013276   \n",
       "\n",
       "   sub_grade  emp_length       ANY  MORTGAGE       OWN      RENT       car  \\\n",
       "0   0.923513    0.991772 -0.032332 -0.914655 -0.349428  1.140534 -0.125291   \n",
       "1   0.599644   -0.597631 -0.032332 -0.914655 -0.349428  1.140534 -0.125291   \n",
       "2   1.571250   -1.657233 -0.032332  1.093308 -0.349428 -0.876783 -0.125291   \n",
       "3   0.599644   -0.597631 -0.032332  1.093308 -0.349428 -0.876783 -0.125291   \n",
       "4   0.599644   -0.862531 -0.032332 -0.914655  2.861821 -0.876783 -0.125291   \n",
       "\n",
       "   credit_card  debt_consolidation  home_improvement     house  \\\n",
       "0     4.004890           -0.763077         -0.295285 -0.143798   \n",
       "1    -0.249695           -0.763077          3.386554 -0.143798   \n",
       "2    -0.249695            1.310483         -0.295285 -0.143798   \n",
       "3    -0.249695           -0.763077         -0.295285 -0.143798   \n",
       "4    -0.249695           -0.763077         -0.295285 -0.143798   \n",
       "\n",
       "   major_purchase   medical    moving     other  renewable_energy  \\\n",
       "0        -0.19128 -0.222058 -0.218933 -0.558052         -0.063119   \n",
       "1        -0.19128 -0.222058 -0.218933 -0.558052         -0.063119   \n",
       "2        -0.19128 -0.222058 -0.218933 -0.558052         -0.063119   \n",
       "3        -0.19128 -0.222058 -0.218933 -0.558052         -0.063119   \n",
       "4        -0.19128 -0.222058  4.567605 -0.558052         -0.063119   \n",
       "\n",
       "   small_business  vacation   wedding  Not Verified  Source Verified  \\\n",
       "0       -0.223091 -0.184125 -0.088249     -0.572848         1.254117   \n",
       "1       -0.223091 -0.184125 -0.088249     -0.572848         1.254117   \n",
       "2       -0.223091 -0.184125 -0.088249     -0.572848         1.254117   \n",
       "3        4.482467 -0.184125 -0.088249     -0.572848         1.254117   \n",
       "4       -0.223091 -0.184125 -0.088249     -0.572848         1.254117   \n",
       "\n",
       "   Verified  loan_status_bin  \n",
       "0 -0.756922              1.0  \n",
       "1 -0.756922              0.0  \n",
       "2 -0.756922              0.0  \n",
       "3 -0.756922              1.0  \n",
       "4 -0.756922              1.0  "
      ]
     },
     "execution_count": 3,
     "metadata": {},
     "output_type": "execute_result"
    }
   ],
   "source": [
    "data = pd.read_csv('../../Data/20x43_DEFG960.csv')\n",
    "data.head(5)"
   ]
  },
  {
   "cell_type": "code",
   "execution_count": 4,
   "id": "771565fb",
   "metadata": {},
   "outputs": [
    {
     "data": {
      "text/plain": [
       "(4788, 43)"
      ]
     },
     "execution_count": 4,
     "metadata": {},
     "output_type": "execute_result"
    }
   ],
   "source": [
    "data.shape"
   ]
  },
  {
   "cell_type": "code",
   "execution_count": 5,
   "id": "74758ddc",
   "metadata": {},
   "outputs": [
    {
     "data": {
      "text/plain": [
       "1.0    3684\n",
       "0.0    1104\n",
       "Name: loan_status_bin, dtype: int64"
      ]
     },
     "execution_count": 5,
     "metadata": {},
     "output_type": "execute_result"
    }
   ],
   "source": [
    "data.loan_status_bin.value_counts()\n",
    "#0 = Defaulted Loans\n",
    "#1 = Loans Paid In Full"
   ]
  },
  {
   "cell_type": "code",
   "execution_count": 6,
   "id": "b9a9c6be",
   "metadata": {},
   "outputs": [
    {
     "data": {
      "text/plain": [
       "(4788, 42)"
      ]
     },
     "execution_count": 6,
     "metadata": {},
     "output_type": "execute_result"
    }
   ],
   "source": [
    "X = data.drop('loan_status_bin', axis=1)\n",
    "X.shape"
   ]
  },
  {
   "cell_type": "code",
   "execution_count": 7,
   "id": "0559962b",
   "metadata": {},
   "outputs": [],
   "source": [
    "y = data['loan_status_bin']"
   ]
  },
  {
   "cell_type": "code",
   "execution_count": 8,
   "id": "9b1bb6de",
   "metadata": {},
   "outputs": [],
   "source": [
    "lr1 = LogisticRegression()"
   ]
  },
  {
   "cell_type": "code",
   "execution_count": 9,
   "id": "e9e711e2",
   "metadata": {},
   "outputs": [],
   "source": [
    "steps = [('model', lr1)]\n",
    "pipeline = Pipeline(steps=steps)"
   ]
  },
  {
   "cell_type": "code",
   "execution_count": 10,
   "id": "fb714eeb",
   "metadata": {},
   "outputs": [
    {
     "name": "stdout",
     "output_type": "stream",
     "text": [
      "[0.77453027 0.76304802 0.76826722 0.77115987 0.76593521]\n",
      "0.7685881200602964\n"
     ]
    }
   ],
   "source": [
    "#Accuracy:\n",
    "\n",
    "cv = RepeatedStratifiedKFold(n_splits=5, n_repeats=1, random_state=1)\n",
    "scores = cross_val_score(pipeline, X, y, scoring='accuracy', cv=cv, n_jobs=-1) \n",
    "print(scores)\n",
    "\n",
    "score = np.mean(scores)\n",
    "print(score)"
   ]
  },
  {
   "cell_type": "code",
   "execution_count": 11,
   "id": "9db484eb",
   "metadata": {},
   "outputs": [
    {
     "data": {
      "text/plain": [
       "array([[  35, 1069],\n",
       "       [  39, 3645]])"
      ]
     },
     "execution_count": 11,
     "metadata": {},
     "output_type": "execute_result"
    }
   ],
   "source": [
    "#Aggregated Confusion Matrix From RepeatedStratifiedKFold: \n",
    "y_pred = cross_val_predict(pipeline, X, y, cv=cv, n_jobs=-1)\n",
    "conf_mat = confusion_matrix(y, y_pred)\n",
    "conf_mat"
   ]
  },
  {
   "cell_type": "code",
   "execution_count": 12,
   "id": "cd14efda",
   "metadata": {},
   "outputs": [
    {
     "data": {
      "image/png": "[encoded data removed]",
      "text/plain": [
       "<Figure size 864x432 with 1 Axes>"
      ]
     },
     "metadata": {},
     "output_type": "display_data"
    }
   ],
   "source": [
    "sns.set(rc = {'figure.figsize':(12,6)})\n",
    "#cmap = sns.cubehelix_palette(start=2, rot=0, dark=0, light=.95, reverse=True, as_cmap=True)\n",
    "cmap = sns.light_palette('seagreen', as_cmap=True)\n",
    "\n",
    "res = sns.heatmap(conf_mat, annot=True, fmt='d', annot_kws={\"size\":20},\n",
    "#            xticklabels = ['Good = Paid In Full', 'Bad = Default'],\n",
    "#            yticklabels = ['Loan Paid In Full', 'Bad = Default'], \n",
    "            cmap=cmap, cbar=False)\n",
    "\n",
    "res.set_xticklabels(['Loan Default', 'Loan Repaid'], fontsize=15)\n",
    "res.set_yticklabels(['Loan Default', 'Loan Repaid'], fontsize=15)\n",
    "\n",
    "\n",
    "plt.title('Confusion Matrix For Logistic Regression', fontsize=25, pad=15)\n",
    "plt.xlabel('Predicted', fontsize=20)\n",
    "plt.ylabel('Actual', fontsize=20);"
   ]
  },
  {
   "cell_type": "code",
   "execution_count": 13,
   "id": "345a55b6",
   "metadata": {},
   "outputs": [
    {
     "data": {
      "text/plain": [
       "0.7685881370091896"
      ]
     },
     "execution_count": 13,
     "metadata": {},
     "output_type": "execute_result"
    }
   ],
   "source": [
    "accuracy_score(y, y_pred)"
   ]
  },
  {
   "cell_type": "code",
   "execution_count": 14,
   "id": "22662a59",
   "metadata": {},
   "outputs": [
    {
     "name": "stdout",
     "output_type": "stream",
     "text": [
      "3645\n",
      "1069\n",
      "39\n",
      "35\n",
      "0.7685881370091896\n"
     ]
    }
   ],
   "source": [
    "TN, FP, FN, TP = conf_mat.ravel()\n",
    "print(TP)\n",
    "print(FP)\n",
    "print(FN)\n",
    "print(TN)\n",
    "print((TP + TN) / (TN + TP + FP + FN))"
   ]
  },
  {
   "cell_type": "code",
   "execution_count": null,
   "id": "4dcedec5",
   "metadata": {},
   "outputs": [],
   "source": []
  },
  {
   "cell_type": "code",
   "execution_count": 15,
   "id": "36dec5fa",
   "metadata": {},
   "outputs": [
    {
     "name": "stdout",
     "output_type": "stream",
     "text": [
      "1.0    3684\n",
      "0.0    1104\n",
      "Name: loan_status_bin, dtype: int64\n",
      "\n",
      "0.7694235588972431\n"
     ]
    }
   ],
   "source": [
    "#Re-examine original pool of accepted LC Loans: \n",
    "\n",
    "print(data.loan_status_bin.value_counts())\n",
    "#0 = Loan Defaulted\n",
    "#1 = Loan Fully Paid\n",
    "\n",
    "good_loan = data.loan_status_bin.value_counts()[1]\n",
    "bad_loan = data.loan_status_bin.value_counts()[0]\n",
    "\n",
    "print()\n",
    "print(good_loan / (good_loan + bad_loan))\n",
    "\n",
    "#Random investment would give us 59% chance of pickkng a good loan"
   ]
  },
  {
   "cell_type": "code",
   "execution_count": 16,
   "id": "9be4be5d",
   "metadata": {},
   "outputs": [
    {
     "data": {
      "text/plain": [
       "0.7732286805260925"
      ]
     },
     "execution_count": 16,
     "metadata": {},
     "output_type": "execute_result"
    }
   ],
   "source": [
    "#Positive Predictive Value (or Precision)\n",
    "#Logistic Model only does 0.1% better than Null Model or \"random investment\"\n",
    "TP / (TP+FP)"
   ]
  },
  {
   "cell_type": "code",
   "execution_count": null,
   "id": "747fa766",
   "metadata": {},
   "outputs": [],
   "source": []
  },
  {
   "cell_type": "code",
   "execution_count": 17,
   "id": "3188e143",
   "metadata": {},
   "outputs": [],
   "source": [
    "#What if we \"balance\" the weight class to avoid \"imbalanced\" nature...No Change! "
   ]
  },
  {
   "cell_type": "code",
   "execution_count": 18,
   "id": "0d86ed92",
   "metadata": {},
   "outputs": [],
   "source": [
    "lr_balanced = LogisticRegression(class_weight='balanced')"
   ]
  },
  {
   "cell_type": "code",
   "execution_count": 19,
   "id": "1e582bb8",
   "metadata": {},
   "outputs": [],
   "source": [
    "steps_balanced = [('model', lr_balanced)]\n",
    "pipeline_balanced = Pipeline(steps=steps)"
   ]
  },
  {
   "cell_type": "code",
   "execution_count": 20,
   "id": "1f2cdc5a",
   "metadata": {},
   "outputs": [
    {
     "name": "stdout",
     "output_type": "stream",
     "text": [
      "[0.77453027 0.76304802 0.76826722 0.77115987 0.76593521]\n",
      "0.7685881200602964\n"
     ]
    }
   ],
   "source": [
    "#Accuracy:\n",
    "\n",
    "cv = RepeatedStratifiedKFold(n_splits=5, n_repeats=1, random_state=1)\n",
    "scores = cross_val_score(pipeline_balanced, X, y, scoring='accuracy', cv=cv, n_jobs=-1) \n",
    "print(scores)\n",
    "\n",
    "score = np.mean(scores)\n",
    "print(score)"
   ]
  },
  {
   "cell_type": "code",
   "execution_count": 21,
   "id": "b5943c47",
   "metadata": {},
   "outputs": [
    {
     "data": {
      "text/plain": [
       "array([[  35, 1069],\n",
       "       [  39, 3645]])"
      ]
     },
     "execution_count": 21,
     "metadata": {},
     "output_type": "execute_result"
    }
   ],
   "source": [
    "#Aggregated Confusion Matrix From RepeatedStratifiedKFold: \n",
    "y_pred_balanced = cross_val_predict(pipeline_balanced, X, y, cv=cv, n_jobs=-1)\n",
    "conf_mat_balanced = confusion_matrix(y, y_pred_balanced)\n",
    "conf_mat_balanced"
   ]
  },
  {
   "cell_type": "code",
   "execution_count": null,
   "id": "33d49ed8",
   "metadata": {},
   "outputs": [],
   "source": []
  },
  {
   "cell_type": "code",
   "execution_count": null,
   "id": "c2672371",
   "metadata": {},
   "outputs": [],
   "source": []
  },
  {
   "cell_type": "code",
   "execution_count": 22,
   "id": "3e6f9d5f",
   "metadata": {},
   "outputs": [],
   "source": [
    "#Obtain predicted probabilities (not predicted classes) from RSKF: \n",
    "y_pred_prob = cross_val_predict(pipeline, X, y, cv=cv, n_jobs=-1, method='predict_proba')"
   ]
  },
  {
   "cell_type": "code",
   "execution_count": 23,
   "id": "9f850d5b",
   "metadata": {},
   "outputs": [
    {
     "data": {
      "text/plain": [
       "array([[0.50332473, 0.49667527],\n",
       "       [0.26255878, 0.73744122],\n",
       "       [0.28630861, 0.71369139],\n",
       "       ...,\n",
       "       [0.26614953, 0.73385047],\n",
       "       [0.30334261, 0.69665739],\n",
       "       [0.38480892, 0.61519108]])"
      ]
     },
     "execution_count": 23,
     "metadata": {},
     "output_type": "execute_result"
    }
   ],
   "source": [
    "y_pred_prob"
   ]
  },
  {
   "cell_type": "code",
   "execution_count": 26,
   "id": "973f2937",
   "metadata": {},
   "outputs": [
    {
     "data": {
      "text/plain": [
       "array([0., 0., 0., ..., 0., 0., 0.])"
      ]
     },
     "execution_count": 26,
     "metadata": {},
     "output_type": "execute_result"
    }
   ],
   "source": [
    "#Obtaining classification based on desired threshold of 0.8: \n",
    "\n",
    "y_pred_success = (y_pred_prob[:, 1] > 0.80).astype('float')\n",
    "y_pred_success"
   ]
  },
  {
   "cell_type": "code",
   "execution_count": 27,
   "id": "686a5f94",
   "metadata": {},
   "outputs": [
    {
     "data": {
      "text/plain": [
       "array([[ 804,  300],\n",
       "       [1901, 1783]])"
      ]
     },
     "execution_count": 27,
     "metadata": {},
     "output_type": "execute_result"
    }
   ],
   "source": [
    "conf_mat = confusion_matrix(y, y_pred_success)\n",
    "conf_mat"
   ]
  },
  {
   "cell_type": "code",
   "execution_count": 28,
   "id": "6c050cfb",
   "metadata": {},
   "outputs": [
    {
     "data": {
      "image/png": "[encoded data removed]",
      "text/plain": [
       "<Figure size 864x432 with 1 Axes>"
      ]
     },
     "metadata": {},
     "output_type": "display_data"
    }
   ],
   "source": [
    "sns.set(rc = {'figure.figsize':(12,6)})\n",
    "#cmap = sns.cubehelix_palette(start=2, rot=0, dark=0, light=.95, reverse=True, as_cmap=True)\n",
    "cmap = sns.light_palette('seagreen', as_cmap=True)\n",
    "\n",
    "res = sns.heatmap(conf_mat, annot=True, fmt='d', annot_kws={\"size\":20},\n",
    "#            xticklabels = ['Good = Paid In Full', 'Bad = Default'],\n",
    "#            yticklabels = ['Loan Paid In Full', 'Bad = Default'], \n",
    "            cmap=cmap, cbar=False)\n",
    "\n",
    "res.set_xticklabels(['Loan Default', 'Loan Repaid'], fontsize=15)\n",
    "res.set_yticklabels(['Loan Default', 'Loan Repaid'], fontsize=15)\n",
    "\n",
    "\n",
    "plt.title('Confusion Matrix For Logistic Regression', fontsize=25, pad=15)\n",
    "plt.xlabel('Predicted', fontsize=20)\n",
    "plt.ylabel('Actual', fontsize=20);"
   ]
  },
  {
   "cell_type": "code",
   "execution_count": 29,
   "id": "c5dc62cd",
   "metadata": {},
   "outputs": [
    {
     "data": {
      "text/plain": [
       "0.5403091060985797"
      ]
     },
     "execution_count": 29,
     "metadata": {},
     "output_type": "execute_result"
    }
   ],
   "source": [
    "accuracy_score(y, y_pred_success)"
   ]
  },
  {
   "cell_type": "code",
   "execution_count": 30,
   "id": "25920782",
   "metadata": {},
   "outputs": [
    {
     "name": "stdout",
     "output_type": "stream",
     "text": [
      "1783\n",
      "300\n",
      "1901\n",
      "804\n",
      "0.5403091060985797\n"
     ]
    }
   ],
   "source": [
    "TN, FP, FN, TP = conf_mat.ravel()\n",
    "print(TP)\n",
    "print(FP)\n",
    "print(FN)\n",
    "print(TN)\n",
    "print((TP + TN) / (TN + TP + FP + FN))"
   ]
  },
  {
   "cell_type": "code",
   "execution_count": 31,
   "id": "67e15484",
   "metadata": {},
   "outputs": [
    {
     "data": {
      "text/plain": [
       "0.8559769563130101"
      ]
     },
     "execution_count": 31,
     "metadata": {},
     "output_type": "execute_result"
    }
   ],
   "source": [
    "#Positive Predictive Value (or Precision)\n",
    "#Logistic Model only does 3% better than Null Model or \"random investment\"\n",
    "TP / (TP+FP)"
   ]
  },
  {
   "cell_type": "code",
   "execution_count": null,
   "id": "0ec77f4b",
   "metadata": {},
   "outputs": [],
   "source": []
  },
  {
   "cell_type": "code",
   "execution_count": 32,
   "id": "ac9a9f8f",
   "metadata": {},
   "outputs": [
    {
     "name": "stdout",
     "output_type": "stream",
     "text": [
      "0.9186046511627907\n",
      "91\n"
     ]
    }
   ],
   "source": [
    "thresh = []\n",
    "PosPredVal = []\n",
    "\n",
    "for i in range(0,100,1):\n",
    "    y_pred_success = (y_pred_prob[:, 1] > (i/100)).astype('float')\n",
    "    conf_mat = confusion_matrix(y, y_pred_success)\n",
    "    TN, FP, FN, TP = conf_mat.ravel()\n",
    "    thresh.append(i)\n",
    "    PosPredVal.append((TP/(TP+FP)))\n",
    "\n",
    "print(np.max(PosPredVal))\n",
    "print(PosPredVal.index(np.max(PosPredVal)))"
   ]
  },
  {
   "cell_type": "code",
   "execution_count": 33,
   "id": "60560faf",
   "metadata": {},
   "outputs": [
    {
     "data": {
      "text/plain": [
       "[0.7694235588972431,\n",
       " 0.7694235588972431,\n",
       " 0.7694235588972431,\n",
       " 0.7694235588972431,\n",
       " 0.7694235588972431,\n",
       " 0.7694235588972431,\n",
       " 0.7694235588972431,\n",
       " 0.7694235588972431,\n",
       " 0.7694235588972431,\n",
       " 0.7694235588972431,\n",
       " 0.7694235588972431,\n",
       " 0.7694235588972431,\n",
       " 0.7694235588972431,\n",
       " 0.7694235588972431,\n",
       " 0.7694235588972431,\n",
       " 0.7694235588972431,\n",
       " 0.7694235588972431,\n",
       " 0.7694235588972431,\n",
       " 0.7694235588972431,\n",
       " 0.7694235588972431,\n",
       " 0.7694235588972431,\n",
       " 0.7694235588972431,\n",
       " 0.7694235588972431,\n",
       " 0.7694235588972431,\n",
       " 0.7694235588972431,\n",
       " 0.7694235588972431,\n",
       " 0.7693753916858157,\n",
       " 0.7693753916858157,\n",
       " 0.7693753916858157,\n",
       " 0.7693753916858157,\n",
       " 0.7693272043460092,\n",
       " 0.7693272043460092,\n",
       " 0.7693272043460092,\n",
       " 0.7693272043460092,\n",
       " 0.7693272043460092,\n",
       " 0.7694879832810867,\n",
       " 0.7693915952331173,\n",
       " 0.7695524884985362,\n",
       " 0.7695524884985362,\n",
       " 0.7695524884985362,\n",
       " 0.7696170747018205,\n",
       " 0.7695688572624529,\n",
       " 0.7697947214076246,\n",
       " 0.769907795473596,\n",
       " 0.7705536912751678,\n",
       " 0.7710084033613446,\n",
       " 0.7716750841750841,\n",
       " 0.7722772277227723,\n",
       " 0.7730631201182183,\n",
       " 0.7733135969549587,\n",
       " 0.7732286805260925,\n",
       " 0.7745160604126782,\n",
       " 0.774861288945796,\n",
       " 0.7759211653813196,\n",
       " 0.7766071812513438,\n",
       " 0.7772972972972974,\n",
       " 0.7778019586507073,\n",
       " 0.7790442788250768,\n",
       " 0.7804985660710346,\n",
       " 0.7821253890618053,\n",
       " 0.7823159784560144,\n",
       " 0.7829845313921747,\n",
       " 0.7831186752529898,\n",
       " 0.7847303292084987,\n",
       " 0.7875178656503097,\n",
       " 0.7899732294962278,\n",
       " 0.7931976166832175,\n",
       " 0.7967046894803549,\n",
       " 0.8006730520320994,\n",
       " 0.8050464807436919,\n",
       " 0.8097990641343242,\n",
       " 0.8137697516930023,\n",
       " 0.817968291250734,\n",
       " 0.8238532110091743,\n",
       " 0.8284156510583708,\n",
       " 0.8335021952043229,\n",
       " 0.8353571428571429,\n",
       " 0.8401826484018264,\n",
       " 0.8445532435740514,\n",
       " 0.8489082969432314,\n",
       " 0.8559769563130101,\n",
       " 0.8575184016824395,\n",
       " 0.8679135008766803,\n",
       " 0.8650065530799476,\n",
       " 0.8707025411061285,\n",
       " 0.8744625967325881,\n",
       " 0.8689866939611054,\n",
       " 0.8731343283582089,\n",
       " 0.8888888888888888,\n",
       " 0.9039665970772442,\n",
       " 0.9168975069252078,\n",
       " 0.9186046511627907,\n",
       " 0.9085714285714286,\n",
       " 0.8828828828828829,\n",
       " 0.8507462686567164,\n",
       " 0.868421052631579,\n",
       " 0.85,\n",
       " 0.8333333333333334,\n",
       " 0.875,\n",
       " 0.8]"
      ]
     },
     "execution_count": 33,
     "metadata": {},
     "output_type": "execute_result"
    }
   ],
   "source": [
    "PosPredVal"
   ]
  },
  {
   "cell_type": "code",
   "execution_count": 30,
   "id": "a51b3ce5",
   "metadata": {},
   "outputs": [],
   "source": [
    "## Next question. what was characteristic of the 217 loans that defaulted??\n",
    "## Get all loans which you predicted greater than 80% and find out which ones defaulted.\n",
    "## Any pattern?????"
   ]
  },
  {
   "cell_type": "code",
   "execution_count": 31,
   "id": "2bb4a848",
   "metadata": {},
   "outputs": [],
   "source": [
    "#Do we drop all observations where the source is not verified? \n",
    "#Do we drop all observations loan amount is greater than half of one's income? "
   ]
  },
  {
   "cell_type": "code",
   "execution_count": null,
   "id": "88205f9a",
   "metadata": {},
   "outputs": [],
   "source": []
  }
 ],
 "metadata": {
  "hide_input": false,
  "kernelspec": {
   "display_name": "Python 3 (ipykernel)",
   "language": "python",
   "name": "python3"
  },
  "language_info": {
   "codemirror_mode": {
    "name": "ipython",
    "version": 3
   },
   "file_extension": ".py",
   "mimetype": "text/x-python",
   "name": "python",
   "nbconvert_exporter": "python",
   "pygments_lexer": "ipython3",
   "version": "3.8.8"
  },
  "varInspector": {
   "cols": {
    "lenName": 16,
    "lenType": 16,
    "lenVar": 40
   },
   "kernels_config": {
    "python": {
     "delete_cmd_postfix": "",
     "delete_cmd_prefix": "del ",
     "library": "var_list.py",
     "varRefreshCmd": "print(var_dic_list())"
    },
    "r": {
     "delete_cmd_postfix": ") ",
     "delete_cmd_prefix": "rm(",
     "library": "var_list.r",
     "varRefreshCmd": "cat(var_dic_list()) "
    }
   },
   "types_to_exclude": [
    "module",
    "function",
    "builtin_function_or_method",
    "instance",
    "_Feature"
   ],
   "window_display": false
  }
 },
 "nbformat": 4,
 "nbformat_minor": 5
}
