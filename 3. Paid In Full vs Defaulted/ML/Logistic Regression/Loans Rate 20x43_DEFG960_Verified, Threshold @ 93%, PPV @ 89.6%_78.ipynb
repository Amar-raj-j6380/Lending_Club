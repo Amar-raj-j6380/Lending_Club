{
 "cells": [
  {
   "cell_type": "code",
   "execution_count": 1,
   "id": "6f4648b5",
   "metadata": {},
   "outputs": [],
   "source": [
    "import pandas as pd\n",
    "import numpy as np\n",
    "import seaborn as sns\n",
    "import copy as cp\n",
    "import matplotlib.pyplot as plt\n",
    "\n",
    "from sklearn.model_selection import cross_val_score, cross_val_predict \n",
    "from sklearn.model_selection import train_test_split\n",
    "from sklearn.model_selection import RepeatedStratifiedKFold\n",
    "from imblearn.pipeline import Pipeline\n",
    "from imblearn.over_sampling import SMOTE\n",
    "\n",
    "from sklearn.linear_model import LogisticRegression\n",
    "from sklearn.metrics import roc_auc_score, roc_curve, precision_recall_curve\n",
    "from sklearn.metrics import confusion_matrix, accuracy_score\n",
    "\n",
    "from typing import Tuple"
   ]
  },
  {
   "cell_type": "code",
   "execution_count": 2,
   "id": "a6b2eaad",
   "metadata": {},
   "outputs": [],
   "source": [
    "pd.set_option(\"display.max_columns\", 200)\n",
    "pd.set_option(\"display.max_row\", 160)\n",
    "pd.set_option('max_colwidth', 200)"
   ]
  },
  {
   "cell_type": "code",
   "execution_count": 3,
   "id": "acc59130",
   "metadata": {},
   "outputs": [
    {
     "data": {
      "text/html": [
       "<div>\n",
       "<style scoped>\n",
       "    .dataframe tbody tr th:only-of-type {\n",
       "        vertical-align: middle;\n",
       "    }\n",
       "\n",
       "    .dataframe tbody tr th {\n",
       "        vertical-align: top;\n",
       "    }\n",
       "\n",
       "    .dataframe thead th {\n",
       "        text-align: right;\n",
       "    }\n",
       "</style>\n",
       "<table border=\"1\" class=\"dataframe\">\n",
       "  <thead>\n",
       "    <tr style=\"text-align: right;\">\n",
       "      <th></th>\n",
       "      <th>loan_amnt</th>\n",
       "      <th>annual_inc</th>\n",
       "      <th>dti</th>\n",
       "      <th>fico_range_low</th>\n",
       "      <th>fico_range_high</th>\n",
       "      <th>int_rate</th>\n",
       "      <th>installment</th>\n",
       "      <th>open_acc</th>\n",
       "      <th>total_acc</th>\n",
       "      <th>revol_bal</th>\n",
       "      <th>inq_last_6mths</th>\n",
       "      <th>delinq_2yrs</th>\n",
       "      <th>mths_since_last_delinq</th>\n",
       "      <th>acc_now_delinq</th>\n",
       "      <th>collections_12_mths_ex_med</th>\n",
       "      <th>pub_rec</th>\n",
       "      <th>months_cr_line</th>\n",
       "      <th>term</th>\n",
       "      <th>initial_list_status</th>\n",
       "      <th>grade</th>\n",
       "      <th>sub_grade</th>\n",
       "      <th>emp_length</th>\n",
       "      <th>ANY</th>\n",
       "      <th>MORTGAGE</th>\n",
       "      <th>OWN</th>\n",
       "      <th>RENT</th>\n",
       "      <th>car</th>\n",
       "      <th>credit_card</th>\n",
       "      <th>debt_consolidation</th>\n",
       "      <th>home_improvement</th>\n",
       "      <th>house</th>\n",
       "      <th>major_purchase</th>\n",
       "      <th>medical</th>\n",
       "      <th>moving</th>\n",
       "      <th>other</th>\n",
       "      <th>renewable_energy</th>\n",
       "      <th>small_business</th>\n",
       "      <th>vacation</th>\n",
       "      <th>wedding</th>\n",
       "      <th>Source Verified</th>\n",
       "      <th>Verified</th>\n",
       "      <th>loan_status_bin</th>\n",
       "    </tr>\n",
       "  </thead>\n",
       "  <tbody>\n",
       "    <tr>\n",
       "      <th>0</th>\n",
       "      <td>1.702216</td>\n",
       "      <td>-0.172701</td>\n",
       "      <td>0.364336</td>\n",
       "      <td>-0.958139</td>\n",
       "      <td>-0.958139</td>\n",
       "      <td>-0.223151</td>\n",
       "      <td>1.726471</td>\n",
       "      <td>0.393836</td>\n",
       "      <td>1.459252</td>\n",
       "      <td>-0.308942</td>\n",
       "      <td>1.897872</td>\n",
       "      <td>-0.433437</td>\n",
       "      <td>1.792467</td>\n",
       "      <td>-0.085233</td>\n",
       "      <td>-0.158784</td>\n",
       "      <td>0.917668</td>\n",
       "      <td>-0.895985</td>\n",
       "      <td>-0.258619</td>\n",
       "      <td>1.460157</td>\n",
       "      <td>1.320983</td>\n",
       "      <td>0.835275</td>\n",
       "      <td>0.979311</td>\n",
       "      <td>-0.028859</td>\n",
       "      <td>-0.936283</td>\n",
       "      <td>-0.358718</td>\n",
       "      <td>1.179902</td>\n",
       "      <td>-0.118595</td>\n",
       "      <td>4.170474</td>\n",
       "      <td>-0.763236</td>\n",
       "      <td>-0.297985</td>\n",
       "      <td>-0.147734</td>\n",
       "      <td>-0.182339</td>\n",
       "      <td>-0.216915</td>\n",
       "      <td>-0.213386</td>\n",
       "      <td>-0.564857</td>\n",
       "      <td>-0.060159</td>\n",
       "      <td>-0.252459</td>\n",
       "      <td>-0.16891</td>\n",
       "      <td>-0.083566</td>\n",
       "      <td>0.968055</td>\n",
       "      <td>-0.968055</td>\n",
       "      <td>1.0</td>\n",
       "    </tr>\n",
       "    <tr>\n",
       "      <th>1</th>\n",
       "      <td>-0.647170</td>\n",
       "      <td>-0.063573</td>\n",
       "      <td>-1.189601</td>\n",
       "      <td>1.905734</td>\n",
       "      <td>1.905734</td>\n",
       "      <td>-0.629302</td>\n",
       "      <td>-0.640777</td>\n",
       "      <td>-0.613814</td>\n",
       "      <td>-1.073685</td>\n",
       "      <td>-0.670536</td>\n",
       "      <td>1.157815</td>\n",
       "      <td>0.419012</td>\n",
       "      <td>-0.290740</td>\n",
       "      <td>-0.085233</td>\n",
       "      <td>-0.158784</td>\n",
       "      <td>-0.417357</td>\n",
       "      <td>-0.966701</td>\n",
       "      <td>-0.258619</td>\n",
       "      <td>1.460157</td>\n",
       "      <td>-0.053373</td>\n",
       "      <td>0.517474</td>\n",
       "      <td>-0.593141</td>\n",
       "      <td>-0.028859</td>\n",
       "      <td>-0.936283</td>\n",
       "      <td>-0.358718</td>\n",
       "      <td>1.179902</td>\n",
       "      <td>-0.118595</td>\n",
       "      <td>-0.239781</td>\n",
       "      <td>-0.763236</td>\n",
       "      <td>3.355876</td>\n",
       "      <td>-0.147734</td>\n",
       "      <td>-0.182339</td>\n",
       "      <td>-0.216915</td>\n",
       "      <td>-0.213386</td>\n",
       "      <td>-0.564857</td>\n",
       "      <td>-0.060159</td>\n",
       "      <td>-0.252459</td>\n",
       "      <td>-0.16891</td>\n",
       "      <td>-0.083566</td>\n",
       "      <td>0.968055</td>\n",
       "      <td>-0.968055</td>\n",
       "      <td>0.0</td>\n",
       "    </tr>\n",
       "    <tr>\n",
       "      <th>2</th>\n",
       "      <td>-0.945315</td>\n",
       "      <td>-0.256646</td>\n",
       "      <td>-0.315924</td>\n",
       "      <td>0.083269</td>\n",
       "      <td>0.083269</td>\n",
       "      <td>0.526344</td>\n",
       "      <td>-0.876796</td>\n",
       "      <td>-0.949698</td>\n",
       "      <td>-1.150441</td>\n",
       "      <td>-0.586211</td>\n",
       "      <td>0.417758</td>\n",
       "      <td>-0.433437</td>\n",
       "      <td>-0.866947</td>\n",
       "      <td>-0.085233</td>\n",
       "      <td>-0.158784</td>\n",
       "      <td>-0.417357</td>\n",
       "      <td>0.188324</td>\n",
       "      <td>-0.258619</td>\n",
       "      <td>1.460157</td>\n",
       "      <td>1.320983</td>\n",
       "      <td>1.470877</td>\n",
       "      <td>-1.641442</td>\n",
       "      <td>-0.028859</td>\n",
       "      <td>1.068053</td>\n",
       "      <td>-0.358718</td>\n",
       "      <td>-0.847528</td>\n",
       "      <td>-0.118595</td>\n",
       "      <td>-0.239781</td>\n",
       "      <td>1.310211</td>\n",
       "      <td>-0.297985</td>\n",
       "      <td>-0.147734</td>\n",
       "      <td>-0.182339</td>\n",
       "      <td>-0.216915</td>\n",
       "      <td>-0.213386</td>\n",
       "      <td>-0.564857</td>\n",
       "      <td>-0.060159</td>\n",
       "      <td>-0.252459</td>\n",
       "      <td>-0.16891</td>\n",
       "      <td>-0.083566</td>\n",
       "      <td>0.968055</td>\n",
       "      <td>-0.968055</td>\n",
       "      <td>0.0</td>\n",
       "    </tr>\n",
       "    <tr>\n",
       "      <th>3</th>\n",
       "      <td>0.283044</td>\n",
       "      <td>-0.046784</td>\n",
       "      <td>0.047834</td>\n",
       "      <td>-0.697787</td>\n",
       "      <td>-0.697787</td>\n",
       "      <td>-0.629302</td>\n",
       "      <td>0.274942</td>\n",
       "      <td>-0.109989</td>\n",
       "      <td>0.538184</td>\n",
       "      <td>-0.315469</td>\n",
       "      <td>2.637929</td>\n",
       "      <td>2.976359</td>\n",
       "      <td>-0.866947</td>\n",
       "      <td>-0.085233</td>\n",
       "      <td>-0.158784</td>\n",
       "      <td>0.917668</td>\n",
       "      <td>-0.459904</td>\n",
       "      <td>-0.258619</td>\n",
       "      <td>1.460157</td>\n",
       "      <td>-0.053373</td>\n",
       "      <td>0.517474</td>\n",
       "      <td>-0.593141</td>\n",
       "      <td>-0.028859</td>\n",
       "      <td>1.068053</td>\n",
       "      <td>-0.358718</td>\n",
       "      <td>-0.847528</td>\n",
       "      <td>-0.118595</td>\n",
       "      <td>-0.239781</td>\n",
       "      <td>-0.763236</td>\n",
       "      <td>-0.297985</td>\n",
       "      <td>-0.147734</td>\n",
       "      <td>-0.182339</td>\n",
       "      <td>-0.216915</td>\n",
       "      <td>-0.213386</td>\n",
       "      <td>-0.564857</td>\n",
       "      <td>-0.060159</td>\n",
       "      <td>3.961037</td>\n",
       "      <td>-0.16891</td>\n",
       "      <td>-0.083566</td>\n",
       "      <td>0.968055</td>\n",
       "      <td>-0.968055</td>\n",
       "      <td>1.0</td>\n",
       "    </tr>\n",
       "    <tr>\n",
       "      <th>4</th>\n",
       "      <td>1.797622</td>\n",
       "      <td>-0.239857</td>\n",
       "      <td>0.491816</td>\n",
       "      <td>3.988552</td>\n",
       "      <td>3.988552</td>\n",
       "      <td>-0.629302</td>\n",
       "      <td>1.765848</td>\n",
       "      <td>-0.949698</td>\n",
       "      <td>-0.152617</td>\n",
       "      <td>-0.671631</td>\n",
       "      <td>1.157815</td>\n",
       "      <td>-0.433437</td>\n",
       "      <td>-0.866947</td>\n",
       "      <td>-0.085233</td>\n",
       "      <td>-0.158784</td>\n",
       "      <td>-0.417357</td>\n",
       "      <td>-1.296707</td>\n",
       "      <td>-0.258619</td>\n",
       "      <td>1.460157</td>\n",
       "      <td>-0.053373</td>\n",
       "      <td>0.517474</td>\n",
       "      <td>-0.855216</td>\n",
       "      <td>-0.028859</td>\n",
       "      <td>-0.936283</td>\n",
       "      <td>2.787703</td>\n",
       "      <td>-0.847528</td>\n",
       "      <td>-0.118595</td>\n",
       "      <td>-0.239781</td>\n",
       "      <td>-0.763236</td>\n",
       "      <td>-0.297985</td>\n",
       "      <td>-0.147734</td>\n",
       "      <td>-0.182339</td>\n",
       "      <td>-0.216915</td>\n",
       "      <td>4.686340</td>\n",
       "      <td>-0.564857</td>\n",
       "      <td>-0.060159</td>\n",
       "      <td>-0.252459</td>\n",
       "      <td>-0.16891</td>\n",
       "      <td>-0.083566</td>\n",
       "      <td>0.968055</td>\n",
       "      <td>-0.968055</td>\n",
       "      <td>1.0</td>\n",
       "    </tr>\n",
       "  </tbody>\n",
       "</table>\n",
       "</div>"
      ],
      "text/plain": [
       "   loan_amnt  annual_inc       dti  fico_range_low  fico_range_high  int_rate  \\\n",
       "0   1.702216   -0.172701  0.364336       -0.958139        -0.958139 -0.223151   \n",
       "1  -0.647170   -0.063573 -1.189601        1.905734         1.905734 -0.629302   \n",
       "2  -0.945315   -0.256646 -0.315924        0.083269         0.083269  0.526344   \n",
       "3   0.283044   -0.046784  0.047834       -0.697787        -0.697787 -0.629302   \n",
       "4   1.797622   -0.239857  0.491816        3.988552         3.988552 -0.629302   \n",
       "\n",
       "   installment  open_acc  total_acc  revol_bal  inq_last_6mths  delinq_2yrs  \\\n",
       "0     1.726471  0.393836   1.459252  -0.308942        1.897872    -0.433437   \n",
       "1    -0.640777 -0.613814  -1.073685  -0.670536        1.157815     0.419012   \n",
       "2    -0.876796 -0.949698  -1.150441  -0.586211        0.417758    -0.433437   \n",
       "3     0.274942 -0.109989   0.538184  -0.315469        2.637929     2.976359   \n",
       "4     1.765848 -0.949698  -0.152617  -0.671631        1.157815    -0.433437   \n",
       "\n",
       "   mths_since_last_delinq  acc_now_delinq  collections_12_mths_ex_med  \\\n",
       "0                1.792467       -0.085233                   -0.158784   \n",
       "1               -0.290740       -0.085233                   -0.158784   \n",
       "2               -0.866947       -0.085233                   -0.158784   \n",
       "3               -0.866947       -0.085233                   -0.158784   \n",
       "4               -0.866947       -0.085233                   -0.158784   \n",
       "\n",
       "    pub_rec  months_cr_line      term  initial_list_status     grade  \\\n",
       "0  0.917668       -0.895985 -0.258619             1.460157  1.320983   \n",
       "1 -0.417357       -0.966701 -0.258619             1.460157 -0.053373   \n",
       "2 -0.417357        0.188324 -0.258619             1.460157  1.320983   \n",
       "3  0.917668       -0.459904 -0.258619             1.460157 -0.053373   \n",
       "4 -0.417357       -1.296707 -0.258619             1.460157 -0.053373   \n",
       "\n",
       "   sub_grade  emp_length       ANY  MORTGAGE       OWN      RENT       car  \\\n",
       "0   0.835275    0.979311 -0.028859 -0.936283 -0.358718  1.179902 -0.118595   \n",
       "1   0.517474   -0.593141 -0.028859 -0.936283 -0.358718  1.179902 -0.118595   \n",
       "2   1.470877   -1.641442 -0.028859  1.068053 -0.358718 -0.847528 -0.118595   \n",
       "3   0.517474   -0.593141 -0.028859  1.068053 -0.358718 -0.847528 -0.118595   \n",
       "4   0.517474   -0.855216 -0.028859 -0.936283  2.787703 -0.847528 -0.118595   \n",
       "\n",
       "   credit_card  debt_consolidation  home_improvement     house  \\\n",
       "0     4.170474           -0.763236         -0.297985 -0.147734   \n",
       "1    -0.239781           -0.763236          3.355876 -0.147734   \n",
       "2    -0.239781            1.310211         -0.297985 -0.147734   \n",
       "3    -0.239781           -0.763236         -0.297985 -0.147734   \n",
       "4    -0.239781           -0.763236         -0.297985 -0.147734   \n",
       "\n",
       "   major_purchase   medical    moving     other  renewable_energy  \\\n",
       "0       -0.182339 -0.216915 -0.213386 -0.564857         -0.060159   \n",
       "1       -0.182339 -0.216915 -0.213386 -0.564857         -0.060159   \n",
       "2       -0.182339 -0.216915 -0.213386 -0.564857         -0.060159   \n",
       "3       -0.182339 -0.216915 -0.213386 -0.564857         -0.060159   \n",
       "4       -0.182339 -0.216915  4.686340 -0.564857         -0.060159   \n",
       "\n",
       "   small_business  vacation   wedding  Source Verified  Verified  \\\n",
       "0       -0.252459  -0.16891 -0.083566         0.968055 -0.968055   \n",
       "1       -0.252459  -0.16891 -0.083566         0.968055 -0.968055   \n",
       "2       -0.252459  -0.16891 -0.083566         0.968055 -0.968055   \n",
       "3        3.961037  -0.16891 -0.083566         0.968055 -0.968055   \n",
       "4       -0.252459  -0.16891 -0.083566         0.968055 -0.968055   \n",
       "\n",
       "   loan_status_bin  \n",
       "0              1.0  \n",
       "1              0.0  \n",
       "2              0.0  \n",
       "3              1.0  \n",
       "4              1.0  "
      ]
     },
     "execution_count": 3,
     "metadata": {},
     "output_type": "execute_result"
    }
   ],
   "source": [
    "data = pd.read_csv('../../Data/20x43_DEFG960_verified.csv')\n",
    "data.head(5)"
   ]
  },
  {
   "cell_type": "code",
   "execution_count": 4,
   "id": "771565fb",
   "metadata": {},
   "outputs": [
    {
     "data": {
      "text/plain": [
       "(3605, 42)"
      ]
     },
     "execution_count": 4,
     "metadata": {},
     "output_type": "execute_result"
    }
   ],
   "source": [
    "data.shape"
   ]
  },
  {
   "cell_type": "code",
   "execution_count": 5,
   "id": "74758ddc",
   "metadata": {},
   "outputs": [
    {
     "data": {
      "text/plain": [
       "1.0    2718\n",
       "0.0     887\n",
       "Name: loan_status_bin, dtype: int64"
      ]
     },
     "execution_count": 5,
     "metadata": {},
     "output_type": "execute_result"
    }
   ],
   "source": [
    "data.loan_status_bin.value_counts()\n",
    "#0 = Defaulted Loans\n",
    "#1 = Loans Paid In Full"
   ]
  },
  {
   "cell_type": "code",
   "execution_count": 6,
   "id": "b9a9c6be",
   "metadata": {},
   "outputs": [
    {
     "data": {
      "text/plain": [
       "(3605, 41)"
      ]
     },
     "execution_count": 6,
     "metadata": {},
     "output_type": "execute_result"
    }
   ],
   "source": [
    "X = data.drop('loan_status_bin', axis=1)\n",
    "X.shape"
   ]
  },
  {
   "cell_type": "code",
   "execution_count": 7,
   "id": "0559962b",
   "metadata": {},
   "outputs": [],
   "source": [
    "y = data['loan_status_bin']"
   ]
  },
  {
   "cell_type": "code",
   "execution_count": 8,
   "id": "9b1bb6de",
   "metadata": {},
   "outputs": [],
   "source": [
    "lr1 = LogisticRegression()"
   ]
  },
  {
   "cell_type": "code",
   "execution_count": 9,
   "id": "e9e711e2",
   "metadata": {},
   "outputs": [],
   "source": [
    "steps = [('model', lr1)]\n",
    "pipeline = Pipeline(steps=steps)"
   ]
  },
  {
   "cell_type": "code",
   "execution_count": 10,
   "id": "fb714eeb",
   "metadata": {},
   "outputs": [
    {
     "name": "stdout",
     "output_type": "stream",
     "text": [
      "[0.75450763 0.75034674 0.74895978 0.76421637 0.75589459]\n",
      "0.7547850208044383\n"
     ]
    }
   ],
   "source": [
    "#Accuracy:\n",
    "\n",
    "cv = RepeatedStratifiedKFold(n_splits=5, n_repeats=1, random_state=1)\n",
    "scores = cross_val_score(pipeline, X, y, scoring='accuracy', cv=cv, n_jobs=-1) \n",
    "print(scores)\n",
    "\n",
    "score = np.mean(scores)\n",
    "print(score)"
   ]
  },
  {
   "cell_type": "code",
   "execution_count": 11,
   "id": "9db484eb",
   "metadata": {},
   "outputs": [
    {
     "data": {
      "text/plain": [
       "array([[  44,  843],\n",
       "       [  41, 2677]])"
      ]
     },
     "execution_count": 11,
     "metadata": {},
     "output_type": "execute_result"
    }
   ],
   "source": [
    "#Aggregated Confusion Matrix From RepeatedStratifiedKFold: \n",
    "y_pred = cross_val_predict(pipeline, X, y, cv=cv, n_jobs=-1)\n",
    "conf_mat = confusion_matrix(y, y_pred)\n",
    "conf_mat"
   ]
  },
  {
   "cell_type": "code",
   "execution_count": 12,
   "id": "cd14efda",
   "metadata": {},
   "outputs": [
    {
     "data": {
      "image/png": "[encoded data removed]",
      "text/plain": [
       "<Figure size 864x432 with 1 Axes>"
      ]
     },
     "metadata": {},
     "output_type": "display_data"
    }
   ],
   "source": [
    "sns.set(rc = {'figure.figsize':(12,6)})\n",
    "#cmap = sns.cubehelix_palette(start=2, rot=0, dark=0, light=.95, reverse=True, as_cmap=True)\n",
    "cmap = sns.light_palette('seagreen', as_cmap=True)\n",
    "\n",
    "res = sns.heatmap(conf_mat, annot=True, fmt='d', annot_kws={\"size\":20},\n",
    "#            xticklabels = ['Good = Paid In Full', 'Bad = Default'],\n",
    "#            yticklabels = ['Loan Paid In Full', 'Bad = Default'], \n",
    "            cmap=cmap, cbar=False)\n",
    "\n",
    "res.set_xticklabels(['Loan Default', 'Loan Repaid'], fontsize=15)\n",
    "res.set_yticklabels(['Loan Default', 'Loan Repaid'], fontsize=15)\n",
    "\n",
    "\n",
    "plt.title('Confusion Matrix For Logistic Regression', fontsize=25, pad=15)\n",
    "plt.xlabel('Predicted', fontsize=20)\n",
    "plt.ylabel('Actual', fontsize=20);"
   ]
  },
  {
   "cell_type": "code",
   "execution_count": 13,
   "id": "345a55b6",
   "metadata": {},
   "outputs": [
    {
     "data": {
      "text/plain": [
       "0.7547850208044383"
      ]
     },
     "execution_count": 13,
     "metadata": {},
     "output_type": "execute_result"
    }
   ],
   "source": [
    "accuracy_score(y, y_pred)"
   ]
  },
  {
   "cell_type": "code",
   "execution_count": 14,
   "id": "22662a59",
   "metadata": {},
   "outputs": [
    {
     "name": "stdout",
     "output_type": "stream",
     "text": [
      "2677\n",
      "843\n",
      "41\n",
      "44\n",
      "0.7547850208044383\n"
     ]
    }
   ],
   "source": [
    "TN, FP, FN, TP = conf_mat.ravel()\n",
    "print(TP)\n",
    "print(FP)\n",
    "print(FN)\n",
    "print(TN)\n",
    "print((TP + TN) / (TN + TP + FP + FN))"
   ]
  },
  {
   "cell_type": "code",
   "execution_count": null,
   "id": "4dcedec5",
   "metadata": {},
   "outputs": [],
   "source": []
  },
  {
   "cell_type": "code",
   "execution_count": 15,
   "id": "36dec5fa",
   "metadata": {},
   "outputs": [
    {
     "name": "stdout",
     "output_type": "stream",
     "text": [
      "1.0    2718\n",
      "0.0     887\n",
      "Name: loan_status_bin, dtype: int64\n",
      "\n",
      "0.7539528432732316\n"
     ]
    }
   ],
   "source": [
    "#Re-examine original pool of accepted LC Loans: \n",
    "\n",
    "print(data.loan_status_bin.value_counts())\n",
    "#0 = Loan Defaulted\n",
    "#1 = Loan Fully Paid\n",
    "\n",
    "good_loan = data.loan_status_bin.value_counts()[1]\n",
    "bad_loan = data.loan_status_bin.value_counts()[0]\n",
    "\n",
    "print()\n",
    "print(good_loan / (good_loan + bad_loan))\n",
    "\n",
    "#Random investment would give us 59% chance of pickkng a good loan"
   ]
  },
  {
   "cell_type": "code",
   "execution_count": 16,
   "id": "9be4be5d",
   "metadata": {},
   "outputs": [
    {
     "data": {
      "text/plain": [
       "0.7605113636363636"
      ]
     },
     "execution_count": 16,
     "metadata": {},
     "output_type": "execute_result"
    }
   ],
   "source": [
    "#Positive Predictive Value (or Precision)\n",
    "#Logistic Model only does 0.1% better than Null Model or \"random investment\"\n",
    "TP / (TP+FP)"
   ]
  },
  {
   "cell_type": "code",
   "execution_count": null,
   "id": "747fa766",
   "metadata": {},
   "outputs": [],
   "source": []
  },
  {
   "cell_type": "code",
   "execution_count": 17,
   "id": "3188e143",
   "metadata": {},
   "outputs": [],
   "source": [
    "#What if we \"balance\" the weight class to avoid \"imbalanced\" nature...No Change! "
   ]
  },
  {
   "cell_type": "code",
   "execution_count": 18,
   "id": "0d86ed92",
   "metadata": {},
   "outputs": [],
   "source": [
    "lr_balanced = LogisticRegression(class_weight='balanced')"
   ]
  },
  {
   "cell_type": "code",
   "execution_count": 19,
   "id": "1e582bb8",
   "metadata": {},
   "outputs": [],
   "source": [
    "steps_balanced = [('model', lr_balanced)]\n",
    "pipeline_balanced = Pipeline(steps=steps)"
   ]
  },
  {
   "cell_type": "code",
   "execution_count": 20,
   "id": "1f2cdc5a",
   "metadata": {},
   "outputs": [
    {
     "name": "stdout",
     "output_type": "stream",
     "text": [
      "[0.75450763 0.75034674 0.74895978 0.76421637 0.75589459]\n",
      "0.7547850208044383\n"
     ]
    }
   ],
   "source": [
    "#Accuracy:\n",
    "\n",
    "cv = RepeatedStratifiedKFold(n_splits=5, n_repeats=1, random_state=1)\n",
    "scores = cross_val_score(pipeline_balanced, X, y, scoring='accuracy', cv=cv, n_jobs=-1) \n",
    "print(scores)\n",
    "\n",
    "score = np.mean(scores)\n",
    "print(score)"
   ]
  },
  {
   "cell_type": "code",
   "execution_count": 21,
   "id": "b5943c47",
   "metadata": {},
   "outputs": [
    {
     "data": {
      "text/plain": [
       "array([[  44,  843],\n",
       "       [  41, 2677]])"
      ]
     },
     "execution_count": 21,
     "metadata": {},
     "output_type": "execute_result"
    }
   ],
   "source": [
    "#Aggregated Confusion Matrix From RepeatedStratifiedKFold: \n",
    "y_pred_balanced = cross_val_predict(pipeline_balanced, X, y, cv=cv, n_jobs=-1)\n",
    "conf_mat_balanced = confusion_matrix(y, y_pred_balanced)\n",
    "conf_mat_balanced"
   ]
  },
  {
   "cell_type": "code",
   "execution_count": null,
   "id": "33d49ed8",
   "metadata": {},
   "outputs": [],
   "source": []
  },
  {
   "cell_type": "code",
   "execution_count": null,
   "id": "c2672371",
   "metadata": {},
   "outputs": [],
   "source": []
  },
  {
   "cell_type": "code",
   "execution_count": 22,
   "id": "3e6f9d5f",
   "metadata": {},
   "outputs": [],
   "source": [
    "#Obtain predicted probabilities (not predicted classes) from RSKF: \n",
    "y_pred_prob = cross_val_predict(pipeline, X, y, cv=cv, n_jobs=-1, method='predict_proba')"
   ]
  },
  {
   "cell_type": "code",
   "execution_count": 23,
   "id": "9f850d5b",
   "metadata": {},
   "outputs": [
    {
     "data": {
      "text/plain": [
       "array([[0.44775264, 0.55224736],\n",
       "       [0.26136703, 0.73863297],\n",
       "       [0.32544505, 0.67455495],\n",
       "       ...,\n",
       "       [0.25464934, 0.74535066],\n",
       "       [0.29432207, 0.70567793],\n",
       "       [0.37683531, 0.62316469]])"
      ]
     },
     "execution_count": 23,
     "metadata": {},
     "output_type": "execute_result"
    }
   ],
   "source": [
    "y_pred_prob"
   ]
  },
  {
   "cell_type": "code",
   "execution_count": 32,
   "id": "973f2937",
   "metadata": {},
   "outputs": [
    {
     "data": {
      "text/plain": [
       "array([0., 0., 0., ..., 0., 0., 0.])"
      ]
     },
     "execution_count": 32,
     "metadata": {},
     "output_type": "execute_result"
    }
   ],
   "source": [
    "#Obtaining classification based on desired threshold of 0.8: \n",
    "\n",
    "y_pred_success = (y_pred_prob[:, 1] > 0.93).astype('float')\n",
    "y_pred_success"
   ]
  },
  {
   "cell_type": "code",
   "execution_count": 33,
   "id": "686a5f94",
   "metadata": {},
   "outputs": [
    {
     "data": {
      "text/plain": [
       "array([[ 878,    9],\n",
       "       [2640,   78]])"
      ]
     },
     "execution_count": 33,
     "metadata": {},
     "output_type": "execute_result"
    }
   ],
   "source": [
    "conf_mat = confusion_matrix(y, y_pred_success)\n",
    "conf_mat"
   ]
  },
  {
   "cell_type": "code",
   "execution_count": 34,
   "id": "6c050cfb",
   "metadata": {},
   "outputs": [
    {
     "data": {
      "image/png": "[encoded data removed]",
      "text/plain": [
       "<Figure size 864x432 with 1 Axes>"
      ]
     },
     "metadata": {},
     "output_type": "display_data"
    }
   ],
   "source": [
    "sns.set(rc = {'figure.figsize':(12,6)})\n",
    "#cmap = sns.cubehelix_palette(start=2, rot=0, dark=0, light=.95, reverse=True, as_cmap=True)\n",
    "cmap = sns.light_palette('seagreen', as_cmap=True)\n",
    "\n",
    "res = sns.heatmap(conf_mat, annot=True, fmt='d', annot_kws={\"size\":20},\n",
    "#            xticklabels = ['Good = Paid In Full', 'Bad = Default'],\n",
    "#            yticklabels = ['Loan Paid In Full', 'Bad = Default'], \n",
    "            cmap=cmap, cbar=False)\n",
    "\n",
    "res.set_xticklabels(['Loan Default', 'Loan Repaid'], fontsize=15)\n",
    "res.set_yticklabels(['Loan Default', 'Loan Repaid'], fontsize=15)\n",
    "\n",
    "\n",
    "plt.title('Confusion Matrix For Logistic Regression', fontsize=25, pad=15)\n",
    "plt.xlabel('Predicted', fontsize=20)\n",
    "plt.ylabel('Actual', fontsize=20);"
   ]
  },
  {
   "cell_type": "code",
   "execution_count": 35,
   "id": "c5dc62cd",
   "metadata": {},
   "outputs": [
    {
     "data": {
      "text/plain": [
       "0.2651872399445215"
      ]
     },
     "execution_count": 35,
     "metadata": {},
     "output_type": "execute_result"
    }
   ],
   "source": [
    "accuracy_score(y, y_pred_success)"
   ]
  },
  {
   "cell_type": "code",
   "execution_count": 36,
   "id": "25920782",
   "metadata": {},
   "outputs": [
    {
     "name": "stdout",
     "output_type": "stream",
     "text": [
      "78\n",
      "9\n",
      "2640\n",
      "878\n",
      "0.2651872399445215\n"
     ]
    }
   ],
   "source": [
    "TN, FP, FN, TP = conf_mat.ravel()\n",
    "print(TP)\n",
    "print(FP)\n",
    "print(FN)\n",
    "print(TN)\n",
    "print((TP + TN) / (TN + TP + FP + FN))"
   ]
  },
  {
   "cell_type": "code",
   "execution_count": 37,
   "id": "67e15484",
   "metadata": {},
   "outputs": [
    {
     "data": {
      "text/plain": [
       "0.896551724137931"
      ]
     },
     "execution_count": 37,
     "metadata": {},
     "output_type": "execute_result"
    }
   ],
   "source": [
    "#Positive Predictive Value (or Precision)\n",
    "#Logistic Model only does 3% better than Null Model or \"random investment\"\n",
    "TP / (TP+FP)"
   ]
  },
  {
   "cell_type": "code",
   "execution_count": null,
   "id": "0ec77f4b",
   "metadata": {},
   "outputs": [],
   "source": []
  },
  {
   "cell_type": "code",
   "execution_count": 30,
   "id": "ac9a9f8f",
   "metadata": {},
   "outputs": [
    {
     "name": "stdout",
     "output_type": "stream",
     "text": [
      "0.896551724137931\n",
      "93\n"
     ]
    }
   ],
   "source": [
    "thresh = []\n",
    "PosPredVal = []\n",
    "\n",
    "for i in range(0,100,1):\n",
    "    y_pred_success = (y_pred_prob[:, 1] > (i/100)).astype('float')\n",
    "    conf_mat = confusion_matrix(y, y_pred_success)\n",
    "    TN, FP, FN, TP = conf_mat.ravel()\n",
    "    thresh.append(i)\n",
    "    PosPredVal.append((TP/(TP+FP)))\n",
    "\n",
    "print(np.max(PosPredVal))\n",
    "print(PosPredVal.index(np.max(PosPredVal)))"
   ]
  },
  {
   "cell_type": "code",
   "execution_count": 31,
   "id": "60560faf",
   "metadata": {},
   "outputs": [
    {
     "data": {
      "text/plain": [
       "[0.7539528432732316,\n",
       " 0.7539528432732316,\n",
       " 0.7539528432732316,\n",
       " 0.7539528432732316,\n",
       " 0.7539528432732316,\n",
       " 0.7539528432732316,\n",
       " 0.7539528432732316,\n",
       " 0.7539528432732316,\n",
       " 0.7539528432732316,\n",
       " 0.7539528432732316,\n",
       " 0.7539528432732316,\n",
       " 0.7539528432732316,\n",
       " 0.7539528432732316,\n",
       " 0.7539528432732316,\n",
       " 0.7539528432732316,\n",
       " 0.7539528432732316,\n",
       " 0.7539528432732316,\n",
       " 0.7539528432732316,\n",
       " 0.7539528432732316,\n",
       " 0.7539528432732316,\n",
       " 0.7539528432732316,\n",
       " 0.7539528432732316,\n",
       " 0.7539528432732316,\n",
       " 0.7539528432732316,\n",
       " 0.7539528432732316,\n",
       " 0.7539528432732316,\n",
       " 0.7538845726970034,\n",
       " 0.7538845726970034,\n",
       " 0.7538845726970034,\n",
       " 0.7538845726970034,\n",
       " 0.7538845726970034,\n",
       " 0.7540938107132945,\n",
       " 0.7543031649083842,\n",
       " 0.7542349347403499,\n",
       " 0.7540983606557377,\n",
       " 0.7540300166759311,\n",
       " 0.754239644147901,\n",
       " 0.754239644147901,\n",
       " 0.7544493882091212,\n",
       " 0.7545226829947119,\n",
       " 0.7543859649122807,\n",
       " 0.7545961002785515,\n",
       " 0.7548117154811715,\n",
       " 0.7550223214285714,\n",
       " 0.755586592178771,\n",
       " 0.7564389697648376,\n",
       " 0.7577883805781644,\n",
       " 0.7588732394366198,\n",
       " 0.7595365922576999,\n",
       " 0.7598414047012177,\n",
       " 0.7605113636363636,\n",
       " 0.7603305785123967,\n",
       " 0.7608695652173914,\n",
       " 0.7619184376794945,\n",
       " 0.7625253402838111,\n",
       " 0.7650145772594752,\n",
       " 0.76673547626069,\n",
       " 0.7686122692078619,\n",
       " 0.7685129440096328,\n",
       " 0.7700242718446602,\n",
       " 0.770199692780338,\n",
       " 0.7712418300653595,\n",
       " 0.7745500473634355,\n",
       " 0.7771686552724928,\n",
       " 0.7799406136588585,\n",
       " 0.7832097100472016,\n",
       " 0.7865517241379311,\n",
       " 0.7891949152542372,\n",
       " 0.7922881047653693,\n",
       " 0.7982621836040801,\n",
       " 0.800625488663018,\n",
       " 0.80625507717303,\n",
       " 0.8114961961115807,\n",
       " 0.8128861429832304,\n",
       " 0.8191985088536813,\n",
       " 0.8245180425111222,\n",
       " 0.8319283456269758,\n",
       " 0.8373527762198542,\n",
       " 0.8446191051995163,\n",
       " 0.8432397126061397,\n",
       " 0.8510334996436208,\n",
       " 0.8528241845664281,\n",
       " 0.8549955791335102,\n",
       " 0.8610271903323263,\n",
       " 0.8563151796060255,\n",
       " 0.8604026845637583,\n",
       " 0.8578274760383386,\n",
       " 0.8598848368522073,\n",
       " 0.8697674418604651,\n",
       " 0.8735955056179775,\n",
       " 0.8828125,\n",
       " 0.8736842105263158,\n",
       " 0.8913043478260869,\n",
       " 0.896551724137931,\n",
       " 0.8813559322033898,\n",
       " 0.875,\n",
       " 0.8695652173913043,\n",
       " 0.8125,\n",
       " 0.7777777777777778,\n",
       " 0.8333333333333334]"
      ]
     },
     "execution_count": 31,
     "metadata": {},
     "output_type": "execute_result"
    }
   ],
   "source": [
    "PosPredVal"
   ]
  },
  {
   "cell_type": "code",
   "execution_count": 30,
   "id": "a51b3ce5",
   "metadata": {},
   "outputs": [],
   "source": [
    "## Next question. what was characteristic of the 217 loans that defaulted??\n",
    "## Get all loans which you predicted greater than 80% and find out which ones defaulted.\n",
    "## Any pattern?????"
   ]
  },
  {
   "cell_type": "code",
   "execution_count": 31,
   "id": "2bb4a848",
   "metadata": {},
   "outputs": [],
   "source": [
    "#Do we drop all observations where the source is not verified? \n",
    "#Do we drop all observations loan amount is greater than half of one's income? "
   ]
  },
  {
   "cell_type": "code",
   "execution_count": null,
   "id": "88205f9a",
   "metadata": {},
   "outputs": [],
   "source": []
  }
 ],
 "metadata": {
  "hide_input": false,
  "kernelspec": {
   "display_name": "Python 3 (ipykernel)",
   "language": "python",
   "name": "python3"
  },
  "language_info": {
   "codemirror_mode": {
    "name": "ipython",
    "version": 3
   },
   "file_extension": ".py",
   "mimetype": "text/x-python",
   "name": "python",
   "nbconvert_exporter": "python",
   "pygments_lexer": "ipython3",
   "version": "3.8.8"
  },
  "varInspector": {
   "cols": {
    "lenName": 16,
    "lenType": 16,
    "lenVar": 40
   },
   "kernels_config": {
    "python": {
     "delete_cmd_postfix": "",
     "delete_cmd_prefix": "del ",
     "library": "var_list.py",
     "varRefreshCmd": "print(var_dic_list())"
    },
    "r": {
     "delete_cmd_postfix": ") ",
     "delete_cmd_prefix": "rm(",
     "library": "var_list.r",
     "varRefreshCmd": "cat(var_dic_list()) "
    }
   },
   "types_to_exclude": [
    "module",
    "function",
    "builtin_function_or_method",
    "instance",
    "_Feature"
   ],
   "window_display": false
  }
 },
 "nbformat": 4,
 "nbformat_minor": 5
}
