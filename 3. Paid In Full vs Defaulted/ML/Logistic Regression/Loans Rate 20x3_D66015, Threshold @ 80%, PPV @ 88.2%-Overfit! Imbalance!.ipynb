{
 "cells": [
  {
   "cell_type": "code",
   "execution_count": 1,
   "id": "6f4648b5",
   "metadata": {},
   "outputs": [],
   "source": [
    "import pandas as pd\n",
    "import numpy as np\n",
    "import seaborn as sns\n",
    "import copy as cp\n",
    "import matplotlib.pyplot as plt\n",
    "\n",
    "from sklearn.model_selection import cross_val_score, cross_val_predict \n",
    "from sklearn.model_selection import train_test_split\n",
    "from sklearn.model_selection import RepeatedStratifiedKFold\n",
    "from imblearn.pipeline import Pipeline\n",
    "from imblearn.over_sampling import SMOTE\n",
    "\n",
    "from sklearn.linear_model import LogisticRegression\n",
    "from sklearn.metrics import roc_auc_score, roc_curve, precision_recall_curve\n",
    "from sklearn.metrics import confusion_matrix, accuracy_score\n",
    "\n",
    "from typing import Tuple"
   ]
  },
  {
   "cell_type": "code",
   "execution_count": 2,
   "id": "a6b2eaad",
   "metadata": {},
   "outputs": [],
   "source": [
    "pd.set_option(\"display.max_columns\", 200)\n",
    "pd.set_option(\"display.max_row\", 160)\n",
    "pd.set_option('max_colwidth', 200)"
   ]
  },
  {
   "cell_type": "code",
   "execution_count": 3,
   "id": "acc59130",
   "metadata": {},
   "outputs": [
    {
     "data": {
      "text/html": [
       "<div>\n",
       "<style scoped>\n",
       "    .dataframe tbody tr th:only-of-type {\n",
       "        vertical-align: middle;\n",
       "    }\n",
       "\n",
       "    .dataframe tbody tr th {\n",
       "        vertical-align: top;\n",
       "    }\n",
       "\n",
       "    .dataframe thead th {\n",
       "        text-align: right;\n",
       "    }\n",
       "</style>\n",
       "<table border=\"1\" class=\"dataframe\">\n",
       "  <thead>\n",
       "    <tr style=\"text-align: right;\">\n",
       "      <th></th>\n",
       "      <th>loan_amnt</th>\n",
       "      <th>annual_inc</th>\n",
       "      <th>dti</th>\n",
       "      <th>fico_range_low</th>\n",
       "      <th>fico_range_high</th>\n",
       "      <th>int_rate</th>\n",
       "      <th>installment</th>\n",
       "      <th>open_acc</th>\n",
       "      <th>total_acc</th>\n",
       "      <th>revol_bal</th>\n",
       "      <th>revol_util</th>\n",
       "      <th>inq_last_6mths</th>\n",
       "      <th>delinq_2yrs</th>\n",
       "      <th>acc_now_delinq</th>\n",
       "      <th>collections_12_mths_ex_med</th>\n",
       "      <th>tot_coll_amt</th>\n",
       "      <th>tot_cur_bal</th>\n",
       "      <th>pub_rec</th>\n",
       "      <th>months_cr_line</th>\n",
       "      <th>term</th>\n",
       "      <th>initial_list_status</th>\n",
       "      <th>sub_grade</th>\n",
       "      <th>emp_length</th>\n",
       "      <th>MORTGAGE</th>\n",
       "      <th>OWN</th>\n",
       "      <th>RENT</th>\n",
       "      <th>car</th>\n",
       "      <th>credit_card</th>\n",
       "      <th>debt_consolidation</th>\n",
       "      <th>home_improvement</th>\n",
       "      <th>house</th>\n",
       "      <th>major_purchase</th>\n",
       "      <th>medical</th>\n",
       "      <th>moving</th>\n",
       "      <th>other</th>\n",
       "      <th>small_business</th>\n",
       "      <th>vacation</th>\n",
       "      <th>Not Verified</th>\n",
       "      <th>Source Verified</th>\n",
       "      <th>Verified</th>\n",
       "      <th>loan_status_bin</th>\n",
       "    </tr>\n",
       "  </thead>\n",
       "  <tbody>\n",
       "    <tr>\n",
       "      <th>0</th>\n",
       "      <td>-1.617892</td>\n",
       "      <td>-0.159444</td>\n",
       "      <td>0.818226</td>\n",
       "      <td>-0.445124</td>\n",
       "      <td>-0.445124</td>\n",
       "      <td>-0.652128</td>\n",
       "      <td>-1.618351</td>\n",
       "      <td>-0.470515</td>\n",
       "      <td>0.027112</td>\n",
       "      <td>0.040613</td>\n",
       "      <td>0.258267</td>\n",
       "      <td>-0.984507</td>\n",
       "      <td>-0.48967</td>\n",
       "      <td>0.0</td>\n",
       "      <td>-0.132686</td>\n",
       "      <td>-0.212846</td>\n",
       "      <td>-0.636643</td>\n",
       "      <td>-0.352472</td>\n",
       "      <td>-0.152326</td>\n",
       "      <td>-0.058926</td>\n",
       "      <td>0.942809</td>\n",
       "      <td>-1.429022</td>\n",
       "      <td>-0.019978</td>\n",
       "      <td>-0.727393</td>\n",
       "      <td>-0.371208</td>\n",
       "      <td>0.936282</td>\n",
       "      <td>-0.208138</td>\n",
       "      <td>-0.321019</td>\n",
       "      <td>-0.732963</td>\n",
       "      <td>-0.257722</td>\n",
       "      <td>-0.11847</td>\n",
       "      <td>-0.198918</td>\n",
       "      <td>-0.225630</td>\n",
       "      <td>-0.208138</td>\n",
       "      <td>1.659291</td>\n",
       "      <td>-0.11847</td>\n",
       "      <td>-0.179284</td>\n",
       "      <td>1.212471</td>\n",
       "      <td>-0.738549</td>\n",
       "      <td>-0.565362</td>\n",
       "      <td>0.0</td>\n",
       "    </tr>\n",
       "    <tr>\n",
       "      <th>1</th>\n",
       "      <td>0.998307</td>\n",
       "      <td>-0.013596</td>\n",
       "      <td>-0.021126</td>\n",
       "      <td>-0.756603</td>\n",
       "      <td>-0.756603</td>\n",
       "      <td>1.344381</td>\n",
       "      <td>1.047605</td>\n",
       "      <td>0.368860</td>\n",
       "      <td>0.119291</td>\n",
       "      <td>-0.434052</td>\n",
       "      <td>-0.718750</td>\n",
       "      <td>-0.106351</td>\n",
       "      <td>-0.48967</td>\n",
       "      <td>0.0</td>\n",
       "      <td>-0.132686</td>\n",
       "      <td>-0.212846</td>\n",
       "      <td>-0.633592</td>\n",
       "      <td>3.160097</td>\n",
       "      <td>0.506178</td>\n",
       "      <td>-0.058926</td>\n",
       "      <td>0.942809</td>\n",
       "      <td>0.699779</td>\n",
       "      <td>-1.669549</td>\n",
       "      <td>-0.727393</td>\n",
       "      <td>-0.371208</td>\n",
       "      <td>0.936282</td>\n",
       "      <td>-0.208138</td>\n",
       "      <td>-0.321019</td>\n",
       "      <td>-0.732963</td>\n",
       "      <td>3.880149</td>\n",
       "      <td>-0.11847</td>\n",
       "      <td>-0.198918</td>\n",
       "      <td>-0.225630</td>\n",
       "      <td>-0.208138</td>\n",
       "      <td>-0.602667</td>\n",
       "      <td>-0.11847</td>\n",
       "      <td>-0.179284</td>\n",
       "      <td>-0.824762</td>\n",
       "      <td>1.354006</td>\n",
       "      <td>-0.565362</td>\n",
       "      <td>1.0</td>\n",
       "    </tr>\n",
       "    <tr>\n",
       "      <th>2</th>\n",
       "      <td>-0.496664</td>\n",
       "      <td>0.245284</td>\n",
       "      <td>0.616782</td>\n",
       "      <td>-0.445124</td>\n",
       "      <td>-0.445124</td>\n",
       "      <td>1.344381</td>\n",
       "      <td>-0.463143</td>\n",
       "      <td>-0.680359</td>\n",
       "      <td>-1.079039</td>\n",
       "      <td>1.434940</td>\n",
       "      <td>1.718384</td>\n",
       "      <td>-0.984507</td>\n",
       "      <td>-0.48967</td>\n",
       "      <td>0.0</td>\n",
       "      <td>-0.132686</td>\n",
       "      <td>-0.212846</td>\n",
       "      <td>-0.416120</td>\n",
       "      <td>-0.352472</td>\n",
       "      <td>2.749971</td>\n",
       "      <td>-0.058926</td>\n",
       "      <td>0.942809</td>\n",
       "      <td>0.699779</td>\n",
       "      <td>-0.294906</td>\n",
       "      <td>-0.727393</td>\n",
       "      <td>2.693908</td>\n",
       "      <td>-1.068055</td>\n",
       "      <td>-0.208138</td>\n",
       "      <td>-0.321019</td>\n",
       "      <td>-0.732963</td>\n",
       "      <td>-0.257722</td>\n",
       "      <td>-0.11847</td>\n",
       "      <td>-0.198918</td>\n",
       "      <td>-0.225630</td>\n",
       "      <td>-0.208138</td>\n",
       "      <td>1.659291</td>\n",
       "      <td>-0.11847</td>\n",
       "      <td>-0.179284</td>\n",
       "      <td>-0.824762</td>\n",
       "      <td>-0.738549</td>\n",
       "      <td>1.768777</td>\n",
       "      <td>0.0</td>\n",
       "    </tr>\n",
       "    <tr>\n",
       "      <th>3</th>\n",
       "      <td>0.998307</td>\n",
       "      <td>0.022866</td>\n",
       "      <td>0.668434</td>\n",
       "      <td>0.177834</td>\n",
       "      <td>0.177834</td>\n",
       "      <td>1.344381</td>\n",
       "      <td>1.047605</td>\n",
       "      <td>1.627924</td>\n",
       "      <td>0.764545</td>\n",
       "      <td>2.552955</td>\n",
       "      <td>0.492606</td>\n",
       "      <td>-0.984507</td>\n",
       "      <td>-0.48967</td>\n",
       "      <td>0.0</td>\n",
       "      <td>-0.132686</td>\n",
       "      <td>-0.212846</td>\n",
       "      <td>1.170891</td>\n",
       "      <td>-0.352472</td>\n",
       "      <td>-0.725469</td>\n",
       "      <td>-0.058926</td>\n",
       "      <td>-1.060660</td>\n",
       "      <td>0.699779</td>\n",
       "      <td>-0.294906</td>\n",
       "      <td>1.374773</td>\n",
       "      <td>-0.371208</td>\n",
       "      <td>-1.068055</td>\n",
       "      <td>-0.208138</td>\n",
       "      <td>-0.321019</td>\n",
       "      <td>-0.732963</td>\n",
       "      <td>-0.257722</td>\n",
       "      <td>-0.11847</td>\n",
       "      <td>-0.198918</td>\n",
       "      <td>4.432026</td>\n",
       "      <td>-0.208138</td>\n",
       "      <td>-0.602667</td>\n",
       "      <td>-0.11847</td>\n",
       "      <td>-0.179284</td>\n",
       "      <td>-0.824762</td>\n",
       "      <td>1.354006</td>\n",
       "      <td>-0.565362</td>\n",
       "      <td>0.0</td>\n",
       "    </tr>\n",
       "    <tr>\n",
       "      <th>4</th>\n",
       "      <td>0.848810</td>\n",
       "      <td>-0.183363</td>\n",
       "      <td>1.081653</td>\n",
       "      <td>-0.445124</td>\n",
       "      <td>-0.445124</td>\n",
       "      <td>1.344381</td>\n",
       "      <td>0.896590</td>\n",
       "      <td>1.627924</td>\n",
       "      <td>2.055053</td>\n",
       "      <td>-0.406225</td>\n",
       "      <td>-0.686303</td>\n",
       "      <td>0.771805</td>\n",
       "      <td>-0.48967</td>\n",
       "      <td>0.0</td>\n",
       "      <td>-0.132686</td>\n",
       "      <td>0.491336</td>\n",
       "      <td>0.123990</td>\n",
       "      <td>-0.352472</td>\n",
       "      <td>-0.152326</td>\n",
       "      <td>-0.058926</td>\n",
       "      <td>0.942809</td>\n",
       "      <td>0.699779</td>\n",
       "      <td>-1.669549</td>\n",
       "      <td>-0.727393</td>\n",
       "      <td>2.693908</td>\n",
       "      <td>-1.068055</td>\n",
       "      <td>-0.208138</td>\n",
       "      <td>-0.321019</td>\n",
       "      <td>1.364326</td>\n",
       "      <td>-0.257722</td>\n",
       "      <td>-0.11847</td>\n",
       "      <td>-0.198918</td>\n",
       "      <td>-0.225630</td>\n",
       "      <td>-0.208138</td>\n",
       "      <td>-0.602667</td>\n",
       "      <td>-0.11847</td>\n",
       "      <td>-0.179284</td>\n",
       "      <td>-0.824762</td>\n",
       "      <td>-0.738549</td>\n",
       "      <td>1.768777</td>\n",
       "      <td>1.0</td>\n",
       "    </tr>\n",
       "  </tbody>\n",
       "</table>\n",
       "</div>"
      ],
      "text/plain": [
       "   loan_amnt  annual_inc       dti  fico_range_low  fico_range_high  int_rate  \\\n",
       "0  -1.617892   -0.159444  0.818226       -0.445124        -0.445124 -0.652128   \n",
       "1   0.998307   -0.013596 -0.021126       -0.756603        -0.756603  1.344381   \n",
       "2  -0.496664    0.245284  0.616782       -0.445124        -0.445124  1.344381   \n",
       "3   0.998307    0.022866  0.668434        0.177834         0.177834  1.344381   \n",
       "4   0.848810   -0.183363  1.081653       -0.445124        -0.445124  1.344381   \n",
       "\n",
       "   installment  open_acc  total_acc  revol_bal  revol_util  inq_last_6mths  \\\n",
       "0    -1.618351 -0.470515   0.027112   0.040613    0.258267       -0.984507   \n",
       "1     1.047605  0.368860   0.119291  -0.434052   -0.718750       -0.106351   \n",
       "2    -0.463143 -0.680359  -1.079039   1.434940    1.718384       -0.984507   \n",
       "3     1.047605  1.627924   0.764545   2.552955    0.492606       -0.984507   \n",
       "4     0.896590  1.627924   2.055053  -0.406225   -0.686303        0.771805   \n",
       "\n",
       "   delinq_2yrs  acc_now_delinq  collections_12_mths_ex_med  tot_coll_amt  \\\n",
       "0     -0.48967             0.0                   -0.132686     -0.212846   \n",
       "1     -0.48967             0.0                   -0.132686     -0.212846   \n",
       "2     -0.48967             0.0                   -0.132686     -0.212846   \n",
       "3     -0.48967             0.0                   -0.132686     -0.212846   \n",
       "4     -0.48967             0.0                   -0.132686      0.491336   \n",
       "\n",
       "   tot_cur_bal   pub_rec  months_cr_line      term  initial_list_status  \\\n",
       "0    -0.636643 -0.352472       -0.152326 -0.058926             0.942809   \n",
       "1    -0.633592  3.160097        0.506178 -0.058926             0.942809   \n",
       "2    -0.416120 -0.352472        2.749971 -0.058926             0.942809   \n",
       "3     1.170891 -0.352472       -0.725469 -0.058926            -1.060660   \n",
       "4     0.123990 -0.352472       -0.152326 -0.058926             0.942809   \n",
       "\n",
       "   sub_grade  emp_length  MORTGAGE       OWN      RENT       car  credit_card  \\\n",
       "0  -1.429022   -0.019978 -0.727393 -0.371208  0.936282 -0.208138    -0.321019   \n",
       "1   0.699779   -1.669549 -0.727393 -0.371208  0.936282 -0.208138    -0.321019   \n",
       "2   0.699779   -0.294906 -0.727393  2.693908 -1.068055 -0.208138    -0.321019   \n",
       "3   0.699779   -0.294906  1.374773 -0.371208 -1.068055 -0.208138    -0.321019   \n",
       "4   0.699779   -1.669549 -0.727393  2.693908 -1.068055 -0.208138    -0.321019   \n",
       "\n",
       "   debt_consolidation  home_improvement    house  major_purchase   medical  \\\n",
       "0           -0.732963         -0.257722 -0.11847       -0.198918 -0.225630   \n",
       "1           -0.732963          3.880149 -0.11847       -0.198918 -0.225630   \n",
       "2           -0.732963         -0.257722 -0.11847       -0.198918 -0.225630   \n",
       "3           -0.732963         -0.257722 -0.11847       -0.198918  4.432026   \n",
       "4            1.364326         -0.257722 -0.11847       -0.198918 -0.225630   \n",
       "\n",
       "     moving     other  small_business  vacation  Not Verified  \\\n",
       "0 -0.208138  1.659291        -0.11847 -0.179284      1.212471   \n",
       "1 -0.208138 -0.602667        -0.11847 -0.179284     -0.824762   \n",
       "2 -0.208138  1.659291        -0.11847 -0.179284     -0.824762   \n",
       "3 -0.208138 -0.602667        -0.11847 -0.179284     -0.824762   \n",
       "4 -0.208138 -0.602667        -0.11847 -0.179284     -0.824762   \n",
       "\n",
       "   Source Verified  Verified  loan_status_bin  \n",
       "0        -0.738549 -0.565362              0.0  \n",
       "1         1.354006 -0.565362              1.0  \n",
       "2        -0.738549  1.768777              0.0  \n",
       "3         1.354006 -0.565362              0.0  \n",
       "4        -0.738549  1.768777              1.0  "
      ]
     },
     "execution_count": 3,
     "metadata": {},
     "output_type": "execute_result"
    }
   ],
   "source": [
    "data = pd.read_csv('../../Data/20x42_D66015.csv')\n",
    "data.head(5)"
   ]
  },
  {
   "cell_type": "code",
   "execution_count": 4,
   "id": "771565fb",
   "metadata": {},
   "outputs": [
    {
     "data": {
      "text/plain": [
       "(289, 41)"
      ]
     },
     "execution_count": 4,
     "metadata": {},
     "output_type": "execute_result"
    }
   ],
   "source": [
    "data.shape"
   ]
  },
  {
   "cell_type": "code",
   "execution_count": 5,
   "id": "74758ddc",
   "metadata": {},
   "outputs": [
    {
     "data": {
      "text/plain": [
       "1.0    255\n",
       "0.0     34\n",
       "Name: loan_status_bin, dtype: int64"
      ]
     },
     "execution_count": 5,
     "metadata": {},
     "output_type": "execute_result"
    }
   ],
   "source": [
    "data.loan_status_bin.value_counts()\n",
    "#0 = Defaulted Loans\n",
    "#1 = Loans Paid In Full"
   ]
  },
  {
   "cell_type": "code",
   "execution_count": 6,
   "id": "b9a9c6be",
   "metadata": {},
   "outputs": [
    {
     "data": {
      "text/plain": [
       "(289, 3)"
      ]
     },
     "execution_count": 6,
     "metadata": {},
     "output_type": "execute_result"
    }
   ],
   "source": [
    "X = data[['loan_amnt', 'annual_inc', 'dti']]\n",
    "X.shape"
   ]
  },
  {
   "cell_type": "code",
   "execution_count": 7,
   "id": "0559962b",
   "metadata": {},
   "outputs": [],
   "source": [
    "y = data['loan_status_bin']"
   ]
  },
  {
   "cell_type": "code",
   "execution_count": 8,
   "id": "9b1bb6de",
   "metadata": {},
   "outputs": [],
   "source": [
    "lr1 = LogisticRegression()"
   ]
  },
  {
   "cell_type": "code",
   "execution_count": 9,
   "id": "e9e711e2",
   "metadata": {},
   "outputs": [],
   "source": [
    "steps = [('model', lr1)]\n",
    "pipeline = Pipeline(steps=steps)"
   ]
  },
  {
   "cell_type": "code",
   "execution_count": 10,
   "id": "fb714eeb",
   "metadata": {},
   "outputs": [
    {
     "name": "stdout",
     "output_type": "stream",
     "text": [
      "[0.87931034 0.87931034 0.87931034 0.87931034 0.89473684]\n",
      "0.8823956442831216\n"
     ]
    }
   ],
   "source": [
    "#Accuracy:\n",
    "\n",
    "cv = RepeatedStratifiedKFold(n_splits=5, n_repeats=1, random_state=1)\n",
    "scores = cross_val_score(pipeline, X, y, scoring='accuracy', cv=cv, n_jobs=-1) \n",
    "print(scores)\n",
    "\n",
    "score = np.mean(scores)\n",
    "print(score)"
   ]
  },
  {
   "cell_type": "code",
   "execution_count": 11,
   "id": "9db484eb",
   "metadata": {},
   "outputs": [
    {
     "data": {
      "text/plain": [
       "array([[  0,  34],\n",
       "       [  0, 255]])"
      ]
     },
     "execution_count": 11,
     "metadata": {},
     "output_type": "execute_result"
    }
   ],
   "source": [
    "#Aggregated Confusion Matrix From RepeatedStratifiedKFold: \n",
    "y_pred = cross_val_predict(pipeline, X, y, cv=cv, n_jobs=-1)\n",
    "conf_mat = confusion_matrix(y, y_pred)\n",
    "conf_mat"
   ]
  },
  {
   "cell_type": "code",
   "execution_count": 12,
   "id": "cd14efda",
   "metadata": {},
   "outputs": [
    {
     "data": {
      "image/png": "[encoded data removed]",
      "text/plain": [
       "<Figure size 864x432 with 1 Axes>"
      ]
     },
     "metadata": {},
     "output_type": "display_data"
    }
   ],
   "source": [
    "sns.set(rc = {'figure.figsize':(12,6)})\n",
    "#cmap = sns.cubehelix_palette(start=2, rot=0, dark=0, light=.95, reverse=True, as_cmap=True)\n",
    "cmap = sns.light_palette('seagreen', as_cmap=True)\n",
    "\n",
    "res = sns.heatmap(conf_mat, annot=True, fmt='d', annot_kws={\"size\":20},\n",
    "#            xticklabels = ['Good = Paid In Full', 'Bad = Default'],\n",
    "#            yticklabels = ['Loan Paid In Full', 'Bad = Default'], \n",
    "            cmap=cmap, cbar=False)\n",
    "\n",
    "res.set_xticklabels(['Loan Default', 'Loan Repaid'], fontsize=15)\n",
    "res.set_yticklabels(['Loan Default', 'Loan Repaid'], fontsize=15)\n",
    "\n",
    "\n",
    "plt.title('Confusion Matrix For Logistic Regression', fontsize=25, pad=15)\n",
    "plt.xlabel('Predicted', fontsize=20)\n",
    "plt.ylabel('Actual', fontsize=20);"
   ]
  },
  {
   "cell_type": "code",
   "execution_count": 13,
   "id": "345a55b6",
   "metadata": {},
   "outputs": [
    {
     "data": {
      "text/plain": [
       "0.8823529411764706"
      ]
     },
     "execution_count": 13,
     "metadata": {},
     "output_type": "execute_result"
    }
   ],
   "source": [
    "accuracy_score(y, y_pred)"
   ]
  },
  {
   "cell_type": "code",
   "execution_count": 14,
   "id": "22662a59",
   "metadata": {},
   "outputs": [
    {
     "name": "stdout",
     "output_type": "stream",
     "text": [
      "255\n",
      "34\n",
      "0\n",
      "0\n",
      "0.8823529411764706\n"
     ]
    }
   ],
   "source": [
    "TN, FP, FN, TP = conf_mat.ravel()\n",
    "print(TP)\n",
    "print(FP)\n",
    "print(FN)\n",
    "print(TN)\n",
    "print((TP + TN) / (TN + TP + FP + FN))"
   ]
  },
  {
   "cell_type": "code",
   "execution_count": null,
   "id": "4dcedec5",
   "metadata": {},
   "outputs": [],
   "source": []
  },
  {
   "cell_type": "code",
   "execution_count": 15,
   "id": "36dec5fa",
   "metadata": {},
   "outputs": [
    {
     "name": "stdout",
     "output_type": "stream",
     "text": [
      "1.0    255\n",
      "0.0     34\n",
      "Name: loan_status_bin, dtype: int64\n",
      "\n",
      "0.8823529411764706\n"
     ]
    }
   ],
   "source": [
    "#Re-examine original pool of accepted LC Loans: \n",
    "\n",
    "print(data.loan_status_bin.value_counts())\n",
    "#0 = Loan Defaulted\n",
    "#1 = Loan Fully Paid\n",
    "\n",
    "good_loan = data.loan_status_bin.value_counts()[1]\n",
    "bad_loan = data.loan_status_bin.value_counts()[0]\n",
    "\n",
    "print()\n",
    "print(good_loan / (good_loan + bad_loan))\n",
    "\n",
    "#Random investment would give us 59% chance of pickkng a good loan"
   ]
  },
  {
   "cell_type": "code",
   "execution_count": 16,
   "id": "9be4be5d",
   "metadata": {},
   "outputs": [
    {
     "data": {
      "text/plain": [
       "0.8823529411764706"
      ]
     },
     "execution_count": 16,
     "metadata": {},
     "output_type": "execute_result"
    }
   ],
   "source": [
    "#Positive Predictive Value (or Precision)\n",
    "#Logistic Model only does 3% better than Null Model or \"random investment\"\n",
    "TP / (TP+FP)"
   ]
  },
  {
   "cell_type": "code",
   "execution_count": null,
   "id": "33d49ed8",
   "metadata": {},
   "outputs": [],
   "source": []
  },
  {
   "cell_type": "code",
   "execution_count": 17,
   "id": "3e6f9d5f",
   "metadata": {},
   "outputs": [],
   "source": [
    "#Obtain predicted probabilities (not predicted classes) from RSKF: \n",
    "y_pred_prob = cross_val_predict(pipeline, X, y, cv=cv, n_jobs=-1, method='predict_proba')"
   ]
  },
  {
   "cell_type": "code",
   "execution_count": 18,
   "id": "9f850d5b",
   "metadata": {},
   "outputs": [
    {
     "data": {
      "text/plain": [
       "array([[0.08384524, 0.91615476],\n",
       "       [0.11274295, 0.88725705],\n",
       "       [0.09890256, 0.90109744],\n",
       "       [0.123039  , 0.876961  ],\n",
       "       [0.12750621, 0.87249379],\n",
       "       [0.12930039, 0.87069961],\n",
       "       [0.12217371, 0.87782629],\n",
       "       [0.12271753, 0.87728247],\n",
       "       [0.12840942, 0.87159058],\n",
       "       [0.16258152, 0.83741848],\n",
       "       [0.1140945 , 0.8859055 ],\n",
       "       [0.12002191, 0.87997809],\n",
       "       [0.07425375, 0.92574625],\n",
       "       [0.10192421, 0.89807579],\n",
       "       [0.12725369, 0.87274631],\n",
       "       [0.13176332, 0.86823668],\n",
       "       [0.10058627, 0.89941373],\n",
       "       [0.11866673, 0.88133327],\n",
       "       [0.12173996, 0.87826004],\n",
       "       [0.11214107, 0.88785893],\n",
       "       [0.11606971, 0.88393029],\n",
       "       [0.16251208, 0.83748792],\n",
       "       [0.13350441, 0.86649559],\n",
       "       [0.09399358, 0.90600642],\n",
       "       [0.12893412, 0.87106588],\n",
       "       [0.13841609, 0.86158391],\n",
       "       [0.11935225, 0.88064775],\n",
       "       [0.11102782, 0.88897218],\n",
       "       [0.11264484, 0.88735516],\n",
       "       [0.11784432, 0.88215568],\n",
       "       [0.09319749, 0.90680251],\n",
       "       [0.08110597, 0.91889403],\n",
       "       [0.19313566, 0.80686434],\n",
       "       [0.11623706, 0.88376294],\n",
       "       [0.10090543, 0.89909457],\n",
       "       [0.12062633, 0.87937367],\n",
       "       [0.12453385, 0.87546615],\n",
       "       [0.12043063, 0.87956937],\n",
       "       [0.12644151, 0.87355849],\n",
       "       [0.11553582, 0.88446418],\n",
       "       [0.12913806, 0.87086194],\n",
       "       [0.1310573 , 0.8689427 ],\n",
       "       [0.1130081 , 0.8869919 ],\n",
       "       [0.15960349, 0.84039651],\n",
       "       [0.12550816, 0.87449184],\n",
       "       [0.11524549, 0.88475451],\n",
       "       [0.14034708, 0.85965292],\n",
       "       [0.11348438, 0.88651562],\n",
       "       [0.1285292 , 0.8714708 ],\n",
       "       [0.11741918, 0.88258082],\n",
       "       [0.12004213, 0.87995787],\n",
       "       [0.11414004, 0.88585996],\n",
       "       [0.16875974, 0.83124026],\n",
       "       [0.13144702, 0.86855298],\n",
       "       [0.11473653, 0.88526347],\n",
       "       [0.13485587, 0.86514413],\n",
       "       [0.12685837, 0.87314163],\n",
       "       [0.11449244, 0.88550756],\n",
       "       [0.11650965, 0.88349035],\n",
       "       [0.11605472, 0.88394528],\n",
       "       [0.09524055, 0.90475945],\n",
       "       [0.11892257, 0.88107743],\n",
       "       [0.12202528, 0.87797472],\n",
       "       [0.1134788 , 0.8865212 ],\n",
       "       [0.11077368, 0.88922632],\n",
       "       [0.09047126, 0.90952874],\n",
       "       [0.1208834 , 0.8791166 ],\n",
       "       [0.13076973, 0.86923027],\n",
       "       [0.10852939, 0.89147061],\n",
       "       [0.14329973, 0.85670027],\n",
       "       [0.10299919, 0.89700081],\n",
       "       [0.14398892, 0.85601108],\n",
       "       [0.1070958 , 0.8929042 ],\n",
       "       [0.12575055, 0.87424945],\n",
       "       [0.12027059, 0.87972941],\n",
       "       [0.13991474, 0.86008526],\n",
       "       [0.09793606, 0.90206394],\n",
       "       [0.12736884, 0.87263116],\n",
       "       [0.10492302, 0.89507698],\n",
       "       [0.08554347, 0.91445653],\n",
       "       [0.10780852, 0.89219148],\n",
       "       [0.12977782, 0.87022218],\n",
       "       [0.09479252, 0.90520748],\n",
       "       [0.09095641, 0.90904359],\n",
       "       [0.07981797, 0.92018203],\n",
       "       [0.0819676 , 0.9180324 ],\n",
       "       [0.11663805, 0.88336195],\n",
       "       [0.12538155, 0.87461845],\n",
       "       [0.12035854, 0.87964146],\n",
       "       [0.11786504, 0.88213496],\n",
       "       [0.09127428, 0.90872572],\n",
       "       [0.11408986, 0.88591014],\n",
       "       [0.10019177, 0.89980823],\n",
       "       [0.12126705, 0.87873295],\n",
       "       [0.12083461, 0.87916539],\n",
       "       [0.11052484, 0.88947516],\n",
       "       [0.12949918, 0.87050082],\n",
       "       [0.12355954, 0.87644046],\n",
       "       [0.09210972, 0.90789028],\n",
       "       [0.13500148, 0.86499852],\n",
       "       [0.1158674 , 0.8841326 ],\n",
       "       [0.13886951, 0.86113049],\n",
       "       [0.11183785, 0.88816215],\n",
       "       [0.11867989, 0.88132011],\n",
       "       [0.11722732, 0.88277268],\n",
       "       [0.10239864, 0.89760136],\n",
       "       [0.12737337, 0.87262663],\n",
       "       [0.11488854, 0.88511146],\n",
       "       [0.10076602, 0.89923398],\n",
       "       [0.09891041, 0.90108959],\n",
       "       [0.1276012 , 0.8723988 ],\n",
       "       [0.13419525, 0.86580475],\n",
       "       [0.10108229, 0.89891771],\n",
       "       [0.12990345, 0.87009655],\n",
       "       [0.10681464, 0.89318536],\n",
       "       [0.16717035, 0.83282965],\n",
       "       [0.09502131, 0.90497869],\n",
       "       [0.13122442, 0.86877558],\n",
       "       [0.1181366 , 0.8818634 ],\n",
       "       [0.11259884, 0.88740116],\n",
       "       [0.14276816, 0.85723184],\n",
       "       [0.13575119, 0.86424881],\n",
       "       [0.13594723, 0.86405277],\n",
       "       [0.10660605, 0.89339395],\n",
       "       [0.11078566, 0.88921434],\n",
       "       [0.11221253, 0.88778747],\n",
       "       [0.0928735 , 0.9071265 ],\n",
       "       [0.13573448, 0.86426552],\n",
       "       [0.12223242, 0.87776758],\n",
       "       [0.11668615, 0.88331385],\n",
       "       [0.1179403 , 0.8820597 ],\n",
       "       [0.10829558, 0.89170442],\n",
       "       [0.11719583, 0.88280417],\n",
       "       [0.07747909, 0.92252091],\n",
       "       [0.12405382, 0.87594618],\n",
       "       [0.14376332, 0.85623668],\n",
       "       [0.12810097, 0.87189903],\n",
       "       [0.13614609, 0.86385391],\n",
       "       [0.10832956, 0.89167044],\n",
       "       [0.11909578, 0.88090422],\n",
       "       [0.10982508, 0.89017492],\n",
       "       [0.12080037, 0.87919963],\n",
       "       [0.11279084, 0.88720916],\n",
       "       [0.12450043, 0.87549957],\n",
       "       [0.13213188, 0.86786812],\n",
       "       [0.10098658, 0.89901342],\n",
       "       [0.14635928, 0.85364072],\n",
       "       [0.10251826, 0.89748174],\n",
       "       [0.13972504, 0.86027496],\n",
       "       [0.10677664, 0.89322336],\n",
       "       [0.11136565, 0.88863435],\n",
       "       [0.0969525 , 0.9030475 ],\n",
       "       [0.12665912, 0.87334088],\n",
       "       [0.09320927, 0.90679073],\n",
       "       [0.12296149, 0.87703851],\n",
       "       [0.1457806 , 0.8542194 ],\n",
       "       [0.11947974, 0.88052026],\n",
       "       [0.09048619, 0.90951381],\n",
       "       [0.10331029, 0.89668971],\n",
       "       [0.10262111, 0.89737889],\n",
       "       [0.12146347, 0.87853653],\n",
       "       [0.10681368, 0.89318632],\n",
       "       [0.10816495, 0.89183505],\n",
       "       [0.11541577, 0.88458423],\n",
       "       [0.11762922, 0.88237078],\n",
       "       [0.13286072, 0.86713928],\n",
       "       [0.11863106, 0.88136894],\n",
       "       [0.1114176 , 0.8885824 ],\n",
       "       [0.11502959, 0.88497041],\n",
       "       [0.12833104, 0.87166896],\n",
       "       [0.12998801, 0.87001199],\n",
       "       [0.1025331 , 0.8974669 ],\n",
       "       [0.12241505, 0.87758495],\n",
       "       [0.15849227, 0.84150773],\n",
       "       [0.09607119, 0.90392881],\n",
       "       [0.09552466, 0.90447534],\n",
       "       [0.14127184, 0.85872816],\n",
       "       [0.12008231, 0.87991769],\n",
       "       [0.14995259, 0.85004741],\n",
       "       [0.09961839, 0.90038161],\n",
       "       [0.12301973, 0.87698027],\n",
       "       [0.11486638, 0.88513362],\n",
       "       [0.13437825, 0.86562175],\n",
       "       [0.11452887, 0.88547113],\n",
       "       [0.11638528, 0.88361472],\n",
       "       [0.10199816, 0.89800184],\n",
       "       [0.1395773 , 0.8604227 ],\n",
       "       [0.08636465, 0.91363535],\n",
       "       [0.09239315, 0.90760685],\n",
       "       [0.11013303, 0.88986697],\n",
       "       [0.11625669, 0.88374331],\n",
       "       [0.14235404, 0.85764596],\n",
       "       [0.11831245, 0.88168755],\n",
       "       [0.12245828, 0.87754172],\n",
       "       [0.1189367 , 0.8810633 ],\n",
       "       [0.11260495, 0.88739505],\n",
       "       [0.10945472, 0.89054528],\n",
       "       [0.11980985, 0.88019015],\n",
       "       [0.13081824, 0.86918176],\n",
       "       [0.09718725, 0.90281275],\n",
       "       [0.12031658, 0.87968342],\n",
       "       [0.11174316, 0.88825684],\n",
       "       [0.12953448, 0.87046552],\n",
       "       [0.13108786, 0.86891214],\n",
       "       [0.11953894, 0.88046106],\n",
       "       [0.12527484, 0.87472516],\n",
       "       [0.12841412, 0.87158588],\n",
       "       [0.12379737, 0.87620263],\n",
       "       [0.11973125, 0.88026875],\n",
       "       [0.14098133, 0.85901867],\n",
       "       [0.12505594, 0.87494406],\n",
       "       [0.1652586 , 0.8347414 ],\n",
       "       [0.11941419, 0.88058581],\n",
       "       [0.08867216, 0.91132784],\n",
       "       [0.13137563, 0.86862437],\n",
       "       [0.11787746, 0.88212254],\n",
       "       [0.11216037, 0.88783963],\n",
       "       [0.12556143, 0.87443857],\n",
       "       [0.11191331, 0.88808669],\n",
       "       [0.12174707, 0.87825293],\n",
       "       [0.16739527, 0.83260473],\n",
       "       [0.11278875, 0.88721125],\n",
       "       [0.09934838, 0.90065162],\n",
       "       [0.11399391, 0.88600609],\n",
       "       [0.08766164, 0.91233836],\n",
       "       [0.1151215 , 0.8848785 ],\n",
       "       [0.11784123, 0.88215877],\n",
       "       [0.12992813, 0.87007187],\n",
       "       [0.12650527, 0.87349473],\n",
       "       [0.11909243, 0.88090757],\n",
       "       [0.11102253, 0.88897747],\n",
       "       [0.1147513 , 0.8852487 ],\n",
       "       [0.11457311, 0.88542689],\n",
       "       [0.12645734, 0.87354266],\n",
       "       [0.15186572, 0.84813428],\n",
       "       [0.11934829, 0.88065171],\n",
       "       [0.07830604, 0.92169396],\n",
       "       [0.11302135, 0.88697865],\n",
       "       [0.1169938 , 0.8830062 ],\n",
       "       [0.12195077, 0.87804923],\n",
       "       [0.11203096, 0.88796904],\n",
       "       [0.11607717, 0.88392283],\n",
       "       [0.02603046, 0.97396954],\n",
       "       [0.14008658, 0.85991342],\n",
       "       [0.12266925, 0.87733075],\n",
       "       [0.13838933, 0.86161067],\n",
       "       [0.08530694, 0.91469306],\n",
       "       [0.13170439, 0.86829561],\n",
       "       [0.11287518, 0.88712482],\n",
       "       [0.06378769, 0.93621231],\n",
       "       [0.12013149, 0.87986851],\n",
       "       [0.13230838, 0.86769162],\n",
       "       [0.12176771, 0.87823229],\n",
       "       [0.11266165, 0.88733835],\n",
       "       [0.12330362, 0.87669638],\n",
       "       [0.12112191, 0.87887809],\n",
       "       [0.11553668, 0.88446332],\n",
       "       [0.13442264, 0.86557736],\n",
       "       [0.12241854, 0.87758146],\n",
       "       [0.10536087, 0.89463913],\n",
       "       [0.1265249 , 0.8734751 ],\n",
       "       [0.13639385, 0.86360615],\n",
       "       [0.11172622, 0.88827378],\n",
       "       [0.10325049, 0.89674951],\n",
       "       [0.12351435, 0.87648565],\n",
       "       [0.11808404, 0.88191596],\n",
       "       [0.12775257, 0.87224743],\n",
       "       [0.08727144, 0.91272856],\n",
       "       [0.10913406, 0.89086594],\n",
       "       [0.16657001, 0.83342999],\n",
       "       [0.11905909, 0.88094091],\n",
       "       [0.1090946 , 0.8909054 ],\n",
       "       [0.10767386, 0.89232614],\n",
       "       [0.13053232, 0.86946768],\n",
       "       [0.11595436, 0.88404564],\n",
       "       [0.1228769 , 0.8771231 ],\n",
       "       [0.07931399, 0.92068601],\n",
       "       [0.10098761, 0.89901239],\n",
       "       [0.11152171, 0.88847829],\n",
       "       [0.10840141, 0.89159859],\n",
       "       [0.0889114 , 0.9110886 ],\n",
       "       [0.08063265, 0.91936735],\n",
       "       [0.12589752, 0.87410248],\n",
       "       [0.12180172, 0.87819828],\n",
       "       [0.11876202, 0.88123798],\n",
       "       [0.12925108, 0.87074892],\n",
       "       [0.16257991, 0.83742009],\n",
       "       [0.0895539 , 0.9104461 ],\n",
       "       [0.12893096, 0.87106904]])"
      ]
     },
     "execution_count": 18,
     "metadata": {},
     "output_type": "execute_result"
    }
   ],
   "source": [
    "y_pred_prob"
   ]
  },
  {
   "cell_type": "code",
   "execution_count": 19,
   "id": "973f2937",
   "metadata": {},
   "outputs": [
    {
     "data": {
      "text/plain": [
       "array([1., 1., 1., 1., 1., 1., 1., 1., 1., 1., 1., 1., 1., 1., 1., 1., 1.,\n",
       "       1., 1., 1., 1., 1., 1., 1., 1., 1., 1., 1., 1., 1., 1., 1., 1., 1.,\n",
       "       1., 1., 1., 1., 1., 1., 1., 1., 1., 1., 1., 1., 1., 1., 1., 1., 1.,\n",
       "       1., 1., 1., 1., 1., 1., 1., 1., 1., 1., 1., 1., 1., 1., 1., 1., 1.,\n",
       "       1., 1., 1., 1., 1., 1., 1., 1., 1., 1., 1., 1., 1., 1., 1., 1., 1.,\n",
       "       1., 1., 1., 1., 1., 1., 1., 1., 1., 1., 1., 1., 1., 1., 1., 1., 1.,\n",
       "       1., 1., 1., 1., 1., 1., 1., 1., 1., 1., 1., 1., 1., 1., 1., 1., 1.,\n",
       "       1., 1., 1., 1., 1., 1., 1., 1., 1., 1., 1., 1., 1., 1., 1., 1., 1.,\n",
       "       1., 1., 1., 1., 1., 1., 1., 1., 1., 1., 1., 1., 1., 1., 1., 1., 1.,\n",
       "       1., 1., 1., 1., 1., 1., 1., 1., 1., 1., 1., 1., 1., 1., 1., 1., 1.,\n",
       "       1., 1., 1., 1., 1., 1., 1., 1., 1., 1., 1., 1., 1., 1., 1., 1., 1.,\n",
       "       1., 1., 1., 1., 1., 1., 1., 1., 1., 1., 1., 1., 1., 1., 1., 1., 1.,\n",
       "       1., 1., 1., 1., 1., 1., 1., 1., 1., 1., 1., 1., 1., 1., 1., 1., 1.,\n",
       "       1., 1., 1., 1., 1., 1., 1., 1., 1., 1., 1., 1., 1., 1., 1., 1., 1.,\n",
       "       1., 1., 1., 1., 1., 1., 1., 1., 1., 1., 1., 1., 1., 1., 1., 1., 1.,\n",
       "       1., 1., 1., 1., 1., 1., 1., 1., 1., 1., 1., 1., 1., 1., 1., 1., 1.,\n",
       "       1., 1., 1., 1., 1., 1., 1., 1., 1., 1., 1., 1., 1., 1., 1., 1., 1.])"
      ]
     },
     "execution_count": 19,
     "metadata": {},
     "output_type": "execute_result"
    }
   ],
   "source": [
    "#Obtaining classification based on desired threshold of 0.8: \n",
    "\n",
    "y_pred_success = (y_pred_prob[:, 1] > 0.8).astype('float')\n",
    "y_pred_success"
   ]
  },
  {
   "cell_type": "code",
   "execution_count": 20,
   "id": "686a5f94",
   "metadata": {},
   "outputs": [
    {
     "data": {
      "text/plain": [
       "array([[  0,  34],\n",
       "       [  0, 255]])"
      ]
     },
     "execution_count": 20,
     "metadata": {},
     "output_type": "execute_result"
    }
   ],
   "source": [
    "conf_mat = confusion_matrix(y, y_pred_success)\n",
    "conf_mat"
   ]
  },
  {
   "cell_type": "code",
   "execution_count": 21,
   "id": "6c050cfb",
   "metadata": {},
   "outputs": [
    {
     "data": {
      "image/png": "[encoded data removed]",
      "text/plain": [
       "<Figure size 864x432 with 1 Axes>"
      ]
     },
     "metadata": {},
     "output_type": "display_data"
    }
   ],
   "source": [
    "sns.set(rc = {'figure.figsize':(12,6)})\n",
    "#cmap = sns.cubehelix_palette(start=2, rot=0, dark=0, light=.95, reverse=True, as_cmap=True)\n",
    "cmap = sns.light_palette('seagreen', as_cmap=True)\n",
    "\n",
    "res = sns.heatmap(conf_mat, annot=True, fmt='d', annot_kws={\"size\":20},\n",
    "#            xticklabels = ['Good = Paid In Full', 'Bad = Default'],\n",
    "#            yticklabels = ['Loan Paid In Full', 'Bad = Default'], \n",
    "            cmap=cmap, cbar=False)\n",
    "\n",
    "res.set_xticklabels(['Loan Default', 'Loan Repaid'], fontsize=15)\n",
    "res.set_yticklabels(['Loan Default', 'Loan Repaid'], fontsize=15)\n",
    "\n",
    "\n",
    "plt.title('Confusion Matrix For Logistic Regression', fontsize=25, pad=15)\n",
    "plt.xlabel('Predicted', fontsize=20)\n",
    "plt.ylabel('Actual', fontsize=20);"
   ]
  },
  {
   "cell_type": "code",
   "execution_count": 24,
   "id": "c5dc62cd",
   "metadata": {},
   "outputs": [
    {
     "data": {
      "text/plain": [
       "0.6920415224913494"
      ]
     },
     "execution_count": 24,
     "metadata": {},
     "output_type": "execute_result"
    }
   ],
   "source": [
    "accuracy_score(y, y_pred_success)"
   ]
  },
  {
   "cell_type": "code",
   "execution_count": 25,
   "id": "25920782",
   "metadata": {},
   "outputs": [
    {
     "name": "stdout",
     "output_type": "stream",
     "text": [
      "197\n",
      "31\n",
      "58\n",
      "3\n",
      "0.6920415224913494\n"
     ]
    }
   ],
   "source": [
    "TN, FP, FN, TP = conf_mat.ravel()\n",
    "print(TP)\n",
    "print(FP)\n",
    "print(FN)\n",
    "print(TN)\n",
    "print((TP + TN) / (TN + TP + FP + FN))"
   ]
  },
  {
   "cell_type": "code",
   "execution_count": 26,
   "id": "67e15484",
   "metadata": {},
   "outputs": [
    {
     "data": {
      "text/plain": [
       "0.8640350877192983"
      ]
     },
     "execution_count": 26,
     "metadata": {},
     "output_type": "execute_result"
    }
   ],
   "source": [
    "#Positive Predictive Value (or Precision)\n",
    "#Logistic Model only does 3% better than Null Model or \"random investment\"\n",
    "TP / (TP+FP)"
   ]
  },
  {
   "cell_type": "code",
   "execution_count": null,
   "id": "a51b3ce5",
   "metadata": {},
   "outputs": [],
   "source": [
    "## Next question. what was characteristic of the 217 loans that defaulted??\n",
    "## Get all loans which you predicted greater than 80% and find out which ones defaulted.\n",
    "## Any pattern?????"
   ]
  },
  {
   "cell_type": "code",
   "execution_count": null,
   "id": "2bb4a848",
   "metadata": {},
   "outputs": [],
   "source": [
    "#Do we drop all observations where the source is not verified? \n",
    "#Do we drop all observations loan amount is greater than half of one's income? "
   ]
  },
  {
   "cell_type": "code",
   "execution_count": null,
   "id": "88205f9a",
   "metadata": {},
   "outputs": [],
   "source": []
  }
 ],
 "metadata": {
  "hide_input": false,
  "kernelspec": {
   "display_name": "Python 3 (ipykernel)",
   "language": "python",
   "name": "python3"
  },
  "language_info": {
   "codemirror_mode": {
    "name": "ipython",
    "version": 3
   },
   "file_extension": ".py",
   "mimetype": "text/x-python",
   "name": "python",
   "nbconvert_exporter": "python",
   "pygments_lexer": "ipython3",
   "version": "3.8.8"
  },
  "varInspector": {
   "cols": {
    "lenName": 16,
    "lenType": 16,
    "lenVar": 40
   },
   "kernels_config": {
    "python": {
     "delete_cmd_postfix": "",
     "delete_cmd_prefix": "del ",
     "library": "var_list.py",
     "varRefreshCmd": "print(var_dic_list())"
    },
    "r": {
     "delete_cmd_postfix": ") ",
     "delete_cmd_prefix": "rm(",
     "library": "var_list.r",
     "varRefreshCmd": "cat(var_dic_list()) "
    }
   },
   "types_to_exclude": [
    "module",
    "function",
    "builtin_function_or_method",
    "instance",
    "_Feature"
   ],
   "window_display": false
  }
 },
 "nbformat": 4,
 "nbformat_minor": 5
}
