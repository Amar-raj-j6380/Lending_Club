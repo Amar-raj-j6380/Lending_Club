{
 "cells": [
  {
   "cell_type": "code",
   "execution_count": 1,
   "id": "6f4648b5",
   "metadata": {},
   "outputs": [],
   "source": [
    "import pandas as pd\n",
    "import numpy as np\n",
    "import seaborn as sns\n",
    "import copy as cp\n",
    "import matplotlib.pyplot as plt\n",
    "\n",
    "from sklearn.model_selection import cross_val_score, cross_val_predict \n",
    "from sklearn.model_selection import train_test_split\n",
    "from sklearn.model_selection import RepeatedStratifiedKFold\n",
    "from imblearn.pipeline import Pipeline\n",
    "from imblearn.over_sampling import SMOTE\n",
    "\n",
    "from sklearn.linear_model import LogisticRegression\n",
    "from sklearn.metrics import roc_auc_score, roc_curve, precision_recall_curve\n",
    "from sklearn.metrics import confusion_matrix, accuracy_score\n",
    "\n",
    "from typing import Tuple"
   ]
  },
  {
   "cell_type": "code",
   "execution_count": 2,
   "id": "a6b2eaad",
   "metadata": {},
   "outputs": [],
   "source": [
    "pd.set_option(\"display.max_columns\", 200)\n",
    "pd.set_option(\"display.max_row\", 160)\n",
    "pd.set_option('max_colwidth', 200)"
   ]
  },
  {
   "cell_type": "code",
   "execution_count": 3,
   "id": "acc59130",
   "metadata": {},
   "outputs": [
    {
     "data": {
      "text/html": [
       "<div>\n",
       "<style scoped>\n",
       "    .dataframe tbody tr th:only-of-type {\n",
       "        vertical-align: middle;\n",
       "    }\n",
       "\n",
       "    .dataframe tbody tr th {\n",
       "        vertical-align: top;\n",
       "    }\n",
       "\n",
       "    .dataframe thead th {\n",
       "        text-align: right;\n",
       "    }\n",
       "</style>\n",
       "<table border=\"1\" class=\"dataframe\">\n",
       "  <thead>\n",
       "    <tr style=\"text-align: right;\">\n",
       "      <th></th>\n",
       "      <th>loan_amnt</th>\n",
       "      <th>annual_inc</th>\n",
       "      <th>dti</th>\n",
       "      <th>fico_range_low</th>\n",
       "      <th>fico_range_high</th>\n",
       "      <th>int_rate</th>\n",
       "      <th>installment</th>\n",
       "      <th>open_acc</th>\n",
       "      <th>total_acc</th>\n",
       "      <th>revol_bal</th>\n",
       "      <th>inq_last_6mths</th>\n",
       "      <th>delinq_2yrs</th>\n",
       "      <th>mths_since_last_delinq</th>\n",
       "      <th>acc_now_delinq</th>\n",
       "      <th>collections_12_mths_ex_med</th>\n",
       "      <th>pub_rec</th>\n",
       "      <th>months_cr_line</th>\n",
       "      <th>term</th>\n",
       "      <th>initial_list_status</th>\n",
       "      <th>grade</th>\n",
       "      <th>sub_grade</th>\n",
       "      <th>emp_length</th>\n",
       "      <th>ANY</th>\n",
       "      <th>MORTGAGE</th>\n",
       "      <th>OWN</th>\n",
       "      <th>RENT</th>\n",
       "      <th>car</th>\n",
       "      <th>credit_card</th>\n",
       "      <th>debt_consolidation</th>\n",
       "      <th>home_improvement</th>\n",
       "      <th>house</th>\n",
       "      <th>major_purchase</th>\n",
       "      <th>medical</th>\n",
       "      <th>moving</th>\n",
       "      <th>other</th>\n",
       "      <th>renewable_energy</th>\n",
       "      <th>small_business</th>\n",
       "      <th>vacation</th>\n",
       "      <th>wedding</th>\n",
       "      <th>Not Verified</th>\n",
       "      <th>Source Verified</th>\n",
       "      <th>Verified</th>\n",
       "      <th>loan_status_bin</th>\n",
       "    </tr>\n",
       "  </thead>\n",
       "  <tbody>\n",
       "    <tr>\n",
       "      <th>0</th>\n",
       "      <td>-0.597005</td>\n",
       "      <td>-0.097520</td>\n",
       "      <td>-0.869944</td>\n",
       "      <td>1.946038</td>\n",
       "      <td>1.946038</td>\n",
       "      <td>-0.571645</td>\n",
       "      <td>-0.589946</td>\n",
       "      <td>-0.334080</td>\n",
       "      <td>-0.842890</td>\n",
       "      <td>-0.549725</td>\n",
       "      <td>1.177699</td>\n",
       "      <td>0.409134</td>\n",
       "      <td>-0.313568</td>\n",
       "      <td>-0.074953</td>\n",
       "      <td>-0.152766</td>\n",
       "      <td>-0.432987</td>\n",
       "      <td>-0.880806</td>\n",
       "      <td>-0.250889</td>\n",
       "      <td>1.418967</td>\n",
       "      <td>-0.028990</td>\n",
       "      <td>0.543110</td>\n",
       "      <td>-0.534807</td>\n",
       "      <td>-0.038626</td>\n",
       "      <td>-0.799496</td>\n",
       "      <td>-0.346627</td>\n",
       "      <td>0.997396</td>\n",
       "      <td>-0.130558</td>\n",
       "      <td>-0.228289</td>\n",
       "      <td>-0.729749</td>\n",
       "      <td>3.355633</td>\n",
       "      <td>-0.155008</td>\n",
       "      <td>-0.195661</td>\n",
       "      <td>-0.227385</td>\n",
       "      <td>-0.225567</td>\n",
       "      <td>-0.570326</td>\n",
       "      <td>-0.067003</td>\n",
       "      <td>-0.244110</td>\n",
       "      <td>-0.182995</td>\n",
       "      <td>-0.090892</td>\n",
       "      <td>-0.612791</td>\n",
       "      <td>1.236224</td>\n",
       "      <td>-0.704146</td>\n",
       "      <td>0.0</td>\n",
       "    </tr>\n",
       "    <tr>\n",
       "      <th>1</th>\n",
       "      <td>-0.892505</td>\n",
       "      <td>-0.265322</td>\n",
       "      <td>0.853681</td>\n",
       "      <td>0.122264</td>\n",
       "      <td>0.122264</td>\n",
       "      <td>0.615111</td>\n",
       "      <td>-0.825547</td>\n",
       "      <td>-0.732748</td>\n",
       "      <td>-0.928010</td>\n",
       "      <td>-0.442639</td>\n",
       "      <td>0.416292</td>\n",
       "      <td>-0.471800</td>\n",
       "      <td>-0.900815</td>\n",
       "      <td>-0.074953</td>\n",
       "      <td>-0.152766</td>\n",
       "      <td>-0.432987</td>\n",
       "      <td>0.309694</td>\n",
       "      <td>-0.250889</td>\n",
       "      <td>1.418967</td>\n",
       "      <td>1.336607</td>\n",
       "      <td>1.496839</td>\n",
       "      <td>-1.602434</td>\n",
       "      <td>-0.038626</td>\n",
       "      <td>1.250788</td>\n",
       "      <td>-0.346627</td>\n",
       "      <td>-1.002610</td>\n",
       "      <td>-0.130558</td>\n",
       "      <td>-0.228289</td>\n",
       "      <td>1.370333</td>\n",
       "      <td>-0.298006</td>\n",
       "      <td>-0.155008</td>\n",
       "      <td>-0.195661</td>\n",
       "      <td>-0.227385</td>\n",
       "      <td>-0.225567</td>\n",
       "      <td>-0.570326</td>\n",
       "      <td>-0.067003</td>\n",
       "      <td>-0.244110</td>\n",
       "      <td>-0.182995</td>\n",
       "      <td>-0.090892</td>\n",
       "      <td>-0.612791</td>\n",
       "      <td>1.236224</td>\n",
       "      <td>-0.704146</td>\n",
       "      <td>0.0</td>\n",
       "    </tr>\n",
       "    <tr>\n",
       "      <th>2</th>\n",
       "      <td>0.324955</td>\n",
       "      <td>-0.082928</td>\n",
       "      <td>1.571316</td>\n",
       "      <td>-0.659353</td>\n",
       "      <td>-0.659353</td>\n",
       "      <td>-0.571645</td>\n",
       "      <td>0.324152</td>\n",
       "      <td>0.263923</td>\n",
       "      <td>0.944622</td>\n",
       "      <td>-0.098814</td>\n",
       "      <td>2.700513</td>\n",
       "      <td>3.051935</td>\n",
       "      <td>-0.900815</td>\n",
       "      <td>-0.074953</td>\n",
       "      <td>-0.152766</td>\n",
       "      <td>0.897184</td>\n",
       "      <td>-0.358444</td>\n",
       "      <td>-0.250889</td>\n",
       "      <td>1.418967</td>\n",
       "      <td>-0.028990</td>\n",
       "      <td>0.543110</td>\n",
       "      <td>-0.534807</td>\n",
       "      <td>-0.038626</td>\n",
       "      <td>1.250788</td>\n",
       "      <td>-0.346627</td>\n",
       "      <td>-1.002610</td>\n",
       "      <td>-0.130558</td>\n",
       "      <td>-0.228289</td>\n",
       "      <td>-0.729749</td>\n",
       "      <td>-0.298006</td>\n",
       "      <td>-0.155008</td>\n",
       "      <td>-0.195661</td>\n",
       "      <td>-0.227385</td>\n",
       "      <td>-0.225567</td>\n",
       "      <td>-0.570326</td>\n",
       "      <td>-0.067003</td>\n",
       "      <td>4.096518</td>\n",
       "      <td>-0.182995</td>\n",
       "      <td>-0.090892</td>\n",
       "      <td>-0.612791</td>\n",
       "      <td>1.236224</td>\n",
       "      <td>-0.704146</td>\n",
       "      <td>1.0</td>\n",
       "    </tr>\n",
       "    <tr>\n",
       "      <th>3</th>\n",
       "      <td>-0.466985</td>\n",
       "      <td>-0.236139</td>\n",
       "      <td>1.059649</td>\n",
       "      <td>-0.919892</td>\n",
       "      <td>-0.919892</td>\n",
       "      <td>1.397682</td>\n",
       "      <td>-0.338522</td>\n",
       "      <td>-0.334080</td>\n",
       "      <td>-0.417292</td>\n",
       "      <td>-0.416200</td>\n",
       "      <td>2.700513</td>\n",
       "      <td>0.409134</td>\n",
       "      <td>0.318851</td>\n",
       "      <td>-0.074953</td>\n",
       "      <td>-0.152766</td>\n",
       "      <td>0.897184</td>\n",
       "      <td>-0.564959</td>\n",
       "      <td>-0.250889</td>\n",
       "      <td>1.418967</td>\n",
       "      <td>1.336607</td>\n",
       "      <td>2.132658</td>\n",
       "      <td>-0.000994</td>\n",
       "      <td>-0.038626</td>\n",
       "      <td>1.250788</td>\n",
       "      <td>-0.346627</td>\n",
       "      <td>-1.002610</td>\n",
       "      <td>-0.130558</td>\n",
       "      <td>-0.228289</td>\n",
       "      <td>1.370333</td>\n",
       "      <td>-0.298006</td>\n",
       "      <td>-0.155008</td>\n",
       "      <td>-0.195661</td>\n",
       "      <td>-0.227385</td>\n",
       "      <td>-0.225567</td>\n",
       "      <td>-0.570326</td>\n",
       "      <td>-0.067003</td>\n",
       "      <td>-0.244110</td>\n",
       "      <td>-0.182995</td>\n",
       "      <td>-0.090892</td>\n",
       "      <td>-0.612791</td>\n",
       "      <td>1.236224</td>\n",
       "      <td>-0.704146</td>\n",
       "      <td>1.0</td>\n",
       "    </tr>\n",
       "    <tr>\n",
       "      <th>4</th>\n",
       "      <td>0.395875</td>\n",
       "      <td>-0.221547</td>\n",
       "      <td>1.465080</td>\n",
       "      <td>-0.138275</td>\n",
       "      <td>-0.138275</td>\n",
       "      <td>-0.993029</td>\n",
       "      <td>0.357527</td>\n",
       "      <td>0.263923</td>\n",
       "      <td>-0.076814</td>\n",
       "      <td>0.124070</td>\n",
       "      <td>-0.345114</td>\n",
       "      <td>-0.471800</td>\n",
       "      <td>-0.900815</td>\n",
       "      <td>-0.074953</td>\n",
       "      <td>-0.152766</td>\n",
       "      <td>0.897184</td>\n",
       "      <td>1.160051</td>\n",
       "      <td>-0.250889</td>\n",
       "      <td>1.418967</td>\n",
       "      <td>-0.028990</td>\n",
       "      <td>0.225201</td>\n",
       "      <td>1.066632</td>\n",
       "      <td>-0.038626</td>\n",
       "      <td>1.250788</td>\n",
       "      <td>-0.346627</td>\n",
       "      <td>-1.002610</td>\n",
       "      <td>-0.130558</td>\n",
       "      <td>-0.228289</td>\n",
       "      <td>-0.729749</td>\n",
       "      <td>3.355633</td>\n",
       "      <td>-0.155008</td>\n",
       "      <td>-0.195661</td>\n",
       "      <td>-0.227385</td>\n",
       "      <td>-0.225567</td>\n",
       "      <td>-0.570326</td>\n",
       "      <td>-0.067003</td>\n",
       "      <td>-0.244110</td>\n",
       "      <td>-0.182995</td>\n",
       "      <td>-0.090892</td>\n",
       "      <td>-0.612791</td>\n",
       "      <td>-0.808915</td>\n",
       "      <td>1.420160</td>\n",
       "      <td>1.0</td>\n",
       "    </tr>\n",
       "  </tbody>\n",
       "</table>\n",
       "</div>"
      ],
      "text/plain": [
       "   loan_amnt  annual_inc       dti  fico_range_low  fico_range_high  int_rate  \\\n",
       "0  -0.597005   -0.097520 -0.869944        1.946038         1.946038 -0.571645   \n",
       "1  -0.892505   -0.265322  0.853681        0.122264         0.122264  0.615111   \n",
       "2   0.324955   -0.082928  1.571316       -0.659353        -0.659353 -0.571645   \n",
       "3  -0.466985   -0.236139  1.059649       -0.919892        -0.919892  1.397682   \n",
       "4   0.395875   -0.221547  1.465080       -0.138275        -0.138275 -0.993029   \n",
       "\n",
       "   installment  open_acc  total_acc  revol_bal  inq_last_6mths  delinq_2yrs  \\\n",
       "0    -0.589946 -0.334080  -0.842890  -0.549725        1.177699     0.409134   \n",
       "1    -0.825547 -0.732748  -0.928010  -0.442639        0.416292    -0.471800   \n",
       "2     0.324152  0.263923   0.944622  -0.098814        2.700513     3.051935   \n",
       "3    -0.338522 -0.334080  -0.417292  -0.416200        2.700513     0.409134   \n",
       "4     0.357527  0.263923  -0.076814   0.124070       -0.345114    -0.471800   \n",
       "\n",
       "   mths_since_last_delinq  acc_now_delinq  collections_12_mths_ex_med  \\\n",
       "0               -0.313568       -0.074953                   -0.152766   \n",
       "1               -0.900815       -0.074953                   -0.152766   \n",
       "2               -0.900815       -0.074953                   -0.152766   \n",
       "3                0.318851       -0.074953                   -0.152766   \n",
       "4               -0.900815       -0.074953                   -0.152766   \n",
       "\n",
       "    pub_rec  months_cr_line      term  initial_list_status     grade  \\\n",
       "0 -0.432987       -0.880806 -0.250889             1.418967 -0.028990   \n",
       "1 -0.432987        0.309694 -0.250889             1.418967  1.336607   \n",
       "2  0.897184       -0.358444 -0.250889             1.418967 -0.028990   \n",
       "3  0.897184       -0.564959 -0.250889             1.418967  1.336607   \n",
       "4  0.897184        1.160051 -0.250889             1.418967 -0.028990   \n",
       "\n",
       "   sub_grade  emp_length       ANY  MORTGAGE       OWN      RENT       car  \\\n",
       "0   0.543110   -0.534807 -0.038626 -0.799496 -0.346627  0.997396 -0.130558   \n",
       "1   1.496839   -1.602434 -0.038626  1.250788 -0.346627 -1.002610 -0.130558   \n",
       "2   0.543110   -0.534807 -0.038626  1.250788 -0.346627 -1.002610 -0.130558   \n",
       "3   2.132658   -0.000994 -0.038626  1.250788 -0.346627 -1.002610 -0.130558   \n",
       "4   0.225201    1.066632 -0.038626  1.250788 -0.346627 -1.002610 -0.130558   \n",
       "\n",
       "   credit_card  debt_consolidation  home_improvement     house  \\\n",
       "0    -0.228289           -0.729749          3.355633 -0.155008   \n",
       "1    -0.228289            1.370333         -0.298006 -0.155008   \n",
       "2    -0.228289           -0.729749         -0.298006 -0.155008   \n",
       "3    -0.228289            1.370333         -0.298006 -0.155008   \n",
       "4    -0.228289           -0.729749          3.355633 -0.155008   \n",
       "\n",
       "   major_purchase   medical    moving     other  renewable_energy  \\\n",
       "0       -0.195661 -0.227385 -0.225567 -0.570326         -0.067003   \n",
       "1       -0.195661 -0.227385 -0.225567 -0.570326         -0.067003   \n",
       "2       -0.195661 -0.227385 -0.225567 -0.570326         -0.067003   \n",
       "3       -0.195661 -0.227385 -0.225567 -0.570326         -0.067003   \n",
       "4       -0.195661 -0.227385 -0.225567 -0.570326         -0.067003   \n",
       "\n",
       "   small_business  vacation   wedding  Not Verified  Source Verified  \\\n",
       "0       -0.244110 -0.182995 -0.090892     -0.612791         1.236224   \n",
       "1       -0.244110 -0.182995 -0.090892     -0.612791         1.236224   \n",
       "2        4.096518 -0.182995 -0.090892     -0.612791         1.236224   \n",
       "3       -0.244110 -0.182995 -0.090892     -0.612791         1.236224   \n",
       "4       -0.244110 -0.182995 -0.090892     -0.612791        -0.808915   \n",
       "\n",
       "   Verified  loan_status_bin  \n",
       "0 -0.704146              0.0  \n",
       "1 -0.704146              0.0  \n",
       "2 -0.704146              1.0  \n",
       "3 -0.704146              1.0  \n",
       "4  1.420160              1.0  "
      ]
     },
     "execution_count": 3,
     "metadata": {},
     "output_type": "execute_result"
    }
   ],
   "source": [
    "data = pd.read_csv('../../Data/20x43_DEFG96017_5.csv')\n",
    "data.head(5)"
   ]
  },
  {
   "cell_type": "code",
   "execution_count": 4,
   "id": "771565fb",
   "metadata": {},
   "outputs": [
    {
     "data": {
      "text/plain": [
       "(2685, 43)"
      ]
     },
     "execution_count": 4,
     "metadata": {},
     "output_type": "execute_result"
    }
   ],
   "source": [
    "data.shape"
   ]
  },
  {
   "cell_type": "code",
   "execution_count": 5,
   "id": "74758ddc",
   "metadata": {},
   "outputs": [
    {
     "data": {
      "text/plain": [
       "1.0    2084\n",
       "0.0     601\n",
       "Name: loan_status_bin, dtype: int64"
      ]
     },
     "execution_count": 5,
     "metadata": {},
     "output_type": "execute_result"
    }
   ],
   "source": [
    "data.loan_status_bin.value_counts()\n",
    "#0 = Defaulted Loans\n",
    "#1 = Loans Paid In Full"
   ]
  },
  {
   "cell_type": "code",
   "execution_count": 6,
   "id": "b9a9c6be",
   "metadata": {},
   "outputs": [
    {
     "data": {
      "text/plain": [
       "(2685, 42)"
      ]
     },
     "execution_count": 6,
     "metadata": {},
     "output_type": "execute_result"
    }
   ],
   "source": [
    "X = data.drop('loan_status_bin', axis=1)\n",
    "X.shape"
   ]
  },
  {
   "cell_type": "code",
   "execution_count": 7,
   "id": "0559962b",
   "metadata": {},
   "outputs": [],
   "source": [
    "y = data['loan_status_bin']"
   ]
  },
  {
   "cell_type": "code",
   "execution_count": 8,
   "id": "9b1bb6de",
   "metadata": {},
   "outputs": [],
   "source": [
    "lr1 = LogisticRegression()"
   ]
  },
  {
   "cell_type": "code",
   "execution_count": 9,
   "id": "e9e711e2",
   "metadata": {},
   "outputs": [],
   "source": [
    "steps = [('model', lr1)]\n",
    "pipeline = Pipeline(steps=steps)"
   ]
  },
  {
   "cell_type": "code",
   "execution_count": 10,
   "id": "fb714eeb",
   "metadata": {},
   "outputs": [
    {
     "name": "stdout",
     "output_type": "stream",
     "text": [
      "[0.78212291 0.77653631 0.77653631 0.76722533 0.78026071]\n",
      "0.776536312849162\n"
     ]
    }
   ],
   "source": [
    "#Accuracy:\n",
    "\n",
    "cv = RepeatedStratifiedKFold(n_splits=5, n_repeats=1, random_state=1)\n",
    "scores = cross_val_score(pipeline, X, y, scoring='accuracy', cv=cv, n_jobs=-1) \n",
    "print(scores)\n",
    "\n",
    "score = np.mean(scores)\n",
    "print(score)"
   ]
  },
  {
   "cell_type": "code",
   "execution_count": 11,
   "id": "9db484eb",
   "metadata": {},
   "outputs": [
    {
     "data": {
      "text/plain": [
       "array([[  24,  577],\n",
       "       [  23, 2061]])"
      ]
     },
     "execution_count": 11,
     "metadata": {},
     "output_type": "execute_result"
    }
   ],
   "source": [
    "#Aggregated Confusion Matrix From RepeatedStratifiedKFold: \n",
    "y_pred = cross_val_predict(pipeline, X, y, cv=cv, n_jobs=-1)\n",
    "conf_mat = confusion_matrix(y, y_pred)\n",
    "conf_mat"
   ]
  },
  {
   "cell_type": "code",
   "execution_count": 12,
   "id": "cd14efda",
   "metadata": {},
   "outputs": [
    {
     "data": {
      "image/png": "[encoded data removed]",
      "text/plain": [
       "<Figure size 864x432 with 1 Axes>"
      ]
     },
     "metadata": {},
     "output_type": "display_data"
    }
   ],
   "source": [
    "sns.set(rc = {'figure.figsize':(12,6)})\n",
    "#cmap = sns.cubehelix_palette(start=2, rot=0, dark=0, light=.95, reverse=True, as_cmap=True)\n",
    "cmap = sns.light_palette('seagreen', as_cmap=True)\n",
    "\n",
    "res = sns.heatmap(conf_mat, annot=True, fmt='d', annot_kws={\"size\":20},\n",
    "#            xticklabels = ['Good = Paid In Full', 'Bad = Default'],\n",
    "#            yticklabels = ['Loan Paid In Full', 'Bad = Default'], \n",
    "            cmap=cmap, cbar=False)\n",
    "\n",
    "res.set_xticklabels(['Loan Default', 'Loan Repaid'], fontsize=15)\n",
    "res.set_yticklabels(['Loan Default', 'Loan Repaid'], fontsize=15)\n",
    "\n",
    "\n",
    "plt.title('Confusion Matrix For Logistic Regression', fontsize=25, pad=15)\n",
    "plt.xlabel('Predicted', fontsize=20)\n",
    "plt.ylabel('Actual', fontsize=20);"
   ]
  },
  {
   "cell_type": "code",
   "execution_count": 13,
   "id": "345a55b6",
   "metadata": {},
   "outputs": [
    {
     "data": {
      "text/plain": [
       "0.776536312849162"
      ]
     },
     "execution_count": 13,
     "metadata": {},
     "output_type": "execute_result"
    }
   ],
   "source": [
    "accuracy_score(y, y_pred)"
   ]
  },
  {
   "cell_type": "code",
   "execution_count": 14,
   "id": "22662a59",
   "metadata": {},
   "outputs": [
    {
     "name": "stdout",
     "output_type": "stream",
     "text": [
      "2061\n",
      "577\n",
      "23\n",
      "24\n",
      "0.776536312849162\n"
     ]
    }
   ],
   "source": [
    "TN, FP, FN, TP = conf_mat.ravel()\n",
    "print(TP)\n",
    "print(FP)\n",
    "print(FN)\n",
    "print(TN)\n",
    "print((TP + TN) / (TN + TP + FP + FN))"
   ]
  },
  {
   "cell_type": "code",
   "execution_count": null,
   "id": "4dcedec5",
   "metadata": {},
   "outputs": [],
   "source": []
  },
  {
   "cell_type": "code",
   "execution_count": 15,
   "id": "36dec5fa",
   "metadata": {},
   "outputs": [
    {
     "name": "stdout",
     "output_type": "stream",
     "text": [
      "1.0    2084\n",
      "0.0     601\n",
      "Name: loan_status_bin, dtype: int64\n",
      "\n",
      "0.7761638733705772\n"
     ]
    }
   ],
   "source": [
    "#Re-examine original pool of accepted LC Loans: \n",
    "\n",
    "print(data.loan_status_bin.value_counts())\n",
    "#0 = Loan Defaulted\n",
    "#1 = Loan Fully Paid\n",
    "\n",
    "good_loan = data.loan_status_bin.value_counts()[1]\n",
    "bad_loan = data.loan_status_bin.value_counts()[0]\n",
    "\n",
    "print()\n",
    "print(good_loan / (good_loan + bad_loan))\n",
    "\n",
    "#Random investment would give us 59% chance of pickkng a good loan"
   ]
  },
  {
   "cell_type": "code",
   "execution_count": 16,
   "id": "9be4be5d",
   "metadata": {},
   "outputs": [
    {
     "data": {
      "text/plain": [
       "0.7812736921910538"
      ]
     },
     "execution_count": 16,
     "metadata": {},
     "output_type": "execute_result"
    }
   ],
   "source": [
    "#Positive Predictive Value (or Precision)\n",
    "#Logistic Model only does 1% better than Null Model or \"random investment\"\n",
    "TP / (TP+FP)"
   ]
  },
  {
   "cell_type": "code",
   "execution_count": null,
   "id": "747fa766",
   "metadata": {},
   "outputs": [],
   "source": []
  },
  {
   "cell_type": "code",
   "execution_count": 17,
   "id": "3188e143",
   "metadata": {},
   "outputs": [],
   "source": [
    "#What if we \"balance\" the weight class to avoid \"imbalanced\" nature...No Change! "
   ]
  },
  {
   "cell_type": "code",
   "execution_count": 17,
   "id": "0d86ed92",
   "metadata": {},
   "outputs": [],
   "source": [
    "lr_balanced = LogisticRegression(class_weight='balanced')"
   ]
  },
  {
   "cell_type": "code",
   "execution_count": 18,
   "id": "1e582bb8",
   "metadata": {},
   "outputs": [],
   "source": [
    "steps_balanced = [('model', lr_balanced)]\n",
    "pipeline_balanced = Pipeline(steps=steps)"
   ]
  },
  {
   "cell_type": "code",
   "execution_count": 19,
   "id": "1f2cdc5a",
   "metadata": {},
   "outputs": [
    {
     "name": "stdout",
     "output_type": "stream",
     "text": [
      "[0.78212291 0.77653631 0.77653631 0.76722533 0.78026071]\n",
      "0.776536312849162\n"
     ]
    }
   ],
   "source": [
    "#Accuracy:\n",
    "\n",
    "cv = RepeatedStratifiedKFold(n_splits=5, n_repeats=1, random_state=1)\n",
    "scores = cross_val_score(pipeline_balanced, X, y, scoring='accuracy', cv=cv, n_jobs=-1) \n",
    "print(scores)\n",
    "\n",
    "score = np.mean(scores)\n",
    "print(score)"
   ]
  },
  {
   "cell_type": "code",
   "execution_count": 20,
   "id": "b5943c47",
   "metadata": {},
   "outputs": [
    {
     "data": {
      "text/plain": [
       "array([[  24,  577],\n",
       "       [  23, 2061]])"
      ]
     },
     "execution_count": 20,
     "metadata": {},
     "output_type": "execute_result"
    }
   ],
   "source": [
    "#Aggregated Confusion Matrix From RepeatedStratifiedKFold: \n",
    "y_pred_balanced = cross_val_predict(pipeline_balanced, X, y, cv=cv, n_jobs=-1)\n",
    "conf_mat_balanced = confusion_matrix(y, y_pred_balanced)\n",
    "conf_mat_balanced"
   ]
  },
  {
   "cell_type": "code",
   "execution_count": null,
   "id": "33d49ed8",
   "metadata": {},
   "outputs": [],
   "source": []
  },
  {
   "cell_type": "code",
   "execution_count": null,
   "id": "c2672371",
   "metadata": {},
   "outputs": [],
   "source": []
  },
  {
   "cell_type": "code",
   "execution_count": 21,
   "id": "3e6f9d5f",
   "metadata": {},
   "outputs": [],
   "source": [
    "#Obtain predicted probabilities (not predicted classes) from RSKF: \n",
    "y_pred_prob = cross_val_predict(pipeline, X, y, cv=cv, n_jobs=-1, method='predict_proba')"
   ]
  },
  {
   "cell_type": "code",
   "execution_count": 22,
   "id": "9f850d5b",
   "metadata": {},
   "outputs": [
    {
     "data": {
      "text/plain": [
       "array([[0.32272164, 0.67727836],\n",
       "       [0.27934528, 0.72065472],\n",
       "       [0.31804263, 0.68195737],\n",
       "       ...,\n",
       "       [0.17534427, 0.82465573],\n",
       "       [0.28013996, 0.71986004],\n",
       "       [0.18706295, 0.81293705]])"
      ]
     },
     "execution_count": 22,
     "metadata": {},
     "output_type": "execute_result"
    }
   ],
   "source": [
    "y_pred_prob"
   ]
  },
  {
   "cell_type": "code",
   "execution_count": 113,
   "id": "973f2937",
   "metadata": {},
   "outputs": [
    {
     "data": {
      "text/plain": [
       "array([0., 0., 0., ..., 0., 0., 0.])"
      ]
     },
     "execution_count": 113,
     "metadata": {},
     "output_type": "execute_result"
    }
   ],
   "source": [
    "#Obtaining classification based on desired threshold of 0.8: \n",
    "\n",
    "y_pred_success = (y_pred_prob[:, 1] > 0.92).astype('float')\n",
    "y_pred_success"
   ]
  },
  {
   "cell_type": "code",
   "execution_count": 114,
   "id": "686a5f94",
   "metadata": {},
   "outputs": [
    {
     "data": {
      "text/plain": [
       "array([[ 586,   15],\n",
       "       [1957,  127]])"
      ]
     },
     "execution_count": 114,
     "metadata": {},
     "output_type": "execute_result"
    }
   ],
   "source": [
    "conf_mat = confusion_matrix(y, y_pred_success)\n",
    "conf_mat"
   ]
  },
  {
   "cell_type": "code",
   "execution_count": 115,
   "id": "6c050cfb",
   "metadata": {},
   "outputs": [
    {
     "data": {
      "image/png": "[encoded data removed]",
      "text/plain": [
       "<Figure size 864x432 with 1 Axes>"
      ]
     },
     "metadata": {},
     "output_type": "display_data"
    }
   ],
   "source": [
    "sns.set(rc = {'figure.figsize':(12,6)})\n",
    "#cmap = sns.cubehelix_palette(start=2, rot=0, dark=0, light=.95, reverse=True, as_cmap=True)\n",
    "cmap = sns.light_palette('seagreen', as_cmap=True)\n",
    "\n",
    "res = sns.heatmap(conf_mat, annot=True, fmt='d', annot_kws={\"size\":20},\n",
    "#            xticklabels = ['Good = Paid In Full', 'Bad = Default'],\n",
    "#            yticklabels = ['Loan Paid In Full', 'Bad = Default'], \n",
    "            cmap=cmap, cbar=False)\n",
    "\n",
    "res.set_xticklabels(['Loan Default', 'Loan Repaid'], fontsize=15)\n",
    "res.set_yticklabels(['Loan Default', 'Loan Repaid'], fontsize=15)\n",
    "\n",
    "\n",
    "plt.title('Confusion Matrix For Logistic Regression', fontsize=25, pad=15)\n",
    "plt.xlabel('Predicted', fontsize=20)\n",
    "plt.ylabel('Actual', fontsize=20);"
   ]
  },
  {
   "cell_type": "code",
   "execution_count": 116,
   "id": "c5dc62cd",
   "metadata": {},
   "outputs": [
    {
     "data": {
      "text/plain": [
       "0.2655493482309125"
      ]
     },
     "execution_count": 116,
     "metadata": {},
     "output_type": "execute_result"
    }
   ],
   "source": [
    "accuracy_score(y, y_pred_success)"
   ]
  },
  {
   "cell_type": "code",
   "execution_count": 117,
   "id": "25920782",
   "metadata": {},
   "outputs": [
    {
     "name": "stdout",
     "output_type": "stream",
     "text": [
      "127\n",
      "15\n",
      "1957\n",
      "586\n",
      "0.2655493482309125\n"
     ]
    }
   ],
   "source": [
    "TN, FP, FN, TP = conf_mat.ravel()\n",
    "print(TP)\n",
    "print(FP)\n",
    "print(FN)\n",
    "print(TN)\n",
    "print((TP + TN) / (TN + TP + FP + FN))"
   ]
  },
  {
   "cell_type": "code",
   "execution_count": 118,
   "id": "67e15484",
   "metadata": {},
   "outputs": [
    {
     "data": {
      "text/plain": [
       "0.8943661971830986"
      ]
     },
     "execution_count": 118,
     "metadata": {},
     "output_type": "execute_result"
    }
   ],
   "source": [
    "#Positive Predictive Value (or Precision)\n",
    "#Logistic Model only does 3% better than Null Model or \"random investment\"\n",
    "TP / (TP+FP)"
   ]
  },
  {
   "cell_type": "code",
   "execution_count": null,
   "id": "4e88feb2",
   "metadata": {},
   "outputs": [],
   "source": []
  },
  {
   "cell_type": "code",
   "execution_count": 143,
   "id": "b6ed8cac",
   "metadata": {},
   "outputs": [
    {
     "name": "stdout",
     "output_type": "stream",
     "text": [
      "0.8943661971830986\n",
      "92\n"
     ]
    }
   ],
   "source": [
    "thresh = []\n",
    "PosPredVal = []\n",
    "\n",
    "for i in range(0,100,1):\n",
    "    y_pred_success = (y_pred_prob[:, 1] > (i/100)).astype('float')\n",
    "    conf_mat = confusion_matrix(y, y_pred_success)\n",
    "    TN, FP, FN, TP = conf_mat.ravel()\n",
    "    thresh.append(i)\n",
    "    PosPredVal.append((TP/(TP+FP)))\n",
    "\n",
    "print(np.max(PosPredVal))\n",
    "print(PosPredVal.index(np.max(PosPredVal)))"
   ]
  },
  {
   "cell_type": "code",
   "execution_count": null,
   "id": "085190a5",
   "metadata": {},
   "outputs": [],
   "source": []
  },
  {
   "cell_type": "code",
   "execution_count": 30,
   "id": "a51b3ce5",
   "metadata": {},
   "outputs": [],
   "source": [
    "## Next question. what was characteristic of the 217 loans that defaulted??\n",
    "## Get all loans which you predicted greater than 80% and find out which ones defaulted.\n",
    "## Any pattern?????"
   ]
  },
  {
   "cell_type": "code",
   "execution_count": 31,
   "id": "2bb4a848",
   "metadata": {},
   "outputs": [],
   "source": [
    "#Do we drop all observations where the source is not verified? \n",
    "#Do we drop all observations loan amount is greater than half of one's income? "
   ]
  },
  {
   "cell_type": "code",
   "execution_count": null,
   "id": "88205f9a",
   "metadata": {},
   "outputs": [],
   "source": []
  }
 ],
 "metadata": {
  "hide_input": false,
  "kernelspec": {
   "display_name": "Python 3 (ipykernel)",
   "language": "python",
   "name": "python3"
  },
  "language_info": {
   "codemirror_mode": {
    "name": "ipython",
    "version": 3
   },
   "file_extension": ".py",
   "mimetype": "text/x-python",
   "name": "python",
   "nbconvert_exporter": "python",
   "pygments_lexer": "ipython3",
   "version": "3.8.8"
  },
  "varInspector": {
   "cols": {
    "lenName": 16,
    "lenType": 16,
    "lenVar": 40
   },
   "kernels_config": {
    "python": {
     "delete_cmd_postfix": "",
     "delete_cmd_prefix": "del ",
     "library": "var_list.py",
     "varRefreshCmd": "print(var_dic_list())"
    },
    "r": {
     "delete_cmd_postfix": ") ",
     "delete_cmd_prefix": "rm(",
     "library": "var_list.r",
     "varRefreshCmd": "cat(var_dic_list()) "
    }
   },
   "types_to_exclude": [
    "module",
    "function",
    "builtin_function_or_method",
    "instance",
    "_Feature"
   ],
   "window_display": false
  }
 },
 "nbformat": 4,
 "nbformat_minor": 5
}
