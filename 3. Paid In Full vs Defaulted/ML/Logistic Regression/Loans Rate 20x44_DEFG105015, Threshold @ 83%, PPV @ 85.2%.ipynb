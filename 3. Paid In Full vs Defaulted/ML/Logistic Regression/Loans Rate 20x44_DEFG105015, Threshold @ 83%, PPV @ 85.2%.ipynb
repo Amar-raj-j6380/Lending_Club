{
 "cells": [
  {
   "cell_type": "code",
   "execution_count": 1,
   "id": "6f4648b5",
   "metadata": {},
   "outputs": [],
   "source": [
    "import pandas as pd\n",
    "import numpy as np\n",
    "import seaborn as sns\n",
    "import copy as cp\n",
    "import matplotlib.pyplot as plt\n",
    "\n",
    "from sklearn.model_selection import cross_val_score, cross_val_predict \n",
    "from sklearn.model_selection import train_test_split\n",
    "from sklearn.model_selection import RepeatedStratifiedKFold\n",
    "from imblearn.pipeline import Pipeline\n",
    "from imblearn.over_sampling import SMOTE\n",
    "\n",
    "from sklearn.linear_model import LogisticRegression\n",
    "from sklearn.metrics import roc_auc_score, roc_curve, precision_recall_curve\n",
    "from sklearn.metrics import confusion_matrix, accuracy_score\n",
    "\n",
    "from typing import Tuple"
   ]
  },
  {
   "cell_type": "code",
   "execution_count": 2,
   "id": "a6b2eaad",
   "metadata": {},
   "outputs": [],
   "source": [
    "pd.set_option(\"display.max_columns\", 200)\n",
    "pd.set_option(\"display.max_row\", 160)\n",
    "pd.set_option('max_colwidth', 200)"
   ]
  },
  {
   "cell_type": "code",
   "execution_count": 3,
   "id": "acc59130",
   "metadata": {},
   "outputs": [
    {
     "data": {
      "text/html": [
       "<div>\n",
       "<style scoped>\n",
       "    .dataframe tbody tr th:only-of-type {\n",
       "        vertical-align: middle;\n",
       "    }\n",
       "\n",
       "    .dataframe tbody tr th {\n",
       "        vertical-align: top;\n",
       "    }\n",
       "\n",
       "    .dataframe thead th {\n",
       "        text-align: right;\n",
       "    }\n",
       "</style>\n",
       "<table border=\"1\" class=\"dataframe\">\n",
       "  <thead>\n",
       "    <tr style=\"text-align: right;\">\n",
       "      <th></th>\n",
       "      <th>loan_amnt</th>\n",
       "      <th>annual_inc</th>\n",
       "      <th>dti</th>\n",
       "      <th>fico_range_low</th>\n",
       "      <th>fico_range_high</th>\n",
       "      <th>int_rate</th>\n",
       "      <th>installment</th>\n",
       "      <th>open_acc</th>\n",
       "      <th>total_acc</th>\n",
       "      <th>revol_bal</th>\n",
       "      <th>inq_last_6mths</th>\n",
       "      <th>delinq_2yrs</th>\n",
       "      <th>mths_since_last_delinq</th>\n",
       "      <th>acc_now_delinq</th>\n",
       "      <th>collections_12_mths_ex_med</th>\n",
       "      <th>pub_rec</th>\n",
       "      <th>months_cr_line</th>\n",
       "      <th>term</th>\n",
       "      <th>initial_list_status</th>\n",
       "      <th>grade</th>\n",
       "      <th>sub_grade</th>\n",
       "      <th>emp_length</th>\n",
       "      <th>ANY</th>\n",
       "      <th>MORTGAGE</th>\n",
       "      <th>OWN</th>\n",
       "      <th>RENT</th>\n",
       "      <th>car</th>\n",
       "      <th>credit_card</th>\n",
       "      <th>debt_consolidation</th>\n",
       "      <th>educational</th>\n",
       "      <th>home_improvement</th>\n",
       "      <th>house</th>\n",
       "      <th>major_purchase</th>\n",
       "      <th>medical</th>\n",
       "      <th>moving</th>\n",
       "      <th>other</th>\n",
       "      <th>renewable_energy</th>\n",
       "      <th>small_business</th>\n",
       "      <th>vacation</th>\n",
       "      <th>wedding</th>\n",
       "      <th>Not Verified</th>\n",
       "      <th>Source Verified</th>\n",
       "      <th>Verified</th>\n",
       "      <th>loan_status_bin</th>\n",
       "    </tr>\n",
       "  </thead>\n",
       "  <tbody>\n",
       "    <tr>\n",
       "      <th>0</th>\n",
       "      <td>-0.664160</td>\n",
       "      <td>-0.023755</td>\n",
       "      <td>-0.706543</td>\n",
       "      <td>1.833773</td>\n",
       "      <td>1.833773</td>\n",
       "      <td>-0.567883</td>\n",
       "      <td>-0.652099</td>\n",
       "      <td>-0.226954</td>\n",
       "      <td>-0.731263</td>\n",
       "      <td>-0.513210</td>\n",
       "      <td>1.245929</td>\n",
       "      <td>0.409773</td>\n",
       "      <td>-0.278750</td>\n",
       "      <td>-0.070589</td>\n",
       "      <td>-0.149713</td>\n",
       "      <td>-0.425914</td>\n",
       "      <td>-0.797836</td>\n",
       "      <td>-0.269164</td>\n",
       "      <td>1.417837</td>\n",
       "      <td>-0.061924</td>\n",
       "      <td>0.504395</td>\n",
       "      <td>-0.438425</td>\n",
       "      <td>-0.030504</td>\n",
       "      <td>-0.725596</td>\n",
       "      <td>-0.360968</td>\n",
       "      <td>0.925021</td>\n",
       "      <td>-0.127976</td>\n",
       "      <td>-0.220791</td>\n",
       "      <td>-0.755699</td>\n",
       "      <td>-0.017606</td>\n",
       "      <td>3.406680</td>\n",
       "      <td>-0.153198</td>\n",
       "      <td>-0.19396</td>\n",
       "      <td>-0.208143</td>\n",
       "      <td>-0.227652</td>\n",
       "      <td>-0.571267</td>\n",
       "      <td>-0.074895</td>\n",
       "      <td>-0.250822</td>\n",
       "      <td>-0.162479</td>\n",
       "      <td>-0.088361</td>\n",
       "      <td>-0.589398</td>\n",
       "      <td>1.219856</td>\n",
       "      <td>-0.718147</td>\n",
       "      <td>0.0</td>\n",
       "    </tr>\n",
       "    <tr>\n",
       "      <th>1</th>\n",
       "      <td>-0.928384</td>\n",
       "      <td>-0.205881</td>\n",
       "      <td>1.267538</td>\n",
       "      <td>0.096737</td>\n",
       "      <td>0.096737</td>\n",
       "      <td>0.610386</td>\n",
       "      <td>-0.863047</td>\n",
       "      <td>-0.637137</td>\n",
       "      <td>-0.819168</td>\n",
       "      <td>-0.393781</td>\n",
       "      <td>0.468999</td>\n",
       "      <td>-0.442798</td>\n",
       "      <td>-0.863295</td>\n",
       "      <td>-0.070589</td>\n",
       "      <td>-0.149713</td>\n",
       "      <td>-0.425914</td>\n",
       "      <td>0.398094</td>\n",
       "      <td>-0.269164</td>\n",
       "      <td>1.417837</td>\n",
       "      <td>1.297452</td>\n",
       "      <td>1.448344</td>\n",
       "      <td>-1.496217</td>\n",
       "      <td>-0.030504</td>\n",
       "      <td>1.378177</td>\n",
       "      <td>-0.360968</td>\n",
       "      <td>-1.081056</td>\n",
       "      <td>-0.127976</td>\n",
       "      <td>-0.220791</td>\n",
       "      <td>1.323278</td>\n",
       "      <td>-0.017606</td>\n",
       "      <td>-0.293541</td>\n",
       "      <td>-0.153198</td>\n",
       "      <td>-0.19396</td>\n",
       "      <td>-0.208143</td>\n",
       "      <td>-0.227652</td>\n",
       "      <td>-0.571267</td>\n",
       "      <td>-0.074895</td>\n",
       "      <td>-0.250822</td>\n",
       "      <td>-0.162479</td>\n",
       "      <td>-0.088361</td>\n",
       "      <td>-0.589398</td>\n",
       "      <td>1.219856</td>\n",
       "      <td>-0.718147</td>\n",
       "      <td>0.0</td>\n",
       "    </tr>\n",
       "    <tr>\n",
       "      <th>2</th>\n",
       "      <td>0.931751</td>\n",
       "      <td>0.071267</td>\n",
       "      <td>-0.910159</td>\n",
       "      <td>1.089329</td>\n",
       "      <td>1.089329</td>\n",
       "      <td>1.784386</td>\n",
       "      <td>1.176933</td>\n",
       "      <td>-0.226954</td>\n",
       "      <td>-0.819168</td>\n",
       "      <td>-0.213828</td>\n",
       "      <td>-1.084861</td>\n",
       "      <td>-0.442798</td>\n",
       "      <td>-0.863295</td>\n",
       "      <td>-0.070589</td>\n",
       "      <td>-0.149713</td>\n",
       "      <td>-0.425914</td>\n",
       "      <td>-1.334784</td>\n",
       "      <td>-0.269164</td>\n",
       "      <td>1.417837</td>\n",
       "      <td>2.656828</td>\n",
       "      <td>2.392294</td>\n",
       "      <td>-0.438425</td>\n",
       "      <td>-0.030504</td>\n",
       "      <td>-0.725596</td>\n",
       "      <td>-0.360968</td>\n",
       "      <td>0.925021</td>\n",
       "      <td>-0.127976</td>\n",
       "      <td>-0.220791</td>\n",
       "      <td>-0.755699</td>\n",
       "      <td>-0.017606</td>\n",
       "      <td>-0.293541</td>\n",
       "      <td>-0.153198</td>\n",
       "      <td>-0.19396</td>\n",
       "      <td>-0.208143</td>\n",
       "      <td>-0.227652</td>\n",
       "      <td>-0.571267</td>\n",
       "      <td>-0.074895</td>\n",
       "      <td>3.986890</td>\n",
       "      <td>-0.162479</td>\n",
       "      <td>-0.088361</td>\n",
       "      <td>-0.589398</td>\n",
       "      <td>1.219856</td>\n",
       "      <td>-0.718147</td>\n",
       "      <td>1.0</td>\n",
       "    </tr>\n",
       "    <tr>\n",
       "      <th>3</th>\n",
       "      <td>1.608163</td>\n",
       "      <td>0.229638</td>\n",
       "      <td>0.577230</td>\n",
       "      <td>0.096737</td>\n",
       "      <td>0.096737</td>\n",
       "      <td>-0.777068</td>\n",
       "      <td>1.578133</td>\n",
       "      <td>-0.226954</td>\n",
       "      <td>-0.291743</td>\n",
       "      <td>-0.216527</td>\n",
       "      <td>-1.084861</td>\n",
       "      <td>-0.442798</td>\n",
       "      <td>1.250061</td>\n",
       "      <td>-0.070589</td>\n",
       "      <td>-0.149713</td>\n",
       "      <td>3.486114</td>\n",
       "      <td>-0.358515</td>\n",
       "      <td>-0.269164</td>\n",
       "      <td>1.417837</td>\n",
       "      <td>-0.061924</td>\n",
       "      <td>0.504395</td>\n",
       "      <td>-1.496217</td>\n",
       "      <td>-0.030504</td>\n",
       "      <td>-0.725596</td>\n",
       "      <td>-0.360968</td>\n",
       "      <td>0.925021</td>\n",
       "      <td>-0.127976</td>\n",
       "      <td>-0.220791</td>\n",
       "      <td>1.323278</td>\n",
       "      <td>-0.017606</td>\n",
       "      <td>-0.293541</td>\n",
       "      <td>-0.153198</td>\n",
       "      <td>-0.19396</td>\n",
       "      <td>-0.208143</td>\n",
       "      <td>-0.227652</td>\n",
       "      <td>-0.571267</td>\n",
       "      <td>-0.074895</td>\n",
       "      <td>-0.250822</td>\n",
       "      <td>-0.162479</td>\n",
       "      <td>-0.088361</td>\n",
       "      <td>-0.589398</td>\n",
       "      <td>1.219856</td>\n",
       "      <td>-0.718147</td>\n",
       "      <td>1.0</td>\n",
       "    </tr>\n",
       "    <tr>\n",
       "      <th>4</th>\n",
       "      <td>-0.917815</td>\n",
       "      <td>-0.166288</td>\n",
       "      <td>0.070674</td>\n",
       "      <td>-0.647707</td>\n",
       "      <td>-0.647707</td>\n",
       "      <td>-0.777068</td>\n",
       "      <td>-0.912962</td>\n",
       "      <td>0.798502</td>\n",
       "      <td>0.851011</td>\n",
       "      <td>0.024086</td>\n",
       "      <td>0.468999</td>\n",
       "      <td>-0.442798</td>\n",
       "      <td>-0.863295</td>\n",
       "      <td>-0.070589</td>\n",
       "      <td>-0.149713</td>\n",
       "      <td>-0.425914</td>\n",
       "      <td>-0.541565</td>\n",
       "      <td>-0.269164</td>\n",
       "      <td>1.417837</td>\n",
       "      <td>-0.061924</td>\n",
       "      <td>0.504395</td>\n",
       "      <td>-0.967321</td>\n",
       "      <td>-0.030504</td>\n",
       "      <td>1.378177</td>\n",
       "      <td>-0.360968</td>\n",
       "      <td>-1.081056</td>\n",
       "      <td>-0.127976</td>\n",
       "      <td>-0.220791</td>\n",
       "      <td>1.323278</td>\n",
       "      <td>-0.017606</td>\n",
       "      <td>-0.293541</td>\n",
       "      <td>-0.153198</td>\n",
       "      <td>-0.19396</td>\n",
       "      <td>-0.208143</td>\n",
       "      <td>-0.227652</td>\n",
       "      <td>-0.571267</td>\n",
       "      <td>-0.074895</td>\n",
       "      <td>-0.250822</td>\n",
       "      <td>-0.162479</td>\n",
       "      <td>-0.088361</td>\n",
       "      <td>-0.589398</td>\n",
       "      <td>1.219856</td>\n",
       "      <td>-0.718147</td>\n",
       "      <td>1.0</td>\n",
       "    </tr>\n",
       "  </tbody>\n",
       "</table>\n",
       "</div>"
      ],
      "text/plain": [
       "   loan_amnt  annual_inc       dti  fico_range_low  fico_range_high  int_rate  \\\n",
       "0  -0.664160   -0.023755 -0.706543        1.833773         1.833773 -0.567883   \n",
       "1  -0.928384   -0.205881  1.267538        0.096737         0.096737  0.610386   \n",
       "2   0.931751    0.071267 -0.910159        1.089329         1.089329  1.784386   \n",
       "3   1.608163    0.229638  0.577230        0.096737         0.096737 -0.777068   \n",
       "4  -0.917815   -0.166288  0.070674       -0.647707        -0.647707 -0.777068   \n",
       "\n",
       "   installment  open_acc  total_acc  revol_bal  inq_last_6mths  delinq_2yrs  \\\n",
       "0    -0.652099 -0.226954  -0.731263  -0.513210        1.245929     0.409773   \n",
       "1    -0.863047 -0.637137  -0.819168  -0.393781        0.468999    -0.442798   \n",
       "2     1.176933 -0.226954  -0.819168  -0.213828       -1.084861    -0.442798   \n",
       "3     1.578133 -0.226954  -0.291743  -0.216527       -1.084861    -0.442798   \n",
       "4    -0.912962  0.798502   0.851011   0.024086        0.468999    -0.442798   \n",
       "\n",
       "   mths_since_last_delinq  acc_now_delinq  collections_12_mths_ex_med  \\\n",
       "0               -0.278750       -0.070589                   -0.149713   \n",
       "1               -0.863295       -0.070589                   -0.149713   \n",
       "2               -0.863295       -0.070589                   -0.149713   \n",
       "3                1.250061       -0.070589                   -0.149713   \n",
       "4               -0.863295       -0.070589                   -0.149713   \n",
       "\n",
       "    pub_rec  months_cr_line      term  initial_list_status     grade  \\\n",
       "0 -0.425914       -0.797836 -0.269164             1.417837 -0.061924   \n",
       "1 -0.425914        0.398094 -0.269164             1.417837  1.297452   \n",
       "2 -0.425914       -1.334784 -0.269164             1.417837  2.656828   \n",
       "3  3.486114       -0.358515 -0.269164             1.417837 -0.061924   \n",
       "4 -0.425914       -0.541565 -0.269164             1.417837 -0.061924   \n",
       "\n",
       "   sub_grade  emp_length       ANY  MORTGAGE       OWN      RENT       car  \\\n",
       "0   0.504395   -0.438425 -0.030504 -0.725596 -0.360968  0.925021 -0.127976   \n",
       "1   1.448344   -1.496217 -0.030504  1.378177 -0.360968 -1.081056 -0.127976   \n",
       "2   2.392294   -0.438425 -0.030504 -0.725596 -0.360968  0.925021 -0.127976   \n",
       "3   0.504395   -1.496217 -0.030504 -0.725596 -0.360968  0.925021 -0.127976   \n",
       "4   0.504395   -0.967321 -0.030504  1.378177 -0.360968 -1.081056 -0.127976   \n",
       "\n",
       "   credit_card  debt_consolidation  educational  home_improvement     house  \\\n",
       "0    -0.220791           -0.755699    -0.017606          3.406680 -0.153198   \n",
       "1    -0.220791            1.323278    -0.017606         -0.293541 -0.153198   \n",
       "2    -0.220791           -0.755699    -0.017606         -0.293541 -0.153198   \n",
       "3    -0.220791            1.323278    -0.017606         -0.293541 -0.153198   \n",
       "4    -0.220791            1.323278    -0.017606         -0.293541 -0.153198   \n",
       "\n",
       "   major_purchase   medical    moving     other  renewable_energy  \\\n",
       "0        -0.19396 -0.208143 -0.227652 -0.571267         -0.074895   \n",
       "1        -0.19396 -0.208143 -0.227652 -0.571267         -0.074895   \n",
       "2        -0.19396 -0.208143 -0.227652 -0.571267         -0.074895   \n",
       "3        -0.19396 -0.208143 -0.227652 -0.571267         -0.074895   \n",
       "4        -0.19396 -0.208143 -0.227652 -0.571267         -0.074895   \n",
       "\n",
       "   small_business  vacation   wedding  Not Verified  Source Verified  \\\n",
       "0       -0.250822 -0.162479 -0.088361     -0.589398         1.219856   \n",
       "1       -0.250822 -0.162479 -0.088361     -0.589398         1.219856   \n",
       "2        3.986890 -0.162479 -0.088361     -0.589398         1.219856   \n",
       "3       -0.250822 -0.162479 -0.088361     -0.589398         1.219856   \n",
       "4       -0.250822 -0.162479 -0.088361     -0.589398         1.219856   \n",
       "\n",
       "   Verified  loan_status_bin  \n",
       "0 -0.718147              0.0  \n",
       "1 -0.718147              0.0  \n",
       "2 -0.718147              1.0  \n",
       "3 -0.718147              1.0  \n",
       "4 -0.718147              1.0  "
      ]
     },
     "execution_count": 3,
     "metadata": {},
     "output_type": "execute_result"
    }
   ],
   "source": [
    "data = pd.read_csv('../../Data/20x44_DEFG105015.csv')\n",
    "data.head(5)"
   ]
  },
  {
   "cell_type": "code",
   "execution_count": 4,
   "id": "771565fb",
   "metadata": {},
   "outputs": [
    {
     "data": {
      "text/plain": [
       "(3227, 44)"
      ]
     },
     "execution_count": 4,
     "metadata": {},
     "output_type": "execute_result"
    }
   ],
   "source": [
    "data.shape"
   ]
  },
  {
   "cell_type": "code",
   "execution_count": 5,
   "id": "74758ddc",
   "metadata": {},
   "outputs": [
    {
     "data": {
      "text/plain": [
       "1.0    2470\n",
       "0.0     757\n",
       "Name: loan_status_bin, dtype: int64"
      ]
     },
     "execution_count": 5,
     "metadata": {},
     "output_type": "execute_result"
    }
   ],
   "source": [
    "data.loan_status_bin.value_counts()\n",
    "#0 = Defaulted Loans\n",
    "#1 = Loans Paid In Full"
   ]
  },
  {
   "cell_type": "code",
   "execution_count": 6,
   "id": "b9a9c6be",
   "metadata": {},
   "outputs": [
    {
     "data": {
      "text/plain": [
       "(3227, 43)"
      ]
     },
     "execution_count": 6,
     "metadata": {},
     "output_type": "execute_result"
    }
   ],
   "source": [
    "X = data.drop('loan_status_bin', axis=1)\n",
    "X.shape"
   ]
  },
  {
   "cell_type": "code",
   "execution_count": 7,
   "id": "0559962b",
   "metadata": {},
   "outputs": [],
   "source": [
    "y = data['loan_status_bin']"
   ]
  },
  {
   "cell_type": "code",
   "execution_count": 8,
   "id": "9b1bb6de",
   "metadata": {},
   "outputs": [],
   "source": [
    "lr1 = LogisticRegression()"
   ]
  },
  {
   "cell_type": "code",
   "execution_count": 9,
   "id": "e9e711e2",
   "metadata": {},
   "outputs": [],
   "source": [
    "steps = [('model', lr1)]\n",
    "pipeline = Pipeline(steps=steps)"
   ]
  },
  {
   "cell_type": "code",
   "execution_count": 10,
   "id": "fb714eeb",
   "metadata": {},
   "outputs": [
    {
     "name": "stdout",
     "output_type": "stream",
     "text": [
      "[0.76780186 0.75386997 0.76434109 0.76744186 0.76589147]\n",
      "0.7638692490460076\n"
     ]
    }
   ],
   "source": [
    "#Accuracy:\n",
    "\n",
    "cv = RepeatedStratifiedKFold(n_splits=5, n_repeats=1, random_state=1)\n",
    "scores = cross_val_score(pipeline, X, y, scoring='accuracy', cv=cv, n_jobs=-1) \n",
    "print(scores)\n",
    "\n",
    "score = np.mean(scores)\n",
    "print(score)"
   ]
  },
  {
   "cell_type": "code",
   "execution_count": 11,
   "id": "9db484eb",
   "metadata": {},
   "outputs": [
    {
     "data": {
      "text/plain": [
       "array([[  31,  726],\n",
       "       [  36, 2434]])"
      ]
     },
     "execution_count": 11,
     "metadata": {},
     "output_type": "execute_result"
    }
   ],
   "source": [
    "#Aggregated Confusion Matrix From RepeatedStratifiedKFold: \n",
    "y_pred = cross_val_predict(pipeline, X, y, cv=cv, n_jobs=-1)\n",
    "conf_mat = confusion_matrix(y, y_pred)\n",
    "conf_mat"
   ]
  },
  {
   "cell_type": "code",
   "execution_count": 12,
   "id": "cd14efda",
   "metadata": {},
   "outputs": [
    {
     "data": {
      "image/png": "[encoded data removed]",
      "text/plain": [
       "<Figure size 864x432 with 1 Axes>"
      ]
     },
     "metadata": {},
     "output_type": "display_data"
    }
   ],
   "source": [
    "sns.set(rc = {'figure.figsize':(12,6)})\n",
    "#cmap = sns.cubehelix_palette(start=2, rot=0, dark=0, light=.95, reverse=True, as_cmap=True)\n",
    "cmap = sns.light_palette('seagreen', as_cmap=True)\n",
    "\n",
    "res = sns.heatmap(conf_mat, annot=True, fmt='d', annot_kws={\"size\":20},\n",
    "#            xticklabels = ['Good = Paid In Full', 'Bad = Default'],\n",
    "#            yticklabels = ['Loan Paid In Full', 'Bad = Default'], \n",
    "            cmap=cmap, cbar=False)\n",
    "\n",
    "res.set_xticklabels(['Loan Default', 'Loan Repaid'], fontsize=15)\n",
    "res.set_yticklabels(['Loan Default', 'Loan Repaid'], fontsize=15)\n",
    "\n",
    "\n",
    "plt.title('Confusion Matrix For Logistic Regression', fontsize=25, pad=15)\n",
    "plt.xlabel('Predicted', fontsize=20)\n",
    "plt.ylabel('Actual', fontsize=20);"
   ]
  },
  {
   "cell_type": "code",
   "execution_count": 13,
   "id": "345a55b6",
   "metadata": {},
   "outputs": [
    {
     "data": {
      "text/plain": [
       "0.7638673690734429"
      ]
     },
     "execution_count": 13,
     "metadata": {},
     "output_type": "execute_result"
    }
   ],
   "source": [
    "accuracy_score(y, y_pred)"
   ]
  },
  {
   "cell_type": "code",
   "execution_count": 14,
   "id": "22662a59",
   "metadata": {},
   "outputs": [
    {
     "name": "stdout",
     "output_type": "stream",
     "text": [
      "2434\n",
      "726\n",
      "36\n",
      "31\n",
      "0.7638673690734429\n"
     ]
    }
   ],
   "source": [
    "TN, FP, FN, TP = conf_mat.ravel()\n",
    "print(TP)\n",
    "print(FP)\n",
    "print(FN)\n",
    "print(TN)\n",
    "print((TP + TN) / (TN + TP + FP + FN))"
   ]
  },
  {
   "cell_type": "code",
   "execution_count": null,
   "id": "4dcedec5",
   "metadata": {},
   "outputs": [],
   "source": []
  },
  {
   "cell_type": "code",
   "execution_count": 15,
   "id": "36dec5fa",
   "metadata": {},
   "outputs": [
    {
     "name": "stdout",
     "output_type": "stream",
     "text": [
      "1.0    2470\n",
      "0.0     757\n",
      "Name: loan_status_bin, dtype: int64\n",
      "\n",
      "0.7654167957855593\n"
     ]
    }
   ],
   "source": [
    "#Re-examine original pool of accepted LC Loans: \n",
    "\n",
    "print(data.loan_status_bin.value_counts())\n",
    "#0 = Loan Defaulted\n",
    "#1 = Loan Fully Paid\n",
    "\n",
    "good_loan = data.loan_status_bin.value_counts()[1]\n",
    "bad_loan = data.loan_status_bin.value_counts()[0]\n",
    "\n",
    "print()\n",
    "print(good_loan / (good_loan + bad_loan))\n",
    "\n",
    "#Random investment would give us 59% chance of pickkng a good loan"
   ]
  },
  {
   "cell_type": "code",
   "execution_count": 16,
   "id": "9be4be5d",
   "metadata": {},
   "outputs": [
    {
     "data": {
      "text/plain": [
       "0.770253164556962"
      ]
     },
     "execution_count": 16,
     "metadata": {},
     "output_type": "execute_result"
    }
   ],
   "source": [
    "#Positive Predictive Value (or Precision)\n",
    "#Logistic Model only does 0.1% better than Null Model or \"random investment\"\n",
    "TP / (TP+FP)"
   ]
  },
  {
   "cell_type": "code",
   "execution_count": null,
   "id": "747fa766",
   "metadata": {},
   "outputs": [],
   "source": []
  },
  {
   "cell_type": "code",
   "execution_count": 17,
   "id": "3188e143",
   "metadata": {},
   "outputs": [],
   "source": [
    "#What if we \"balance\" the weight class to avoid \"imbalanced\" nature...No Change! "
   ]
  },
  {
   "cell_type": "code",
   "execution_count": 18,
   "id": "0d86ed92",
   "metadata": {},
   "outputs": [],
   "source": [
    "lr_balanced = LogisticRegression(class_weight='balanced')"
   ]
  },
  {
   "cell_type": "code",
   "execution_count": 19,
   "id": "1e582bb8",
   "metadata": {},
   "outputs": [],
   "source": [
    "steps_balanced = [('model', lr_balanced)]\n",
    "pipeline_balanced = Pipeline(steps=steps)"
   ]
  },
  {
   "cell_type": "code",
   "execution_count": 20,
   "id": "1f2cdc5a",
   "metadata": {},
   "outputs": [
    {
     "name": "stdout",
     "output_type": "stream",
     "text": [
      "[0.76780186 0.75386997 0.76434109 0.76744186 0.76589147]\n",
      "0.7638692490460076\n"
     ]
    }
   ],
   "source": [
    "#Accuracy:\n",
    "\n",
    "cv = RepeatedStratifiedKFold(n_splits=5, n_repeats=1, random_state=1)\n",
    "scores = cross_val_score(pipeline_balanced, X, y, scoring='accuracy', cv=cv, n_jobs=-1) \n",
    "print(scores)\n",
    "\n",
    "score = np.mean(scores)\n",
    "print(score)"
   ]
  },
  {
   "cell_type": "code",
   "execution_count": 21,
   "id": "b5943c47",
   "metadata": {},
   "outputs": [
    {
     "data": {
      "text/plain": [
       "array([[  31,  726],\n",
       "       [  36, 2434]])"
      ]
     },
     "execution_count": 21,
     "metadata": {},
     "output_type": "execute_result"
    }
   ],
   "source": [
    "#Aggregated Confusion Matrix From RepeatedStratifiedKFold: \n",
    "y_pred_balanced = cross_val_predict(pipeline_balanced, X, y, cv=cv, n_jobs=-1)\n",
    "conf_mat_balanced = confusion_matrix(y, y_pred_balanced)\n",
    "conf_mat_balanced"
   ]
  },
  {
   "cell_type": "code",
   "execution_count": null,
   "id": "33d49ed8",
   "metadata": {},
   "outputs": [],
   "source": []
  },
  {
   "cell_type": "code",
   "execution_count": null,
   "id": "c2672371",
   "metadata": {},
   "outputs": [],
   "source": []
  },
  {
   "cell_type": "code",
   "execution_count": 22,
   "id": "3e6f9d5f",
   "metadata": {},
   "outputs": [],
   "source": [
    "#Obtain predicted probabilities (not predicted classes) from RSKF: \n",
    "y_pred_prob = cross_val_predict(pipeline, X, y, cv=cv, n_jobs=-1, method='predict_proba')"
   ]
  },
  {
   "cell_type": "code",
   "execution_count": 23,
   "id": "9f850d5b",
   "metadata": {},
   "outputs": [
    {
     "data": {
      "text/plain": [
       "array([[0.33077904, 0.66922096],\n",
       "       [0.21631795, 0.78368205],\n",
       "       [0.50874635, 0.49125365],\n",
       "       ...,\n",
       "       [0.24684697, 0.75315303],\n",
       "       [0.25424584, 0.74575416],\n",
       "       [0.20951952, 0.79048048]])"
      ]
     },
     "execution_count": 23,
     "metadata": {},
     "output_type": "execute_result"
    }
   ],
   "source": [
    "y_pred_prob"
   ]
  },
  {
   "cell_type": "code",
   "execution_count": 54,
   "id": "973f2937",
   "metadata": {},
   "outputs": [
    {
     "data": {
      "text/plain": [
       "array([0., 0., 0., ..., 0., 0., 0.])"
      ]
     },
     "execution_count": 54,
     "metadata": {},
     "output_type": "execute_result"
    }
   ],
   "source": [
    "#Obtaining classification based on desired threshold of 0.8: \n",
    "\n",
    "y_pred_success = (y_pred_prob[:, 1] > 0.83).astype('float')\n",
    "y_pred_success"
   ]
  },
  {
   "cell_type": "code",
   "execution_count": 55,
   "id": "686a5f94",
   "metadata": {},
   "outputs": [
    {
     "data": {
      "text/plain": [
       "array([[ 615,  142],\n",
       "       [1650,  820]])"
      ]
     },
     "execution_count": 55,
     "metadata": {},
     "output_type": "execute_result"
    }
   ],
   "source": [
    "conf_mat = confusion_matrix(y, y_pred_success)\n",
    "conf_mat"
   ]
  },
  {
   "cell_type": "code",
   "execution_count": 56,
   "id": "6c050cfb",
   "metadata": {},
   "outputs": [
    {
     "data": {
      "image/png": "[encoded data removed]",
      "text/plain": [
       "<Figure size 864x432 with 1 Axes>"
      ]
     },
     "metadata": {},
     "output_type": "display_data"
    }
   ],
   "source": [
    "sns.set(rc = {'figure.figsize':(12,6)})\n",
    "#cmap = sns.cubehelix_palette(start=2, rot=0, dark=0, light=.95, reverse=True, as_cmap=True)\n",
    "cmap = sns.light_palette('seagreen', as_cmap=True)\n",
    "\n",
    "res = sns.heatmap(conf_mat, annot=True, fmt='d', annot_kws={\"size\":20},\n",
    "#            xticklabels = ['Good = Paid In Full', 'Bad = Default'],\n",
    "#            yticklabels = ['Loan Paid In Full', 'Bad = Default'], \n",
    "            cmap=cmap, cbar=False)\n",
    "\n",
    "res.set_xticklabels(['Loan Default', 'Loan Repaid'], fontsize=15)\n",
    "res.set_yticklabels(['Loan Default', 'Loan Repaid'], fontsize=15)\n",
    "\n",
    "\n",
    "plt.title('Confusion Matrix For Logistic Regression', fontsize=25, pad=15)\n",
    "plt.xlabel('Predicted', fontsize=20)\n",
    "plt.ylabel('Actual', fontsize=20);"
   ]
  },
  {
   "cell_type": "code",
   "execution_count": 57,
   "id": "c5dc62cd",
   "metadata": {},
   "outputs": [
    {
     "data": {
      "text/plain": [
       "0.44468546637744033"
      ]
     },
     "execution_count": 57,
     "metadata": {},
     "output_type": "execute_result"
    }
   ],
   "source": [
    "accuracy_score(y, y_pred_success)"
   ]
  },
  {
   "cell_type": "code",
   "execution_count": 58,
   "id": "25920782",
   "metadata": {},
   "outputs": [
    {
     "name": "stdout",
     "output_type": "stream",
     "text": [
      "820\n",
      "142\n",
      "1650\n",
      "615\n",
      "0.44468546637744033\n"
     ]
    }
   ],
   "source": [
    "TN, FP, FN, TP = conf_mat.ravel()\n",
    "print(TP)\n",
    "print(FP)\n",
    "print(FN)\n",
    "print(TN)\n",
    "print((TP + TN) / (TN + TP + FP + FN))"
   ]
  },
  {
   "cell_type": "code",
   "execution_count": 59,
   "id": "67e15484",
   "metadata": {},
   "outputs": [
    {
     "data": {
      "text/plain": [
       "0.8523908523908524"
      ]
     },
     "execution_count": 59,
     "metadata": {},
     "output_type": "execute_result"
    }
   ],
   "source": [
    "#Positive Predictive Value (or Precision)\n",
    "#Logistic Model only does 3% better than Null Model or \"random investment\"\n",
    "TP / (TP+FP)"
   ]
  },
  {
   "cell_type": "code",
   "execution_count": 30,
   "id": "a51b3ce5",
   "metadata": {},
   "outputs": [],
   "source": [
    "## Next question. what was characteristic of the 217 loans that defaulted??\n",
    "## Get all loans which you predicted greater than 80% and find out which ones defaulted.\n",
    "## Any pattern?????"
   ]
  },
  {
   "cell_type": "code",
   "execution_count": 31,
   "id": "2bb4a848",
   "metadata": {},
   "outputs": [],
   "source": [
    "#Do we drop all observations where the source is not verified? \n",
    "#Do we drop all observations loan amount is greater than half of one's income? "
   ]
  },
  {
   "cell_type": "code",
   "execution_count": null,
   "id": "88205f9a",
   "metadata": {},
   "outputs": [],
   "source": []
  }
 ],
 "metadata": {
  "hide_input": false,
  "kernelspec": {
   "display_name": "Python 3 (ipykernel)",
   "language": "python",
   "name": "python3"
  },
  "language_info": {
   "codemirror_mode": {
    "name": "ipython",
    "version": 3
   },
   "file_extension": ".py",
   "mimetype": "text/x-python",
   "name": "python",
   "nbconvert_exporter": "python",
   "pygments_lexer": "ipython3",
   "version": "3.8.8"
  },
  "varInspector": {
   "cols": {
    "lenName": 16,
    "lenType": 16,
    "lenVar": 40
   },
   "kernels_config": {
    "python": {
     "delete_cmd_postfix": "",
     "delete_cmd_prefix": "del ",
     "library": "var_list.py",
     "varRefreshCmd": "print(var_dic_list())"
    },
    "r": {
     "delete_cmd_postfix": ") ",
     "delete_cmd_prefix": "rm(",
     "library": "var_list.r",
     "varRefreshCmd": "cat(var_dic_list()) "
    }
   },
   "types_to_exclude": [
    "module",
    "function",
    "builtin_function_or_method",
    "instance",
    "_Feature"
   ],
   "window_display": false
  }
 },
 "nbformat": 4,
 "nbformat_minor": 5
}
