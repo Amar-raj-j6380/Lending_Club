{
 "cells": [
  {
   "cell_type": "code",
   "execution_count": 6,
   "id": "6f4648b5",
   "metadata": {},
   "outputs": [],
   "source": [
    "import pandas as pd\n",
    "import numpy as np\n",
    "import seaborn as sns\n",
    "import copy as cp\n",
    "import matplotlib.pyplot as plt\n",
    "\n",
    "from sklearn.model_selection import cross_val_score, cross_val_predict \n",
    "from sklearn.model_selection import train_test_split\n",
    "from sklearn.model_selection import RepeatedStratifiedKFold\n",
    "from imblearn.pipeline import Pipeline\n",
    "from imblearn.over_sampling import SMOTE\n",
    "\n",
    "from sklearn.linear_model import LogisticRegression\n",
    "from sklearn.metrics import roc_auc_score, roc_curve, precision_recall_curve\n",
    "from sklearn.metrics import confusion_matrix, accuracy_score\n",
    "\n",
    "from typing import Tuple"
   ]
  },
  {
   "cell_type": "code",
   "execution_count": 7,
   "id": "a6b2eaad",
   "metadata": {},
   "outputs": [],
   "source": [
    "pd.set_option(\"display.max_columns\", 200)\n",
    "pd.set_option(\"display.max_row\", 160)\n",
    "pd.set_option('max_colwidth', 200)"
   ]
  },
  {
   "cell_type": "code",
   "execution_count": 8,
   "id": "acc59130",
   "metadata": {},
   "outputs": [
    {
     "data": {
      "text/html": [
       "<div>\n",
       "<style scoped>\n",
       "    .dataframe tbody tr th:only-of-type {\n",
       "        vertical-align: middle;\n",
       "    }\n",
       "\n",
       "    .dataframe tbody tr th {\n",
       "        vertical-align: top;\n",
       "    }\n",
       "\n",
       "    .dataframe thead th {\n",
       "        text-align: right;\n",
       "    }\n",
       "</style>\n",
       "<table border=\"1\" class=\"dataframe\">\n",
       "  <thead>\n",
       "    <tr style=\"text-align: right;\">\n",
       "      <th></th>\n",
       "      <th>loan_amnt</th>\n",
       "      <th>annual_inc</th>\n",
       "      <th>dti</th>\n",
       "      <th>fico_range_low</th>\n",
       "      <th>fico_range_high</th>\n",
       "      <th>int_rate</th>\n",
       "      <th>installment</th>\n",
       "      <th>open_acc</th>\n",
       "      <th>total_acc</th>\n",
       "      <th>revol_bal</th>\n",
       "      <th>inq_last_6mths</th>\n",
       "      <th>delinq_2yrs</th>\n",
       "      <th>acc_now_delinq</th>\n",
       "      <th>collections_12_mths_ex_med</th>\n",
       "      <th>tot_coll_amt</th>\n",
       "      <th>tot_cur_bal</th>\n",
       "      <th>pub_rec</th>\n",
       "      <th>months_cr_line</th>\n",
       "      <th>term</th>\n",
       "      <th>initial_list_status</th>\n",
       "      <th>sub_grade</th>\n",
       "      <th>emp_length</th>\n",
       "      <th>ANY</th>\n",
       "      <th>MORTGAGE</th>\n",
       "      <th>OWN</th>\n",
       "      <th>RENT</th>\n",
       "      <th>car</th>\n",
       "      <th>credit_card</th>\n",
       "      <th>debt_consolidation</th>\n",
       "      <th>home_improvement</th>\n",
       "      <th>house</th>\n",
       "      <th>major_purchase</th>\n",
       "      <th>medical</th>\n",
       "      <th>moving</th>\n",
       "      <th>other</th>\n",
       "      <th>renewable_energy</th>\n",
       "      <th>small_business</th>\n",
       "      <th>vacation</th>\n",
       "      <th>wedding</th>\n",
       "      <th>Not Verified</th>\n",
       "      <th>Source Verified</th>\n",
       "      <th>Verified</th>\n",
       "      <th>loan_status_bin</th>\n",
       "    </tr>\n",
       "  </thead>\n",
       "  <tbody>\n",
       "    <tr>\n",
       "      <th>0</th>\n",
       "      <td>-0.274940</td>\n",
       "      <td>-0.184102</td>\n",
       "      <td>1.311385</td>\n",
       "      <td>-0.819734</td>\n",
       "      <td>-0.819734</td>\n",
       "      <td>-0.643016</td>\n",
       "      <td>-0.284620</td>\n",
       "      <td>-0.307975</td>\n",
       "      <td>-1.102652</td>\n",
       "      <td>-0.320978</td>\n",
       "      <td>-0.916391</td>\n",
       "      <td>-0.442188</td>\n",
       "      <td>-0.056501</td>\n",
       "      <td>-0.161202</td>\n",
       "      <td>-0.046841</td>\n",
       "      <td>-0.782920</td>\n",
       "      <td>1.081878</td>\n",
       "      <td>-1.829511</td>\n",
       "      <td>-0.069254</td>\n",
       "      <td>0.876318</td>\n",
       "      <td>-1.305077</td>\n",
       "      <td>0.970118</td>\n",
       "      <td>-0.028217</td>\n",
       "      <td>-0.952594</td>\n",
       "      <td>-0.369497</td>\n",
       "      <td>1.216261</td>\n",
       "      <td>-0.156365</td>\n",
       "      <td>-0.320362</td>\n",
       "      <td>-0.858014</td>\n",
       "      <td>-0.287554</td>\n",
       "      <td>-0.120532</td>\n",
       "      <td>-0.194898</td>\n",
       "      <td>-0.199254</td>\n",
       "      <td>5.189733</td>\n",
       "      <td>-0.513144</td>\n",
       "      <td>-0.048912</td>\n",
       "      <td>-0.133468</td>\n",
       "      <td>-0.164197</td>\n",
       "      <td>-0.056501</td>\n",
       "      <td>-0.680683</td>\n",
       "      <td>-0.770166</td>\n",
       "      <td>1.488232</td>\n",
       "      <td>0.0</td>\n",
       "    </tr>\n",
       "    <tr>\n",
       "      <th>1</th>\n",
       "      <td>-1.703308</td>\n",
       "      <td>-0.172927</td>\n",
       "      <td>-0.550169</td>\n",
       "      <td>-0.538202</td>\n",
       "      <td>-0.538202</td>\n",
       "      <td>-0.643016</td>\n",
       "      <td>-1.704670</td>\n",
       "      <td>-0.833958</td>\n",
       "      <td>-0.301199</td>\n",
       "      <td>-0.284038</td>\n",
       "      <td>-0.916391</td>\n",
       "      <td>-0.442188</td>\n",
       "      <td>-0.056501</td>\n",
       "      <td>-0.161202</td>\n",
       "      <td>-0.107754</td>\n",
       "      <td>-0.846388</td>\n",
       "      <td>-0.354152</td>\n",
       "      <td>-0.248663</td>\n",
       "      <td>-0.069254</td>\n",
       "      <td>0.876318</td>\n",
       "      <td>-1.305077</td>\n",
       "      <td>-0.087275</td>\n",
       "      <td>-0.028217</td>\n",
       "      <td>-0.952594</td>\n",
       "      <td>-0.369497</td>\n",
       "      <td>1.216261</td>\n",
       "      <td>-0.156365</td>\n",
       "      <td>-0.320362</td>\n",
       "      <td>-0.858014</td>\n",
       "      <td>-0.287554</td>\n",
       "      <td>-0.120532</td>\n",
       "      <td>-0.194898</td>\n",
       "      <td>-0.199254</td>\n",
       "      <td>-0.192688</td>\n",
       "      <td>1.948771</td>\n",
       "      <td>-0.048912</td>\n",
       "      <td>-0.133468</td>\n",
       "      <td>-0.164197</td>\n",
       "      <td>-0.056501</td>\n",
       "      <td>1.469112</td>\n",
       "      <td>-0.770166</td>\n",
       "      <td>-0.671938</td>\n",
       "      <td>0.0</td>\n",
       "    </tr>\n",
       "    <tr>\n",
       "      <th>2</th>\n",
       "      <td>-0.188373</td>\n",
       "      <td>0.050580</td>\n",
       "      <td>-0.932357</td>\n",
       "      <td>-0.819734</td>\n",
       "      <td>-0.819734</td>\n",
       "      <td>1.336744</td>\n",
       "      <td>-0.155399</td>\n",
       "      <td>-0.132647</td>\n",
       "      <td>-0.221053</td>\n",
       "      <td>-0.503128</td>\n",
       "      <td>-0.045057</td>\n",
       "      <td>-0.442188</td>\n",
       "      <td>-0.056501</td>\n",
       "      <td>-0.161202</td>\n",
       "      <td>-0.107754</td>\n",
       "      <td>-0.843614</td>\n",
       "      <td>3.953939</td>\n",
       "      <td>0.407996</td>\n",
       "      <td>-0.069254</td>\n",
       "      <td>0.876318</td>\n",
       "      <td>0.766238</td>\n",
       "      <td>-1.673364</td>\n",
       "      <td>-0.028217</td>\n",
       "      <td>-0.952594</td>\n",
       "      <td>-0.369497</td>\n",
       "      <td>1.216261</td>\n",
       "      <td>-0.156365</td>\n",
       "      <td>-0.320362</td>\n",
       "      <td>-0.858014</td>\n",
       "      <td>3.477607</td>\n",
       "      <td>-0.120532</td>\n",
       "      <td>-0.194898</td>\n",
       "      <td>-0.199254</td>\n",
       "      <td>-0.192688</td>\n",
       "      <td>-0.513144</td>\n",
       "      <td>-0.048912</td>\n",
       "      <td>-0.133468</td>\n",
       "      <td>-0.164197</td>\n",
       "      <td>-0.056501</td>\n",
       "      <td>-0.680683</td>\n",
       "      <td>1.298421</td>\n",
       "      <td>-0.671938</td>\n",
       "      <td>1.0</td>\n",
       "    </tr>\n",
       "    <tr>\n",
       "      <th>3</th>\n",
       "      <td>0.255287</td>\n",
       "      <td>-0.161752</td>\n",
       "      <td>-0.160924</td>\n",
       "      <td>0.587924</td>\n",
       "      <td>0.587924</td>\n",
       "      <td>1.336744</td>\n",
       "      <td>0.294572</td>\n",
       "      <td>-0.132647</td>\n",
       "      <td>-0.942361</td>\n",
       "      <td>-0.561085</td>\n",
       "      <td>-0.916391</td>\n",
       "      <td>-0.442188</td>\n",
       "      <td>-0.056501</td>\n",
       "      <td>-0.161202</td>\n",
       "      <td>-0.107754</td>\n",
       "      <td>-0.695133</td>\n",
       "      <td>-0.354152</td>\n",
       "      <td>-0.418909</td>\n",
       "      <td>-0.069254</td>\n",
       "      <td>0.876318</td>\n",
       "      <td>0.766238</td>\n",
       "      <td>-0.880319</td>\n",
       "      <td>-0.028217</td>\n",
       "      <td>-0.952594</td>\n",
       "      <td>-0.369497</td>\n",
       "      <td>1.216261</td>\n",
       "      <td>-0.156365</td>\n",
       "      <td>-0.320362</td>\n",
       "      <td>-0.858014</td>\n",
       "      <td>-0.287554</td>\n",
       "      <td>-0.120532</td>\n",
       "      <td>-0.194898</td>\n",
       "      <td>-0.199254</td>\n",
       "      <td>-0.192688</td>\n",
       "      <td>-0.513144</td>\n",
       "      <td>-0.048912</td>\n",
       "      <td>-0.133468</td>\n",
       "      <td>6.090231</td>\n",
       "      <td>-0.056501</td>\n",
       "      <td>1.469112</td>\n",
       "      <td>-0.770166</td>\n",
       "      <td>-0.671938</td>\n",
       "      <td>1.0</td>\n",
       "    </tr>\n",
       "    <tr>\n",
       "      <th>4</th>\n",
       "      <td>0.460885</td>\n",
       "      <td>-0.200865</td>\n",
       "      <td>0.964475</td>\n",
       "      <td>0.587924</td>\n",
       "      <td>0.587924</td>\n",
       "      <td>1.336744</td>\n",
       "      <td>0.503030</td>\n",
       "      <td>-0.132647</td>\n",
       "      <td>-0.461489</td>\n",
       "      <td>0.018166</td>\n",
       "      <td>-0.916391</td>\n",
       "      <td>-0.442188</td>\n",
       "      <td>-0.056501</td>\n",
       "      <td>-0.161202</td>\n",
       "      <td>-0.107754</td>\n",
       "      <td>0.480341</td>\n",
       "      <td>-0.354152</td>\n",
       "      <td>-0.637795</td>\n",
       "      <td>-0.069254</td>\n",
       "      <td>0.876318</td>\n",
       "      <td>0.766238</td>\n",
       "      <td>-1.409016</td>\n",
       "      <td>-0.028217</td>\n",
       "      <td>1.049765</td>\n",
       "      <td>-0.369497</td>\n",
       "      <td>-0.822192</td>\n",
       "      <td>6.395311</td>\n",
       "      <td>-0.320362</td>\n",
       "      <td>-0.858014</td>\n",
       "      <td>-0.287554</td>\n",
       "      <td>-0.120532</td>\n",
       "      <td>-0.194898</td>\n",
       "      <td>-0.199254</td>\n",
       "      <td>-0.192688</td>\n",
       "      <td>-0.513144</td>\n",
       "      <td>-0.048912</td>\n",
       "      <td>-0.133468</td>\n",
       "      <td>-0.164197</td>\n",
       "      <td>-0.056501</td>\n",
       "      <td>-0.680683</td>\n",
       "      <td>-0.770166</td>\n",
       "      <td>1.488232</td>\n",
       "      <td>0.0</td>\n",
       "    </tr>\n",
       "  </tbody>\n",
       "</table>\n",
       "</div>"
      ],
      "text/plain": [
       "   loan_amnt  annual_inc       dti  fico_range_low  fico_range_high  int_rate  \\\n",
       "0  -0.274940   -0.184102  1.311385       -0.819734        -0.819734 -0.643016   \n",
       "1  -1.703308   -0.172927 -0.550169       -0.538202        -0.538202 -0.643016   \n",
       "2  -0.188373    0.050580 -0.932357       -0.819734        -0.819734  1.336744   \n",
       "3   0.255287   -0.161752 -0.160924        0.587924         0.587924  1.336744   \n",
       "4   0.460885   -0.200865  0.964475        0.587924         0.587924  1.336744   \n",
       "\n",
       "   installment  open_acc  total_acc  revol_bal  inq_last_6mths  delinq_2yrs  \\\n",
       "0    -0.284620 -0.307975  -1.102652  -0.320978       -0.916391    -0.442188   \n",
       "1    -1.704670 -0.833958  -0.301199  -0.284038       -0.916391    -0.442188   \n",
       "2    -0.155399 -0.132647  -0.221053  -0.503128       -0.045057    -0.442188   \n",
       "3     0.294572 -0.132647  -0.942361  -0.561085       -0.916391    -0.442188   \n",
       "4     0.503030 -0.132647  -0.461489   0.018166       -0.916391    -0.442188   \n",
       "\n",
       "   acc_now_delinq  collections_12_mths_ex_med  tot_coll_amt  tot_cur_bal  \\\n",
       "0       -0.056501                   -0.161202     -0.046841    -0.782920   \n",
       "1       -0.056501                   -0.161202     -0.107754    -0.846388   \n",
       "2       -0.056501                   -0.161202     -0.107754    -0.843614   \n",
       "3       -0.056501                   -0.161202     -0.107754    -0.695133   \n",
       "4       -0.056501                   -0.161202     -0.107754     0.480341   \n",
       "\n",
       "    pub_rec  months_cr_line      term  initial_list_status  sub_grade  \\\n",
       "0  1.081878       -1.829511 -0.069254             0.876318  -1.305077   \n",
       "1 -0.354152       -0.248663 -0.069254             0.876318  -1.305077   \n",
       "2  3.953939        0.407996 -0.069254             0.876318   0.766238   \n",
       "3 -0.354152       -0.418909 -0.069254             0.876318   0.766238   \n",
       "4 -0.354152       -0.637795 -0.069254             0.876318   0.766238   \n",
       "\n",
       "   emp_length       ANY  MORTGAGE       OWN      RENT       car  credit_card  \\\n",
       "0    0.970118 -0.028217 -0.952594 -0.369497  1.216261 -0.156365    -0.320362   \n",
       "1   -0.087275 -0.028217 -0.952594 -0.369497  1.216261 -0.156365    -0.320362   \n",
       "2   -1.673364 -0.028217 -0.952594 -0.369497  1.216261 -0.156365    -0.320362   \n",
       "3   -0.880319 -0.028217 -0.952594 -0.369497  1.216261 -0.156365    -0.320362   \n",
       "4   -1.409016 -0.028217  1.049765 -0.369497 -0.822192  6.395311    -0.320362   \n",
       "\n",
       "   debt_consolidation  home_improvement     house  major_purchase   medical  \\\n",
       "0           -0.858014         -0.287554 -0.120532       -0.194898 -0.199254   \n",
       "1           -0.858014         -0.287554 -0.120532       -0.194898 -0.199254   \n",
       "2           -0.858014          3.477607 -0.120532       -0.194898 -0.199254   \n",
       "3           -0.858014         -0.287554 -0.120532       -0.194898 -0.199254   \n",
       "4           -0.858014         -0.287554 -0.120532       -0.194898 -0.199254   \n",
       "\n",
       "     moving     other  renewable_energy  small_business  vacation   wedding  \\\n",
       "0  5.189733 -0.513144         -0.048912       -0.133468 -0.164197 -0.056501   \n",
       "1 -0.192688  1.948771         -0.048912       -0.133468 -0.164197 -0.056501   \n",
       "2 -0.192688 -0.513144         -0.048912       -0.133468 -0.164197 -0.056501   \n",
       "3 -0.192688 -0.513144         -0.048912       -0.133468  6.090231 -0.056501   \n",
       "4 -0.192688 -0.513144         -0.048912       -0.133468 -0.164197 -0.056501   \n",
       "\n",
       "   Not Verified  Source Verified  Verified  loan_status_bin  \n",
       "0     -0.680683        -0.770166  1.488232              0.0  \n",
       "1      1.469112        -0.770166 -0.671938              0.0  \n",
       "2     -0.680683         1.298421 -0.671938              1.0  \n",
       "3      1.469112        -0.770166 -0.671938              1.0  \n",
       "4     -0.680683        -0.770166  1.488232              0.0  "
      ]
     },
     "execution_count": 8,
     "metadata": {},
     "output_type": "execute_result"
    }
   ],
   "source": [
    "data = pd.read_csv('../../Data/20x43_D1060.csv')\n",
    "data.head(5)"
   ]
  },
  {
   "cell_type": "code",
   "execution_count": 9,
   "id": "771565fb",
   "metadata": {},
   "outputs": [
    {
     "data": {
      "text/plain": [
       "(1257, 43)"
      ]
     },
     "execution_count": 9,
     "metadata": {},
     "output_type": "execute_result"
    }
   ],
   "source": [
    "data.shape"
   ]
  },
  {
   "cell_type": "code",
   "execution_count": 10,
   "id": "74758ddc",
   "metadata": {},
   "outputs": [
    {
     "data": {
      "text/plain": [
       "1.0    1032\n",
       "0.0     225\n",
       "Name: loan_status_bin, dtype: int64"
      ]
     },
     "execution_count": 10,
     "metadata": {},
     "output_type": "execute_result"
    }
   ],
   "source": [
    "data.loan_status_bin.value_counts()\n",
    "#0 = Defaulted Loans\n",
    "#1 = Loans Paid In Full"
   ]
  },
  {
   "cell_type": "code",
   "execution_count": 11,
   "id": "b9a9c6be",
   "metadata": {},
   "outputs": [
    {
     "data": {
      "text/plain": [
       "(1257, 42)"
      ]
     },
     "execution_count": 11,
     "metadata": {},
     "output_type": "execute_result"
    }
   ],
   "source": [
    "X = data.drop('loan_status_bin', axis=1)\n",
    "X.shape"
   ]
  },
  {
   "cell_type": "code",
   "execution_count": 12,
   "id": "0559962b",
   "metadata": {},
   "outputs": [],
   "source": [
    "y = data['loan_status_bin']"
   ]
  },
  {
   "cell_type": "code",
   "execution_count": 13,
   "id": "9b1bb6de",
   "metadata": {},
   "outputs": [],
   "source": [
    "lr1 = LogisticRegression()"
   ]
  },
  {
   "cell_type": "code",
   "execution_count": 14,
   "id": "e9e711e2",
   "metadata": {},
   "outputs": [],
   "source": [
    "steps = [('model', lr1)]\n",
    "pipeline = Pipeline(steps=steps)"
   ]
  },
  {
   "cell_type": "code",
   "execution_count": 15,
   "id": "fb714eeb",
   "metadata": {},
   "outputs": [
    {
     "name": "stdout",
     "output_type": "stream",
     "text": [
      "[0.81349206 0.82142857 0.80079681 0.812749   0.82071713]\n",
      "0.8138367166255612\n"
     ]
    }
   ],
   "source": [
    "#Accuracy:\n",
    "\n",
    "cv = RepeatedStratifiedKFold(n_splits=5, n_repeats=1, random_state=1)\n",
    "scores = cross_val_score(pipeline, X, y, scoring='accuracy', cv=cv, n_jobs=-1) \n",
    "print(scores)\n",
    "\n",
    "score = np.mean(scores)\n",
    "print(score)"
   ]
  },
  {
   "cell_type": "code",
   "execution_count": 16,
   "id": "9db484eb",
   "metadata": {},
   "outputs": [
    {
     "data": {
      "text/plain": [
       "array([[   4,  221],\n",
       "       [  13, 1019]])"
      ]
     },
     "execution_count": 16,
     "metadata": {},
     "output_type": "execute_result"
    }
   ],
   "source": [
    "#Aggregated Confusion Matrix From RepeatedStratifiedKFold: \n",
    "y_pred = cross_val_predict(pipeline, X, y, cv=cv, n_jobs=-1)\n",
    "conf_mat = confusion_matrix(y, y_pred)\n",
    "conf_mat"
   ]
  },
  {
   "cell_type": "code",
   "execution_count": 17,
   "id": "cd14efda",
   "metadata": {},
   "outputs": [
    {
     "data": {
      "image/png": "[encoded data removed]",
      "text/plain": [
       "<Figure size 864x432 with 1 Axes>"
      ]
     },
     "metadata": {},
     "output_type": "display_data"
    }
   ],
   "source": [
    "sns.set(rc = {'figure.figsize':(12,6)})\n",
    "#cmap = sns.cubehelix_palette(start=2, rot=0, dark=0, light=.95, reverse=True, as_cmap=True)\n",
    "cmap = sns.light_palette('seagreen', as_cmap=True)\n",
    "\n",
    "res = sns.heatmap(conf_mat, annot=True, fmt='d', annot_kws={\"size\":20},\n",
    "#            xticklabels = ['Good = Paid In Full', 'Bad = Default'],\n",
    "#            yticklabels = ['Loan Paid In Full', 'Bad = Default'], \n",
    "            cmap=cmap, cbar=False)\n",
    "\n",
    "res.set_xticklabels(['Loan Default', 'Loan Repaid'], fontsize=15)\n",
    "res.set_yticklabels(['Loan Default', 'Loan Repaid'], fontsize=15)\n",
    "\n",
    "\n",
    "plt.title('Confusion Matrix For Logistic Regression', fontsize=25, pad=15)\n",
    "plt.xlabel('Predicted', fontsize=20)\n",
    "plt.ylabel('Actual', fontsize=20);"
   ]
  },
  {
   "cell_type": "code",
   "execution_count": 18,
   "id": "345a55b6",
   "metadata": {},
   "outputs": [
    {
     "data": {
      "text/plain": [
       "0.8138424821002387"
      ]
     },
     "execution_count": 18,
     "metadata": {},
     "output_type": "execute_result"
    }
   ],
   "source": [
    "accuracy_score(y, y_pred)"
   ]
  },
  {
   "cell_type": "code",
   "execution_count": 19,
   "id": "22662a59",
   "metadata": {},
   "outputs": [
    {
     "name": "stdout",
     "output_type": "stream",
     "text": [
      "1019\n",
      "221\n",
      "13\n",
      "4\n",
      "0.8138424821002387\n"
     ]
    }
   ],
   "source": [
    "TN, FP, FN, TP = conf_mat.ravel()\n",
    "print(TP)\n",
    "print(FP)\n",
    "print(FN)\n",
    "print(TN)\n",
    "print((TP + TN) / (TN + TP + FP + FN))"
   ]
  },
  {
   "cell_type": "code",
   "execution_count": null,
   "id": "4dcedec5",
   "metadata": {},
   "outputs": [],
   "source": []
  },
  {
   "cell_type": "code",
   "execution_count": 20,
   "id": "36dec5fa",
   "metadata": {},
   "outputs": [
    {
     "name": "stdout",
     "output_type": "stream",
     "text": [
      "1.0    1032\n",
      "0.0     225\n",
      "Name: loan_status_bin, dtype: int64\n",
      "\n",
      "0.8210023866348448\n"
     ]
    }
   ],
   "source": [
    "#Re-examine original pool of accepted LC Loans: \n",
    "\n",
    "print(data.loan_status_bin.value_counts())\n",
    "#0 = Loan Defaulted\n",
    "#1 = Loan Fully Paid\n",
    "\n",
    "good_loan = data.loan_status_bin.value_counts()[1]\n",
    "bad_loan = data.loan_status_bin.value_counts()[0]\n",
    "\n",
    "print()\n",
    "print(good_loan / (good_loan + bad_loan))\n",
    "\n",
    "#Random investment would give us 59% chance of pickkng a good loan"
   ]
  },
  {
   "cell_type": "code",
   "execution_count": 21,
   "id": "9be4be5d",
   "metadata": {},
   "outputs": [
    {
     "data": {
      "text/plain": [
       "0.8217741935483871"
      ]
     },
     "execution_count": 21,
     "metadata": {},
     "output_type": "execute_result"
    }
   ],
   "source": [
    "#Positive Predictive Value (or Precision)\n",
    "#Logistic Model only does 3% better than Null Model or \"random investment\"\n",
    "TP / (TP+FP)"
   ]
  },
  {
   "cell_type": "code",
   "execution_count": null,
   "id": "33d49ed8",
   "metadata": {},
   "outputs": [],
   "source": []
  },
  {
   "cell_type": "code",
   "execution_count": 22,
   "id": "3e6f9d5f",
   "metadata": {},
   "outputs": [],
   "source": [
    "#Obtain predicted probabilities (not predicted classes) from RSKF: \n",
    "y_pred_prob = cross_val_predict(pipeline, X, y, cv=cv, n_jobs=-1, method='predict_proba')"
   ]
  },
  {
   "cell_type": "code",
   "execution_count": 23,
   "id": "9f850d5b",
   "metadata": {},
   "outputs": [
    {
     "data": {
      "text/plain": [
       "array([[0.11577251, 0.88422749],\n",
       "       [0.08288712, 0.91711288],\n",
       "       [0.12877616, 0.87122384],\n",
       "       ...,\n",
       "       [0.28379891, 0.71620109],\n",
       "       [0.17700244, 0.82299756],\n",
       "       [0.15258322, 0.84741678]])"
      ]
     },
     "execution_count": 23,
     "metadata": {},
     "output_type": "execute_result"
    }
   ],
   "source": [
    "y_pred_prob"
   ]
  },
  {
   "cell_type": "code",
   "execution_count": 24,
   "id": "973f2937",
   "metadata": {},
   "outputs": [
    {
     "data": {
      "text/plain": [
       "array([1., 1., 1., ..., 0., 1., 1.])"
      ]
     },
     "execution_count": 24,
     "metadata": {},
     "output_type": "execute_result"
    }
   ],
   "source": [
    "#Obtaining classification based on desired threshold of 0.8: \n",
    "\n",
    "y_pred_success = (y_pred_prob[:, 1] > 0.8).astype('float')\n",
    "y_pred_success"
   ]
  },
  {
   "cell_type": "code",
   "execution_count": 25,
   "id": "686a5f94",
   "metadata": {},
   "outputs": [
    {
     "data": {
      "text/plain": [
       "array([[ 97, 128],\n",
       "       [349, 683]])"
      ]
     },
     "execution_count": 25,
     "metadata": {},
     "output_type": "execute_result"
    }
   ],
   "source": [
    "conf_mat = confusion_matrix(y, y_pred_success)\n",
    "conf_mat"
   ]
  },
  {
   "cell_type": "code",
   "execution_count": 26,
   "id": "6c050cfb",
   "metadata": {},
   "outputs": [
    {
     "data": {
      "image/png": "[encoded data removed]",
      "text/plain": [
       "<Figure size 864x432 with 1 Axes>"
      ]
     },
     "metadata": {},
     "output_type": "display_data"
    }
   ],
   "source": [
    "sns.set(rc = {'figure.figsize':(12,6)})\n",
    "#cmap = sns.cubehelix_palette(start=2, rot=0, dark=0, light=.95, reverse=True, as_cmap=True)\n",
    "cmap = sns.light_palette('seagreen', as_cmap=True)\n",
    "\n",
    "res = sns.heatmap(conf_mat, annot=True, fmt='d', annot_kws={\"size\":20},\n",
    "#            xticklabels = ['Good = Paid In Full', 'Bad = Default'],\n",
    "#            yticklabels = ['Loan Paid In Full', 'Bad = Default'], \n",
    "            cmap=cmap, cbar=False)\n",
    "\n",
    "res.set_xticklabels(['Loan Default', 'Loan Repaid'], fontsize=15)\n",
    "res.set_yticklabels(['Loan Default', 'Loan Repaid'], fontsize=15)\n",
    "\n",
    "\n",
    "plt.title('Confusion Matrix For Logistic Regression', fontsize=25, pad=15)\n",
    "plt.xlabel('Predicted', fontsize=20)\n",
    "plt.ylabel('Actual', fontsize=20);"
   ]
  },
  {
   "cell_type": "code",
   "execution_count": 27,
   "id": "c5dc62cd",
   "metadata": {},
   "outputs": [
    {
     "data": {
      "text/plain": [
       "0.6205250596658711"
      ]
     },
     "execution_count": 27,
     "metadata": {},
     "output_type": "execute_result"
    }
   ],
   "source": [
    "accuracy_score(y, y_pred_success)"
   ]
  },
  {
   "cell_type": "code",
   "execution_count": 28,
   "id": "25920782",
   "metadata": {},
   "outputs": [
    {
     "name": "stdout",
     "output_type": "stream",
     "text": [
      "683\n",
      "128\n",
      "349\n",
      "97\n",
      "0.6205250596658711\n"
     ]
    }
   ],
   "source": [
    "TN, FP, FN, TP = conf_mat.ravel()\n",
    "print(TP)\n",
    "print(FP)\n",
    "print(FN)\n",
    "print(TN)\n",
    "print((TP + TN) / (TN + TP + FP + FN))"
   ]
  },
  {
   "cell_type": "code",
   "execution_count": 29,
   "id": "67e15484",
   "metadata": {},
   "outputs": [
    {
     "data": {
      "text/plain": [
       "0.842170160295931"
      ]
     },
     "execution_count": 29,
     "metadata": {},
     "output_type": "execute_result"
    }
   ],
   "source": [
    "#Positive Predictive Value (or Precision)\n",
    "#Logistic Model only does 3% better than Null Model or \"random investment\"\n",
    "TP / (TP+FP)"
   ]
  },
  {
   "cell_type": "code",
   "execution_count": null,
   "id": "a51b3ce5",
   "metadata": {},
   "outputs": [],
   "source": [
    "## Next question. what was characteristic of the 217 loans that defaulted??\n",
    "## Get all loans which you predicted greater than 80% and find out which ones defaulted.\n",
    "## Any pattern?????"
   ]
  },
  {
   "cell_type": "code",
   "execution_count": null,
   "id": "2bb4a848",
   "metadata": {},
   "outputs": [],
   "source": [
    "#Do we drop all observations where the source is not verified? \n",
    "#Do we drop all observations loan amount is greater than half of one's income? "
   ]
  },
  {
   "cell_type": "code",
   "execution_count": null,
   "id": "88205f9a",
   "metadata": {},
   "outputs": [],
   "source": []
  }
 ],
 "metadata": {
  "hide_input": false,
  "kernelspec": {
   "display_name": "Python 3 (ipykernel)",
   "language": "python",
   "name": "python3"
  },
  "language_info": {
   "codemirror_mode": {
    "name": "ipython",
    "version": 3
   },
   "file_extension": ".py",
   "mimetype": "text/x-python",
   "name": "python",
   "nbconvert_exporter": "python",
   "pygments_lexer": "ipython3",
   "version": "3.8.8"
  },
  "varInspector": {
   "cols": {
    "lenName": 16,
    "lenType": 16,
    "lenVar": 40
   },
   "kernels_config": {
    "python": {
     "delete_cmd_postfix": "",
     "delete_cmd_prefix": "del ",
     "library": "var_list.py",
     "varRefreshCmd": "print(var_dic_list())"
    },
    "r": {
     "delete_cmd_postfix": ") ",
     "delete_cmd_prefix": "rm(",
     "library": "var_list.r",
     "varRefreshCmd": "cat(var_dic_list()) "
    }
   },
   "types_to_exclude": [
    "module",
    "function",
    "builtin_function_or_method",
    "instance",
    "_Feature"
   ],
   "window_display": false
  }
 },
 "nbformat": 4,
 "nbformat_minor": 5
}
