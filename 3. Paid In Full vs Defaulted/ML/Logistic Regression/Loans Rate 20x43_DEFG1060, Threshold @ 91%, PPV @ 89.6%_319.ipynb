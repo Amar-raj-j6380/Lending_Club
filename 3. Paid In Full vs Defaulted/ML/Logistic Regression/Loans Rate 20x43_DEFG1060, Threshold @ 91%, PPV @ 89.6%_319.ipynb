{
 "cells": [
  {
   "cell_type": "code",
   "execution_count": 1,
   "id": "6f4648b5",
   "metadata": {},
   "outputs": [],
   "source": [
    "import pandas as pd\n",
    "import numpy as np\n",
    "import seaborn as sns\n",
    "import copy as cp\n",
    "import matplotlib.pyplot as plt\n",
    "\n",
    "from sklearn.model_selection import cross_val_score, cross_val_predict \n",
    "from sklearn.model_selection import train_test_split\n",
    "from sklearn.model_selection import RepeatedStratifiedKFold\n",
    "from imblearn.pipeline import Pipeline\n",
    "from imblearn.over_sampling import SMOTE\n",
    "\n",
    "from sklearn.linear_model import LogisticRegression\n",
    "from sklearn.metrics import roc_auc_score, roc_curve, precision_recall_curve\n",
    "from sklearn.metrics import confusion_matrix, accuracy_score\n",
    "\n",
    "from typing import Tuple"
   ]
  },
  {
   "cell_type": "code",
   "execution_count": 2,
   "id": "a6b2eaad",
   "metadata": {},
   "outputs": [],
   "source": [
    "pd.set_option(\"display.max_columns\", 200)\n",
    "pd.set_option(\"display.max_row\", 160)\n",
    "pd.set_option('max_colwidth', 200)"
   ]
  },
  {
   "cell_type": "code",
   "execution_count": 3,
   "id": "acc59130",
   "metadata": {},
   "outputs": [
    {
     "data": {
      "text/html": [
       "<div>\n",
       "<style scoped>\n",
       "    .dataframe tbody tr th:only-of-type {\n",
       "        vertical-align: middle;\n",
       "    }\n",
       "\n",
       "    .dataframe tbody tr th {\n",
       "        vertical-align: top;\n",
       "    }\n",
       "\n",
       "    .dataframe thead th {\n",
       "        text-align: right;\n",
       "    }\n",
       "</style>\n",
       "<table border=\"1\" class=\"dataframe\">\n",
       "  <thead>\n",
       "    <tr style=\"text-align: right;\">\n",
       "      <th></th>\n",
       "      <th>loan_amnt</th>\n",
       "      <th>annual_inc</th>\n",
       "      <th>dti</th>\n",
       "      <th>fico_range_low</th>\n",
       "      <th>fico_range_high</th>\n",
       "      <th>int_rate</th>\n",
       "      <th>installment</th>\n",
       "      <th>open_acc</th>\n",
       "      <th>total_acc</th>\n",
       "      <th>revol_bal</th>\n",
       "      <th>inq_last_6mths</th>\n",
       "      <th>delinq_2yrs</th>\n",
       "      <th>mths_since_last_delinq</th>\n",
       "      <th>acc_now_delinq</th>\n",
       "      <th>collections_12_mths_ex_med</th>\n",
       "      <th>pub_rec</th>\n",
       "      <th>months_cr_line</th>\n",
       "      <th>term</th>\n",
       "      <th>initial_list_status</th>\n",
       "      <th>grade</th>\n",
       "      <th>sub_grade</th>\n",
       "      <th>emp_length</th>\n",
       "      <th>ANY</th>\n",
       "      <th>MORTGAGE</th>\n",
       "      <th>OWN</th>\n",
       "      <th>RENT</th>\n",
       "      <th>car</th>\n",
       "      <th>credit_card</th>\n",
       "      <th>debt_consolidation</th>\n",
       "      <th>home_improvement</th>\n",
       "      <th>house</th>\n",
       "      <th>major_purchase</th>\n",
       "      <th>medical</th>\n",
       "      <th>moving</th>\n",
       "      <th>other</th>\n",
       "      <th>renewable_energy</th>\n",
       "      <th>small_business</th>\n",
       "      <th>vacation</th>\n",
       "      <th>wedding</th>\n",
       "      <th>Not Verified</th>\n",
       "      <th>Source Verified</th>\n",
       "      <th>Verified</th>\n",
       "      <th>loan_status_bin</th>\n",
       "    </tr>\n",
       "  </thead>\n",
       "  <tbody>\n",
       "    <tr>\n",
       "      <th>0</th>\n",
       "      <td>1.411209</td>\n",
       "      <td>-0.188121</td>\n",
       "      <td>0.398143</td>\n",
       "      <td>-0.968551</td>\n",
       "      <td>-0.968551</td>\n",
       "      <td>-0.162888</td>\n",
       "      <td>1.437204</td>\n",
       "      <td>0.413296</td>\n",
       "      <td>1.482470</td>\n",
       "      <td>-0.314595</td>\n",
       "      <td>2.024852</td>\n",
       "      <td>-0.444988</td>\n",
       "      <td>1.831332</td>\n",
       "      <td>-0.080884</td>\n",
       "      <td>-0.149023</td>\n",
       "      <td>1.008324</td>\n",
       "      <td>-0.901469</td>\n",
       "      <td>-0.231921</td>\n",
       "      <td>1.411582</td>\n",
       "      <td>1.401707</td>\n",
       "      <td>0.924098</td>\n",
       "      <td>0.998387</td>\n",
       "      <td>-0.030931</td>\n",
       "      <td>-0.915786</td>\n",
       "      <td>-0.349702</td>\n",
       "      <td>1.142106</td>\n",
       "      <td>-0.122229</td>\n",
       "      <td>3.950487</td>\n",
       "      <td>-0.785813</td>\n",
       "      <td>-0.292010</td>\n",
       "      <td>-0.144506</td>\n",
       "      <td>-0.189319</td>\n",
       "      <td>-0.213967</td>\n",
       "      <td>-0.212005</td>\n",
       "      <td>-0.548857</td>\n",
       "      <td>-0.063488</td>\n",
       "      <td>-0.228236</td>\n",
       "      <td>-0.177055</td>\n",
       "      <td>-0.086669</td>\n",
       "      <td>-0.561233</td>\n",
       "      <td>1.238213</td>\n",
       "      <td>-0.75931</td>\n",
       "      <td>1.0</td>\n",
       "    </tr>\n",
       "    <tr>\n",
       "      <th>1</th>\n",
       "      <td>-0.680389</td>\n",
       "      <td>-0.058914</td>\n",
       "      <td>-1.184157</td>\n",
       "      <td>1.916545</td>\n",
       "      <td>1.916545</td>\n",
       "      <td>-0.579187</td>\n",
       "      <td>-0.677878</td>\n",
       "      <td>-0.605451</td>\n",
       "      <td>-1.068222</td>\n",
       "      <td>-0.696583</td>\n",
       "      <td>1.255252</td>\n",
       "      <td>0.420662</td>\n",
       "      <td>-0.278130</td>\n",
       "      <td>-0.080884</td>\n",
       "      <td>-0.149023</td>\n",
       "      <td>-0.414920</td>\n",
       "      <td>-0.972717</td>\n",
       "      <td>-0.231921</td>\n",
       "      <td>1.411582</td>\n",
       "      <td>0.013271</td>\n",
       "      <td>0.598886</td>\n",
       "      <td>-0.591192</td>\n",
       "      <td>-0.030931</td>\n",
       "      <td>-0.915786</td>\n",
       "      <td>-0.349702</td>\n",
       "      <td>1.142106</td>\n",
       "      <td>-0.122229</td>\n",
       "      <td>-0.253133</td>\n",
       "      <td>-0.785813</td>\n",
       "      <td>3.424543</td>\n",
       "      <td>-0.144506</td>\n",
       "      <td>-0.189319</td>\n",
       "      <td>-0.213967</td>\n",
       "      <td>-0.212005</td>\n",
       "      <td>-0.548857</td>\n",
       "      <td>-0.063488</td>\n",
       "      <td>-0.228236</td>\n",
       "      <td>-0.177055</td>\n",
       "      <td>-0.086669</td>\n",
       "      <td>-0.561233</td>\n",
       "      <td>1.238213</td>\n",
       "      <td>-0.75931</td>\n",
       "      <td>0.0</td>\n",
       "    </tr>\n",
       "    <tr>\n",
       "      <th>2</th>\n",
       "      <td>-0.945820</td>\n",
       "      <td>-0.287511</td>\n",
       "      <td>-0.294533</td>\n",
       "      <td>0.080575</td>\n",
       "      <td>0.080575</td>\n",
       "      <td>0.605333</td>\n",
       "      <td>-0.888756</td>\n",
       "      <td>-0.945033</td>\n",
       "      <td>-1.145516</td>\n",
       "      <td>-0.607503</td>\n",
       "      <td>0.485653</td>\n",
       "      <td>-0.444988</td>\n",
       "      <td>-0.861599</td>\n",
       "      <td>-0.080884</td>\n",
       "      <td>-0.149023</td>\n",
       "      <td>-0.414920</td>\n",
       "      <td>0.190995</td>\n",
       "      <td>-0.231921</td>\n",
       "      <td>1.411582</td>\n",
       "      <td>1.401707</td>\n",
       "      <td>1.574522</td>\n",
       "      <td>-1.650911</td>\n",
       "      <td>-0.030931</td>\n",
       "      <td>1.091958</td>\n",
       "      <td>-0.349702</td>\n",
       "      <td>-0.875576</td>\n",
       "      <td>-0.122229</td>\n",
       "      <td>-0.253133</td>\n",
       "      <td>1.272568</td>\n",
       "      <td>-0.292010</td>\n",
       "      <td>-0.144506</td>\n",
       "      <td>-0.189319</td>\n",
       "      <td>-0.213967</td>\n",
       "      <td>-0.212005</td>\n",
       "      <td>-0.548857</td>\n",
       "      <td>-0.063488</td>\n",
       "      <td>-0.228236</td>\n",
       "      <td>-0.177055</td>\n",
       "      <td>-0.086669</td>\n",
       "      <td>-0.561233</td>\n",
       "      <td>1.238213</td>\n",
       "      <td>-0.75931</td>\n",
       "      <td>0.0</td>\n",
       "    </tr>\n",
       "    <tr>\n",
       "      <th>3</th>\n",
       "      <td>0.147756</td>\n",
       "      <td>-0.039036</td>\n",
       "      <td>0.075864</td>\n",
       "      <td>-0.706270</td>\n",
       "      <td>-0.706270</td>\n",
       "      <td>-0.579187</td>\n",
       "      <td>0.140296</td>\n",
       "      <td>-0.096078</td>\n",
       "      <td>0.554946</td>\n",
       "      <td>-0.321490</td>\n",
       "      <td>2.794451</td>\n",
       "      <td>3.017612</td>\n",
       "      <td>-0.861599</td>\n",
       "      <td>-0.080884</td>\n",
       "      <td>-0.149023</td>\n",
       "      <td>1.008324</td>\n",
       "      <td>-0.462109</td>\n",
       "      <td>-0.231921</td>\n",
       "      <td>1.411582</td>\n",
       "      <td>0.013271</td>\n",
       "      <td>0.598886</td>\n",
       "      <td>-0.591192</td>\n",
       "      <td>-0.030931</td>\n",
       "      <td>1.091958</td>\n",
       "      <td>-0.349702</td>\n",
       "      <td>-0.875576</td>\n",
       "      <td>-0.122229</td>\n",
       "      <td>-0.253133</td>\n",
       "      <td>-0.785813</td>\n",
       "      <td>-0.292010</td>\n",
       "      <td>-0.144506</td>\n",
       "      <td>-0.189319</td>\n",
       "      <td>-0.213967</td>\n",
       "      <td>-0.212005</td>\n",
       "      <td>-0.548857</td>\n",
       "      <td>-0.063488</td>\n",
       "      <td>4.381428</td>\n",
       "      <td>-0.177055</td>\n",
       "      <td>-0.086669</td>\n",
       "      <td>-0.561233</td>\n",
       "      <td>1.238213</td>\n",
       "      <td>-0.75931</td>\n",
       "      <td>1.0</td>\n",
       "    </tr>\n",
       "    <tr>\n",
       "      <th>4</th>\n",
       "      <td>1.496147</td>\n",
       "      <td>-0.267633</td>\n",
       "      <td>0.527950</td>\n",
       "      <td>4.014796</td>\n",
       "      <td>4.014796</td>\n",
       "      <td>-0.579187</td>\n",
       "      <td>1.472387</td>\n",
       "      <td>-0.945033</td>\n",
       "      <td>-0.140698</td>\n",
       "      <td>-0.697741</td>\n",
       "      <td>1.255252</td>\n",
       "      <td>-0.444988</td>\n",
       "      <td>-0.861599</td>\n",
       "      <td>-0.080884</td>\n",
       "      <td>-0.149023</td>\n",
       "      <td>-0.414920</td>\n",
       "      <td>-1.305206</td>\n",
       "      <td>-0.231921</td>\n",
       "      <td>1.411582</td>\n",
       "      <td>0.013271</td>\n",
       "      <td>0.598886</td>\n",
       "      <td>-0.856122</td>\n",
       "      <td>-0.030931</td>\n",
       "      <td>-0.915786</td>\n",
       "      <td>2.859579</td>\n",
       "      <td>-0.875576</td>\n",
       "      <td>-0.122229</td>\n",
       "      <td>-0.253133</td>\n",
       "      <td>-0.785813</td>\n",
       "      <td>-0.292010</td>\n",
       "      <td>-0.144506</td>\n",
       "      <td>-0.189319</td>\n",
       "      <td>-0.213967</td>\n",
       "      <td>4.716873</td>\n",
       "      <td>-0.548857</td>\n",
       "      <td>-0.063488</td>\n",
       "      <td>-0.228236</td>\n",
       "      <td>-0.177055</td>\n",
       "      <td>-0.086669</td>\n",
       "      <td>-0.561233</td>\n",
       "      <td>1.238213</td>\n",
       "      <td>-0.75931</td>\n",
       "      <td>1.0</td>\n",
       "    </tr>\n",
       "  </tbody>\n",
       "</table>\n",
       "</div>"
      ],
      "text/plain": [
       "   loan_amnt  annual_inc       dti  fico_range_low  fico_range_high  int_rate  \\\n",
       "0   1.411209   -0.188121  0.398143       -0.968551        -0.968551 -0.162888   \n",
       "1  -0.680389   -0.058914 -1.184157        1.916545         1.916545 -0.579187   \n",
       "2  -0.945820   -0.287511 -0.294533        0.080575         0.080575  0.605333   \n",
       "3   0.147756   -0.039036  0.075864       -0.706270        -0.706270 -0.579187   \n",
       "4   1.496147   -0.267633  0.527950        4.014796         4.014796 -0.579187   \n",
       "\n",
       "   installment  open_acc  total_acc  revol_bal  inq_last_6mths  delinq_2yrs  \\\n",
       "0     1.437204  0.413296   1.482470  -0.314595        2.024852    -0.444988   \n",
       "1    -0.677878 -0.605451  -1.068222  -0.696583        1.255252     0.420662   \n",
       "2    -0.888756 -0.945033  -1.145516  -0.607503        0.485653    -0.444988   \n",
       "3     0.140296 -0.096078   0.554946  -0.321490        2.794451     3.017612   \n",
       "4     1.472387 -0.945033  -0.140698  -0.697741        1.255252    -0.444988   \n",
       "\n",
       "   mths_since_last_delinq  acc_now_delinq  collections_12_mths_ex_med  \\\n",
       "0                1.831332       -0.080884                   -0.149023   \n",
       "1               -0.278130       -0.080884                   -0.149023   \n",
       "2               -0.861599       -0.080884                   -0.149023   \n",
       "3               -0.861599       -0.080884                   -0.149023   \n",
       "4               -0.861599       -0.080884                   -0.149023   \n",
       "\n",
       "    pub_rec  months_cr_line      term  initial_list_status     grade  \\\n",
       "0  1.008324       -0.901469 -0.231921             1.411582  1.401707   \n",
       "1 -0.414920       -0.972717 -0.231921             1.411582  0.013271   \n",
       "2 -0.414920        0.190995 -0.231921             1.411582  1.401707   \n",
       "3  1.008324       -0.462109 -0.231921             1.411582  0.013271   \n",
       "4 -0.414920       -1.305206 -0.231921             1.411582  0.013271   \n",
       "\n",
       "   sub_grade  emp_length       ANY  MORTGAGE       OWN      RENT       car  \\\n",
       "0   0.924098    0.998387 -0.030931 -0.915786 -0.349702  1.142106 -0.122229   \n",
       "1   0.598886   -0.591192 -0.030931 -0.915786 -0.349702  1.142106 -0.122229   \n",
       "2   1.574522   -1.650911 -0.030931  1.091958 -0.349702 -0.875576 -0.122229   \n",
       "3   0.598886   -0.591192 -0.030931  1.091958 -0.349702 -0.875576 -0.122229   \n",
       "4   0.598886   -0.856122 -0.030931 -0.915786  2.859579 -0.875576 -0.122229   \n",
       "\n",
       "   credit_card  debt_consolidation  home_improvement     house  \\\n",
       "0     3.950487           -0.785813         -0.292010 -0.144506   \n",
       "1    -0.253133           -0.785813          3.424543 -0.144506   \n",
       "2    -0.253133            1.272568         -0.292010 -0.144506   \n",
       "3    -0.253133           -0.785813         -0.292010 -0.144506   \n",
       "4    -0.253133           -0.785813         -0.292010 -0.144506   \n",
       "\n",
       "   major_purchase   medical    moving     other  renewable_energy  \\\n",
       "0       -0.189319 -0.213967 -0.212005 -0.548857         -0.063488   \n",
       "1       -0.189319 -0.213967 -0.212005 -0.548857         -0.063488   \n",
       "2       -0.189319 -0.213967 -0.212005 -0.548857         -0.063488   \n",
       "3       -0.189319 -0.213967 -0.212005 -0.548857         -0.063488   \n",
       "4       -0.189319 -0.213967  4.716873 -0.548857         -0.063488   \n",
       "\n",
       "   small_business  vacation   wedding  Not Verified  Source Verified  \\\n",
       "0       -0.228236 -0.177055 -0.086669     -0.561233         1.238213   \n",
       "1       -0.228236 -0.177055 -0.086669     -0.561233         1.238213   \n",
       "2       -0.228236 -0.177055 -0.086669     -0.561233         1.238213   \n",
       "3        4.381428 -0.177055 -0.086669     -0.561233         1.238213   \n",
       "4       -0.228236 -0.177055 -0.086669     -0.561233         1.238213   \n",
       "\n",
       "   Verified  loan_status_bin  \n",
       "0  -0.75931              1.0  \n",
       "1  -0.75931              0.0  \n",
       "2  -0.75931              0.0  \n",
       "3  -0.75931              1.0  \n",
       "4  -0.75931              1.0  "
      ]
     },
     "execution_count": 3,
     "metadata": {},
     "output_type": "execute_result"
    }
   ],
   "source": [
    "data = pd.read_csv('../../Data/20x43_DEFG1060.csv')\n",
    "data.head(5)"
   ]
  },
  {
   "cell_type": "code",
   "execution_count": 4,
   "id": "771565fb",
   "metadata": {},
   "outputs": [
    {
     "data": {
      "text/plain": [
       "(5231, 43)"
      ]
     },
     "execution_count": 4,
     "metadata": {},
     "output_type": "execute_result"
    }
   ],
   "source": [
    "data.shape"
   ]
  },
  {
   "cell_type": "code",
   "execution_count": 5,
   "id": "74758ddc",
   "metadata": {},
   "outputs": [
    {
     "data": {
      "text/plain": [
       "1.0    3995\n",
       "0.0    1236\n",
       "Name: loan_status_bin, dtype: int64"
      ]
     },
     "execution_count": 5,
     "metadata": {},
     "output_type": "execute_result"
    }
   ],
   "source": [
    "data.loan_status_bin.value_counts()\n",
    "#0 = Defaulted Loans\n",
    "#1 = Loans Paid In Full"
   ]
  },
  {
   "cell_type": "code",
   "execution_count": 6,
   "id": "b9a9c6be",
   "metadata": {},
   "outputs": [
    {
     "data": {
      "text/plain": [
       "(5231, 42)"
      ]
     },
     "execution_count": 6,
     "metadata": {},
     "output_type": "execute_result"
    }
   ],
   "source": [
    "X = data.drop('loan_status_bin', axis=1)\n",
    "X.shape"
   ]
  },
  {
   "cell_type": "code",
   "execution_count": 7,
   "id": "0559962b",
   "metadata": {},
   "outputs": [],
   "source": [
    "y = data['loan_status_bin']"
   ]
  },
  {
   "cell_type": "code",
   "execution_count": 8,
   "id": "9b1bb6de",
   "metadata": {},
   "outputs": [],
   "source": [
    "lr1 = LogisticRegression()"
   ]
  },
  {
   "cell_type": "code",
   "execution_count": 9,
   "id": "e9e711e2",
   "metadata": {},
   "outputs": [],
   "source": [
    "steps = [('model', lr1)]\n",
    "pipeline = Pipeline(steps=steps)"
   ]
  },
  {
   "cell_type": "code",
   "execution_count": 10,
   "id": "fb714eeb",
   "metadata": {},
   "outputs": [
    {
     "name": "stdout",
     "output_type": "stream",
     "text": [
      "[0.77077364 0.76099426 0.76386233 0.76481836 0.76195029]\n",
      "0.7644797755948434\n"
     ]
    }
   ],
   "source": [
    "#Accuracy:\n",
    "\n",
    "cv = RepeatedStratifiedKFold(n_splits=5, n_repeats=1, random_state=1)\n",
    "scores = cross_val_score(pipeline, X, y, scoring='accuracy', cv=cv, n_jobs=-1) \n",
    "print(scores)\n",
    "\n",
    "score = np.mean(scores)\n",
    "print(score)"
   ]
  },
  {
   "cell_type": "code",
   "execution_count": 11,
   "id": "9db484eb",
   "metadata": {},
   "outputs": [
    {
     "data": {
      "text/plain": [
       "array([[  47, 1189],\n",
       "       [  43, 3952]])"
      ]
     },
     "execution_count": 11,
     "metadata": {},
     "output_type": "execute_result"
    }
   ],
   "source": [
    "#Aggregated Confusion Matrix From RepeatedStratifiedKFold: \n",
    "y_pred = cross_val_predict(pipeline, X, y, cv=cv, n_jobs=-1)\n",
    "conf_mat = confusion_matrix(y, y_pred)\n",
    "conf_mat"
   ]
  },
  {
   "cell_type": "code",
   "execution_count": 12,
   "id": "cd14efda",
   "metadata": {},
   "outputs": [
    {
     "data": {
      "image/png": "[encoded data removed]",
      "text/plain": [
       "<Figure size 864x432 with 1 Axes>"
      ]
     },
     "metadata": {},
     "output_type": "display_data"
    }
   ],
   "source": [
    "sns.set(rc = {'figure.figsize':(12,6)})\n",
    "#cmap = sns.cubehelix_palette(start=2, rot=0, dark=0, light=.95, reverse=True, as_cmap=True)\n",
    "cmap = sns.light_palette('seagreen', as_cmap=True)\n",
    "\n",
    "res = sns.heatmap(conf_mat, annot=True, fmt='d', annot_kws={\"size\":20},\n",
    "#            xticklabels = ['Good = Paid In Full', 'Bad = Default'],\n",
    "#            yticklabels = ['Loan Paid In Full', 'Bad = Default'], \n",
    "            cmap=cmap, cbar=False)\n",
    "\n",
    "res.set_xticklabels(['Loan Default', 'Loan Repaid'], fontsize=15)\n",
    "res.set_yticklabels(['Loan Default', 'Loan Repaid'], fontsize=15)\n",
    "\n",
    "\n",
    "plt.title('Confusion Matrix For Logistic Regression', fontsize=25, pad=15)\n",
    "plt.xlabel('Predicted', fontsize=20)\n",
    "plt.ylabel('Actual', fontsize=20);"
   ]
  },
  {
   "cell_type": "code",
   "execution_count": 13,
   "id": "345a55b6",
   "metadata": {},
   "outputs": [
    {
     "data": {
      "text/plain": [
       "0.7644809787803479"
      ]
     },
     "execution_count": 13,
     "metadata": {},
     "output_type": "execute_result"
    }
   ],
   "source": [
    "accuracy_score(y, y_pred)"
   ]
  },
  {
   "cell_type": "code",
   "execution_count": 14,
   "id": "22662a59",
   "metadata": {},
   "outputs": [
    {
     "name": "stdout",
     "output_type": "stream",
     "text": [
      "3952\n",
      "1189\n",
      "43\n",
      "47\n",
      "0.7644809787803479\n"
     ]
    }
   ],
   "source": [
    "TN, FP, FN, TP = conf_mat.ravel()\n",
    "print(TP)\n",
    "print(FP)\n",
    "print(FN)\n",
    "print(TN)\n",
    "print((TP + TN) / (TN + TP + FP + FN))"
   ]
  },
  {
   "cell_type": "code",
   "execution_count": null,
   "id": "4dcedec5",
   "metadata": {},
   "outputs": [],
   "source": []
  },
  {
   "cell_type": "code",
   "execution_count": 15,
   "id": "36dec5fa",
   "metadata": {},
   "outputs": [
    {
     "name": "stdout",
     "output_type": "stream",
     "text": [
      "1.0    3995\n",
      "0.0    1236\n",
      "Name: loan_status_bin, dtype: int64\n",
      "\n",
      "0.7637163066335309\n"
     ]
    }
   ],
   "source": [
    "#Re-examine original pool of accepted LC Loans: \n",
    "\n",
    "print(data.loan_status_bin.value_counts())\n",
    "#0 = Loan Defaulted\n",
    "#1 = Loan Fully Paid\n",
    "\n",
    "good_loan = data.loan_status_bin.value_counts()[1]\n",
    "bad_loan = data.loan_status_bin.value_counts()[0]\n",
    "\n",
    "print()\n",
    "print(good_loan / (good_loan + bad_loan))\n",
    "\n",
    "#Random investment would give us 59% chance of pickkng a good loan"
   ]
  },
  {
   "cell_type": "code",
   "execution_count": 16,
   "id": "9be4be5d",
   "metadata": {},
   "outputs": [
    {
     "data": {
      "text/plain": [
       "0.7687220385139077"
      ]
     },
     "execution_count": 16,
     "metadata": {},
     "output_type": "execute_result"
    }
   ],
   "source": [
    "#Positive Predictive Value (or Precision)\n",
    "#Logistic Model only does 0.1% better than Null Model or \"random investment\"\n",
    "TP / (TP+FP)"
   ]
  },
  {
   "cell_type": "code",
   "execution_count": null,
   "id": "747fa766",
   "metadata": {},
   "outputs": [],
   "source": []
  },
  {
   "cell_type": "code",
   "execution_count": 17,
   "id": "3188e143",
   "metadata": {},
   "outputs": [],
   "source": [
    "#What if we \"balance\" the weight class to avoid \"imbalanced\" nature...No Change! "
   ]
  },
  {
   "cell_type": "code",
   "execution_count": 18,
   "id": "0d86ed92",
   "metadata": {},
   "outputs": [],
   "source": [
    "lr_balanced = LogisticRegression(class_weight='balanced')"
   ]
  },
  {
   "cell_type": "code",
   "execution_count": 19,
   "id": "1e582bb8",
   "metadata": {},
   "outputs": [],
   "source": [
    "steps_balanced = [('model', lr_balanced)]\n",
    "pipeline_balanced = Pipeline(steps=steps)"
   ]
  },
  {
   "cell_type": "code",
   "execution_count": 20,
   "id": "1f2cdc5a",
   "metadata": {},
   "outputs": [
    {
     "name": "stdout",
     "output_type": "stream",
     "text": [
      "[0.77077364 0.76099426 0.76386233 0.76481836 0.76195029]\n",
      "0.7644797755948434\n"
     ]
    }
   ],
   "source": [
    "#Accuracy:\n",
    "\n",
    "cv = RepeatedStratifiedKFold(n_splits=5, n_repeats=1, random_state=1)\n",
    "scores = cross_val_score(pipeline_balanced, X, y, scoring='accuracy', cv=cv, n_jobs=-1) \n",
    "print(scores)\n",
    "\n",
    "score = np.mean(scores)\n",
    "print(score)"
   ]
  },
  {
   "cell_type": "code",
   "execution_count": 21,
   "id": "b5943c47",
   "metadata": {},
   "outputs": [
    {
     "data": {
      "text/plain": [
       "array([[  47, 1189],\n",
       "       [  43, 3952]])"
      ]
     },
     "execution_count": 21,
     "metadata": {},
     "output_type": "execute_result"
    }
   ],
   "source": [
    "#Aggregated Confusion Matrix From RepeatedStratifiedKFold: \n",
    "y_pred_balanced = cross_val_predict(pipeline_balanced, X, y, cv=cv, n_jobs=-1)\n",
    "conf_mat_balanced = confusion_matrix(y, y_pred_balanced)\n",
    "conf_mat_balanced"
   ]
  },
  {
   "cell_type": "code",
   "execution_count": null,
   "id": "33d49ed8",
   "metadata": {},
   "outputs": [],
   "source": []
  },
  {
   "cell_type": "code",
   "execution_count": null,
   "id": "c2672371",
   "metadata": {},
   "outputs": [],
   "source": []
  },
  {
   "cell_type": "code",
   "execution_count": 22,
   "id": "3e6f9d5f",
   "metadata": {},
   "outputs": [],
   "source": [
    "#Obtain predicted probabilities (not predicted classes) from RSKF: \n",
    "y_pred_prob = cross_val_predict(pipeline, X, y, cv=cv, n_jobs=-1, method='predict_proba')"
   ]
  },
  {
   "cell_type": "code",
   "execution_count": 23,
   "id": "9f850d5b",
   "metadata": {},
   "outputs": [
    {
     "data": {
      "text/plain": [
       "array([[0.40953072, 0.59046928],\n",
       "       [0.28916578, 0.71083422],\n",
       "       [0.25118542, 0.74881458],\n",
       "       ...,\n",
       "       [0.25875671, 0.74124329],\n",
       "       [0.26475039, 0.73524961],\n",
       "       [0.36012228, 0.63987772]])"
      ]
     },
     "execution_count": 23,
     "metadata": {},
     "output_type": "execute_result"
    }
   ],
   "source": [
    "y_pred_prob"
   ]
  },
  {
   "cell_type": "code",
   "execution_count": 24,
   "id": "973f2937",
   "metadata": {},
   "outputs": [
    {
     "data": {
      "text/plain": [
       "array([0., 0., 0., ..., 0., 0., 0.])"
      ]
     },
     "execution_count": 24,
     "metadata": {},
     "output_type": "execute_result"
    }
   ],
   "source": [
    "#Obtaining classification based on desired threshold of 0.8: \n",
    "\n",
    "y_pred_success = (y_pred_prob[:, 1] > 0.90).astype('float')\n",
    "y_pred_success"
   ]
  },
  {
   "cell_type": "code",
   "execution_count": 25,
   "id": "686a5f94",
   "metadata": {},
   "outputs": [
    {
     "data": {
      "text/plain": [
       "array([[1199,   37],\n",
       "       [3676,  319]])"
      ]
     },
     "execution_count": 25,
     "metadata": {},
     "output_type": "execute_result"
    }
   ],
   "source": [
    "conf_mat = confusion_matrix(y, y_pred_success)\n",
    "conf_mat"
   ]
  },
  {
   "cell_type": "code",
   "execution_count": 26,
   "id": "6c050cfb",
   "metadata": {},
   "outputs": [
    {
     "data": {
      "image/png": "[encoded data removed]",
      "text/plain": [
       "<Figure size 864x432 with 1 Axes>"
      ]
     },
     "metadata": {},
     "output_type": "display_data"
    }
   ],
   "source": [
    "sns.set(rc = {'figure.figsize':(12,6)})\n",
    "#cmap = sns.cubehelix_palette(start=2, rot=0, dark=0, light=.95, reverse=True, as_cmap=True)\n",
    "cmap = sns.light_palette('seagreen', as_cmap=True)\n",
    "\n",
    "res = sns.heatmap(conf_mat, annot=True, fmt='d', annot_kws={\"size\":20},\n",
    "#            xticklabels = ['Good = Paid In Full', 'Bad = Default'],\n",
    "#            yticklabels = ['Loan Paid In Full', 'Bad = Default'], \n",
    "            cmap=cmap, cbar=False)\n",
    "\n",
    "res.set_xticklabels(['Loan Default', 'Loan Repaid'], fontsize=15)\n",
    "res.set_yticklabels(['Loan Default', 'Loan Repaid'], fontsize=15)\n",
    "\n",
    "\n",
    "plt.title('Confusion Matrix For Logistic Regression', fontsize=25, pad=15)\n",
    "plt.xlabel('Predicted', fontsize=20)\n",
    "plt.ylabel('Actual', fontsize=20);"
   ]
  },
  {
   "cell_type": "code",
   "execution_count": 27,
   "id": "c5dc62cd",
   "metadata": {},
   "outputs": [
    {
     "data": {
      "text/plain": [
       "0.2901930797170713"
      ]
     },
     "execution_count": 27,
     "metadata": {},
     "output_type": "execute_result"
    }
   ],
   "source": [
    "accuracy_score(y, y_pred_success)"
   ]
  },
  {
   "cell_type": "code",
   "execution_count": 28,
   "id": "25920782",
   "metadata": {},
   "outputs": [
    {
     "name": "stdout",
     "output_type": "stream",
     "text": [
      "319\n",
      "37\n",
      "3676\n",
      "1199\n",
      "0.2901930797170713\n"
     ]
    }
   ],
   "source": [
    "TN, FP, FN, TP = conf_mat.ravel()\n",
    "print(TP)\n",
    "print(FP)\n",
    "print(FN)\n",
    "print(TN)\n",
    "print((TP + TN) / (TN + TP + FP + FN))"
   ]
  },
  {
   "cell_type": "code",
   "execution_count": 29,
   "id": "67e15484",
   "metadata": {},
   "outputs": [
    {
     "data": {
      "text/plain": [
       "0.8960674157303371"
      ]
     },
     "execution_count": 29,
     "metadata": {},
     "output_type": "execute_result"
    }
   ],
   "source": [
    "#Positive Predictive Value (or Precision)\n",
    "#Logistic Model only does 3% better than Null Model or \"random investment\"\n",
    "TP / (TP+FP)"
   ]
  },
  {
   "cell_type": "code",
   "execution_count": null,
   "id": "0ec77f4b",
   "metadata": {},
   "outputs": [],
   "source": []
  },
  {
   "cell_type": "code",
   "execution_count": 30,
   "id": "ac9a9f8f",
   "metadata": {},
   "outputs": [
    {
     "name": "stdout",
     "output_type": "stream",
     "text": [
      "0.8968253968253969\n",
      "91\n"
     ]
    }
   ],
   "source": [
    "thresh = []\n",
    "PosPredVal = []\n",
    "\n",
    "for i in range(0,100,1):\n",
    "    y_pred_success = (y_pred_prob[:, 1] > (i/100)).astype('float')\n",
    "    conf_mat = confusion_matrix(y, y_pred_success)\n",
    "    TN, FP, FN, TP = conf_mat.ravel()\n",
    "    thresh.append(i)\n",
    "    PosPredVal.append((TP/(TP+FP)))\n",
    "\n",
    "print(np.max(PosPredVal))\n",
    "print(PosPredVal.index(np.max(PosPredVal)))"
   ]
  },
  {
   "cell_type": "code",
   "execution_count": 31,
   "id": "60560faf",
   "metadata": {},
   "outputs": [
    {
     "data": {
      "text/plain": [
       "[0.7637163066335309,\n",
       " 0.7637163066335309,\n",
       " 0.7637163066335309,\n",
       " 0.7637163066335309,\n",
       " 0.7637163066335309,\n",
       " 0.7637163066335309,\n",
       " 0.7637163066335309,\n",
       " 0.7637163066335309,\n",
       " 0.7637163066335309,\n",
       " 0.7637163066335309,\n",
       " 0.7637163066335309,\n",
       " 0.7637163066335309,\n",
       " 0.7637163066335309,\n",
       " 0.7637163066335309,\n",
       " 0.7637163066335309,\n",
       " 0.7637163066335309,\n",
       " 0.7637163066335309,\n",
       " 0.7637163066335309,\n",
       " 0.7637163066335309,\n",
       " 0.7637163066335309,\n",
       " 0.7637163066335309,\n",
       " 0.7637163066335309,\n",
       " 0.7637163066335309,\n",
       " 0.7637163066335309,\n",
       " 0.7637163066335309,\n",
       " 0.7637163066335309,\n",
       " 0.7637163066335309,\n",
       " 0.7638623326959847,\n",
       " 0.7638171734557276,\n",
       " 0.7639632746748278,\n",
       " 0.7641094317964415,\n",
       " 0.7640191387559808,\n",
       " 0.7641653905053599,\n",
       " 0.7643116982577063,\n",
       " 0.764266564534661,\n",
       " 0.764266564534661,\n",
       " 0.7644129477111664,\n",
       " 0.76455938697318,\n",
       " 0.7646607895745496,\n",
       " 0.764908916586769,\n",
       " 0.7653491941673062,\n",
       " 0.7657899788827031,\n",
       " 0.7656550134460238,\n",
       " 0.7657120891793197,\n",
       " 0.7663587374903772,\n",
       " 0.76662169974947,\n",
       " 0.7667374107659657,\n",
       " 0.7669565217391304,\n",
       " 0.7670410534469404,\n",
       " 0.7674102812803104,\n",
       " 0.7687220385139077,\n",
       " 0.7698907956318253,\n",
       " 0.7710371819960861,\n",
       " 0.7719056974459725,\n",
       " 0.7719194312796208,\n",
       " 0.7722929936305732,\n",
       " 0.7744783306581059,\n",
       " 0.7764753435731608,\n",
       " 0.7792526036348785,\n",
       " 0.7796540362438221,\n",
       " 0.7813150228880565,\n",
       " 0.7824805222152033,\n",
       " 0.7841880341880342,\n",
       " 0.7848950443626921,\n",
       " 0.7863906628495926,\n",
       " 0.7883014623172103,\n",
       " 0.791790873652832,\n",
       " 0.7937367553567224,\n",
       " 0.798349915069158,\n",
       " 0.8023952095808383,\n",
       " 0.806119825147853,\n",
       " 0.8077433041633519,\n",
       " 0.8119469026548672,\n",
       " 0.817581154840563,\n",
       " 0.824385805277525,\n",
       " 0.8279742765273312,\n",
       " 0.8321440706761808,\n",
       " 0.8369330453563715,\n",
       " 0.8422676436559969,\n",
       " 0.8439477013918179,\n",
       " 0.8486511202560585,\n",
       " 0.850253807106599,\n",
       " 0.856492027334852,\n",
       " 0.8605246321177223,\n",
       " 0.8624910007199424,\n",
       " 0.8640939597315436,\n",
       " 0.8742574257425743,\n",
       " 0.8803827751196173,\n",
       " 0.8851963746223565,\n",
       " 0.8850102669404517,\n",
       " 0.8960674157303371,\n",
       " 0.8968253968253969,\n",
       " 0.8823529411764706,\n",
       " 0.8504672897196262,\n",
       " 0.8333333333333334,\n",
       " 0.8461538461538461,\n",
       " 0.8666666666666667,\n",
       " 0.8333333333333334,\n",
       " 0.7272727272727273,\n",
       " 0.8333333333333334]"
      ]
     },
     "execution_count": 31,
     "metadata": {},
     "output_type": "execute_result"
    }
   ],
   "source": [
    "PosPredVal"
   ]
  },
  {
   "cell_type": "code",
   "execution_count": 30,
   "id": "a51b3ce5",
   "metadata": {},
   "outputs": [],
   "source": [
    "## Next question. what was characteristic of the 217 loans that defaulted??\n",
    "## Get all loans which you predicted greater than 80% and find out which ones defaulted.\n",
    "## Any pattern?????"
   ]
  },
  {
   "cell_type": "code",
   "execution_count": 31,
   "id": "2bb4a848",
   "metadata": {},
   "outputs": [],
   "source": [
    "#Do we drop all observations where the source is not verified? \n",
    "#Do we drop all observations loan amount is greater than half of one's income? "
   ]
  },
  {
   "cell_type": "code",
   "execution_count": null,
   "id": "88205f9a",
   "metadata": {},
   "outputs": [],
   "source": []
  }
 ],
 "metadata": {
  "hide_input": false,
  "kernelspec": {
   "display_name": "Python 3 (ipykernel)",
   "language": "python",
   "name": "python3"
  },
  "language_info": {
   "codemirror_mode": {
    "name": "ipython",
    "version": 3
   },
   "file_extension": ".py",
   "mimetype": "text/x-python",
   "name": "python",
   "nbconvert_exporter": "python",
   "pygments_lexer": "ipython3",
   "version": "3.8.8"
  },
  "varInspector": {
   "cols": {
    "lenName": 16,
    "lenType": 16,
    "lenVar": 40
   },
   "kernels_config": {
    "python": {
     "delete_cmd_postfix": "",
     "delete_cmd_prefix": "del ",
     "library": "var_list.py",
     "varRefreshCmd": "print(var_dic_list())"
    },
    "r": {
     "delete_cmd_postfix": ") ",
     "delete_cmd_prefix": "rm(",
     "library": "var_list.r",
     "varRefreshCmd": "cat(var_dic_list()) "
    }
   },
   "types_to_exclude": [
    "module",
    "function",
    "builtin_function_or_method",
    "instance",
    "_Feature"
   ],
   "window_display": false
  }
 },
 "nbformat": 4,
 "nbformat_minor": 5
}
