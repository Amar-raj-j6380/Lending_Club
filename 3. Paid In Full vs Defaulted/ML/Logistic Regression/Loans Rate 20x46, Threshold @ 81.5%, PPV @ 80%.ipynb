{
 "cells": [
  {
   "cell_type": "code",
   "execution_count": 1,
   "id": "6f4648b5",
   "metadata": {},
   "outputs": [],
   "source": [
    "import pandas as pd\n",
    "import numpy as np\n",
    "import seaborn as sns\n",
    "import copy as cp\n",
    "import matplotlib.pyplot as plt\n",
    "\n",
    "from sklearn.model_selection import cross_val_score, cross_val_predict \n",
    "from sklearn.model_selection import train_test_split\n",
    "from sklearn.model_selection import RepeatedStratifiedKFold\n",
    "from imblearn.pipeline import Pipeline\n",
    "from imblearn.over_sampling import SMOTE\n",
    "\n",
    "from sklearn.linear_model import LogisticRegression\n",
    "from sklearn.metrics import roc_auc_score, roc_curve, precision_recall_curve\n",
    "from sklearn.metrics import confusion_matrix, accuracy_score\n",
    "\n",
    "from typing import Tuple"
   ]
  },
  {
   "cell_type": "code",
   "execution_count": 2,
   "id": "a6b2eaad",
   "metadata": {},
   "outputs": [],
   "source": [
    "pd.set_option(\"display.max_columns\", 200)\n",
    "pd.set_option(\"display.max_row\", 160)\n",
    "pd.set_option('max_colwidth', 200)"
   ]
  },
  {
   "cell_type": "code",
   "execution_count": 3,
   "id": "acc59130",
   "metadata": {},
   "outputs": [
    {
     "data": {
      "text/html": [
       "<div>\n",
       "<style scoped>\n",
       "    .dataframe tbody tr th:only-of-type {\n",
       "        vertical-align: middle;\n",
       "    }\n",
       "\n",
       "    .dataframe tbody tr th {\n",
       "        vertical-align: top;\n",
       "    }\n",
       "\n",
       "    .dataframe thead th {\n",
       "        text-align: right;\n",
       "    }\n",
       "</style>\n",
       "<table border=\"1\" class=\"dataframe\">\n",
       "  <thead>\n",
       "    <tr style=\"text-align: right;\">\n",
       "      <th></th>\n",
       "      <th>loan_amnt</th>\n",
       "      <th>annual_inc</th>\n",
       "      <th>dti</th>\n",
       "      <th>fico_range_low</th>\n",
       "      <th>fico_range_high</th>\n",
       "      <th>int_rate</th>\n",
       "      <th>installment</th>\n",
       "      <th>open_acc</th>\n",
       "      <th>total_acc</th>\n",
       "      <th>revol_bal</th>\n",
       "      <th>inq_last_6mths</th>\n",
       "      <th>delinq_2yrs</th>\n",
       "      <th>acc_now_delinq</th>\n",
       "      <th>collections_12_mths_ex_med</th>\n",
       "      <th>pub_rec</th>\n",
       "      <th>earliest_cr_line_month</th>\n",
       "      <th>earliest_cr_line_year</th>\n",
       "      <th>term</th>\n",
       "      <th>initial_list_status</th>\n",
       "      <th>grade</th>\n",
       "      <th>sub_grade</th>\n",
       "      <th>emp_length</th>\n",
       "      <th>ANY</th>\n",
       "      <th>MORTGAGE</th>\n",
       "      <th>NONE</th>\n",
       "      <th>OTHER</th>\n",
       "      <th>OWN</th>\n",
       "      <th>RENT</th>\n",
       "      <th>car</th>\n",
       "      <th>credit_card</th>\n",
       "      <th>debt_consolidation</th>\n",
       "      <th>educational</th>\n",
       "      <th>home_improvement</th>\n",
       "      <th>house</th>\n",
       "      <th>major_purchase</th>\n",
       "      <th>medical</th>\n",
       "      <th>moving</th>\n",
       "      <th>other</th>\n",
       "      <th>renewable_energy</th>\n",
       "      <th>small_business</th>\n",
       "      <th>vacation</th>\n",
       "      <th>wedding</th>\n",
       "      <th>Not Verified</th>\n",
       "      <th>Source Verified</th>\n",
       "      <th>Verified</th>\n",
       "      <th>loan_status_bin</th>\n",
       "    </tr>\n",
       "  </thead>\n",
       "  <tbody>\n",
       "    <tr>\n",
       "      <th>0</th>\n",
       "      <td>-0.805788</td>\n",
       "      <td>0.544423</td>\n",
       "      <td>0.570300</td>\n",
       "      <td>0.663197</td>\n",
       "      <td>0.663194</td>\n",
       "      <td>-0.388527</td>\n",
       "      <td>-0.928141</td>\n",
       "      <td>0.020404</td>\n",
       "      <td>0.814165</td>\n",
       "      <td>0.277188</td>\n",
       "      <td>1.683433</td>\n",
       "      <td>0.681092</td>\n",
       "      <td>-0.074467</td>\n",
       "      <td>-0.125292</td>\n",
       "      <td>-0.377704</td>\n",
       "      <td>-0.220266</td>\n",
       "      <td>-0.283574</td>\n",
       "      <td>0.729709</td>\n",
       "      <td>1.019288</td>\n",
       "      <td>0.837092</td>\n",
       "      <td>0.319365</td>\n",
       "      <td>-0.684242</td>\n",
       "      <td>-0.017646</td>\n",
       "      <td>1.099265</td>\n",
       "      <td>-0.007523</td>\n",
       "      <td>-0.007523</td>\n",
       "      <td>-0.358603</td>\n",
       "      <td>-0.873547</td>\n",
       "      <td>-0.084014</td>\n",
       "      <td>-0.342123</td>\n",
       "      <td>-1.311086</td>\n",
       "      <td>-0.003071</td>\n",
       "      <td>-0.252444</td>\n",
       "      <td>-0.117473</td>\n",
       "      <td>6.888409</td>\n",
       "      <td>-0.123241</td>\n",
       "      <td>-0.114845</td>\n",
       "      <td>-0.323001</td>\n",
       "      <td>-0.037391</td>\n",
       "      <td>-0.171212</td>\n",
       "      <td>-0.082752</td>\n",
       "      <td>-0.052011</td>\n",
       "      <td>-0.372811</td>\n",
       "      <td>1.298703</td>\n",
       "      <td>-1.011585</td>\n",
       "      <td>1.0</td>\n",
       "    </tr>\n",
       "    <tr>\n",
       "      <th>1</th>\n",
       "      <td>0.650069</td>\n",
       "      <td>0.015948</td>\n",
       "      <td>0.055254</td>\n",
       "      <td>-1.040497</td>\n",
       "      <td>-1.040493</td>\n",
       "      <td>0.282002</td>\n",
       "      <td>0.487904</td>\n",
       "      <td>1.071777</td>\n",
       "      <td>-0.307337</td>\n",
       "      <td>0.416038</td>\n",
       "      <td>-0.902143</td>\n",
       "      <td>-0.383738</td>\n",
       "      <td>-0.074467</td>\n",
       "      <td>-0.125292</td>\n",
       "      <td>-0.377704</td>\n",
       "      <td>-0.808202</td>\n",
       "      <td>0.974220</td>\n",
       "      <td>0.729709</td>\n",
       "      <td>1.019288</td>\n",
       "      <td>0.837092</td>\n",
       "      <td>0.871554</td>\n",
       "      <td>-0.427946</td>\n",
       "      <td>-0.017646</td>\n",
       "      <td>1.099265</td>\n",
       "      <td>-0.007523</td>\n",
       "      <td>-0.007523</td>\n",
       "      <td>-0.358603</td>\n",
       "      <td>-0.873547</td>\n",
       "      <td>-0.084014</td>\n",
       "      <td>-0.342123</td>\n",
       "      <td>0.762727</td>\n",
       "      <td>-0.003071</td>\n",
       "      <td>-0.252444</td>\n",
       "      <td>-0.117473</td>\n",
       "      <td>-0.145171</td>\n",
       "      <td>-0.123241</td>\n",
       "      <td>-0.114845</td>\n",
       "      <td>-0.323001</td>\n",
       "      <td>-0.037391</td>\n",
       "      <td>-0.171212</td>\n",
       "      <td>-0.082752</td>\n",
       "      <td>-0.052011</td>\n",
       "      <td>2.682328</td>\n",
       "      <td>-0.769999</td>\n",
       "      <td>-1.011585</td>\n",
       "      <td>0.0</td>\n",
       "    </tr>\n",
       "    <tr>\n",
       "      <th>2</th>\n",
       "      <td>-0.232905</td>\n",
       "      <td>-0.522707</td>\n",
       "      <td>1.648144</td>\n",
       "      <td>3.583815</td>\n",
       "      <td>3.583802</td>\n",
       "      <td>-0.133801</td>\n",
       "      <td>-0.383561</td>\n",
       "      <td>1.071777</td>\n",
       "      <td>-0.067015</td>\n",
       "      <td>-0.358038</td>\n",
       "      <td>-0.040284</td>\n",
       "      <td>-0.383738</td>\n",
       "      <td>-0.074467</td>\n",
       "      <td>-0.125292</td>\n",
       "      <td>-0.377704</td>\n",
       "      <td>-1.690107</td>\n",
       "      <td>0.974220</td>\n",
       "      <td>0.729709</td>\n",
       "      <td>-0.981077</td>\n",
       "      <td>0.837092</td>\n",
       "      <td>0.595459</td>\n",
       "      <td>1.109835</td>\n",
       "      <td>-0.017646</td>\n",
       "      <td>-0.909699</td>\n",
       "      <td>-0.007523</td>\n",
       "      <td>-0.007523</td>\n",
       "      <td>2.788603</td>\n",
       "      <td>-0.873547</td>\n",
       "      <td>-0.084014</td>\n",
       "      <td>-0.342123</td>\n",
       "      <td>0.762727</td>\n",
       "      <td>-0.003071</td>\n",
       "      <td>-0.252444</td>\n",
       "      <td>-0.117473</td>\n",
       "      <td>-0.145171</td>\n",
       "      <td>-0.123241</td>\n",
       "      <td>-0.114845</td>\n",
       "      <td>-0.323001</td>\n",
       "      <td>-0.037391</td>\n",
       "      <td>-0.171212</td>\n",
       "      <td>-0.082752</td>\n",
       "      <td>-0.052011</td>\n",
       "      <td>2.682328</td>\n",
       "      <td>-0.769999</td>\n",
       "      <td>-1.011585</td>\n",
       "      <td>1.0</td>\n",
       "    </tr>\n",
       "    <tr>\n",
       "      <th>3</th>\n",
       "      <td>0.529186</td>\n",
       "      <td>0.644379</td>\n",
       "      <td>0.008638</td>\n",
       "      <td>-1.040497</td>\n",
       "      <td>-1.040493</td>\n",
       "      <td>-1.118991</td>\n",
       "      <td>0.203558</td>\n",
       "      <td>-0.154825</td>\n",
       "      <td>-0.067015</td>\n",
       "      <td>0.212601</td>\n",
       "      <td>-0.902143</td>\n",
       "      <td>-0.383738</td>\n",
       "      <td>-0.074467</td>\n",
       "      <td>-0.125292</td>\n",
       "      <td>-0.377704</td>\n",
       "      <td>0.367670</td>\n",
       "      <td>-1.960634</td>\n",
       "      <td>0.729709</td>\n",
       "      <td>1.019288</td>\n",
       "      <td>-0.426533</td>\n",
       "      <td>-0.232824</td>\n",
       "      <td>-0.940539</td>\n",
       "      <td>-0.017646</td>\n",
       "      <td>-0.909699</td>\n",
       "      <td>-0.007523</td>\n",
       "      <td>-0.007523</td>\n",
       "      <td>2.788603</td>\n",
       "      <td>-0.873547</td>\n",
       "      <td>11.902814</td>\n",
       "      <td>-0.342123</td>\n",
       "      <td>-1.311086</td>\n",
       "      <td>-0.003071</td>\n",
       "      <td>-0.252444</td>\n",
       "      <td>-0.117473</td>\n",
       "      <td>-0.145171</td>\n",
       "      <td>-0.123241</td>\n",
       "      <td>-0.114845</td>\n",
       "      <td>-0.323001</td>\n",
       "      <td>-0.037391</td>\n",
       "      <td>-0.171212</td>\n",
       "      <td>-0.082752</td>\n",
       "      <td>-0.052011</td>\n",
       "      <td>2.682328</td>\n",
       "      <td>-0.769999</td>\n",
       "      <td>-1.011585</td>\n",
       "      <td>0.0</td>\n",
       "    </tr>\n",
       "    <tr>\n",
       "      <th>4</th>\n",
       "      <td>1.780067</td>\n",
       "      <td>0.823931</td>\n",
       "      <td>1.743649</td>\n",
       "      <td>0.906582</td>\n",
       "      <td>0.906578</td>\n",
       "      <td>-1.118991</td>\n",
       "      <td>1.300984</td>\n",
       "      <td>2.298379</td>\n",
       "      <td>2.336203</td>\n",
       "      <td>-0.106754</td>\n",
       "      <td>-0.902143</td>\n",
       "      <td>0.681092</td>\n",
       "      <td>-0.074467</td>\n",
       "      <td>-0.125292</td>\n",
       "      <td>-0.377704</td>\n",
       "      <td>0.955607</td>\n",
       "      <td>-0.842594</td>\n",
       "      <td>0.729709</td>\n",
       "      <td>1.019288</td>\n",
       "      <td>-0.426533</td>\n",
       "      <td>-0.232824</td>\n",
       "      <td>0.597242</td>\n",
       "      <td>-0.017646</td>\n",
       "      <td>1.099265</td>\n",
       "      <td>-0.007523</td>\n",
       "      <td>-0.007523</td>\n",
       "      <td>-0.358603</td>\n",
       "      <td>-0.873547</td>\n",
       "      <td>-0.084014</td>\n",
       "      <td>-0.342123</td>\n",
       "      <td>0.762727</td>\n",
       "      <td>-0.003071</td>\n",
       "      <td>-0.252444</td>\n",
       "      <td>-0.117473</td>\n",
       "      <td>-0.145171</td>\n",
       "      <td>-0.123241</td>\n",
       "      <td>-0.114845</td>\n",
       "      <td>-0.323001</td>\n",
       "      <td>-0.037391</td>\n",
       "      <td>-0.171212</td>\n",
       "      <td>-0.082752</td>\n",
       "      <td>-0.052011</td>\n",
       "      <td>-0.372811</td>\n",
       "      <td>1.298703</td>\n",
       "      <td>-1.011585</td>\n",
       "      <td>1.0</td>\n",
       "    </tr>\n",
       "  </tbody>\n",
       "</table>\n",
       "</div>"
      ],
      "text/plain": [
       "   loan_amnt  annual_inc       dti  fico_range_low  fico_range_high  int_rate  \\\n",
       "0  -0.805788    0.544423  0.570300        0.663197         0.663194 -0.388527   \n",
       "1   0.650069    0.015948  0.055254       -1.040497        -1.040493  0.282002   \n",
       "2  -0.232905   -0.522707  1.648144        3.583815         3.583802 -0.133801   \n",
       "3   0.529186    0.644379  0.008638       -1.040497        -1.040493 -1.118991   \n",
       "4   1.780067    0.823931  1.743649        0.906582         0.906578 -1.118991   \n",
       "\n",
       "   installment  open_acc  total_acc  revol_bal  inq_last_6mths  delinq_2yrs  \\\n",
       "0    -0.928141  0.020404   0.814165   0.277188        1.683433     0.681092   \n",
       "1     0.487904  1.071777  -0.307337   0.416038       -0.902143    -0.383738   \n",
       "2    -0.383561  1.071777  -0.067015  -0.358038       -0.040284    -0.383738   \n",
       "3     0.203558 -0.154825  -0.067015   0.212601       -0.902143    -0.383738   \n",
       "4     1.300984  2.298379   2.336203  -0.106754       -0.902143     0.681092   \n",
       "\n",
       "   acc_now_delinq  collections_12_mths_ex_med   pub_rec  \\\n",
       "0       -0.074467                   -0.125292 -0.377704   \n",
       "1       -0.074467                   -0.125292 -0.377704   \n",
       "2       -0.074467                   -0.125292 -0.377704   \n",
       "3       -0.074467                   -0.125292 -0.377704   \n",
       "4       -0.074467                   -0.125292 -0.377704   \n",
       "\n",
       "   earliest_cr_line_month  earliest_cr_line_year      term  \\\n",
       "0               -0.220266              -0.283574  0.729709   \n",
       "1               -0.808202               0.974220  0.729709   \n",
       "2               -1.690107               0.974220  0.729709   \n",
       "3                0.367670              -1.960634  0.729709   \n",
       "4                0.955607              -0.842594  0.729709   \n",
       "\n",
       "   initial_list_status     grade  sub_grade  emp_length       ANY  MORTGAGE  \\\n",
       "0             1.019288  0.837092   0.319365   -0.684242 -0.017646  1.099265   \n",
       "1             1.019288  0.837092   0.871554   -0.427946 -0.017646  1.099265   \n",
       "2            -0.981077  0.837092   0.595459    1.109835 -0.017646 -0.909699   \n",
       "3             1.019288 -0.426533  -0.232824   -0.940539 -0.017646 -0.909699   \n",
       "4             1.019288 -0.426533  -0.232824    0.597242 -0.017646  1.099265   \n",
       "\n",
       "       NONE     OTHER       OWN      RENT        car  credit_card  \\\n",
       "0 -0.007523 -0.007523 -0.358603 -0.873547  -0.084014    -0.342123   \n",
       "1 -0.007523 -0.007523 -0.358603 -0.873547  -0.084014    -0.342123   \n",
       "2 -0.007523 -0.007523  2.788603 -0.873547  -0.084014    -0.342123   \n",
       "3 -0.007523 -0.007523  2.788603 -0.873547  11.902814    -0.342123   \n",
       "4 -0.007523 -0.007523 -0.358603 -0.873547  -0.084014    -0.342123   \n",
       "\n",
       "   debt_consolidation  educational  home_improvement     house  \\\n",
       "0           -1.311086    -0.003071         -0.252444 -0.117473   \n",
       "1            0.762727    -0.003071         -0.252444 -0.117473   \n",
       "2            0.762727    -0.003071         -0.252444 -0.117473   \n",
       "3           -1.311086    -0.003071         -0.252444 -0.117473   \n",
       "4            0.762727    -0.003071         -0.252444 -0.117473   \n",
       "\n",
       "   major_purchase   medical    moving     other  renewable_energy  \\\n",
       "0        6.888409 -0.123241 -0.114845 -0.323001         -0.037391   \n",
       "1       -0.145171 -0.123241 -0.114845 -0.323001         -0.037391   \n",
       "2       -0.145171 -0.123241 -0.114845 -0.323001         -0.037391   \n",
       "3       -0.145171 -0.123241 -0.114845 -0.323001         -0.037391   \n",
       "4       -0.145171 -0.123241 -0.114845 -0.323001         -0.037391   \n",
       "\n",
       "   small_business  vacation   wedding  Not Verified  Source Verified  \\\n",
       "0       -0.171212 -0.082752 -0.052011     -0.372811         1.298703   \n",
       "1       -0.171212 -0.082752 -0.052011      2.682328        -0.769999   \n",
       "2       -0.171212 -0.082752 -0.052011      2.682328        -0.769999   \n",
       "3       -0.171212 -0.082752 -0.052011      2.682328        -0.769999   \n",
       "4       -0.171212 -0.082752 -0.052011     -0.372811         1.298703   \n",
       "\n",
       "   Verified  loan_status_bin  \n",
       "0 -1.011585              1.0  \n",
       "1 -1.011585              0.0  \n",
       "2 -1.011585              1.0  \n",
       "3 -1.011585              0.0  \n",
       "4 -1.011585              1.0  "
      ]
     },
     "execution_count": 3,
     "metadata": {},
     "output_type": "execute_result"
    }
   ],
   "source": [
    "data = pd.read_csv('../../Data/20x46.csv')\n",
    "data.head(5)"
   ]
  },
  {
   "cell_type": "code",
   "execution_count": 4,
   "id": "771565fb",
   "metadata": {},
   "outputs": [
    {
     "data": {
      "text/plain": [
       "(106009, 46)"
      ]
     },
     "execution_count": 4,
     "metadata": {},
     "output_type": "execute_result"
    }
   ],
   "source": [
    "data.shape"
   ]
  },
  {
   "cell_type": "code",
   "execution_count": 5,
   "id": "74758ddc",
   "metadata": {},
   "outputs": [
    {
     "data": {
      "text/plain": [
       "1.0    62957\n",
       "0.0    43052\n",
       "Name: loan_status_bin, dtype: int64"
      ]
     },
     "execution_count": 5,
     "metadata": {},
     "output_type": "execute_result"
    }
   ],
   "source": [
    "data.loan_status_bin.value_counts()\n",
    "#0 = Defaulted Loans\n",
    "#1 = Loans Paid In Full"
   ]
  },
  {
   "cell_type": "code",
   "execution_count": 6,
   "id": "b9a9c6be",
   "metadata": {},
   "outputs": [
    {
     "data": {
      "text/plain": [
       "(106009, 45)"
      ]
     },
     "execution_count": 6,
     "metadata": {},
     "output_type": "execute_result"
    }
   ],
   "source": [
    "X = data.drop('loan_status_bin', axis=1)\n",
    "X.shape"
   ]
  },
  {
   "cell_type": "code",
   "execution_count": 7,
   "id": "0559962b",
   "metadata": {},
   "outputs": [],
   "source": [
    "y = data['loan_status_bin']"
   ]
  },
  {
   "cell_type": "code",
   "execution_count": 8,
   "id": "9b1bb6de",
   "metadata": {},
   "outputs": [],
   "source": [
    "lr1 = LogisticRegression()"
   ]
  },
  {
   "cell_type": "code",
   "execution_count": 9,
   "id": "e9e711e2",
   "metadata": {},
   "outputs": [],
   "source": [
    "steps = [('model', lr1)]\n",
    "pipeline = Pipeline(steps=steps)"
   ]
  },
  {
   "cell_type": "code",
   "execution_count": 10,
   "id": "fb714eeb",
   "metadata": {},
   "outputs": [
    {
     "name": "stdout",
     "output_type": "stream",
     "text": [
      "[0.61970569 0.61484766 0.61857372 0.62192246 0.62204613]\n",
      "0.6194191307058758\n"
     ]
    }
   ],
   "source": [
    "#Accuracy:\n",
    "\n",
    "cv = RepeatedStratifiedKFold(n_splits=5, n_repeats=1, random_state=1)\n",
    "scores = cross_val_score(pipeline, X, y, scoring='accuracy', cv=cv, n_jobs=-1) \n",
    "print(scores)\n",
    "\n",
    "score = np.mean(scores)\n",
    "print(score)"
   ]
  },
  {
   "cell_type": "code",
   "execution_count": 11,
   "id": "9db484eb",
   "metadata": {},
   "outputs": [
    {
     "data": {
      "text/plain": [
       "array([[11942, 31110],\n",
       "       [ 9235, 53722]])"
      ]
     },
     "execution_count": 11,
     "metadata": {},
     "output_type": "execute_result"
    }
   ],
   "source": [
    "#Aggregated Confusion Matrix From RepeatedStratifiedKFold: \n",
    "y_pred = cross_val_predict(pipeline, X, y, cv=cv, n_jobs=-1)\n",
    "conf_mat = confusion_matrix(y, y_pred)\n",
    "conf_mat"
   ]
  },
  {
   "cell_type": "code",
   "execution_count": 12,
   "id": "cd14efda",
   "metadata": {},
   "outputs": [
    {
     "data": {
      "image/png": "[encoded data removed]",
      "text/plain": [
       "<Figure size 864x432 with 1 Axes>"
      ]
     },
     "metadata": {},
     "output_type": "display_data"
    }
   ],
   "source": [
    "sns.set(rc = {'figure.figsize':(12,6)})\n",
    "#cmap = sns.cubehelix_palette(start=2, rot=0, dark=0, light=.95, reverse=True, as_cmap=True)\n",
    "cmap = sns.light_palette('seagreen', as_cmap=True)\n",
    "\n",
    "res = sns.heatmap(conf_mat, annot=True, fmt='d', annot_kws={\"size\":20},\n",
    "#            xticklabels = ['Good = Paid In Full', 'Bad = Default'],\n",
    "#            yticklabels = ['Loan Paid In Full', 'Bad = Default'], \n",
    "            cmap=cmap, cbar=False)\n",
    "\n",
    "res.set_xticklabels(['Loan Default', 'Loan Repaid'], fontsize=15)\n",
    "res.set_yticklabels(['Loan Default', 'Loan Repaid'], fontsize=15)\n",
    "\n",
    "\n",
    "plt.title('Confusion Matrix For Logistic Regression', fontsize=25, pad=15)\n",
    "plt.xlabel('Predicted', fontsize=20)\n",
    "plt.ylabel('Actual', fontsize=20);"
   ]
  },
  {
   "cell_type": "code",
   "execution_count": 13,
   "id": "345a55b6",
   "metadata": {},
   "outputs": [
    {
     "data": {
      "text/plain": [
       "0.6194191059249686"
      ]
     },
     "execution_count": 13,
     "metadata": {},
     "output_type": "execute_result"
    }
   ],
   "source": [
    "accuracy_score(y, y_pred)"
   ]
  },
  {
   "cell_type": "code",
   "execution_count": 14,
   "id": "22662a59",
   "metadata": {},
   "outputs": [
    {
     "name": "stdout",
     "output_type": "stream",
     "text": [
      "53722\n",
      "31110\n",
      "9235\n",
      "11942\n",
      "0.6194191059249686\n"
     ]
    }
   ],
   "source": [
    "TN, FP, FN, TP = conf_mat.ravel()\n",
    "print(TP)\n",
    "print(FP)\n",
    "print(FN)\n",
    "print(TN)\n",
    "print((TP + TN) / (TN + TP + FP + FN))"
   ]
  },
  {
   "cell_type": "code",
   "execution_count": null,
   "id": "4dcedec5",
   "metadata": {},
   "outputs": [],
   "source": []
  },
  {
   "cell_type": "code",
   "execution_count": 15,
   "id": "36dec5fa",
   "metadata": {},
   "outputs": [
    {
     "name": "stdout",
     "output_type": "stream",
     "text": [
      "1.0    62957\n",
      "0.0    43052\n",
      "Name: loan_status_bin, dtype: int64\n",
      "\n",
      "0.5938835381901537\n"
     ]
    }
   ],
   "source": [
    "#Re-examine original pool of accepted LC Loans: \n",
    "\n",
    "print(data.loan_status_bin.value_counts())\n",
    "#0 = Loan Defaulted\n",
    "#1 = Loan Fully Paid\n",
    "\n",
    "good_loan = data.loan_status_bin.value_counts()[1]\n",
    "bad_loan = data.loan_status_bin.value_counts()[0]\n",
    "\n",
    "print()\n",
    "print(good_loan / (good_loan + bad_loan))\n",
    "\n",
    "#Random investment would give us 59% chance of pickkng a good loan"
   ]
  },
  {
   "cell_type": "code",
   "execution_count": 16,
   "id": "9be4be5d",
   "metadata": {},
   "outputs": [
    {
     "data": {
      "text/plain": [
       "0.6332751791776688"
      ]
     },
     "execution_count": 16,
     "metadata": {},
     "output_type": "execute_result"
    }
   ],
   "source": [
    "#Positive Predictive Value (or Precision)\n",
    "#Logistic Model only does 3% better than Null Model or \"random investment\"\n",
    "TP / (TP+FP)"
   ]
  },
  {
   "cell_type": "code",
   "execution_count": null,
   "id": "33d49ed8",
   "metadata": {},
   "outputs": [],
   "source": []
  },
  {
   "cell_type": "code",
   "execution_count": 17,
   "id": "3e6f9d5f",
   "metadata": {},
   "outputs": [],
   "source": [
    "#Obtain predicted probabilities (not predicted classes) from RSKF: \n",
    "y_pred_prob = cross_val_predict(pipeline, X, y, cv=cv, n_jobs=-1, method='predict_proba')"
   ]
  },
  {
   "cell_type": "code",
   "execution_count": 18,
   "id": "9f850d5b",
   "metadata": {},
   "outputs": [
    {
     "data": {
      "text/plain": [
       "array([[0.40644899, 0.59355101],\n",
       "       [0.44724802, 0.55275198],\n",
       "       [0.42972539, 0.57027461],\n",
       "       ...,\n",
       "       [0.3124657 , 0.6875343 ],\n",
       "       [0.37955868, 0.62044132],\n",
       "       [0.23498084, 0.76501916]])"
      ]
     },
     "execution_count": 18,
     "metadata": {},
     "output_type": "execute_result"
    }
   ],
   "source": [
    "y_pred_prob"
   ]
  },
  {
   "cell_type": "code",
   "execution_count": 19,
   "id": "973f2937",
   "metadata": {},
   "outputs": [
    {
     "data": {
      "text/plain": [
       "array([0., 0., 0., ..., 0., 0., 0.])"
      ]
     },
     "execution_count": 19,
     "metadata": {},
     "output_type": "execute_result"
    }
   ],
   "source": [
    "#Obtaining classification based on desired threshold of 0.8: \n",
    "\n",
    "y_pred_success = (y_pred_prob[:, 1] > 0.8).astype('float')\n",
    "y_pred_success"
   ]
  },
  {
   "cell_type": "code",
   "execution_count": 20,
   "id": "686a5f94",
   "metadata": {},
   "outputs": [
    {
     "data": {
      "text/plain": [
       "array([[42556,   496],\n",
       "       [60765,  2192]])"
      ]
     },
     "execution_count": 20,
     "metadata": {},
     "output_type": "execute_result"
    }
   ],
   "source": [
    "conf_mat = confusion_matrix(y, y_pred_success)\n",
    "conf_mat"
   ]
  },
  {
   "cell_type": "code",
   "execution_count": 21,
   "id": "6c050cfb",
   "metadata": {},
   "outputs": [
    {
     "data": {
      "image/png": "[encoded data removed]",
      "text/plain": [
       "<Figure size 864x432 with 1 Axes>"
      ]
     },
     "metadata": {},
     "output_type": "display_data"
    }
   ],
   "source": [
    "sns.set(rc = {'figure.figsize':(12,6)})\n",
    "#cmap = sns.cubehelix_palette(start=2, rot=0, dark=0, light=.95, reverse=True, as_cmap=True)\n",
    "cmap = sns.light_palette('seagreen', as_cmap=True)\n",
    "\n",
    "res = sns.heatmap(conf_mat, annot=True, fmt='d', annot_kws={\"size\":20},\n",
    "#            xticklabels = ['Good = Paid In Full', 'Bad = Default'],\n",
    "#            yticklabels = ['Loan Paid In Full', 'Bad = Default'], \n",
    "            cmap=cmap, cbar=False)\n",
    "\n",
    "res.set_xticklabels(['Loan Default', 'Loan Repaid'], fontsize=15)\n",
    "res.set_yticklabels(['Loan Default', 'Loan Repaid'], fontsize=15)\n",
    "\n",
    "\n",
    "plt.title('Confusion Matrix For Logistic Regression', fontsize=25, pad=15)\n",
    "plt.xlabel('Predicted', fontsize=20)\n",
    "plt.ylabel('Actual', fontsize=20);"
   ]
  },
  {
   "cell_type": "code",
   "execution_count": 22,
   "id": "c5dc62cd",
   "metadata": {},
   "outputs": [
    {
     "data": {
      "text/plain": [
       "0.42211510343461406"
      ]
     },
     "execution_count": 22,
     "metadata": {},
     "output_type": "execute_result"
    }
   ],
   "source": [
    "accuracy_score(y, y_pred_success)"
   ]
  },
  {
   "cell_type": "code",
   "execution_count": 23,
   "id": "25920782",
   "metadata": {},
   "outputs": [
    {
     "name": "stdout",
     "output_type": "stream",
     "text": [
      "2192\n",
      "496\n",
      "60765\n",
      "42556\n",
      "0.42211510343461406\n"
     ]
    }
   ],
   "source": [
    "TN, FP, FN, TP = conf_mat.ravel()\n",
    "print(TP)\n",
    "print(FP)\n",
    "print(FN)\n",
    "print(TN)\n",
    "print((TP + TN) / (TN + TP + FP + FN))"
   ]
  },
  {
   "cell_type": "code",
   "execution_count": 24,
   "id": "67e15484",
   "metadata": {},
   "outputs": [
    {
     "data": {
      "text/plain": [
       "0.8154761904761905"
      ]
     },
     "execution_count": 24,
     "metadata": {},
     "output_type": "execute_result"
    }
   ],
   "source": [
    "#Positive Predictive Value (or Precision)\n",
    "#Logistic Model only does 23% better than Null Model or \"random investment\"\n",
    "TP / (TP+FP)"
   ]
  },
  {
   "cell_type": "code",
   "execution_count": null,
   "id": "a51b3ce5",
   "metadata": {},
   "outputs": [],
   "source": [
    "## Next question. what was characteristic of the 217 loans that defaulted??\n",
    "## Get all loans which you predicted greater than 80% and find out which ones defaulted.\n",
    "## Any pattern?????"
   ]
  },
  {
   "cell_type": "code",
   "execution_count": null,
   "id": "2bb4a848",
   "metadata": {},
   "outputs": [],
   "source": [
    "#Do we drop all observations where the source is not verified? \n",
    "#Do we drop all observations loan amount is greater than half of one's income? "
   ]
  },
  {
   "cell_type": "code",
   "execution_count": null,
   "id": "88205f9a",
   "metadata": {},
   "outputs": [],
   "source": []
  }
 ],
 "metadata": {
  "hide_input": false,
  "kernelspec": {
   "display_name": "Python 3 (ipykernel)",
   "language": "python",
   "name": "python3"
  },
  "language_info": {
   "codemirror_mode": {
    "name": "ipython",
    "version": 3
   },
   "file_extension": ".py",
   "mimetype": "text/x-python",
   "name": "python",
   "nbconvert_exporter": "python",
   "pygments_lexer": "ipython3",
   "version": "3.8.8"
  },
  "varInspector": {
   "cols": {
    "lenName": 16,
    "lenType": 16,
    "lenVar": 40
   },
   "kernels_config": {
    "python": {
     "delete_cmd_postfix": "",
     "delete_cmd_prefix": "del ",
     "library": "var_list.py",
     "varRefreshCmd": "print(var_dic_list())"
    },
    "r": {
     "delete_cmd_postfix": ") ",
     "delete_cmd_prefix": "rm(",
     "library": "var_list.r",
     "varRefreshCmd": "cat(var_dic_list()) "
    }
   },
   "types_to_exclude": [
    "module",
    "function",
    "builtin_function_or_method",
    "instance",
    "_Feature"
   ],
   "window_display": false
  }
 },
 "nbformat": 4,
 "nbformat_minor": 5
}
