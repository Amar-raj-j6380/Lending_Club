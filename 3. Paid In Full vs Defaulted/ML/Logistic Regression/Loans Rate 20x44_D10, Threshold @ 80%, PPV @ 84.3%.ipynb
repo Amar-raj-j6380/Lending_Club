{
 "cells": [
  {
   "cell_type": "code",
   "execution_count": 1,
   "id": "6f4648b5",
   "metadata": {},
   "outputs": [],
   "source": [
    "import pandas as pd\n",
    "import numpy as np\n",
    "import seaborn as sns\n",
    "import copy as cp\n",
    "import matplotlib.pyplot as plt\n",
    "\n",
    "from sklearn.model_selection import cross_val_score, cross_val_predict \n",
    "from sklearn.model_selection import train_test_split\n",
    "from sklearn.model_selection import RepeatedStratifiedKFold\n",
    "from imblearn.pipeline import Pipeline\n",
    "from imblearn.over_sampling import SMOTE\n",
    "\n",
    "from sklearn.linear_model import LogisticRegression\n",
    "from sklearn.metrics import roc_auc_score, roc_curve, precision_recall_curve\n",
    "from sklearn.metrics import confusion_matrix, accuracy_score\n",
    "\n",
    "from typing import Tuple"
   ]
  },
  {
   "cell_type": "code",
   "execution_count": 2,
   "id": "a6b2eaad",
   "metadata": {},
   "outputs": [],
   "source": [
    "pd.set_option(\"display.max_columns\", 200)\n",
    "pd.set_option(\"display.max_row\", 160)\n",
    "pd.set_option('max_colwidth', 200)"
   ]
  },
  {
   "cell_type": "code",
   "execution_count": 3,
   "id": "acc59130",
   "metadata": {},
   "outputs": [
    {
     "data": {
      "text/html": [
       "<div>\n",
       "<style scoped>\n",
       "    .dataframe tbody tr th:only-of-type {\n",
       "        vertical-align: middle;\n",
       "    }\n",
       "\n",
       "    .dataframe tbody tr th {\n",
       "        vertical-align: top;\n",
       "    }\n",
       "\n",
       "    .dataframe thead th {\n",
       "        text-align: right;\n",
       "    }\n",
       "</style>\n",
       "<table border=\"1\" class=\"dataframe\">\n",
       "  <thead>\n",
       "    <tr style=\"text-align: right;\">\n",
       "      <th></th>\n",
       "      <th>loan_amnt</th>\n",
       "      <th>annual_inc</th>\n",
       "      <th>dti</th>\n",
       "      <th>fico_range_low</th>\n",
       "      <th>fico_range_high</th>\n",
       "      <th>int_rate</th>\n",
       "      <th>installment</th>\n",
       "      <th>open_acc</th>\n",
       "      <th>total_acc</th>\n",
       "      <th>revol_bal</th>\n",
       "      <th>inq_last_6mths</th>\n",
       "      <th>delinq_2yrs</th>\n",
       "      <th>acc_now_delinq</th>\n",
       "      <th>collections_12_mths_ex_med</th>\n",
       "      <th>tot_coll_amt</th>\n",
       "      <th>tot_cur_bal</th>\n",
       "      <th>pub_rec</th>\n",
       "      <th>months_cr_line</th>\n",
       "      <th>term</th>\n",
       "      <th>initial_list_status</th>\n",
       "      <th>grade</th>\n",
       "      <th>sub_grade</th>\n",
       "      <th>emp_length</th>\n",
       "      <th>ANY</th>\n",
       "      <th>MORTGAGE</th>\n",
       "      <th>OWN</th>\n",
       "      <th>RENT</th>\n",
       "      <th>car</th>\n",
       "      <th>credit_card</th>\n",
       "      <th>debt_consolidation</th>\n",
       "      <th>home_improvement</th>\n",
       "      <th>house</th>\n",
       "      <th>major_purchase</th>\n",
       "      <th>medical</th>\n",
       "      <th>moving</th>\n",
       "      <th>other</th>\n",
       "      <th>renewable_energy</th>\n",
       "      <th>small_business</th>\n",
       "      <th>vacation</th>\n",
       "      <th>wedding</th>\n",
       "      <th>Not Verified</th>\n",
       "      <th>Source Verified</th>\n",
       "      <th>Verified</th>\n",
       "      <th>loan_status_bin</th>\n",
       "    </tr>\n",
       "  </thead>\n",
       "  <tbody>\n",
       "    <tr>\n",
       "      <th>0</th>\n",
       "      <td>-0.396712</td>\n",
       "      <td>-0.227411</td>\n",
       "      <td>-1.632665</td>\n",
       "      <td>-0.042835</td>\n",
       "      <td>-0.042835</td>\n",
       "      <td>1.330221</td>\n",
       "      <td>-0.368315</td>\n",
       "      <td>-1.357400</td>\n",
       "      <td>-1.429763</td>\n",
       "      <td>-0.446509</td>\n",
       "      <td>0.060269</td>\n",
       "      <td>-0.384455</td>\n",
       "      <td>-0.046594</td>\n",
       "      <td>-0.144244</td>\n",
       "      <td>-0.123362</td>\n",
       "      <td>-0.755915</td>\n",
       "      <td>-0.380505</td>\n",
       "      <td>-0.891191</td>\n",
       "      <td>-0.073791</td>\n",
       "      <td>-1.088672</td>\n",
       "      <td>0.0</td>\n",
       "      <td>0.699795</td>\n",
       "      <td>-0.944160</td>\n",
       "      <td>-0.023278</td>\n",
       "      <td>-0.704954</td>\n",
       "      <td>2.481326</td>\n",
       "      <td>-1.057140</td>\n",
       "      <td>-0.15163</td>\n",
       "      <td>-0.324588</td>\n",
       "      <td>-0.934194</td>\n",
       "      <td>-0.251077</td>\n",
       "      <td>-0.111065</td>\n",
       "      <td>-0.175216</td>\n",
       "      <td>-0.188717</td>\n",
       "      <td>-0.187946</td>\n",
       "      <td>1.989233</td>\n",
       "      <td>-0.043578</td>\n",
       "      <td>-0.125206</td>\n",
       "      <td>-0.15441</td>\n",
       "      <td>-0.063862</td>\n",
       "      <td>-0.611460</td>\n",
       "      <td>1.355140</td>\n",
       "      <td>-0.775100</td>\n",
       "      <td>1.0</td>\n",
       "    </tr>\n",
       "    <tr>\n",
       "      <th>1</th>\n",
       "      <td>-0.225330</td>\n",
       "      <td>0.075280</td>\n",
       "      <td>1.085593</td>\n",
       "      <td>-0.786668</td>\n",
       "      <td>-0.786668</td>\n",
       "      <td>-0.684651</td>\n",
       "      <td>-0.235771</td>\n",
       "      <td>-0.021498</td>\n",
       "      <td>-0.756386</td>\n",
       "      <td>-0.083143</td>\n",
       "      <td>-0.874914</td>\n",
       "      <td>-0.384455</td>\n",
       "      <td>-0.046594</td>\n",
       "      <td>-0.144244</td>\n",
       "      <td>-0.029451</td>\n",
       "      <td>-0.471814</td>\n",
       "      <td>1.411848</td>\n",
       "      <td>-1.416929</td>\n",
       "      <td>-0.073791</td>\n",
       "      <td>0.918550</td>\n",
       "      <td>0.0</td>\n",
       "      <td>-1.428989</td>\n",
       "      <td>1.289366</td>\n",
       "      <td>-0.023278</td>\n",
       "      <td>-0.704954</td>\n",
       "      <td>-0.403010</td>\n",
       "      <td>0.945948</td>\n",
       "      <td>-0.15163</td>\n",
       "      <td>-0.324588</td>\n",
       "      <td>-0.934194</td>\n",
       "      <td>-0.251077</td>\n",
       "      <td>-0.111065</td>\n",
       "      <td>-0.175216</td>\n",
       "      <td>-0.188717</td>\n",
       "      <td>5.320669</td>\n",
       "      <td>-0.502706</td>\n",
       "      <td>-0.043578</td>\n",
       "      <td>-0.125206</td>\n",
       "      <td>-0.15441</td>\n",
       "      <td>-0.063862</td>\n",
       "      <td>-0.611460</td>\n",
       "      <td>-0.737931</td>\n",
       "      <td>1.290156</td>\n",
       "      <td>0.0</td>\n",
       "    </tr>\n",
       "    <tr>\n",
       "      <th>2</th>\n",
       "      <td>-1.639232</td>\n",
       "      <td>0.093625</td>\n",
       "      <td>-0.671452</td>\n",
       "      <td>-0.538724</td>\n",
       "      <td>-0.538724</td>\n",
       "      <td>-0.684651</td>\n",
       "      <td>-1.638581</td>\n",
       "      <td>-0.594027</td>\n",
       "      <td>0.085335</td>\n",
       "      <td>-0.029596</td>\n",
       "      <td>-0.874914</td>\n",
       "      <td>-0.384455</td>\n",
       "      <td>-0.046594</td>\n",
       "      <td>-0.144244</td>\n",
       "      <td>-0.123362</td>\n",
       "      <td>-0.554828</td>\n",
       "      <td>-0.380505</td>\n",
       "      <td>0.037241</td>\n",
       "      <td>-0.073791</td>\n",
       "      <td>0.918550</td>\n",
       "      <td>0.0</td>\n",
       "      <td>-1.428989</td>\n",
       "      <td>0.296688</td>\n",
       "      <td>-0.023278</td>\n",
       "      <td>-0.704954</td>\n",
       "      <td>-0.403010</td>\n",
       "      <td>0.945948</td>\n",
       "      <td>-0.15163</td>\n",
       "      <td>-0.324588</td>\n",
       "      <td>-0.934194</td>\n",
       "      <td>-0.251077</td>\n",
       "      <td>-0.111065</td>\n",
       "      <td>-0.175216</td>\n",
       "      <td>-0.188717</td>\n",
       "      <td>-0.187946</td>\n",
       "      <td>1.989233</td>\n",
       "      <td>-0.043578</td>\n",
       "      <td>-0.125206</td>\n",
       "      <td>-0.15441</td>\n",
       "      <td>-0.063862</td>\n",
       "      <td>1.635429</td>\n",
       "      <td>-0.737931</td>\n",
       "      <td>-0.775100</td>\n",
       "      <td>0.0</td>\n",
       "    </tr>\n",
       "    <tr>\n",
       "      <th>3</th>\n",
       "      <td>-0.353867</td>\n",
       "      <td>-0.126138</td>\n",
       "      <td>1.405257</td>\n",
       "      <td>-0.290779</td>\n",
       "      <td>-0.290779</td>\n",
       "      <td>1.330221</td>\n",
       "      <td>-0.324968</td>\n",
       "      <td>0.932719</td>\n",
       "      <td>-0.167182</td>\n",
       "      <td>-0.166618</td>\n",
       "      <td>-0.874914</td>\n",
       "      <td>-0.384455</td>\n",
       "      <td>-0.046594</td>\n",
       "      <td>-0.144244</td>\n",
       "      <td>-0.123362</td>\n",
       "      <td>-0.491176</td>\n",
       "      <td>-0.380505</td>\n",
       "      <td>-0.768145</td>\n",
       "      <td>-0.073791</td>\n",
       "      <td>-1.088672</td>\n",
       "      <td>0.0</td>\n",
       "      <td>0.699795</td>\n",
       "      <td>0.048518</td>\n",
       "      <td>-0.023278</td>\n",
       "      <td>-0.704954</td>\n",
       "      <td>-0.403010</td>\n",
       "      <td>0.945948</td>\n",
       "      <td>-0.15163</td>\n",
       "      <td>-0.324588</td>\n",
       "      <td>1.070442</td>\n",
       "      <td>-0.251077</td>\n",
       "      <td>-0.111065</td>\n",
       "      <td>-0.175216</td>\n",
       "      <td>-0.188717</td>\n",
       "      <td>-0.187946</td>\n",
       "      <td>-0.502706</td>\n",
       "      <td>-0.043578</td>\n",
       "      <td>-0.125206</td>\n",
       "      <td>-0.15441</td>\n",
       "      <td>-0.063862</td>\n",
       "      <td>-0.611460</td>\n",
       "      <td>1.355140</td>\n",
       "      <td>-0.775100</td>\n",
       "      <td>1.0</td>\n",
       "    </tr>\n",
       "    <tr>\n",
       "      <th>4</th>\n",
       "      <td>-0.139639</td>\n",
       "      <td>-0.135686</td>\n",
       "      <td>-0.067641</td>\n",
       "      <td>0.700999</td>\n",
       "      <td>0.700999</td>\n",
       "      <td>-0.684651</td>\n",
       "      <td>-0.150783</td>\n",
       "      <td>-0.212341</td>\n",
       "      <td>0.169507</td>\n",
       "      <td>-0.501057</td>\n",
       "      <td>-0.874914</td>\n",
       "      <td>-0.384455</td>\n",
       "      <td>-0.046594</td>\n",
       "      <td>-0.144244</td>\n",
       "      <td>3.508371</td>\n",
       "      <td>-0.469979</td>\n",
       "      <td>-0.380505</td>\n",
       "      <td>2.173752</td>\n",
       "      <td>-0.073791</td>\n",
       "      <td>0.918550</td>\n",
       "      <td>0.0</td>\n",
       "      <td>-1.428989</td>\n",
       "      <td>0.296688</td>\n",
       "      <td>-0.023278</td>\n",
       "      <td>-0.704954</td>\n",
       "      <td>-0.403010</td>\n",
       "      <td>0.945948</td>\n",
       "      <td>-0.15163</td>\n",
       "      <td>-0.324588</td>\n",
       "      <td>1.070442</td>\n",
       "      <td>-0.251077</td>\n",
       "      <td>-0.111065</td>\n",
       "      <td>-0.175216</td>\n",
       "      <td>-0.188717</td>\n",
       "      <td>-0.187946</td>\n",
       "      <td>-0.502706</td>\n",
       "      <td>-0.043578</td>\n",
       "      <td>-0.125206</td>\n",
       "      <td>-0.15441</td>\n",
       "      <td>-0.063862</td>\n",
       "      <td>1.635429</td>\n",
       "      <td>-0.737931</td>\n",
       "      <td>-0.775100</td>\n",
       "      <td>1.0</td>\n",
       "    </tr>\n",
       "  </tbody>\n",
       "</table>\n",
       "</div>"
      ],
      "text/plain": [
       "   loan_amnt  annual_inc       dti  fico_range_low  fico_range_high  int_rate  \\\n",
       "0  -0.396712   -0.227411 -1.632665       -0.042835        -0.042835  1.330221   \n",
       "1  -0.225330    0.075280  1.085593       -0.786668        -0.786668 -0.684651   \n",
       "2  -1.639232    0.093625 -0.671452       -0.538724        -0.538724 -0.684651   \n",
       "3  -0.353867   -0.126138  1.405257       -0.290779        -0.290779  1.330221   \n",
       "4  -0.139639   -0.135686 -0.067641        0.700999         0.700999 -0.684651   \n",
       "\n",
       "   installment  open_acc  total_acc  revol_bal  inq_last_6mths  delinq_2yrs  \\\n",
       "0    -0.368315 -1.357400  -1.429763  -0.446509        0.060269    -0.384455   \n",
       "1    -0.235771 -0.021498  -0.756386  -0.083143       -0.874914    -0.384455   \n",
       "2    -1.638581 -0.594027   0.085335  -0.029596       -0.874914    -0.384455   \n",
       "3    -0.324968  0.932719  -0.167182  -0.166618       -0.874914    -0.384455   \n",
       "4    -0.150783 -0.212341   0.169507  -0.501057       -0.874914    -0.384455   \n",
       "\n",
       "   acc_now_delinq  collections_12_mths_ex_med  tot_coll_amt  tot_cur_bal  \\\n",
       "0       -0.046594                   -0.144244     -0.123362    -0.755915   \n",
       "1       -0.046594                   -0.144244     -0.029451    -0.471814   \n",
       "2       -0.046594                   -0.144244     -0.123362    -0.554828   \n",
       "3       -0.046594                   -0.144244     -0.123362    -0.491176   \n",
       "4       -0.046594                   -0.144244      3.508371    -0.469979   \n",
       "\n",
       "    pub_rec  months_cr_line      term  initial_list_status  grade  sub_grade  \\\n",
       "0 -0.380505       -0.891191 -0.073791            -1.088672    0.0   0.699795   \n",
       "1  1.411848       -1.416929 -0.073791             0.918550    0.0  -1.428989   \n",
       "2 -0.380505        0.037241 -0.073791             0.918550    0.0  -1.428989   \n",
       "3 -0.380505       -0.768145 -0.073791            -1.088672    0.0   0.699795   \n",
       "4 -0.380505        2.173752 -0.073791             0.918550    0.0  -1.428989   \n",
       "\n",
       "   emp_length       ANY  MORTGAGE       OWN      RENT      car  credit_card  \\\n",
       "0   -0.944160 -0.023278 -0.704954  2.481326 -1.057140 -0.15163    -0.324588   \n",
       "1    1.289366 -0.023278 -0.704954 -0.403010  0.945948 -0.15163    -0.324588   \n",
       "2    0.296688 -0.023278 -0.704954 -0.403010  0.945948 -0.15163    -0.324588   \n",
       "3    0.048518 -0.023278 -0.704954 -0.403010  0.945948 -0.15163    -0.324588   \n",
       "4    0.296688 -0.023278 -0.704954 -0.403010  0.945948 -0.15163    -0.324588   \n",
       "\n",
       "   debt_consolidation  home_improvement     house  major_purchase   medical  \\\n",
       "0           -0.934194         -0.251077 -0.111065       -0.175216 -0.188717   \n",
       "1           -0.934194         -0.251077 -0.111065       -0.175216 -0.188717   \n",
       "2           -0.934194         -0.251077 -0.111065       -0.175216 -0.188717   \n",
       "3            1.070442         -0.251077 -0.111065       -0.175216 -0.188717   \n",
       "4            1.070442         -0.251077 -0.111065       -0.175216 -0.188717   \n",
       "\n",
       "     moving     other  renewable_energy  small_business  vacation   wedding  \\\n",
       "0 -0.187946  1.989233         -0.043578       -0.125206  -0.15441 -0.063862   \n",
       "1  5.320669 -0.502706         -0.043578       -0.125206  -0.15441 -0.063862   \n",
       "2 -0.187946  1.989233         -0.043578       -0.125206  -0.15441 -0.063862   \n",
       "3 -0.187946 -0.502706         -0.043578       -0.125206  -0.15441 -0.063862   \n",
       "4 -0.187946 -0.502706         -0.043578       -0.125206  -0.15441 -0.063862   \n",
       "\n",
       "   Not Verified  Source Verified  Verified  loan_status_bin  \n",
       "0     -0.611460         1.355140 -0.775100              1.0  \n",
       "1     -0.611460        -0.737931  1.290156              0.0  \n",
       "2      1.635429        -0.737931 -0.775100              0.0  \n",
       "3     -0.611460         1.355140 -0.775100              1.0  \n",
       "4      1.635429        -0.737931 -0.775100              1.0  "
      ]
     },
     "execution_count": 3,
     "metadata": {},
     "output_type": "execute_result"
    }
   ],
   "source": [
    "data = pd.read_csv('../../Data/20x44_D10.csv')\n",
    "data.head(5)"
   ]
  },
  {
   "cell_type": "code",
   "execution_count": 4,
   "id": "771565fb",
   "metadata": {},
   "outputs": [
    {
     "data": {
      "text/plain": [
       "(3693, 44)"
      ]
     },
     "execution_count": 4,
     "metadata": {},
     "output_type": "execute_result"
    }
   ],
   "source": [
    "data.shape"
   ]
  },
  {
   "cell_type": "code",
   "execution_count": 5,
   "id": "74758ddc",
   "metadata": {},
   "outputs": [
    {
     "data": {
      "text/plain": [
       "1.0    2750\n",
       "0.0     943\n",
       "Name: loan_status_bin, dtype: int64"
      ]
     },
     "execution_count": 5,
     "metadata": {},
     "output_type": "execute_result"
    }
   ],
   "source": [
    "data.loan_status_bin.value_counts()\n",
    "#0 = Defaulted Loans\n",
    "#1 = Loans Paid In Full"
   ]
  },
  {
   "cell_type": "code",
   "execution_count": 6,
   "id": "b9a9c6be",
   "metadata": {},
   "outputs": [
    {
     "data": {
      "text/plain": [
       "(3693, 43)"
      ]
     },
     "execution_count": 6,
     "metadata": {},
     "output_type": "execute_result"
    }
   ],
   "source": [
    "X = data.drop('loan_status_bin', axis=1)\n",
    "X.shape"
   ]
  },
  {
   "cell_type": "code",
   "execution_count": 7,
   "id": "0559962b",
   "metadata": {},
   "outputs": [],
   "source": [
    "y = data['loan_status_bin']"
   ]
  },
  {
   "cell_type": "code",
   "execution_count": 8,
   "id": "9b1bb6de",
   "metadata": {},
   "outputs": [],
   "source": [
    "lr1 = LogisticRegression()"
   ]
  },
  {
   "cell_type": "code",
   "execution_count": 9,
   "id": "e9e711e2",
   "metadata": {},
   "outputs": [],
   "source": [
    "steps = [('model', lr1)]\n",
    "pipeline = Pipeline(steps=steps)"
   ]
  },
  {
   "cell_type": "code",
   "execution_count": 10,
   "id": "fb714eeb",
   "metadata": {},
   "outputs": [
    {
     "name": "stdout",
     "output_type": "stream",
     "text": [
      "[0.74289581 0.74289581 0.74154263 0.7398374  0.74525745]\n",
      "0.7424858172803649\n"
     ]
    }
   ],
   "source": [
    "#Accuracy:\n",
    "\n",
    "cv = RepeatedStratifiedKFold(n_splits=5, n_repeats=1, random_state=1)\n",
    "scores = cross_val_score(pipeline, X, y, scoring='accuracy', cv=cv, n_jobs=-1) \n",
    "print(scores)\n",
    "\n",
    "score = np.mean(scores)\n",
    "print(score)"
   ]
  },
  {
   "cell_type": "code",
   "execution_count": 11,
   "id": "9db484eb",
   "metadata": {},
   "outputs": [
    {
     "data": {
      "text/plain": [
       "array([[  29,  914],\n",
       "       [  37, 2713]])"
      ]
     },
     "execution_count": 11,
     "metadata": {},
     "output_type": "execute_result"
    }
   ],
   "source": [
    "#Aggregated Confusion Matrix From RepeatedStratifiedKFold: \n",
    "y_pred = cross_val_predict(pipeline, X, y, cv=cv, n_jobs=-1)\n",
    "conf_mat = confusion_matrix(y, y_pred)\n",
    "conf_mat"
   ]
  },
  {
   "cell_type": "code",
   "execution_count": 12,
   "id": "cd14efda",
   "metadata": {},
   "outputs": [
    {
     "data": {
      "image/png": "[encoded data removed]",
      "text/plain": [
       "<Figure size 864x432 with 1 Axes>"
      ]
     },
     "metadata": {},
     "output_type": "display_data"
    }
   ],
   "source": [
    "sns.set(rc = {'figure.figsize':(12,6)})\n",
    "#cmap = sns.cubehelix_palette(start=2, rot=0, dark=0, light=.95, reverse=True, as_cmap=True)\n",
    "cmap = sns.light_palette('seagreen', as_cmap=True)\n",
    "\n",
    "res = sns.heatmap(conf_mat, annot=True, fmt='d', annot_kws={\"size\":20},\n",
    "#            xticklabels = ['Good = Paid In Full', 'Bad = Default'],\n",
    "#            yticklabels = ['Loan Paid In Full', 'Bad = Default'], \n",
    "            cmap=cmap, cbar=False)\n",
    "\n",
    "res.set_xticklabels(['Loan Default', 'Loan Repaid'], fontsize=15)\n",
    "res.set_yticklabels(['Loan Default', 'Loan Repaid'], fontsize=15)\n",
    "\n",
    "\n",
    "plt.title('Confusion Matrix For Logistic Regression', fontsize=25, pad=15)\n",
    "plt.xlabel('Predicted', fontsize=20)\n",
    "plt.ylabel('Actual', fontsize=20);"
   ]
  },
  {
   "cell_type": "code",
   "execution_count": 13,
   "id": "345a55b6",
   "metadata": {},
   "outputs": [
    {
     "data": {
      "text/plain": [
       "0.7424857839155159"
      ]
     },
     "execution_count": 13,
     "metadata": {},
     "output_type": "execute_result"
    }
   ],
   "source": [
    "accuracy_score(y, y_pred)"
   ]
  },
  {
   "cell_type": "code",
   "execution_count": 14,
   "id": "22662a59",
   "metadata": {},
   "outputs": [
    {
     "name": "stdout",
     "output_type": "stream",
     "text": [
      "2713\n",
      "914\n",
      "37\n",
      "29\n",
      "0.7424857839155159\n"
     ]
    }
   ],
   "source": [
    "TN, FP, FN, TP = conf_mat.ravel()\n",
    "print(TP)\n",
    "print(FP)\n",
    "print(FN)\n",
    "print(TN)\n",
    "print((TP + TN) / (TN + TP + FP + FN))"
   ]
  },
  {
   "cell_type": "code",
   "execution_count": null,
   "id": "4dcedec5",
   "metadata": {},
   "outputs": [],
   "source": []
  },
  {
   "cell_type": "code",
   "execution_count": 15,
   "id": "36dec5fa",
   "metadata": {},
   "outputs": [
    {
     "name": "stdout",
     "output_type": "stream",
     "text": [
      "1.0    2750\n",
      "0.0     943\n",
      "Name: loan_status_bin, dtype: int64\n",
      "\n",
      "0.7446520444083401\n"
     ]
    }
   ],
   "source": [
    "#Re-examine original pool of accepted LC Loans: \n",
    "\n",
    "print(data.loan_status_bin.value_counts())\n",
    "#0 = Loan Defaulted\n",
    "#1 = Loan Fully Paid\n",
    "\n",
    "good_loan = data.loan_status_bin.value_counts()[1]\n",
    "bad_loan = data.loan_status_bin.value_counts()[0]\n",
    "\n",
    "print()\n",
    "print(good_loan / (good_loan + bad_loan))\n",
    "\n",
    "#Random investment would give us 59% chance of pickkng a good loan"
   ]
  },
  {
   "cell_type": "code",
   "execution_count": 16,
   "id": "9be4be5d",
   "metadata": {},
   "outputs": [
    {
     "data": {
      "text/plain": [
       "0.7480011028398125"
      ]
     },
     "execution_count": 16,
     "metadata": {},
     "output_type": "execute_result"
    }
   ],
   "source": [
    "#Positive Predictive Value (or Precision)\n",
    "#Logistic Model only does 3% better than Null Model or \"random investment\"\n",
    "TP / (TP+FP)"
   ]
  },
  {
   "cell_type": "code",
   "execution_count": null,
   "id": "33d49ed8",
   "metadata": {},
   "outputs": [],
   "source": []
  },
  {
   "cell_type": "code",
   "execution_count": 17,
   "id": "3e6f9d5f",
   "metadata": {},
   "outputs": [],
   "source": [
    "#Obtain predicted probabilities (not predicted classes) from RSKF: \n",
    "y_pred_prob = cross_val_predict(pipeline, X, y, cv=cv, n_jobs=-1, method='predict_proba')"
   ]
  },
  {
   "cell_type": "code",
   "execution_count": 18,
   "id": "9f850d5b",
   "metadata": {},
   "outputs": [
    {
     "data": {
      "text/plain": [
       "array([[0.28417744, 0.71582256],\n",
       "       [0.23973307, 0.76026693],\n",
       "       [0.11661262, 0.88338738],\n",
       "       ...,\n",
       "       [0.2603284 , 0.7396716 ],\n",
       "       [0.30847738, 0.69152262],\n",
       "       [0.21725831, 0.78274169]])"
      ]
     },
     "execution_count": 18,
     "metadata": {},
     "output_type": "execute_result"
    }
   ],
   "source": [
    "y_pred_prob"
   ]
  },
  {
   "cell_type": "code",
   "execution_count": 19,
   "id": "973f2937",
   "metadata": {},
   "outputs": [
    {
     "data": {
      "text/plain": [
       "array([0., 0., 1., ..., 0., 0., 0.])"
      ]
     },
     "execution_count": 19,
     "metadata": {},
     "output_type": "execute_result"
    }
   ],
   "source": [
    "#Obtaining classification based on desired threshold of 0.8: \n",
    "\n",
    "y_pred_success = (y_pred_prob[:, 1] > 0.8).astype('float')\n",
    "y_pred_success"
   ]
  },
  {
   "cell_type": "code",
   "execution_count": 20,
   "id": "686a5f94",
   "metadata": {},
   "outputs": [
    {
     "data": {
      "text/plain": [
       "array([[ 751,  192],\n",
       "       [1716, 1034]])"
      ]
     },
     "execution_count": 20,
     "metadata": {},
     "output_type": "execute_result"
    }
   ],
   "source": [
    "conf_mat = confusion_matrix(y, y_pred_success)\n",
    "conf_mat"
   ]
  },
  {
   "cell_type": "code",
   "execution_count": 21,
   "id": "6c050cfb",
   "metadata": {},
   "outputs": [
    {
     "data": {
      "image/png": "[encoded data removed]",
      "text/plain": [
       "<Figure size 864x432 with 1 Axes>"
      ]
     },
     "metadata": {},
     "output_type": "display_data"
    }
   ],
   "source": [
    "sns.set(rc = {'figure.figsize':(12,6)})\n",
    "#cmap = sns.cubehelix_palette(start=2, rot=0, dark=0, light=.95, reverse=True, as_cmap=True)\n",
    "cmap = sns.light_palette('seagreen', as_cmap=True)\n",
    "\n",
    "res = sns.heatmap(conf_mat, annot=True, fmt='d', annot_kws={\"size\":20},\n",
    "#            xticklabels = ['Good = Paid In Full', 'Bad = Default'],\n",
    "#            yticklabels = ['Loan Paid In Full', 'Bad = Default'], \n",
    "            cmap=cmap, cbar=False)\n",
    "\n",
    "res.set_xticklabels(['Loan Default', 'Loan Repaid'], fontsize=15)\n",
    "res.set_yticklabels(['Loan Default', 'Loan Repaid'], fontsize=15)\n",
    "\n",
    "\n",
    "plt.title('Confusion Matrix For Logistic Regression', fontsize=25, pad=15)\n",
    "plt.xlabel('Predicted', fontsize=20)\n",
    "plt.ylabel('Actual', fontsize=20);"
   ]
  },
  {
   "cell_type": "code",
   "execution_count": 22,
   "id": "c5dc62cd",
   "metadata": {},
   "outputs": [
    {
     "data": {
      "text/plain": [
       "0.4833468724614135"
      ]
     },
     "execution_count": 22,
     "metadata": {},
     "output_type": "execute_result"
    }
   ],
   "source": [
    "accuracy_score(y, y_pred_success)"
   ]
  },
  {
   "cell_type": "code",
   "execution_count": 23,
   "id": "25920782",
   "metadata": {},
   "outputs": [
    {
     "name": "stdout",
     "output_type": "stream",
     "text": [
      "1034\n",
      "192\n",
      "1716\n",
      "751\n",
      "0.4833468724614135\n"
     ]
    }
   ],
   "source": [
    "TN, FP, FN, TP = conf_mat.ravel()\n",
    "print(TP)\n",
    "print(FP)\n",
    "print(FN)\n",
    "print(TN)\n",
    "print((TP + TN) / (TN + TP + FP + FN))"
   ]
  },
  {
   "cell_type": "code",
   "execution_count": 24,
   "id": "67e15484",
   "metadata": {},
   "outputs": [
    {
     "data": {
      "text/plain": [
       "0.8433931484502447"
      ]
     },
     "execution_count": 24,
     "metadata": {},
     "output_type": "execute_result"
    }
   ],
   "source": [
    "#Positive Predictive Value (or Precision)\n",
    "#Logistic Model only does 3% better than Null Model or \"random investment\"\n",
    "TP / (TP+FP)"
   ]
  },
  {
   "cell_type": "code",
   "execution_count": null,
   "id": "a51b3ce5",
   "metadata": {},
   "outputs": [],
   "source": [
    "## Next question. what was characteristic of the 217 loans that defaulted??\n",
    "## Get all loans which you predicted greater than 80% and find out which ones defaulted.\n",
    "## Any pattern?????"
   ]
  },
  {
   "cell_type": "code",
   "execution_count": null,
   "id": "2bb4a848",
   "metadata": {},
   "outputs": [],
   "source": [
    "#Do we drop all observations where the source is not verified? \n",
    "#Do we drop all observations loan amount is greater than half of one's income? "
   ]
  },
  {
   "cell_type": "code",
   "execution_count": null,
   "id": "88205f9a",
   "metadata": {},
   "outputs": [],
   "source": []
  }
 ],
 "metadata": {
  "hide_input": false,
  "kernelspec": {
   "display_name": "Python 3 (ipykernel)",
   "language": "python",
   "name": "python3"
  },
  "language_info": {
   "codemirror_mode": {
    "name": "ipython",
    "version": 3
   },
   "file_extension": ".py",
   "mimetype": "text/x-python",
   "name": "python",
   "nbconvert_exporter": "python",
   "pygments_lexer": "ipython3",
   "version": "3.8.8"
  },
  "varInspector": {
   "cols": {
    "lenName": 16,
    "lenType": 16,
    "lenVar": 40
   },
   "kernels_config": {
    "python": {
     "delete_cmd_postfix": "",
     "delete_cmd_prefix": "del ",
     "library": "var_list.py",
     "varRefreshCmd": "print(var_dic_list())"
    },
    "r": {
     "delete_cmd_postfix": ") ",
     "delete_cmd_prefix": "rm(",
     "library": "var_list.r",
     "varRefreshCmd": "cat(var_dic_list()) "
    }
   },
   "types_to_exclude": [
    "module",
    "function",
    "builtin_function_or_method",
    "instance",
    "_Feature"
   ],
   "window_display": false
  }
 },
 "nbformat": 4,
 "nbformat_minor": 5
}
