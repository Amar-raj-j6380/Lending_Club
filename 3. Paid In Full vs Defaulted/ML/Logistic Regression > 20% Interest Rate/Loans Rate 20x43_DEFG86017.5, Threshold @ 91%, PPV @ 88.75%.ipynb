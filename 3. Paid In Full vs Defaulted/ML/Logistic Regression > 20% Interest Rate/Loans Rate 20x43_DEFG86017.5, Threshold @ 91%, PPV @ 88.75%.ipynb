{
 "cells": [
  {
   "cell_type": "code",
   "execution_count": 1,
   "id": "6f4648b5",
   "metadata": {},
   "outputs": [],
   "source": [
    "import pandas as pd\n",
    "import numpy as np\n",
    "import seaborn as sns\n",
    "import copy as cp\n",
    "import matplotlib.pyplot as plt\n",
    "\n",
    "from sklearn.model_selection import cross_val_score, cross_val_predict \n",
    "from sklearn.model_selection import train_test_split\n",
    "from sklearn.model_selection import RepeatedStratifiedKFold\n",
    "from imblearn.pipeline import Pipeline\n",
    "from imblearn.over_sampling import SMOTE\n",
    "\n",
    "from sklearn.linear_model import LogisticRegression\n",
    "from sklearn.metrics import roc_auc_score, roc_curve, precision_recall_curve\n",
    "from sklearn.metrics import confusion_matrix, accuracy_score\n",
    "\n",
    "from typing import Tuple"
   ]
  },
  {
   "cell_type": "code",
   "execution_count": 2,
   "id": "a6b2eaad",
   "metadata": {},
   "outputs": [],
   "source": [
    "pd.set_option(\"display.max_columns\", 200)\n",
    "pd.set_option(\"display.max_row\", 160)\n",
    "pd.set_option('max_colwidth', 200)"
   ]
  },
  {
   "cell_type": "code",
   "execution_count": 3,
   "id": "acc59130",
   "metadata": {},
   "outputs": [
    {
     "data": {
      "text/html": [
       "<div>\n",
       "<style scoped>\n",
       "    .dataframe tbody tr th:only-of-type {\n",
       "        vertical-align: middle;\n",
       "    }\n",
       "\n",
       "    .dataframe tbody tr th {\n",
       "        vertical-align: top;\n",
       "    }\n",
       "\n",
       "    .dataframe thead th {\n",
       "        text-align: right;\n",
       "    }\n",
       "</style>\n",
       "<table border=\"1\" class=\"dataframe\">\n",
       "  <thead>\n",
       "    <tr style=\"text-align: right;\">\n",
       "      <th></th>\n",
       "      <th>loan_amnt</th>\n",
       "      <th>annual_inc</th>\n",
       "      <th>dti</th>\n",
       "      <th>fico_range_low</th>\n",
       "      <th>fico_range_high</th>\n",
       "      <th>int_rate</th>\n",
       "      <th>installment</th>\n",
       "      <th>open_acc</th>\n",
       "      <th>total_acc</th>\n",
       "      <th>revol_bal</th>\n",
       "      <th>inq_last_6mths</th>\n",
       "      <th>delinq_2yrs</th>\n",
       "      <th>mths_since_last_delinq</th>\n",
       "      <th>acc_now_delinq</th>\n",
       "      <th>collections_12_mths_ex_med</th>\n",
       "      <th>pub_rec</th>\n",
       "      <th>months_cr_line</th>\n",
       "      <th>term</th>\n",
       "      <th>initial_list_status</th>\n",
       "      <th>grade</th>\n",
       "      <th>sub_grade</th>\n",
       "      <th>emp_length</th>\n",
       "      <th>ANY</th>\n",
       "      <th>MORTGAGE</th>\n",
       "      <th>OWN</th>\n",
       "      <th>RENT</th>\n",
       "      <th>car</th>\n",
       "      <th>credit_card</th>\n",
       "      <th>debt_consolidation</th>\n",
       "      <th>home_improvement</th>\n",
       "      <th>house</th>\n",
       "      <th>major_purchase</th>\n",
       "      <th>medical</th>\n",
       "      <th>moving</th>\n",
       "      <th>other</th>\n",
       "      <th>renewable_energy</th>\n",
       "      <th>small_business</th>\n",
       "      <th>vacation</th>\n",
       "      <th>wedding</th>\n",
       "      <th>Not Verified</th>\n",
       "      <th>Source Verified</th>\n",
       "      <th>Verified</th>\n",
       "      <th>loan_status_bin</th>\n",
       "    </tr>\n",
       "  </thead>\n",
       "  <tbody>\n",
       "    <tr>\n",
       "      <th>0</th>\n",
       "      <td>-0.394780</td>\n",
       "      <td>-0.092019</td>\n",
       "      <td>-0.873321</td>\n",
       "      <td>1.940594</td>\n",
       "      <td>1.940594</td>\n",
       "      <td>-0.583950</td>\n",
       "      <td>-0.393509</td>\n",
       "      <td>-0.321346</td>\n",
       "      <td>-0.841857</td>\n",
       "      <td>-0.819426</td>\n",
       "      <td>1.187098</td>\n",
       "      <td>0.393653</td>\n",
       "      <td>-0.313130</td>\n",
       "      <td>-0.069643</td>\n",
       "      <td>-0.151296</td>\n",
       "      <td>-0.426999</td>\n",
       "      <td>-0.884191</td>\n",
       "      <td>-0.239876</td>\n",
       "      <td>1.395799</td>\n",
       "      <td>-0.043589</td>\n",
       "      <td>0.530201</td>\n",
       "      <td>-0.529283</td>\n",
       "      <td>-0.029637</td>\n",
       "      <td>-0.791641</td>\n",
       "      <td>-0.356514</td>\n",
       "      <td>0.997808</td>\n",
       "      <td>-0.13366</td>\n",
       "      <td>-0.217565</td>\n",
       "      <td>-0.712232</td>\n",
       "      <td>3.435603</td>\n",
       "      <td>-0.148233</td>\n",
       "      <td>-0.194412</td>\n",
       "      <td>-0.235757</td>\n",
       "      <td>-0.226273</td>\n",
       "      <td>-0.590356</td>\n",
       "      <td>-0.069643</td>\n",
       "      <td>-0.243941</td>\n",
       "      <td>-0.193193</td>\n",
       "      <td>-0.089225</td>\n",
       "      <td>-0.627602</td>\n",
       "      <td>1.248119</td>\n",
       "      <td>-0.696197</td>\n",
       "      <td>0.0</td>\n",
       "    </tr>\n",
       "    <tr>\n",
       "      <th>1</th>\n",
       "      <td>-0.742344</td>\n",
       "      <td>-0.248924</td>\n",
       "      <td>0.844724</td>\n",
       "      <td>0.113283</td>\n",
       "      <td>0.113283</td>\n",
       "      <td>0.615513</td>\n",
       "      <td>-0.670219</td>\n",
       "      <td>-0.723183</td>\n",
       "      <td>-0.928005</td>\n",
       "      <td>-0.652416</td>\n",
       "      <td>0.423724</td>\n",
       "      <td>-0.463210</td>\n",
       "      <td>-0.900363</td>\n",
       "      <td>-0.069643</td>\n",
       "      <td>-0.151296</td>\n",
       "      <td>-0.426999</td>\n",
       "      <td>0.311603</td>\n",
       "      <td>-0.239876</td>\n",
       "      <td>1.395799</td>\n",
       "      <td>1.317237</td>\n",
       "      <td>1.486158</td>\n",
       "      <td>-1.592515</td>\n",
       "      <td>-0.029637</td>\n",
       "      <td>1.263199</td>\n",
       "      <td>-0.356514</td>\n",
       "      <td>-1.002196</td>\n",
       "      <td>-0.13366</td>\n",
       "      <td>-0.217565</td>\n",
       "      <td>1.404036</td>\n",
       "      <td>-0.291070</td>\n",
       "      <td>-0.148233</td>\n",
       "      <td>-0.194412</td>\n",
       "      <td>-0.235757</td>\n",
       "      <td>-0.226273</td>\n",
       "      <td>-0.590356</td>\n",
       "      <td>-0.069643</td>\n",
       "      <td>-0.243941</td>\n",
       "      <td>-0.193193</td>\n",
       "      <td>-0.089225</td>\n",
       "      <td>-0.627602</td>\n",
       "      <td>1.248119</td>\n",
       "      <td>-0.696197</td>\n",
       "      <td>0.0</td>\n",
       "    </tr>\n",
       "    <tr>\n",
       "      <th>2</th>\n",
       "      <td>0.689619</td>\n",
       "      <td>-0.078375</td>\n",
       "      <td>1.560036</td>\n",
       "      <td>-0.669850</td>\n",
       "      <td>-0.669850</td>\n",
       "      <td>-0.583950</td>\n",
       "      <td>0.680086</td>\n",
       "      <td>0.281409</td>\n",
       "      <td>0.967242</td>\n",
       "      <td>-0.116192</td>\n",
       "      <td>2.713845</td>\n",
       "      <td>2.964244</td>\n",
       "      <td>-0.900363</td>\n",
       "      <td>-0.069643</td>\n",
       "      <td>-0.151296</td>\n",
       "      <td>0.873978</td>\n",
       "      <td>-0.359506</td>\n",
       "      <td>-0.239876</td>\n",
       "      <td>1.395799</td>\n",
       "      <td>-0.043589</td>\n",
       "      <td>0.530201</td>\n",
       "      <td>-0.529283</td>\n",
       "      <td>-0.029637</td>\n",
       "      <td>1.263199</td>\n",
       "      <td>-0.356514</td>\n",
       "      <td>-1.002196</td>\n",
       "      <td>-0.13366</td>\n",
       "      <td>-0.217565</td>\n",
       "      <td>-0.712232</td>\n",
       "      <td>-0.291070</td>\n",
       "      <td>-0.148233</td>\n",
       "      <td>-0.194412</td>\n",
       "      <td>-0.235757</td>\n",
       "      <td>-0.226273</td>\n",
       "      <td>-0.590356</td>\n",
       "      <td>-0.069643</td>\n",
       "      <td>4.099352</td>\n",
       "      <td>-0.193193</td>\n",
       "      <td>-0.089225</td>\n",
       "      <td>-0.627602</td>\n",
       "      <td>1.248119</td>\n",
       "      <td>-0.696197</td>\n",
       "      <td>1.0</td>\n",
       "    </tr>\n",
       "    <tr>\n",
       "      <th>3</th>\n",
       "      <td>-0.241852</td>\n",
       "      <td>-0.221636</td>\n",
       "      <td>1.050025</td>\n",
       "      <td>-0.930894</td>\n",
       "      <td>-0.930894</td>\n",
       "      <td>1.406463</td>\n",
       "      <td>-0.098216</td>\n",
       "      <td>-0.321346</td>\n",
       "      <td>-0.411119</td>\n",
       "      <td>-0.611183</td>\n",
       "      <td>2.713845</td>\n",
       "      <td>0.393653</td>\n",
       "      <td>0.319274</td>\n",
       "      <td>-0.069643</td>\n",
       "      <td>-0.151296</td>\n",
       "      <td>0.873978</td>\n",
       "      <td>-0.566939</td>\n",
       "      <td>-0.239876</td>\n",
       "      <td>1.395799</td>\n",
       "      <td>1.317237</td>\n",
       "      <td>2.123462</td>\n",
       "      <td>0.002333</td>\n",
       "      <td>-0.029637</td>\n",
       "      <td>1.263199</td>\n",
       "      <td>-0.356514</td>\n",
       "      <td>-1.002196</td>\n",
       "      <td>-0.13366</td>\n",
       "      <td>-0.217565</td>\n",
       "      <td>1.404036</td>\n",
       "      <td>-0.291070</td>\n",
       "      <td>-0.148233</td>\n",
       "      <td>-0.194412</td>\n",
       "      <td>-0.235757</td>\n",
       "      <td>-0.226273</td>\n",
       "      <td>-0.590356</td>\n",
       "      <td>-0.069643</td>\n",
       "      <td>-0.243941</td>\n",
       "      <td>-0.193193</td>\n",
       "      <td>-0.089225</td>\n",
       "      <td>-0.627602</td>\n",
       "      <td>1.248119</td>\n",
       "      <td>-0.696197</td>\n",
       "      <td>1.0</td>\n",
       "    </tr>\n",
       "    <tr>\n",
       "      <th>4</th>\n",
       "      <td>0.773034</td>\n",
       "      <td>-0.207992</td>\n",
       "      <td>1.454144</td>\n",
       "      <td>-0.147761</td>\n",
       "      <td>-0.147761</td>\n",
       "      <td>-1.009846</td>\n",
       "      <td>0.719284</td>\n",
       "      <td>0.281409</td>\n",
       "      <td>-0.066529</td>\n",
       "      <td>0.231414</td>\n",
       "      <td>-0.339649</td>\n",
       "      <td>-0.463210</td>\n",
       "      <td>-0.900363</td>\n",
       "      <td>-0.069643</td>\n",
       "      <td>-0.151296</td>\n",
       "      <td>0.873978</td>\n",
       "      <td>1.165741</td>\n",
       "      <td>-0.239876</td>\n",
       "      <td>1.395799</td>\n",
       "      <td>-0.043589</td>\n",
       "      <td>0.211549</td>\n",
       "      <td>1.065565</td>\n",
       "      <td>-0.029637</td>\n",
       "      <td>1.263199</td>\n",
       "      <td>-0.356514</td>\n",
       "      <td>-1.002196</td>\n",
       "      <td>-0.13366</td>\n",
       "      <td>-0.217565</td>\n",
       "      <td>-0.712232</td>\n",
       "      <td>3.435603</td>\n",
       "      <td>-0.148233</td>\n",
       "      <td>-0.194412</td>\n",
       "      <td>-0.235757</td>\n",
       "      <td>-0.226273</td>\n",
       "      <td>-0.590356</td>\n",
       "      <td>-0.069643</td>\n",
       "      <td>-0.243941</td>\n",
       "      <td>-0.193193</td>\n",
       "      <td>-0.089225</td>\n",
       "      <td>-0.627602</td>\n",
       "      <td>-0.801206</td>\n",
       "      <td>1.436375</td>\n",
       "      <td>1.0</td>\n",
       "    </tr>\n",
       "  </tbody>\n",
       "</table>\n",
       "</div>"
      ],
      "text/plain": [
       "   loan_amnt  annual_inc       dti  fico_range_low  fico_range_high  int_rate  \\\n",
       "0  -0.394780   -0.092019 -0.873321        1.940594         1.940594 -0.583950   \n",
       "1  -0.742344   -0.248924  0.844724        0.113283         0.113283  0.615513   \n",
       "2   0.689619   -0.078375  1.560036       -0.669850        -0.669850 -0.583950   \n",
       "3  -0.241852   -0.221636  1.050025       -0.930894        -0.930894  1.406463   \n",
       "4   0.773034   -0.207992  1.454144       -0.147761        -0.147761 -1.009846   \n",
       "\n",
       "   installment  open_acc  total_acc  revol_bal  inq_last_6mths  delinq_2yrs  \\\n",
       "0    -0.393509 -0.321346  -0.841857  -0.819426        1.187098     0.393653   \n",
       "1    -0.670219 -0.723183  -0.928005  -0.652416        0.423724    -0.463210   \n",
       "2     0.680086  0.281409   0.967242  -0.116192        2.713845     2.964244   \n",
       "3    -0.098216 -0.321346  -0.411119  -0.611183        2.713845     0.393653   \n",
       "4     0.719284  0.281409  -0.066529   0.231414       -0.339649    -0.463210   \n",
       "\n",
       "   mths_since_last_delinq  acc_now_delinq  collections_12_mths_ex_med  \\\n",
       "0               -0.313130       -0.069643                   -0.151296   \n",
       "1               -0.900363       -0.069643                   -0.151296   \n",
       "2               -0.900363       -0.069643                   -0.151296   \n",
       "3                0.319274       -0.069643                   -0.151296   \n",
       "4               -0.900363       -0.069643                   -0.151296   \n",
       "\n",
       "    pub_rec  months_cr_line      term  initial_list_status     grade  \\\n",
       "0 -0.426999       -0.884191 -0.239876             1.395799 -0.043589   \n",
       "1 -0.426999        0.311603 -0.239876             1.395799  1.317237   \n",
       "2  0.873978       -0.359506 -0.239876             1.395799 -0.043589   \n",
       "3  0.873978       -0.566939 -0.239876             1.395799  1.317237   \n",
       "4  0.873978        1.165741 -0.239876             1.395799 -0.043589   \n",
       "\n",
       "   sub_grade  emp_length       ANY  MORTGAGE       OWN      RENT      car  \\\n",
       "0   0.530201   -0.529283 -0.029637 -0.791641 -0.356514  0.997808 -0.13366   \n",
       "1   1.486158   -1.592515 -0.029637  1.263199 -0.356514 -1.002196 -0.13366   \n",
       "2   0.530201   -0.529283 -0.029637  1.263199 -0.356514 -1.002196 -0.13366   \n",
       "3   2.123462    0.002333 -0.029637  1.263199 -0.356514 -1.002196 -0.13366   \n",
       "4   0.211549    1.065565 -0.029637  1.263199 -0.356514 -1.002196 -0.13366   \n",
       "\n",
       "   credit_card  debt_consolidation  home_improvement     house  \\\n",
       "0    -0.217565           -0.712232          3.435603 -0.148233   \n",
       "1    -0.217565            1.404036         -0.291070 -0.148233   \n",
       "2    -0.217565           -0.712232         -0.291070 -0.148233   \n",
       "3    -0.217565            1.404036         -0.291070 -0.148233   \n",
       "4    -0.217565           -0.712232          3.435603 -0.148233   \n",
       "\n",
       "   major_purchase   medical    moving     other  renewable_energy  \\\n",
       "0       -0.194412 -0.235757 -0.226273 -0.590356         -0.069643   \n",
       "1       -0.194412 -0.235757 -0.226273 -0.590356         -0.069643   \n",
       "2       -0.194412 -0.235757 -0.226273 -0.590356         -0.069643   \n",
       "3       -0.194412 -0.235757 -0.226273 -0.590356         -0.069643   \n",
       "4       -0.194412 -0.235757 -0.226273 -0.590356         -0.069643   \n",
       "\n",
       "   small_business  vacation   wedding  Not Verified  Source Verified  \\\n",
       "0       -0.243941 -0.193193 -0.089225     -0.627602         1.248119   \n",
       "1       -0.243941 -0.193193 -0.089225     -0.627602         1.248119   \n",
       "2        4.099352 -0.193193 -0.089225     -0.627602         1.248119   \n",
       "3       -0.243941 -0.193193 -0.089225     -0.627602         1.248119   \n",
       "4       -0.243941 -0.193193 -0.089225     -0.627602        -0.801206   \n",
       "\n",
       "   Verified  loan_status_bin  \n",
       "0 -0.696197              0.0  \n",
       "1 -0.696197              0.0  \n",
       "2 -0.696197              1.0  \n",
       "3 -0.696197              1.0  \n",
       "4  1.436375              1.0  "
      ]
     },
     "execution_count": 3,
     "metadata": {},
     "output_type": "execute_result"
    }
   ],
   "source": [
    "data = pd.read_csv('../../Data/20x43_DEFG86017_5.csv')\n",
    "data.head(5)"
   ]
  },
  {
   "cell_type": "code",
   "execution_count": 4,
   "id": "771565fb",
   "metadata": {},
   "outputs": [
    {
     "data": {
      "text/plain": [
       "(2279, 43)"
      ]
     },
     "execution_count": 4,
     "metadata": {},
     "output_type": "execute_result"
    }
   ],
   "source": [
    "data.shape"
   ]
  },
  {
   "cell_type": "code",
   "execution_count": 5,
   "id": "74758ddc",
   "metadata": {},
   "outputs": [
    {
     "data": {
      "text/plain": [
       "1.0    1786\n",
       "0.0     493\n",
       "Name: loan_status_bin, dtype: int64"
      ]
     },
     "execution_count": 5,
     "metadata": {},
     "output_type": "execute_result"
    }
   ],
   "source": [
    "data.loan_status_bin.value_counts()\n",
    "#0 = Defaulted Loans\n",
    "#1 = Loans Paid In Full"
   ]
  },
  {
   "cell_type": "code",
   "execution_count": 6,
   "id": "b9a9c6be",
   "metadata": {},
   "outputs": [
    {
     "data": {
      "text/plain": [
       "(2279, 42)"
      ]
     },
     "execution_count": 6,
     "metadata": {},
     "output_type": "execute_result"
    }
   ],
   "source": [
    "X = data.drop('loan_status_bin', axis=1)\n",
    "X.shape"
   ]
  },
  {
   "cell_type": "code",
   "execution_count": 7,
   "id": "0559962b",
   "metadata": {},
   "outputs": [],
   "source": [
    "y = data['loan_status_bin']"
   ]
  },
  {
   "cell_type": "code",
   "execution_count": 8,
   "id": "9b1bb6de",
   "metadata": {},
   "outputs": [],
   "source": [
    "lr1 = LogisticRegression()"
   ]
  },
  {
   "cell_type": "code",
   "execution_count": 9,
   "id": "e9e711e2",
   "metadata": {},
   "outputs": [],
   "source": [
    "steps = [('model', lr1)]\n",
    "pipeline = Pipeline(steps=steps)"
   ]
  },
  {
   "cell_type": "code",
   "execution_count": 10,
   "id": "fb714eeb",
   "metadata": {},
   "outputs": [
    {
     "name": "stdout",
     "output_type": "stream",
     "text": [
      "[0.77631579 0.77192982 0.7872807  0.78070175 0.77362637]\n",
      "0.7779708887603624\n"
     ]
    }
   ],
   "source": [
    "#Accuracy:\n",
    "\n",
    "cv = RepeatedStratifiedKFold(n_splits=5, n_repeats=1, random_state=1)\n",
    "scores = cross_val_score(pipeline, X, y, scoring='accuracy', cv=cv, n_jobs=-1) \n",
    "print(scores)\n",
    "\n",
    "score = np.mean(scores)\n",
    "print(score)"
   ]
  },
  {
   "cell_type": "code",
   "execution_count": 11,
   "id": "9db484eb",
   "metadata": {},
   "outputs": [
    {
     "data": {
      "text/plain": [
       "array([[  15,  478],\n",
       "       [  28, 1758]])"
      ]
     },
     "execution_count": 11,
     "metadata": {},
     "output_type": "execute_result"
    }
   ],
   "source": [
    "#Aggregated Confusion Matrix From RepeatedStratifiedKFold: \n",
    "y_pred = cross_val_predict(pipeline, X, y, cv=cv, n_jobs=-1)\n",
    "conf_mat = confusion_matrix(y, y_pred)\n",
    "conf_mat"
   ]
  },
  {
   "cell_type": "code",
   "execution_count": 12,
   "id": "cd14efda",
   "metadata": {},
   "outputs": [
    {
     "data": {
      "image/png": "[encoded data removed]",
      "text/plain": [
       "<Figure size 864x432 with 1 Axes>"
      ]
     },
     "metadata": {},
     "output_type": "display_data"
    }
   ],
   "source": [
    "sns.set(rc = {'figure.figsize':(12,6)})\n",
    "#cmap = sns.cubehelix_palette(start=2, rot=0, dark=0, light=.95, reverse=True, as_cmap=True)\n",
    "cmap = sns.light_palette('seagreen', as_cmap=True)\n",
    "\n",
    "res = sns.heatmap(conf_mat, annot=True, fmt='d', annot_kws={\"size\":20},\n",
    "#            xticklabels = ['Good = Paid In Full', 'Bad = Default'],\n",
    "#            yticklabels = ['Loan Paid In Full', 'Bad = Default'], \n",
    "            cmap=cmap, cbar=False)\n",
    "\n",
    "res.set_xticklabels(['Loan Default', 'Loan Repaid'], fontsize=15)\n",
    "res.set_yticklabels(['Loan Default', 'Loan Repaid'], fontsize=15)\n",
    "\n",
    "\n",
    "plt.title('Confusion Matrix For Logistic Regression', fontsize=25, pad=15)\n",
    "plt.xlabel('Predicted', fontsize=20)\n",
    "plt.ylabel('Actual', fontsize=20);"
   ]
  },
  {
   "cell_type": "code",
   "execution_count": 13,
   "id": "345a55b6",
   "metadata": {},
   "outputs": [
    {
     "data": {
      "text/plain": [
       "0.7779727950855638"
      ]
     },
     "execution_count": 13,
     "metadata": {},
     "output_type": "execute_result"
    }
   ],
   "source": [
    "accuracy_score(y, y_pred)"
   ]
  },
  {
   "cell_type": "code",
   "execution_count": 14,
   "id": "22662a59",
   "metadata": {},
   "outputs": [
    {
     "name": "stdout",
     "output_type": "stream",
     "text": [
      "1758\n",
      "478\n",
      "28\n",
      "15\n",
      "0.7779727950855638\n"
     ]
    }
   ],
   "source": [
    "TN, FP, FN, TP = conf_mat.ravel()\n",
    "print(TP)\n",
    "print(FP)\n",
    "print(FN)\n",
    "print(TN)\n",
    "print((TP + TN) / (TN + TP + FP + FN))"
   ]
  },
  {
   "cell_type": "code",
   "execution_count": null,
   "id": "4dcedec5",
   "metadata": {},
   "outputs": [],
   "source": []
  },
  {
   "cell_type": "code",
   "execution_count": 15,
   "id": "36dec5fa",
   "metadata": {},
   "outputs": [
    {
     "name": "stdout",
     "output_type": "stream",
     "text": [
      "1.0    1786\n",
      "0.0     493\n",
      "Name: loan_status_bin, dtype: int64\n",
      "\n",
      "0.7836770513383062\n"
     ]
    }
   ],
   "source": [
    "#Re-examine original pool of accepted LC Loans: \n",
    "\n",
    "print(data.loan_status_bin.value_counts())\n",
    "#0 = Loan Defaulted\n",
    "#1 = Loan Fully Paid\n",
    "\n",
    "good_loan = data.loan_status_bin.value_counts()[1]\n",
    "bad_loan = data.loan_status_bin.value_counts()[0]\n",
    "\n",
    "print()\n",
    "print(good_loan / (good_loan + bad_loan))\n",
    "\n",
    "#Random investment would give us 59% chance of pickkng a good loan"
   ]
  },
  {
   "cell_type": "code",
   "execution_count": 16,
   "id": "9be4be5d",
   "metadata": {},
   "outputs": [
    {
     "data": {
      "text/plain": [
       "0.7862254025044723"
      ]
     },
     "execution_count": 16,
     "metadata": {},
     "output_type": "execute_result"
    }
   ],
   "source": [
    "#Positive Predictive Value (or Precision)\n",
    "#Logistic Model only does 0.1% better than Null Model or \"random investment\"\n",
    "TP / (TP+FP)"
   ]
  },
  {
   "cell_type": "code",
   "execution_count": null,
   "id": "747fa766",
   "metadata": {},
   "outputs": [],
   "source": []
  },
  {
   "cell_type": "code",
   "execution_count": 17,
   "id": "3188e143",
   "metadata": {},
   "outputs": [],
   "source": [
    "#What if we \"balance\" the weight class to avoid \"imbalanced\" nature...No Change! "
   ]
  },
  {
   "cell_type": "code",
   "execution_count": 18,
   "id": "0d86ed92",
   "metadata": {},
   "outputs": [],
   "source": [
    "lr_balanced = LogisticRegression(class_weight='balanced')"
   ]
  },
  {
   "cell_type": "code",
   "execution_count": 19,
   "id": "1e582bb8",
   "metadata": {},
   "outputs": [],
   "source": [
    "steps_balanced = [('model', lr_balanced)]\n",
    "pipeline_balanced = Pipeline(steps=steps)"
   ]
  },
  {
   "cell_type": "code",
   "execution_count": 20,
   "id": "1f2cdc5a",
   "metadata": {},
   "outputs": [
    {
     "name": "stdout",
     "output_type": "stream",
     "text": [
      "[0.77631579 0.77192982 0.7872807  0.78070175 0.77362637]\n",
      "0.7779708887603624\n"
     ]
    }
   ],
   "source": [
    "#Accuracy:\n",
    "\n",
    "cv = RepeatedStratifiedKFold(n_splits=5, n_repeats=1, random_state=1)\n",
    "scores = cross_val_score(pipeline_balanced, X, y, scoring='accuracy', cv=cv, n_jobs=-1) \n",
    "print(scores)\n",
    "\n",
    "score = np.mean(scores)\n",
    "print(score)"
   ]
  },
  {
   "cell_type": "code",
   "execution_count": 21,
   "id": "b5943c47",
   "metadata": {},
   "outputs": [
    {
     "data": {
      "text/plain": [
       "array([[  15,  478],\n",
       "       [  28, 1758]])"
      ]
     },
     "execution_count": 21,
     "metadata": {},
     "output_type": "execute_result"
    }
   ],
   "source": [
    "#Aggregated Confusion Matrix From RepeatedStratifiedKFold: \n",
    "y_pred_balanced = cross_val_predict(pipeline_balanced, X, y, cv=cv, n_jobs=-1)\n",
    "conf_mat_balanced = confusion_matrix(y, y_pred_balanced)\n",
    "conf_mat_balanced"
   ]
  },
  {
   "cell_type": "code",
   "execution_count": null,
   "id": "33d49ed8",
   "metadata": {},
   "outputs": [],
   "source": []
  },
  {
   "cell_type": "code",
   "execution_count": null,
   "id": "c2672371",
   "metadata": {},
   "outputs": [],
   "source": []
  },
  {
   "cell_type": "code",
   "execution_count": 22,
   "id": "3e6f9d5f",
   "metadata": {},
   "outputs": [],
   "source": [
    "#Obtain predicted probabilities (not predicted classes) from RSKF: \n",
    "y_pred_prob = cross_val_predict(pipeline, X, y, cv=cv, n_jobs=-1, method='predict_proba')"
   ]
  },
  {
   "cell_type": "code",
   "execution_count": 23,
   "id": "9f850d5b",
   "metadata": {},
   "outputs": [
    {
     "data": {
      "text/plain": [
       "array([[0.29850794, 0.70149206],\n",
       "       [0.28547051, 0.71452949],\n",
       "       [0.2069127 , 0.7930873 ],\n",
       "       ...,\n",
       "       [0.13700801, 0.86299199],\n",
       "       [0.29814476, 0.70185524],\n",
       "       [0.22541047, 0.77458953]])"
      ]
     },
     "execution_count": 23,
     "metadata": {},
     "output_type": "execute_result"
    }
   ],
   "source": [
    "y_pred_prob"
   ]
  },
  {
   "cell_type": "code",
   "execution_count": 31,
   "id": "973f2937",
   "metadata": {},
   "outputs": [
    {
     "data": {
      "text/plain": [
       "array([0., 0., 0., ..., 0., 0., 0.])"
      ]
     },
     "execution_count": 31,
     "metadata": {},
     "output_type": "execute_result"
    }
   ],
   "source": [
    "#Obtaining classification based on desired threshold of 0.8: \n",
    "\n",
    "y_pred_success = (y_pred_prob[:, 1] > 0.91).astype('float')\n",
    "y_pred_success"
   ]
  },
  {
   "cell_type": "code",
   "execution_count": 32,
   "id": "686a5f94",
   "metadata": {},
   "outputs": [
    {
     "data": {
      "text/plain": [
       "array([[ 466,   27],\n",
       "       [1573,  213]])"
      ]
     },
     "execution_count": 32,
     "metadata": {},
     "output_type": "execute_result"
    }
   ],
   "source": [
    "conf_mat = confusion_matrix(y, y_pred_success)\n",
    "conf_mat"
   ]
  },
  {
   "cell_type": "code",
   "execution_count": 33,
   "id": "6c050cfb",
   "metadata": {},
   "outputs": [
    {
     "data": {
      "image/png": "[encoded data removed]",
      "text/plain": [
       "<Figure size 864x432 with 1 Axes>"
      ]
     },
     "metadata": {},
     "output_type": "display_data"
    }
   ],
   "source": [
    "sns.set(rc = {'figure.figsize':(12,6)})\n",
    "#cmap = sns.cubehelix_palette(start=2, rot=0, dark=0, light=.95, reverse=True, as_cmap=True)\n",
    "cmap = sns.light_palette('seagreen', as_cmap=True)\n",
    "\n",
    "res = sns.heatmap(conf_mat, annot=True, fmt='d', annot_kws={\"size\":20},\n",
    "#            xticklabels = ['Good = Paid In Full', 'Bad = Default'],\n",
    "#            yticklabels = ['Loan Paid In Full', 'Bad = Default'], \n",
    "            cmap=cmap, cbar=False)\n",
    "\n",
    "res.set_xticklabels(['Loan Default', 'Loan Repaid'], fontsize=15)\n",
    "res.set_yticklabels(['Loan Default', 'Loan Repaid'], fontsize=15)\n",
    "\n",
    "\n",
    "plt.title('Confusion Matrix For Logistic Regression', fontsize=25, pad=15)\n",
    "plt.xlabel('Predicted', fontsize=20)\n",
    "plt.ylabel('Actual', fontsize=20);"
   ]
  },
  {
   "cell_type": "code",
   "execution_count": 34,
   "id": "c5dc62cd",
   "metadata": {},
   "outputs": [
    {
     "data": {
      "text/plain": [
       "0.29793769197016234"
      ]
     },
     "execution_count": 34,
     "metadata": {},
     "output_type": "execute_result"
    }
   ],
   "source": [
    "accuracy_score(y, y_pred_success)"
   ]
  },
  {
   "cell_type": "code",
   "execution_count": 35,
   "id": "25920782",
   "metadata": {},
   "outputs": [
    {
     "name": "stdout",
     "output_type": "stream",
     "text": [
      "213\n",
      "27\n",
      "1573\n",
      "466\n",
      "0.29793769197016234\n"
     ]
    }
   ],
   "source": [
    "TN, FP, FN, TP = conf_mat.ravel()\n",
    "print(TP)\n",
    "print(FP)\n",
    "print(FN)\n",
    "print(TN)\n",
    "print((TP + TN) / (TN + TP + FP + FN))"
   ]
  },
  {
   "cell_type": "code",
   "execution_count": 36,
   "id": "67e15484",
   "metadata": {},
   "outputs": [
    {
     "data": {
      "text/plain": [
       "0.8875"
      ]
     },
     "execution_count": 36,
     "metadata": {},
     "output_type": "execute_result"
    }
   ],
   "source": [
    "#Positive Predictive Value (or Precision)\n",
    "#Logistic Model only does 3% better than Null Model or \"random investment\"\n",
    "TP / (TP+FP)"
   ]
  },
  {
   "cell_type": "code",
   "execution_count": null,
   "id": "0ec77f4b",
   "metadata": {},
   "outputs": [],
   "source": []
  },
  {
   "cell_type": "code",
   "execution_count": 30,
   "id": "ac9a9f8f",
   "metadata": {},
   "outputs": [
    {
     "name": "stdout",
     "output_type": "stream",
     "text": [
      "0.8875\n",
      "91\n"
     ]
    }
   ],
   "source": [
    "thresh = []\n",
    "PosPredVal = []\n",
    "\n",
    "for i in range(0,100,1):\n",
    "    y_pred_success = (y_pred_prob[:, 1] > (i/100)).astype('float')\n",
    "    conf_mat = confusion_matrix(y, y_pred_success)\n",
    "    TN, FP, FN, TP = conf_mat.ravel()\n",
    "    thresh.append(i)\n",
    "    PosPredVal.append((TP/(TP+FP)))\n",
    "\n",
    "print(np.max(PosPredVal))\n",
    "print(PosPredVal.index(np.max(PosPredVal)))"
   ]
  },
  {
   "cell_type": "code",
   "execution_count": null,
   "id": "60560faf",
   "metadata": {},
   "outputs": [],
   "source": []
  },
  {
   "cell_type": "code",
   "execution_count": 30,
   "id": "a51b3ce5",
   "metadata": {},
   "outputs": [],
   "source": [
    "## Next question. what was characteristic of the 217 loans that defaulted??\n",
    "## Get all loans which you predicted greater than 80% and find out which ones defaulted.\n",
    "## Any pattern?????"
   ]
  },
  {
   "cell_type": "code",
   "execution_count": 31,
   "id": "2bb4a848",
   "metadata": {},
   "outputs": [],
   "source": [
    "#Do we drop all observations where the source is not verified? \n",
    "#Do we drop all observations loan amount is greater than half of one's income? "
   ]
  },
  {
   "cell_type": "code",
   "execution_count": null,
   "id": "88205f9a",
   "metadata": {},
   "outputs": [],
   "source": []
  }
 ],
 "metadata": {
  "hide_input": false,
  "kernelspec": {
   "display_name": "Python 3 (ipykernel)",
   "language": "python",
   "name": "python3"
  },
  "language_info": {
   "codemirror_mode": {
    "name": "ipython",
    "version": 3
   },
   "file_extension": ".py",
   "mimetype": "text/x-python",
   "name": "python",
   "nbconvert_exporter": "python",
   "pygments_lexer": "ipython3",
   "version": "3.8.8"
  },
  "varInspector": {
   "cols": {
    "lenName": 16,
    "lenType": 16,
    "lenVar": 40
   },
   "kernels_config": {
    "python": {
     "delete_cmd_postfix": "",
     "delete_cmd_prefix": "del ",
     "library": "var_list.py",
     "varRefreshCmd": "print(var_dic_list())"
    },
    "r": {
     "delete_cmd_postfix": ") ",
     "delete_cmd_prefix": "rm(",
     "library": "var_list.r",
     "varRefreshCmd": "cat(var_dic_list()) "
    }
   },
   "types_to_exclude": [
    "module",
    "function",
    "builtin_function_or_method",
    "instance",
    "_Feature"
   ],
   "window_display": false
  }
 },
 "nbformat": 4,
 "nbformat_minor": 5
}
