{
 "cells": [
  {
   "cell_type": "code",
   "execution_count": 1,
   "id": "6f4648b5",
   "metadata": {},
   "outputs": [],
   "source": [
    "import pandas as pd\n",
    "import numpy as np\n",
    "import seaborn as sns\n",
    "import copy as cp\n",
    "import matplotlib.pyplot as plt\n",
    "\n",
    "from sklearn.model_selection import cross_val_score, cross_val_predict \n",
    "from sklearn.model_selection import train_test_split\n",
    "from sklearn.model_selection import RepeatedStratifiedKFold\n",
    "from imblearn.pipeline import Pipeline\n",
    "from imblearn.over_sampling import SMOTE\n",
    "\n",
    "from sklearn.linear_model import LogisticRegression\n",
    "from sklearn.metrics import roc_auc_score, roc_curve, precision_recall_curve\n",
    "from sklearn.metrics import confusion_matrix, accuracy_score\n",
    "\n",
    "from typing import Tuple"
   ]
  },
  {
   "cell_type": "code",
   "execution_count": 2,
   "id": "a6b2eaad",
   "metadata": {},
   "outputs": [],
   "source": [
    "pd.set_option(\"display.max_columns\", 200)\n",
    "pd.set_option(\"display.max_row\", 160)\n",
    "pd.set_option('max_colwidth', 200)"
   ]
  },
  {
   "cell_type": "code",
   "execution_count": 3,
   "id": "acc59130",
   "metadata": {},
   "outputs": [
    {
     "data": {
      "text/html": [
       "<div>\n",
       "<style scoped>\n",
       "    .dataframe tbody tr th:only-of-type {\n",
       "        vertical-align: middle;\n",
       "    }\n",
       "\n",
       "    .dataframe tbody tr th {\n",
       "        vertical-align: top;\n",
       "    }\n",
       "\n",
       "    .dataframe thead th {\n",
       "        text-align: right;\n",
       "    }\n",
       "</style>\n",
       "<table border=\"1\" class=\"dataframe\">\n",
       "  <thead>\n",
       "    <tr style=\"text-align: right;\">\n",
       "      <th></th>\n",
       "      <th>loan_amnt</th>\n",
       "      <th>annual_inc</th>\n",
       "      <th>dti</th>\n",
       "      <th>fico_range_low</th>\n",
       "      <th>fico_range_high</th>\n",
       "      <th>int_rate</th>\n",
       "      <th>installment</th>\n",
       "      <th>open_acc</th>\n",
       "      <th>total_acc</th>\n",
       "      <th>revol_bal</th>\n",
       "      <th>revol_util</th>\n",
       "      <th>inq_last_6mths</th>\n",
       "      <th>delinq_2yrs</th>\n",
       "      <th>mths_since_last_delinq</th>\n",
       "      <th>acc_now_delinq</th>\n",
       "      <th>collections_12_mths_ex_med</th>\n",
       "      <th>tot_coll_amt</th>\n",
       "      <th>tot_cur_bal</th>\n",
       "      <th>pub_rec</th>\n",
       "      <th>months_cr_line</th>\n",
       "      <th>term</th>\n",
       "      <th>initial_list_status</th>\n",
       "      <th>sub_grade</th>\n",
       "      <th>emp_length</th>\n",
       "      <th>MORTGAGE</th>\n",
       "      <th>OWN</th>\n",
       "      <th>RENT</th>\n",
       "      <th>car</th>\n",
       "      <th>credit_card</th>\n",
       "      <th>debt_consolidation</th>\n",
       "      <th>home_improvement</th>\n",
       "      <th>house</th>\n",
       "      <th>major_purchase</th>\n",
       "      <th>medical</th>\n",
       "      <th>moving</th>\n",
       "      <th>other</th>\n",
       "      <th>renewable_energy</th>\n",
       "      <th>small_business</th>\n",
       "      <th>vacation</th>\n",
       "      <th>Not Verified</th>\n",
       "      <th>Source Verified</th>\n",
       "      <th>Verified</th>\n",
       "      <th>loan_status_bin</th>\n",
       "    </tr>\n",
       "  </thead>\n",
       "  <tbody>\n",
       "    <tr>\n",
       "      <th>0</th>\n",
       "      <td>-1.710264</td>\n",
       "      <td>-0.170493</td>\n",
       "      <td>0.829172</td>\n",
       "      <td>-0.425785</td>\n",
       "      <td>-0.425785</td>\n",
       "      <td>-0.643790</td>\n",
       "      <td>-1.712281</td>\n",
       "      <td>-0.534592</td>\n",
       "      <td>0.045671</td>\n",
       "      <td>0.052599</td>\n",
       "      <td>0.324558</td>\n",
       "      <td>-0.938786</td>\n",
       "      <td>-0.475411</td>\n",
       "      <td>0.653234</td>\n",
       "      <td>-0.074813</td>\n",
       "      <td>-0.169192</td>\n",
       "      <td>-0.105946</td>\n",
       "      <td>-0.604541</td>\n",
       "      <td>-0.392733</td>\n",
       "      <td>-0.077399</td>\n",
       "      <td>-0.074813</td>\n",
       "      <td>0.902671</td>\n",
       "      <td>-1.424110</td>\n",
       "      <td>0.045419</td>\n",
       "      <td>-0.752901</td>\n",
       "      <td>-0.392652</td>\n",
       "      <td>0.990766</td>\n",
       "      <td>-0.169192</td>\n",
       "      <td>-0.312665</td>\n",
       "      <td>-0.885871</td>\n",
       "      <td>-0.271487</td>\n",
       "      <td>-0.114708</td>\n",
       "      <td>-0.215875</td>\n",
       "      <td>-0.185873</td>\n",
       "      <td>-0.19115</td>\n",
       "      <td>1.963633</td>\n",
       "      <td>-0.043113</td>\n",
       "      <td>-0.144338</td>\n",
       "      <td>-0.144338</td>\n",
       "      <td>1.296762</td>\n",
       "      <td>-0.758962</td>\n",
       "      <td>-0.595207</td>\n",
       "      <td>0.0</td>\n",
       "    </tr>\n",
       "    <tr>\n",
       "      <th>1</th>\n",
       "      <td>-0.220640</td>\n",
       "      <td>-0.022381</td>\n",
       "      <td>-0.004694</td>\n",
       "      <td>-0.713738</td>\n",
       "      <td>-0.713738</td>\n",
       "      <td>1.352522</td>\n",
       "      <td>-0.187752</td>\n",
       "      <td>0.281683</td>\n",
       "      <td>0.133276</td>\n",
       "      <td>-0.375976</td>\n",
       "      <td>-0.664238</td>\n",
       "      <td>-0.094035</td>\n",
       "      <td>-0.475411</td>\n",
       "      <td>1.318457</td>\n",
       "      <td>-0.074813</td>\n",
       "      <td>-0.169192</td>\n",
       "      <td>-0.105946</td>\n",
       "      <td>-0.601645</td>\n",
       "      <td>3.601285</td>\n",
       "      <td>0.605054</td>\n",
       "      <td>-0.074813</td>\n",
       "      <td>0.902671</td>\n",
       "      <td>0.702193</td>\n",
       "      <td>-1.568703</td>\n",
       "      <td>-0.752901</td>\n",
       "      <td>-0.392652</td>\n",
       "      <td>0.990766</td>\n",
       "      <td>-0.169192</td>\n",
       "      <td>-0.312665</td>\n",
       "      <td>-0.885871</td>\n",
       "      <td>3.683418</td>\n",
       "      <td>-0.114708</td>\n",
       "      <td>-0.215875</td>\n",
       "      <td>-0.185873</td>\n",
       "      <td>-0.19115</td>\n",
       "      <td>-0.509260</td>\n",
       "      <td>-0.043113</td>\n",
       "      <td>-0.144338</td>\n",
       "      <td>-0.144338</td>\n",
       "      <td>-0.771151</td>\n",
       "      <td>1.317589</td>\n",
       "      <td>-0.595207</td>\n",
       "      <td>1.0</td>\n",
       "    </tr>\n",
       "    <tr>\n",
       "      <th>2</th>\n",
       "      <td>-1.071854</td>\n",
       "      <td>0.240519</td>\n",
       "      <td>0.629044</td>\n",
       "      <td>-0.425785</td>\n",
       "      <td>-0.425785</td>\n",
       "      <td>1.352522</td>\n",
       "      <td>-1.051675</td>\n",
       "      <td>-0.738661</td>\n",
       "      <td>-1.005580</td>\n",
       "      <td>1.311539</td>\n",
       "      <td>1.802279</td>\n",
       "      <td>-0.938786</td>\n",
       "      <td>-0.475411</td>\n",
       "      <td>2.601388</td>\n",
       "      <td>-0.074813</td>\n",
       "      <td>-0.169192</td>\n",
       "      <td>-0.105946</td>\n",
       "      <td>-0.395169</td>\n",
       "      <td>-0.392733</td>\n",
       "      <td>2.930452</td>\n",
       "      <td>-0.074813</td>\n",
       "      <td>0.902671</td>\n",
       "      <td>0.702193</td>\n",
       "      <td>-0.223601</td>\n",
       "      <td>-0.752901</td>\n",
       "      <td>2.546784</td>\n",
       "      <td>-1.009320</td>\n",
       "      <td>-0.169192</td>\n",
       "      <td>-0.312665</td>\n",
       "      <td>-0.885871</td>\n",
       "      <td>-0.271487</td>\n",
       "      <td>-0.114708</td>\n",
       "      <td>-0.215875</td>\n",
       "      <td>-0.185873</td>\n",
       "      <td>-0.19115</td>\n",
       "      <td>1.963633</td>\n",
       "      <td>-0.043113</td>\n",
       "      <td>-0.144338</td>\n",
       "      <td>-0.144338</td>\n",
       "      <td>-0.771151</td>\n",
       "      <td>-0.758962</td>\n",
       "      <td>1.680088</td>\n",
       "      <td>0.0</td>\n",
       "    </tr>\n",
       "    <tr>\n",
       "      <th>3</th>\n",
       "      <td>-0.220640</td>\n",
       "      <td>0.014648</td>\n",
       "      <td>0.680359</td>\n",
       "      <td>0.150120</td>\n",
       "      <td>0.150120</td>\n",
       "      <td>1.352522</td>\n",
       "      <td>-0.187752</td>\n",
       "      <td>1.506095</td>\n",
       "      <td>0.746505</td>\n",
       "      <td>2.320996</td>\n",
       "      <td>0.561723</td>\n",
       "      <td>-0.938786</td>\n",
       "      <td>-0.475411</td>\n",
       "      <td>-0.914792</td>\n",
       "      <td>-0.074813</td>\n",
       "      <td>-0.169192</td>\n",
       "      <td>-0.105946</td>\n",
       "      <td>1.111594</td>\n",
       "      <td>-0.392733</td>\n",
       "      <td>-0.671386</td>\n",
       "      <td>-0.074813</td>\n",
       "      <td>-1.107823</td>\n",
       "      <td>0.702193</td>\n",
       "      <td>-0.223601</td>\n",
       "      <td>1.328195</td>\n",
       "      <td>-0.392652</td>\n",
       "      <td>-1.009320</td>\n",
       "      <td>-0.169192</td>\n",
       "      <td>-0.312665</td>\n",
       "      <td>-0.885871</td>\n",
       "      <td>-0.271487</td>\n",
       "      <td>-0.114708</td>\n",
       "      <td>-0.215875</td>\n",
       "      <td>5.380004</td>\n",
       "      <td>-0.19115</td>\n",
       "      <td>-0.509260</td>\n",
       "      <td>-0.043113</td>\n",
       "      <td>-0.144338</td>\n",
       "      <td>-0.144338</td>\n",
       "      <td>-0.771151</td>\n",
       "      <td>1.317589</td>\n",
       "      <td>-0.595207</td>\n",
       "      <td>0.0</td>\n",
       "    </tr>\n",
       "    <tr>\n",
       "      <th>4</th>\n",
       "      <td>-0.305762</td>\n",
       "      <td>-0.194784</td>\n",
       "      <td>1.090877</td>\n",
       "      <td>-0.425785</td>\n",
       "      <td>-0.425785</td>\n",
       "      <td>1.352522</td>\n",
       "      <td>-0.274111</td>\n",
       "      <td>1.506095</td>\n",
       "      <td>1.972965</td>\n",
       "      <td>-0.350852</td>\n",
       "      <td>-0.631400</td>\n",
       "      <td>0.750715</td>\n",
       "      <td>-0.475411</td>\n",
       "      <td>2.126228</td>\n",
       "      <td>-0.074813</td>\n",
       "      <td>-0.169192</td>\n",
       "      <td>0.113927</td>\n",
       "      <td>0.117630</td>\n",
       "      <td>-0.392733</td>\n",
       "      <td>-0.077399</td>\n",
       "      <td>-0.074813</td>\n",
       "      <td>0.902671</td>\n",
       "      <td>0.702193</td>\n",
       "      <td>-1.568703</td>\n",
       "      <td>-0.752901</td>\n",
       "      <td>2.546784</td>\n",
       "      <td>-1.009320</td>\n",
       "      <td>-0.169192</td>\n",
       "      <td>-0.312665</td>\n",
       "      <td>1.128832</td>\n",
       "      <td>-0.271487</td>\n",
       "      <td>-0.114708</td>\n",
       "      <td>-0.215875</td>\n",
       "      <td>-0.185873</td>\n",
       "      <td>-0.19115</td>\n",
       "      <td>-0.509260</td>\n",
       "      <td>-0.043113</td>\n",
       "      <td>-0.144338</td>\n",
       "      <td>-0.144338</td>\n",
       "      <td>-0.771151</td>\n",
       "      <td>-0.758962</td>\n",
       "      <td>1.680088</td>\n",
       "      <td>1.0</td>\n",
       "    </tr>\n",
       "  </tbody>\n",
       "</table>\n",
       "</div>"
      ],
      "text/plain": [
       "   loan_amnt  annual_inc       dti  fico_range_low  fico_range_high  int_rate  \\\n",
       "0  -1.710264   -0.170493  0.829172       -0.425785        -0.425785 -0.643790   \n",
       "1  -0.220640   -0.022381 -0.004694       -0.713738        -0.713738  1.352522   \n",
       "2  -1.071854    0.240519  0.629044       -0.425785        -0.425785  1.352522   \n",
       "3  -0.220640    0.014648  0.680359        0.150120         0.150120  1.352522   \n",
       "4  -0.305762   -0.194784  1.090877       -0.425785        -0.425785  1.352522   \n",
       "\n",
       "   installment  open_acc  total_acc  revol_bal  revol_util  inq_last_6mths  \\\n",
       "0    -1.712281 -0.534592   0.045671   0.052599    0.324558       -0.938786   \n",
       "1    -0.187752  0.281683   0.133276  -0.375976   -0.664238       -0.094035   \n",
       "2    -1.051675 -0.738661  -1.005580   1.311539    1.802279       -0.938786   \n",
       "3    -0.187752  1.506095   0.746505   2.320996    0.561723       -0.938786   \n",
       "4    -0.274111  1.506095   1.972965  -0.350852   -0.631400        0.750715   \n",
       "\n",
       "   delinq_2yrs  mths_since_last_delinq  acc_now_delinq  \\\n",
       "0    -0.475411                0.653234       -0.074813   \n",
       "1    -0.475411                1.318457       -0.074813   \n",
       "2    -0.475411                2.601388       -0.074813   \n",
       "3    -0.475411               -0.914792       -0.074813   \n",
       "4    -0.475411                2.126228       -0.074813   \n",
       "\n",
       "   collections_12_mths_ex_med  tot_coll_amt  tot_cur_bal   pub_rec  \\\n",
       "0                   -0.169192     -0.105946    -0.604541 -0.392733   \n",
       "1                   -0.169192     -0.105946    -0.601645  3.601285   \n",
       "2                   -0.169192     -0.105946    -0.395169 -0.392733   \n",
       "3                   -0.169192     -0.105946     1.111594 -0.392733   \n",
       "4                   -0.169192      0.113927     0.117630 -0.392733   \n",
       "\n",
       "   months_cr_line      term  initial_list_status  sub_grade  emp_length  \\\n",
       "0       -0.077399 -0.074813             0.902671  -1.424110    0.045419   \n",
       "1        0.605054 -0.074813             0.902671   0.702193   -1.568703   \n",
       "2        2.930452 -0.074813             0.902671   0.702193   -0.223601   \n",
       "3       -0.671386 -0.074813            -1.107823   0.702193   -0.223601   \n",
       "4       -0.077399 -0.074813             0.902671   0.702193   -1.568703   \n",
       "\n",
       "   MORTGAGE       OWN      RENT       car  credit_card  debt_consolidation  \\\n",
       "0 -0.752901 -0.392652  0.990766 -0.169192    -0.312665           -0.885871   \n",
       "1 -0.752901 -0.392652  0.990766 -0.169192    -0.312665           -0.885871   \n",
       "2 -0.752901  2.546784 -1.009320 -0.169192    -0.312665           -0.885871   \n",
       "3  1.328195 -0.392652 -1.009320 -0.169192    -0.312665           -0.885871   \n",
       "4 -0.752901  2.546784 -1.009320 -0.169192    -0.312665            1.128832   \n",
       "\n",
       "   home_improvement     house  major_purchase   medical   moving     other  \\\n",
       "0         -0.271487 -0.114708       -0.215875 -0.185873 -0.19115  1.963633   \n",
       "1          3.683418 -0.114708       -0.215875 -0.185873 -0.19115 -0.509260   \n",
       "2         -0.271487 -0.114708       -0.215875 -0.185873 -0.19115  1.963633   \n",
       "3         -0.271487 -0.114708       -0.215875  5.380004 -0.19115 -0.509260   \n",
       "4         -0.271487 -0.114708       -0.215875 -0.185873 -0.19115 -0.509260   \n",
       "\n",
       "   renewable_energy  small_business  vacation  Not Verified  Source Verified  \\\n",
       "0         -0.043113       -0.144338 -0.144338      1.296762        -0.758962   \n",
       "1         -0.043113       -0.144338 -0.144338     -0.771151         1.317589   \n",
       "2         -0.043113       -0.144338 -0.144338     -0.771151        -0.758962   \n",
       "3         -0.043113       -0.144338 -0.144338     -0.771151         1.317589   \n",
       "4         -0.043113       -0.144338 -0.144338     -0.771151        -0.758962   \n",
       "\n",
       "   Verified  loan_status_bin  \n",
       "0 -0.595207              0.0  \n",
       "1 -0.595207              1.0  \n",
       "2  1.680088              0.0  \n",
       "3 -0.595207              0.0  \n",
       "4  1.680088              1.0  "
      ]
     },
     "execution_count": 3,
     "metadata": {},
     "output_type": "execute_result"
    }
   ],
   "source": [
    "data = pd.read_csv('../../Data/20x43_D106015.csv')\n",
    "data.head(5)"
   ]
  },
  {
   "cell_type": "code",
   "execution_count": 4,
   "id": "771565fb",
   "metadata": {},
   "outputs": [
    {
     "data": {
      "text/plain": [
       "(539, 43)"
      ]
     },
     "execution_count": 4,
     "metadata": {},
     "output_type": "execute_result"
    }
   ],
   "source": [
    "data.shape"
   ]
  },
  {
   "cell_type": "code",
   "execution_count": 5,
   "id": "74758ddc",
   "metadata": {},
   "outputs": [
    {
     "data": {
      "text/plain": [
       "1.0    461\n",
       "0.0     78\n",
       "Name: loan_status_bin, dtype: int64"
      ]
     },
     "execution_count": 5,
     "metadata": {},
     "output_type": "execute_result"
    }
   ],
   "source": [
    "data.loan_status_bin.value_counts()\n",
    "#0 = Defaulted Loans\n",
    "#1 = Loans Paid In Full"
   ]
  },
  {
   "cell_type": "code",
   "execution_count": 6,
   "id": "b9a9c6be",
   "metadata": {},
   "outputs": [
    {
     "data": {
      "text/plain": [
       "(539, 42)"
      ]
     },
     "execution_count": 6,
     "metadata": {},
     "output_type": "execute_result"
    }
   ],
   "source": [
    "X = data.drop('loan_status_bin', axis=1)\n",
    "X.shape"
   ]
  },
  {
   "cell_type": "code",
   "execution_count": 7,
   "id": "0559962b",
   "metadata": {},
   "outputs": [],
   "source": [
    "y = data['loan_status_bin']"
   ]
  },
  {
   "cell_type": "code",
   "execution_count": 8,
   "id": "9b1bb6de",
   "metadata": {},
   "outputs": [],
   "source": [
    "lr1 = LogisticRegression()"
   ]
  },
  {
   "cell_type": "code",
   "execution_count": 9,
   "id": "e9e711e2",
   "metadata": {},
   "outputs": [],
   "source": [
    "steps = [('model', lr1)]\n",
    "pipeline = Pipeline(steps=steps)"
   ]
  },
  {
   "cell_type": "code",
   "execution_count": 10,
   "id": "fb714eeb",
   "metadata": {},
   "outputs": [
    {
     "name": "stdout",
     "output_type": "stream",
     "text": [
      "[0.85185185 0.84259259 0.86111111 0.84259259 0.82242991]\n",
      "0.8441156109380408\n"
     ]
    }
   ],
   "source": [
    "#Accuracy:\n",
    "\n",
    "cv = RepeatedStratifiedKFold(n_splits=5, n_repeats=1, random_state=1)\n",
    "scores = cross_val_score(pipeline, X, y, scoring='accuracy', cv=cv, n_jobs=-1) \n",
    "print(scores)\n",
    "\n",
    "score = np.mean(scores)\n",
    "print(score)"
   ]
  },
  {
   "cell_type": "code",
   "execution_count": 11,
   "id": "9db484eb",
   "metadata": {},
   "outputs": [
    {
     "data": {
      "text/plain": [
       "array([[  2,  76],\n",
       "       [  8, 453]])"
      ]
     },
     "execution_count": 11,
     "metadata": {},
     "output_type": "execute_result"
    }
   ],
   "source": [
    "#Aggregated Confusion Matrix From RepeatedStratifiedKFold: \n",
    "y_pred = cross_val_predict(pipeline, X, y, cv=cv, n_jobs=-1)\n",
    "conf_mat = confusion_matrix(y, y_pred)\n",
    "conf_mat"
   ]
  },
  {
   "cell_type": "code",
   "execution_count": 12,
   "id": "cd14efda",
   "metadata": {},
   "outputs": [
    {
     "data": {
      "image/png": "[encoded data removed]",
      "text/plain": [
       "<Figure size 864x432 with 1 Axes>"
      ]
     },
     "metadata": {},
     "output_type": "display_data"
    }
   ],
   "source": [
    "sns.set(rc = {'figure.figsize':(12,6)})\n",
    "#cmap = sns.cubehelix_palette(start=2, rot=0, dark=0, light=.95, reverse=True, as_cmap=True)\n",
    "cmap = sns.light_palette('seagreen', as_cmap=True)\n",
    "\n",
    "res = sns.heatmap(conf_mat, annot=True, fmt='d', annot_kws={\"size\":20},\n",
    "#            xticklabels = ['Good = Paid In Full', 'Bad = Default'],\n",
    "#            yticklabels = ['Loan Paid In Full', 'Bad = Default'], \n",
    "            cmap=cmap, cbar=False)\n",
    "\n",
    "res.set_xticklabels(['Loan Default', 'Loan Repaid'], fontsize=15)\n",
    "res.set_yticklabels(['Loan Default', 'Loan Repaid'], fontsize=15)\n",
    "\n",
    "\n",
    "plt.title('Confusion Matrix For Logistic Regression', fontsize=25, pad=15)\n",
    "plt.xlabel('Predicted', fontsize=20)\n",
    "plt.ylabel('Actual', fontsize=20);"
   ]
  },
  {
   "cell_type": "code",
   "execution_count": 13,
   "id": "345a55b6",
   "metadata": {},
   "outputs": [
    {
     "data": {
      "text/plain": [
       "0.8441558441558441"
      ]
     },
     "execution_count": 13,
     "metadata": {},
     "output_type": "execute_result"
    }
   ],
   "source": [
    "accuracy_score(y, y_pred)"
   ]
  },
  {
   "cell_type": "code",
   "execution_count": 14,
   "id": "22662a59",
   "metadata": {},
   "outputs": [
    {
     "name": "stdout",
     "output_type": "stream",
     "text": [
      "453\n",
      "76\n",
      "8\n",
      "2\n",
      "0.8441558441558441\n"
     ]
    }
   ],
   "source": [
    "TN, FP, FN, TP = conf_mat.ravel()\n",
    "print(TP)\n",
    "print(FP)\n",
    "print(FN)\n",
    "print(TN)\n",
    "print((TP + TN) / (TN + TP + FP + FN))"
   ]
  },
  {
   "cell_type": "code",
   "execution_count": null,
   "id": "4dcedec5",
   "metadata": {},
   "outputs": [],
   "source": []
  },
  {
   "cell_type": "code",
   "execution_count": 15,
   "id": "36dec5fa",
   "metadata": {},
   "outputs": [
    {
     "name": "stdout",
     "output_type": "stream",
     "text": [
      "1.0    461\n",
      "0.0     78\n",
      "Name: loan_status_bin, dtype: int64\n",
      "\n",
      "0.8552875695732839\n"
     ]
    }
   ],
   "source": [
    "#Re-examine original pool of accepted LC Loans: \n",
    "\n",
    "print(data.loan_status_bin.value_counts())\n",
    "#0 = Loan Defaulted\n",
    "#1 = Loan Fully Paid\n",
    "\n",
    "good_loan = data.loan_status_bin.value_counts()[1]\n",
    "bad_loan = data.loan_status_bin.value_counts()[0]\n",
    "\n",
    "print()\n",
    "print(good_loan / (good_loan + bad_loan))\n",
    "\n",
    "#Random investment would give us 59% chance of pickkng a good loan"
   ]
  },
  {
   "cell_type": "code",
   "execution_count": 16,
   "id": "9be4be5d",
   "metadata": {},
   "outputs": [
    {
     "data": {
      "text/plain": [
       "0.8563327032136105"
      ]
     },
     "execution_count": 16,
     "metadata": {},
     "output_type": "execute_result"
    }
   ],
   "source": [
    "#Positive Predictive Value (or Precision)\n",
    "#Logistic Model only does 0.1% better than Null Model or \"random investment\"\n",
    "TP / (TP+FP)"
   ]
  },
  {
   "cell_type": "code",
   "execution_count": null,
   "id": "747fa766",
   "metadata": {},
   "outputs": [],
   "source": []
  },
  {
   "cell_type": "code",
   "execution_count": null,
   "id": "3188e143",
   "metadata": {},
   "outputs": [],
   "source": [
    "#What if we \"balance\" the weight class to avoid \"imbalanced\" nature...No Change! "
   ]
  },
  {
   "cell_type": "code",
   "execution_count": 25,
   "id": "0d86ed92",
   "metadata": {},
   "outputs": [],
   "source": [
    "lr_balanced = LogisticRegression(class_weight='balanced')"
   ]
  },
  {
   "cell_type": "code",
   "execution_count": 26,
   "id": "1e582bb8",
   "metadata": {},
   "outputs": [],
   "source": [
    "steps_balanced = [('model', lr_balanced)]\n",
    "pipeline_balanced = Pipeline(steps=steps)"
   ]
  },
  {
   "cell_type": "code",
   "execution_count": 27,
   "id": "1f2cdc5a",
   "metadata": {},
   "outputs": [
    {
     "name": "stdout",
     "output_type": "stream",
     "text": [
      "[0.85185185 0.84259259 0.86111111 0.84259259 0.82242991]\n",
      "0.8441156109380408\n"
     ]
    }
   ],
   "source": [
    "#Accuracy:\n",
    "\n",
    "cv = RepeatedStratifiedKFold(n_splits=5, n_repeats=1, random_state=1)\n",
    "scores = cross_val_score(pipeline_balanced, X, y, scoring='accuracy', cv=cv, n_jobs=-1) \n",
    "print(scores)\n",
    "\n",
    "score = np.mean(scores)\n",
    "print(score)"
   ]
  },
  {
   "cell_type": "code",
   "execution_count": 28,
   "id": "b5943c47",
   "metadata": {},
   "outputs": [
    {
     "data": {
      "text/plain": [
       "array([[  2,  76],\n",
       "       [  8, 453]])"
      ]
     },
     "execution_count": 28,
     "metadata": {},
     "output_type": "execute_result"
    }
   ],
   "source": [
    "#Aggregated Confusion Matrix From RepeatedStratifiedKFold: \n",
    "y_pred_balanced = cross_val_predict(pipeline_balanced, X, y, cv=cv, n_jobs=-1)\n",
    "conf_mat_balanced = confusion_matrix(y, y_pred_balanced)\n",
    "conf_mat_balanced"
   ]
  },
  {
   "cell_type": "code",
   "execution_count": null,
   "id": "33d49ed8",
   "metadata": {},
   "outputs": [],
   "source": []
  },
  {
   "cell_type": "code",
   "execution_count": null,
   "id": "c2672371",
   "metadata": {},
   "outputs": [],
   "source": []
  },
  {
   "cell_type": "code",
   "execution_count": 17,
   "id": "3e6f9d5f",
   "metadata": {},
   "outputs": [],
   "source": [
    "#Obtain predicted probabilities (not predicted classes) from RSKF: \n",
    "y_pred_prob = cross_val_predict(pipeline, X, y, cv=cv, n_jobs=-1, method='predict_proba')"
   ]
  },
  {
   "cell_type": "code",
   "execution_count": 18,
   "id": "9f850d5b",
   "metadata": {},
   "outputs": [
    {
     "data": {
      "text/plain": [
       "array([[0.1193962 , 0.8806038 ],\n",
       "       [0.02223639, 0.97776361],\n",
       "       [0.63516306, 0.36483694],\n",
       "       ...,\n",
       "       [0.10750942, 0.89249058],\n",
       "       [0.1173953 , 0.8826047 ],\n",
       "       [0.31499827, 0.68500173]])"
      ]
     },
     "execution_count": 18,
     "metadata": {},
     "output_type": "execute_result"
    }
   ],
   "source": [
    "y_pred_prob"
   ]
  },
  {
   "cell_type": "code",
   "execution_count": 19,
   "id": "973f2937",
   "metadata": {},
   "outputs": [
    {
     "data": {
      "text/plain": [
       "array([1., 1., 0., 1., 0., 1., 0., 0., 1., 1., 1., 1., 1., 1., 1., 1., 1.,\n",
       "       1., 0., 1., 0., 1., 0., 1., 1., 0., 1., 1., 0., 1., 1., 1., 1., 1.,\n",
       "       1., 1., 0., 1., 1., 0., 1., 1., 1., 1., 0., 0., 0., 0., 1., 1., 1.,\n",
       "       1., 1., 1., 0., 1., 1., 1., 1., 1., 1., 1., 0., 1., 1., 0., 0., 0.,\n",
       "       1., 0., 0., 1., 1., 0., 1., 0., 1., 1., 1., 1., 1., 1., 1., 1., 1.,\n",
       "       0., 0., 0., 1., 1., 1., 0., 1., 1., 1., 0., 0., 1., 0., 1., 0., 1.,\n",
       "       1., 1., 1., 1., 0., 0., 1., 1., 1., 1., 1., 1., 1., 1., 1., 0., 1.,\n",
       "       1., 1., 0., 1., 1., 1., 0., 1., 1., 1., 1., 0., 0., 0., 0., 1., 0.,\n",
       "       1., 0., 0., 1., 1., 1., 1., 0., 1., 0., 1., 1., 1., 1., 1., 1., 0.,\n",
       "       1., 1., 0., 1., 0., 0., 1., 1., 1., 1., 1., 1., 0., 1., 0., 1., 0.,\n",
       "       1., 0., 0., 1., 1., 1., 0., 1., 1., 0., 1., 1., 1., 1., 1., 0., 0.,\n",
       "       1., 0., 1., 1., 1., 0., 1., 1., 0., 1., 1., 1., 1., 1., 0., 1., 0.,\n",
       "       1., 1., 1., 0., 1., 1., 1., 1., 0., 1., 1., 1., 1., 1., 1., 1., 1.,\n",
       "       0., 1., 0., 1., 1., 1., 1., 0., 1., 1., 1., 0., 1., 1., 0., 1., 1.,\n",
       "       1., 1., 1., 1., 1., 1., 0., 1., 1., 1., 0., 1., 1., 1., 1., 1., 1.,\n",
       "       0., 0., 0., 0., 1., 0., 1., 1., 1., 1., 1., 0., 1., 1., 0., 1., 1.,\n",
       "       1., 0., 1., 1., 0., 0., 1., 1., 1., 0., 0., 1., 1., 1., 1., 1., 1.,\n",
       "       0., 0., 1., 1., 1., 1., 1., 1., 1., 1., 1., 1., 0., 1., 0., 1., 1.,\n",
       "       1., 0., 0., 1., 1., 1., 1., 1., 1., 1., 1., 0., 1., 1., 1., 1., 1.,\n",
       "       1., 1., 1., 1., 0., 1., 1., 1., 1., 1., 1., 1., 1., 1., 1., 1., 1.,\n",
       "       1., 1., 1., 1., 0., 1., 1., 1., 1., 0., 1., 1., 1., 1., 0., 1., 1.,\n",
       "       1., 1., 1., 1., 1., 1., 1., 1., 1., 1., 1., 1., 1., 0., 0., 0., 1.,\n",
       "       0., 0., 1., 0., 0., 1., 1., 1., 0., 1., 0., 1., 1., 0., 1., 1., 1.,\n",
       "       1., 1., 1., 1., 1., 0., 1., 1., 1., 1., 1., 1., 1., 1., 0., 1., 0.,\n",
       "       1., 0., 1., 1., 0., 1., 1., 1., 0., 0., 1., 1., 0., 0., 1., 1., 1.,\n",
       "       1., 1., 1., 0., 1., 1., 0., 1., 1., 1., 0., 1., 1., 0., 1., 1., 1.,\n",
       "       1., 1., 1., 1., 1., 1., 0., 0., 1., 1., 1., 0., 1., 1., 1., 1., 1.,\n",
       "       0., 1., 1., 1., 1., 1., 1., 1., 1., 0., 1., 0., 0., 1., 1., 1., 0.,\n",
       "       1., 1., 0., 1., 1., 1., 1., 1., 1., 1., 1., 1., 1., 1., 1., 1., 1.,\n",
       "       1., 1., 1., 1., 1., 0., 0., 1., 0., 1., 0., 1., 1., 0., 1., 1., 1.,\n",
       "       1., 1., 1., 0., 1., 1., 0., 1., 0., 0., 1., 1., 1., 1., 0., 1., 1.,\n",
       "       1., 0., 0., 0., 1., 1., 1., 0., 1., 1., 1., 0.])"
      ]
     },
     "execution_count": 19,
     "metadata": {},
     "output_type": "execute_result"
    }
   ],
   "source": [
    "#Obtaining classification based on desired threshold of 0.8: \n",
    "\n",
    "y_pred_success = (y_pred_prob[:, 1] > 0.8).astype('float')\n",
    "y_pred_success"
   ]
  },
  {
   "cell_type": "code",
   "execution_count": 20,
   "id": "686a5f94",
   "metadata": {},
   "outputs": [
    {
     "data": {
      "text/plain": [
       "array([[ 21,  57],\n",
       "       [122, 339]])"
      ]
     },
     "execution_count": 20,
     "metadata": {},
     "output_type": "execute_result"
    }
   ],
   "source": [
    "conf_mat = confusion_matrix(y, y_pred_success)\n",
    "conf_mat"
   ]
  },
  {
   "cell_type": "code",
   "execution_count": 21,
   "id": "6c050cfb",
   "metadata": {},
   "outputs": [
    {
     "data": {
      "image/png": "[encoded data removed]",
      "text/plain": [
       "<Figure size 864x432 with 1 Axes>"
      ]
     },
     "metadata": {},
     "output_type": "display_data"
    }
   ],
   "source": [
    "sns.set(rc = {'figure.figsize':(12,6)})\n",
    "#cmap = sns.cubehelix_palette(start=2, rot=0, dark=0, light=.95, reverse=True, as_cmap=True)\n",
    "cmap = sns.light_palette('seagreen', as_cmap=True)\n",
    "\n",
    "res = sns.heatmap(conf_mat, annot=True, fmt='d', annot_kws={\"size\":20},\n",
    "#            xticklabels = ['Good = Paid In Full', 'Bad = Default'],\n",
    "#            yticklabels = ['Loan Paid In Full', 'Bad = Default'], \n",
    "            cmap=cmap, cbar=False)\n",
    "\n",
    "res.set_xticklabels(['Loan Default', 'Loan Repaid'], fontsize=15)\n",
    "res.set_yticklabels(['Loan Default', 'Loan Repaid'], fontsize=15)\n",
    "\n",
    "\n",
    "plt.title('Confusion Matrix For Logistic Regression', fontsize=25, pad=15)\n",
    "plt.xlabel('Predicted', fontsize=20)\n",
    "plt.ylabel('Actual', fontsize=20);"
   ]
  },
  {
   "cell_type": "code",
   "execution_count": 22,
   "id": "c5dc62cd",
   "metadata": {},
   "outputs": [
    {
     "data": {
      "text/plain": [
       "0.6679035250463822"
      ]
     },
     "execution_count": 22,
     "metadata": {},
     "output_type": "execute_result"
    }
   ],
   "source": [
    "accuracy_score(y, y_pred_success)"
   ]
  },
  {
   "cell_type": "code",
   "execution_count": 23,
   "id": "25920782",
   "metadata": {},
   "outputs": [
    {
     "name": "stdout",
     "output_type": "stream",
     "text": [
      "339\n",
      "57\n",
      "122\n",
      "21\n",
      "0.6679035250463822\n"
     ]
    }
   ],
   "source": [
    "TN, FP, FN, TP = conf_mat.ravel()\n",
    "print(TP)\n",
    "print(FP)\n",
    "print(FN)\n",
    "print(TN)\n",
    "print((TP + TN) / (TN + TP + FP + FN))"
   ]
  },
  {
   "cell_type": "code",
   "execution_count": 24,
   "id": "67e15484",
   "metadata": {},
   "outputs": [
    {
     "data": {
      "text/plain": [
       "0.8560606060606061"
      ]
     },
     "execution_count": 24,
     "metadata": {},
     "output_type": "execute_result"
    }
   ],
   "source": [
    "#Positive Predictive Value (or Precision)\n",
    "#Logistic Model only does 3% better than Null Model or \"random investment\"\n",
    "TP / (TP+FP)"
   ]
  },
  {
   "cell_type": "code",
   "execution_count": null,
   "id": "a51b3ce5",
   "metadata": {},
   "outputs": [],
   "source": [
    "## Next question. what was characteristic of the 217 loans that defaulted??\n",
    "## Get all loans which you predicted greater than 80% and find out which ones defaulted.\n",
    "## Any pattern?????"
   ]
  },
  {
   "cell_type": "code",
   "execution_count": null,
   "id": "2bb4a848",
   "metadata": {},
   "outputs": [],
   "source": [
    "#Do we drop all observations where the source is not verified? \n",
    "#Do we drop all observations loan amount is greater than half of one's income? "
   ]
  },
  {
   "cell_type": "code",
   "execution_count": null,
   "id": "88205f9a",
   "metadata": {},
   "outputs": [],
   "source": []
  }
 ],
 "metadata": {
  "hide_input": false,
  "kernelspec": {
   "display_name": "Python 3 (ipykernel)",
   "language": "python",
   "name": "python3"
  },
  "language_info": {
   "codemirror_mode": {
    "name": "ipython",
    "version": 3
   },
   "file_extension": ".py",
   "mimetype": "text/x-python",
   "name": "python",
   "nbconvert_exporter": "python",
   "pygments_lexer": "ipython3",
   "version": "3.8.8"
  },
  "varInspector": {
   "cols": {
    "lenName": 16,
    "lenType": 16,
    "lenVar": 40
   },
   "kernels_config": {
    "python": {
     "delete_cmd_postfix": "",
     "delete_cmd_prefix": "del ",
     "library": "var_list.py",
     "varRefreshCmd": "print(var_dic_list())"
    },
    "r": {
     "delete_cmd_postfix": ") ",
     "delete_cmd_prefix": "rm(",
     "library": "var_list.r",
     "varRefreshCmd": "cat(var_dic_list()) "
    }
   },
   "types_to_exclude": [
    "module",
    "function",
    "builtin_function_or_method",
    "instance",
    "_Feature"
   ],
   "window_display": false
  }
 },
 "nbformat": 4,
 "nbformat_minor": 5
}
