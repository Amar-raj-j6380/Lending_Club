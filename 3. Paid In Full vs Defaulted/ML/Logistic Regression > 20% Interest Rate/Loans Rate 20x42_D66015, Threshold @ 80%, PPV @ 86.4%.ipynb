{
 "cells": [
  {
   "cell_type": "code",
   "execution_count": 1,
   "id": "6f4648b5",
   "metadata": {},
   "outputs": [],
   "source": [
    "import pandas as pd\n",
    "import numpy as np\n",
    "import seaborn as sns\n",
    "import copy as cp\n",
    "import matplotlib.pyplot as plt\n",
    "\n",
    "from sklearn.model_selection import cross_val_score, cross_val_predict \n",
    "from sklearn.model_selection import train_test_split\n",
    "from sklearn.model_selection import RepeatedStratifiedKFold\n",
    "from imblearn.pipeline import Pipeline\n",
    "from imblearn.over_sampling import SMOTE\n",
    "\n",
    "from sklearn.linear_model import LogisticRegression\n",
    "from sklearn.metrics import roc_auc_score, roc_curve, precision_recall_curve\n",
    "from sklearn.metrics import confusion_matrix, accuracy_score\n",
    "\n",
    "from typing import Tuple"
   ]
  },
  {
   "cell_type": "code",
   "execution_count": 2,
   "id": "a6b2eaad",
   "metadata": {},
   "outputs": [],
   "source": [
    "pd.set_option(\"display.max_columns\", 200)\n",
    "pd.set_option(\"display.max_row\", 160)\n",
    "pd.set_option('max_colwidth', 200)"
   ]
  },
  {
   "cell_type": "code",
   "execution_count": 3,
   "id": "acc59130",
   "metadata": {},
   "outputs": [
    {
     "data": {
      "text/html": [
       "<div>\n",
       "<style scoped>\n",
       "    .dataframe tbody tr th:only-of-type {\n",
       "        vertical-align: middle;\n",
       "    }\n",
       "\n",
       "    .dataframe tbody tr th {\n",
       "        vertical-align: top;\n",
       "    }\n",
       "\n",
       "    .dataframe thead th {\n",
       "        text-align: right;\n",
       "    }\n",
       "</style>\n",
       "<table border=\"1\" class=\"dataframe\">\n",
       "  <thead>\n",
       "    <tr style=\"text-align: right;\">\n",
       "      <th></th>\n",
       "      <th>loan_amnt</th>\n",
       "      <th>annual_inc</th>\n",
       "      <th>dti</th>\n",
       "      <th>fico_range_low</th>\n",
       "      <th>fico_range_high</th>\n",
       "      <th>int_rate</th>\n",
       "      <th>installment</th>\n",
       "      <th>open_acc</th>\n",
       "      <th>total_acc</th>\n",
       "      <th>revol_bal</th>\n",
       "      <th>revol_util</th>\n",
       "      <th>inq_last_6mths</th>\n",
       "      <th>delinq_2yrs</th>\n",
       "      <th>acc_now_delinq</th>\n",
       "      <th>collections_12_mths_ex_med</th>\n",
       "      <th>tot_coll_amt</th>\n",
       "      <th>tot_cur_bal</th>\n",
       "      <th>pub_rec</th>\n",
       "      <th>months_cr_line</th>\n",
       "      <th>term</th>\n",
       "      <th>initial_list_status</th>\n",
       "      <th>sub_grade</th>\n",
       "      <th>emp_length</th>\n",
       "      <th>MORTGAGE</th>\n",
       "      <th>OWN</th>\n",
       "      <th>RENT</th>\n",
       "      <th>car</th>\n",
       "      <th>credit_card</th>\n",
       "      <th>debt_consolidation</th>\n",
       "      <th>home_improvement</th>\n",
       "      <th>house</th>\n",
       "      <th>major_purchase</th>\n",
       "      <th>medical</th>\n",
       "      <th>moving</th>\n",
       "      <th>other</th>\n",
       "      <th>small_business</th>\n",
       "      <th>vacation</th>\n",
       "      <th>Not Verified</th>\n",
       "      <th>Source Verified</th>\n",
       "      <th>Verified</th>\n",
       "      <th>loan_status_bin</th>\n",
       "    </tr>\n",
       "  </thead>\n",
       "  <tbody>\n",
       "    <tr>\n",
       "      <th>0</th>\n",
       "      <td>-1.617892</td>\n",
       "      <td>-0.159444</td>\n",
       "      <td>0.818226</td>\n",
       "      <td>-0.445124</td>\n",
       "      <td>-0.445124</td>\n",
       "      <td>-0.652128</td>\n",
       "      <td>-1.618351</td>\n",
       "      <td>-0.470515</td>\n",
       "      <td>0.027112</td>\n",
       "      <td>0.040613</td>\n",
       "      <td>0.258267</td>\n",
       "      <td>-0.984507</td>\n",
       "      <td>-0.48967</td>\n",
       "      <td>0.0</td>\n",
       "      <td>-0.132686</td>\n",
       "      <td>-0.212846</td>\n",
       "      <td>-0.636643</td>\n",
       "      <td>-0.352472</td>\n",
       "      <td>-0.152326</td>\n",
       "      <td>-0.058926</td>\n",
       "      <td>0.942809</td>\n",
       "      <td>-1.429022</td>\n",
       "      <td>-0.019978</td>\n",
       "      <td>-0.727393</td>\n",
       "      <td>-0.371208</td>\n",
       "      <td>0.936282</td>\n",
       "      <td>-0.208138</td>\n",
       "      <td>-0.321019</td>\n",
       "      <td>-0.732963</td>\n",
       "      <td>-0.257722</td>\n",
       "      <td>-0.11847</td>\n",
       "      <td>-0.198918</td>\n",
       "      <td>-0.225630</td>\n",
       "      <td>-0.208138</td>\n",
       "      <td>1.659291</td>\n",
       "      <td>-0.11847</td>\n",
       "      <td>-0.179284</td>\n",
       "      <td>1.212471</td>\n",
       "      <td>-0.738549</td>\n",
       "      <td>-0.565362</td>\n",
       "      <td>0.0</td>\n",
       "    </tr>\n",
       "    <tr>\n",
       "      <th>1</th>\n",
       "      <td>0.998307</td>\n",
       "      <td>-0.013596</td>\n",
       "      <td>-0.021126</td>\n",
       "      <td>-0.756603</td>\n",
       "      <td>-0.756603</td>\n",
       "      <td>1.344381</td>\n",
       "      <td>1.047605</td>\n",
       "      <td>0.368860</td>\n",
       "      <td>0.119291</td>\n",
       "      <td>-0.434052</td>\n",
       "      <td>-0.718750</td>\n",
       "      <td>-0.106351</td>\n",
       "      <td>-0.48967</td>\n",
       "      <td>0.0</td>\n",
       "      <td>-0.132686</td>\n",
       "      <td>-0.212846</td>\n",
       "      <td>-0.633592</td>\n",
       "      <td>3.160097</td>\n",
       "      <td>0.506178</td>\n",
       "      <td>-0.058926</td>\n",
       "      <td>0.942809</td>\n",
       "      <td>0.699779</td>\n",
       "      <td>-1.669549</td>\n",
       "      <td>-0.727393</td>\n",
       "      <td>-0.371208</td>\n",
       "      <td>0.936282</td>\n",
       "      <td>-0.208138</td>\n",
       "      <td>-0.321019</td>\n",
       "      <td>-0.732963</td>\n",
       "      <td>3.880149</td>\n",
       "      <td>-0.11847</td>\n",
       "      <td>-0.198918</td>\n",
       "      <td>-0.225630</td>\n",
       "      <td>-0.208138</td>\n",
       "      <td>-0.602667</td>\n",
       "      <td>-0.11847</td>\n",
       "      <td>-0.179284</td>\n",
       "      <td>-0.824762</td>\n",
       "      <td>1.354006</td>\n",
       "      <td>-0.565362</td>\n",
       "      <td>1.0</td>\n",
       "    </tr>\n",
       "    <tr>\n",
       "      <th>2</th>\n",
       "      <td>-0.496664</td>\n",
       "      <td>0.245284</td>\n",
       "      <td>0.616782</td>\n",
       "      <td>-0.445124</td>\n",
       "      <td>-0.445124</td>\n",
       "      <td>1.344381</td>\n",
       "      <td>-0.463143</td>\n",
       "      <td>-0.680359</td>\n",
       "      <td>-1.079039</td>\n",
       "      <td>1.434940</td>\n",
       "      <td>1.718384</td>\n",
       "      <td>-0.984507</td>\n",
       "      <td>-0.48967</td>\n",
       "      <td>0.0</td>\n",
       "      <td>-0.132686</td>\n",
       "      <td>-0.212846</td>\n",
       "      <td>-0.416120</td>\n",
       "      <td>-0.352472</td>\n",
       "      <td>2.749971</td>\n",
       "      <td>-0.058926</td>\n",
       "      <td>0.942809</td>\n",
       "      <td>0.699779</td>\n",
       "      <td>-0.294906</td>\n",
       "      <td>-0.727393</td>\n",
       "      <td>2.693908</td>\n",
       "      <td>-1.068055</td>\n",
       "      <td>-0.208138</td>\n",
       "      <td>-0.321019</td>\n",
       "      <td>-0.732963</td>\n",
       "      <td>-0.257722</td>\n",
       "      <td>-0.11847</td>\n",
       "      <td>-0.198918</td>\n",
       "      <td>-0.225630</td>\n",
       "      <td>-0.208138</td>\n",
       "      <td>1.659291</td>\n",
       "      <td>-0.11847</td>\n",
       "      <td>-0.179284</td>\n",
       "      <td>-0.824762</td>\n",
       "      <td>-0.738549</td>\n",
       "      <td>1.768777</td>\n",
       "      <td>0.0</td>\n",
       "    </tr>\n",
       "    <tr>\n",
       "      <th>3</th>\n",
       "      <td>0.998307</td>\n",
       "      <td>0.022866</td>\n",
       "      <td>0.668434</td>\n",
       "      <td>0.177834</td>\n",
       "      <td>0.177834</td>\n",
       "      <td>1.344381</td>\n",
       "      <td>1.047605</td>\n",
       "      <td>1.627924</td>\n",
       "      <td>0.764545</td>\n",
       "      <td>2.552955</td>\n",
       "      <td>0.492606</td>\n",
       "      <td>-0.984507</td>\n",
       "      <td>-0.48967</td>\n",
       "      <td>0.0</td>\n",
       "      <td>-0.132686</td>\n",
       "      <td>-0.212846</td>\n",
       "      <td>1.170891</td>\n",
       "      <td>-0.352472</td>\n",
       "      <td>-0.725469</td>\n",
       "      <td>-0.058926</td>\n",
       "      <td>-1.060660</td>\n",
       "      <td>0.699779</td>\n",
       "      <td>-0.294906</td>\n",
       "      <td>1.374773</td>\n",
       "      <td>-0.371208</td>\n",
       "      <td>-1.068055</td>\n",
       "      <td>-0.208138</td>\n",
       "      <td>-0.321019</td>\n",
       "      <td>-0.732963</td>\n",
       "      <td>-0.257722</td>\n",
       "      <td>-0.11847</td>\n",
       "      <td>-0.198918</td>\n",
       "      <td>4.432026</td>\n",
       "      <td>-0.208138</td>\n",
       "      <td>-0.602667</td>\n",
       "      <td>-0.11847</td>\n",
       "      <td>-0.179284</td>\n",
       "      <td>-0.824762</td>\n",
       "      <td>1.354006</td>\n",
       "      <td>-0.565362</td>\n",
       "      <td>0.0</td>\n",
       "    </tr>\n",
       "    <tr>\n",
       "      <th>4</th>\n",
       "      <td>0.848810</td>\n",
       "      <td>-0.183363</td>\n",
       "      <td>1.081653</td>\n",
       "      <td>-0.445124</td>\n",
       "      <td>-0.445124</td>\n",
       "      <td>1.344381</td>\n",
       "      <td>0.896590</td>\n",
       "      <td>1.627924</td>\n",
       "      <td>2.055053</td>\n",
       "      <td>-0.406225</td>\n",
       "      <td>-0.686303</td>\n",
       "      <td>0.771805</td>\n",
       "      <td>-0.48967</td>\n",
       "      <td>0.0</td>\n",
       "      <td>-0.132686</td>\n",
       "      <td>0.491336</td>\n",
       "      <td>0.123990</td>\n",
       "      <td>-0.352472</td>\n",
       "      <td>-0.152326</td>\n",
       "      <td>-0.058926</td>\n",
       "      <td>0.942809</td>\n",
       "      <td>0.699779</td>\n",
       "      <td>-1.669549</td>\n",
       "      <td>-0.727393</td>\n",
       "      <td>2.693908</td>\n",
       "      <td>-1.068055</td>\n",
       "      <td>-0.208138</td>\n",
       "      <td>-0.321019</td>\n",
       "      <td>1.364326</td>\n",
       "      <td>-0.257722</td>\n",
       "      <td>-0.11847</td>\n",
       "      <td>-0.198918</td>\n",
       "      <td>-0.225630</td>\n",
       "      <td>-0.208138</td>\n",
       "      <td>-0.602667</td>\n",
       "      <td>-0.11847</td>\n",
       "      <td>-0.179284</td>\n",
       "      <td>-0.824762</td>\n",
       "      <td>-0.738549</td>\n",
       "      <td>1.768777</td>\n",
       "      <td>1.0</td>\n",
       "    </tr>\n",
       "  </tbody>\n",
       "</table>\n",
       "</div>"
      ],
      "text/plain": [
       "   loan_amnt  annual_inc       dti  fico_range_low  fico_range_high  int_rate  \\\n",
       "0  -1.617892   -0.159444  0.818226       -0.445124        -0.445124 -0.652128   \n",
       "1   0.998307   -0.013596 -0.021126       -0.756603        -0.756603  1.344381   \n",
       "2  -0.496664    0.245284  0.616782       -0.445124        -0.445124  1.344381   \n",
       "3   0.998307    0.022866  0.668434        0.177834         0.177834  1.344381   \n",
       "4   0.848810   -0.183363  1.081653       -0.445124        -0.445124  1.344381   \n",
       "\n",
       "   installment  open_acc  total_acc  revol_bal  revol_util  inq_last_6mths  \\\n",
       "0    -1.618351 -0.470515   0.027112   0.040613    0.258267       -0.984507   \n",
       "1     1.047605  0.368860   0.119291  -0.434052   -0.718750       -0.106351   \n",
       "2    -0.463143 -0.680359  -1.079039   1.434940    1.718384       -0.984507   \n",
       "3     1.047605  1.627924   0.764545   2.552955    0.492606       -0.984507   \n",
       "4     0.896590  1.627924   2.055053  -0.406225   -0.686303        0.771805   \n",
       "\n",
       "   delinq_2yrs  acc_now_delinq  collections_12_mths_ex_med  tot_coll_amt  \\\n",
       "0     -0.48967             0.0                   -0.132686     -0.212846   \n",
       "1     -0.48967             0.0                   -0.132686     -0.212846   \n",
       "2     -0.48967             0.0                   -0.132686     -0.212846   \n",
       "3     -0.48967             0.0                   -0.132686     -0.212846   \n",
       "4     -0.48967             0.0                   -0.132686      0.491336   \n",
       "\n",
       "   tot_cur_bal   pub_rec  months_cr_line      term  initial_list_status  \\\n",
       "0    -0.636643 -0.352472       -0.152326 -0.058926             0.942809   \n",
       "1    -0.633592  3.160097        0.506178 -0.058926             0.942809   \n",
       "2    -0.416120 -0.352472        2.749971 -0.058926             0.942809   \n",
       "3     1.170891 -0.352472       -0.725469 -0.058926            -1.060660   \n",
       "4     0.123990 -0.352472       -0.152326 -0.058926             0.942809   \n",
       "\n",
       "   sub_grade  emp_length  MORTGAGE       OWN      RENT       car  credit_card  \\\n",
       "0  -1.429022   -0.019978 -0.727393 -0.371208  0.936282 -0.208138    -0.321019   \n",
       "1   0.699779   -1.669549 -0.727393 -0.371208  0.936282 -0.208138    -0.321019   \n",
       "2   0.699779   -0.294906 -0.727393  2.693908 -1.068055 -0.208138    -0.321019   \n",
       "3   0.699779   -0.294906  1.374773 -0.371208 -1.068055 -0.208138    -0.321019   \n",
       "4   0.699779   -1.669549 -0.727393  2.693908 -1.068055 -0.208138    -0.321019   \n",
       "\n",
       "   debt_consolidation  home_improvement    house  major_purchase   medical  \\\n",
       "0           -0.732963         -0.257722 -0.11847       -0.198918 -0.225630   \n",
       "1           -0.732963          3.880149 -0.11847       -0.198918 -0.225630   \n",
       "2           -0.732963         -0.257722 -0.11847       -0.198918 -0.225630   \n",
       "3           -0.732963         -0.257722 -0.11847       -0.198918  4.432026   \n",
       "4            1.364326         -0.257722 -0.11847       -0.198918 -0.225630   \n",
       "\n",
       "     moving     other  small_business  vacation  Not Verified  \\\n",
       "0 -0.208138  1.659291        -0.11847 -0.179284      1.212471   \n",
       "1 -0.208138 -0.602667        -0.11847 -0.179284     -0.824762   \n",
       "2 -0.208138  1.659291        -0.11847 -0.179284     -0.824762   \n",
       "3 -0.208138 -0.602667        -0.11847 -0.179284     -0.824762   \n",
       "4 -0.208138 -0.602667        -0.11847 -0.179284     -0.824762   \n",
       "\n",
       "   Source Verified  Verified  loan_status_bin  \n",
       "0        -0.738549 -0.565362              0.0  \n",
       "1         1.354006 -0.565362              1.0  \n",
       "2        -0.738549  1.768777              0.0  \n",
       "3         1.354006 -0.565362              0.0  \n",
       "4        -0.738549  1.768777              1.0  "
      ]
     },
     "execution_count": 3,
     "metadata": {},
     "output_type": "execute_result"
    }
   ],
   "source": [
    "data = pd.read_csv('../../Data/20x42_D66015.csv')\n",
    "data.head(5)"
   ]
  },
  {
   "cell_type": "code",
   "execution_count": 4,
   "id": "771565fb",
   "metadata": {},
   "outputs": [
    {
     "data": {
      "text/plain": [
       "(289, 41)"
      ]
     },
     "execution_count": 4,
     "metadata": {},
     "output_type": "execute_result"
    }
   ],
   "source": [
    "data.shape"
   ]
  },
  {
   "cell_type": "code",
   "execution_count": 5,
   "id": "74758ddc",
   "metadata": {},
   "outputs": [
    {
     "data": {
      "text/plain": [
       "1.0    255\n",
       "0.0     34\n",
       "Name: loan_status_bin, dtype: int64"
      ]
     },
     "execution_count": 5,
     "metadata": {},
     "output_type": "execute_result"
    }
   ],
   "source": [
    "data.loan_status_bin.value_counts()\n",
    "#0 = Defaulted Loans\n",
    "#1 = Loans Paid In Full"
   ]
  },
  {
   "cell_type": "code",
   "execution_count": 6,
   "id": "b9a9c6be",
   "metadata": {},
   "outputs": [
    {
     "data": {
      "text/plain": [
       "(289, 40)"
      ]
     },
     "execution_count": 6,
     "metadata": {},
     "output_type": "execute_result"
    }
   ],
   "source": [
    "X = data.drop('loan_status_bin', axis=1)\n",
    "X.shape"
   ]
  },
  {
   "cell_type": "code",
   "execution_count": 7,
   "id": "0559962b",
   "metadata": {},
   "outputs": [],
   "source": [
    "y = data['loan_status_bin']"
   ]
  },
  {
   "cell_type": "code",
   "execution_count": 8,
   "id": "9b1bb6de",
   "metadata": {},
   "outputs": [],
   "source": [
    "lr1 = LogisticRegression()"
   ]
  },
  {
   "cell_type": "code",
   "execution_count": 9,
   "id": "e9e711e2",
   "metadata": {},
   "outputs": [],
   "source": [
    "steps = [('model', lr1)]\n",
    "pipeline = Pipeline(steps=steps)"
   ]
  },
  {
   "cell_type": "code",
   "execution_count": 12,
   "id": "fb714eeb",
   "metadata": {},
   "outputs": [
    {
     "name": "stdout",
     "output_type": "stream",
     "text": [
      "[0.87931034 0.82758621 0.84482759 0.87931034 0.80701754]\n",
      "0.847610405323654\n"
     ]
    }
   ],
   "source": [
    "#Accuracy:\n",
    "\n",
    "cv = RepeatedStratifiedKFold(n_splits=5, n_repeats=1, random_state=1)\n",
    "scores = cross_val_score(pipeline, X, y, scoring='accuracy', cv=cv, n_jobs=-1) \n",
    "print(scores)\n",
    "\n",
    "score = np.mean(scores)\n",
    "print(score)"
   ]
  },
  {
   "cell_type": "code",
   "execution_count": 13,
   "id": "9db484eb",
   "metadata": {},
   "outputs": [
    {
     "data": {
      "text/plain": [
       "array([[  0,  34],\n",
       "       [ 10, 245]])"
      ]
     },
     "execution_count": 13,
     "metadata": {},
     "output_type": "execute_result"
    }
   ],
   "source": [
    "#Aggregated Confusion Matrix From RepeatedStratifiedKFold: \n",
    "y_pred = cross_val_predict(pipeline, X, y, cv=cv, n_jobs=-1)\n",
    "conf_mat = confusion_matrix(y, y_pred)\n",
    "conf_mat"
   ]
  },
  {
   "cell_type": "code",
   "execution_count": 14,
   "id": "cd14efda",
   "metadata": {},
   "outputs": [
    {
     "data": {
      "image/png": "[encoded data removed]",
      "text/plain": [
       "<Figure size 864x432 with 1 Axes>"
      ]
     },
     "metadata": {},
     "output_type": "display_data"
    }
   ],
   "source": [
    "sns.set(rc = {'figure.figsize':(12,6)})\n",
    "#cmap = sns.cubehelix_palette(start=2, rot=0, dark=0, light=.95, reverse=True, as_cmap=True)\n",
    "cmap = sns.light_palette('seagreen', as_cmap=True)\n",
    "\n",
    "res = sns.heatmap(conf_mat, annot=True, fmt='d', annot_kws={\"size\":20},\n",
    "#            xticklabels = ['Good = Paid In Full', 'Bad = Default'],\n",
    "#            yticklabels = ['Loan Paid In Full', 'Bad = Default'], \n",
    "            cmap=cmap, cbar=False)\n",
    "\n",
    "res.set_xticklabels(['Loan Default', 'Loan Repaid'], fontsize=15)\n",
    "res.set_yticklabels(['Loan Default', 'Loan Repaid'], fontsize=15)\n",
    "\n",
    "\n",
    "plt.title('Confusion Matrix For Logistic Regression', fontsize=25, pad=15)\n",
    "plt.xlabel('Predicted', fontsize=20)\n",
    "plt.ylabel('Actual', fontsize=20);"
   ]
  },
  {
   "cell_type": "code",
   "execution_count": 15,
   "id": "345a55b6",
   "metadata": {},
   "outputs": [
    {
     "data": {
      "text/plain": [
       "0.8477508650519031"
      ]
     },
     "execution_count": 15,
     "metadata": {},
     "output_type": "execute_result"
    }
   ],
   "source": [
    "accuracy_score(y, y_pred)"
   ]
  },
  {
   "cell_type": "code",
   "execution_count": 16,
   "id": "22662a59",
   "metadata": {},
   "outputs": [
    {
     "name": "stdout",
     "output_type": "stream",
     "text": [
      "245\n",
      "34\n",
      "10\n",
      "0\n",
      "0.8477508650519031\n"
     ]
    }
   ],
   "source": [
    "TN, FP, FN, TP = conf_mat.ravel()\n",
    "print(TP)\n",
    "print(FP)\n",
    "print(FN)\n",
    "print(TN)\n",
    "print((TP + TN) / (TN + TP + FP + FN))"
   ]
  },
  {
   "cell_type": "code",
   "execution_count": null,
   "id": "4dcedec5",
   "metadata": {},
   "outputs": [],
   "source": []
  },
  {
   "cell_type": "code",
   "execution_count": 17,
   "id": "36dec5fa",
   "metadata": {},
   "outputs": [
    {
     "name": "stdout",
     "output_type": "stream",
     "text": [
      "1.0    255\n",
      "0.0     34\n",
      "Name: loan_status_bin, dtype: int64\n",
      "\n",
      "0.8823529411764706\n"
     ]
    }
   ],
   "source": [
    "#Re-examine original pool of accepted LC Loans: \n",
    "\n",
    "print(data.loan_status_bin.value_counts())\n",
    "#0 = Loan Defaulted\n",
    "#1 = Loan Fully Paid\n",
    "\n",
    "good_loan = data.loan_status_bin.value_counts()[1]\n",
    "bad_loan = data.loan_status_bin.value_counts()[0]\n",
    "\n",
    "print()\n",
    "print(good_loan / (good_loan + bad_loan))\n",
    "\n",
    "#Random investment would give us 59% chance of pickkng a good loan"
   ]
  },
  {
   "cell_type": "code",
   "execution_count": 18,
   "id": "9be4be5d",
   "metadata": {},
   "outputs": [
    {
     "data": {
      "text/plain": [
       "0.8781362007168458"
      ]
     },
     "execution_count": 18,
     "metadata": {},
     "output_type": "execute_result"
    }
   ],
   "source": [
    "#Positive Predictive Value (or Precision)\n",
    "#Logistic Model only does 3% better than Null Model or \"random investment\"\n",
    "TP / (TP+FP)"
   ]
  },
  {
   "cell_type": "code",
   "execution_count": null,
   "id": "33d49ed8",
   "metadata": {},
   "outputs": [],
   "source": []
  },
  {
   "cell_type": "code",
   "execution_count": 19,
   "id": "3e6f9d5f",
   "metadata": {},
   "outputs": [],
   "source": [
    "#Obtain predicted probabilities (not predicted classes) from RSKF: \n",
    "y_pred_prob = cross_val_predict(pipeline, X, y, cv=cv, n_jobs=-1, method='predict_proba')"
   ]
  },
  {
   "cell_type": "code",
   "execution_count": 20,
   "id": "9f850d5b",
   "metadata": {},
   "outputs": [
    {
     "data": {
      "text/plain": [
       "array([[9.29212573e-02, 9.07078743e-01],\n",
       "       [4.59355951e-03, 9.95406440e-01],\n",
       "       [3.43451435e-01, 6.56548565e-01],\n",
       "       [5.97650489e-02, 9.40234951e-01],\n",
       "       [6.31462171e-01, 3.68537829e-01],\n",
       "       [7.67467046e-02, 9.23253295e-01],\n",
       "       [2.62921876e-02, 9.73707812e-01],\n",
       "       [3.35790990e-02, 9.66420901e-01],\n",
       "       [1.47110165e-01, 8.52889835e-01],\n",
       "       [1.92586835e-02, 9.80741317e-01],\n",
       "       [1.28852066e-02, 9.87114793e-01],\n",
       "       [2.13202049e-02, 9.78679795e-01],\n",
       "       [1.59072847e-02, 9.84092715e-01],\n",
       "       [4.56565705e-01, 5.43434295e-01],\n",
       "       [2.18124330e-01, 7.81875670e-01],\n",
       "       [1.74512951e-02, 9.82548705e-01],\n",
       "       [9.80253481e-02, 9.01974652e-01],\n",
       "       [1.35915160e-02, 9.86408484e-01],\n",
       "       [2.80809430e-01, 7.19190570e-01],\n",
       "       [1.22409486e-01, 8.77590514e-01],\n",
       "       [1.25847350e-01, 8.74152650e-01],\n",
       "       [2.10438824e-02, 9.78956118e-01],\n",
       "       [4.79602158e-02, 9.52039784e-01],\n",
       "       [5.85661583e-02, 9.41433842e-01],\n",
       "       [6.16006609e-02, 9.38399339e-01],\n",
       "       [9.50166357e-01, 4.98336428e-02],\n",
       "       [8.31928359e-02, 9.16807164e-01],\n",
       "       [9.69976068e-03, 9.90300239e-01],\n",
       "       [3.28255301e-02, 9.67174470e-01],\n",
       "       [9.41784971e-02, 9.05821503e-01],\n",
       "       [6.01017416e-02, 9.39898258e-01],\n",
       "       [9.43276992e-02, 9.05672301e-01],\n",
       "       [9.94626969e-03, 9.90053730e-01],\n",
       "       [3.14284058e-02, 9.68571594e-01],\n",
       "       [1.27755836e-01, 8.72244164e-01],\n",
       "       [5.04900405e-02, 9.49509960e-01],\n",
       "       [2.31050212e-01, 7.68949788e-01],\n",
       "       [4.96061910e-02, 9.50393809e-01],\n",
       "       [1.48831739e-02, 9.85116826e-01],\n",
       "       [6.16852113e-02, 9.38314789e-01],\n",
       "       [2.69109484e-01, 7.30890516e-01],\n",
       "       [8.58638533e-02, 9.14136147e-01],\n",
       "       [1.62598651e-02, 9.83740135e-01],\n",
       "       [8.16337317e-02, 9.18366268e-01],\n",
       "       [1.47289572e-01, 8.52710428e-01],\n",
       "       [2.87272214e-02, 9.71272779e-01],\n",
       "       [6.35334270e-02, 9.36466573e-01],\n",
       "       [3.12646523e-03, 9.96873535e-01],\n",
       "       [8.16882237e-03, 9.91831178e-01],\n",
       "       [9.19339909e-03, 9.90806601e-01],\n",
       "       [8.39439394e-02, 9.16056061e-01],\n",
       "       [9.10764548e-02, 9.08923545e-01],\n",
       "       [3.61238772e-02, 9.63876123e-01],\n",
       "       [5.60117024e-02, 9.43988298e-01],\n",
       "       [2.01287941e-02, 9.79871206e-01],\n",
       "       [4.95082588e-02, 9.50491741e-01],\n",
       "       [7.56202699e-01, 2.43797301e-01],\n",
       "       [6.82490250e-02, 9.31750975e-01],\n",
       "       [1.94381359e-01, 8.05618641e-01],\n",
       "       [4.28878481e-08, 9.99999957e-01],\n",
       "       [5.26020595e-02, 9.47397940e-01],\n",
       "       [1.09701150e-01, 8.90298850e-01],\n",
       "       [9.96169950e-03, 9.90038301e-01],\n",
       "       [8.64255391e-02, 9.13574461e-01],\n",
       "       [2.49259042e-01, 7.50740958e-01],\n",
       "       [4.99260365e-02, 9.50073964e-01],\n",
       "       [4.21322089e-03, 9.95786779e-01],\n",
       "       [3.74102888e-02, 9.62589711e-01],\n",
       "       [3.70300591e-01, 6.29699409e-01],\n",
       "       [1.30362713e-02, 9.86963729e-01],\n",
       "       [6.91614337e-02, 9.30838566e-01],\n",
       "       [2.77967700e-02, 9.72203230e-01],\n",
       "       [7.13496042e-02, 9.28650396e-01],\n",
       "       [6.14287538e-02, 9.38571246e-01],\n",
       "       [2.26869810e-01, 7.73130190e-01],\n",
       "       [2.69684766e-01, 7.30315234e-01],\n",
       "       [3.89661018e-01, 6.10338982e-01],\n",
       "       [9.53288039e-02, 9.04671196e-01],\n",
       "       [7.32060001e-02, 9.26794000e-01],\n",
       "       [1.39277828e-02, 9.86072217e-01],\n",
       "       [5.03886258e-02, 9.49611374e-01],\n",
       "       [2.32656240e-02, 9.76734376e-01],\n",
       "       [1.39754514e-02, 9.86024549e-01],\n",
       "       [1.09215591e-01, 8.90784409e-01],\n",
       "       [1.42128319e-01, 8.57871681e-01],\n",
       "       [7.20798786e-02, 9.27920121e-01],\n",
       "       [1.73310034e-01, 8.26689966e-01],\n",
       "       [5.25494429e-01, 4.74505571e-01],\n",
       "       [2.48135897e-02, 9.75186410e-01],\n",
       "       [3.36076572e-02, 9.66392343e-01],\n",
       "       [2.26822644e-02, 9.77317736e-01],\n",
       "       [1.18671465e-01, 8.81328535e-01],\n",
       "       [9.01097313e-02, 9.09890269e-01],\n",
       "       [2.95460180e-01, 7.04539820e-01],\n",
       "       [1.14512628e-01, 8.85487372e-01],\n",
       "       [7.91971578e-02, 9.20802842e-01],\n",
       "       [8.29630046e-03, 9.91703700e-01],\n",
       "       [1.29129496e-01, 8.70870504e-01],\n",
       "       [3.56549104e-02, 9.64345090e-01],\n",
       "       [1.65175955e-01, 8.34824045e-01],\n",
       "       [2.37412361e-01, 7.62587639e-01],\n",
       "       [1.57957986e-02, 9.84204201e-01],\n",
       "       [1.56323833e-01, 8.43676167e-01],\n",
       "       [1.90952371e-02, 9.80904763e-01],\n",
       "       [1.75560381e-01, 8.24439619e-01],\n",
       "       [2.73702479e-01, 7.26297521e-01],\n",
       "       [9.54246731e-02, 9.04575327e-01],\n",
       "       [3.29609748e-02, 9.67039025e-01],\n",
       "       [1.63990658e-01, 8.36009342e-01],\n",
       "       [3.69858644e-02, 9.63014136e-01],\n",
       "       [1.38170054e-01, 8.61829946e-01],\n",
       "       [2.40308887e-01, 7.59691113e-01],\n",
       "       [2.33773152e-01, 7.66226848e-01],\n",
       "       [5.10778224e-01, 4.89221776e-01],\n",
       "       [5.46628516e-02, 9.45337148e-01],\n",
       "       [1.08119157e-01, 8.91880843e-01],\n",
       "       [7.04624259e-03, 9.92953757e-01],\n",
       "       [2.30845778e-01, 7.69154222e-01],\n",
       "       [2.87927811e-02, 9.71207219e-01],\n",
       "       [6.65506404e-02, 9.33449360e-01],\n",
       "       [1.32710350e-01, 8.67289650e-01],\n",
       "       [5.25123757e-02, 9.47487624e-01],\n",
       "       [2.23683828e-01, 7.76316172e-01],\n",
       "       [3.02266305e-01, 6.97733695e-01],\n",
       "       [2.58513249e-01, 7.41486751e-01],\n",
       "       [5.07457338e-01, 4.92542662e-01],\n",
       "       [2.93667106e-02, 9.70633289e-01],\n",
       "       [1.52303017e-01, 8.47696983e-01],\n",
       "       [6.70096418e-02, 9.32990358e-01],\n",
       "       [4.56046179e-02, 9.54395382e-01],\n",
       "       [5.26660325e-02, 9.47333967e-01],\n",
       "       [3.49927631e-02, 9.65007237e-01],\n",
       "       [6.20916296e-02, 9.37908370e-01],\n",
       "       [5.45337503e-03, 9.94546625e-01],\n",
       "       [9.63584573e-02, 9.03641543e-01],\n",
       "       [3.12127073e-01, 6.87872927e-01],\n",
       "       [6.28528789e-02, 9.37147121e-01],\n",
       "       [1.46098130e-01, 8.53901870e-01],\n",
       "       [2.22034400e-02, 9.77796560e-01],\n",
       "       [1.20712642e-02, 9.87928736e-01],\n",
       "       [4.69806142e-01, 5.30193858e-01],\n",
       "       [2.12601124e-02, 9.78739888e-01],\n",
       "       [1.70348802e-02, 9.82965120e-01],\n",
       "       [9.18044448e-02, 9.08195555e-01],\n",
       "       [6.72464842e-02, 9.32753516e-01],\n",
       "       [1.16846064e-02, 9.88315394e-01],\n",
       "       [1.23975546e-01, 8.76024454e-01],\n",
       "       [1.26047961e-02, 9.87395204e-01],\n",
       "       [4.18405234e-01, 5.81594766e-01],\n",
       "       [2.50916428e-01, 7.49083572e-01],\n",
       "       [1.95852214e-01, 8.04147786e-01],\n",
       "       [5.40044651e-02, 9.45995535e-01],\n",
       "       [9.25808569e-02, 9.07419143e-01],\n",
       "       [2.05483169e-01, 7.94516831e-01],\n",
       "       [9.80762273e-02, 9.01923773e-01],\n",
       "       [9.74328902e-02, 9.02567110e-01],\n",
       "       [3.19817032e-03, 9.96801830e-01],\n",
       "       [2.34801941e-02, 9.76519806e-01],\n",
       "       [4.32477989e-02, 9.56752201e-01],\n",
       "       [6.53249054e-02, 9.34675095e-01],\n",
       "       [2.17145481e-02, 9.78285452e-01],\n",
       "       [1.47634114e-01, 8.52365886e-01],\n",
       "       [4.94435539e-02, 9.50556446e-01],\n",
       "       [3.92976754e-03, 9.96070232e-01],\n",
       "       [2.03709304e-02, 9.79629070e-01],\n",
       "       [5.81829223e-01, 4.18170777e-01],\n",
       "       [7.06739572e-02, 9.29326043e-01],\n",
       "       [2.18352115e-01, 7.81647885e-01],\n",
       "       [8.69748283e-02, 9.13025172e-01],\n",
       "       [2.14284010e-01, 7.85715990e-01],\n",
       "       [2.77452034e-01, 7.22547966e-01],\n",
       "       [1.07028382e-01, 8.92971618e-01],\n",
       "       [1.32072213e-01, 8.67927787e-01],\n",
       "       [9.15500950e-03, 9.90844990e-01],\n",
       "       [3.33149314e-02, 9.66685069e-01],\n",
       "       [1.87784005e-01, 8.12215995e-01],\n",
       "       [5.07133875e-02, 9.49286612e-01],\n",
       "       [6.58322193e-02, 9.34167781e-01],\n",
       "       [2.91044266e-01, 7.08955734e-01],\n",
       "       [1.34829280e-02, 9.86517072e-01],\n",
       "       [3.58755001e-02, 9.64124500e-01],\n",
       "       [1.09974072e-01, 8.90025928e-01],\n",
       "       [1.32245920e-01, 8.67754080e-01],\n",
       "       [7.37464997e-02, 9.26253500e-01],\n",
       "       [1.54320732e-01, 8.45679268e-01],\n",
       "       [2.41794291e-01, 7.58205709e-01],\n",
       "       [1.51082887e-01, 8.48917113e-01],\n",
       "       [2.94799444e-02, 9.70520056e-01],\n",
       "       [6.86804374e-02, 9.31319563e-01],\n",
       "       [4.62545717e-01, 5.37454283e-01],\n",
       "       [2.52763835e-01, 7.47236165e-01],\n",
       "       [7.67483943e-02, 9.23251606e-01],\n",
       "       [4.07260500e-02, 9.59273950e-01],\n",
       "       [5.54064437e-02, 9.44593556e-01],\n",
       "       [2.14957088e-01, 7.85042912e-01],\n",
       "       [1.02511195e-01, 8.97488805e-01],\n",
       "       [2.67458226e-01, 7.32541774e-01],\n",
       "       [2.22983495e-01, 7.77016505e-01],\n",
       "       [7.02128636e-02, 9.29787136e-01],\n",
       "       [1.70243682e-01, 8.29756318e-01],\n",
       "       [1.46300842e-01, 8.53699158e-01],\n",
       "       [2.05380608e-01, 7.94619392e-01],\n",
       "       [2.71257237e-01, 7.28742763e-01],\n",
       "       [1.13373771e-01, 8.86626229e-01],\n",
       "       [1.01495780e-01, 8.98504220e-01],\n",
       "       [9.63896131e-03, 9.90361039e-01],\n",
       "       [6.37990220e-03, 9.93620098e-01],\n",
       "       [3.93348865e-01, 6.06651135e-01],\n",
       "       [4.43875799e-01, 5.56124201e-01],\n",
       "       [1.16435186e-01, 8.83564814e-01],\n",
       "       [1.11113019e-01, 8.88886981e-01],\n",
       "       [2.63356882e-01, 7.36643118e-01],\n",
       "       [4.09855622e-02, 9.59014438e-01],\n",
       "       [1.06297160e-01, 8.93702840e-01],\n",
       "       [2.16390411e-01, 7.83609589e-01],\n",
       "       [8.11494653e-02, 9.18850535e-01],\n",
       "       [7.28065945e-03, 9.92719341e-01],\n",
       "       [3.83979295e-02, 9.61602070e-01],\n",
       "       [1.39586398e-01, 8.60413602e-01],\n",
       "       [5.67958100e-02, 9.43204190e-01],\n",
       "       [5.59267755e-01, 4.40732245e-01],\n",
       "       [6.81197664e-02, 9.31880234e-01],\n",
       "       [3.85351613e-02, 9.61464839e-01],\n",
       "       [2.48364115e-01, 7.51635885e-01],\n",
       "       [1.01684105e-02, 9.89831589e-01],\n",
       "       [4.33414228e-02, 9.56658577e-01],\n",
       "       [5.34821918e-02, 9.46517808e-01],\n",
       "       [1.89201333e-02, 9.81079867e-01],\n",
       "       [2.02894956e-01, 7.97105044e-01],\n",
       "       [8.79188997e-02, 9.12081100e-01],\n",
       "       [1.34940172e-01, 8.65059828e-01],\n",
       "       [8.66009086e-02, 9.13399091e-01],\n",
       "       [1.03238286e-02, 9.89676171e-01],\n",
       "       [4.03363688e-02, 9.59663631e-01],\n",
       "       [4.16649566e-01, 5.83350434e-01],\n",
       "       [1.73878666e-01, 8.26121334e-01],\n",
       "       [5.09363300e-02, 9.49063670e-01],\n",
       "       [7.75456163e-02, 9.22454384e-01],\n",
       "       [6.38919597e-02, 9.36108040e-01],\n",
       "       [7.53372640e-02, 9.24662736e-01],\n",
       "       [9.24374208e-02, 9.07562579e-01],\n",
       "       [4.08919999e-02, 9.59108000e-01],\n",
       "       [5.10148850e-01, 4.89851150e-01],\n",
       "       [1.19907156e-01, 8.80092844e-01],\n",
       "       [4.72876606e-03, 9.95271234e-01],\n",
       "       [4.99638246e-01, 5.00361754e-01],\n",
       "       [7.54118588e-02, 9.24588141e-01],\n",
       "       [1.91255808e-01, 8.08744192e-01],\n",
       "       [1.22091538e-01, 8.77908462e-01],\n",
       "       [6.20176172e-03, 9.93798238e-01],\n",
       "       [1.37474893e-01, 8.62525107e-01],\n",
       "       [1.73259825e-01, 8.26740175e-01],\n",
       "       [1.34525889e-01, 8.65474111e-01],\n",
       "       [1.74429452e-01, 8.25570548e-01],\n",
       "       [8.98195139e-03, 9.91018049e-01],\n",
       "       [2.21764642e-02, 9.77823536e-01],\n",
       "       [7.88176161e-02, 9.21182384e-01],\n",
       "       [4.63694432e-02, 9.53630557e-01],\n",
       "       [1.19402281e-01, 8.80597719e-01],\n",
       "       [1.80300307e-02, 9.81969969e-01],\n",
       "       [1.80723550e-02, 9.81927645e-01],\n",
       "       [4.01047653e-01, 5.98952347e-01],\n",
       "       [1.20481736e-01, 8.79518264e-01],\n",
       "       [9.22204765e-02, 9.07779523e-01],\n",
       "       [7.50014592e-02, 9.24998541e-01],\n",
       "       [1.17052493e-01, 8.82947507e-01],\n",
       "       [7.01454922e-02, 9.29854508e-01],\n",
       "       [4.71358967e-02, 9.52864103e-01],\n",
       "       [3.22009655e-01, 6.77990345e-01],\n",
       "       [9.70014607e-02, 9.02998539e-01],\n",
       "       [2.04129663e-02, 9.79587034e-01],\n",
       "       [9.24621719e-02, 9.07537828e-01],\n",
       "       [8.26758567e-02, 9.17324143e-01],\n",
       "       [1.91176055e-01, 8.08823945e-01],\n",
       "       [2.19467003e-01, 7.80532997e-01],\n",
       "       [3.51930205e-01, 6.48069795e-01],\n",
       "       [2.78411879e-03, 9.97215881e-01],\n",
       "       [2.98329702e-02, 9.70167030e-01],\n",
       "       [1.59893096e-01, 8.40106904e-01],\n",
       "       [1.13128960e-01, 8.86871040e-01],\n",
       "       [2.44542849e-02, 9.75545715e-01],\n",
       "       [5.02216424e-01, 4.97783576e-01],\n",
       "       [1.85195680e-01, 8.14804320e-01],\n",
       "       [1.71302387e-03, 9.98286976e-01],\n",
       "       [9.20301017e-02, 9.07969898e-01],\n",
       "       [1.54514174e-01, 8.45485826e-01],\n",
       "       [4.67730900e-01, 5.32269100e-01],\n",
       "       [7.19246509e-02, 9.28075349e-01],\n",
       "       [2.30149210e-01, 7.69850790e-01]])"
      ]
     },
     "execution_count": 20,
     "metadata": {},
     "output_type": "execute_result"
    }
   ],
   "source": [
    "y_pred_prob"
   ]
  },
  {
   "cell_type": "code",
   "execution_count": 21,
   "id": "973f2937",
   "metadata": {},
   "outputs": [
    {
     "data": {
      "text/plain": [
       "array([1., 1., 0., 1., 0., 1., 1., 1., 1., 1., 1., 1., 1., 0., 0., 1., 1.,\n",
       "       1., 0., 1., 1., 1., 1., 1., 1., 0., 1., 1., 1., 1., 1., 1., 1., 1.,\n",
       "       1., 1., 0., 1., 1., 1., 0., 1., 1., 1., 1., 1., 1., 1., 1., 1., 1.,\n",
       "       1., 1., 1., 1., 1., 0., 1., 1., 1., 1., 1., 1., 1., 0., 1., 1., 1.,\n",
       "       0., 1., 1., 1., 1., 1., 0., 0., 0., 1., 1., 1., 1., 1., 1., 1., 1.,\n",
       "       1., 1., 0., 1., 1., 1., 1., 1., 0., 1., 1., 1., 1., 1., 1., 0., 1.,\n",
       "       1., 1., 1., 0., 1., 1., 1., 1., 1., 0., 0., 0., 1., 1., 1., 0., 1.,\n",
       "       1., 1., 1., 0., 0., 0., 0., 1., 1., 1., 1., 1., 1., 1., 1., 1., 0.,\n",
       "       1., 1., 1., 1., 0., 1., 1., 1., 1., 1., 1., 1., 0., 0., 1., 1., 1.,\n",
       "       0., 1., 1., 1., 1., 1., 1., 1., 1., 1., 1., 1., 0., 1., 0., 1., 0.,\n",
       "       0., 1., 1., 1., 1., 1., 1., 1., 0., 1., 1., 1., 1., 1., 1., 0., 1.,\n",
       "       1., 1., 0., 0., 1., 1., 1., 0., 1., 0., 0., 1., 1., 1., 0., 0., 1.,\n",
       "       1., 1., 1., 0., 0., 1., 1., 0., 1., 1., 0., 1., 1., 1., 1., 1., 0.,\n",
       "       1., 1., 0., 1., 1., 1., 1., 0., 1., 1., 1., 1., 1., 0., 1., 1., 1.,\n",
       "       1., 1., 1., 1., 0., 1., 1., 0., 1., 1., 1., 1., 1., 1., 1., 1., 1.,\n",
       "       1., 1., 1., 1., 1., 1., 0., 1., 1., 1., 1., 1., 1., 0., 1., 1., 1.,\n",
       "       1., 1., 0., 0., 1., 1., 1., 1., 1., 0., 1., 1., 1., 1., 0., 1., 0.])"
      ]
     },
     "execution_count": 21,
     "metadata": {},
     "output_type": "execute_result"
    }
   ],
   "source": [
    "#Obtaining classification based on desired threshold of 0.8: \n",
    "\n",
    "y_pred_success = (y_pred_prob[:, 1] > 0.8).astype('float')\n",
    "y_pred_success"
   ]
  },
  {
   "cell_type": "code",
   "execution_count": 22,
   "id": "686a5f94",
   "metadata": {},
   "outputs": [
    {
     "data": {
      "text/plain": [
       "array([[  3,  31],\n",
       "       [ 58, 197]])"
      ]
     },
     "execution_count": 22,
     "metadata": {},
     "output_type": "execute_result"
    }
   ],
   "source": [
    "conf_mat = confusion_matrix(y, y_pred_success)\n",
    "conf_mat"
   ]
  },
  {
   "cell_type": "code",
   "execution_count": 23,
   "id": "6c050cfb",
   "metadata": {},
   "outputs": [
    {
     "data": {
      "image/png": "[encoded data removed]",
      "text/plain": [
       "<Figure size 864x432 with 1 Axes>"
      ]
     },
     "metadata": {},
     "output_type": "display_data"
    }
   ],
   "source": [
    "sns.set(rc = {'figure.figsize':(12,6)})\n",
    "#cmap = sns.cubehelix_palette(start=2, rot=0, dark=0, light=.95, reverse=True, as_cmap=True)\n",
    "cmap = sns.light_palette('seagreen', as_cmap=True)\n",
    "\n",
    "res = sns.heatmap(conf_mat, annot=True, fmt='d', annot_kws={\"size\":20},\n",
    "#            xticklabels = ['Good = Paid In Full', 'Bad = Default'],\n",
    "#            yticklabels = ['Loan Paid In Full', 'Bad = Default'], \n",
    "            cmap=cmap, cbar=False)\n",
    "\n",
    "res.set_xticklabels(['Loan Default', 'Loan Repaid'], fontsize=15)\n",
    "res.set_yticklabels(['Loan Default', 'Loan Repaid'], fontsize=15)\n",
    "\n",
    "\n",
    "plt.title('Confusion Matrix For Logistic Regression', fontsize=25, pad=15)\n",
    "plt.xlabel('Predicted', fontsize=20)\n",
    "plt.ylabel('Actual', fontsize=20);"
   ]
  },
  {
   "cell_type": "code",
   "execution_count": 24,
   "id": "c5dc62cd",
   "metadata": {},
   "outputs": [
    {
     "data": {
      "text/plain": [
       "0.6920415224913494"
      ]
     },
     "execution_count": 24,
     "metadata": {},
     "output_type": "execute_result"
    }
   ],
   "source": [
    "accuracy_score(y, y_pred_success)"
   ]
  },
  {
   "cell_type": "code",
   "execution_count": 25,
   "id": "25920782",
   "metadata": {},
   "outputs": [
    {
     "name": "stdout",
     "output_type": "stream",
     "text": [
      "197\n",
      "31\n",
      "58\n",
      "3\n",
      "0.6920415224913494\n"
     ]
    }
   ],
   "source": [
    "TN, FP, FN, TP = conf_mat.ravel()\n",
    "print(TP)\n",
    "print(FP)\n",
    "print(FN)\n",
    "print(TN)\n",
    "print((TP + TN) / (TN + TP + FP + FN))"
   ]
  },
  {
   "cell_type": "code",
   "execution_count": 26,
   "id": "67e15484",
   "metadata": {},
   "outputs": [
    {
     "data": {
      "text/plain": [
       "0.8640350877192983"
      ]
     },
     "execution_count": 26,
     "metadata": {},
     "output_type": "execute_result"
    }
   ],
   "source": [
    "#Positive Predictive Value (or Precision)\n",
    "#Logistic Model only does 3% better than Null Model or \"random investment\"\n",
    "TP / (TP+FP)"
   ]
  },
  {
   "cell_type": "code",
   "execution_count": null,
   "id": "a51b3ce5",
   "metadata": {},
   "outputs": [],
   "source": [
    "## Next question. what was characteristic of the 217 loans that defaulted??\n",
    "## Get all loans which you predicted greater than 80% and find out which ones defaulted.\n",
    "## Any pattern?????"
   ]
  },
  {
   "cell_type": "code",
   "execution_count": null,
   "id": "2bb4a848",
   "metadata": {},
   "outputs": [],
   "source": [
    "#Do we drop all observations where the source is not verified? \n",
    "#Do we drop all observations loan amount is greater than half of one's income? "
   ]
  },
  {
   "cell_type": "code",
   "execution_count": null,
   "id": "88205f9a",
   "metadata": {},
   "outputs": [],
   "source": []
  }
 ],
 "metadata": {
  "hide_input": false,
  "kernelspec": {
   "display_name": "Python 3 (ipykernel)",
   "language": "python",
   "name": "python3"
  },
  "language_info": {
   "codemirror_mode": {
    "name": "ipython",
    "version": 3
   },
   "file_extension": ".py",
   "mimetype": "text/x-python",
   "name": "python",
   "nbconvert_exporter": "python",
   "pygments_lexer": "ipython3",
   "version": "3.8.8"
  },
  "varInspector": {
   "cols": {
    "lenName": 16,
    "lenType": 16,
    "lenVar": 40
   },
   "kernels_config": {
    "python": {
     "delete_cmd_postfix": "",
     "delete_cmd_prefix": "del ",
     "library": "var_list.py",
     "varRefreshCmd": "print(var_dic_list())"
    },
    "r": {
     "delete_cmd_postfix": ") ",
     "delete_cmd_prefix": "rm(",
     "library": "var_list.r",
     "varRefreshCmd": "cat(var_dic_list()) "
    }
   },
   "types_to_exclude": [
    "module",
    "function",
    "builtin_function_or_method",
    "instance",
    "_Feature"
   ],
   "window_display": false
  }
 },
 "nbformat": 4,
 "nbformat_minor": 5
}
