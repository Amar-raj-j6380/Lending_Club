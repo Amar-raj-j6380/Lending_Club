{
 "cells": [
  {
   "cell_type": "code",
   "execution_count": 1,
   "id": "6f4648b5",
   "metadata": {},
   "outputs": [],
   "source": [
    "import pandas as pd\n",
    "import numpy as np\n",
    "import seaborn as sns\n",
    "import copy as cp\n",
    "import matplotlib.pyplot as plt\n",
    "\n",
    "from sklearn.model_selection import cross_val_score, cross_val_predict \n",
    "from sklearn.model_selection import train_test_split\n",
    "from sklearn.model_selection import RepeatedStratifiedKFold\n",
    "from imblearn.pipeline import Pipeline\n",
    "from imblearn.over_sampling import SMOTE\n",
    "\n",
    "from sklearn.linear_model import LogisticRegression\n",
    "from sklearn.metrics import roc_auc_score, roc_curve, precision_recall_curve\n",
    "from sklearn.metrics import confusion_matrix, accuracy_score\n",
    "\n",
    "from typing import Tuple"
   ]
  },
  {
   "cell_type": "code",
   "execution_count": 2,
   "id": "a6b2eaad",
   "metadata": {},
   "outputs": [],
   "source": [
    "pd.set_option(\"display.max_columns\", 200)\n",
    "pd.set_option(\"display.max_row\", 160)\n",
    "pd.set_option('max_colwidth', 200)"
   ]
  },
  {
   "cell_type": "code",
   "execution_count": 10,
   "id": "acc59130",
   "metadata": {},
   "outputs": [
    {
     "data": {
      "text/html": [
       "<div>\n",
       "<style scoped>\n",
       "    .dataframe tbody tr th:only-of-type {\n",
       "        vertical-align: middle;\n",
       "    }\n",
       "\n",
       "    .dataframe tbody tr th {\n",
       "        vertical-align: top;\n",
       "    }\n",
       "\n",
       "    .dataframe thead th {\n",
       "        text-align: right;\n",
       "    }\n",
       "</style>\n",
       "<table border=\"1\" class=\"dataframe\">\n",
       "  <thead>\n",
       "    <tr style=\"text-align: right;\">\n",
       "      <th></th>\n",
       "      <th>loan_amnt</th>\n",
       "      <th>annual_inc</th>\n",
       "      <th>dti</th>\n",
       "      <th>fico_range_low</th>\n",
       "      <th>fico_range_high</th>\n",
       "      <th>int_rate</th>\n",
       "      <th>installment</th>\n",
       "      <th>open_acc</th>\n",
       "      <th>total_acc</th>\n",
       "      <th>revol_bal</th>\n",
       "      <th>inq_last_6mths</th>\n",
       "      <th>delinq_2yrs</th>\n",
       "      <th>mths_since_last_delinq</th>\n",
       "      <th>acc_now_delinq</th>\n",
       "      <th>collections_12_mths_ex_med</th>\n",
       "      <th>pub_rec</th>\n",
       "      <th>months_cr_line</th>\n",
       "      <th>term</th>\n",
       "      <th>initial_list_status</th>\n",
       "      <th>grade</th>\n",
       "      <th>sub_grade</th>\n",
       "      <th>emp_length</th>\n",
       "      <th>ANY</th>\n",
       "      <th>MORTGAGE</th>\n",
       "      <th>OWN</th>\n",
       "      <th>RENT</th>\n",
       "      <th>car</th>\n",
       "      <th>credit_card</th>\n",
       "      <th>debt_consolidation</th>\n",
       "      <th>home_improvement</th>\n",
       "      <th>house</th>\n",
       "      <th>major_purchase</th>\n",
       "      <th>medical</th>\n",
       "      <th>moving</th>\n",
       "      <th>other</th>\n",
       "      <th>renewable_energy</th>\n",
       "      <th>small_business</th>\n",
       "      <th>vacation</th>\n",
       "      <th>wedding</th>\n",
       "      <th>Not Verified</th>\n",
       "      <th>Source Verified</th>\n",
       "      <th>Verified</th>\n",
       "      <th>loan_status_bin</th>\n",
       "    </tr>\n",
       "  </thead>\n",
       "  <tbody>\n",
       "    <tr>\n",
       "      <th>0</th>\n",
       "      <td>-0.387950</td>\n",
       "      <td>-0.053411</td>\n",
       "      <td>-1.190096</td>\n",
       "      <td>1.927589</td>\n",
       "      <td>1.927589</td>\n",
       "      <td>-0.584105</td>\n",
       "      <td>-0.393045</td>\n",
       "      <td>-0.583806</td>\n",
       "      <td>-1.063590</td>\n",
       "      <td>-0.780436</td>\n",
       "      <td>1.270632</td>\n",
       "      <td>0.414825</td>\n",
       "      <td>-0.288909</td>\n",
       "      <td>-0.071866</td>\n",
       "      <td>-0.150578</td>\n",
       "      <td>-0.396194</td>\n",
       "      <td>-0.984061</td>\n",
       "      <td>-0.220196</td>\n",
       "      <td>1.400569</td>\n",
       "      <td>0.001343</td>\n",
       "      <td>0.587128</td>\n",
       "      <td>-0.597190</td>\n",
       "      <td>-0.027103</td>\n",
       "      <td>-0.908498</td>\n",
       "      <td>-0.354817</td>\n",
       "      <td>1.139016</td>\n",
       "      <td>-0.128116</td>\n",
       "      <td>-0.242504</td>\n",
       "      <td>-0.739550</td>\n",
       "      <td>3.379718</td>\n",
       "      <td>-0.137651</td>\n",
       "      <td>-0.191103</td>\n",
       "      <td>-0.230389</td>\n",
       "      <td>-0.221415</td>\n",
       "      <td>-0.575938</td>\n",
       "      <td>-0.066511</td>\n",
       "      <td>-0.222628</td>\n",
       "      <td>-0.191103</td>\n",
       "      <td>-0.085992</td>\n",
       "      <td>-0.583849</td>\n",
       "      <td>1.258348</td>\n",
       "      <td>-0.747883</td>\n",
       "      <td>0.0</td>\n",
       "    </tr>\n",
       "    <tr>\n",
       "      <th>1</th>\n",
       "      <td>-0.732419</td>\n",
       "      <td>-0.260482</td>\n",
       "      <td>-0.296451</td>\n",
       "      <td>0.075174</td>\n",
       "      <td>0.075174</td>\n",
       "      <td>0.599500</td>\n",
       "      <td>-0.666098</td>\n",
       "      <td>-0.922272</td>\n",
       "      <td>-1.141599</td>\n",
       "      <td>-0.679895</td>\n",
       "      <td>0.499574</td>\n",
       "      <td>-0.447968</td>\n",
       "      <td>-0.870879</td>\n",
       "      <td>-0.071866</td>\n",
       "      <td>-0.150578</td>\n",
       "      <td>-0.396194</td>\n",
       "      <td>0.178644</td>\n",
       "      <td>-0.220196</td>\n",
       "      <td>1.400569</td>\n",
       "      <td>1.373086</td>\n",
       "      <td>1.554836</td>\n",
       "      <td>-1.652293</td>\n",
       "      <td>-0.027103</td>\n",
       "      <td>1.100718</td>\n",
       "      <td>-0.354817</td>\n",
       "      <td>-0.877951</td>\n",
       "      <td>-0.128116</td>\n",
       "      <td>-0.242504</td>\n",
       "      <td>1.352174</td>\n",
       "      <td>-0.295883</td>\n",
       "      <td>-0.137651</td>\n",
       "      <td>-0.191103</td>\n",
       "      <td>-0.230389</td>\n",
       "      <td>-0.221415</td>\n",
       "      <td>-0.575938</td>\n",
       "      <td>-0.066511</td>\n",
       "      <td>-0.222628</td>\n",
       "      <td>-0.191103</td>\n",
       "      <td>-0.085992</td>\n",
       "      <td>-0.583849</td>\n",
       "      <td>1.258348</td>\n",
       "      <td>-0.747883</td>\n",
       "      <td>0.0</td>\n",
       "    </tr>\n",
       "    <tr>\n",
       "      <th>2</th>\n",
       "      <td>0.686794</td>\n",
       "      <td>-0.035405</td>\n",
       "      <td>0.075620</td>\n",
       "      <td>-0.718718</td>\n",
       "      <td>-0.718718</td>\n",
       "      <td>-0.584105</td>\n",
       "      <td>0.666364</td>\n",
       "      <td>-0.076107</td>\n",
       "      <td>0.574598</td>\n",
       "      <td>-0.357086</td>\n",
       "      <td>2.812747</td>\n",
       "      <td>3.003203</td>\n",
       "      <td>-0.870879</td>\n",
       "      <td>-0.071866</td>\n",
       "      <td>-0.150578</td>\n",
       "      <td>1.004537</td>\n",
       "      <td>-0.473894</td>\n",
       "      <td>-0.220196</td>\n",
       "      <td>1.400569</td>\n",
       "      <td>0.001343</td>\n",
       "      <td>0.587128</td>\n",
       "      <td>-0.597190</td>\n",
       "      <td>-0.027103</td>\n",
       "      <td>1.100718</td>\n",
       "      <td>-0.354817</td>\n",
       "      <td>-0.877951</td>\n",
       "      <td>-0.128116</td>\n",
       "      <td>-0.242504</td>\n",
       "      <td>-0.739550</td>\n",
       "      <td>-0.295883</td>\n",
       "      <td>-0.137651</td>\n",
       "      <td>-0.191103</td>\n",
       "      <td>-0.230389</td>\n",
       "      <td>-0.221415</td>\n",
       "      <td>-0.575938</td>\n",
       "      <td>-0.066511</td>\n",
       "      <td>4.491789</td>\n",
       "      <td>-0.191103</td>\n",
       "      <td>-0.085992</td>\n",
       "      <td>-0.583849</td>\n",
       "      <td>1.258348</td>\n",
       "      <td>-0.747883</td>\n",
       "      <td>1.0</td>\n",
       "    </tr>\n",
       "    <tr>\n",
       "      <th>3</th>\n",
       "      <td>-0.236383</td>\n",
       "      <td>-0.224470</td>\n",
       "      <td>-0.189663</td>\n",
       "      <td>-0.983349</td>\n",
       "      <td>-0.983349</td>\n",
       "      <td>1.379993</td>\n",
       "      <td>-0.101653</td>\n",
       "      <td>-0.583806</td>\n",
       "      <td>-0.673545</td>\n",
       "      <td>-0.655073</td>\n",
       "      <td>2.812747</td>\n",
       "      <td>0.414825</td>\n",
       "      <td>0.337827</td>\n",
       "      <td>-0.071866</td>\n",
       "      <td>-0.150578</td>\n",
       "      <td>1.004537</td>\n",
       "      <td>-0.675588</td>\n",
       "      <td>-0.220196</td>\n",
       "      <td>1.400569</td>\n",
       "      <td>1.373086</td>\n",
       "      <td>2.199975</td>\n",
       "      <td>-0.069639</td>\n",
       "      <td>-0.027103</td>\n",
       "      <td>1.100718</td>\n",
       "      <td>-0.354817</td>\n",
       "      <td>-0.877951</td>\n",
       "      <td>-0.128116</td>\n",
       "      <td>-0.242504</td>\n",
       "      <td>1.352174</td>\n",
       "      <td>-0.295883</td>\n",
       "      <td>-0.137651</td>\n",
       "      <td>-0.191103</td>\n",
       "      <td>-0.230389</td>\n",
       "      <td>-0.221415</td>\n",
       "      <td>-0.575938</td>\n",
       "      <td>-0.066511</td>\n",
       "      <td>-0.222628</td>\n",
       "      <td>-0.191103</td>\n",
       "      <td>-0.085992</td>\n",
       "      <td>-0.583849</td>\n",
       "      <td>1.258348</td>\n",
       "      <td>-0.747883</td>\n",
       "      <td>1.0</td>\n",
       "    </tr>\n",
       "    <tr>\n",
       "      <th>4</th>\n",
       "      <td>0.797024</td>\n",
       "      <td>-0.102928</td>\n",
       "      <td>0.458932</td>\n",
       "      <td>-0.454087</td>\n",
       "      <td>-0.454087</td>\n",
       "      <td>1.993238</td>\n",
       "      <td>1.047293</td>\n",
       "      <td>-0.076107</td>\n",
       "      <td>-0.673545</td>\n",
       "      <td>-0.373445</td>\n",
       "      <td>2.812747</td>\n",
       "      <td>-0.447968</td>\n",
       "      <td>0.651196</td>\n",
       "      <td>-0.071866</td>\n",
       "      <td>-0.150578</td>\n",
       "      <td>-0.396194</td>\n",
       "      <td>0.534575</td>\n",
       "      <td>-0.220196</td>\n",
       "      <td>1.400569</td>\n",
       "      <td>2.744829</td>\n",
       "      <td>2.845114</td>\n",
       "      <td>-0.333415</td>\n",
       "      <td>-0.027103</td>\n",
       "      <td>1.100718</td>\n",
       "      <td>-0.354817</td>\n",
       "      <td>-0.877951</td>\n",
       "      <td>-0.128116</td>\n",
       "      <td>-0.242504</td>\n",
       "      <td>1.352174</td>\n",
       "      <td>-0.295883</td>\n",
       "      <td>-0.137651</td>\n",
       "      <td>-0.191103</td>\n",
       "      <td>-0.230389</td>\n",
       "      <td>-0.221415</td>\n",
       "      <td>-0.575938</td>\n",
       "      <td>-0.066511</td>\n",
       "      <td>-0.222628</td>\n",
       "      <td>-0.191103</td>\n",
       "      <td>-0.085992</td>\n",
       "      <td>-0.583849</td>\n",
       "      <td>-0.794693</td>\n",
       "      <td>1.337108</td>\n",
       "      <td>1.0</td>\n",
       "    </tr>\n",
       "  </tbody>\n",
       "</table>\n",
       "</div>"
      ],
      "text/plain": [
       "   loan_amnt  annual_inc       dti  fico_range_low  fico_range_high  int_rate  \\\n",
       "0  -0.387950   -0.053411 -1.190096        1.927589         1.927589 -0.584105   \n",
       "1  -0.732419   -0.260482 -0.296451        0.075174         0.075174  0.599500   \n",
       "2   0.686794   -0.035405  0.075620       -0.718718        -0.718718 -0.584105   \n",
       "3  -0.236383   -0.224470 -0.189663       -0.983349        -0.983349  1.379993   \n",
       "4   0.797024   -0.102928  0.458932       -0.454087        -0.454087  1.993238   \n",
       "\n",
       "   installment  open_acc  total_acc  revol_bal  inq_last_6mths  delinq_2yrs  \\\n",
       "0    -0.393045 -0.583806  -1.063590  -0.780436        1.270632     0.414825   \n",
       "1    -0.666098 -0.922272  -1.141599  -0.679895        0.499574    -0.447968   \n",
       "2     0.666364 -0.076107   0.574598  -0.357086        2.812747     3.003203   \n",
       "3    -0.101653 -0.583806  -0.673545  -0.655073        2.812747     0.414825   \n",
       "4     1.047293 -0.076107  -0.673545  -0.373445        2.812747    -0.447968   \n",
       "\n",
       "   mths_since_last_delinq  acc_now_delinq  collections_12_mths_ex_med  \\\n",
       "0               -0.288909       -0.071866                   -0.150578   \n",
       "1               -0.870879       -0.071866                   -0.150578   \n",
       "2               -0.870879       -0.071866                   -0.150578   \n",
       "3                0.337827       -0.071866                   -0.150578   \n",
       "4                0.651196       -0.071866                   -0.150578   \n",
       "\n",
       "    pub_rec  months_cr_line      term  initial_list_status     grade  \\\n",
       "0 -0.396194       -0.984061 -0.220196             1.400569  0.001343   \n",
       "1 -0.396194        0.178644 -0.220196             1.400569  1.373086   \n",
       "2  1.004537       -0.473894 -0.220196             1.400569  0.001343   \n",
       "3  1.004537       -0.675588 -0.220196             1.400569  1.373086   \n",
       "4 -0.396194        0.534575 -0.220196             1.400569  2.744829   \n",
       "\n",
       "   sub_grade  emp_length       ANY  MORTGAGE       OWN      RENT       car  \\\n",
       "0   0.587128   -0.597190 -0.027103 -0.908498 -0.354817  1.139016 -0.128116   \n",
       "1   1.554836   -1.652293 -0.027103  1.100718 -0.354817 -0.877951 -0.128116   \n",
       "2   0.587128   -0.597190 -0.027103  1.100718 -0.354817 -0.877951 -0.128116   \n",
       "3   2.199975   -0.069639 -0.027103  1.100718 -0.354817 -0.877951 -0.128116   \n",
       "4   2.845114   -0.333415 -0.027103  1.100718 -0.354817 -0.877951 -0.128116   \n",
       "\n",
       "   credit_card  debt_consolidation  home_improvement     house  \\\n",
       "0    -0.242504           -0.739550          3.379718 -0.137651   \n",
       "1    -0.242504            1.352174         -0.295883 -0.137651   \n",
       "2    -0.242504           -0.739550         -0.295883 -0.137651   \n",
       "3    -0.242504            1.352174         -0.295883 -0.137651   \n",
       "4    -0.242504            1.352174         -0.295883 -0.137651   \n",
       "\n",
       "   major_purchase   medical    moving     other  renewable_energy  \\\n",
       "0       -0.191103 -0.230389 -0.221415 -0.575938         -0.066511   \n",
       "1       -0.191103 -0.230389 -0.221415 -0.575938         -0.066511   \n",
       "2       -0.191103 -0.230389 -0.221415 -0.575938         -0.066511   \n",
       "3       -0.191103 -0.230389 -0.221415 -0.575938         -0.066511   \n",
       "4       -0.191103 -0.230389 -0.221415 -0.575938         -0.066511   \n",
       "\n",
       "   small_business  vacation   wedding  Not Verified  Source Verified  \\\n",
       "0       -0.222628 -0.191103 -0.085992     -0.583849         1.258348   \n",
       "1       -0.222628 -0.191103 -0.085992     -0.583849         1.258348   \n",
       "2        4.491789 -0.191103 -0.085992     -0.583849         1.258348   \n",
       "3       -0.222628 -0.191103 -0.085992     -0.583849         1.258348   \n",
       "4       -0.222628 -0.191103 -0.085992     -0.583849        -0.794693   \n",
       "\n",
       "   Verified  loan_status_bin  \n",
       "0 -0.747883              0.0  \n",
       "1 -0.747883              0.0  \n",
       "2 -0.747883              1.0  \n",
       "3 -0.747883              1.0  \n",
       "4  1.337108              1.0  "
      ]
     },
     "execution_count": 10,
     "metadata": {},
     "output_type": "execute_result"
    }
   ],
   "source": [
    "data = pd.read_csv('../../Data/20x43_DEFG860.csv')\n",
    "data.head(5)"
   ]
  },
  {
   "cell_type": "code",
   "execution_count": 11,
   "id": "771565fb",
   "metadata": {},
   "outputs": [
    {
     "data": {
      "text/plain": [
       "(4087, 43)"
      ]
     },
     "execution_count": 11,
     "metadata": {},
     "output_type": "execute_result"
    }
   ],
   "source": [
    "data.shape"
   ]
  },
  {
   "cell_type": "code",
   "execution_count": 12,
   "id": "74758ddc",
   "metadata": {},
   "outputs": [
    {
     "data": {
      "text/plain": [
       "1.0    3194\n",
       "0.0     893\n",
       "Name: loan_status_bin, dtype: int64"
      ]
     },
     "execution_count": 12,
     "metadata": {},
     "output_type": "execute_result"
    }
   ],
   "source": [
    "data.loan_status_bin.value_counts()\n",
    "#0 = Defaulted Loans\n",
    "#1 = Loans Paid In Full"
   ]
  },
  {
   "cell_type": "code",
   "execution_count": 13,
   "id": "b9a9c6be",
   "metadata": {},
   "outputs": [
    {
     "data": {
      "text/plain": [
       "(4087, 42)"
      ]
     },
     "execution_count": 13,
     "metadata": {},
     "output_type": "execute_result"
    }
   ],
   "source": [
    "X = data.drop('loan_status_bin', axis=1)\n",
    "X.shape"
   ]
  },
  {
   "cell_type": "code",
   "execution_count": 14,
   "id": "0559962b",
   "metadata": {},
   "outputs": [],
   "source": [
    "y = data['loan_status_bin']"
   ]
  },
  {
   "cell_type": "code",
   "execution_count": 15,
   "id": "9b1bb6de",
   "metadata": {},
   "outputs": [],
   "source": [
    "lr1 = LogisticRegression()"
   ]
  },
  {
   "cell_type": "code",
   "execution_count": 16,
   "id": "e9e711e2",
   "metadata": {},
   "outputs": [],
   "source": [
    "steps = [('model', lr1)]\n",
    "pipeline = Pipeline(steps=steps)"
   ]
  },
  {
   "cell_type": "code",
   "execution_count": 17,
   "id": "fb714eeb",
   "metadata": {},
   "outputs": [
    {
     "name": "stdout",
     "output_type": "stream",
     "text": [
      "[0.78361858 0.77506112 0.78457772 0.77723378 0.77111383]\n",
      "0.7783210086397548\n"
     ]
    }
   ],
   "source": [
    "#Accuracy:\n",
    "\n",
    "cv = RepeatedStratifiedKFold(n_splits=5, n_repeats=1, random_state=1)\n",
    "scores = cross_val_score(pipeline, X, y, scoring='accuracy', cv=cv, n_jobs=-1) \n",
    "print(scores)\n",
    "\n",
    "score = np.mean(scores)\n",
    "print(score)"
   ]
  },
  {
   "cell_type": "code",
   "execution_count": 18,
   "id": "9db484eb",
   "metadata": {},
   "outputs": [
    {
     "data": {
      "text/plain": [
       "array([[  22,  871],\n",
       "       [  35, 3159]])"
      ]
     },
     "execution_count": 18,
     "metadata": {},
     "output_type": "execute_result"
    }
   ],
   "source": [
    "#Aggregated Confusion Matrix From RepeatedStratifiedKFold: \n",
    "y_pred = cross_val_predict(pipeline, X, y, cv=cv, n_jobs=-1)\n",
    "conf_mat = confusion_matrix(y, y_pred)\n",
    "conf_mat"
   ]
  },
  {
   "cell_type": "code",
   "execution_count": 19,
   "id": "cd14efda",
   "metadata": {},
   "outputs": [
    {
     "data": {
      "image/png": "[encoded data removed]",
      "text/plain": [
       "<Figure size 864x432 with 1 Axes>"
      ]
     },
     "metadata": {},
     "output_type": "display_data"
    }
   ],
   "source": [
    "sns.set(rc = {'figure.figsize':(12,6)})\n",
    "#cmap = sns.cubehelix_palette(start=2, rot=0, dark=0, light=.95, reverse=True, as_cmap=True)\n",
    "cmap = sns.light_palette('seagreen', as_cmap=True)\n",
    "\n",
    "res = sns.heatmap(conf_mat, annot=True, fmt='d', annot_kws={\"size\":20},\n",
    "#            xticklabels = ['Good = Paid In Full', 'Bad = Default'],\n",
    "#            yticklabels = ['Loan Paid In Full', 'Bad = Default'], \n",
    "            cmap=cmap, cbar=False)\n",
    "\n",
    "res.set_xticklabels(['Loan Default', 'Loan Repaid'], fontsize=15)\n",
    "res.set_yticklabels(['Loan Default', 'Loan Repaid'], fontsize=15)\n",
    "\n",
    "\n",
    "plt.title('Confusion Matrix For Logistic Regression', fontsize=25, pad=15)\n",
    "plt.xlabel('Predicted', fontsize=20)\n",
    "plt.ylabel('Actual', fontsize=20);"
   ]
  },
  {
   "cell_type": "code",
   "execution_count": 20,
   "id": "345a55b6",
   "metadata": {},
   "outputs": [
    {
     "data": {
      "text/plain": [
       "0.7783215072180083"
      ]
     },
     "execution_count": 20,
     "metadata": {},
     "output_type": "execute_result"
    }
   ],
   "source": [
    "accuracy_score(y, y_pred)"
   ]
  },
  {
   "cell_type": "code",
   "execution_count": 21,
   "id": "22662a59",
   "metadata": {},
   "outputs": [
    {
     "name": "stdout",
     "output_type": "stream",
     "text": [
      "3159\n",
      "871\n",
      "35\n",
      "22\n",
      "0.7783215072180083\n"
     ]
    }
   ],
   "source": [
    "TN, FP, FN, TP = conf_mat.ravel()\n",
    "print(TP)\n",
    "print(FP)\n",
    "print(FN)\n",
    "print(TN)\n",
    "print((TP + TN) / (TN + TP + FP + FN))"
   ]
  },
  {
   "cell_type": "code",
   "execution_count": null,
   "id": "4dcedec5",
   "metadata": {},
   "outputs": [],
   "source": []
  },
  {
   "cell_type": "code",
   "execution_count": 22,
   "id": "36dec5fa",
   "metadata": {},
   "outputs": [
    {
     "name": "stdout",
     "output_type": "stream",
     "text": [
      "1.0    3194\n",
      "0.0     893\n",
      "Name: loan_status_bin, dtype: int64\n",
      "\n",
      "0.781502324443357\n"
     ]
    }
   ],
   "source": [
    "#Re-examine original pool of accepted LC Loans: \n",
    "\n",
    "print(data.loan_status_bin.value_counts())\n",
    "#0 = Loan Defaulted\n",
    "#1 = Loan Fully Paid\n",
    "\n",
    "good_loan = data.loan_status_bin.value_counts()[1]\n",
    "bad_loan = data.loan_status_bin.value_counts()[0]\n",
    "\n",
    "print()\n",
    "print(good_loan / (good_loan + bad_loan))\n",
    "\n",
    "#Random investment would give us 59% chance of pickkng a good loan"
   ]
  },
  {
   "cell_type": "code",
   "execution_count": 23,
   "id": "9be4be5d",
   "metadata": {},
   "outputs": [
    {
     "data": {
      "text/plain": [
       "0.7838709677419354"
      ]
     },
     "execution_count": 23,
     "metadata": {},
     "output_type": "execute_result"
    }
   ],
   "source": [
    "#Positive Predictive Value (or Precision)\n",
    "#Logistic Model only does 0.1% better than Null Model or \"random investment\"\n",
    "TP / (TP+FP)"
   ]
  },
  {
   "cell_type": "code",
   "execution_count": null,
   "id": "747fa766",
   "metadata": {},
   "outputs": [],
   "source": []
  },
  {
   "cell_type": "code",
   "execution_count": 24,
   "id": "3188e143",
   "metadata": {},
   "outputs": [],
   "source": [
    "#What if we \"balance\" the weight class to avoid \"imbalanced\" nature...No Change! "
   ]
  },
  {
   "cell_type": "code",
   "execution_count": 25,
   "id": "0d86ed92",
   "metadata": {},
   "outputs": [],
   "source": [
    "lr_balanced = LogisticRegression(class_weight='balanced')"
   ]
  },
  {
   "cell_type": "code",
   "execution_count": 26,
   "id": "1e582bb8",
   "metadata": {},
   "outputs": [],
   "source": [
    "steps_balanced = [('model', lr_balanced)]\n",
    "pipeline_balanced = Pipeline(steps=steps)"
   ]
  },
  {
   "cell_type": "code",
   "execution_count": 27,
   "id": "1f2cdc5a",
   "metadata": {},
   "outputs": [
    {
     "name": "stdout",
     "output_type": "stream",
     "text": [
      "[0.78361858 0.77506112 0.78457772 0.77723378 0.77111383]\n",
      "0.7783210086397548\n"
     ]
    }
   ],
   "source": [
    "#Accuracy:\n",
    "\n",
    "cv = RepeatedStratifiedKFold(n_splits=5, n_repeats=1, random_state=1)\n",
    "scores = cross_val_score(pipeline_balanced, X, y, scoring='accuracy', cv=cv, n_jobs=-1) \n",
    "print(scores)\n",
    "\n",
    "score = np.mean(scores)\n",
    "print(score)"
   ]
  },
  {
   "cell_type": "code",
   "execution_count": 28,
   "id": "b5943c47",
   "metadata": {},
   "outputs": [
    {
     "data": {
      "text/plain": [
       "array([[  22,  871],\n",
       "       [  35, 3159]])"
      ]
     },
     "execution_count": 28,
     "metadata": {},
     "output_type": "execute_result"
    }
   ],
   "source": [
    "#Aggregated Confusion Matrix From RepeatedStratifiedKFold: \n",
    "y_pred_balanced = cross_val_predict(pipeline_balanced, X, y, cv=cv, n_jobs=-1)\n",
    "conf_mat_balanced = confusion_matrix(y, y_pred_balanced)\n",
    "conf_mat_balanced"
   ]
  },
  {
   "cell_type": "code",
   "execution_count": null,
   "id": "33d49ed8",
   "metadata": {},
   "outputs": [],
   "source": []
  },
  {
   "cell_type": "code",
   "execution_count": null,
   "id": "c2672371",
   "metadata": {},
   "outputs": [],
   "source": []
  },
  {
   "cell_type": "code",
   "execution_count": 29,
   "id": "3e6f9d5f",
   "metadata": {},
   "outputs": [],
   "source": [
    "#Obtain predicted probabilities (not predicted classes) from RSKF: \n",
    "y_pred_prob = cross_val_predict(pipeline, X, y, cv=cv, n_jobs=-1, method='predict_proba')"
   ]
  },
  {
   "cell_type": "code",
   "execution_count": 30,
   "id": "9f850d5b",
   "metadata": {},
   "outputs": [
    {
     "data": {
      "text/plain": [
       "array([[0.30459439, 0.69540561],\n",
       "       [0.26309301, 0.73690699],\n",
       "       [0.29205447, 0.70794553],\n",
       "       ...,\n",
       "       [0.20936136, 0.79063864],\n",
       "       [0.293575  , 0.706425  ],\n",
       "       [0.2199548 , 0.7800452 ]])"
      ]
     },
     "execution_count": 30,
     "metadata": {},
     "output_type": "execute_result"
    }
   ],
   "source": [
    "y_pred_prob"
   ]
  },
  {
   "cell_type": "code",
   "execution_count": 39,
   "id": "973f2937",
   "metadata": {},
   "outputs": [
    {
     "data": {
      "text/plain": [
       "array([0., 0., 0., ..., 0., 0., 0.])"
      ]
     },
     "execution_count": 39,
     "metadata": {},
     "output_type": "execute_result"
    }
   ],
   "source": [
    "#Obtaining classification based on desired threshold of 0.8: \n",
    "\n",
    "y_pred_success = (y_pred_prob[:, 1] > 0.90).astype('float')\n",
    "y_pred_success"
   ]
  },
  {
   "cell_type": "code",
   "execution_count": 40,
   "id": "686a5f94",
   "metadata": {},
   "outputs": [
    {
     "data": {
      "text/plain": [
       "array([[ 853,   40],\n",
       "       [2818,  376]])"
      ]
     },
     "execution_count": 40,
     "metadata": {},
     "output_type": "execute_result"
    }
   ],
   "source": [
    "conf_mat = confusion_matrix(y, y_pred_success)\n",
    "conf_mat"
   ]
  },
  {
   "cell_type": "code",
   "execution_count": 41,
   "id": "6c050cfb",
   "metadata": {},
   "outputs": [
    {
     "data": {
      "image/png": "[encoded data removed]",
      "text/plain": [
       "<Figure size 864x432 with 1 Axes>"
      ]
     },
     "metadata": {},
     "output_type": "display_data"
    }
   ],
   "source": [
    "sns.set(rc = {'figure.figsize':(12,6)})\n",
    "#cmap = sns.cubehelix_palette(start=2, rot=0, dark=0, light=.95, reverse=True, as_cmap=True)\n",
    "cmap = sns.light_palette('seagreen', as_cmap=True)\n",
    "\n",
    "res = sns.heatmap(conf_mat, annot=True, fmt='d', annot_kws={\"size\":20},\n",
    "#            xticklabels = ['Good = Paid In Full', 'Bad = Default'],\n",
    "#            yticklabels = ['Loan Paid In Full', 'Bad = Default'], \n",
    "            cmap=cmap, cbar=False)\n",
    "\n",
    "res.set_xticklabels(['Loan Default', 'Loan Repaid'], fontsize=15)\n",
    "res.set_yticklabels(['Loan Default', 'Loan Repaid'], fontsize=15)\n",
    "\n",
    "\n",
    "plt.title('Confusion Matrix For Logistic Regression', fontsize=25, pad=15)\n",
    "plt.xlabel('Predicted', fontsize=20)\n",
    "plt.ylabel('Actual', fontsize=20);"
   ]
  },
  {
   "cell_type": "code",
   "execution_count": 42,
   "id": "c5dc62cd",
   "metadata": {},
   "outputs": [
    {
     "data": {
      "text/plain": [
       "0.30070956691950085"
      ]
     },
     "execution_count": 42,
     "metadata": {},
     "output_type": "execute_result"
    }
   ],
   "source": [
    "accuracy_score(y, y_pred_success)"
   ]
  },
  {
   "cell_type": "code",
   "execution_count": 43,
   "id": "25920782",
   "metadata": {},
   "outputs": [
    {
     "name": "stdout",
     "output_type": "stream",
     "text": [
      "376\n",
      "40\n",
      "2818\n",
      "853\n",
      "0.30070956691950085\n"
     ]
    }
   ],
   "source": [
    "TN, FP, FN, TP = conf_mat.ravel()\n",
    "print(TP)\n",
    "print(FP)\n",
    "print(FN)\n",
    "print(TN)\n",
    "print((TP + TN) / (TN + TP + FP + FN))"
   ]
  },
  {
   "cell_type": "code",
   "execution_count": 44,
   "id": "67e15484",
   "metadata": {},
   "outputs": [
    {
     "data": {
      "text/plain": [
       "0.9038461538461539"
      ]
     },
     "execution_count": 44,
     "metadata": {},
     "output_type": "execute_result"
    }
   ],
   "source": [
    "#Positive Predictive Value (or Precision)\n",
    "#Logistic Model only does 3% better than Null Model or \"random investment\"\n",
    "TP / (TP+FP)"
   ]
  },
  {
   "cell_type": "code",
   "execution_count": null,
   "id": "0ec77f4b",
   "metadata": {},
   "outputs": [],
   "source": []
  },
  {
   "cell_type": "code",
   "execution_count": 37,
   "id": "ac9a9f8f",
   "metadata": {},
   "outputs": [
    {
     "name": "stdout",
     "output_type": "stream",
     "text": [
      "0.9166666666666666\n",
      "96\n"
     ]
    }
   ],
   "source": [
    "thresh = []\n",
    "PosPredVal = []\n",
    "\n",
    "for i in range(0,100,1):\n",
    "    y_pred_success = (y_pred_prob[:, 1] > (i/100)).astype('float')\n",
    "    conf_mat = confusion_matrix(y, y_pred_success)\n",
    "    TN, FP, FN, TP = conf_mat.ravel()\n",
    "    thresh.append(i)\n",
    "    PosPredVal.append((TP/(TP+FP)))\n",
    "\n",
    "print(np.max(PosPredVal))\n",
    "print(PosPredVal.index(np.max(PosPredVal)))"
   ]
  },
  {
   "cell_type": "code",
   "execution_count": 38,
   "id": "60560faf",
   "metadata": {},
   "outputs": [
    {
     "data": {
      "text/plain": [
       "[0.781502324443357,\n",
       " 0.781502324443357,\n",
       " 0.781502324443357,\n",
       " 0.781502324443357,\n",
       " 0.781502324443357,\n",
       " 0.781502324443357,\n",
       " 0.781502324443357,\n",
       " 0.781502324443357,\n",
       " 0.781502324443357,\n",
       " 0.781502324443357,\n",
       " 0.781502324443357,\n",
       " 0.781502324443357,\n",
       " 0.781502324443357,\n",
       " 0.781502324443357,\n",
       " 0.781502324443357,\n",
       " 0.781502324443357,\n",
       " 0.781502324443357,\n",
       " 0.781502324443357,\n",
       " 0.781502324443357,\n",
       " 0.781502324443357,\n",
       " 0.781502324443357,\n",
       " 0.781502324443357,\n",
       " 0.781502324443357,\n",
       " 0.781502324443357,\n",
       " 0.781502324443357,\n",
       " 0.781502324443357,\n",
       " 0.781502324443357,\n",
       " 0.781502324443357,\n",
       " 0.781502324443357,\n",
       " 0.781502324443357,\n",
       " 0.781502324443357,\n",
       " 0.781502324443357,\n",
       " 0.781502324443357,\n",
       " 0.7816935878609887,\n",
       " 0.7816935878609887,\n",
       " 0.7816935878609887,\n",
       " 0.7816935878609887,\n",
       " 0.7816935878609887,\n",
       " 0.7821612349914236,\n",
       " 0.782000980872977,\n",
       " 0.7823846908734053,\n",
       " 0.7823312883435583,\n",
       " 0.7825233186057928,\n",
       " 0.7828009828009828,\n",
       " 0.7831325301204819,\n",
       " 0.7834112724587743,\n",
       " 0.7834441980783444,\n",
       " 0.7834567901234568,\n",
       " 0.7835765520652981,\n",
       " 0.7836967294350843,\n",
       " 0.7838709677419354,\n",
       " 0.7840796019900498,\n",
       " 0.7848953140578265,\n",
       " 0.785839379534651,\n",
       " 0.7865761689291101,\n",
       " 0.7870300277567499,\n",
       " 0.7875634517766498,\n",
       " 0.7887468030690538,\n",
       " 0.7892976588628763,\n",
       " 0.7910834629341628,\n",
       " 0.7919287211740041,\n",
       " 0.7928665785997357,\n",
       " 0.7941726811013098,\n",
       " 0.7951153324287653,\n",
       " 0.7971452099917651,\n",
       " 0.799554565701559,\n",
       " 0.8020921685043823,\n",
       " 0.8048991354466859,\n",
       " 0.8064042303172738,\n",
       " 0.8115593016255268,\n",
       " 0.8156355801785165,\n",
       " 0.8177480916030534,\n",
       " 0.8194308145240432,\n",
       " 0.8230899830220713,\n",
       " 0.8280974232262619,\n",
       " 0.8340095905569901,\n",
       " 0.837137330754352,\n",
       " 0.8439542483660131,\n",
       " 0.8483412322274881,\n",
       " 0.85248953001396,\n",
       " 0.8539269634817409,\n",
       " 0.854109961894393,\n",
       " 0.8582489577129243,\n",
       " 0.8679867986798679,\n",
       " 0.8716617210682492,\n",
       " 0.8785594639865997,\n",
       " 0.8820662768031189,\n",
       " 0.8853575482406356,\n",
       " 0.8867924528301887,\n",
       " 0.8933566433566433,\n",
       " 0.9038461538461539,\n",
       " 0.9084967320261438,\n",
       " 0.9009009009009009,\n",
       " 0.9103448275862069,\n",
       " 0.8913043478260869,\n",
       " 0.9107142857142857,\n",
       " 0.9166666666666666,\n",
       " 0.8888888888888888,\n",
       " 0.8823529411764706,\n",
       " 0.9090909090909091]"
      ]
     },
     "execution_count": 38,
     "metadata": {},
     "output_type": "execute_result"
    }
   ],
   "source": [
    "PosPredVal"
   ]
  },
  {
   "cell_type": "code",
   "execution_count": 30,
   "id": "a51b3ce5",
   "metadata": {},
   "outputs": [],
   "source": [
    "## Next question. what was characteristic of the 217 loans that defaulted??\n",
    "## Get all loans which you predicted greater than 80% and find out which ones defaulted.\n",
    "## Any pattern?????"
   ]
  },
  {
   "cell_type": "code",
   "execution_count": 31,
   "id": "2bb4a848",
   "metadata": {},
   "outputs": [],
   "source": [
    "#Do we drop all observations where the source is not verified? \n",
    "#Do we drop all observations loan amount is greater than half of one's income? "
   ]
  },
  {
   "cell_type": "code",
   "execution_count": null,
   "id": "88205f9a",
   "metadata": {},
   "outputs": [],
   "source": []
  }
 ],
 "metadata": {
  "hide_input": false,
  "kernelspec": {
   "display_name": "Python 3 (ipykernel)",
   "language": "python",
   "name": "python3"
  },
  "language_info": {
   "codemirror_mode": {
    "name": "ipython",
    "version": 3
   },
   "file_extension": ".py",
   "mimetype": "text/x-python",
   "name": "python",
   "nbconvert_exporter": "python",
   "pygments_lexer": "ipython3",
   "version": "3.8.8"
  },
  "varInspector": {
   "cols": {
    "lenName": 16,
    "lenType": 16,
    "lenVar": 40
   },
   "kernels_config": {
    "python": {
     "delete_cmd_postfix": "",
     "delete_cmd_prefix": "del ",
     "library": "var_list.py",
     "varRefreshCmd": "print(var_dic_list())"
    },
    "r": {
     "delete_cmd_postfix": ") ",
     "delete_cmd_prefix": "rm(",
     "library": "var_list.r",
     "varRefreshCmd": "cat(var_dic_list()) "
    }
   },
   "types_to_exclude": [
    "module",
    "function",
    "builtin_function_or_method",
    "instance",
    "_Feature"
   ],
   "window_display": false
  }
 },
 "nbformat": 4,
 "nbformat_minor": 5
}
