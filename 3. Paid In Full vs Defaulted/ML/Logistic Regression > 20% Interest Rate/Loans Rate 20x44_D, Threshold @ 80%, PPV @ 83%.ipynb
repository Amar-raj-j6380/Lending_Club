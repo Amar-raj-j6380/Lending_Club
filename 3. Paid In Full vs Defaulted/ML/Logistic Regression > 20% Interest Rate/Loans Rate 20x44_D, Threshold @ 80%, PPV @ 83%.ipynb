{
 "cells": [
  {
   "cell_type": "code",
   "execution_count": 1,
   "id": "6f4648b5",
   "metadata": {},
   "outputs": [],
   "source": [
    "import pandas as pd\n",
    "import numpy as np\n",
    "import seaborn as sns\n",
    "import copy as cp\n",
    "import matplotlib.pyplot as plt\n",
    "\n",
    "from sklearn.model_selection import cross_val_score, cross_val_predict \n",
    "from sklearn.model_selection import train_test_split\n",
    "from sklearn.model_selection import RepeatedStratifiedKFold\n",
    "from imblearn.pipeline import Pipeline\n",
    "from imblearn.over_sampling import SMOTE\n",
    "\n",
    "from sklearn.linear_model import LogisticRegression\n",
    "from sklearn.metrics import roc_auc_score, roc_curve, precision_recall_curve\n",
    "from sklearn.metrics import confusion_matrix, accuracy_score\n",
    "\n",
    "from typing import Tuple"
   ]
  },
  {
   "cell_type": "code",
   "execution_count": 2,
   "id": "a6b2eaad",
   "metadata": {},
   "outputs": [],
   "source": [
    "pd.set_option(\"display.max_columns\", 200)\n",
    "pd.set_option(\"display.max_row\", 160)\n",
    "pd.set_option('max_colwidth', 200)"
   ]
  },
  {
   "cell_type": "code",
   "execution_count": 3,
   "id": "acc59130",
   "metadata": {},
   "outputs": [
    {
     "data": {
      "text/html": [
       "<div>\n",
       "<style scoped>\n",
       "    .dataframe tbody tr th:only-of-type {\n",
       "        vertical-align: middle;\n",
       "    }\n",
       "\n",
       "    .dataframe tbody tr th {\n",
       "        vertical-align: top;\n",
       "    }\n",
       "\n",
       "    .dataframe thead th {\n",
       "        text-align: right;\n",
       "    }\n",
       "</style>\n",
       "<table border=\"1\" class=\"dataframe\">\n",
       "  <thead>\n",
       "    <tr style=\"text-align: right;\">\n",
       "      <th></th>\n",
       "      <th>loan_amnt</th>\n",
       "      <th>annual_inc</th>\n",
       "      <th>dti</th>\n",
       "      <th>fico_range_low</th>\n",
       "      <th>fico_range_high</th>\n",
       "      <th>int_rate</th>\n",
       "      <th>installment</th>\n",
       "      <th>open_acc</th>\n",
       "      <th>total_acc</th>\n",
       "      <th>revol_bal</th>\n",
       "      <th>inq_last_6mths</th>\n",
       "      <th>delinq_2yrs</th>\n",
       "      <th>acc_now_delinq</th>\n",
       "      <th>collections_12_mths_ex_med</th>\n",
       "      <th>tot_coll_amt</th>\n",
       "      <th>tot_cur_bal</th>\n",
       "      <th>pub_rec</th>\n",
       "      <th>months_cr_line</th>\n",
       "      <th>term</th>\n",
       "      <th>initial_list_status</th>\n",
       "      <th>grade</th>\n",
       "      <th>sub_grade</th>\n",
       "      <th>emp_length</th>\n",
       "      <th>ANY</th>\n",
       "      <th>MORTGAGE</th>\n",
       "      <th>OWN</th>\n",
       "      <th>RENT</th>\n",
       "      <th>car</th>\n",
       "      <th>credit_card</th>\n",
       "      <th>debt_consolidation</th>\n",
       "      <th>home_improvement</th>\n",
       "      <th>house</th>\n",
       "      <th>major_purchase</th>\n",
       "      <th>medical</th>\n",
       "      <th>moving</th>\n",
       "      <th>other</th>\n",
       "      <th>renewable_energy</th>\n",
       "      <th>small_business</th>\n",
       "      <th>vacation</th>\n",
       "      <th>wedding</th>\n",
       "      <th>Not Verified</th>\n",
       "      <th>Source Verified</th>\n",
       "      <th>Verified</th>\n",
       "      <th>loan_status_bin</th>\n",
       "    </tr>\n",
       "  </thead>\n",
       "  <tbody>\n",
       "    <tr>\n",
       "      <th>0</th>\n",
       "      <td>1.511139</td>\n",
       "      <td>-0.223515</td>\n",
       "      <td>0.946930</td>\n",
       "      <td>-0.175524</td>\n",
       "      <td>-0.175524</td>\n",
       "      <td>1.241699</td>\n",
       "      <td>2.175892</td>\n",
       "      <td>-0.088824</td>\n",
       "      <td>0.195374</td>\n",
       "      <td>0.650273</td>\n",
       "      <td>0.162822</td>\n",
       "      <td>-0.392640</td>\n",
       "      <td>-0.060009</td>\n",
       "      <td>-0.142227</td>\n",
       "      <td>-0.013729</td>\n",
       "      <td>0.182902</td>\n",
       "      <td>-0.405876</td>\n",
       "      <td>0.390609</td>\n",
       "      <td>-0.848851</td>\n",
       "      <td>0.698931</td>\n",
       "      <td>0.0</td>\n",
       "      <td>0.655895</td>\n",
       "      <td>1.151668</td>\n",
       "      <td>-0.019956</td>\n",
       "      <td>-0.873672</td>\n",
       "      <td>2.604210</td>\n",
       "      <td>-0.883202</td>\n",
       "      <td>-0.104626</td>\n",
       "      <td>-0.392277</td>\n",
       "      <td>0.812980</td>\n",
       "      <td>-0.245324</td>\n",
       "      <td>-0.105786</td>\n",
       "      <td>-0.161171</td>\n",
       "      <td>-0.131657</td>\n",
       "      <td>-0.115377</td>\n",
       "      <td>-0.338908</td>\n",
       "      <td>-0.033405</td>\n",
       "      <td>-0.126882</td>\n",
       "      <td>-0.093131</td>\n",
       "      <td>-0.042832</td>\n",
       "      <td>-0.520822</td>\n",
       "      <td>-0.774070</td>\n",
       "      <td>1.194790</td>\n",
       "      <td>1.0</td>\n",
       "    </tr>\n",
       "    <tr>\n",
       "      <th>1</th>\n",
       "      <td>0.564527</td>\n",
       "      <td>0.110293</td>\n",
       "      <td>-0.431794</td>\n",
       "      <td>-0.847996</td>\n",
       "      <td>-0.847996</td>\n",
       "      <td>-0.799780</td>\n",
       "      <td>0.213470</td>\n",
       "      <td>0.612170</td>\n",
       "      <td>0.277261</td>\n",
       "      <td>-0.042050</td>\n",
       "      <td>-0.815670</td>\n",
       "      <td>0.687894</td>\n",
       "      <td>-0.060009</td>\n",
       "      <td>-0.142227</td>\n",
       "      <td>-0.013729</td>\n",
       "      <td>-0.011647</td>\n",
       "      <td>-0.405876</td>\n",
       "      <td>-0.805105</td>\n",
       "      <td>1.178063</td>\n",
       "      <td>0.698931</td>\n",
       "      <td>0.0</td>\n",
       "      <td>-1.524634</td>\n",
       "      <td>1.151668</td>\n",
       "      <td>-0.019956</td>\n",
       "      <td>-0.873672</td>\n",
       "      <td>2.604210</td>\n",
       "      <td>-0.883202</td>\n",
       "      <td>-0.104626</td>\n",
       "      <td>-0.392277</td>\n",
       "      <td>-1.230043</td>\n",
       "      <td>-0.245324</td>\n",
       "      <td>9.453027</td>\n",
       "      <td>-0.161171</td>\n",
       "      <td>-0.131657</td>\n",
       "      <td>-0.115377</td>\n",
       "      <td>-0.338908</td>\n",
       "      <td>-0.033405</td>\n",
       "      <td>-0.126882</td>\n",
       "      <td>-0.093131</td>\n",
       "      <td>-0.042832</td>\n",
       "      <td>-0.520822</td>\n",
       "      <td>1.291872</td>\n",
       "      <td>-0.836967</td>\n",
       "      <td>1.0</td>\n",
       "    </tr>\n",
       "    <tr>\n",
       "      <th>2</th>\n",
       "      <td>-0.129656</td>\n",
       "      <td>-0.159138</td>\n",
       "      <td>1.715609</td>\n",
       "      <td>0.945262</td>\n",
       "      <td>0.945262</td>\n",
       "      <td>-0.799780</td>\n",
       "      <td>0.136280</td>\n",
       "      <td>-0.439322</td>\n",
       "      <td>-0.623493</td>\n",
       "      <td>0.354388</td>\n",
       "      <td>-0.815670</td>\n",
       "      <td>-0.392640</td>\n",
       "      <td>-0.060009</td>\n",
       "      <td>-0.142227</td>\n",
       "      <td>-0.013729</td>\n",
       "      <td>-0.534775</td>\n",
       "      <td>-0.405876</td>\n",
       "      <td>-0.549710</td>\n",
       "      <td>-0.848851</td>\n",
       "      <td>0.698931</td>\n",
       "      <td>0.0</td>\n",
       "      <td>-1.524634</td>\n",
       "      <td>-0.361745</td>\n",
       "      <td>-0.019956</td>\n",
       "      <td>-0.873672</td>\n",
       "      <td>-0.383994</td>\n",
       "      <td>1.132244</td>\n",
       "      <td>9.557873</td>\n",
       "      <td>-0.392277</td>\n",
       "      <td>-1.230043</td>\n",
       "      <td>-0.245324</td>\n",
       "      <td>-0.105786</td>\n",
       "      <td>-0.161171</td>\n",
       "      <td>-0.131657</td>\n",
       "      <td>-0.115377</td>\n",
       "      <td>-0.338908</td>\n",
       "      <td>-0.033405</td>\n",
       "      <td>-0.126882</td>\n",
       "      <td>-0.093131</td>\n",
       "      <td>-0.042832</td>\n",
       "      <td>-0.520822</td>\n",
       "      <td>-0.774070</td>\n",
       "      <td>1.194790</td>\n",
       "      <td>0.0</td>\n",
       "    </tr>\n",
       "    <tr>\n",
       "      <th>3</th>\n",
       "      <td>-0.066548</td>\n",
       "      <td>0.044724</td>\n",
       "      <td>-0.397967</td>\n",
       "      <td>-0.175524</td>\n",
       "      <td>-0.175524</td>\n",
       "      <td>-0.799780</td>\n",
       "      <td>-0.326487</td>\n",
       "      <td>0.436922</td>\n",
       "      <td>1.096127</td>\n",
       "      <td>-0.415254</td>\n",
       "      <td>-0.815670</td>\n",
       "      <td>1.768427</td>\n",
       "      <td>-0.060009</td>\n",
       "      <td>-0.142227</td>\n",
       "      <td>-0.013729</td>\n",
       "      <td>1.500886</td>\n",
       "      <td>-0.405876</td>\n",
       "      <td>0.297738</td>\n",
       "      <td>1.178063</td>\n",
       "      <td>0.698931</td>\n",
       "      <td>0.0</td>\n",
       "      <td>-1.524634</td>\n",
       "      <td>1.151668</td>\n",
       "      <td>-0.019956</td>\n",
       "      <td>1.144595</td>\n",
       "      <td>-0.383994</td>\n",
       "      <td>-0.883202</td>\n",
       "      <td>-0.104626</td>\n",
       "      <td>-0.392277</td>\n",
       "      <td>0.812980</td>\n",
       "      <td>-0.245324</td>\n",
       "      <td>-0.105786</td>\n",
       "      <td>-0.161171</td>\n",
       "      <td>-0.131657</td>\n",
       "      <td>-0.115377</td>\n",
       "      <td>-0.338908</td>\n",
       "      <td>-0.033405</td>\n",
       "      <td>-0.126882</td>\n",
       "      <td>-0.093131</td>\n",
       "      <td>-0.042832</td>\n",
       "      <td>-0.520822</td>\n",
       "      <td>1.291872</td>\n",
       "      <td>-0.836967</td>\n",
       "      <td>0.0</td>\n",
       "    </tr>\n",
       "    <tr>\n",
       "      <th>4</th>\n",
       "      <td>1.511139</td>\n",
       "      <td>-0.151985</td>\n",
       "      <td>0.534013</td>\n",
       "      <td>0.496947</td>\n",
       "      <td>0.496947</td>\n",
       "      <td>1.241699</td>\n",
       "      <td>2.175892</td>\n",
       "      <td>0.787419</td>\n",
       "      <td>1.423674</td>\n",
       "      <td>1.199929</td>\n",
       "      <td>2.119807</td>\n",
       "      <td>0.687894</td>\n",
       "      <td>-0.060009</td>\n",
       "      <td>-0.142227</td>\n",
       "      <td>-0.013729</td>\n",
       "      <td>-0.541927</td>\n",
       "      <td>-0.405876</td>\n",
       "      <td>0.100387</td>\n",
       "      <td>-0.848851</td>\n",
       "      <td>0.698931</td>\n",
       "      <td>0.0</td>\n",
       "      <td>0.655895</td>\n",
       "      <td>1.151668</td>\n",
       "      <td>-0.019956</td>\n",
       "      <td>1.144595</td>\n",
       "      <td>-0.383994</td>\n",
       "      <td>-0.883202</td>\n",
       "      <td>-0.104626</td>\n",
       "      <td>-0.392277</td>\n",
       "      <td>-1.230043</td>\n",
       "      <td>-0.245324</td>\n",
       "      <td>-0.105786</td>\n",
       "      <td>-0.161171</td>\n",
       "      <td>-0.131657</td>\n",
       "      <td>-0.115377</td>\n",
       "      <td>2.950650</td>\n",
       "      <td>-0.033405</td>\n",
       "      <td>-0.126882</td>\n",
       "      <td>-0.093131</td>\n",
       "      <td>-0.042832</td>\n",
       "      <td>-0.520822</td>\n",
       "      <td>1.291872</td>\n",
       "      <td>-0.836967</td>\n",
       "      <td>0.0</td>\n",
       "    </tr>\n",
       "  </tbody>\n",
       "</table>\n",
       "</div>"
      ],
      "text/plain": [
       "   loan_amnt  annual_inc       dti  fico_range_low  fico_range_high  int_rate  \\\n",
       "0   1.511139   -0.223515  0.946930       -0.175524        -0.175524  1.241699   \n",
       "1   0.564527    0.110293 -0.431794       -0.847996        -0.847996 -0.799780   \n",
       "2  -0.129656   -0.159138  1.715609        0.945262         0.945262 -0.799780   \n",
       "3  -0.066548    0.044724 -0.397967       -0.175524        -0.175524 -0.799780   \n",
       "4   1.511139   -0.151985  0.534013        0.496947         0.496947  1.241699   \n",
       "\n",
       "   installment  open_acc  total_acc  revol_bal  inq_last_6mths  delinq_2yrs  \\\n",
       "0     2.175892 -0.088824   0.195374   0.650273        0.162822    -0.392640   \n",
       "1     0.213470  0.612170   0.277261  -0.042050       -0.815670     0.687894   \n",
       "2     0.136280 -0.439322  -0.623493   0.354388       -0.815670    -0.392640   \n",
       "3    -0.326487  0.436922   1.096127  -0.415254       -0.815670     1.768427   \n",
       "4     2.175892  0.787419   1.423674   1.199929        2.119807     0.687894   \n",
       "\n",
       "   acc_now_delinq  collections_12_mths_ex_med  tot_coll_amt  tot_cur_bal  \\\n",
       "0       -0.060009                   -0.142227     -0.013729     0.182902   \n",
       "1       -0.060009                   -0.142227     -0.013729    -0.011647   \n",
       "2       -0.060009                   -0.142227     -0.013729    -0.534775   \n",
       "3       -0.060009                   -0.142227     -0.013729     1.500886   \n",
       "4       -0.060009                   -0.142227     -0.013729    -0.541927   \n",
       "\n",
       "    pub_rec  months_cr_line      term  initial_list_status  grade  sub_grade  \\\n",
       "0 -0.405876        0.390609 -0.848851             0.698931    0.0   0.655895   \n",
       "1 -0.405876       -0.805105  1.178063             0.698931    0.0  -1.524634   \n",
       "2 -0.405876       -0.549710 -0.848851             0.698931    0.0  -1.524634   \n",
       "3 -0.405876        0.297738  1.178063             0.698931    0.0  -1.524634   \n",
       "4 -0.405876        0.100387 -0.848851             0.698931    0.0   0.655895   \n",
       "\n",
       "   emp_length       ANY  MORTGAGE       OWN      RENT       car  credit_card  \\\n",
       "0    1.151668 -0.019956 -0.873672  2.604210 -0.883202 -0.104626    -0.392277   \n",
       "1    1.151668 -0.019956 -0.873672  2.604210 -0.883202 -0.104626    -0.392277   \n",
       "2   -0.361745 -0.019956 -0.873672 -0.383994  1.132244  9.557873    -0.392277   \n",
       "3    1.151668 -0.019956  1.144595 -0.383994 -0.883202 -0.104626    -0.392277   \n",
       "4    1.151668 -0.019956  1.144595 -0.383994 -0.883202 -0.104626    -0.392277   \n",
       "\n",
       "   debt_consolidation  home_improvement     house  major_purchase   medical  \\\n",
       "0            0.812980         -0.245324 -0.105786       -0.161171 -0.131657   \n",
       "1           -1.230043         -0.245324  9.453027       -0.161171 -0.131657   \n",
       "2           -1.230043         -0.245324 -0.105786       -0.161171 -0.131657   \n",
       "3            0.812980         -0.245324 -0.105786       -0.161171 -0.131657   \n",
       "4           -1.230043         -0.245324 -0.105786       -0.161171 -0.131657   \n",
       "\n",
       "     moving     other  renewable_energy  small_business  vacation   wedding  \\\n",
       "0 -0.115377 -0.338908         -0.033405       -0.126882 -0.093131 -0.042832   \n",
       "1 -0.115377 -0.338908         -0.033405       -0.126882 -0.093131 -0.042832   \n",
       "2 -0.115377 -0.338908         -0.033405       -0.126882 -0.093131 -0.042832   \n",
       "3 -0.115377 -0.338908         -0.033405       -0.126882 -0.093131 -0.042832   \n",
       "4 -0.115377  2.950650         -0.033405       -0.126882 -0.093131 -0.042832   \n",
       "\n",
       "   Not Verified  Source Verified  Verified  loan_status_bin  \n",
       "0     -0.520822        -0.774070  1.194790              1.0  \n",
       "1     -0.520822         1.291872 -0.836967              1.0  \n",
       "2     -0.520822        -0.774070  1.194790              0.0  \n",
       "3     -0.520822         1.291872 -0.836967              0.0  \n",
       "4     -0.520822         1.291872 -0.836967              0.0  "
      ]
     },
     "execution_count": 3,
     "metadata": {},
     "output_type": "execute_result"
    }
   ],
   "source": [
    "data = pd.read_csv('../../Data/20x44_D.csv')\n",
    "data.head(5)"
   ]
  },
  {
   "cell_type": "code",
   "execution_count": 4,
   "id": "771565fb",
   "metadata": {},
   "outputs": [
    {
     "data": {
      "text/plain": [
       "(12560, 44)"
      ]
     },
     "execution_count": 4,
     "metadata": {},
     "output_type": "execute_result"
    }
   ],
   "source": [
    "data.shape"
   ]
  },
  {
   "cell_type": "code",
   "execution_count": 5,
   "id": "74758ddc",
   "metadata": {},
   "outputs": [
    {
     "data": {
      "text/plain": [
       "1.0    8447\n",
       "0.0    4113\n",
       "Name: loan_status_bin, dtype: int64"
      ]
     },
     "execution_count": 5,
     "metadata": {},
     "output_type": "execute_result"
    }
   ],
   "source": [
    "data.loan_status_bin.value_counts()\n",
    "#0 = Defaulted Loans\n",
    "#1 = Loans Paid In Full"
   ]
  },
  {
   "cell_type": "code",
   "execution_count": 6,
   "id": "b9a9c6be",
   "metadata": {},
   "outputs": [
    {
     "data": {
      "text/plain": [
       "(12560, 43)"
      ]
     },
     "execution_count": 6,
     "metadata": {},
     "output_type": "execute_result"
    }
   ],
   "source": [
    "X = data.drop('loan_status_bin', axis=1)\n",
    "X.shape"
   ]
  },
  {
   "cell_type": "code",
   "execution_count": 7,
   "id": "0559962b",
   "metadata": {},
   "outputs": [],
   "source": [
    "y = data['loan_status_bin']"
   ]
  },
  {
   "cell_type": "code",
   "execution_count": 8,
   "id": "9b1bb6de",
   "metadata": {},
   "outputs": [],
   "source": [
    "lr1 = LogisticRegression()"
   ]
  },
  {
   "cell_type": "code",
   "execution_count": 9,
   "id": "e9e711e2",
   "metadata": {},
   "outputs": [],
   "source": [
    "steps = [('model', lr1)]\n",
    "pipeline = Pipeline(steps=steps)"
   ]
  },
  {
   "cell_type": "code",
   "execution_count": 10,
   "id": "fb714eeb",
   "metadata": {},
   "outputs": [
    {
     "name": "stdout",
     "output_type": "stream",
     "text": [
      "[0.67197452 0.67396497 0.67834395 0.67157643 0.66998408]\n",
      "0.6731687898089171\n"
     ]
    }
   ],
   "source": [
    "#Accuracy:\n",
    "\n",
    "cv = RepeatedStratifiedKFold(n_splits=5, n_repeats=1, random_state=1)\n",
    "scores = cross_val_score(pipeline, X, y, scoring='accuracy', cv=cv, n_jobs=-1) \n",
    "print(scores)\n",
    "\n",
    "score = np.mean(scores)\n",
    "print(score)"
   ]
  },
  {
   "cell_type": "code",
   "execution_count": 11,
   "id": "9db484eb",
   "metadata": {},
   "outputs": [
    {
     "data": {
      "text/plain": [
       "array([[ 258, 3855],\n",
       "       [ 250, 8197]])"
      ]
     },
     "execution_count": 11,
     "metadata": {},
     "output_type": "execute_result"
    }
   ],
   "source": [
    "#Aggregated Confusion Matrix From RepeatedStratifiedKFold: \n",
    "y_pred = cross_val_predict(pipeline, X, y, cv=cv, n_jobs=-1)\n",
    "conf_mat = confusion_matrix(y, y_pred)\n",
    "conf_mat"
   ]
  },
  {
   "cell_type": "code",
   "execution_count": 12,
   "id": "cd14efda",
   "metadata": {},
   "outputs": [
    {
     "data": {
      "image/png": "[encoded data removed]",
      "text/plain": [
       "<Figure size 864x432 with 1 Axes>"
      ]
     },
     "metadata": {},
     "output_type": "display_data"
    }
   ],
   "source": [
    "sns.set(rc = {'figure.figsize':(12,6)})\n",
    "#cmap = sns.cubehelix_palette(start=2, rot=0, dark=0, light=.95, reverse=True, as_cmap=True)\n",
    "cmap = sns.light_palette('seagreen', as_cmap=True)\n",
    "\n",
    "res = sns.heatmap(conf_mat, annot=True, fmt='d', annot_kws={\"size\":20},\n",
    "#            xticklabels = ['Good = Paid In Full', 'Bad = Default'],\n",
    "#            yticklabels = ['Loan Paid In Full', 'Bad = Default'], \n",
    "            cmap=cmap, cbar=False)\n",
    "\n",
    "res.set_xticklabels(['Loan Default', 'Loan Repaid'], fontsize=15)\n",
    "res.set_yticklabels(['Loan Default', 'Loan Repaid'], fontsize=15)\n",
    "\n",
    "\n",
    "plt.title('Confusion Matrix For Logistic Regression', fontsize=25, pad=15)\n",
    "plt.xlabel('Predicted', fontsize=20)\n",
    "plt.ylabel('Actual', fontsize=20);"
   ]
  },
  {
   "cell_type": "code",
   "execution_count": 13,
   "id": "345a55b6",
   "metadata": {},
   "outputs": [
    {
     "data": {
      "text/plain": [
       "0.6731687898089171"
      ]
     },
     "execution_count": 13,
     "metadata": {},
     "output_type": "execute_result"
    }
   ],
   "source": [
    "accuracy_score(y, y_pred)"
   ]
  },
  {
   "cell_type": "code",
   "execution_count": 14,
   "id": "22662a59",
   "metadata": {},
   "outputs": [
    {
     "name": "stdout",
     "output_type": "stream",
     "text": [
      "8197\n",
      "3855\n",
      "250\n",
      "258\n",
      "0.6731687898089171\n"
     ]
    }
   ],
   "source": [
    "TN, FP, FN, TP = conf_mat.ravel()\n",
    "print(TP)\n",
    "print(FP)\n",
    "print(FN)\n",
    "print(TN)\n",
    "print((TP + TN) / (TN + TP + FP + FN))"
   ]
  },
  {
   "cell_type": "code",
   "execution_count": null,
   "id": "4dcedec5",
   "metadata": {},
   "outputs": [],
   "source": []
  },
  {
   "cell_type": "code",
   "execution_count": 15,
   "id": "36dec5fa",
   "metadata": {},
   "outputs": [
    {
     "name": "stdout",
     "output_type": "stream",
     "text": [
      "1.0    8447\n",
      "0.0    4113\n",
      "Name: loan_status_bin, dtype: int64\n",
      "\n",
      "0.6725318471337579\n"
     ]
    }
   ],
   "source": [
    "#Re-examine original pool of accepted LC Loans: \n",
    "\n",
    "print(data.loan_status_bin.value_counts())\n",
    "#0 = Loan Defaulted\n",
    "#1 = Loan Fully Paid\n",
    "\n",
    "good_loan = data.loan_status_bin.value_counts()[1]\n",
    "bad_loan = data.loan_status_bin.value_counts()[0]\n",
    "\n",
    "print()\n",
    "print(good_loan / (good_loan + bad_loan))\n",
    "\n",
    "#Random investment would give us 59% chance of pickkng a good loan"
   ]
  },
  {
   "cell_type": "code",
   "execution_count": 17,
   "id": "9be4be5d",
   "metadata": {},
   "outputs": [
    {
     "data": {
      "text/plain": [
       "0.6801360769996682"
      ]
     },
     "execution_count": 17,
     "metadata": {},
     "output_type": "execute_result"
    }
   ],
   "source": [
    "#Positive Predictive Value (or Precision)\n",
    "#Logistic Model only does 3% better than Null Model or \"random investment\"\n",
    "TP / (TP+FP)"
   ]
  },
  {
   "cell_type": "code",
   "execution_count": null,
   "id": "33d49ed8",
   "metadata": {},
   "outputs": [],
   "source": []
  },
  {
   "cell_type": "code",
   "execution_count": 18,
   "id": "3e6f9d5f",
   "metadata": {},
   "outputs": [],
   "source": [
    "#Obtain predicted probabilities (not predicted classes) from RSKF: \n",
    "y_pred_prob = cross_val_predict(pipeline, X, y, cv=cv, n_jobs=-1, method='predict_proba')"
   ]
  },
  {
   "cell_type": "code",
   "execution_count": 19,
   "id": "9f850d5b",
   "metadata": {},
   "outputs": [
    {
     "data": {
      "text/plain": [
       "array([[0.49695751, 0.50304249],\n",
       "       [0.33908825, 0.66091175],\n",
       "       [0.46565151, 0.53434849],\n",
       "       ...,\n",
       "       [0.29630201, 0.70369799],\n",
       "       [0.32798561, 0.67201439],\n",
       "       [0.18728423, 0.81271577]])"
      ]
     },
     "execution_count": 19,
     "metadata": {},
     "output_type": "execute_result"
    }
   ],
   "source": [
    "y_pred_prob"
   ]
  },
  {
   "cell_type": "code",
   "execution_count": 20,
   "id": "973f2937",
   "metadata": {},
   "outputs": [
    {
     "data": {
      "text/plain": [
       "array([0., 0., 0., ..., 0., 0., 1.])"
      ]
     },
     "execution_count": 20,
     "metadata": {},
     "output_type": "execute_result"
    }
   ],
   "source": [
    "#Obtaining classification based on desired threshold of 0.8: \n",
    "\n",
    "y_pred_success = (y_pred_prob[:, 1] > 0.8).astype('float')\n",
    "y_pred_success"
   ]
  },
  {
   "cell_type": "code",
   "execution_count": 21,
   "id": "686a5f94",
   "metadata": {},
   "outputs": [
    {
     "data": {
      "text/plain": [
       "array([[3939,  174],\n",
       "       [7598,  849]])"
      ]
     },
     "execution_count": 21,
     "metadata": {},
     "output_type": "execute_result"
    }
   ],
   "source": [
    "conf_mat = confusion_matrix(y, y_pred_success)\n",
    "conf_mat"
   ]
  },
  {
   "cell_type": "code",
   "execution_count": 22,
   "id": "6c050cfb",
   "metadata": {},
   "outputs": [
    {
     "data": {
      "image/png": "[encoded data removed]",
      "text/plain": [
       "<Figure size 864x432 with 1 Axes>"
      ]
     },
     "metadata": {},
     "output_type": "display_data"
    }
   ],
   "source": [
    "sns.set(rc = {'figure.figsize':(12,6)})\n",
    "#cmap = sns.cubehelix_palette(start=2, rot=0, dark=0, light=.95, reverse=True, as_cmap=True)\n",
    "cmap = sns.light_palette('seagreen', as_cmap=True)\n",
    "\n",
    "res = sns.heatmap(conf_mat, annot=True, fmt='d', annot_kws={\"size\":20},\n",
    "#            xticklabels = ['Good = Paid In Full', 'Bad = Default'],\n",
    "#            yticklabels = ['Loan Paid In Full', 'Bad = Default'], \n",
    "            cmap=cmap, cbar=False)\n",
    "\n",
    "res.set_xticklabels(['Loan Default', 'Loan Repaid'], fontsize=15)\n",
    "res.set_yticklabels(['Loan Default', 'Loan Repaid'], fontsize=15)\n",
    "\n",
    "\n",
    "plt.title('Confusion Matrix For Logistic Regression', fontsize=25, pad=15)\n",
    "plt.xlabel('Predicted', fontsize=20)\n",
    "plt.ylabel('Actual', fontsize=20);"
   ]
  },
  {
   "cell_type": "code",
   "execution_count": 23,
   "id": "c5dc62cd",
   "metadata": {},
   "outputs": [
    {
     "data": {
      "text/plain": [
       "0.3812101910828026"
      ]
     },
     "execution_count": 23,
     "metadata": {},
     "output_type": "execute_result"
    }
   ],
   "source": [
    "accuracy_score(y, y_pred_success)"
   ]
  },
  {
   "cell_type": "code",
   "execution_count": 24,
   "id": "25920782",
   "metadata": {},
   "outputs": [
    {
     "name": "stdout",
     "output_type": "stream",
     "text": [
      "849\n",
      "174\n",
      "7598\n",
      "3939\n",
      "0.3812101910828026\n"
     ]
    }
   ],
   "source": [
    "TN, FP, FN, TP = conf_mat.ravel()\n",
    "print(TP)\n",
    "print(FP)\n",
    "print(FN)\n",
    "print(TN)\n",
    "print((TP + TN) / (TN + TP + FP + FN))"
   ]
  },
  {
   "cell_type": "code",
   "execution_count": 25,
   "id": "67e15484",
   "metadata": {},
   "outputs": [
    {
     "data": {
      "text/plain": [
       "0.8299120234604106"
      ]
     },
     "execution_count": 25,
     "metadata": {},
     "output_type": "execute_result"
    }
   ],
   "source": [
    "#Positive Predictive Value (or Precision)\n",
    "#Logistic Model only does 3% better than Null Model or \"random investment\"\n",
    "TP / (TP+FP)"
   ]
  },
  {
   "cell_type": "code",
   "execution_count": null,
   "id": "a51b3ce5",
   "metadata": {},
   "outputs": [],
   "source": [
    "## Next question. what was characteristic of the 217 loans that defaulted??\n",
    "## Get all loans which you predicted greater than 80% and find out which ones defaulted.\n",
    "## Any pattern?????"
   ]
  },
  {
   "cell_type": "code",
   "execution_count": null,
   "id": "2bb4a848",
   "metadata": {},
   "outputs": [],
   "source": [
    "#Do we drop all observations where the source is not verified? \n",
    "#Do we drop all observations loan amount is greater than half of one's income? "
   ]
  },
  {
   "cell_type": "code",
   "execution_count": null,
   "id": "88205f9a",
   "metadata": {},
   "outputs": [],
   "source": []
  }
 ],
 "metadata": {
  "hide_input": false,
  "kernelspec": {
   "display_name": "Python 3 (ipykernel)",
   "language": "python",
   "name": "python3"
  },
  "language_info": {
   "codemirror_mode": {
    "name": "ipython",
    "version": 3
   },
   "file_extension": ".py",
   "mimetype": "text/x-python",
   "name": "python",
   "nbconvert_exporter": "python",
   "pygments_lexer": "ipython3",
   "version": "3.8.8"
  },
  "varInspector": {
   "cols": {
    "lenName": 16,
    "lenType": 16,
    "lenVar": 40
   },
   "kernels_config": {
    "python": {
     "delete_cmd_postfix": "",
     "delete_cmd_prefix": "del ",
     "library": "var_list.py",
     "varRefreshCmd": "print(var_dic_list())"
    },
    "r": {
     "delete_cmd_postfix": ") ",
     "delete_cmd_prefix": "rm(",
     "library": "var_list.r",
     "varRefreshCmd": "cat(var_dic_list()) "
    }
   },
   "types_to_exclude": [
    "module",
    "function",
    "builtin_function_or_method",
    "instance",
    "_Feature"
   ],
   "window_display": false
  }
 },
 "nbformat": 4,
 "nbformat_minor": 5
}
