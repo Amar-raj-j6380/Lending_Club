{
 "cells": [
  {
   "cell_type": "code",
   "execution_count": 1,
   "id": "30e2b461",
   "metadata": {},
   "outputs": [],
   "source": [
    "import pandas as pd\n",
    "import numpy as np\n",
    "import seaborn as sns\n",
    "import copy as cp\n",
    "import matplotlib.pyplot as plt\n",
    "\n",
    "from sklearn.model_selection import cross_val_score, cross_val_predict \n",
    "from sklearn.model_selection import train_test_split\n",
    "from sklearn.model_selection import RepeatedStratifiedKFold\n",
    "from imblearn.pipeline import Pipeline\n",
    "from imblearn.over_sampling import SMOTE\n",
    "\n",
    "from sklearn.linear_model import LogisticRegression\n",
    "from sklearn.metrics import roc_auc_score, roc_curve, precision_recall_curve\n",
    "from sklearn.metrics import confusion_matrix, accuracy_score\n",
    "\n",
    "from typing import Tuple"
   ]
  },
  {
   "cell_type": "code",
   "execution_count": 51,
   "id": "eb043ff5",
   "metadata": {},
   "outputs": [],
   "source": [
    "pd.set_option(\"display.max_columns\", 200)\n",
    "pd.set_option(\"display.max_row\", 160)\n",
    "pd.set_option('max_colwidth', 200)"
   ]
  },
  {
   "cell_type": "code",
   "execution_count": null,
   "id": "a01c010c",
   "metadata": {},
   "outputs": [],
   "source": []
  },
  {
   "cell_type": "code",
   "execution_count": 22,
   "id": "cb390881",
   "metadata": {},
   "outputs": [
    {
     "data": {
      "text/html": [
       "<div>\n",
       "<style scoped>\n",
       "    .dataframe tbody tr th:only-of-type {\n",
       "        vertical-align: middle;\n",
       "    }\n",
       "\n",
       "    .dataframe tbody tr th {\n",
       "        vertical-align: top;\n",
       "    }\n",
       "\n",
       "    .dataframe thead th {\n",
       "        text-align: right;\n",
       "    }\n",
       "</style>\n",
       "<table border=\"1\" class=\"dataframe\">\n",
       "  <thead>\n",
       "    <tr style=\"text-align: right;\">\n",
       "      <th></th>\n",
       "      <th>loan_amnt</th>\n",
       "      <th>int_rate</th>\n",
       "      <th>installment</th>\n",
       "      <th>annual_inc</th>\n",
       "      <th>dti</th>\n",
       "      <th>fico_range_low</th>\n",
       "      <th>loan_status_bin</th>\n",
       "      <th>pub_rec</th>\n",
       "      <th>term</th>\n",
       "      <th>grade</th>\n",
       "      <th>emp_length</th>\n",
       "      <th>Not Verified</th>\n",
       "      <th>Source Verified</th>\n",
       "      <th>Verified</th>\n",
       "      <th>ANY</th>\n",
       "      <th>MORTGAGE</th>\n",
       "      <th>NONE</th>\n",
       "      <th>OTHER</th>\n",
       "      <th>OWN</th>\n",
       "      <th>RENT</th>\n",
       "    </tr>\n",
       "  </thead>\n",
       "  <tbody>\n",
       "    <tr>\n",
       "      <th>0</th>\n",
       "      <td>10400.0</td>\n",
       "      <td>22.45</td>\n",
       "      <td>289.91</td>\n",
       "      <td>104433.0</td>\n",
       "      <td>25.37</td>\n",
       "      <td>695.0</td>\n",
       "      <td>1.0</td>\n",
       "      <td>0.0</td>\n",
       "      <td>1</td>\n",
       "      <td>2</td>\n",
       "      <td>4</td>\n",
       "      <td>0</td>\n",
       "      <td>1</td>\n",
       "      <td>0</td>\n",
       "      <td>0</td>\n",
       "      <td>1</td>\n",
       "      <td>0</td>\n",
       "      <td>0</td>\n",
       "      <td>0</td>\n",
       "      <td>0</td>\n",
       "    </tr>\n",
       "    <tr>\n",
       "      <th>1</th>\n",
       "      <td>24250.0</td>\n",
       "      <td>24.24</td>\n",
       "      <td>701.01</td>\n",
       "      <td>75000.0</td>\n",
       "      <td>20.84</td>\n",
       "      <td>660.0</td>\n",
       "      <td>0.0</td>\n",
       "      <td>0.0</td>\n",
       "      <td>1</td>\n",
       "      <td>2</td>\n",
       "      <td>5</td>\n",
       "      <td>1</td>\n",
       "      <td>0</td>\n",
       "      <td>0</td>\n",
       "      <td>0</td>\n",
       "      <td>1</td>\n",
       "      <td>0</td>\n",
       "      <td>0</td>\n",
       "      <td>0</td>\n",
       "      <td>0</td>\n",
       "    </tr>\n",
       "    <tr>\n",
       "      <th>2</th>\n",
       "      <td>15850.0</td>\n",
       "      <td>23.13</td>\n",
       "      <td>448.01</td>\n",
       "      <td>45000.0</td>\n",
       "      <td>34.85</td>\n",
       "      <td>755.0</td>\n",
       "      <td>1.0</td>\n",
       "      <td>0.0</td>\n",
       "      <td>1</td>\n",
       "      <td>2</td>\n",
       "      <td>11</td>\n",
       "      <td>1</td>\n",
       "      <td>0</td>\n",
       "      <td>0</td>\n",
       "      <td>0</td>\n",
       "      <td>0</td>\n",
       "      <td>0</td>\n",
       "      <td>0</td>\n",
       "      <td>1</td>\n",
       "      <td>0</td>\n",
       "    </tr>\n",
       "    <tr>\n",
       "      <th>3</th>\n",
       "      <td>23100.0</td>\n",
       "      <td>20.50</td>\n",
       "      <td>618.46</td>\n",
       "      <td>110000.0</td>\n",
       "      <td>20.43</td>\n",
       "      <td>660.0</td>\n",
       "      <td>0.0</td>\n",
       "      <td>0.0</td>\n",
       "      <td>1</td>\n",
       "      <td>1</td>\n",
       "      <td>3</td>\n",
       "      <td>1</td>\n",
       "      <td>0</td>\n",
       "      <td>0</td>\n",
       "      <td>0</td>\n",
       "      <td>0</td>\n",
       "      <td>0</td>\n",
       "      <td>0</td>\n",
       "      <td>1</td>\n",
       "      <td>0</td>\n",
       "    </tr>\n",
       "    <tr>\n",
       "      <th>4</th>\n",
       "      <td>35000.0</td>\n",
       "      <td>20.50</td>\n",
       "      <td>937.06</td>\n",
       "      <td>120000.0</td>\n",
       "      <td>35.69</td>\n",
       "      <td>700.0</td>\n",
       "      <td>1.0</td>\n",
       "      <td>0.0</td>\n",
       "      <td>1</td>\n",
       "      <td>1</td>\n",
       "      <td>9</td>\n",
       "      <td>0</td>\n",
       "      <td>1</td>\n",
       "      <td>0</td>\n",
       "      <td>0</td>\n",
       "      <td>1</td>\n",
       "      <td>0</td>\n",
       "      <td>0</td>\n",
       "      <td>0</td>\n",
       "      <td>0</td>\n",
       "    </tr>\n",
       "  </tbody>\n",
       "</table>\n",
       "</div>"
      ],
      "text/plain": [
       "   loan_amnt  int_rate  installment  annual_inc    dti  fico_range_low  \\\n",
       "0    10400.0     22.45       289.91    104433.0  25.37           695.0   \n",
       "1    24250.0     24.24       701.01     75000.0  20.84           660.0   \n",
       "2    15850.0     23.13       448.01     45000.0  34.85           755.0   \n",
       "3    23100.0     20.50       618.46    110000.0  20.43           660.0   \n",
       "4    35000.0     20.50       937.06    120000.0  35.69           700.0   \n",
       "\n",
       "   loan_status_bin  pub_rec  term  grade  emp_length  Not Verified  \\\n",
       "0              1.0      0.0     1      2           4             0   \n",
       "1              0.0      0.0     1      2           5             1   \n",
       "2              1.0      0.0     1      2          11             1   \n",
       "3              0.0      0.0     1      1           3             1   \n",
       "4              1.0      0.0     1      1           9             0   \n",
       "\n",
       "   Source Verified  Verified  ANY  MORTGAGE  NONE  OTHER  OWN  RENT  \n",
       "0                1         0    0         1     0      0    0     0  \n",
       "1                0         0    0         1     0      0    0     0  \n",
       "2                0         0    0         0     0      0    1     0  \n",
       "3                0         0    0         0     0      0    1     0  \n",
       "4                1         0    0         1     0      0    0     0  "
      ]
     },
     "execution_count": 22,
     "metadata": {},
     "output_type": "execute_result"
    }
   ],
   "source": [
    "unscaled = pd.read_csv('../Data/20%_Loans_12_feat_unscaled.csv')\n",
    "unscaled.head(5)"
   ]
  },
  {
   "cell_type": "code",
   "execution_count": 23,
   "id": "ec024397",
   "metadata": {},
   "outputs": [
    {
     "data": {
      "text/plain": [
       "(110074, 20)"
      ]
     },
     "execution_count": 23,
     "metadata": {},
     "output_type": "execute_result"
    }
   ],
   "source": [
    "unscaled.shape"
   ]
  },
  {
   "cell_type": "code",
   "execution_count": null,
   "id": "c62dab56",
   "metadata": {},
   "outputs": [],
   "source": []
  },
  {
   "cell_type": "code",
   "execution_count": 79,
   "id": "8ef08199",
   "metadata": {},
   "outputs": [
    {
     "data": {
      "text/html": [
       "<div>\n",
       "<style scoped>\n",
       "    .dataframe tbody tr th:only-of-type {\n",
       "        vertical-align: middle;\n",
       "    }\n",
       "\n",
       "    .dataframe tbody tr th {\n",
       "        vertical-align: top;\n",
       "    }\n",
       "\n",
       "    .dataframe thead th {\n",
       "        text-align: right;\n",
       "    }\n",
       "</style>\n",
       "<table border=\"1\" class=\"dataframe\">\n",
       "  <thead>\n",
       "    <tr style=\"text-align: right;\">\n",
       "      <th></th>\n",
       "      <th>loan_amnt</th>\n",
       "      <th>int_rate</th>\n",
       "      <th>installment</th>\n",
       "      <th>annual_inc</th>\n",
       "      <th>dti</th>\n",
       "      <th>fico_range_low</th>\n",
       "      <th>loan_status_bin</th>\n",
       "      <th>pub_rec</th>\n",
       "      <th>term</th>\n",
       "      <th>grade</th>\n",
       "      <th>emp_length</th>\n",
       "      <th>ANY</th>\n",
       "      <th>MORTGAGE</th>\n",
       "      <th>NONE</th>\n",
       "      <th>OTHER</th>\n",
       "      <th>OWN</th>\n",
       "      <th>RENT</th>\n",
       "    </tr>\n",
       "  </thead>\n",
       "  <tbody>\n",
       "    <tr>\n",
       "      <th>0</th>\n",
       "      <td>10400.0</td>\n",
       "      <td>22.45</td>\n",
       "      <td>289.91</td>\n",
       "      <td>104433.0</td>\n",
       "      <td>25.37</td>\n",
       "      <td>695.0</td>\n",
       "      <td>1.0</td>\n",
       "      <td>0.0</td>\n",
       "      <td>1</td>\n",
       "      <td>2</td>\n",
       "      <td>4</td>\n",
       "      <td>0</td>\n",
       "      <td>1</td>\n",
       "      <td>0</td>\n",
       "      <td>0</td>\n",
       "      <td>0</td>\n",
       "      <td>0</td>\n",
       "    </tr>\n",
       "    <tr>\n",
       "      <th>1</th>\n",
       "      <td>35000.0</td>\n",
       "      <td>20.50</td>\n",
       "      <td>937.06</td>\n",
       "      <td>120000.0</td>\n",
       "      <td>35.69</td>\n",
       "      <td>700.0</td>\n",
       "      <td>1.0</td>\n",
       "      <td>0.0</td>\n",
       "      <td>1</td>\n",
       "      <td>1</td>\n",
       "      <td>9</td>\n",
       "      <td>0</td>\n",
       "      <td>1</td>\n",
       "      <td>0</td>\n",
       "      <td>0</td>\n",
       "      <td>0</td>\n",
       "      <td>0</td>\n",
       "    </tr>\n",
       "    <tr>\n",
       "      <th>2</th>\n",
       "      <td>25825.0</td>\n",
       "      <td>26.06</td>\n",
       "      <td>774.14</td>\n",
       "      <td>68000.0</td>\n",
       "      <td>31.68</td>\n",
       "      <td>675.0</td>\n",
       "      <td>0.0</td>\n",
       "      <td>0.0</td>\n",
       "      <td>1</td>\n",
       "      <td>2</td>\n",
       "      <td>7</td>\n",
       "      <td>0</td>\n",
       "      <td>0</td>\n",
       "      <td>0</td>\n",
       "      <td>0</td>\n",
       "      <td>0</td>\n",
       "      <td>1</td>\n",
       "    </tr>\n",
       "    <tr>\n",
       "      <th>3</th>\n",
       "      <td>24575.0</td>\n",
       "      <td>22.45</td>\n",
       "      <td>685.04</td>\n",
       "      <td>92000.0</td>\n",
       "      <td>24.16</td>\n",
       "      <td>725.0</td>\n",
       "      <td>1.0</td>\n",
       "      <td>0.0</td>\n",
       "      <td>1</td>\n",
       "      <td>2</td>\n",
       "      <td>11</td>\n",
       "      <td>0</td>\n",
       "      <td>1</td>\n",
       "      <td>0</td>\n",
       "      <td>0</td>\n",
       "      <td>0</td>\n",
       "      <td>0</td>\n",
       "    </tr>\n",
       "    <tr>\n",
       "      <th>4</th>\n",
       "      <td>16925.0</td>\n",
       "      <td>21.48</td>\n",
       "      <td>462.46</td>\n",
       "      <td>47000.0</td>\n",
       "      <td>22.09</td>\n",
       "      <td>680.0</td>\n",
       "      <td>0.0</td>\n",
       "      <td>1.0</td>\n",
       "      <td>1</td>\n",
       "      <td>1</td>\n",
       "      <td>11</td>\n",
       "      <td>0</td>\n",
       "      <td>0</td>\n",
       "      <td>0</td>\n",
       "      <td>0</td>\n",
       "      <td>0</td>\n",
       "      <td>1</td>\n",
       "    </tr>\n",
       "  </tbody>\n",
       "</table>\n",
       "</div>"
      ],
      "text/plain": [
       "   loan_amnt  int_rate  installment  annual_inc    dti  fico_range_low  \\\n",
       "0    10400.0     22.45       289.91    104433.0  25.37           695.0   \n",
       "1    35000.0     20.50       937.06    120000.0  35.69           700.0   \n",
       "2    25825.0     26.06       774.14     68000.0  31.68           675.0   \n",
       "3    24575.0     22.45       685.04     92000.0  24.16           725.0   \n",
       "4    16925.0     21.48       462.46     47000.0  22.09           680.0   \n",
       "\n",
       "   loan_status_bin  pub_rec  term  grade  emp_length  ANY  MORTGAGE  NONE  \\\n",
       "0              1.0      0.0     1      2           4    0         1     0   \n",
       "1              1.0      0.0     1      1           9    0         1     0   \n",
       "2              0.0      0.0     1      2           7    0         0     0   \n",
       "3              1.0      0.0     1      2          11    0         1     0   \n",
       "4              0.0      1.0     1      1          11    0         0     0   \n",
       "\n",
       "   OTHER  OWN  RENT  \n",
       "0      0    0     0  \n",
       "1      0    0     0  \n",
       "2      0    0     1  \n",
       "3      0    0     0  \n",
       "4      0    0     1  "
      ]
     },
     "execution_count": 79,
     "metadata": {},
     "output_type": "execute_result"
    }
   ],
   "source": [
    "verified_unscaled = pd.read_csv('../Data/20%_Loans_12_feat_unscaled_verified.csv')\n",
    "verified_unscaled.head(5)"
   ]
  },
  {
   "cell_type": "code",
   "execution_count": 80,
   "id": "77588a72",
   "metadata": {},
   "outputs": [
    {
     "data": {
      "text/plain": [
       "(96217, 17)"
      ]
     },
     "execution_count": 80,
     "metadata": {},
     "output_type": "execute_result"
    }
   ],
   "source": [
    "verified_unscaled.shape"
   ]
  },
  {
   "cell_type": "code",
   "execution_count": null,
   "id": "ed73b838",
   "metadata": {},
   "outputs": [],
   "source": []
  },
  {
   "cell_type": "code",
   "execution_count": null,
   "id": "7caac14a",
   "metadata": {},
   "outputs": [],
   "source": []
  },
  {
   "cell_type": "code",
   "execution_count": 24,
   "id": "4549bed6",
   "metadata": {},
   "outputs": [
    {
     "data": {
      "text/html": [
       "<div>\n",
       "<style scoped>\n",
       "    .dataframe tbody tr th:only-of-type {\n",
       "        vertical-align: middle;\n",
       "    }\n",
       "\n",
       "    .dataframe tbody tr th {\n",
       "        vertical-align: top;\n",
       "    }\n",
       "\n",
       "    .dataframe thead th {\n",
       "        text-align: right;\n",
       "    }\n",
       "</style>\n",
       "<table border=\"1\" class=\"dataframe\">\n",
       "  <thead>\n",
       "    <tr style=\"text-align: right;\">\n",
       "      <th></th>\n",
       "      <th>loan_amnt</th>\n",
       "      <th>int_rate</th>\n",
       "      <th>installment</th>\n",
       "      <th>annual_inc</th>\n",
       "      <th>dti</th>\n",
       "      <th>fico_range_low</th>\n",
       "      <th>pub_rec</th>\n",
       "      <th>term</th>\n",
       "      <th>grade</th>\n",
       "      <th>emp_length</th>\n",
       "      <th>Not Verified</th>\n",
       "      <th>Source Verified</th>\n",
       "      <th>Verified</th>\n",
       "      <th>ANY</th>\n",
       "      <th>MORTGAGE</th>\n",
       "      <th>NONE</th>\n",
       "      <th>OTHER</th>\n",
       "      <th>OWN</th>\n",
       "      <th>RENT</th>\n",
       "      <th>loan_status_bin</th>\n",
       "    </tr>\n",
       "  </thead>\n",
       "  <tbody>\n",
       "    <tr>\n",
       "      <th>0</th>\n",
       "      <td>-0.813096</td>\n",
       "      <td>-0.398686</td>\n",
       "      <td>-0.934226</td>\n",
       "      <td>0.562180</td>\n",
       "      <td>0.284043</td>\n",
       "      <td>0.654268</td>\n",
       "      <td>-0.379653</td>\n",
       "      <td>0.731341</td>\n",
       "      <td>0.845577</td>\n",
       "      <td>-0.664012</td>\n",
       "      <td>-0.379497</td>\n",
       "      <td>1.303870</td>\n",
       "      <td>-1.007532</td>\n",
       "      <td>-0.017317</td>\n",
       "      <td>1.086550</td>\n",
       "      <td>-0.007383</td>\n",
       "      <td>-0.007383</td>\n",
       "      <td>-0.357405</td>\n",
       "      <td>-0.864539</td>\n",
       "      <td>1.0</td>\n",
       "    </tr>\n",
       "    <tr>\n",
       "      <th>1</th>\n",
       "      <td>0.638440</td>\n",
       "      <td>0.261028</td>\n",
       "      <td>0.470223</td>\n",
       "      <td>0.029274</td>\n",
       "      <td>-0.010299</td>\n",
       "      <td>-1.040687</td>\n",
       "      <td>-0.379653</td>\n",
       "      <td>0.731341</td>\n",
       "      <td>0.845577</td>\n",
       "      <td>-0.409357</td>\n",
       "      <td>2.635065</td>\n",
       "      <td>-0.766948</td>\n",
       "      <td>-1.007532</td>\n",
       "      <td>-0.017317</td>\n",
       "      <td>1.086550</td>\n",
       "      <td>-0.007383</td>\n",
       "      <td>-0.007383</td>\n",
       "      <td>-0.357405</td>\n",
       "      <td>-0.864539</td>\n",
       "      <td>0.0</td>\n",
       "    </tr>\n",
       "    <tr>\n",
       "      <th>2</th>\n",
       "      <td>-0.241914</td>\n",
       "      <td>-0.148068</td>\n",
       "      <td>-0.394106</td>\n",
       "      <td>-0.513897</td>\n",
       "      <td>0.900017</td>\n",
       "      <td>3.559904</td>\n",
       "      <td>-0.379653</td>\n",
       "      <td>0.731341</td>\n",
       "      <td>0.845577</td>\n",
       "      <td>1.118570</td>\n",
       "      <td>2.635065</td>\n",
       "      <td>-0.766948</td>\n",
       "      <td>-1.007532</td>\n",
       "      <td>-0.017317</td>\n",
       "      <td>-0.920345</td>\n",
       "      <td>-0.007383</td>\n",
       "      <td>-0.007383</td>\n",
       "      <td>2.797949</td>\n",
       "      <td>-0.864539</td>\n",
       "      <td>1.0</td>\n",
       "    </tr>\n",
       "    <tr>\n",
       "      <th>3</th>\n",
       "      <td>0.517915</td>\n",
       "      <td>-1.117370</td>\n",
       "      <td>0.188206</td>\n",
       "      <td>0.662975</td>\n",
       "      <td>-0.036939</td>\n",
       "      <td>-1.040687</td>\n",
       "      <td>-0.379653</td>\n",
       "      <td>0.731341</td>\n",
       "      <td>-0.408699</td>\n",
       "      <td>-0.918667</td>\n",
       "      <td>2.635065</td>\n",
       "      <td>-0.766948</td>\n",
       "      <td>-1.007532</td>\n",
       "      <td>-0.017317</td>\n",
       "      <td>-0.920345</td>\n",
       "      <td>-0.007383</td>\n",
       "      <td>-0.007383</td>\n",
       "      <td>2.797949</td>\n",
       "      <td>-0.864539</td>\n",
       "      <td>0.0</td>\n",
       "    </tr>\n",
       "    <tr>\n",
       "      <th>4</th>\n",
       "      <td>1.765084</td>\n",
       "      <td>-1.117370</td>\n",
       "      <td>1.276645</td>\n",
       "      <td>0.844032</td>\n",
       "      <td>0.954597</td>\n",
       "      <td>0.896404</td>\n",
       "      <td>-0.379653</td>\n",
       "      <td>0.731341</td>\n",
       "      <td>-0.408699</td>\n",
       "      <td>0.609261</td>\n",
       "      <td>-0.379497</td>\n",
       "      <td>1.303870</td>\n",
       "      <td>-1.007532</td>\n",
       "      <td>-0.017317</td>\n",
       "      <td>1.086550</td>\n",
       "      <td>-0.007383</td>\n",
       "      <td>-0.007383</td>\n",
       "      <td>-0.357405</td>\n",
       "      <td>-0.864539</td>\n",
       "      <td>1.0</td>\n",
       "    </tr>\n",
       "  </tbody>\n",
       "</table>\n",
       "</div>"
      ],
      "text/plain": [
       "   loan_amnt  int_rate  installment  annual_inc       dti  fico_range_low  \\\n",
       "0  -0.813096 -0.398686    -0.934226    0.562180  0.284043        0.654268   \n",
       "1   0.638440  0.261028     0.470223    0.029274 -0.010299       -1.040687   \n",
       "2  -0.241914 -0.148068    -0.394106   -0.513897  0.900017        3.559904   \n",
       "3   0.517915 -1.117370     0.188206    0.662975 -0.036939       -1.040687   \n",
       "4   1.765084 -1.117370     1.276645    0.844032  0.954597        0.896404   \n",
       "\n",
       "    pub_rec      term     grade  emp_length  Not Verified  Source Verified  \\\n",
       "0 -0.379653  0.731341  0.845577   -0.664012     -0.379497         1.303870   \n",
       "1 -0.379653  0.731341  0.845577   -0.409357      2.635065        -0.766948   \n",
       "2 -0.379653  0.731341  0.845577    1.118570      2.635065        -0.766948   \n",
       "3 -0.379653  0.731341 -0.408699   -0.918667      2.635065        -0.766948   \n",
       "4 -0.379653  0.731341 -0.408699    0.609261     -0.379497         1.303870   \n",
       "\n",
       "   Verified       ANY  MORTGAGE      NONE     OTHER       OWN      RENT  \\\n",
       "0 -1.007532 -0.017317  1.086550 -0.007383 -0.007383 -0.357405 -0.864539   \n",
       "1 -1.007532 -0.017317  1.086550 -0.007383 -0.007383 -0.357405 -0.864539   \n",
       "2 -1.007532 -0.017317 -0.920345 -0.007383 -0.007383  2.797949 -0.864539   \n",
       "3 -1.007532 -0.017317 -0.920345 -0.007383 -0.007383  2.797949 -0.864539   \n",
       "4 -1.007532 -0.017317  1.086550 -0.007383 -0.007383 -0.357405 -0.864539   \n",
       "\n",
       "   loan_status_bin  \n",
       "0              1.0  \n",
       "1              0.0  \n",
       "2              1.0  \n",
       "3              0.0  \n",
       "4              1.0  "
      ]
     },
     "execution_count": 24,
     "metadata": {},
     "output_type": "execute_result"
    }
   ],
   "source": [
    "data = pd.read_csv('../Data/20%_Loans_12_feat_scaled.csv')\n",
    "data.head(5)"
   ]
  },
  {
   "cell_type": "code",
   "execution_count": 25,
   "id": "f966a2d0",
   "metadata": {},
   "outputs": [
    {
     "data": {
      "text/plain": [
       "(110074, 20)"
      ]
     },
     "execution_count": 25,
     "metadata": {},
     "output_type": "execute_result"
    }
   ],
   "source": [
    "data.shape"
   ]
  },
  {
   "cell_type": "code",
   "execution_count": 26,
   "id": "17b900d9",
   "metadata": {},
   "outputs": [
    {
     "data": {
      "text/plain": [
       "1.0    65325\n",
       "0.0    44749\n",
       "Name: loan_status_bin, dtype: int64"
      ]
     },
     "execution_count": 26,
     "metadata": {},
     "output_type": "execute_result"
    }
   ],
   "source": [
    "data.loan_status_bin.value_counts()\n",
    "#0 = Defaulted Loans\n",
    "#1 = Loans Paid In Full"
   ]
  },
  {
   "cell_type": "code",
   "execution_count": 27,
   "id": "8df5d727",
   "metadata": {},
   "outputs": [
    {
     "data": {
      "text/plain": [
       "(110074, 19)"
      ]
     },
     "execution_count": 27,
     "metadata": {},
     "output_type": "execute_result"
    }
   ],
   "source": [
    "X = data.drop('loan_status_bin', axis=1)\n",
    "X.shape"
   ]
  },
  {
   "cell_type": "code",
   "execution_count": 28,
   "id": "09062693",
   "metadata": {},
   "outputs": [],
   "source": [
    "y = data['loan_status_bin']"
   ]
  },
  {
   "cell_type": "code",
   "execution_count": 29,
   "id": "fbb699a5",
   "metadata": {},
   "outputs": [],
   "source": [
    "lr = LogisticRegression()"
   ]
  },
  {
   "cell_type": "code",
   "execution_count": 30,
   "id": "20cc1d0f",
   "metadata": {},
   "outputs": [
    {
     "data": {
      "text/plain": [
       "LogisticRegression()"
      ]
     },
     "execution_count": 30,
     "metadata": {},
     "output_type": "execute_result"
    }
   ],
   "source": [
    "lr.fit(X,y)"
   ]
  },
  {
   "cell_type": "code",
   "execution_count": 31,
   "id": "a28030d4",
   "metadata": {},
   "outputs": [
    {
     "data": {
      "text/plain": [
       "array([[0.36620404, 0.63379596],\n",
       "       [0.40288021, 0.59711979],\n",
       "       [0.36803607, 0.63196393],\n",
       "       ...,\n",
       "       [0.30374832, 0.69625168],\n",
       "       [0.35380597, 0.64619403],\n",
       "       [0.30458056, 0.69541944]])"
      ]
     },
     "execution_count": 31,
     "metadata": {},
     "output_type": "execute_result"
    }
   ],
   "source": [
    "lr.predict_proba(X)"
   ]
  },
  {
   "cell_type": "code",
   "execution_count": 34,
   "id": "98e8eda5",
   "metadata": {},
   "outputs": [
    {
     "data": {
      "text/plain": [
       "array([0.63379596, 0.59711979, 0.63196393, ..., 0.69625168, 0.64619403,\n",
       "       0.69541944])"
      ]
     },
     "execution_count": 34,
     "metadata": {},
     "output_type": "execute_result"
    }
   ],
   "source": [
    "lr.predict_proba(X)[:, 1]"
   ]
  },
  {
   "cell_type": "code",
   "execution_count": 32,
   "id": "283aaefa",
   "metadata": {},
   "outputs": [
    {
     "data": {
      "text/plain": [
       "array([1., 1., 1., ..., 1., 1., 1.])"
      ]
     },
     "execution_count": 32,
     "metadata": {},
     "output_type": "execute_result"
    }
   ],
   "source": [
    "lr.predict(X)"
   ]
  },
  {
   "cell_type": "code",
   "execution_count": 35,
   "id": "e2c646d3",
   "metadata": {},
   "outputs": [
    {
     "data": {
      "text/plain": [
       "0         0.633796\n",
       "1         0.597120\n",
       "2         0.631964\n",
       "3         0.638177\n",
       "4         0.645287\n",
       "            ...   \n",
       "110069    0.517900\n",
       "110070    0.556701\n",
       "110071    0.696252\n",
       "110072    0.646194\n",
       "110073    0.695419\n",
       "Length: 110074, dtype: float64"
      ]
     },
     "execution_count": 35,
     "metadata": {},
     "output_type": "execute_result"
    }
   ],
   "source": [
    "pd.Series(lr.predict_proba(X)[:, 1])"
   ]
  },
  {
   "cell_type": "code",
   "execution_count": 52,
   "id": "f031cc1c",
   "metadata": {},
   "outputs": [
    {
     "data": {
      "text/html": [
       "<div>\n",
       "<style scoped>\n",
       "    .dataframe tbody tr th:only-of-type {\n",
       "        vertical-align: middle;\n",
       "    }\n",
       "\n",
       "    .dataframe tbody tr th {\n",
       "        vertical-align: top;\n",
       "    }\n",
       "\n",
       "    .dataframe thead th {\n",
       "        text-align: right;\n",
       "    }\n",
       "</style>\n",
       "<table border=\"1\" class=\"dataframe\">\n",
       "  <thead>\n",
       "    <tr style=\"text-align: right;\">\n",
       "      <th></th>\n",
       "      <th>loan_amnt</th>\n",
       "      <th>int_rate</th>\n",
       "      <th>installment</th>\n",
       "      <th>annual_inc</th>\n",
       "      <th>dti</th>\n",
       "      <th>fico_range_low</th>\n",
       "      <th>loan_status_bin</th>\n",
       "      <th>pub_rec</th>\n",
       "      <th>term</th>\n",
       "      <th>grade</th>\n",
       "      <th>emp_length</th>\n",
       "      <th>Not Verified</th>\n",
       "      <th>Source Verified</th>\n",
       "      <th>Verified</th>\n",
       "      <th>ANY</th>\n",
       "      <th>MORTGAGE</th>\n",
       "      <th>NONE</th>\n",
       "      <th>OTHER</th>\n",
       "      <th>OWN</th>\n",
       "      <th>RENT</th>\n",
       "      <th>Successful Probability</th>\n",
       "    </tr>\n",
       "  </thead>\n",
       "  <tbody>\n",
       "    <tr>\n",
       "      <th>0</th>\n",
       "      <td>10400.0</td>\n",
       "      <td>22.45</td>\n",
       "      <td>289.91</td>\n",
       "      <td>104433.0</td>\n",
       "      <td>25.37</td>\n",
       "      <td>695.0</td>\n",
       "      <td>1.0</td>\n",
       "      <td>0.0</td>\n",
       "      <td>1</td>\n",
       "      <td>2</td>\n",
       "      <td>4</td>\n",
       "      <td>0</td>\n",
       "      <td>1</td>\n",
       "      <td>0</td>\n",
       "      <td>0</td>\n",
       "      <td>1</td>\n",
       "      <td>0</td>\n",
       "      <td>0</td>\n",
       "      <td>0</td>\n",
       "      <td>0</td>\n",
       "      <td>0.633796</td>\n",
       "    </tr>\n",
       "    <tr>\n",
       "      <th>1</th>\n",
       "      <td>24250.0</td>\n",
       "      <td>24.24</td>\n",
       "      <td>701.01</td>\n",
       "      <td>75000.0</td>\n",
       "      <td>20.84</td>\n",
       "      <td>660.0</td>\n",
       "      <td>0.0</td>\n",
       "      <td>0.0</td>\n",
       "      <td>1</td>\n",
       "      <td>2</td>\n",
       "      <td>5</td>\n",
       "      <td>1</td>\n",
       "      <td>0</td>\n",
       "      <td>0</td>\n",
       "      <td>0</td>\n",
       "      <td>1</td>\n",
       "      <td>0</td>\n",
       "      <td>0</td>\n",
       "      <td>0</td>\n",
       "      <td>0</td>\n",
       "      <td>0.597120</td>\n",
       "    </tr>\n",
       "    <tr>\n",
       "      <th>2</th>\n",
       "      <td>15850.0</td>\n",
       "      <td>23.13</td>\n",
       "      <td>448.01</td>\n",
       "      <td>45000.0</td>\n",
       "      <td>34.85</td>\n",
       "      <td>755.0</td>\n",
       "      <td>1.0</td>\n",
       "      <td>0.0</td>\n",
       "      <td>1</td>\n",
       "      <td>2</td>\n",
       "      <td>11</td>\n",
       "      <td>1</td>\n",
       "      <td>0</td>\n",
       "      <td>0</td>\n",
       "      <td>0</td>\n",
       "      <td>0</td>\n",
       "      <td>0</td>\n",
       "      <td>0</td>\n",
       "      <td>1</td>\n",
       "      <td>0</td>\n",
       "      <td>0.631964</td>\n",
       "    </tr>\n",
       "    <tr>\n",
       "      <th>3</th>\n",
       "      <td>23100.0</td>\n",
       "      <td>20.50</td>\n",
       "      <td>618.46</td>\n",
       "      <td>110000.0</td>\n",
       "      <td>20.43</td>\n",
       "      <td>660.0</td>\n",
       "      <td>0.0</td>\n",
       "      <td>0.0</td>\n",
       "      <td>1</td>\n",
       "      <td>1</td>\n",
       "      <td>3</td>\n",
       "      <td>1</td>\n",
       "      <td>0</td>\n",
       "      <td>0</td>\n",
       "      <td>0</td>\n",
       "      <td>0</td>\n",
       "      <td>0</td>\n",
       "      <td>0</td>\n",
       "      <td>1</td>\n",
       "      <td>0</td>\n",
       "      <td>0.638177</td>\n",
       "    </tr>\n",
       "    <tr>\n",
       "      <th>4</th>\n",
       "      <td>35000.0</td>\n",
       "      <td>20.50</td>\n",
       "      <td>937.06</td>\n",
       "      <td>120000.0</td>\n",
       "      <td>35.69</td>\n",
       "      <td>700.0</td>\n",
       "      <td>1.0</td>\n",
       "      <td>0.0</td>\n",
       "      <td>1</td>\n",
       "      <td>1</td>\n",
       "      <td>9</td>\n",
       "      <td>0</td>\n",
       "      <td>1</td>\n",
       "      <td>0</td>\n",
       "      <td>0</td>\n",
       "      <td>1</td>\n",
       "      <td>0</td>\n",
       "      <td>0</td>\n",
       "      <td>0</td>\n",
       "      <td>0</td>\n",
       "      <td>0.645287</td>\n",
       "    </tr>\n",
       "    <tr>\n",
       "      <th>...</th>\n",
       "      <td>...</td>\n",
       "      <td>...</td>\n",
       "      <td>...</td>\n",
       "      <td>...</td>\n",
       "      <td>...</td>\n",
       "      <td>...</td>\n",
       "      <td>...</td>\n",
       "      <td>...</td>\n",
       "      <td>...</td>\n",
       "      <td>...</td>\n",
       "      <td>...</td>\n",
       "      <td>...</td>\n",
       "      <td>...</td>\n",
       "      <td>...</td>\n",
       "      <td>...</td>\n",
       "      <td>...</td>\n",
       "      <td>...</td>\n",
       "      <td>...</td>\n",
       "      <td>...</td>\n",
       "      <td>...</td>\n",
       "      <td>...</td>\n",
       "    </tr>\n",
       "    <tr>\n",
       "      <th>110069</th>\n",
       "      <td>35000.0</td>\n",
       "      <td>21.49</td>\n",
       "      <td>956.55</td>\n",
       "      <td>72000.0</td>\n",
       "      <td>16.63</td>\n",
       "      <td>675.0</td>\n",
       "      <td>0.0</td>\n",
       "      <td>0.0</td>\n",
       "      <td>1</td>\n",
       "      <td>0</td>\n",
       "      <td>1</td>\n",
       "      <td>0</td>\n",
       "      <td>0</td>\n",
       "      <td>1</td>\n",
       "      <td>0</td>\n",
       "      <td>0</td>\n",
       "      <td>0</td>\n",
       "      <td>0</td>\n",
       "      <td>0</td>\n",
       "      <td>1</td>\n",
       "      <td>0.517900</td>\n",
       "    </tr>\n",
       "    <tr>\n",
       "      <th>110070</th>\n",
       "      <td>15650.0</td>\n",
       "      <td>26.49</td>\n",
       "      <td>473.12</td>\n",
       "      <td>58000.0</td>\n",
       "      <td>27.81</td>\n",
       "      <td>685.0</td>\n",
       "      <td>1.0</td>\n",
       "      <td>1.0</td>\n",
       "      <td>1</td>\n",
       "      <td>2</td>\n",
       "      <td>11</td>\n",
       "      <td>0</td>\n",
       "      <td>0</td>\n",
       "      <td>1</td>\n",
       "      <td>0</td>\n",
       "      <td>1</td>\n",
       "      <td>0</td>\n",
       "      <td>0</td>\n",
       "      <td>0</td>\n",
       "      <td>0</td>\n",
       "      <td>0.556701</td>\n",
       "    </tr>\n",
       "    <tr>\n",
       "      <th>110071</th>\n",
       "      <td>27450.0</td>\n",
       "      <td>21.49</td>\n",
       "      <td>1041.10</td>\n",
       "      <td>80000.0</td>\n",
       "      <td>15.17</td>\n",
       "      <td>705.0</td>\n",
       "      <td>1.0</td>\n",
       "      <td>0.0</td>\n",
       "      <td>0</td>\n",
       "      <td>0</td>\n",
       "      <td>7</td>\n",
       "      <td>0</td>\n",
       "      <td>0</td>\n",
       "      <td>1</td>\n",
       "      <td>0</td>\n",
       "      <td>1</td>\n",
       "      <td>0</td>\n",
       "      <td>0</td>\n",
       "      <td>0</td>\n",
       "      <td>0</td>\n",
       "      <td>0.696252</td>\n",
       "    </tr>\n",
       "    <tr>\n",
       "      <th>110072</th>\n",
       "      <td>20000.0</td>\n",
       "      <td>21.49</td>\n",
       "      <td>546.60</td>\n",
       "      <td>75000.0</td>\n",
       "      <td>25.23</td>\n",
       "      <td>670.0</td>\n",
       "      <td>1.0</td>\n",
       "      <td>0.0</td>\n",
       "      <td>1</td>\n",
       "      <td>0</td>\n",
       "      <td>11</td>\n",
       "      <td>0</td>\n",
       "      <td>1</td>\n",
       "      <td>0</td>\n",
       "      <td>0</td>\n",
       "      <td>1</td>\n",
       "      <td>0</td>\n",
       "      <td>0</td>\n",
       "      <td>0</td>\n",
       "      <td>0</td>\n",
       "      <td>0.646194</td>\n",
       "    </tr>\n",
       "    <tr>\n",
       "      <th>110073</th>\n",
       "      <td>5000.0</td>\n",
       "      <td>21.49</td>\n",
       "      <td>189.64</td>\n",
       "      <td>43000.0</td>\n",
       "      <td>1.40</td>\n",
       "      <td>670.0</td>\n",
       "      <td>1.0</td>\n",
       "      <td>0.0</td>\n",
       "      <td>0</td>\n",
       "      <td>0</td>\n",
       "      <td>3</td>\n",
       "      <td>0</td>\n",
       "      <td>0</td>\n",
       "      <td>1</td>\n",
       "      <td>0</td>\n",
       "      <td>0</td>\n",
       "      <td>0</td>\n",
       "      <td>0</td>\n",
       "      <td>0</td>\n",
       "      <td>1</td>\n",
       "      <td>0.695419</td>\n",
       "    </tr>\n",
       "  </tbody>\n",
       "</table>\n",
       "<p>110074 rows × 21 columns</p>\n",
       "</div>"
      ],
      "text/plain": [
       "        loan_amnt  int_rate  installment  annual_inc    dti  fico_range_low  \\\n",
       "0         10400.0     22.45       289.91    104433.0  25.37           695.0   \n",
       "1         24250.0     24.24       701.01     75000.0  20.84           660.0   \n",
       "2         15850.0     23.13       448.01     45000.0  34.85           755.0   \n",
       "3         23100.0     20.50       618.46    110000.0  20.43           660.0   \n",
       "4         35000.0     20.50       937.06    120000.0  35.69           700.0   \n",
       "...           ...       ...          ...         ...    ...             ...   \n",
       "110069    35000.0     21.49       956.55     72000.0  16.63           675.0   \n",
       "110070    15650.0     26.49       473.12     58000.0  27.81           685.0   \n",
       "110071    27450.0     21.49      1041.10     80000.0  15.17           705.0   \n",
       "110072    20000.0     21.49       546.60     75000.0  25.23           670.0   \n",
       "110073     5000.0     21.49       189.64     43000.0   1.40           670.0   \n",
       "\n",
       "        loan_status_bin  pub_rec  term  grade  emp_length  Not Verified  \\\n",
       "0                   1.0      0.0     1      2           4             0   \n",
       "1                   0.0      0.0     1      2           5             1   \n",
       "2                   1.0      0.0     1      2          11             1   \n",
       "3                   0.0      0.0     1      1           3             1   \n",
       "4                   1.0      0.0     1      1           9             0   \n",
       "...                 ...      ...   ...    ...         ...           ...   \n",
       "110069              0.0      0.0     1      0           1             0   \n",
       "110070              1.0      1.0     1      2          11             0   \n",
       "110071              1.0      0.0     0      0           7             0   \n",
       "110072              1.0      0.0     1      0          11             0   \n",
       "110073              1.0      0.0     0      0           3             0   \n",
       "\n",
       "        Source Verified  Verified  ANY  MORTGAGE  NONE  OTHER  OWN  RENT  \\\n",
       "0                     1         0    0         1     0      0    0     0   \n",
       "1                     0         0    0         1     0      0    0     0   \n",
       "2                     0         0    0         0     0      0    1     0   \n",
       "3                     0         0    0         0     0      0    1     0   \n",
       "4                     1         0    0         1     0      0    0     0   \n",
       "...                 ...       ...  ...       ...   ...    ...  ...   ...   \n",
       "110069                0         1    0         0     0      0    0     1   \n",
       "110070                0         1    0         1     0      0    0     0   \n",
       "110071                0         1    0         1     0      0    0     0   \n",
       "110072                1         0    0         1     0      0    0     0   \n",
       "110073                0         1    0         0     0      0    0     1   \n",
       "\n",
       "        Successful Probability  \n",
       "0                     0.633796  \n",
       "1                     0.597120  \n",
       "2                     0.631964  \n",
       "3                     0.638177  \n",
       "4                     0.645287  \n",
       "...                        ...  \n",
       "110069                0.517900  \n",
       "110070                0.556701  \n",
       "110071                0.696252  \n",
       "110072                0.646194  \n",
       "110073                0.695419  \n",
       "\n",
       "[110074 rows x 21 columns]"
      ]
     },
     "execution_count": 52,
     "metadata": {},
     "output_type": "execute_result"
    }
   ],
   "source": [
    "unscaled['Successful Probability'] = pd.Series(lr.predict_proba(X)[:, 1])\n",
    "unscaled"
   ]
  },
  {
   "cell_type": "code",
   "execution_count": null,
   "id": "f7f2bf6d",
   "metadata": {},
   "outputs": [],
   "source": []
  },
  {
   "cell_type": "code",
   "execution_count": 53,
   "id": "910177a5",
   "metadata": {},
   "outputs": [
    {
     "data": {
      "text/html": [
       "<div>\n",
       "<style scoped>\n",
       "    .dataframe tbody tr th:only-of-type {\n",
       "        vertical-align: middle;\n",
       "    }\n",
       "\n",
       "    .dataframe tbody tr th {\n",
       "        vertical-align: top;\n",
       "    }\n",
       "\n",
       "    .dataframe thead th {\n",
       "        text-align: right;\n",
       "    }\n",
       "</style>\n",
       "<table border=\"1\" class=\"dataframe\">\n",
       "  <thead>\n",
       "    <tr style=\"text-align: right;\">\n",
       "      <th></th>\n",
       "      <th>loan_amnt</th>\n",
       "      <th>int_rate</th>\n",
       "      <th>installment</th>\n",
       "      <th>annual_inc</th>\n",
       "      <th>dti</th>\n",
       "      <th>fico_range_low</th>\n",
       "      <th>loan_status_bin</th>\n",
       "      <th>pub_rec</th>\n",
       "      <th>term</th>\n",
       "      <th>grade</th>\n",
       "      <th>emp_length</th>\n",
       "      <th>Not Verified</th>\n",
       "      <th>Source Verified</th>\n",
       "      <th>Verified</th>\n",
       "      <th>ANY</th>\n",
       "      <th>MORTGAGE</th>\n",
       "      <th>NONE</th>\n",
       "      <th>OTHER</th>\n",
       "      <th>OWN</th>\n",
       "      <th>RENT</th>\n",
       "      <th>Successful Probability</th>\n",
       "    </tr>\n",
       "  </thead>\n",
       "  <tbody>\n",
       "    <tr>\n",
       "      <th>15817</th>\n",
       "      <td>12000.0</td>\n",
       "      <td>30.65</td>\n",
       "      <td>393.05</td>\n",
       "      <td>2000.0</td>\n",
       "      <td>489.16</td>\n",
       "      <td>680.0</td>\n",
       "      <td>1.0</td>\n",
       "      <td>1.0</td>\n",
       "      <td>1</td>\n",
       "      <td>2</td>\n",
       "      <td>10</td>\n",
       "      <td>0</td>\n",
       "      <td>0</td>\n",
       "      <td>1</td>\n",
       "      <td>0</td>\n",
       "      <td>1</td>\n",
       "      <td>0</td>\n",
       "      <td>0</td>\n",
       "      <td>0</td>\n",
       "      <td>0</td>\n",
       "      <td>0.020014</td>\n",
       "    </tr>\n",
       "    <tr>\n",
       "      <th>16161</th>\n",
       "      <td>35000.0</td>\n",
       "      <td>30.79</td>\n",
       "      <td>1149.42</td>\n",
       "      <td>10000.0</td>\n",
       "      <td>295.73</td>\n",
       "      <td>665.0</td>\n",
       "      <td>1.0</td>\n",
       "      <td>0.0</td>\n",
       "      <td>1</td>\n",
       "      <td>3</td>\n",
       "      <td>0</td>\n",
       "      <td>1</td>\n",
       "      <td>0</td>\n",
       "      <td>0</td>\n",
       "      <td>0</td>\n",
       "      <td>1</td>\n",
       "      <td>0</td>\n",
       "      <td>0</td>\n",
       "      <td>0</td>\n",
       "      <td>0</td>\n",
       "      <td>0.061081</td>\n",
       "    </tr>\n",
       "    <tr>\n",
       "      <th>18471</th>\n",
       "      <td>12000.0</td>\n",
       "      <td>25.82</td>\n",
       "      <td>358.01</td>\n",
       "      <td>1968.0</td>\n",
       "      <td>751.22</td>\n",
       "      <td>660.0</td>\n",
       "      <td>1.0</td>\n",
       "      <td>0.0</td>\n",
       "      <td>1</td>\n",
       "      <td>1</td>\n",
       "      <td>0</td>\n",
       "      <td>0</td>\n",
       "      <td>0</td>\n",
       "      <td>1</td>\n",
       "      <td>0</td>\n",
       "      <td>1</td>\n",
       "      <td>0</td>\n",
       "      <td>0</td>\n",
       "      <td>0</td>\n",
       "      <td>0</td>\n",
       "      <td>0.002586</td>\n",
       "    </tr>\n",
       "    <tr>\n",
       "      <th>19331</th>\n",
       "      <td>10000.0</td>\n",
       "      <td>20.00</td>\n",
       "      <td>264.94</td>\n",
       "      <td>100.0</td>\n",
       "      <td>999.00</td>\n",
       "      <td>720.0</td>\n",
       "      <td>1.0</td>\n",
       "      <td>0.0</td>\n",
       "      <td>1</td>\n",
       "      <td>0</td>\n",
       "      <td>1</td>\n",
       "      <td>1</td>\n",
       "      <td>0</td>\n",
       "      <td>0</td>\n",
       "      <td>0</td>\n",
       "      <td>1</td>\n",
       "      <td>0</td>\n",
       "      <td>0</td>\n",
       "      <td>0</td>\n",
       "      <td>0</td>\n",
       "      <td>0.000680</td>\n",
       "    </tr>\n",
       "    <tr>\n",
       "      <th>19401</th>\n",
       "      <td>35000.0</td>\n",
       "      <td>26.30</td>\n",
       "      <td>1415.78</td>\n",
       "      <td>24000.0</td>\n",
       "      <td>195.72</td>\n",
       "      <td>680.0</td>\n",
       "      <td>1.0</td>\n",
       "      <td>0.0</td>\n",
       "      <td>0</td>\n",
       "      <td>1</td>\n",
       "      <td>3</td>\n",
       "      <td>0</td>\n",
       "      <td>1</td>\n",
       "      <td>0</td>\n",
       "      <td>0</td>\n",
       "      <td>0</td>\n",
       "      <td>0</td>\n",
       "      <td>0</td>\n",
       "      <td>0</td>\n",
       "      <td>1</td>\n",
       "      <td>0.124604</td>\n",
       "    </tr>\n",
       "    <tr>\n",
       "      <th>20461</th>\n",
       "      <td>35000.0</td>\n",
       "      <td>30.99</td>\n",
       "      <td>1153.75</td>\n",
       "      <td>300.0</td>\n",
       "      <td>999.00</td>\n",
       "      <td>670.0</td>\n",
       "      <td>1.0</td>\n",
       "      <td>0.0</td>\n",
       "      <td>1</td>\n",
       "      <td>3</td>\n",
       "      <td>0</td>\n",
       "      <td>1</td>\n",
       "      <td>0</td>\n",
       "      <td>0</td>\n",
       "      <td>0</td>\n",
       "      <td>1</td>\n",
       "      <td>0</td>\n",
       "      <td>0</td>\n",
       "      <td>0</td>\n",
       "      <td>0</td>\n",
       "      <td>0.000197</td>\n",
       "    </tr>\n",
       "    <tr>\n",
       "      <th>22442</th>\n",
       "      <td>30000.0</td>\n",
       "      <td>26.30</td>\n",
       "      <td>903.55</td>\n",
       "      <td>1200.0</td>\n",
       "      <td>999.00</td>\n",
       "      <td>665.0</td>\n",
       "      <td>1.0</td>\n",
       "      <td>0.0</td>\n",
       "      <td>1</td>\n",
       "      <td>1</td>\n",
       "      <td>0</td>\n",
       "      <td>1</td>\n",
       "      <td>0</td>\n",
       "      <td>0</td>\n",
       "      <td>0</td>\n",
       "      <td>0</td>\n",
       "      <td>0</td>\n",
       "      <td>0</td>\n",
       "      <td>0</td>\n",
       "      <td>1</td>\n",
       "      <td>0.000222</td>\n",
       "    </tr>\n",
       "    <tr>\n",
       "      <th>23022</th>\n",
       "      <td>13800.0</td>\n",
       "      <td>30.89</td>\n",
       "      <td>454.06</td>\n",
       "      <td>12000.0</td>\n",
       "      <td>228.48</td>\n",
       "      <td>680.0</td>\n",
       "      <td>1.0</td>\n",
       "      <td>0.0</td>\n",
       "      <td>1</td>\n",
       "      <td>3</td>\n",
       "      <td>0</td>\n",
       "      <td>0</td>\n",
       "      <td>0</td>\n",
       "      <td>1</td>\n",
       "      <td>0</td>\n",
       "      <td>1</td>\n",
       "      <td>0</td>\n",
       "      <td>0</td>\n",
       "      <td>0</td>\n",
       "      <td>0</td>\n",
       "      <td>0.125134</td>\n",
       "    </tr>\n",
       "    <tr>\n",
       "      <th>23396</th>\n",
       "      <td>15000.0</td>\n",
       "      <td>21.45</td>\n",
       "      <td>568.60</td>\n",
       "      <td>1000.0</td>\n",
       "      <td>991.57</td>\n",
       "      <td>690.0</td>\n",
       "      <td>1.0</td>\n",
       "      <td>0.0</td>\n",
       "      <td>0</td>\n",
       "      <td>0</td>\n",
       "      <td>0</td>\n",
       "      <td>1</td>\n",
       "      <td>0</td>\n",
       "      <td>0</td>\n",
       "      <td>0</td>\n",
       "      <td>0</td>\n",
       "      <td>0</td>\n",
       "      <td>0</td>\n",
       "      <td>0</td>\n",
       "      <td>1</td>\n",
       "      <td>0.000551</td>\n",
       "    </tr>\n",
       "    <tr>\n",
       "      <th>24201</th>\n",
       "      <td>23850.0</td>\n",
       "      <td>30.84</td>\n",
       "      <td>783.98</td>\n",
       "      <td>12129.0</td>\n",
       "      <td>111.09</td>\n",
       "      <td>660.0</td>\n",
       "      <td>1.0</td>\n",
       "      <td>1.0</td>\n",
       "      <td>1</td>\n",
       "      <td>3</td>\n",
       "      <td>0</td>\n",
       "      <td>0</td>\n",
       "      <td>0</td>\n",
       "      <td>1</td>\n",
       "      <td>0</td>\n",
       "      <td>0</td>\n",
       "      <td>0</td>\n",
       "      <td>0</td>\n",
       "      <td>1</td>\n",
       "      <td>0</td>\n",
       "      <td>0.188667</td>\n",
       "    </tr>\n",
       "    <tr>\n",
       "      <th>24924</th>\n",
       "      <td>35000.0</td>\n",
       "      <td>30.17</td>\n",
       "      <td>1136.03</td>\n",
       "      <td>1000.0</td>\n",
       "      <td>999.00</td>\n",
       "      <td>670.0</td>\n",
       "      <td>1.0</td>\n",
       "      <td>0.0</td>\n",
       "      <td>1</td>\n",
       "      <td>2</td>\n",
       "      <td>0</td>\n",
       "      <td>0</td>\n",
       "      <td>1</td>\n",
       "      <td>0</td>\n",
       "      <td>0</td>\n",
       "      <td>1</td>\n",
       "      <td>0</td>\n",
       "      <td>0</td>\n",
       "      <td>0</td>\n",
       "      <td>0</td>\n",
       "      <td>0.000181</td>\n",
       "    </tr>\n",
       "    <tr>\n",
       "      <th>28084</th>\n",
       "      <td>24000.0</td>\n",
       "      <td>20.99</td>\n",
       "      <td>649.15</td>\n",
       "      <td>131000.0</td>\n",
       "      <td>12.51</td>\n",
       "      <td>690.0</td>\n",
       "      <td>1.0</td>\n",
       "      <td>47.0</td>\n",
       "      <td>1</td>\n",
       "      <td>1</td>\n",
       "      <td>4</td>\n",
       "      <td>0</td>\n",
       "      <td>0</td>\n",
       "      <td>1</td>\n",
       "      <td>0</td>\n",
       "      <td>0</td>\n",
       "      <td>0</td>\n",
       "      <td>0</td>\n",
       "      <td>0</td>\n",
       "      <td>1</td>\n",
       "      <td>0.104647</td>\n",
       "    </tr>\n",
       "    <tr>\n",
       "      <th>31685</th>\n",
       "      <td>5500.0</td>\n",
       "      <td>24.37</td>\n",
       "      <td>216.86</td>\n",
       "      <td>1200.0</td>\n",
       "      <td>430.00</td>\n",
       "      <td>665.0</td>\n",
       "      <td>1.0</td>\n",
       "      <td>1.0</td>\n",
       "      <td>0</td>\n",
       "      <td>1</td>\n",
       "      <td>1</td>\n",
       "      <td>1</td>\n",
       "      <td>0</td>\n",
       "      <td>0</td>\n",
       "      <td>0</td>\n",
       "      <td>1</td>\n",
       "      <td>0</td>\n",
       "      <td>0</td>\n",
       "      <td>0</td>\n",
       "      <td>0</td>\n",
       "      <td>0.071052</td>\n",
       "    </tr>\n",
       "    <tr>\n",
       "      <th>31820</th>\n",
       "      <td>14000.0</td>\n",
       "      <td>26.31</td>\n",
       "      <td>566.39</td>\n",
       "      <td>3900.0</td>\n",
       "      <td>654.77</td>\n",
       "      <td>675.0</td>\n",
       "      <td>1.0</td>\n",
       "      <td>0.0</td>\n",
       "      <td>0</td>\n",
       "      <td>1</td>\n",
       "      <td>0</td>\n",
       "      <td>1</td>\n",
       "      <td>0</td>\n",
       "      <td>0</td>\n",
       "      <td>0</td>\n",
       "      <td>0</td>\n",
       "      <td>0</td>\n",
       "      <td>0</td>\n",
       "      <td>0</td>\n",
       "      <td>1</td>\n",
       "      <td>0.006587</td>\n",
       "    </tr>\n",
       "    <tr>\n",
       "      <th>33278</th>\n",
       "      <td>26125.0</td>\n",
       "      <td>29.69</td>\n",
       "      <td>1104.62</td>\n",
       "      <td>10000.0</td>\n",
       "      <td>183.19</td>\n",
       "      <td>665.0</td>\n",
       "      <td>1.0</td>\n",
       "      <td>1.0</td>\n",
       "      <td>0</td>\n",
       "      <td>2</td>\n",
       "      <td>0</td>\n",
       "      <td>0</td>\n",
       "      <td>0</td>\n",
       "      <td>1</td>\n",
       "      <td>0</td>\n",
       "      <td>1</td>\n",
       "      <td>0</td>\n",
       "      <td>0</td>\n",
       "      <td>0</td>\n",
       "      <td>0</td>\n",
       "      <td>0.165526</td>\n",
       "    </tr>\n",
       "    <tr>\n",
       "      <th>33328</th>\n",
       "      <td>35000.0</td>\n",
       "      <td>25.82</td>\n",
       "      <td>1406.82</td>\n",
       "      <td>8000.0</td>\n",
       "      <td>586.79</td>\n",
       "      <td>665.0</td>\n",
       "      <td>1.0</td>\n",
       "      <td>1.0</td>\n",
       "      <td>0</td>\n",
       "      <td>1</td>\n",
       "      <td>1</td>\n",
       "      <td>0</td>\n",
       "      <td>0</td>\n",
       "      <td>1</td>\n",
       "      <td>0</td>\n",
       "      <td>1</td>\n",
       "      <td>0</td>\n",
       "      <td>0</td>\n",
       "      <td>0</td>\n",
       "      <td>0</td>\n",
       "      <td>0.007315</td>\n",
       "    </tr>\n",
       "    <tr>\n",
       "      <th>35950</th>\n",
       "      <td>16000.0</td>\n",
       "      <td>26.24</td>\n",
       "      <td>481.33</td>\n",
       "      <td>3600.0</td>\n",
       "      <td>297.00</td>\n",
       "      <td>685.0</td>\n",
       "      <td>1.0</td>\n",
       "      <td>0.0</td>\n",
       "      <td>1</td>\n",
       "      <td>1</td>\n",
       "      <td>0</td>\n",
       "      <td>1</td>\n",
       "      <td>0</td>\n",
       "      <td>0</td>\n",
       "      <td>0</td>\n",
       "      <td>0</td>\n",
       "      <td>0</td>\n",
       "      <td>0</td>\n",
       "      <td>0</td>\n",
       "      <td>1</td>\n",
       "      <td>0.083351</td>\n",
       "    </tr>\n",
       "    <tr>\n",
       "      <th>36194</th>\n",
       "      <td>35000.0</td>\n",
       "      <td>22.74</td>\n",
       "      <td>1350.11</td>\n",
       "      <td>10000.0</td>\n",
       "      <td>248.95</td>\n",
       "      <td>660.0</td>\n",
       "      <td>1.0</td>\n",
       "      <td>0.0</td>\n",
       "      <td>0</td>\n",
       "      <td>1</td>\n",
       "      <td>0</td>\n",
       "      <td>1</td>\n",
       "      <td>0</td>\n",
       "      <td>0</td>\n",
       "      <td>0</td>\n",
       "      <td>1</td>\n",
       "      <td>0</td>\n",
       "      <td>0</td>\n",
       "      <td>0</td>\n",
       "      <td>0</td>\n",
       "      <td>0.146449</td>\n",
       "    </tr>\n",
       "    <tr>\n",
       "      <th>37282</th>\n",
       "      <td>20500.0</td>\n",
       "      <td>22.74</td>\n",
       "      <td>574.85</td>\n",
       "      <td>487.0</td>\n",
       "      <td>999.00</td>\n",
       "      <td>700.0</td>\n",
       "      <td>1.0</td>\n",
       "      <td>0.0</td>\n",
       "      <td>1</td>\n",
       "      <td>1</td>\n",
       "      <td>5</td>\n",
       "      <td>0</td>\n",
       "      <td>1</td>\n",
       "      <td>0</td>\n",
       "      <td>0</td>\n",
       "      <td>0</td>\n",
       "      <td>0</td>\n",
       "      <td>0</td>\n",
       "      <td>0</td>\n",
       "      <td>1</td>\n",
       "      <td>0.000286</td>\n",
       "    </tr>\n",
       "    <tr>\n",
       "      <th>62936</th>\n",
       "      <td>10000.0</td>\n",
       "      <td>25.34</td>\n",
       "      <td>295.51</td>\n",
       "      <td>1000.0</td>\n",
       "      <td>999.00</td>\n",
       "      <td>735.0</td>\n",
       "      <td>1.0</td>\n",
       "      <td>0.0</td>\n",
       "      <td>1</td>\n",
       "      <td>1</td>\n",
       "      <td>1</td>\n",
       "      <td>1</td>\n",
       "      <td>0</td>\n",
       "      <td>0</td>\n",
       "      <td>0</td>\n",
       "      <td>1</td>\n",
       "      <td>0</td>\n",
       "      <td>0</td>\n",
       "      <td>0</td>\n",
       "      <td>0</td>\n",
       "      <td>0.000551</td>\n",
       "    </tr>\n",
       "    <tr>\n",
       "      <th>63259</th>\n",
       "      <td>30000.0</td>\n",
       "      <td>22.35</td>\n",
       "      <td>1151.16</td>\n",
       "      <td>2500.0</td>\n",
       "      <td>669.23</td>\n",
       "      <td>700.0</td>\n",
       "      <td>1.0</td>\n",
       "      <td>0.0</td>\n",
       "      <td>0</td>\n",
       "      <td>0</td>\n",
       "      <td>5</td>\n",
       "      <td>0</td>\n",
       "      <td>0</td>\n",
       "      <td>1</td>\n",
       "      <td>0</td>\n",
       "      <td>1</td>\n",
       "      <td>0</td>\n",
       "      <td>0</td>\n",
       "      <td>0</td>\n",
       "      <td>0</td>\n",
       "      <td>0.006948</td>\n",
       "    </tr>\n",
       "    <tr>\n",
       "      <th>63607</th>\n",
       "      <td>40000.0</td>\n",
       "      <td>30.75</td>\n",
       "      <td>1312.63</td>\n",
       "      <td>25000.0</td>\n",
       "      <td>117.71</td>\n",
       "      <td>715.0</td>\n",
       "      <td>1.0</td>\n",
       "      <td>0.0</td>\n",
       "      <td>1</td>\n",
       "      <td>2</td>\n",
       "      <td>0</td>\n",
       "      <td>0</td>\n",
       "      <td>0</td>\n",
       "      <td>1</td>\n",
       "      <td>0</td>\n",
       "      <td>0</td>\n",
       "      <td>0</td>\n",
       "      <td>0</td>\n",
       "      <td>0</td>\n",
       "      <td>1</td>\n",
       "      <td>0.168506</td>\n",
       "    </tr>\n",
       "    <tr>\n",
       "      <th>63841</th>\n",
       "      <td>3100.0</td>\n",
       "      <td>21.85</td>\n",
       "      <td>118.15</td>\n",
       "      <td>1000.0</td>\n",
       "      <td>273.49</td>\n",
       "      <td>670.0</td>\n",
       "      <td>1.0</td>\n",
       "      <td>0.0</td>\n",
       "      <td>0</td>\n",
       "      <td>0</td>\n",
       "      <td>0</td>\n",
       "      <td>0</td>\n",
       "      <td>1</td>\n",
       "      <td>0</td>\n",
       "      <td>0</td>\n",
       "      <td>0</td>\n",
       "      <td>0</td>\n",
       "      <td>0</td>\n",
       "      <td>0</td>\n",
       "      <td>1</td>\n",
       "      <td>0.167614</td>\n",
       "    </tr>\n",
       "    <tr>\n",
       "      <th>64565</th>\n",
       "      <td>28000.0</td>\n",
       "      <td>30.79</td>\n",
       "      <td>919.53</td>\n",
       "      <td>11000.0</td>\n",
       "      <td>245.74</td>\n",
       "      <td>725.0</td>\n",
       "      <td>1.0</td>\n",
       "      <td>0.0</td>\n",
       "      <td>1</td>\n",
       "      <td>3</td>\n",
       "      <td>2</td>\n",
       "      <td>0</td>\n",
       "      <td>1</td>\n",
       "      <td>0</td>\n",
       "      <td>0</td>\n",
       "      <td>0</td>\n",
       "      <td>0</td>\n",
       "      <td>0</td>\n",
       "      <td>0</td>\n",
       "      <td>1</td>\n",
       "      <td>0.072089</td>\n",
       "    </tr>\n",
       "    <tr>\n",
       "      <th>65624</th>\n",
       "      <td>25000.0</td>\n",
       "      <td>26.77</td>\n",
       "      <td>759.96</td>\n",
       "      <td>10000.0</td>\n",
       "      <td>252.87</td>\n",
       "      <td>660.0</td>\n",
       "      <td>1.0</td>\n",
       "      <td>0.0</td>\n",
       "      <td>1</td>\n",
       "      <td>1</td>\n",
       "      <td>11</td>\n",
       "      <td>1</td>\n",
       "      <td>0</td>\n",
       "      <td>0</td>\n",
       "      <td>0</td>\n",
       "      <td>1</td>\n",
       "      <td>0</td>\n",
       "      <td>0</td>\n",
       "      <td>0</td>\n",
       "      <td>0</td>\n",
       "      <td>0.156336</td>\n",
       "    </tr>\n",
       "    <tr>\n",
       "      <th>65631</th>\n",
       "      <td>19975.0</td>\n",
       "      <td>21.85</td>\n",
       "      <td>549.99</td>\n",
       "      <td>9500.0</td>\n",
       "      <td>231.35</td>\n",
       "      <td>705.0</td>\n",
       "      <td>1.0</td>\n",
       "      <td>0.0</td>\n",
       "      <td>1</td>\n",
       "      <td>0</td>\n",
       "      <td>0</td>\n",
       "      <td>0</td>\n",
       "      <td>1</td>\n",
       "      <td>0</td>\n",
       "      <td>0</td>\n",
       "      <td>0</td>\n",
       "      <td>0</td>\n",
       "      <td>0</td>\n",
       "      <td>1</td>\n",
       "      <td>0</td>\n",
       "      <td>0.171991</td>\n",
       "    </tr>\n",
       "    <tr>\n",
       "      <th>99049</th>\n",
       "      <td>20000.0</td>\n",
       "      <td>25.82</td>\n",
       "      <td>596.68</td>\n",
       "      <td>1000.0</td>\n",
       "      <td>740.96</td>\n",
       "      <td>710.0</td>\n",
       "      <td>1.0</td>\n",
       "      <td>0.0</td>\n",
       "      <td>1</td>\n",
       "      <td>1</td>\n",
       "      <td>7</td>\n",
       "      <td>1</td>\n",
       "      <td>0</td>\n",
       "      <td>0</td>\n",
       "      <td>0</td>\n",
       "      <td>1</td>\n",
       "      <td>0</td>\n",
       "      <td>0</td>\n",
       "      <td>0</td>\n",
       "      <td>0</td>\n",
       "      <td>0.004029</td>\n",
       "    </tr>\n",
       "    <tr>\n",
       "      <th>99340</th>\n",
       "      <td>20000.0</td>\n",
       "      <td>30.79</td>\n",
       "      <td>656.81</td>\n",
       "      <td>1000.0</td>\n",
       "      <td>277.11</td>\n",
       "      <td>670.0</td>\n",
       "      <td>1.0</td>\n",
       "      <td>0.0</td>\n",
       "      <td>1</td>\n",
       "      <td>3</td>\n",
       "      <td>0</td>\n",
       "      <td>1</td>\n",
       "      <td>0</td>\n",
       "      <td>0</td>\n",
       "      <td>0</td>\n",
       "      <td>0</td>\n",
       "      <td>0</td>\n",
       "      <td>0</td>\n",
       "      <td>0</td>\n",
       "      <td>1</td>\n",
       "      <td>0.062076</td>\n",
       "    </tr>\n",
       "    <tr>\n",
       "      <th>100441</th>\n",
       "      <td>20000.0</td>\n",
       "      <td>23.88</td>\n",
       "      <td>573.97</td>\n",
       "      <td>10000.0</td>\n",
       "      <td>234.45</td>\n",
       "      <td>680.0</td>\n",
       "      <td>1.0</td>\n",
       "      <td>0.0</td>\n",
       "      <td>1</td>\n",
       "      <td>1</td>\n",
       "      <td>3</td>\n",
       "      <td>1</td>\n",
       "      <td>0</td>\n",
       "      <td>0</td>\n",
       "      <td>0</td>\n",
       "      <td>1</td>\n",
       "      <td>0</td>\n",
       "      <td>0</td>\n",
       "      <td>0</td>\n",
       "      <td>0</td>\n",
       "      <td>0.197477</td>\n",
       "    </tr>\n",
       "    <tr>\n",
       "      <th>102294</th>\n",
       "      <td>30000.0</td>\n",
       "      <td>26.30</td>\n",
       "      <td>903.55</td>\n",
       "      <td>1000.0</td>\n",
       "      <td>324.73</td>\n",
       "      <td>670.0</td>\n",
       "      <td>1.0</td>\n",
       "      <td>0.0</td>\n",
       "      <td>1</td>\n",
       "      <td>1</td>\n",
       "      <td>0</td>\n",
       "      <td>1</td>\n",
       "      <td>0</td>\n",
       "      <td>0</td>\n",
       "      <td>0</td>\n",
       "      <td>0</td>\n",
       "      <td>0</td>\n",
       "      <td>0</td>\n",
       "      <td>0</td>\n",
       "      <td>1</td>\n",
       "      <td>0.054136</td>\n",
       "    </tr>\n",
       "    <tr>\n",
       "      <th>102814</th>\n",
       "      <td>30000.0</td>\n",
       "      <td>30.94</td>\n",
       "      <td>988.00</td>\n",
       "      <td>15000.0</td>\n",
       "      <td>103.52</td>\n",
       "      <td>660.0</td>\n",
       "      <td>1.0</td>\n",
       "      <td>1.0</td>\n",
       "      <td>1</td>\n",
       "      <td>3</td>\n",
       "      <td>1</td>\n",
       "      <td>0</td>\n",
       "      <td>0</td>\n",
       "      <td>1</td>\n",
       "      <td>0</td>\n",
       "      <td>0</td>\n",
       "      <td>0</td>\n",
       "      <td>0</td>\n",
       "      <td>0</td>\n",
       "      <td>1</td>\n",
       "      <td>0.158682</td>\n",
       "    </tr>\n",
       "    <tr>\n",
       "      <th>103003</th>\n",
       "      <td>32000.0</td>\n",
       "      <td>23.88</td>\n",
       "      <td>918.35</td>\n",
       "      <td>39.0</td>\n",
       "      <td>999.00</td>\n",
       "      <td>720.0</td>\n",
       "      <td>1.0</td>\n",
       "      <td>0.0</td>\n",
       "      <td>1</td>\n",
       "      <td>1</td>\n",
       "      <td>0</td>\n",
       "      <td>1</td>\n",
       "      <td>0</td>\n",
       "      <td>0</td>\n",
       "      <td>0</td>\n",
       "      <td>1</td>\n",
       "      <td>0</td>\n",
       "      <td>0</td>\n",
       "      <td>0</td>\n",
       "      <td>0</td>\n",
       "      <td>0.000433</td>\n",
       "    </tr>\n",
       "    <tr>\n",
       "      <th>106672</th>\n",
       "      <td>28000.0</td>\n",
       "      <td>22.74</td>\n",
       "      <td>785.16</td>\n",
       "      <td>12000.0</td>\n",
       "      <td>308.58</td>\n",
       "      <td>680.0</td>\n",
       "      <td>1.0</td>\n",
       "      <td>0.0</td>\n",
       "      <td>1</td>\n",
       "      <td>1</td>\n",
       "      <td>1</td>\n",
       "      <td>0</td>\n",
       "      <td>0</td>\n",
       "      <td>1</td>\n",
       "      <td>0</td>\n",
       "      <td>1</td>\n",
       "      <td>0</td>\n",
       "      <td>0</td>\n",
       "      <td>0</td>\n",
       "      <td>0</td>\n",
       "      <td>0.096838</td>\n",
       "    </tr>\n",
       "  </tbody>\n",
       "</table>\n",
       "</div>"
      ],
      "text/plain": [
       "        loan_amnt  int_rate  installment  annual_inc     dti  fico_range_low  \\\n",
       "15817     12000.0     30.65       393.05      2000.0  489.16           680.0   \n",
       "16161     35000.0     30.79      1149.42     10000.0  295.73           665.0   \n",
       "18471     12000.0     25.82       358.01      1968.0  751.22           660.0   \n",
       "19331     10000.0     20.00       264.94       100.0  999.00           720.0   \n",
       "19401     35000.0     26.30      1415.78     24000.0  195.72           680.0   \n",
       "20461     35000.0     30.99      1153.75       300.0  999.00           670.0   \n",
       "22442     30000.0     26.30       903.55      1200.0  999.00           665.0   \n",
       "23022     13800.0     30.89       454.06     12000.0  228.48           680.0   \n",
       "23396     15000.0     21.45       568.60      1000.0  991.57           690.0   \n",
       "24201     23850.0     30.84       783.98     12129.0  111.09           660.0   \n",
       "24924     35000.0     30.17      1136.03      1000.0  999.00           670.0   \n",
       "28084     24000.0     20.99       649.15    131000.0   12.51           690.0   \n",
       "31685      5500.0     24.37       216.86      1200.0  430.00           665.0   \n",
       "31820     14000.0     26.31       566.39      3900.0  654.77           675.0   \n",
       "33278     26125.0     29.69      1104.62     10000.0  183.19           665.0   \n",
       "33328     35000.0     25.82      1406.82      8000.0  586.79           665.0   \n",
       "35950     16000.0     26.24       481.33      3600.0  297.00           685.0   \n",
       "36194     35000.0     22.74      1350.11     10000.0  248.95           660.0   \n",
       "37282     20500.0     22.74       574.85       487.0  999.00           700.0   \n",
       "62936     10000.0     25.34       295.51      1000.0  999.00           735.0   \n",
       "63259     30000.0     22.35      1151.16      2500.0  669.23           700.0   \n",
       "63607     40000.0     30.75      1312.63     25000.0  117.71           715.0   \n",
       "63841      3100.0     21.85       118.15      1000.0  273.49           670.0   \n",
       "64565     28000.0     30.79       919.53     11000.0  245.74           725.0   \n",
       "65624     25000.0     26.77       759.96     10000.0  252.87           660.0   \n",
       "65631     19975.0     21.85       549.99      9500.0  231.35           705.0   \n",
       "99049     20000.0     25.82       596.68      1000.0  740.96           710.0   \n",
       "99340     20000.0     30.79       656.81      1000.0  277.11           670.0   \n",
       "100441    20000.0     23.88       573.97     10000.0  234.45           680.0   \n",
       "102294    30000.0     26.30       903.55      1000.0  324.73           670.0   \n",
       "102814    30000.0     30.94       988.00     15000.0  103.52           660.0   \n",
       "103003    32000.0     23.88       918.35        39.0  999.00           720.0   \n",
       "106672    28000.0     22.74       785.16     12000.0  308.58           680.0   \n",
       "\n",
       "        loan_status_bin  pub_rec  term  grade  emp_length  Not Verified  \\\n",
       "15817               1.0      1.0     1      2          10             0   \n",
       "16161               1.0      0.0     1      3           0             1   \n",
       "18471               1.0      0.0     1      1           0             0   \n",
       "19331               1.0      0.0     1      0           1             1   \n",
       "19401               1.0      0.0     0      1           3             0   \n",
       "20461               1.0      0.0     1      3           0             1   \n",
       "22442               1.0      0.0     1      1           0             1   \n",
       "23022               1.0      0.0     1      3           0             0   \n",
       "23396               1.0      0.0     0      0           0             1   \n",
       "24201               1.0      1.0     1      3           0             0   \n",
       "24924               1.0      0.0     1      2           0             0   \n",
       "28084               1.0     47.0     1      1           4             0   \n",
       "31685               1.0      1.0     0      1           1             1   \n",
       "31820               1.0      0.0     0      1           0             1   \n",
       "33278               1.0      1.0     0      2           0             0   \n",
       "33328               1.0      1.0     0      1           1             0   \n",
       "35950               1.0      0.0     1      1           0             1   \n",
       "36194               1.0      0.0     0      1           0             1   \n",
       "37282               1.0      0.0     1      1           5             0   \n",
       "62936               1.0      0.0     1      1           1             1   \n",
       "63259               1.0      0.0     0      0           5             0   \n",
       "63607               1.0      0.0     1      2           0             0   \n",
       "63841               1.0      0.0     0      0           0             0   \n",
       "64565               1.0      0.0     1      3           2             0   \n",
       "65624               1.0      0.0     1      1          11             1   \n",
       "65631               1.0      0.0     1      0           0             0   \n",
       "99049               1.0      0.0     1      1           7             1   \n",
       "99340               1.0      0.0     1      3           0             1   \n",
       "100441              1.0      0.0     1      1           3             1   \n",
       "102294              1.0      0.0     1      1           0             1   \n",
       "102814              1.0      1.0     1      3           1             0   \n",
       "103003              1.0      0.0     1      1           0             1   \n",
       "106672              1.0      0.0     1      1           1             0   \n",
       "\n",
       "        Source Verified  Verified  ANY  MORTGAGE  NONE  OTHER  OWN  RENT  \\\n",
       "15817                 0         1    0         1     0      0    0     0   \n",
       "16161                 0         0    0         1     0      0    0     0   \n",
       "18471                 0         1    0         1     0      0    0     0   \n",
       "19331                 0         0    0         1     0      0    0     0   \n",
       "19401                 1         0    0         0     0      0    0     1   \n",
       "20461                 0         0    0         1     0      0    0     0   \n",
       "22442                 0         0    0         0     0      0    0     1   \n",
       "23022                 0         1    0         1     0      0    0     0   \n",
       "23396                 0         0    0         0     0      0    0     1   \n",
       "24201                 0         1    0         0     0      0    1     0   \n",
       "24924                 1         0    0         1     0      0    0     0   \n",
       "28084                 0         1    0         0     0      0    0     1   \n",
       "31685                 0         0    0         1     0      0    0     0   \n",
       "31820                 0         0    0         0     0      0    0     1   \n",
       "33278                 0         1    0         1     0      0    0     0   \n",
       "33328                 0         1    0         1     0      0    0     0   \n",
       "35950                 0         0    0         0     0      0    0     1   \n",
       "36194                 0         0    0         1     0      0    0     0   \n",
       "37282                 1         0    0         0     0      0    0     1   \n",
       "62936                 0         0    0         1     0      0    0     0   \n",
       "63259                 0         1    0         1     0      0    0     0   \n",
       "63607                 0         1    0         0     0      0    0     1   \n",
       "63841                 1         0    0         0     0      0    0     1   \n",
       "64565                 1         0    0         0     0      0    0     1   \n",
       "65624                 0         0    0         1     0      0    0     0   \n",
       "65631                 1         0    0         0     0      0    1     0   \n",
       "99049                 0         0    0         1     0      0    0     0   \n",
       "99340                 0         0    0         0     0      0    0     1   \n",
       "100441                0         0    0         1     0      0    0     0   \n",
       "102294                0         0    0         0     0      0    0     1   \n",
       "102814                0         1    0         0     0      0    0     1   \n",
       "103003                0         0    0         1     0      0    0     0   \n",
       "106672                0         1    0         1     0      0    0     0   \n",
       "\n",
       "        Successful Probability  \n",
       "15817                 0.020014  \n",
       "16161                 0.061081  \n",
       "18471                 0.002586  \n",
       "19331                 0.000680  \n",
       "19401                 0.124604  \n",
       "20461                 0.000197  \n",
       "22442                 0.000222  \n",
       "23022                 0.125134  \n",
       "23396                 0.000551  \n",
       "24201                 0.188667  \n",
       "24924                 0.000181  \n",
       "28084                 0.104647  \n",
       "31685                 0.071052  \n",
       "31820                 0.006587  \n",
       "33278                 0.165526  \n",
       "33328                 0.007315  \n",
       "35950                 0.083351  \n",
       "36194                 0.146449  \n",
       "37282                 0.000286  \n",
       "62936                 0.000551  \n",
       "63259                 0.006948  \n",
       "63607                 0.168506  \n",
       "63841                 0.167614  \n",
       "64565                 0.072089  \n",
       "65624                 0.156336  \n",
       "65631                 0.171991  \n",
       "99049                 0.004029  \n",
       "99340                 0.062076  \n",
       "100441                0.197477  \n",
       "102294                0.054136  \n",
       "102814                0.158682  \n",
       "103003                0.000433  \n",
       "106672                0.096838  "
      ]
     },
     "execution_count": 53,
     "metadata": {},
     "output_type": "execute_result"
    }
   ],
   "source": [
    "unscaled[(unscaled['loan_status_bin']==1) & (unscaled['Successful Probability']<0.2)]"
   ]
  },
  {
   "cell_type": "code",
   "execution_count": null,
   "id": "d5ef9634",
   "metadata": {},
   "outputs": [],
   "source": []
  },
  {
   "cell_type": "code",
   "execution_count": 45,
   "id": "f70c3d64",
   "metadata": {},
   "outputs": [
    {
     "data": {
      "text/html": [
       "<div>\n",
       "<style scoped>\n",
       "    .dataframe tbody tr th:only-of-type {\n",
       "        vertical-align: middle;\n",
       "    }\n",
       "\n",
       "    .dataframe tbody tr th {\n",
       "        vertical-align: top;\n",
       "    }\n",
       "\n",
       "    .dataframe thead th {\n",
       "        text-align: right;\n",
       "    }\n",
       "</style>\n",
       "<table border=\"1\" class=\"dataframe\">\n",
       "  <thead>\n",
       "    <tr style=\"text-align: right;\">\n",
       "      <th></th>\n",
       "      <th>int_rate</th>\n",
       "      <th>Successful Probability</th>\n",
       "      <th>loan_status_bin</th>\n",
       "    </tr>\n",
       "  </thead>\n",
       "  <tbody>\n",
       "    <tr>\n",
       "      <th>0</th>\n",
       "      <td>22.45</td>\n",
       "      <td>0.633796</td>\n",
       "      <td>1.0</td>\n",
       "    </tr>\n",
       "    <tr>\n",
       "      <th>1</th>\n",
       "      <td>24.24</td>\n",
       "      <td>0.597120</td>\n",
       "      <td>0.0</td>\n",
       "    </tr>\n",
       "    <tr>\n",
       "      <th>2</th>\n",
       "      <td>23.13</td>\n",
       "      <td>0.631964</td>\n",
       "      <td>1.0</td>\n",
       "    </tr>\n",
       "    <tr>\n",
       "      <th>3</th>\n",
       "      <td>20.50</td>\n",
       "      <td>0.638177</td>\n",
       "      <td>0.0</td>\n",
       "    </tr>\n",
       "    <tr>\n",
       "      <th>4</th>\n",
       "      <td>20.50</td>\n",
       "      <td>0.645287</td>\n",
       "      <td>1.0</td>\n",
       "    </tr>\n",
       "    <tr>\n",
       "      <th>...</th>\n",
       "      <td>...</td>\n",
       "      <td>...</td>\n",
       "      <td>...</td>\n",
       "    </tr>\n",
       "    <tr>\n",
       "      <th>110069</th>\n",
       "      <td>21.49</td>\n",
       "      <td>0.517900</td>\n",
       "      <td>0.0</td>\n",
       "    </tr>\n",
       "    <tr>\n",
       "      <th>110070</th>\n",
       "      <td>26.49</td>\n",
       "      <td>0.556701</td>\n",
       "      <td>1.0</td>\n",
       "    </tr>\n",
       "    <tr>\n",
       "      <th>110071</th>\n",
       "      <td>21.49</td>\n",
       "      <td>0.696252</td>\n",
       "      <td>1.0</td>\n",
       "    </tr>\n",
       "    <tr>\n",
       "      <th>110072</th>\n",
       "      <td>21.49</td>\n",
       "      <td>0.646194</td>\n",
       "      <td>1.0</td>\n",
       "    </tr>\n",
       "    <tr>\n",
       "      <th>110073</th>\n",
       "      <td>21.49</td>\n",
       "      <td>0.695419</td>\n",
       "      <td>1.0</td>\n",
       "    </tr>\n",
       "  </tbody>\n",
       "</table>\n",
       "<p>110074 rows × 3 columns</p>\n",
       "</div>"
      ],
      "text/plain": [
       "        int_rate  Successful Probability  loan_status_bin\n",
       "0          22.45                0.633796              1.0\n",
       "1          24.24                0.597120              0.0\n",
       "2          23.13                0.631964              1.0\n",
       "3          20.50                0.638177              0.0\n",
       "4          20.50                0.645287              1.0\n",
       "...          ...                     ...              ...\n",
       "110069     21.49                0.517900              0.0\n",
       "110070     26.49                0.556701              1.0\n",
       "110071     21.49                0.696252              1.0\n",
       "110072     21.49                0.646194              1.0\n",
       "110073     21.49                0.695419              1.0\n",
       "\n",
       "[110074 rows x 3 columns]"
      ]
     },
     "execution_count": 45,
     "metadata": {},
     "output_type": "execute_result"
    }
   ],
   "source": [
    "rate_v_prob = unscaled[['int_rate', 'Successful Probability', 'loan_status_bin']]\n",
    "rate_v_prob"
   ]
  },
  {
   "cell_type": "code",
   "execution_count": 46,
   "id": "abe9f2a9",
   "metadata": {},
   "outputs": [
    {
     "data": {
      "image/png": "[encoded data removed]",
      "text/plain": [
       "<Figure size 432x288 with 1 Axes>"
      ]
     },
     "metadata": {
      "needs_background": "light"
     },
     "output_type": "display_data"
    }
   ],
   "source": [
    "sns.scatterplot(data=rate_v_prob, x='int_rate', y='Successful Probability', hue='loan_status_bin');"
   ]
  },
  {
   "cell_type": "code",
   "execution_count": null,
   "id": "dfebec6c",
   "metadata": {},
   "outputs": [],
   "source": []
  },
  {
   "cell_type": "code",
   "execution_count": 69,
   "id": "a2866c8c",
   "metadata": {},
   "outputs": [
    {
     "data": {
      "text/html": [
       "<div>\n",
       "<style scoped>\n",
       "    .dataframe tbody tr th:only-of-type {\n",
       "        vertical-align: middle;\n",
       "    }\n",
       "\n",
       "    .dataframe tbody tr th {\n",
       "        vertical-align: top;\n",
       "    }\n",
       "\n",
       "    .dataframe thead th {\n",
       "        text-align: right;\n",
       "    }\n",
       "</style>\n",
       "<table border=\"1\" class=\"dataframe\">\n",
       "  <thead>\n",
       "    <tr style=\"text-align: right;\">\n",
       "      <th></th>\n",
       "      <th>int_rate</th>\n",
       "      <th>Successful Probability</th>\n",
       "      <th>loan_status_bin</th>\n",
       "    </tr>\n",
       "  </thead>\n",
       "  <tbody>\n",
       "    <tr>\n",
       "      <th>count</th>\n",
       "      <td>1208.000000</td>\n",
       "      <td>1208.000000</td>\n",
       "      <td>1208.000000</td>\n",
       "    </tr>\n",
       "    <tr>\n",
       "      <th>mean</th>\n",
       "      <td>21.950397</td>\n",
       "      <td>0.836907</td>\n",
       "      <td>0.823675</td>\n",
       "    </tr>\n",
       "    <tr>\n",
       "      <th>std</th>\n",
       "      <td>1.942211</td>\n",
       "      <td>0.042328</td>\n",
       "      <td>0.381254</td>\n",
       "    </tr>\n",
       "    <tr>\n",
       "      <th>min</th>\n",
       "      <td>20.000000</td>\n",
       "      <td>0.800040</td>\n",
       "      <td>0.000000</td>\n",
       "    </tr>\n",
       "    <tr>\n",
       "      <th>25%</th>\n",
       "      <td>20.390000</td>\n",
       "      <td>0.809238</td>\n",
       "      <td>1.000000</td>\n",
       "    </tr>\n",
       "    <tr>\n",
       "      <th>50%</th>\n",
       "      <td>21.450000</td>\n",
       "      <td>0.822113</td>\n",
       "      <td>1.000000</td>\n",
       "    </tr>\n",
       "    <tr>\n",
       "      <th>75%</th>\n",
       "      <td>22.740000</td>\n",
       "      <td>0.847093</td>\n",
       "      <td>1.000000</td>\n",
       "    </tr>\n",
       "    <tr>\n",
       "      <th>max</th>\n",
       "      <td>30.840000</td>\n",
       "      <td>1.000000</td>\n",
       "      <td>1.000000</td>\n",
       "    </tr>\n",
       "  </tbody>\n",
       "</table>\n",
       "</div>"
      ],
      "text/plain": [
       "          int_rate  Successful Probability  loan_status_bin\n",
       "count  1208.000000             1208.000000      1208.000000\n",
       "mean     21.950397                0.836907         0.823675\n",
       "std       1.942211                0.042328         0.381254\n",
       "min      20.000000                0.800040         0.000000\n",
       "25%      20.390000                0.809238         1.000000\n",
       "50%      21.450000                0.822113         1.000000\n",
       "75%      22.740000                0.847093         1.000000\n",
       "max      30.840000                1.000000         1.000000"
      ]
     },
     "execution_count": 69,
     "metadata": {},
     "output_type": "execute_result"
    }
   ],
   "source": [
    "rate_v_prob[rate_v_prob['Successful Probability'] > 0.8].describe()"
   ]
  },
  {
   "cell_type": "code",
   "execution_count": null,
   "id": "75f4798d",
   "metadata": {},
   "outputs": [],
   "source": []
  },
  {
   "cell_type": "code",
   "execution_count": 73,
   "id": "d2deacd2",
   "metadata": {},
   "outputs": [
    {
     "data": {
      "text/html": [
       "<div>\n",
       "<style scoped>\n",
       "    .dataframe tbody tr th:only-of-type {\n",
       "        vertical-align: middle;\n",
       "    }\n",
       "\n",
       "    .dataframe tbody tr th {\n",
       "        vertical-align: top;\n",
       "    }\n",
       "\n",
       "    .dataframe thead th {\n",
       "        text-align: right;\n",
       "    }\n",
       "</style>\n",
       "<table border=\"1\" class=\"dataframe\">\n",
       "  <thead>\n",
       "    <tr style=\"text-align: right;\">\n",
       "      <th></th>\n",
       "      <th>int_rate</th>\n",
       "      <th>Successful Probability</th>\n",
       "      <th>loan_status_bin</th>\n",
       "    </tr>\n",
       "  </thead>\n",
       "  <tbody>\n",
       "    <tr>\n",
       "      <th>631</th>\n",
       "      <td>20.99</td>\n",
       "      <td>0.806824</td>\n",
       "      <td>0.0</td>\n",
       "    </tr>\n",
       "    <tr>\n",
       "      <th>702</th>\n",
       "      <td>21.99</td>\n",
       "      <td>0.898767</td>\n",
       "      <td>0.0</td>\n",
       "    </tr>\n",
       "    <tr>\n",
       "      <th>3387</th>\n",
       "      <td>20.99</td>\n",
       "      <td>0.845570</td>\n",
       "      <td>0.0</td>\n",
       "    </tr>\n",
       "    <tr>\n",
       "      <th>3860</th>\n",
       "      <td>20.99</td>\n",
       "      <td>0.800253</td>\n",
       "      <td>0.0</td>\n",
       "    </tr>\n",
       "    <tr>\n",
       "      <th>7397</th>\n",
       "      <td>20.99</td>\n",
       "      <td>0.899410</td>\n",
       "      <td>0.0</td>\n",
       "    </tr>\n",
       "    <tr>\n",
       "      <th>...</th>\n",
       "      <td>...</td>\n",
       "      <td>...</td>\n",
       "      <td>...</td>\n",
       "    </tr>\n",
       "    <tr>\n",
       "      <th>108180</th>\n",
       "      <td>24.74</td>\n",
       "      <td>0.830151</td>\n",
       "      <td>0.0</td>\n",
       "    </tr>\n",
       "    <tr>\n",
       "      <th>108212</th>\n",
       "      <td>22.74</td>\n",
       "      <td>0.968364</td>\n",
       "      <td>0.0</td>\n",
       "    </tr>\n",
       "    <tr>\n",
       "      <th>108216</th>\n",
       "      <td>21.49</td>\n",
       "      <td>0.842049</td>\n",
       "      <td>0.0</td>\n",
       "    </tr>\n",
       "    <tr>\n",
       "      <th>108357</th>\n",
       "      <td>21.49</td>\n",
       "      <td>0.860970</td>\n",
       "      <td>0.0</td>\n",
       "    </tr>\n",
       "    <tr>\n",
       "      <th>109805</th>\n",
       "      <td>23.99</td>\n",
       "      <td>0.801988</td>\n",
       "      <td>0.0</td>\n",
       "    </tr>\n",
       "  </tbody>\n",
       "</table>\n",
       "<p>213 rows × 3 columns</p>\n",
       "</div>"
      ],
      "text/plain": [
       "        int_rate  Successful Probability  loan_status_bin\n",
       "631        20.99                0.806824              0.0\n",
       "702        21.99                0.898767              0.0\n",
       "3387       20.99                0.845570              0.0\n",
       "3860       20.99                0.800253              0.0\n",
       "7397       20.99                0.899410              0.0\n",
       "...          ...                     ...              ...\n",
       "108180     24.74                0.830151              0.0\n",
       "108212     22.74                0.968364              0.0\n",
       "108216     21.49                0.842049              0.0\n",
       "108357     21.49                0.860970              0.0\n",
       "109805     23.99                0.801988              0.0\n",
       "\n",
       "[213 rows x 3 columns]"
      ]
     },
     "execution_count": 73,
     "metadata": {},
     "output_type": "execute_result"
    }
   ],
   "source": [
    "rate_v_prob[(rate_v_prob.loan_status_bin==0) & (rate_v_prob['Successful Probability'] > 0.8)]"
   ]
  },
  {
   "cell_type": "code",
   "execution_count": null,
   "id": "6d211413",
   "metadata": {},
   "outputs": [],
   "source": []
  },
  {
   "cell_type": "code",
   "execution_count": 75,
   "id": "bf0cc89e",
   "metadata": {},
   "outputs": [
    {
     "data": {
      "text/html": [
       "<div>\n",
       "<style scoped>\n",
       "    .dataframe tbody tr th:only-of-type {\n",
       "        vertical-align: middle;\n",
       "    }\n",
       "\n",
       "    .dataframe tbody tr th {\n",
       "        vertical-align: top;\n",
       "    }\n",
       "\n",
       "    .dataframe thead th {\n",
       "        text-align: right;\n",
       "    }\n",
       "</style>\n",
       "<table border=\"1\" class=\"dataframe\">\n",
       "  <thead>\n",
       "    <tr style=\"text-align: right;\">\n",
       "      <th></th>\n",
       "      <th>loan_amnt</th>\n",
       "      <th>int_rate</th>\n",
       "      <th>installment</th>\n",
       "      <th>annual_inc</th>\n",
       "      <th>dti</th>\n",
       "      <th>fico_range_low</th>\n",
       "      <th>loan_status_bin</th>\n",
       "      <th>pub_rec</th>\n",
       "      <th>term</th>\n",
       "      <th>grade</th>\n",
       "      <th>emp_length</th>\n",
       "      <th>Not Verified</th>\n",
       "      <th>Source Verified</th>\n",
       "      <th>Verified</th>\n",
       "      <th>ANY</th>\n",
       "      <th>MORTGAGE</th>\n",
       "      <th>NONE</th>\n",
       "      <th>OTHER</th>\n",
       "      <th>OWN</th>\n",
       "      <th>RENT</th>\n",
       "      <th>Successful Probability</th>\n",
       "    </tr>\n",
       "  </thead>\n",
       "  <tbody>\n",
       "    <tr>\n",
       "      <th>631</th>\n",
       "      <td>6000.0</td>\n",
       "      <td>20.99</td>\n",
       "      <td>226.02</td>\n",
       "      <td>139000.0</td>\n",
       "      <td>0.02</td>\n",
       "      <td>670.0</td>\n",
       "      <td>0.0</td>\n",
       "      <td>0.0</td>\n",
       "      <td>0</td>\n",
       "      <td>1</td>\n",
       "      <td>2</td>\n",
       "      <td>0</td>\n",
       "      <td>0</td>\n",
       "      <td>1</td>\n",
       "      <td>0</td>\n",
       "      <td>1</td>\n",
       "      <td>0</td>\n",
       "      <td>0</td>\n",
       "      <td>0</td>\n",
       "      <td>0</td>\n",
       "      <td>0.806824</td>\n",
       "    </tr>\n",
       "    <tr>\n",
       "      <th>702</th>\n",
       "      <td>14000.0</td>\n",
       "      <td>21.99</td>\n",
       "      <td>386.59</td>\n",
       "      <td>600000.0</td>\n",
       "      <td>3.89</td>\n",
       "      <td>675.0</td>\n",
       "      <td>0.0</td>\n",
       "      <td>0.0</td>\n",
       "      <td>1</td>\n",
       "      <td>2</td>\n",
       "      <td>6</td>\n",
       "      <td>0</td>\n",
       "      <td>1</td>\n",
       "      <td>0</td>\n",
       "      <td>0</td>\n",
       "      <td>0</td>\n",
       "      <td>0</td>\n",
       "      <td>0</td>\n",
       "      <td>1</td>\n",
       "      <td>0</td>\n",
       "      <td>0.898767</td>\n",
       "    </tr>\n",
       "    <tr>\n",
       "      <th>3387</th>\n",
       "      <td>2550.0</td>\n",
       "      <td>20.99</td>\n",
       "      <td>96.06</td>\n",
       "      <td>90000.0</td>\n",
       "      <td>9.16</td>\n",
       "      <td>765.0</td>\n",
       "      <td>0.0</td>\n",
       "      <td>0.0</td>\n",
       "      <td>0</td>\n",
       "      <td>1</td>\n",
       "      <td>11</td>\n",
       "      <td>0</td>\n",
       "      <td>1</td>\n",
       "      <td>0</td>\n",
       "      <td>0</td>\n",
       "      <td>1</td>\n",
       "      <td>0</td>\n",
       "      <td>0</td>\n",
       "      <td>0</td>\n",
       "      <td>0</td>\n",
       "      <td>0.845570</td>\n",
       "    </tr>\n",
       "    <tr>\n",
       "      <th>3860</th>\n",
       "      <td>28000.0</td>\n",
       "      <td>20.99</td>\n",
       "      <td>757.34</td>\n",
       "      <td>300000.0</td>\n",
       "      <td>4.68</td>\n",
       "      <td>715.0</td>\n",
       "      <td>0.0</td>\n",
       "      <td>0.0</td>\n",
       "      <td>1</td>\n",
       "      <td>1</td>\n",
       "      <td>11</td>\n",
       "      <td>0</td>\n",
       "      <td>1</td>\n",
       "      <td>0</td>\n",
       "      <td>0</td>\n",
       "      <td>0</td>\n",
       "      <td>0</td>\n",
       "      <td>0</td>\n",
       "      <td>1</td>\n",
       "      <td>0</td>\n",
       "      <td>0.800253</td>\n",
       "    </tr>\n",
       "    <tr>\n",
       "      <th>7397</th>\n",
       "      <td>32225.0</td>\n",
       "      <td>20.99</td>\n",
       "      <td>871.62</td>\n",
       "      <td>511161.0</td>\n",
       "      <td>1.03</td>\n",
       "      <td>700.0</td>\n",
       "      <td>0.0</td>\n",
       "      <td>1.0</td>\n",
       "      <td>1</td>\n",
       "      <td>1</td>\n",
       "      <td>11</td>\n",
       "      <td>0</td>\n",
       "      <td>1</td>\n",
       "      <td>0</td>\n",
       "      <td>0</td>\n",
       "      <td>1</td>\n",
       "      <td>0</td>\n",
       "      <td>0</td>\n",
       "      <td>0</td>\n",
       "      <td>0</td>\n",
       "      <td>0.899410</td>\n",
       "    </tr>\n",
       "    <tr>\n",
       "      <th>...</th>\n",
       "      <td>...</td>\n",
       "      <td>...</td>\n",
       "      <td>...</td>\n",
       "      <td>...</td>\n",
       "      <td>...</td>\n",
       "      <td>...</td>\n",
       "      <td>...</td>\n",
       "      <td>...</td>\n",
       "      <td>...</td>\n",
       "      <td>...</td>\n",
       "      <td>...</td>\n",
       "      <td>...</td>\n",
       "      <td>...</td>\n",
       "      <td>...</td>\n",
       "      <td>...</td>\n",
       "      <td>...</td>\n",
       "      <td>...</td>\n",
       "      <td>...</td>\n",
       "      <td>...</td>\n",
       "      <td>...</td>\n",
       "      <td>...</td>\n",
       "    </tr>\n",
       "    <tr>\n",
       "      <th>108180</th>\n",
       "      <td>10000.0</td>\n",
       "      <td>24.74</td>\n",
       "      <td>292.00</td>\n",
       "      <td>479484.0</td>\n",
       "      <td>2.29</td>\n",
       "      <td>670.0</td>\n",
       "      <td>0.0</td>\n",
       "      <td>0.0</td>\n",
       "      <td>1</td>\n",
       "      <td>1</td>\n",
       "      <td>5</td>\n",
       "      <td>0</td>\n",
       "      <td>1</td>\n",
       "      <td>0</td>\n",
       "      <td>0</td>\n",
       "      <td>0</td>\n",
       "      <td>0</td>\n",
       "      <td>0</td>\n",
       "      <td>0</td>\n",
       "      <td>1</td>\n",
       "      <td>0.830151</td>\n",
       "    </tr>\n",
       "    <tr>\n",
       "      <th>108212</th>\n",
       "      <td>30000.0</td>\n",
       "      <td>22.74</td>\n",
       "      <td>841.24</td>\n",
       "      <td>900000.0</td>\n",
       "      <td>1.99</td>\n",
       "      <td>700.0</td>\n",
       "      <td>0.0</td>\n",
       "      <td>1.0</td>\n",
       "      <td>1</td>\n",
       "      <td>1</td>\n",
       "      <td>10</td>\n",
       "      <td>0</td>\n",
       "      <td>1</td>\n",
       "      <td>0</td>\n",
       "      <td>0</td>\n",
       "      <td>1</td>\n",
       "      <td>0</td>\n",
       "      <td>0</td>\n",
       "      <td>0</td>\n",
       "      <td>0</td>\n",
       "      <td>0.968364</td>\n",
       "    </tr>\n",
       "    <tr>\n",
       "      <th>108216</th>\n",
       "      <td>8000.0</td>\n",
       "      <td>21.49</td>\n",
       "      <td>303.42</td>\n",
       "      <td>147000.0</td>\n",
       "      <td>7.19</td>\n",
       "      <td>675.0</td>\n",
       "      <td>0.0</td>\n",
       "      <td>0.0</td>\n",
       "      <td>0</td>\n",
       "      <td>0</td>\n",
       "      <td>6</td>\n",
       "      <td>1</td>\n",
       "      <td>0</td>\n",
       "      <td>0</td>\n",
       "      <td>0</td>\n",
       "      <td>1</td>\n",
       "      <td>0</td>\n",
       "      <td>0</td>\n",
       "      <td>0</td>\n",
       "      <td>0</td>\n",
       "      <td>0.842049</td>\n",
       "    </tr>\n",
       "    <tr>\n",
       "      <th>108357</th>\n",
       "      <td>4800.0</td>\n",
       "      <td>21.49</td>\n",
       "      <td>182.06</td>\n",
       "      <td>43000.0</td>\n",
       "      <td>4.80</td>\n",
       "      <td>770.0</td>\n",
       "      <td>0.0</td>\n",
       "      <td>0.0</td>\n",
       "      <td>0</td>\n",
       "      <td>0</td>\n",
       "      <td>11</td>\n",
       "      <td>1</td>\n",
       "      <td>0</td>\n",
       "      <td>0</td>\n",
       "      <td>0</td>\n",
       "      <td>1</td>\n",
       "      <td>0</td>\n",
       "      <td>0</td>\n",
       "      <td>0</td>\n",
       "      <td>0</td>\n",
       "      <td>0.860970</td>\n",
       "    </tr>\n",
       "    <tr>\n",
       "      <th>109805</th>\n",
       "      <td>17700.0</td>\n",
       "      <td>23.99</td>\n",
       "      <td>694.33</td>\n",
       "      <td>90000.0</td>\n",
       "      <td>5.63</td>\n",
       "      <td>750.0</td>\n",
       "      <td>0.0</td>\n",
       "      <td>0.0</td>\n",
       "      <td>0</td>\n",
       "      <td>1</td>\n",
       "      <td>11</td>\n",
       "      <td>1</td>\n",
       "      <td>0</td>\n",
       "      <td>0</td>\n",
       "      <td>0</td>\n",
       "      <td>1</td>\n",
       "      <td>0</td>\n",
       "      <td>0</td>\n",
       "      <td>0</td>\n",
       "      <td>0</td>\n",
       "      <td>0.801988</td>\n",
       "    </tr>\n",
       "  </tbody>\n",
       "</table>\n",
       "<p>213 rows × 21 columns</p>\n",
       "</div>"
      ],
      "text/plain": [
       "        loan_amnt  int_rate  installment  annual_inc   dti  fico_range_low  \\\n",
       "631        6000.0     20.99       226.02    139000.0  0.02           670.0   \n",
       "702       14000.0     21.99       386.59    600000.0  3.89           675.0   \n",
       "3387       2550.0     20.99        96.06     90000.0  9.16           765.0   \n",
       "3860      28000.0     20.99       757.34    300000.0  4.68           715.0   \n",
       "7397      32225.0     20.99       871.62    511161.0  1.03           700.0   \n",
       "...           ...       ...          ...         ...   ...             ...   \n",
       "108180    10000.0     24.74       292.00    479484.0  2.29           670.0   \n",
       "108212    30000.0     22.74       841.24    900000.0  1.99           700.0   \n",
       "108216     8000.0     21.49       303.42    147000.0  7.19           675.0   \n",
       "108357     4800.0     21.49       182.06     43000.0  4.80           770.0   \n",
       "109805    17700.0     23.99       694.33     90000.0  5.63           750.0   \n",
       "\n",
       "        loan_status_bin  pub_rec  term  grade  emp_length  Not Verified  \\\n",
       "631                 0.0      0.0     0      1           2             0   \n",
       "702                 0.0      0.0     1      2           6             0   \n",
       "3387                0.0      0.0     0      1          11             0   \n",
       "3860                0.0      0.0     1      1          11             0   \n",
       "7397                0.0      1.0     1      1          11             0   \n",
       "...                 ...      ...   ...    ...         ...           ...   \n",
       "108180              0.0      0.0     1      1           5             0   \n",
       "108212              0.0      1.0     1      1          10             0   \n",
       "108216              0.0      0.0     0      0           6             1   \n",
       "108357              0.0      0.0     0      0          11             1   \n",
       "109805              0.0      0.0     0      1          11             1   \n",
       "\n",
       "        Source Verified  Verified  ANY  MORTGAGE  NONE  OTHER  OWN  RENT  \\\n",
       "631                   0         1    0         1     0      0    0     0   \n",
       "702                   1         0    0         0     0      0    1     0   \n",
       "3387                  1         0    0         1     0      0    0     0   \n",
       "3860                  1         0    0         0     0      0    1     0   \n",
       "7397                  1         0    0         1     0      0    0     0   \n",
       "...                 ...       ...  ...       ...   ...    ...  ...   ...   \n",
       "108180                1         0    0         0     0      0    0     1   \n",
       "108212                1         0    0         1     0      0    0     0   \n",
       "108216                0         0    0         1     0      0    0     0   \n",
       "108357                0         0    0         1     0      0    0     0   \n",
       "109805                0         0    0         1     0      0    0     0   \n",
       "\n",
       "        Successful Probability  \n",
       "631                   0.806824  \n",
       "702                   0.898767  \n",
       "3387                  0.845570  \n",
       "3860                  0.800253  \n",
       "7397                  0.899410  \n",
       "...                        ...  \n",
       "108180                0.830151  \n",
       "108212                0.968364  \n",
       "108216                0.842049  \n",
       "108357                0.860970  \n",
       "109805                0.801988  \n",
       "\n",
       "[213 rows x 21 columns]"
      ]
     },
     "execution_count": 75,
     "metadata": {},
     "output_type": "execute_result"
    }
   ],
   "source": [
    "d = unscaled[(unscaled['loan_status_bin']==0) & (unscaled['Successful Probability']>0.8)]\n",
    "d"
   ]
  },
  {
   "cell_type": "code",
   "execution_count": 78,
   "id": "7caa9f3b",
   "metadata": {},
   "outputs": [
    {
     "name": "stderr",
     "output_type": "stream",
     "text": [
      "/var/folders/kl/4xt5tydd0xb8yvwkgnx2mnc00000gn/T/ipykernel_17680/1371494595.py:3: RuntimeWarning: More than 20 figures have been opened. Figures created through the pyplot interface (`matplotlib.pyplot.figure`) are retained until explicitly closed and may consume too much memory. (To control this warning, see the rcParam `figure.max_open_warning`).\n",
      "  plt.figure()             # <==================== here!\n"
     ]
    },
    {
     "data": {
      "text/plain": [
       "<Figure size 432x288 with 0 Axes>"
      ]
     },
     "metadata": {},
     "output_type": "display_data"
    },
    {
     "data": {
      "image/png": "[encoded data removed]",
      "text/plain": [
       "<Figure size 360x360 with 1 Axes>"
      ]
     },
     "metadata": {
      "needs_background": "light"
     },
     "output_type": "display_data"
    },
    {
     "data": {
      "text/plain": [
       "<Figure size 432x288 with 0 Axes>"
      ]
     },
     "metadata": {},
     "output_type": "display_data"
    },
    {
     "data": {
      "image/png": "[encoded data removed]",
      "text/plain": [
       "<Figure size 360x360 with 1 Axes>"
      ]
     },
     "metadata": {
      "needs_background": "light"
     },
     "output_type": "display_data"
    },
    {
     "data": {
      "text/plain": [
       "<Figure size 432x288 with 0 Axes>"
      ]
     },
     "metadata": {},
     "output_type": "display_data"
    },
    {
     "data": {
      "image/png": "[encoded data removed]",
      "text/plain": [
       "<Figure size 360x360 with 1 Axes>"
      ]
     },
     "metadata": {
      "needs_background": "light"
     },
     "output_type": "display_data"
    },
    {
     "data": {
      "text/plain": [
       "<Figure size 432x288 with 0 Axes>"
      ]
     },
     "metadata": {},
     "output_type": "display_data"
    },
    {
     "data": {
      "image/png": "[encoded data removed]",
      "text/plain": [
       "<Figure size 360x360 with 1 Axes>"
      ]
     },
     "metadata": {
      "needs_background": "light"
     },
     "output_type": "display_data"
    },
    {
     "data": {
      "text/plain": [
       "<Figure size 432x288 with 0 Axes>"
      ]
     },
     "metadata": {},
     "output_type": "display_data"
    },
    {
     "data": {
      "image/png": "[encoded data removed]",
      "text/plain": [
       "<Figure size 360x360 with 1 Axes>"
      ]
     },
     "metadata": {
      "needs_background": "light"
     },
     "output_type": "display_data"
    },
    {
     "data": {
      "text/plain": [
       "<Figure size 432x288 with 0 Axes>"
      ]
     },
     "metadata": {},
     "output_type": "display_data"
    },
    {
     "data": {
      "image/png": "[encoded data removed]",
      "text/plain": [
       "<Figure size 360x360 with 1 Axes>"
      ]
     },
     "metadata": {
      "needs_background": "light"
     },
     "output_type": "display_data"
    },
    {
     "data": {
      "text/plain": [
       "<Figure size 432x288 with 0 Axes>"
      ]
     },
     "metadata": {},
     "output_type": "display_data"
    },
    {
     "data": {
      "image/png": "[encoded data removed]",
      "text/plain": [
       "<Figure size 360x360 with 1 Axes>"
      ]
     },
     "metadata": {
      "needs_background": "light"
     },
     "output_type": "display_data"
    },
    {
     "data": {
      "text/plain": [
       "<Figure size 432x288 with 0 Axes>"
      ]
     },
     "metadata": {},
     "output_type": "display_data"
    },
    {
     "data": {
      "image/png": "[encoded data removed]",
      "text/plain": [
       "<Figure size 360x360 with 1 Axes>"
      ]
     },
     "metadata": {
      "needs_background": "light"
     },
     "output_type": "display_data"
    },
    {
     "data": {
      "text/plain": [
       "<Figure size 432x288 with 0 Axes>"
      ]
     },
     "metadata": {},
     "output_type": "display_data"
    },
    {
     "data": {
      "image/png": "[encoded data removed]",
      "text/plain": [
       "<Figure size 360x360 with 1 Axes>"
      ]
     },
     "metadata": {
      "needs_background": "light"
     },
     "output_type": "display_data"
    },
    {
     "data": {
      "text/plain": [
       "<Figure size 432x288 with 0 Axes>"
      ]
     },
     "metadata": {},
     "output_type": "display_data"
    },
    {
     "data": {
      "image/png": "[encoded data removed]",
      "text/plain": [
       "<Figure size 360x360 with 1 Axes>"
      ]
     },
     "metadata": {
      "needs_background": "light"
     },
     "output_type": "display_data"
    },
    {
     "data": {
      "text/plain": [
       "<Figure size 432x288 with 0 Axes>"
      ]
     },
     "metadata": {},
     "output_type": "display_data"
    },
    {
     "data": {
      "image/png": "[encoded data removed]",
      "text/plain": [
       "<Figure size 360x360 with 1 Axes>"
      ]
     },
     "metadata": {
      "needs_background": "light"
     },
     "output_type": "display_data"
    },
    {
     "data": {
      "text/plain": [
       "<Figure size 432x288 with 0 Axes>"
      ]
     },
     "metadata": {},
     "output_type": "display_data"
    },
    {
     "data": {
      "image/png": "[encoded data removed]",
      "text/plain": [
       "<Figure size 360x360 with 1 Axes>"
      ]
     },
     "metadata": {
      "needs_background": "light"
     },
     "output_type": "display_data"
    },
    {
     "data": {
      "text/plain": [
       "<Figure size 432x288 with 0 Axes>"
      ]
     },
     "metadata": {},
     "output_type": "display_data"
    },
    {
     "data": {
      "image/png": "[encoded data removed]",
      "text/plain": [
       "<Figure size 360x360 with 1 Axes>"
      ]
     },
     "metadata": {
      "needs_background": "light"
     },
     "output_type": "display_data"
    },
    {
     "data": {
      "text/plain": [
       "<Figure size 432x288 with 0 Axes>"
      ]
     },
     "metadata": {},
     "output_type": "display_data"
    },
    {
     "data": {
      "image/png": "[encoded data removed]",
      "text/plain": [
       "<Figure size 360x360 with 1 Axes>"
      ]
     },
     "metadata": {
      "needs_background": "light"
     },
     "output_type": "display_data"
    },
    {
     "data": {
      "text/plain": [
       "<Figure size 432x288 with 0 Axes>"
      ]
     },
     "metadata": {},
     "output_type": "display_data"
    },
    {
     "data": {
      "image/png": "[encoded data removed]",
      "text/plain": [
       "<Figure size 360x360 with 1 Axes>"
      ]
     },
     "metadata": {
      "needs_background": "light"
     },
     "output_type": "display_data"
    },
    {
     "data": {
      "text/plain": [
       "<Figure size 432x288 with 0 Axes>"
      ]
     },
     "metadata": {},
     "output_type": "display_data"
    },
    {
     "data": {
      "image/png": "[encoded data removed]",
      "text/plain": [
       "<Figure size 360x360 with 1 Axes>"
      ]
     },
     "metadata": {
      "needs_background": "light"
     },
     "output_type": "display_data"
    },
    {
     "data": {
      "text/plain": [
       "<Figure size 432x288 with 0 Axes>"
      ]
     },
     "metadata": {},
     "output_type": "display_data"
    },
    {
     "data": {
      "image/png": "[encoded data removed]",
      "text/plain": [
       "<Figure size 360x360 with 1 Axes>"
      ]
     },
     "metadata": {
      "needs_background": "light"
     },
     "output_type": "display_data"
    },
    {
     "data": {
      "text/plain": [
       "<Figure size 432x288 with 0 Axes>"
      ]
     },
     "metadata": {},
     "output_type": "display_data"
    },
    {
     "data": {
      "image/png": "[encoded data removed]",
      "text/plain": [
       "<Figure size 360x360 with 1 Axes>"
      ]
     },
     "metadata": {
      "needs_background": "light"
     },
     "output_type": "display_data"
    },
    {
     "data": {
      "text/plain": [
       "<Figure size 432x288 with 0 Axes>"
      ]
     },
     "metadata": {},
     "output_type": "display_data"
    },
    {
     "data": {
      "image/png": "[encoded data removed]",
      "text/plain": [
       "<Figure size 360x360 with 1 Axes>"
      ]
     },
     "metadata": {
      "needs_background": "light"
     },
     "output_type": "display_data"
    },
    {
     "data": {
      "text/plain": [
       "<Figure size 432x288 with 0 Axes>"
      ]
     },
     "metadata": {},
     "output_type": "display_data"
    },
    {
     "data": {
      "image/png": "[encoded data removed]",
      "text/plain": [
       "<Figure size 360x360 with 1 Axes>"
      ]
     },
     "metadata": {
      "needs_background": "light"
     },
     "output_type": "display_data"
    },
    {
     "data": {
      "text/plain": [
       "<Figure size 432x288 with 0 Axes>"
      ]
     },
     "metadata": {},
     "output_type": "display_data"
    },
    {
     "data": {
      "image/png": "[encoded data removed]",
      "text/plain": [
       "<Figure size 360x360 with 1 Axes>"
      ]
     },
     "metadata": {
      "needs_background": "light"
     },
     "output_type": "display_data"
    }
   ],
   "source": [
    "# create distplots\n",
    "for column in d.columns:\n",
    "    plt.figure()             # <==================== here!\n",
    "    sns.displot(d[column]);"
   ]
  },
  {
   "cell_type": "code",
   "execution_count": null,
   "id": "3a75a03e",
   "metadata": {},
   "outputs": [],
   "source": []
  },
  {
   "cell_type": "code",
   "execution_count": 81,
   "id": "3b2c30a9",
   "metadata": {},
   "outputs": [
    {
     "ename": "KeyError",
     "evalue": "'Successful Probability'",
     "output_type": "error",
     "traceback": [
      "\u001b[0;31m---------------------------------------------------------------------------\u001b[0m",
      "\u001b[0;31mKeyError\u001b[0m                                  Traceback (most recent call last)",
      "\u001b[0;32m/opt/anaconda3/lib/python3.8/site-packages/pandas/core/indexes/base.py\u001b[0m in \u001b[0;36mget_loc\u001b[0;34m(self, key, method, tolerance)\u001b[0m\n\u001b[1;32m   3360\u001b[0m             \u001b[0;32mtry\u001b[0m\u001b[0;34m:\u001b[0m\u001b[0;34m\u001b[0m\u001b[0;34m\u001b[0m\u001b[0m\n\u001b[0;32m-> 3361\u001b[0;31m                 \u001b[0;32mreturn\u001b[0m \u001b[0mself\u001b[0m\u001b[0;34m.\u001b[0m\u001b[0m_engine\u001b[0m\u001b[0;34m.\u001b[0m\u001b[0mget_loc\u001b[0m\u001b[0;34m(\u001b[0m\u001b[0mcasted_key\u001b[0m\u001b[0;34m)\u001b[0m\u001b[0;34m\u001b[0m\u001b[0;34m\u001b[0m\u001b[0m\n\u001b[0m\u001b[1;32m   3362\u001b[0m             \u001b[0;32mexcept\u001b[0m \u001b[0mKeyError\u001b[0m \u001b[0;32mas\u001b[0m \u001b[0merr\u001b[0m\u001b[0;34m:\u001b[0m\u001b[0;34m\u001b[0m\u001b[0;34m\u001b[0m\u001b[0m\n",
      "\u001b[0;32m/opt/anaconda3/lib/python3.8/site-packages/pandas/_libs/index.pyx\u001b[0m in \u001b[0;36mpandas._libs.index.IndexEngine.get_loc\u001b[0;34m()\u001b[0m\n",
      "\u001b[0;32m/opt/anaconda3/lib/python3.8/site-packages/pandas/_libs/index.pyx\u001b[0m in \u001b[0;36mpandas._libs.index.IndexEngine.get_loc\u001b[0;34m()\u001b[0m\n",
      "\u001b[0;32mpandas/_libs/hashtable_class_helper.pxi\u001b[0m in \u001b[0;36mpandas._libs.hashtable.PyObjectHashTable.get_item\u001b[0;34m()\u001b[0m\n",
      "\u001b[0;32mpandas/_libs/hashtable_class_helper.pxi\u001b[0m in \u001b[0;36mpandas._libs.hashtable.PyObjectHashTable.get_item\u001b[0;34m()\u001b[0m\n",
      "\u001b[0;31mKeyError\u001b[0m: 'Successful Probability'",
      "\nThe above exception was the direct cause of the following exception:\n",
      "\u001b[0;31mKeyError\u001b[0m                                  Traceback (most recent call last)",
      "\u001b[0;32m/var/folders/kl/4xt5tydd0xb8yvwkgnx2mnc00000gn/T/ipykernel_17680/177239468.py\u001b[0m in \u001b[0;36m<module>\u001b[0;34m\u001b[0m\n\u001b[0;32m----> 1\u001b[0;31m \u001b[0md2\u001b[0m \u001b[0;34m=\u001b[0m \u001b[0mverified_unscaled\u001b[0m\u001b[0;34m[\u001b[0m\u001b[0;34m(\u001b[0m\u001b[0mverified_unscaled\u001b[0m\u001b[0;34m[\u001b[0m\u001b[0;34m'loan_status_bin'\u001b[0m\u001b[0;34m]\u001b[0m\u001b[0;34m==\u001b[0m\u001b[0;36m0\u001b[0m\u001b[0;34m)\u001b[0m \u001b[0;34m&\u001b[0m \u001b[0;34m(\u001b[0m\u001b[0mverified_unscaled\u001b[0m\u001b[0;34m[\u001b[0m\u001b[0;34m'Successful Probability'\u001b[0m\u001b[0;34m]\u001b[0m\u001b[0;34m>\u001b[0m\u001b[0;36m0.8\u001b[0m\u001b[0;34m)\u001b[0m\u001b[0;34m]\u001b[0m\u001b[0;34m\u001b[0m\u001b[0;34m\u001b[0m\u001b[0m\n\u001b[0m\u001b[1;32m      2\u001b[0m \u001b[0md2\u001b[0m\u001b[0;34m\u001b[0m\u001b[0;34m\u001b[0m\u001b[0m\n",
      "\u001b[0;32m/opt/anaconda3/lib/python3.8/site-packages/pandas/core/frame.py\u001b[0m in \u001b[0;36m__getitem__\u001b[0;34m(self, key)\u001b[0m\n\u001b[1;32m   3456\u001b[0m             \u001b[0;32mif\u001b[0m \u001b[0mself\u001b[0m\u001b[0;34m.\u001b[0m\u001b[0mcolumns\u001b[0m\u001b[0;34m.\u001b[0m\u001b[0mnlevels\u001b[0m \u001b[0;34m>\u001b[0m \u001b[0;36m1\u001b[0m\u001b[0;34m:\u001b[0m\u001b[0;34m\u001b[0m\u001b[0;34m\u001b[0m\u001b[0m\n\u001b[1;32m   3457\u001b[0m                 \u001b[0;32mreturn\u001b[0m \u001b[0mself\u001b[0m\u001b[0;34m.\u001b[0m\u001b[0m_getitem_multilevel\u001b[0m\u001b[0;34m(\u001b[0m\u001b[0mkey\u001b[0m\u001b[0;34m)\u001b[0m\u001b[0;34m\u001b[0m\u001b[0;34m\u001b[0m\u001b[0m\n\u001b[0;32m-> 3458\u001b[0;31m             \u001b[0mindexer\u001b[0m \u001b[0;34m=\u001b[0m \u001b[0mself\u001b[0m\u001b[0;34m.\u001b[0m\u001b[0mcolumns\u001b[0m\u001b[0;34m.\u001b[0m\u001b[0mget_loc\u001b[0m\u001b[0;34m(\u001b[0m\u001b[0mkey\u001b[0m\u001b[0;34m)\u001b[0m\u001b[0;34m\u001b[0m\u001b[0;34m\u001b[0m\u001b[0m\n\u001b[0m\u001b[1;32m   3459\u001b[0m             \u001b[0;32mif\u001b[0m \u001b[0mis_integer\u001b[0m\u001b[0;34m(\u001b[0m\u001b[0mindexer\u001b[0m\u001b[0;34m)\u001b[0m\u001b[0;34m:\u001b[0m\u001b[0;34m\u001b[0m\u001b[0;34m\u001b[0m\u001b[0m\n\u001b[1;32m   3460\u001b[0m                 \u001b[0mindexer\u001b[0m \u001b[0;34m=\u001b[0m \u001b[0;34m[\u001b[0m\u001b[0mindexer\u001b[0m\u001b[0;34m]\u001b[0m\u001b[0;34m\u001b[0m\u001b[0;34m\u001b[0m\u001b[0m\n",
      "\u001b[0;32m/opt/anaconda3/lib/python3.8/site-packages/pandas/core/indexes/base.py\u001b[0m in \u001b[0;36mget_loc\u001b[0;34m(self, key, method, tolerance)\u001b[0m\n\u001b[1;32m   3361\u001b[0m                 \u001b[0;32mreturn\u001b[0m \u001b[0mself\u001b[0m\u001b[0;34m.\u001b[0m\u001b[0m_engine\u001b[0m\u001b[0;34m.\u001b[0m\u001b[0mget_loc\u001b[0m\u001b[0;34m(\u001b[0m\u001b[0mcasted_key\u001b[0m\u001b[0;34m)\u001b[0m\u001b[0;34m\u001b[0m\u001b[0;34m\u001b[0m\u001b[0m\n\u001b[1;32m   3362\u001b[0m             \u001b[0;32mexcept\u001b[0m \u001b[0mKeyError\u001b[0m \u001b[0;32mas\u001b[0m \u001b[0merr\u001b[0m\u001b[0;34m:\u001b[0m\u001b[0;34m\u001b[0m\u001b[0;34m\u001b[0m\u001b[0m\n\u001b[0;32m-> 3363\u001b[0;31m                 \u001b[0;32mraise\u001b[0m \u001b[0mKeyError\u001b[0m\u001b[0;34m(\u001b[0m\u001b[0mkey\u001b[0m\u001b[0;34m)\u001b[0m \u001b[0;32mfrom\u001b[0m \u001b[0merr\u001b[0m\u001b[0;34m\u001b[0m\u001b[0;34m\u001b[0m\u001b[0m\n\u001b[0m\u001b[1;32m   3364\u001b[0m \u001b[0;34m\u001b[0m\u001b[0m\n\u001b[1;32m   3365\u001b[0m         \u001b[0;32mif\u001b[0m \u001b[0mis_scalar\u001b[0m\u001b[0;34m(\u001b[0m\u001b[0mkey\u001b[0m\u001b[0;34m)\u001b[0m \u001b[0;32mand\u001b[0m \u001b[0misna\u001b[0m\u001b[0;34m(\u001b[0m\u001b[0mkey\u001b[0m\u001b[0;34m)\u001b[0m \u001b[0;32mand\u001b[0m \u001b[0;32mnot\u001b[0m \u001b[0mself\u001b[0m\u001b[0;34m.\u001b[0m\u001b[0mhasnans\u001b[0m\u001b[0;34m:\u001b[0m\u001b[0;34m\u001b[0m\u001b[0;34m\u001b[0m\u001b[0m\n",
      "\u001b[0;31mKeyError\u001b[0m: 'Successful Probability'"
     ]
    }
   ],
   "source": [
    "d2 = verified_unscaled[(verified_unscaled['loan_status_bin']==0) & (verified_unscaled['Successful Probability']>0.8)]\n",
    "d2"
   ]
  },
  {
   "cell_type": "code",
   "execution_count": null,
   "id": "632abd62",
   "metadata": {},
   "outputs": [],
   "source": []
  },
  {
   "cell_type": "code",
   "execution_count": null,
   "id": "bd7554e6",
   "metadata": {},
   "outputs": [],
   "source": []
  },
  {
   "cell_type": "code",
   "execution_count": null,
   "id": "753bddfb",
   "metadata": {},
   "outputs": [],
   "source": []
  },
  {
   "cell_type": "code",
   "execution_count": null,
   "id": "0447bff4",
   "metadata": {},
   "outputs": [],
   "source": [
    "# create distplots\n",
    "for column in verified_unscaled.columns:\n",
    "    plt.figure()             # <==================== here!\n",
    "    sns.displot(d[column]);"
   ]
  },
  {
   "cell_type": "code",
   "execution_count": null,
   "id": "2e22b97c",
   "metadata": {},
   "outputs": [],
   "source": []
  },
  {
   "cell_type": "code",
   "execution_count": null,
   "id": "8cda48b2",
   "metadata": {},
   "outputs": [],
   "source": []
  },
  {
   "cell_type": "code",
   "execution_count": null,
   "id": "f7c5331e",
   "metadata": {},
   "outputs": [],
   "source": []
  },
  {
   "cell_type": "code",
   "execution_count": null,
   "id": "0cc7820e",
   "metadata": {},
   "outputs": [],
   "source": []
  },
  {
   "cell_type": "code",
   "execution_count": null,
   "id": "3887d5e2",
   "metadata": {},
   "outputs": [],
   "source": []
  },
  {
   "cell_type": "code",
   "execution_count": null,
   "id": "d3f902d3",
   "metadata": {},
   "outputs": [],
   "source": [
    "y_pred = (y_pred[:, 1] > threshold).astype('float')"
   ]
  },
  {
   "cell_type": "code",
   "execution_count": null,
   "id": "cfbd2fc9",
   "metadata": {},
   "outputs": [],
   "source": []
  },
  {
   "cell_type": "code",
   "execution_count": null,
   "id": "65b70bda",
   "metadata": {},
   "outputs": [],
   "source": []
  },
  {
   "cell_type": "code",
   "execution_count": 14,
   "id": "6cc8234e",
   "metadata": {},
   "outputs": [],
   "source": [
    "steps = [('model', lr)]\n",
    "pipeline = Pipeline(steps=steps)\n",
    "cv = RepeatedStratifiedKFold(n_splits=5, n_repeats=1, random_state=1)"
   ]
  },
  {
   "cell_type": "code",
   "execution_count": 15,
   "id": "9730a86d",
   "metadata": {},
   "outputs": [],
   "source": [
    "y_pred = cross_val_predict(pipeline, X, y, cv=cv, n_jobs=-1, method='predict_proba')"
   ]
  },
  {
   "cell_type": "code",
   "execution_count": 17,
   "id": "16d81e38",
   "metadata": {},
   "outputs": [
    {
     "data": {
      "text/plain": [
       "110074"
      ]
     },
     "execution_count": 17,
     "metadata": {},
     "output_type": "execute_result"
    }
   ],
   "source": [
    "len(y_pred)"
   ]
  },
  {
   "cell_type": "code",
   "execution_count": 20,
   "id": "2e9dbcf7",
   "metadata": {},
   "outputs": [
    {
     "data": {
      "text/plain": [
       "array([[0.36216196, 0.63783804],\n",
       "       [0.40053507, 0.59946493],\n",
       "       [0.36612899, 0.63387101],\n",
       "       ...,\n",
       "       [0.30416421, 0.69583579],\n",
       "       [0.34883961, 0.65116039],\n",
       "       [0.30814722, 0.69185278]])"
      ]
     },
     "execution_count": 20,
     "metadata": {},
     "output_type": "execute_result"
    }
   ],
   "source": [
    "y_pred"
   ]
  },
  {
   "cell_type": "code",
   "execution_count": null,
   "id": "1e9f90ec",
   "metadata": {},
   "outputs": [],
   "source": []
  },
  {
   "cell_type": "code",
   "execution_count": null,
   "id": "e9e5f314",
   "metadata": {},
   "outputs": [],
   "source": []
  },
  {
   "cell_type": "code",
   "execution_count": 6,
   "id": "7ae8835f",
   "metadata": {},
   "outputs": [],
   "source": [
    "class LogisticRegressionWithThreshold(LogisticRegression):\n",
    "    def predict(self, X, threshold=None):\n",
    "        if threshold == None: # If no threshold passed in, simply call the base class predict, effectively threshold=0.5\n",
    "            return LogisticRegression.predict(self, X)\n",
    "        else:\n",
    "            y_scores = LogisticRegression.predict_proba(self, X)[:, 1]\n",
    "            y_pred_with_threshold = (y_scores >= threshold).astype(int)\n",
    "\n",
    "            return y_pred_with_threshold\n",
    "    \n",
    "    def threshold_from_optimal_tpr_minus_fpr(self, X, y):\n",
    "        y_scores = LogisticRegression.predict_proba(self, X)[:, 1]\n",
    "        fpr, tpr, thresholds = roc_curve(y, y_scores) \n",
    "\n",
    "        optimal_idx = np.argmax(tpr - fpr)\n",
    "\n",
    "        return thresholds[optimal_idx], tpr[optimal_idx] - fpr[optimal_idx]\n",
    "    \n",
    "    def threshold_from_optimal_f_score(self, X, y):\n",
    "        y_scores = LogisticRegression.predict_proba(self, X)[:, 1]\n",
    "        precisions, recalls, thresholds = precision_recall_curve(y, y_scores)\n",
    "\n",
    "        fscores = (2 * precisions * recalls) / (precisions + recalls)\n",
    "        \n",
    "        optimal_idx = np.argmax(fscores)\n",
    "        \n",
    "        return thresholds[optimal_idx], fscores[optimal_idx]"
   ]
  },
  {
   "cell_type": "code",
   "execution_count": 7,
   "id": "cbee7bbb",
   "metadata": {},
   "outputs": [
    {
     "data": {
      "text/plain": [
       "array([[ 0.19627602],\n",
       "       [ 0.19627602],\n",
       "       [-0.57588288],\n",
       "       ...,\n",
       "       [ 0.19627602],\n",
       "       [ 0.19627602],\n",
       "       [ 0.19627602]])"
      ]
     },
     "execution_count": 7,
     "metadata": {},
     "output_type": "execute_result"
    }
   ],
   "source": [
    "X_array = X.iloc[:,0:].values\n",
    "X_array"
   ]
  },
  {
   "cell_type": "code",
   "execution_count": 8,
   "id": "3d4dd855",
   "metadata": {},
   "outputs": [
    {
     "data": {
      "text/plain": [
       "array([0., 0., 0., ..., 1., 0., 1.])"
      ]
     },
     "execution_count": 8,
     "metadata": {},
     "output_type": "execute_result"
    }
   ],
   "source": [
    "y_array = y.to_numpy()\n",
    "y_array"
   ]
  },
  {
   "cell_type": "code",
   "execution_count": 10,
   "id": "91a20f12",
   "metadata": {},
   "outputs": [
    {
     "name": "stdout",
     "output_type": "stream",
     "text": [
      "[0.20135, 0.2015, 0.20138, 0.20139, 0.20134]\n",
      "0.20139200000000002\n"
     ]
    }
   ],
   "source": [
    "#Obtaining optimal mean threshold value via StratifiedKFold: \n",
    "\n",
    "lrt = LogisticRegressionWithThreshold()\n",
    "rskf = RepeatedStratifiedKFold(n_splits=5, n_repeats=1, random_state=1)\n",
    "\n",
    "thresholds = []\n",
    "\n",
    "for train_index, test_index in rskf.split(X,y):\n",
    "    lrt.fit(X_array[train_index], y_array[train_index])\n",
    "    threshold, optimal_f1_score = lrt.threshold_from_optimal_f_score(X_array[train_index], y_array[train_index])\n",
    "    thresholds.append(round(threshold,5))\n",
    "    \n",
    "print (thresholds)\n",
    "optimal = np.mean(thresholds)\n",
    "print(optimal)"
   ]
  },
  {
   "cell_type": "code",
   "execution_count": 11,
   "id": "b06c4132",
   "metadata": {},
   "outputs": [],
   "source": [
    "steps = [('model', lrt)]\n",
    "pipeline = Pipeline(steps=steps)\n",
    "cv = RepeatedStratifiedKFold(n_splits=5, n_repeats=1, random_state=1)"
   ]
  },
  {
   "cell_type": "code",
   "execution_count": 12,
   "id": "664b1e37",
   "metadata": {},
   "outputs": [],
   "source": [
    "y_pred = cross_val_predict(pipeline, X, y, cv=cv, n_jobs=-1, method='predict_proba')"
   ]
  },
  {
   "cell_type": "code",
   "execution_count": 13,
   "id": "06d96734",
   "metadata": {},
   "outputs": [
    {
     "data": {
      "text/plain": [
       "array([[0.79850161, 0.20149839],\n",
       "       [0.79860692, 0.20139308],\n",
       "       [0.86595566, 0.13404434],\n",
       "       ...,\n",
       "       [0.79862405, 0.20137595],\n",
       "       [0.79864786, 0.20135214],\n",
       "       [0.79860692, 0.20139308]])"
      ]
     },
     "execution_count": 13,
     "metadata": {},
     "output_type": "execute_result"
    }
   ],
   "source": [
    "y_pred"
   ]
  },
  {
   "cell_type": "code",
   "execution_count": 14,
   "id": "7607392e",
   "metadata": {},
   "outputs": [],
   "source": [
    "#Obtaining classification based on desired threshold: \n",
    "\n",
    "threshold = optimal\n",
    "y_pred = (y_pred[:, 1] > threshold).astype('float')\n",
    "#confusion_matrix(y_test, y_pred)"
   ]
  },
  {
   "cell_type": "code",
   "execution_count": 15,
   "id": "ff48e14a",
   "metadata": {},
   "outputs": [
    {
     "data": {
      "text/plain": [
       "array([[738907, 337844],\n",
       "       [118216, 150343]])"
      ]
     },
     "execution_count": 15,
     "metadata": {},
     "output_type": "execute_result"
    }
   ],
   "source": [
    "conf_mat = confusion_matrix(y, y_pred)\n",
    "conf_mat"
   ]
  },
  {
   "cell_type": "code",
   "execution_count": 16,
   "id": "eb17e239",
   "metadata": {},
   "outputs": [
    {
     "data": {
      "image/png": "[encoded data removed]",
      "text/plain": [
       "<Figure size 864x432 with 1 Axes>"
      ]
     },
     "metadata": {},
     "output_type": "display_data"
    }
   ],
   "source": [
    "sns.set(rc = {'figure.figsize':(12,6)})\n",
    "#cmap = sns.cubehelix_palette(start=2, rot=0, dark=0, light=.95, reverse=True, as_cmap=True)\n",
    "cmap = sns.light_palette('seagreen', as_cmap=True)\n",
    "\n",
    "res = sns.heatmap(conf_mat, annot=True, fmt='d', annot_kws={\"size\":20},\n",
    "#            xticklabels = ['Good = Paid In Full', 'Bad = Default'],\n",
    "#            yticklabels = ['Loan Paid In Full', 'Bad = Default'], \n",
    "            cmap=cmap, cbar=False)\n",
    "\n",
    "res.set_xticklabels(['Loan Repaid', 'Loan Default'], fontsize=15)\n",
    "res.set_yticklabels(['Loan Repaid', 'Loan Default'], fontsize=15)\n",
    "\n",
    "\n",
    "plt.title('Confusion Matrix For Logistic Regression (Threshold=0.2)', fontsize=25, pad=15)\n",
    "plt.xlabel('Predicted', fontsize=20)\n",
    "plt.ylabel('Actual', fontsize=20);"
   ]
  },
  {
   "cell_type": "code",
   "execution_count": 18,
   "id": "78839f05",
   "metadata": {},
   "outputs": [
    {
     "data": {
      "text/plain": [
       "0.661000066899079"
      ]
     },
     "execution_count": 18,
     "metadata": {},
     "output_type": "execute_result"
    }
   ],
   "source": [
    "accuracy_score(y, y_pred)"
   ]
  },
  {
   "cell_type": "code",
   "execution_count": 17,
   "id": "7bfd8860",
   "metadata": {},
   "outputs": [
    {
     "name": "stdout",
     "output_type": "stream",
     "text": [
      "150343\n",
      "337844\n",
      "118216\n",
      "738907\n",
      "0.661000066899079\n"
     ]
    }
   ],
   "source": [
    "TN, FP, FN, TP = conf_mat.ravel()\n",
    "print(TP)\n",
    "print(FP)\n",
    "print(FN)\n",
    "print(TN)\n",
    "print((TP + TN) / (TN + TP + FP + FN))"
   ]
  },
  {
   "cell_type": "code",
   "execution_count": 19,
   "id": "f14ac718",
   "metadata": {},
   "outputs": [
    {
     "data": {
      "text/plain": [
       "0.5598136722284489"
      ]
     },
     "execution_count": 19,
     "metadata": {},
     "output_type": "execute_result"
    }
   ],
   "source": [
    "#Basic Metrics I ~ True Positive Rate\n",
    "#1. True Positive Rate (=Recall or Sensitivity) = TP / (TP + FN)\n",
    "TPR = TP / (TP+FN)\n",
    "TPR"
   ]
  },
  {
   "cell_type": "code",
   "execution_count": 21,
   "id": "5fad4bba",
   "metadata": {},
   "outputs": [
    {
     "data": {
      "text/plain": [
       "0.3079619080393374"
      ]
     },
     "execution_count": 21,
     "metadata": {},
     "output_type": "execute_result"
    }
   ],
   "source": [
    "#Basic Metrics II ~ Precision\n",
    "#2. Precision = TP / (TP + FP)\n",
    "Precision = TP / (TP + FP)\n",
    "Precision"
   ]
  },
  {
   "cell_type": "code",
   "execution_count": null,
   "id": "e1f3c601",
   "metadata": {},
   "outputs": [],
   "source": []
  },
  {
   "cell_type": "code",
   "execution_count": null,
   "id": "98de0bc4",
   "metadata": {},
   "outputs": [],
   "source": []
  },
  {
   "cell_type": "code",
   "execution_count": 28,
   "id": "a84bf8e2",
   "metadata": {},
   "outputs": [],
   "source": [
    "#Experimenting with Threshold @ 0.18: \n",
    "\n",
    "y_pred = cross_val_predict(pipeline, X, y, cv=cv, n_jobs=-1, method='predict_proba')\n",
    "\n",
    "threshold = 0.18\n",
    "y_pred = (y_pred[:, 1] > threshold).astype('float')\n",
    "#confusion_matrix(y_test, y_pred)"
   ]
  },
  {
   "cell_type": "code",
   "execution_count": 29,
   "id": "0cf0b838",
   "metadata": {},
   "outputs": [
    {
     "data": {
      "text/plain": [
       "array([[561061, 515690],\n",
       "       [ 66770, 201789]])"
      ]
     },
     "execution_count": 29,
     "metadata": {},
     "output_type": "execute_result"
    }
   ],
   "source": [
    "conf_mat = confusion_matrix(y, y_pred)\n",
    "conf_mat"
   ]
  },
  {
   "cell_type": "code",
   "execution_count": 35,
   "id": "61392404",
   "metadata": {},
   "outputs": [
    {
     "data": {
      "image/png": "[encoded data removed]",
      "text/plain": [
       "<Figure size 864x432 with 1 Axes>"
      ]
     },
     "metadata": {},
     "output_type": "display_data"
    }
   ],
   "source": [
    "sns.set(rc = {'figure.figsize':(12,6)})\n",
    "#cmap = sns.cubehelix_palette(start=2, rot=0, dark=0, light=.95, reverse=True, as_cmap=True)\n",
    "cmap = sns.light_palette('seagreen', as_cmap=True)\n",
    "\n",
    "res = sns.heatmap(conf_mat, annot=True, fmt='d', annot_kws={\"size\":20},\n",
    "#            xticklabels = ['Good = Paid In Full', 'Bad = Default'],\n",
    "#            yticklabels = ['Loan Paid In Full', 'Bad = Default'], \n",
    "            cmap=cmap, cbar=False)\n",
    "\n",
    "res.set_xticklabels(['Loan Repaid', 'Loan Default'], fontsize=15)\n",
    "res.set_yticklabels(['Loan Repaid', 'Loan Default'], fontsize=15)\n",
    "\n",
    "\n",
    "plt.title('Confusion Matrix For Logistic Regression (Threshold=0.18)', fontsize=25, pad=15)\n",
    "plt.xlabel('Predicted', fontsize=20)\n",
    "plt.ylabel('Actual', fontsize=20);"
   ]
  },
  {
   "cell_type": "code",
   "execution_count": 31,
   "id": "a25451df",
   "metadata": {},
   "outputs": [
    {
     "data": {
      "text/plain": [
       "0.5670440270272279"
      ]
     },
     "execution_count": 31,
     "metadata": {},
     "output_type": "execute_result"
    }
   ],
   "source": [
    "accuracy_score(y, y_pred)"
   ]
  },
  {
   "cell_type": "code",
   "execution_count": 32,
   "id": "2114b13e",
   "metadata": {},
   "outputs": [
    {
     "name": "stdout",
     "output_type": "stream",
     "text": [
      "201789\n",
      "515690\n",
      "66770\n",
      "561061\n",
      "0.5670440270272279\n"
     ]
    }
   ],
   "source": [
    "TN, FP, FN, TP = conf_mat.ravel()\n",
    "print(TP)\n",
    "print(FP)\n",
    "print(FN)\n",
    "print(TN)\n",
    "print((TP + TN) / (TN + TP + FP + FN))"
   ]
  },
  {
   "cell_type": "code",
   "execution_count": 33,
   "id": "f2837663",
   "metadata": {},
   "outputs": [
    {
     "data": {
      "text/plain": [
       "0.7513767924366713"
      ]
     },
     "execution_count": 33,
     "metadata": {},
     "output_type": "execute_result"
    }
   ],
   "source": [
    "#Basic Metrics I ~ True Positive Rate\n",
    "#1. True Positive Rate (=Recall or Sensitivity) = TP / (TP + FN)\n",
    "TPR = TP / (TP+FN)\n",
    "TPR"
   ]
  },
  {
   "cell_type": "code",
   "execution_count": 34,
   "id": "ced7f6b5",
   "metadata": {},
   "outputs": [
    {
     "data": {
      "text/plain": [
       "0.28124725601724926"
      ]
     },
     "execution_count": 34,
     "metadata": {},
     "output_type": "execute_result"
    }
   ],
   "source": [
    "#Basic Metrics II ~ Precision\n",
    "#2. Precision = TP / (TP + FP)\n",
    "Precision = TP / (TP + FP)\n",
    "Precision"
   ]
  },
  {
   "cell_type": "code",
   "execution_count": null,
   "id": "dc4c1674",
   "metadata": {},
   "outputs": [],
   "source": []
  },
  {
   "cell_type": "code",
   "execution_count": null,
   "id": "bfca4dcb",
   "metadata": {},
   "outputs": [],
   "source": []
  },
  {
   "cell_type": "code",
   "execution_count": 38,
   "id": "b44618b0",
   "metadata": {},
   "outputs": [],
   "source": [
    "#Experimenting with Threshold @ 0.12: \n",
    "\n",
    "y_pred = cross_val_predict(pipeline, X, y, cv=cv, n_jobs=-1, method='predict_proba')\n",
    "\n",
    "threshold = 0.12\n",
    "y_pred = (y_pred[:, 1] > threshold).astype('float')\n",
    "#confusion_matrix(y_test, y_pred)"
   ]
  },
  {
   "cell_type": "code",
   "execution_count": 39,
   "id": "b9261d6e",
   "metadata": {},
   "outputs": [
    {
     "data": {
      "text/plain": [
       "array([[220889, 855862],\n",
       "       [ 14201, 254358]])"
      ]
     },
     "execution_count": 39,
     "metadata": {},
     "output_type": "execute_result"
    }
   ],
   "source": [
    "conf_mat = confusion_matrix(y, y_pred)\n",
    "conf_mat"
   ]
  },
  {
   "cell_type": "code",
   "execution_count": 40,
   "id": "97e4f5db",
   "metadata": {},
   "outputs": [
    {
     "data": {
      "image/png": "[encoded data removed]",
      "text/plain": [
       "<Figure size 864x432 with 1 Axes>"
      ]
     },
     "metadata": {},
     "output_type": "display_data"
    }
   ],
   "source": [
    "sns.set(rc = {'figure.figsize':(12,6)})\n",
    "#cmap = sns.cubehelix_palette(start=2, rot=0, dark=0, light=.95, reverse=True, as_cmap=True)\n",
    "cmap = sns.light_palette('seagreen', as_cmap=True)\n",
    "\n",
    "res = sns.heatmap(conf_mat, annot=True, fmt='d', annot_kws={\"size\":20},\n",
    "#            xticklabels = ['Good = Paid In Full', 'Bad = Default'],\n",
    "#            yticklabels = ['Loan Paid In Full', 'Bad = Default'], \n",
    "            cmap=cmap, cbar=False)\n",
    "\n",
    "res.set_xticklabels(['Loan Repaid', 'Loan Default'], fontsize=15)\n",
    "res.set_yticklabels(['Loan Repaid', 'Loan Default'], fontsize=15)\n",
    "\n",
    "\n",
    "plt.title('Confusion Matrix For Logistic Regression (Threshold=0.12)', fontsize=25, pad=15)\n",
    "plt.xlabel('Predicted', fontsize=20)\n",
    "plt.ylabel('Actual', fontsize=20);"
   ]
  },
  {
   "cell_type": "code",
   "execution_count": 41,
   "id": "4e41fbda",
   "metadata": {},
   "outputs": [
    {
     "data": {
      "text/plain": [
       "0.35326207342545585"
      ]
     },
     "execution_count": 41,
     "metadata": {},
     "output_type": "execute_result"
    }
   ],
   "source": [
    "accuracy_score(y, y_pred)"
   ]
  },
  {
   "cell_type": "code",
   "execution_count": 42,
   "id": "206a6a42",
   "metadata": {},
   "outputs": [
    {
     "name": "stdout",
     "output_type": "stream",
     "text": [
      "254358\n",
      "855862\n",
      "14201\n",
      "220889\n",
      "0.35326207342545585\n"
     ]
    }
   ],
   "source": [
    "TN, FP, FN, TP = conf_mat.ravel()\n",
    "print(TP)\n",
    "print(FP)\n",
    "print(FN)\n",
    "print(TN)\n",
    "print((TP + TN) / (TN + TP + FP + FN))"
   ]
  },
  {
   "cell_type": "code",
   "execution_count": 43,
   "id": "b365ef69",
   "metadata": {},
   "outputs": [
    {
     "data": {
      "text/plain": [
       "0.9471214891327417"
      ]
     },
     "execution_count": 43,
     "metadata": {},
     "output_type": "execute_result"
    }
   ],
   "source": [
    "#Basic Metrics I ~ True Positive Rate\n",
    "#1. True Positive Rate (=Recall or Sensitivity) = TP / (TP + FN)\n",
    "TPR = TP / (TP+FN)\n",
    "TPR"
   ]
  },
  {
   "cell_type": "code",
   "execution_count": 44,
   "id": "8b12d7e7",
   "metadata": {},
   "outputs": [
    {
     "data": {
      "text/plain": [
       "0.22910594296625894"
      ]
     },
     "execution_count": 44,
     "metadata": {},
     "output_type": "execute_result"
    }
   ],
   "source": [
    "#Basic Metrics II ~ Precision\n",
    "#2. Precision = TP / (TP + FP)\n",
    "Precision = TP / (TP + FP)\n",
    "Precision"
   ]
  },
  {
   "cell_type": "code",
   "execution_count": null,
   "id": "50b8f5c1",
   "metadata": {},
   "outputs": [],
   "source": []
  },
  {
   "cell_type": "code",
   "execution_count": null,
   "id": "cacc9d62",
   "metadata": {},
   "outputs": [],
   "source": []
  },
  {
   "cell_type": "code",
   "execution_count": null,
   "id": "70ec03fe",
   "metadata": {},
   "outputs": [],
   "source": []
  },
  {
   "cell_type": "code",
   "execution_count": null,
   "id": "d63621f6",
   "metadata": {},
   "outputs": [],
   "source": []
  },
  {
   "cell_type": "code",
   "execution_count": null,
   "id": "7f4cb20e",
   "metadata": {},
   "outputs": [],
   "source": []
  },
  {
   "cell_type": "code",
   "execution_count": null,
   "id": "4ac0f1b4",
   "metadata": {},
   "outputs": [],
   "source": []
  },
  {
   "cell_type": "code",
   "execution_count": null,
   "id": "ff36262e",
   "metadata": {},
   "outputs": [],
   "source": []
  },
  {
   "cell_type": "code",
   "execution_count": null,
   "id": "d458494c",
   "metadata": {},
   "outputs": [],
   "source": []
  },
  {
   "cell_type": "code",
   "execution_count": null,
   "id": "8c5afbc8",
   "metadata": {},
   "outputs": [],
   "source": []
  },
  {
   "cell_type": "code",
   "execution_count": null,
   "id": "8ab1af4b",
   "metadata": {},
   "outputs": [],
   "source": [
    "## Not able to get desired results with class and definitions below....am doing it manually above. "
   ]
  },
  {
   "cell_type": "code",
   "execution_count": null,
   "id": "ed012729",
   "metadata": {},
   "outputs": [],
   "source": []
  },
  {
   "cell_type": "code",
   "execution_count": 22,
   "id": "19c66888",
   "metadata": {},
   "outputs": [],
   "source": [
    "class LogisticRegressionWithThreshold(LogisticRegression):\n",
    "    def predict(self, X, threshold=None):\n",
    "        if threshold == None: # If no threshold passed in, simply call the base class predict, effectively threshold=0.5\n",
    "            return LogisticRegression.predict(self, X)\n",
    "        else:\n",
    "            y_scores = LogisticRegression.predict_proba(self, X)[:, 1]\n",
    "            y_pred_with_threshold = (y_scores >= threshold).astype(int)\n",
    "\n",
    "            return y_pred_with_threshold\n",
    "    \n",
    "    def threshold_from_optimal_tpr_minus_fpr(self, X, y):\n",
    "        y_scores = LogisticRegression.predict_proba(self, X)[:, 1]\n",
    "        fpr, tpr, thresholds = roc_curve(y, y_scores) \n",
    "\n",
    "        optimal_idx = np.argmax(tpr - fpr)\n",
    "\n",
    "        return thresholds[optimal_idx], tpr[optimal_idx] - fpr[optimal_idx]\n",
    "    \n",
    "    def threshold_from_optimal_f_score(self, X, y):\n",
    "        y_scores = LogisticRegression.predict_proba(self, X)[:, 1]\n",
    "        precisions, recalls, thresholds = precision_recall_curve(y, y_scores)\n",
    "\n",
    "        fscores = (2 * precisions * recalls) / (precisions + recalls)\n",
    "        \n",
    "        optimal_idx = np.argmax(fscores)\n",
    "        \n",
    "        return thresholds[optimal_idx], fscores[optimal_idx]\n",
    "        \n",
    "    def threshold_from_desired_precision(self, X, y, desired_precision=0.9):\n",
    "        y_scores = LogisticRegression.predict_proba(self, X)[:, 1]\n",
    "        precisions, recalls, thresholds = precision_recall_curve(y, y_scores)\n",
    "\n",
    "        desired_precision_idx = np.argmax(precisions >= desired_precision)\n",
    "        \n",
    "        return thresholds[desired_precision_idx], recalls[desired_precision_idx]\n",
    "\n",
    "    def threshold_from_desired_recall(self, X, y, desired_recall=0.9):\n",
    "        y_scores = LogisticRegression.predict_proba(self, X)[:, 1]\n",
    "        precisions, recalls, thresholds = precision_recall_curve(y, y_scores)\n",
    "\n",
    "        desired_recall_idx = np.argmin(recalls >= desired_recall)\n",
    "        \n",
    "        return thresholds[desired_recall_idx], precisions[desired_recall_idx]"
   ]
  },
  {
   "cell_type": "code",
   "execution_count": null,
   "id": "d3bf6168",
   "metadata": {},
   "outputs": [],
   "source": []
  },
  {
   "cell_type": "code",
   "execution_count": 26,
   "id": "a06ab2a7",
   "metadata": {},
   "outputs": [
    {
     "name": "stdout",
     "output_type": "stream",
     "text": [
      "[0.20135, 0.2015, 0.20138, 0.20139, 0.20134]\n",
      "0.20139200000000002\n",
      "\n",
      "[0.20135, 0.2015, 0.20138, 0.20139, 0.20134]\n"
     ]
    }
   ],
   "source": [
    "#Obtaining optimal mean threshold value via StratifiedKFold: \n",
    "\n",
    "lrt = LogisticRegressionWithThreshold()\n",
    "rskf = RepeatedStratifiedKFold(n_splits=5, n_repeats=1, random_state=1)\n",
    "\n",
    "thresholds = []\n",
    "precisions = []\n",
    "\n",
    "for train_index, test_index in rskf.split(X,y):\n",
    "    lrt.fit(X_array[train_index], y_array[train_index])\n",
    "    threshold, precision = lrt.threshold_from_desired_recall(X_array[train_index], y_array[train_index])\n",
    "    thresholds.append(round(threshold,5))\n",
    "    precisions.append(round(threshold,5))\n",
    "    \n",
    "print (thresholds)\n",
    "optimal = np.mean(thresholds)\n",
    "print(optimal)\n",
    "print()\n",
    "print(precisions)"
   ]
  },
  {
   "cell_type": "code",
   "execution_count": 24,
   "id": "857cbbc9",
   "metadata": {},
   "outputs": [
    {
     "data": {
      "text/plain": [
       "0.2813353539576366"
      ]
     },
     "execution_count": 24,
     "metadata": {},
     "output_type": "execute_result"
    }
   ],
   "source": [
    "precision"
   ]
  },
  {
   "cell_type": "code",
   "execution_count": null,
   "id": "85f3b71a",
   "metadata": {},
   "outputs": [],
   "source": []
  },
  {
   "cell_type": "code",
   "execution_count": null,
   "id": "4465de9b",
   "metadata": {},
   "outputs": [],
   "source": []
  },
  {
   "cell_type": "code",
   "execution_count": null,
   "id": "f0c26d54",
   "metadata": {},
   "outputs": [],
   "source": []
  },
  {
   "cell_type": "code",
   "execution_count": null,
   "id": "ab11a432",
   "metadata": {},
   "outputs": [],
   "source": []
  },
  {
   "cell_type": "code",
   "execution_count": null,
   "id": "a4c42e27",
   "metadata": {},
   "outputs": [],
   "source": []
  },
  {
   "cell_type": "code",
   "execution_count": null,
   "id": "a3fdc770",
   "metadata": {},
   "outputs": [],
   "source": []
  },
  {
   "cell_type": "code",
   "execution_count": null,
   "id": "f2d297ed",
   "metadata": {},
   "outputs": [],
   "source": []
  },
  {
   "cell_type": "code",
   "execution_count": 6,
   "id": "313d0ce0",
   "metadata": {},
   "outputs": [],
   "source": [
    "lr1 = LogisticRegression()"
   ]
  },
  {
   "cell_type": "code",
   "execution_count": 7,
   "id": "ed0d8fcd",
   "metadata": {},
   "outputs": [],
   "source": [
    "steps = [('model', lr1)]\n",
    "pipeline = Pipeline(steps=steps)"
   ]
  },
  {
   "cell_type": "code",
   "execution_count": 8,
   "id": "2e414311",
   "metadata": {},
   "outputs": [
    {
     "name": "stdout",
     "output_type": "stream",
     "text": [
      "[0.7981692  0.79787187 0.79770462 0.79836246 0.79828441]\n",
      "0.7980785097858487\n"
     ]
    }
   ],
   "source": [
    "#Accuracy:\n",
    "\n",
    "cv = RepeatedStratifiedKFold(n_splits=5, n_repeats=1, random_state=1)\n",
    "scores = cross_val_score(pipeline, X, y, scoring='accuracy', cv=cv, n_jobs=-1) \n",
    "print(scores)\n",
    "\n",
    "score = np.mean(scores)\n",
    "print(score)"
   ]
  },
  {
   "cell_type": "code",
   "execution_count": 9,
   "id": "81cb6a83",
   "metadata": {},
   "outputs": [
    {
     "data": {
      "text/plain": [
       "array([[1054612,   22139],\n",
       "       [ 249508,   19051]])"
      ]
     },
     "execution_count": 9,
     "metadata": {},
     "output_type": "execute_result"
    }
   ],
   "source": [
    "#Aggregated Confusion Matrix From RepeatedStratifiedKFold: \n",
    "y_pred = cross_val_predict(pipeline, X, y, cv=cv, n_jobs=-1)\n",
    "conf_mat = confusion_matrix(y, y_pred)\n",
    "conf_mat"
   ]
  },
  {
   "cell_type": "code",
   "execution_count": 10,
   "id": "2aa26123",
   "metadata": {},
   "outputs": [
    {
     "data": {
      "image/png": "[encoded data removed]",
      "text/plain": [
       "<Figure size 864x432 with 1 Axes>"
      ]
     },
     "metadata": {},
     "output_type": "display_data"
    }
   ],
   "source": [
    "sns.set(rc = {'figure.figsize':(12,6)})\n",
    "#cmap = sns.cubehelix_palette(start=2, rot=0, dark=0, light=.95, reverse=True, as_cmap=True)\n",
    "cmap = sns.light_palette('seagreen', as_cmap=True)\n",
    "\n",
    "res = sns.heatmap(conf_mat, annot=True, fmt='d', annot_kws={\"size\":20},\n",
    "#            xticklabels = ['Good = Paid In Full', 'Bad = Default'],\n",
    "#            yticklabels = ['Loan Paid In Full', 'Bad = Default'], \n",
    "            cmap=cmap, cbar=False)\n",
    "\n",
    "res.set_xticklabels(['Loan Repaid', 'Loan Default'], fontsize=15)\n",
    "res.set_yticklabels(['Loan Repaid', 'Loan Default'], fontsize=15)\n",
    "\n",
    "\n",
    "plt.title('Confusion Matrix For Logistic Regression', fontsize=25, pad=15)\n",
    "plt.xlabel('Predicted', fontsize=20)\n",
    "plt.ylabel('Actual', fontsize=20);"
   ]
  },
  {
   "cell_type": "code",
   "execution_count": 11,
   "id": "4d8015b9",
   "metadata": {},
   "outputs": [
    {
     "data": {
      "text/plain": [
       "0.7980785097858486"
      ]
     },
     "execution_count": 11,
     "metadata": {},
     "output_type": "execute_result"
    }
   ],
   "source": [
    "accuracy_score(y, y_pred)"
   ]
  },
  {
   "cell_type": "code",
   "execution_count": 12,
   "id": "b158fcce",
   "metadata": {},
   "outputs": [
    {
     "name": "stdout",
     "output_type": "stream",
     "text": [
      "19051\n",
      "22139\n",
      "249508\n",
      "1054612\n",
      "0.7980785097858486\n"
     ]
    }
   ],
   "source": [
    "TN, FP, FN, TP = conf_mat.ravel()\n",
    "print(TP)\n",
    "print(FP)\n",
    "print(FN)\n",
    "print(TN)\n",
    "print((TP + TN) / (TN + TP + FP + FN))"
   ]
  },
  {
   "cell_type": "code",
   "execution_count": 13,
   "id": "0559f373",
   "metadata": {},
   "outputs": [
    {
     "name": "stdout",
     "output_type": "stream",
     "text": [
      "0.0    1076751\n",
      "1.0     268559\n",
      "Name: loan_status_bin, dtype: int64\n",
      "\n",
      "0.8003738915194267\n"
     ]
    }
   ],
   "source": [
    "#Re-examine original pool of accepted LC Loans: \n",
    "\n",
    "print(data.loan_status_bin.value_counts())\n",
    "#0 = Loan Fully Paid\n",
    "#1 = Loan Defaulted\n",
    "\n",
    "good_loan = data.loan_status_bin.value_counts()[0]\n",
    "bad_loan = data.loan_status_bin.value_counts()[1]\n",
    "\n",
    "print()\n",
    "print(good_loan / (good_loan + bad_loan))\n",
    "\n",
    "#Random investment into accepted loans would give us 80% chance of pickkng a good loan"
   ]
  },
  {
   "cell_type": "code",
   "execution_count": 14,
   "id": "d1f9b06b",
   "metadata": {},
   "outputs": [
    {
     "data": {
      "text/plain": [
       "0.8086771156028586"
      ]
     },
     "execution_count": 14,
     "metadata": {},
     "output_type": "execute_result"
    }
   ],
   "source": [
    "#Negative Predictive Value\n",
    "#Logistic model does not do better than Null Model (or Randomly choosing an investment)\n",
    "TN / (TN + FN)"
   ]
  },
  {
   "cell_type": "code",
   "execution_count": 15,
   "id": "63a4a488",
   "metadata": {},
   "outputs": [
    {
     "data": {
      "text/plain": [
       "0.07093785723062716"
      ]
     },
     "execution_count": 15,
     "metadata": {},
     "output_type": "execute_result"
    }
   ],
   "source": [
    "#Basic Metrics I ~ True Positive Rate\n",
    "#1. True Positive Rate (=Recall or Sensitivity) = TP / (TP + FN)\n",
    "TPR = TP / (TP+FN)\n",
    "TPR"
   ]
  },
  {
   "cell_type": "code",
   "execution_count": 16,
   "id": "0a3fd595",
   "metadata": {},
   "outputs": [
    {
     "name": "stdout",
     "output_type": "stream",
     "text": [
      "[0.07099104 0.07102696 0.07030086 0.07167858 0.07069184]\n",
      "0.07093785742867391\n"
     ]
    }
   ],
   "source": [
    "#Cross Checking Recall from Model:\n",
    "\n",
    "cv = RepeatedStratifiedKFold(n_splits=5, n_repeats=1, random_state=1)\n",
    "scores = cross_val_score(pipeline, X, y, scoring='recall', cv=cv, n_jobs=-1) \n",
    "\n",
    "print(scores)\n",
    "score = np.mean(scores)\n",
    "print(score)"
   ]
  },
  {
   "cell_type": "code",
   "execution_count": 17,
   "id": "5121424c",
   "metadata": {},
   "outputs": [
    {
     "data": {
      "text/plain": [
       "0.02056092819974163"
      ]
     },
     "execution_count": 17,
     "metadata": {},
     "output_type": "execute_result"
    }
   ],
   "source": [
    "#Basic Metrics II ~ False Positive Rate\n",
    "#2. False Postive Rate = FP / (FP + TN)\n",
    "FPR = FP / (FP + TN)\n",
    "FPR"
   ]
  },
  {
   "cell_type": "code",
   "execution_count": null,
   "id": "1775317f",
   "metadata": {},
   "outputs": [],
   "source": []
  },
  {
   "cell_type": "code",
   "execution_count": 18,
   "id": "6f9309af",
   "metadata": {},
   "outputs": [],
   "source": [
    "#Part II - Experimenting with Different Thresholds ~ Optimal TPR - FPR: "
   ]
  },
  {
   "cell_type": "code",
   "execution_count": 19,
   "id": "0264cea2",
   "metadata": {},
   "outputs": [],
   "source": [
    "class LogisticRegressionWithThreshold(LogisticRegression):\n",
    "    def predict(self, X, threshold=None):\n",
    "        if threshold == None: # If no threshold passed in, simply call the base class predict, effectively threshold=0.5\n",
    "            return LogisticRegression.predict(self, X)\n",
    "        else:\n",
    "            y_scores = LogisticRegression.predict_proba(self, X)[:, 1]\n",
    "            y_pred_with_threshold = (y_scores >= threshold).astype(int)\n",
    "\n",
    "            return y_pred_with_threshold\n",
    "    \n",
    "    def threshold_from_optimal_tpr_minus_fpr(self, X, y):\n",
    "        y_scores = LogisticRegression.predict_proba(self, X)[:, 1]\n",
    "        fpr, tpr, thresholds = roc_curve(y, y_scores) \n",
    "\n",
    "        optimal_idx = np.argmax(tpr - fpr)\n",
    "\n",
    "        return thresholds[optimal_idx], tpr[optimal_idx] - fpr[optimal_idx]"
   ]
  },
  {
   "cell_type": "code",
   "execution_count": 20,
   "id": "c18c387c",
   "metadata": {},
   "outputs": [
    {
     "data": {
      "text/plain": [
       "array([[ 0.19627602],\n",
       "       [ 0.19627602],\n",
       "       [-0.57588288],\n",
       "       ...,\n",
       "       [ 0.19627602],\n",
       "       [ 0.19627602],\n",
       "       [ 0.19627602]])"
      ]
     },
     "execution_count": 20,
     "metadata": {},
     "output_type": "execute_result"
    }
   ],
   "source": [
    "X_array = X.iloc[:,0:].values\n",
    "X_array"
   ]
  },
  {
   "cell_type": "code",
   "execution_count": 21,
   "id": "4a42f911",
   "metadata": {},
   "outputs": [
    {
     "data": {
      "text/plain": [
       "array([[ 0.19627602],\n",
       "       [ 0.19627602],\n",
       "       [-0.57588288],\n",
       "       ...,\n",
       "       [ 0.19627602],\n",
       "       [ 0.19627602],\n",
       "       [ 0.19627602]])"
      ]
     },
     "execution_count": 21,
     "metadata": {},
     "output_type": "execute_result"
    }
   ],
   "source": [
    "X_array = X.to_numpy()\n",
    "X_array"
   ]
  },
  {
   "cell_type": "code",
   "execution_count": 22,
   "id": "630f2e0c",
   "metadata": {},
   "outputs": [
    {
     "data": {
      "text/plain": [
       "1345310"
      ]
     },
     "execution_count": 22,
     "metadata": {},
     "output_type": "execute_result"
    }
   ],
   "source": [
    "len(X_array)"
   ]
  },
  {
   "cell_type": "code",
   "execution_count": 23,
   "id": "c02578ab",
   "metadata": {},
   "outputs": [
    {
     "data": {
      "text/plain": [
       "array([0., 0., 0., ..., 1., 0., 1.])"
      ]
     },
     "execution_count": 23,
     "metadata": {},
     "output_type": "execute_result"
    }
   ],
   "source": [
    "y_array = y.to_numpy()\n",
    "y_array"
   ]
  },
  {
   "cell_type": "code",
   "execution_count": 9,
   "id": "b0d93974",
   "metadata": {},
   "outputs": [
    {
     "name": "stdout",
     "output_type": "stream",
     "text": [
      "[0.20135, 0.2015, 0.20138, 0.20139, 0.20134]\n",
      "0.20139200000000002\n"
     ]
    }
   ],
   "source": [
    "#Obtaining optimal mean threshold value via StratifiedKFold: \n",
    "\n",
    "lrt = LogisticRegressionWithThreshold()\n",
    "rskf = RepeatedStratifiedKFold(n_splits=5, n_repeats=1, random_state=1)\n",
    "\n",
    "thresholds = []\n",
    "\n",
    "for train_index, test_index in rskf.split(X,y):\n",
    "    lrt.fit(X_array[train_index], y_array[train_index])\n",
    "    threshold, optimal_f1_score = lrt.threshold_from_optimal_f_score(X_array[train_index], y_array[train_index])\n",
    "    thresholds.append(round(threshold,5))\n",
    "    \n",
    "print (thresholds)\n",
    "optimal = np.mean(thresholds)\n",
    "print(optimal)"
   ]
  },
  {
   "cell_type": "code",
   "execution_count": null,
   "id": "8f52e4ca",
   "metadata": {},
   "outputs": [],
   "source": []
  },
  {
   "cell_type": "code",
   "execution_count": 25,
   "id": "e17beca0",
   "metadata": {},
   "outputs": [],
   "source": [
    "steps = [('model', lr1)]\n",
    "pipeline = Pipeline(steps=steps)\n",
    "cv = RepeatedStratifiedKFold(n_splits=5, n_repeats=1, random_state=1)"
   ]
  },
  {
   "cell_type": "code",
   "execution_count": 26,
   "id": "492e4cda",
   "metadata": {},
   "outputs": [],
   "source": [
    "y_pred2 = cross_val_predict(pipeline, X, y, cv=cv, n_jobs=-1, method='predict_proba')"
   ]
  },
  {
   "cell_type": "code",
   "execution_count": 27,
   "id": "dcc25451",
   "metadata": {},
   "outputs": [
    {
     "data": {
      "text/plain": [
       "1345310"
      ]
     },
     "execution_count": 27,
     "metadata": {},
     "output_type": "execute_result"
    }
   ],
   "source": [
    "len(y_pred2)"
   ]
  },
  {
   "cell_type": "code",
   "execution_count": 28,
   "id": "ca84c57d",
   "metadata": {},
   "outputs": [
    {
     "data": {
      "text/plain": [
       "array([[0.79850161, 0.20149839],\n",
       "       [0.79860692, 0.20139308],\n",
       "       [0.86595566, 0.13404434],\n",
       "       ...,\n",
       "       [0.79862405, 0.20137595],\n",
       "       [0.79864786, 0.20135214],\n",
       "       [0.79860692, 0.20139308]])"
      ]
     },
     "execution_count": 28,
     "metadata": {},
     "output_type": "execute_result"
    }
   ],
   "source": [
    "y_pred2"
   ]
  },
  {
   "cell_type": "code",
   "execution_count": null,
   "id": "1add8dce",
   "metadata": {},
   "outputs": [],
   "source": []
  },
  {
   "cell_type": "code",
   "execution_count": 29,
   "id": "917027d1",
   "metadata": {},
   "outputs": [],
   "source": [
    "#Obtaining classification based on desired threshold: \n",
    "\n",
    "threshold = optimal\n",
    "y_pred2 = (y_pred2[:, 1] > threshold).astype('float')\n",
    "#confusion_matrix(y_test, y_pred)"
   ]
  },
  {
   "cell_type": "code",
   "execution_count": 30,
   "id": "ad09b4ed",
   "metadata": {},
   "outputs": [
    {
     "data": {
      "text/plain": [
       "array([1., 1., 0., ..., 0., 0., 1.])"
      ]
     },
     "execution_count": 30,
     "metadata": {},
     "output_type": "execute_result"
    }
   ],
   "source": [
    "y_pred2"
   ]
  },
  {
   "cell_type": "code",
   "execution_count": 31,
   "id": "e402faf9",
   "metadata": {},
   "outputs": [
    {
     "data": {
      "text/plain": [
       "1345310"
      ]
     },
     "execution_count": 31,
     "metadata": {},
     "output_type": "execute_result"
    }
   ],
   "source": [
    "len(y_pred2)"
   ]
  },
  {
   "cell_type": "code",
   "execution_count": 32,
   "id": "8f838c65",
   "metadata": {},
   "outputs": [
    {
     "data": {
      "text/plain": [
       "array([[738907, 337844],\n",
       "       [118216, 150343]])"
      ]
     },
     "execution_count": 32,
     "metadata": {},
     "output_type": "execute_result"
    }
   ],
   "source": [
    "conf_mat2 = confusion_matrix(y, y_pred2)\n",
    "conf_mat2"
   ]
  },
  {
   "cell_type": "code",
   "execution_count": 33,
   "id": "72fdd770",
   "metadata": {},
   "outputs": [
    {
     "data": {
      "image/png": "[encoded data removed]",
      "text/plain": [
       "<Figure size 864x432 with 1 Axes>"
      ]
     },
     "metadata": {},
     "output_type": "display_data"
    }
   ],
   "source": [
    "sns.set(rc = {'figure.figsize':(12,6)})\n",
    "#cmap = sns.cubehelix_palette(start=2, rot=0, dark=0, light=.95, reverse=True, as_cmap=True)\n",
    "cmap = sns.light_palette('seagreen', as_cmap=True)\n",
    "\n",
    "res = sns.heatmap(conf_mat2, annot=True, fmt='d', annot_kws={\"size\":20},\n",
    "#            xticklabels = ['Good = Paid In Full', 'Bad = Default'],\n",
    "#            yticklabels = ['Loan Paid In Full', 'Bad = Default'], \n",
    "            cmap=cmap, cbar=False)\n",
    "\n",
    "res.set_xticklabels(['Loan Repaid', 'Loan Default'], fontsize=15)\n",
    "res.set_yticklabels(['Loan Repaid', 'Loan Default'], fontsize=15)\n",
    "\n",
    "\n",
    "plt.title('Confusion Matrix For Logistic Regression (Threshold=0.2)', fontsize=25, pad=15)\n",
    "plt.xlabel('Predicted', fontsize=20)\n",
    "plt.ylabel('Actual', fontsize=20);"
   ]
  },
  {
   "cell_type": "code",
   "execution_count": 34,
   "id": "6c374f8e",
   "metadata": {},
   "outputs": [
    {
     "data": {
      "text/plain": [
       "0.661000066899079"
      ]
     },
     "execution_count": 34,
     "metadata": {},
     "output_type": "execute_result"
    }
   ],
   "source": [
    "accuracy_score(y, y_pred2)"
   ]
  },
  {
   "cell_type": "code",
   "execution_count": 35,
   "id": "7f8718fe",
   "metadata": {},
   "outputs": [
    {
     "name": "stdout",
     "output_type": "stream",
     "text": [
      "150343\n",
      "337844\n",
      "118216\n",
      "738907\n",
      "0.661000066899079\n"
     ]
    }
   ],
   "source": [
    "TN, FP, FN, TP = conf_mat2.ravel()\n",
    "print(TP)\n",
    "print(FP)\n",
    "print(FN)\n",
    "print(TN)\n",
    "print((TP + TN) / (TN + TP + FP + FN))"
   ]
  },
  {
   "cell_type": "code",
   "execution_count": 37,
   "id": "2c8e2426",
   "metadata": {},
   "outputs": [
    {
     "name": "stdout",
     "output_type": "stream",
     "text": [
      "0.0    1076751\n",
      "1.0     268559\n",
      "Name: loan_status_bin, dtype: int64\n",
      "\n",
      "0.8003738915194267\n"
     ]
    }
   ],
   "source": [
    "#Re-examine original pool of accepted LC Loans: \n",
    "\n",
    "print(data.loan_status_bin.value_counts())\n",
    "#0 = Loan Fully Paid\n",
    "#1 = Loan Defaulted\n",
    "\n",
    "good_loan = data.loan_status_bin.value_counts()[0]\n",
    "bad_loan = data.loan_status_bin.value_counts()[1]\n",
    "\n",
    "print()\n",
    "print(good_loan / (good_loan + bad_loan))\n",
    "\n",
    "#Random investment into accepted loans would give us 80% chance of pickkng a good loan"
   ]
  },
  {
   "cell_type": "code",
   "execution_count": 36,
   "id": "f79ce38f",
   "metadata": {},
   "outputs": [
    {
     "data": {
      "text/plain": [
       "0.8620781381435336"
      ]
     },
     "execution_count": 36,
     "metadata": {},
     "output_type": "execute_result"
    }
   ],
   "source": [
    "#Negative Predictive Value\n",
    "#Logistic with adjusted threshold of 0.2 does BETTER than Null Model (or Randomly choosing an investment)\n",
    "TN / (TN + FN)"
   ]
  },
  {
   "cell_type": "code",
   "execution_count": 38,
   "id": "22d69eb4",
   "metadata": {},
   "outputs": [
    {
     "data": {
      "text/plain": [
       "0.5598136722284489"
      ]
     },
     "execution_count": 38,
     "metadata": {},
     "output_type": "execute_result"
    }
   ],
   "source": [
    "#Basic Metrics I ~ True Positive Rate\n",
    "#1. True Positive Rate (=Recall or Sensitivity) = TP / (TP + FN)\n",
    "TPR = TP / (TP+FN)\n",
    "TPR"
   ]
  },
  {
   "cell_type": "code",
   "execution_count": 41,
   "id": "ea6e6a7b",
   "metadata": {},
   "outputs": [
    {
     "data": {
      "text/plain": [
       "0.313762420466756"
      ]
     },
     "execution_count": 41,
     "metadata": {},
     "output_type": "execute_result"
    }
   ],
   "source": [
    "#Basic Metrics II ~ False Positive Rate\n",
    "#2. False Postive Rate = FP / (FP + TN)\n",
    "FPR = FP / (FP + TN)\n",
    "FPR"
   ]
  },
  {
   "cell_type": "code",
   "execution_count": null,
   "id": "32601e29",
   "metadata": {},
   "outputs": [],
   "source": []
  },
  {
   "cell_type": "code",
   "execution_count": 45,
   "id": "02a20e0e",
   "metadata": {},
   "outputs": [
    {
     "data": {
      "text/plain": [
       "array([[ 0.19627602],\n",
       "       [ 0.19627602],\n",
       "       [-0.57588288],\n",
       "       ...,\n",
       "       [ 0.19627602],\n",
       "       [ 0.19627602],\n",
       "       [ 0.19627602]])"
      ]
     },
     "execution_count": 45,
     "metadata": {},
     "output_type": "execute_result"
    }
   ],
   "source": [
    "X_array = X.iloc[:,0:].values\n",
    "X_array"
   ]
  },
  {
   "cell_type": "code",
   "execution_count": 46,
   "id": "c0523b57",
   "metadata": {},
   "outputs": [
    {
     "data": {
      "text/plain": [
       "array([0., 0., 0., ..., 1., 0., 1.])"
      ]
     },
     "execution_count": 46,
     "metadata": {},
     "output_type": "execute_result"
    }
   ],
   "source": [
    "y_array = y.to_numpy()\n",
    "y_array"
   ]
  },
  {
   "cell_type": "code",
   "execution_count": 47,
   "id": "9a521c91",
   "metadata": {},
   "outputs": [
    {
     "data": {
      "image/png": "[encoded data removed]",
      "text/plain": [
       "<Figure size 864x432 with 1 Axes>"
      ]
     },
     "metadata": {},
     "output_type": "display_data"
    }
   ],
   "source": [
    "from sklearn.metrics import auc\n",
    "from sklearn.metrics import RocCurveDisplay\n",
    "from sklearn.model_selection import StratifiedKFold\n",
    "\n",
    "# Run classifier with cross-validation and plot ROC curves\n",
    "cv = StratifiedKFold(n_splits=5)\n",
    "#cv = RepeatedStratifiedKFold(n_splits=5, n_repeats=1, random_state=1)\n",
    "classifier = LogisticRegression()\n",
    "\n",
    "tprs = []\n",
    "aucs = []\n",
    "mean_fpr = np.linspace(0, 1, 100)\n",
    "\n",
    "fig, ax = plt.subplots()\n",
    "for i, (train, test) in enumerate(cv.split(X_array, y_array)):\n",
    "    classifier.fit(X_array[train], y_array[train])\n",
    "    viz = RocCurveDisplay.from_estimator(\n",
    "        classifier,\n",
    "        X_array[test],\n",
    "        y_array[test],\n",
    "        name=\"ROC fold {}\".format(i),\n",
    "        alpha=0.3,\n",
    "        lw=1,\n",
    "        ax=ax,\n",
    "    )\n",
    "    interp_tpr = np.interp(mean_fpr, viz.fpr, viz.tpr)\n",
    "    interp_tpr[0] = 0.0\n",
    "    tprs.append(interp_tpr)\n",
    "    aucs.append(viz.roc_auc)\n",
    "\n",
    "ax.plot([0, 1], [0, 1], linestyle=\"--\", lw=2, color=\"r\", label=\"Chance\", alpha=0.8)\n",
    "\n",
    "mean_tpr = np.mean(tprs, axis=0)\n",
    "mean_tpr[-1] = 1.0\n",
    "mean_auc = auc(mean_fpr, mean_tpr)\n",
    "std_auc = np.std(aucs)\n",
    "ax.plot(\n",
    "    mean_fpr,\n",
    "    mean_tpr,\n",
    "    color=\"b\",\n",
    "    label=r\"Mean ROC (AUC = %0.2f $\\pm$ %0.2f)\" % (mean_auc, std_auc),\n",
    "    lw=2,\n",
    "    alpha=0.8,\n",
    ")\n",
    "\n",
    "std_tpr = np.std(tprs, axis=0)\n",
    "tprs_upper = np.minimum(mean_tpr + std_tpr, 1)\n",
    "tprs_lower = np.maximum(mean_tpr - std_tpr, 0)\n",
    "ax.fill_between(\n",
    "    mean_fpr,\n",
    "    tprs_lower,\n",
    "    tprs_upper,\n",
    "    color=\"grey\",\n",
    "    alpha=0.2,\n",
    "    label=r\"$\\pm$ 1 std. dev.\",\n",
    ")\n",
    "\n",
    "ax.set(\n",
    "    xlim=[-0.05, 1.05],\n",
    "    ylim=[-0.05, 1.05],\n",
    "    title=\"Receiver operating characteristic example\",\n",
    ")\n",
    "ax.legend(loc=\"lower right\")\n",
    "plt.show()"
   ]
  },
  {
   "cell_type": "code",
   "execution_count": null,
   "id": "4482cafc",
   "metadata": {},
   "outputs": [],
   "source": [
    "#diff between stratified kfold and repeated stratified kfold? "
   ]
  },
  {
   "cell_type": "code",
   "execution_count": null,
   "id": "c96a49b8",
   "metadata": {},
   "outputs": [],
   "source": []
  },
  {
   "cell_type": "code",
   "execution_count": null,
   "id": "86f4fd02",
   "metadata": {},
   "outputs": [],
   "source": []
  },
  {
   "cell_type": "code",
   "execution_count": null,
   "id": "a1a0593d",
   "metadata": {},
   "outputs": [],
   "source": []
  },
  {
   "cell_type": "code",
   "execution_count": null,
   "id": "105836c2",
   "metadata": {},
   "outputs": [],
   "source": []
  }
 ],
 "metadata": {
  "hide_input": false,
  "kernelspec": {
   "display_name": "Python 3 (ipykernel)",
   "language": "python",
   "name": "python3"
  },
  "language_info": {
   "codemirror_mode": {
    "name": "ipython",
    "version": 3
   },
   "file_extension": ".py",
   "mimetype": "text/x-python",
   "name": "python",
   "nbconvert_exporter": "python",
   "pygments_lexer": "ipython3",
   "version": "3.8.8"
  },
  "varInspector": {
   "cols": {
    "lenName": 16,
    "lenType": 16,
    "lenVar": 40
   },
   "kernels_config": {
    "python": {
     "delete_cmd_postfix": "",
     "delete_cmd_prefix": "del ",
     "library": "var_list.py",
     "varRefreshCmd": "print(var_dic_list())"
    },
    "r": {
     "delete_cmd_postfix": ") ",
     "delete_cmd_prefix": "rm(",
     "library": "var_list.r",
     "varRefreshCmd": "cat(var_dic_list()) "
    }
   },
   "types_to_exclude": [
    "module",
    "function",
    "builtin_function_or_method",
    "instance",
    "_Feature"
   ],
   "window_display": false
  }
 },
 "nbformat": 4,
 "nbformat_minor": 5
}
