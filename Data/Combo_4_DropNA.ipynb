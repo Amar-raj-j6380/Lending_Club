{
 "cells": [
  {
   "cell_type": "code",
   "execution_count": 1,
   "id": "b9e63b29",
   "metadata": {},
   "outputs": [],
   "source": [
    "import pandas as pd"
   ]
  },
  {
   "cell_type": "code",
   "execution_count": 2,
   "id": "e38f8523",
   "metadata": {},
   "outputs": [],
   "source": [
    "rejected_drop = pd.read_csv('Rejected_DropNAs.csv')"
   ]
  },
  {
   "cell_type": "code",
   "execution_count": 3,
   "id": "56314ac7",
   "metadata": {},
   "outputs": [
    {
     "data": {
      "text/plain": [
       "(8992195, 5)"
      ]
     },
     "execution_count": 3,
     "metadata": {},
     "output_type": "execute_result"
    }
   ],
   "source": [
    "rejected_drop.shape"
   ]
  },
  {
   "cell_type": "code",
   "execution_count": 4,
   "id": "b80c8a8b",
   "metadata": {},
   "outputs": [
    {
     "data": {
      "text/plain": [
       "Risk_Score           0\n",
       "DI                   0\n",
       "Loan Type            0\n",
       "Employment Length    0\n",
       "Accepted             0\n",
       "dtype: int64"
      ]
     },
     "execution_count": 4,
     "metadata": {},
     "output_type": "execute_result"
    }
   ],
   "source": [
    "rejected_drop.isnull().sum()                 #No Null Values"
   ]
  },
  {
   "cell_type": "code",
   "execution_count": 5,
   "id": "26afd083",
   "metadata": {},
   "outputs": [
    {
     "data": {
      "text/plain": [
       "Risk_Score           float64\n",
       "DI                   float64\n",
       "Loan Type             object\n",
       "Employment Length     object\n",
       "Accepted               int64\n",
       "dtype: object"
      ]
     },
     "execution_count": 5,
     "metadata": {},
     "output_type": "execute_result"
    }
   ],
   "source": [
    "rejected_drop.dtypes"
   ]
  },
  {
   "cell_type": "code",
   "execution_count": null,
   "id": "7efa350a",
   "metadata": {},
   "outputs": [],
   "source": []
  },
  {
   "cell_type": "code",
   "execution_count": 6,
   "id": "563af6a3",
   "metadata": {},
   "outputs": [],
   "source": [
    "accepted_drop = pd.read_csv('Accepted_DropNAs.csv')"
   ]
  },
  {
   "cell_type": "code",
   "execution_count": 7,
   "id": "84c6f9b8",
   "metadata": {},
   "outputs": [
    {
     "data": {
      "text/plain": [
       "(2113757, 5)"
      ]
     },
     "execution_count": 7,
     "metadata": {},
     "output_type": "execute_result"
    }
   ],
   "source": [
    "accepted_drop.shape"
   ]
  },
  {
   "cell_type": "code",
   "execution_count": 8,
   "id": "d0995d94",
   "metadata": {},
   "outputs": [
    {
     "data": {
      "text/plain": [
       "Risk_Score           0\n",
       "DI                   0\n",
       "Loan Type            0\n",
       "Employment Length    0\n",
       "Accepted             0\n",
       "dtype: int64"
      ]
     },
     "execution_count": 8,
     "metadata": {},
     "output_type": "execute_result"
    }
   ],
   "source": [
    "accepted_drop.isnull().sum()                 #No Null Values"
   ]
  },
  {
   "cell_type": "code",
   "execution_count": 9,
   "id": "8bb81db1",
   "metadata": {},
   "outputs": [
    {
     "data": {
      "text/plain": [
       "Risk_Score           float64\n",
       "DI                   float64\n",
       "Loan Type             object\n",
       "Employment Length     object\n",
       "Accepted               int64\n",
       "dtype: object"
      ]
     },
     "execution_count": 9,
     "metadata": {},
     "output_type": "execute_result"
    }
   ],
   "source": [
    "accepted_drop.dtypes"
   ]
  },
  {
   "cell_type": "code",
   "execution_count": null,
   "id": "4f03f46e",
   "metadata": {},
   "outputs": [],
   "source": []
  },
  {
   "cell_type": "code",
   "execution_count": 11,
   "id": "d5e1b545",
   "metadata": {},
   "outputs": [],
   "source": [
    "combo = pd.concat([accepted_drop, rejected_drop], axis=0, ignore_index=True)"
   ]
  },
  {
   "cell_type": "code",
   "execution_count": 12,
   "id": "4f11c2c8",
   "metadata": {},
   "outputs": [
    {
     "data": {
      "text/plain": [
       "(11105952, 5)"
      ]
     },
     "execution_count": 12,
     "metadata": {},
     "output_type": "execute_result"
    }
   ],
   "source": [
    "combo.shape"
   ]
  },
  {
   "cell_type": "code",
   "execution_count": 13,
   "id": "715760d6",
   "metadata": {},
   "outputs": [
    {
     "data": {
      "text/html": [
       "<div>\n",
       "<style scoped>\n",
       "    .dataframe tbody tr th:only-of-type {\n",
       "        vertical-align: middle;\n",
       "    }\n",
       "\n",
       "    .dataframe tbody tr th {\n",
       "        vertical-align: top;\n",
       "    }\n",
       "\n",
       "    .dataframe thead th {\n",
       "        text-align: right;\n",
       "    }\n",
       "</style>\n",
       "<table border=\"1\" class=\"dataframe\">\n",
       "  <thead>\n",
       "    <tr style=\"text-align: right;\">\n",
       "      <th></th>\n",
       "      <th>Risk_Score</th>\n",
       "      <th>DI</th>\n",
       "      <th>Loan Type</th>\n",
       "      <th>Employment Length</th>\n",
       "      <th>Accepted</th>\n",
       "    </tr>\n",
       "  </thead>\n",
       "  <tbody>\n",
       "    <tr>\n",
       "      <th>0</th>\n",
       "      <td>677.0</td>\n",
       "      <td>0.065455</td>\n",
       "      <td>Debt Consolidation</td>\n",
       "      <td>10+ years</td>\n",
       "      <td>1</td>\n",
       "    </tr>\n",
       "    <tr>\n",
       "      <th>1</th>\n",
       "      <td>717.0</td>\n",
       "      <td>0.380000</td>\n",
       "      <td>Business Loan</td>\n",
       "      <td>10+ years</td>\n",
       "      <td>1</td>\n",
       "    </tr>\n",
       "    <tr>\n",
       "      <th>2</th>\n",
       "      <td>697.0</td>\n",
       "      <td>0.317460</td>\n",
       "      <td>Home Improvement</td>\n",
       "      <td>10+ years</td>\n",
       "      <td>1</td>\n",
       "    </tr>\n",
       "    <tr>\n",
       "      <th>3</th>\n",
       "      <td>787.0</td>\n",
       "      <td>0.318182</td>\n",
       "      <td>Debt Consolidation</td>\n",
       "      <td>10+ years</td>\n",
       "      <td>1</td>\n",
       "    </tr>\n",
       "    <tr>\n",
       "      <th>4</th>\n",
       "      <td>697.0</td>\n",
       "      <td>0.099585</td>\n",
       "      <td>Major Purchase</td>\n",
       "      <td>3 years</td>\n",
       "      <td>1</td>\n",
       "    </tr>\n",
       "    <tr>\n",
       "      <th>...</th>\n",
       "      <td>...</td>\n",
       "      <td>...</td>\n",
       "      <td>...</td>\n",
       "      <td>...</td>\n",
       "      <td>...</td>\n",
       "    </tr>\n",
       "    <tr>\n",
       "      <th>11105947</th>\n",
       "      <td>681.0</td>\n",
       "      <td>0.551500</td>\n",
       "      <td>Debt Consolidation</td>\n",
       "      <td>&lt; 1 year</td>\n",
       "      <td>0</td>\n",
       "    </tr>\n",
       "    <tr>\n",
       "      <th>11105948</th>\n",
       "      <td>531.0</td>\n",
       "      <td>0.313100</td>\n",
       "      <td>Debt Consolidation</td>\n",
       "      <td>&lt; 1 year</td>\n",
       "      <td>0</td>\n",
       "    </tr>\n",
       "    <tr>\n",
       "      <th>11105949</th>\n",
       "      <td>590.0</td>\n",
       "      <td>0.412600</td>\n",
       "      <td>Debt Consolidation</td>\n",
       "      <td>&lt; 1 year</td>\n",
       "      <td>0</td>\n",
       "    </tr>\n",
       "    <tr>\n",
       "      <th>11105950</th>\n",
       "      <td>686.0</td>\n",
       "      <td>0.102600</td>\n",
       "      <td>Other</td>\n",
       "      <td>&lt; 1 year</td>\n",
       "      <td>0</td>\n",
       "    </tr>\n",
       "    <tr>\n",
       "      <th>11105951</th>\n",
       "      <td>684.0</td>\n",
       "      <td>0.105800</td>\n",
       "      <td>Business Loan</td>\n",
       "      <td>&lt; 1 year</td>\n",
       "      <td>0</td>\n",
       "    </tr>\n",
       "  </tbody>\n",
       "</table>\n",
       "<p>11105952 rows × 5 columns</p>\n",
       "</div>"
      ],
      "text/plain": [
       "          Risk_Score        DI           Loan Type Employment Length  Accepted\n",
       "0              677.0  0.065455  Debt Consolidation         10+ years         1\n",
       "1              717.0  0.380000       Business Loan         10+ years         1\n",
       "2              697.0  0.317460    Home Improvement         10+ years         1\n",
       "3              787.0  0.318182  Debt Consolidation         10+ years         1\n",
       "4              697.0  0.099585      Major Purchase           3 years         1\n",
       "...              ...       ...                 ...               ...       ...\n",
       "11105947       681.0  0.551500  Debt Consolidation          < 1 year         0\n",
       "11105948       531.0  0.313100  Debt Consolidation          < 1 year         0\n",
       "11105949       590.0  0.412600  Debt Consolidation          < 1 year         0\n",
       "11105950       686.0  0.102600               Other          < 1 year         0\n",
       "11105951       684.0  0.105800       Business Loan          < 1 year         0\n",
       "\n",
       "[11105952 rows x 5 columns]"
      ]
     },
     "execution_count": 13,
     "metadata": {},
     "output_type": "execute_result"
    }
   ],
   "source": [
    "combo"
   ]
  },
  {
   "cell_type": "code",
   "execution_count": 14,
   "id": "66d4679c",
   "metadata": {},
   "outputs": [
    {
     "data": {
      "text/plain": [
       "Risk_Score           float64\n",
       "DI                   float64\n",
       "Loan Type             object\n",
       "Employment Length     object\n",
       "Accepted               int64\n",
       "dtype: object"
      ]
     },
     "execution_count": 14,
     "metadata": {},
     "output_type": "execute_result"
    }
   ],
   "source": [
    "combo.dtypes"
   ]
  },
  {
   "cell_type": "code",
   "execution_count": 15,
   "id": "414e847a",
   "metadata": {},
   "outputs": [],
   "source": [
    "combo.to_csv('Combo_4_DropNAs.csv', index=False)"
   ]
  },
  {
   "cell_type": "code",
   "execution_count": null,
   "id": "be4921c8",
   "metadata": {},
   "outputs": [],
   "source": []
  }
 ],
 "metadata": {
  "hide_input": false,
  "kernelspec": {
   "display_name": "Python 3 (ipykernel)",
   "language": "python",
   "name": "python3"
  },
  "language_info": {
   "codemirror_mode": {
    "name": "ipython",
    "version": 3
   },
   "file_extension": ".py",
   "mimetype": "text/x-python",
   "name": "python",
   "nbconvert_exporter": "python",
   "pygments_lexer": "ipython3",
   "version": "3.8.8"
  },
  "varInspector": {
   "cols": {
    "lenName": 16,
    "lenType": 16,
    "lenVar": 40
   },
   "kernels_config": {
    "python": {
     "delete_cmd_postfix": "",
     "delete_cmd_prefix": "del ",
     "library": "var_list.py",
     "varRefreshCmd": "print(var_dic_list())"
    },
    "r": {
     "delete_cmd_postfix": ") ",
     "delete_cmd_prefix": "rm(",
     "library": "var_list.r",
     "varRefreshCmd": "cat(var_dic_list()) "
    }
   },
   "types_to_exclude": [
    "module",
    "function",
    "builtin_function_or_method",
    "instance",
    "_Feature"
   ],
   "window_display": false
  }
 },
 "nbformat": 4,
 "nbformat_minor": 5
}
