{
 "cells": [
  {
   "cell_type": "code",
   "execution_count": 1,
   "id": "3a4af4c7",
   "metadata": {},
   "outputs": [],
   "source": [
    "import pandas as pd\n",
    "import seaborn as sns\n",
    "import numpy as np\n",
    "sns.set()\n",
    "import matplotlib.pyplot as plt\n",
    "#import missingno as msnum"
   ]
  },
  {
   "cell_type": "code",
   "execution_count": 2,
   "id": "59335260",
   "metadata": {},
   "outputs": [],
   "source": [
    "pd.set_option(\"display.max_columns\", 200)\n",
    "pd.set_option(\"display.max_row\", 160)\n",
    "pd.set_option('max_colwidth', 200)"
   ]
  },
  {
   "cell_type": "code",
   "execution_count": 3,
   "id": "2c9fd863",
   "metadata": {},
   "outputs": [
    {
     "data": {
      "text/plain": [
       "(27648741, 9)"
      ]
     },
     "execution_count": 3,
     "metadata": {},
     "output_type": "execute_result"
    }
   ],
   "source": [
    "rejected = pd.read_csv('rejected.csv')\n",
    "rejected.shape"
   ]
  },
  {
   "cell_type": "code",
   "execution_count": 4,
   "id": "0b87a293",
   "metadata": {},
   "outputs": [
    {
     "data": {
      "text/html": [
       "<div>\n",
       "<style scoped>\n",
       "    .dataframe tbody tr th:only-of-type {\n",
       "        vertical-align: middle;\n",
       "    }\n",
       "\n",
       "    .dataframe tbody tr th {\n",
       "        vertical-align: top;\n",
       "    }\n",
       "\n",
       "    .dataframe thead th {\n",
       "        text-align: right;\n",
       "    }\n",
       "</style>\n",
       "<table border=\"1\" class=\"dataframe\">\n",
       "  <thead>\n",
       "    <tr style=\"text-align: right;\">\n",
       "      <th></th>\n",
       "      <th>Amount Requested</th>\n",
       "      <th>Application Date</th>\n",
       "      <th>Loan Title</th>\n",
       "      <th>Risk_Score</th>\n",
       "      <th>Debt-To-Income Ratio</th>\n",
       "      <th>Zip Code</th>\n",
       "      <th>State</th>\n",
       "      <th>Employment Length</th>\n",
       "      <th>Policy Code</th>\n",
       "    </tr>\n",
       "  </thead>\n",
       "  <tbody>\n",
       "    <tr>\n",
       "      <th>0</th>\n",
       "      <td>1000.0</td>\n",
       "      <td>2007-05-26</td>\n",
       "      <td>Wedding Covered but No Honeymoon</td>\n",
       "      <td>693.0</td>\n",
       "      <td>10%</td>\n",
       "      <td>481xx</td>\n",
       "      <td>NM</td>\n",
       "      <td>4 years</td>\n",
       "      <td>0.0</td>\n",
       "    </tr>\n",
       "    <tr>\n",
       "      <th>1</th>\n",
       "      <td>1000.0</td>\n",
       "      <td>2007-05-26</td>\n",
       "      <td>Consolidating Debt</td>\n",
       "      <td>703.0</td>\n",
       "      <td>10%</td>\n",
       "      <td>010xx</td>\n",
       "      <td>MA</td>\n",
       "      <td>&lt; 1 year</td>\n",
       "      <td>0.0</td>\n",
       "    </tr>\n",
       "  </tbody>\n",
       "</table>\n",
       "</div>"
      ],
      "text/plain": [
       "   Amount Requested Application Date                        Loan Title  \\\n",
       "0            1000.0       2007-05-26  Wedding Covered but No Honeymoon   \n",
       "1            1000.0       2007-05-26                Consolidating Debt   \n",
       "\n",
       "   Risk_Score Debt-To-Income Ratio Zip Code State Employment Length  \\\n",
       "0       693.0                  10%    481xx    NM           4 years   \n",
       "1       703.0                  10%    010xx    MA          < 1 year   \n",
       "\n",
       "   Policy Code  \n",
       "0          0.0  \n",
       "1          0.0  "
      ]
     },
     "execution_count": 4,
     "metadata": {},
     "output_type": "execute_result"
    }
   ],
   "source": [
    "rejected.head(2)"
   ]
  },
  {
   "cell_type": "code",
   "execution_count": 5,
   "id": "fcc5b15e",
   "metadata": {},
   "outputs": [
    {
     "data": {
      "text/plain": [
       "Amount Requested               0\n",
       "Application Date               0\n",
       "Loan Title                  1303\n",
       "Risk_Score              18497630\n",
       "Debt-To-Income Ratio           0\n",
       "Zip Code                     293\n",
       "State                         22\n",
       "Employment Length         951355\n",
       "Policy Code                  918\n",
       "dtype: int64"
      ]
     },
     "execution_count": 5,
     "metadata": {},
     "output_type": "execute_result"
    }
   ],
   "source": [
    "rejected.isnull().sum()"
   ]
  },
  {
   "cell_type": "code",
   "execution_count": 6,
   "id": "52cc50a6",
   "metadata": {},
   "outputs": [
    {
     "data": {
      "text/plain": [
       "(8992195, 9)"
      ]
     },
     "execution_count": 6,
     "metadata": {},
     "output_type": "execute_result"
    }
   ],
   "source": [
    "r = rejected.dropna()\n",
    "r.shape"
   ]
  },
  {
   "cell_type": "code",
   "execution_count": 7,
   "id": "cdc00312",
   "metadata": {},
   "outputs": [
    {
     "data": {
      "text/plain": [
       "(8992195, 5)"
      ]
     },
     "execution_count": 7,
     "metadata": {},
     "output_type": "execute_result"
    }
   ],
   "source": [
    "r = r[['Risk_Score', 'Debt-To-Income Ratio', 'Loan Title', 'Employment Length', 'Policy Code']]\n",
    "r.shape"
   ]
  },
  {
   "cell_type": "code",
   "execution_count": 8,
   "id": "640d2257",
   "metadata": {},
   "outputs": [
    {
     "data": {
      "text/html": [
       "<div>\n",
       "<style scoped>\n",
       "    .dataframe tbody tr th:only-of-type {\n",
       "        vertical-align: middle;\n",
       "    }\n",
       "\n",
       "    .dataframe tbody tr th {\n",
       "        vertical-align: top;\n",
       "    }\n",
       "\n",
       "    .dataframe thead th {\n",
       "        text-align: right;\n",
       "    }\n",
       "</style>\n",
       "<table border=\"1\" class=\"dataframe\">\n",
       "  <thead>\n",
       "    <tr style=\"text-align: right;\">\n",
       "      <th></th>\n",
       "      <th>Risk_Score</th>\n",
       "      <th>Debt-To-Income Ratio</th>\n",
       "      <th>Loan Title</th>\n",
       "      <th>Employment Length</th>\n",
       "      <th>Policy Code</th>\n",
       "    </tr>\n",
       "  </thead>\n",
       "  <tbody>\n",
       "    <tr>\n",
       "      <th>0</th>\n",
       "      <td>693.0</td>\n",
       "      <td>10%</td>\n",
       "      <td>Wedding Covered but No Honeymoon</td>\n",
       "      <td>4 years</td>\n",
       "      <td>0.0</td>\n",
       "    </tr>\n",
       "    <tr>\n",
       "      <th>1</th>\n",
       "      <td>703.0</td>\n",
       "      <td>10%</td>\n",
       "      <td>Consolidating Debt</td>\n",
       "      <td>&lt; 1 year</td>\n",
       "      <td>0.0</td>\n",
       "    </tr>\n",
       "  </tbody>\n",
       "</table>\n",
       "</div>"
      ],
      "text/plain": [
       "   Risk_Score Debt-To-Income Ratio                        Loan Title  \\\n",
       "0       693.0                  10%  Wedding Covered but No Honeymoon   \n",
       "1       703.0                  10%                Consolidating Debt   \n",
       "\n",
       "  Employment Length  Policy Code  \n",
       "0           4 years          0.0  \n",
       "1          < 1 year          0.0  "
      ]
     },
     "execution_count": 8,
     "metadata": {},
     "output_type": "execute_result"
    }
   ],
   "source": [
    "r.head(2)"
   ]
  },
  {
   "cell_type": "code",
   "execution_count": null,
   "id": "b14887f9",
   "metadata": {},
   "outputs": [],
   "source": []
  },
  {
   "cell_type": "code",
   "execution_count": 12,
   "id": "95ed07e8",
   "metadata": {},
   "outputs": [],
   "source": [
    "#Remove all Policy \"2\" Rejected Loans. \n",
    "r = r[r['Policy Code'] == 0]"
   ]
  },
  {
   "cell_type": "code",
   "execution_count": 14,
   "id": "6da1bb30",
   "metadata": {},
   "outputs": [
    {
     "data": {
      "text/plain": [
       "0.0    8977809\n",
       "Name: Policy Code, dtype: int64"
      ]
     },
     "execution_count": 14,
     "metadata": {},
     "output_type": "execute_result"
    }
   ],
   "source": [
    "r['Policy Code'].value_counts()"
   ]
  },
  {
   "cell_type": "code",
   "execution_count": null,
   "id": "22ef379c",
   "metadata": {},
   "outputs": [],
   "source": []
  },
  {
   "cell_type": "code",
   "execution_count": 15,
   "id": "f745e4dd",
   "metadata": {},
   "outputs": [],
   "source": [
    "r = r.rename(columns={\"Debt-To-Income Ratio\":\"DI\"})"
   ]
  },
  {
   "cell_type": "code",
   "execution_count": 16,
   "id": "c4a2f007",
   "metadata": {},
   "outputs": [],
   "source": [
    "r['DI'] = r['DI'].str.rstrip(\"%\").astype(float)/100"
   ]
  },
  {
   "cell_type": "code",
   "execution_count": 17,
   "id": "919f9565",
   "metadata": {},
   "outputs": [
    {
     "data": {
      "text/plain": [
       "Risk_Score           float64\n",
       "DI                   float64\n",
       "Loan Title            object\n",
       "Employment Length     object\n",
       "Policy Code          float64\n",
       "dtype: object"
      ]
     },
     "execution_count": 17,
     "metadata": {},
     "output_type": "execute_result"
    }
   ],
   "source": [
    "r.dtypes"
   ]
  },
  {
   "cell_type": "code",
   "execution_count": 18,
   "id": "f5a06f20",
   "metadata": {},
   "outputs": [
    {
     "data": {
      "text/plain": [
       "Risk_Score           0\n",
       "DI                   0\n",
       "Loan Title           0\n",
       "Employment Length    0\n",
       "Policy Code          0\n",
       "dtype: int64"
      ]
     },
     "execution_count": 18,
     "metadata": {},
     "output_type": "execute_result"
    }
   ],
   "source": [
    "r.isnull().sum()"
   ]
  },
  {
   "cell_type": "code",
   "execution_count": null,
   "id": "782716e0",
   "metadata": {},
   "outputs": [],
   "source": []
  },
  {
   "cell_type": "code",
   "execution_count": 19,
   "id": "c590713a",
   "metadata": {},
   "outputs": [
    {
     "data": {
      "text/html": [
       "<div>\n",
       "<style scoped>\n",
       "    .dataframe tbody tr th:only-of-type {\n",
       "        vertical-align: middle;\n",
       "    }\n",
       "\n",
       "    .dataframe tbody tr th {\n",
       "        vertical-align: top;\n",
       "    }\n",
       "\n",
       "    .dataframe thead th {\n",
       "        text-align: right;\n",
       "    }\n",
       "</style>\n",
       "<table border=\"1\" class=\"dataframe\">\n",
       "  <thead>\n",
       "    <tr style=\"text-align: right;\">\n",
       "      <th></th>\n",
       "      <th>Risk_Score</th>\n",
       "      <th>DI</th>\n",
       "      <th>Policy Code</th>\n",
       "    </tr>\n",
       "  </thead>\n",
       "  <tbody>\n",
       "    <tr>\n",
       "      <th>count</th>\n",
       "      <td>8.977809e+06</td>\n",
       "      <td>8.977809e+06</td>\n",
       "      <td>8977809.0</td>\n",
       "    </tr>\n",
       "    <tr>\n",
       "      <th>mean</th>\n",
       "      <td>6.272171e+02</td>\n",
       "      <td>1.697738e+00</td>\n",
       "      <td>0.0</td>\n",
       "    </tr>\n",
       "    <tr>\n",
       "      <th>std</th>\n",
       "      <td>8.990980e+01</td>\n",
       "      <td>1.778247e+02</td>\n",
       "      <td>0.0</td>\n",
       "    </tr>\n",
       "    <tr>\n",
       "      <th>min</th>\n",
       "      <td>0.000000e+00</td>\n",
       "      <td>-1.000000e-02</td>\n",
       "      <td>0.0</td>\n",
       "    </tr>\n",
       "    <tr>\n",
       "      <th>25%</th>\n",
       "      <td>5.910000e+02</td>\n",
       "      <td>9.040000e-02</td>\n",
       "      <td>0.0</td>\n",
       "    </tr>\n",
       "    <tr>\n",
       "      <th>50%</th>\n",
       "      <td>6.360000e+02</td>\n",
       "      <td>2.053000e-01</td>\n",
       "      <td>0.0</td>\n",
       "    </tr>\n",
       "    <tr>\n",
       "      <th>75%</th>\n",
       "      <td>6.740000e+02</td>\n",
       "      <td>3.623000e-01</td>\n",
       "      <td>0.0</td>\n",
       "    </tr>\n",
       "    <tr>\n",
       "      <th>max</th>\n",
       "      <td>9.900000e+02</td>\n",
       "      <td>5.000003e+05</td>\n",
       "      <td>0.0</td>\n",
       "    </tr>\n",
       "  </tbody>\n",
       "</table>\n",
       "</div>"
      ],
      "text/plain": [
       "         Risk_Score            DI  Policy Code\n",
       "count  8.977809e+06  8.977809e+06    8977809.0\n",
       "mean   6.272171e+02  1.697738e+00          0.0\n",
       "std    8.990980e+01  1.778247e+02          0.0\n",
       "min    0.000000e+00 -1.000000e-02          0.0\n",
       "25%    5.910000e+02  9.040000e-02          0.0\n",
       "50%    6.360000e+02  2.053000e-01          0.0\n",
       "75%    6.740000e+02  3.623000e-01          0.0\n",
       "max    9.900000e+02  5.000003e+05          0.0"
      ]
     },
     "execution_count": 19,
     "metadata": {},
     "output_type": "execute_result"
    }
   ],
   "source": [
    "r.describe()"
   ]
  },
  {
   "cell_type": "code",
   "execution_count": 20,
   "id": "c818ee0b",
   "metadata": {},
   "outputs": [
    {
     "data": {
      "text/html": [
       "<div>\n",
       "<style scoped>\n",
       "    .dataframe tbody tr th:only-of-type {\n",
       "        vertical-align: middle;\n",
       "    }\n",
       "\n",
       "    .dataframe tbody tr th {\n",
       "        vertical-align: top;\n",
       "    }\n",
       "\n",
       "    .dataframe thead th {\n",
       "        text-align: right;\n",
       "    }\n",
       "</style>\n",
       "<table border=\"1\" class=\"dataframe\">\n",
       "  <thead>\n",
       "    <tr style=\"text-align: right;\">\n",
       "      <th></th>\n",
       "      <th>Risk_Score</th>\n",
       "      <th>DI</th>\n",
       "      <th>Loan Title</th>\n",
       "      <th>Employment Length</th>\n",
       "      <th>Policy Code</th>\n",
       "    </tr>\n",
       "  </thead>\n",
       "  <tbody>\n",
       "    <tr>\n",
       "      <th>5</th>\n",
       "      <td>645.0</td>\n",
       "      <td>0.0</td>\n",
       "      <td>Trinfiniti</td>\n",
       "      <td>3 years</td>\n",
       "      <td>0.0</td>\n",
       "    </tr>\n",
       "    <tr>\n",
       "      <th>30</th>\n",
       "      <td>695.0</td>\n",
       "      <td>0.0</td>\n",
       "      <td>ashtru</td>\n",
       "      <td>&lt; 1 year</td>\n",
       "      <td>0.0</td>\n",
       "    </tr>\n",
       "    <tr>\n",
       "      <th>41</th>\n",
       "      <td>536.0</td>\n",
       "      <td>0.0</td>\n",
       "      <td>danthe83</td>\n",
       "      <td>&lt; 1 year</td>\n",
       "      <td>0.0</td>\n",
       "    </tr>\n",
       "    <tr>\n",
       "      <th>57</th>\n",
       "      <td>524.0</td>\n",
       "      <td>0.0</td>\n",
       "      <td>jflack</td>\n",
       "      <td>4 years</td>\n",
       "      <td>0.0</td>\n",
       "    </tr>\n",
       "    <tr>\n",
       "      <th>58</th>\n",
       "      <td>460.0</td>\n",
       "      <td>0.0</td>\n",
       "      <td>ceodiva</td>\n",
       "      <td>&lt; 1 year</td>\n",
       "      <td>0.0</td>\n",
       "    </tr>\n",
       "    <tr>\n",
       "      <th>...</th>\n",
       "      <td>...</td>\n",
       "      <td>...</td>\n",
       "      <td>...</td>\n",
       "      <td>...</td>\n",
       "      <td>...</td>\n",
       "    </tr>\n",
       "    <tr>\n",
       "      <th>27648529</th>\n",
       "      <td>552.0</td>\n",
       "      <td>0.0</td>\n",
       "      <td>Other</td>\n",
       "      <td>&lt; 1 year</td>\n",
       "      <td>0.0</td>\n",
       "    </tr>\n",
       "    <tr>\n",
       "      <th>27648558</th>\n",
       "      <td>628.0</td>\n",
       "      <td>0.0</td>\n",
       "      <td>Moving and relocation</td>\n",
       "      <td>&lt; 1 year</td>\n",
       "      <td>0.0</td>\n",
       "    </tr>\n",
       "    <tr>\n",
       "      <th>27648621</th>\n",
       "      <td>743.0</td>\n",
       "      <td>0.0</td>\n",
       "      <td>Home improvement</td>\n",
       "      <td>&lt; 1 year</td>\n",
       "      <td>0.0</td>\n",
       "    </tr>\n",
       "    <tr>\n",
       "      <th>27648722</th>\n",
       "      <td>509.0</td>\n",
       "      <td>0.0</td>\n",
       "      <td>Green loan</td>\n",
       "      <td>&lt; 1 year</td>\n",
       "      <td>0.0</td>\n",
       "    </tr>\n",
       "    <tr>\n",
       "      <th>27648727</th>\n",
       "      <td>527.0</td>\n",
       "      <td>0.0</td>\n",
       "      <td>Vacation</td>\n",
       "      <td>&lt; 1 year</td>\n",
       "      <td>0.0</td>\n",
       "    </tr>\n",
       "  </tbody>\n",
       "</table>\n",
       "<p>435907 rows × 5 columns</p>\n",
       "</div>"
      ],
      "text/plain": [
       "          Risk_Score   DI             Loan Title Employment Length  \\\n",
       "5              645.0  0.0             Trinfiniti           3 years   \n",
       "30             695.0  0.0                 ashtru          < 1 year   \n",
       "41             536.0  0.0               danthe83          < 1 year   \n",
       "57             524.0  0.0                 jflack           4 years   \n",
       "58             460.0  0.0                ceodiva          < 1 year   \n",
       "...              ...  ...                    ...               ...   \n",
       "27648529       552.0  0.0                  Other          < 1 year   \n",
       "27648558       628.0  0.0  Moving and relocation          < 1 year   \n",
       "27648621       743.0  0.0       Home improvement          < 1 year   \n",
       "27648722       509.0  0.0             Green loan          < 1 year   \n",
       "27648727       527.0  0.0               Vacation          < 1 year   \n",
       "\n",
       "          Policy Code  \n",
       "5                 0.0  \n",
       "30                0.0  \n",
       "41                0.0  \n",
       "57                0.0  \n",
       "58                0.0  \n",
       "...               ...  \n",
       "27648529          0.0  \n",
       "27648558          0.0  \n",
       "27648621          0.0  \n",
       "27648722          0.0  \n",
       "27648727          0.0  \n",
       "\n",
       "[435907 rows x 5 columns]"
      ]
     },
     "execution_count": 20,
     "metadata": {},
     "output_type": "execute_result"
    }
   ],
   "source": [
    "r[r.DI == 0]"
   ]
  },
  {
   "cell_type": "code",
   "execution_count": null,
   "id": "ce887b35",
   "metadata": {},
   "outputs": [],
   "source": []
  },
  {
   "cell_type": "code",
   "execution_count": null,
   "id": "f90c6d80",
   "metadata": {},
   "outputs": [],
   "source": []
  },
  {
   "cell_type": "code",
   "execution_count": 25,
   "id": "7f5260e5",
   "metadata": {},
   "outputs": [],
   "source": [
    "r['Loan Title'] = r['Loan Title'].replace({'debt_consolidation':'Debt consolidation',\n",
    "                                                         'Debt consolidation':'Debt Consolidation',\n",
    "                                                         'credit_card':'Credit card refinancing',\n",
    "                                                         'Credit card refinancing':'Credit Card Refinancing',\n",
    "                                                         'other':'Other',\n",
    "                                                         'car':'Car financing',\n",
    "                                                         'Car financing':'Car Financing',\n",
    "                                                         'home_improvement':'Home improvement',\n",
    "                                                         'Home improvement':'Home Improvement',\n",
    "                                                         'major_purchase':'Major purchase',\n",
    "                                                         'Major purchase':'Major Purchase',\n",
    "                                                         'moving':'Moving',\n",
    "                                                         'medical':'Medical expenses',\n",
    "                                                         'Medical expenses':'Medical Expenses',\n",
    "                                                         'Home buying':'Home Purchase',\n",
    "                                                         'small_business':'Business Loan',\n",
    "                                                         'Business':'Business Loan',\n",
    "                                                         'Moving':'Moving And relocation',\n",
    "                                                         'Moving and relocation': 'Moving And Relocation',\n",
    "                                                         'house':'Home Purchase',\n",
    "                                                         'vacation':'Vacation',\n",
    "                                                         'Business Line Of Credit':'Business Loan',\n",
    "                                                         'debt consolidation':'Debt Consolidation',\n",
    "                                                         ' ':'Other',\n",
    "                                                         'renewable_energy':'Green loan',\n",
    "                                                         'Green loan':'Green Loan',\n",
    "                                                         'Consolidation':'Debt Consolidation',\n",
    "                                                         'Debt Consolidation Loan':'Debt Consolidation',\n",
    "                                                         'personal':'Personal Loan',\n",
    "                                                         'Personal':'Personal Loan',\n",
    "                                                         'educational':'Education',\n",
    "                                                         'wedding':'Wedding',\n",
    "                                                         'personal loan':'Personal Loan',\n",
    "                                                         'consolidation':'Debt Consolidation',\n",
    "                                                         'Education':'Student Loan',\n",
    "                                                         'Small Business Loan':'Business Loan',\n",
    "                                                         'home improvement':'Home Improvement',\n",
    "                                                         'Credit Card Consolidation':'Credit Card Refinancing',\n",
    "                                                         'Loan':'Other',\n",
    "                                                         'Consolidate':'Debt Consolidation',\n",
    "                                                         'Consolidation Loan':'Debt Consolidation',\n",
    "                                                         'Credit Card Refinance':'Credit Card Refinancing',\n",
    "                                                         'student loan':'Student Loan',\n",
    "                                                         'Debt':'Other',\n",
    "                                                         'consolidate':'Debt Consolidation',\n",
    "                                                         'Credit Card Loan':'Credit Card Refinancing',\n",
    "                                                         'loan':'Other',\n",
    "                                                         'Car Loan':'Car Financing',\n",
    "                                                         'Credit Card Payoff':'Credit Card Refinancing',\n",
    "                                                         'Personal loan':'Personal Loan',\n",
    "                                                         'School':'Student Loan', \n",
    "                                                         'debt':'Other',\n",
    "                                                         'business':'Business Loan',\n",
    "                                                         'Home Improvement Loan':'Home Improvement', \n",
    "                                                         'School Loan':'Student Loan',\n",
    "                                                         'credit card refinance':'Credit Card Refinancing',\n",
    "                                                         'payoff':'Other',\n",
    "                                                         'My Loan':'Personal Loan',\n",
    "                                                         'my loan':'Personal Loan',\n",
    "                                                         'Credit Card':'Credit Card Refinancing',\n",
    "                                                         'credit card':'Credit Card Refinancing',\n",
    "                                                         'credit cards':'Credit Card Refinancing',\n",
    "                                                         'credit card payoff':'Credit Card Refinancing',\n",
    "                                                         'DEBT CONSOLIDATION':'Debt Consolidation',\n",
    "                                                         'Medical':'Medical Expenses',\n",
    "                                                         'home':'Home Improvement',\n",
    "                                                         'Credit Cards':'Credit Card Refinancing',\n",
    "                                                         'school':'Student Loan',\n",
    "                                                         'Credit Card Financing':'Credit Card Refinancing',\n",
    "                                                         'credit card consolidation':'Credit Card Refinancing',\n",
    "                                                         'consolidation loan':'Debt Consolidation',\n",
    "                                                         'pay off credit cards':'Credit Card Refinancing',\n",
    "                                                         'business loan': 'Business Loan', \n",
    "                                                         'Payoff':'Other',\n",
    "                                                         'debt consolidation loan':'Debt Consolidation',\n",
    "                                                         'Debt Consolidation ':'Debt Consolidation',\n",
    "                                                         'bills':'Other',\n",
    "                                                         'Home':'Home Improvement',\n",
    "                                                         'Small Business':'Business Loan',\n",
    "                                                         'Consolidate debt':'Debt Consolidation',\n",
    "                                                         'Consolidate Debt':'Debt Consolidation',\n",
    "                                                         'Refinance':'Other',\n",
    "                                                         'Bills':'Other',\n",
    "                                                         'freedom':'Freedom',\n",
    "                                                         'school loan':'Student Loan',\n",
    "                                                         'Wedding Loan':'Wedding',\n",
    "                                                         'Debt Free':'Other',\n",
    "                                                         'car loan':'Car Financing',\n",
    "                                                         'Other Loan':'Other',\n",
    "                                                         'Debt Loan':'Other',\n",
    "                                                         'Debt consolidation loan':'Debt Consolidation',\n",
    "                                                         'Education Loan':'Student Loan',\n",
    "                                                         'education':'Student Loan',\n",
    "                                                         'Major Purchase Loan':'Major Purchase',\n",
    "                                                         'Credit card consolidation':'Credit Card Refinancing',\n",
    "                                                         'Pay off credit cards':'Credit Card Refinancing',\n",
    "                                                         'Car':'Car Financing',\n",
    "                                                         'Auto Loan':'Car Financing',\n",
    "                                                         'Credit Card Debt':'Credit Card Refinancing',\n",
    "                                                         'major purchase':'Major Purchase',\n",
    "                                                         'Motorcycle':'Motorcycle Loan',\n",
    "                                                         'Debt consolidation':'Debt Consolidation',\n",
    "                                                         'consolidate debt':'Debt Consolidation',\n",
    "                                                         'Student Loan ':'Student Loan',\n",
    "                                                         'Student loan':'Student Loan',\n",
    "                                                         'My loan':'Personal Loan',\n",
    "                                                         'Debt consolidation ':'Debt Consolidation',\n",
    "                                                         'Moving And relocation':'Moving And Relocation', \n",
    "                                                         'Credit Consolidation':'Debt Consolidation',\n",
    "                                                         'Credit card payoff':'Credit Card Refinancing'})"
   ]
  },
  {
   "cell_type": "code",
   "execution_count": 26,
   "id": "c2fd7e0b",
   "metadata": {},
   "outputs": [
    {
     "data": {
      "text/plain": [
       "Debt Consolidation         4153248\n",
       "Other                      1391856\n",
       "Credit Card Refinancing    1123183\n",
       "Car Financing               462956\n",
       "Home Improvement            406711\n",
       "Medical Expenses            274133\n",
       "Major Purchase              258024\n",
       "Moving And Relocation       253709\n",
       "Business Loan               233808\n",
       "Home Purchase               169912\n",
       "Vacation                    100616\n",
       "Green Loan                   23702\n",
       "Wedding                      17965\n",
       "Personal Loan                 5206\n",
       "Student Loan                  4498\n",
       "Freedom                        411\n",
       "Motorcycle Loan                262\n",
       "debt free                      117\n",
       "debt loan                      115\n",
       "Credit card refinance          115\n",
       "Name: Loan Title, dtype: int64"
      ]
     },
     "execution_count": 26,
     "metadata": {},
     "output_type": "execute_result"
    }
   ],
   "source": [
    "r['Loan Title'].value_counts(dropna=False).nlargest(20)"
   ]
  },
  {
   "cell_type": "code",
   "execution_count": null,
   "id": "a905acd4",
   "metadata": {},
   "outputs": [],
   "source": []
  },
  {
   "cell_type": "code",
   "execution_count": 27,
   "id": "00d3f60e",
   "metadata": {},
   "outputs": [],
   "source": [
    "r = r.rename(columns={'Loan Title':'Loan Type'})"
   ]
  },
  {
   "cell_type": "code",
   "execution_count": 33,
   "id": "d93de3b5",
   "metadata": {},
   "outputs": [],
   "source": [
    "r = r.drop(['Policy Code'], axis=1)"
   ]
  },
  {
   "cell_type": "code",
   "execution_count": 34,
   "id": "30d83980",
   "metadata": {},
   "outputs": [
    {
     "data": {
      "text/html": [
       "<div>\n",
       "<style scoped>\n",
       "    .dataframe tbody tr th:only-of-type {\n",
       "        vertical-align: middle;\n",
       "    }\n",
       "\n",
       "    .dataframe tbody tr th {\n",
       "        vertical-align: top;\n",
       "    }\n",
       "\n",
       "    .dataframe thead th {\n",
       "        text-align: right;\n",
       "    }\n",
       "</style>\n",
       "<table border=\"1\" class=\"dataframe\">\n",
       "  <thead>\n",
       "    <tr style=\"text-align: right;\">\n",
       "      <th></th>\n",
       "      <th>Risk_Score</th>\n",
       "      <th>DI</th>\n",
       "      <th>Loan Type</th>\n",
       "      <th>Employment Length</th>\n",
       "      <th>Accepted</th>\n",
       "    </tr>\n",
       "  </thead>\n",
       "  <tbody>\n",
       "    <tr>\n",
       "      <th>0</th>\n",
       "      <td>693.0</td>\n",
       "      <td>0.1000</td>\n",
       "      <td>Wedding Covered but No Honeymoon</td>\n",
       "      <td>4 years</td>\n",
       "      <td>0</td>\n",
       "    </tr>\n",
       "    <tr>\n",
       "      <th>1</th>\n",
       "      <td>703.0</td>\n",
       "      <td>0.1000</td>\n",
       "      <td>Consolidating Debt</td>\n",
       "      <td>&lt; 1 year</td>\n",
       "      <td>0</td>\n",
       "    </tr>\n",
       "    <tr>\n",
       "      <th>2</th>\n",
       "      <td>715.0</td>\n",
       "      <td>0.1000</td>\n",
       "      <td>Want to consolidate my debt</td>\n",
       "      <td>1 year</td>\n",
       "      <td>0</td>\n",
       "    </tr>\n",
       "    <tr>\n",
       "      <th>3</th>\n",
       "      <td>698.0</td>\n",
       "      <td>0.3864</td>\n",
       "      <td>waksman</td>\n",
       "      <td>&lt; 1 year</td>\n",
       "      <td>0</td>\n",
       "    </tr>\n",
       "    <tr>\n",
       "      <th>4</th>\n",
       "      <td>509.0</td>\n",
       "      <td>0.0943</td>\n",
       "      <td>mdrigo</td>\n",
       "      <td>&lt; 1 year</td>\n",
       "      <td>0</td>\n",
       "    </tr>\n",
       "    <tr>\n",
       "      <th>...</th>\n",
       "      <td>...</td>\n",
       "      <td>...</td>\n",
       "      <td>...</td>\n",
       "      <td>...</td>\n",
       "      <td>...</td>\n",
       "    </tr>\n",
       "    <tr>\n",
       "      <th>27648733</th>\n",
       "      <td>681.0</td>\n",
       "      <td>0.5515</td>\n",
       "      <td>Debt Consolidation</td>\n",
       "      <td>&lt; 1 year</td>\n",
       "      <td>0</td>\n",
       "    </tr>\n",
       "    <tr>\n",
       "      <th>27648734</th>\n",
       "      <td>531.0</td>\n",
       "      <td>0.3131</td>\n",
       "      <td>Debt Consolidation</td>\n",
       "      <td>&lt; 1 year</td>\n",
       "      <td>0</td>\n",
       "    </tr>\n",
       "    <tr>\n",
       "      <th>27648736</th>\n",
       "      <td>590.0</td>\n",
       "      <td>0.4126</td>\n",
       "      <td>Debt Consolidation</td>\n",
       "      <td>&lt; 1 year</td>\n",
       "      <td>0</td>\n",
       "    </tr>\n",
       "    <tr>\n",
       "      <th>27648738</th>\n",
       "      <td>686.0</td>\n",
       "      <td>0.1026</td>\n",
       "      <td>Other</td>\n",
       "      <td>&lt; 1 year</td>\n",
       "      <td>0</td>\n",
       "    </tr>\n",
       "    <tr>\n",
       "      <th>27648740</th>\n",
       "      <td>684.0</td>\n",
       "      <td>0.1058</td>\n",
       "      <td>Business Loan</td>\n",
       "      <td>&lt; 1 year</td>\n",
       "      <td>0</td>\n",
       "    </tr>\n",
       "  </tbody>\n",
       "</table>\n",
       "<p>8977809 rows × 5 columns</p>\n",
       "</div>"
      ],
      "text/plain": [
       "          Risk_Score      DI                         Loan Type  \\\n",
       "0              693.0  0.1000  Wedding Covered but No Honeymoon   \n",
       "1              703.0  0.1000                Consolidating Debt   \n",
       "2              715.0  0.1000       Want to consolidate my debt   \n",
       "3              698.0  0.3864                           waksman   \n",
       "4              509.0  0.0943                            mdrigo   \n",
       "...              ...     ...                               ...   \n",
       "27648733       681.0  0.5515                Debt Consolidation   \n",
       "27648734       531.0  0.3131                Debt Consolidation   \n",
       "27648736       590.0  0.4126                Debt Consolidation   \n",
       "27648738       686.0  0.1026                             Other   \n",
       "27648740       684.0  0.1058                     Business Loan   \n",
       "\n",
       "         Employment Length  Accepted  \n",
       "0                  4 years         0  \n",
       "1                 < 1 year         0  \n",
       "2                   1 year         0  \n",
       "3                 < 1 year         0  \n",
       "4                 < 1 year         0  \n",
       "...                    ...       ...  \n",
       "27648733          < 1 year         0  \n",
       "27648734          < 1 year         0  \n",
       "27648736          < 1 year         0  \n",
       "27648738          < 1 year         0  \n",
       "27648740          < 1 year         0  \n",
       "\n",
       "[8977809 rows x 5 columns]"
      ]
     },
     "execution_count": 34,
     "metadata": {},
     "output_type": "execute_result"
    }
   ],
   "source": [
    "r = r.assign(Accepted = 0)\n",
    "r"
   ]
  },
  {
   "cell_type": "code",
   "execution_count": 35,
   "id": "ec8ca0e8",
   "metadata": {},
   "outputs": [
    {
     "data": {
      "text/plain": [
       "Risk_Score           float64\n",
       "DI                   float64\n",
       "Loan Type             object\n",
       "Employment Length     object\n",
       "Accepted               int64\n",
       "dtype: object"
      ]
     },
     "execution_count": 35,
     "metadata": {},
     "output_type": "execute_result"
    }
   ],
   "source": [
    "r.dtypes"
   ]
  },
  {
   "cell_type": "code",
   "execution_count": 36,
   "id": "f7283448",
   "metadata": {},
   "outputs": [
    {
     "data": {
      "text/plain": [
       "Risk_Score           0\n",
       "DI                   0\n",
       "Loan Type            0\n",
       "Employment Length    0\n",
       "Accepted             0\n",
       "dtype: int64"
      ]
     },
     "execution_count": 36,
     "metadata": {},
     "output_type": "execute_result"
    }
   ],
   "source": [
    "r.isnull().sum()"
   ]
  },
  {
   "cell_type": "code",
   "execution_count": 37,
   "id": "86420a00",
   "metadata": {},
   "outputs": [
    {
     "data": {
      "text/plain": [
       "(8977809, 5)"
      ]
     },
     "execution_count": 37,
     "metadata": {},
     "output_type": "execute_result"
    }
   ],
   "source": [
    "r.shape"
   ]
  },
  {
   "cell_type": "code",
   "execution_count": null,
   "id": "58229797",
   "metadata": {},
   "outputs": [],
   "source": []
  },
  {
   "cell_type": "code",
   "execution_count": 38,
   "id": "3f56597f",
   "metadata": {},
   "outputs": [],
   "source": [
    "r.to_csv('Rejected_DropNAs.csv', index=False)"
   ]
  },
  {
   "cell_type": "code",
   "execution_count": null,
   "id": "3e8b965f",
   "metadata": {},
   "outputs": [],
   "source": []
  }
 ],
 "metadata": {
  "hide_input": false,
  "kernelspec": {
   "display_name": "Python 3 (ipykernel)",
   "language": "python",
   "name": "python3"
  },
  "language_info": {
   "codemirror_mode": {
    "name": "ipython",
    "version": 3
   },
   "file_extension": ".py",
   "mimetype": "text/x-python",
   "name": "python",
   "nbconvert_exporter": "python",
   "pygments_lexer": "ipython3",
   "version": "3.8.8"
  },
  "varInspector": {
   "cols": {
    "lenName": 16,
    "lenType": 16,
    "lenVar": 40
   },
   "kernels_config": {
    "python": {
     "delete_cmd_postfix": "",
     "delete_cmd_prefix": "del ",
     "library": "var_list.py",
     "varRefreshCmd": "print(var_dic_list())"
    },
    "r": {
     "delete_cmd_postfix": ") ",
     "delete_cmd_prefix": "rm(",
     "library": "var_list.r",
     "varRefreshCmd": "cat(var_dic_list()) "
    }
   },
   "types_to_exclude": [
    "module",
    "function",
    "builtin_function_or_method",
    "instance",
    "_Feature"
   ],
   "window_display": false
  }
 },
 "nbformat": 4,
 "nbformat_minor": 5
}
