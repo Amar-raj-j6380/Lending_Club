{
 "cells": [
  {
   "cell_type": "code",
   "execution_count": 1,
   "id": "77f29949",
   "metadata": {},
   "outputs": [],
   "source": [
    "import pandas as pd\n",
    "import seaborn as sns\n",
    "sns.set()\n",
    "import matplotlib.pyplot as plt\n",
    "#import missingno as msnum"
   ]
  },
  {
   "cell_type": "code",
   "execution_count": 2,
   "id": "ca275926",
   "metadata": {},
   "outputs": [],
   "source": [
    "pd.set_option(\"display.max_columns\", 200)\n",
    "pd.set_option(\"display.max_row\", 160)\n",
    "pd.set_option('max_colwidth', 200)"
   ]
  },
  {
   "cell_type": "code",
   "execution_count": 4,
   "id": "d88ef809",
   "metadata": {},
   "outputs": [
    {
     "data": {
      "text/plain": [
       "(27648741, 9)"
      ]
     },
     "execution_count": 4,
     "metadata": {},
     "output_type": "execute_result"
    }
   ],
   "source": [
    "rejected = pd.read_csv('rejected.csv')\n",
    "rejected.shape"
   ]
  },
  {
   "cell_type": "code",
   "execution_count": 5,
   "id": "242ef983",
   "metadata": {},
   "outputs": [
    {
     "data": {
      "text/html": [
       "<div>\n",
       "<style scoped>\n",
       "    .dataframe tbody tr th:only-of-type {\n",
       "        vertical-align: middle;\n",
       "    }\n",
       "\n",
       "    .dataframe tbody tr th {\n",
       "        vertical-align: top;\n",
       "    }\n",
       "\n",
       "    .dataframe thead th {\n",
       "        text-align: right;\n",
       "    }\n",
       "</style>\n",
       "<table border=\"1\" class=\"dataframe\">\n",
       "  <thead>\n",
       "    <tr style=\"text-align: right;\">\n",
       "      <th></th>\n",
       "      <th>Amount Requested</th>\n",
       "      <th>Application Date</th>\n",
       "      <th>Loan Title</th>\n",
       "      <th>Risk_Score</th>\n",
       "      <th>Debt-To-Income Ratio</th>\n",
       "      <th>Zip Code</th>\n",
       "      <th>State</th>\n",
       "      <th>Employment Length</th>\n",
       "      <th>Policy Code</th>\n",
       "    </tr>\n",
       "  </thead>\n",
       "  <tbody>\n",
       "    <tr>\n",
       "      <th>0</th>\n",
       "      <td>1000.0</td>\n",
       "      <td>2007-05-26</td>\n",
       "      <td>Wedding Covered but No Honeymoon</td>\n",
       "      <td>693.0</td>\n",
       "      <td>10%</td>\n",
       "      <td>481xx</td>\n",
       "      <td>NM</td>\n",
       "      <td>4 years</td>\n",
       "      <td>0.0</td>\n",
       "    </tr>\n",
       "    <tr>\n",
       "      <th>1</th>\n",
       "      <td>1000.0</td>\n",
       "      <td>2007-05-26</td>\n",
       "      <td>Consolidating Debt</td>\n",
       "      <td>703.0</td>\n",
       "      <td>10%</td>\n",
       "      <td>010xx</td>\n",
       "      <td>MA</td>\n",
       "      <td>&lt; 1 year</td>\n",
       "      <td>0.0</td>\n",
       "    </tr>\n",
       "  </tbody>\n",
       "</table>\n",
       "</div>"
      ],
      "text/plain": [
       "   Amount Requested Application Date                        Loan Title  \\\n",
       "0            1000.0       2007-05-26  Wedding Covered but No Honeymoon   \n",
       "1            1000.0       2007-05-26                Consolidating Debt   \n",
       "\n",
       "   Risk_Score Debt-To-Income Ratio Zip Code State Employment Length  \\\n",
       "0       693.0                  10%    481xx    NM           4 years   \n",
       "1       703.0                  10%    010xx    MA          < 1 year   \n",
       "\n",
       "   Policy Code  \n",
       "0          0.0  \n",
       "1          0.0  "
      ]
     },
     "execution_count": 5,
     "metadata": {},
     "output_type": "execute_result"
    }
   ],
   "source": [
    "rejected.head(2)"
   ]
  },
  {
   "cell_type": "code",
   "execution_count": 6,
   "id": "45463816",
   "metadata": {},
   "outputs": [
    {
     "data": {
      "text/plain": [
       "Amount Requested        float64\n",
       "Application Date         object\n",
       "Loan Title               object\n",
       "Risk_Score              float64\n",
       "Debt-To-Income Ratio     object\n",
       "Zip Code                 object\n",
       "State                    object\n",
       "Employment Length        object\n",
       "Policy Code             float64\n",
       "dtype: object"
      ]
     },
     "execution_count": 6,
     "metadata": {},
     "output_type": "execute_result"
    }
   ],
   "source": [
    "rejected.dtypes"
   ]
  },
  {
   "cell_type": "code",
   "execution_count": 7,
   "id": "b683006c",
   "metadata": {},
   "outputs": [
    {
     "data": {
      "text/plain": [
       "Amount Requested               0\n",
       "Application Date               0\n",
       "Loan Title                  1303\n",
       "Risk_Score              18497630\n",
       "Debt-To-Income Ratio           0\n",
       "Zip Code                     293\n",
       "State                         22\n",
       "Employment Length         951355\n",
       "Policy Code                  918\n",
       "dtype: int64"
      ]
     },
     "execution_count": 7,
     "metadata": {},
     "output_type": "execute_result"
    }
   ],
   "source": [
    "rejected.isnull().sum()"
   ]
  },
  {
   "cell_type": "code",
   "execution_count": null,
   "id": "4e9ac3cd",
   "metadata": {},
   "outputs": [],
   "source": []
  },
  {
   "cell_type": "code",
   "execution_count": 12,
   "id": "1560c897",
   "metadata": {},
   "outputs": [],
   "source": [
    "# 1. Replace Risk_Score NaN's with 'None'. Eliminates NaN's + Converts Data Type to \"Object\" (Categorical)"
   ]
  },
  {
   "cell_type": "code",
   "execution_count": 8,
   "id": "bebeeacb",
   "metadata": {},
   "outputs": [],
   "source": [
    "rejected['Risk_Score'] = rejected['Risk_Score'].replace({np.nan:'None'})"
   ]
  },
  {
   "cell_type": "code",
   "execution_count": 9,
   "id": "2af925b3",
   "metadata": {},
   "outputs": [
    {
     "data": {
      "text/plain": [
       "(27648741, 9)"
      ]
     },
     "execution_count": 9,
     "metadata": {},
     "output_type": "execute_result"
    }
   ],
   "source": [
    "rejected.shape"
   ]
  },
  {
   "cell_type": "code",
   "execution_count": 11,
   "id": "0a98246f",
   "metadata": {},
   "outputs": [
    {
     "data": {
      "text/plain": [
       "Amount Requested             0\n",
       "Application Date             0\n",
       "Loan Title                1303\n",
       "Risk_Score                   0\n",
       "Debt-To-Income Ratio         0\n",
       "Zip Code                   293\n",
       "State                       22\n",
       "Employment Length       951355\n",
       "Policy Code                918\n",
       "dtype: int64"
      ]
     },
     "execution_count": 11,
     "metadata": {},
     "output_type": "execute_result"
    }
   ],
   "source": [
    "rejected.isnull().sum()"
   ]
  },
  {
   "cell_type": "code",
   "execution_count": 13,
   "id": "721cfb61",
   "metadata": {},
   "outputs": [
    {
     "data": {
      "text/plain": [
       "Amount Requested        float64\n",
       "Application Date         object\n",
       "Loan Title               object\n",
       "Risk_Score               object\n",
       "Debt-To-Income Ratio     object\n",
       "Zip Code                 object\n",
       "State                    object\n",
       "Employment Length        object\n",
       "Policy Code             float64\n",
       "dtype: object"
      ]
     },
     "execution_count": 13,
     "metadata": {},
     "output_type": "execute_result"
    }
   ],
   "source": [
    "rejected.dtypes"
   ]
  },
  {
   "cell_type": "code",
   "execution_count": null,
   "id": "6c9f213a",
   "metadata": {},
   "outputs": [],
   "source": []
  },
  {
   "cell_type": "code",
   "execution_count": 17,
   "id": "44eb3a3a",
   "metadata": {},
   "outputs": [],
   "source": [
    "# 2. Replace Employment Length NaN's with 'None'. Eliminates NaN's + Adds additional category to \"Object\" DataType."
   ]
  },
  {
   "cell_type": "code",
   "execution_count": 16,
   "id": "faa8ce63",
   "metadata": {},
   "outputs": [
    {
     "data": {
      "text/plain": [
       "< 1 year     22994315\n",
       "5 years       2279466\n",
       "NaN            951355\n",
       "10+ years      416384\n",
       "1 year         267840\n",
       "2 years        199204\n",
       "3 years        177344\n",
       "4 years        121623\n",
       "6 years         71625\n",
       "8 years         65965\n",
       "7 years         55666\n",
       "9 years         47954\n",
       "Name: Employment Length, dtype: int64"
      ]
     },
     "execution_count": 16,
     "metadata": {},
     "output_type": "execute_result"
    }
   ],
   "source": [
    "rejected['Employment Length'].value_counts(dropna=False)"
   ]
  },
  {
   "cell_type": "code",
   "execution_count": 18,
   "id": "f103b2f2",
   "metadata": {},
   "outputs": [],
   "source": [
    "rejected['Employment Length'] = rejected['Employment Length'].replace({np.nan:'None'})"
   ]
  },
  {
   "cell_type": "code",
   "execution_count": 19,
   "id": "af638923",
   "metadata": {},
   "outputs": [
    {
     "data": {
      "text/plain": [
       "(27648741, 9)"
      ]
     },
     "execution_count": 19,
     "metadata": {},
     "output_type": "execute_result"
    }
   ],
   "source": [
    "rejected.shape"
   ]
  },
  {
   "cell_type": "code",
   "execution_count": 20,
   "id": "ce71ebb2",
   "metadata": {},
   "outputs": [
    {
     "data": {
      "text/plain": [
       "Amount Requested           0\n",
       "Application Date           0\n",
       "Loan Title              1303\n",
       "Risk_Score                 0\n",
       "Debt-To-Income Ratio       0\n",
       "Zip Code                 293\n",
       "State                     22\n",
       "Employment Length          0\n",
       "Policy Code              918\n",
       "dtype: int64"
      ]
     },
     "execution_count": 20,
     "metadata": {},
     "output_type": "execute_result"
    }
   ],
   "source": [
    "rejected.isnull().sum()"
   ]
  },
  {
   "cell_type": "code",
   "execution_count": 21,
   "id": "4835ce0f",
   "metadata": {},
   "outputs": [
    {
     "data": {
      "text/plain": [
       "< 1 year     22994315\n",
       "5 years       2279466\n",
       "None           951355\n",
       "10+ years      416384\n",
       "1 year         267840\n",
       "2 years        199204\n",
       "3 years        177344\n",
       "4 years        121623\n",
       "6 years         71625\n",
       "8 years         65965\n",
       "7 years         55666\n",
       "9 years         47954\n",
       "Name: Employment Length, dtype: int64"
      ]
     },
     "execution_count": 21,
     "metadata": {},
     "output_type": "execute_result"
    }
   ],
   "source": [
    "rejected['Employment Length'].value_counts()"
   ]
  },
  {
   "cell_type": "code",
   "execution_count": null,
   "id": "89c792bf",
   "metadata": {},
   "outputs": [],
   "source": []
  },
  {
   "cell_type": "code",
   "execution_count": null,
   "id": "c7490b8c",
   "metadata": {},
   "outputs": [],
   "source": []
  }
 ],
 "metadata": {
  "hide_input": false,
  "kernelspec": {
   "display_name": "Python 3 (ipykernel)",
   "language": "python",
   "name": "python3"
  },
  "language_info": {
   "codemirror_mode": {
    "name": "ipython",
    "version": 3
   },
   "file_extension": ".py",
   "mimetype": "text/x-python",
   "name": "python",
   "nbconvert_exporter": "python",
   "pygments_lexer": "ipython3",
   "version": "3.8.8"
  },
  "varInspector": {
   "cols": {
    "lenName": 16,
    "lenType": 16,
    "lenVar": 40
   },
   "kernels_config": {
    "python": {
     "delete_cmd_postfix": "",
     "delete_cmd_prefix": "del ",
     "library": "var_list.py",
     "varRefreshCmd": "print(var_dic_list())"
    },
    "r": {
     "delete_cmd_postfix": ") ",
     "delete_cmd_prefix": "rm(",
     "library": "var_list.r",
     "varRefreshCmd": "cat(var_dic_list()) "
    }
   },
   "types_to_exclude": [
    "module",
    "function",
    "builtin_function_or_method",
    "instance",
    "_Feature"
   ],
   "window_display": false
  }
 },
 "nbformat": 4,
 "nbformat_minor": 5
}
