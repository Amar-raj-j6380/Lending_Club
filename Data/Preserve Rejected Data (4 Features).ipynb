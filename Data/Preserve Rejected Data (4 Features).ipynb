{
 "cells": [
  {
   "cell_type": "code",
   "execution_count": 1,
   "id": "77f29949",
   "metadata": {},
   "outputs": [],
   "source": [
    "import pandas as pd\n",
    "import seaborn as sns\n",
    "import numpy as np\n",
    "sns.set()\n",
    "import matplotlib.pyplot as plt\n",
    "#import missingno as msnum"
   ]
  },
  {
   "cell_type": "code",
   "execution_count": 2,
   "id": "ca275926",
   "metadata": {},
   "outputs": [],
   "source": [
    "pd.set_option(\"display.max_columns\", 200)\n",
    "pd.set_option(\"display.max_row\", 160)\n",
    "pd.set_option('max_colwidth', 200)"
   ]
  },
  {
   "cell_type": "code",
   "execution_count": 3,
   "id": "d88ef809",
   "metadata": {},
   "outputs": [
    {
     "data": {
      "text/plain": [
       "(27648741, 9)"
      ]
     },
     "execution_count": 3,
     "metadata": {},
     "output_type": "execute_result"
    }
   ],
   "source": [
    "rejected = pd.read_csv('rejected.csv')\n",
    "rejected.shape"
   ]
  },
  {
   "cell_type": "code",
   "execution_count": 4,
   "id": "242ef983",
   "metadata": {},
   "outputs": [
    {
     "data": {
      "text/html": [
       "<div>\n",
       "<style scoped>\n",
       "    .dataframe tbody tr th:only-of-type {\n",
       "        vertical-align: middle;\n",
       "    }\n",
       "\n",
       "    .dataframe tbody tr th {\n",
       "        vertical-align: top;\n",
       "    }\n",
       "\n",
       "    .dataframe thead th {\n",
       "        text-align: right;\n",
       "    }\n",
       "</style>\n",
       "<table border=\"1\" class=\"dataframe\">\n",
       "  <thead>\n",
       "    <tr style=\"text-align: right;\">\n",
       "      <th></th>\n",
       "      <th>Amount Requested</th>\n",
       "      <th>Application Date</th>\n",
       "      <th>Loan Title</th>\n",
       "      <th>Risk_Score</th>\n",
       "      <th>Debt-To-Income Ratio</th>\n",
       "      <th>Zip Code</th>\n",
       "      <th>State</th>\n",
       "      <th>Employment Length</th>\n",
       "      <th>Policy Code</th>\n",
       "    </tr>\n",
       "  </thead>\n",
       "  <tbody>\n",
       "    <tr>\n",
       "      <th>0</th>\n",
       "      <td>1000.0</td>\n",
       "      <td>2007-05-26</td>\n",
       "      <td>Wedding Covered but No Honeymoon</td>\n",
       "      <td>693.0</td>\n",
       "      <td>10%</td>\n",
       "      <td>481xx</td>\n",
       "      <td>NM</td>\n",
       "      <td>4 years</td>\n",
       "      <td>0.0</td>\n",
       "    </tr>\n",
       "    <tr>\n",
       "      <th>1</th>\n",
       "      <td>1000.0</td>\n",
       "      <td>2007-05-26</td>\n",
       "      <td>Consolidating Debt</td>\n",
       "      <td>703.0</td>\n",
       "      <td>10%</td>\n",
       "      <td>010xx</td>\n",
       "      <td>MA</td>\n",
       "      <td>&lt; 1 year</td>\n",
       "      <td>0.0</td>\n",
       "    </tr>\n",
       "  </tbody>\n",
       "</table>\n",
       "</div>"
      ],
      "text/plain": [
       "   Amount Requested Application Date                        Loan Title  \\\n",
       "0            1000.0       2007-05-26  Wedding Covered but No Honeymoon   \n",
       "1            1000.0       2007-05-26                Consolidating Debt   \n",
       "\n",
       "   Risk_Score Debt-To-Income Ratio Zip Code State Employment Length  \\\n",
       "0       693.0                  10%    481xx    NM           4 years   \n",
       "1       703.0                  10%    010xx    MA          < 1 year   \n",
       "\n",
       "   Policy Code  \n",
       "0          0.0  \n",
       "1          0.0  "
      ]
     },
     "execution_count": 4,
     "metadata": {},
     "output_type": "execute_result"
    }
   ],
   "source": [
    "rejected.head(2)"
   ]
  },
  {
   "cell_type": "code",
   "execution_count": 5,
   "id": "45463816",
   "metadata": {},
   "outputs": [
    {
     "data": {
      "text/plain": [
       "Amount Requested        float64\n",
       "Application Date         object\n",
       "Loan Title               object\n",
       "Risk_Score              float64\n",
       "Debt-To-Income Ratio     object\n",
       "Zip Code                 object\n",
       "State                    object\n",
       "Employment Length        object\n",
       "Policy Code             float64\n",
       "dtype: object"
      ]
     },
     "execution_count": 5,
     "metadata": {},
     "output_type": "execute_result"
    }
   ],
   "source": [
    "rejected.dtypes"
   ]
  },
  {
   "cell_type": "code",
   "execution_count": 6,
   "id": "b683006c",
   "metadata": {},
   "outputs": [
    {
     "data": {
      "text/plain": [
       "Amount Requested               0\n",
       "Application Date               0\n",
       "Loan Title                  1303\n",
       "Risk_Score              18497630\n",
       "Debt-To-Income Ratio           0\n",
       "Zip Code                     293\n",
       "State                         22\n",
       "Employment Length         951355\n",
       "Policy Code                  918\n",
       "dtype: int64"
      ]
     },
     "execution_count": 6,
     "metadata": {},
     "output_type": "execute_result"
    }
   ],
   "source": [
    "rejected.isnull().sum()"
   ]
  },
  {
   "cell_type": "code",
   "execution_count": null,
   "id": "4e9ac3cd",
   "metadata": {},
   "outputs": [],
   "source": []
  },
  {
   "cell_type": "code",
   "execution_count": 7,
   "id": "1560c897",
   "metadata": {},
   "outputs": [],
   "source": [
    "# 1. Replace Risk_Score NaN's with 'None'. Eliminates NaN's + Converts Data Type to \"Object\" (Categorical)"
   ]
  },
  {
   "cell_type": "code",
   "execution_count": 8,
   "id": "bebeeacb",
   "metadata": {},
   "outputs": [],
   "source": [
    "rejected['Risk_Score'] = rejected['Risk_Score'].replace({np.nan:'None'})"
   ]
  },
  {
   "cell_type": "code",
   "execution_count": 9,
   "id": "2af925b3",
   "metadata": {},
   "outputs": [
    {
     "data": {
      "text/plain": [
       "(27648741, 9)"
      ]
     },
     "execution_count": 9,
     "metadata": {},
     "output_type": "execute_result"
    }
   ],
   "source": [
    "rejected.shape"
   ]
  },
  {
   "cell_type": "code",
   "execution_count": 10,
   "id": "0a98246f",
   "metadata": {},
   "outputs": [
    {
     "data": {
      "text/plain": [
       "Amount Requested             0\n",
       "Application Date             0\n",
       "Loan Title                1303\n",
       "Risk_Score                   0\n",
       "Debt-To-Income Ratio         0\n",
       "Zip Code                   293\n",
       "State                       22\n",
       "Employment Length       951355\n",
       "Policy Code                918\n",
       "dtype: int64"
      ]
     },
     "execution_count": 10,
     "metadata": {},
     "output_type": "execute_result"
    }
   ],
   "source": [
    "rejected.isnull().sum()"
   ]
  },
  {
   "cell_type": "code",
   "execution_count": 11,
   "id": "721cfb61",
   "metadata": {},
   "outputs": [
    {
     "data": {
      "text/plain": [
       "Amount Requested        float64\n",
       "Application Date         object\n",
       "Loan Title               object\n",
       "Risk_Score               object\n",
       "Debt-To-Income Ratio     object\n",
       "Zip Code                 object\n",
       "State                    object\n",
       "Employment Length        object\n",
       "Policy Code             float64\n",
       "dtype: object"
      ]
     },
     "execution_count": 11,
     "metadata": {},
     "output_type": "execute_result"
    }
   ],
   "source": [
    "rejected.dtypes"
   ]
  },
  {
   "cell_type": "code",
   "execution_count": null,
   "id": "6c9f213a",
   "metadata": {},
   "outputs": [],
   "source": []
  },
  {
   "cell_type": "code",
   "execution_count": 12,
   "id": "44eb3a3a",
   "metadata": {},
   "outputs": [],
   "source": [
    "# 2. Replace Employment Length NaN's with 'None'. Eliminates NaN's + Adds additional category to \"Object\" DataType."
   ]
  },
  {
   "cell_type": "code",
   "execution_count": 13,
   "id": "faa8ce63",
   "metadata": {},
   "outputs": [
    {
     "data": {
      "text/plain": [
       "< 1 year     22994315\n",
       "5 years       2279466\n",
       "NaN            951355\n",
       "10+ years      416384\n",
       "1 year         267840\n",
       "2 years        199204\n",
       "3 years        177344\n",
       "4 years        121623\n",
       "6 years         71625\n",
       "8 years         65965\n",
       "7 years         55666\n",
       "9 years         47954\n",
       "Name: Employment Length, dtype: int64"
      ]
     },
     "execution_count": 13,
     "metadata": {},
     "output_type": "execute_result"
    }
   ],
   "source": [
    "rejected['Employment Length'].value_counts(dropna=False)"
   ]
  },
  {
   "cell_type": "code",
   "execution_count": 14,
   "id": "f103b2f2",
   "metadata": {},
   "outputs": [],
   "source": [
    "rejected['Employment Length'] = rejected['Employment Length'].replace({np.nan:'None'})"
   ]
  },
  {
   "cell_type": "code",
   "execution_count": 15,
   "id": "af638923",
   "metadata": {},
   "outputs": [
    {
     "data": {
      "text/plain": [
       "(27648741, 9)"
      ]
     },
     "execution_count": 15,
     "metadata": {},
     "output_type": "execute_result"
    }
   ],
   "source": [
    "rejected.shape"
   ]
  },
  {
   "cell_type": "code",
   "execution_count": 16,
   "id": "ce71ebb2",
   "metadata": {},
   "outputs": [
    {
     "data": {
      "text/plain": [
       "Amount Requested           0\n",
       "Application Date           0\n",
       "Loan Title              1303\n",
       "Risk_Score                 0\n",
       "Debt-To-Income Ratio       0\n",
       "Zip Code                 293\n",
       "State                     22\n",
       "Employment Length          0\n",
       "Policy Code              918\n",
       "dtype: int64"
      ]
     },
     "execution_count": 16,
     "metadata": {},
     "output_type": "execute_result"
    }
   ],
   "source": [
    "rejected.isnull().sum()"
   ]
  },
  {
   "cell_type": "code",
   "execution_count": 17,
   "id": "4835ce0f",
   "metadata": {},
   "outputs": [
    {
     "data": {
      "text/plain": [
       "< 1 year     22994315\n",
       "5 years       2279466\n",
       "None           951355\n",
       "10+ years      416384\n",
       "1 year         267840\n",
       "2 years        199204\n",
       "3 years        177344\n",
       "4 years        121623\n",
       "6 years         71625\n",
       "8 years         65965\n",
       "7 years         55666\n",
       "9 years         47954\n",
       "Name: Employment Length, dtype: int64"
      ]
     },
     "execution_count": 17,
     "metadata": {},
     "output_type": "execute_result"
    }
   ],
   "source": [
    "rejected['Employment Length'].value_counts()"
   ]
  },
  {
   "cell_type": "code",
   "execution_count": null,
   "id": "89c792bf",
   "metadata": {},
   "outputs": [],
   "source": []
  },
  {
   "cell_type": "code",
   "execution_count": 18,
   "id": "c7490b8c",
   "metadata": {},
   "outputs": [],
   "source": [
    "# 3. Replace Loan Title NaN's with 'None'. Eliminates NaN's + Adds additional category to \"Object\" DataType."
   ]
  },
  {
   "cell_type": "code",
   "execution_count": 19,
   "id": "b5799393",
   "metadata": {},
   "outputs": [],
   "source": [
    "rejected['Loan Title'] = rejected['Loan Title'].replace({np.nan:'None'})"
   ]
  },
  {
   "cell_type": "code",
   "execution_count": 20,
   "id": "0ca859fb",
   "metadata": {},
   "outputs": [
    {
     "data": {
      "text/plain": [
       "Amount Requested          0\n",
       "Application Date          0\n",
       "Loan Title                0\n",
       "Risk_Score                0\n",
       "Debt-To-Income Ratio      0\n",
       "Zip Code                293\n",
       "State                    22\n",
       "Employment Length         0\n",
       "Policy Code             918\n",
       "dtype: int64"
      ]
     },
     "execution_count": 20,
     "metadata": {},
     "output_type": "execute_result"
    }
   ],
   "source": [
    "rejected.isnull().sum()"
   ]
  },
  {
   "cell_type": "code",
   "execution_count": 21,
   "id": "6b65cb81",
   "metadata": {},
   "outputs": [
    {
     "data": {
      "text/plain": [
       "(27648741, 9)"
      ]
     },
     "execution_count": 21,
     "metadata": {},
     "output_type": "execute_result"
    }
   ],
   "source": [
    "rejected.shape"
   ]
  },
  {
   "cell_type": "code",
   "execution_count": null,
   "id": "50e2a18a",
   "metadata": {},
   "outputs": [],
   "source": []
  },
  {
   "cell_type": "code",
   "execution_count": 22,
   "id": "24682a8f",
   "metadata": {},
   "outputs": [],
   "source": [
    "# Features Used to Reverse Engineer: \n",
    "# 1. Risk Score\n",
    "# 2. Debt To Income Ratio\n",
    "# 3. Loan Title\n",
    "# 4. Employment Length"
   ]
  },
  {
   "cell_type": "code",
   "execution_count": 23,
   "id": "1bbfff2b",
   "metadata": {},
   "outputs": [
    {
     "data": {
      "text/plain": [
       "(27648741, 4)"
      ]
     },
     "execution_count": 23,
     "metadata": {},
     "output_type": "execute_result"
    }
   ],
   "source": [
    "r = rejected[['Risk_Score', 'Debt-To-Income Ratio', 'Loan Title', 'Employment Length']]\n",
    "r.shape"
   ]
  },
  {
   "cell_type": "code",
   "execution_count": 24,
   "id": "b9c6dbf3",
   "metadata": {},
   "outputs": [
    {
     "data": {
      "text/plain": [
       "Risk_Score              0\n",
       "Debt-To-Income Ratio    0\n",
       "Loan Title              0\n",
       "Employment Length       0\n",
       "dtype: int64"
      ]
     },
     "execution_count": 24,
     "metadata": {},
     "output_type": "execute_result"
    }
   ],
   "source": [
    "r.isnull().sum()"
   ]
  },
  {
   "cell_type": "code",
   "execution_count": null,
   "id": "c46a06dd",
   "metadata": {},
   "outputs": [],
   "source": []
  },
  {
   "cell_type": "code",
   "execution_count": 25,
   "id": "bdd95422",
   "metadata": {},
   "outputs": [],
   "source": [
    "#Convert Debt To Income to a numerical Data Type"
   ]
  },
  {
   "cell_type": "code",
   "execution_count": 26,
   "id": "931e5090",
   "metadata": {},
   "outputs": [],
   "source": [
    "r = r.rename(columns={\"Debt-To-Income Ratio\":\"DI\"})"
   ]
  },
  {
   "cell_type": "code",
   "execution_count": 27,
   "id": "83bc0a13",
   "metadata": {},
   "outputs": [],
   "source": [
    "r['DI'] = r['DI'].str.rstrip(\"%\").astype(float)/100"
   ]
  },
  {
   "cell_type": "code",
   "execution_count": 28,
   "id": "a3120057",
   "metadata": {},
   "outputs": [
    {
     "data": {
      "text/plain": [
       "Risk_Score            object\n",
       "DI                   float64\n",
       "Loan Title            object\n",
       "Employment Length     object\n",
       "dtype: object"
      ]
     },
     "execution_count": 28,
     "metadata": {},
     "output_type": "execute_result"
    }
   ],
   "source": [
    "r.dtypes"
   ]
  },
  {
   "cell_type": "code",
   "execution_count": 29,
   "id": "ee1ac2c0",
   "metadata": {},
   "outputs": [
    {
     "data": {
      "text/plain": [
       "Risk_Score           0\n",
       "DI                   0\n",
       "Loan Title           0\n",
       "Employment Length    0\n",
       "dtype: int64"
      ]
     },
     "execution_count": 29,
     "metadata": {},
     "output_type": "execute_result"
    }
   ],
   "source": [
    "r.isnull().sum()"
   ]
  },
  {
   "cell_type": "code",
   "execution_count": null,
   "id": "e96e534b",
   "metadata": {},
   "outputs": [],
   "source": []
  },
  {
   "cell_type": "code",
   "execution_count": 30,
   "id": "c8a48b0d",
   "metadata": {},
   "outputs": [],
   "source": [
    "#Group Loan Titles (and view frequency)"
   ]
  },
  {
   "cell_type": "code",
   "execution_count": 35,
   "id": "f63b8bbf",
   "metadata": {},
   "outputs": [],
   "source": [
    "r['Loan Title'] = r['Loan Title'].replace({'debt_consolidation':'Debt consolidation',\n",
    "                                                         'Debt consolidation':'Debt Consolidation',\n",
    "                                                         'credit_card':'Credit card refinancing',\n",
    "                                                         'Credit card refinancing':'Credit Card Refinancing',\n",
    "                                                         'other':'Other',\n",
    "                                                         'car':'Car financing',\n",
    "                                                         'Car financing':'Car Financing',\n",
    "                                                         'home_improvement':'Home improvement',\n",
    "                                                         'Home improvement':'Home Improvement',\n",
    "                                                         'major_purchase':'Major purchase',\n",
    "                                                         'Major purchase':'Major Purchase',\n",
    "                                                         'moving':'Moving',\n",
    "                                                         'medical':'Medical expenses',\n",
    "                                                         'Medical expenses':'Medical Expenses',\n",
    "                                                         'Home buying':'Home Purchase',\n",
    "                                                         'small_business':'Business Loan',\n",
    "                                                         'Business':'Business Loan',\n",
    "                                                         'Moving':'Moving And relocation',\n",
    "                                                         'Moving and relocation': 'Moving And Relocation',\n",
    "                                                         'house':'Home Purchase',\n",
    "                                                         'vacation':'Vacation',\n",
    "                                                         'Business Line Of Credit':'Business Loan',\n",
    "                                                         'debt consolidation':'Debt Consolidation',\n",
    "                                                         ' ':'Other',\n",
    "                                                         'renewable_energy':'Green loan',\n",
    "                                                         'Green loan':'Green Loan',\n",
    "                                                         'Consolidation':'Debt Consolidation',\n",
    "                                                         'Debt Consolidation Loan':'Debt Consolidation',\n",
    "                                                         'personal':'Personal Loan',\n",
    "                                                         'Personal':'Personal Loan',\n",
    "                                                         'educational':'Education',\n",
    "                                                         'wedding':'Wedding',\n",
    "                                                         'personal loan':'Personal Loan',\n",
    "                                                         'consolidation':'Debt Consolidation',\n",
    "                                                         'Education':'Student Loan',\n",
    "                                                         'Small Business Loan':'Business Loan',\n",
    "                                                         'home improvement':'Home Improvement',\n",
    "                                                         'Credit Card Consolidation':'Credit Card Refinancing',\n",
    "                                                         'Loan':'Other',\n",
    "                                                         'Consolidate':'Debt Consolidation',\n",
    "                                                         'Consolidation Loan':'Debt Consolidation',\n",
    "                                                         'Credit Card Refinance':'Credit Card Refinancing',\n",
    "                                                         'student loan':'Student Loan',\n",
    "                                                         'Debt':'Other',\n",
    "                                                         'consolidate':'Debt Consolidation',\n",
    "                                                         'Credit Card Loan':'Credit Card Refinancing',\n",
    "                                                         'loan':'Other',\n",
    "                                                         'Car Loan':'Car Financing',\n",
    "                                                         'Credit Card Payoff':'Credit Card Refinancing',\n",
    "                                                         'Personal loan':'Personal Loan',\n",
    "                                                         'School':'Student Loan', \n",
    "                                                         'debt':'Other',\n",
    "                                                         'business':'Business Loan',\n",
    "                                                         'Home Improvement Loan':'Home Improvement', \n",
    "                                                         'School Loan':'Student Loan',\n",
    "                                                         'credit card refinance':'Credit Card Refinancing',\n",
    "                                                         'payoff':'Other',\n",
    "                                                         'My Loan':'Personal Loan',\n",
    "                                                         'my loan':'Personal Loan',\n",
    "                                                         'Credit Card':'Credit Card Refinancing',\n",
    "                                                         'credit card':'Credit Card Refinancing',\n",
    "                                                         'credit cards':'Credit Card Refinancing',\n",
    "                                                         'credit card payoff':'Credit Card Refinancing',\n",
    "                                                         'DEBT CONSOLIDATION':'Debt Consolidation',\n",
    "                                                         'Medical':'Medical Expenses',\n",
    "                                                         'home':'Home Improvement',\n",
    "                                                         'Credit Cards':'Credit Card Refinancing',\n",
    "                                                         'school':'Student Loan',\n",
    "                                                         'Credit Card Financing':'Credit Card Refinancing',\n",
    "                                                         'credit card consolidation':'Credit Card Refinancing',\n",
    "                                                         'consolidation loan':'Debt Consolidation',\n",
    "                                                         'pay off credit cards':'Credit Card Refinancing',\n",
    "                                                         'business loan': 'Business Loan', \n",
    "                                                         'Payoff':'Other',\n",
    "                                                         'debt consolidation loan':'Debt Consolidation',\n",
    "                                                         'Debt Consolidation ':'Debt Consolidation',\n",
    "                                                         'bills':'Other',\n",
    "                                                         'Home':'Home Improvement',\n",
    "                                                         'Small Business':'Business Loan',\n",
    "                                                         'Consolidate debt':'Debt Consolidation',\n",
    "                                                         'Consolidate Debt':'Debt Consolidation',\n",
    "                                                         'Refinance':'Other',\n",
    "                                                         'Bills':'Other',\n",
    "                                                         'freedom':'Freedom',\n",
    "                                                         'school loan':'Student Loan',\n",
    "                                                         'Wedding Loan':'Wedding',\n",
    "                                                         'Debt Free':'Other',\n",
    "                                                         'car loan':'Car Financing',\n",
    "                                                         'Other Loan':'Other',\n",
    "                                                         'Debt Loan':'Other',\n",
    "                                                         'Debt consolidation loan':'Debt Consolidation',\n",
    "                                                         'Education Loan':'Student Loan',\n",
    "                                                         'education':'Student Loan',\n",
    "                                                         'Major Purchase Loan':'Major Purchase',\n",
    "                                                         'Credit card consolidation':'Credit Card Refinancing',\n",
    "                                                         'Pay off credit cards':'Credit Card Refinancing',\n",
    "                                                         'Car':'Car Financing',\n",
    "                                                         'Auto Loan':'Car Financing',\n",
    "                                                         'Credit Card Debt':'Credit Card Refinancing',\n",
    "                                                         'major purchase':'Major Purchase',\n",
    "                                                         'Motorcycle':'Motorcycle Loan',\n",
    "                                                         'Debt consolidation':'Debt Consolidation',\n",
    "                                                         'consolidate debt':'Debt Consolidation',\n",
    "                                                         'Student Loan ':'Student Loan',\n",
    "                                                         'Student loan':'Student Loan',\n",
    "                                                         'My loan':'Personal Loan',\n",
    "                                                         'Debt consolidation ':'Debt Consolidation',\n",
    "                                                         'Moving And relocation':'Moving And Relocation', \n",
    "                                                         'Credit Consolidation':'Debt Consolidation',\n",
    "                                                         'Credit card payoff':'Credit Card Refinancing'})"
   ]
  },
  {
   "cell_type": "code",
   "execution_count": 36,
   "id": "ea0c4bee",
   "metadata": {},
   "outputs": [
    {
     "data": {
      "text/plain": [
       "Debt Consolidation         12329073\n",
       "Other                       4717292\n",
       "Credit Card Refinancing     3666211\n",
       "Car Financing               1289981\n",
       "Home Improvement            1191501\n",
       "Major Purchase               957489\n",
       "Business Loan                860772\n",
       "Medical Expenses             748155\n",
       "Moving And Relocation        701004\n",
       "Home Purchase                678013\n",
       "Vacation                     309189\n",
       "Green Loan                    56811\n",
       "Wedding                       18494\n",
       "Personal Loan                  6164\n",
       "Student Loan                   5304\n",
       "None                           1305\n",
       "Freedom                         492\n",
       "Motorcycle Loan                 300\n",
       "debt loan                       133\n",
       "debt free                       132\n",
       "Name: Loan Title, dtype: int64"
      ]
     },
     "execution_count": 36,
     "metadata": {},
     "output_type": "execute_result"
    }
   ],
   "source": [
    "r['Loan Title'].value_counts(dropna=False).nlargest(20)"
   ]
  },
  {
   "cell_type": "code",
   "execution_count": null,
   "id": "0e89b802",
   "metadata": {},
   "outputs": [],
   "source": []
  },
  {
   "cell_type": "code",
   "execution_count": null,
   "id": "1ed4f23e",
   "metadata": {},
   "outputs": [],
   "source": []
  },
  {
   "cell_type": "code",
   "execution_count": 37,
   "id": "46124292",
   "metadata": {},
   "outputs": [],
   "source": [
    "r = r.rename(columns={'Loan Title':'Loan Type'})"
   ]
  },
  {
   "cell_type": "code",
   "execution_count": 38,
   "id": "ec5b65c9",
   "metadata": {},
   "outputs": [
    {
     "data": {
      "text/plain": [
       "Risk_Score           0\n",
       "DI                   0\n",
       "Loan Type            0\n",
       "Employment Length    0\n",
       "dtype: int64"
      ]
     },
     "execution_count": 38,
     "metadata": {},
     "output_type": "execute_result"
    }
   ],
   "source": [
    "r.isnull().sum()"
   ]
  },
  {
   "cell_type": "code",
   "execution_count": 39,
   "id": "1ec67ac4",
   "metadata": {},
   "outputs": [
    {
     "data": {
      "text/plain": [
       "(27648741, 4)"
      ]
     },
     "execution_count": 39,
     "metadata": {},
     "output_type": "execute_result"
    }
   ],
   "source": [
    "r.shape"
   ]
  },
  {
   "cell_type": "code",
   "execution_count": null,
   "id": "d7602c31",
   "metadata": {},
   "outputs": [],
   "source": []
  },
  {
   "cell_type": "code",
   "execution_count": 40,
   "id": "78c74a3e",
   "metadata": {},
   "outputs": [],
   "source": [
    "#Assign \"Label = 0\" for Rejected Loans"
   ]
  },
  {
   "cell_type": "code",
   "execution_count": 41,
   "id": "9929cce6",
   "metadata": {},
   "outputs": [
    {
     "data": {
      "text/html": [
       "<div>\n",
       "<style scoped>\n",
       "    .dataframe tbody tr th:only-of-type {\n",
       "        vertical-align: middle;\n",
       "    }\n",
       "\n",
       "    .dataframe tbody tr th {\n",
       "        vertical-align: top;\n",
       "    }\n",
       "\n",
       "    .dataframe thead th {\n",
       "        text-align: right;\n",
       "    }\n",
       "</style>\n",
       "<table border=\"1\" class=\"dataframe\">\n",
       "  <thead>\n",
       "    <tr style=\"text-align: right;\">\n",
       "      <th></th>\n",
       "      <th>Risk_Score</th>\n",
       "      <th>DI</th>\n",
       "      <th>Loan Type</th>\n",
       "      <th>Employment Length</th>\n",
       "      <th>Accepted</th>\n",
       "    </tr>\n",
       "  </thead>\n",
       "  <tbody>\n",
       "    <tr>\n",
       "      <th>0</th>\n",
       "      <td>693.0</td>\n",
       "      <td>0.1000</td>\n",
       "      <td>Wedding Covered but No Honeymoon</td>\n",
       "      <td>4 years</td>\n",
       "      <td>0</td>\n",
       "    </tr>\n",
       "    <tr>\n",
       "      <th>1</th>\n",
       "      <td>703.0</td>\n",
       "      <td>0.1000</td>\n",
       "      <td>Consolidating Debt</td>\n",
       "      <td>&lt; 1 year</td>\n",
       "      <td>0</td>\n",
       "    </tr>\n",
       "    <tr>\n",
       "      <th>2</th>\n",
       "      <td>715.0</td>\n",
       "      <td>0.1000</td>\n",
       "      <td>Want to consolidate my debt</td>\n",
       "      <td>1 year</td>\n",
       "      <td>0</td>\n",
       "    </tr>\n",
       "    <tr>\n",
       "      <th>3</th>\n",
       "      <td>698.0</td>\n",
       "      <td>0.3864</td>\n",
       "      <td>waksman</td>\n",
       "      <td>&lt; 1 year</td>\n",
       "      <td>0</td>\n",
       "    </tr>\n",
       "    <tr>\n",
       "      <th>4</th>\n",
       "      <td>509.0</td>\n",
       "      <td>0.0943</td>\n",
       "      <td>mdrigo</td>\n",
       "      <td>&lt; 1 year</td>\n",
       "      <td>0</td>\n",
       "    </tr>\n",
       "    <tr>\n",
       "      <th>...</th>\n",
       "      <td>...</td>\n",
       "      <td>...</td>\n",
       "      <td>...</td>\n",
       "      <td>...</td>\n",
       "      <td>...</td>\n",
       "    </tr>\n",
       "    <tr>\n",
       "      <th>27648736</th>\n",
       "      <td>590.0</td>\n",
       "      <td>0.4126</td>\n",
       "      <td>Debt Consolidation</td>\n",
       "      <td>&lt; 1 year</td>\n",
       "      <td>0</td>\n",
       "    </tr>\n",
       "    <tr>\n",
       "      <th>27648737</th>\n",
       "      <td>None</td>\n",
       "      <td>0.0148</td>\n",
       "      <td>Moving And Relocation</td>\n",
       "      <td>5 years</td>\n",
       "      <td>0</td>\n",
       "    </tr>\n",
       "    <tr>\n",
       "      <th>27648738</th>\n",
       "      <td>686.0</td>\n",
       "      <td>0.1026</td>\n",
       "      <td>Other</td>\n",
       "      <td>&lt; 1 year</td>\n",
       "      <td>0</td>\n",
       "    </tr>\n",
       "    <tr>\n",
       "      <th>27648739</th>\n",
       "      <td>None</td>\n",
       "      <td>0.1771</td>\n",
       "      <td>Debt Consolidation</td>\n",
       "      <td>&lt; 1 year</td>\n",
       "      <td>0</td>\n",
       "    </tr>\n",
       "    <tr>\n",
       "      <th>27648740</th>\n",
       "      <td>684.0</td>\n",
       "      <td>0.1058</td>\n",
       "      <td>Business Loan</td>\n",
       "      <td>&lt; 1 year</td>\n",
       "      <td>0</td>\n",
       "    </tr>\n",
       "  </tbody>\n",
       "</table>\n",
       "<p>27648741 rows × 5 columns</p>\n",
       "</div>"
      ],
      "text/plain": [
       "         Risk_Score      DI                         Loan Type  \\\n",
       "0             693.0  0.1000  Wedding Covered but No Honeymoon   \n",
       "1             703.0  0.1000                Consolidating Debt   \n",
       "2             715.0  0.1000       Want to consolidate my debt   \n",
       "3             698.0  0.3864                           waksman   \n",
       "4             509.0  0.0943                            mdrigo   \n",
       "...             ...     ...                               ...   \n",
       "27648736      590.0  0.4126                Debt Consolidation   \n",
       "27648737       None  0.0148             Moving And Relocation   \n",
       "27648738      686.0  0.1026                             Other   \n",
       "27648739       None  0.1771                Debt Consolidation   \n",
       "27648740      684.0  0.1058                     Business Loan   \n",
       "\n",
       "         Employment Length  Accepted  \n",
       "0                  4 years         0  \n",
       "1                 < 1 year         0  \n",
       "2                   1 year         0  \n",
       "3                 < 1 year         0  \n",
       "4                 < 1 year         0  \n",
       "...                    ...       ...  \n",
       "27648736          < 1 year         0  \n",
       "27648737           5 years         0  \n",
       "27648738          < 1 year         0  \n",
       "27648739          < 1 year         0  \n",
       "27648740          < 1 year         0  \n",
       "\n",
       "[27648741 rows x 5 columns]"
      ]
     },
     "execution_count": 41,
     "metadata": {},
     "output_type": "execute_result"
    }
   ],
   "source": [
    "r = r.assign(Accepted = 0)\n",
    "r"
   ]
  },
  {
   "cell_type": "code",
   "execution_count": 42,
   "id": "e6649ad6",
   "metadata": {},
   "outputs": [
    {
     "data": {
      "text/plain": [
       "Risk_Score            object\n",
       "DI                   float64\n",
       "Loan Type             object\n",
       "Employment Length     object\n",
       "Accepted               int64\n",
       "dtype: object"
      ]
     },
     "execution_count": 42,
     "metadata": {},
     "output_type": "execute_result"
    }
   ],
   "source": [
    "r.dtypes"
   ]
  },
  {
   "cell_type": "code",
   "execution_count": 43,
   "id": "42b13396",
   "metadata": {},
   "outputs": [
    {
     "data": {
      "text/plain": [
       "Risk_Score           0\n",
       "DI                   0\n",
       "Loan Type            0\n",
       "Employment Length    0\n",
       "Accepted             0\n",
       "dtype: int64"
      ]
     },
     "execution_count": 43,
     "metadata": {},
     "output_type": "execute_result"
    }
   ],
   "source": [
    "r.isnull().sum()  # No more Null's"
   ]
  },
  {
   "cell_type": "code",
   "execution_count": 45,
   "id": "b7535cce",
   "metadata": {},
   "outputs": [
    {
     "data": {
      "text/plain": [
       "(27648741, 5)"
      ]
     },
     "execution_count": 45,
     "metadata": {},
     "output_type": "execute_result"
    }
   ],
   "source": [
    "r.shape  #Preserved Original Count of Observations. "
   ]
  },
  {
   "cell_type": "code",
   "execution_count": null,
   "id": "1326ff8c",
   "metadata": {},
   "outputs": [],
   "source": []
  },
  {
   "cell_type": "code",
   "execution_count": 46,
   "id": "d90b57cf",
   "metadata": {},
   "outputs": [],
   "source": [
    "r.to_csv('Rejected_No_Null.csv', index=False)"
   ]
  },
  {
   "cell_type": "code",
   "execution_count": null,
   "id": "9f04fb74",
   "metadata": {},
   "outputs": [],
   "source": []
  }
 ],
 "metadata": {
  "hide_input": false,
  "kernelspec": {
   "display_name": "Python 3 (ipykernel)",
   "language": "python",
   "name": "python3"
  },
  "language_info": {
   "codemirror_mode": {
    "name": "ipython",
    "version": 3
   },
   "file_extension": ".py",
   "mimetype": "text/x-python",
   "name": "python",
   "nbconvert_exporter": "python",
   "pygments_lexer": "ipython3",
   "version": "3.8.8"
  },
  "varInspector": {
   "cols": {
    "lenName": 16,
    "lenType": 16,
    "lenVar": 40
   },
   "kernels_config": {
    "python": {
     "delete_cmd_postfix": "",
     "delete_cmd_prefix": "del ",
     "library": "var_list.py",
     "varRefreshCmd": "print(var_dic_list())"
    },
    "r": {
     "delete_cmd_postfix": ") ",
     "delete_cmd_prefix": "rm(",
     "library": "var_list.r",
     "varRefreshCmd": "cat(var_dic_list()) "
    }
   },
   "types_to_exclude": [
    "module",
    "function",
    "builtin_function_or_method",
    "instance",
    "_Feature"
   ],
   "window_display": false
  }
 },
 "nbformat": 4,
 "nbformat_minor": 5
}
