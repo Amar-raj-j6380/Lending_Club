{
 "cells": [
  {
   "cell_type": "code",
   "execution_count": 1,
   "id": "45f27def",
   "metadata": {},
   "outputs": [],
   "source": [
    "import pandas as pd\n",
    "import seaborn as sns\n",
    "import numpy as np\n",
    "import matplotlib.pyplot as plt\n",
    "sns.set()"
   ]
  },
  {
   "cell_type": "code",
   "execution_count": 2,
   "id": "72d80f13",
   "metadata": {},
   "outputs": [],
   "source": [
    "pd.set_option(\"display.max_columns\", 200)\n",
    "pd.set_option(\"display.max_row\", 160)\n",
    "pd.set_option('max_colwidth', 200)"
   ]
  },
  {
   "cell_type": "code",
   "execution_count": 3,
   "id": "061bfc46",
   "metadata": {},
   "outputs": [
    {
     "name": "stderr",
     "output_type": "stream",
     "text": [
      "/opt/anaconda3/lib/python3.8/site-packages/IPython/core/interactiveshell.py:3444: DtypeWarning: Columns (0,19,49,59,118,129,130,131,134,135,136,139,145,146,147) have mixed types.Specify dtype option on import or set low_memory=False.\n",
      "  exec(code_obj, self.user_global_ns, self.user_ns)\n"
     ]
    }
   ],
   "source": [
    "a = pd.read_csv('../Data/accepted.csv')"
   ]
  },
  {
   "cell_type": "code",
   "execution_count": 4,
   "id": "560d894c",
   "metadata": {},
   "outputs": [],
   "source": [
    "a = a.assign(FICO = (a['fico_range_low'] + a['fico_range_high'])/2)"
   ]
  },
  {
   "cell_type": "code",
   "execution_count": 5,
   "id": "d9bcb46c",
   "metadata": {},
   "outputs": [
    {
     "data": {
      "text/html": [
       "<div>\n",
       "<style scoped>\n",
       "    .dataframe tbody tr th:only-of-type {\n",
       "        vertical-align: middle;\n",
       "    }\n",
       "\n",
       "    .dataframe tbody tr th {\n",
       "        vertical-align: top;\n",
       "    }\n",
       "\n",
       "    .dataframe thead th {\n",
       "        text-align: right;\n",
       "    }\n",
       "</style>\n",
       "<table border=\"1\" class=\"dataframe\">\n",
       "  <thead>\n",
       "    <tr style=\"text-align: right;\">\n",
       "      <th></th>\n",
       "      <th>FICO</th>\n",
       "    </tr>\n",
       "  </thead>\n",
       "  <tbody>\n",
       "    <tr>\n",
       "      <th>count</th>\n",
       "      <td>2.260668e+06</td>\n",
       "    </tr>\n",
       "    <tr>\n",
       "      <th>mean</th>\n",
       "      <td>7.005883e+02</td>\n",
       "    </tr>\n",
       "    <tr>\n",
       "      <th>std</th>\n",
       "      <td>3.301081e+01</td>\n",
       "    </tr>\n",
       "    <tr>\n",
       "      <th>min</th>\n",
       "      <td>6.120000e+02</td>\n",
       "    </tr>\n",
       "    <tr>\n",
       "      <th>25%</th>\n",
       "      <td>6.770000e+02</td>\n",
       "    </tr>\n",
       "    <tr>\n",
       "      <th>50%</th>\n",
       "      <td>6.920000e+02</td>\n",
       "    </tr>\n",
       "    <tr>\n",
       "      <th>75%</th>\n",
       "      <td>7.170000e+02</td>\n",
       "    </tr>\n",
       "    <tr>\n",
       "      <th>max</th>\n",
       "      <td>8.475000e+02</td>\n",
       "    </tr>\n",
       "  </tbody>\n",
       "</table>\n",
       "</div>"
      ],
      "text/plain": [
       "               FICO\n",
       "count  2.260668e+06\n",
       "mean   7.005883e+02\n",
       "std    3.301081e+01\n",
       "min    6.120000e+02\n",
       "25%    6.770000e+02\n",
       "50%    6.920000e+02\n",
       "75%    7.170000e+02\n",
       "max    8.475000e+02"
      ]
     },
     "execution_count": 5,
     "metadata": {},
     "output_type": "execute_result"
    }
   ],
   "source": [
    "a[['FICO']].describe()"
   ]
  },
  {
   "cell_type": "code",
   "execution_count": null,
   "id": "68941bf6",
   "metadata": {},
   "outputs": [],
   "source": []
  },
  {
   "cell_type": "code",
   "execution_count": 6,
   "id": "649fca6e",
   "metadata": {},
   "outputs": [
    {
     "data": {
      "text/plain": [
       "<Figure size 576x288 with 0 Axes>"
      ]
     },
     "metadata": {},
     "output_type": "display_data"
    },
    {
     "data": {
      "image/png": "[encoded data removed]",
      "text/plain": [
       "<Figure size 750x500 with 1 Axes>"
      ]
     },
     "metadata": {},
     "output_type": "display_data"
    }
   ],
   "source": [
    "plt.figure(figsize=(8,4))\n",
    "plt.style.use('default')\n",
    "plt.style.use('ggplot')\n",
    "\n",
    "sns.displot(data=a, x='FICO', kind='hist', bins=15, color = 'blue', aspect=1.5)\n",
    "\n",
    "plt.title('FICO Scores For Accepted Loans', fontsize=16, color='black')\n",
    "plt.xlabel('FICO Score', fontsize=14, color='black')\n",
    "plt.ylabel('Count', fontsize=14, color='black')\n",
    "#plt.legend(fontsize=12)\n",
    "\n",
    "plt.tight_layout()\n",
    "plt.show();"
   ]
  },
  {
   "cell_type": "code",
   "execution_count": null,
   "id": "15064fd7",
   "metadata": {},
   "outputs": [],
   "source": []
  },
  {
   "cell_type": "code",
   "execution_count": 7,
   "id": "17b60202",
   "metadata": {},
   "outputs": [],
   "source": [
    "a = a[(a.fico_range_low>=660)&(a.fico_range_low<=840)]"
   ]
  },
  {
   "cell_type": "code",
   "execution_count": 8,
   "id": "f7517074",
   "metadata": {},
   "outputs": [
    {
     "data": {
      "text/plain": [
       "(2259738, 152)"
      ]
     },
     "execution_count": 8,
     "metadata": {},
     "output_type": "execute_result"
    }
   ],
   "source": [
    "a.shape"
   ]
  },
  {
   "cell_type": "code",
   "execution_count": 9,
   "id": "7a22c936",
   "metadata": {},
   "outputs": [
    {
     "data": {
      "text/html": [
       "<div>\n",
       "<style scoped>\n",
       "    .dataframe tbody tr th:only-of-type {\n",
       "        vertical-align: middle;\n",
       "    }\n",
       "\n",
       "    .dataframe tbody tr th {\n",
       "        vertical-align: top;\n",
       "    }\n",
       "\n",
       "    .dataframe thead th {\n",
       "        text-align: right;\n",
       "    }\n",
       "</style>\n",
       "<table border=\"1\" class=\"dataframe\">\n",
       "  <thead>\n",
       "    <tr style=\"text-align: right;\">\n",
       "      <th></th>\n",
       "      <th>fico_range_low</th>\n",
       "      <th>FICO</th>\n",
       "    </tr>\n",
       "  </thead>\n",
       "  <tbody>\n",
       "    <tr>\n",
       "      <th>count</th>\n",
       "      <td>2.259738e+06</td>\n",
       "      <td>2.259738e+06</td>\n",
       "    </tr>\n",
       "    <tr>\n",
       "      <th>mean</th>\n",
       "      <td>6.985707e+02</td>\n",
       "      <td>7.005707e+02</td>\n",
       "    </tr>\n",
       "    <tr>\n",
       "      <th>std</th>\n",
       "      <td>3.294495e+01</td>\n",
       "      <td>3.294495e+01</td>\n",
       "    </tr>\n",
       "    <tr>\n",
       "      <th>min</th>\n",
       "      <td>6.600000e+02</td>\n",
       "      <td>6.620000e+02</td>\n",
       "    </tr>\n",
       "    <tr>\n",
       "      <th>25%</th>\n",
       "      <td>6.750000e+02</td>\n",
       "      <td>6.770000e+02</td>\n",
       "    </tr>\n",
       "    <tr>\n",
       "      <th>50%</th>\n",
       "      <td>6.900000e+02</td>\n",
       "      <td>6.920000e+02</td>\n",
       "    </tr>\n",
       "    <tr>\n",
       "      <th>75%</th>\n",
       "      <td>7.150000e+02</td>\n",
       "      <td>7.170000e+02</td>\n",
       "    </tr>\n",
       "    <tr>\n",
       "      <th>max</th>\n",
       "      <td>8.400000e+02</td>\n",
       "      <td>8.420000e+02</td>\n",
       "    </tr>\n",
       "  </tbody>\n",
       "</table>\n",
       "</div>"
      ],
      "text/plain": [
       "       fico_range_low          FICO\n",
       "count    2.259738e+06  2.259738e+06\n",
       "mean     6.985707e+02  7.005707e+02\n",
       "std      3.294495e+01  3.294495e+01\n",
       "min      6.600000e+02  6.620000e+02\n",
       "25%      6.750000e+02  6.770000e+02\n",
       "50%      6.900000e+02  6.920000e+02\n",
       "75%      7.150000e+02  7.170000e+02\n",
       "max      8.400000e+02  8.420000e+02"
      ]
     },
     "execution_count": 9,
     "metadata": {},
     "output_type": "execute_result"
    }
   ],
   "source": [
    "a[['fico_range_low', 'FICO']].describe()"
   ]
  },
  {
   "cell_type": "code",
   "execution_count": 10,
   "id": "fdd928cc",
   "metadata": {},
   "outputs": [
    {
     "data": {
      "text/plain": [
       "<Figure size 1000x600 with 0 Axes>"
      ]
     },
     "metadata": {},
     "output_type": "display_data"
    },
    {
     "data": {
      "image/png": "[encoded data removed]",
      "text/plain": [
       "<Figure size 875x500 with 1 Axes>"
      ]
     },
     "metadata": {},
     "output_type": "display_data"
    }
   ],
   "source": [
    "plt.figure(figsize=(10,6))\n",
    "plt.style.use('default')\n",
    "plt.style.use('ggplot')\n",
    "\n",
    "p = sns.displot(data=a, x='fico_range_low', kind='hist', color='blue',\n",
    "                bins=18, aspect=1.75)\n",
    "\n",
    "p.set(xticks=np.arange(620,850,20))\n",
    "\n",
    "plt.title('FICO Scores for Accepted Loans', fontsize=22, color='black')\n",
    "plt.xlabel('FICO Score', fontsize=18, color='black')\n",
    "plt.ylabel('Loan Count', fontsize=18, color='black')\n",
    "\n",
    "#plt.legend(loc='center right', fontsize=15)\n",
    "\n",
    "#handles, labels = p.get_legend_handles_labels()\n",
    "#p.legend(handles=handles[1:], labels=labels[1:])\n",
    "\n",
    "#sns.move_legend(obj=p, loc='center right', fontsize=15, title_fontsize=15)\n",
    "\n",
    "plt.tight_layout()\n",
    "plt.show();"
   ]
  },
  {
   "cell_type": "code",
   "execution_count": null,
   "id": "5526dec2",
   "metadata": {},
   "outputs": [],
   "source": []
  },
  {
   "cell_type": "code",
   "execution_count": 11,
   "id": "c6bc7de0",
   "metadata": {},
   "outputs": [
    {
     "name": "stderr",
     "output_type": "stream",
     "text": [
      "/opt/anaconda3/lib/python3.8/site-packages/IPython/core/interactiveshell.py:3444: DtypeWarning: Columns (0) have mixed types.Specify dtype option on import or set low_memory=False.\n",
      "  exec(code_obj, self.user_global_ns, self.user_ns)\n"
     ]
    }
   ],
   "source": [
    "c = pd.read_csv('../Data/Combo_4_Full.csv')"
   ]
  },
  {
   "cell_type": "code",
   "execution_count": 12,
   "id": "d79d45d8",
   "metadata": {},
   "outputs": [
    {
     "data": {
      "text/plain": [
       "(29909405, 5)"
      ]
     },
     "execution_count": 12,
     "metadata": {},
     "output_type": "execute_result"
    }
   ],
   "source": [
    "c.shape"
   ]
  },
  {
   "cell_type": "code",
   "execution_count": 13,
   "id": "041761d8",
   "metadata": {},
   "outputs": [
    {
     "data": {
      "text/plain": [
       "Risk_Score            object\n",
       "DI                   float64\n",
       "Loan Type             object\n",
       "Employment Length     object\n",
       "Accepted               int64\n",
       "dtype: object"
      ]
     },
     "execution_count": 13,
     "metadata": {},
     "output_type": "execute_result"
    }
   ],
   "source": [
    "c.dtypes"
   ]
  },
  {
   "cell_type": "code",
   "execution_count": 14,
   "id": "4edcd26f",
   "metadata": {},
   "outputs": [
    {
     "data": {
      "text/plain": [
       "None     18497630\n",
       "662.0      183651\n",
       "672.0      179311\n",
       "501.0      178456\n",
       "667.0      177983\n",
       "           ...   \n",
       "318.0           4\n",
       "612.0           2\n",
       "627.0           2\n",
       "622.0           1\n",
       "617.0           1\n",
       "Name: Risk_Score, Length: 742, dtype: int64"
      ]
     },
     "execution_count": 14,
     "metadata": {},
     "output_type": "execute_result"
    }
   ],
   "source": [
    "c['Risk_Score'].value_counts()"
   ]
  },
  {
   "cell_type": "code",
   "execution_count": 15,
   "id": "958c55b4",
   "metadata": {},
   "outputs": [
    {
     "data": {
      "text/plain": [
       "11411775"
      ]
     },
     "execution_count": 15,
     "metadata": {},
     "output_type": "execute_result"
    }
   ],
   "source": [
    "29909405 - 18497630"
   ]
  },
  {
   "cell_type": "code",
   "execution_count": 16,
   "id": "a6829f28",
   "metadata": {},
   "outputs": [
    {
     "data": {
      "text/plain": [
       "0    27648741\n",
       "1     2260664\n",
       "Name: Accepted, dtype: int64"
      ]
     },
     "execution_count": 16,
     "metadata": {},
     "output_type": "execute_result"
    }
   ],
   "source": [
    "c['Accepted'].value_counts()"
   ]
  },
  {
   "cell_type": "code",
   "execution_count": 17,
   "id": "5c08bb63",
   "metadata": {},
   "outputs": [
    {
     "data": {
      "text/html": [
       "<div>\n",
       "<style scoped>\n",
       "    .dataframe tbody tr th:only-of-type {\n",
       "        vertical-align: middle;\n",
       "    }\n",
       "\n",
       "    .dataframe tbody tr th {\n",
       "        vertical-align: top;\n",
       "    }\n",
       "\n",
       "    .dataframe thead th {\n",
       "        text-align: right;\n",
       "    }\n",
       "</style>\n",
       "<table border=\"1\" class=\"dataframe\">\n",
       "  <thead>\n",
       "    <tr style=\"text-align: right;\">\n",
       "      <th></th>\n",
       "      <th>Risk_Score</th>\n",
       "      <th>Accepted</th>\n",
       "    </tr>\n",
       "  </thead>\n",
       "  <tbody>\n",
       "    <tr>\n",
       "      <th>0</th>\n",
       "      <td>677.0</td>\n",
       "      <td>1</td>\n",
       "    </tr>\n",
       "    <tr>\n",
       "      <th>1</th>\n",
       "      <td>717.0</td>\n",
       "      <td>1</td>\n",
       "    </tr>\n",
       "    <tr>\n",
       "      <th>2</th>\n",
       "      <td>697.0</td>\n",
       "      <td>1</td>\n",
       "    </tr>\n",
       "    <tr>\n",
       "      <th>3</th>\n",
       "      <td>787.0</td>\n",
       "      <td>1</td>\n",
       "    </tr>\n",
       "    <tr>\n",
       "      <th>4</th>\n",
       "      <td>697.0</td>\n",
       "      <td>1</td>\n",
       "    </tr>\n",
       "    <tr>\n",
       "      <th>...</th>\n",
       "      <td>...</td>\n",
       "      <td>...</td>\n",
       "    </tr>\n",
       "    <tr>\n",
       "      <th>29909397</th>\n",
       "      <td>681.0</td>\n",
       "      <td>0</td>\n",
       "    </tr>\n",
       "    <tr>\n",
       "      <th>29909398</th>\n",
       "      <td>531.0</td>\n",
       "      <td>0</td>\n",
       "    </tr>\n",
       "    <tr>\n",
       "      <th>29909400</th>\n",
       "      <td>590.0</td>\n",
       "      <td>0</td>\n",
       "    </tr>\n",
       "    <tr>\n",
       "      <th>29909402</th>\n",
       "      <td>686.0</td>\n",
       "      <td>0</td>\n",
       "    </tr>\n",
       "    <tr>\n",
       "      <th>29909404</th>\n",
       "      <td>684.0</td>\n",
       "      <td>0</td>\n",
       "    </tr>\n",
       "  </tbody>\n",
       "</table>\n",
       "<p>11411775 rows × 2 columns</p>\n",
       "</div>"
      ],
      "text/plain": [
       "         Risk_Score  Accepted\n",
       "0             677.0         1\n",
       "1             717.0         1\n",
       "2             697.0         1\n",
       "3             787.0         1\n",
       "4             697.0         1\n",
       "...             ...       ...\n",
       "29909397      681.0         0\n",
       "29909398      531.0         0\n",
       "29909400      590.0         0\n",
       "29909402      686.0         0\n",
       "29909404      684.0         0\n",
       "\n",
       "[11411775 rows x 2 columns]"
      ]
     },
     "execution_count": 17,
     "metadata": {},
     "output_type": "execute_result"
    }
   ],
   "source": [
    "c_new = c[['Risk_Score', 'Accepted']].mask(c.eq('None')).dropna()\n",
    "c_new"
   ]
  },
  {
   "cell_type": "code",
   "execution_count": 18,
   "id": "67aa7066",
   "metadata": {},
   "outputs": [
    {
     "data": {
      "text/plain": [
       "Risk_Score    float64\n",
       "Accepted        int64\n",
       "dtype: object"
      ]
     },
     "execution_count": 18,
     "metadata": {},
     "output_type": "execute_result"
    }
   ],
   "source": [
    "cols = c_new.columns\n",
    "c_new[cols] = c_new[cols].apply(pd.to_numeric)\n",
    "c_new.dtypes"
   ]
  },
  {
   "cell_type": "code",
   "execution_count": 19,
   "id": "484b906b",
   "metadata": {},
   "outputs": [],
   "source": [
    "c_new['Application'] = c_new['Accepted'].map({0:'Rejected', 1:'Accepted'})"
   ]
  },
  {
   "cell_type": "code",
   "execution_count": 20,
   "id": "c376594a",
   "metadata": {},
   "outputs": [
    {
     "data": {
      "text/html": [
       "<div>\n",
       "<style scoped>\n",
       "    .dataframe tbody tr th:only-of-type {\n",
       "        vertical-align: middle;\n",
       "    }\n",
       "\n",
       "    .dataframe tbody tr th {\n",
       "        vertical-align: top;\n",
       "    }\n",
       "\n",
       "    .dataframe thead th {\n",
       "        text-align: right;\n",
       "    }\n",
       "</style>\n",
       "<table border=\"1\" class=\"dataframe\">\n",
       "  <thead>\n",
       "    <tr style=\"text-align: right;\">\n",
       "      <th></th>\n",
       "      <th>Risk_Score</th>\n",
       "      <th>Accepted</th>\n",
       "      <th>Application</th>\n",
       "    </tr>\n",
       "  </thead>\n",
       "  <tbody>\n",
       "    <tr>\n",
       "      <th>0</th>\n",
       "      <td>677.0</td>\n",
       "      <td>1</td>\n",
       "      <td>Accepted</td>\n",
       "    </tr>\n",
       "    <tr>\n",
       "      <th>1</th>\n",
       "      <td>717.0</td>\n",
       "      <td>1</td>\n",
       "      <td>Accepted</td>\n",
       "    </tr>\n",
       "    <tr>\n",
       "      <th>2</th>\n",
       "      <td>697.0</td>\n",
       "      <td>1</td>\n",
       "      <td>Accepted</td>\n",
       "    </tr>\n",
       "    <tr>\n",
       "      <th>3</th>\n",
       "      <td>787.0</td>\n",
       "      <td>1</td>\n",
       "      <td>Accepted</td>\n",
       "    </tr>\n",
       "    <tr>\n",
       "      <th>4</th>\n",
       "      <td>697.0</td>\n",
       "      <td>1</td>\n",
       "      <td>Accepted</td>\n",
       "    </tr>\n",
       "    <tr>\n",
       "      <th>...</th>\n",
       "      <td>...</td>\n",
       "      <td>...</td>\n",
       "      <td>...</td>\n",
       "    </tr>\n",
       "    <tr>\n",
       "      <th>29909397</th>\n",
       "      <td>681.0</td>\n",
       "      <td>0</td>\n",
       "      <td>Rejected</td>\n",
       "    </tr>\n",
       "    <tr>\n",
       "      <th>29909398</th>\n",
       "      <td>531.0</td>\n",
       "      <td>0</td>\n",
       "      <td>Rejected</td>\n",
       "    </tr>\n",
       "    <tr>\n",
       "      <th>29909400</th>\n",
       "      <td>590.0</td>\n",
       "      <td>0</td>\n",
       "      <td>Rejected</td>\n",
       "    </tr>\n",
       "    <tr>\n",
       "      <th>29909402</th>\n",
       "      <td>686.0</td>\n",
       "      <td>0</td>\n",
       "      <td>Rejected</td>\n",
       "    </tr>\n",
       "    <tr>\n",
       "      <th>29909404</th>\n",
       "      <td>684.0</td>\n",
       "      <td>0</td>\n",
       "      <td>Rejected</td>\n",
       "    </tr>\n",
       "  </tbody>\n",
       "</table>\n",
       "<p>11411775 rows × 3 columns</p>\n",
       "</div>"
      ],
      "text/plain": [
       "          Risk_Score  Accepted Application\n",
       "0              677.0         1    Accepted\n",
       "1              717.0         1    Accepted\n",
       "2              697.0         1    Accepted\n",
       "3              787.0         1    Accepted\n",
       "4              697.0         1    Accepted\n",
       "...              ...       ...         ...\n",
       "29909397       681.0         0    Rejected\n",
       "29909398       531.0         0    Rejected\n",
       "29909400       590.0         0    Rejected\n",
       "29909402       686.0         0    Rejected\n",
       "29909404       684.0         0    Rejected\n",
       "\n",
       "[11411775 rows x 3 columns]"
      ]
     },
     "execution_count": 20,
     "metadata": {},
     "output_type": "execute_result"
    }
   ],
   "source": [
    "c_new"
   ]
  },
  {
   "cell_type": "code",
   "execution_count": 21,
   "id": "a0ebca68",
   "metadata": {},
   "outputs": [],
   "source": [
    "c_new = c_new[(c_new.Risk_Score >= 400)&(c_new.Risk_Score<=990)]"
   ]
  },
  {
   "cell_type": "code",
   "execution_count": 22,
   "id": "e28233d9",
   "metadata": {},
   "outputs": [
    {
     "data": {
      "text/plain": [
       "<Figure size 1000x600 with 0 Axes>"
      ]
     },
     "metadata": {},
     "output_type": "display_data"
    },
    {
     "data": {
      "image/png": "[encoded data removed]",
      "text/plain": [
       "<Figure size 864.75x500 with 1 Axes>"
      ]
     },
     "metadata": {},
     "output_type": "display_data"
    }
   ],
   "source": [
    "plt.figure(figsize=(10,6))\n",
    "plt.style.use('default')\n",
    "plt.style.use('ggplot')\n",
    "\n",
    "p = sns.displot(data=c_new, x='Risk_Score', kind='hist', hue='Application',\n",
    "            hue_order=['Rejected', 'Accepted'],\n",
    "            multiple='stack', bins=59, aspect=1.5, \n",
    "            palette={'Accepted':'blue', 'Rejected':'red'})\n",
    "\n",
    "p.set(xticks=np.arange(400,1100,100))\n",
    "\n",
    "plt.title('Loans With FICO Scores Above 400', fontsize=16, color='black')\n",
    "plt.xlabel('FICO Score', fontsize=14, color='black')\n",
    "plt.ylabel('Loan Count', fontsize=14, color='black')\n",
    "#plt.legend(fontsize=12)\n",
    "\n",
    "sns.move_legend(obj=p, loc='center right', fontsize=15, title_fontsize=15)\n",
    "\n",
    "plt.tight_layout()\n",
    "plt.show();"
   ]
  },
  {
   "cell_type": "code",
   "execution_count": 23,
   "id": "aaafae59",
   "metadata": {},
   "outputs": [
    {
     "data": {
      "text/html": [
       "<div>\n",
       "<style scoped>\n",
       "    .dataframe tbody tr th:only-of-type {\n",
       "        vertical-align: middle;\n",
       "    }\n",
       "\n",
       "    .dataframe tbody tr th {\n",
       "        vertical-align: top;\n",
       "    }\n",
       "\n",
       "    .dataframe thead th {\n",
       "        text-align: right;\n",
       "    }\n",
       "</style>\n",
       "<table border=\"1\" class=\"dataframe\">\n",
       "  <thead>\n",
       "    <tr style=\"text-align: right;\">\n",
       "      <th></th>\n",
       "      <th>Risk_Score</th>\n",
       "      <th>Accepted</th>\n",
       "    </tr>\n",
       "  </thead>\n",
       "  <tbody>\n",
       "    <tr>\n",
       "      <th>count</th>\n",
       "      <td>1.132261e+07</td>\n",
       "      <td>1.132261e+07</td>\n",
       "    </tr>\n",
       "    <tr>\n",
       "      <th>mean</th>\n",
       "      <td>6.475016e+02</td>\n",
       "      <td>1.996593e-01</td>\n",
       "    </tr>\n",
       "    <tr>\n",
       "      <th>std</th>\n",
       "      <td>6.624946e+01</td>\n",
       "      <td>3.997443e-01</td>\n",
       "    </tr>\n",
       "    <tr>\n",
       "      <th>min</th>\n",
       "      <td>4.000000e+02</td>\n",
       "      <td>0.000000e+00</td>\n",
       "    </tr>\n",
       "    <tr>\n",
       "      <th>25%</th>\n",
       "      <td>6.060000e+02</td>\n",
       "      <td>0.000000e+00</td>\n",
       "    </tr>\n",
       "    <tr>\n",
       "      <th>50%</th>\n",
       "      <td>6.550000e+02</td>\n",
       "      <td>0.000000e+00</td>\n",
       "    </tr>\n",
       "    <tr>\n",
       "      <th>75%</th>\n",
       "      <td>6.900000e+02</td>\n",
       "      <td>0.000000e+00</td>\n",
       "    </tr>\n",
       "    <tr>\n",
       "      <th>max</th>\n",
       "      <td>9.900000e+02</td>\n",
       "      <td>1.000000e+00</td>\n",
       "    </tr>\n",
       "  </tbody>\n",
       "</table>\n",
       "</div>"
      ],
      "text/plain": [
       "         Risk_Score      Accepted\n",
       "count  1.132261e+07  1.132261e+07\n",
       "mean   6.475016e+02  1.996593e-01\n",
       "std    6.624946e+01  3.997443e-01\n",
       "min    4.000000e+02  0.000000e+00\n",
       "25%    6.060000e+02  0.000000e+00\n",
       "50%    6.550000e+02  0.000000e+00\n",
       "75%    6.900000e+02  0.000000e+00\n",
       "max    9.900000e+02  1.000000e+00"
      ]
     },
     "execution_count": 23,
     "metadata": {},
     "output_type": "execute_result"
    }
   ],
   "source": [
    "c_new.describe()"
   ]
  },
  {
   "cell_type": "code",
   "execution_count": 24,
   "id": "3614677d",
   "metadata": {},
   "outputs": [
    {
     "data": {
      "text/html": [
       "<div>\n",
       "<style scoped>\n",
       "    .dataframe tbody tr th:only-of-type {\n",
       "        vertical-align: middle;\n",
       "    }\n",
       "\n",
       "    .dataframe tbody tr th {\n",
       "        vertical-align: top;\n",
       "    }\n",
       "\n",
       "    .dataframe thead th {\n",
       "        text-align: right;\n",
       "    }\n",
       "</style>\n",
       "<table border=\"1\" class=\"dataframe\">\n",
       "  <thead>\n",
       "    <tr style=\"text-align: right;\">\n",
       "      <th></th>\n",
       "      <th>Risk_Score</th>\n",
       "      <th>Accepted</th>\n",
       "      <th>Application</th>\n",
       "    </tr>\n",
       "  </thead>\n",
       "  <tbody>\n",
       "    <tr>\n",
       "      <th>0</th>\n",
       "      <td>677.0</td>\n",
       "      <td>1</td>\n",
       "      <td>Accepted</td>\n",
       "    </tr>\n",
       "    <tr>\n",
       "      <th>1</th>\n",
       "      <td>717.0</td>\n",
       "      <td>1</td>\n",
       "      <td>Accepted</td>\n",
       "    </tr>\n",
       "    <tr>\n",
       "      <th>2</th>\n",
       "      <td>697.0</td>\n",
       "      <td>1</td>\n",
       "      <td>Accepted</td>\n",
       "    </tr>\n",
       "    <tr>\n",
       "      <th>3</th>\n",
       "      <td>787.0</td>\n",
       "      <td>1</td>\n",
       "      <td>Accepted</td>\n",
       "    </tr>\n",
       "    <tr>\n",
       "      <th>4</th>\n",
       "      <td>697.0</td>\n",
       "      <td>1</td>\n",
       "      <td>Accepted</td>\n",
       "    </tr>\n",
       "    <tr>\n",
       "      <th>...</th>\n",
       "      <td>...</td>\n",
       "      <td>...</td>\n",
       "      <td>...</td>\n",
       "    </tr>\n",
       "    <tr>\n",
       "      <th>29909397</th>\n",
       "      <td>681.0</td>\n",
       "      <td>0</td>\n",
       "      <td>Rejected</td>\n",
       "    </tr>\n",
       "    <tr>\n",
       "      <th>29909398</th>\n",
       "      <td>531.0</td>\n",
       "      <td>0</td>\n",
       "      <td>Rejected</td>\n",
       "    </tr>\n",
       "    <tr>\n",
       "      <th>29909400</th>\n",
       "      <td>590.0</td>\n",
       "      <td>0</td>\n",
       "      <td>Rejected</td>\n",
       "    </tr>\n",
       "    <tr>\n",
       "      <th>29909402</th>\n",
       "      <td>686.0</td>\n",
       "      <td>0</td>\n",
       "      <td>Rejected</td>\n",
       "    </tr>\n",
       "    <tr>\n",
       "      <th>29909404</th>\n",
       "      <td>684.0</td>\n",
       "      <td>0</td>\n",
       "      <td>Rejected</td>\n",
       "    </tr>\n",
       "  </tbody>\n",
       "</table>\n",
       "<p>11201793 rows × 3 columns</p>\n",
       "</div>"
      ],
      "text/plain": [
       "          Risk_Score  Accepted Application\n",
       "0              677.0         1    Accepted\n",
       "1              717.0         1    Accepted\n",
       "2              697.0         1    Accepted\n",
       "3              787.0         1    Accepted\n",
       "4              697.0         1    Accepted\n",
       "...              ...       ...         ...\n",
       "29909397       681.0         0    Rejected\n",
       "29909398       531.0         0    Rejected\n",
       "29909400       590.0         0    Rejected\n",
       "29909402       686.0         0    Rejected\n",
       "29909404       684.0         0    Rejected\n",
       "\n",
       "[11201793 rows x 3 columns]"
      ]
     },
     "execution_count": 24,
     "metadata": {},
     "output_type": "execute_result"
    }
   ],
   "source": [
    "c_new = c_new[c_new.Risk_Score <= 800]\n",
    "c_new"
   ]
  },
  {
   "cell_type": "code",
   "execution_count": 25,
   "id": "17a95e89",
   "metadata": {},
   "outputs": [
    {
     "data": {
      "text/plain": [
       "<Figure size 800x400 with 0 Axes>"
      ]
     },
     "metadata": {},
     "output_type": "display_data"
    },
    {
     "data": {
      "image/png": "[encoded data removed]",
      "text/plain": [
       "<Figure size 864.75x500 with 1 Axes>"
      ]
     },
     "metadata": {},
     "output_type": "display_data"
    }
   ],
   "source": [
    "plt.figure(figsize=(8,4))\n",
    "plt.style.use('default')\n",
    "plt.style.use('ggplot')\n",
    "\n",
    "sns.displot(data=c_new, x='Risk_Score', kind='hist', hue='Application',\n",
    "            hue_order=['Rejected', 'Accepted'],\n",
    "            multiple='stack', bins=20, aspect=1.5, \n",
    "            palette={'Accepted':'blue', 'Rejected':'red'})\n",
    "\n",
    "plt.title('Loans With FICO Scores From 400~800', fontsize=16, color='black')\n",
    "plt.xlabel('FICO Score', fontsize=14, color='black')\n",
    "plt.ylabel('Loan Count', fontsize=14, color='black')\n",
    "#plt.legend(fontsize=12)\n",
    "\n",
    "plt.tight_layout()\n",
    "plt.show();"
   ]
  },
  {
   "cell_type": "code",
   "execution_count": 26,
   "id": "1af2e438",
   "metadata": {},
   "outputs": [
    {
     "data": {
      "text/html": [
       "<div>\n",
       "<style scoped>\n",
       "    .dataframe tbody tr th:only-of-type {\n",
       "        vertical-align: middle;\n",
       "    }\n",
       "\n",
       "    .dataframe tbody tr th {\n",
       "        vertical-align: top;\n",
       "    }\n",
       "\n",
       "    .dataframe thead th {\n",
       "        text-align: right;\n",
       "    }\n",
       "</style>\n",
       "<table border=\"1\" class=\"dataframe\">\n",
       "  <thead>\n",
       "    <tr style=\"text-align: right;\">\n",
       "      <th></th>\n",
       "      <th>Risk_Score</th>\n",
       "      <th>Accepted</th>\n",
       "      <th>Application</th>\n",
       "    </tr>\n",
       "  </thead>\n",
       "  <tbody>\n",
       "    <tr>\n",
       "      <th>0</th>\n",
       "      <td>677.0</td>\n",
       "      <td>1</td>\n",
       "      <td>Accepted</td>\n",
       "    </tr>\n",
       "    <tr>\n",
       "      <th>1</th>\n",
       "      <td>717.0</td>\n",
       "      <td>1</td>\n",
       "      <td>Accepted</td>\n",
       "    </tr>\n",
       "    <tr>\n",
       "      <th>2</th>\n",
       "      <td>697.0</td>\n",
       "      <td>1</td>\n",
       "      <td>Accepted</td>\n",
       "    </tr>\n",
       "    <tr>\n",
       "      <th>3</th>\n",
       "      <td>787.0</td>\n",
       "      <td>1</td>\n",
       "      <td>Accepted</td>\n",
       "    </tr>\n",
       "    <tr>\n",
       "      <th>4</th>\n",
       "      <td>697.0</td>\n",
       "      <td>1</td>\n",
       "      <td>Accepted</td>\n",
       "    </tr>\n",
       "    <tr>\n",
       "      <th>...</th>\n",
       "      <td>...</td>\n",
       "      <td>...</td>\n",
       "      <td>...</td>\n",
       "    </tr>\n",
       "    <tr>\n",
       "      <th>29909393</th>\n",
       "      <td>730.0</td>\n",
       "      <td>0</td>\n",
       "      <td>Rejected</td>\n",
       "    </tr>\n",
       "    <tr>\n",
       "      <th>29909396</th>\n",
       "      <td>678.0</td>\n",
       "      <td>0</td>\n",
       "      <td>Rejected</td>\n",
       "    </tr>\n",
       "    <tr>\n",
       "      <th>29909397</th>\n",
       "      <td>681.0</td>\n",
       "      <td>0</td>\n",
       "      <td>Rejected</td>\n",
       "    </tr>\n",
       "    <tr>\n",
       "      <th>29909402</th>\n",
       "      <td>686.0</td>\n",
       "      <td>0</td>\n",
       "      <td>Rejected</td>\n",
       "    </tr>\n",
       "    <tr>\n",
       "      <th>29909404</th>\n",
       "      <td>684.0</td>\n",
       "      <td>0</td>\n",
       "      <td>Rejected</td>\n",
       "    </tr>\n",
       "  </tbody>\n",
       "</table>\n",
       "<p>8668871 rows × 3 columns</p>\n",
       "</div>"
      ],
      "text/plain": [
       "          Risk_Score  Accepted Application\n",
       "0              677.0         1    Accepted\n",
       "1              717.0         1    Accepted\n",
       "2              697.0         1    Accepted\n",
       "3              787.0         1    Accepted\n",
       "4              697.0         1    Accepted\n",
       "...              ...       ...         ...\n",
       "29909393       730.0         0    Rejected\n",
       "29909396       678.0         0    Rejected\n",
       "29909397       681.0         0    Rejected\n",
       "29909402       686.0         0    Rejected\n",
       "29909404       684.0         0    Rejected\n",
       "\n",
       "[8668871 rows x 3 columns]"
      ]
     },
     "execution_count": 26,
     "metadata": {},
     "output_type": "execute_result"
    }
   ],
   "source": [
    "c_new = c_new[c_new.Risk_Score >= 600]\n",
    "c_new"
   ]
  },
  {
   "cell_type": "code",
   "execution_count": 27,
   "id": "42b37797",
   "metadata": {},
   "outputs": [
    {
     "data": {
      "text/plain": [
       "<Figure size 1000x600 with 0 Axes>"
      ]
     },
     "metadata": {},
     "output_type": "display_data"
    },
    {
     "data": {
      "image/png": "[encoded data removed]",
      "text/plain": [
       "<Figure size 989.75x500 with 1 Axes>"
      ]
     },
     "metadata": {},
     "output_type": "display_data"
    }
   ],
   "source": [
    "plt.figure(figsize=(10,6))\n",
    "plt.style.use('default')\n",
    "plt.style.use('ggplot')\n",
    "\n",
    "p = sns.displot(data=c_new, x='Risk_Score', kind='hist', hue='Application',\n",
    "            hue_order=['Rejected', 'Accepted'],\n",
    "            multiple='stack', bins=20, aspect=1.75, \n",
    "            palette={'Accepted':'blue', 'Rejected':'red'})\n",
    "\n",
    "p.set(xticks=np.arange(600,810,20))\n",
    "\n",
    "plt.title('Loan Applications With FICO Scores From 600~800', fontsize=22, color='black')\n",
    "plt.xlabel('FICO Score', fontsize=18, color='black')\n",
    "plt.ylabel('Loan Count', fontsize=18, color='black')\n",
    "\n",
    "#plt.legend(loc='center right', fontsize=15)\n",
    "\n",
    "#handles, labels = p.get_legend_handles_labels()\n",
    "#p.legend(handles=handles[1:], labels=labels[1:])\n",
    "\n",
    "sns.move_legend(obj=p, loc='center right', fontsize=15, title_fontsize=15)\n",
    "\n",
    "plt.tight_layout()\n",
    "plt.show();"
   ]
  },
  {
   "cell_type": "code",
   "execution_count": 28,
   "id": "c2afce8b",
   "metadata": {},
   "outputs": [
    {
     "data": {
      "text/html": [
       "<div>\n",
       "<style scoped>\n",
       "    .dataframe tbody tr th:only-of-type {\n",
       "        vertical-align: middle;\n",
       "    }\n",
       "\n",
       "    .dataframe tbody tr th {\n",
       "        vertical-align: top;\n",
       "    }\n",
       "\n",
       "    .dataframe thead th {\n",
       "        text-align: right;\n",
       "    }\n",
       "</style>\n",
       "<table border=\"1\" class=\"dataframe\">\n",
       "  <thead>\n",
       "    <tr style=\"text-align: right;\">\n",
       "      <th></th>\n",
       "      <th>Risk_Score</th>\n",
       "      <th>Accepted</th>\n",
       "    </tr>\n",
       "  </thead>\n",
       "  <tbody>\n",
       "    <tr>\n",
       "      <th>count</th>\n",
       "      <td>938845.000000</td>\n",
       "      <td>938845.000000</td>\n",
       "    </tr>\n",
       "    <tr>\n",
       "      <th>mean</th>\n",
       "      <td>664.441008</td>\n",
       "      <td>0.391267</td>\n",
       "    </tr>\n",
       "    <tr>\n",
       "      <th>std</th>\n",
       "      <td>2.730072</td>\n",
       "      <td>0.488034</td>\n",
       "    </tr>\n",
       "    <tr>\n",
       "      <th>min</th>\n",
       "      <td>660.000000</td>\n",
       "      <td>0.000000</td>\n",
       "    </tr>\n",
       "    <tr>\n",
       "      <th>25%</th>\n",
       "      <td>662.000000</td>\n",
       "      <td>0.000000</td>\n",
       "    </tr>\n",
       "    <tr>\n",
       "      <th>50%</th>\n",
       "      <td>664.000000</td>\n",
       "      <td>0.000000</td>\n",
       "    </tr>\n",
       "    <tr>\n",
       "      <th>75%</th>\n",
       "      <td>667.000000</td>\n",
       "      <td>1.000000</td>\n",
       "    </tr>\n",
       "    <tr>\n",
       "      <th>max</th>\n",
       "      <td>669.000000</td>\n",
       "      <td>1.000000</td>\n",
       "    </tr>\n",
       "  </tbody>\n",
       "</table>\n",
       "</div>"
      ],
      "text/plain": [
       "          Risk_Score       Accepted\n",
       "count  938845.000000  938845.000000\n",
       "mean      664.441008       0.391267\n",
       "std         2.730072       0.488034\n",
       "min       660.000000       0.000000\n",
       "25%       662.000000       0.000000\n",
       "50%       664.000000       0.000000\n",
       "75%       667.000000       1.000000\n",
       "max       669.000000       1.000000"
      ]
     },
     "execution_count": 28,
     "metadata": {},
     "output_type": "execute_result"
    }
   ],
   "source": [
    "c_new[(c_new.Risk_Score>=660)&(c_new.Risk_Score<670)].describe()"
   ]
  },
  {
   "cell_type": "code",
   "execution_count": 29,
   "id": "febf7cf6",
   "metadata": {},
   "outputs": [
    {
     "data": {
      "text/html": [
       "<div>\n",
       "<style scoped>\n",
       "    .dataframe tbody tr th:only-of-type {\n",
       "        vertical-align: middle;\n",
       "    }\n",
       "\n",
       "    .dataframe tbody tr th {\n",
       "        vertical-align: top;\n",
       "    }\n",
       "\n",
       "    .dataframe thead th {\n",
       "        text-align: right;\n",
       "    }\n",
       "</style>\n",
       "<table border=\"1\" class=\"dataframe\">\n",
       "  <thead>\n",
       "    <tr style=\"text-align: right;\">\n",
       "      <th></th>\n",
       "      <th>Risk_Score</th>\n",
       "      <th>Application</th>\n",
       "    </tr>\n",
       "    <tr>\n",
       "      <th>Accepted</th>\n",
       "      <th></th>\n",
       "      <th></th>\n",
       "    </tr>\n",
       "  </thead>\n",
       "  <tbody>\n",
       "    <tr>\n",
       "      <th>0</th>\n",
       "      <td>571506</td>\n",
       "      <td>571506</td>\n",
       "    </tr>\n",
       "    <tr>\n",
       "      <th>1</th>\n",
       "      <td>367339</td>\n",
       "      <td>367339</td>\n",
       "    </tr>\n",
       "  </tbody>\n",
       "</table>\n",
       "</div>"
      ],
      "text/plain": [
       "          Risk_Score  Application\n",
       "Accepted                         \n",
       "0             571506       571506\n",
       "1             367339       367339"
      ]
     },
     "execution_count": 29,
     "metadata": {},
     "output_type": "execute_result"
    }
   ],
   "source": [
    "c_new[(c_new.Risk_Score>=660)&(c_new.Risk_Score<670)].groupby('Accepted').count()"
   ]
  },
  {
   "cell_type": "code",
   "execution_count": 30,
   "id": "f7f7f272",
   "metadata": {},
   "outputs": [
    {
     "data": {
      "text/plain": [
       "0.39126692904579563"
      ]
     },
     "execution_count": 30,
     "metadata": {},
     "output_type": "execute_result"
    }
   ],
   "source": [
    "367339/938845"
   ]
  },
  {
   "cell_type": "code",
   "execution_count": null,
   "id": "08d40f61",
   "metadata": {},
   "outputs": [],
   "source": []
  },
  {
   "cell_type": "code",
   "execution_count": 31,
   "id": "88c997a0",
   "metadata": {},
   "outputs": [
    {
     "data": {
      "text/html": [
       "<div>\n",
       "<style scoped>\n",
       "    .dataframe tbody tr th:only-of-type {\n",
       "        vertical-align: middle;\n",
       "    }\n",
       "\n",
       "    .dataframe tbody tr th {\n",
       "        vertical-align: top;\n",
       "    }\n",
       "\n",
       "    .dataframe thead th {\n",
       "        text-align: right;\n",
       "    }\n",
       "</style>\n",
       "<table border=\"1\" class=\"dataframe\">\n",
       "  <thead>\n",
       "    <tr style=\"text-align: right;\">\n",
       "      <th></th>\n",
       "      <th>Risk_Score</th>\n",
       "      <th>Accepted</th>\n",
       "    </tr>\n",
       "  </thead>\n",
       "  <tbody>\n",
       "    <tr>\n",
       "      <th>count</th>\n",
       "      <td>861312.000000</td>\n",
       "      <td>861312.000000</td>\n",
       "    </tr>\n",
       "    <tr>\n",
       "      <th>mean</th>\n",
       "      <td>674.363332</td>\n",
       "      <td>0.401869</td>\n",
       "    </tr>\n",
       "    <tr>\n",
       "      <th>std</th>\n",
       "      <td>2.724183</td>\n",
       "      <td>0.490276</td>\n",
       "    </tr>\n",
       "    <tr>\n",
       "      <th>min</th>\n",
       "      <td>670.000000</td>\n",
       "      <td>0.000000</td>\n",
       "    </tr>\n",
       "    <tr>\n",
       "      <th>25%</th>\n",
       "      <td>672.000000</td>\n",
       "      <td>0.000000</td>\n",
       "    </tr>\n",
       "    <tr>\n",
       "      <th>50%</th>\n",
       "      <td>674.000000</td>\n",
       "      <td>0.000000</td>\n",
       "    </tr>\n",
       "    <tr>\n",
       "      <th>75%</th>\n",
       "      <td>677.000000</td>\n",
       "      <td>1.000000</td>\n",
       "    </tr>\n",
       "    <tr>\n",
       "      <th>max</th>\n",
       "      <td>679.000000</td>\n",
       "      <td>1.000000</td>\n",
       "    </tr>\n",
       "  </tbody>\n",
       "</table>\n",
       "</div>"
      ],
      "text/plain": [
       "          Risk_Score       Accepted\n",
       "count  861312.000000  861312.000000\n",
       "mean      674.363332       0.401869\n",
       "std         2.724183       0.490276\n",
       "min       670.000000       0.000000\n",
       "25%       672.000000       0.000000\n",
       "50%       674.000000       0.000000\n",
       "75%       677.000000       1.000000\n",
       "max       679.000000       1.000000"
      ]
     },
     "execution_count": 31,
     "metadata": {},
     "output_type": "execute_result"
    }
   ],
   "source": [
    "c_new[(c_new.Risk_Score>=670)&(c_new.Risk_Score<680)].describe()"
   ]
  },
  {
   "cell_type": "code",
   "execution_count": 32,
   "id": "6fa1e9bb",
   "metadata": {},
   "outputs": [
    {
     "data": {
      "text/html": [
       "<div>\n",
       "<style scoped>\n",
       "    .dataframe tbody tr th:only-of-type {\n",
       "        vertical-align: middle;\n",
       "    }\n",
       "\n",
       "    .dataframe tbody tr th {\n",
       "        vertical-align: top;\n",
       "    }\n",
       "\n",
       "    .dataframe thead th {\n",
       "        text-align: right;\n",
       "    }\n",
       "</style>\n",
       "<table border=\"1\" class=\"dataframe\">\n",
       "  <thead>\n",
       "    <tr style=\"text-align: right;\">\n",
       "      <th></th>\n",
       "      <th>Risk_Score</th>\n",
       "      <th>Application</th>\n",
       "    </tr>\n",
       "    <tr>\n",
       "      <th>Accepted</th>\n",
       "      <th></th>\n",
       "      <th></th>\n",
       "    </tr>\n",
       "  </thead>\n",
       "  <tbody>\n",
       "    <tr>\n",
       "      <th>0</th>\n",
       "      <td>515177</td>\n",
       "      <td>515177</td>\n",
       "    </tr>\n",
       "    <tr>\n",
       "      <th>1</th>\n",
       "      <td>346135</td>\n",
       "      <td>346135</td>\n",
       "    </tr>\n",
       "  </tbody>\n",
       "</table>\n",
       "</div>"
      ],
      "text/plain": [
       "          Risk_Score  Application\n",
       "Accepted                         \n",
       "0             515177       515177\n",
       "1             346135       346135"
      ]
     },
     "execution_count": 32,
     "metadata": {},
     "output_type": "execute_result"
    }
   ],
   "source": [
    "c_new[(c_new.Risk_Score>=670)&(c_new.Risk_Score<680)].groupby('Accepted').count()"
   ]
  },
  {
   "cell_type": "code",
   "execution_count": 33,
   "id": "e6039e67",
   "metadata": {},
   "outputs": [
    {
     "data": {
      "text/plain": [
       "0.40186947354733243"
      ]
     },
     "execution_count": 33,
     "metadata": {},
     "output_type": "execute_result"
    }
   ],
   "source": [
    "346135/861312"
   ]
  },
  {
   "cell_type": "code",
   "execution_count": null,
   "id": "46eb60f3",
   "metadata": {},
   "outputs": [],
   "source": []
  }
 ],
 "metadata": {
  "hide_input": false,
  "kernelspec": {
   "display_name": "Python 3 (ipykernel)",
   "language": "python",
   "name": "python3"
  },
  "language_info": {
   "codemirror_mode": {
    "name": "ipython",
    "version": 3
   },
   "file_extension": ".py",
   "mimetype": "text/x-python",
   "name": "python",
   "nbconvert_exporter": "python",
   "pygments_lexer": "ipython3",
   "version": "3.8.8"
  },
  "varInspector": {
   "cols": {
    "lenName": 16,
    "lenType": 16,
    "lenVar": 40
   },
   "kernels_config": {
    "python": {
     "delete_cmd_postfix": "",
     "delete_cmd_prefix": "del ",
     "library": "var_list.py",
     "varRefreshCmd": "print(var_dic_list())"
    },
    "r": {
     "delete_cmd_postfix": ") ",
     "delete_cmd_prefix": "rm(",
     "library": "var_list.r",
     "varRefreshCmd": "cat(var_dic_list()) "
    }
   },
   "types_to_exclude": [
    "module",
    "function",
    "builtin_function_or_method",
    "instance",
    "_Feature"
   ],
   "window_display": false
  }
 },
 "nbformat": 4,
 "nbformat_minor": 5
}
