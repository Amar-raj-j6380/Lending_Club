{
 "cells": [
  {
   "cell_type": "code",
   "execution_count": 1,
   "id": "6c8b34d9",
   "metadata": {},
   "outputs": [],
   "source": [
    "import pandas as pd\n",
    "import numpy as np\n",
    "import seaborn as sns"
   ]
  },
  {
   "cell_type": "code",
   "execution_count": 2,
   "id": "4e7fa7ea",
   "metadata": {},
   "outputs": [],
   "source": [
    "from catboost import CatBoostClassifier\n",
    "cb = CatBoostClassifier(iterations=100, verbose=10)\n",
    "#cb.fit(X, y, cat_features = cat_features, verbose = False)"
   ]
  },
  {
   "cell_type": "code",
   "execution_count": 4,
   "id": "0583ba5f",
   "metadata": {},
   "outputs": [],
   "source": [
    "data = pd.read_csv('../../Data/Ten_scaled.csv')"
   ]
  },
  {
   "cell_type": "code",
   "execution_count": 5,
   "id": "6a969bef",
   "metadata": {},
   "outputs": [
    {
     "data": {
      "text/html": [
       "<div>\n",
       "<style scoped>\n",
       "    .dataframe tbody tr th:only-of-type {\n",
       "        vertical-align: middle;\n",
       "    }\n",
       "\n",
       "    .dataframe tbody tr th {\n",
       "        vertical-align: top;\n",
       "    }\n",
       "\n",
       "    .dataframe thead th {\n",
       "        text-align: right;\n",
       "    }\n",
       "</style>\n",
       "<table border=\"1\" class=\"dataframe\">\n",
       "  <thead>\n",
       "    <tr style=\"text-align: right;\">\n",
       "      <th></th>\n",
       "      <th>funded_amnt</th>\n",
       "      <th>int_rate</th>\n",
       "      <th>installment</th>\n",
       "      <th>annual_inc</th>\n",
       "      <th>dti</th>\n",
       "      <th>fico_range_low</th>\n",
       "      <th>term</th>\n",
       "      <th>grade</th>\n",
       "      <th>emp_length</th>\n",
       "      <th>Not Verified</th>\n",
       "      <th>Source Verified</th>\n",
       "      <th>Verified</th>\n",
       "      <th>loan_status_bin</th>\n",
       "    </tr>\n",
       "  </thead>\n",
       "  <tbody>\n",
       "    <tr>\n",
       "      <th>0</th>\n",
       "      <td>-1.257328</td>\n",
       "      <td>0.158569</td>\n",
       "      <td>-1.218923</td>\n",
       "      <td>-0.322166</td>\n",
       "      <td>-1.276775</td>\n",
       "      <td>-0.667208</td>\n",
       "      <td>-0.571945</td>\n",
       "      <td>0.197404</td>\n",
       "      <td>1.092907</td>\n",
       "      <td>1.499675</td>\n",
       "      <td>-0.815693</td>\n",
       "      <td>-0.643276</td>\n",
       "      <td>0.0</td>\n",
       "    </tr>\n",
       "    <tr>\n",
       "      <th>1</th>\n",
       "      <td>1.156136</td>\n",
       "      <td>-0.260761</td>\n",
       "      <td>1.437802</td>\n",
       "      <td>-0.181486</td>\n",
       "      <td>-0.216161</td>\n",
       "      <td>0.596113</td>\n",
       "      <td>-0.571945</td>\n",
       "      <td>0.197404</td>\n",
       "      <td>1.092907</td>\n",
       "      <td>1.499675</td>\n",
       "      <td>-0.815693</td>\n",
       "      <td>-0.643276</td>\n",
       "      <td>0.0</td>\n",
       "    </tr>\n",
       "    <tr>\n",
       "      <th>2</th>\n",
       "      <td>0.618540</td>\n",
       "      <td>-0.514455</td>\n",
       "      <td>-0.039143</td>\n",
       "      <td>-0.209622</td>\n",
       "      <td>-0.767889</td>\n",
       "      <td>-0.035548</td>\n",
       "      <td>1.748420</td>\n",
       "      <td>-0.573732</td>\n",
       "      <td>1.092907</td>\n",
       "      <td>1.499675</td>\n",
       "      <td>-0.815693</td>\n",
       "      <td>-0.643276</td>\n",
       "      <td>0.0</td>\n",
       "    </tr>\n",
       "    <tr>\n",
       "      <th>3</th>\n",
       "      <td>-0.479529</td>\n",
       "      <td>1.932333</td>\n",
       "      <td>-0.583062</td>\n",
       "      <td>0.373261</td>\n",
       "      <td>0.756678</td>\n",
       "      <td>-0.035548</td>\n",
       "      <td>1.748420</td>\n",
       "      <td>2.510810</td>\n",
       "      <td>-0.803529</td>\n",
       "      <td>-0.666811</td>\n",
       "      <td>1.225952</td>\n",
       "      <td>-0.643276</td>\n",
       "      <td>0.0</td>\n",
       "    </tr>\n",
       "    <tr>\n",
       "      <th>4</th>\n",
       "      <td>-0.302237</td>\n",
       "      <td>0.043253</td>\n",
       "      <td>-0.143850</td>\n",
       "      <td>-0.617596</td>\n",
       "      <td>-0.828496</td>\n",
       "      <td>-0.193463</td>\n",
       "      <td>-0.571945</td>\n",
       "      <td>0.197404</td>\n",
       "      <td>-0.532609</td>\n",
       "      <td>-0.666811</td>\n",
       "      <td>1.225952</td>\n",
       "      <td>-0.643276</td>\n",
       "      <td>0.0</td>\n",
       "    </tr>\n",
       "  </tbody>\n",
       "</table>\n",
       "</div>"
      ],
      "text/plain": [
       "   funded_amnt  int_rate  installment  annual_inc       dti  fico_range_low  \\\n",
       "0    -1.257328  0.158569    -1.218923   -0.322166 -1.276775       -0.667208   \n",
       "1     1.156136 -0.260761     1.437802   -0.181486 -0.216161        0.596113   \n",
       "2     0.618540 -0.514455    -0.039143   -0.209622 -0.767889       -0.035548   \n",
       "3    -0.479529  1.932333    -0.583062    0.373261  0.756678       -0.035548   \n",
       "4    -0.302237  0.043253    -0.143850   -0.617596 -0.828496       -0.193463   \n",
       "\n",
       "       term     grade  emp_length  Not Verified  Source Verified  Verified  \\\n",
       "0 -0.571945  0.197404    1.092907      1.499675        -0.815693 -0.643276   \n",
       "1 -0.571945  0.197404    1.092907      1.499675        -0.815693 -0.643276   \n",
       "2  1.748420 -0.573732    1.092907      1.499675        -0.815693 -0.643276   \n",
       "3  1.748420  2.510810   -0.803529     -0.666811         1.225952 -0.643276   \n",
       "4 -0.571945  0.197404   -0.532609     -0.666811         1.225952 -0.643276   \n",
       "\n",
       "   loan_status_bin  \n",
       "0              0.0  \n",
       "1              0.0  \n",
       "2              0.0  \n",
       "3              0.0  \n",
       "4              0.0  "
      ]
     },
     "execution_count": 5,
     "metadata": {},
     "output_type": "execute_result"
    }
   ],
   "source": [
    "data.head(5)"
   ]
  },
  {
   "cell_type": "code",
   "execution_count": 6,
   "id": "f0327d48",
   "metadata": {},
   "outputs": [
    {
     "data": {
      "text/plain": [
       "(1266782, 12)"
      ]
     },
     "execution_count": 6,
     "metadata": {},
     "output_type": "execute_result"
    }
   ],
   "source": [
    "X = data.drop('loan_status_bin', axis=1)\n",
    "X.shape"
   ]
  },
  {
   "cell_type": "code",
   "execution_count": 7,
   "id": "24a11382",
   "metadata": {},
   "outputs": [],
   "source": [
    "y = data['loan_status_bin']"
   ]
  },
  {
   "cell_type": "code",
   "execution_count": 8,
   "id": "c28aebe3",
   "metadata": {},
   "outputs": [],
   "source": [
    "from sklearn.model_selection import train_test_split\n",
    "X_train, X_test, y_train, y_test = train_test_split(X, y, test_size=0.3, stratify=y)"
   ]
  },
  {
   "cell_type": "code",
   "execution_count": 9,
   "id": "0b2bdf62",
   "metadata": {},
   "outputs": [
    {
     "name": "stdout",
     "output_type": "stream",
     "text": [
      "Learning rate set to 0.5\n",
      "0:\tlearn: 0.5347104\ttotal: 90.2ms\tremaining: 8.93s\n",
      "10:\tlearn: 0.4495729\ttotal: 322ms\tremaining: 2.61s\n",
      "20:\tlearn: 0.4485718\ttotal: 559ms\tremaining: 2.1s\n",
      "30:\tlearn: 0.4478185\ttotal: 780ms\tremaining: 1.74s\n",
      "40:\tlearn: 0.4472226\ttotal: 1.02s\tremaining: 1.47s\n",
      "50:\tlearn: 0.4466473\ttotal: 1.32s\tremaining: 1.27s\n",
      "60:\tlearn: 0.4461966\ttotal: 1.57s\tremaining: 1s\n",
      "70:\tlearn: 0.4457172\ttotal: 1.83s\tremaining: 748ms\n",
      "80:\tlearn: 0.4453618\ttotal: 2.07s\tremaining: 486ms\n",
      "90:\tlearn: 0.4449831\ttotal: 2.33s\tremaining: 231ms\n",
      "99:\tlearn: 0.4447253\ttotal: 2.56s\tremaining: 0us\n"
     ]
    },
    {
     "data": {
      "text/plain": [
       "<catboost.core.CatBoostClassifier at 0x7f8d5087f970>"
      ]
     },
     "execution_count": 9,
     "metadata": {},
     "output_type": "execute_result"
    }
   ],
   "source": [
    "cb.fit(X_train, y_train, verbose=10)"
   ]
  },
  {
   "cell_type": "code",
   "execution_count": 10,
   "id": "f55f54e8",
   "metadata": {},
   "outputs": [
    {
     "data": {
      "text/plain": [
       "0.8064441433025905"
      ]
     },
     "execution_count": 10,
     "metadata": {},
     "output_type": "execute_result"
    }
   ],
   "source": [
    "cb.score(X_test, y_test)"
   ]
  },
  {
   "cell_type": "code",
   "execution_count": 11,
   "id": "755e5a0a",
   "metadata": {},
   "outputs": [
    {
     "data": {
      "text/plain": [
       "array([0., 0., 0., ..., 0., 0., 0.])"
      ]
     },
     "execution_count": 11,
     "metadata": {},
     "output_type": "execute_result"
    }
   ],
   "source": [
    "from sklearn.metrics import confusion_matrix\n",
    "y_pred = cb.predict(X_test)\n",
    "y_pred"
   ]
  },
  {
   "cell_type": "code",
   "execution_count": 12,
   "id": "70579888",
   "metadata": {},
   "outputs": [
    {
     "data": {
      "text/plain": [
       "array([[302150,   3657],\n",
       "       [ 69901,   4327]])"
      ]
     },
     "execution_count": 12,
     "metadata": {},
     "output_type": "execute_result"
    }
   ],
   "source": [
    "cm = confusion_matrix(y_test, y_pred)\n",
    "cm"
   ]
  },
  {
   "cell_type": "code",
   "execution_count": 16,
   "id": "0b8d8696",
   "metadata": {},
   "outputs": [],
   "source": [
    "TN = cm[0][0]\n",
    "FN = cm[1][0]\n",
    "TP = cm[1][1]\n",
    "FP = cm[0][1]"
   ]
  },
  {
   "cell_type": "code",
   "execution_count": 17,
   "id": "05c9694d",
   "metadata": {},
   "outputs": [
    {
     "data": {
      "text/plain": [
       "4327"
      ]
     },
     "execution_count": 17,
     "metadata": {},
     "output_type": "execute_result"
    }
   ],
   "source": [
    "TP  #We want to increast TP, our ability to predict loans that will \"default\""
   ]
  },
  {
   "cell_type": "code",
   "execution_count": 21,
   "id": "0f536713",
   "metadata": {},
   "outputs": [
    {
     "data": {
      "text/plain": [
       "3657"
      ]
     },
     "execution_count": 21,
     "metadata": {},
     "output_type": "execute_result"
    }
   ],
   "source": [
    "FP"
   ]
  },
  {
   "cell_type": "code",
   "execution_count": 22,
   "id": "e4f90bc1",
   "metadata": {},
   "outputs": [
    {
     "data": {
      "text/plain": [
       "69901"
      ]
     },
     "execution_count": 22,
     "metadata": {},
     "output_type": "execute_result"
    }
   ],
   "source": [
    "FN"
   ]
  },
  {
   "cell_type": "code",
   "execution_count": 23,
   "id": "b8289e02",
   "metadata": {},
   "outputs": [
    {
     "data": {
      "text/plain": [
       "302150"
      ]
     },
     "execution_count": 23,
     "metadata": {},
     "output_type": "execute_result"
    }
   ],
   "source": [
    "TN"
   ]
  },
  {
   "cell_type": "code",
   "execution_count": 24,
   "id": "4983b88a",
   "metadata": {},
   "outputs": [
    {
     "data": {
      "text/plain": [
       "0.05829336638465269"
      ]
     },
     "execution_count": 24,
     "metadata": {},
     "output_type": "execute_result"
    }
   ],
   "source": [
    "TPR = TP / (TP + FN)\n",
    "TPR"
   ]
  },
  {
   "cell_type": "code",
   "execution_count": 25,
   "id": "fe537677",
   "metadata": {},
   "outputs": [
    {
     "data": {
      "text/plain": [
       "0.988041477140811"
      ]
     },
     "execution_count": 25,
     "metadata": {},
     "output_type": "execute_result"
    }
   ],
   "source": [
    "TNR = TN / (TN + FP)\n",
    "TNR"
   ]
  },
  {
   "cell_type": "code",
   "execution_count": 26,
   "id": "584a1e0d",
   "metadata": {},
   "outputs": [
    {
     "data": {
      "text/plain": [
       "0.5419589178356713"
      ]
     },
     "execution_count": 26,
     "metadata": {},
     "output_type": "execute_result"
    }
   ],
   "source": [
    "Precision = TP / (TP + FP)\n",
    "Precision"
   ]
  },
  {
   "cell_type": "code",
   "execution_count": 27,
   "id": "bbe53dd6",
   "metadata": {},
   "outputs": [
    {
     "data": {
      "text/plain": [
       "0.05829336638465269"
      ]
     },
     "execution_count": 27,
     "metadata": {},
     "output_type": "execute_result"
    }
   ],
   "source": [
    "Recall = TP / (TP + FN)       # We want a high \"recall\" because we want to reduce FN, or predict loans \n",
    "Recall                        # that were charged off as \"fully paid\". Expensive to investor.   "
   ]
  },
  {
   "cell_type": "code",
   "execution_count": null,
   "id": "9c9a7ff2",
   "metadata": {},
   "outputs": [],
   "source": []
  },
  {
   "cell_type": "code",
   "execution_count": 28,
   "id": "029684bf",
   "metadata": {},
   "outputs": [
    {
     "data": {
      "text/plain": [
       "0.0    305806.8\n",
       "1.0     74227.8\n",
       "Name: loan_status_bin, dtype: float64"
      ]
     },
     "execution_count": 28,
     "metadata": {},
     "output_type": "execute_result"
    }
   ],
   "source": [
    "data['loan_status_bin'].value_counts()*0.3\n",
    "\n",
    "#305,806 loans fully paid on test set\n",
    "#74,227 loans charged off on test set"
   ]
  },
  {
   "cell_type": "code",
   "execution_count": 29,
   "id": "df53f59d",
   "metadata": {},
   "outputs": [
    {
     "data": {
      "text/html": [
       "<div>\n",
       "<style scoped>\n",
       "    .dataframe tbody tr th:only-of-type {\n",
       "        vertical-align: middle;\n",
       "    }\n",
       "\n",
       "    .dataframe tbody tr th {\n",
       "        vertical-align: top;\n",
       "    }\n",
       "\n",
       "    .dataframe thead th {\n",
       "        text-align: right;\n",
       "    }\n",
       "</style>\n",
       "<table border=\"1\" class=\"dataframe\">\n",
       "  <thead>\n",
       "    <tr style=\"text-align: right;\">\n",
       "      <th></th>\n",
       "      <th>Predicted_Fully_Paid</th>\n",
       "      <th>Predicted_Charged_Off</th>\n",
       "    </tr>\n",
       "  </thead>\n",
       "  <tbody>\n",
       "    <tr>\n",
       "      <th>Actual_Fully_Paid</th>\n",
       "      <td>302150</td>\n",
       "      <td>3657</td>\n",
       "    </tr>\n",
       "    <tr>\n",
       "      <th>Actual_Charged_Off</th>\n",
       "      <td>69901</td>\n",
       "      <td>4327</td>\n",
       "    </tr>\n",
       "  </tbody>\n",
       "</table>\n",
       "</div>"
      ],
      "text/plain": [
       "                    Predicted_Fully_Paid  Predicted_Charged_Off\n",
       "Actual_Fully_Paid                 302150                   3657\n",
       "Actual_Charged_Off                 69901                   4327"
      ]
     },
     "execution_count": 29,
     "metadata": {},
     "output_type": "execute_result"
    }
   ],
   "source": [
    "confusion_matrix_full = pd.DataFrame(cm,\n",
    "                                     index=[\"Actual_Fully_Paid\",\"Actual_Charged_Off\"],\n",
    "                                     columns=[\"Predicted_Fully_Paid\",\"Predicted_Charged_Off\"])\n",
    "\n",
    "confusion_matrix_full"
   ]
  },
  {
   "cell_type": "code",
   "execution_count": 30,
   "id": "7ab94d91",
   "metadata": {},
   "outputs": [
    {
     "data": {
      "text/plain": [
       "Index(['funded_amnt', 'int_rate', 'installment', 'annual_inc', 'dti',\n",
       "       'fico_range_low', 'term', 'grade', 'emp_length', 'Not Verified',\n",
       "       'Source Verified', 'Verified'],\n",
       "      dtype='object')"
      ]
     },
     "execution_count": 30,
     "metadata": {},
     "output_type": "execute_result"
    }
   ],
   "source": [
    "X.columns"
   ]
  },
  {
   "cell_type": "code",
   "execution_count": 31,
   "id": "b82d1641",
   "metadata": {},
   "outputs": [
    {
     "data": {
      "image/png": "[encoded data removed]",
      "text/plain": [
       "<Figure size 864x432 with 1 Axes>"
      ]
     },
     "metadata": {
      "needs_background": "light"
     },
     "output_type": "display_data"
    }
   ],
   "source": [
    "import matplotlib.pyplot as plt\n",
    "\n",
    "feature_importance = cb.feature_importances_\n",
    "sorted_idx = np.argsort(feature_importance)\n",
    "fig = plt.figure(figsize=(12, 6))\n",
    "plt.barh(range(len(sorted_idx)), feature_importance[sorted_idx], align='center')\n",
    "plt.yticks(range(len(sorted_idx)), np.array(X_test.columns)[sorted_idx])\n",
    "plt.title('Feature Importance');"
   ]
  },
  {
   "cell_type": "code",
   "execution_count": null,
   "id": "d6421d0f",
   "metadata": {},
   "outputs": [],
   "source": []
  },
  {
   "cell_type": "code",
   "execution_count": 16,
   "id": "b01b89a8",
   "metadata": {},
   "outputs": [],
   "source": [
    "import shap"
   ]
  },
  {
   "cell_type": "code",
   "execution_count": 17,
   "id": "d14aadfa",
   "metadata": {},
   "outputs": [
    {
     "data": {
      "image/png": "[encoded data removed]",
      "text/plain": [
       "<Figure size 864x432 with 1 Axes>"
      ]
     },
     "metadata": {
      "needs_background": "light"
     },
     "output_type": "display_data"
    }
   ],
   "source": [
    "explainer = shap.Explainer(cb)\n",
    "shap_values = explainer(X_test)\n",
    "shap_importance = shap_values.abs.mean(0).values\n",
    "sorted_idx = shap_importance.argsort()\n",
    "fig = plt.figure(figsize=(12, 6))\n",
    "plt.barh(range(len(sorted_idx)), shap_importance[sorted_idx], align='center')\n",
    "plt.yticks(range(len(sorted_idx)), np.array(X_test.columns)[sorted_idx])\n",
    "plt.title('SHAP Importance');"
   ]
  },
  {
   "cell_type": "code",
   "execution_count": 18,
   "id": "bae07651",
   "metadata": {},
   "outputs": [
    {
     "data": {
      "image/png": "[encoded data removed]",
      "text/plain": [
       "<Figure size 576x453.6 with 2 Axes>"
      ]
     },
     "metadata": {
      "needs_background": "light"
     },
     "output_type": "display_data"
    }
   ],
   "source": [
    "shap.summary_plot(shap_values, max_display=X_test.shape[0])"
   ]
  },
  {
   "cell_type": "code",
   "execution_count": null,
   "id": "241be791",
   "metadata": {},
   "outputs": [],
   "source": []
  }
 ],
 "metadata": {
  "hide_input": false,
  "kernelspec": {
   "display_name": "Python 3 (ipykernel)",
   "language": "python",
   "name": "python3"
  },
  "language_info": {
   "codemirror_mode": {
    "name": "ipython",
    "version": 3
   },
   "file_extension": ".py",
   "mimetype": "text/x-python",
   "name": "python",
   "nbconvert_exporter": "python",
   "pygments_lexer": "ipython3",
   "version": "3.8.8"
  },
  "varInspector": {
   "cols": {
    "lenName": 16,
    "lenType": 16,
    "lenVar": 40
   },
   "kernels_config": {
    "python": {
     "delete_cmd_postfix": "",
     "delete_cmd_prefix": "del ",
     "library": "var_list.py",
     "varRefreshCmd": "print(var_dic_list())"
    },
    "r": {
     "delete_cmd_postfix": ") ",
     "delete_cmd_prefix": "rm(",
     "library": "var_list.r",
     "varRefreshCmd": "cat(var_dic_list()) "
    }
   },
   "types_to_exclude": [
    "module",
    "function",
    "builtin_function_or_method",
    "instance",
    "_Feature"
   ],
   "window_display": false
  }
 },
 "nbformat": 4,
 "nbformat_minor": 5
}
