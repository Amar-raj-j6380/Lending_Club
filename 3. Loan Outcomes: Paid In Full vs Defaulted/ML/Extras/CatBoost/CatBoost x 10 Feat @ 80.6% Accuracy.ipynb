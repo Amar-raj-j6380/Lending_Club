{
 "cells": [
  {
   "cell_type": "code",
   "execution_count": 1,
   "id": "6152f23e",
   "metadata": {},
   "outputs": [],
   "source": [
    "import pandas as pd\n",
    "import numpy as np\n",
    "import seaborn as sns\n",
    "\n",
    "from sklearn.model_selection import cross_val_score\n",
    "from sklearn.model_selection import RepeatedStratifiedKFold\n",
    "\n",
    "#from numpy import mean\n",
    "#from sklearn.datasets import make_classification\n",
    "#from sklearn.tree import DecisionTreeClassifier\n",
    "from imblearn.pipeline import Pipeline\n",
    "#from imblearn.over_sampling import RandomOverSampler"
   ]
  },
  {
   "cell_type": "code",
   "execution_count": 2,
   "id": "a2b85a18",
   "metadata": {},
   "outputs": [],
   "source": [
    "from catboost import CatBoostClassifier\n",
    "cb = CatBoostClassifier(iterations=100, verbose = 10)\n",
    "#cb.fit(X, y, cat_features = cat_features, verbose = False)"
   ]
  },
  {
   "cell_type": "code",
   "execution_count": 3,
   "id": "3bfc733e",
   "metadata": {},
   "outputs": [],
   "source": [
    "data = pd.read_csv('Ten_scaled.csv')"
   ]
  },
  {
   "cell_type": "code",
   "execution_count": 5,
   "id": "b67e970e",
   "metadata": {},
   "outputs": [
    {
     "data": {
      "text/html": [
       "<div>\n",
       "<style scoped>\n",
       "    .dataframe tbody tr th:only-of-type {\n",
       "        vertical-align: middle;\n",
       "    }\n",
       "\n",
       "    .dataframe tbody tr th {\n",
       "        vertical-align: top;\n",
       "    }\n",
       "\n",
       "    .dataframe thead th {\n",
       "        text-align: right;\n",
       "    }\n",
       "</style>\n",
       "<table border=\"1\" class=\"dataframe\">\n",
       "  <thead>\n",
       "    <tr style=\"text-align: right;\">\n",
       "      <th></th>\n",
       "      <th>funded_amnt</th>\n",
       "      <th>int_rate</th>\n",
       "      <th>installment</th>\n",
       "      <th>annual_inc</th>\n",
       "      <th>dti</th>\n",
       "      <th>fico_range_low</th>\n",
       "      <th>term</th>\n",
       "      <th>grade</th>\n",
       "      <th>emp_length</th>\n",
       "      <th>Not Verified</th>\n",
       "      <th>Source Verified</th>\n",
       "      <th>Verified</th>\n",
       "      <th>loan_status_bin</th>\n",
       "    </tr>\n",
       "  </thead>\n",
       "  <tbody>\n",
       "    <tr>\n",
       "      <th>0</th>\n",
       "      <td>-1.257328</td>\n",
       "      <td>0.158569</td>\n",
       "      <td>-1.218923</td>\n",
       "      <td>-0.322166</td>\n",
       "      <td>-1.276775</td>\n",
       "      <td>-0.667208</td>\n",
       "      <td>-0.571945</td>\n",
       "      <td>0.197404</td>\n",
       "      <td>1.092907</td>\n",
       "      <td>1.499675</td>\n",
       "      <td>-0.815693</td>\n",
       "      <td>-0.643276</td>\n",
       "      <td>0.0</td>\n",
       "    </tr>\n",
       "    <tr>\n",
       "      <th>1</th>\n",
       "      <td>1.156136</td>\n",
       "      <td>-0.260761</td>\n",
       "      <td>1.437802</td>\n",
       "      <td>-0.181486</td>\n",
       "      <td>-0.216161</td>\n",
       "      <td>0.596113</td>\n",
       "      <td>-0.571945</td>\n",
       "      <td>0.197404</td>\n",
       "      <td>1.092907</td>\n",
       "      <td>1.499675</td>\n",
       "      <td>-0.815693</td>\n",
       "      <td>-0.643276</td>\n",
       "      <td>0.0</td>\n",
       "    </tr>\n",
       "    <tr>\n",
       "      <th>2</th>\n",
       "      <td>0.618540</td>\n",
       "      <td>-0.514455</td>\n",
       "      <td>-0.039143</td>\n",
       "      <td>-0.209622</td>\n",
       "      <td>-0.767889</td>\n",
       "      <td>-0.035548</td>\n",
       "      <td>1.748420</td>\n",
       "      <td>-0.573732</td>\n",
       "      <td>1.092907</td>\n",
       "      <td>1.499675</td>\n",
       "      <td>-0.815693</td>\n",
       "      <td>-0.643276</td>\n",
       "      <td>0.0</td>\n",
       "    </tr>\n",
       "    <tr>\n",
       "      <th>3</th>\n",
       "      <td>-0.479529</td>\n",
       "      <td>1.932333</td>\n",
       "      <td>-0.583062</td>\n",
       "      <td>0.373261</td>\n",
       "      <td>0.756678</td>\n",
       "      <td>-0.035548</td>\n",
       "      <td>1.748420</td>\n",
       "      <td>2.510810</td>\n",
       "      <td>-0.803529</td>\n",
       "      <td>-0.666811</td>\n",
       "      <td>1.225952</td>\n",
       "      <td>-0.643276</td>\n",
       "      <td>0.0</td>\n",
       "    </tr>\n",
       "    <tr>\n",
       "      <th>4</th>\n",
       "      <td>-0.302237</td>\n",
       "      <td>0.043253</td>\n",
       "      <td>-0.143850</td>\n",
       "      <td>-0.617596</td>\n",
       "      <td>-0.828496</td>\n",
       "      <td>-0.193463</td>\n",
       "      <td>-0.571945</td>\n",
       "      <td>0.197404</td>\n",
       "      <td>-0.532609</td>\n",
       "      <td>-0.666811</td>\n",
       "      <td>1.225952</td>\n",
       "      <td>-0.643276</td>\n",
       "      <td>0.0</td>\n",
       "    </tr>\n",
       "  </tbody>\n",
       "</table>\n",
       "</div>"
      ],
      "text/plain": [
       "   funded_amnt  int_rate  installment  annual_inc       dti  fico_range_low  \\\n",
       "0    -1.257328  0.158569    -1.218923   -0.322166 -1.276775       -0.667208   \n",
       "1     1.156136 -0.260761     1.437802   -0.181486 -0.216161        0.596113   \n",
       "2     0.618540 -0.514455    -0.039143   -0.209622 -0.767889       -0.035548   \n",
       "3    -0.479529  1.932333    -0.583062    0.373261  0.756678       -0.035548   \n",
       "4    -0.302237  0.043253    -0.143850   -0.617596 -0.828496       -0.193463   \n",
       "\n",
       "       term     grade  emp_length  Not Verified  Source Verified  Verified  \\\n",
       "0 -0.571945  0.197404    1.092907      1.499675        -0.815693 -0.643276   \n",
       "1 -0.571945  0.197404    1.092907      1.499675        -0.815693 -0.643276   \n",
       "2  1.748420 -0.573732    1.092907      1.499675        -0.815693 -0.643276   \n",
       "3  1.748420  2.510810   -0.803529     -0.666811         1.225952 -0.643276   \n",
       "4 -0.571945  0.197404   -0.532609     -0.666811         1.225952 -0.643276   \n",
       "\n",
       "   loan_status_bin  \n",
       "0              0.0  \n",
       "1              0.0  \n",
       "2              0.0  \n",
       "3              0.0  \n",
       "4              0.0  "
      ]
     },
     "execution_count": 5,
     "metadata": {},
     "output_type": "execute_result"
    }
   ],
   "source": [
    "data.head(5)"
   ]
  },
  {
   "cell_type": "code",
   "execution_count": 6,
   "id": "2d771aea",
   "metadata": {},
   "outputs": [
    {
     "data": {
      "text/plain": [
       "(1266782, 12)"
      ]
     },
     "execution_count": 6,
     "metadata": {},
     "output_type": "execute_result"
    }
   ],
   "source": [
    "X = data.drop('loan_status_bin', axis=1)\n",
    "X.shape"
   ]
  },
  {
   "cell_type": "code",
   "execution_count": 7,
   "id": "664792cd",
   "metadata": {},
   "outputs": [],
   "source": [
    "y = data['loan_status_bin']"
   ]
  },
  {
   "cell_type": "code",
   "execution_count": 8,
   "id": "038d3bc3",
   "metadata": {},
   "outputs": [],
   "source": [
    "steps = [('model', cb)]\n",
    "pipeline = Pipeline(steps=steps)"
   ]
  },
  {
   "cell_type": "code",
   "execution_count": 9,
   "id": "4124111e",
   "metadata": {},
   "outputs": [
    {
     "name": "stdout",
     "output_type": "stream",
     "text": [
      "[0.80635625 0.80680226 0.80614235 0.80649758 0.80652521]\n",
      "0.806464726978238\n"
     ]
    }
   ],
   "source": [
    "cv = RepeatedStratifiedKFold(n_splits=5, n_repeats=1, random_state=1)\n",
    "scores = cross_val_score(pipeline, X, y, scoring='accuracy', cv=cv, n_jobs=-1) \n",
    "\n",
    "print(scores)\n",
    "score = np.mean(scores)\n",
    "print(score)"
   ]
  },
  {
   "cell_type": "code",
   "execution_count": null,
   "id": "bd1519ec",
   "metadata": {},
   "outputs": [],
   "source": []
  },
  {
   "cell_type": "code",
   "execution_count": null,
   "id": "eedcaa8e",
   "metadata": {},
   "outputs": [],
   "source": []
  }
 ],
 "metadata": {
  "hide_input": false,
  "kernelspec": {
   "display_name": "Python 3 (ipykernel)",
   "language": "python",
   "name": "python3"
  },
  "language_info": {
   "codemirror_mode": {
    "name": "ipython",
    "version": 3
   },
   "file_extension": ".py",
   "mimetype": "text/x-python",
   "name": "python",
   "nbconvert_exporter": "python",
   "pygments_lexer": "ipython3",
   "version": "3.8.8"
  },
  "varInspector": {
   "cols": {
    "lenName": 16,
    "lenType": 16,
    "lenVar": 40
   },
   "kernels_config": {
    "python": {
     "delete_cmd_postfix": "",
     "delete_cmd_prefix": "del ",
     "library": "var_list.py",
     "varRefreshCmd": "print(var_dic_list())"
    },
    "r": {
     "delete_cmd_postfix": ") ",
     "delete_cmd_prefix": "rm(",
     "library": "var_list.r",
     "varRefreshCmd": "cat(var_dic_list()) "
    }
   },
   "types_to_exclude": [
    "module",
    "function",
    "builtin_function_or_method",
    "instance",
    "_Feature"
   ],
   "window_display": false
  }
 },
 "nbformat": 4,
 "nbformat_minor": 5
}
