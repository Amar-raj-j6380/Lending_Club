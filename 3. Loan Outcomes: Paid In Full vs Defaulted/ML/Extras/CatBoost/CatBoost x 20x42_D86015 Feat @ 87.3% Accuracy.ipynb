{
 "cells": [
  {
   "cell_type": "code",
   "execution_count": 1,
   "id": "6152f23e",
   "metadata": {},
   "outputs": [],
   "source": [
    "import pandas as pd\n",
    "import numpy as np\n",
    "import seaborn as sns\n",
    "\n",
    "from sklearn.model_selection import cross_val_score\n",
    "from sklearn.model_selection import RepeatedStratifiedKFold\n",
    "\n",
    "#from numpy import mean\n",
    "#from sklearn.datasets import make_classification\n",
    "#from sklearn.tree import DecisionTreeClassifier\n",
    "from imblearn.pipeline import Pipeline\n",
    "#from imblearn.over_sampling import RandomOverSampler"
   ]
  },
  {
   "cell_type": "code",
   "execution_count": 2,
   "id": "a2b85a18",
   "metadata": {},
   "outputs": [],
   "source": [
    "from catboost import CatBoostClassifier\n",
    "cb = CatBoostClassifier(iterations=100, verbose = 10)\n",
    "#cb.fit(X, y, cat_features = cat_features, verbose = False)"
   ]
  },
  {
   "cell_type": "code",
   "execution_count": 4,
   "id": "3bfc733e",
   "metadata": {},
   "outputs": [],
   "source": [
    "data = pd.read_csv('../../Data/20x42_D86015.csv')"
   ]
  },
  {
   "cell_type": "code",
   "execution_count": 5,
   "id": "b67e970e",
   "metadata": {},
   "outputs": [
    {
     "data": {
      "text/html": [
       "<div>\n",
       "<style scoped>\n",
       "    .dataframe tbody tr th:only-of-type {\n",
       "        vertical-align: middle;\n",
       "    }\n",
       "\n",
       "    .dataframe tbody tr th {\n",
       "        vertical-align: top;\n",
       "    }\n",
       "\n",
       "    .dataframe thead th {\n",
       "        text-align: right;\n",
       "    }\n",
       "</style>\n",
       "<table border=\"1\" class=\"dataframe\">\n",
       "  <thead>\n",
       "    <tr style=\"text-align: right;\">\n",
       "      <th></th>\n",
       "      <th>loan_amnt</th>\n",
       "      <th>annual_inc</th>\n",
       "      <th>dti</th>\n",
       "      <th>fico_range_low</th>\n",
       "      <th>fico_range_high</th>\n",
       "      <th>int_rate</th>\n",
       "      <th>installment</th>\n",
       "      <th>open_acc</th>\n",
       "      <th>total_acc</th>\n",
       "      <th>revol_bal</th>\n",
       "      <th>...</th>\n",
       "      <th>medical</th>\n",
       "      <th>moving</th>\n",
       "      <th>other</th>\n",
       "      <th>renewable_energy</th>\n",
       "      <th>small_business</th>\n",
       "      <th>vacation</th>\n",
       "      <th>Not Verified</th>\n",
       "      <th>Source Verified</th>\n",
       "      <th>Verified</th>\n",
       "      <th>loan_status_bin</th>\n",
       "    </tr>\n",
       "  </thead>\n",
       "  <tbody>\n",
       "    <tr>\n",
       "      <th>0</th>\n",
       "      <td>-1.681284</td>\n",
       "      <td>-0.164637</td>\n",
       "      <td>0.846384</td>\n",
       "      <td>-0.431787</td>\n",
       "      <td>-0.431787</td>\n",
       "      <td>-0.632827</td>\n",
       "      <td>-1.683588</td>\n",
       "      <td>-0.515811</td>\n",
       "      <td>0.052865</td>\n",
       "      <td>0.087789</td>\n",
       "      <td>...</td>\n",
       "      <td>-0.201517</td>\n",
       "      <td>-0.201517</td>\n",
       "      <td>1.846240</td>\n",
       "      <td>-0.049447</td>\n",
       "      <td>-0.149813</td>\n",
       "      <td>-0.166039</td>\n",
       "      <td>1.256430</td>\n",
       "      <td>-0.755567</td>\n",
       "      <td>-0.575473</td>\n",
       "      <td>0.0</td>\n",
       "    </tr>\n",
       "    <tr>\n",
       "      <th>1</th>\n",
       "      <td>0.239648</td>\n",
       "      <td>-0.034893</td>\n",
       "      <td>-0.000947</td>\n",
       "      <td>-0.727333</td>\n",
       "      <td>-0.727333</td>\n",
       "      <td>1.345915</td>\n",
       "      <td>0.280950</td>\n",
       "      <td>0.317617</td>\n",
       "      <td>0.145098</td>\n",
       "      <td>-0.414380</td>\n",
       "      <td>...</td>\n",
       "      <td>-0.201517</td>\n",
       "      <td>-0.201517</td>\n",
       "      <td>-0.541641</td>\n",
       "      <td>-0.049447</td>\n",
       "      <td>-0.149813</td>\n",
       "      <td>-0.166039</td>\n",
       "      <td>-0.795906</td>\n",
       "      <td>1.323510</td>\n",
       "      <td>-0.575473</td>\n",
       "      <td>1.0</td>\n",
       "    </tr>\n",
       "    <tr>\n",
       "      <th>2</th>\n",
       "      <td>-0.858027</td>\n",
       "      <td>0.195402</td>\n",
       "      <td>0.643024</td>\n",
       "      <td>-0.431787</td>\n",
       "      <td>-0.431787</td>\n",
       "      <td>1.345915</td>\n",
       "      <td>-0.832317</td>\n",
       "      <td>-0.724168</td>\n",
       "      <td>-1.053928</td>\n",
       "      <td>1.562910</td>\n",
       "      <td>...</td>\n",
       "      <td>-0.201517</td>\n",
       "      <td>-0.201517</td>\n",
       "      <td>1.846240</td>\n",
       "      <td>-0.049447</td>\n",
       "      <td>-0.149813</td>\n",
       "      <td>-0.166039</td>\n",
       "      <td>-0.795906</td>\n",
       "      <td>-0.755567</td>\n",
       "      <td>1.737702</td>\n",
       "      <td>0.0</td>\n",
       "    </tr>\n",
       "    <tr>\n",
       "      <th>3</th>\n",
       "      <td>0.239648</td>\n",
       "      <td>-0.002458</td>\n",
       "      <td>0.695168</td>\n",
       "      <td>0.159307</td>\n",
       "      <td>0.159307</td>\n",
       "      <td>1.345915</td>\n",
       "      <td>0.280950</td>\n",
       "      <td>1.567759</td>\n",
       "      <td>0.790727</td>\n",
       "      <td>2.745707</td>\n",
       "      <td>...</td>\n",
       "      <td>4.962358</td>\n",
       "      <td>-0.201517</td>\n",
       "      <td>-0.541641</td>\n",
       "      <td>-0.049447</td>\n",
       "      <td>-0.149813</td>\n",
       "      <td>-0.166039</td>\n",
       "      <td>-0.795906</td>\n",
       "      <td>1.323510</td>\n",
       "      <td>-0.575473</td>\n",
       "      <td>0.0</td>\n",
       "    </tr>\n",
       "    <tr>\n",
       "      <th>4</th>\n",
       "      <td>0.129880</td>\n",
       "      <td>-0.185915</td>\n",
       "      <td>1.112315</td>\n",
       "      <td>-0.431787</td>\n",
       "      <td>-0.431787</td>\n",
       "      <td>1.345915</td>\n",
       "      <td>0.169667</td>\n",
       "      <td>1.567759</td>\n",
       "      <td>2.081985</td>\n",
       "      <td>-0.384941</td>\n",
       "      <td>...</td>\n",
       "      <td>-0.201517</td>\n",
       "      <td>-0.201517</td>\n",
       "      <td>-0.541641</td>\n",
       "      <td>-0.049447</td>\n",
       "      <td>-0.149813</td>\n",
       "      <td>-0.166039</td>\n",
       "      <td>-0.795906</td>\n",
       "      <td>-0.755567</td>\n",
       "      <td>1.737702</td>\n",
       "      <td>1.0</td>\n",
       "    </tr>\n",
       "  </tbody>\n",
       "</table>\n",
       "<p>5 rows × 42 columns</p>\n",
       "</div>"
      ],
      "text/plain": [
       "   loan_amnt  annual_inc       dti  fico_range_low  fico_range_high  int_rate  \\\n",
       "0  -1.681284   -0.164637  0.846384       -0.431787        -0.431787 -0.632827   \n",
       "1   0.239648   -0.034893 -0.000947       -0.727333        -0.727333  1.345915   \n",
       "2  -0.858027    0.195402  0.643024       -0.431787        -0.431787  1.345915   \n",
       "3   0.239648   -0.002458  0.695168        0.159307         0.159307  1.345915   \n",
       "4   0.129880   -0.185915  1.112315       -0.431787        -0.431787  1.345915   \n",
       "\n",
       "   installment  open_acc  total_acc  revol_bal  ...   medical    moving  \\\n",
       "0    -1.683588 -0.515811   0.052865   0.087789  ... -0.201517 -0.201517   \n",
       "1     0.280950  0.317617   0.145098  -0.414380  ... -0.201517 -0.201517   \n",
       "2    -0.832317 -0.724168  -1.053928   1.562910  ... -0.201517 -0.201517   \n",
       "3     0.280950  1.567759   0.790727   2.745707  ...  4.962358 -0.201517   \n",
       "4     0.169667  1.567759   2.081985  -0.384941  ... -0.201517 -0.201517   \n",
       "\n",
       "      other  renewable_energy  small_business  vacation  Not Verified  \\\n",
       "0  1.846240         -0.049447       -0.149813 -0.166039      1.256430   \n",
       "1 -0.541641         -0.049447       -0.149813 -0.166039     -0.795906   \n",
       "2  1.846240         -0.049447       -0.149813 -0.166039     -0.795906   \n",
       "3 -0.541641         -0.049447       -0.149813 -0.166039     -0.795906   \n",
       "4 -0.541641         -0.049447       -0.149813 -0.166039     -0.795906   \n",
       "\n",
       "   Source Verified  Verified  loan_status_bin  \n",
       "0        -0.755567 -0.575473              0.0  \n",
       "1         1.323510 -0.575473              1.0  \n",
       "2        -0.755567  1.737702              0.0  \n",
       "3         1.323510 -0.575473              0.0  \n",
       "4        -0.755567  1.737702              1.0  \n",
       "\n",
       "[5 rows x 42 columns]"
      ]
     },
     "execution_count": 5,
     "metadata": {},
     "output_type": "execute_result"
    }
   ],
   "source": [
    "data.head(5)"
   ]
  },
  {
   "cell_type": "code",
   "execution_count": 6,
   "id": "2d771aea",
   "metadata": {},
   "outputs": [
    {
     "data": {
      "text/plain": [
       "(410, 41)"
      ]
     },
     "execution_count": 6,
     "metadata": {},
     "output_type": "execute_result"
    }
   ],
   "source": [
    "X = data.drop('loan_status_bin', axis=1)\n",
    "X.shape"
   ]
  },
  {
   "cell_type": "code",
   "execution_count": 7,
   "id": "664792cd",
   "metadata": {},
   "outputs": [],
   "source": [
    "y = data['loan_status_bin']"
   ]
  },
  {
   "cell_type": "code",
   "execution_count": 8,
   "id": "038d3bc3",
   "metadata": {},
   "outputs": [],
   "source": [
    "steps = [('model', cb)]\n",
    "pipeline = Pipeline(steps=steps)"
   ]
  },
  {
   "cell_type": "code",
   "execution_count": 9,
   "id": "4124111e",
   "metadata": {},
   "outputs": [
    {
     "name": "stdout",
     "output_type": "stream",
     "text": [
      "[0.86585366 0.87804878 0.87804878 0.86585366 0.87804878]\n",
      "0.8731707317073172\n"
     ]
    }
   ],
   "source": [
    "cv = RepeatedStratifiedKFold(n_splits=5, n_repeats=1, random_state=1)\n",
    "scores = cross_val_score(pipeline, X, y, scoring='accuracy', cv=cv, n_jobs=-1) \n",
    "\n",
    "print(scores)\n",
    "score = np.mean(scores)\n",
    "print(score)"
   ]
  },
  {
   "cell_type": "code",
   "execution_count": null,
   "id": "bd1519ec",
   "metadata": {},
   "outputs": [],
   "source": []
  },
  {
   "cell_type": "code",
   "execution_count": null,
   "id": "eedcaa8e",
   "metadata": {},
   "outputs": [],
   "source": []
  }
 ],
 "metadata": {
  "hide_input": false,
  "kernelspec": {
   "display_name": "Python 3 (ipykernel)",
   "language": "python",
   "name": "python3"
  },
  "language_info": {
   "codemirror_mode": {
    "name": "ipython",
    "version": 3
   },
   "file_extension": ".py",
   "mimetype": "text/x-python",
   "name": "python",
   "nbconvert_exporter": "python",
   "pygments_lexer": "ipython3",
   "version": "3.8.8"
  },
  "varInspector": {
   "cols": {
    "lenName": 16,
    "lenType": 16,
    "lenVar": 40
   },
   "kernels_config": {
    "python": {
     "delete_cmd_postfix": "",
     "delete_cmd_prefix": "del ",
     "library": "var_list.py",
     "varRefreshCmd": "print(var_dic_list())"
    },
    "r": {
     "delete_cmd_postfix": ") ",
     "delete_cmd_prefix": "rm(",
     "library": "var_list.r",
     "varRefreshCmd": "cat(var_dic_list()) "
    }
   },
   "types_to_exclude": [
    "module",
    "function",
    "builtin_function_or_method",
    "instance",
    "_Feature"
   ],
   "window_display": false
  }
 },
 "nbformat": 4,
 "nbformat_minor": 5
}
