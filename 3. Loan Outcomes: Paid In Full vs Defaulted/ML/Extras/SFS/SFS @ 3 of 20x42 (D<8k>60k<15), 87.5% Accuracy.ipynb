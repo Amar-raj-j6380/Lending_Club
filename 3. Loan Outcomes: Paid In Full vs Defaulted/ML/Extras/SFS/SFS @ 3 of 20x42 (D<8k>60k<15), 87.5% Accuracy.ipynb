{
 "cells": [
  {
   "cell_type": "code",
   "execution_count": 1,
   "id": "891650eb",
   "metadata": {},
   "outputs": [],
   "source": [
    "import pandas as pd\n",
    "from sklearn.linear_model import LogisticRegression\n",
    "from sklearn.feature_selection import SequentialFeatureSelector\n",
    "\n",
    "from imblearn.pipeline import Pipeline\n",
    "from sklearn.model_selection import RepeatedStratifiedKFold, cross_val_score"
   ]
  },
  {
   "cell_type": "code",
   "execution_count": 2,
   "id": "75e9e0cb",
   "metadata": {},
   "outputs": [],
   "source": [
    "pd.set_option(\"display.max_columns\", 200)\n",
    "pd.set_option(\"display.max_row\", 160)\n",
    "pd.set_option('max_colwidth', 200)"
   ]
  },
  {
   "cell_type": "code",
   "execution_count": 3,
   "id": "e4071527",
   "metadata": {},
   "outputs": [],
   "source": [
    "data = pd.read_csv('../../Data/20x42_D86015.csv')"
   ]
  },
  {
   "cell_type": "code",
   "execution_count": 4,
   "id": "b397a6b0",
   "metadata": {},
   "outputs": [
    {
     "data": {
      "text/html": [
       "<div>\n",
       "<style scoped>\n",
       "    .dataframe tbody tr th:only-of-type {\n",
       "        vertical-align: middle;\n",
       "    }\n",
       "\n",
       "    .dataframe tbody tr th {\n",
       "        vertical-align: top;\n",
       "    }\n",
       "\n",
       "    .dataframe thead th {\n",
       "        text-align: right;\n",
       "    }\n",
       "</style>\n",
       "<table border=\"1\" class=\"dataframe\">\n",
       "  <thead>\n",
       "    <tr style=\"text-align: right;\">\n",
       "      <th></th>\n",
       "      <th>loan_amnt</th>\n",
       "      <th>annual_inc</th>\n",
       "      <th>dti</th>\n",
       "      <th>fico_range_low</th>\n",
       "      <th>fico_range_high</th>\n",
       "      <th>int_rate</th>\n",
       "      <th>installment</th>\n",
       "      <th>open_acc</th>\n",
       "      <th>total_acc</th>\n",
       "      <th>revol_bal</th>\n",
       "      <th>revol_util</th>\n",
       "      <th>inq_last_6mths</th>\n",
       "      <th>delinq_2yrs</th>\n",
       "      <th>acc_now_delinq</th>\n",
       "      <th>collections_12_mths_ex_med</th>\n",
       "      <th>tot_coll_amt</th>\n",
       "      <th>tot_cur_bal</th>\n",
       "      <th>pub_rec</th>\n",
       "      <th>months_cr_line</th>\n",
       "      <th>term</th>\n",
       "      <th>initial_list_status</th>\n",
       "      <th>sub_grade</th>\n",
       "      <th>emp_length</th>\n",
       "      <th>MORTGAGE</th>\n",
       "      <th>OWN</th>\n",
       "      <th>RENT</th>\n",
       "      <th>car</th>\n",
       "      <th>credit_card</th>\n",
       "      <th>debt_consolidation</th>\n",
       "      <th>home_improvement</th>\n",
       "      <th>house</th>\n",
       "      <th>major_purchase</th>\n",
       "      <th>medical</th>\n",
       "      <th>moving</th>\n",
       "      <th>other</th>\n",
       "      <th>renewable_energy</th>\n",
       "      <th>small_business</th>\n",
       "      <th>vacation</th>\n",
       "      <th>Not Verified</th>\n",
       "      <th>Source Verified</th>\n",
       "      <th>Verified</th>\n",
       "      <th>loan_status_bin</th>\n",
       "    </tr>\n",
       "  </thead>\n",
       "  <tbody>\n",
       "    <tr>\n",
       "      <th>0</th>\n",
       "      <td>-1.681284</td>\n",
       "      <td>-0.164637</td>\n",
       "      <td>0.846384</td>\n",
       "      <td>-0.431787</td>\n",
       "      <td>-0.431787</td>\n",
       "      <td>-0.632827</td>\n",
       "      <td>-1.683588</td>\n",
       "      <td>-0.515811</td>\n",
       "      <td>0.052865</td>\n",
       "      <td>0.087789</td>\n",
       "      <td>0.278320</td>\n",
       "      <td>-0.948659</td>\n",
       "      <td>-0.486876</td>\n",
       "      <td>-0.049447</td>\n",
       "      <td>-0.149813</td>\n",
       "      <td>-0.100298</td>\n",
       "      <td>-0.612943</td>\n",
       "      <td>-0.371035</td>\n",
       "      <td>-0.097500</td>\n",
       "      <td>-0.070014</td>\n",
       "      <td>0.915732</td>\n",
       "      <td>-1.427248</td>\n",
       "      <td>0.003312</td>\n",
       "      <td>-0.74366</td>\n",
       "      <td>-0.372678</td>\n",
       "      <td>0.95702</td>\n",
       "      <td>-0.188025</td>\n",
       "      <td>-0.300708</td>\n",
       "      <td>-0.841625</td>\n",
       "      <td>-0.243786</td>\n",
       "      <td>-0.121867</td>\n",
       "      <td>-0.207983</td>\n",
       "      <td>-0.201517</td>\n",
       "      <td>-0.201517</td>\n",
       "      <td>1.846240</td>\n",
       "      <td>-0.049447</td>\n",
       "      <td>-0.149813</td>\n",
       "      <td>-0.166039</td>\n",
       "      <td>1.256430</td>\n",
       "      <td>-0.755567</td>\n",
       "      <td>-0.575473</td>\n",
       "      <td>0.0</td>\n",
       "    </tr>\n",
       "    <tr>\n",
       "      <th>1</th>\n",
       "      <td>0.239648</td>\n",
       "      <td>-0.034893</td>\n",
       "      <td>-0.000947</td>\n",
       "      <td>-0.727333</td>\n",
       "      <td>-0.727333</td>\n",
       "      <td>1.345915</td>\n",
       "      <td>0.280950</td>\n",
       "      <td>0.317617</td>\n",
       "      <td>0.145098</td>\n",
       "      <td>-0.414380</td>\n",
       "      <td>-0.692823</td>\n",
       "      <td>-0.088150</td>\n",
       "      <td>-0.486876</td>\n",
       "      <td>-0.049447</td>\n",
       "      <td>-0.149813</td>\n",
       "      <td>-0.100298</td>\n",
       "      <td>-0.609911</td>\n",
       "      <td>3.369727</td>\n",
       "      <td>0.583889</td>\n",
       "      <td>-0.070014</td>\n",
       "      <td>0.915732</td>\n",
       "      <td>0.700649</td>\n",
       "      <td>-1.626161</td>\n",
       "      <td>-0.74366</td>\n",
       "      <td>-0.372678</td>\n",
       "      <td>0.95702</td>\n",
       "      <td>-0.188025</td>\n",
       "      <td>-0.300708</td>\n",
       "      <td>-0.841625</td>\n",
       "      <td>4.101961</td>\n",
       "      <td>-0.121867</td>\n",
       "      <td>-0.207983</td>\n",
       "      <td>-0.201517</td>\n",
       "      <td>-0.201517</td>\n",
       "      <td>-0.541641</td>\n",
       "      <td>-0.049447</td>\n",
       "      <td>-0.149813</td>\n",
       "      <td>-0.166039</td>\n",
       "      <td>-0.795906</td>\n",
       "      <td>1.323510</td>\n",
       "      <td>-0.575473</td>\n",
       "      <td>1.0</td>\n",
       "    </tr>\n",
       "    <tr>\n",
       "      <th>2</th>\n",
       "      <td>-0.858027</td>\n",
       "      <td>0.195402</td>\n",
       "      <td>0.643024</td>\n",
       "      <td>-0.431787</td>\n",
       "      <td>-0.431787</td>\n",
       "      <td>1.345915</td>\n",
       "      <td>-0.832317</td>\n",
       "      <td>-0.724168</td>\n",
       "      <td>-1.053928</td>\n",
       "      <td>1.562910</td>\n",
       "      <td>1.729659</td>\n",
       "      <td>-0.948659</td>\n",
       "      <td>-0.486876</td>\n",
       "      <td>-0.049447</td>\n",
       "      <td>-0.149813</td>\n",
       "      <td>-0.100298</td>\n",
       "      <td>-0.393788</td>\n",
       "      <td>-0.371035</td>\n",
       "      <td>2.905658</td>\n",
       "      <td>-0.070014</td>\n",
       "      <td>0.915732</td>\n",
       "      <td>0.700649</td>\n",
       "      <td>-0.268267</td>\n",
       "      <td>-0.74366</td>\n",
       "      <td>2.683282</td>\n",
       "      <td>-1.04491</td>\n",
       "      <td>-0.188025</td>\n",
       "      <td>-0.300708</td>\n",
       "      <td>-0.841625</td>\n",
       "      <td>-0.243786</td>\n",
       "      <td>-0.121867</td>\n",
       "      <td>-0.207983</td>\n",
       "      <td>-0.201517</td>\n",
       "      <td>-0.201517</td>\n",
       "      <td>1.846240</td>\n",
       "      <td>-0.049447</td>\n",
       "      <td>-0.149813</td>\n",
       "      <td>-0.166039</td>\n",
       "      <td>-0.795906</td>\n",
       "      <td>-0.755567</td>\n",
       "      <td>1.737702</td>\n",
       "      <td>0.0</td>\n",
       "    </tr>\n",
       "    <tr>\n",
       "      <th>3</th>\n",
       "      <td>0.239648</td>\n",
       "      <td>-0.002458</td>\n",
       "      <td>0.695168</td>\n",
       "      <td>0.159307</td>\n",
       "      <td>0.159307</td>\n",
       "      <td>1.345915</td>\n",
       "      <td>0.280950</td>\n",
       "      <td>1.567759</td>\n",
       "      <td>0.790727</td>\n",
       "      <td>2.745707</td>\n",
       "      <td>0.511251</td>\n",
       "      <td>-0.948659</td>\n",
       "      <td>-0.486876</td>\n",
       "      <td>-0.049447</td>\n",
       "      <td>-0.149813</td>\n",
       "      <td>-0.100298</td>\n",
       "      <td>1.183375</td>\n",
       "      <td>-0.371035</td>\n",
       "      <td>-0.690560</td>\n",
       "      <td>-0.070014</td>\n",
       "      <td>-1.092023</td>\n",
       "      <td>0.700649</td>\n",
       "      <td>-0.268267</td>\n",
       "      <td>1.34470</td>\n",
       "      <td>-0.372678</td>\n",
       "      <td>-1.04491</td>\n",
       "      <td>-0.188025</td>\n",
       "      <td>-0.300708</td>\n",
       "      <td>-0.841625</td>\n",
       "      <td>-0.243786</td>\n",
       "      <td>-0.121867</td>\n",
       "      <td>-0.207983</td>\n",
       "      <td>4.962358</td>\n",
       "      <td>-0.201517</td>\n",
       "      <td>-0.541641</td>\n",
       "      <td>-0.049447</td>\n",
       "      <td>-0.149813</td>\n",
       "      <td>-0.166039</td>\n",
       "      <td>-0.795906</td>\n",
       "      <td>1.323510</td>\n",
       "      <td>-0.575473</td>\n",
       "      <td>0.0</td>\n",
       "    </tr>\n",
       "    <tr>\n",
       "      <th>4</th>\n",
       "      <td>0.129880</td>\n",
       "      <td>-0.185915</td>\n",
       "      <td>1.112315</td>\n",
       "      <td>-0.431787</td>\n",
       "      <td>-0.431787</td>\n",
       "      <td>1.345915</td>\n",
       "      <td>0.169667</td>\n",
       "      <td>1.567759</td>\n",
       "      <td>2.081985</td>\n",
       "      <td>-0.384941</td>\n",
       "      <td>-0.660571</td>\n",
       "      <td>0.772360</td>\n",
       "      <td>-0.486876</td>\n",
       "      <td>-0.049447</td>\n",
       "      <td>-0.149813</td>\n",
       "      <td>0.093239</td>\n",
       "      <td>0.142970</td>\n",
       "      <td>-0.371035</td>\n",
       "      <td>-0.097500</td>\n",
       "      <td>-0.070014</td>\n",
       "      <td>0.915732</td>\n",
       "      <td>0.700649</td>\n",
       "      <td>-1.626161</td>\n",
       "      <td>-0.74366</td>\n",
       "      <td>2.683282</td>\n",
       "      <td>-1.04491</td>\n",
       "      <td>-0.188025</td>\n",
       "      <td>-0.300708</td>\n",
       "      <td>1.188177</td>\n",
       "      <td>-0.243786</td>\n",
       "      <td>-0.121867</td>\n",
       "      <td>-0.207983</td>\n",
       "      <td>-0.201517</td>\n",
       "      <td>-0.201517</td>\n",
       "      <td>-0.541641</td>\n",
       "      <td>-0.049447</td>\n",
       "      <td>-0.149813</td>\n",
       "      <td>-0.166039</td>\n",
       "      <td>-0.795906</td>\n",
       "      <td>-0.755567</td>\n",
       "      <td>1.737702</td>\n",
       "      <td>1.0</td>\n",
       "    </tr>\n",
       "  </tbody>\n",
       "</table>\n",
       "</div>"
      ],
      "text/plain": [
       "   loan_amnt  annual_inc       dti  fico_range_low  fico_range_high  int_rate  \\\n",
       "0  -1.681284   -0.164637  0.846384       -0.431787        -0.431787 -0.632827   \n",
       "1   0.239648   -0.034893 -0.000947       -0.727333        -0.727333  1.345915   \n",
       "2  -0.858027    0.195402  0.643024       -0.431787        -0.431787  1.345915   \n",
       "3   0.239648   -0.002458  0.695168        0.159307         0.159307  1.345915   \n",
       "4   0.129880   -0.185915  1.112315       -0.431787        -0.431787  1.345915   \n",
       "\n",
       "   installment  open_acc  total_acc  revol_bal  revol_util  inq_last_6mths  \\\n",
       "0    -1.683588 -0.515811   0.052865   0.087789    0.278320       -0.948659   \n",
       "1     0.280950  0.317617   0.145098  -0.414380   -0.692823       -0.088150   \n",
       "2    -0.832317 -0.724168  -1.053928   1.562910    1.729659       -0.948659   \n",
       "3     0.280950  1.567759   0.790727   2.745707    0.511251       -0.948659   \n",
       "4     0.169667  1.567759   2.081985  -0.384941   -0.660571        0.772360   \n",
       "\n",
       "   delinq_2yrs  acc_now_delinq  collections_12_mths_ex_med  tot_coll_amt  \\\n",
       "0    -0.486876       -0.049447                   -0.149813     -0.100298   \n",
       "1    -0.486876       -0.049447                   -0.149813     -0.100298   \n",
       "2    -0.486876       -0.049447                   -0.149813     -0.100298   \n",
       "3    -0.486876       -0.049447                   -0.149813     -0.100298   \n",
       "4    -0.486876       -0.049447                   -0.149813      0.093239   \n",
       "\n",
       "   tot_cur_bal   pub_rec  months_cr_line      term  initial_list_status  \\\n",
       "0    -0.612943 -0.371035       -0.097500 -0.070014             0.915732   \n",
       "1    -0.609911  3.369727        0.583889 -0.070014             0.915732   \n",
       "2    -0.393788 -0.371035        2.905658 -0.070014             0.915732   \n",
       "3     1.183375 -0.371035       -0.690560 -0.070014            -1.092023   \n",
       "4     0.142970 -0.371035       -0.097500 -0.070014             0.915732   \n",
       "\n",
       "   sub_grade  emp_length  MORTGAGE       OWN     RENT       car  credit_card  \\\n",
       "0  -1.427248    0.003312  -0.74366 -0.372678  0.95702 -0.188025    -0.300708   \n",
       "1   0.700649   -1.626161  -0.74366 -0.372678  0.95702 -0.188025    -0.300708   \n",
       "2   0.700649   -0.268267  -0.74366  2.683282 -1.04491 -0.188025    -0.300708   \n",
       "3   0.700649   -0.268267   1.34470 -0.372678 -1.04491 -0.188025    -0.300708   \n",
       "4   0.700649   -1.626161  -0.74366  2.683282 -1.04491 -0.188025    -0.300708   \n",
       "\n",
       "   debt_consolidation  home_improvement     house  major_purchase   medical  \\\n",
       "0           -0.841625         -0.243786 -0.121867       -0.207983 -0.201517   \n",
       "1           -0.841625          4.101961 -0.121867       -0.207983 -0.201517   \n",
       "2           -0.841625         -0.243786 -0.121867       -0.207983 -0.201517   \n",
       "3           -0.841625         -0.243786 -0.121867       -0.207983  4.962358   \n",
       "4            1.188177         -0.243786 -0.121867       -0.207983 -0.201517   \n",
       "\n",
       "     moving     other  renewable_energy  small_business  vacation  \\\n",
       "0 -0.201517  1.846240         -0.049447       -0.149813 -0.166039   \n",
       "1 -0.201517 -0.541641         -0.049447       -0.149813 -0.166039   \n",
       "2 -0.201517  1.846240         -0.049447       -0.149813 -0.166039   \n",
       "3 -0.201517 -0.541641         -0.049447       -0.149813 -0.166039   \n",
       "4 -0.201517 -0.541641         -0.049447       -0.149813 -0.166039   \n",
       "\n",
       "   Not Verified  Source Verified  Verified  loan_status_bin  \n",
       "0      1.256430        -0.755567 -0.575473              0.0  \n",
       "1     -0.795906         1.323510 -0.575473              1.0  \n",
       "2     -0.795906        -0.755567  1.737702              0.0  \n",
       "3     -0.795906         1.323510 -0.575473              0.0  \n",
       "4     -0.795906        -0.755567  1.737702              1.0  "
      ]
     },
     "execution_count": 4,
     "metadata": {},
     "output_type": "execute_result"
    }
   ],
   "source": [
    "data.head(5)"
   ]
  },
  {
   "cell_type": "code",
   "execution_count": 5,
   "id": "e2bc504c",
   "metadata": {},
   "outputs": [
    {
     "data": {
      "text/plain": [
       "(410, 42)"
      ]
     },
     "execution_count": 5,
     "metadata": {},
     "output_type": "execute_result"
    }
   ],
   "source": [
    "data.shape"
   ]
  },
  {
   "cell_type": "code",
   "execution_count": 6,
   "id": "79f7fea2",
   "metadata": {},
   "outputs": [
    {
     "data": {
      "text/plain": [
       "1.0    359\n",
       "0.0     51\n",
       "Name: loan_status_bin, dtype: int64"
      ]
     },
     "execution_count": 6,
     "metadata": {},
     "output_type": "execute_result"
    }
   ],
   "source": [
    "data.loan_status_bin.value_counts()"
   ]
  },
  {
   "cell_type": "code",
   "execution_count": 7,
   "id": "c5f95e95",
   "metadata": {},
   "outputs": [
    {
     "data": {
      "text/plain": [
       "0.875609756097561"
      ]
     },
     "execution_count": 7,
     "metadata": {},
     "output_type": "execute_result"
    }
   ],
   "source": [
    "#Null Model (or random investment) will yield, 59.3% of picking a good loan: \n",
    "data.loan_status_bin.value_counts()[1] / len(data)"
   ]
  },
  {
   "cell_type": "code",
   "execution_count": 8,
   "id": "ff93c60b",
   "metadata": {},
   "outputs": [
    {
     "data": {
      "text/plain": [
       "(410, 41)"
      ]
     },
     "execution_count": 8,
     "metadata": {},
     "output_type": "execute_result"
    }
   ],
   "source": [
    "X = data.drop('loan_status_bin', axis=1)\n",
    "X.shape"
   ]
  },
  {
   "cell_type": "code",
   "execution_count": 9,
   "id": "d6f47bde",
   "metadata": {},
   "outputs": [],
   "source": [
    "y = data['loan_status_bin']"
   ]
  },
  {
   "cell_type": "code",
   "execution_count": 10,
   "id": "e41f44d6",
   "metadata": {},
   "outputs": [],
   "source": [
    "n_features = 3\n",
    "lr = LogisticRegression()\n",
    "sfs = SequentialFeatureSelector(lr, n_features_to_select=n_features)"
   ]
  },
  {
   "cell_type": "code",
   "execution_count": 11,
   "id": "b4eb8b6c",
   "metadata": {},
   "outputs": [
    {
     "data": {
      "text/html": [
       "<style>#sk-container-id-1 {color: black;background-color: white;}#sk-container-id-1 pre{padding: 0;}#sk-container-id-1 div.sk-toggleable {background-color: white;}#sk-container-id-1 label.sk-toggleable__label {cursor: pointer;display: block;width: 100%;margin-bottom: 0;padding: 0.3em;box-sizing: border-box;text-align: center;}#sk-container-id-1 label.sk-toggleable__label-arrow:before {content: \"▸\";float: left;margin-right: 0.25em;color: #696969;}#sk-container-id-1 label.sk-toggleable__label-arrow:hover:before {color: black;}#sk-container-id-1 div.sk-estimator:hover label.sk-toggleable__label-arrow:before {color: black;}#sk-container-id-1 div.sk-toggleable__content {max-height: 0;max-width: 0;overflow: hidden;text-align: left;background-color: #f0f8ff;}#sk-container-id-1 div.sk-toggleable__content pre {margin: 0.2em;color: black;border-radius: 0.25em;background-color: #f0f8ff;}#sk-container-id-1 input.sk-toggleable__control:checked~div.sk-toggleable__content {max-height: 200px;max-width: 100%;overflow: auto;}#sk-container-id-1 input.sk-toggleable__control:checked~label.sk-toggleable__label-arrow:before {content: \"▾\";}#sk-container-id-1 div.sk-estimator input.sk-toggleable__control:checked~label.sk-toggleable__label {background-color: #d4ebff;}#sk-container-id-1 div.sk-label input.sk-toggleable__control:checked~label.sk-toggleable__label {background-color: #d4ebff;}#sk-container-id-1 input.sk-hidden--visually {border: 0;clip: rect(1px 1px 1px 1px);clip: rect(1px, 1px, 1px, 1px);height: 1px;margin: -1px;overflow: hidden;padding: 0;position: absolute;width: 1px;}#sk-container-id-1 div.sk-estimator {font-family: monospace;background-color: #f0f8ff;border: 1px dotted black;border-radius: 0.25em;box-sizing: border-box;margin-bottom: 0.5em;}#sk-container-id-1 div.sk-estimator:hover {background-color: #d4ebff;}#sk-container-id-1 div.sk-parallel-item::after {content: \"\";width: 100%;border-bottom: 1px solid gray;flex-grow: 1;}#sk-container-id-1 div.sk-label:hover label.sk-toggleable__label {background-color: #d4ebff;}#sk-container-id-1 div.sk-serial::before {content: \"\";position: absolute;border-left: 1px solid gray;box-sizing: border-box;top: 0;bottom: 0;left: 50%;z-index: 0;}#sk-container-id-1 div.sk-serial {display: flex;flex-direction: column;align-items: center;background-color: white;padding-right: 0.2em;padding-left: 0.2em;position: relative;}#sk-container-id-1 div.sk-item {position: relative;z-index: 1;}#sk-container-id-1 div.sk-parallel {display: flex;align-items: stretch;justify-content: center;background-color: white;position: relative;}#sk-container-id-1 div.sk-item::before, #sk-container-id-1 div.sk-parallel-item::before {content: \"\";position: absolute;border-left: 1px solid gray;box-sizing: border-box;top: 0;bottom: 0;left: 50%;z-index: -1;}#sk-container-id-1 div.sk-parallel-item {display: flex;flex-direction: column;z-index: 1;position: relative;background-color: white;}#sk-container-id-1 div.sk-parallel-item:first-child::after {align-self: flex-end;width: 50%;}#sk-container-id-1 div.sk-parallel-item:last-child::after {align-self: flex-start;width: 50%;}#sk-container-id-1 div.sk-parallel-item:only-child::after {width: 0;}#sk-container-id-1 div.sk-dashed-wrapped {border: 1px dashed gray;margin: 0 0.4em 0.5em 0.4em;box-sizing: border-box;padding-bottom: 0.4em;background-color: white;}#sk-container-id-1 div.sk-label label {font-family: monospace;font-weight: bold;display: inline-block;line-height: 1.2em;}#sk-container-id-1 div.sk-label-container {text-align: center;}#sk-container-id-1 div.sk-container {/* jupyter's `normalize.less` sets `[hidden] { display: none; }` but bootstrap.min.css set `[hidden] { display: none !important; }` so we also need the `!important` here to be able to override the default hidden behavior on the sphinx rendered scikit-learn.org. See: https://github.com/scikit-learn/scikit-learn/issues/21755 */display: inline-block !important;position: relative;}#sk-container-id-1 div.sk-text-repr-fallback {display: none;}</style><div id=\"sk-container-id-1\" class=\"sk-top-container\"><div class=\"sk-text-repr-fallback\"><pre>SequentialFeatureSelector(estimator=LogisticRegression(),\n",
       "                          n_features_to_select=3)</pre><b>In a Jupyter environment, please rerun this cell to show the HTML representation or trust the notebook. <br />On GitHub, the HTML representation is unable to render, please try loading this page with nbviewer.org.</b></div><div class=\"sk-container\" hidden><div class=\"sk-item sk-dashed-wrapped\"><div class=\"sk-label-container\"><div class=\"sk-label sk-toggleable\"><input class=\"sk-toggleable__control sk-hidden--visually\" id=\"sk-estimator-id-1\" type=\"checkbox\" ><label for=\"sk-estimator-id-1\" class=\"sk-toggleable__label sk-toggleable__label-arrow\">SequentialFeatureSelector</label><div class=\"sk-toggleable__content\"><pre>SequentialFeatureSelector(estimator=LogisticRegression(),\n",
       "                          n_features_to_select=3)</pre></div></div></div><div class=\"sk-parallel\"><div class=\"sk-parallel-item\"><div class=\"sk-item\"><div class=\"sk-label-container\"><div class=\"sk-label sk-toggleable\"><input class=\"sk-toggleable__control sk-hidden--visually\" id=\"sk-estimator-id-2\" type=\"checkbox\" ><label for=\"sk-estimator-id-2\" class=\"sk-toggleable__label sk-toggleable__label-arrow\">estimator: LogisticRegression</label><div class=\"sk-toggleable__content\"><pre>LogisticRegression()</pre></div></div></div><div class=\"sk-serial\"><div class=\"sk-item\"><div class=\"sk-estimator sk-toggleable\"><input class=\"sk-toggleable__control sk-hidden--visually\" id=\"sk-estimator-id-3\" type=\"checkbox\" ><label for=\"sk-estimator-id-3\" class=\"sk-toggleable__label sk-toggleable__label-arrow\">LogisticRegression</label><div class=\"sk-toggleable__content\"><pre>LogisticRegression()</pre></div></div></div></div></div></div></div></div></div></div>"
      ],
      "text/plain": [
       "SequentialFeatureSelector(estimator=LogisticRegression(),\n",
       "                          n_features_to_select=3)"
      ]
     },
     "execution_count": 11,
     "metadata": {},
     "output_type": "execute_result"
    }
   ],
   "source": [
    "sfs.fit(X,y)"
   ]
  },
  {
   "cell_type": "code",
   "execution_count": 12,
   "id": "70c93071",
   "metadata": {},
   "outputs": [],
   "source": [
    "#sfs.get_support()"
   ]
  },
  {
   "cell_type": "code",
   "execution_count": 13,
   "id": "dbffd04e",
   "metadata": {},
   "outputs": [
    {
     "name": "stdout",
     "output_type": "stream",
     "text": [
      "Top 3 features selected by forward sequential selection:['loan_amnt', 'dti', 'fico_range_low']\n"
     ]
    }
   ],
   "source": [
    "print(\"Top {} features selected by forward sequential selection:{}\"\\\n",
    "      .format(n_features, list(X.columns[sfs.get_support()])))\n"
   ]
  },
  {
   "cell_type": "code",
   "execution_count": 14,
   "id": "1f39da4f",
   "metadata": {},
   "outputs": [
    {
     "data": {
      "text/plain": [
       "['loan_amnt', 'dti', 'fico_range_low']"
      ]
     },
     "execution_count": 14,
     "metadata": {},
     "output_type": "execute_result"
    }
   ],
   "source": [
    "feat = list(X.columns[sfs.get_support()])\n",
    "feat"
   ]
  },
  {
   "cell_type": "code",
   "execution_count": 15,
   "id": "d2d0e00e",
   "metadata": {},
   "outputs": [],
   "source": [
    "X_feat = data[feat]"
   ]
  },
  {
   "cell_type": "code",
   "execution_count": 16,
   "id": "eb0b2988",
   "metadata": {},
   "outputs": [
    {
     "data": {
      "text/plain": [
       "0      0.0\n",
       "1      1.0\n",
       "2      0.0\n",
       "3      0.0\n",
       "4      1.0\n",
       "      ... \n",
       "405    1.0\n",
       "406    1.0\n",
       "407    1.0\n",
       "408    1.0\n",
       "409    0.0\n",
       "Name: loan_status_bin, Length: 410, dtype: float64"
      ]
     },
     "execution_count": 16,
     "metadata": {},
     "output_type": "execute_result"
    }
   ],
   "source": [
    "y = data['loan_status_bin']\n",
    "y"
   ]
  },
  {
   "cell_type": "code",
   "execution_count": 17,
   "id": "a888c925",
   "metadata": {},
   "outputs": [],
   "source": [
    "lr_check = LogisticRegression()\n",
    "steps = [('model', lr_check)]\n",
    "pipeline = Pipeline(steps=steps)"
   ]
  },
  {
   "cell_type": "code",
   "execution_count": 18,
   "id": "0423b0b2",
   "metadata": {},
   "outputs": [
    {
     "name": "stdout",
     "output_type": "stream",
     "text": [
      "[0.86585366 0.87804878 0.87804878 0.87804878 0.87804878]\n",
      "0.875609756097561\n"
     ]
    }
   ],
   "source": [
    "#Accuracy:\n",
    "\n",
    "cv = RepeatedStratifiedKFold(n_splits=5, n_repeats=1, random_state=1)\n",
    "scores = cross_val_score(pipeline, X_feat, y, scoring='accuracy', cv=cv, n_jobs=-1) \n",
    "print(scores)\n",
    "\n",
    "score = np.mean(scores)\n",
    "print(score)"
   ]
  },
  {
   "cell_type": "code",
   "execution_count": null,
   "id": "80613a5c",
   "metadata": {},
   "outputs": [],
   "source": []
  },
  {
   "cell_type": "code",
   "execution_count": 19,
   "id": "0e5c48bf",
   "metadata": {},
   "outputs": [],
   "source": [
    "from sklearn.ensemble import AdaBoostClassifier\n",
    "ada = AdaBoostClassifier()\n",
    "steps2 = [('model', ada)]\n",
    "pipeline2 = Pipeline(steps=steps2)"
   ]
  },
  {
   "cell_type": "code",
   "execution_count": 20,
   "id": "34d06f94",
   "metadata": {},
   "outputs": [
    {
     "name": "stdout",
     "output_type": "stream",
     "text": [
      "[0.84146341 0.87804878 0.82926829 0.85365854 0.87804878]\n",
      "0.8560975609756097\n"
     ]
    }
   ],
   "source": [
    "#Accuracy:\n",
    "\n",
    "cv = RepeatedStratifiedKFold(n_splits=5, n_repeats=1, random_state=1)\n",
    "scores = cross_val_score(pipeline2, X_feat, y, scoring='accuracy', cv=cv, n_jobs=-1) \n",
    "print(scores)\n",
    "\n",
    "score = np.mean(scores)\n",
    "print(score)"
   ]
  },
  {
   "cell_type": "code",
   "execution_count": null,
   "id": "379e763c",
   "metadata": {},
   "outputs": [],
   "source": []
  },
  {
   "cell_type": "code",
   "execution_count": 21,
   "id": "dd8bb743",
   "metadata": {},
   "outputs": [],
   "source": [
    "from sklearn.neural_network import MLPClassifier\n",
    "nn = MLPClassifier(alpha=1, max_iter=1000)\n",
    "steps3 = [('model', nn)]\n",
    "pipeline3 = Pipeline(steps=steps3)"
   ]
  },
  {
   "cell_type": "code",
   "execution_count": 22,
   "id": "69659651",
   "metadata": {},
   "outputs": [
    {
     "name": "stdout",
     "output_type": "stream",
     "text": [
      "[0.86585366 0.87804878 0.87804878 0.87804878 0.87804878]\n",
      "0.875609756097561\n"
     ]
    }
   ],
   "source": [
    "#Accuracy:\n",
    "\n",
    "cv = RepeatedStratifiedKFold(n_splits=5, n_repeats=1, random_state=1)\n",
    "scores = cross_val_score(pipeline3, X_feat, y, scoring='accuracy', cv=cv, n_jobs=-1) \n",
    "print(scores)\n",
    "\n",
    "score = np.mean(scores)\n",
    "print(score)"
   ]
  },
  {
   "cell_type": "code",
   "execution_count": null,
   "id": "f5ed01b9",
   "metadata": {},
   "outputs": [],
   "source": []
  },
  {
   "cell_type": "code",
   "execution_count": 23,
   "id": "18cbf57c",
   "metadata": {},
   "outputs": [],
   "source": [
    "from sklearn.ensemble import GradientBoostingClassifier\n",
    "gb = GradientBoostingClassifier()\n",
    "steps4 = [('model', gb)]\n",
    "pipeline4 = Pipeline(steps=steps4)"
   ]
  },
  {
   "cell_type": "code",
   "execution_count": 24,
   "id": "82650289",
   "metadata": {},
   "outputs": [
    {
     "name": "stdout",
     "output_type": "stream",
     "text": [
      "[0.81707317 0.84146341 0.87804878 0.87804878 0.86585366]\n",
      "0.8560975609756097\n"
     ]
    }
   ],
   "source": [
    "#Accuracy:\n",
    "\n",
    "cv = RepeatedStratifiedKFold(n_splits=5, n_repeats=1, random_state=1)\n",
    "scores = cross_val_score(pipeline4, X_feat, y, scoring='accuracy', cv=cv, n_jobs=-1) \n",
    "print(scores)\n",
    "\n",
    "score = np.mean(scores)\n",
    "print(score)"
   ]
  },
  {
   "cell_type": "code",
   "execution_count": null,
   "id": "b095c060",
   "metadata": {},
   "outputs": [],
   "source": []
  },
  {
   "cell_type": "code",
   "execution_count": null,
   "id": "9df59e81",
   "metadata": {},
   "outputs": [],
   "source": []
  }
 ],
 "metadata": {
  "hide_input": false,
  "kernelspec": {
   "display_name": "Python 3 (ipykernel)",
   "language": "python",
   "name": "python3"
  },
  "language_info": {
   "codemirror_mode": {
    "name": "ipython",
    "version": 3
   },
   "file_extension": ".py",
   "mimetype": "text/x-python",
   "name": "python",
   "nbconvert_exporter": "python",
   "pygments_lexer": "ipython3",
   "version": "3.8.8"
  },
  "varInspector": {
   "cols": {
    "lenName": 16,
    "lenType": 16,
    "lenVar": 40
   },
   "kernels_config": {
    "python": {
     "delete_cmd_postfix": "",
     "delete_cmd_prefix": "del ",
     "library": "var_list.py",
     "varRefreshCmd": "print(var_dic_list())"
    },
    "r": {
     "delete_cmd_postfix": ") ",
     "delete_cmd_prefix": "rm(",
     "library": "var_list.r",
     "varRefreshCmd": "cat(var_dic_list()) "
    }
   },
   "types_to_exclude": [
    "module",
    "function",
    "builtin_function_or_method",
    "instance",
    "_Feature"
   ],
   "window_display": false
  }
 },
 "nbformat": 4,
 "nbformat_minor": 5
}
