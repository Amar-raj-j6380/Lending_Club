{
 "cells": [
  {
   "cell_type": "code",
   "execution_count": 1,
   "id": "891650eb",
   "metadata": {},
   "outputs": [],
   "source": [
    "import pandas as pd\n",
    "from sklearn.linear_model import LogisticRegression\n",
    "from sklearn.feature_selection import SequentialFeatureSelector\n",
    "\n",
    "from imblearn.pipeline import Pipeline\n",
    "from sklearn.model_selection import RepeatedStratifiedKFold, cross_val_score"
   ]
  },
  {
   "cell_type": "code",
   "execution_count": 2,
   "id": "75e9e0cb",
   "metadata": {},
   "outputs": [],
   "source": [
    "pd.set_option(\"display.max_columns\", 200)\n",
    "pd.set_option(\"display.max_row\", 160)\n",
    "pd.set_option('max_colwidth', 200)"
   ]
  },
  {
   "cell_type": "code",
   "execution_count": 3,
   "id": "e4071527",
   "metadata": {},
   "outputs": [],
   "source": [
    "data = pd.read_csv('../../Data/20x43_DEFG86017_5.csv')"
   ]
  },
  {
   "cell_type": "code",
   "execution_count": 4,
   "id": "b397a6b0",
   "metadata": {},
   "outputs": [
    {
     "data": {
      "text/html": [
       "<div>\n",
       "<style scoped>\n",
       "    .dataframe tbody tr th:only-of-type {\n",
       "        vertical-align: middle;\n",
       "    }\n",
       "\n",
       "    .dataframe tbody tr th {\n",
       "        vertical-align: top;\n",
       "    }\n",
       "\n",
       "    .dataframe thead th {\n",
       "        text-align: right;\n",
       "    }\n",
       "</style>\n",
       "<table border=\"1\" class=\"dataframe\">\n",
       "  <thead>\n",
       "    <tr style=\"text-align: right;\">\n",
       "      <th></th>\n",
       "      <th>loan_amnt</th>\n",
       "      <th>annual_inc</th>\n",
       "      <th>dti</th>\n",
       "      <th>fico_range_low</th>\n",
       "      <th>fico_range_high</th>\n",
       "      <th>int_rate</th>\n",
       "      <th>installment</th>\n",
       "      <th>open_acc</th>\n",
       "      <th>total_acc</th>\n",
       "      <th>revol_bal</th>\n",
       "      <th>inq_last_6mths</th>\n",
       "      <th>delinq_2yrs</th>\n",
       "      <th>mths_since_last_delinq</th>\n",
       "      <th>acc_now_delinq</th>\n",
       "      <th>collections_12_mths_ex_med</th>\n",
       "      <th>pub_rec</th>\n",
       "      <th>months_cr_line</th>\n",
       "      <th>term</th>\n",
       "      <th>initial_list_status</th>\n",
       "      <th>grade</th>\n",
       "      <th>sub_grade</th>\n",
       "      <th>emp_length</th>\n",
       "      <th>ANY</th>\n",
       "      <th>MORTGAGE</th>\n",
       "      <th>OWN</th>\n",
       "      <th>RENT</th>\n",
       "      <th>car</th>\n",
       "      <th>credit_card</th>\n",
       "      <th>debt_consolidation</th>\n",
       "      <th>home_improvement</th>\n",
       "      <th>house</th>\n",
       "      <th>major_purchase</th>\n",
       "      <th>medical</th>\n",
       "      <th>moving</th>\n",
       "      <th>other</th>\n",
       "      <th>renewable_energy</th>\n",
       "      <th>small_business</th>\n",
       "      <th>vacation</th>\n",
       "      <th>wedding</th>\n",
       "      <th>Not Verified</th>\n",
       "      <th>Source Verified</th>\n",
       "      <th>Verified</th>\n",
       "      <th>loan_status_bin</th>\n",
       "    </tr>\n",
       "  </thead>\n",
       "  <tbody>\n",
       "    <tr>\n",
       "      <th>0</th>\n",
       "      <td>-0.394780</td>\n",
       "      <td>-0.092019</td>\n",
       "      <td>-0.873321</td>\n",
       "      <td>1.940594</td>\n",
       "      <td>1.940594</td>\n",
       "      <td>-0.583950</td>\n",
       "      <td>-0.393509</td>\n",
       "      <td>-0.321346</td>\n",
       "      <td>-0.841857</td>\n",
       "      <td>-0.819426</td>\n",
       "      <td>1.187098</td>\n",
       "      <td>0.393653</td>\n",
       "      <td>-0.313130</td>\n",
       "      <td>-0.069643</td>\n",
       "      <td>-0.151296</td>\n",
       "      <td>-0.426999</td>\n",
       "      <td>-0.884191</td>\n",
       "      <td>-0.239876</td>\n",
       "      <td>1.395799</td>\n",
       "      <td>-0.043589</td>\n",
       "      <td>0.530201</td>\n",
       "      <td>-0.529283</td>\n",
       "      <td>-0.029637</td>\n",
       "      <td>-0.791641</td>\n",
       "      <td>-0.356514</td>\n",
       "      <td>0.997808</td>\n",
       "      <td>-0.13366</td>\n",
       "      <td>-0.217565</td>\n",
       "      <td>-0.712232</td>\n",
       "      <td>3.435603</td>\n",
       "      <td>-0.148233</td>\n",
       "      <td>-0.194412</td>\n",
       "      <td>-0.235757</td>\n",
       "      <td>-0.226273</td>\n",
       "      <td>-0.590356</td>\n",
       "      <td>-0.069643</td>\n",
       "      <td>-0.243941</td>\n",
       "      <td>-0.193193</td>\n",
       "      <td>-0.089225</td>\n",
       "      <td>-0.627602</td>\n",
       "      <td>1.248119</td>\n",
       "      <td>-0.696197</td>\n",
       "      <td>0.0</td>\n",
       "    </tr>\n",
       "    <tr>\n",
       "      <th>1</th>\n",
       "      <td>-0.742344</td>\n",
       "      <td>-0.248924</td>\n",
       "      <td>0.844724</td>\n",
       "      <td>0.113283</td>\n",
       "      <td>0.113283</td>\n",
       "      <td>0.615513</td>\n",
       "      <td>-0.670219</td>\n",
       "      <td>-0.723183</td>\n",
       "      <td>-0.928005</td>\n",
       "      <td>-0.652416</td>\n",
       "      <td>0.423724</td>\n",
       "      <td>-0.463210</td>\n",
       "      <td>-0.900363</td>\n",
       "      <td>-0.069643</td>\n",
       "      <td>-0.151296</td>\n",
       "      <td>-0.426999</td>\n",
       "      <td>0.311603</td>\n",
       "      <td>-0.239876</td>\n",
       "      <td>1.395799</td>\n",
       "      <td>1.317237</td>\n",
       "      <td>1.486158</td>\n",
       "      <td>-1.592515</td>\n",
       "      <td>-0.029637</td>\n",
       "      <td>1.263199</td>\n",
       "      <td>-0.356514</td>\n",
       "      <td>-1.002196</td>\n",
       "      <td>-0.13366</td>\n",
       "      <td>-0.217565</td>\n",
       "      <td>1.404036</td>\n",
       "      <td>-0.291070</td>\n",
       "      <td>-0.148233</td>\n",
       "      <td>-0.194412</td>\n",
       "      <td>-0.235757</td>\n",
       "      <td>-0.226273</td>\n",
       "      <td>-0.590356</td>\n",
       "      <td>-0.069643</td>\n",
       "      <td>-0.243941</td>\n",
       "      <td>-0.193193</td>\n",
       "      <td>-0.089225</td>\n",
       "      <td>-0.627602</td>\n",
       "      <td>1.248119</td>\n",
       "      <td>-0.696197</td>\n",
       "      <td>0.0</td>\n",
       "    </tr>\n",
       "    <tr>\n",
       "      <th>2</th>\n",
       "      <td>0.689619</td>\n",
       "      <td>-0.078375</td>\n",
       "      <td>1.560036</td>\n",
       "      <td>-0.669850</td>\n",
       "      <td>-0.669850</td>\n",
       "      <td>-0.583950</td>\n",
       "      <td>0.680086</td>\n",
       "      <td>0.281409</td>\n",
       "      <td>0.967242</td>\n",
       "      <td>-0.116192</td>\n",
       "      <td>2.713845</td>\n",
       "      <td>2.964244</td>\n",
       "      <td>-0.900363</td>\n",
       "      <td>-0.069643</td>\n",
       "      <td>-0.151296</td>\n",
       "      <td>0.873978</td>\n",
       "      <td>-0.359506</td>\n",
       "      <td>-0.239876</td>\n",
       "      <td>1.395799</td>\n",
       "      <td>-0.043589</td>\n",
       "      <td>0.530201</td>\n",
       "      <td>-0.529283</td>\n",
       "      <td>-0.029637</td>\n",
       "      <td>1.263199</td>\n",
       "      <td>-0.356514</td>\n",
       "      <td>-1.002196</td>\n",
       "      <td>-0.13366</td>\n",
       "      <td>-0.217565</td>\n",
       "      <td>-0.712232</td>\n",
       "      <td>-0.291070</td>\n",
       "      <td>-0.148233</td>\n",
       "      <td>-0.194412</td>\n",
       "      <td>-0.235757</td>\n",
       "      <td>-0.226273</td>\n",
       "      <td>-0.590356</td>\n",
       "      <td>-0.069643</td>\n",
       "      <td>4.099352</td>\n",
       "      <td>-0.193193</td>\n",
       "      <td>-0.089225</td>\n",
       "      <td>-0.627602</td>\n",
       "      <td>1.248119</td>\n",
       "      <td>-0.696197</td>\n",
       "      <td>1.0</td>\n",
       "    </tr>\n",
       "    <tr>\n",
       "      <th>3</th>\n",
       "      <td>-0.241852</td>\n",
       "      <td>-0.221636</td>\n",
       "      <td>1.050025</td>\n",
       "      <td>-0.930894</td>\n",
       "      <td>-0.930894</td>\n",
       "      <td>1.406463</td>\n",
       "      <td>-0.098216</td>\n",
       "      <td>-0.321346</td>\n",
       "      <td>-0.411119</td>\n",
       "      <td>-0.611183</td>\n",
       "      <td>2.713845</td>\n",
       "      <td>0.393653</td>\n",
       "      <td>0.319274</td>\n",
       "      <td>-0.069643</td>\n",
       "      <td>-0.151296</td>\n",
       "      <td>0.873978</td>\n",
       "      <td>-0.566939</td>\n",
       "      <td>-0.239876</td>\n",
       "      <td>1.395799</td>\n",
       "      <td>1.317237</td>\n",
       "      <td>2.123462</td>\n",
       "      <td>0.002333</td>\n",
       "      <td>-0.029637</td>\n",
       "      <td>1.263199</td>\n",
       "      <td>-0.356514</td>\n",
       "      <td>-1.002196</td>\n",
       "      <td>-0.13366</td>\n",
       "      <td>-0.217565</td>\n",
       "      <td>1.404036</td>\n",
       "      <td>-0.291070</td>\n",
       "      <td>-0.148233</td>\n",
       "      <td>-0.194412</td>\n",
       "      <td>-0.235757</td>\n",
       "      <td>-0.226273</td>\n",
       "      <td>-0.590356</td>\n",
       "      <td>-0.069643</td>\n",
       "      <td>-0.243941</td>\n",
       "      <td>-0.193193</td>\n",
       "      <td>-0.089225</td>\n",
       "      <td>-0.627602</td>\n",
       "      <td>1.248119</td>\n",
       "      <td>-0.696197</td>\n",
       "      <td>1.0</td>\n",
       "    </tr>\n",
       "    <tr>\n",
       "      <th>4</th>\n",
       "      <td>0.773034</td>\n",
       "      <td>-0.207992</td>\n",
       "      <td>1.454144</td>\n",
       "      <td>-0.147761</td>\n",
       "      <td>-0.147761</td>\n",
       "      <td>-1.009846</td>\n",
       "      <td>0.719284</td>\n",
       "      <td>0.281409</td>\n",
       "      <td>-0.066529</td>\n",
       "      <td>0.231414</td>\n",
       "      <td>-0.339649</td>\n",
       "      <td>-0.463210</td>\n",
       "      <td>-0.900363</td>\n",
       "      <td>-0.069643</td>\n",
       "      <td>-0.151296</td>\n",
       "      <td>0.873978</td>\n",
       "      <td>1.165741</td>\n",
       "      <td>-0.239876</td>\n",
       "      <td>1.395799</td>\n",
       "      <td>-0.043589</td>\n",
       "      <td>0.211549</td>\n",
       "      <td>1.065565</td>\n",
       "      <td>-0.029637</td>\n",
       "      <td>1.263199</td>\n",
       "      <td>-0.356514</td>\n",
       "      <td>-1.002196</td>\n",
       "      <td>-0.13366</td>\n",
       "      <td>-0.217565</td>\n",
       "      <td>-0.712232</td>\n",
       "      <td>3.435603</td>\n",
       "      <td>-0.148233</td>\n",
       "      <td>-0.194412</td>\n",
       "      <td>-0.235757</td>\n",
       "      <td>-0.226273</td>\n",
       "      <td>-0.590356</td>\n",
       "      <td>-0.069643</td>\n",
       "      <td>-0.243941</td>\n",
       "      <td>-0.193193</td>\n",
       "      <td>-0.089225</td>\n",
       "      <td>-0.627602</td>\n",
       "      <td>-0.801206</td>\n",
       "      <td>1.436375</td>\n",
       "      <td>1.0</td>\n",
       "    </tr>\n",
       "  </tbody>\n",
       "</table>\n",
       "</div>"
      ],
      "text/plain": [
       "   loan_amnt  annual_inc       dti  fico_range_low  fico_range_high  int_rate  \\\n",
       "0  -0.394780   -0.092019 -0.873321        1.940594         1.940594 -0.583950   \n",
       "1  -0.742344   -0.248924  0.844724        0.113283         0.113283  0.615513   \n",
       "2   0.689619   -0.078375  1.560036       -0.669850        -0.669850 -0.583950   \n",
       "3  -0.241852   -0.221636  1.050025       -0.930894        -0.930894  1.406463   \n",
       "4   0.773034   -0.207992  1.454144       -0.147761        -0.147761 -1.009846   \n",
       "\n",
       "   installment  open_acc  total_acc  revol_bal  inq_last_6mths  delinq_2yrs  \\\n",
       "0    -0.393509 -0.321346  -0.841857  -0.819426        1.187098     0.393653   \n",
       "1    -0.670219 -0.723183  -0.928005  -0.652416        0.423724    -0.463210   \n",
       "2     0.680086  0.281409   0.967242  -0.116192        2.713845     2.964244   \n",
       "3    -0.098216 -0.321346  -0.411119  -0.611183        2.713845     0.393653   \n",
       "4     0.719284  0.281409  -0.066529   0.231414       -0.339649    -0.463210   \n",
       "\n",
       "   mths_since_last_delinq  acc_now_delinq  collections_12_mths_ex_med  \\\n",
       "0               -0.313130       -0.069643                   -0.151296   \n",
       "1               -0.900363       -0.069643                   -0.151296   \n",
       "2               -0.900363       -0.069643                   -0.151296   \n",
       "3                0.319274       -0.069643                   -0.151296   \n",
       "4               -0.900363       -0.069643                   -0.151296   \n",
       "\n",
       "    pub_rec  months_cr_line      term  initial_list_status     grade  \\\n",
       "0 -0.426999       -0.884191 -0.239876             1.395799 -0.043589   \n",
       "1 -0.426999        0.311603 -0.239876             1.395799  1.317237   \n",
       "2  0.873978       -0.359506 -0.239876             1.395799 -0.043589   \n",
       "3  0.873978       -0.566939 -0.239876             1.395799  1.317237   \n",
       "4  0.873978        1.165741 -0.239876             1.395799 -0.043589   \n",
       "\n",
       "   sub_grade  emp_length       ANY  MORTGAGE       OWN      RENT      car  \\\n",
       "0   0.530201   -0.529283 -0.029637 -0.791641 -0.356514  0.997808 -0.13366   \n",
       "1   1.486158   -1.592515 -0.029637  1.263199 -0.356514 -1.002196 -0.13366   \n",
       "2   0.530201   -0.529283 -0.029637  1.263199 -0.356514 -1.002196 -0.13366   \n",
       "3   2.123462    0.002333 -0.029637  1.263199 -0.356514 -1.002196 -0.13366   \n",
       "4   0.211549    1.065565 -0.029637  1.263199 -0.356514 -1.002196 -0.13366   \n",
       "\n",
       "   credit_card  debt_consolidation  home_improvement     house  \\\n",
       "0    -0.217565           -0.712232          3.435603 -0.148233   \n",
       "1    -0.217565            1.404036         -0.291070 -0.148233   \n",
       "2    -0.217565           -0.712232         -0.291070 -0.148233   \n",
       "3    -0.217565            1.404036         -0.291070 -0.148233   \n",
       "4    -0.217565           -0.712232          3.435603 -0.148233   \n",
       "\n",
       "   major_purchase   medical    moving     other  renewable_energy  \\\n",
       "0       -0.194412 -0.235757 -0.226273 -0.590356         -0.069643   \n",
       "1       -0.194412 -0.235757 -0.226273 -0.590356         -0.069643   \n",
       "2       -0.194412 -0.235757 -0.226273 -0.590356         -0.069643   \n",
       "3       -0.194412 -0.235757 -0.226273 -0.590356         -0.069643   \n",
       "4       -0.194412 -0.235757 -0.226273 -0.590356         -0.069643   \n",
       "\n",
       "   small_business  vacation   wedding  Not Verified  Source Verified  \\\n",
       "0       -0.243941 -0.193193 -0.089225     -0.627602         1.248119   \n",
       "1       -0.243941 -0.193193 -0.089225     -0.627602         1.248119   \n",
       "2        4.099352 -0.193193 -0.089225     -0.627602         1.248119   \n",
       "3       -0.243941 -0.193193 -0.089225     -0.627602         1.248119   \n",
       "4       -0.243941 -0.193193 -0.089225     -0.627602        -0.801206   \n",
       "\n",
       "   Verified  loan_status_bin  \n",
       "0 -0.696197              0.0  \n",
       "1 -0.696197              0.0  \n",
       "2 -0.696197              1.0  \n",
       "3 -0.696197              1.0  \n",
       "4  1.436375              1.0  "
      ]
     },
     "execution_count": 4,
     "metadata": {},
     "output_type": "execute_result"
    }
   ],
   "source": [
    "data.head(5)"
   ]
  },
  {
   "cell_type": "code",
   "execution_count": 5,
   "id": "e2bc504c",
   "metadata": {},
   "outputs": [
    {
     "data": {
      "text/plain": [
       "(2279, 43)"
      ]
     },
     "execution_count": 5,
     "metadata": {},
     "output_type": "execute_result"
    }
   ],
   "source": [
    "data.shape"
   ]
  },
  {
   "cell_type": "code",
   "execution_count": 6,
   "id": "79f7fea2",
   "metadata": {},
   "outputs": [
    {
     "data": {
      "text/plain": [
       "1.0    1786\n",
       "0.0     493\n",
       "Name: loan_status_bin, dtype: int64"
      ]
     },
     "execution_count": 6,
     "metadata": {},
     "output_type": "execute_result"
    }
   ],
   "source": [
    "data.loan_status_bin.value_counts()"
   ]
  },
  {
   "cell_type": "code",
   "execution_count": 7,
   "id": "c5f95e95",
   "metadata": {},
   "outputs": [
    {
     "data": {
      "text/plain": [
       "0.7836770513383062"
      ]
     },
     "execution_count": 7,
     "metadata": {},
     "output_type": "execute_result"
    }
   ],
   "source": [
    "#Null Model (or random investment) will yield, 59.3% of picking a good loan: \n",
    "data.loan_status_bin.value_counts()[1] / len(data)"
   ]
  },
  {
   "cell_type": "code",
   "execution_count": 8,
   "id": "ff93c60b",
   "metadata": {},
   "outputs": [
    {
     "data": {
      "text/plain": [
       "(2279, 42)"
      ]
     },
     "execution_count": 8,
     "metadata": {},
     "output_type": "execute_result"
    }
   ],
   "source": [
    "X = data.drop('loan_status_bin', axis=1)\n",
    "X.shape"
   ]
  },
  {
   "cell_type": "code",
   "execution_count": 9,
   "id": "d6f47bde",
   "metadata": {},
   "outputs": [],
   "source": [
    "y = data['loan_status_bin']"
   ]
  },
  {
   "cell_type": "code",
   "execution_count": 10,
   "id": "e41f44d6",
   "metadata": {},
   "outputs": [],
   "source": [
    "n_features = 3\n",
    "lr = LogisticRegression()\n",
    "sfs = SequentialFeatureSelector(lr, n_features_to_select=n_features)"
   ]
  },
  {
   "cell_type": "code",
   "execution_count": 11,
   "id": "b4eb8b6c",
   "metadata": {},
   "outputs": [
    {
     "data": {
      "text/html": [
       "<style>#sk-container-id-1 {color: black;background-color: white;}#sk-container-id-1 pre{padding: 0;}#sk-container-id-1 div.sk-toggleable {background-color: white;}#sk-container-id-1 label.sk-toggleable__label {cursor: pointer;display: block;width: 100%;margin-bottom: 0;padding: 0.3em;box-sizing: border-box;text-align: center;}#sk-container-id-1 label.sk-toggleable__label-arrow:before {content: \"▸\";float: left;margin-right: 0.25em;color: #696969;}#sk-container-id-1 label.sk-toggleable__label-arrow:hover:before {color: black;}#sk-container-id-1 div.sk-estimator:hover label.sk-toggleable__label-arrow:before {color: black;}#sk-container-id-1 div.sk-toggleable__content {max-height: 0;max-width: 0;overflow: hidden;text-align: left;background-color: #f0f8ff;}#sk-container-id-1 div.sk-toggleable__content pre {margin: 0.2em;color: black;border-radius: 0.25em;background-color: #f0f8ff;}#sk-container-id-1 input.sk-toggleable__control:checked~div.sk-toggleable__content {max-height: 200px;max-width: 100%;overflow: auto;}#sk-container-id-1 input.sk-toggleable__control:checked~label.sk-toggleable__label-arrow:before {content: \"▾\";}#sk-container-id-1 div.sk-estimator input.sk-toggleable__control:checked~label.sk-toggleable__label {background-color: #d4ebff;}#sk-container-id-1 div.sk-label input.sk-toggleable__control:checked~label.sk-toggleable__label {background-color: #d4ebff;}#sk-container-id-1 input.sk-hidden--visually {border: 0;clip: rect(1px 1px 1px 1px);clip: rect(1px, 1px, 1px, 1px);height: 1px;margin: -1px;overflow: hidden;padding: 0;position: absolute;width: 1px;}#sk-container-id-1 div.sk-estimator {font-family: monospace;background-color: #f0f8ff;border: 1px dotted black;border-radius: 0.25em;box-sizing: border-box;margin-bottom: 0.5em;}#sk-container-id-1 div.sk-estimator:hover {background-color: #d4ebff;}#sk-container-id-1 div.sk-parallel-item::after {content: \"\";width: 100%;border-bottom: 1px solid gray;flex-grow: 1;}#sk-container-id-1 div.sk-label:hover label.sk-toggleable__label {background-color: #d4ebff;}#sk-container-id-1 div.sk-serial::before {content: \"\";position: absolute;border-left: 1px solid gray;box-sizing: border-box;top: 0;bottom: 0;left: 50%;z-index: 0;}#sk-container-id-1 div.sk-serial {display: flex;flex-direction: column;align-items: center;background-color: white;padding-right: 0.2em;padding-left: 0.2em;position: relative;}#sk-container-id-1 div.sk-item {position: relative;z-index: 1;}#sk-container-id-1 div.sk-parallel {display: flex;align-items: stretch;justify-content: center;background-color: white;position: relative;}#sk-container-id-1 div.sk-item::before, #sk-container-id-1 div.sk-parallel-item::before {content: \"\";position: absolute;border-left: 1px solid gray;box-sizing: border-box;top: 0;bottom: 0;left: 50%;z-index: -1;}#sk-container-id-1 div.sk-parallel-item {display: flex;flex-direction: column;z-index: 1;position: relative;background-color: white;}#sk-container-id-1 div.sk-parallel-item:first-child::after {align-self: flex-end;width: 50%;}#sk-container-id-1 div.sk-parallel-item:last-child::after {align-self: flex-start;width: 50%;}#sk-container-id-1 div.sk-parallel-item:only-child::after {width: 0;}#sk-container-id-1 div.sk-dashed-wrapped {border: 1px dashed gray;margin: 0 0.4em 0.5em 0.4em;box-sizing: border-box;padding-bottom: 0.4em;background-color: white;}#sk-container-id-1 div.sk-label label {font-family: monospace;font-weight: bold;display: inline-block;line-height: 1.2em;}#sk-container-id-1 div.sk-label-container {text-align: center;}#sk-container-id-1 div.sk-container {/* jupyter's `normalize.less` sets `[hidden] { display: none; }` but bootstrap.min.css set `[hidden] { display: none !important; }` so we also need the `!important` here to be able to override the default hidden behavior on the sphinx rendered scikit-learn.org. See: https://github.com/scikit-learn/scikit-learn/issues/21755 */display: inline-block !important;position: relative;}#sk-container-id-1 div.sk-text-repr-fallback {display: none;}</style><div id=\"sk-container-id-1\" class=\"sk-top-container\"><div class=\"sk-text-repr-fallback\"><pre>SequentialFeatureSelector(estimator=LogisticRegression(),\n",
       "                          n_features_to_select=3)</pre><b>In a Jupyter environment, please rerun this cell to show the HTML representation or trust the notebook. <br />On GitHub, the HTML representation is unable to render, please try loading this page with nbviewer.org.</b></div><div class=\"sk-container\" hidden><div class=\"sk-item sk-dashed-wrapped\"><div class=\"sk-label-container\"><div class=\"sk-label sk-toggleable\"><input class=\"sk-toggleable__control sk-hidden--visually\" id=\"sk-estimator-id-1\" type=\"checkbox\" ><label for=\"sk-estimator-id-1\" class=\"sk-toggleable__label sk-toggleable__label-arrow\">SequentialFeatureSelector</label><div class=\"sk-toggleable__content\"><pre>SequentialFeatureSelector(estimator=LogisticRegression(),\n",
       "                          n_features_to_select=3)</pre></div></div></div><div class=\"sk-parallel\"><div class=\"sk-parallel-item\"><div class=\"sk-item\"><div class=\"sk-label-container\"><div class=\"sk-label sk-toggleable\"><input class=\"sk-toggleable__control sk-hidden--visually\" id=\"sk-estimator-id-2\" type=\"checkbox\" ><label for=\"sk-estimator-id-2\" class=\"sk-toggleable__label sk-toggleable__label-arrow\">estimator: LogisticRegression</label><div class=\"sk-toggleable__content\"><pre>LogisticRegression()</pre></div></div></div><div class=\"sk-serial\"><div class=\"sk-item\"><div class=\"sk-estimator sk-toggleable\"><input class=\"sk-toggleable__control sk-hidden--visually\" id=\"sk-estimator-id-3\" type=\"checkbox\" ><label for=\"sk-estimator-id-3\" class=\"sk-toggleable__label sk-toggleable__label-arrow\">LogisticRegression</label><div class=\"sk-toggleable__content\"><pre>LogisticRegression()</pre></div></div></div></div></div></div></div></div></div></div>"
      ],
      "text/plain": [
       "SequentialFeatureSelector(estimator=LogisticRegression(),\n",
       "                          n_features_to_select=3)"
      ]
     },
     "execution_count": 11,
     "metadata": {},
     "output_type": "execute_result"
    }
   ],
   "source": [
    "sfs.fit(X,y)"
   ]
  },
  {
   "cell_type": "code",
   "execution_count": 12,
   "id": "70c93071",
   "metadata": {},
   "outputs": [],
   "source": [
    "#sfs.get_support()"
   ]
  },
  {
   "cell_type": "code",
   "execution_count": 13,
   "id": "dbffd04e",
   "metadata": {},
   "outputs": [
    {
     "name": "stdout",
     "output_type": "stream",
     "text": [
      "Top 3 features selected by forward sequential selection:['loan_amnt', 'int_rate', 'revol_bal']\n"
     ]
    }
   ],
   "source": [
    "print(\"Top {} features selected by forward sequential selection:{}\"\\\n",
    "      .format(n_features, list(X.columns[sfs.get_support()])))\n"
   ]
  },
  {
   "cell_type": "code",
   "execution_count": 14,
   "id": "1f39da4f",
   "metadata": {},
   "outputs": [
    {
     "data": {
      "text/plain": [
       "['loan_amnt', 'int_rate', 'revol_bal']"
      ]
     },
     "execution_count": 14,
     "metadata": {},
     "output_type": "execute_result"
    }
   ],
   "source": [
    "feat = list(X.columns[sfs.get_support()])\n",
    "feat"
   ]
  },
  {
   "cell_type": "code",
   "execution_count": 15,
   "id": "d2d0e00e",
   "metadata": {},
   "outputs": [],
   "source": [
    "X_feat = data[feat]"
   ]
  },
  {
   "cell_type": "code",
   "execution_count": 16,
   "id": "eb0b2988",
   "metadata": {},
   "outputs": [
    {
     "data": {
      "text/plain": [
       "0       0.0\n",
       "1       0.0\n",
       "2       1.0\n",
       "3       1.0\n",
       "4       1.0\n",
       "       ... \n",
       "2274    1.0\n",
       "2275    1.0\n",
       "2276    0.0\n",
       "2277    0.0\n",
       "2278    1.0\n",
       "Name: loan_status_bin, Length: 2279, dtype: float64"
      ]
     },
     "execution_count": 16,
     "metadata": {},
     "output_type": "execute_result"
    }
   ],
   "source": [
    "y = data['loan_status_bin']\n",
    "y"
   ]
  },
  {
   "cell_type": "code",
   "execution_count": 17,
   "id": "a888c925",
   "metadata": {},
   "outputs": [],
   "source": [
    "lr_check = LogisticRegression()\n",
    "steps = [('model', lr_check)]\n",
    "pipeline = Pipeline(steps=steps)"
   ]
  },
  {
   "cell_type": "code",
   "execution_count": 18,
   "id": "0423b0b2",
   "metadata": {},
   "outputs": [
    {
     "name": "stdout",
     "output_type": "stream",
     "text": [
      "[0.78508772 0.78289474 0.78289474 0.7872807  0.78461538]\n",
      "0.7845546558704454\n"
     ]
    }
   ],
   "source": [
    "#Accuracy:\n",
    "\n",
    "cv = RepeatedStratifiedKFold(n_splits=5, n_repeats=1, random_state=1)\n",
    "scores = cross_val_score(pipeline, X_feat, y, scoring='accuracy', cv=cv, n_jobs=-1) \n",
    "print(scores)\n",
    "\n",
    "score = np.mean(scores)\n",
    "print(score)"
   ]
  },
  {
   "cell_type": "code",
   "execution_count": null,
   "id": "80613a5c",
   "metadata": {},
   "outputs": [],
   "source": []
  },
  {
   "cell_type": "code",
   "execution_count": 19,
   "id": "0e5c48bf",
   "metadata": {},
   "outputs": [],
   "source": [
    "from sklearn.ensemble import AdaBoostClassifier\n",
    "ada = AdaBoostClassifier()\n",
    "steps2 = [('model', ada)]\n",
    "pipeline2 = Pipeline(steps=steps2)"
   ]
  },
  {
   "cell_type": "code",
   "execution_count": 20,
   "id": "34d06f94",
   "metadata": {},
   "outputs": [
    {
     "name": "stdout",
     "output_type": "stream",
     "text": [
      "[0.77850877 0.78289474 0.78070175 0.7872807  0.78241758]\n",
      "0.7823607094659726\n"
     ]
    }
   ],
   "source": [
    "#Accuracy:\n",
    "\n",
    "cv = RepeatedStratifiedKFold(n_splits=5, n_repeats=1, random_state=1)\n",
    "scores = cross_val_score(pipeline2, X_feat, y, scoring='accuracy', cv=cv, n_jobs=-1) \n",
    "print(scores)\n",
    "\n",
    "score = np.mean(scores)\n",
    "print(score)"
   ]
  },
  {
   "cell_type": "code",
   "execution_count": null,
   "id": "379e763c",
   "metadata": {},
   "outputs": [],
   "source": []
  },
  {
   "cell_type": "code",
   "execution_count": 21,
   "id": "dd8bb743",
   "metadata": {},
   "outputs": [],
   "source": [
    "from sklearn.neural_network import MLPClassifier\n",
    "nn = MLPClassifier(alpha=1, max_iter=1000)\n",
    "steps3 = [('model', nn)]\n",
    "pipeline3 = Pipeline(steps=steps3)"
   ]
  },
  {
   "cell_type": "code",
   "execution_count": 22,
   "id": "69659651",
   "metadata": {},
   "outputs": [
    {
     "name": "stdout",
     "output_type": "stream",
     "text": [
      "[0.78289474 0.78289474 0.78289474 0.78508772 0.78461538]\n",
      "0.7836774628879892\n"
     ]
    }
   ],
   "source": [
    "#Accuracy:\n",
    "\n",
    "cv = RepeatedStratifiedKFold(n_splits=5, n_repeats=1, random_state=1)\n",
    "scores = cross_val_score(pipeline3, X_feat, y, scoring='accuracy', cv=cv, n_jobs=-1) \n",
    "print(scores)\n",
    "\n",
    "score = np.mean(scores)\n",
    "print(score)"
   ]
  },
  {
   "cell_type": "code",
   "execution_count": null,
   "id": "f5ed01b9",
   "metadata": {},
   "outputs": [],
   "source": []
  },
  {
   "cell_type": "code",
   "execution_count": 23,
   "id": "18cbf57c",
   "metadata": {},
   "outputs": [],
   "source": [
    "from sklearn.ensemble import GradientBoostingClassifier\n",
    "gb = GradientBoostingClassifier()\n",
    "steps4 = [('model', gb)]\n",
    "pipeline4 = Pipeline(steps=steps4)"
   ]
  },
  {
   "cell_type": "code",
   "execution_count": 24,
   "id": "82650289",
   "metadata": {},
   "outputs": [
    {
     "name": "stdout",
     "output_type": "stream",
     "text": [
      "[0.77412281 0.76754386 0.77850877 0.77412281 0.77802198]\n",
      "0.7744640447272026\n"
     ]
    }
   ],
   "source": [
    "#Accuracy:\n",
    "\n",
    "cv = RepeatedStratifiedKFold(n_splits=5, n_repeats=1, random_state=1)\n",
    "scores = cross_val_score(pipeline4, X_feat, y, scoring='accuracy', cv=cv, n_jobs=-1) \n",
    "print(scores)\n",
    "\n",
    "score = np.mean(scores)\n",
    "print(score)"
   ]
  },
  {
   "cell_type": "code",
   "execution_count": null,
   "id": "b095c060",
   "metadata": {},
   "outputs": [],
   "source": []
  },
  {
   "cell_type": "code",
   "execution_count": null,
   "id": "9df59e81",
   "metadata": {},
   "outputs": [],
   "source": []
  }
 ],
 "metadata": {
  "hide_input": false,
  "kernelspec": {
   "display_name": "Python 3 (ipykernel)",
   "language": "python",
   "name": "python3"
  },
  "language_info": {
   "codemirror_mode": {
    "name": "ipython",
    "version": 3
   },
   "file_extension": ".py",
   "mimetype": "text/x-python",
   "name": "python",
   "nbconvert_exporter": "python",
   "pygments_lexer": "ipython3",
   "version": "3.8.8"
  },
  "varInspector": {
   "cols": {
    "lenName": 16,
    "lenType": 16,
    "lenVar": 40
   },
   "kernels_config": {
    "python": {
     "delete_cmd_postfix": "",
     "delete_cmd_prefix": "del ",
     "library": "var_list.py",
     "varRefreshCmd": "print(var_dic_list())"
    },
    "r": {
     "delete_cmd_postfix": ") ",
     "delete_cmd_prefix": "rm(",
     "library": "var_list.r",
     "varRefreshCmd": "cat(var_dic_list()) "
    }
   },
   "types_to_exclude": [
    "module",
    "function",
    "builtin_function_or_method",
    "instance",
    "_Feature"
   ],
   "window_display": false
  }
 },
 "nbformat": 4,
 "nbformat_minor": 5
}
