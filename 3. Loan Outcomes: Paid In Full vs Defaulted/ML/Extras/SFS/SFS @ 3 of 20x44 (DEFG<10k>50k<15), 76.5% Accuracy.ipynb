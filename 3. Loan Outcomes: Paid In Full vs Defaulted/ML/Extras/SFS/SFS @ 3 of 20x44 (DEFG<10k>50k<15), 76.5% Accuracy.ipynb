{
 "cells": [
  {
   "cell_type": "code",
   "execution_count": 1,
   "id": "891650eb",
   "metadata": {},
   "outputs": [],
   "source": [
    "import pandas as pd\n",
    "from sklearn.linear_model import LogisticRegression\n",
    "from sklearn.feature_selection import SequentialFeatureSelector\n",
    "\n",
    "from imblearn.pipeline import Pipeline\n",
    "from sklearn.model_selection import RepeatedStratifiedKFold, cross_val_score"
   ]
  },
  {
   "cell_type": "code",
   "execution_count": 2,
   "id": "75e9e0cb",
   "metadata": {},
   "outputs": [],
   "source": [
    "pd.set_option(\"display.max_columns\", 200)\n",
    "pd.set_option(\"display.max_row\", 160)\n",
    "pd.set_option('max_colwidth', 200)"
   ]
  },
  {
   "cell_type": "code",
   "execution_count": 4,
   "id": "e4071527",
   "metadata": {},
   "outputs": [],
   "source": [
    "data = pd.read_csv('../../Data/20x44_DEFG105015.csv')"
   ]
  },
  {
   "cell_type": "code",
   "execution_count": 5,
   "id": "b397a6b0",
   "metadata": {},
   "outputs": [
    {
     "data": {
      "text/html": [
       "<div>\n",
       "<style scoped>\n",
       "    .dataframe tbody tr th:only-of-type {\n",
       "        vertical-align: middle;\n",
       "    }\n",
       "\n",
       "    .dataframe tbody tr th {\n",
       "        vertical-align: top;\n",
       "    }\n",
       "\n",
       "    .dataframe thead th {\n",
       "        text-align: right;\n",
       "    }\n",
       "</style>\n",
       "<table border=\"1\" class=\"dataframe\">\n",
       "  <thead>\n",
       "    <tr style=\"text-align: right;\">\n",
       "      <th></th>\n",
       "      <th>loan_amnt</th>\n",
       "      <th>annual_inc</th>\n",
       "      <th>dti</th>\n",
       "      <th>fico_range_low</th>\n",
       "      <th>fico_range_high</th>\n",
       "      <th>int_rate</th>\n",
       "      <th>installment</th>\n",
       "      <th>open_acc</th>\n",
       "      <th>total_acc</th>\n",
       "      <th>revol_bal</th>\n",
       "      <th>inq_last_6mths</th>\n",
       "      <th>delinq_2yrs</th>\n",
       "      <th>mths_since_last_delinq</th>\n",
       "      <th>acc_now_delinq</th>\n",
       "      <th>collections_12_mths_ex_med</th>\n",
       "      <th>pub_rec</th>\n",
       "      <th>months_cr_line</th>\n",
       "      <th>term</th>\n",
       "      <th>initial_list_status</th>\n",
       "      <th>grade</th>\n",
       "      <th>sub_grade</th>\n",
       "      <th>emp_length</th>\n",
       "      <th>ANY</th>\n",
       "      <th>MORTGAGE</th>\n",
       "      <th>OWN</th>\n",
       "      <th>RENT</th>\n",
       "      <th>car</th>\n",
       "      <th>credit_card</th>\n",
       "      <th>debt_consolidation</th>\n",
       "      <th>educational</th>\n",
       "      <th>home_improvement</th>\n",
       "      <th>house</th>\n",
       "      <th>major_purchase</th>\n",
       "      <th>medical</th>\n",
       "      <th>moving</th>\n",
       "      <th>other</th>\n",
       "      <th>renewable_energy</th>\n",
       "      <th>small_business</th>\n",
       "      <th>vacation</th>\n",
       "      <th>wedding</th>\n",
       "      <th>Not Verified</th>\n",
       "      <th>Source Verified</th>\n",
       "      <th>Verified</th>\n",
       "      <th>loan_status_bin</th>\n",
       "    </tr>\n",
       "  </thead>\n",
       "  <tbody>\n",
       "    <tr>\n",
       "      <th>0</th>\n",
       "      <td>-0.664160</td>\n",
       "      <td>-0.023755</td>\n",
       "      <td>-0.706543</td>\n",
       "      <td>1.833773</td>\n",
       "      <td>1.833773</td>\n",
       "      <td>-0.567883</td>\n",
       "      <td>-0.652099</td>\n",
       "      <td>-0.226954</td>\n",
       "      <td>-0.731263</td>\n",
       "      <td>-0.513210</td>\n",
       "      <td>1.245929</td>\n",
       "      <td>0.409773</td>\n",
       "      <td>-0.278750</td>\n",
       "      <td>-0.070589</td>\n",
       "      <td>-0.149713</td>\n",
       "      <td>-0.425914</td>\n",
       "      <td>-0.797836</td>\n",
       "      <td>-0.269164</td>\n",
       "      <td>1.417837</td>\n",
       "      <td>-0.061924</td>\n",
       "      <td>0.504395</td>\n",
       "      <td>-0.438425</td>\n",
       "      <td>-0.030504</td>\n",
       "      <td>-0.725596</td>\n",
       "      <td>-0.360968</td>\n",
       "      <td>0.925021</td>\n",
       "      <td>-0.127976</td>\n",
       "      <td>-0.220791</td>\n",
       "      <td>-0.755699</td>\n",
       "      <td>-0.017606</td>\n",
       "      <td>3.406680</td>\n",
       "      <td>-0.153198</td>\n",
       "      <td>-0.19396</td>\n",
       "      <td>-0.208143</td>\n",
       "      <td>-0.227652</td>\n",
       "      <td>-0.571267</td>\n",
       "      <td>-0.074895</td>\n",
       "      <td>-0.250822</td>\n",
       "      <td>-0.162479</td>\n",
       "      <td>-0.088361</td>\n",
       "      <td>-0.589398</td>\n",
       "      <td>1.219856</td>\n",
       "      <td>-0.718147</td>\n",
       "      <td>0.0</td>\n",
       "    </tr>\n",
       "    <tr>\n",
       "      <th>1</th>\n",
       "      <td>-0.928384</td>\n",
       "      <td>-0.205881</td>\n",
       "      <td>1.267538</td>\n",
       "      <td>0.096737</td>\n",
       "      <td>0.096737</td>\n",
       "      <td>0.610386</td>\n",
       "      <td>-0.863047</td>\n",
       "      <td>-0.637137</td>\n",
       "      <td>-0.819168</td>\n",
       "      <td>-0.393781</td>\n",
       "      <td>0.468999</td>\n",
       "      <td>-0.442798</td>\n",
       "      <td>-0.863295</td>\n",
       "      <td>-0.070589</td>\n",
       "      <td>-0.149713</td>\n",
       "      <td>-0.425914</td>\n",
       "      <td>0.398094</td>\n",
       "      <td>-0.269164</td>\n",
       "      <td>1.417837</td>\n",
       "      <td>1.297452</td>\n",
       "      <td>1.448344</td>\n",
       "      <td>-1.496217</td>\n",
       "      <td>-0.030504</td>\n",
       "      <td>1.378177</td>\n",
       "      <td>-0.360968</td>\n",
       "      <td>-1.081056</td>\n",
       "      <td>-0.127976</td>\n",
       "      <td>-0.220791</td>\n",
       "      <td>1.323278</td>\n",
       "      <td>-0.017606</td>\n",
       "      <td>-0.293541</td>\n",
       "      <td>-0.153198</td>\n",
       "      <td>-0.19396</td>\n",
       "      <td>-0.208143</td>\n",
       "      <td>-0.227652</td>\n",
       "      <td>-0.571267</td>\n",
       "      <td>-0.074895</td>\n",
       "      <td>-0.250822</td>\n",
       "      <td>-0.162479</td>\n",
       "      <td>-0.088361</td>\n",
       "      <td>-0.589398</td>\n",
       "      <td>1.219856</td>\n",
       "      <td>-0.718147</td>\n",
       "      <td>0.0</td>\n",
       "    </tr>\n",
       "    <tr>\n",
       "      <th>2</th>\n",
       "      <td>0.931751</td>\n",
       "      <td>0.071267</td>\n",
       "      <td>-0.910159</td>\n",
       "      <td>1.089329</td>\n",
       "      <td>1.089329</td>\n",
       "      <td>1.784386</td>\n",
       "      <td>1.176933</td>\n",
       "      <td>-0.226954</td>\n",
       "      <td>-0.819168</td>\n",
       "      <td>-0.213828</td>\n",
       "      <td>-1.084861</td>\n",
       "      <td>-0.442798</td>\n",
       "      <td>-0.863295</td>\n",
       "      <td>-0.070589</td>\n",
       "      <td>-0.149713</td>\n",
       "      <td>-0.425914</td>\n",
       "      <td>-1.334784</td>\n",
       "      <td>-0.269164</td>\n",
       "      <td>1.417837</td>\n",
       "      <td>2.656828</td>\n",
       "      <td>2.392294</td>\n",
       "      <td>-0.438425</td>\n",
       "      <td>-0.030504</td>\n",
       "      <td>-0.725596</td>\n",
       "      <td>-0.360968</td>\n",
       "      <td>0.925021</td>\n",
       "      <td>-0.127976</td>\n",
       "      <td>-0.220791</td>\n",
       "      <td>-0.755699</td>\n",
       "      <td>-0.017606</td>\n",
       "      <td>-0.293541</td>\n",
       "      <td>-0.153198</td>\n",
       "      <td>-0.19396</td>\n",
       "      <td>-0.208143</td>\n",
       "      <td>-0.227652</td>\n",
       "      <td>-0.571267</td>\n",
       "      <td>-0.074895</td>\n",
       "      <td>3.986890</td>\n",
       "      <td>-0.162479</td>\n",
       "      <td>-0.088361</td>\n",
       "      <td>-0.589398</td>\n",
       "      <td>1.219856</td>\n",
       "      <td>-0.718147</td>\n",
       "      <td>1.0</td>\n",
       "    </tr>\n",
       "    <tr>\n",
       "      <th>3</th>\n",
       "      <td>1.608163</td>\n",
       "      <td>0.229638</td>\n",
       "      <td>0.577230</td>\n",
       "      <td>0.096737</td>\n",
       "      <td>0.096737</td>\n",
       "      <td>-0.777068</td>\n",
       "      <td>1.578133</td>\n",
       "      <td>-0.226954</td>\n",
       "      <td>-0.291743</td>\n",
       "      <td>-0.216527</td>\n",
       "      <td>-1.084861</td>\n",
       "      <td>-0.442798</td>\n",
       "      <td>1.250061</td>\n",
       "      <td>-0.070589</td>\n",
       "      <td>-0.149713</td>\n",
       "      <td>3.486114</td>\n",
       "      <td>-0.358515</td>\n",
       "      <td>-0.269164</td>\n",
       "      <td>1.417837</td>\n",
       "      <td>-0.061924</td>\n",
       "      <td>0.504395</td>\n",
       "      <td>-1.496217</td>\n",
       "      <td>-0.030504</td>\n",
       "      <td>-0.725596</td>\n",
       "      <td>-0.360968</td>\n",
       "      <td>0.925021</td>\n",
       "      <td>-0.127976</td>\n",
       "      <td>-0.220791</td>\n",
       "      <td>1.323278</td>\n",
       "      <td>-0.017606</td>\n",
       "      <td>-0.293541</td>\n",
       "      <td>-0.153198</td>\n",
       "      <td>-0.19396</td>\n",
       "      <td>-0.208143</td>\n",
       "      <td>-0.227652</td>\n",
       "      <td>-0.571267</td>\n",
       "      <td>-0.074895</td>\n",
       "      <td>-0.250822</td>\n",
       "      <td>-0.162479</td>\n",
       "      <td>-0.088361</td>\n",
       "      <td>-0.589398</td>\n",
       "      <td>1.219856</td>\n",
       "      <td>-0.718147</td>\n",
       "      <td>1.0</td>\n",
       "    </tr>\n",
       "    <tr>\n",
       "      <th>4</th>\n",
       "      <td>-0.917815</td>\n",
       "      <td>-0.166288</td>\n",
       "      <td>0.070674</td>\n",
       "      <td>-0.647707</td>\n",
       "      <td>-0.647707</td>\n",
       "      <td>-0.777068</td>\n",
       "      <td>-0.912962</td>\n",
       "      <td>0.798502</td>\n",
       "      <td>0.851011</td>\n",
       "      <td>0.024086</td>\n",
       "      <td>0.468999</td>\n",
       "      <td>-0.442798</td>\n",
       "      <td>-0.863295</td>\n",
       "      <td>-0.070589</td>\n",
       "      <td>-0.149713</td>\n",
       "      <td>-0.425914</td>\n",
       "      <td>-0.541565</td>\n",
       "      <td>-0.269164</td>\n",
       "      <td>1.417837</td>\n",
       "      <td>-0.061924</td>\n",
       "      <td>0.504395</td>\n",
       "      <td>-0.967321</td>\n",
       "      <td>-0.030504</td>\n",
       "      <td>1.378177</td>\n",
       "      <td>-0.360968</td>\n",
       "      <td>-1.081056</td>\n",
       "      <td>-0.127976</td>\n",
       "      <td>-0.220791</td>\n",
       "      <td>1.323278</td>\n",
       "      <td>-0.017606</td>\n",
       "      <td>-0.293541</td>\n",
       "      <td>-0.153198</td>\n",
       "      <td>-0.19396</td>\n",
       "      <td>-0.208143</td>\n",
       "      <td>-0.227652</td>\n",
       "      <td>-0.571267</td>\n",
       "      <td>-0.074895</td>\n",
       "      <td>-0.250822</td>\n",
       "      <td>-0.162479</td>\n",
       "      <td>-0.088361</td>\n",
       "      <td>-0.589398</td>\n",
       "      <td>1.219856</td>\n",
       "      <td>-0.718147</td>\n",
       "      <td>1.0</td>\n",
       "    </tr>\n",
       "  </tbody>\n",
       "</table>\n",
       "</div>"
      ],
      "text/plain": [
       "   loan_amnt  annual_inc       dti  fico_range_low  fico_range_high  int_rate  \\\n",
       "0  -0.664160   -0.023755 -0.706543        1.833773         1.833773 -0.567883   \n",
       "1  -0.928384   -0.205881  1.267538        0.096737         0.096737  0.610386   \n",
       "2   0.931751    0.071267 -0.910159        1.089329         1.089329  1.784386   \n",
       "3   1.608163    0.229638  0.577230        0.096737         0.096737 -0.777068   \n",
       "4  -0.917815   -0.166288  0.070674       -0.647707        -0.647707 -0.777068   \n",
       "\n",
       "   installment  open_acc  total_acc  revol_bal  inq_last_6mths  delinq_2yrs  \\\n",
       "0    -0.652099 -0.226954  -0.731263  -0.513210        1.245929     0.409773   \n",
       "1    -0.863047 -0.637137  -0.819168  -0.393781        0.468999    -0.442798   \n",
       "2     1.176933 -0.226954  -0.819168  -0.213828       -1.084861    -0.442798   \n",
       "3     1.578133 -0.226954  -0.291743  -0.216527       -1.084861    -0.442798   \n",
       "4    -0.912962  0.798502   0.851011   0.024086        0.468999    -0.442798   \n",
       "\n",
       "   mths_since_last_delinq  acc_now_delinq  collections_12_mths_ex_med  \\\n",
       "0               -0.278750       -0.070589                   -0.149713   \n",
       "1               -0.863295       -0.070589                   -0.149713   \n",
       "2               -0.863295       -0.070589                   -0.149713   \n",
       "3                1.250061       -0.070589                   -0.149713   \n",
       "4               -0.863295       -0.070589                   -0.149713   \n",
       "\n",
       "    pub_rec  months_cr_line      term  initial_list_status     grade  \\\n",
       "0 -0.425914       -0.797836 -0.269164             1.417837 -0.061924   \n",
       "1 -0.425914        0.398094 -0.269164             1.417837  1.297452   \n",
       "2 -0.425914       -1.334784 -0.269164             1.417837  2.656828   \n",
       "3  3.486114       -0.358515 -0.269164             1.417837 -0.061924   \n",
       "4 -0.425914       -0.541565 -0.269164             1.417837 -0.061924   \n",
       "\n",
       "   sub_grade  emp_length       ANY  MORTGAGE       OWN      RENT       car  \\\n",
       "0   0.504395   -0.438425 -0.030504 -0.725596 -0.360968  0.925021 -0.127976   \n",
       "1   1.448344   -1.496217 -0.030504  1.378177 -0.360968 -1.081056 -0.127976   \n",
       "2   2.392294   -0.438425 -0.030504 -0.725596 -0.360968  0.925021 -0.127976   \n",
       "3   0.504395   -1.496217 -0.030504 -0.725596 -0.360968  0.925021 -0.127976   \n",
       "4   0.504395   -0.967321 -0.030504  1.378177 -0.360968 -1.081056 -0.127976   \n",
       "\n",
       "   credit_card  debt_consolidation  educational  home_improvement     house  \\\n",
       "0    -0.220791           -0.755699    -0.017606          3.406680 -0.153198   \n",
       "1    -0.220791            1.323278    -0.017606         -0.293541 -0.153198   \n",
       "2    -0.220791           -0.755699    -0.017606         -0.293541 -0.153198   \n",
       "3    -0.220791            1.323278    -0.017606         -0.293541 -0.153198   \n",
       "4    -0.220791            1.323278    -0.017606         -0.293541 -0.153198   \n",
       "\n",
       "   major_purchase   medical    moving     other  renewable_energy  \\\n",
       "0        -0.19396 -0.208143 -0.227652 -0.571267         -0.074895   \n",
       "1        -0.19396 -0.208143 -0.227652 -0.571267         -0.074895   \n",
       "2        -0.19396 -0.208143 -0.227652 -0.571267         -0.074895   \n",
       "3        -0.19396 -0.208143 -0.227652 -0.571267         -0.074895   \n",
       "4        -0.19396 -0.208143 -0.227652 -0.571267         -0.074895   \n",
       "\n",
       "   small_business  vacation   wedding  Not Verified  Source Verified  \\\n",
       "0       -0.250822 -0.162479 -0.088361     -0.589398         1.219856   \n",
       "1       -0.250822 -0.162479 -0.088361     -0.589398         1.219856   \n",
       "2        3.986890 -0.162479 -0.088361     -0.589398         1.219856   \n",
       "3       -0.250822 -0.162479 -0.088361     -0.589398         1.219856   \n",
       "4       -0.250822 -0.162479 -0.088361     -0.589398         1.219856   \n",
       "\n",
       "   Verified  loan_status_bin  \n",
       "0 -0.718147              0.0  \n",
       "1 -0.718147              0.0  \n",
       "2 -0.718147              1.0  \n",
       "3 -0.718147              1.0  \n",
       "4 -0.718147              1.0  "
      ]
     },
     "execution_count": 5,
     "metadata": {},
     "output_type": "execute_result"
    }
   ],
   "source": [
    "data.head(5)"
   ]
  },
  {
   "cell_type": "code",
   "execution_count": 6,
   "id": "e2bc504c",
   "metadata": {},
   "outputs": [
    {
     "data": {
      "text/plain": [
       "(3227, 44)"
      ]
     },
     "execution_count": 6,
     "metadata": {},
     "output_type": "execute_result"
    }
   ],
   "source": [
    "data.shape"
   ]
  },
  {
   "cell_type": "code",
   "execution_count": 7,
   "id": "79f7fea2",
   "metadata": {},
   "outputs": [
    {
     "data": {
      "text/plain": [
       "1.0    2470\n",
       "0.0     757\n",
       "Name: loan_status_bin, dtype: int64"
      ]
     },
     "execution_count": 7,
     "metadata": {},
     "output_type": "execute_result"
    }
   ],
   "source": [
    "data.loan_status_bin.value_counts()"
   ]
  },
  {
   "cell_type": "code",
   "execution_count": 8,
   "id": "c5f95e95",
   "metadata": {},
   "outputs": [
    {
     "data": {
      "text/plain": [
       "0.7654167957855593"
      ]
     },
     "execution_count": 8,
     "metadata": {},
     "output_type": "execute_result"
    }
   ],
   "source": [
    "#Null Model (or random investment) will yield, 59.3% of picking a good loan: \n",
    "data.loan_status_bin.value_counts()[1] / len(data)"
   ]
  },
  {
   "cell_type": "code",
   "execution_count": 9,
   "id": "ff93c60b",
   "metadata": {},
   "outputs": [
    {
     "data": {
      "text/plain": [
       "(3227, 43)"
      ]
     },
     "execution_count": 9,
     "metadata": {},
     "output_type": "execute_result"
    }
   ],
   "source": [
    "X = data.drop('loan_status_bin', axis=1)\n",
    "X.shape"
   ]
  },
  {
   "cell_type": "code",
   "execution_count": 10,
   "id": "d6f47bde",
   "metadata": {},
   "outputs": [],
   "source": [
    "y = data['loan_status_bin']"
   ]
  },
  {
   "cell_type": "code",
   "execution_count": 11,
   "id": "e41f44d6",
   "metadata": {},
   "outputs": [],
   "source": [
    "n_features = 3\n",
    "lr = LogisticRegression()\n",
    "sfs = SequentialFeatureSelector(lr, n_features_to_select=n_features)"
   ]
  },
  {
   "cell_type": "code",
   "execution_count": 12,
   "id": "b4eb8b6c",
   "metadata": {},
   "outputs": [
    {
     "data": {
      "text/html": [
       "<style>#sk-container-id-1 {color: black;background-color: white;}#sk-container-id-1 pre{padding: 0;}#sk-container-id-1 div.sk-toggleable {background-color: white;}#sk-container-id-1 label.sk-toggleable__label {cursor: pointer;display: block;width: 100%;margin-bottom: 0;padding: 0.3em;box-sizing: border-box;text-align: center;}#sk-container-id-1 label.sk-toggleable__label-arrow:before {content: \"▸\";float: left;margin-right: 0.25em;color: #696969;}#sk-container-id-1 label.sk-toggleable__label-arrow:hover:before {color: black;}#sk-container-id-1 div.sk-estimator:hover label.sk-toggleable__label-arrow:before {color: black;}#sk-container-id-1 div.sk-toggleable__content {max-height: 0;max-width: 0;overflow: hidden;text-align: left;background-color: #f0f8ff;}#sk-container-id-1 div.sk-toggleable__content pre {margin: 0.2em;color: black;border-radius: 0.25em;background-color: #f0f8ff;}#sk-container-id-1 input.sk-toggleable__control:checked~div.sk-toggleable__content {max-height: 200px;max-width: 100%;overflow: auto;}#sk-container-id-1 input.sk-toggleable__control:checked~label.sk-toggleable__label-arrow:before {content: \"▾\";}#sk-container-id-1 div.sk-estimator input.sk-toggleable__control:checked~label.sk-toggleable__label {background-color: #d4ebff;}#sk-container-id-1 div.sk-label input.sk-toggleable__control:checked~label.sk-toggleable__label {background-color: #d4ebff;}#sk-container-id-1 input.sk-hidden--visually {border: 0;clip: rect(1px 1px 1px 1px);clip: rect(1px, 1px, 1px, 1px);height: 1px;margin: -1px;overflow: hidden;padding: 0;position: absolute;width: 1px;}#sk-container-id-1 div.sk-estimator {font-family: monospace;background-color: #f0f8ff;border: 1px dotted black;border-radius: 0.25em;box-sizing: border-box;margin-bottom: 0.5em;}#sk-container-id-1 div.sk-estimator:hover {background-color: #d4ebff;}#sk-container-id-1 div.sk-parallel-item::after {content: \"\";width: 100%;border-bottom: 1px solid gray;flex-grow: 1;}#sk-container-id-1 div.sk-label:hover label.sk-toggleable__label {background-color: #d4ebff;}#sk-container-id-1 div.sk-serial::before {content: \"\";position: absolute;border-left: 1px solid gray;box-sizing: border-box;top: 0;bottom: 0;left: 50%;z-index: 0;}#sk-container-id-1 div.sk-serial {display: flex;flex-direction: column;align-items: center;background-color: white;padding-right: 0.2em;padding-left: 0.2em;position: relative;}#sk-container-id-1 div.sk-item {position: relative;z-index: 1;}#sk-container-id-1 div.sk-parallel {display: flex;align-items: stretch;justify-content: center;background-color: white;position: relative;}#sk-container-id-1 div.sk-item::before, #sk-container-id-1 div.sk-parallel-item::before {content: \"\";position: absolute;border-left: 1px solid gray;box-sizing: border-box;top: 0;bottom: 0;left: 50%;z-index: -1;}#sk-container-id-1 div.sk-parallel-item {display: flex;flex-direction: column;z-index: 1;position: relative;background-color: white;}#sk-container-id-1 div.sk-parallel-item:first-child::after {align-self: flex-end;width: 50%;}#sk-container-id-1 div.sk-parallel-item:last-child::after {align-self: flex-start;width: 50%;}#sk-container-id-1 div.sk-parallel-item:only-child::after {width: 0;}#sk-container-id-1 div.sk-dashed-wrapped {border: 1px dashed gray;margin: 0 0.4em 0.5em 0.4em;box-sizing: border-box;padding-bottom: 0.4em;background-color: white;}#sk-container-id-1 div.sk-label label {font-family: monospace;font-weight: bold;display: inline-block;line-height: 1.2em;}#sk-container-id-1 div.sk-label-container {text-align: center;}#sk-container-id-1 div.sk-container {/* jupyter's `normalize.less` sets `[hidden] { display: none; }` but bootstrap.min.css set `[hidden] { display: none !important; }` so we also need the `!important` here to be able to override the default hidden behavior on the sphinx rendered scikit-learn.org. See: https://github.com/scikit-learn/scikit-learn/issues/21755 */display: inline-block !important;position: relative;}#sk-container-id-1 div.sk-text-repr-fallback {display: none;}</style><div id=\"sk-container-id-1\" class=\"sk-top-container\"><div class=\"sk-text-repr-fallback\"><pre>SequentialFeatureSelector(estimator=LogisticRegression(),\n",
       "                          n_features_to_select=3)</pre><b>In a Jupyter environment, please rerun this cell to show the HTML representation or trust the notebook. <br />On GitHub, the HTML representation is unable to render, please try loading this page with nbviewer.org.</b></div><div class=\"sk-container\" hidden><div class=\"sk-item sk-dashed-wrapped\"><div class=\"sk-label-container\"><div class=\"sk-label sk-toggleable\"><input class=\"sk-toggleable__control sk-hidden--visually\" id=\"sk-estimator-id-1\" type=\"checkbox\" ><label for=\"sk-estimator-id-1\" class=\"sk-toggleable__label sk-toggleable__label-arrow\">SequentialFeatureSelector</label><div class=\"sk-toggleable__content\"><pre>SequentialFeatureSelector(estimator=LogisticRegression(),\n",
       "                          n_features_to_select=3)</pre></div></div></div><div class=\"sk-parallel\"><div class=\"sk-parallel-item\"><div class=\"sk-item\"><div class=\"sk-label-container\"><div class=\"sk-label sk-toggleable\"><input class=\"sk-toggleable__control sk-hidden--visually\" id=\"sk-estimator-id-2\" type=\"checkbox\" ><label for=\"sk-estimator-id-2\" class=\"sk-toggleable__label sk-toggleable__label-arrow\">estimator: LogisticRegression</label><div class=\"sk-toggleable__content\"><pre>LogisticRegression()</pre></div></div></div><div class=\"sk-serial\"><div class=\"sk-item\"><div class=\"sk-estimator sk-toggleable\"><input class=\"sk-toggleable__control sk-hidden--visually\" id=\"sk-estimator-id-3\" type=\"checkbox\" ><label for=\"sk-estimator-id-3\" class=\"sk-toggleable__label sk-toggleable__label-arrow\">LogisticRegression</label><div class=\"sk-toggleable__content\"><pre>LogisticRegression()</pre></div></div></div></div></div></div></div></div></div></div>"
      ],
      "text/plain": [
       "SequentialFeatureSelector(estimator=LogisticRegression(),\n",
       "                          n_features_to_select=3)"
      ]
     },
     "execution_count": 12,
     "metadata": {},
     "output_type": "execute_result"
    }
   ],
   "source": [
    "sfs.fit(X,y)"
   ]
  },
  {
   "cell_type": "code",
   "execution_count": 13,
   "id": "70c93071",
   "metadata": {},
   "outputs": [],
   "source": [
    "#sfs.get_support()"
   ]
  },
  {
   "cell_type": "code",
   "execution_count": 14,
   "id": "dbffd04e",
   "metadata": {},
   "outputs": [
    {
     "name": "stdout",
     "output_type": "stream",
     "text": [
      "Top 3 features selected by forward sequential selection:['loan_amnt', 'int_rate', 'total_acc']\n"
     ]
    }
   ],
   "source": [
    "print(\"Top {} features selected by forward sequential selection:{}\"\\\n",
    "      .format(n_features, list(X.columns[sfs.get_support()])))\n"
   ]
  },
  {
   "cell_type": "code",
   "execution_count": 15,
   "id": "1f39da4f",
   "metadata": {},
   "outputs": [
    {
     "data": {
      "text/plain": [
       "['loan_amnt', 'int_rate', 'total_acc']"
      ]
     },
     "execution_count": 15,
     "metadata": {},
     "output_type": "execute_result"
    }
   ],
   "source": [
    "feat = list(X.columns[sfs.get_support()])\n",
    "feat"
   ]
  },
  {
   "cell_type": "code",
   "execution_count": 16,
   "id": "d2d0e00e",
   "metadata": {},
   "outputs": [],
   "source": [
    "X_feat = data[feat]"
   ]
  },
  {
   "cell_type": "code",
   "execution_count": 17,
   "id": "eb0b2988",
   "metadata": {},
   "outputs": [
    {
     "data": {
      "text/plain": [
       "0       0.0\n",
       "1       0.0\n",
       "2       1.0\n",
       "3       1.0\n",
       "4       1.0\n",
       "       ... \n",
       "3222    1.0\n",
       "3223    0.0\n",
       "3224    0.0\n",
       "3225    1.0\n",
       "3226    1.0\n",
       "Name: loan_status_bin, Length: 3227, dtype: float64"
      ]
     },
     "execution_count": 17,
     "metadata": {},
     "output_type": "execute_result"
    }
   ],
   "source": [
    "y = data['loan_status_bin']\n",
    "y"
   ]
  },
  {
   "cell_type": "code",
   "execution_count": 18,
   "id": "a888c925",
   "metadata": {},
   "outputs": [],
   "source": [
    "lr_check = LogisticRegression()\n",
    "steps = [('model', lr_check)]\n",
    "pipeline = Pipeline(steps=steps)"
   ]
  },
  {
   "cell_type": "code",
   "execution_count": 19,
   "id": "0423b0b2",
   "metadata": {},
   "outputs": [
    {
     "name": "stdout",
     "output_type": "stream",
     "text": [
      "[0.76470588 0.76160991 0.76589147 0.76589147 0.76744186]\n",
      "0.7651081191350468\n"
     ]
    }
   ],
   "source": [
    "#Accuracy:\n",
    "\n",
    "cv = RepeatedStratifiedKFold(n_splits=5, n_repeats=1, random_state=1)\n",
    "scores = cross_val_score(pipeline, X_feat, y, scoring='accuracy', cv=cv, n_jobs=-1) \n",
    "print(scores)\n",
    "\n",
    "score = np.mean(scores)\n",
    "print(score)"
   ]
  },
  {
   "cell_type": "code",
   "execution_count": null,
   "id": "80613a5c",
   "metadata": {},
   "outputs": [],
   "source": []
  },
  {
   "cell_type": "code",
   "execution_count": 20,
   "id": "0e5c48bf",
   "metadata": {},
   "outputs": [],
   "source": [
    "from sklearn.ensemble import AdaBoostClassifier\n",
    "ada = AdaBoostClassifier()\n",
    "steps2 = [('model', ada)]\n",
    "pipeline2 = Pipeline(steps=steps2)"
   ]
  },
  {
   "cell_type": "code",
   "execution_count": 21,
   "id": "34d06f94",
   "metadata": {},
   "outputs": [
    {
     "name": "stdout",
     "output_type": "stream",
     "text": [
      "[0.76780186 0.74922601 0.75658915 0.7627907  0.77054264]\n",
      "0.7613900688794489\n"
     ]
    }
   ],
   "source": [
    "#Accuracy:\n",
    "\n",
    "cv = RepeatedStratifiedKFold(n_splits=5, n_repeats=1, random_state=1)\n",
    "scores = cross_val_score(pipeline2, X_feat, y, scoring='accuracy', cv=cv, n_jobs=-1) \n",
    "print(scores)\n",
    "\n",
    "score = np.mean(scores)\n",
    "print(score)"
   ]
  },
  {
   "cell_type": "code",
   "execution_count": null,
   "id": "379e763c",
   "metadata": {},
   "outputs": [],
   "source": []
  },
  {
   "cell_type": "code",
   "execution_count": 22,
   "id": "dd8bb743",
   "metadata": {},
   "outputs": [],
   "source": [
    "from sklearn.neural_network import MLPClassifier\n",
    "nn = MLPClassifier(alpha=1, max_iter=1000)\n",
    "steps3 = [('model', nn)]\n",
    "pipeline3 = Pipeline(steps=steps3)"
   ]
  },
  {
   "cell_type": "code",
   "execution_count": 23,
   "id": "69659651",
   "metadata": {},
   "outputs": [
    {
     "name": "stdout",
     "output_type": "stream",
     "text": [
      "[0.76470588 0.76160991 0.76589147 0.76899225 0.76589147]\n",
      "0.7654181966544267\n"
     ]
    }
   ],
   "source": [
    "#Accuracy:\n",
    "\n",
    "cv = RepeatedStratifiedKFold(n_splits=5, n_repeats=1, random_state=1)\n",
    "scores = cross_val_score(pipeline3, X_feat, y, scoring='accuracy', cv=cv, n_jobs=-1) \n",
    "print(scores)\n",
    "\n",
    "score = np.mean(scores)\n",
    "print(score)"
   ]
  },
  {
   "cell_type": "code",
   "execution_count": null,
   "id": "f5ed01b9",
   "metadata": {},
   "outputs": [],
   "source": []
  },
  {
   "cell_type": "code",
   "execution_count": 24,
   "id": "18cbf57c",
   "metadata": {},
   "outputs": [],
   "source": [
    "from sklearn.ensemble import GradientBoostingClassifier\n",
    "gb = GradientBoostingClassifier()\n",
    "steps4 = [('model', gb)]\n",
    "pipeline4 = Pipeline(steps=steps4)"
   ]
  },
  {
   "cell_type": "code",
   "execution_count": 25,
   "id": "82650289",
   "metadata": {},
   "outputs": [
    {
     "name": "stdout",
     "output_type": "stream",
     "text": [
      "[0.76470588 0.73839009 0.75503876 0.75503876 0.76744186]\n",
      "0.7561230710154319\n"
     ]
    }
   ],
   "source": [
    "#Accuracy:\n",
    "\n",
    "cv = RepeatedStratifiedKFold(n_splits=5, n_repeats=1, random_state=1)\n",
    "scores = cross_val_score(pipeline4, X_feat, y, scoring='accuracy', cv=cv, n_jobs=-1) \n",
    "print(scores)\n",
    "\n",
    "score = np.mean(scores)\n",
    "print(score)"
   ]
  },
  {
   "cell_type": "code",
   "execution_count": null,
   "id": "b095c060",
   "metadata": {},
   "outputs": [],
   "source": []
  },
  {
   "cell_type": "code",
   "execution_count": null,
   "id": "9df59e81",
   "metadata": {},
   "outputs": [],
   "source": []
  }
 ],
 "metadata": {
  "hide_input": false,
  "kernelspec": {
   "display_name": "Python 3 (ipykernel)",
   "language": "python",
   "name": "python3"
  },
  "language_info": {
   "codemirror_mode": {
    "name": "ipython",
    "version": 3
   },
   "file_extension": ".py",
   "mimetype": "text/x-python",
   "name": "python",
   "nbconvert_exporter": "python",
   "pygments_lexer": "ipython3",
   "version": "3.8.8"
  },
  "varInspector": {
   "cols": {
    "lenName": 16,
    "lenType": 16,
    "lenVar": 40
   },
   "kernels_config": {
    "python": {
     "delete_cmd_postfix": "",
     "delete_cmd_prefix": "del ",
     "library": "var_list.py",
     "varRefreshCmd": "print(var_dic_list())"
    },
    "r": {
     "delete_cmd_postfix": ") ",
     "delete_cmd_prefix": "rm(",
     "library": "var_list.r",
     "varRefreshCmd": "cat(var_dic_list()) "
    }
   },
   "types_to_exclude": [
    "module",
    "function",
    "builtin_function_or_method",
    "instance",
    "_Feature"
   ],
   "window_display": false
  }
 },
 "nbformat": 4,
 "nbformat_minor": 5
}
