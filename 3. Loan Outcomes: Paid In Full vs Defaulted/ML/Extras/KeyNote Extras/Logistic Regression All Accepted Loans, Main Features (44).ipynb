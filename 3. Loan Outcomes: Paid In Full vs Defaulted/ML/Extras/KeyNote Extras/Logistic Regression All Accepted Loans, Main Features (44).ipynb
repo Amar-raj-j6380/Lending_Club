{
 "cells": [
  {
   "cell_type": "code",
   "execution_count": 1,
   "id": "6f4648b5",
   "metadata": {},
   "outputs": [],
   "source": [
    "import pandas as pd\n",
    "import numpy as np\n",
    "import seaborn as sns\n",
    "import copy as cp\n",
    "import matplotlib.pyplot as plt\n",
    "\n",
    "from sklearn.model_selection import cross_val_score, cross_val_predict \n",
    "from sklearn.model_selection import train_test_split\n",
    "from sklearn.model_selection import RepeatedStratifiedKFold\n",
    "from imblearn.pipeline import Pipeline\n",
    "from imblearn.over_sampling import SMOTE\n",
    "\n",
    "from sklearn.linear_model import LogisticRegression\n",
    "from sklearn.metrics import roc_auc_score, roc_curve, precision_recall_curve\n",
    "from sklearn.metrics import confusion_matrix, accuracy_score\n",
    "\n",
    "from typing import Tuple"
   ]
  },
  {
   "cell_type": "code",
   "execution_count": 2,
   "id": "a6b2eaad",
   "metadata": {},
   "outputs": [],
   "source": [
    "pd.set_option(\"display.max_columns\", 200)\n",
    "pd.set_option(\"display.max_row\", 160)\n",
    "pd.set_option('max_colwidth', 200)"
   ]
  },
  {
   "cell_type": "code",
   "execution_count": 3,
   "id": "acc59130",
   "metadata": {},
   "outputs": [
    {
     "data": {
      "text/html": [
       "<div>\n",
       "<style scoped>\n",
       "    .dataframe tbody tr th:only-of-type {\n",
       "        vertical-align: middle;\n",
       "    }\n",
       "\n",
       "    .dataframe tbody tr th {\n",
       "        vertical-align: top;\n",
       "    }\n",
       "\n",
       "    .dataframe thead th {\n",
       "        text-align: right;\n",
       "    }\n",
       "</style>\n",
       "<table border=\"1\" class=\"dataframe\">\n",
       "  <thead>\n",
       "    <tr style=\"text-align: right;\">\n",
       "      <th></th>\n",
       "      <th>loan_amnt</th>\n",
       "      <th>annual_inc</th>\n",
       "      <th>dti</th>\n",
       "      <th>fico_range_low</th>\n",
       "      <th>fico_range_high</th>\n",
       "      <th>int_rate</th>\n",
       "      <th>installment</th>\n",
       "      <th>open_acc</th>\n",
       "      <th>total_acc</th>\n",
       "      <th>revol_bal</th>\n",
       "      <th>delinq_2yrs</th>\n",
       "      <th>mths_since_last_delinq</th>\n",
       "      <th>acc_now_delinq</th>\n",
       "      <th>pub_rec</th>\n",
       "      <th>months_cr_line</th>\n",
       "      <th>term</th>\n",
       "      <th>initial_list_status</th>\n",
       "      <th>grade</th>\n",
       "      <th>sub_grade</th>\n",
       "      <th>emp_length</th>\n",
       "      <th>ANY</th>\n",
       "      <th>MORTGAGE</th>\n",
       "      <th>NONE</th>\n",
       "      <th>OTHER</th>\n",
       "      <th>OWN</th>\n",
       "      <th>RENT</th>\n",
       "      <th>car</th>\n",
       "      <th>credit_card</th>\n",
       "      <th>debt_consolidation</th>\n",
       "      <th>educational</th>\n",
       "      <th>home_improvement</th>\n",
       "      <th>house</th>\n",
       "      <th>major_purchase</th>\n",
       "      <th>medical</th>\n",
       "      <th>moving</th>\n",
       "      <th>other</th>\n",
       "      <th>renewable_energy</th>\n",
       "      <th>small_business</th>\n",
       "      <th>vacation</th>\n",
       "      <th>wedding</th>\n",
       "      <th>Not Verified</th>\n",
       "      <th>Source Verified</th>\n",
       "      <th>Verified</th>\n",
       "      <th>loan_status_bin</th>\n",
       "    </tr>\n",
       "  </thead>\n",
       "  <tbody>\n",
       "    <tr>\n",
       "      <th>0</th>\n",
       "      <td>-1.239239</td>\n",
       "      <td>-0.307239</td>\n",
       "      <td>-1.446628</td>\n",
       "      <td>-0.663160</td>\n",
       "      <td>-0.663151</td>\n",
       "      <td>0.163792</td>\n",
       "      <td>-1.203010</td>\n",
       "      <td>-0.840635</td>\n",
       "      <td>-1.000430</td>\n",
       "      <td>-0.603176</td>\n",
       "      <td>-0.362263</td>\n",
       "      <td>0.563076</td>\n",
       "      <td>-0.065598</td>\n",
       "      <td>-0.356859</td>\n",
       "      <td>-0.522937</td>\n",
       "      <td>-0.560026</td>\n",
       "      <td>0.853561</td>\n",
       "      <td>0.199479</td>\n",
       "      <td>0.361317</td>\n",
       "      <td>1.124204</td>\n",
       "      <td>-0.014724</td>\n",
       "      <td>1.017814</td>\n",
       "      <td>-0.005904</td>\n",
       "      <td>-0.010447</td>\n",
       "      <td>-0.347838</td>\n",
       "      <td>-0.817406</td>\n",
       "      <td>-0.104967</td>\n",
       "      <td>-0.531727</td>\n",
       "      <td>0.852241</td>\n",
       "      <td>-0.01572</td>\n",
       "      <td>-0.26315</td>\n",
       "      <td>-0.073474</td>\n",
       "      <td>-0.149723</td>\n",
       "      <td>-0.107582</td>\n",
       "      <td>-0.0842</td>\n",
       "      <td>-0.247959</td>\n",
       "      <td>-0.026386</td>\n",
       "      <td>-0.107880</td>\n",
       "      <td>-0.082564</td>\n",
       "      <td>-0.041732</td>\n",
       "      <td>1.523538</td>\n",
       "      <td>-0.798653</td>\n",
       "      <td>-0.669432</td>\n",
       "      <td>1.0</td>\n",
       "    </tr>\n",
       "    <tr>\n",
       "      <th>1</th>\n",
       "      <td>1.197526</td>\n",
       "      <td>-0.165064</td>\n",
       "      <td>-0.233691</td>\n",
       "      <td>0.598399</td>\n",
       "      <td>0.598384</td>\n",
       "      <td>-0.257756</td>\n",
       "      <td>1.480721</td>\n",
       "      <td>1.899426</td>\n",
       "      <td>1.082545</td>\n",
       "      <td>0.232773</td>\n",
       "      <td>0.776085</td>\n",
       "      <td>-0.477117</td>\n",
       "      <td>-0.065598</td>\n",
       "      <td>-0.356859</td>\n",
       "      <td>-0.034138</td>\n",
       "      <td>-0.560026</td>\n",
       "      <td>0.853561</td>\n",
       "      <td>0.199479</td>\n",
       "      <td>-0.104144</td>\n",
       "      <td>1.124204</td>\n",
       "      <td>-0.014724</td>\n",
       "      <td>1.017814</td>\n",
       "      <td>-0.005904</td>\n",
       "      <td>-0.010447</td>\n",
       "      <td>-0.347838</td>\n",
       "      <td>-0.817406</td>\n",
       "      <td>-0.104967</td>\n",
       "      <td>-0.531727</td>\n",
       "      <td>-1.173377</td>\n",
       "      <td>-0.01572</td>\n",
       "      <td>-0.26315</td>\n",
       "      <td>-0.073474</td>\n",
       "      <td>-0.149723</td>\n",
       "      <td>-0.107582</td>\n",
       "      <td>-0.0842</td>\n",
       "      <td>-0.247959</td>\n",
       "      <td>-0.026386</td>\n",
       "      <td>9.269533</td>\n",
       "      <td>-0.082564</td>\n",
       "      <td>-0.041732</td>\n",
       "      <td>1.523538</td>\n",
       "      <td>-0.798653</td>\n",
       "      <td>-0.669432</td>\n",
       "      <td>1.0</td>\n",
       "    </tr>\n",
       "    <tr>\n",
       "      <th>2</th>\n",
       "      <td>-0.453931</td>\n",
       "      <td>0.395575</td>\n",
       "      <td>0.878865</td>\n",
       "      <td>-0.032380</td>\n",
       "      <td>-0.032384</td>\n",
       "      <td>1.946941</td>\n",
       "      <td>-0.560685</td>\n",
       "      <td>0.072718</td>\n",
       "      <td>0.832588</td>\n",
       "      <td>0.253287</td>\n",
       "      <td>0.776085</td>\n",
       "      <td>-0.217069</td>\n",
       "      <td>-0.065598</td>\n",
       "      <td>-0.356859</td>\n",
       "      <td>0.165825</td>\n",
       "      <td>1.785632</td>\n",
       "      <td>0.853561</td>\n",
       "      <td>2.517044</td>\n",
       "      <td>2.223161</td>\n",
       "      <td>-0.660074</td>\n",
       "      <td>-0.014724</td>\n",
       "      <td>1.017814</td>\n",
       "      <td>-0.005904</td>\n",
       "      <td>-0.010447</td>\n",
       "      <td>-0.347838</td>\n",
       "      <td>-0.817406</td>\n",
       "      <td>-0.104967</td>\n",
       "      <td>-0.531727</td>\n",
       "      <td>-1.173377</td>\n",
       "      <td>-0.01572</td>\n",
       "      <td>-0.26315</td>\n",
       "      <td>-0.073474</td>\n",
       "      <td>6.678987</td>\n",
       "      <td>-0.107582</td>\n",
       "      <td>-0.0842</td>\n",
       "      <td>-0.247959</td>\n",
       "      <td>-0.026386</td>\n",
       "      <td>-0.107880</td>\n",
       "      <td>-0.082564</td>\n",
       "      <td>-0.041732</td>\n",
       "      <td>-0.656367</td>\n",
       "      <td>1.252108</td>\n",
       "      <td>-0.669432</td>\n",
       "      <td>1.0</td>\n",
       "    </tr>\n",
       "    <tr>\n",
       "      <th>3</th>\n",
       "      <td>-0.274927</td>\n",
       "      <td>-0.605807</td>\n",
       "      <td>-0.933968</td>\n",
       "      <td>-0.190075</td>\n",
       "      <td>-0.190075</td>\n",
       "      <td>0.047867</td>\n",
       "      <td>-0.117009</td>\n",
       "      <td>-1.205977</td>\n",
       "      <td>-1.583663</td>\n",
       "      <td>-0.332481</td>\n",
       "      <td>-0.362263</td>\n",
       "      <td>-0.737165</td>\n",
       "      <td>-0.065598</td>\n",
       "      <td>-0.356859</td>\n",
       "      <td>1.587785</td>\n",
       "      <td>-0.560026</td>\n",
       "      <td>0.853561</td>\n",
       "      <td>0.199479</td>\n",
       "      <td>0.206163</td>\n",
       "      <td>-0.405177</td>\n",
       "      <td>-0.014724</td>\n",
       "      <td>-0.982498</td>\n",
       "      <td>-0.005904</td>\n",
       "      <td>-0.010447</td>\n",
       "      <td>-0.347838</td>\n",
       "      <td>1.223383</td>\n",
       "      <td>-0.104967</td>\n",
       "      <td>-0.531727</td>\n",
       "      <td>0.852241</td>\n",
       "      <td>-0.01572</td>\n",
       "      <td>-0.26315</td>\n",
       "      <td>-0.073474</td>\n",
       "      <td>-0.149723</td>\n",
       "      <td>-0.107582</td>\n",
       "      <td>-0.0842</td>\n",
       "      <td>-0.247959</td>\n",
       "      <td>-0.026386</td>\n",
       "      <td>-0.107880</td>\n",
       "      <td>-0.082564</td>\n",
       "      <td>-0.041732</td>\n",
       "      <td>-0.656367</td>\n",
       "      <td>1.252108</td>\n",
       "      <td>-0.669432</td>\n",
       "      <td>1.0</td>\n",
       "    </tr>\n",
       "    <tr>\n",
       "      <th>4</th>\n",
       "      <td>0.654739</td>\n",
       "      <td>1.469949</td>\n",
       "      <td>-0.399798</td>\n",
       "      <td>-0.505465</td>\n",
       "      <td>-0.505459</td>\n",
       "      <td>-0.852138</td>\n",
       "      <td>0.777504</td>\n",
       "      <td>0.072718</td>\n",
       "      <td>0.166036</td>\n",
       "      <td>3.176092</td>\n",
       "      <td>-0.362263</td>\n",
       "      <td>1.386562</td>\n",
       "      <td>-0.065598</td>\n",
       "      <td>-0.356859</td>\n",
       "      <td>1.232295</td>\n",
       "      <td>-0.560026</td>\n",
       "      <td>-1.171562</td>\n",
       "      <td>-0.573042</td>\n",
       "      <td>-0.724759</td>\n",
       "      <td>1.124204</td>\n",
       "      <td>-0.014724</td>\n",
       "      <td>1.017814</td>\n",
       "      <td>-0.005904</td>\n",
       "      <td>-0.010447</td>\n",
       "      <td>-0.347838</td>\n",
       "      <td>-0.817406</td>\n",
       "      <td>-0.104967</td>\n",
       "      <td>-0.531727</td>\n",
       "      <td>0.852241</td>\n",
       "      <td>-0.01572</td>\n",
       "      <td>-0.26315</td>\n",
       "      <td>-0.073474</td>\n",
       "      <td>-0.149723</td>\n",
       "      <td>-0.107582</td>\n",
       "      <td>-0.0842</td>\n",
       "      <td>-0.247959</td>\n",
       "      <td>-0.026386</td>\n",
       "      <td>-0.107880</td>\n",
       "      <td>-0.082564</td>\n",
       "      <td>-0.041732</td>\n",
       "      <td>1.523538</td>\n",
       "      <td>-0.798653</td>\n",
       "      <td>-0.669432</td>\n",
       "      <td>1.0</td>\n",
       "    </tr>\n",
       "  </tbody>\n",
       "</table>\n",
       "</div>"
      ],
      "text/plain": [
       "   loan_amnt  annual_inc       dti  fico_range_low  fico_range_high  int_rate  \\\n",
       "0  -1.239239   -0.307239 -1.446628       -0.663160        -0.663151  0.163792   \n",
       "1   1.197526   -0.165064 -0.233691        0.598399         0.598384 -0.257756   \n",
       "2  -0.453931    0.395575  0.878865       -0.032380        -0.032384  1.946941   \n",
       "3  -0.274927   -0.605807 -0.933968       -0.190075        -0.190075  0.047867   \n",
       "4   0.654739    1.469949 -0.399798       -0.505465        -0.505459 -0.852138   \n",
       "\n",
       "   installment  open_acc  total_acc  revol_bal  delinq_2yrs  \\\n",
       "0    -1.203010 -0.840635  -1.000430  -0.603176    -0.362263   \n",
       "1     1.480721  1.899426   1.082545   0.232773     0.776085   \n",
       "2    -0.560685  0.072718   0.832588   0.253287     0.776085   \n",
       "3    -0.117009 -1.205977  -1.583663  -0.332481    -0.362263   \n",
       "4     0.777504  0.072718   0.166036   3.176092    -0.362263   \n",
       "\n",
       "   mths_since_last_delinq  acc_now_delinq   pub_rec  months_cr_line      term  \\\n",
       "0                0.563076       -0.065598 -0.356859       -0.522937 -0.560026   \n",
       "1               -0.477117       -0.065598 -0.356859       -0.034138 -0.560026   \n",
       "2               -0.217069       -0.065598 -0.356859        0.165825  1.785632   \n",
       "3               -0.737165       -0.065598 -0.356859        1.587785 -0.560026   \n",
       "4                1.386562       -0.065598 -0.356859        1.232295 -0.560026   \n",
       "\n",
       "   initial_list_status     grade  sub_grade  emp_length       ANY  MORTGAGE  \\\n",
       "0             0.853561  0.199479   0.361317    1.124204 -0.014724  1.017814   \n",
       "1             0.853561  0.199479  -0.104144    1.124204 -0.014724  1.017814   \n",
       "2             0.853561  2.517044   2.223161   -0.660074 -0.014724  1.017814   \n",
       "3             0.853561  0.199479   0.206163   -0.405177 -0.014724 -0.982498   \n",
       "4            -1.171562 -0.573042  -0.724759    1.124204 -0.014724  1.017814   \n",
       "\n",
       "       NONE     OTHER       OWN      RENT       car  credit_card  \\\n",
       "0 -0.005904 -0.010447 -0.347838 -0.817406 -0.104967    -0.531727   \n",
       "1 -0.005904 -0.010447 -0.347838 -0.817406 -0.104967    -0.531727   \n",
       "2 -0.005904 -0.010447 -0.347838 -0.817406 -0.104967    -0.531727   \n",
       "3 -0.005904 -0.010447 -0.347838  1.223383 -0.104967    -0.531727   \n",
       "4 -0.005904 -0.010447 -0.347838 -0.817406 -0.104967    -0.531727   \n",
       "\n",
       "   debt_consolidation  educational  home_improvement     house  \\\n",
       "0            0.852241     -0.01572          -0.26315 -0.073474   \n",
       "1           -1.173377     -0.01572          -0.26315 -0.073474   \n",
       "2           -1.173377     -0.01572          -0.26315 -0.073474   \n",
       "3            0.852241     -0.01572          -0.26315 -0.073474   \n",
       "4            0.852241     -0.01572          -0.26315 -0.073474   \n",
       "\n",
       "   major_purchase   medical  moving     other  renewable_energy  \\\n",
       "0       -0.149723 -0.107582 -0.0842 -0.247959         -0.026386   \n",
       "1       -0.149723 -0.107582 -0.0842 -0.247959         -0.026386   \n",
       "2        6.678987 -0.107582 -0.0842 -0.247959         -0.026386   \n",
       "3       -0.149723 -0.107582 -0.0842 -0.247959         -0.026386   \n",
       "4       -0.149723 -0.107582 -0.0842 -0.247959         -0.026386   \n",
       "\n",
       "   small_business  vacation   wedding  Not Verified  Source Verified  \\\n",
       "0       -0.107880 -0.082564 -0.041732      1.523538        -0.798653   \n",
       "1        9.269533 -0.082564 -0.041732      1.523538        -0.798653   \n",
       "2       -0.107880 -0.082564 -0.041732     -0.656367         1.252108   \n",
       "3       -0.107880 -0.082564 -0.041732     -0.656367         1.252108   \n",
       "4       -0.107880 -0.082564 -0.041732      1.523538        -0.798653   \n",
       "\n",
       "   Verified  loan_status_bin  \n",
       "0 -0.669432              1.0  \n",
       "1 -0.669432              1.0  \n",
       "2 -0.669432              1.0  \n",
       "3 -0.669432              1.0  \n",
       "4 -0.669432              1.0  "
      ]
     },
     "execution_count": 3,
     "metadata": {},
     "output_type": "execute_result"
    }
   ],
   "source": [
    "data = pd.read_csv('../../Data/All_Accepted_44.csv')\n",
    "data.head(5)"
   ]
  },
  {
   "cell_type": "code",
   "execution_count": 4,
   "id": "771565fb",
   "metadata": {},
   "outputs": [
    {
     "data": {
      "text/plain": [
       "(1319510, 44)"
      ]
     },
     "execution_count": 4,
     "metadata": {},
     "output_type": "execute_result"
    }
   ],
   "source": [
    "data.shape"
   ]
  },
  {
   "cell_type": "code",
   "execution_count": 5,
   "id": "74758ddc",
   "metadata": {},
   "outputs": [
    {
     "data": {
      "text/plain": [
       "1.0    1057295\n",
       "0.0     262215\n",
       "Name: loan_status_bin, dtype: int64"
      ]
     },
     "execution_count": 5,
     "metadata": {},
     "output_type": "execute_result"
    }
   ],
   "source": [
    "data.loan_status_bin.value_counts()\n",
    "#0 = Defaulted Loans\n",
    "#1 = Loans Paid In Full"
   ]
  },
  {
   "cell_type": "code",
   "execution_count": 6,
   "id": "b9a9c6be",
   "metadata": {},
   "outputs": [
    {
     "data": {
      "text/plain": [
       "(1319510, 43)"
      ]
     },
     "execution_count": 6,
     "metadata": {},
     "output_type": "execute_result"
    }
   ],
   "source": [
    "X = data.drop('loan_status_bin', axis=1)\n",
    "X.shape"
   ]
  },
  {
   "cell_type": "code",
   "execution_count": 7,
   "id": "0559962b",
   "metadata": {},
   "outputs": [],
   "source": [
    "y = data['loan_status_bin']"
   ]
  },
  {
   "cell_type": "code",
   "execution_count": 8,
   "id": "9b1bb6de",
   "metadata": {},
   "outputs": [],
   "source": [
    "lr1 = LogisticRegression()"
   ]
  },
  {
   "cell_type": "code",
   "execution_count": 9,
   "id": "e9e711e2",
   "metadata": {},
   "outputs": [],
   "source": [
    "steps = [('model', lr1)]\n",
    "pipeline = Pipeline(steps=steps)"
   ]
  },
  {
   "cell_type": "code",
   "execution_count": 10,
   "id": "fb714eeb",
   "metadata": {},
   "outputs": [
    {
     "name": "stdout",
     "output_type": "stream",
     "text": [
      "[0.80326788 0.8026957  0.80326788 0.80341187 0.80355208]\n",
      "0.8032390811740722\n"
     ]
    }
   ],
   "source": [
    "#Accuracy:\n",
    "\n",
    "cv = RepeatedStratifiedKFold(n_splits=5, n_repeats=1, random_state=1)\n",
    "scores = cross_val_score(pipeline, X, y, scoring='accuracy', cv=cv, n_jobs=-1) \n",
    "print(scores)\n",
    "\n",
    "score = np.mean(scores)\n",
    "print(score)"
   ]
  },
  {
   "cell_type": "code",
   "execution_count": 11,
   "id": "9db484eb",
   "metadata": {},
   "outputs": [
    {
     "data": {
      "text/plain": [
       "array([[  22312,  239903],\n",
       "       [  19725, 1037570]])"
      ]
     },
     "execution_count": 11,
     "metadata": {},
     "output_type": "execute_result"
    }
   ],
   "source": [
    "#Aggregated Confusion Matrix From RepeatedStratifiedKFold: \n",
    "y_pred = cross_val_predict(pipeline, X, y, cv=cv, n_jobs=-1)\n",
    "conf_mat = confusion_matrix(y, y_pred)\n",
    "conf_mat"
   ]
  },
  {
   "cell_type": "code",
   "execution_count": 12,
   "id": "cd14efda",
   "metadata": {},
   "outputs": [
    {
     "data": {
      "image/png": "[encoded data removed]",
      "text/plain": [
       "<Figure size 864x432 with 1 Axes>"
      ]
     },
     "metadata": {},
     "output_type": "display_data"
    }
   ],
   "source": [
    "sns.set(rc = {'figure.figsize':(12,6)})\n",
    "#cmap = sns.cubehelix_palette(start=2, rot=0, dark=0, light=.95, reverse=True, as_cmap=True)\n",
    "cmap = sns.light_palette('seagreen', as_cmap=True)\n",
    "\n",
    "res = sns.heatmap(conf_mat, annot=True, fmt='d', annot_kws={\"size\":20},\n",
    "#            xticklabels = ['Good = Paid In Full', 'Bad = Default'],\n",
    "#            yticklabels = ['Loan Paid In Full', 'Bad = Default'], \n",
    "            cmap=cmap, cbar=False)\n",
    "\n",
    "res.set_xticklabels(['Loan Default', 'Loan Repaid'], fontsize=15)\n",
    "res.set_yticklabels(['Loan Default', 'Loan Repaid'], fontsize=15)\n",
    "\n",
    "\n",
    "plt.title('Confusion Matrix For Logistic Regression', fontsize=25, pad=15)\n",
    "plt.xlabel('Predicted', fontsize=20)\n",
    "plt.ylabel('Actual', fontsize=20);"
   ]
  },
  {
   "cell_type": "code",
   "execution_count": 13,
   "id": "345a55b6",
   "metadata": {},
   "outputs": [
    {
     "data": {
      "text/plain": [
       "0.8032390811740722"
      ]
     },
     "execution_count": 13,
     "metadata": {},
     "output_type": "execute_result"
    }
   ],
   "source": [
    "accuracy_score(y, y_pred)"
   ]
  },
  {
   "cell_type": "code",
   "execution_count": 14,
   "id": "22662a59",
   "metadata": {},
   "outputs": [
    {
     "name": "stdout",
     "output_type": "stream",
     "text": [
      "1037570\n",
      "239903\n",
      "19725\n",
      "22312\n",
      "0.8032390811740722\n"
     ]
    }
   ],
   "source": [
    "TN, FP, FN, TP = conf_mat.ravel()\n",
    "print(TP)\n",
    "print(FP)\n",
    "print(FN)\n",
    "print(TN)\n",
    "print((TP + TN) / (TN + TP + FP + FN))"
   ]
  },
  {
   "cell_type": "code",
   "execution_count": null,
   "id": "4dcedec5",
   "metadata": {},
   "outputs": [],
   "source": []
  },
  {
   "cell_type": "code",
   "execution_count": 15,
   "id": "36dec5fa",
   "metadata": {},
   "outputs": [
    {
     "name": "stdout",
     "output_type": "stream",
     "text": [
      "1.0    1057295\n",
      "0.0     262215\n",
      "Name: loan_status_bin, dtype: int64\n",
      "\n",
      "0.801278504899546\n"
     ]
    }
   ],
   "source": [
    "#Re-examine original pool of accepted LC Loans: \n",
    "\n",
    "print(data.loan_status_bin.value_counts())\n",
    "#0 = Loan Defaulted\n",
    "#1 = Loan Fully Paid\n",
    "\n",
    "good_loan = data.loan_status_bin.value_counts()[1]\n",
    "bad_loan = data.loan_status_bin.value_counts()[0]\n",
    "\n",
    "print()\n",
    "print(good_loan / (good_loan + bad_loan))\n",
    "\n",
    "#Random investment would give us 59% chance of pickkng a good loan"
   ]
  },
  {
   "cell_type": "code",
   "execution_count": 17,
   "id": "9be4be5d",
   "metadata": {},
   "outputs": [
    {
     "data": {
      "text/plain": [
       "0.8122050329048051"
      ]
     },
     "execution_count": 17,
     "metadata": {},
     "output_type": "execute_result"
    }
   ],
   "source": [
    "#Positive Predictive Value (or Precision)\n",
    "#Logistic Model only does 1.1% better than Null Model or \"random investment\"\n",
    "TP / (TP+FP)"
   ]
  },
  {
   "cell_type": "code",
   "execution_count": null,
   "id": "747fa766",
   "metadata": {},
   "outputs": [],
   "source": []
  },
  {
   "cell_type": "code",
   "execution_count": 18,
   "id": "3188e143",
   "metadata": {},
   "outputs": [],
   "source": [
    "#What if we \"balance\" the weight class to avoid \"imbalanced\" nature...No Change! "
   ]
  },
  {
   "cell_type": "code",
   "execution_count": 19,
   "id": "0d86ed92",
   "metadata": {},
   "outputs": [],
   "source": [
    "lr_balanced = LogisticRegression(class_weight='balanced')"
   ]
  },
  {
   "cell_type": "code",
   "execution_count": 20,
   "id": "1e582bb8",
   "metadata": {},
   "outputs": [],
   "source": [
    "steps_balanced = [('model', lr_balanced)]\n",
    "pipeline_balanced = Pipeline(steps=steps)"
   ]
  },
  {
   "cell_type": "code",
   "execution_count": 21,
   "id": "1f2cdc5a",
   "metadata": {},
   "outputs": [
    {
     "name": "stdout",
     "output_type": "stream",
     "text": [
      "[0.80326788 0.8026957  0.80326788 0.80341187 0.80355208]\n",
      "0.8032390811740722\n"
     ]
    }
   ],
   "source": [
    "#Accuracy:\n",
    "\n",
    "cv = RepeatedStratifiedKFold(n_splits=5, n_repeats=1, random_state=1)\n",
    "scores = cross_val_score(pipeline_balanced, X, y, scoring='accuracy', cv=cv, n_jobs=-1) \n",
    "print(scores)\n",
    "\n",
    "score = np.mean(scores)\n",
    "print(score)"
   ]
  },
  {
   "cell_type": "code",
   "execution_count": 22,
   "id": "b5943c47",
   "metadata": {},
   "outputs": [
    {
     "data": {
      "text/plain": [
       "array([[  22312,  239903],\n",
       "       [  19725, 1037570]])"
      ]
     },
     "execution_count": 22,
     "metadata": {},
     "output_type": "execute_result"
    }
   ],
   "source": [
    "#Aggregated Confusion Matrix From RepeatedStratifiedKFold: \n",
    "y_pred_balanced = cross_val_predict(pipeline_balanced, X, y, cv=cv, n_jobs=-1)\n",
    "conf_mat_balanced = confusion_matrix(y, y_pred_balanced)\n",
    "conf_mat_balanced"
   ]
  },
  {
   "cell_type": "code",
   "execution_count": null,
   "id": "33d49ed8",
   "metadata": {},
   "outputs": [],
   "source": []
  },
  {
   "cell_type": "code",
   "execution_count": null,
   "id": "c2672371",
   "metadata": {},
   "outputs": [],
   "source": []
  },
  {
   "cell_type": "code",
   "execution_count": 23,
   "id": "3e6f9d5f",
   "metadata": {},
   "outputs": [],
   "source": [
    "#Obtain predicted probabilities (not predicted classes) from RSKF: \n",
    "y_pred_prob = cross_val_predict(pipeline, X, y, cv=cv, n_jobs=-1, method='predict_proba')"
   ]
  },
  {
   "cell_type": "code",
   "execution_count": 24,
   "id": "9f850d5b",
   "metadata": {},
   "outputs": [
    {
     "data": {
      "text/plain": [
       "array([[0.11875677, 0.88124323],\n",
       "       [0.18076608, 0.81923392],\n",
       "       [0.45488296, 0.54511704],\n",
       "       ...,\n",
       "       [0.14993458, 0.85006542],\n",
       "       [0.26753885, 0.73246115],\n",
       "       [0.2941174 , 0.7058826 ]])"
      ]
     },
     "execution_count": 24,
     "metadata": {},
     "output_type": "execute_result"
    }
   ],
   "source": [
    "y_pred_prob"
   ]
  },
  {
   "cell_type": "code",
   "execution_count": 25,
   "id": "973f2937",
   "metadata": {},
   "outputs": [
    {
     "data": {
      "text/plain": [
       "array([1., 1., 1., ..., 1., 1., 1.])"
      ]
     },
     "execution_count": 25,
     "metadata": {},
     "output_type": "execute_result"
    }
   ],
   "source": [
    "#Obtaining classification based on desired threshold of 0.5 (Same as standard Logistic Regression): \n",
    "\n",
    "y_pred_success = (y_pred_prob[:, 1] > 0.50).astype('float')\n",
    "y_pred_success"
   ]
  },
  {
   "cell_type": "code",
   "execution_count": 26,
   "id": "686a5f94",
   "metadata": {},
   "outputs": [
    {
     "data": {
      "text/plain": [
       "array([[  22312,  239903],\n",
       "       [  19725, 1037570]])"
      ]
     },
     "execution_count": 26,
     "metadata": {},
     "output_type": "execute_result"
    }
   ],
   "source": [
    "conf_mat = confusion_matrix(y, y_pred_success)\n",
    "conf_mat"
   ]
  },
  {
   "cell_type": "code",
   "execution_count": 27,
   "id": "6c050cfb",
   "metadata": {},
   "outputs": [
    {
     "data": {
      "image/png": "[encoded data removed]",
      "text/plain": [
       "<Figure size 864x432 with 1 Axes>"
      ]
     },
     "metadata": {},
     "output_type": "display_data"
    }
   ],
   "source": [
    "sns.set(rc = {'figure.figsize':(12,6)})\n",
    "#cmap = sns.cubehelix_palette(start=2, rot=0, dark=0, light=.95, reverse=True, as_cmap=True)\n",
    "cmap = sns.light_palette('seagreen', as_cmap=True)\n",
    "\n",
    "res = sns.heatmap(conf_mat, annot=True, fmt='d', annot_kws={\"size\":20},\n",
    "#            xticklabels = ['Good = Paid In Full', 'Bad = Default'],\n",
    "#            yticklabels = ['Loan Paid In Full', 'Bad = Default'], \n",
    "            cmap=cmap, cbar=False)\n",
    "\n",
    "res.set_xticklabels(['Loan Default', 'Loan Repaid'], fontsize=15)\n",
    "res.set_yticklabels(['Loan Default', 'Loan Repaid'], fontsize=15)\n",
    "\n",
    "\n",
    "plt.title('Confusion Matrix For Logistic Regression', fontsize=25, pad=15)\n",
    "plt.xlabel('Predicted', fontsize=20)\n",
    "plt.ylabel('Actual', fontsize=20);"
   ]
  },
  {
   "cell_type": "code",
   "execution_count": 28,
   "id": "c5dc62cd",
   "metadata": {},
   "outputs": [
    {
     "data": {
      "text/plain": [
       "0.8032390811740722"
      ]
     },
     "execution_count": 28,
     "metadata": {},
     "output_type": "execute_result"
    }
   ],
   "source": [
    "accuracy_score(y, y_pred_success)"
   ]
  },
  {
   "cell_type": "code",
   "execution_count": 29,
   "id": "25920782",
   "metadata": {},
   "outputs": [
    {
     "name": "stdout",
     "output_type": "stream",
     "text": [
      "1037570\n",
      "239903\n",
      "19725\n",
      "22312\n",
      "0.8032390811740722\n"
     ]
    }
   ],
   "source": [
    "TN, FP, FN, TP = conf_mat.ravel()\n",
    "print(TP)\n",
    "print(FP)\n",
    "print(FN)\n",
    "print(TN)\n",
    "print((TP + TN) / (TN + TP + FP + FN))"
   ]
  },
  {
   "cell_type": "code",
   "execution_count": 30,
   "id": "67e15484",
   "metadata": {},
   "outputs": [
    {
     "data": {
      "text/plain": [
       "0.8122050329048051"
      ]
     },
     "execution_count": 30,
     "metadata": {},
     "output_type": "execute_result"
    }
   ],
   "source": [
    "#Positive Predictive Value (or Precision)\n",
    "#Logistic Model only does 3% better than Null Model or \"random investment\"\n",
    "TP / (TP+FP)"
   ]
  },
  {
   "cell_type": "code",
   "execution_count": null,
   "id": "0ec77f4b",
   "metadata": {},
   "outputs": [],
   "source": []
  },
  {
   "cell_type": "code",
   "execution_count": 31,
   "id": "ac9a9f8f",
   "metadata": {},
   "outputs": [
    {
     "name": "stdout",
     "output_type": "stream",
     "text": [
      "0.9741251516104398\n",
      "96\n"
     ]
    }
   ],
   "source": [
    "thresh = []\n",
    "PosPredVal = []\n",
    "\n",
    "for i in range(0,100,1):\n",
    "    y_pred_success = (y_pred_prob[:, 1] > (i/100)).astype('float')\n",
    "    conf_mat = confusion_matrix(y, y_pred_success)\n",
    "    TN, FP, FN, TP = conf_mat.ravel()\n",
    "    thresh.append(i)\n",
    "    PosPredVal.append((TP/(TP+FP)))\n",
    "\n",
    "print(np.max(PosPredVal))\n",
    "print(PosPredVal.index(np.max(PosPredVal)))"
   ]
  },
  {
   "cell_type": "code",
   "execution_count": 32,
   "id": "60560faf",
   "metadata": {},
   "outputs": [
    {
     "data": {
      "text/plain": [
       "[0.801278504899546,\n",
       " 0.801278504899546,\n",
       " 0.801278504899546,\n",
       " 0.801278504899546,\n",
       " 0.801278504899546,\n",
       " 0.801278504899546,\n",
       " 0.801278504899546,\n",
       " 0.801278504899546,\n",
       " 0.801278504899546,\n",
       " 0.801278504899546,\n",
       " 0.801278504899546,\n",
       " 0.801278504899546,\n",
       " 0.8012791121545969,\n",
       " 0.8012791121545969,\n",
       " 0.8012797194105682,\n",
       " 0.8012803266674599,\n",
       " 0.8012815411840046,\n",
       " 0.8012813905831282,\n",
       " 0.8012830617658204,\n",
       " 0.8012862535629269,\n",
       " 0.8012911166385495,\n",
       " 0.8012990211867779,\n",
       " 0.8013075382780088,\n",
       " 0.8013347329965551,\n",
       " 0.8013582960660957,\n",
       " 0.8013943277830082,\n",
       " 0.801439639748916,\n",
       " 0.8015033922619427,\n",
       " 0.8015893780585744,\n",
       " 0.801680475940157,\n",
       " 0.801799477668904,\n",
       " 0.8019359495648174,\n",
       " 0.8021097360400078,\n",
       " 0.8023110496586985,\n",
       " 0.8025338701990138,\n",
       " 0.8027961921279129,\n",
       " 0.8030866721021815,\n",
       " 0.8034218967868763,\n",
       " 0.8038186710926964,\n",
       " 0.8042310952282775,\n",
       " 0.8046890053124627,\n",
       " 0.8052051868101577,\n",
       " 0.8057917859323277,\n",
       " 0.8064165378266976,\n",
       " 0.8071028860575487,\n",
       " 0.8078185346806647,\n",
       " 0.8086083171600892,\n",
       " 0.8094290059664196,\n",
       " 0.8103131528554918,\n",
       " 0.811213662677298,\n",
       " 0.8122050329048051,\n",
       " 0.8131637304567981,\n",
       " 0.8142731636069974,\n",
       " 0.8154154648825618,\n",
       " 0.8165655431039351,\n",
       " 0.8177921054356463,\n",
       " 0.8190618665454023,\n",
       " 0.820429740102479,\n",
       " 0.8218302781030136,\n",
       " 0.8232925093078615,\n",
       " 0.8248765550522886,\n",
       " 0.8265036875193376,\n",
       " 0.8281059417288723,\n",
       " 0.8298150453194626,\n",
       " 0.8316949081849189,\n",
       " 0.8335798498542399,\n",
       " 0.835599442152928,\n",
       " 0.8378134584160202,\n",
       " 0.840016837328929,\n",
       " 0.8425157731275859,\n",
       " 0.8449695871856998,\n",
       " 0.8475600280833139,\n",
       " 0.8503940316925455,\n",
       " 0.8536349306492852,\n",
       " 0.8567600894392432,\n",
       " 0.8603406666433493,\n",
       " 0.8640330403859945,\n",
       " 0.8678919706875431,\n",
       " 0.8719052523876822,\n",
       " 0.8762797984704325,\n",
       " 0.8809298001626887,\n",
       " 0.8857852314812983,\n",
       " 0.8907613842840406,\n",
       " 0.8957279023726855,\n",
       " 0.901344948302532,\n",
       " 0.9071096546688275,\n",
       " 0.9130141325391797,\n",
       " 0.919060400002664,\n",
       " 0.9253864280661037,\n",
       " 0.9318728117525662,\n",
       " 0.9382185096352659,\n",
       " 0.9446074982860676,\n",
       " 0.9511814521077947,\n",
       " 0.9573461246507421,\n",
       " 0.9637504569270136,\n",
       " 0.9700522466039707,\n",
       " 0.9741251516104398,\n",
       " 0.9716415728694635,\n",
       " 0.937984496124031,\n",
       " 0.8982035928143712]"
      ]
     },
     "execution_count": 32,
     "metadata": {},
     "output_type": "execute_result"
    }
   ],
   "source": [
    "PosPredVal"
   ]
  },
  {
   "cell_type": "code",
   "execution_count": 33,
   "id": "bc798371",
   "metadata": {},
   "outputs": [
    {
     "data": {
      "text/plain": [
       "array([0., 0., 0., ..., 0., 0., 0.])"
      ]
     },
     "execution_count": 33,
     "metadata": {},
     "output_type": "execute_result"
    }
   ],
   "source": [
    "#Obtaining classification based on desired threshold of 0.9: \n",
    "\n",
    "y_pred_success = (y_pred_prob[:, 1] > 0.92).astype('float')\n",
    "y_pred_success"
   ]
  },
  {
   "cell_type": "code",
   "execution_count": 34,
   "id": "5e31548c",
   "metadata": {},
   "outputs": [
    {
     "data": {
      "text/plain": [
       "array([[253862,   8353],\n",
       "       [894545, 162750]])"
      ]
     },
     "execution_count": 34,
     "metadata": {},
     "output_type": "execute_result"
    }
   ],
   "source": [
    "conf_mat = confusion_matrix(y, y_pred_success)\n",
    "conf_mat"
   ]
  },
  {
   "cell_type": "code",
   "execution_count": 35,
   "id": "d1affaeb",
   "metadata": {},
   "outputs": [
    {
     "data": {
      "image/png": "[encoded data removed]",
      "text/plain": [
       "<Figure size 864x432 with 1 Axes>"
      ]
     },
     "metadata": {},
     "output_type": "display_data"
    }
   ],
   "source": [
    "sns.set(rc = {'figure.figsize':(12,6)})\n",
    "#cmap = sns.cubehelix_palette(start=2, rot=0, dark=0, light=.95, reverse=True, as_cmap=True)\n",
    "cmap = sns.light_palette('seagreen', as_cmap=True)\n",
    "\n",
    "res = sns.heatmap(conf_mat, annot=True, fmt='d', annot_kws={\"size\":20},\n",
    "#            xticklabels = ['Good = Paid In Full', 'Bad = Default'],\n",
    "#            yticklabels = ['Loan Paid In Full', 'Bad = Default'], \n",
    "            cmap=cmap, cbar=False)\n",
    "\n",
    "res.set_xticklabels(['Loan Default', 'Loan Repaid'], fontsize=15)\n",
    "res.set_yticklabels(['Loan Default', 'Loan Repaid'], fontsize=15)\n",
    "\n",
    "\n",
    "plt.title('Confusion Matrix For Logistic Regression', fontsize=25, pad=15)\n",
    "plt.xlabel('Predicted', fontsize=20)\n",
    "plt.ylabel('Actual', fontsize=20);"
   ]
  },
  {
   "cell_type": "code",
   "execution_count": null,
   "id": "a8c96f50",
   "metadata": {},
   "outputs": [],
   "source": []
  },
  {
   "cell_type": "code",
   "execution_count": null,
   "id": "14596341",
   "metadata": {},
   "outputs": [],
   "source": []
  },
  {
   "cell_type": "code",
   "execution_count": 30,
   "id": "a51b3ce5",
   "metadata": {},
   "outputs": [],
   "source": [
    "## Next question. what was characteristic of the 217 loans that defaulted??\n",
    "## Get all loans which you predicted greater than 80% and find out which ones defaulted.\n",
    "## Any pattern?????"
   ]
  },
  {
   "cell_type": "code",
   "execution_count": 31,
   "id": "2bb4a848",
   "metadata": {},
   "outputs": [],
   "source": [
    "#Do we drop all observations where the source is not verified? \n",
    "#Do we drop all observations loan amount is greater than half of one's income? "
   ]
  },
  {
   "cell_type": "code",
   "execution_count": null,
   "id": "88205f9a",
   "metadata": {},
   "outputs": [],
   "source": []
  }
 ],
 "metadata": {
  "hide_input": false,
  "kernelspec": {
   "display_name": "Python 3 (ipykernel)",
   "language": "python",
   "name": "python3"
  },
  "language_info": {
   "codemirror_mode": {
    "name": "ipython",
    "version": 3
   },
   "file_extension": ".py",
   "mimetype": "text/x-python",
   "name": "python",
   "nbconvert_exporter": "python",
   "pygments_lexer": "ipython3",
   "version": "3.8.8"
  },
  "varInspector": {
   "cols": {
    "lenName": 16,
    "lenType": 16,
    "lenVar": 40
   },
   "kernels_config": {
    "python": {
     "delete_cmd_postfix": "",
     "delete_cmd_prefix": "del ",
     "library": "var_list.py",
     "varRefreshCmd": "print(var_dic_list())"
    },
    "r": {
     "delete_cmd_postfix": ") ",
     "delete_cmd_prefix": "rm(",
     "library": "var_list.r",
     "varRefreshCmd": "cat(var_dic_list()) "
    }
   },
   "types_to_exclude": [
    "module",
    "function",
    "builtin_function_or_method",
    "instance",
    "_Feature"
   ],
   "window_display": false
  }
 },
 "nbformat": 4,
 "nbformat_minor": 5
}
