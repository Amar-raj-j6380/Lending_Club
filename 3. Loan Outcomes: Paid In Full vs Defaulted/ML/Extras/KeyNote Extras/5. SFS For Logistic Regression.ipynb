{
 "cells": [
  {
   "cell_type": "code",
   "execution_count": 1,
   "id": "891650eb",
   "metadata": {},
   "outputs": [],
   "source": [
    "import pandas as pd\n",
    "from sklearn.linear_model import LogisticRegression\n",
    "from sklearn.feature_selection import SequentialFeatureSelector\n",
    "\n",
    "from imblearn.pipeline import Pipeline\n",
    "from sklearn.model_selection import RepeatedStratifiedKFold, cross_val_score"
   ]
  },
  {
   "cell_type": "code",
   "execution_count": 2,
   "id": "75e9e0cb",
   "metadata": {},
   "outputs": [],
   "source": [
    "pd.set_option(\"display.max_columns\", 200)\n",
    "pd.set_option(\"display.max_row\", 160)\n",
    "pd.set_option('max_colwidth', 200)"
   ]
  },
  {
   "cell_type": "code",
   "execution_count": 3,
   "id": "9de9b6f3",
   "metadata": {},
   "outputs": [
    {
     "data": {
      "text/html": [
       "<div>\n",
       "<style scoped>\n",
       "    .dataframe tbody tr th:only-of-type {\n",
       "        vertical-align: middle;\n",
       "    }\n",
       "\n",
       "    .dataframe tbody tr th {\n",
       "        vertical-align: top;\n",
       "    }\n",
       "\n",
       "    .dataframe thead th {\n",
       "        text-align: right;\n",
       "    }\n",
       "</style>\n",
       "<table border=\"1\" class=\"dataframe\">\n",
       "  <thead>\n",
       "    <tr style=\"text-align: right;\">\n",
       "      <th></th>\n",
       "      <th>loan_amnt</th>\n",
       "      <th>annual_inc</th>\n",
       "      <th>dti</th>\n",
       "      <th>fico_range_low</th>\n",
       "      <th>fico_range_high</th>\n",
       "      <th>int_rate</th>\n",
       "      <th>installment</th>\n",
       "      <th>open_acc</th>\n",
       "      <th>total_acc</th>\n",
       "      <th>revol_bal</th>\n",
       "      <th>inq_last_6mths</th>\n",
       "      <th>delinq_2yrs</th>\n",
       "      <th>acc_now_delinq</th>\n",
       "      <th>collections_12_mths_ex_med</th>\n",
       "      <th>pub_rec</th>\n",
       "      <th>months_cr_line</th>\n",
       "      <th>term</th>\n",
       "      <th>initial_list_status</th>\n",
       "      <th>grade</th>\n",
       "      <th>sub_grade</th>\n",
       "      <th>emp_length</th>\n",
       "      <th>ANY</th>\n",
       "      <th>MORTGAGE</th>\n",
       "      <th>NONE</th>\n",
       "      <th>OTHER</th>\n",
       "      <th>OWN</th>\n",
       "      <th>RENT</th>\n",
       "      <th>car</th>\n",
       "      <th>credit_card</th>\n",
       "      <th>debt_consolidation</th>\n",
       "      <th>educational</th>\n",
       "      <th>home_improvement</th>\n",
       "      <th>house</th>\n",
       "      <th>major_purchase</th>\n",
       "      <th>medical</th>\n",
       "      <th>moving</th>\n",
       "      <th>other</th>\n",
       "      <th>renewable_energy</th>\n",
       "      <th>small_business</th>\n",
       "      <th>vacation</th>\n",
       "      <th>wedding</th>\n",
       "      <th>Not Verified</th>\n",
       "      <th>Source Verified</th>\n",
       "      <th>Verified</th>\n",
       "      <th>loan_status_bin</th>\n",
       "    </tr>\n",
       "  </thead>\n",
       "  <tbody>\n",
       "    <tr>\n",
       "      <th>0</th>\n",
       "      <td>-0.805788</td>\n",
       "      <td>0.544423</td>\n",
       "      <td>0.570300</td>\n",
       "      <td>0.663197</td>\n",
       "      <td>0.663194</td>\n",
       "      <td>-0.388527</td>\n",
       "      <td>-0.928141</td>\n",
       "      <td>0.020404</td>\n",
       "      <td>0.814165</td>\n",
       "      <td>0.277188</td>\n",
       "      <td>1.683433</td>\n",
       "      <td>0.681092</td>\n",
       "      <td>-0.074467</td>\n",
       "      <td>-0.125292</td>\n",
       "      <td>-0.377704</td>\n",
       "      <td>0.341665</td>\n",
       "      <td>0.729709</td>\n",
       "      <td>1.019288</td>\n",
       "      <td>0.837092</td>\n",
       "      <td>0.319365</td>\n",
       "      <td>-0.684242</td>\n",
       "      <td>-0.017646</td>\n",
       "      <td>1.099265</td>\n",
       "      <td>-0.007523</td>\n",
       "      <td>-0.007523</td>\n",
       "      <td>-0.358603</td>\n",
       "      <td>-0.873547</td>\n",
       "      <td>-0.084014</td>\n",
       "      <td>-0.342123</td>\n",
       "      <td>-1.311086</td>\n",
       "      <td>-0.003071</td>\n",
       "      <td>-0.252444</td>\n",
       "      <td>-0.117473</td>\n",
       "      <td>6.888409</td>\n",
       "      <td>-0.123241</td>\n",
       "      <td>-0.114845</td>\n",
       "      <td>-0.323001</td>\n",
       "      <td>-0.037391</td>\n",
       "      <td>-0.171212</td>\n",
       "      <td>-0.082752</td>\n",
       "      <td>-0.052011</td>\n",
       "      <td>-0.372811</td>\n",
       "      <td>1.298703</td>\n",
       "      <td>-1.011585</td>\n",
       "      <td>1.0</td>\n",
       "    </tr>\n",
       "    <tr>\n",
       "      <th>1</th>\n",
       "      <td>0.650069</td>\n",
       "      <td>0.015948</td>\n",
       "      <td>0.055254</td>\n",
       "      <td>-1.040497</td>\n",
       "      <td>-1.040493</td>\n",
       "      <td>0.282002</td>\n",
       "      <td>0.487904</td>\n",
       "      <td>1.071777</td>\n",
       "      <td>-0.307337</td>\n",
       "      <td>0.416038</td>\n",
       "      <td>-0.902143</td>\n",
       "      <td>-0.383738</td>\n",
       "      <td>-0.074467</td>\n",
       "      <td>-0.125292</td>\n",
       "      <td>-0.377704</td>\n",
       "      <td>-0.928019</td>\n",
       "      <td>0.729709</td>\n",
       "      <td>1.019288</td>\n",
       "      <td>0.837092</td>\n",
       "      <td>0.871554</td>\n",
       "      <td>-0.427946</td>\n",
       "      <td>-0.017646</td>\n",
       "      <td>1.099265</td>\n",
       "      <td>-0.007523</td>\n",
       "      <td>-0.007523</td>\n",
       "      <td>-0.358603</td>\n",
       "      <td>-0.873547</td>\n",
       "      <td>-0.084014</td>\n",
       "      <td>-0.342123</td>\n",
       "      <td>0.762727</td>\n",
       "      <td>-0.003071</td>\n",
       "      <td>-0.252444</td>\n",
       "      <td>-0.117473</td>\n",
       "      <td>-0.145171</td>\n",
       "      <td>-0.123241</td>\n",
       "      <td>-0.114845</td>\n",
       "      <td>-0.323001</td>\n",
       "      <td>-0.037391</td>\n",
       "      <td>-0.171212</td>\n",
       "      <td>-0.082752</td>\n",
       "      <td>-0.052011</td>\n",
       "      <td>2.682328</td>\n",
       "      <td>-0.769999</td>\n",
       "      <td>-1.011585</td>\n",
       "      <td>0.0</td>\n",
       "    </tr>\n",
       "    <tr>\n",
       "      <th>2</th>\n",
       "      <td>-0.232905</td>\n",
       "      <td>-0.522707</td>\n",
       "      <td>1.648144</td>\n",
       "      <td>3.583815</td>\n",
       "      <td>3.583802</td>\n",
       "      <td>-0.133801</td>\n",
       "      <td>-0.383561</td>\n",
       "      <td>1.071777</td>\n",
       "      <td>-0.067015</td>\n",
       "      <td>-0.358038</td>\n",
       "      <td>-0.040284</td>\n",
       "      <td>-0.383738</td>\n",
       "      <td>-0.074467</td>\n",
       "      <td>-0.125292</td>\n",
       "      <td>-0.377704</td>\n",
       "      <td>-0.892085</td>\n",
       "      <td>0.729709</td>\n",
       "      <td>-0.981077</td>\n",
       "      <td>0.837092</td>\n",
       "      <td>0.595459</td>\n",
       "      <td>1.109835</td>\n",
       "      <td>-0.017646</td>\n",
       "      <td>-0.909699</td>\n",
       "      <td>-0.007523</td>\n",
       "      <td>-0.007523</td>\n",
       "      <td>2.788603</td>\n",
       "      <td>-0.873547</td>\n",
       "      <td>-0.084014</td>\n",
       "      <td>-0.342123</td>\n",
       "      <td>0.762727</td>\n",
       "      <td>-0.003071</td>\n",
       "      <td>-0.252444</td>\n",
       "      <td>-0.117473</td>\n",
       "      <td>-0.145171</td>\n",
       "      <td>-0.123241</td>\n",
       "      <td>-0.114845</td>\n",
       "      <td>-0.323001</td>\n",
       "      <td>-0.037391</td>\n",
       "      <td>-0.171212</td>\n",
       "      <td>-0.082752</td>\n",
       "      <td>-0.052011</td>\n",
       "      <td>2.682328</td>\n",
       "      <td>-0.769999</td>\n",
       "      <td>-1.011585</td>\n",
       "      <td>1.0</td>\n",
       "    </tr>\n",
       "    <tr>\n",
       "      <th>3</th>\n",
       "      <td>0.529186</td>\n",
       "      <td>0.644379</td>\n",
       "      <td>0.008638</td>\n",
       "      <td>-1.040497</td>\n",
       "      <td>-1.040493</td>\n",
       "      <td>-1.118991</td>\n",
       "      <td>0.203558</td>\n",
       "      <td>-0.154825</td>\n",
       "      <td>-0.067015</td>\n",
       "      <td>0.212601</td>\n",
       "      <td>-0.902143</td>\n",
       "      <td>-0.383738</td>\n",
       "      <td>-0.074467</td>\n",
       "      <td>-0.125292</td>\n",
       "      <td>-0.377704</td>\n",
       "      <td>2.042563</td>\n",
       "      <td>0.729709</td>\n",
       "      <td>1.019288</td>\n",
       "      <td>-0.426533</td>\n",
       "      <td>-0.232824</td>\n",
       "      <td>-0.940539</td>\n",
       "      <td>-0.017646</td>\n",
       "      <td>-0.909699</td>\n",
       "      <td>-0.007523</td>\n",
       "      <td>-0.007523</td>\n",
       "      <td>2.788603</td>\n",
       "      <td>-0.873547</td>\n",
       "      <td>11.902814</td>\n",
       "      <td>-0.342123</td>\n",
       "      <td>-1.311086</td>\n",
       "      <td>-0.003071</td>\n",
       "      <td>-0.252444</td>\n",
       "      <td>-0.117473</td>\n",
       "      <td>-0.145171</td>\n",
       "      <td>-0.123241</td>\n",
       "      <td>-0.114845</td>\n",
       "      <td>-0.323001</td>\n",
       "      <td>-0.037391</td>\n",
       "      <td>-0.171212</td>\n",
       "      <td>-0.082752</td>\n",
       "      <td>-0.052011</td>\n",
       "      <td>2.682328</td>\n",
       "      <td>-0.769999</td>\n",
       "      <td>-1.011585</td>\n",
       "      <td>0.0</td>\n",
       "    </tr>\n",
       "    <tr>\n",
       "      <th>4</th>\n",
       "      <td>1.780067</td>\n",
       "      <td>0.823931</td>\n",
       "      <td>1.743649</td>\n",
       "      <td>0.906582</td>\n",
       "      <td>0.906578</td>\n",
       "      <td>-1.118991</td>\n",
       "      <td>1.300984</td>\n",
       "      <td>2.298379</td>\n",
       "      <td>2.336203</td>\n",
       "      <td>-0.106754</td>\n",
       "      <td>-0.902143</td>\n",
       "      <td>0.681092</td>\n",
       "      <td>-0.074467</td>\n",
       "      <td>-0.125292</td>\n",
       "      <td>-0.377704</td>\n",
       "      <td>0.868704</td>\n",
       "      <td>0.729709</td>\n",
       "      <td>1.019288</td>\n",
       "      <td>-0.426533</td>\n",
       "      <td>-0.232824</td>\n",
       "      <td>0.597242</td>\n",
       "      <td>-0.017646</td>\n",
       "      <td>1.099265</td>\n",
       "      <td>-0.007523</td>\n",
       "      <td>-0.007523</td>\n",
       "      <td>-0.358603</td>\n",
       "      <td>-0.873547</td>\n",
       "      <td>-0.084014</td>\n",
       "      <td>-0.342123</td>\n",
       "      <td>0.762727</td>\n",
       "      <td>-0.003071</td>\n",
       "      <td>-0.252444</td>\n",
       "      <td>-0.117473</td>\n",
       "      <td>-0.145171</td>\n",
       "      <td>-0.123241</td>\n",
       "      <td>-0.114845</td>\n",
       "      <td>-0.323001</td>\n",
       "      <td>-0.037391</td>\n",
       "      <td>-0.171212</td>\n",
       "      <td>-0.082752</td>\n",
       "      <td>-0.052011</td>\n",
       "      <td>-0.372811</td>\n",
       "      <td>1.298703</td>\n",
       "      <td>-1.011585</td>\n",
       "      <td>1.0</td>\n",
       "    </tr>\n",
       "  </tbody>\n",
       "</table>\n",
       "</div>"
      ],
      "text/plain": [
       "   loan_amnt  annual_inc       dti  fico_range_low  fico_range_high  int_rate  \\\n",
       "0  -0.805788    0.544423  0.570300        0.663197         0.663194 -0.388527   \n",
       "1   0.650069    0.015948  0.055254       -1.040497        -1.040493  0.282002   \n",
       "2  -0.232905   -0.522707  1.648144        3.583815         3.583802 -0.133801   \n",
       "3   0.529186    0.644379  0.008638       -1.040497        -1.040493 -1.118991   \n",
       "4   1.780067    0.823931  1.743649        0.906582         0.906578 -1.118991   \n",
       "\n",
       "   installment  open_acc  total_acc  revol_bal  inq_last_6mths  delinq_2yrs  \\\n",
       "0    -0.928141  0.020404   0.814165   0.277188        1.683433     0.681092   \n",
       "1     0.487904  1.071777  -0.307337   0.416038       -0.902143    -0.383738   \n",
       "2    -0.383561  1.071777  -0.067015  -0.358038       -0.040284    -0.383738   \n",
       "3     0.203558 -0.154825  -0.067015   0.212601       -0.902143    -0.383738   \n",
       "4     1.300984  2.298379   2.336203  -0.106754       -0.902143     0.681092   \n",
       "\n",
       "   acc_now_delinq  collections_12_mths_ex_med   pub_rec  months_cr_line  \\\n",
       "0       -0.074467                   -0.125292 -0.377704        0.341665   \n",
       "1       -0.074467                   -0.125292 -0.377704       -0.928019   \n",
       "2       -0.074467                   -0.125292 -0.377704       -0.892085   \n",
       "3       -0.074467                   -0.125292 -0.377704        2.042563   \n",
       "4       -0.074467                   -0.125292 -0.377704        0.868704   \n",
       "\n",
       "       term  initial_list_status     grade  sub_grade  emp_length       ANY  \\\n",
       "0  0.729709             1.019288  0.837092   0.319365   -0.684242 -0.017646   \n",
       "1  0.729709             1.019288  0.837092   0.871554   -0.427946 -0.017646   \n",
       "2  0.729709            -0.981077  0.837092   0.595459    1.109835 -0.017646   \n",
       "3  0.729709             1.019288 -0.426533  -0.232824   -0.940539 -0.017646   \n",
       "4  0.729709             1.019288 -0.426533  -0.232824    0.597242 -0.017646   \n",
       "\n",
       "   MORTGAGE      NONE     OTHER       OWN      RENT        car  credit_card  \\\n",
       "0  1.099265 -0.007523 -0.007523 -0.358603 -0.873547  -0.084014    -0.342123   \n",
       "1  1.099265 -0.007523 -0.007523 -0.358603 -0.873547  -0.084014    -0.342123   \n",
       "2 -0.909699 -0.007523 -0.007523  2.788603 -0.873547  -0.084014    -0.342123   \n",
       "3 -0.909699 -0.007523 -0.007523  2.788603 -0.873547  11.902814    -0.342123   \n",
       "4  1.099265 -0.007523 -0.007523 -0.358603 -0.873547  -0.084014    -0.342123   \n",
       "\n",
       "   debt_consolidation  educational  home_improvement     house  \\\n",
       "0           -1.311086    -0.003071         -0.252444 -0.117473   \n",
       "1            0.762727    -0.003071         -0.252444 -0.117473   \n",
       "2            0.762727    -0.003071         -0.252444 -0.117473   \n",
       "3           -1.311086    -0.003071         -0.252444 -0.117473   \n",
       "4            0.762727    -0.003071         -0.252444 -0.117473   \n",
       "\n",
       "   major_purchase   medical    moving     other  renewable_energy  \\\n",
       "0        6.888409 -0.123241 -0.114845 -0.323001         -0.037391   \n",
       "1       -0.145171 -0.123241 -0.114845 -0.323001         -0.037391   \n",
       "2       -0.145171 -0.123241 -0.114845 -0.323001         -0.037391   \n",
       "3       -0.145171 -0.123241 -0.114845 -0.323001         -0.037391   \n",
       "4       -0.145171 -0.123241 -0.114845 -0.323001         -0.037391   \n",
       "\n",
       "   small_business  vacation   wedding  Not Verified  Source Verified  \\\n",
       "0       -0.171212 -0.082752 -0.052011     -0.372811         1.298703   \n",
       "1       -0.171212 -0.082752 -0.052011      2.682328        -0.769999   \n",
       "2       -0.171212 -0.082752 -0.052011      2.682328        -0.769999   \n",
       "3       -0.171212 -0.082752 -0.052011      2.682328        -0.769999   \n",
       "4       -0.171212 -0.082752 -0.052011     -0.372811         1.298703   \n",
       "\n",
       "   Verified  loan_status_bin  \n",
       "0 -1.011585              1.0  \n",
       "1 -1.011585              0.0  \n",
       "2 -1.011585              1.0  \n",
       "3 -1.011585              0.0  \n",
       "4 -1.011585              1.0  "
      ]
     },
     "execution_count": 3,
     "metadata": {},
     "output_type": "execute_result"
    }
   ],
   "source": [
    "data = pd.read_csv('../../Data/20x45B_All.csv')\n",
    "data.head(5)"
   ]
  },
  {
   "cell_type": "code",
   "execution_count": 4,
   "id": "e2bc504c",
   "metadata": {},
   "outputs": [
    {
     "data": {
      "text/plain": [
       "(106009, 45)"
      ]
     },
     "execution_count": 4,
     "metadata": {},
     "output_type": "execute_result"
    }
   ],
   "source": [
    "data.shape"
   ]
  },
  {
   "cell_type": "code",
   "execution_count": 5,
   "id": "79f7fea2",
   "metadata": {},
   "outputs": [
    {
     "data": {
      "text/plain": [
       "1.0    62957\n",
       "0.0    43052\n",
       "Name: loan_status_bin, dtype: int64"
      ]
     },
     "execution_count": 5,
     "metadata": {},
     "output_type": "execute_result"
    }
   ],
   "source": [
    "data.loan_status_bin.value_counts()"
   ]
  },
  {
   "cell_type": "code",
   "execution_count": 6,
   "id": "c5f95e95",
   "metadata": {},
   "outputs": [
    {
     "data": {
      "text/plain": [
       "0.5938835381901537"
      ]
     },
     "execution_count": 6,
     "metadata": {},
     "output_type": "execute_result"
    }
   ],
   "source": [
    "#Null Model (or random investment) will yield, 59.3% of picking a good loan: \n",
    "data.loan_status_bin.value_counts()[1] / len(data)"
   ]
  },
  {
   "cell_type": "code",
   "execution_count": 7,
   "id": "ff93c60b",
   "metadata": {},
   "outputs": [
    {
     "data": {
      "text/plain": [
       "(106009, 44)"
      ]
     },
     "execution_count": 7,
     "metadata": {},
     "output_type": "execute_result"
    }
   ],
   "source": [
    "X = data.drop('loan_status_bin', axis=1)\n",
    "X.shape"
   ]
  },
  {
   "cell_type": "code",
   "execution_count": 8,
   "id": "d6f47bde",
   "metadata": {},
   "outputs": [],
   "source": [
    "y = data['loan_status_bin']"
   ]
  },
  {
   "cell_type": "code",
   "execution_count": 9,
   "id": "e41f44d6",
   "metadata": {},
   "outputs": [],
   "source": [
    "n_features = 10\n",
    "lr = LogisticRegression()\n",
    "sfs = SequentialFeatureSelector(lr, n_features_to_select=n_features)"
   ]
  },
  {
   "cell_type": "code",
   "execution_count": 10,
   "id": "b4eb8b6c",
   "metadata": {},
   "outputs": [
    {
     "data": {
      "text/html": [
       "<style>#sk-container-id-1 {color: black;background-color: white;}#sk-container-id-1 pre{padding: 0;}#sk-container-id-1 div.sk-toggleable {background-color: white;}#sk-container-id-1 label.sk-toggleable__label {cursor: pointer;display: block;width: 100%;margin-bottom: 0;padding: 0.3em;box-sizing: border-box;text-align: center;}#sk-container-id-1 label.sk-toggleable__label-arrow:before {content: \"▸\";float: left;margin-right: 0.25em;color: #696969;}#sk-container-id-1 label.sk-toggleable__label-arrow:hover:before {color: black;}#sk-container-id-1 div.sk-estimator:hover label.sk-toggleable__label-arrow:before {color: black;}#sk-container-id-1 div.sk-toggleable__content {max-height: 0;max-width: 0;overflow: hidden;text-align: left;background-color: #f0f8ff;}#sk-container-id-1 div.sk-toggleable__content pre {margin: 0.2em;color: black;border-radius: 0.25em;background-color: #f0f8ff;}#sk-container-id-1 input.sk-toggleable__control:checked~div.sk-toggleable__content {max-height: 200px;max-width: 100%;overflow: auto;}#sk-container-id-1 input.sk-toggleable__control:checked~label.sk-toggleable__label-arrow:before {content: \"▾\";}#sk-container-id-1 div.sk-estimator input.sk-toggleable__control:checked~label.sk-toggleable__label {background-color: #d4ebff;}#sk-container-id-1 div.sk-label input.sk-toggleable__control:checked~label.sk-toggleable__label {background-color: #d4ebff;}#sk-container-id-1 input.sk-hidden--visually {border: 0;clip: rect(1px 1px 1px 1px);clip: rect(1px, 1px, 1px, 1px);height: 1px;margin: -1px;overflow: hidden;padding: 0;position: absolute;width: 1px;}#sk-container-id-1 div.sk-estimator {font-family: monospace;background-color: #f0f8ff;border: 1px dotted black;border-radius: 0.25em;box-sizing: border-box;margin-bottom: 0.5em;}#sk-container-id-1 div.sk-estimator:hover {background-color: #d4ebff;}#sk-container-id-1 div.sk-parallel-item::after {content: \"\";width: 100%;border-bottom: 1px solid gray;flex-grow: 1;}#sk-container-id-1 div.sk-label:hover label.sk-toggleable__label {background-color: #d4ebff;}#sk-container-id-1 div.sk-serial::before {content: \"\";position: absolute;border-left: 1px solid gray;box-sizing: border-box;top: 0;bottom: 0;left: 50%;z-index: 0;}#sk-container-id-1 div.sk-serial {display: flex;flex-direction: column;align-items: center;background-color: white;padding-right: 0.2em;padding-left: 0.2em;position: relative;}#sk-container-id-1 div.sk-item {position: relative;z-index: 1;}#sk-container-id-1 div.sk-parallel {display: flex;align-items: stretch;justify-content: center;background-color: white;position: relative;}#sk-container-id-1 div.sk-item::before, #sk-container-id-1 div.sk-parallel-item::before {content: \"\";position: absolute;border-left: 1px solid gray;box-sizing: border-box;top: 0;bottom: 0;left: 50%;z-index: -1;}#sk-container-id-1 div.sk-parallel-item {display: flex;flex-direction: column;z-index: 1;position: relative;background-color: white;}#sk-container-id-1 div.sk-parallel-item:first-child::after {align-self: flex-end;width: 50%;}#sk-container-id-1 div.sk-parallel-item:last-child::after {align-self: flex-start;width: 50%;}#sk-container-id-1 div.sk-parallel-item:only-child::after {width: 0;}#sk-container-id-1 div.sk-dashed-wrapped {border: 1px dashed gray;margin: 0 0.4em 0.5em 0.4em;box-sizing: border-box;padding-bottom: 0.4em;background-color: white;}#sk-container-id-1 div.sk-label label {font-family: monospace;font-weight: bold;display: inline-block;line-height: 1.2em;}#sk-container-id-1 div.sk-label-container {text-align: center;}#sk-container-id-1 div.sk-container {/* jupyter's `normalize.less` sets `[hidden] { display: none; }` but bootstrap.min.css set `[hidden] { display: none !important; }` so we also need the `!important` here to be able to override the default hidden behavior on the sphinx rendered scikit-learn.org. See: https://github.com/scikit-learn/scikit-learn/issues/21755 */display: inline-block !important;position: relative;}#sk-container-id-1 div.sk-text-repr-fallback {display: none;}</style><div id=\"sk-container-id-1\" class=\"sk-top-container\"><div class=\"sk-text-repr-fallback\"><pre>SequentialFeatureSelector(estimator=LogisticRegression(),\n",
       "                          n_features_to_select=10)</pre><b>In a Jupyter environment, please rerun this cell to show the HTML representation or trust the notebook. <br />On GitHub, the HTML representation is unable to render, please try loading this page with nbviewer.org.</b></div><div class=\"sk-container\" hidden><div class=\"sk-item sk-dashed-wrapped\"><div class=\"sk-label-container\"><div class=\"sk-label sk-toggleable\"><input class=\"sk-toggleable__control sk-hidden--visually\" id=\"sk-estimator-id-1\" type=\"checkbox\" ><label for=\"sk-estimator-id-1\" class=\"sk-toggleable__label sk-toggleable__label-arrow\">SequentialFeatureSelector</label><div class=\"sk-toggleable__content\"><pre>SequentialFeatureSelector(estimator=LogisticRegression(),\n",
       "                          n_features_to_select=10)</pre></div></div></div><div class=\"sk-parallel\"><div class=\"sk-parallel-item\"><div class=\"sk-item\"><div class=\"sk-label-container\"><div class=\"sk-label sk-toggleable\"><input class=\"sk-toggleable__control sk-hidden--visually\" id=\"sk-estimator-id-2\" type=\"checkbox\" ><label for=\"sk-estimator-id-2\" class=\"sk-toggleable__label sk-toggleable__label-arrow\">estimator: LogisticRegression</label><div class=\"sk-toggleable__content\"><pre>LogisticRegression()</pre></div></div></div><div class=\"sk-serial\"><div class=\"sk-item\"><div class=\"sk-estimator sk-toggleable\"><input class=\"sk-toggleable__control sk-hidden--visually\" id=\"sk-estimator-id-3\" type=\"checkbox\" ><label for=\"sk-estimator-id-3\" class=\"sk-toggleable__label sk-toggleable__label-arrow\">LogisticRegression</label><div class=\"sk-toggleable__content\"><pre>LogisticRegression()</pre></div></div></div></div></div></div></div></div></div></div>"
      ],
      "text/plain": [
       "SequentialFeatureSelector(estimator=LogisticRegression(),\n",
       "                          n_features_to_select=10)"
      ]
     },
     "execution_count": 10,
     "metadata": {},
     "output_type": "execute_result"
    }
   ],
   "source": [
    "sfs.fit(X,y)"
   ]
  },
  {
   "cell_type": "code",
   "execution_count": 11,
   "id": "70c93071",
   "metadata": {},
   "outputs": [],
   "source": [
    "#sfs.get_support()"
   ]
  },
  {
   "cell_type": "code",
   "execution_count": 12,
   "id": "dbffd04e",
   "metadata": {},
   "outputs": [
    {
     "name": "stdout",
     "output_type": "stream",
     "text": [
      "Top 10 features selected by forward sequential selection:['annual_inc', 'dti', 'fico_range_low', 'installment', 'revol_bal', 'term', 'grade', 'sub_grade', 'RENT', 'credit_card']\n"
     ]
    }
   ],
   "source": [
    "print(\"Top {} features selected by forward sequential selection:{}\"\\\n",
    "      .format(n_features, list(X.columns[sfs.get_support()])))\n"
   ]
  },
  {
   "cell_type": "code",
   "execution_count": 43,
   "id": "1f39da4f",
   "metadata": {},
   "outputs": [
    {
     "data": {
      "text/plain": [
       "['dti', 'grade', 'RENT']"
      ]
     },
     "execution_count": 43,
     "metadata": {},
     "output_type": "execute_result"
    }
   ],
   "source": [
    "feat = list(X.columns[sfs.get_support()])\n",
    "feat"
   ]
  },
  {
   "cell_type": "code",
   "execution_count": 29,
   "id": "d2d0e00e",
   "metadata": {},
   "outputs": [],
   "source": [
    "X_feat = data[feat]"
   ]
  },
  {
   "cell_type": "code",
   "execution_count": 30,
   "id": "eb0b2988",
   "metadata": {},
   "outputs": [
    {
     "data": {
      "text/plain": [
       "0         1.0\n",
       "1         0.0\n",
       "2         1.0\n",
       "3         0.0\n",
       "4         1.0\n",
       "         ... \n",
       "106004    0.0\n",
       "106005    1.0\n",
       "106006    1.0\n",
       "106007    1.0\n",
       "106008    1.0\n",
       "Name: loan_status_bin, Length: 106009, dtype: float64"
      ]
     },
     "execution_count": 30,
     "metadata": {},
     "output_type": "execute_result"
    }
   ],
   "source": [
    "y = data['loan_status_bin']\n",
    "y"
   ]
  },
  {
   "cell_type": "code",
   "execution_count": 31,
   "id": "a888c925",
   "metadata": {},
   "outputs": [],
   "source": [
    "lr_check = LogisticRegression()\n",
    "steps = [('model', lr_check)]\n",
    "pipeline = Pipeline(steps=steps)"
   ]
  },
  {
   "cell_type": "code",
   "execution_count": 32,
   "id": "0423b0b2",
   "metadata": {},
   "outputs": [
    {
     "name": "stdout",
     "output_type": "stream",
     "text": [
      "[0.59989624 0.59805679 0.60178285 0.60145269 0.6015754 ]\n",
      "0.6005527929006451\n"
     ]
    }
   ],
   "source": [
    "#Accuracy:\n",
    "\n",
    "cv = RepeatedStratifiedKFold(n_splits=5, n_repeats=1, random_state=1)\n",
    "scores = cross_val_score(pipeline, X_feat, y, scoring='accuracy', cv=cv, n_jobs=-1) \n",
    "print(scores)\n",
    "\n",
    "score = np.mean(scores)\n",
    "print(score)"
   ]
  },
  {
   "cell_type": "code",
   "execution_count": null,
   "id": "80613a5c",
   "metadata": {},
   "outputs": [],
   "source": []
  },
  {
   "cell_type": "code",
   "execution_count": 33,
   "id": "0e5c48bf",
   "metadata": {},
   "outputs": [],
   "source": [
    "from sklearn.ensemble import AdaBoostClassifier\n",
    "ada = AdaBoostClassifier()\n",
    "steps2 = [('model', ada)]\n",
    "pipeline2 = Pipeline(steps=steps2)"
   ]
  },
  {
   "cell_type": "code",
   "execution_count": 34,
   "id": "34d06f94",
   "metadata": {},
   "outputs": [
    {
     "name": "stdout",
     "output_type": "stream",
     "text": [
      "[0.60140553 0.59909443 0.6022545  0.60300915 0.60138673]\n",
      "0.6014300668496089\n"
     ]
    }
   ],
   "source": [
    "#Accuracy:\n",
    "\n",
    "cv = RepeatedStratifiedKFold(n_splits=5, n_repeats=1, random_state=1)\n",
    "scores = cross_val_score(pipeline2, X_feat, y, scoring='accuracy', cv=cv, n_jobs=-1) \n",
    "print(scores)\n",
    "\n",
    "score = np.mean(scores)\n",
    "print(score)"
   ]
  },
  {
   "cell_type": "code",
   "execution_count": null,
   "id": "379e763c",
   "metadata": {},
   "outputs": [],
   "source": []
  },
  {
   "cell_type": "code",
   "execution_count": 35,
   "id": "dd8bb743",
   "metadata": {},
   "outputs": [],
   "source": [
    "from sklearn.neural_network import MLPClassifier\n",
    "nn = MLPClassifier(alpha=1, max_iter=1000)\n",
    "steps3 = [('model', nn)]\n",
    "pipeline3 = Pipeline(steps=steps3)"
   ]
  },
  {
   "cell_type": "code",
   "execution_count": 36,
   "id": "69659651",
   "metadata": {},
   "outputs": [
    {
     "name": "stdout",
     "output_type": "stream",
     "text": [
      "[0.60121687 0.59824545 0.60187718 0.60022639 0.60124522]\n",
      "0.60056222285845\n"
     ]
    }
   ],
   "source": [
    "#Accuracy:\n",
    "\n",
    "cv = RepeatedStratifiedKFold(n_splits=5, n_repeats=1, random_state=1)\n",
    "scores = cross_val_score(pipeline3, X_feat, y, scoring='accuracy', cv=cv, n_jobs=-1) \n",
    "print(scores)\n",
    "\n",
    "score = np.mean(scores)\n",
    "print(score)"
   ]
  },
  {
   "cell_type": "code",
   "execution_count": null,
   "id": "f5ed01b9",
   "metadata": {},
   "outputs": [],
   "source": []
  },
  {
   "cell_type": "code",
   "execution_count": 37,
   "id": "18cbf57c",
   "metadata": {},
   "outputs": [],
   "source": [
    "from sklearn.ensemble import GradientBoostingClassifier\n",
    "gb = GradientBoostingClassifier()\n",
    "steps4 = [('model', gb)]\n",
    "pipeline4 = Pipeline(steps=steps4)"
   ]
  },
  {
   "cell_type": "code",
   "execution_count": 38,
   "id": "82650289",
   "metadata": {},
   "outputs": [
    {
     "name": "stdout",
     "output_type": "stream",
     "text": [
      "[0.60126403 0.59890576 0.60168852 0.60267899 0.60096222]\n",
      "0.6010999053128834\n"
     ]
    }
   ],
   "source": [
    "#Accuracy:\n",
    "\n",
    "cv = RepeatedStratifiedKFold(n_splits=5, n_repeats=1, random_state=1)\n",
    "scores = cross_val_score(pipeline4, X_feat, y, scoring='accuracy', cv=cv, n_jobs=-1) \n",
    "print(scores)\n",
    "\n",
    "score = np.mean(scores)\n",
    "print(score)"
   ]
  },
  {
   "cell_type": "code",
   "execution_count": null,
   "id": "b095c060",
   "metadata": {},
   "outputs": [],
   "source": []
  },
  {
   "cell_type": "code",
   "execution_count": null,
   "id": "9df59e81",
   "metadata": {},
   "outputs": [],
   "source": []
  }
 ],
 "metadata": {
  "hide_input": false,
  "kernelspec": {
   "display_name": "Python 3 (ipykernel)",
   "language": "python",
   "name": "python3"
  },
  "language_info": {
   "codemirror_mode": {
    "name": "ipython",
    "version": 3
   },
   "file_extension": ".py",
   "mimetype": "text/x-python",
   "name": "python",
   "nbconvert_exporter": "python",
   "pygments_lexer": "ipython3",
   "version": "3.8.8"
  },
  "varInspector": {
   "cols": {
    "lenName": 16,
    "lenType": 16,
    "lenVar": 40
   },
   "kernels_config": {
    "python": {
     "delete_cmd_postfix": "",
     "delete_cmd_prefix": "del ",
     "library": "var_list.py",
     "varRefreshCmd": "print(var_dic_list())"
    },
    "r": {
     "delete_cmd_postfix": ") ",
     "delete_cmd_prefix": "rm(",
     "library": "var_list.r",
     "varRefreshCmd": "cat(var_dic_list()) "
    }
   },
   "types_to_exclude": [
    "module",
    "function",
    "builtin_function_or_method",
    "instance",
    "_Feature"
   ],
   "window_display": false
  }
 },
 "nbformat": 4,
 "nbformat_minor": 5
}
