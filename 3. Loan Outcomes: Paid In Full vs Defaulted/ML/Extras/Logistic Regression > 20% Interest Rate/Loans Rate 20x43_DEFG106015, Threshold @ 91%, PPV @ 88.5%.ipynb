{
 "cells": [
  {
   "cell_type": "code",
   "execution_count": 1,
   "id": "6f4648b5",
   "metadata": {},
   "outputs": [],
   "source": [
    "import pandas as pd\n",
    "import numpy as np\n",
    "import seaborn as sns\n",
    "import copy as cp\n",
    "import matplotlib.pyplot as plt\n",
    "\n",
    "from sklearn.model_selection import cross_val_score, cross_val_predict \n",
    "from sklearn.model_selection import train_test_split\n",
    "from sklearn.model_selection import RepeatedStratifiedKFold\n",
    "from imblearn.pipeline import Pipeline\n",
    "from imblearn.over_sampling import SMOTE\n",
    "\n",
    "from sklearn.linear_model import LogisticRegression\n",
    "from sklearn.metrics import roc_auc_score, roc_curve, precision_recall_curve\n",
    "from sklearn.metrics import confusion_matrix, accuracy_score\n",
    "\n",
    "from typing import Tuple"
   ]
  },
  {
   "cell_type": "code",
   "execution_count": 2,
   "id": "a6b2eaad",
   "metadata": {},
   "outputs": [],
   "source": [
    "pd.set_option(\"display.max_columns\", 200)\n",
    "pd.set_option(\"display.max_row\", 160)\n",
    "pd.set_option('max_colwidth', 200)"
   ]
  },
  {
   "cell_type": "code",
   "execution_count": 3,
   "id": "acc59130",
   "metadata": {},
   "outputs": [
    {
     "data": {
      "text/html": [
       "<div>\n",
       "<style scoped>\n",
       "    .dataframe tbody tr th:only-of-type {\n",
       "        vertical-align: middle;\n",
       "    }\n",
       "\n",
       "    .dataframe tbody tr th {\n",
       "        vertical-align: top;\n",
       "    }\n",
       "\n",
       "    .dataframe thead th {\n",
       "        text-align: right;\n",
       "    }\n",
       "</style>\n",
       "<table border=\"1\" class=\"dataframe\">\n",
       "  <thead>\n",
       "    <tr style=\"text-align: right;\">\n",
       "      <th></th>\n",
       "      <th>loan_amnt</th>\n",
       "      <th>annual_inc</th>\n",
       "      <th>dti</th>\n",
       "      <th>fico_range_low</th>\n",
       "      <th>fico_range_high</th>\n",
       "      <th>int_rate</th>\n",
       "      <th>installment</th>\n",
       "      <th>open_acc</th>\n",
       "      <th>total_acc</th>\n",
       "      <th>revol_bal</th>\n",
       "      <th>inq_last_6mths</th>\n",
       "      <th>delinq_2yrs</th>\n",
       "      <th>mths_since_last_delinq</th>\n",
       "      <th>acc_now_delinq</th>\n",
       "      <th>collections_12_mths_ex_med</th>\n",
       "      <th>pub_rec</th>\n",
       "      <th>months_cr_line</th>\n",
       "      <th>term</th>\n",
       "      <th>initial_list_status</th>\n",
       "      <th>grade</th>\n",
       "      <th>sub_grade</th>\n",
       "      <th>emp_length</th>\n",
       "      <th>ANY</th>\n",
       "      <th>MORTGAGE</th>\n",
       "      <th>OWN</th>\n",
       "      <th>RENT</th>\n",
       "      <th>car</th>\n",
       "      <th>credit_card</th>\n",
       "      <th>debt_consolidation</th>\n",
       "      <th>home_improvement</th>\n",
       "      <th>house</th>\n",
       "      <th>major_purchase</th>\n",
       "      <th>medical</th>\n",
       "      <th>moving</th>\n",
       "      <th>other</th>\n",
       "      <th>renewable_energy</th>\n",
       "      <th>small_business</th>\n",
       "      <th>vacation</th>\n",
       "      <th>wedding</th>\n",
       "      <th>Not Verified</th>\n",
       "      <th>Source Verified</th>\n",
       "      <th>Verified</th>\n",
       "      <th>loan_status_bin</th>\n",
       "    </tr>\n",
       "  </thead>\n",
       "  <tbody>\n",
       "    <tr>\n",
       "      <th>0</th>\n",
       "      <td>-0.690620</td>\n",
       "      <td>-0.103500</td>\n",
       "      <td>-0.682209</td>\n",
       "      <td>1.854891</td>\n",
       "      <td>1.854891</td>\n",
       "      <td>-0.574055</td>\n",
       "      <td>-0.679754</td>\n",
       "      <td>-0.276345</td>\n",
       "      <td>-0.783764</td>\n",
       "      <td>-0.496737</td>\n",
       "      <td>1.184192</td>\n",
       "      <td>0.348674</td>\n",
       "      <td>-0.297219</td>\n",
       "      <td>-0.073736</td>\n",
       "      <td>-0.143169</td>\n",
       "      <td>-0.449502</td>\n",
       "      <td>-0.863385</td>\n",
       "      <td>-0.264331</td>\n",
       "      <td>1.418637</td>\n",
       "      <td>-0.044854</td>\n",
       "      <td>0.526933</td>\n",
       "      <td>-0.508471</td>\n",
       "      <td>-0.035348</td>\n",
       "      <td>-0.770135</td>\n",
       "      <td>-0.36308</td>\n",
       "      <td>0.980229</td>\n",
       "      <td>-0.130079</td>\n",
       "      <td>-0.21583</td>\n",
       "      <td>-0.750379</td>\n",
       "      <td>3.423387</td>\n",
       "      <td>-0.155841</td>\n",
       "      <td>-0.19835</td>\n",
       "      <td>-0.207244</td>\n",
       "      <td>-0.222089</td>\n",
       "      <td>-0.567743</td>\n",
       "      <td>-0.070829</td>\n",
       "      <td>-0.262525</td>\n",
       "      <td>-0.170615</td>\n",
       "      <td>-0.093874</td>\n",
       "      <td>-0.595928</td>\n",
       "      <td>1.211682</td>\n",
       "      <td>-0.706225</td>\n",
       "      <td>0.0</td>\n",
       "    </tr>\n",
       "    <tr>\n",
       "      <th>1</th>\n",
       "      <td>-0.955504</td>\n",
       "      <td>-0.262801</td>\n",
       "      <td>1.299299</td>\n",
       "      <td>0.100205</td>\n",
       "      <td>0.100205</td>\n",
       "      <td>0.610194</td>\n",
       "      <td>-0.891312</td>\n",
       "      <td>-0.678850</td>\n",
       "      <td>-0.869800</td>\n",
       "      <td>-0.391403</td>\n",
       "      <td>0.423220</td>\n",
       "      <td>-0.462761</td>\n",
       "      <td>-0.890405</td>\n",
       "      <td>-0.073736</td>\n",
       "      <td>-0.143169</td>\n",
       "      <td>-0.449502</td>\n",
       "      <td>0.330701</td>\n",
       "      <td>-0.264331</td>\n",
       "      <td>1.418637</td>\n",
       "      <td>1.320058</td>\n",
       "      <td>1.482247</td>\n",
       "      <td>-1.575572</td>\n",
       "      <td>-0.035348</td>\n",
       "      <td>1.298474</td>\n",
       "      <td>-0.36308</td>\n",
       "      <td>-1.020170</td>\n",
       "      <td>-0.130079</td>\n",
       "      <td>-0.21583</td>\n",
       "      <td>1.332660</td>\n",
       "      <td>-0.292108</td>\n",
       "      <td>-0.155841</td>\n",
       "      <td>-0.19835</td>\n",
       "      <td>-0.207244</td>\n",
       "      <td>-0.222089</td>\n",
       "      <td>-0.567743</td>\n",
       "      <td>-0.070829</td>\n",
       "      <td>-0.262525</td>\n",
       "      <td>-0.170615</td>\n",
       "      <td>-0.093874</td>\n",
       "      <td>-0.595928</td>\n",
       "      <td>1.211682</td>\n",
       "      <td>-0.706225</td>\n",
       "      <td>0.0</td>\n",
       "    </tr>\n",
       "    <tr>\n",
       "      <th>2</th>\n",
       "      <td>0.909279</td>\n",
       "      <td>-0.020386</td>\n",
       "      <td>-0.886591</td>\n",
       "      <td>1.102883</td>\n",
       "      <td>1.102883</td>\n",
       "      <td>1.790152</td>\n",
       "      <td>1.154561</td>\n",
       "      <td>-0.276345</td>\n",
       "      <td>-0.869800</td>\n",
       "      <td>-0.232688</td>\n",
       "      <td>-1.098725</td>\n",
       "      <td>-0.462761</td>\n",
       "      <td>-0.890405</td>\n",
       "      <td>-0.073736</td>\n",
       "      <td>-0.143169</td>\n",
       "      <td>-0.449502</td>\n",
       "      <td>-1.399505</td>\n",
       "      <td>-0.264331</td>\n",
       "      <td>1.418637</td>\n",
       "      <td>2.684969</td>\n",
       "      <td>2.437561</td>\n",
       "      <td>-0.508471</td>\n",
       "      <td>-0.035348</td>\n",
       "      <td>-0.770135</td>\n",
       "      <td>-0.36308</td>\n",
       "      <td>0.980229</td>\n",
       "      <td>-0.130079</td>\n",
       "      <td>-0.21583</td>\n",
       "      <td>-0.750379</td>\n",
       "      <td>-0.292108</td>\n",
       "      <td>-0.155841</td>\n",
       "      <td>-0.19835</td>\n",
       "      <td>-0.207244</td>\n",
       "      <td>-0.222089</td>\n",
       "      <td>-0.567743</td>\n",
       "      <td>-0.070829</td>\n",
       "      <td>3.809157</td>\n",
       "      <td>-0.170615</td>\n",
       "      <td>-0.093874</td>\n",
       "      <td>-0.595928</td>\n",
       "      <td>1.211682</td>\n",
       "      <td>-0.706225</td>\n",
       "      <td>1.0</td>\n",
       "    </tr>\n",
       "    <tr>\n",
       "      <th>3</th>\n",
       "      <td>1.587382</td>\n",
       "      <td>0.118138</td>\n",
       "      <td>0.606394</td>\n",
       "      <td>0.100205</td>\n",
       "      <td>0.100205</td>\n",
       "      <td>-0.784302</td>\n",
       "      <td>1.556920</td>\n",
       "      <td>-0.276345</td>\n",
       "      <td>-0.353589</td>\n",
       "      <td>-0.235068</td>\n",
       "      <td>-1.098725</td>\n",
       "      <td>-0.462761</td>\n",
       "      <td>1.254190</td>\n",
       "      <td>-0.073736</td>\n",
       "      <td>-0.143169</td>\n",
       "      <td>3.503923</td>\n",
       "      <td>-0.424741</td>\n",
       "      <td>-0.264331</td>\n",
       "      <td>1.418637</td>\n",
       "      <td>-0.044854</td>\n",
       "      <td>0.526933</td>\n",
       "      <td>-1.575572</td>\n",
       "      <td>-0.035348</td>\n",
       "      <td>-0.770135</td>\n",
       "      <td>-0.36308</td>\n",
       "      <td>0.980229</td>\n",
       "      <td>-0.130079</td>\n",
       "      <td>-0.21583</td>\n",
       "      <td>1.332660</td>\n",
       "      <td>-0.292108</td>\n",
       "      <td>-0.155841</td>\n",
       "      <td>-0.19835</td>\n",
       "      <td>-0.207244</td>\n",
       "      <td>-0.222089</td>\n",
       "      <td>-0.567743</td>\n",
       "      <td>-0.070829</td>\n",
       "      <td>-0.262525</td>\n",
       "      <td>-0.170615</td>\n",
       "      <td>-0.093874</td>\n",
       "      <td>-0.595928</td>\n",
       "      <td>1.211682</td>\n",
       "      <td>-0.706225</td>\n",
       "      <td>1.0</td>\n",
       "    </tr>\n",
       "    <tr>\n",
       "      <th>4</th>\n",
       "      <td>-0.944908</td>\n",
       "      <td>-0.228171</td>\n",
       "      <td>0.097932</td>\n",
       "      <td>-0.651803</td>\n",
       "      <td>-0.651803</td>\n",
       "      <td>-0.784302</td>\n",
       "      <td>-0.941371</td>\n",
       "      <td>0.729917</td>\n",
       "      <td>0.764868</td>\n",
       "      <td>-0.022852</td>\n",
       "      <td>0.423220</td>\n",
       "      <td>-0.462761</td>\n",
       "      <td>-0.890405</td>\n",
       "      <td>-0.073736</td>\n",
       "      <td>-0.143169</td>\n",
       "      <td>-0.449502</td>\n",
       "      <td>-0.607509</td>\n",
       "      <td>-0.264331</td>\n",
       "      <td>1.418637</td>\n",
       "      <td>-0.044854</td>\n",
       "      <td>0.526933</td>\n",
       "      <td>-1.042021</td>\n",
       "      <td>-0.035348</td>\n",
       "      <td>1.298474</td>\n",
       "      <td>-0.36308</td>\n",
       "      <td>-1.020170</td>\n",
       "      <td>-0.130079</td>\n",
       "      <td>-0.21583</td>\n",
       "      <td>1.332660</td>\n",
       "      <td>-0.292108</td>\n",
       "      <td>-0.155841</td>\n",
       "      <td>-0.19835</td>\n",
       "      <td>-0.207244</td>\n",
       "      <td>-0.222089</td>\n",
       "      <td>-0.567743</td>\n",
       "      <td>-0.070829</td>\n",
       "      <td>-0.262525</td>\n",
       "      <td>-0.170615</td>\n",
       "      <td>-0.093874</td>\n",
       "      <td>-0.595928</td>\n",
       "      <td>1.211682</td>\n",
       "      <td>-0.706225</td>\n",
       "      <td>1.0</td>\n",
       "    </tr>\n",
       "  </tbody>\n",
       "</table>\n",
       "</div>"
      ],
      "text/plain": [
       "   loan_amnt  annual_inc       dti  fico_range_low  fico_range_high  int_rate  \\\n",
       "0  -0.690620   -0.103500 -0.682209        1.854891         1.854891 -0.574055   \n",
       "1  -0.955504   -0.262801  1.299299        0.100205         0.100205  0.610194   \n",
       "2   0.909279   -0.020386 -0.886591        1.102883         1.102883  1.790152   \n",
       "3   1.587382    0.118138  0.606394        0.100205         0.100205 -0.784302   \n",
       "4  -0.944908   -0.228171  0.097932       -0.651803        -0.651803 -0.784302   \n",
       "\n",
       "   installment  open_acc  total_acc  revol_bal  inq_last_6mths  delinq_2yrs  \\\n",
       "0    -0.679754 -0.276345  -0.783764  -0.496737        1.184192     0.348674   \n",
       "1    -0.891312 -0.678850  -0.869800  -0.391403        0.423220    -0.462761   \n",
       "2     1.154561 -0.276345  -0.869800  -0.232688       -1.098725    -0.462761   \n",
       "3     1.556920 -0.276345  -0.353589  -0.235068       -1.098725    -0.462761   \n",
       "4    -0.941371  0.729917   0.764868  -0.022852        0.423220    -0.462761   \n",
       "\n",
       "   mths_since_last_delinq  acc_now_delinq  collections_12_mths_ex_med  \\\n",
       "0               -0.297219       -0.073736                   -0.143169   \n",
       "1               -0.890405       -0.073736                   -0.143169   \n",
       "2               -0.890405       -0.073736                   -0.143169   \n",
       "3                1.254190       -0.073736                   -0.143169   \n",
       "4               -0.890405       -0.073736                   -0.143169   \n",
       "\n",
       "    pub_rec  months_cr_line      term  initial_list_status     grade  \\\n",
       "0 -0.449502       -0.863385 -0.264331             1.418637 -0.044854   \n",
       "1 -0.449502        0.330701 -0.264331             1.418637  1.320058   \n",
       "2 -0.449502       -1.399505 -0.264331             1.418637  2.684969   \n",
       "3  3.503923       -0.424741 -0.264331             1.418637 -0.044854   \n",
       "4 -0.449502       -0.607509 -0.264331             1.418637 -0.044854   \n",
       "\n",
       "   sub_grade  emp_length       ANY  MORTGAGE      OWN      RENT       car  \\\n",
       "0   0.526933   -0.508471 -0.035348 -0.770135 -0.36308  0.980229 -0.130079   \n",
       "1   1.482247   -1.575572 -0.035348  1.298474 -0.36308 -1.020170 -0.130079   \n",
       "2   2.437561   -0.508471 -0.035348 -0.770135 -0.36308  0.980229 -0.130079   \n",
       "3   0.526933   -1.575572 -0.035348 -0.770135 -0.36308  0.980229 -0.130079   \n",
       "4   0.526933   -1.042021 -0.035348  1.298474 -0.36308 -1.020170 -0.130079   \n",
       "\n",
       "   credit_card  debt_consolidation  home_improvement     house  \\\n",
       "0     -0.21583           -0.750379          3.423387 -0.155841   \n",
       "1     -0.21583            1.332660         -0.292108 -0.155841   \n",
       "2     -0.21583           -0.750379         -0.292108 -0.155841   \n",
       "3     -0.21583            1.332660         -0.292108 -0.155841   \n",
       "4     -0.21583            1.332660         -0.292108 -0.155841   \n",
       "\n",
       "   major_purchase   medical    moving     other  renewable_energy  \\\n",
       "0        -0.19835 -0.207244 -0.222089 -0.567743         -0.070829   \n",
       "1        -0.19835 -0.207244 -0.222089 -0.567743         -0.070829   \n",
       "2        -0.19835 -0.207244 -0.222089 -0.567743         -0.070829   \n",
       "3        -0.19835 -0.207244 -0.222089 -0.567743         -0.070829   \n",
       "4        -0.19835 -0.207244 -0.222089 -0.567743         -0.070829   \n",
       "\n",
       "   small_business  vacation   wedding  Not Verified  Source Verified  \\\n",
       "0       -0.262525 -0.170615 -0.093874     -0.595928         1.211682   \n",
       "1       -0.262525 -0.170615 -0.093874     -0.595928         1.211682   \n",
       "2        3.809157 -0.170615 -0.093874     -0.595928         1.211682   \n",
       "3       -0.262525 -0.170615 -0.093874     -0.595928         1.211682   \n",
       "4       -0.262525 -0.170615 -0.093874     -0.595928         1.211682   \n",
       "\n",
       "   Verified  loan_status_bin  \n",
       "0 -0.706225              0.0  \n",
       "1 -0.706225              0.0  \n",
       "2 -0.706225              1.0  \n",
       "3 -0.706225              1.0  \n",
       "4 -0.706225              1.0  "
      ]
     },
     "execution_count": 3,
     "metadata": {},
     "output_type": "execute_result"
    }
   ],
   "source": [
    "data = pd.read_csv('../../Data/20x43_DEFG106015.csv')\n",
    "data.head(5)"
   ]
  },
  {
   "cell_type": "code",
   "execution_count": 4,
   "id": "771565fb",
   "metadata": {},
   "outputs": [
    {
     "data": {
      "text/plain": [
       "(2404, 43)"
      ]
     },
     "execution_count": 4,
     "metadata": {},
     "output_type": "execute_result"
    }
   ],
   "source": [
    "data.shape"
   ]
  },
  {
   "cell_type": "code",
   "execution_count": 5,
   "id": "74758ddc",
   "metadata": {},
   "outputs": [
    {
     "data": {
      "text/plain": [
       "1.0    1868\n",
       "0.0     536\n",
       "Name: loan_status_bin, dtype: int64"
      ]
     },
     "execution_count": 5,
     "metadata": {},
     "output_type": "execute_result"
    }
   ],
   "source": [
    "data.loan_status_bin.value_counts()\n",
    "#0 = Defaulted Loans\n",
    "#1 = Loans Paid In Full"
   ]
  },
  {
   "cell_type": "code",
   "execution_count": 6,
   "id": "b9a9c6be",
   "metadata": {},
   "outputs": [
    {
     "data": {
      "text/plain": [
       "(2404, 42)"
      ]
     },
     "execution_count": 6,
     "metadata": {},
     "output_type": "execute_result"
    }
   ],
   "source": [
    "X = data.drop('loan_status_bin', axis=1)\n",
    "X.shape"
   ]
  },
  {
   "cell_type": "code",
   "execution_count": 7,
   "id": "0559962b",
   "metadata": {},
   "outputs": [],
   "source": [
    "y = data['loan_status_bin']"
   ]
  },
  {
   "cell_type": "code",
   "execution_count": 8,
   "id": "9b1bb6de",
   "metadata": {},
   "outputs": [],
   "source": [
    "lr1 = LogisticRegression()"
   ]
  },
  {
   "cell_type": "code",
   "execution_count": 9,
   "id": "e9e711e2",
   "metadata": {},
   "outputs": [],
   "source": [
    "steps = [('model', lr1)]\n",
    "pipeline = Pipeline(steps=steps)"
   ]
  },
  {
   "cell_type": "code",
   "execution_count": 10,
   "id": "fb714eeb",
   "metadata": {},
   "outputs": [
    {
     "name": "stdout",
     "output_type": "stream",
     "text": [
      "[0.77338877 0.77130977 0.78170478 0.77546778 0.77083333]\n",
      "0.7745408870408871\n"
     ]
    }
   ],
   "source": [
    "#Accuracy:\n",
    "\n",
    "cv = RepeatedStratifiedKFold(n_splits=5, n_repeats=1, random_state=1)\n",
    "scores = cross_val_score(pipeline, X, y, scoring='accuracy', cv=cv, n_jobs=-1) \n",
    "print(scores)\n",
    "\n",
    "score = np.mean(scores)\n",
    "print(score)"
   ]
  },
  {
   "cell_type": "code",
   "execution_count": 11,
   "id": "9db484eb",
   "metadata": {},
   "outputs": [
    {
     "data": {
      "text/plain": [
       "array([[  23,  513],\n",
       "       [  29, 1839]])"
      ]
     },
     "execution_count": 11,
     "metadata": {},
     "output_type": "execute_result"
    }
   ],
   "source": [
    "#Aggregated Confusion Matrix From RepeatedStratifiedKFold: \n",
    "y_pred = cross_val_predict(pipeline, X, y, cv=cv, n_jobs=-1)\n",
    "conf_mat = confusion_matrix(y, y_pred)\n",
    "conf_mat"
   ]
  },
  {
   "cell_type": "code",
   "execution_count": 12,
   "id": "cd14efda",
   "metadata": {},
   "outputs": [
    {
     "data": {
      "image/png": "[encoded data removed]",
      "text/plain": [
       "<Figure size 864x432 with 1 Axes>"
      ]
     },
     "metadata": {},
     "output_type": "display_data"
    }
   ],
   "source": [
    "sns.set(rc = {'figure.figsize':(12,6)})\n",
    "#cmap = sns.cubehelix_palette(start=2, rot=0, dark=0, light=.95, reverse=True, as_cmap=True)\n",
    "cmap = sns.light_palette('seagreen', as_cmap=True)\n",
    "\n",
    "res = sns.heatmap(conf_mat, annot=True, fmt='d', annot_kws={\"size\":20},\n",
    "#            xticklabels = ['Good = Paid In Full', 'Bad = Default'],\n",
    "#            yticklabels = ['Loan Paid In Full', 'Bad = Default'], \n",
    "            cmap=cmap, cbar=False)\n",
    "\n",
    "res.set_xticklabels(['Loan Default', 'Loan Repaid'], fontsize=15)\n",
    "res.set_yticklabels(['Loan Default', 'Loan Repaid'], fontsize=15)\n",
    "\n",
    "\n",
    "plt.title('Confusion Matrix For Logistic Regression', fontsize=25, pad=15)\n",
    "plt.xlabel('Predicted', fontsize=20)\n",
    "plt.ylabel('Actual', fontsize=20);"
   ]
  },
  {
   "cell_type": "code",
   "execution_count": 13,
   "id": "345a55b6",
   "metadata": {},
   "outputs": [
    {
     "data": {
      "text/plain": [
       "0.7745424292845258"
      ]
     },
     "execution_count": 13,
     "metadata": {},
     "output_type": "execute_result"
    }
   ],
   "source": [
    "accuracy_score(y, y_pred)"
   ]
  },
  {
   "cell_type": "code",
   "execution_count": 14,
   "id": "22662a59",
   "metadata": {},
   "outputs": [
    {
     "name": "stdout",
     "output_type": "stream",
     "text": [
      "1839\n",
      "513\n",
      "29\n",
      "23\n",
      "0.7745424292845258\n"
     ]
    }
   ],
   "source": [
    "TN, FP, FN, TP = conf_mat.ravel()\n",
    "print(TP)\n",
    "print(FP)\n",
    "print(FN)\n",
    "print(TN)\n",
    "print((TP + TN) / (TN + TP + FP + FN))"
   ]
  },
  {
   "cell_type": "code",
   "execution_count": null,
   "id": "4dcedec5",
   "metadata": {},
   "outputs": [],
   "source": []
  },
  {
   "cell_type": "code",
   "execution_count": 15,
   "id": "36dec5fa",
   "metadata": {},
   "outputs": [
    {
     "name": "stdout",
     "output_type": "stream",
     "text": [
      "1.0    1868\n",
      "0.0     536\n",
      "Name: loan_status_bin, dtype: int64\n",
      "\n",
      "0.7770382695507487\n"
     ]
    }
   ],
   "source": [
    "#Re-examine original pool of accepted LC Loans: \n",
    "\n",
    "print(data.loan_status_bin.value_counts())\n",
    "#0 = Loan Defaulted\n",
    "#1 = Loan Fully Paid\n",
    "\n",
    "good_loan = data.loan_status_bin.value_counts()[1]\n",
    "bad_loan = data.loan_status_bin.value_counts()[0]\n",
    "\n",
    "print()\n",
    "print(good_loan / (good_loan + bad_loan))\n",
    "\n",
    "#Random investment would give us 59% chance of pickkng a good loan"
   ]
  },
  {
   "cell_type": "code",
   "execution_count": 16,
   "id": "9be4be5d",
   "metadata": {},
   "outputs": [
    {
     "data": {
      "text/plain": [
       "0.7818877551020408"
      ]
     },
     "execution_count": 16,
     "metadata": {},
     "output_type": "execute_result"
    }
   ],
   "source": [
    "#Positive Predictive Value (or Precision)\n",
    "#Logistic Model only does 0.1% better than Null Model or \"random investment\"\n",
    "TP / (TP+FP)"
   ]
  },
  {
   "cell_type": "code",
   "execution_count": null,
   "id": "747fa766",
   "metadata": {},
   "outputs": [],
   "source": []
  },
  {
   "cell_type": "code",
   "execution_count": 17,
   "id": "3188e143",
   "metadata": {},
   "outputs": [],
   "source": [
    "#What if we \"balance\" the weight class to avoid \"imbalanced\" nature...No Change! "
   ]
  },
  {
   "cell_type": "code",
   "execution_count": 18,
   "id": "0d86ed92",
   "metadata": {},
   "outputs": [],
   "source": [
    "lr_balanced = LogisticRegression(class_weight='balanced')"
   ]
  },
  {
   "cell_type": "code",
   "execution_count": 19,
   "id": "1e582bb8",
   "metadata": {},
   "outputs": [],
   "source": [
    "steps_balanced = [('model', lr_balanced)]\n",
    "pipeline_balanced = Pipeline(steps=steps)"
   ]
  },
  {
   "cell_type": "code",
   "execution_count": 20,
   "id": "1f2cdc5a",
   "metadata": {},
   "outputs": [
    {
     "name": "stdout",
     "output_type": "stream",
     "text": [
      "[0.77338877 0.77130977 0.78170478 0.77546778 0.77083333]\n",
      "0.7745408870408871\n"
     ]
    }
   ],
   "source": [
    "#Accuracy:\n",
    "\n",
    "cv = RepeatedStratifiedKFold(n_splits=5, n_repeats=1, random_state=1)\n",
    "scores = cross_val_score(pipeline_balanced, X, y, scoring='accuracy', cv=cv, n_jobs=-1) \n",
    "print(scores)\n",
    "\n",
    "score = np.mean(scores)\n",
    "print(score)"
   ]
  },
  {
   "cell_type": "code",
   "execution_count": 21,
   "id": "b5943c47",
   "metadata": {},
   "outputs": [
    {
     "data": {
      "text/plain": [
       "array([[  23,  513],\n",
       "       [  29, 1839]])"
      ]
     },
     "execution_count": 21,
     "metadata": {},
     "output_type": "execute_result"
    }
   ],
   "source": [
    "#Aggregated Confusion Matrix From RepeatedStratifiedKFold: \n",
    "y_pred_balanced = cross_val_predict(pipeline_balanced, X, y, cv=cv, n_jobs=-1)\n",
    "conf_mat_balanced = confusion_matrix(y, y_pred_balanced)\n",
    "conf_mat_balanced"
   ]
  },
  {
   "cell_type": "code",
   "execution_count": null,
   "id": "33d49ed8",
   "metadata": {},
   "outputs": [],
   "source": []
  },
  {
   "cell_type": "code",
   "execution_count": null,
   "id": "c2672371",
   "metadata": {},
   "outputs": [],
   "source": []
  },
  {
   "cell_type": "code",
   "execution_count": 22,
   "id": "3e6f9d5f",
   "metadata": {},
   "outputs": [],
   "source": [
    "#Obtain predicted probabilities (not predicted classes) from RSKF: \n",
    "y_pred_prob = cross_val_predict(pipeline, X, y, cv=cv, n_jobs=-1, method='predict_proba')"
   ]
  },
  {
   "cell_type": "code",
   "execution_count": 23,
   "id": "9f850d5b",
   "metadata": {},
   "outputs": [
    {
     "data": {
      "text/plain": [
       "array([[0.31927015, 0.68072985],\n",
       "       [0.28328262, 0.71671738],\n",
       "       [0.56841317, 0.43158683],\n",
       "       ...,\n",
       "       [0.15235062, 0.84764938],\n",
       "       [0.29292945, 0.70707055],\n",
       "       [0.16672735, 0.83327265]])"
      ]
     },
     "execution_count": 23,
     "metadata": {},
     "output_type": "execute_result"
    }
   ],
   "source": [
    "y_pred_prob"
   ]
  },
  {
   "cell_type": "code",
   "execution_count": 41,
   "id": "973f2937",
   "metadata": {},
   "outputs": [
    {
     "data": {
      "text/plain": [
       "array([0., 0., 0., ..., 0., 0., 0.])"
      ]
     },
     "execution_count": 41,
     "metadata": {},
     "output_type": "execute_result"
    }
   ],
   "source": [
    "#Obtaining classification based on desired threshold of 0.8: \n",
    "\n",
    "y_pred_success = (y_pred_prob[:, 1] > 0.91).astype('float')\n",
    "y_pred_success"
   ]
  },
  {
   "cell_type": "code",
   "execution_count": 42,
   "id": "686a5f94",
   "metadata": {},
   "outputs": [
    {
     "data": {
      "text/plain": [
       "array([[ 513,   23],\n",
       "       [1690,  178]])"
      ]
     },
     "execution_count": 42,
     "metadata": {},
     "output_type": "execute_result"
    }
   ],
   "source": [
    "conf_mat = confusion_matrix(y, y_pred_success)\n",
    "conf_mat"
   ]
  },
  {
   "cell_type": "code",
   "execution_count": 43,
   "id": "6c050cfb",
   "metadata": {},
   "outputs": [
    {
     "data": {
      "image/png": "[encoded data removed]",
      "text/plain": [
       "<Figure size 864x432 with 1 Axes>"
      ]
     },
     "metadata": {},
     "output_type": "display_data"
    }
   ],
   "source": [
    "sns.set(rc = {'figure.figsize':(12,6)})\n",
    "#cmap = sns.cubehelix_palette(start=2, rot=0, dark=0, light=.95, reverse=True, as_cmap=True)\n",
    "cmap = sns.light_palette('seagreen', as_cmap=True)\n",
    "\n",
    "res = sns.heatmap(conf_mat, annot=True, fmt='d', annot_kws={\"size\":20},\n",
    "#            xticklabels = ['Good = Paid In Full', 'Bad = Default'],\n",
    "#            yticklabels = ['Loan Paid In Full', 'Bad = Default'], \n",
    "            cmap=cmap, cbar=False)\n",
    "\n",
    "res.set_xticklabels(['Loan Default', 'Loan Repaid'], fontsize=15)\n",
    "res.set_yticklabels(['Loan Default', 'Loan Repaid'], fontsize=15)\n",
    "\n",
    "\n",
    "plt.title('Confusion Matrix For Logistic Regression', fontsize=25, pad=15)\n",
    "plt.xlabel('Predicted', fontsize=20)\n",
    "plt.ylabel('Actual', fontsize=20);"
   ]
  },
  {
   "cell_type": "code",
   "execution_count": 44,
   "id": "c5dc62cd",
   "metadata": {},
   "outputs": [
    {
     "data": {
      "text/plain": [
       "0.28743760399334445"
      ]
     },
     "execution_count": 44,
     "metadata": {},
     "output_type": "execute_result"
    }
   ],
   "source": [
    "accuracy_score(y, y_pred_success)"
   ]
  },
  {
   "cell_type": "code",
   "execution_count": 45,
   "id": "25920782",
   "metadata": {},
   "outputs": [
    {
     "name": "stdout",
     "output_type": "stream",
     "text": [
      "178\n",
      "23\n",
      "1690\n",
      "513\n",
      "0.28743760399334445\n"
     ]
    }
   ],
   "source": [
    "TN, FP, FN, TP = conf_mat.ravel()\n",
    "print(TP)\n",
    "print(FP)\n",
    "print(FN)\n",
    "print(TN)\n",
    "print((TP + TN) / (TN + TP + FP + FN))"
   ]
  },
  {
   "cell_type": "code",
   "execution_count": 46,
   "id": "67e15484",
   "metadata": {},
   "outputs": [
    {
     "data": {
      "text/plain": [
       "0.8855721393034826"
      ]
     },
     "execution_count": 46,
     "metadata": {},
     "output_type": "execute_result"
    }
   ],
   "source": [
    "#Positive Predictive Value (or Precision)\n",
    "#Logistic Model only does 3% better than Null Model or \"random investment\"\n",
    "TP / (TP+FP)"
   ]
  },
  {
   "cell_type": "code",
   "execution_count": 47,
   "id": "bef17a78",
   "metadata": {},
   "outputs": [
    {
     "name": "stdout",
     "output_type": "stream",
     "text": [
      "0.9166666666666666\n",
      "98\n"
     ]
    }
   ],
   "source": [
    "thresh = []\n",
    "PosPredVal = []\n",
    "\n",
    "for i in range(0,100,1):\n",
    "    y_pred_success = (y_pred_prob[:, 1] > (i/100)).astype('float')\n",
    "    conf_mat = confusion_matrix(y, y_pred_success)\n",
    "    TN, FP, FN, TP = conf_mat.ravel()\n",
    "    thresh.append(i)\n",
    "    PosPredVal.append((TP/(TP+FP)))\n",
    "\n",
    "print(np.max(PosPredVal))\n",
    "print(PosPredVal.index(np.max(PosPredVal)))"
   ]
  },
  {
   "cell_type": "code",
   "execution_count": 40,
   "id": "31d67d77",
   "metadata": {},
   "outputs": [
    {
     "data": {
      "text/plain": [
       "[0.7770382695507487,\n",
       " 0.7770382695507487,\n",
       " 0.7770382695507487,\n",
       " 0.7770382695507487,\n",
       " 0.7770382695507487,\n",
       " 0.7770382695507487,\n",
       " 0.7770382695507487,\n",
       " 0.7770382695507487,\n",
       " 0.7770382695507487,\n",
       " 0.7770382695507487,\n",
       " 0.7770382695507487,\n",
       " 0.7770382695507487,\n",
       " 0.7770382695507487,\n",
       " 0.7770382695507487,\n",
       " 0.7770382695507487,\n",
       " 0.7770382695507487,\n",
       " 0.7770382695507487,\n",
       " 0.7770382695507487,\n",
       " 0.7770382695507487,\n",
       " 0.7770382695507487,\n",
       " 0.7770382695507487,\n",
       " 0.7770382695507487,\n",
       " 0.7770382695507487,\n",
       " 0.7769454848106534,\n",
       " 0.7769454848106534,\n",
       " 0.7769454848106534,\n",
       " 0.7769454848106534,\n",
       " 0.7769454848106534,\n",
       " 0.7772689425478768,\n",
       " 0.7772689425478768,\n",
       " 0.7775926697209496,\n",
       " 0.7775926697209496,\n",
       " 0.7779166666666667,\n",
       " 0.7777314428690576,\n",
       " 0.7776387150604923,\n",
       " 0.7777777777777778,\n",
       " 0.778010033444816,\n",
       " 0.7783354245085738,\n",
       " 0.7783354245085738,\n",
       " 0.7783354245085738,\n",
       " 0.7782426778242678,\n",
       " 0.7784757118927973,\n",
       " 0.7783829074151655,\n",
       " 0.7781040268456376,\n",
       " 0.7778244435111298,\n",
       " 0.7781986531986532,\n",
       " 0.7784330244313395,\n",
       " 0.7790893760539629,\n",
       " 0.779467680608365,\n",
       " 0.7810249894112664,\n",
       " 0.7818877551020408,\n",
       " 0.783703071672355,\n",
       " 0.7851027397260274,\n",
       " 0.7866379310344828,\n",
       " 0.7870410367170626,\n",
       " 0.7873263888888888,\n",
       " 0.7897727272727273,\n",
       " 0.7910250769907611,\n",
       " 0.792812777284827,\n",
       " 0.7939204291461779,\n",
       " 0.7944093778178539,\n",
       " 0.7939035486806187,\n",
       " 0.7964071856287425,\n",
       " 0.7968313140726934,\n",
       " 0.7975460122699386,\n",
       " 0.7999037999037999,\n",
       " 0.8013732221677293,\n",
       " 0.8020937188434696,\n",
       " 0.8051150895140665,\n",
       " 0.8082983193277311,\n",
       " 0.8125677139761647,\n",
       " 0.816924778761062,\n",
       " 0.821753986332574,\n",
       " 0.8260613207547169,\n",
       " 0.8332315210751374,\n",
       " 0.8402822322001283,\n",
       " 0.8430976430976431,\n",
       " 0.8450106157112527,\n",
       " 0.8458646616541353,\n",
       " 0.8488464598249801,\n",
       " 0.8526405451448041,\n",
       " 0.8494921514312096,\n",
       " 0.8538538538538538,\n",
       " 0.8599562363238512,\n",
       " 0.8674846625766871,\n",
       " 0.8688981868898187,\n",
       " 0.8682926829268293,\n",
       " 0.8735849056603774,\n",
       " 0.8704545454545455,\n",
       " 0.8823529411764706,\n",
       " 0.88,\n",
       " 0.8855721393034826,\n",
       " 0.8776978417266187,\n",
       " 0.8514851485148515,\n",
       " 0.8181818181818182,\n",
       " 0.7894736842105263,\n",
       " 0.7391304347826086,\n",
       " 0.8333333333333334,\n",
       " 0.9166666666666666,\n",
       " 0.8571428571428571]"
      ]
     },
     "execution_count": 40,
     "metadata": {},
     "output_type": "execute_result"
    }
   ],
   "source": [
    "PosPredVal"
   ]
  },
  {
   "cell_type": "code",
   "execution_count": null,
   "id": "64cad9cc",
   "metadata": {},
   "outputs": [],
   "source": []
  },
  {
   "cell_type": "code",
   "execution_count": 31,
   "id": "a51b3ce5",
   "metadata": {},
   "outputs": [],
   "source": [
    "## Next question. what was characteristic of the 217 loans that defaulted??\n",
    "## Get all loans which you predicted greater than 80% and find out which ones defaulted.\n",
    "## Any pattern?????"
   ]
  },
  {
   "cell_type": "code",
   "execution_count": 32,
   "id": "2bb4a848",
   "metadata": {},
   "outputs": [],
   "source": [
    "#Do we drop all observations where the source is not verified? \n",
    "#Do we drop all observations loan amount is greater than half of one's income? "
   ]
  },
  {
   "cell_type": "code",
   "execution_count": null,
   "id": "88205f9a",
   "metadata": {},
   "outputs": [],
   "source": []
  }
 ],
 "metadata": {
  "hide_input": false,
  "kernelspec": {
   "display_name": "Python 3 (ipykernel)",
   "language": "python",
   "name": "python3"
  },
  "language_info": {
   "codemirror_mode": {
    "name": "ipython",
    "version": 3
   },
   "file_extension": ".py",
   "mimetype": "text/x-python",
   "name": "python",
   "nbconvert_exporter": "python",
   "pygments_lexer": "ipython3",
   "version": "3.8.8"
  },
  "varInspector": {
   "cols": {
    "lenName": 16,
    "lenType": 16,
    "lenVar": 40
   },
   "kernels_config": {
    "python": {
     "delete_cmd_postfix": "",
     "delete_cmd_prefix": "del ",
     "library": "var_list.py",
     "varRefreshCmd": "print(var_dic_list())"
    },
    "r": {
     "delete_cmd_postfix": ") ",
     "delete_cmd_prefix": "rm(",
     "library": "var_list.r",
     "varRefreshCmd": "cat(var_dic_list()) "
    }
   },
   "types_to_exclude": [
    "module",
    "function",
    "builtin_function_or_method",
    "instance",
    "_Feature"
   ],
   "window_display": false
  }
 },
 "nbformat": 4,
 "nbformat_minor": 5
}
