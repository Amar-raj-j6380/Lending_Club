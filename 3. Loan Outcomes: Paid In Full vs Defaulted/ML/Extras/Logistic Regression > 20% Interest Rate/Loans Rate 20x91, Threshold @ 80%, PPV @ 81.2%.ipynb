{
 "cells": [
  {
   "cell_type": "code",
   "execution_count": 1,
   "id": "6f4648b5",
   "metadata": {},
   "outputs": [],
   "source": [
    "import pandas as pd\n",
    "import numpy as np\n",
    "import seaborn as sns\n",
    "import copy as cp\n",
    "import matplotlib.pyplot as plt\n",
    "\n",
    "from sklearn.model_selection import cross_val_score, cross_val_predict \n",
    "from sklearn.model_selection import train_test_split\n",
    "from sklearn.model_selection import RepeatedStratifiedKFold\n",
    "from imblearn.pipeline import Pipeline\n",
    "from imblearn.over_sampling import SMOTE\n",
    "\n",
    "from sklearn.linear_model import LogisticRegression\n",
    "from sklearn.metrics import roc_auc_score, roc_curve, precision_recall_curve\n",
    "from sklearn.metrics import confusion_matrix, accuracy_score\n",
    "\n",
    "from typing import Tuple"
   ]
  },
  {
   "cell_type": "code",
   "execution_count": 2,
   "id": "a6b2eaad",
   "metadata": {},
   "outputs": [],
   "source": [
    "pd.set_option(\"display.max_columns\", 200)\n",
    "pd.set_option(\"display.max_row\", 160)\n",
    "pd.set_option('max_colwidth', 200)"
   ]
  },
  {
   "cell_type": "code",
   "execution_count": 3,
   "id": "acc59130",
   "metadata": {},
   "outputs": [
    {
     "data": {
      "text/html": [
       "<div>\n",
       "<style scoped>\n",
       "    .dataframe tbody tr th:only-of-type {\n",
       "        vertical-align: middle;\n",
       "    }\n",
       "\n",
       "    .dataframe tbody tr th {\n",
       "        vertical-align: top;\n",
       "    }\n",
       "\n",
       "    .dataframe thead th {\n",
       "        text-align: right;\n",
       "    }\n",
       "</style>\n",
       "<table border=\"1\" class=\"dataframe\">\n",
       "  <thead>\n",
       "    <tr style=\"text-align: right;\">\n",
       "      <th></th>\n",
       "      <th>loan_amnt</th>\n",
       "      <th>annual_inc</th>\n",
       "      <th>dti</th>\n",
       "      <th>fico_range_low</th>\n",
       "      <th>fico_range_high</th>\n",
       "      <th>int_rate</th>\n",
       "      <th>installment</th>\n",
       "      <th>open_acc</th>\n",
       "      <th>total_acc</th>\n",
       "      <th>revol_bal</th>\n",
       "      <th>inq_last_6mths</th>\n",
       "      <th>delinq_2yrs</th>\n",
       "      <th>acc_now_delinq</th>\n",
       "      <th>collections_12_mths_ex_med</th>\n",
       "      <th>pub_rec</th>\n",
       "      <th>earliest_cr_line_month</th>\n",
       "      <th>earliest_cr_line_year</th>\n",
       "      <th>term</th>\n",
       "      <th>initial_list_status</th>\n",
       "      <th>grade</th>\n",
       "      <th>sub_grade</th>\n",
       "      <th>ANY</th>\n",
       "      <th>MORTGAGE</th>\n",
       "      <th>NONE</th>\n",
       "      <th>OTHER</th>\n",
       "      <th>OWN</th>\n",
       "      <th>RENT</th>\n",
       "      <th>car</th>\n",
       "      <th>credit_card</th>\n",
       "      <th>debt_consolidation</th>\n",
       "      <th>home_improvement</th>\n",
       "      <th>house</th>\n",
       "      <th>major_purchase</th>\n",
       "      <th>medical</th>\n",
       "      <th>moving</th>\n",
       "      <th>other</th>\n",
       "      <th>renewable_energy</th>\n",
       "      <th>small_business</th>\n",
       "      <th>vacation</th>\n",
       "      <th>wedding</th>\n",
       "      <th>AK</th>\n",
       "      <th>AL</th>\n",
       "      <th>AR</th>\n",
       "      <th>AZ</th>\n",
       "      <th>CA</th>\n",
       "      <th>CO</th>\n",
       "      <th>CT</th>\n",
       "      <th>DC</th>\n",
       "      <th>DE</th>\n",
       "      <th>FL</th>\n",
       "      <th>GA</th>\n",
       "      <th>HI</th>\n",
       "      <th>ID</th>\n",
       "      <th>IL</th>\n",
       "      <th>IN</th>\n",
       "      <th>KS</th>\n",
       "      <th>KY</th>\n",
       "      <th>LA</th>\n",
       "      <th>MA</th>\n",
       "      <th>MD</th>\n",
       "      <th>ME</th>\n",
       "      <th>MI</th>\n",
       "      <th>MN</th>\n",
       "      <th>MO</th>\n",
       "      <th>MS</th>\n",
       "      <th>MT</th>\n",
       "      <th>NC</th>\n",
       "      <th>ND</th>\n",
       "      <th>NE</th>\n",
       "      <th>NH</th>\n",
       "      <th>NJ</th>\n",
       "      <th>NM</th>\n",
       "      <th>NV</th>\n",
       "      <th>NY</th>\n",
       "      <th>OH</th>\n",
       "      <th>OK</th>\n",
       "      <th>OR</th>\n",
       "      <th>PA</th>\n",
       "      <th>RI</th>\n",
       "      <th>SC</th>\n",
       "      <th>SD</th>\n",
       "      <th>TN</th>\n",
       "      <th>TX</th>\n",
       "      <th>UT</th>\n",
       "      <th>VA</th>\n",
       "      <th>VT</th>\n",
       "      <th>WA</th>\n",
       "      <th>WI</th>\n",
       "      <th>WV</th>\n",
       "      <th>WY</th>\n",
       "      <th>loan_status_bin</th>\n",
       "    </tr>\n",
       "  </thead>\n",
       "  <tbody>\n",
       "    <tr>\n",
       "      <th>0</th>\n",
       "      <td>-0.872628</td>\n",
       "      <td>0.503581</td>\n",
       "      <td>0.572069</td>\n",
       "      <td>0.682326</td>\n",
       "      <td>0.682323</td>\n",
       "      <td>-0.405165</td>\n",
       "      <td>-0.986330</td>\n",
       "      <td>0.012921</td>\n",
       "      <td>0.800766</td>\n",
       "      <td>0.257759</td>\n",
       "      <td>1.655427</td>\n",
       "      <td>0.676995</td>\n",
       "      <td>-0.076039</td>\n",
       "      <td>-0.125241</td>\n",
       "      <td>-0.375888</td>\n",
       "      <td>-0.217886</td>\n",
       "      <td>-0.270704</td>\n",
       "      <td>0.690939</td>\n",
       "      <td>1.03777</td>\n",
       "      <td>0.791627</td>\n",
       "      <td>0.270731</td>\n",
       "      <td>-0.016391</td>\n",
       "      <td>1.090377</td>\n",
       "      <td>-0.008029</td>\n",
       "      <td>-0.008029</td>\n",
       "      <td>-0.356997</td>\n",
       "      <td>-0.868052</td>\n",
       "      <td>-0.079872</td>\n",
       "      <td>-0.338635</td>\n",
       "      <td>-1.339332</td>\n",
       "      <td>-0.250197</td>\n",
       "      <td>-0.117242</td>\n",
       "      <td>7.035681</td>\n",
       "      <td>-0.118367</td>\n",
       "      <td>-0.10911</td>\n",
       "      <td>-0.314762</td>\n",
       "      <td>-0.036377</td>\n",
       "      <td>-0.179301</td>\n",
       "      <td>-0.0771</td>\n",
       "      <td>-0.048454</td>\n",
       "      <td>-0.052518</td>\n",
       "      <td>-0.122499</td>\n",
       "      <td>-0.089767</td>\n",
       "      <td>-0.152783</td>\n",
       "      <td>-0.405178</td>\n",
       "      <td>-0.146363</td>\n",
       "      <td>-0.120312</td>\n",
       "      <td>-0.047098</td>\n",
       "      <td>-0.054833</td>\n",
       "      <td>-0.274485</td>\n",
       "      <td>-0.189518</td>\n",
       "      <td>-0.081357</td>\n",
       "      <td>-0.040178</td>\n",
       "      <td>-0.192329</td>\n",
       "      <td>-0.128462</td>\n",
       "      <td>-0.087738</td>\n",
       "      <td>-0.097419</td>\n",
       "      <td>-0.11419</td>\n",
       "      <td>-0.14521</td>\n",
       "      <td>-0.162692</td>\n",
       "      <td>-0.037543</td>\n",
       "      <td>-0.163594</td>\n",
       "      <td>-0.130861</td>\n",
       "      <td>-0.122499</td>\n",
       "      <td>-0.073787</td>\n",
       "      <td>-0.050633</td>\n",
       "      <td>-0.177731</td>\n",
       "      <td>-0.034865</td>\n",
       "      <td>-0.054338</td>\n",
       "      <td>-0.064365</td>\n",
       "      <td>-0.192629</td>\n",
       "      <td>-0.072824</td>\n",
       "      <td>-0.122499</td>\n",
       "      <td>-0.307157</td>\n",
       "      <td>-0.183316</td>\n",
       "      <td>-0.096629</td>\n",
       "      <td>-0.104898</td>\n",
       "      <td>5.332434</td>\n",
       "      <td>-0.065945</td>\n",
       "      <td>-0.113949</td>\n",
       "      <td>-0.044019</td>\n",
       "      <td>-0.130009</td>\n",
       "      <td>-0.293205</td>\n",
       "      <td>-0.086423</td>\n",
       "      <td>-0.179939</td>\n",
       "      <td>-0.041367</td>\n",
       "      <td>-0.148531</td>\n",
       "      <td>-0.109613</td>\n",
       "      <td>-0.057433</td>\n",
       "      <td>-0.047781</td>\n",
       "      <td>1.0</td>\n",
       "    </tr>\n",
       "    <tr>\n",
       "      <th>1</th>\n",
       "      <td>1.718531</td>\n",
       "      <td>0.772725</td>\n",
       "      <td>1.749064</td>\n",
       "      <td>0.928630</td>\n",
       "      <td>0.928625</td>\n",
       "      <td>-1.135245</td>\n",
       "      <td>1.241494</td>\n",
       "      <td>2.298594</td>\n",
       "      <td>2.322233</td>\n",
       "      <td>-0.117413</td>\n",
       "      <td>-0.904407</td>\n",
       "      <td>0.676995</td>\n",
       "      <td>-0.076039</td>\n",
       "      <td>-0.125241</td>\n",
       "      <td>-0.375888</td>\n",
       "      <td>0.957605</td>\n",
       "      <td>-0.830117</td>\n",
       "      <td>0.690939</td>\n",
       "      <td>1.03777</td>\n",
       "      <td>-0.473750</td>\n",
       "      <td>-0.279696</td>\n",
       "      <td>-0.016391</td>\n",
       "      <td>1.090377</td>\n",
       "      <td>-0.008029</td>\n",
       "      <td>-0.008029</td>\n",
       "      <td>-0.356997</td>\n",
       "      <td>-0.868052</td>\n",
       "      <td>-0.079872</td>\n",
       "      <td>-0.338635</td>\n",
       "      <td>0.746641</td>\n",
       "      <td>-0.250197</td>\n",
       "      <td>-0.117242</td>\n",
       "      <td>-0.142133</td>\n",
       "      <td>-0.118367</td>\n",
       "      <td>-0.10911</td>\n",
       "      <td>-0.314762</td>\n",
       "      <td>-0.036377</td>\n",
       "      <td>-0.179301</td>\n",
       "      <td>-0.0771</td>\n",
       "      <td>-0.048454</td>\n",
       "      <td>-0.052518</td>\n",
       "      <td>-0.122499</td>\n",
       "      <td>-0.089767</td>\n",
       "      <td>-0.152783</td>\n",
       "      <td>-0.405178</td>\n",
       "      <td>-0.146363</td>\n",
       "      <td>-0.120312</td>\n",
       "      <td>-0.047098</td>\n",
       "      <td>-0.054833</td>\n",
       "      <td>-0.274485</td>\n",
       "      <td>5.276548</td>\n",
       "      <td>-0.081357</td>\n",
       "      <td>-0.040178</td>\n",
       "      <td>-0.192329</td>\n",
       "      <td>-0.128462</td>\n",
       "      <td>-0.087738</td>\n",
       "      <td>-0.097419</td>\n",
       "      <td>-0.11419</td>\n",
       "      <td>-0.14521</td>\n",
       "      <td>-0.162692</td>\n",
       "      <td>-0.037543</td>\n",
       "      <td>-0.163594</td>\n",
       "      <td>-0.130861</td>\n",
       "      <td>-0.122499</td>\n",
       "      <td>-0.073787</td>\n",
       "      <td>-0.050633</td>\n",
       "      <td>-0.177731</td>\n",
       "      <td>-0.034865</td>\n",
       "      <td>-0.054338</td>\n",
       "      <td>-0.064365</td>\n",
       "      <td>-0.192629</td>\n",
       "      <td>-0.072824</td>\n",
       "      <td>-0.122499</td>\n",
       "      <td>-0.307157</td>\n",
       "      <td>-0.183316</td>\n",
       "      <td>-0.096629</td>\n",
       "      <td>-0.104898</td>\n",
       "      <td>-0.187532</td>\n",
       "      <td>-0.065945</td>\n",
       "      <td>-0.113949</td>\n",
       "      <td>-0.044019</td>\n",
       "      <td>-0.130009</td>\n",
       "      <td>-0.293205</td>\n",
       "      <td>-0.086423</td>\n",
       "      <td>-0.179939</td>\n",
       "      <td>-0.041367</td>\n",
       "      <td>-0.148531</td>\n",
       "      <td>-0.109613</td>\n",
       "      <td>-0.057433</td>\n",
       "      <td>-0.047781</td>\n",
       "      <td>1.0</td>\n",
       "    </tr>\n",
       "    <tr>\n",
       "      <th>2</th>\n",
       "      <td>0.752113</td>\n",
       "      <td>-0.126322</td>\n",
       "      <td>1.291724</td>\n",
       "      <td>-0.302888</td>\n",
       "      <td>-0.302887</td>\n",
       "      <td>0.946418</td>\n",
       "      <td>0.680639</td>\n",
       "      <td>1.067847</td>\n",
       "      <td>0.640612</td>\n",
       "      <td>0.202920</td>\n",
       "      <td>-0.051129</td>\n",
       "      <td>-0.380734</td>\n",
       "      <td>-0.076039</td>\n",
       "      <td>-0.125241</td>\n",
       "      <td>-0.375888</td>\n",
       "      <td>-1.687248</td>\n",
       "      <td>0.288709</td>\n",
       "      <td>0.690939</td>\n",
       "      <td>1.03777</td>\n",
       "      <td>0.791627</td>\n",
       "      <td>1.371584</td>\n",
       "      <td>-0.016391</td>\n",
       "      <td>-0.917114</td>\n",
       "      <td>-0.008029</td>\n",
       "      <td>-0.008029</td>\n",
       "      <td>-0.356997</td>\n",
       "      <td>1.152005</td>\n",
       "      <td>-0.079872</td>\n",
       "      <td>-0.338635</td>\n",
       "      <td>0.746641</td>\n",
       "      <td>-0.250197</td>\n",
       "      <td>-0.117242</td>\n",
       "      <td>-0.142133</td>\n",
       "      <td>-0.118367</td>\n",
       "      <td>-0.10911</td>\n",
       "      <td>-0.314762</td>\n",
       "      <td>-0.036377</td>\n",
       "      <td>-0.179301</td>\n",
       "      <td>-0.0771</td>\n",
       "      <td>-0.048454</td>\n",
       "      <td>-0.052518</td>\n",
       "      <td>-0.122499</td>\n",
       "      <td>-0.089767</td>\n",
       "      <td>-0.152783</td>\n",
       "      <td>-0.405178</td>\n",
       "      <td>-0.146363</td>\n",
       "      <td>-0.120312</td>\n",
       "      <td>-0.047098</td>\n",
       "      <td>-0.054833</td>\n",
       "      <td>-0.274485</td>\n",
       "      <td>-0.189518</td>\n",
       "      <td>-0.081357</td>\n",
       "      <td>-0.040178</td>\n",
       "      <td>-0.192329</td>\n",
       "      <td>-0.128462</td>\n",
       "      <td>-0.087738</td>\n",
       "      <td>-0.097419</td>\n",
       "      <td>-0.11419</td>\n",
       "      <td>-0.14521</td>\n",
       "      <td>6.146578</td>\n",
       "      <td>-0.037543</td>\n",
       "      <td>-0.163594</td>\n",
       "      <td>-0.130861</td>\n",
       "      <td>-0.122499</td>\n",
       "      <td>-0.073787</td>\n",
       "      <td>-0.050633</td>\n",
       "      <td>-0.177731</td>\n",
       "      <td>-0.034865</td>\n",
       "      <td>-0.054338</td>\n",
       "      <td>-0.064365</td>\n",
       "      <td>-0.192629</td>\n",
       "      <td>-0.072824</td>\n",
       "      <td>-0.122499</td>\n",
       "      <td>-0.307157</td>\n",
       "      <td>-0.183316</td>\n",
       "      <td>-0.096629</td>\n",
       "      <td>-0.104898</td>\n",
       "      <td>-0.187532</td>\n",
       "      <td>-0.065945</td>\n",
       "      <td>-0.113949</td>\n",
       "      <td>-0.044019</td>\n",
       "      <td>-0.130009</td>\n",
       "      <td>-0.293205</td>\n",
       "      <td>-0.086423</td>\n",
       "      <td>-0.179939</td>\n",
       "      <td>-0.041367</td>\n",
       "      <td>-0.148531</td>\n",
       "      <td>-0.109613</td>\n",
       "      <td>-0.057433</td>\n",
       "      <td>-0.047781</td>\n",
       "      <td>0.0</td>\n",
       "    </tr>\n",
       "    <tr>\n",
       "      <th>3</th>\n",
       "      <td>0.620448</td>\n",
       "      <td>0.288623</td>\n",
       "      <td>0.434069</td>\n",
       "      <td>2.160147</td>\n",
       "      <td>2.160138</td>\n",
       "      <td>-0.405165</td>\n",
       "      <td>0.373911</td>\n",
       "      <td>-0.690363</td>\n",
       "      <td>0.160148</td>\n",
       "      <td>0.413576</td>\n",
       "      <td>-0.904407</td>\n",
       "      <td>-0.380734</td>\n",
       "      <td>-0.076039</td>\n",
       "      <td>-0.125241</td>\n",
       "      <td>-0.375888</td>\n",
       "      <td>1.251477</td>\n",
       "      <td>-0.550411</td>\n",
       "      <td>0.690939</td>\n",
       "      <td>1.03777</td>\n",
       "      <td>0.791627</td>\n",
       "      <td>0.270731</td>\n",
       "      <td>-0.016391</td>\n",
       "      <td>1.090377</td>\n",
       "      <td>-0.008029</td>\n",
       "      <td>-0.008029</td>\n",
       "      <td>-0.356997</td>\n",
       "      <td>-0.868052</td>\n",
       "      <td>-0.079872</td>\n",
       "      <td>-0.338635</td>\n",
       "      <td>0.746641</td>\n",
       "      <td>-0.250197</td>\n",
       "      <td>-0.117242</td>\n",
       "      <td>-0.142133</td>\n",
       "      <td>-0.118367</td>\n",
       "      <td>-0.10911</td>\n",
       "      <td>-0.314762</td>\n",
       "      <td>-0.036377</td>\n",
       "      <td>-0.179301</td>\n",
       "      <td>-0.0771</td>\n",
       "      <td>-0.048454</td>\n",
       "      <td>-0.052518</td>\n",
       "      <td>-0.122499</td>\n",
       "      <td>-0.089767</td>\n",
       "      <td>-0.152783</td>\n",
       "      <td>-0.405178</td>\n",
       "      <td>-0.146363</td>\n",
       "      <td>-0.120312</td>\n",
       "      <td>-0.047098</td>\n",
       "      <td>-0.054833</td>\n",
       "      <td>-0.274485</td>\n",
       "      <td>-0.189518</td>\n",
       "      <td>-0.081357</td>\n",
       "      <td>-0.040178</td>\n",
       "      <td>-0.192329</td>\n",
       "      <td>-0.128462</td>\n",
       "      <td>-0.087738</td>\n",
       "      <td>-0.097419</td>\n",
       "      <td>-0.11419</td>\n",
       "      <td>-0.14521</td>\n",
       "      <td>-0.162692</td>\n",
       "      <td>-0.037543</td>\n",
       "      <td>-0.163594</td>\n",
       "      <td>-0.130861</td>\n",
       "      <td>-0.122499</td>\n",
       "      <td>-0.073787</td>\n",
       "      <td>-0.050633</td>\n",
       "      <td>-0.177731</td>\n",
       "      <td>-0.034865</td>\n",
       "      <td>-0.054338</td>\n",
       "      <td>-0.064365</td>\n",
       "      <td>-0.192629</td>\n",
       "      <td>-0.072824</td>\n",
       "      <td>-0.122499</td>\n",
       "      <td>-0.307157</td>\n",
       "      <td>5.455068</td>\n",
       "      <td>-0.096629</td>\n",
       "      <td>-0.104898</td>\n",
       "      <td>-0.187532</td>\n",
       "      <td>-0.065945</td>\n",
       "      <td>-0.113949</td>\n",
       "      <td>-0.044019</td>\n",
       "      <td>-0.130009</td>\n",
       "      <td>-0.293205</td>\n",
       "      <td>-0.086423</td>\n",
       "      <td>-0.179939</td>\n",
       "      <td>-0.041367</td>\n",
       "      <td>-0.148531</td>\n",
       "      <td>-0.109613</td>\n",
       "      <td>-0.057433</td>\n",
       "      <td>-0.047781</td>\n",
       "      <td>1.0</td>\n",
       "    </tr>\n",
       "    <tr>\n",
       "      <th>4</th>\n",
       "      <td>-0.185339</td>\n",
       "      <td>-0.489399</td>\n",
       "      <td>0.197985</td>\n",
       "      <td>-0.056584</td>\n",
       "      <td>-0.056584</td>\n",
       "      <td>-0.768333</td>\n",
       "      <td>-0.392324</td>\n",
       "      <td>-0.338721</td>\n",
       "      <td>0.160148</td>\n",
       "      <td>-0.494239</td>\n",
       "      <td>-0.051129</td>\n",
       "      <td>-0.380734</td>\n",
       "      <td>-0.076039</td>\n",
       "      <td>-0.125241</td>\n",
       "      <td>1.170753</td>\n",
       "      <td>-1.393376</td>\n",
       "      <td>-0.270704</td>\n",
       "      <td>0.690939</td>\n",
       "      <td>1.03777</td>\n",
       "      <td>-0.473750</td>\n",
       "      <td>-0.004483</td>\n",
       "      <td>-0.016391</td>\n",
       "      <td>-0.917114</td>\n",
       "      <td>-0.008029</td>\n",
       "      <td>-0.008029</td>\n",
       "      <td>-0.356997</td>\n",
       "      <td>1.152005</td>\n",
       "      <td>-0.079872</td>\n",
       "      <td>-0.338635</td>\n",
       "      <td>-1.339332</td>\n",
       "      <td>-0.250197</td>\n",
       "      <td>-0.117242</td>\n",
       "      <td>7.035681</td>\n",
       "      <td>-0.118367</td>\n",
       "      <td>-0.10911</td>\n",
       "      <td>-0.314762</td>\n",
       "      <td>-0.036377</td>\n",
       "      <td>-0.179301</td>\n",
       "      <td>-0.0771</td>\n",
       "      <td>-0.048454</td>\n",
       "      <td>-0.052518</td>\n",
       "      <td>-0.122499</td>\n",
       "      <td>-0.089767</td>\n",
       "      <td>-0.152783</td>\n",
       "      <td>-0.405178</td>\n",
       "      <td>-0.146363</td>\n",
       "      <td>-0.120312</td>\n",
       "      <td>-0.047098</td>\n",
       "      <td>-0.054833</td>\n",
       "      <td>-0.274485</td>\n",
       "      <td>-0.189518</td>\n",
       "      <td>-0.081357</td>\n",
       "      <td>-0.040178</td>\n",
       "      <td>-0.192329</td>\n",
       "      <td>-0.128462</td>\n",
       "      <td>-0.087738</td>\n",
       "      <td>-0.097419</td>\n",
       "      <td>-0.11419</td>\n",
       "      <td>-0.14521</td>\n",
       "      <td>-0.162692</td>\n",
       "      <td>-0.037543</td>\n",
       "      <td>-0.163594</td>\n",
       "      <td>7.641705</td>\n",
       "      <td>-0.122499</td>\n",
       "      <td>-0.073787</td>\n",
       "      <td>-0.050633</td>\n",
       "      <td>-0.177731</td>\n",
       "      <td>-0.034865</td>\n",
       "      <td>-0.054338</td>\n",
       "      <td>-0.064365</td>\n",
       "      <td>-0.192629</td>\n",
       "      <td>-0.072824</td>\n",
       "      <td>-0.122499</td>\n",
       "      <td>-0.307157</td>\n",
       "      <td>-0.183316</td>\n",
       "      <td>-0.096629</td>\n",
       "      <td>-0.104898</td>\n",
       "      <td>-0.187532</td>\n",
       "      <td>-0.065945</td>\n",
       "      <td>-0.113949</td>\n",
       "      <td>-0.044019</td>\n",
       "      <td>-0.130009</td>\n",
       "      <td>-0.293205</td>\n",
       "      <td>-0.086423</td>\n",
       "      <td>-0.179939</td>\n",
       "      <td>-0.041367</td>\n",
       "      <td>-0.148531</td>\n",
       "      <td>-0.109613</td>\n",
       "      <td>-0.057433</td>\n",
       "      <td>-0.047781</td>\n",
       "      <td>0.0</td>\n",
       "    </tr>\n",
       "  </tbody>\n",
       "</table>\n",
       "</div>"
      ],
      "text/plain": [
       "   loan_amnt  annual_inc       dti  fico_range_low  fico_range_high  int_rate  \\\n",
       "0  -0.872628    0.503581  0.572069        0.682326         0.682323 -0.405165   \n",
       "1   1.718531    0.772725  1.749064        0.928630         0.928625 -1.135245   \n",
       "2   0.752113   -0.126322  1.291724       -0.302888        -0.302887  0.946418   \n",
       "3   0.620448    0.288623  0.434069        2.160147         2.160138 -0.405165   \n",
       "4  -0.185339   -0.489399  0.197985       -0.056584        -0.056584 -0.768333   \n",
       "\n",
       "   installment  open_acc  total_acc  revol_bal  inq_last_6mths  delinq_2yrs  \\\n",
       "0    -0.986330  0.012921   0.800766   0.257759        1.655427     0.676995   \n",
       "1     1.241494  2.298594   2.322233  -0.117413       -0.904407     0.676995   \n",
       "2     0.680639  1.067847   0.640612   0.202920       -0.051129    -0.380734   \n",
       "3     0.373911 -0.690363   0.160148   0.413576       -0.904407    -0.380734   \n",
       "4    -0.392324 -0.338721   0.160148  -0.494239       -0.051129    -0.380734   \n",
       "\n",
       "   acc_now_delinq  collections_12_mths_ex_med   pub_rec  \\\n",
       "0       -0.076039                   -0.125241 -0.375888   \n",
       "1       -0.076039                   -0.125241 -0.375888   \n",
       "2       -0.076039                   -0.125241 -0.375888   \n",
       "3       -0.076039                   -0.125241 -0.375888   \n",
       "4       -0.076039                   -0.125241  1.170753   \n",
       "\n",
       "   earliest_cr_line_month  earliest_cr_line_year      term  \\\n",
       "0               -0.217886              -0.270704  0.690939   \n",
       "1                0.957605              -0.830117  0.690939   \n",
       "2               -1.687248               0.288709  0.690939   \n",
       "3                1.251477              -0.550411  0.690939   \n",
       "4               -1.393376              -0.270704  0.690939   \n",
       "\n",
       "   initial_list_status     grade  sub_grade       ANY  MORTGAGE      NONE  \\\n",
       "0              1.03777  0.791627   0.270731 -0.016391  1.090377 -0.008029   \n",
       "1              1.03777 -0.473750  -0.279696 -0.016391  1.090377 -0.008029   \n",
       "2              1.03777  0.791627   1.371584 -0.016391 -0.917114 -0.008029   \n",
       "3              1.03777  0.791627   0.270731 -0.016391  1.090377 -0.008029   \n",
       "4              1.03777 -0.473750  -0.004483 -0.016391 -0.917114 -0.008029   \n",
       "\n",
       "      OTHER       OWN      RENT       car  credit_card  debt_consolidation  \\\n",
       "0 -0.008029 -0.356997 -0.868052 -0.079872    -0.338635           -1.339332   \n",
       "1 -0.008029 -0.356997 -0.868052 -0.079872    -0.338635            0.746641   \n",
       "2 -0.008029 -0.356997  1.152005 -0.079872    -0.338635            0.746641   \n",
       "3 -0.008029 -0.356997 -0.868052 -0.079872    -0.338635            0.746641   \n",
       "4 -0.008029 -0.356997  1.152005 -0.079872    -0.338635           -1.339332   \n",
       "\n",
       "   home_improvement     house  major_purchase   medical   moving     other  \\\n",
       "0         -0.250197 -0.117242        7.035681 -0.118367 -0.10911 -0.314762   \n",
       "1         -0.250197 -0.117242       -0.142133 -0.118367 -0.10911 -0.314762   \n",
       "2         -0.250197 -0.117242       -0.142133 -0.118367 -0.10911 -0.314762   \n",
       "3         -0.250197 -0.117242       -0.142133 -0.118367 -0.10911 -0.314762   \n",
       "4         -0.250197 -0.117242        7.035681 -0.118367 -0.10911 -0.314762   \n",
       "\n",
       "   renewable_energy  small_business  vacation   wedding        AK        AL  \\\n",
       "0         -0.036377       -0.179301   -0.0771 -0.048454 -0.052518 -0.122499   \n",
       "1         -0.036377       -0.179301   -0.0771 -0.048454 -0.052518 -0.122499   \n",
       "2         -0.036377       -0.179301   -0.0771 -0.048454 -0.052518 -0.122499   \n",
       "3         -0.036377       -0.179301   -0.0771 -0.048454 -0.052518 -0.122499   \n",
       "4         -0.036377       -0.179301   -0.0771 -0.048454 -0.052518 -0.122499   \n",
       "\n",
       "         AR        AZ        CA        CO        CT        DC        DE  \\\n",
       "0 -0.089767 -0.152783 -0.405178 -0.146363 -0.120312 -0.047098 -0.054833   \n",
       "1 -0.089767 -0.152783 -0.405178 -0.146363 -0.120312 -0.047098 -0.054833   \n",
       "2 -0.089767 -0.152783 -0.405178 -0.146363 -0.120312 -0.047098 -0.054833   \n",
       "3 -0.089767 -0.152783 -0.405178 -0.146363 -0.120312 -0.047098 -0.054833   \n",
       "4 -0.089767 -0.152783 -0.405178 -0.146363 -0.120312 -0.047098 -0.054833   \n",
       "\n",
       "         FL        GA        HI        ID        IL        IN        KS  \\\n",
       "0 -0.274485 -0.189518 -0.081357 -0.040178 -0.192329 -0.128462 -0.087738   \n",
       "1 -0.274485  5.276548 -0.081357 -0.040178 -0.192329 -0.128462 -0.087738   \n",
       "2 -0.274485 -0.189518 -0.081357 -0.040178 -0.192329 -0.128462 -0.087738   \n",
       "3 -0.274485 -0.189518 -0.081357 -0.040178 -0.192329 -0.128462 -0.087738   \n",
       "4 -0.274485 -0.189518 -0.081357 -0.040178 -0.192329 -0.128462 -0.087738   \n",
       "\n",
       "         KY       LA       MA        MD        ME        MI        MN  \\\n",
       "0 -0.097419 -0.11419 -0.14521 -0.162692 -0.037543 -0.163594 -0.130861   \n",
       "1 -0.097419 -0.11419 -0.14521 -0.162692 -0.037543 -0.163594 -0.130861   \n",
       "2 -0.097419 -0.11419 -0.14521  6.146578 -0.037543 -0.163594 -0.130861   \n",
       "3 -0.097419 -0.11419 -0.14521 -0.162692 -0.037543 -0.163594 -0.130861   \n",
       "4 -0.097419 -0.11419 -0.14521 -0.162692 -0.037543 -0.163594  7.641705   \n",
       "\n",
       "         MO        MS        MT        NC        ND        NE        NH  \\\n",
       "0 -0.122499 -0.073787 -0.050633 -0.177731 -0.034865 -0.054338 -0.064365   \n",
       "1 -0.122499 -0.073787 -0.050633 -0.177731 -0.034865 -0.054338 -0.064365   \n",
       "2 -0.122499 -0.073787 -0.050633 -0.177731 -0.034865 -0.054338 -0.064365   \n",
       "3 -0.122499 -0.073787 -0.050633 -0.177731 -0.034865 -0.054338 -0.064365   \n",
       "4 -0.122499 -0.073787 -0.050633 -0.177731 -0.034865 -0.054338 -0.064365   \n",
       "\n",
       "         NJ        NM        NV        NY        OH        OK        OR  \\\n",
       "0 -0.192629 -0.072824 -0.122499 -0.307157 -0.183316 -0.096629 -0.104898   \n",
       "1 -0.192629 -0.072824 -0.122499 -0.307157 -0.183316 -0.096629 -0.104898   \n",
       "2 -0.192629 -0.072824 -0.122499 -0.307157 -0.183316 -0.096629 -0.104898   \n",
       "3 -0.192629 -0.072824 -0.122499 -0.307157  5.455068 -0.096629 -0.104898   \n",
       "4 -0.192629 -0.072824 -0.122499 -0.307157 -0.183316 -0.096629 -0.104898   \n",
       "\n",
       "         PA        RI        SC        SD        TN        TX        UT  \\\n",
       "0  5.332434 -0.065945 -0.113949 -0.044019 -0.130009 -0.293205 -0.086423   \n",
       "1 -0.187532 -0.065945 -0.113949 -0.044019 -0.130009 -0.293205 -0.086423   \n",
       "2 -0.187532 -0.065945 -0.113949 -0.044019 -0.130009 -0.293205 -0.086423   \n",
       "3 -0.187532 -0.065945 -0.113949 -0.044019 -0.130009 -0.293205 -0.086423   \n",
       "4 -0.187532 -0.065945 -0.113949 -0.044019 -0.130009 -0.293205 -0.086423   \n",
       "\n",
       "         VA        VT        WA        WI        WV        WY  loan_status_bin  \n",
       "0 -0.179939 -0.041367 -0.148531 -0.109613 -0.057433 -0.047781              1.0  \n",
       "1 -0.179939 -0.041367 -0.148531 -0.109613 -0.057433 -0.047781              1.0  \n",
       "2 -0.179939 -0.041367 -0.148531 -0.109613 -0.057433 -0.047781              0.0  \n",
       "3 -0.179939 -0.041367 -0.148531 -0.109613 -0.057433 -0.047781              1.0  \n",
       "4 -0.179939 -0.041367 -0.148531 -0.109613 -0.057433 -0.047781              0.0  "
      ]
     },
     "execution_count": 3,
     "metadata": {},
     "output_type": "execute_result"
    }
   ],
   "source": [
    "data = pd.read_csv('../../Data/20x91.csv')\n",
    "data.head(5)"
   ]
  },
  {
   "cell_type": "code",
   "execution_count": 4,
   "id": "771565fb",
   "metadata": {},
   "outputs": [
    {
     "data": {
      "text/plain": [
       "(93073, 91)"
      ]
     },
     "execution_count": 4,
     "metadata": {},
     "output_type": "execute_result"
    }
   ],
   "source": [
    "data.shape"
   ]
  },
  {
   "cell_type": "code",
   "execution_count": 5,
   "id": "74758ddc",
   "metadata": {},
   "outputs": [
    {
     "data": {
      "text/plain": [
       "1.0    54388\n",
       "0.0    38685\n",
       "Name: loan_status_bin, dtype: int64"
      ]
     },
     "execution_count": 5,
     "metadata": {},
     "output_type": "execute_result"
    }
   ],
   "source": [
    "data.loan_status_bin.value_counts()\n",
    "#0 = Defaulted Loans\n",
    "#1 = Loans Paid In Full"
   ]
  },
  {
   "cell_type": "code",
   "execution_count": 6,
   "id": "b9a9c6be",
   "metadata": {},
   "outputs": [
    {
     "data": {
      "text/plain": [
       "(93073, 90)"
      ]
     },
     "execution_count": 6,
     "metadata": {},
     "output_type": "execute_result"
    }
   ],
   "source": [
    "X = data.drop('loan_status_bin', axis=1)\n",
    "X.shape"
   ]
  },
  {
   "cell_type": "code",
   "execution_count": 7,
   "id": "0559962b",
   "metadata": {},
   "outputs": [],
   "source": [
    "y = data['loan_status_bin']"
   ]
  },
  {
   "cell_type": "code",
   "execution_count": 8,
   "id": "9b1bb6de",
   "metadata": {},
   "outputs": [],
   "source": [
    "lr1 = LogisticRegression()"
   ]
  },
  {
   "cell_type": "code",
   "execution_count": 9,
   "id": "e9e711e2",
   "metadata": {},
   "outputs": [],
   "source": [
    "steps = [('model', lr1)]\n",
    "pipeline = Pipeline(steps=steps)"
   ]
  },
  {
   "cell_type": "code",
   "execution_count": 10,
   "id": "fb714eeb",
   "metadata": {},
   "outputs": [
    {
     "name": "stdout",
     "output_type": "stream",
     "text": [
      "[0.61343003 0.61713672 0.61756648 0.61335554 0.61228108]\n",
      "0.6147539686985506\n"
     ]
    }
   ],
   "source": [
    "#Accuracy:\n",
    "\n",
    "cv = RepeatedStratifiedKFold(n_splits=5, n_repeats=1, random_state=1)\n",
    "scores = cross_val_score(pipeline, X, y, scoring='accuracy', cv=cv, n_jobs=-1) \n",
    "print(scores)\n",
    "\n",
    "score = np.mean(scores)\n",
    "print(score)"
   ]
  },
  {
   "cell_type": "code",
   "execution_count": 11,
   "id": "9db484eb",
   "metadata": {},
   "outputs": [
    {
     "data": {
      "text/plain": [
       "array([[11972, 26713],\n",
       "       [ 9143, 45245]])"
      ]
     },
     "execution_count": 11,
     "metadata": {},
     "output_type": "execute_result"
    }
   ],
   "source": [
    "#Aggregated Confusion Matrix From RepeatedStratifiedKFold: \n",
    "y_pred = cross_val_predict(pipeline, X, y, cv=cv, n_jobs=-1)\n",
    "conf_mat = confusion_matrix(y, y_pred)\n",
    "conf_mat"
   ]
  },
  {
   "cell_type": "code",
   "execution_count": 12,
   "id": "cd14efda",
   "metadata": {},
   "outputs": [
    {
     "data": {
      "image/png": "[encoded data removed]",
      "text/plain": [
       "<Figure size 864x432 with 1 Axes>"
      ]
     },
     "metadata": {},
     "output_type": "display_data"
    }
   ],
   "source": [
    "sns.set(rc = {'figure.figsize':(12,6)})\n",
    "#cmap = sns.cubehelix_palette(start=2, rot=0, dark=0, light=.95, reverse=True, as_cmap=True)\n",
    "cmap = sns.light_palette('seagreen', as_cmap=True)\n",
    "\n",
    "res = sns.heatmap(conf_mat, annot=True, fmt='d', annot_kws={\"size\":20},\n",
    "#            xticklabels = ['Good = Paid In Full', 'Bad = Default'],\n",
    "#            yticklabels = ['Loan Paid In Full', 'Bad = Default'], \n",
    "            cmap=cmap, cbar=False)\n",
    "\n",
    "res.set_xticklabels(['Loan Default', 'Loan Repaid'], fontsize=15)\n",
    "res.set_yticklabels(['Loan Default', 'Loan Repaid'], fontsize=15)\n",
    "\n",
    "\n",
    "plt.title('Confusion Matrix For Logistic Regression', fontsize=25, pad=15)\n",
    "plt.xlabel('Predicted', fontsize=20)\n",
    "plt.ylabel('Actual', fontsize=20);"
   ]
  },
  {
   "cell_type": "code",
   "execution_count": 13,
   "id": "345a55b6",
   "metadata": {},
   "outputs": [
    {
     "data": {
      "text/plain": [
       "0.6147540102929958"
      ]
     },
     "execution_count": 13,
     "metadata": {},
     "output_type": "execute_result"
    }
   ],
   "source": [
    "accuracy_score(y, y_pred)"
   ]
  },
  {
   "cell_type": "code",
   "execution_count": 14,
   "id": "22662a59",
   "metadata": {},
   "outputs": [
    {
     "name": "stdout",
     "output_type": "stream",
     "text": [
      "45245\n",
      "26713\n",
      "9143\n",
      "11972\n",
      "0.6147540102929958\n"
     ]
    }
   ],
   "source": [
    "TN, FP, FN, TP = conf_mat.ravel()\n",
    "print(TP)\n",
    "print(FP)\n",
    "print(FN)\n",
    "print(TN)\n",
    "print((TP + TN) / (TN + TP + FP + FN))"
   ]
  },
  {
   "cell_type": "code",
   "execution_count": null,
   "id": "4dcedec5",
   "metadata": {},
   "outputs": [],
   "source": []
  },
  {
   "cell_type": "code",
   "execution_count": 15,
   "id": "36dec5fa",
   "metadata": {},
   "outputs": [
    {
     "name": "stdout",
     "output_type": "stream",
     "text": [
      "1.0    54388\n",
      "0.0    38685\n",
      "Name: loan_status_bin, dtype: int64\n",
      "\n",
      "0.5843585142844864\n"
     ]
    }
   ],
   "source": [
    "#Re-examine original pool of accepted LC Loans: \n",
    "\n",
    "print(data.loan_status_bin.value_counts())\n",
    "#0 = Loan Defaulted\n",
    "#1 = Loan Fully Paid\n",
    "\n",
    "good_loan = data.loan_status_bin.value_counts()[1]\n",
    "bad_loan = data.loan_status_bin.value_counts()[0]\n",
    "\n",
    "print()\n",
    "print(good_loan / (good_loan + bad_loan))\n",
    "\n",
    "#Random investment would give us 59% chance of pickkng a good loan"
   ]
  },
  {
   "cell_type": "code",
   "execution_count": 16,
   "id": "9be4be5d",
   "metadata": {},
   "outputs": [
    {
     "data": {
      "text/plain": [
       "0.6287695600211234"
      ]
     },
     "execution_count": 16,
     "metadata": {},
     "output_type": "execute_result"
    }
   ],
   "source": [
    "#Positive Predictive Value (or Precision)\n",
    "#Logistic Model only does 3% better than Null Model or \"random investment\"\n",
    "TP / (TP+FP)"
   ]
  },
  {
   "cell_type": "code",
   "execution_count": null,
   "id": "33d49ed8",
   "metadata": {},
   "outputs": [],
   "source": []
  },
  {
   "cell_type": "code",
   "execution_count": 17,
   "id": "3e6f9d5f",
   "metadata": {},
   "outputs": [],
   "source": [
    "#Obtain predicted probabilities (not predicted classes) from RSKF: \n",
    "y_pred_prob = cross_val_predict(pipeline, X, y, cv=cv, n_jobs=-1, method='predict_proba')"
   ]
  },
  {
   "cell_type": "code",
   "execution_count": 18,
   "id": "9f850d5b",
   "metadata": {},
   "outputs": [
    {
     "data": {
      "text/plain": [
       "array([[0.41209131, 0.58790869],\n",
       "       [0.41980977, 0.58019023],\n",
       "       [0.67990877, 0.32009123],\n",
       "       ...,\n",
       "       [0.28362402, 0.71637598],\n",
       "       [0.37051898, 0.62948102],\n",
       "       [0.23982988, 0.76017012]])"
      ]
     },
     "execution_count": 18,
     "metadata": {},
     "output_type": "execute_result"
    }
   ],
   "source": [
    "y_pred_prob"
   ]
  },
  {
   "cell_type": "code",
   "execution_count": 19,
   "id": "973f2937",
   "metadata": {},
   "outputs": [
    {
     "data": {
      "text/plain": [
       "array([0., 0., 0., ..., 0., 0., 0.])"
      ]
     },
     "execution_count": 19,
     "metadata": {},
     "output_type": "execute_result"
    }
   ],
   "source": [
    "#Obtaining classification based on desired threshold of 0.8: \n",
    "\n",
    "y_pred_success = (y_pred_prob[:, 1] > 0.8).astype('float')\n",
    "y_pred_success"
   ]
  },
  {
   "cell_type": "code",
   "execution_count": 20,
   "id": "686a5f94",
   "metadata": {},
   "outputs": [
    {
     "data": {
      "text/plain": [
       "array([[38316,   369],\n",
       "       [52788,  1600]])"
      ]
     },
     "execution_count": 20,
     "metadata": {},
     "output_type": "execute_result"
    }
   ],
   "source": [
    "conf_mat = confusion_matrix(y, y_pred_success)\n",
    "conf_mat"
   ]
  },
  {
   "cell_type": "code",
   "execution_count": 21,
   "id": "6c050cfb",
   "metadata": {},
   "outputs": [
    {
     "data": {
      "image/png": "[encoded data removed]",
      "text/plain": [
       "<Figure size 864x432 with 1 Axes>"
      ]
     },
     "metadata": {},
     "output_type": "display_data"
    }
   ],
   "source": [
    "sns.set(rc = {'figure.figsize':(12,6)})\n",
    "#cmap = sns.cubehelix_palette(start=2, rot=0, dark=0, light=.95, reverse=True, as_cmap=True)\n",
    "cmap = sns.light_palette('seagreen', as_cmap=True)\n",
    "\n",
    "res = sns.heatmap(conf_mat, annot=True, fmt='d', annot_kws={\"size\":20},\n",
    "#            xticklabels = ['Good = Paid In Full', 'Bad = Default'],\n",
    "#            yticklabels = ['Loan Paid In Full', 'Bad = Default'], \n",
    "            cmap=cmap, cbar=False)\n",
    "\n",
    "res.set_xticklabels(['Loan Default', 'Loan Repaid'], fontsize=15)\n",
    "res.set_yticklabels(['Loan Default', 'Loan Repaid'], fontsize=15)\n",
    "\n",
    "\n",
    "plt.title('Confusion Matrix For Logistic Regression', fontsize=25, pad=15)\n",
    "plt.xlabel('Predicted', fontsize=20)\n",
    "plt.ylabel('Actual', fontsize=20);"
   ]
  },
  {
   "cell_type": "code",
   "execution_count": 22,
   "id": "c5dc62cd",
   "metadata": {},
   "outputs": [
    {
     "data": {
      "text/plain": [
       "0.42886766301720153"
      ]
     },
     "execution_count": 22,
     "metadata": {},
     "output_type": "execute_result"
    }
   ],
   "source": [
    "accuracy_score(y, y_pred_success)"
   ]
  },
  {
   "cell_type": "code",
   "execution_count": 23,
   "id": "25920782",
   "metadata": {},
   "outputs": [
    {
     "name": "stdout",
     "output_type": "stream",
     "text": [
      "1600\n",
      "369\n",
      "52788\n",
      "38316\n",
      "0.42886766301720153\n"
     ]
    }
   ],
   "source": [
    "TN, FP, FN, TP = conf_mat.ravel()\n",
    "print(TP)\n",
    "print(FP)\n",
    "print(FN)\n",
    "print(TN)\n",
    "print((TP + TN) / (TN + TP + FP + FN))"
   ]
  },
  {
   "cell_type": "code",
   "execution_count": 24,
   "id": "67e15484",
   "metadata": {},
   "outputs": [
    {
     "data": {
      "text/plain": [
       "0.8125952260030472"
      ]
     },
     "execution_count": 24,
     "metadata": {},
     "output_type": "execute_result"
    }
   ],
   "source": [
    "#Positive Predictive Value (or Precision)\n",
    "#Logistic Model only does 23% better than Null Model or \"random investment\"\n",
    "TP / (TP+FP)"
   ]
  },
  {
   "cell_type": "code",
   "execution_count": null,
   "id": "a51b3ce5",
   "metadata": {},
   "outputs": [],
   "source": [
    "## Next question. what was characteristic of the 217 loans that defaulted??\n",
    "## Get all loans which you predicted greater than 80% and find out which ones defaulted.\n",
    "## Any pattern?????"
   ]
  },
  {
   "cell_type": "code",
   "execution_count": null,
   "id": "2bb4a848",
   "metadata": {},
   "outputs": [],
   "source": [
    "#Do we drop all observations where the source is not verified? \n",
    "#Do we drop all observations loan amount is greater than half of one's income? "
   ]
  },
  {
   "cell_type": "code",
   "execution_count": null,
   "id": "88205f9a",
   "metadata": {},
   "outputs": [],
   "source": []
  }
 ],
 "metadata": {
  "hide_input": false,
  "kernelspec": {
   "display_name": "Python 3 (ipykernel)",
   "language": "python",
   "name": "python3"
  },
  "language_info": {
   "codemirror_mode": {
    "name": "ipython",
    "version": 3
   },
   "file_extension": ".py",
   "mimetype": "text/x-python",
   "name": "python",
   "nbconvert_exporter": "python",
   "pygments_lexer": "ipython3",
   "version": "3.8.8"
  },
  "varInspector": {
   "cols": {
    "lenName": 16,
    "lenType": 16,
    "lenVar": 40
   },
   "kernels_config": {
    "python": {
     "delete_cmd_postfix": "",
     "delete_cmd_prefix": "del ",
     "library": "var_list.py",
     "varRefreshCmd": "print(var_dic_list())"
    },
    "r": {
     "delete_cmd_postfix": ") ",
     "delete_cmd_prefix": "rm(",
     "library": "var_list.r",
     "varRefreshCmd": "cat(var_dic_list()) "
    }
   },
   "types_to_exclude": [
    "module",
    "function",
    "builtin_function_or_method",
    "instance",
    "_Feature"
   ],
   "window_display": false
  }
 },
 "nbformat": 4,
 "nbformat_minor": 5
}
