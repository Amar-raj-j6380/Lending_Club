{
 "cells": [
  {
   "cell_type": "code",
   "execution_count": 1,
   "id": "cbf92949",
   "metadata": {},
   "outputs": [],
   "source": [
    "import pandas as pd\n",
    "import numpy as np\n",
    "import matplotlib.pyplot as plt\n",
    "import seaborn as sns"
   ]
  },
  {
   "cell_type": "code",
   "execution_count": 2,
   "id": "97dccbad",
   "metadata": {},
   "outputs": [],
   "source": [
    "data = pd.read_csv('../../../Data/Combo_4_DropNAs.csv')"
   ]
  },
  {
   "cell_type": "code",
   "execution_count": 3,
   "id": "26dbf3dd",
   "metadata": {},
   "outputs": [
    {
     "data": {
      "text/html": [
       "<div>\n",
       "<style scoped>\n",
       "    .dataframe tbody tr th:only-of-type {\n",
       "        vertical-align: middle;\n",
       "    }\n",
       "\n",
       "    .dataframe tbody tr th {\n",
       "        vertical-align: top;\n",
       "    }\n",
       "\n",
       "    .dataframe thead th {\n",
       "        text-align: right;\n",
       "    }\n",
       "</style>\n",
       "<table border=\"1\" class=\"dataframe\">\n",
       "  <thead>\n",
       "    <tr style=\"text-align: right;\">\n",
       "      <th></th>\n",
       "      <th>Risk_Score</th>\n",
       "      <th>DI</th>\n",
       "      <th>Loan Type</th>\n",
       "      <th>Employment Length</th>\n",
       "      <th>Accepted</th>\n",
       "    </tr>\n",
       "  </thead>\n",
       "  <tbody>\n",
       "    <tr>\n",
       "      <th>0</th>\n",
       "      <td>677.0</td>\n",
       "      <td>0.065455</td>\n",
       "      <td>Debt Consolidation</td>\n",
       "      <td>10+ years</td>\n",
       "      <td>1</td>\n",
       "    </tr>\n",
       "    <tr>\n",
       "      <th>1</th>\n",
       "      <td>717.0</td>\n",
       "      <td>0.380000</td>\n",
       "      <td>Business Loan</td>\n",
       "      <td>10+ years</td>\n",
       "      <td>1</td>\n",
       "    </tr>\n",
       "    <tr>\n",
       "      <th>2</th>\n",
       "      <td>697.0</td>\n",
       "      <td>0.317460</td>\n",
       "      <td>Home Improvement</td>\n",
       "      <td>10+ years</td>\n",
       "      <td>1</td>\n",
       "    </tr>\n",
       "    <tr>\n",
       "      <th>3</th>\n",
       "      <td>787.0</td>\n",
       "      <td>0.318182</td>\n",
       "      <td>Debt Consolidation</td>\n",
       "      <td>10+ years</td>\n",
       "      <td>1</td>\n",
       "    </tr>\n",
       "    <tr>\n",
       "      <th>4</th>\n",
       "      <td>697.0</td>\n",
       "      <td>0.099585</td>\n",
       "      <td>Major Purchase</td>\n",
       "      <td>3 years</td>\n",
       "      <td>1</td>\n",
       "    </tr>\n",
       "    <tr>\n",
       "      <th>...</th>\n",
       "      <td>...</td>\n",
       "      <td>...</td>\n",
       "      <td>...</td>\n",
       "      <td>...</td>\n",
       "      <td>...</td>\n",
       "    </tr>\n",
       "    <tr>\n",
       "      <th>11105947</th>\n",
       "      <td>681.0</td>\n",
       "      <td>0.551500</td>\n",
       "      <td>Debt Consolidation</td>\n",
       "      <td>&lt; 1 year</td>\n",
       "      <td>0</td>\n",
       "    </tr>\n",
       "    <tr>\n",
       "      <th>11105948</th>\n",
       "      <td>531.0</td>\n",
       "      <td>0.313100</td>\n",
       "      <td>Debt Consolidation</td>\n",
       "      <td>&lt; 1 year</td>\n",
       "      <td>0</td>\n",
       "    </tr>\n",
       "    <tr>\n",
       "      <th>11105949</th>\n",
       "      <td>590.0</td>\n",
       "      <td>0.412600</td>\n",
       "      <td>Debt Consolidation</td>\n",
       "      <td>&lt; 1 year</td>\n",
       "      <td>0</td>\n",
       "    </tr>\n",
       "    <tr>\n",
       "      <th>11105950</th>\n",
       "      <td>686.0</td>\n",
       "      <td>0.102600</td>\n",
       "      <td>Other</td>\n",
       "      <td>&lt; 1 year</td>\n",
       "      <td>0</td>\n",
       "    </tr>\n",
       "    <tr>\n",
       "      <th>11105951</th>\n",
       "      <td>684.0</td>\n",
       "      <td>0.105800</td>\n",
       "      <td>Business Loan</td>\n",
       "      <td>&lt; 1 year</td>\n",
       "      <td>0</td>\n",
       "    </tr>\n",
       "  </tbody>\n",
       "</table>\n",
       "<p>11105952 rows × 5 columns</p>\n",
       "</div>"
      ],
      "text/plain": [
       "          Risk_Score        DI           Loan Type Employment Length  Accepted\n",
       "0              677.0  0.065455  Debt Consolidation         10+ years         1\n",
       "1              717.0  0.380000       Business Loan         10+ years         1\n",
       "2              697.0  0.317460    Home Improvement         10+ years         1\n",
       "3              787.0  0.318182  Debt Consolidation         10+ years         1\n",
       "4              697.0  0.099585      Major Purchase           3 years         1\n",
       "...              ...       ...                 ...               ...       ...\n",
       "11105947       681.0  0.551500  Debt Consolidation          < 1 year         0\n",
       "11105948       531.0  0.313100  Debt Consolidation          < 1 year         0\n",
       "11105949       590.0  0.412600  Debt Consolidation          < 1 year         0\n",
       "11105950       686.0  0.102600               Other          < 1 year         0\n",
       "11105951       684.0  0.105800       Business Loan          < 1 year         0\n",
       "\n",
       "[11105952 rows x 5 columns]"
      ]
     },
     "execution_count": 3,
     "metadata": {},
     "output_type": "execute_result"
    }
   ],
   "source": [
    "data"
   ]
  },
  {
   "cell_type": "code",
   "execution_count": 4,
   "id": "de7c9be6",
   "metadata": {},
   "outputs": [
    {
     "data": {
      "text/plain": [
       "Risk_Score           float64\n",
       "DI                   float64\n",
       "Loan Type             object\n",
       "Employment Length     object\n",
       "Accepted               int64\n",
       "dtype: object"
      ]
     },
     "execution_count": 4,
     "metadata": {},
     "output_type": "execute_result"
    }
   ],
   "source": [
    "data.dtypes"
   ]
  },
  {
   "cell_type": "code",
   "execution_count": 5,
   "id": "e631e64c",
   "metadata": {},
   "outputs": [
    {
     "name": "stdout",
     "output_type": "stream",
     "text": [
      "['Loan Type', 'Employment Length']\n"
     ]
    }
   ],
   "source": [
    "cat_features = ['Loan Type', 'Employment Length']\n",
    "print(cat_features)"
   ]
  },
  {
   "cell_type": "code",
   "execution_count": 6,
   "id": "4084c980",
   "metadata": {},
   "outputs": [
    {
     "name": "stdout",
     "output_type": "stream",
     "text": [
      "(11105952,)\n",
      "(11105952, 4)\n"
     ]
    }
   ],
   "source": [
    "y = data.Accepted\n",
    "X = data.drop('Accepted', axis=1)\n",
    "print (y.shape)\n",
    "print (X.shape)"
   ]
  },
  {
   "cell_type": "code",
   "execution_count": 7,
   "id": "a4f53995",
   "metadata": {},
   "outputs": [
    {
     "name": "stdout",
     "output_type": "stream",
     "text": [
      "Labels: {0, 1}\n",
      "Zero count or Rejected = 8992195, One count or Accepted = 2113757\n",
      "Ratio of One Count or Accepted = 0.1903265024015951\n"
     ]
    }
   ],
   "source": [
    "print('Labels: {}'.format(set(y)))\n",
    "print('Zero count or Rejected = {}, One count or Accepted = {}'.format(len(y) - sum(y), sum(y)))\n",
    "print('Ratio of One Count or Accepted = {}'.format(sum(y)/len(y)))"
   ]
  },
  {
   "cell_type": "code",
   "execution_count": null,
   "id": "8e6412bc",
   "metadata": {},
   "outputs": [],
   "source": []
  },
  {
   "cell_type": "code",
   "execution_count": 8,
   "id": "72568d4d",
   "metadata": {},
   "outputs": [
    {
     "data": {
      "text/plain": [
       "<catboost.core.CatBoostClassifier at 0x7f8188035c70>"
      ]
     },
     "execution_count": 8,
     "metadata": {},
     "output_type": "execute_result"
    }
   ],
   "source": [
    "from catboost import CatBoostClassifier\n",
    "cb = CatBoostClassifier(iterations=100)\n",
    "cb.fit(X, y, cat_features = cat_features, verbose = False)"
   ]
  },
  {
   "cell_type": "code",
   "execution_count": 9,
   "id": "6770ee77",
   "metadata": {},
   "outputs": [
    {
     "data": {
      "text/plain": [
       "array([1, 1, 1, ..., 0, 0, 0])"
      ]
     },
     "execution_count": 9,
     "metadata": {},
     "output_type": "execute_result"
    }
   ],
   "source": [
    "cb.predict(X)"
   ]
  },
  {
   "cell_type": "code",
   "execution_count": 10,
   "id": "ce4b1804",
   "metadata": {},
   "outputs": [
    {
     "data": {
      "text/plain": [
       "0           1\n",
       "1           1\n",
       "2           1\n",
       "3           1\n",
       "4           1\n",
       "           ..\n",
       "11105947    0\n",
       "11105948    0\n",
       "11105949    0\n",
       "11105950    0\n",
       "11105951    0\n",
       "Name: Accepted, Length: 11105952, dtype: int64"
      ]
     },
     "execution_count": 10,
     "metadata": {},
     "output_type": "execute_result"
    }
   ],
   "source": [
    "y"
   ]
  },
  {
   "cell_type": "code",
   "execution_count": 11,
   "id": "e73cea1c",
   "metadata": {},
   "outputs": [
    {
     "data": {
      "text/plain": [
       "0.9755720175992116"
      ]
     },
     "execution_count": 11,
     "metadata": {},
     "output_type": "execute_result"
    }
   ],
   "source": [
    "cb.score(X,y)"
   ]
  },
  {
   "cell_type": "code",
   "execution_count": 12,
   "id": "95d4e1f9",
   "metadata": {},
   "outputs": [
    {
     "data": {
      "text/plain": [
       "array([[8883738,  108457],\n",
       "       [ 162839, 1950918]])"
      ]
     },
     "execution_count": 12,
     "metadata": {},
     "output_type": "execute_result"
    }
   ],
   "source": [
    "from sklearn.metrics import confusion_matrix\n",
    "confusion_matrix_f = confusion_matrix(y, cb.predict(X))\n",
    "confusion_matrix_f"
   ]
  },
  {
   "cell_type": "code",
   "execution_count": 13,
   "id": "60791f74",
   "metadata": {},
   "outputs": [
    {
     "data": {
      "text/html": [
       "<div>\n",
       "<style scoped>\n",
       "    .dataframe tbody tr th:only-of-type {\n",
       "        vertical-align: middle;\n",
       "    }\n",
       "\n",
       "    .dataframe tbody tr th {\n",
       "        vertical-align: top;\n",
       "    }\n",
       "\n",
       "    .dataframe thead th {\n",
       "        text-align: right;\n",
       "    }\n",
       "</style>\n",
       "<table border=\"1\" class=\"dataframe\">\n",
       "  <thead>\n",
       "    <tr style=\"text-align: right;\">\n",
       "      <th></th>\n",
       "      <th>Predicted_Rejected</th>\n",
       "      <th>Predicted_Accepted</th>\n",
       "    </tr>\n",
       "  </thead>\n",
       "  <tbody>\n",
       "    <tr>\n",
       "      <th>Actual_Rejected</th>\n",
       "      <td>8883738</td>\n",
       "      <td>108457</td>\n",
       "    </tr>\n",
       "    <tr>\n",
       "      <th>Actual_Accepted</th>\n",
       "      <td>162839</td>\n",
       "      <td>1950918</td>\n",
       "    </tr>\n",
       "  </tbody>\n",
       "</table>\n",
       "</div>"
      ],
      "text/plain": [
       "                 Predicted_Rejected  Predicted_Accepted\n",
       "Actual_Rejected             8883738              108457\n",
       "Actual_Accepted              162839             1950918"
      ]
     },
     "execution_count": 13,
     "metadata": {},
     "output_type": "execute_result"
    }
   ],
   "source": [
    "confusion_matrix_full = pd.DataFrame(confusion_matrix_f,\n",
    "                                     index=[\"Actual_Rejected\",\"Actual_Accepted\"],\n",
    "                                     columns=[\"Predicted_Rejected\",\"Predicted_Accepted\"])\n",
    "\n",
    "confusion_matrix_full"
   ]
  },
  {
   "cell_type": "code",
   "execution_count": 14,
   "id": "ef5dd14a",
   "metadata": {},
   "outputs": [
    {
     "data": {
      "text/plain": [
       "8992195"
      ]
     },
     "execution_count": 14,
     "metadata": {},
     "output_type": "execute_result"
    }
   ],
   "source": [
    "Total_Rejected = 8883738 + 108457\n",
    "Total_Rejected"
   ]
  },
  {
   "cell_type": "code",
   "execution_count": 15,
   "id": "65391c04",
   "metadata": {},
   "outputs": [
    {
     "data": {
      "text/plain": [
       "8992195"
      ]
     },
     "execution_count": 15,
     "metadata": {},
     "output_type": "execute_result"
    }
   ],
   "source": [
    "#Cross Check:\n",
    "confusion_matrix_full.iloc[0,:].sum()"
   ]
  },
  {
   "cell_type": "code",
   "execution_count": 16,
   "id": "e3b95742",
   "metadata": {},
   "outputs": [
    {
     "data": {
      "text/plain": [
       "2113757"
      ]
     },
     "execution_count": 16,
     "metadata": {},
     "output_type": "execute_result"
    }
   ],
   "source": [
    "Total_Accepted = 162839 + 1950918\n",
    "Total_Accepted"
   ]
  },
  {
   "cell_type": "code",
   "execution_count": 17,
   "id": "061d0a11",
   "metadata": {},
   "outputs": [
    {
     "data": {
      "text/plain": [
       "2113757"
      ]
     },
     "execution_count": 17,
     "metadata": {},
     "output_type": "execute_result"
    }
   ],
   "source": [
    "#Cross Check:\n",
    "confusion_matrix_full.iloc[1,:].sum()"
   ]
  },
  {
   "cell_type": "code",
   "execution_count": 18,
   "id": "015493aa",
   "metadata": {},
   "outputs": [
    {
     "data": {
      "text/plain": [
       "0    8992195\n",
       "1    2113757\n",
       "Name: Accepted, dtype: int64"
      ]
     },
     "execution_count": 18,
     "metadata": {},
     "output_type": "execute_result"
    }
   ],
   "source": [
    "data.Accepted.value_counts()"
   ]
  },
  {
   "cell_type": "code",
   "execution_count": null,
   "id": "24852706",
   "metadata": {},
   "outputs": [],
   "source": []
  },
  {
   "cell_type": "code",
   "execution_count": 19,
   "id": "9787eab6",
   "metadata": {},
   "outputs": [
    {
     "data": {
      "text/plain": [
       "0.9755720175992116"
      ]
     },
     "execution_count": 19,
     "metadata": {},
     "output_type": "execute_result"
    }
   ],
   "source": [
    "#Accuracy Cross Check: \n",
    "(confusion_matrix_full.iloc[0,0] + confusion_matrix_full.iloc[1,1]) / np.sum(confusion_matrix_full).sum()"
   ]
  },
  {
   "cell_type": "code",
   "execution_count": 20,
   "id": "ded967a6",
   "metadata": {},
   "outputs": [
    {
     "data": {
      "text/plain": [
       "0.9755720175992116"
      ]
     },
     "execution_count": 20,
     "metadata": {},
     "output_type": "execute_result"
    }
   ],
   "source": [
    "cb.score(X,y)"
   ]
  },
  {
   "cell_type": "code",
   "execution_count": null,
   "id": "5f5fbbd2",
   "metadata": {},
   "outputs": [],
   "source": []
  },
  {
   "cell_type": "code",
   "execution_count": 21,
   "id": "ebfc78c8",
   "metadata": {},
   "outputs": [
    {
     "name": "stdout",
     "output_type": "stream",
     "text": [
      "8883738\n",
      "108457\n",
      "162839\n",
      "1950918\n"
     ]
    }
   ],
   "source": [
    "#Sensitivity / Recall == (TP / (TP+FN))\n",
    "TN, FP, FN, TP = confusion_matrix_f.ravel()\n",
    "print(TN)\n",
    "print(FP)\n",
    "print(FN)\n",
    "print(TP)"
   ]
  },
  {
   "cell_type": "code",
   "execution_count": 22,
   "id": "1e480380",
   "metadata": {},
   "outputs": [
    {
     "data": {
      "text/html": [
       "<div>\n",
       "<style scoped>\n",
       "    .dataframe tbody tr th:only-of-type {\n",
       "        vertical-align: middle;\n",
       "    }\n",
       "\n",
       "    .dataframe tbody tr th {\n",
       "        vertical-align: top;\n",
       "    }\n",
       "\n",
       "    .dataframe thead th {\n",
       "        text-align: right;\n",
       "    }\n",
       "</style>\n",
       "<table border=\"1\" class=\"dataframe\">\n",
       "  <thead>\n",
       "    <tr style=\"text-align: right;\">\n",
       "      <th></th>\n",
       "      <th>Predicted_Rejected</th>\n",
       "      <th>Predicted_Accepted</th>\n",
       "    </tr>\n",
       "  </thead>\n",
       "  <tbody>\n",
       "    <tr>\n",
       "      <th>Actual_Rejected</th>\n",
       "      <td>8883738</td>\n",
       "      <td>108457</td>\n",
       "    </tr>\n",
       "    <tr>\n",
       "      <th>Actual_Accepted</th>\n",
       "      <td>162839</td>\n",
       "      <td>1950918</td>\n",
       "    </tr>\n",
       "  </tbody>\n",
       "</table>\n",
       "</div>"
      ],
      "text/plain": [
       "                 Predicted_Rejected  Predicted_Accepted\n",
       "Actual_Rejected             8883738              108457\n",
       "Actual_Accepted              162839             1950918"
      ]
     },
     "execution_count": 22,
     "metadata": {},
     "output_type": "execute_result"
    }
   ],
   "source": [
    "confusion_matrix_full"
   ]
  },
  {
   "cell_type": "code",
   "execution_count": 23,
   "id": "d32206be",
   "metadata": {},
   "outputs": [
    {
     "data": {
      "text/plain": [
       "0.9229622894211587"
      ]
     },
     "execution_count": 23,
     "metadata": {},
     "output_type": "execute_result"
    }
   ],
   "source": [
    "#True Positive refers to Accepted Loans that were correctly predicted in this example\n",
    "#False Negative refers to Accepted Loans that were incorrectly predicted in this example\n",
    "\n",
    "Rec = TP / (TP+FN)\n",
    "Rec"
   ]
  },
  {
   "cell_type": "code",
   "execution_count": 24,
   "id": "2d4f7930",
   "metadata": {},
   "outputs": [
    {
     "name": "stdout",
     "output_type": "stream",
     "text": [
      "[0.9229622894211587]\n"
     ]
    }
   ],
   "source": [
    "#Cross Check \"Recall\" (or Sensitivity) with Catboost built-in eval metrics:\n",
    "from catboost.utils import eval_metric\n",
    "\n",
    "Recall = eval_metric(y, cb.predict(X), 'Recall')\n",
    "print(Recall)"
   ]
  },
  {
   "cell_type": "code",
   "execution_count": null,
   "id": "8f924414",
   "metadata": {},
   "outputs": [],
   "source": []
  },
  {
   "cell_type": "code",
   "execution_count": 25,
   "id": "e1a4dea2",
   "metadata": {},
   "outputs": [],
   "source": [
    "#Specificity, not native to Catboost(?)"
   ]
  },
  {
   "cell_type": "code",
   "execution_count": 26,
   "id": "dba61f03",
   "metadata": {},
   "outputs": [
    {
     "data": {
      "text/plain": [
       "0.9879387624489905"
      ]
     },
     "execution_count": 26,
     "metadata": {},
     "output_type": "execute_result"
    }
   ],
   "source": [
    "Spec = TN / (FP+TN)\n",
    "Spec"
   ]
  },
  {
   "cell_type": "code",
   "execution_count": null,
   "id": "f10e4d73",
   "metadata": {},
   "outputs": [],
   "source": []
  },
  {
   "cell_type": "code",
   "execution_count": 27,
   "id": "d677f491",
   "metadata": {},
   "outputs": [],
   "source": [
    "#Precision"
   ]
  },
  {
   "cell_type": "code",
   "execution_count": 28,
   "id": "b6569f37",
   "metadata": {},
   "outputs": [
    {
     "data": {
      "text/plain": [
       "0.9473349924127465"
      ]
     },
     "execution_count": 28,
     "metadata": {},
     "output_type": "execute_result"
    }
   ],
   "source": [
    "Prec = TP / (TP + FP)\n",
    "Prec"
   ]
  },
  {
   "cell_type": "code",
   "execution_count": 29,
   "id": "2726f7df",
   "metadata": {},
   "outputs": [
    {
     "data": {
      "text/plain": [
       "[0.9473349924127465]"
      ]
     },
     "execution_count": 29,
     "metadata": {},
     "output_type": "execute_result"
    }
   ],
   "source": [
    "Precision = eval_metric(y, cb.predict(X), 'Precision')\n",
    "Precision"
   ]
  },
  {
   "cell_type": "code",
   "execution_count": null,
   "id": "4106a00f",
   "metadata": {},
   "outputs": [],
   "source": []
  },
  {
   "cell_type": "code",
   "execution_count": 30,
   "id": "79882763",
   "metadata": {},
   "outputs": [],
   "source": [
    "#F Measure"
   ]
  },
  {
   "cell_type": "code",
   "execution_count": 31,
   "id": "b6946a7d",
   "metadata": {},
   "outputs": [
    {
     "data": {
      "text/plain": [
       "0.9349898349728694"
      ]
     },
     "execution_count": 31,
     "metadata": {},
     "output_type": "execute_result"
    }
   ],
   "source": [
    "F = 2 * Prec * Rec / (Prec + Rec)\n",
    "F"
   ]
  },
  {
   "cell_type": "code",
   "execution_count": 54,
   "id": "f0f088b9",
   "metadata": {},
   "outputs": [
    {
     "name": "stdout",
     "output_type": "stream",
     "text": [
      "[0.9005257439695977]\n"
     ]
    }
   ],
   "source": [
    "F1 = eval_metric(y, cb.predict(X), 'F1')\n",
    "print(F1)"
   ]
  },
  {
   "cell_type": "code",
   "execution_count": null,
   "id": "e5f86686",
   "metadata": {},
   "outputs": [],
   "source": []
  },
  {
   "cell_type": "code",
   "execution_count": null,
   "id": "69982119",
   "metadata": {},
   "outputs": [],
   "source": []
  },
  {
   "cell_type": "code",
   "execution_count": null,
   "id": "1f30c928",
   "metadata": {},
   "outputs": [],
   "source": []
  },
  {
   "cell_type": "code",
   "execution_count": 33,
   "id": "dde004f8",
   "metadata": {},
   "outputs": [],
   "source": [
    "from imblearn.over_sampling import RandomOverSampler\n",
    "oversample = RandomOverSampler(sampling_strategy='minority')\n",
    "X_os, y_os = oversample.fit_resample(X, y)"
   ]
  },
  {
   "cell_type": "code",
   "execution_count": 35,
   "id": "1e15b8bb",
   "metadata": {},
   "outputs": [
    {
     "name": "stdout",
     "output_type": "stream",
     "text": [
      "Labels: {0, 1}\n",
      "Zero count = 8992195, One count = 8992195\n",
      "Ratio of One Count = 0.5\n"
     ]
    }
   ],
   "source": [
    "print('Labels: {}'.format(set(y_os)))\n",
    "print('Zero count = {}, One count = {}'.format(len(y_os) - sum(y_os), sum(y_os)))\n",
    "print('Ratio of One Count = {}'.format(sum(y_os)/len(y_os)))\n",
    "#print('Ratio of Train to Test = {}'.format(len(y_train_os)/(len(y_train_os)+len(y_test))))"
   ]
  },
  {
   "cell_type": "code",
   "execution_count": 36,
   "id": "2ecf6cc5",
   "metadata": {},
   "outputs": [
    {
     "name": "stdout",
     "output_type": "stream",
     "text": [
      "Learning rate set to 0.5\n",
      "0:\tlearn: 0.3946337\ttotal: 3.44s\tremaining: 5m 40s\n",
      "10:\tlearn: 0.1370267\ttotal: 21.7s\tremaining: 2m 55s\n",
      "20:\tlearn: 0.0936371\ttotal: 39.8s\tremaining: 2m 29s\n",
      "30:\tlearn: 0.0813565\ttotal: 56.1s\tremaining: 2m 4s\n",
      "40:\tlearn: 0.0764525\ttotal: 1m 11s\tremaining: 1m 42s\n",
      "50:\tlearn: 0.0737169\ttotal: 1m 26s\tremaining: 1m 23s\n",
      "60:\tlearn: 0.0718632\ttotal: 1m 42s\tremaining: 1m 5s\n",
      "70:\tlearn: 0.0702529\ttotal: 1m 55s\tremaining: 47.4s\n",
      "80:\tlearn: 0.0693552\ttotal: 2m 11s\tremaining: 30.8s\n",
      "90:\tlearn: 0.0686134\ttotal: 2m 27s\tremaining: 14.6s\n",
      "99:\tlearn: 0.0682024\ttotal: 2m 38s\tremaining: 0us\n"
     ]
    },
    {
     "data": {
      "text/plain": [
       "<catboost.core.CatBoostClassifier at 0x7f8188035c70>"
      ]
     },
     "execution_count": 36,
     "metadata": {},
     "output_type": "execute_result"
    }
   ],
   "source": [
    "cb.fit(X_os, y_os, cat_features = cat_features, verbose=10)"
   ]
  },
  {
   "cell_type": "code",
   "execution_count": 37,
   "id": "830dc2ba",
   "metadata": {},
   "outputs": [
    {
     "data": {
      "text/plain": [
       "0.9284829788499915"
      ]
     },
     "execution_count": 37,
     "metadata": {},
     "output_type": "execute_result"
    }
   ],
   "source": [
    "cb.score(X_os, y_os)"
   ]
  },
  {
   "cell_type": "code",
   "execution_count": 38,
   "id": "3b0b5f1d",
   "metadata": {},
   "outputs": [
    {
     "data": {
      "text/plain": [
       "array([[8854801,  137394],\n",
       "       [1148796, 7843399]])"
      ]
     },
     "execution_count": 38,
     "metadata": {},
     "output_type": "execute_result"
    }
   ],
   "source": [
    "confusion_matrix_f = confusion_matrix(y_os, cb.predict(X_os))\n",
    "confusion_matrix_f"
   ]
  },
  {
   "cell_type": "code",
   "execution_count": 39,
   "id": "d930487e",
   "metadata": {},
   "outputs": [
    {
     "data": {
      "text/html": [
       "<div>\n",
       "<style scoped>\n",
       "    .dataframe tbody tr th:only-of-type {\n",
       "        vertical-align: middle;\n",
       "    }\n",
       "\n",
       "    .dataframe tbody tr th {\n",
       "        vertical-align: top;\n",
       "    }\n",
       "\n",
       "    .dataframe thead th {\n",
       "        text-align: right;\n",
       "    }\n",
       "</style>\n",
       "<table border=\"1\" class=\"dataframe\">\n",
       "  <thead>\n",
       "    <tr style=\"text-align: right;\">\n",
       "      <th></th>\n",
       "      <th>Predicted_Rejected</th>\n",
       "      <th>Predicted_Accepted</th>\n",
       "    </tr>\n",
       "  </thead>\n",
       "  <tbody>\n",
       "    <tr>\n",
       "      <th>Actual_Rejected</th>\n",
       "      <td>8854801</td>\n",
       "      <td>137394</td>\n",
       "    </tr>\n",
       "    <tr>\n",
       "      <th>Actual_Accepted</th>\n",
       "      <td>1148796</td>\n",
       "      <td>7843399</td>\n",
       "    </tr>\n",
       "  </tbody>\n",
       "</table>\n",
       "</div>"
      ],
      "text/plain": [
       "                 Predicted_Rejected  Predicted_Accepted\n",
       "Actual_Rejected             8854801              137394\n",
       "Actual_Accepted             1148796             7843399"
      ]
     },
     "execution_count": 39,
     "metadata": {},
     "output_type": "execute_result"
    }
   ],
   "source": [
    "confusion_matrix_full = pd.DataFrame(confusion_matrix_f,\n",
    "                                     index=[\"Actual_Rejected\",\"Actual_Accepted\"],\n",
    "                                     columns=[\"Predicted_Rejected\",\"Predicted_Accepted\"])\n",
    "\n",
    "confusion_matrix_full"
   ]
  },
  {
   "cell_type": "code",
   "execution_count": 40,
   "id": "563f13db",
   "metadata": {},
   "outputs": [
    {
     "data": {
      "text/plain": [
       "8992195"
      ]
     },
     "execution_count": 40,
     "metadata": {},
     "output_type": "execute_result"
    }
   ],
   "source": [
    "#Cross Check:\n",
    "confusion_matrix_full.iloc[0,:].sum()"
   ]
  },
  {
   "cell_type": "code",
   "execution_count": 41,
   "id": "9959aedc",
   "metadata": {},
   "outputs": [
    {
     "data": {
      "text/plain": [
       "8992195"
      ]
     },
     "execution_count": 41,
     "metadata": {},
     "output_type": "execute_result"
    }
   ],
   "source": [
    "#Cross Check:\n",
    "confusion_matrix_full.iloc[1,:].sum()"
   ]
  },
  {
   "cell_type": "code",
   "execution_count": 42,
   "id": "40484bc6",
   "metadata": {},
   "outputs": [
    {
     "data": {
      "text/plain": [
       "0.9284829788499915"
      ]
     },
     "execution_count": 42,
     "metadata": {},
     "output_type": "execute_result"
    }
   ],
   "source": [
    "#Accuracy Cross Check: \n",
    "(confusion_matrix_full.iloc[0,0] + confusion_matrix_full.iloc[1,1]) / np.sum(confusion_matrix_full).sum()"
   ]
  },
  {
   "cell_type": "code",
   "execution_count": null,
   "id": "1516a519",
   "metadata": {},
   "outputs": [],
   "source": []
  },
  {
   "cell_type": "code",
   "execution_count": 43,
   "id": "1044606b",
   "metadata": {},
   "outputs": [
    {
     "name": "stdout",
     "output_type": "stream",
     "text": [
      "8854801\n",
      "137394\n",
      "1148796\n",
      "7843399\n"
     ]
    }
   ],
   "source": [
    "#Sensitivity / Recall == (TP / (TP+FN))\n",
    "TN, FP, FN, TP = confusion_matrix_f.ravel()\n",
    "print(TN)\n",
    "print(FP)\n",
    "print(FN)\n",
    "print(TP)"
   ]
  },
  {
   "cell_type": "code",
   "execution_count": null,
   "id": "0ed5892e",
   "metadata": {},
   "outputs": [],
   "source": []
  },
  {
   "cell_type": "code",
   "execution_count": 44,
   "id": "59b74b72",
   "metadata": {},
   "outputs": [
    {
     "data": {
      "text/plain": [
       "0.8722452082055605"
      ]
     },
     "execution_count": 44,
     "metadata": {},
     "output_type": "execute_result"
    }
   ],
   "source": [
    "#True Positive refers to Accepted Loans that were correctly predicted in this example\n",
    "#False Negative refers to Accepted Loans that were incorrectly predicted in this example\n",
    "\n",
    "Rec = TP / (TP+FN)\n",
    "Rec"
   ]
  },
  {
   "cell_type": "code",
   "execution_count": 49,
   "id": "ec8bafe6",
   "metadata": {},
   "outputs": [
    {
     "name": "stdout",
     "output_type": "stream",
     "text": [
      "[0.8722452082055605]\n"
     ]
    }
   ],
   "source": [
    "#Cross Check \"Recall\" (or Sensitivity) with Catboost built-in eval metrics:\n",
    "#from catboost.utils import eval_metric\n",
    "\n",
    "Recall = eval_metric(y_os, cb.predict(X_os), 'Recall')\n",
    "print(Recall)"
   ]
  },
  {
   "cell_type": "code",
   "execution_count": null,
   "id": "b572aa29",
   "metadata": {},
   "outputs": [],
   "source": []
  },
  {
   "cell_type": "code",
   "execution_count": 46,
   "id": "d5299dce",
   "metadata": {},
   "outputs": [
    {
     "data": {
      "text/plain": [
       "0.9847207494944227"
      ]
     },
     "execution_count": 46,
     "metadata": {},
     "output_type": "execute_result"
    }
   ],
   "source": [
    "Spec = TN / (FP+TN)\n",
    "Spec"
   ]
  },
  {
   "cell_type": "code",
   "execution_count": null,
   "id": "9da65ae2",
   "metadata": {},
   "outputs": [],
   "source": []
  },
  {
   "cell_type": "code",
   "execution_count": 47,
   "id": "665a14f7",
   "metadata": {},
   "outputs": [
    {
     "data": {
      "text/plain": [
       "0.9827844175384577"
      ]
     },
     "execution_count": 47,
     "metadata": {},
     "output_type": "execute_result"
    }
   ],
   "source": [
    "Prec = TP / (TP + FP)\n",
    "Prec"
   ]
  },
  {
   "cell_type": "code",
   "execution_count": 50,
   "id": "65bfc167",
   "metadata": {},
   "outputs": [
    {
     "data": {
      "text/plain": [
       "[0.9827844175384577]"
      ]
     },
     "execution_count": 50,
     "metadata": {},
     "output_type": "execute_result"
    }
   ],
   "source": [
    "Precision = eval_metric(y_os, cb.predict(X_os), 'Precision')\n",
    "Precision"
   ]
  },
  {
   "cell_type": "code",
   "execution_count": null,
   "id": "ad02ec66",
   "metadata": {},
   "outputs": [],
   "source": []
  },
  {
   "cell_type": "code",
   "execution_count": 51,
   "id": "08b4fa09",
   "metadata": {},
   "outputs": [
    {
     "data": {
      "text/plain": [
       "0.9242213568995631"
      ]
     },
     "execution_count": 51,
     "metadata": {},
     "output_type": "execute_result"
    }
   ],
   "source": [
    "F = 2 * Prec * Rec / (Prec + Rec)\n",
    "F"
   ]
  },
  {
   "cell_type": "code",
   "execution_count": 53,
   "id": "1055dfe5",
   "metadata": {},
   "outputs": [
    {
     "name": "stdout",
     "output_type": "stream",
     "text": [
      "[0.9242213568995631]\n"
     ]
    }
   ],
   "source": [
    "F1 = eval_metric(y_os, cb.predict(X_os), 'F1')\n",
    "print(F1)"
   ]
  },
  {
   "cell_type": "code",
   "execution_count": null,
   "id": "87b4c209",
   "metadata": {},
   "outputs": [],
   "source": []
  },
  {
   "cell_type": "code",
   "execution_count": null,
   "id": "239771b5",
   "metadata": {},
   "outputs": [],
   "source": []
  },
  {
   "cell_type": "code",
   "execution_count": null,
   "id": "db43a1ea",
   "metadata": {},
   "outputs": [],
   "source": []
  },
  {
   "cell_type": "code",
   "execution_count": null,
   "id": "e810d393",
   "metadata": {},
   "outputs": [],
   "source": []
  },
  {
   "cell_type": "code",
   "execution_count": null,
   "id": "ae180bf9",
   "metadata": {},
   "outputs": [],
   "source": []
  },
  {
   "cell_type": "code",
   "execution_count": null,
   "id": "54a68e35",
   "metadata": {},
   "outputs": [],
   "source": []
  },
  {
   "cell_type": "code",
   "execution_count": null,
   "id": "50d6d1a4",
   "metadata": {},
   "outputs": [],
   "source": []
  },
  {
   "cell_type": "code",
   "execution_count": null,
   "id": "91572fad",
   "metadata": {},
   "outputs": [],
   "source": []
  },
  {
   "cell_type": "code",
   "execution_count": null,
   "id": "f2000bf0",
   "metadata": {},
   "outputs": [],
   "source": [
    "from sklearn.metrics import confusion_matrix\n",
    "\n",
    "print(\"TRAIN PERFORMANCE:\")\n",
    "confusion_matrix_train = confusion_matrix(y_train, cb.predict(X_train))\n",
    "confusion_matrix_train = pd.DataFrame(confusion_matrix_train,\n",
    "                                      index=[\"Actual_No\",\"Actual_Yes\"],\n",
    "                                      columns=[\"Predicted_No\",\"Predicted_Yes\"])\n",
    "\n",
    "display(confusion_matrix_train)\n",
    "\n",
    "#recall_resignation_train = confusion_matrix_train.iloc[1,1] / confusion_matrix_train.iloc[1,:].sum()\n",
    "\n",
    "print(\"Train Score Accuracy: {}\".format(round(cb.score(X_train,y_train),3)))\n",
    "#print(\"Recall Train: {}\".format(round(recall_resignation_train,3)))\n",
    "\n",
    "print(\"\\n* * * * * * * * * * * * * * * * * * *\\n\")\n",
    "print(' ')\n",
    "print(\"TEST PERFORMANCE:\")\n",
    "confusion_matrix_test = confusion_matrix(y_test, cb.predict(X_test))\n",
    "confusion_matrix_test = pd.DataFrame(confusion_matrix_test,\n",
    "                                     index=[\"Actual_No\",\"Actual_Yes\"],\n",
    "                                     columns=[\"Predicted_No\",\"Predicted_Yes\"])\n",
    "\n",
    "display(confusion_matrix_test)\n",
    "\n",
    "#recall_resignation_test = confusion_matrix_test.iloc[1,1] / confusion_matrix_test.iloc[1,:].sum()\n",
    "\n",
    "print(\"Test Score Accuracy: {}\".format(round(cb.score(X_test,y_test),3)))\n",
    "#print(\"Recall Test: {}\".format(round(recall_resignation_test,3)))"
   ]
  },
  {
   "cell_type": "code",
   "execution_count": null,
   "id": "b6e39266",
   "metadata": {},
   "outputs": [],
   "source": []
  },
  {
   "cell_type": "code",
   "execution_count": null,
   "id": "b745e860",
   "metadata": {},
   "outputs": [],
   "source": [
    "from sklearn.model_selection import train_test_split\n",
    "X_train, X_test, y_train, y_test = train_test_split(X,y, test_size=0.3, stratify=y)\n",
    "print('Labels: {}'.format(set(y_train)))\n",
    "print('Zero count (Train) = {}, One count (Train) = {}'.format(len(y_train) - sum(y_train), sum(y_train)))\n",
    "print('Ratio of One Count = {}'.format(sum(y_train)/len(y_train)))\n",
    "print('Ratio of Train to Test = {}'.format(len(y_train)/(len(y_train)+len(y_test))))\n",
    "#print('Ratio of Train to Test = {}'.format(len(X_train)/(len(X_train)+len(X_test))))"
   ]
  },
  {
   "cell_type": "code",
   "execution_count": null,
   "id": "8e4af4d7",
   "metadata": {},
   "outputs": [],
   "source": []
  },
  {
   "cell_type": "code",
   "execution_count": null,
   "id": "b107f160",
   "metadata": {},
   "outputs": [],
   "source": [
    "#X_train.head(2)"
   ]
  },
  {
   "cell_type": "code",
   "execution_count": null,
   "id": "93808d69",
   "metadata": {},
   "outputs": [],
   "source": []
  },
  {
   "cell_type": "code",
   "execution_count": null,
   "id": "5d29d290",
   "metadata": {},
   "outputs": [],
   "source": [
    "from catboost import CatBoostClassifier\n",
    "cb = CatBoostClassifier(iterations=100)\n",
    "cb.fit(X_train, y_train, cat_features = cat_features, verbose = False)"
   ]
  },
  {
   "cell_type": "code",
   "execution_count": null,
   "id": "129c63ae",
   "metadata": {},
   "outputs": [],
   "source": [
    "from sklearn.metrics import confusion_matrix\n",
    "\n",
    "print(\"TRAIN PERFORMANCE:\")\n",
    "confusion_matrix_train = confusion_matrix(y_train, cb.predict(X_train))\n",
    "confusion_matrix_train = pd.DataFrame(confusion_matrix_train,\n",
    "                                      index=[\"Actual_No\",\"Actual_Yes\"],\n",
    "                                      columns=[\"Predicted_No\",\"Predicted_Yes\"])\n",
    "\n",
    "display(confusion_matrix_train)\n",
    "\n",
    "#recall_resignation_train = confusion_matrix_train.iloc[1,1] / confusion_matrix_train.iloc[1,:].sum()\n",
    "\n",
    "print(\"Train Score Accuracy: {}\".format(round(cb.score(X_train,y_train),3)))\n",
    "#print(\"Recall Train: {}\".format(round(recall_resignation_train,3)))\n",
    "\n",
    "print(\"\\n* * * * * * * * * * * * * * * * * * *\\n\")\n",
    "print(' ')\n",
    "print(\"TEST PERFORMANCE:\")\n",
    "confusion_matrix_test = confusion_matrix(y_test, cb.predict(X_test))\n",
    "confusion_matrix_test = pd.DataFrame(confusion_matrix_test,\n",
    "                                     index=[\"Actual_No\",\"Actual_Yes\"],\n",
    "                                     columns=[\"Predicted_No\",\"Predicted_Yes\"])\n",
    "\n",
    "display(confusion_matrix_test)\n",
    "\n",
    "#recall_resignation_test = confusion_matrix_test.iloc[1,1] / confusion_matrix_test.iloc[1,:].sum()\n",
    "\n",
    "print(\"Test Score Accuracy: {}\".format(round(cb.score(X_test,y_test),3)))\n",
    "#print(\"Recall Test: {}\".format(round(recall_resignation_test,3)))"
   ]
  },
  {
   "cell_type": "code",
   "execution_count": null,
   "id": "307e384b",
   "metadata": {},
   "outputs": [],
   "source": [
    "#Train Score Accuracy:\n",
    "(6219598 + 1365635) / (6219598 + 1365635 + 113995 + 74938)"
   ]
  },
  {
   "cell_type": "code",
   "execution_count": null,
   "id": "eafb6dac",
   "metadata": {},
   "outputs": [],
   "source": [
    "#Test Score Accuracy\n",
    "(2665762 + 585185) / (2665762 + 585185 + 31897 + 48942)"
   ]
  },
  {
   "cell_type": "code",
   "execution_count": null,
   "id": "6ae4558f",
   "metadata": {},
   "outputs": [],
   "source": [
    "confusion_matrix(y_train, cb.predict(X_train)).ravel()"
   ]
  },
  {
   "cell_type": "code",
   "execution_count": null,
   "id": "0678d381",
   "metadata": {},
   "outputs": [],
   "source": [
    "confusion_matrix(y_train, cb.predict(X_train))"
   ]
  },
  {
   "cell_type": "code",
   "execution_count": null,
   "id": "938a038d",
   "metadata": {},
   "outputs": [],
   "source": [
    "#Matches Train Actual 'No' (0 Count, Rejected Loans)\n",
    "6219598 + 74938"
   ]
  },
  {
   "cell_type": "code",
   "execution_count": null,
   "id": "25e8e3b8",
   "metadata": {},
   "outputs": [],
   "source": [
    "#Matches Train Actual 'Yes' (1 Count, Accepted Loans)\n",
    "113995 + 1365635"
   ]
  },
  {
   "cell_type": "code",
   "execution_count": null,
   "id": "abd8ca4f",
   "metadata": {},
   "outputs": [],
   "source": []
  },
  {
   "cell_type": "code",
   "execution_count": null,
   "id": "5d9514c9",
   "metadata": {},
   "outputs": [],
   "source": []
  },
  {
   "cell_type": "code",
   "execution_count": null,
   "id": "74e7e8a6",
   "metadata": {},
   "outputs": [],
   "source": []
  },
  {
   "cell_type": "code",
   "execution_count": null,
   "id": "5362b8ee",
   "metadata": {},
   "outputs": [],
   "source": []
  },
  {
   "cell_type": "code",
   "execution_count": null,
   "id": "b272ab4c",
   "metadata": {},
   "outputs": [],
   "source": []
  },
  {
   "cell_type": "code",
   "execution_count": null,
   "id": "02864292",
   "metadata": {},
   "outputs": [],
   "source": [
    "from catboost import Pool\n",
    "#pool = Pool(data=X, label=y, cat_features = cat_features)"
   ]
  },
  {
   "cell_type": "code",
   "execution_count": null,
   "id": "c67bf5e5",
   "metadata": {},
   "outputs": [],
   "source": [
    "train_pool = Pool(data=X_train, label=y_train, cat_features=cat_features)\n",
    "test_pool = Pool(data=X_test, label=y_test, cat_features=cat_features)"
   ]
  },
  {
   "cell_type": "code",
   "execution_count": null,
   "id": "6b049cd7",
   "metadata": {},
   "outputs": [],
   "source": [
    "cb.fit(train_pool, eval_set=test_pool, verbose=10)\n",
    "#Log Loss is the \"default optimizer for binary classification in CatBoost\""
   ]
  },
  {
   "cell_type": "code",
   "execution_count": null,
   "id": "109ee539",
   "metadata": {},
   "outputs": [],
   "source": [
    "print('Model is fitted: {}'.format(cb.is_fitted()))\n",
    "print('Model params:\\n{}'.format(cb.get_params()))"
   ]
  },
  {
   "cell_type": "code",
   "execution_count": null,
   "id": "3f44cdba",
   "metadata": {},
   "outputs": [],
   "source": []
  },
  {
   "cell_type": "code",
   "execution_count": null,
   "id": "9f9f2942",
   "metadata": {},
   "outputs": [],
   "source": [
    "cb2 = CatBoostClassifier(iterations=100, custom_loss=['AUC', 'Accuracy'])\n",
    "\n",
    "cb2.fit(train_pool, eval_set = test_pool, verbose=False, plot=True);"
   ]
  },
  {
   "cell_type": "code",
   "execution_count": null,
   "id": "d8364781",
   "metadata": {},
   "outputs": [],
   "source": [
    "import shap"
   ]
  },
  {
   "cell_type": "code",
   "execution_count": null,
   "id": "5e17fea3",
   "metadata": {},
   "outputs": [],
   "source": [
    "feature_importance = cb.feature_importances_\n",
    "sorted_idx = np.argsort(feature_importance)\n",
    "fig = plt.figure(figsize=(12, 6))\n",
    "plt.barh(range(len(sorted_idx)), feature_importance[sorted_idx], align='center')\n",
    "plt.yticks(range(len(sorted_idx)), np.array(X_test.columns)[sorted_idx])\n",
    "plt.title('Feature Importance');"
   ]
  },
  {
   "cell_type": "code",
   "execution_count": null,
   "id": "bf616b42",
   "metadata": {},
   "outputs": [],
   "source": [
    "feature_importance"
   ]
  },
  {
   "cell_type": "code",
   "execution_count": null,
   "id": "63015598",
   "metadata": {},
   "outputs": [],
   "source": [
    "feature_importance = cb2.feature_importances_\n",
    "sorted_idx = np.argsort(feature_importance)\n",
    "fig = plt.figure(figsize=(12, 6))\n",
    "plt.barh(range(len(sorted_idx)), feature_importance[sorted_idx], align='center')\n",
    "plt.yticks(range(len(sorted_idx)), np.array(X_test.columns)[sorted_idx])\n",
    "plt.title('Feature Importance');"
   ]
  },
  {
   "cell_type": "code",
   "execution_count": null,
   "id": "a5222323",
   "metadata": {},
   "outputs": [],
   "source": []
  },
  {
   "cell_type": "code",
   "execution_count": null,
   "id": "c2985631",
   "metadata": {},
   "outputs": [],
   "source": [
    "explainer = shap.Explainer(cb)\n",
    "shap_values = explainer(X_test)\n",
    "shap_importance = shap_values.abs.mean(0).values\n",
    "sorted_idx = shap_importance.argsort()\n",
    "fig = plt.figure(figsize=(12, 6))\n",
    "plt.barh(range(len(sorted_idx)), shap_importance[sorted_idx], align='center')\n",
    "plt.yticks(range(len(sorted_idx)), np.array(X_test.columns)[sorted_idx])\n",
    "plt.title('SHAP Importance')"
   ]
  },
  {
   "cell_type": "code",
   "execution_count": null,
   "id": "70e9116e",
   "metadata": {},
   "outputs": [],
   "source": [
    "explainer = shap.Explainer(cb2)\n",
    "shap_values = explainer(X_test)\n",
    "shap_importance = shap_values.abs.mean(0).values\n",
    "sorted_idx = shap_importance.argsort()\n",
    "fig = plt.figure(figsize=(12, 6))\n",
    "plt.barh(range(len(sorted_idx)), shap_importance[sorted_idx], align='center')\n",
    "plt.yticks(range(len(sorted_idx)), np.array(X_test.columns)[sorted_idx])\n",
    "plt.title('SHAP Importance')"
   ]
  },
  {
   "cell_type": "code",
   "execution_count": null,
   "id": "9092ec68",
   "metadata": {},
   "outputs": [],
   "source": []
  },
  {
   "cell_type": "code",
   "execution_count": null,
   "id": "78241af5",
   "metadata": {},
   "outputs": [],
   "source": [
    "shap.plots.bar(shap_values, max_display=X_test.shape[0])"
   ]
  },
  {
   "cell_type": "code",
   "execution_count": null,
   "id": "16372d1e",
   "metadata": {},
   "outputs": [],
   "source": [
    "shap.summary_plot(shap_values, max_display=X_test.shape[0])"
   ]
  },
  {
   "cell_type": "code",
   "execution_count": null,
   "id": "3ce8e7a4",
   "metadata": {},
   "outputs": [],
   "source": []
  }
 ],
 "metadata": {
  "hide_input": false,
  "kernelspec": {
   "display_name": "Python 3 (ipykernel)",
   "language": "python",
   "name": "python3"
  },
  "language_info": {
   "codemirror_mode": {
    "name": "ipython",
    "version": 3
   },
   "file_extension": ".py",
   "mimetype": "text/x-python",
   "name": "python",
   "nbconvert_exporter": "python",
   "pygments_lexer": "ipython3",
   "version": "3.8.8"
  },
  "varInspector": {
   "cols": {
    "lenName": 16,
    "lenType": 16,
    "lenVar": 40
   },
   "kernels_config": {
    "python": {
     "delete_cmd_postfix": "",
     "delete_cmd_prefix": "del ",
     "library": "var_list.py",
     "varRefreshCmd": "print(var_dic_list())"
    },
    "r": {
     "delete_cmd_postfix": ") ",
     "delete_cmd_prefix": "rm(",
     "library": "var_list.r",
     "varRefreshCmd": "cat(var_dic_list()) "
    }
   },
   "types_to_exclude": [
    "module",
    "function",
    "builtin_function_or_method",
    "instance",
    "_Feature"
   ],
   "window_display": false
  }
 },
 "nbformat": 4,
 "nbformat_minor": 5
}
