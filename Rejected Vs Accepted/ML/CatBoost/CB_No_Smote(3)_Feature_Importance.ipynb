{
 "cells": [
  {
   "cell_type": "code",
   "execution_count": 1,
   "id": "3df36b7f",
   "metadata": {},
   "outputs": [],
   "source": [
    "import pandas as pd\n",
    "import numpy as np\n",
    "import seaborn as sns"
   ]
  },
  {
   "cell_type": "code",
   "execution_count": 2,
   "id": "ef55559f",
   "metadata": {},
   "outputs": [],
   "source": [
    "from catboost import CatBoostClassifier\n",
    "cb = CatBoostClassifier(iterations=100)\n",
    "#cb.fit(X, y, cat_features = cat_features, verbose = False)"
   ]
  },
  {
   "cell_type": "code",
   "execution_count": 3,
   "id": "96f331dd",
   "metadata": {},
   "outputs": [
    {
     "data": {
      "text/plain": [
       "(11091453, 4)"
      ]
     },
     "execution_count": 3,
     "metadata": {},
     "output_type": "execute_result"
    }
   ],
   "source": [
    "data = pd.read_csv('../../../Data/Combo_3_DropNAs.csv')\n",
    "data.shape"
   ]
  },
  {
   "cell_type": "code",
   "execution_count": 4,
   "id": "9acb7150",
   "metadata": {},
   "outputs": [
    {
     "data": {
      "text/html": [
       "<div>\n",
       "<style scoped>\n",
       "    .dataframe tbody tr th:only-of-type {\n",
       "        vertical-align: middle;\n",
       "    }\n",
       "\n",
       "    .dataframe tbody tr th {\n",
       "        vertical-align: top;\n",
       "    }\n",
       "\n",
       "    .dataframe thead th {\n",
       "        text-align: right;\n",
       "    }\n",
       "</style>\n",
       "<table border=\"1\" class=\"dataframe\">\n",
       "  <thead>\n",
       "    <tr style=\"text-align: right;\">\n",
       "      <th></th>\n",
       "      <th>Risk_Score</th>\n",
       "      <th>DI</th>\n",
       "      <th>Employment Length</th>\n",
       "      <th>Accepted</th>\n",
       "    </tr>\n",
       "  </thead>\n",
       "  <tbody>\n",
       "    <tr>\n",
       "      <th>0</th>\n",
       "      <td>0.411783</td>\n",
       "      <td>-0.008441</td>\n",
       "      <td>2.668416</td>\n",
       "      <td>1</td>\n",
       "    </tr>\n",
       "    <tr>\n",
       "      <th>1</th>\n",
       "      <td>0.871415</td>\n",
       "      <td>-0.007807</td>\n",
       "      <td>2.668416</td>\n",
       "      <td>1</td>\n",
       "    </tr>\n",
       "    <tr>\n",
       "      <th>2</th>\n",
       "      <td>0.641599</td>\n",
       "      <td>-0.008137</td>\n",
       "      <td>2.668416</td>\n",
       "      <td>1</td>\n",
       "    </tr>\n",
       "    <tr>\n",
       "      <th>3</th>\n",
       "      <td>1.675772</td>\n",
       "      <td>-0.007744</td>\n",
       "      <td>2.668416</td>\n",
       "      <td>1</td>\n",
       "    </tr>\n",
       "    <tr>\n",
       "      <th>4</th>\n",
       "      <td>0.641599</td>\n",
       "      <td>-0.007225</td>\n",
       "      <td>0.458258</td>\n",
       "      <td>1</td>\n",
       "    </tr>\n",
       "  </tbody>\n",
       "</table>\n",
       "</div>"
      ],
      "text/plain": [
       "   Risk_Score        DI  Employment Length  Accepted\n",
       "0    0.411783 -0.008441           2.668416         1\n",
       "1    0.871415 -0.007807           2.668416         1\n",
       "2    0.641599 -0.008137           2.668416         1\n",
       "3    1.675772 -0.007744           2.668416         1\n",
       "4    0.641599 -0.007225           0.458258         1"
      ]
     },
     "execution_count": 4,
     "metadata": {},
     "output_type": "execute_result"
    }
   ],
   "source": [
    "data.head(5)"
   ]
  },
  {
   "cell_type": "code",
   "execution_count": 5,
   "id": "1ce910d7",
   "metadata": {},
   "outputs": [
    {
     "data": {
      "text/plain": [
       "0    2693342.7\n",
       "1     634093.2\n",
       "Name: Accepted, dtype: float64"
      ]
     },
     "execution_count": 5,
     "metadata": {},
     "output_type": "execute_result"
    }
   ],
   "source": [
    "data.Accepted.value_counts()*0.3"
   ]
  },
  {
   "cell_type": "code",
   "execution_count": 6,
   "id": "72cc33d1",
   "metadata": {},
   "outputs": [
    {
     "data": {
      "text/plain": [
       "(11091453, 3)"
      ]
     },
     "execution_count": 6,
     "metadata": {},
     "output_type": "execute_result"
    }
   ],
   "source": [
    "X = data.drop('Accepted', axis=1)\n",
    "X.shape"
   ]
  },
  {
   "cell_type": "code",
   "execution_count": 7,
   "id": "fadf4ae7",
   "metadata": {},
   "outputs": [],
   "source": [
    "y = data['Accepted']"
   ]
  },
  {
   "cell_type": "code",
   "execution_count": 8,
   "id": "dfa82953",
   "metadata": {},
   "outputs": [],
   "source": [
    "from sklearn.model_selection import train_test_split\n",
    "X_train, X_test, y_train, y_test = train_test_split(X, y, test_size=0.3, stratify=y)"
   ]
  },
  {
   "cell_type": "code",
   "execution_count": 9,
   "id": "57109e9f",
   "metadata": {},
   "outputs": [
    {
     "name": "stdout",
     "output_type": "stream",
     "text": [
      "Learning rate set to 0.5\n",
      "0:\tlearn: 0.3839282\ttotal: 377ms\tremaining: 37.3s\n",
      "1:\tlearn: 0.2709623\ttotal: 552ms\tremaining: 27s\n",
      "2:\tlearn: 0.2157017\ttotal: 736ms\tremaining: 23.8s\n",
      "3:\tlearn: 0.1835134\ttotal: 930ms\tremaining: 22.3s\n",
      "4:\tlearn: 0.1615016\ttotal: 1.13s\tremaining: 21.5s\n",
      "5:\tlearn: 0.1509937\ttotal: 1.32s\tremaining: 20.7s\n",
      "6:\tlearn: 0.1382995\ttotal: 1.52s\tremaining: 20.2s\n",
      "7:\tlearn: 0.1325873\ttotal: 1.72s\tremaining: 19.7s\n",
      "8:\tlearn: 0.1236206\ttotal: 1.91s\tremaining: 19.3s\n",
      "9:\tlearn: 0.1204957\ttotal: 2.1s\tremaining: 18.9s\n",
      "10:\tlearn: 0.1161856\ttotal: 2.28s\tremaining: 18.4s\n",
      "11:\tlearn: 0.1102222\ttotal: 2.45s\tremaining: 18s\n",
      "12:\tlearn: 0.1072872\ttotal: 2.62s\tremaining: 17.5s\n",
      "13:\tlearn: 0.1056255\ttotal: 2.81s\tremaining: 17.3s\n",
      "14:\tlearn: 0.0997726\ttotal: 3s\tremaining: 17s\n",
      "15:\tlearn: 0.0950631\ttotal: 3.17s\tremaining: 16.6s\n",
      "16:\tlearn: 0.0936294\ttotal: 3.35s\tremaining: 16.3s\n",
      "17:\tlearn: 0.0919096\ttotal: 3.55s\tremaining: 16.2s\n",
      "18:\tlearn: 0.0906892\ttotal: 3.75s\tremaining: 16s\n",
      "19:\tlearn: 0.0885770\ttotal: 3.95s\tremaining: 15.8s\n",
      "20:\tlearn: 0.0871635\ttotal: 4.13s\tremaining: 15.5s\n",
      "21:\tlearn: 0.0858987\ttotal: 4.3s\tremaining: 15.2s\n",
      "22:\tlearn: 0.0852579\ttotal: 4.46s\tremaining: 14.9s\n",
      "23:\tlearn: 0.0841516\ttotal: 4.63s\tremaining: 14.7s\n",
      "24:\tlearn: 0.0837378\ttotal: 4.79s\tremaining: 14.4s\n",
      "25:\tlearn: 0.0825079\ttotal: 4.99s\tremaining: 14.2s\n",
      "26:\tlearn: 0.0811555\ttotal: 5.17s\tremaining: 14s\n",
      "27:\tlearn: 0.0802431\ttotal: 5.35s\tremaining: 13.8s\n",
      "28:\tlearn: 0.0791317\ttotal: 5.54s\tremaining: 13.6s\n",
      "29:\tlearn: 0.0785299\ttotal: 5.73s\tremaining: 13.4s\n",
      "30:\tlearn: 0.0778096\ttotal: 5.92s\tremaining: 13.2s\n",
      "31:\tlearn: 0.0772431\ttotal: 6.11s\tremaining: 13s\n",
      "32:\tlearn: 0.0765887\ttotal: 6.28s\tremaining: 12.7s\n",
      "33:\tlearn: 0.0756939\ttotal: 6.45s\tremaining: 12.5s\n",
      "34:\tlearn: 0.0753167\ttotal: 6.61s\tremaining: 12.3s\n",
      "35:\tlearn: 0.0750202\ttotal: 6.78s\tremaining: 12s\n",
      "36:\tlearn: 0.0746008\ttotal: 6.96s\tremaining: 11.9s\n",
      "37:\tlearn: 0.0744111\ttotal: 7.16s\tremaining: 11.7s\n",
      "38:\tlearn: 0.0741147\ttotal: 7.35s\tremaining: 11.5s\n",
      "39:\tlearn: 0.0739439\ttotal: 7.53s\tremaining: 11.3s\n",
      "40:\tlearn: 0.0735669\ttotal: 7.74s\tremaining: 11.1s\n",
      "41:\tlearn: 0.0731331\ttotal: 7.93s\tremaining: 11s\n",
      "42:\tlearn: 0.0726485\ttotal: 8.13s\tremaining: 10.8s\n",
      "43:\tlearn: 0.0723734\ttotal: 8.31s\tremaining: 10.6s\n",
      "44:\tlearn: 0.0722671\ttotal: 8.49s\tremaining: 10.4s\n",
      "45:\tlearn: 0.0717668\ttotal: 8.68s\tremaining: 10.2s\n",
      "46:\tlearn: 0.0717182\ttotal: 8.84s\tremaining: 9.97s\n",
      "47:\tlearn: 0.0715017\ttotal: 9.01s\tremaining: 9.76s\n",
      "48:\tlearn: 0.0713022\ttotal: 9.18s\tremaining: 9.55s\n",
      "49:\tlearn: 0.0709376\ttotal: 9.37s\tremaining: 9.37s\n",
      "50:\tlearn: 0.0706946\ttotal: 9.54s\tremaining: 9.17s\n",
      "51:\tlearn: 0.0706623\ttotal: 9.71s\tremaining: 8.96s\n",
      "52:\tlearn: 0.0705911\ttotal: 9.9s\tremaining: 8.78s\n",
      "53:\tlearn: 0.0703223\ttotal: 10.1s\tremaining: 8.6s\n",
      "54:\tlearn: 0.0702150\ttotal: 10.3s\tremaining: 8.42s\n",
      "55:\tlearn: 0.0700612\ttotal: 10.5s\tremaining: 8.23s\n",
      "56:\tlearn: 0.0697478\ttotal: 10.7s\tremaining: 8.05s\n",
      "57:\tlearn: 0.0696841\ttotal: 10.8s\tremaining: 7.84s\n",
      "58:\tlearn: 0.0694984\ttotal: 11s\tremaining: 7.65s\n",
      "59:\tlearn: 0.0693695\ttotal: 11.2s\tremaining: 7.46s\n",
      "60:\tlearn: 0.0692431\ttotal: 11.4s\tremaining: 7.26s\n",
      "61:\tlearn: 0.0691579\ttotal: 11.5s\tremaining: 7.06s\n",
      "62:\tlearn: 0.0689996\ttotal: 11.7s\tremaining: 6.88s\n",
      "63:\tlearn: 0.0689514\ttotal: 11.9s\tremaining: 6.7s\n",
      "64:\tlearn: 0.0687622\ttotal: 12.1s\tremaining: 6.51s\n",
      "65:\tlearn: 0.0685895\ttotal: 12.3s\tremaining: 6.33s\n",
      "66:\tlearn: 0.0684816\ttotal: 12.5s\tremaining: 6.14s\n",
      "67:\tlearn: 0.0684134\ttotal: 12.6s\tremaining: 5.94s\n",
      "68:\tlearn: 0.0683686\ttotal: 12.8s\tremaining: 5.75s\n",
      "69:\tlearn: 0.0683226\ttotal: 13s\tremaining: 5.56s\n",
      "70:\tlearn: 0.0682027\ttotal: 13.2s\tremaining: 5.38s\n",
      "71:\tlearn: 0.0681900\ttotal: 13.3s\tremaining: 5.19s\n",
      "72:\tlearn: 0.0681294\ttotal: 13.5s\tremaining: 5s\n",
      "73:\tlearn: 0.0680162\ttotal: 13.7s\tremaining: 4.81s\n",
      "74:\tlearn: 0.0679552\ttotal: 13.8s\tremaining: 4.62s\n",
      "75:\tlearn: 0.0679127\ttotal: 14s\tremaining: 4.42s\n",
      "76:\tlearn: 0.0678136\ttotal: 14.2s\tremaining: 4.24s\n",
      "77:\tlearn: 0.0677715\ttotal: 14.4s\tremaining: 4.05s\n",
      "78:\tlearn: 0.0677023\ttotal: 14.5s\tremaining: 3.86s\n",
      "79:\tlearn: 0.0676368\ttotal: 14.7s\tremaining: 3.68s\n",
      "80:\tlearn: 0.0675904\ttotal: 14.9s\tremaining: 3.49s\n",
      "81:\tlearn: 0.0674917\ttotal: 15.1s\tremaining: 3.31s\n",
      "82:\tlearn: 0.0674280\ttotal: 15.3s\tremaining: 3.12s\n",
      "83:\tlearn: 0.0673943\ttotal: 15.4s\tremaining: 2.94s\n",
      "84:\tlearn: 0.0673478\ttotal: 15.6s\tremaining: 2.75s\n",
      "85:\tlearn: 0.0672675\ttotal: 15.8s\tremaining: 2.57s\n",
      "86:\tlearn: 0.0672464\ttotal: 15.9s\tremaining: 2.38s\n",
      "87:\tlearn: 0.0672036\ttotal: 16.1s\tremaining: 2.2s\n",
      "88:\tlearn: 0.0671541\ttotal: 16.3s\tremaining: 2.01s\n",
      "89:\tlearn: 0.0671160\ttotal: 16.5s\tremaining: 1.83s\n",
      "90:\tlearn: 0.0671006\ttotal: 16.6s\tremaining: 1.64s\n",
      "91:\tlearn: 0.0670684\ttotal: 16.8s\tremaining: 1.46s\n",
      "92:\tlearn: 0.0670279\ttotal: 17s\tremaining: 1.28s\n",
      "93:\tlearn: 0.0670177\ttotal: 17.2s\tremaining: 1.09s\n",
      "94:\tlearn: 0.0670056\ttotal: 17.3s\tremaining: 912ms\n",
      "95:\tlearn: 0.0669580\ttotal: 17.5s\tremaining: 729ms\n",
      "96:\tlearn: 0.0669530\ttotal: 17.7s\tremaining: 546ms\n",
      "97:\tlearn: 0.0669460\ttotal: 17.9s\tremaining: 364ms\n",
      "98:\tlearn: 0.0669282\ttotal: 18s\tremaining: 182ms\n",
      "99:\tlearn: 0.0669157\ttotal: 18.2s\tremaining: 0us\n"
     ]
    },
    {
     "data": {
      "text/plain": [
       "<catboost.core.CatBoostClassifier at 0x7fea89fdb6a0>"
      ]
     },
     "execution_count": 9,
     "metadata": {},
     "output_type": "execute_result"
    }
   ],
   "source": [
    "cb.fit(X_train, y_train, verbose=10)"
   ]
  },
  {
   "cell_type": "code",
   "execution_count": 10,
   "id": "3fa82f39",
   "metadata": {},
   "outputs": [
    {
     "data": {
      "text/plain": [
       "0.973409255655105"
      ]
     },
     "execution_count": 10,
     "metadata": {},
     "output_type": "execute_result"
    }
   ],
   "source": [
    "cb.score(X_test, y_test)"
   ]
  },
  {
   "cell_type": "code",
   "execution_count": 11,
   "id": "93064d2e",
   "metadata": {},
   "outputs": [
    {
     "data": {
      "text/plain": [
       "array([0, 0, 0, ..., 0, 0, 0])"
      ]
     },
     "execution_count": 11,
     "metadata": {},
     "output_type": "execute_result"
    }
   ],
   "source": [
    "from sklearn.metrics import confusion_matrix\n",
    "y_pred = cb.predict(X_test)\n",
    "y_pred"
   ]
  },
  {
   "cell_type": "code",
   "execution_count": 12,
   "id": "69d0e4c4",
   "metadata": {},
   "outputs": [
    {
     "data": {
      "text/plain": [
       "array([[2655258,   38085],\n",
       "       [  50394,  583699]])"
      ]
     },
     "execution_count": 12,
     "metadata": {},
     "output_type": "execute_result"
    }
   ],
   "source": [
    "cm = confusion_matrix(y_test, y_pred)\n",
    "cm"
   ]
  },
  {
   "cell_type": "code",
   "execution_count": 13,
   "id": "7c15d348",
   "metadata": {},
   "outputs": [
    {
     "data": {
      "text/html": [
       "<div>\n",
       "<style scoped>\n",
       "    .dataframe tbody tr th:only-of-type {\n",
       "        vertical-align: middle;\n",
       "    }\n",
       "\n",
       "    .dataframe tbody tr th {\n",
       "        vertical-align: top;\n",
       "    }\n",
       "\n",
       "    .dataframe thead th {\n",
       "        text-align: right;\n",
       "    }\n",
       "</style>\n",
       "<table border=\"1\" class=\"dataframe\">\n",
       "  <thead>\n",
       "    <tr style=\"text-align: right;\">\n",
       "      <th></th>\n",
       "      <th>Predicted_Rejected</th>\n",
       "      <th>Predicted_Accepted</th>\n",
       "    </tr>\n",
       "  </thead>\n",
       "  <tbody>\n",
       "    <tr>\n",
       "      <th>Actual_Rejected</th>\n",
       "      <td>2655258</td>\n",
       "      <td>38085</td>\n",
       "    </tr>\n",
       "    <tr>\n",
       "      <th>Actual_Accepted</th>\n",
       "      <td>50394</td>\n",
       "      <td>583699</td>\n",
       "    </tr>\n",
       "  </tbody>\n",
       "</table>\n",
       "</div>"
      ],
      "text/plain": [
       "                 Predicted_Rejected  Predicted_Accepted\n",
       "Actual_Rejected             2655258               38085\n",
       "Actual_Accepted               50394              583699"
      ]
     },
     "execution_count": 13,
     "metadata": {},
     "output_type": "execute_result"
    }
   ],
   "source": [
    "confusion_matrix_full = pd.DataFrame(cm,\n",
    "                                     index=[\"Actual_Rejected\",\"Actual_Accepted\"],\n",
    "                                     columns=[\"Predicted_Rejected\",\"Predicted_Accepted\"])\n",
    "\n",
    "confusion_matrix_full"
   ]
  },
  {
   "cell_type": "code",
   "execution_count": null,
   "id": "d5b4e57d",
   "metadata": {},
   "outputs": [],
   "source": []
  },
  {
   "cell_type": "code",
   "execution_count": 14,
   "id": "639f98fb",
   "metadata": {},
   "outputs": [
    {
     "data": {
      "text/plain": [
       "Index(['Risk_Score', 'DI', 'Employment Length'], dtype='object')"
      ]
     },
     "execution_count": 14,
     "metadata": {},
     "output_type": "execute_result"
    }
   ],
   "source": [
    "X.columns"
   ]
  },
  {
   "cell_type": "code",
   "execution_count": 16,
   "id": "eea29076",
   "metadata": {},
   "outputs": [
    {
     "data": {
      "image/png": "[encoded data removed]",
      "text/plain": [
       "<Figure size 864x432 with 1 Axes>"
      ]
     },
     "metadata": {
      "needs_background": "light"
     },
     "output_type": "display_data"
    }
   ],
   "source": [
    "import matplotlib.pyplot as plt\n",
    "\n",
    "feature_importance = cb.feature_importances_\n",
    "sorted_idx = np.argsort(feature_importance)\n",
    "fig = plt.figure(figsize=(12, 6))\n",
    "plt.barh(range(len(sorted_idx)), feature_importance[sorted_idx], align='center')\n",
    "plt.yticks(range(len(sorted_idx)), np.array(X_test.columns)[sorted_idx])\n",
    "plt.title('Feature Importance');"
   ]
  },
  {
   "cell_type": "code",
   "execution_count": null,
   "id": "8aef1d0a",
   "metadata": {},
   "outputs": [],
   "source": []
  },
  {
   "cell_type": "code",
   "execution_count": 17,
   "id": "de05dcd7",
   "metadata": {},
   "outputs": [],
   "source": [
    "import shap"
   ]
  },
  {
   "cell_type": "code",
   "execution_count": 18,
   "id": "7556d061",
   "metadata": {},
   "outputs": [
    {
     "data": {
      "text/plain": [
       "Text(0.5, 1.0, 'SHAP Importance')"
      ]
     },
     "execution_count": 18,
     "metadata": {},
     "output_type": "execute_result"
    },
    {
     "data": {
      "image/png": "[encoded data removed]",
      "text/plain": [
       "<Figure size 864x432 with 1 Axes>"
      ]
     },
     "metadata": {
      "needs_background": "light"
     },
     "output_type": "display_data"
    }
   ],
   "source": [
    "explainer = shap.Explainer(cb)\n",
    "shap_values = explainer(X_test)\n",
    "shap_importance = shap_values.abs.mean(0).values\n",
    "sorted_idx = shap_importance.argsort()\n",
    "fig = plt.figure(figsize=(12, 6))\n",
    "plt.barh(range(len(sorted_idx)), shap_importance[sorted_idx], align='center')\n",
    "plt.yticks(range(len(sorted_idx)), np.array(X_test.columns)[sorted_idx])\n",
    "plt.title('SHAP Importance')"
   ]
  },
  {
   "cell_type": "code",
   "execution_count": 19,
   "id": "4dfe161c",
   "metadata": {},
   "outputs": [
    {
     "data": {
      "image/png": "[encoded data removed]",
      "text/plain": [
       "<Figure size 576x216 with 1 Axes>"
      ]
     },
     "metadata": {},
     "output_type": "display_data"
    }
   ],
   "source": [
    "shap.plots.bar(shap_values, max_display=X_test.shape[0])"
   ]
  },
  {
   "cell_type": "code",
   "execution_count": 20,
   "id": "a9f96746",
   "metadata": {},
   "outputs": [
    {
     "data": {
      "image/png": "[encoded data removed]",
      "text/plain": [
       "<Figure size 576x194.4 with 2 Axes>"
      ]
     },
     "metadata": {
      "needs_background": "light"
     },
     "output_type": "display_data"
    }
   ],
   "source": [
    "shap.summary_plot(shap_values, max_display=X_test.shape[0])"
   ]
  },
  {
   "cell_type": "code",
   "execution_count": null,
   "id": "b909e584",
   "metadata": {},
   "outputs": [],
   "source": []
  }
 ],
 "metadata": {
  "hide_input": false,
  "kernelspec": {
   "display_name": "Python 3 (ipykernel)",
   "language": "python",
   "name": "python3"
  },
  "language_info": {
   "codemirror_mode": {
    "name": "ipython",
    "version": 3
   },
   "file_extension": ".py",
   "mimetype": "text/x-python",
   "name": "python",
   "nbconvert_exporter": "python",
   "pygments_lexer": "ipython3",
   "version": "3.8.8"
  },
  "varInspector": {
   "cols": {
    "lenName": 16,
    "lenType": 16,
    "lenVar": 40
   },
   "kernels_config": {
    "python": {
     "delete_cmd_postfix": "",
     "delete_cmd_prefix": "del ",
     "library": "var_list.py",
     "varRefreshCmd": "print(var_dic_list())"
    },
    "r": {
     "delete_cmd_postfix": ") ",
     "delete_cmd_prefix": "rm(",
     "library": "var_list.r",
     "varRefreshCmd": "cat(var_dic_list()) "
    }
   },
   "types_to_exclude": [
    "module",
    "function",
    "builtin_function_or_method",
    "instance",
    "_Feature"
   ],
   "window_display": false
  }
 },
 "nbformat": 4,
 "nbformat_minor": 5
}
