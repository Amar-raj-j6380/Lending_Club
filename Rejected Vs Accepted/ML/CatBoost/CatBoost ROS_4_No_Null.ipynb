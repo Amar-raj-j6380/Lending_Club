{
 "cells": [
  {
   "cell_type": "code",
   "execution_count": 1,
   "id": "cbf92949",
   "metadata": {},
   "outputs": [],
   "source": [
    "import pandas as pd\n",
    "import numpy as np\n",
    "import matplotlib.pyplot as plt\n",
    "import seaborn as sns"
   ]
  },
  {
   "cell_type": "code",
   "execution_count": 2,
   "id": "97dccbad",
   "metadata": {},
   "outputs": [],
   "source": [
    "data = pd.read_csv('../../../Data/Combo_4_Full.csv', dtype={'Risk_Score':'str'})"
   ]
  },
  {
   "cell_type": "code",
   "execution_count": 3,
   "id": "26dbf3dd",
   "metadata": {},
   "outputs": [
    {
     "data": {
      "text/html": [
       "<div>\n",
       "<style scoped>\n",
       "    .dataframe tbody tr th:only-of-type {\n",
       "        vertical-align: middle;\n",
       "    }\n",
       "\n",
       "    .dataframe tbody tr th {\n",
       "        vertical-align: top;\n",
       "    }\n",
       "\n",
       "    .dataframe thead th {\n",
       "        text-align: right;\n",
       "    }\n",
       "</style>\n",
       "<table border=\"1\" class=\"dataframe\">\n",
       "  <thead>\n",
       "    <tr style=\"text-align: right;\">\n",
       "      <th></th>\n",
       "      <th>Risk_Score</th>\n",
       "      <th>DI</th>\n",
       "      <th>Loan Type</th>\n",
       "      <th>Employment Length</th>\n",
       "      <th>Accepted</th>\n",
       "    </tr>\n",
       "  </thead>\n",
       "  <tbody>\n",
       "    <tr>\n",
       "      <th>0</th>\n",
       "      <td>677.0</td>\n",
       "      <td>0.065455</td>\n",
       "      <td>Debt Consolidation</td>\n",
       "      <td>10+ years</td>\n",
       "      <td>1</td>\n",
       "    </tr>\n",
       "    <tr>\n",
       "      <th>1</th>\n",
       "      <td>717.0</td>\n",
       "      <td>0.380000</td>\n",
       "      <td>Business Loan</td>\n",
       "      <td>10+ years</td>\n",
       "      <td>1</td>\n",
       "    </tr>\n",
       "    <tr>\n",
       "      <th>2</th>\n",
       "      <td>697.0</td>\n",
       "      <td>0.317460</td>\n",
       "      <td>Home Improvement</td>\n",
       "      <td>10+ years</td>\n",
       "      <td>1</td>\n",
       "    </tr>\n",
       "    <tr>\n",
       "      <th>3</th>\n",
       "      <td>787.0</td>\n",
       "      <td>0.318182</td>\n",
       "      <td>Debt Consolidation</td>\n",
       "      <td>10+ years</td>\n",
       "      <td>1</td>\n",
       "    </tr>\n",
       "    <tr>\n",
       "      <th>4</th>\n",
       "      <td>697.0</td>\n",
       "      <td>0.099585</td>\n",
       "      <td>Major Purchase</td>\n",
       "      <td>3 years</td>\n",
       "      <td>1</td>\n",
       "    </tr>\n",
       "    <tr>\n",
       "      <th>...</th>\n",
       "      <td>...</td>\n",
       "      <td>...</td>\n",
       "      <td>...</td>\n",
       "      <td>...</td>\n",
       "      <td>...</td>\n",
       "    </tr>\n",
       "    <tr>\n",
       "      <th>29909400</th>\n",
       "      <td>590.0</td>\n",
       "      <td>0.412600</td>\n",
       "      <td>Debt Consolidation</td>\n",
       "      <td>&lt; 1 year</td>\n",
       "      <td>0</td>\n",
       "    </tr>\n",
       "    <tr>\n",
       "      <th>29909401</th>\n",
       "      <td>None</td>\n",
       "      <td>0.014800</td>\n",
       "      <td>Moving And Relocation</td>\n",
       "      <td>5 years</td>\n",
       "      <td>0</td>\n",
       "    </tr>\n",
       "    <tr>\n",
       "      <th>29909402</th>\n",
       "      <td>686.0</td>\n",
       "      <td>0.102600</td>\n",
       "      <td>Other</td>\n",
       "      <td>&lt; 1 year</td>\n",
       "      <td>0</td>\n",
       "    </tr>\n",
       "    <tr>\n",
       "      <th>29909403</th>\n",
       "      <td>None</td>\n",
       "      <td>0.177100</td>\n",
       "      <td>Debt Consolidation</td>\n",
       "      <td>&lt; 1 year</td>\n",
       "      <td>0</td>\n",
       "    </tr>\n",
       "    <tr>\n",
       "      <th>29909404</th>\n",
       "      <td>684.0</td>\n",
       "      <td>0.105800</td>\n",
       "      <td>Business Loan</td>\n",
       "      <td>&lt; 1 year</td>\n",
       "      <td>0</td>\n",
       "    </tr>\n",
       "  </tbody>\n",
       "</table>\n",
       "<p>29909405 rows × 5 columns</p>\n",
       "</div>"
      ],
      "text/plain": [
       "         Risk_Score        DI              Loan Type Employment Length  \\\n",
       "0             677.0  0.065455     Debt Consolidation         10+ years   \n",
       "1             717.0  0.380000          Business Loan         10+ years   \n",
       "2             697.0  0.317460       Home Improvement         10+ years   \n",
       "3             787.0  0.318182     Debt Consolidation         10+ years   \n",
       "4             697.0  0.099585         Major Purchase           3 years   \n",
       "...             ...       ...                    ...               ...   \n",
       "29909400      590.0  0.412600     Debt Consolidation          < 1 year   \n",
       "29909401       None  0.014800  Moving And Relocation           5 years   \n",
       "29909402      686.0  0.102600                  Other          < 1 year   \n",
       "29909403       None  0.177100     Debt Consolidation          < 1 year   \n",
       "29909404      684.0  0.105800          Business Loan          < 1 year   \n",
       "\n",
       "          Accepted  \n",
       "0                1  \n",
       "1                1  \n",
       "2                1  \n",
       "3                1  \n",
       "4                1  \n",
       "...            ...  \n",
       "29909400         0  \n",
       "29909401         0  \n",
       "29909402         0  \n",
       "29909403         0  \n",
       "29909404         0  \n",
       "\n",
       "[29909405 rows x 5 columns]"
      ]
     },
     "execution_count": 3,
     "metadata": {},
     "output_type": "execute_result"
    }
   ],
   "source": [
    "data"
   ]
  },
  {
   "cell_type": "code",
   "execution_count": 4,
   "id": "de7c9be6",
   "metadata": {},
   "outputs": [
    {
     "data": {
      "text/plain": [
       "Risk_Score            object\n",
       "DI                   float64\n",
       "Loan Type             object\n",
       "Employment Length     object\n",
       "Accepted               int64\n",
       "dtype: object"
      ]
     },
     "execution_count": 4,
     "metadata": {},
     "output_type": "execute_result"
    }
   ],
   "source": [
    "data.dtypes"
   ]
  },
  {
   "cell_type": "code",
   "execution_count": 5,
   "id": "e631e64c",
   "metadata": {},
   "outputs": [
    {
     "name": "stdout",
     "output_type": "stream",
     "text": [
      "['Risk_Score', 'Loan Type', 'Employment Length']\n"
     ]
    }
   ],
   "source": [
    "cat_features = ['Risk_Score', 'Loan Type', 'Employment Length']\n",
    "print(cat_features)"
   ]
  },
  {
   "cell_type": "code",
   "execution_count": 6,
   "id": "4084c980",
   "metadata": {},
   "outputs": [
    {
     "name": "stdout",
     "output_type": "stream",
     "text": [
      "(29909405,)\n",
      "(29909405, 4)\n"
     ]
    }
   ],
   "source": [
    "y = data.Accepted\n",
    "X = data.drop('Accepted', axis=1)\n",
    "print (y.shape)\n",
    "print (X.shape)"
   ]
  },
  {
   "cell_type": "code",
   "execution_count": 7,
   "id": "a4f53995",
   "metadata": {},
   "outputs": [
    {
     "name": "stdout",
     "output_type": "stream",
     "text": [
      "Labels: {0, 1}\n",
      "Zero count = 27648741, One count = 2260664\n",
      "Ratio of One Count = 0.0755837168944016\n"
     ]
    }
   ],
   "source": [
    "print('Labels: {}'.format(set(y)))\n",
    "print('Zero count = {}, One count = {}'.format(len(y) - sum(y), sum(y)))\n",
    "print('Ratio of One Count = {}'.format(sum(y)/len(y)))"
   ]
  },
  {
   "cell_type": "code",
   "execution_count": 8,
   "id": "b745e860",
   "metadata": {},
   "outputs": [
    {
     "name": "stdout",
     "output_type": "stream",
     "text": [
      "Labels: {0, 1}\n",
      "Zero count (Train) = 19354118, One count (Train) = 1582465\n",
      "Ratio of One Count = 0.07558372825212213\n",
      "Ratio of Train to Test = 0.6999999832828503\n"
     ]
    }
   ],
   "source": [
    "from sklearn.model_selection import train_test_split\n",
    "X_train, X_test, y_train, y_test = train_test_split(X,y, test_size=0.3, stratify=y)\n",
    "print('Labels: {}'.format(set(y_train)))\n",
    "print('Zero count (Train) = {}, One count (Train) = {}'.format(len(y_train) - sum(y_train), sum(y_train)))\n",
    "print('Ratio of One Count = {}'.format(sum(y_train)/len(y_train)))\n",
    "print('Ratio of Train to Test = {}'.format(len(y_train)/(len(y_train)+len(y_test))))\n",
    "#print('Ratio of Train to Test = {}'.format(len(X_train)/(len(X_train)+len(X_test))))"
   ]
  },
  {
   "cell_type": "code",
   "execution_count": null,
   "id": "0bed88e7",
   "metadata": {},
   "outputs": [],
   "source": []
  },
  {
   "cell_type": "code",
   "execution_count": 9,
   "id": "2d1c0dea",
   "metadata": {},
   "outputs": [],
   "source": [
    "from imblearn.over_sampling import RandomOverSampler\n",
    "oversample = RandomOverSampler(sampling_strategy='minority')\n",
    "X_train_os, y_train_os = oversample.fit_resample(X_train, y_train)"
   ]
  },
  {
   "cell_type": "code",
   "execution_count": 10,
   "id": "f8f61331",
   "metadata": {},
   "outputs": [
    {
     "name": "stdout",
     "output_type": "stream",
     "text": [
      "Labels: {0, 1}\n",
      "Zero count = 19354118, One count = 19354118\n",
      "Ratio of One Count = 0.5\n"
     ]
    }
   ],
   "source": [
    "print('Labels: {}'.format(set(y_train_os)))\n",
    "print('Zero count = {}, One count = {}'.format(len(y_train_os) - sum(y_train_os), sum(y_train_os)))\n",
    "print('Ratio of One Count = {}'.format(sum(y_train_os)/len(y_train_os)))\n",
    "#print('Ratio of Train to Test = {}'.format(len(y_train_os)/(len(y_train_os)+len(y_test))))"
   ]
  },
  {
   "cell_type": "code",
   "execution_count": null,
   "id": "93808d69",
   "metadata": {},
   "outputs": [],
   "source": []
  },
  {
   "cell_type": "code",
   "execution_count": 11,
   "id": "5d29d290",
   "metadata": {},
   "outputs": [
    {
     "name": "stdout",
     "output_type": "stream",
     "text": [
      "Learning rate set to 0.5\n",
      "0:\tlearn: 0.3269157\ttotal: 8.44s\tremaining: 13m 55s\n",
      "10:\tlearn: 0.0337341\ttotal: 1m 1s\tremaining: 8m 20s\n",
      "20:\tlearn: 0.0322677\ttotal: 1m 53s\tremaining: 7m 5s\n",
      "30:\tlearn: 0.0319666\ttotal: 2m 46s\tremaining: 6m 9s\n",
      "40:\tlearn: 0.0316794\ttotal: 3m 36s\tremaining: 5m 11s\n",
      "50:\tlearn: 0.0314735\ttotal: 4m 27s\tremaining: 4m 16s\n",
      "60:\tlearn: 0.0313605\ttotal: 5m 18s\tremaining: 3m 23s\n",
      "70:\tlearn: 0.0312768\ttotal: 6m 9s\tremaining: 2m 30s\n",
      "80:\tlearn: 0.0311477\ttotal: 7m 1s\tremaining: 1m 38s\n",
      "90:\tlearn: 0.0310735\ttotal: 7m 51s\tremaining: 46.6s\n",
      "99:\tlearn: 0.0310109\ttotal: 8m 37s\tremaining: 0us\n"
     ]
    },
    {
     "data": {
      "text/plain": [
       "<catboost.core.CatBoostClassifier at 0x7f84ef83d880>"
      ]
     },
     "execution_count": 11,
     "metadata": {},
     "output_type": "execute_result"
    }
   ],
   "source": [
    "from catboost import CatBoostClassifier\n",
    "cb = CatBoostClassifier(iterations=100)\n",
    "cb.fit(X_train_os, y_train_os, cat_features = cat_features, verbose = 10)"
   ]
  },
  {
   "cell_type": "code",
   "execution_count": null,
   "id": "dbfb8bdf",
   "metadata": {},
   "outputs": [],
   "source": []
  },
  {
   "cell_type": "code",
   "execution_count": 12,
   "id": "02864292",
   "metadata": {},
   "outputs": [],
   "source": [
    "from catboost import Pool\n",
    "#pool = Pool(data=X, label=y, cat_features = cat_features)"
   ]
  },
  {
   "cell_type": "code",
   "execution_count": 13,
   "id": "c67bf5e5",
   "metadata": {},
   "outputs": [],
   "source": [
    "train_pool = Pool(data=X_train_os, label=y_train_os, cat_features=cat_features)\n",
    "test_pool = Pool(data=X_test, label=y_test, cat_features=cat_features)"
   ]
  },
  {
   "cell_type": "code",
   "execution_count": 14,
   "id": "6b049cd7",
   "metadata": {},
   "outputs": [
    {
     "name": "stdout",
     "output_type": "stream",
     "text": [
      "Learning rate set to 0.5\n",
      "0:\tlearn: 0.3269157\ttest: 0.3292708\tbest: 0.3292708 (0)\ttotal: 9.06s\tremaining: 14m 57s\n",
      "10:\tlearn: 0.0337341\ttest: 0.0447470\tbest: 0.0447470 (10)\ttotal: 1m 1s\tremaining: 8m 19s\n",
      "20:\tlearn: 0.0322677\ttest: 0.0432075\tbest: 0.0432075 (20)\ttotal: 1m 53s\tremaining: 7m 7s\n",
      "30:\tlearn: 0.0319666\ttest: 0.0427442\tbest: 0.0427401 (29)\ttotal: 2m 45s\tremaining: 6m 7s\n",
      "40:\tlearn: 0.0316794\ttest: 0.0422871\tbest: 0.0422871 (40)\ttotal: 3m 37s\tremaining: 5m 13s\n",
      "50:\tlearn: 0.0314735\ttest: 0.0420029\tbest: 0.0420029 (50)\ttotal: 4m 29s\tremaining: 4m 19s\n",
      "60:\tlearn: 0.0313605\ttest: 0.0418307\tbest: 0.0418307 (60)\ttotal: 5m 26s\tremaining: 3m 29s\n",
      "70:\tlearn: 0.0312768\ttest: 0.0417098\tbest: 0.0417040 (67)\ttotal: 6m 19s\tremaining: 2m 35s\n",
      "80:\tlearn: 0.0311477\ttest: 0.0415079\tbest: 0.0415051 (79)\ttotal: 7m 12s\tremaining: 1m 41s\n",
      "90:\tlearn: 0.0310735\ttest: 0.0413889\tbest: 0.0413889 (90)\ttotal: 8m 4s\tremaining: 47.9s\n",
      "99:\tlearn: 0.0310109\ttest: 0.0413045\tbest: 0.0413045 (99)\ttotal: 8m 51s\tremaining: 0us\n",
      "\n",
      "bestTest = 0.04130450986\n",
      "bestIteration = 99\n",
      "\n"
     ]
    },
    {
     "data": {
      "text/plain": [
       "<catboost.core.CatBoostClassifier at 0x7f84ef83d880>"
      ]
     },
     "execution_count": 14,
     "metadata": {},
     "output_type": "execute_result"
    }
   ],
   "source": [
    "cb.fit(train_pool, eval_set=test_pool, verbose=10)\n",
    "#Log Loss is the \"default optimizer for binary classification in CatBoost\""
   ]
  },
  {
   "cell_type": "code",
   "execution_count": 15,
   "id": "109ee539",
   "metadata": {},
   "outputs": [
    {
     "name": "stdout",
     "output_type": "stream",
     "text": [
      "Model is fitted: True\n",
      "Model params:\n",
      "{'iterations': 100}\n"
     ]
    }
   ],
   "source": [
    "print('Model is fitted: {}'.format(cb.is_fitted()))\n",
    "print('Model params:\\n{}'.format(cb.get_params()))"
   ]
  },
  {
   "cell_type": "code",
   "execution_count": null,
   "id": "3f44cdba",
   "metadata": {},
   "outputs": [],
   "source": []
  },
  {
   "cell_type": "code",
   "execution_count": 16,
   "id": "9f9f2942",
   "metadata": {},
   "outputs": [
    {
     "data": {
      "application/vnd.jupyter.widget-view+json": {
       "model_id": "d66953f886064bdfa417a7dc39f7db50",
       "version_major": 2,
       "version_minor": 0
      },
      "text/plain": [
       "MetricVisualizer(layout=Layout(align_self='stretch', height='500px'))"
      ]
     },
     "metadata": {},
     "output_type": "display_data"
    }
   ],
   "source": [
    "cb2 = CatBoostClassifier(iterations=100, custom_loss=['AUC', 'Accuracy'])\n",
    "\n",
    "cb2.fit(train_pool, eval_set = test_pool, verbose=False, plot=True);"
   ]
  },
  {
   "cell_type": "code",
   "execution_count": 17,
   "id": "d8364781",
   "metadata": {},
   "outputs": [],
   "source": [
    "import shap"
   ]
  },
  {
   "cell_type": "code",
   "execution_count": 18,
   "id": "5e17fea3",
   "metadata": {},
   "outputs": [
    {
     "data": {
      "image/png": "[encoded data removed]",
      "text/plain": [
       "<Figure size 864x432 with 1 Axes>"
      ]
     },
     "metadata": {
      "needs_background": "light"
     },
     "output_type": "display_data"
    }
   ],
   "source": [
    "feature_importance = cb.feature_importances_\n",
    "sorted_idx = np.argsort(feature_importance)\n",
    "fig = plt.figure(figsize=(12, 6))\n",
    "plt.barh(range(len(sorted_idx)), feature_importance[sorted_idx], align='center')\n",
    "plt.yticks(range(len(sorted_idx)), np.array(X_test.columns)[sorted_idx])\n",
    "plt.title('Feature Importance');"
   ]
  },
  {
   "cell_type": "code",
   "execution_count": 19,
   "id": "63015598",
   "metadata": {},
   "outputs": [
    {
     "data": {
      "image/png": "[encoded data removed]",
      "text/plain": [
       "<Figure size 864x432 with 1 Axes>"
      ]
     },
     "metadata": {
      "needs_background": "light"
     },
     "output_type": "display_data"
    }
   ],
   "source": [
    "feature_importance = cb2.feature_importances_\n",
    "sorted_idx = np.argsort(feature_importance)\n",
    "fig = plt.figure(figsize=(12, 6))\n",
    "plt.barh(range(len(sorted_idx)), feature_importance[sorted_idx], align='center')\n",
    "plt.yticks(range(len(sorted_idx)), np.array(X_test.columns)[sorted_idx])\n",
    "plt.title('Feature Importance');"
   ]
  },
  {
   "cell_type": "code",
   "execution_count": null,
   "id": "a5222323",
   "metadata": {},
   "outputs": [],
   "source": []
  },
  {
   "cell_type": "code",
   "execution_count": 20,
   "id": "c2985631",
   "metadata": {},
   "outputs": [
    {
     "data": {
      "text/plain": [
       "Text(0.5, 1.0, 'SHAP Importance')"
      ]
     },
     "execution_count": 20,
     "metadata": {},
     "output_type": "execute_result"
    },
    {
     "data": {
      "image/png": "[encoded data removed]",
      "text/plain": [
       "<Figure size 864x432 with 1 Axes>"
      ]
     },
     "metadata": {
      "needs_background": "light"
     },
     "output_type": "display_data"
    }
   ],
   "source": [
    "explainer = shap.Explainer(cb)\n",
    "shap_values = explainer(X_test)\n",
    "shap_importance = shap_values.abs.mean(0).values\n",
    "sorted_idx = shap_importance.argsort()\n",
    "fig = plt.figure(figsize=(12, 6))\n",
    "plt.barh(range(len(sorted_idx)), shap_importance[sorted_idx], align='center')\n",
    "plt.yticks(range(len(sorted_idx)), np.array(X_test.columns)[sorted_idx])\n",
    "plt.title('SHAP Importance')"
   ]
  },
  {
   "cell_type": "code",
   "execution_count": 21,
   "id": "70e9116e",
   "metadata": {},
   "outputs": [
    {
     "data": {
      "text/plain": [
       "Text(0.5, 1.0, 'SHAP Importance')"
      ]
     },
     "execution_count": 21,
     "metadata": {},
     "output_type": "execute_result"
    },
    {
     "data": {
      "image/png": "[encoded data removed]",
      "text/plain": [
       "<Figure size 864x432 with 1 Axes>"
      ]
     },
     "metadata": {
      "needs_background": "light"
     },
     "output_type": "display_data"
    }
   ],
   "source": [
    "explainer = shap.Explainer(cb2)\n",
    "shap_values = explainer(X_test)\n",
    "shap_importance = shap_values.abs.mean(0).values\n",
    "sorted_idx = shap_importance.argsort()\n",
    "fig = plt.figure(figsize=(12, 6))\n",
    "plt.barh(range(len(sorted_idx)), shap_importance[sorted_idx], align='center')\n",
    "plt.yticks(range(len(sorted_idx)), np.array(X_test.columns)[sorted_idx])\n",
    "plt.title('SHAP Importance')"
   ]
  },
  {
   "cell_type": "code",
   "execution_count": null,
   "id": "9092ec68",
   "metadata": {},
   "outputs": [],
   "source": []
  },
  {
   "cell_type": "code",
   "execution_count": 22,
   "id": "78241af5",
   "metadata": {},
   "outputs": [
    {
     "data": {
      "image/png": "[encoded data removed]",
      "text/plain": [
       "<Figure size 576x252 with 1 Axes>"
      ]
     },
     "metadata": {},
     "output_type": "display_data"
    }
   ],
   "source": [
    "shap.plots.bar(shap_values, max_display=X_test.shape[0])"
   ]
  },
  {
   "cell_type": "code",
   "execution_count": 23,
   "id": "16372d1e",
   "metadata": {},
   "outputs": [
    {
     "data": {
      "image/png": "[encoded data removed]",
      "text/plain": [
       "<Figure size 576x223.2 with 2 Axes>"
      ]
     },
     "metadata": {
      "needs_background": "light"
     },
     "output_type": "display_data"
    }
   ],
   "source": [
    "shap.summary_plot(shap_values, max_display=X_test.shape[0])"
   ]
  },
  {
   "cell_type": "code",
   "execution_count": null,
   "id": "3ce8e7a4",
   "metadata": {},
   "outputs": [],
   "source": []
  }
 ],
 "metadata": {
  "hide_input": false,
  "kernelspec": {
   "display_name": "Python 3 (ipykernel)",
   "language": "python",
   "name": "python3"
  },
  "language_info": {
   "codemirror_mode": {
    "name": "ipython",
    "version": 3
   },
   "file_extension": ".py",
   "mimetype": "text/x-python",
   "name": "python",
   "nbconvert_exporter": "python",
   "pygments_lexer": "ipython3",
   "version": "3.8.8"
  },
  "varInspector": {
   "cols": {
    "lenName": 16,
    "lenType": 16,
    "lenVar": 40
   },
   "kernels_config": {
    "python": {
     "delete_cmd_postfix": "",
     "delete_cmd_prefix": "del ",
     "library": "var_list.py",
     "varRefreshCmd": "print(var_dic_list())"
    },
    "r": {
     "delete_cmd_postfix": ") ",
     "delete_cmd_prefix": "rm(",
     "library": "var_list.r",
     "varRefreshCmd": "cat(var_dic_list()) "
    }
   },
   "types_to_exclude": [
    "module",
    "function",
    "builtin_function_or_method",
    "instance",
    "_Feature"
   ],
   "window_display": false
  }
 },
 "nbformat": 4,
 "nbformat_minor": 5
}
