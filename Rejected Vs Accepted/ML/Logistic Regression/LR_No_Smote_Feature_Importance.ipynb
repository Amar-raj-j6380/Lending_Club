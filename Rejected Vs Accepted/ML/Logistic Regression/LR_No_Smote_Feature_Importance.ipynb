{
 "cells": [
  {
   "cell_type": "code",
   "execution_count": 1,
   "id": "3df36b7f",
   "metadata": {},
   "outputs": [],
   "source": [
    "import pandas as pd\n",
    "import numpy as np\n",
    "import seaborn as sns"
   ]
  },
  {
   "cell_type": "code",
   "execution_count": 2,
   "id": "997a371b",
   "metadata": {},
   "outputs": [],
   "source": [
    "from sklearn.linear_model import LogisticRegression\n",
    "clf = LogisticRegression()"
   ]
  },
  {
   "cell_type": "code",
   "execution_count": 16,
   "id": "96f331dd",
   "metadata": {},
   "outputs": [
    {
     "data": {
      "text/plain": [
       "(11008224, 21)"
      ]
     },
     "execution_count": 16,
     "metadata": {},
     "output_type": "execute_result"
    }
   ],
   "source": [
    "data = pd.read_csv('../../../Data/Combo_4_DropNAs.csv')\n",
    "data.shape"
   ]
  },
  {
   "cell_type": "code",
   "execution_count": 17,
   "id": "9acb7150",
   "metadata": {},
   "outputs": [
    {
     "data": {
      "text/html": [
       "<div>\n",
       "<style scoped>\n",
       "    .dataframe tbody tr th:only-of-type {\n",
       "        vertical-align: middle;\n",
       "    }\n",
       "\n",
       "    .dataframe tbody tr th {\n",
       "        vertical-align: top;\n",
       "    }\n",
       "\n",
       "    .dataframe thead th {\n",
       "        text-align: right;\n",
       "    }\n",
       "</style>\n",
       "<table border=\"1\" class=\"dataframe\">\n",
       "  <thead>\n",
       "    <tr style=\"text-align: right;\">\n",
       "      <th></th>\n",
       "      <th>Risk_Score</th>\n",
       "      <th>DI</th>\n",
       "      <th>Employment Length</th>\n",
       "      <th>Business Loan</th>\n",
       "      <th>Car Financing</th>\n",
       "      <th>Credit Card Refinancing</th>\n",
       "      <th>Debt Consolidation</th>\n",
       "      <th>Freedom</th>\n",
       "      <th>Green Loan</th>\n",
       "      <th>Home Improvement</th>\n",
       "      <th>...</th>\n",
       "      <th>Major Purchase</th>\n",
       "      <th>Medical Expenses</th>\n",
       "      <th>Motorcycle Loan</th>\n",
       "      <th>Moving And Relocation</th>\n",
       "      <th>Other</th>\n",
       "      <th>Personal Loan</th>\n",
       "      <th>Student Loan</th>\n",
       "      <th>Vacation</th>\n",
       "      <th>Wedding</th>\n",
       "      <th>Accepted</th>\n",
       "    </tr>\n",
       "  </thead>\n",
       "  <tbody>\n",
       "    <tr>\n",
       "      <th>0</th>\n",
       "      <td>0.412616</td>\n",
       "      <td>-0.008238</td>\n",
       "      <td>2.685920</td>\n",
       "      <td>-0.154873</td>\n",
       "      <td>-0.215556</td>\n",
       "      <td>-0.413925</td>\n",
       "      <td>1.026948</td>\n",
       "      <td>-0.00611</td>\n",
       "      <td>-0.047763</td>\n",
       "      <td>-0.228405</td>\n",
       "      <td>...</td>\n",
       "      <td>-0.168965</td>\n",
       "      <td>-0.167132</td>\n",
       "      <td>-0.004879</td>\n",
       "      <td>-0.158008</td>\n",
       "      <td>-0.400368</td>\n",
       "      <td>-0.021752</td>\n",
       "      <td>-0.021131</td>\n",
       "      <td>-0.102729</td>\n",
       "      <td>-0.04297</td>\n",
       "      <td>1</td>\n",
       "    </tr>\n",
       "    <tr>\n",
       "      <th>1</th>\n",
       "      <td>0.875775</td>\n",
       "      <td>-0.007595</td>\n",
       "      <td>2.685920</td>\n",
       "      <td>6.456885</td>\n",
       "      <td>-0.215556</td>\n",
       "      <td>-0.413925</td>\n",
       "      <td>-0.973759</td>\n",
       "      <td>-0.00611</td>\n",
       "      <td>-0.047763</td>\n",
       "      <td>-0.228405</td>\n",
       "      <td>...</td>\n",
       "      <td>-0.168965</td>\n",
       "      <td>-0.167132</td>\n",
       "      <td>-0.004879</td>\n",
       "      <td>-0.158008</td>\n",
       "      <td>-0.400368</td>\n",
       "      <td>-0.021752</td>\n",
       "      <td>-0.021131</td>\n",
       "      <td>-0.102729</td>\n",
       "      <td>-0.04297</td>\n",
       "      <td>1</td>\n",
       "    </tr>\n",
       "    <tr>\n",
       "      <th>2</th>\n",
       "      <td>0.644195</td>\n",
       "      <td>-0.007930</td>\n",
       "      <td>2.685920</td>\n",
       "      <td>-0.154873</td>\n",
       "      <td>-0.215556</td>\n",
       "      <td>-0.413925</td>\n",
       "      <td>-0.973759</td>\n",
       "      <td>-0.00611</td>\n",
       "      <td>-0.047763</td>\n",
       "      <td>4.378179</td>\n",
       "      <td>...</td>\n",
       "      <td>-0.168965</td>\n",
       "      <td>-0.167132</td>\n",
       "      <td>-0.004879</td>\n",
       "      <td>-0.158008</td>\n",
       "      <td>-0.400368</td>\n",
       "      <td>-0.021752</td>\n",
       "      <td>-0.021131</td>\n",
       "      <td>-0.102729</td>\n",
       "      <td>-0.04297</td>\n",
       "      <td>1</td>\n",
       "    </tr>\n",
       "    <tr>\n",
       "      <th>3</th>\n",
       "      <td>1.686304</td>\n",
       "      <td>-0.007531</td>\n",
       "      <td>2.685920</td>\n",
       "      <td>-0.154873</td>\n",
       "      <td>-0.215556</td>\n",
       "      <td>-0.413925</td>\n",
       "      <td>1.026948</td>\n",
       "      <td>-0.00611</td>\n",
       "      <td>-0.047763</td>\n",
       "      <td>-0.228405</td>\n",
       "      <td>...</td>\n",
       "      <td>-0.168965</td>\n",
       "      <td>-0.167132</td>\n",
       "      <td>-0.004879</td>\n",
       "      <td>-0.158008</td>\n",
       "      <td>-0.400368</td>\n",
       "      <td>-0.021752</td>\n",
       "      <td>-0.021131</td>\n",
       "      <td>-0.102729</td>\n",
       "      <td>-0.04297</td>\n",
       "      <td>1</td>\n",
       "    </tr>\n",
       "    <tr>\n",
       "      <th>4</th>\n",
       "      <td>0.644195</td>\n",
       "      <td>-0.007005</td>\n",
       "      <td>0.466611</td>\n",
       "      <td>-0.154873</td>\n",
       "      <td>-0.215556</td>\n",
       "      <td>-0.413925</td>\n",
       "      <td>-0.973759</td>\n",
       "      <td>-0.00611</td>\n",
       "      <td>-0.047763</td>\n",
       "      <td>-0.228405</td>\n",
       "      <td>...</td>\n",
       "      <td>5.918370</td>\n",
       "      <td>-0.167132</td>\n",
       "      <td>-0.004879</td>\n",
       "      <td>-0.158008</td>\n",
       "      <td>-0.400368</td>\n",
       "      <td>-0.021752</td>\n",
       "      <td>-0.021131</td>\n",
       "      <td>-0.102729</td>\n",
       "      <td>-0.04297</td>\n",
       "      <td>1</td>\n",
       "    </tr>\n",
       "  </tbody>\n",
       "</table>\n",
       "<p>5 rows × 21 columns</p>\n",
       "</div>"
      ],
      "text/plain": [
       "   Risk_Score        DI  Employment Length  Business Loan  Car Financing  \\\n",
       "0    0.412616 -0.008238           2.685920      -0.154873      -0.215556   \n",
       "1    0.875775 -0.007595           2.685920       6.456885      -0.215556   \n",
       "2    0.644195 -0.007930           2.685920      -0.154873      -0.215556   \n",
       "3    1.686304 -0.007531           2.685920      -0.154873      -0.215556   \n",
       "4    0.644195 -0.007005           0.466611      -0.154873      -0.215556   \n",
       "\n",
       "   Credit Card Refinancing  Debt Consolidation  Freedom  Green Loan  \\\n",
       "0                -0.413925            1.026948 -0.00611   -0.047763   \n",
       "1                -0.413925           -0.973759 -0.00611   -0.047763   \n",
       "2                -0.413925           -0.973759 -0.00611   -0.047763   \n",
       "3                -0.413925            1.026948 -0.00611   -0.047763   \n",
       "4                -0.413925           -0.973759 -0.00611   -0.047763   \n",
       "\n",
       "   Home Improvement  ...  Major Purchase  Medical Expenses  Motorcycle Loan  \\\n",
       "0         -0.228405  ...       -0.168965         -0.167132        -0.004879   \n",
       "1         -0.228405  ...       -0.168965         -0.167132        -0.004879   \n",
       "2          4.378179  ...       -0.168965         -0.167132        -0.004879   \n",
       "3         -0.228405  ...       -0.168965         -0.167132        -0.004879   \n",
       "4         -0.228405  ...        5.918370         -0.167132        -0.004879   \n",
       "\n",
       "   Moving And Relocation     Other  Personal Loan  Student Loan  Vacation  \\\n",
       "0              -0.158008 -0.400368      -0.021752     -0.021131 -0.102729   \n",
       "1              -0.158008 -0.400368      -0.021752     -0.021131 -0.102729   \n",
       "2              -0.158008 -0.400368      -0.021752     -0.021131 -0.102729   \n",
       "3              -0.158008 -0.400368      -0.021752     -0.021131 -0.102729   \n",
       "4              -0.158008 -0.400368      -0.021752     -0.021131 -0.102729   \n",
       "\n",
       "   Wedding  Accepted  \n",
       "0 -0.04297         1  \n",
       "1 -0.04297         1  \n",
       "2 -0.04297         1  \n",
       "3 -0.04297         1  \n",
       "4 -0.04297         1  \n",
       "\n",
       "[5 rows x 21 columns]"
      ]
     },
     "execution_count": 17,
     "metadata": {},
     "output_type": "execute_result"
    }
   ],
   "source": [
    "data.head(5)"
   ]
  },
  {
   "cell_type": "code",
   "execution_count": 32,
   "id": "1ce910d7",
   "metadata": {},
   "outputs": [
    {
     "data": {
      "text/plain": [
       "0    2668374.0\n",
       "1     634093.2\n",
       "Name: Accepted, dtype: float64"
      ]
     },
     "execution_count": 32,
     "metadata": {},
     "output_type": "execute_result"
    }
   ],
   "source": [
    "data.Accepted.value_counts()*0.3"
   ]
  },
  {
   "cell_type": "code",
   "execution_count": 18,
   "id": "72cc33d1",
   "metadata": {},
   "outputs": [
    {
     "data": {
      "text/plain": [
       "(11008224, 20)"
      ]
     },
     "execution_count": 18,
     "metadata": {},
     "output_type": "execute_result"
    }
   ],
   "source": [
    "X = data.drop('Accepted', axis=1)\n",
    "X.shape"
   ]
  },
  {
   "cell_type": "code",
   "execution_count": 19,
   "id": "fadf4ae7",
   "metadata": {},
   "outputs": [],
   "source": [
    "y = data['Accepted']"
   ]
  },
  {
   "cell_type": "code",
   "execution_count": 21,
   "id": "dfa82953",
   "metadata": {},
   "outputs": [],
   "source": [
    "from sklearn.model_selection import train_test_split\n",
    "X_train, X_test, y_train, y_test = train_test_split(X, y, test_size=0.3, stratify=y)"
   ]
  },
  {
   "cell_type": "code",
   "execution_count": 23,
   "id": "57109e9f",
   "metadata": {},
   "outputs": [
    {
     "data": {
      "text/html": [
       "<style>#sk-container-id-1 {color: black;background-color: white;}#sk-container-id-1 pre{padding: 0;}#sk-container-id-1 div.sk-toggleable {background-color: white;}#sk-container-id-1 label.sk-toggleable__label {cursor: pointer;display: block;width: 100%;margin-bottom: 0;padding: 0.3em;box-sizing: border-box;text-align: center;}#sk-container-id-1 label.sk-toggleable__label-arrow:before {content: \"▸\";float: left;margin-right: 0.25em;color: #696969;}#sk-container-id-1 label.sk-toggleable__label-arrow:hover:before {color: black;}#sk-container-id-1 div.sk-estimator:hover label.sk-toggleable__label-arrow:before {color: black;}#sk-container-id-1 div.sk-toggleable__content {max-height: 0;max-width: 0;overflow: hidden;text-align: left;background-color: #f0f8ff;}#sk-container-id-1 div.sk-toggleable__content pre {margin: 0.2em;color: black;border-radius: 0.25em;background-color: #f0f8ff;}#sk-container-id-1 input.sk-toggleable__control:checked~div.sk-toggleable__content {max-height: 200px;max-width: 100%;overflow: auto;}#sk-container-id-1 input.sk-toggleable__control:checked~label.sk-toggleable__label-arrow:before {content: \"▾\";}#sk-container-id-1 div.sk-estimator input.sk-toggleable__control:checked~label.sk-toggleable__label {background-color: #d4ebff;}#sk-container-id-1 div.sk-label input.sk-toggleable__control:checked~label.sk-toggleable__label {background-color: #d4ebff;}#sk-container-id-1 input.sk-hidden--visually {border: 0;clip: rect(1px 1px 1px 1px);clip: rect(1px, 1px, 1px, 1px);height: 1px;margin: -1px;overflow: hidden;padding: 0;position: absolute;width: 1px;}#sk-container-id-1 div.sk-estimator {font-family: monospace;background-color: #f0f8ff;border: 1px dotted black;border-radius: 0.25em;box-sizing: border-box;margin-bottom: 0.5em;}#sk-container-id-1 div.sk-estimator:hover {background-color: #d4ebff;}#sk-container-id-1 div.sk-parallel-item::after {content: \"\";width: 100%;border-bottom: 1px solid gray;flex-grow: 1;}#sk-container-id-1 div.sk-label:hover label.sk-toggleable__label {background-color: #d4ebff;}#sk-container-id-1 div.sk-serial::before {content: \"\";position: absolute;border-left: 1px solid gray;box-sizing: border-box;top: 0;bottom: 0;left: 50%;z-index: 0;}#sk-container-id-1 div.sk-serial {display: flex;flex-direction: column;align-items: center;background-color: white;padding-right: 0.2em;padding-left: 0.2em;position: relative;}#sk-container-id-1 div.sk-item {position: relative;z-index: 1;}#sk-container-id-1 div.sk-parallel {display: flex;align-items: stretch;justify-content: center;background-color: white;position: relative;}#sk-container-id-1 div.sk-item::before, #sk-container-id-1 div.sk-parallel-item::before {content: \"\";position: absolute;border-left: 1px solid gray;box-sizing: border-box;top: 0;bottom: 0;left: 50%;z-index: -1;}#sk-container-id-1 div.sk-parallel-item {display: flex;flex-direction: column;z-index: 1;position: relative;background-color: white;}#sk-container-id-1 div.sk-parallel-item:first-child::after {align-self: flex-end;width: 50%;}#sk-container-id-1 div.sk-parallel-item:last-child::after {align-self: flex-start;width: 50%;}#sk-container-id-1 div.sk-parallel-item:only-child::after {width: 0;}#sk-container-id-1 div.sk-dashed-wrapped {border: 1px dashed gray;margin: 0 0.4em 0.5em 0.4em;box-sizing: border-box;padding-bottom: 0.4em;background-color: white;}#sk-container-id-1 div.sk-label label {font-family: monospace;font-weight: bold;display: inline-block;line-height: 1.2em;}#sk-container-id-1 div.sk-label-container {text-align: center;}#sk-container-id-1 div.sk-container {/* jupyter's `normalize.less` sets `[hidden] { display: none; }` but bootstrap.min.css set `[hidden] { display: none !important; }` so we also need the `!important` here to be able to override the default hidden behavior on the sphinx rendered scikit-learn.org. See: https://github.com/scikit-learn/scikit-learn/issues/21755 */display: inline-block !important;position: relative;}#sk-container-id-1 div.sk-text-repr-fallback {display: none;}</style><div id=\"sk-container-id-1\" class=\"sk-top-container\"><div class=\"sk-text-repr-fallback\"><pre>LogisticRegression()</pre><b>In a Jupyter environment, please rerun this cell to show the HTML representation or trust the notebook. <br />On GitHub, the HTML representation is unable to render, please try loading this page with nbviewer.org.</b></div><div class=\"sk-container\" hidden><div class=\"sk-item\"><div class=\"sk-estimator sk-toggleable\"><input class=\"sk-toggleable__control sk-hidden--visually\" id=\"sk-estimator-id-1\" type=\"checkbox\" checked><label for=\"sk-estimator-id-1\" class=\"sk-toggleable__label sk-toggleable__label-arrow\">LogisticRegression</label><div class=\"sk-toggleable__content\"><pre>LogisticRegression()</pre></div></div></div></div></div>"
      ],
      "text/plain": [
       "LogisticRegression()"
      ]
     },
     "execution_count": 23,
     "metadata": {},
     "output_type": "execute_result"
    }
   ],
   "source": [
    "clf.fit(X_train, y_train)"
   ]
  },
  {
   "cell_type": "code",
   "execution_count": 24,
   "id": "3fa82f39",
   "metadata": {},
   "outputs": [
    {
     "data": {
      "text/plain": [
       "0.8942493916670805"
      ]
     },
     "execution_count": 24,
     "metadata": {},
     "output_type": "execute_result"
    }
   ],
   "source": [
    "clf.score(X_test, y_test)"
   ]
  },
  {
   "cell_type": "code",
   "execution_count": 25,
   "id": "93064d2e",
   "metadata": {},
   "outputs": [
    {
     "data": {
      "text/plain": [
       "array([0, 0, 0, ..., 1, 0, 0])"
      ]
     },
     "execution_count": 25,
     "metadata": {},
     "output_type": "execute_result"
    }
   ],
   "source": [
    "from sklearn.metrics import confusion_matrix\n",
    "y_pred = clf.predict(X_test)\n",
    "y_pred"
   ]
  },
  {
   "cell_type": "code",
   "execution_count": 30,
   "id": "69d0e4c4",
   "metadata": {},
   "outputs": [
    {
     "data": {
      "text/plain": [
       "array([[2559137,  109238],\n",
       "       [ 240000,  394093]])"
      ]
     },
     "execution_count": 30,
     "metadata": {},
     "output_type": "execute_result"
    }
   ],
   "source": [
    "cm = confusion_matrix(y_test, y_pred)\n",
    "cm"
   ]
  },
  {
   "cell_type": "code",
   "execution_count": 31,
   "id": "7c15d348",
   "metadata": {},
   "outputs": [
    {
     "data": {
      "text/html": [
       "<div>\n",
       "<style scoped>\n",
       "    .dataframe tbody tr th:only-of-type {\n",
       "        vertical-align: middle;\n",
       "    }\n",
       "\n",
       "    .dataframe tbody tr th {\n",
       "        vertical-align: top;\n",
       "    }\n",
       "\n",
       "    .dataframe thead th {\n",
       "        text-align: right;\n",
       "    }\n",
       "</style>\n",
       "<table border=\"1\" class=\"dataframe\">\n",
       "  <thead>\n",
       "    <tr style=\"text-align: right;\">\n",
       "      <th></th>\n",
       "      <th>Predicted_Rejected</th>\n",
       "      <th>Predicted_Accepted</th>\n",
       "    </tr>\n",
       "  </thead>\n",
       "  <tbody>\n",
       "    <tr>\n",
       "      <th>Actual_Rejected</th>\n",
       "      <td>2559137</td>\n",
       "      <td>109238</td>\n",
       "    </tr>\n",
       "    <tr>\n",
       "      <th>Actual_Accepted</th>\n",
       "      <td>240000</td>\n",
       "      <td>394093</td>\n",
       "    </tr>\n",
       "  </tbody>\n",
       "</table>\n",
       "</div>"
      ],
      "text/plain": [
       "                 Predicted_Rejected  Predicted_Accepted\n",
       "Actual_Rejected             2559137              109238\n",
       "Actual_Accepted              240000              394093"
      ]
     },
     "execution_count": 31,
     "metadata": {},
     "output_type": "execute_result"
    }
   ],
   "source": [
    "confusion_matrix_full = pd.DataFrame(cm,\n",
    "                                     index=[\"Actual_Rejected\",\"Actual_Accepted\"],\n",
    "                                     columns=[\"Predicted_Rejected\",\"Predicted_Accepted\"])\n",
    "\n",
    "confusion_matrix_full"
   ]
  },
  {
   "cell_type": "code",
   "execution_count": null,
   "id": "d5b4e57d",
   "metadata": {},
   "outputs": [],
   "source": []
  },
  {
   "cell_type": "code",
   "execution_count": 34,
   "id": "639f98fb",
   "metadata": {},
   "outputs": [
    {
     "data": {
      "text/plain": [
       "Index(['Risk_Score', 'DI', 'Employment Length', 'Business Loan',\n",
       "       'Car Financing', 'Credit Card Refinancing', 'Debt Consolidation',\n",
       "       'Freedom', 'Green Loan', 'Home Improvement', 'Home Purchase',\n",
       "       'Major Purchase', 'Medical Expenses', 'Motorcycle Loan',\n",
       "       'Moving And Relocation', 'Other', 'Personal Loan', 'Student Loan',\n",
       "       'Vacation', 'Wedding'],\n",
       "      dtype='object')"
      ]
     },
     "execution_count": 34,
     "metadata": {},
     "output_type": "execute_result"
    }
   ],
   "source": [
    "X.columns"
   ]
  },
  {
   "cell_type": "code",
   "execution_count": 38,
   "id": "e20467f8",
   "metadata": {},
   "outputs": [
    {
     "data": {
      "text/plain": [
       "-3.7025198151477676"
      ]
     },
     "execution_count": 38,
     "metadata": {},
     "output_type": "execute_result"
    }
   ],
   "source": [
    "w0 = clf.intercept_[0]\n",
    "w0"
   ]
  },
  {
   "cell_type": "code",
   "execution_count": 42,
   "id": "54728a7b",
   "metadata": {},
   "outputs": [],
   "source": [
    "w = w1, w2, w3, w4, w5, w6, w7, w8, w9, w10, w11, w12, w13, w14, w15, w16, w17, w18, w19, w20 = clf.coef_[0]"
   ]
  },
  {
   "cell_type": "code",
   "execution_count": 44,
   "id": "39f0b75c",
   "metadata": {},
   "outputs": [
    {
     "data": {
      "text/plain": [
       "1.5240894354677763"
      ]
     },
     "execution_count": 44,
     "metadata": {},
     "output_type": "execute_result"
    }
   ],
   "source": [
    "w1"
   ]
  },
  {
   "cell_type": "code",
   "execution_count": 45,
   "id": "372ac4ac",
   "metadata": {},
   "outputs": [
    {
     "data": {
      "text/plain": [
       "array([ 1.52408944e+00, -1.67924599e+02,  1.38808065e+00, -1.62968719e-01,\n",
       "       -2.80732422e-01,  2.67237568e-01,  2.29172529e-01, -7.96533569e-02,\n",
       "       -4.92197010e-02,  2.24340286e-02, -1.11879624e-01, -4.12874377e-02,\n",
       "       -7.49625683e-02, -7.97439257e-02, -6.59196640e-02, -2.14329303e-01,\n",
       "       -3.33844726e-01, -1.29741916e-02, -3.53576554e-02,  8.56206863e-03])"
      ]
     },
     "execution_count": 45,
     "metadata": {},
     "output_type": "execute_result"
    }
   ],
   "source": [
    "w"
   ]
  },
  {
   "cell_type": "code",
   "execution_count": 59,
   "id": "8d5b6022",
   "metadata": {},
   "outputs": [],
   "source": [
    "import math\n",
    "import matplotlib.pyplot as plt\n",
    "\n",
    "feature_importance = pd.DataFrame(X.columns, columns = [\"feature\"])\n",
    "feature_importance[\"importance\"] = pow(math.e, w)\n",
    "feature_importance = feature_importance.sort_values(by = [\"importance\"], ascending=False)\n",
    "\n",
    "#from sklearn.linear_model import LogisticRegression\n",
    "#ax = feature_importance.plot.barh(x='feature', y='importance')\n",
    "#plt.show()"
   ]
  },
  {
   "cell_type": "code",
   "execution_count": 60,
   "id": "79b39307",
   "metadata": {},
   "outputs": [
    {
     "data": {
      "text/html": [
       "<div>\n",
       "<style scoped>\n",
       "    .dataframe tbody tr th:only-of-type {\n",
       "        vertical-align: middle;\n",
       "    }\n",
       "\n",
       "    .dataframe tbody tr th {\n",
       "        vertical-align: top;\n",
       "    }\n",
       "\n",
       "    .dataframe thead th {\n",
       "        text-align: right;\n",
       "    }\n",
       "</style>\n",
       "<table border=\"1\" class=\"dataframe\">\n",
       "  <thead>\n",
       "    <tr style=\"text-align: right;\">\n",
       "      <th></th>\n",
       "      <th>feature</th>\n",
       "      <th>importance</th>\n",
       "    </tr>\n",
       "  </thead>\n",
       "  <tbody>\n",
       "    <tr>\n",
       "      <th>0</th>\n",
       "      <td>Risk_Score</td>\n",
       "      <td>4.590961e+00</td>\n",
       "    </tr>\n",
       "    <tr>\n",
       "      <th>2</th>\n",
       "      <td>Employment Length</td>\n",
       "      <td>4.007152e+00</td>\n",
       "    </tr>\n",
       "    <tr>\n",
       "      <th>5</th>\n",
       "      <td>Credit Card Refinancing</td>\n",
       "      <td>1.306351e+00</td>\n",
       "    </tr>\n",
       "    <tr>\n",
       "      <th>6</th>\n",
       "      <td>Debt Consolidation</td>\n",
       "      <td>1.257559e+00</td>\n",
       "    </tr>\n",
       "    <tr>\n",
       "      <th>9</th>\n",
       "      <td>Home Improvement</td>\n",
       "      <td>1.022688e+00</td>\n",
       "    </tr>\n",
       "    <tr>\n",
       "      <th>19</th>\n",
       "      <td>Wedding</td>\n",
       "      <td>1.008599e+00</td>\n",
       "    </tr>\n",
       "    <tr>\n",
       "      <th>17</th>\n",
       "      <td>Student Loan</td>\n",
       "      <td>9.871096e-01</td>\n",
       "    </tr>\n",
       "    <tr>\n",
       "      <th>18</th>\n",
       "      <td>Vacation</td>\n",
       "      <td>9.652601e-01</td>\n",
       "    </tr>\n",
       "    <tr>\n",
       "      <th>11</th>\n",
       "      <td>Major Purchase</td>\n",
       "      <td>9.595533e-01</td>\n",
       "    </tr>\n",
       "    <tr>\n",
       "      <th>8</th>\n",
       "      <td>Green Loan</td>\n",
       "      <td>9.519720e-01</td>\n",
       "    </tr>\n",
       "    <tr>\n",
       "      <th>14</th>\n",
       "      <td>Moving And Relocation</td>\n",
       "      <td>9.362061e-01</td>\n",
       "    </tr>\n",
       "    <tr>\n",
       "      <th>12</th>\n",
       "      <td>Medical Expenses</td>\n",
       "      <td>9.277782e-01</td>\n",
       "    </tr>\n",
       "    <tr>\n",
       "      <th>7</th>\n",
       "      <td>Freedom</td>\n",
       "      <td>9.234364e-01</td>\n",
       "    </tr>\n",
       "    <tr>\n",
       "      <th>13</th>\n",
       "      <td>Motorcycle Loan</td>\n",
       "      <td>9.233528e-01</td>\n",
       "    </tr>\n",
       "    <tr>\n",
       "      <th>10</th>\n",
       "      <td>Home Purchase</td>\n",
       "      <td>8.941519e-01</td>\n",
       "    </tr>\n",
       "    <tr>\n",
       "      <th>3</th>\n",
       "      <td>Business Loan</td>\n",
       "      <td>8.496178e-01</td>\n",
       "    </tr>\n",
       "    <tr>\n",
       "      <th>15</th>\n",
       "      <td>Other</td>\n",
       "      <td>8.070826e-01</td>\n",
       "    </tr>\n",
       "    <tr>\n",
       "      <th>4</th>\n",
       "      <td>Car Financing</td>\n",
       "      <td>7.552304e-01</td>\n",
       "    </tr>\n",
       "    <tr>\n",
       "      <th>16</th>\n",
       "      <td>Personal Loan</td>\n",
       "      <td>7.161650e-01</td>\n",
       "    </tr>\n",
       "    <tr>\n",
       "      <th>1</th>\n",
       "      <td>DI</td>\n",
       "      <td>1.178347e-73</td>\n",
       "    </tr>\n",
       "  </tbody>\n",
       "</table>\n",
       "</div>"
      ],
      "text/plain": [
       "                    feature    importance\n",
       "0                Risk_Score  4.590961e+00\n",
       "2         Employment Length  4.007152e+00\n",
       "5   Credit Card Refinancing  1.306351e+00\n",
       "6        Debt Consolidation  1.257559e+00\n",
       "9          Home Improvement  1.022688e+00\n",
       "19                  Wedding  1.008599e+00\n",
       "17             Student Loan  9.871096e-01\n",
       "18                 Vacation  9.652601e-01\n",
       "11           Major Purchase  9.595533e-01\n",
       "8                Green Loan  9.519720e-01\n",
       "14    Moving And Relocation  9.362061e-01\n",
       "12         Medical Expenses  9.277782e-01\n",
       "7                   Freedom  9.234364e-01\n",
       "13          Motorcycle Loan  9.233528e-01\n",
       "10            Home Purchase  8.941519e-01\n",
       "3             Business Loan  8.496178e-01\n",
       "15                    Other  8.070826e-01\n",
       "4             Car Financing  7.552304e-01\n",
       "16            Personal Loan  7.161650e-01\n",
       "1                        DI  1.178347e-73"
      ]
     },
     "execution_count": 60,
     "metadata": {},
     "output_type": "execute_result"
    }
   ],
   "source": [
    "feature_importance"
   ]
  },
  {
   "cell_type": "code",
   "execution_count": 64,
   "id": "c19fd9ff",
   "metadata": {},
   "outputs": [
    {
     "data": {
      "image/png": "[encoded data removed]",
      "text/plain": [
       "<Figure size 432x288 with 1 Axes>"
      ]
     },
     "metadata": {
      "needs_background": "light"
     },
     "output_type": "display_data"
    }
   ],
   "source": [
    "import seaborn as sns\n",
    "sns.barplot(data=feature_importance, y='feature', x='importance', color='blue');"
   ]
  },
  {
   "cell_type": "code",
   "execution_count": null,
   "id": "cc0de037",
   "metadata": {},
   "outputs": [],
   "source": []
  },
  {
   "cell_type": "code",
   "execution_count": null,
   "id": "3c72df70",
   "metadata": {},
   "outputs": [],
   "source": [
    "## Something is wrong with DI. Look at original data again....! "
   ]
  }
 ],
 "metadata": {
  "hide_input": false,
  "kernelspec": {
   "display_name": "Python 3 (ipykernel)",
   "language": "python",
   "name": "python3"
  },
  "language_info": {
   "codemirror_mode": {
    "name": "ipython",
    "version": 3
   },
   "file_extension": ".py",
   "mimetype": "text/x-python",
   "name": "python",
   "nbconvert_exporter": "python",
   "pygments_lexer": "ipython3",
   "version": "3.8.8"
  },
  "varInspector": {
   "cols": {
    "lenName": 16,
    "lenType": 16,
    "lenVar": 40
   },
   "kernels_config": {
    "python": {
     "delete_cmd_postfix": "",
     "delete_cmd_prefix": "del ",
     "library": "var_list.py",
     "varRefreshCmd": "print(var_dic_list())"
    },
    "r": {
     "delete_cmd_postfix": ") ",
     "delete_cmd_prefix": "rm(",
     "library": "var_list.r",
     "varRefreshCmd": "cat(var_dic_list()) "
    }
   },
   "types_to_exclude": [
    "module",
    "function",
    "builtin_function_or_method",
    "instance",
    "_Feature"
   ],
   "window_display": false
  }
 },
 "nbformat": 4,
 "nbformat_minor": 5
}
