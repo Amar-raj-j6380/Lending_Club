{
 "cells": [
  {
   "cell_type": "code",
   "execution_count": 1,
   "id": "3df36b7f",
   "metadata": {},
   "outputs": [],
   "source": [
    "import pandas as pd\n",
    "import numpy as np\n",
    "import seaborn as sns\n",
    "\n",
    "from sklearn.model_selection import cross_val_score\n",
    "from sklearn.model_selection import RepeatedStratifiedKFold\n",
    "\n",
    "#from numpy import mean\n",
    "#from sklearn.datasets import make_classification\n",
    "#from sklearn.tree import DecisionTreeClassifier\n",
    "from imblearn.pipeline import Pipeline\n",
    "from imblearn.over_sampling import SMOTE\n",
    "#from imblearn.over_sampling import RandomOverSampler"
   ]
  },
  {
   "cell_type": "code",
   "execution_count": 2,
   "id": "997a371b",
   "metadata": {},
   "outputs": [],
   "source": [
    "from sklearn.linear_model import LogisticRegression\n",
    "clf = LogisticRegression()"
   ]
  },
  {
   "cell_type": "code",
   "execution_count": 3,
   "id": "96f331dd",
   "metadata": {},
   "outputs": [
    {
     "data": {
      "text/plain": [
       "(11091453, 4)"
      ]
     },
     "execution_count": 3,
     "metadata": {},
     "output_type": "execute_result"
    }
   ],
   "source": [
    "data = pd.read_csv('../../../Data/Combo_3_DropNAs.csv')\n",
    "data.shape"
   ]
  },
  {
   "cell_type": "code",
   "execution_count": 4,
   "id": "9acb7150",
   "metadata": {},
   "outputs": [
    {
     "data": {
      "text/html": [
       "<div>\n",
       "<style scoped>\n",
       "    .dataframe tbody tr th:only-of-type {\n",
       "        vertical-align: middle;\n",
       "    }\n",
       "\n",
       "    .dataframe tbody tr th {\n",
       "        vertical-align: top;\n",
       "    }\n",
       "\n",
       "    .dataframe thead th {\n",
       "        text-align: right;\n",
       "    }\n",
       "</style>\n",
       "<table border=\"1\" class=\"dataframe\">\n",
       "  <thead>\n",
       "    <tr style=\"text-align: right;\">\n",
       "      <th></th>\n",
       "      <th>Risk_Score</th>\n",
       "      <th>DI</th>\n",
       "      <th>Employment Length</th>\n",
       "      <th>Accepted</th>\n",
       "    </tr>\n",
       "  </thead>\n",
       "  <tbody>\n",
       "    <tr>\n",
       "      <th>0</th>\n",
       "      <td>0.411783</td>\n",
       "      <td>-0.008441</td>\n",
       "      <td>2.668416</td>\n",
       "      <td>1</td>\n",
       "    </tr>\n",
       "    <tr>\n",
       "      <th>1</th>\n",
       "      <td>0.871415</td>\n",
       "      <td>-0.007807</td>\n",
       "      <td>2.668416</td>\n",
       "      <td>1</td>\n",
       "    </tr>\n",
       "    <tr>\n",
       "      <th>2</th>\n",
       "      <td>0.641599</td>\n",
       "      <td>-0.008137</td>\n",
       "      <td>2.668416</td>\n",
       "      <td>1</td>\n",
       "    </tr>\n",
       "    <tr>\n",
       "      <th>3</th>\n",
       "      <td>1.675772</td>\n",
       "      <td>-0.007744</td>\n",
       "      <td>2.668416</td>\n",
       "      <td>1</td>\n",
       "    </tr>\n",
       "    <tr>\n",
       "      <th>4</th>\n",
       "      <td>0.641599</td>\n",
       "      <td>-0.007225</td>\n",
       "      <td>0.458258</td>\n",
       "      <td>1</td>\n",
       "    </tr>\n",
       "  </tbody>\n",
       "</table>\n",
       "</div>"
      ],
      "text/plain": [
       "   Risk_Score        DI  Employment Length  Accepted\n",
       "0    0.411783 -0.008441           2.668416         1\n",
       "1    0.871415 -0.007807           2.668416         1\n",
       "2    0.641599 -0.008137           2.668416         1\n",
       "3    1.675772 -0.007744           2.668416         1\n",
       "4    0.641599 -0.007225           0.458258         1"
      ]
     },
     "execution_count": 4,
     "metadata": {},
     "output_type": "execute_result"
    }
   ],
   "source": [
    "data.head(5)"
   ]
  },
  {
   "cell_type": "code",
   "execution_count": 5,
   "id": "1ce910d7",
   "metadata": {},
   "outputs": [],
   "source": [
    "#data.Accepted.value_counts()*0.3"
   ]
  },
  {
   "cell_type": "code",
   "execution_count": 6,
   "id": "72cc33d1",
   "metadata": {},
   "outputs": [
    {
     "data": {
      "text/plain": [
       "(11091453, 3)"
      ]
     },
     "execution_count": 6,
     "metadata": {},
     "output_type": "execute_result"
    }
   ],
   "source": [
    "X = data.drop('Accepted', axis=1)\n",
    "X.shape"
   ]
  },
  {
   "cell_type": "code",
   "execution_count": 7,
   "id": "fadf4ae7",
   "metadata": {},
   "outputs": [],
   "source": [
    "y = data['Accepted']"
   ]
  },
  {
   "cell_type": "code",
   "execution_count": 8,
   "id": "8a452b17",
   "metadata": {},
   "outputs": [],
   "source": [
    "steps = [('over', SMOTE()), ('model', clf)]\n",
    "pipeline = Pipeline(steps=steps)"
   ]
  },
  {
   "cell_type": "code",
   "execution_count": 9,
   "id": "ed627b22",
   "metadata": {},
   "outputs": [
    {
     "name": "stdout",
     "output_type": "stream",
     "text": [
      "[0.87891585 0.87897806 0.87888159 0.87837478 0.87910508 0.88012117\n",
      " 0.87922138 0.87916188 0.87923671 0.87935031 0.8792242  0.87914846\n",
      " 0.87933599 0.87920696 0.87893197 0.87875886 0.87930794 0.87916729\n",
      " 0.87934039 0.8790627  0.8789979  0.87903666 0.87934321 0.87907803\n",
      " 0.87877419 0.87875075 0.8789464  0.87984799 0.87906631 0.87955858]\n",
      "0.8791410527369605\n"
     ]
    }
   ],
   "source": [
    "cv = RepeatedStratifiedKFold(n_splits=10, n_repeats=3, random_state=1)\n",
    "scores = cross_val_score(pipeline, X, y, scoring='accuracy', cv=cv, n_jobs=-1) \n",
    "\n",
    "print(scores)\n",
    "score = np.mean(scores)\n",
    "print(score)"
   ]
  },
  {
   "cell_type": "code",
   "execution_count": null,
   "id": "e8833b91",
   "metadata": {},
   "outputs": [],
   "source": []
  },
  {
   "cell_type": "code",
   "execution_count": null,
   "id": "04ecb213",
   "metadata": {},
   "outputs": [],
   "source": []
  },
  {
   "cell_type": "code",
   "execution_count": null,
   "id": "dfa82953",
   "metadata": {},
   "outputs": [],
   "source": [
    "#from sklearn.model_selection import train_test_split\n",
    "#X_train, X_test, y_train, y_test = train_test_split(X, y, test_size=0.3, stratify=y)"
   ]
  },
  {
   "cell_type": "code",
   "execution_count": null,
   "id": "57109e9f",
   "metadata": {},
   "outputs": [],
   "source": [
    "#clf.fit(X_train, y_train)"
   ]
  },
  {
   "cell_type": "code",
   "execution_count": null,
   "id": "3fa82f39",
   "metadata": {},
   "outputs": [],
   "source": [
    "#clf.score(X_test, y_test)"
   ]
  },
  {
   "cell_type": "code",
   "execution_count": null,
   "id": "93064d2e",
   "metadata": {},
   "outputs": [],
   "source": [
    "#from sklearn.metrics import confusion_matrix\n",
    "#y_pred = clf.predict(X_test)\n",
    "#y_pred"
   ]
  },
  {
   "cell_type": "code",
   "execution_count": null,
   "id": "69d0e4c4",
   "metadata": {},
   "outputs": [],
   "source": [
    "#cm = confusion_matrix(y_test, y_pred)\n",
    "#cm"
   ]
  },
  {
   "cell_type": "code",
   "execution_count": null,
   "id": "7c15d348",
   "metadata": {},
   "outputs": [],
   "source": [
    "#confusion_matrix_full = pd.DataFrame(cm,\n",
    "#                                     index=[\"Actual_Rejected\",\"Actual_Accepted\"],\n",
    "#                                     columns=[\"Predicted_Rejected\",\"Predicted_Accepted\"])\n",
    "\n",
    "#confusion_matrix_full"
   ]
  },
  {
   "cell_type": "code",
   "execution_count": null,
   "id": "d5b4e57d",
   "metadata": {},
   "outputs": [],
   "source": []
  },
  {
   "cell_type": "code",
   "execution_count": null,
   "id": "639f98fb",
   "metadata": {},
   "outputs": [],
   "source": [
    "#X.columns"
   ]
  },
  {
   "cell_type": "code",
   "execution_count": null,
   "id": "e20467f8",
   "metadata": {},
   "outputs": [],
   "source": [
    "#w0 = clf.intercept_[0]\n",
    "#w0"
   ]
  },
  {
   "cell_type": "code",
   "execution_count": null,
   "id": "4756942a",
   "metadata": {},
   "outputs": [],
   "source": [
    "#clf.coef_[0]"
   ]
  },
  {
   "cell_type": "code",
   "execution_count": null,
   "id": "54728a7b",
   "metadata": {},
   "outputs": [],
   "source": [
    "#w = w1, w2, w3 = clf.coef_[0]"
   ]
  },
  {
   "cell_type": "code",
   "execution_count": null,
   "id": "39f0b75c",
   "metadata": {},
   "outputs": [],
   "source": [
    "#w1"
   ]
  },
  {
   "cell_type": "code",
   "execution_count": null,
   "id": "372ac4ac",
   "metadata": {},
   "outputs": [],
   "source": [
    "#w"
   ]
  },
  {
   "cell_type": "code",
   "execution_count": null,
   "id": "8d5b6022",
   "metadata": {},
   "outputs": [],
   "source": [
    "#import math\n",
    "#import matplotlib.pyplot as plt\n",
    "\n",
    "#feature_importance = pd.DataFrame(X.columns, columns = [\"feature\"])\n",
    "#feature_importance[\"importance\"] = pow(math.e, w)\n",
    "#feature_importance = feature_importance.sort_values(by = [\"importance\"], ascending=False)\n",
    "\n",
    "#from sklearn.linear_model import LogisticRegression\n",
    "#ax = feature_importance.plot.barh(x='feature', y='importance')\n",
    "#plt.show()"
   ]
  },
  {
   "cell_type": "code",
   "execution_count": null,
   "id": "79b39307",
   "metadata": {},
   "outputs": [],
   "source": [
    "#feature_importance"
   ]
  },
  {
   "cell_type": "code",
   "execution_count": null,
   "id": "c19fd9ff",
   "metadata": {},
   "outputs": [],
   "source": [
    "#import seaborn as sns\n",
    "#sns.barplot(data=feature_importance, y='feature', x='importance', color='blue');"
   ]
  },
  {
   "cell_type": "code",
   "execution_count": null,
   "id": "cc0de037",
   "metadata": {},
   "outputs": [],
   "source": []
  },
  {
   "cell_type": "code",
   "execution_count": null,
   "id": "3c72df70",
   "metadata": {},
   "outputs": [],
   "source": [
    "## Something is wrong with DI. Look at original data again....! \n",
    "\n",
    "## Actually, nothing wrong. Same results even with 3 data case as above. \n",
    "## DI doesn't play major role as can be seen in EDA. "
   ]
  }
 ],
 "metadata": {
  "hide_input": false,
  "kernelspec": {
   "display_name": "Python 3 (ipykernel)",
   "language": "python",
   "name": "python3"
  },
  "language_info": {
   "codemirror_mode": {
    "name": "ipython",
    "version": 3
   },
   "file_extension": ".py",
   "mimetype": "text/x-python",
   "name": "python",
   "nbconvert_exporter": "python",
   "pygments_lexer": "ipython3",
   "version": "3.8.8"
  },
  "varInspector": {
   "cols": {
    "lenName": 16,
    "lenType": 16,
    "lenVar": 40
   },
   "kernels_config": {
    "python": {
     "delete_cmd_postfix": "",
     "delete_cmd_prefix": "del ",
     "library": "var_list.py",
     "varRefreshCmd": "print(var_dic_list())"
    },
    "r": {
     "delete_cmd_postfix": ") ",
     "delete_cmd_prefix": "rm(",
     "library": "var_list.r",
     "varRefreshCmd": "cat(var_dic_list()) "
    }
   },
   "types_to_exclude": [
    "module",
    "function",
    "builtin_function_or_method",
    "instance",
    "_Feature"
   ],
   "window_display": false
  }
 },
 "nbformat": 4,
 "nbformat_minor": 5
}
