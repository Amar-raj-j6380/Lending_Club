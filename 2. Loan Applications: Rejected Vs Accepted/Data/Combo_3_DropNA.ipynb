{
 "cells": [
  {
   "cell_type": "code",
   "execution_count": 3,
   "id": "b9e63b29",
   "metadata": {},
   "outputs": [],
   "source": [
    "import pandas as pd\n",
    "import seaborn as sns"
   ]
  },
  {
   "cell_type": "code",
   "execution_count": 4,
   "id": "e38f8523",
   "metadata": {},
   "outputs": [],
   "source": [
    "rejected_drop = pd.read_csv('Rejected_DropNAs.csv')"
   ]
  },
  {
   "cell_type": "code",
   "execution_count": 5,
   "id": "56314ac7",
   "metadata": {},
   "outputs": [
    {
     "data": {
      "text/plain": [
       "(8977809, 5)"
      ]
     },
     "execution_count": 5,
     "metadata": {},
     "output_type": "execute_result"
    }
   ],
   "source": [
    "rejected_drop.shape"
   ]
  },
  {
   "cell_type": "code",
   "execution_count": 6,
   "id": "b80c8a8b",
   "metadata": {},
   "outputs": [
    {
     "data": {
      "text/plain": [
       "Risk_Score           0\n",
       "DI                   0\n",
       "Loan Type            0\n",
       "Employment Length    0\n",
       "Accepted             0\n",
       "dtype: int64"
      ]
     },
     "execution_count": 6,
     "metadata": {},
     "output_type": "execute_result"
    }
   ],
   "source": [
    "rejected_drop.isnull().sum()                 #No Null Values"
   ]
  },
  {
   "cell_type": "code",
   "execution_count": 7,
   "id": "26afd083",
   "metadata": {},
   "outputs": [
    {
     "data": {
      "text/plain": [
       "Risk_Score           float64\n",
       "DI                   float64\n",
       "Loan Type             object\n",
       "Employment Length     object\n",
       "Accepted               int64\n",
       "dtype: object"
      ]
     },
     "execution_count": 7,
     "metadata": {},
     "output_type": "execute_result"
    }
   ],
   "source": [
    "rejected_drop.dtypes"
   ]
  },
  {
   "cell_type": "code",
   "execution_count": 8,
   "id": "7efa350a",
   "metadata": {},
   "outputs": [
    {
     "data": {
      "text/html": [
       "<div>\n",
       "<style scoped>\n",
       "    .dataframe tbody tr th:only-of-type {\n",
       "        vertical-align: middle;\n",
       "    }\n",
       "\n",
       "    .dataframe tbody tr th {\n",
       "        vertical-align: top;\n",
       "    }\n",
       "\n",
       "    .dataframe thead th {\n",
       "        text-align: right;\n",
       "    }\n",
       "</style>\n",
       "<table border=\"1\" class=\"dataframe\">\n",
       "  <thead>\n",
       "    <tr style=\"text-align: right;\">\n",
       "      <th></th>\n",
       "      <th>Risk_Score</th>\n",
       "      <th>DI</th>\n",
       "      <th>Accepted</th>\n",
       "    </tr>\n",
       "  </thead>\n",
       "  <tbody>\n",
       "    <tr>\n",
       "      <th>count</th>\n",
       "      <td>8.977809e+06</td>\n",
       "      <td>8.977809e+06</td>\n",
       "      <td>8977809.0</td>\n",
       "    </tr>\n",
       "    <tr>\n",
       "      <th>mean</th>\n",
       "      <td>6.272171e+02</td>\n",
       "      <td>1.697738e+00</td>\n",
       "      <td>0.0</td>\n",
       "    </tr>\n",
       "    <tr>\n",
       "      <th>std</th>\n",
       "      <td>8.990980e+01</td>\n",
       "      <td>1.778247e+02</td>\n",
       "      <td>0.0</td>\n",
       "    </tr>\n",
       "    <tr>\n",
       "      <th>min</th>\n",
       "      <td>0.000000e+00</td>\n",
       "      <td>-1.000000e-02</td>\n",
       "      <td>0.0</td>\n",
       "    </tr>\n",
       "    <tr>\n",
       "      <th>25%</th>\n",
       "      <td>5.910000e+02</td>\n",
       "      <td>9.040000e-02</td>\n",
       "      <td>0.0</td>\n",
       "    </tr>\n",
       "    <tr>\n",
       "      <th>50%</th>\n",
       "      <td>6.360000e+02</td>\n",
       "      <td>2.053000e-01</td>\n",
       "      <td>0.0</td>\n",
       "    </tr>\n",
       "    <tr>\n",
       "      <th>75%</th>\n",
       "      <td>6.740000e+02</td>\n",
       "      <td>3.623000e-01</td>\n",
       "      <td>0.0</td>\n",
       "    </tr>\n",
       "    <tr>\n",
       "      <th>max</th>\n",
       "      <td>9.900000e+02</td>\n",
       "      <td>5.000003e+05</td>\n",
       "      <td>0.0</td>\n",
       "    </tr>\n",
       "  </tbody>\n",
       "</table>\n",
       "</div>"
      ],
      "text/plain": [
       "         Risk_Score            DI   Accepted\n",
       "count  8.977809e+06  8.977809e+06  8977809.0\n",
       "mean   6.272171e+02  1.697738e+00        0.0\n",
       "std    8.990980e+01  1.778247e+02        0.0\n",
       "min    0.000000e+00 -1.000000e-02        0.0\n",
       "25%    5.910000e+02  9.040000e-02        0.0\n",
       "50%    6.360000e+02  2.053000e-01        0.0\n",
       "75%    6.740000e+02  3.623000e-01        0.0\n",
       "max    9.900000e+02  5.000003e+05        0.0"
      ]
     },
     "execution_count": 8,
     "metadata": {},
     "output_type": "execute_result"
    }
   ],
   "source": [
    "rejected_drop.describe()"
   ]
  },
  {
   "cell_type": "code",
   "execution_count": 9,
   "id": "d381e6a5",
   "metadata": {},
   "outputs": [
    {
     "data": {
      "text/html": [
       "<div>\n",
       "<style scoped>\n",
       "    .dataframe tbody tr th:only-of-type {\n",
       "        vertical-align: middle;\n",
       "    }\n",
       "\n",
       "    .dataframe tbody tr th {\n",
       "        vertical-align: top;\n",
       "    }\n",
       "\n",
       "    .dataframe thead th {\n",
       "        text-align: right;\n",
       "    }\n",
       "</style>\n",
       "<table border=\"1\" class=\"dataframe\">\n",
       "  <thead>\n",
       "    <tr style=\"text-align: right;\">\n",
       "      <th></th>\n",
       "      <th>Risk_Score</th>\n",
       "      <th>DI</th>\n",
       "      <th>Loan Type</th>\n",
       "      <th>Employment Length</th>\n",
       "      <th>Accepted</th>\n",
       "    </tr>\n",
       "  </thead>\n",
       "  <tbody>\n",
       "    <tr>\n",
       "      <th>0</th>\n",
       "      <td>693.0</td>\n",
       "      <td>0.1</td>\n",
       "      <td>Wedding Covered but No Honeymoon</td>\n",
       "      <td>4 years</td>\n",
       "      <td>0</td>\n",
       "    </tr>\n",
       "    <tr>\n",
       "      <th>1</th>\n",
       "      <td>703.0</td>\n",
       "      <td>0.1</td>\n",
       "      <td>Consolidating Debt</td>\n",
       "      <td>&lt; 1 year</td>\n",
       "      <td>0</td>\n",
       "    </tr>\n",
       "  </tbody>\n",
       "</table>\n",
       "</div>"
      ],
      "text/plain": [
       "   Risk_Score   DI                         Loan Type Employment Length  \\\n",
       "0       693.0  0.1  Wedding Covered but No Honeymoon           4 years   \n",
       "1       703.0  0.1                Consolidating Debt          < 1 year   \n",
       "\n",
       "   Accepted  \n",
       "0         0  \n",
       "1         0  "
      ]
     },
     "execution_count": 9,
     "metadata": {},
     "output_type": "execute_result"
    }
   ],
   "source": [
    "rejected_drop.head(2)"
   ]
  },
  {
   "cell_type": "code",
   "execution_count": 10,
   "id": "71cfc4f5",
   "metadata": {},
   "outputs": [
    {
     "data": {
      "text/html": [
       "<div>\n",
       "<style scoped>\n",
       "    .dataframe tbody tr th:only-of-type {\n",
       "        vertical-align: middle;\n",
       "    }\n",
       "\n",
       "    .dataframe tbody tr th {\n",
       "        vertical-align: top;\n",
       "    }\n",
       "\n",
       "    .dataframe thead th {\n",
       "        text-align: right;\n",
       "    }\n",
       "</style>\n",
       "<table border=\"1\" class=\"dataframe\">\n",
       "  <thead>\n",
       "    <tr style=\"text-align: right;\">\n",
       "      <th></th>\n",
       "      <th>Risk_Score</th>\n",
       "      <th>DI</th>\n",
       "      <th>Employment Length</th>\n",
       "      <th>Accepted</th>\n",
       "    </tr>\n",
       "  </thead>\n",
       "  <tbody>\n",
       "    <tr>\n",
       "      <th>0</th>\n",
       "      <td>693.0</td>\n",
       "      <td>0.1000</td>\n",
       "      <td>4 years</td>\n",
       "      <td>0</td>\n",
       "    </tr>\n",
       "    <tr>\n",
       "      <th>1</th>\n",
       "      <td>703.0</td>\n",
       "      <td>0.1000</td>\n",
       "      <td>&lt; 1 year</td>\n",
       "      <td>0</td>\n",
       "    </tr>\n",
       "    <tr>\n",
       "      <th>2</th>\n",
       "      <td>715.0</td>\n",
       "      <td>0.1000</td>\n",
       "      <td>1 year</td>\n",
       "      <td>0</td>\n",
       "    </tr>\n",
       "    <tr>\n",
       "      <th>3</th>\n",
       "      <td>698.0</td>\n",
       "      <td>0.3864</td>\n",
       "      <td>&lt; 1 year</td>\n",
       "      <td>0</td>\n",
       "    </tr>\n",
       "    <tr>\n",
       "      <th>4</th>\n",
       "      <td>509.0</td>\n",
       "      <td>0.0943</td>\n",
       "      <td>&lt; 1 year</td>\n",
       "      <td>0</td>\n",
       "    </tr>\n",
       "    <tr>\n",
       "      <th>...</th>\n",
       "      <td>...</td>\n",
       "      <td>...</td>\n",
       "      <td>...</td>\n",
       "      <td>...</td>\n",
       "    </tr>\n",
       "    <tr>\n",
       "      <th>8977804</th>\n",
       "      <td>681.0</td>\n",
       "      <td>0.5515</td>\n",
       "      <td>&lt; 1 year</td>\n",
       "      <td>0</td>\n",
       "    </tr>\n",
       "    <tr>\n",
       "      <th>8977805</th>\n",
       "      <td>531.0</td>\n",
       "      <td>0.3131</td>\n",
       "      <td>&lt; 1 year</td>\n",
       "      <td>0</td>\n",
       "    </tr>\n",
       "    <tr>\n",
       "      <th>8977806</th>\n",
       "      <td>590.0</td>\n",
       "      <td>0.4126</td>\n",
       "      <td>&lt; 1 year</td>\n",
       "      <td>0</td>\n",
       "    </tr>\n",
       "    <tr>\n",
       "      <th>8977807</th>\n",
       "      <td>686.0</td>\n",
       "      <td>0.1026</td>\n",
       "      <td>&lt; 1 year</td>\n",
       "      <td>0</td>\n",
       "    </tr>\n",
       "    <tr>\n",
       "      <th>8977808</th>\n",
       "      <td>684.0</td>\n",
       "      <td>0.1058</td>\n",
       "      <td>&lt; 1 year</td>\n",
       "      <td>0</td>\n",
       "    </tr>\n",
       "  </tbody>\n",
       "</table>\n",
       "<p>8977809 rows × 4 columns</p>\n",
       "</div>"
      ],
      "text/plain": [
       "         Risk_Score      DI Employment Length  Accepted\n",
       "0             693.0  0.1000           4 years         0\n",
       "1             703.0  0.1000          < 1 year         0\n",
       "2             715.0  0.1000            1 year         0\n",
       "3             698.0  0.3864          < 1 year         0\n",
       "4             509.0  0.0943          < 1 year         0\n",
       "...             ...     ...               ...       ...\n",
       "8977804       681.0  0.5515          < 1 year         0\n",
       "8977805       531.0  0.3131          < 1 year         0\n",
       "8977806       590.0  0.4126          < 1 year         0\n",
       "8977807       686.0  0.1026          < 1 year         0\n",
       "8977808       684.0  0.1058          < 1 year         0\n",
       "\n",
       "[8977809 rows x 4 columns]"
      ]
     },
     "execution_count": 10,
     "metadata": {},
     "output_type": "execute_result"
    }
   ],
   "source": [
    "r = rejected_drop.drop(['Loan Type'], axis=1)\n",
    "r"
   ]
  },
  {
   "cell_type": "code",
   "execution_count": 11,
   "id": "a17b6de2",
   "metadata": {},
   "outputs": [],
   "source": [
    "accepted_drop = pd.read_csv('Accepted_DropNAs.csv')"
   ]
  },
  {
   "cell_type": "code",
   "execution_count": 12,
   "id": "a07d9042",
   "metadata": {},
   "outputs": [
    {
     "data": {
      "text/plain": [
       "(2113644, 5)"
      ]
     },
     "execution_count": 12,
     "metadata": {},
     "output_type": "execute_result"
    }
   ],
   "source": [
    "accepted_drop.shape"
   ]
  },
  {
   "cell_type": "code",
   "execution_count": 13,
   "id": "79473af6",
   "metadata": {},
   "outputs": [
    {
     "data": {
      "text/plain": [
       "Risk_Score           0\n",
       "DI                   0\n",
       "Loan Type            0\n",
       "Employment Length    0\n",
       "Accepted             0\n",
       "dtype: int64"
      ]
     },
     "execution_count": 13,
     "metadata": {},
     "output_type": "execute_result"
    }
   ],
   "source": [
    "accepted_drop.isnull().sum()"
   ]
  },
  {
   "cell_type": "code",
   "execution_count": 14,
   "id": "1454ca77",
   "metadata": {},
   "outputs": [
    {
     "data": {
      "text/plain": [
       "Risk_Score           float64\n",
       "DI                   float64\n",
       "Loan Type             object\n",
       "Employment Length     object\n",
       "Accepted               int64\n",
       "dtype: object"
      ]
     },
     "execution_count": 14,
     "metadata": {},
     "output_type": "execute_result"
    }
   ],
   "source": [
    "accepted_drop.dtypes"
   ]
  },
  {
   "cell_type": "code",
   "execution_count": 15,
   "id": "230d3342",
   "metadata": {},
   "outputs": [
    {
     "data": {
      "text/html": [
       "<div>\n",
       "<style scoped>\n",
       "    .dataframe tbody tr th:only-of-type {\n",
       "        vertical-align: middle;\n",
       "    }\n",
       "\n",
       "    .dataframe tbody tr th {\n",
       "        vertical-align: top;\n",
       "    }\n",
       "\n",
       "    .dataframe thead th {\n",
       "        text-align: right;\n",
       "    }\n",
       "</style>\n",
       "<table border=\"1\" class=\"dataframe\">\n",
       "  <thead>\n",
       "    <tr style=\"text-align: right;\">\n",
       "      <th></th>\n",
       "      <th>Risk_Score</th>\n",
       "      <th>DI</th>\n",
       "      <th>Accepted</th>\n",
       "    </tr>\n",
       "  </thead>\n",
       "  <tbody>\n",
       "    <tr>\n",
       "      <th>count</th>\n",
       "      <td>2.113644e+06</td>\n",
       "      <td>2.113644e+06</td>\n",
       "      <td>2113644.0</td>\n",
       "    </tr>\n",
       "    <tr>\n",
       "      <th>mean</th>\n",
       "      <td>7.004048e+02</td>\n",
       "      <td>1.858311e-01</td>\n",
       "      <td>1.0</td>\n",
       "    </tr>\n",
       "    <tr>\n",
       "      <th>std</th>\n",
       "      <td>3.272013e+01</td>\n",
       "      <td>1.181010e-01</td>\n",
       "      <td>0.0</td>\n",
       "    </tr>\n",
       "    <tr>\n",
       "      <th>min</th>\n",
       "      <td>6.120000e+02</td>\n",
       "      <td>-1.000000e-02</td>\n",
       "      <td>1.0</td>\n",
       "    </tr>\n",
       "    <tr>\n",
       "      <th>25%</th>\n",
       "      <td>6.770000e+02</td>\n",
       "      <td>1.186000e-01</td>\n",
       "      <td>1.0</td>\n",
       "    </tr>\n",
       "    <tr>\n",
       "      <th>50%</th>\n",
       "      <td>6.920000e+02</td>\n",
       "      <td>1.773000e-01</td>\n",
       "      <td>1.0</td>\n",
       "    </tr>\n",
       "    <tr>\n",
       "      <th>75%</th>\n",
       "      <td>7.170000e+02</td>\n",
       "      <td>2.432000e-01</td>\n",
       "      <td>1.0</td>\n",
       "    </tr>\n",
       "    <tr>\n",
       "      <th>max</th>\n",
       "      <td>8.475000e+02</td>\n",
       "      <td>9.990000e+00</td>\n",
       "      <td>1.0</td>\n",
       "    </tr>\n",
       "  </tbody>\n",
       "</table>\n",
       "</div>"
      ],
      "text/plain": [
       "         Risk_Score            DI   Accepted\n",
       "count  2.113644e+06  2.113644e+06  2113644.0\n",
       "mean   7.004048e+02  1.858311e-01        1.0\n",
       "std    3.272013e+01  1.181010e-01        0.0\n",
       "min    6.120000e+02 -1.000000e-02        1.0\n",
       "25%    6.770000e+02  1.186000e-01        1.0\n",
       "50%    6.920000e+02  1.773000e-01        1.0\n",
       "75%    7.170000e+02  2.432000e-01        1.0\n",
       "max    8.475000e+02  9.990000e+00        1.0"
      ]
     },
     "execution_count": 15,
     "metadata": {},
     "output_type": "execute_result"
    }
   ],
   "source": [
    "accepted_drop.describe()"
   ]
  },
  {
   "cell_type": "code",
   "execution_count": 16,
   "id": "8be8ae93",
   "metadata": {},
   "outputs": [
    {
     "data": {
      "text/html": [
       "<div>\n",
       "<style scoped>\n",
       "    .dataframe tbody tr th:only-of-type {\n",
       "        vertical-align: middle;\n",
       "    }\n",
       "\n",
       "    .dataframe tbody tr th {\n",
       "        vertical-align: top;\n",
       "    }\n",
       "\n",
       "    .dataframe thead th {\n",
       "        text-align: right;\n",
       "    }\n",
       "</style>\n",
       "<table border=\"1\" class=\"dataframe\">\n",
       "  <thead>\n",
       "    <tr style=\"text-align: right;\">\n",
       "      <th></th>\n",
       "      <th>Risk_Score</th>\n",
       "      <th>DI</th>\n",
       "      <th>Loan Type</th>\n",
       "      <th>Employment Length</th>\n",
       "      <th>Accepted</th>\n",
       "    </tr>\n",
       "  </thead>\n",
       "  <tbody>\n",
       "    <tr>\n",
       "      <th>0</th>\n",
       "      <td>677.0</td>\n",
       "      <td>0.0591</td>\n",
       "      <td>Debt Consolidation</td>\n",
       "      <td>10+ years</td>\n",
       "      <td>1</td>\n",
       "    </tr>\n",
       "    <tr>\n",
       "      <th>1</th>\n",
       "      <td>717.0</td>\n",
       "      <td>0.1606</td>\n",
       "      <td>Business Loan</td>\n",
       "      <td>10+ years</td>\n",
       "      <td>1</td>\n",
       "    </tr>\n",
       "  </tbody>\n",
       "</table>\n",
       "</div>"
      ],
      "text/plain": [
       "   Risk_Score      DI           Loan Type Employment Length  Accepted\n",
       "0       677.0  0.0591  Debt Consolidation         10+ years         1\n",
       "1       717.0  0.1606       Business Loan         10+ years         1"
      ]
     },
     "execution_count": 16,
     "metadata": {},
     "output_type": "execute_result"
    }
   ],
   "source": [
    "accepted_drop.head(2)"
   ]
  },
  {
   "cell_type": "code",
   "execution_count": 17,
   "id": "8cfb75d5",
   "metadata": {},
   "outputs": [
    {
     "data": {
      "text/html": [
       "<div>\n",
       "<style scoped>\n",
       "    .dataframe tbody tr th:only-of-type {\n",
       "        vertical-align: middle;\n",
       "    }\n",
       "\n",
       "    .dataframe tbody tr th {\n",
       "        vertical-align: top;\n",
       "    }\n",
       "\n",
       "    .dataframe thead th {\n",
       "        text-align: right;\n",
       "    }\n",
       "</style>\n",
       "<table border=\"1\" class=\"dataframe\">\n",
       "  <thead>\n",
       "    <tr style=\"text-align: right;\">\n",
       "      <th></th>\n",
       "      <th>Risk_Score</th>\n",
       "      <th>DI</th>\n",
       "      <th>Employment Length</th>\n",
       "      <th>Accepted</th>\n",
       "    </tr>\n",
       "  </thead>\n",
       "  <tbody>\n",
       "    <tr>\n",
       "      <th>0</th>\n",
       "      <td>677.0</td>\n",
       "      <td>0.0591</td>\n",
       "      <td>10+ years</td>\n",
       "      <td>1</td>\n",
       "    </tr>\n",
       "    <tr>\n",
       "      <th>1</th>\n",
       "      <td>717.0</td>\n",
       "      <td>0.1606</td>\n",
       "      <td>10+ years</td>\n",
       "      <td>1</td>\n",
       "    </tr>\n",
       "    <tr>\n",
       "      <th>2</th>\n",
       "      <td>697.0</td>\n",
       "      <td>0.1078</td>\n",
       "      <td>10+ years</td>\n",
       "      <td>1</td>\n",
       "    </tr>\n",
       "    <tr>\n",
       "      <th>3</th>\n",
       "      <td>787.0</td>\n",
       "      <td>0.1706</td>\n",
       "      <td>10+ years</td>\n",
       "      <td>1</td>\n",
       "    </tr>\n",
       "    <tr>\n",
       "      <th>4</th>\n",
       "      <td>697.0</td>\n",
       "      <td>0.2537</td>\n",
       "      <td>3 years</td>\n",
       "      <td>1</td>\n",
       "    </tr>\n",
       "    <tr>\n",
       "      <th>...</th>\n",
       "      <td>...</td>\n",
       "      <td>...</td>\n",
       "      <td>...</td>\n",
       "      <td>...</td>\n",
       "    </tr>\n",
       "    <tr>\n",
       "      <th>2113639</th>\n",
       "      <td>667.0</td>\n",
       "      <td>0.1961</td>\n",
       "      <td>7 years</td>\n",
       "      <td>1</td>\n",
       "    </tr>\n",
       "    <tr>\n",
       "      <th>2113640</th>\n",
       "      <td>697.0</td>\n",
       "      <td>0.3494</td>\n",
       "      <td>10+ years</td>\n",
       "      <td>1</td>\n",
       "    </tr>\n",
       "    <tr>\n",
       "      <th>2113641</th>\n",
       "      <td>707.0</td>\n",
       "      <td>0.1275</td>\n",
       "      <td>9 years</td>\n",
       "      <td>1</td>\n",
       "    </tr>\n",
       "    <tr>\n",
       "      <th>2113642</th>\n",
       "      <td>662.0</td>\n",
       "      <td>0.1830</td>\n",
       "      <td>6 years</td>\n",
       "      <td>1</td>\n",
       "    </tr>\n",
       "    <tr>\n",
       "      <th>2113643</th>\n",
       "      <td>662.0</td>\n",
       "      <td>0.2336</td>\n",
       "      <td>10+ years</td>\n",
       "      <td>1</td>\n",
       "    </tr>\n",
       "  </tbody>\n",
       "</table>\n",
       "<p>2113644 rows × 4 columns</p>\n",
       "</div>"
      ],
      "text/plain": [
       "         Risk_Score      DI Employment Length  Accepted\n",
       "0             677.0  0.0591         10+ years         1\n",
       "1             717.0  0.1606         10+ years         1\n",
       "2             697.0  0.1078         10+ years         1\n",
       "3             787.0  0.1706         10+ years         1\n",
       "4             697.0  0.2537           3 years         1\n",
       "...             ...     ...               ...       ...\n",
       "2113639       667.0  0.1961           7 years         1\n",
       "2113640       697.0  0.3494         10+ years         1\n",
       "2113641       707.0  0.1275           9 years         1\n",
       "2113642       662.0  0.1830           6 years         1\n",
       "2113643       662.0  0.2336         10+ years         1\n",
       "\n",
       "[2113644 rows x 4 columns]"
      ]
     },
     "execution_count": 17,
     "metadata": {},
     "output_type": "execute_result"
    }
   ],
   "source": [
    "a = accepted_drop.drop(['Loan Type'], axis=1)\n",
    "a"
   ]
  },
  {
   "cell_type": "code",
   "execution_count": null,
   "id": "96e26fdc",
   "metadata": {},
   "outputs": [],
   "source": []
  },
  {
   "cell_type": "code",
   "execution_count": 18,
   "id": "3450185d",
   "metadata": {},
   "outputs": [
    {
     "data": {
      "text/html": [
       "<div>\n",
       "<style scoped>\n",
       "    .dataframe tbody tr th:only-of-type {\n",
       "        vertical-align: middle;\n",
       "    }\n",
       "\n",
       "    .dataframe tbody tr th {\n",
       "        vertical-align: top;\n",
       "    }\n",
       "\n",
       "    .dataframe thead th {\n",
       "        text-align: right;\n",
       "    }\n",
       "</style>\n",
       "<table border=\"1\" class=\"dataframe\">\n",
       "  <thead>\n",
       "    <tr style=\"text-align: right;\">\n",
       "      <th></th>\n",
       "      <th>Risk_Score</th>\n",
       "      <th>DI</th>\n",
       "      <th>Employment Length</th>\n",
       "      <th>Accepted</th>\n",
       "    </tr>\n",
       "  </thead>\n",
       "  <tbody>\n",
       "    <tr>\n",
       "      <th>0</th>\n",
       "      <td>677.0</td>\n",
       "      <td>0.0591</td>\n",
       "      <td>10+ years</td>\n",
       "      <td>1</td>\n",
       "    </tr>\n",
       "    <tr>\n",
       "      <th>1</th>\n",
       "      <td>717.0</td>\n",
       "      <td>0.1606</td>\n",
       "      <td>10+ years</td>\n",
       "      <td>1</td>\n",
       "    </tr>\n",
       "    <tr>\n",
       "      <th>2</th>\n",
       "      <td>697.0</td>\n",
       "      <td>0.1078</td>\n",
       "      <td>10+ years</td>\n",
       "      <td>1</td>\n",
       "    </tr>\n",
       "    <tr>\n",
       "      <th>3</th>\n",
       "      <td>787.0</td>\n",
       "      <td>0.1706</td>\n",
       "      <td>10+ years</td>\n",
       "      <td>1</td>\n",
       "    </tr>\n",
       "    <tr>\n",
       "      <th>4</th>\n",
       "      <td>697.0</td>\n",
       "      <td>0.2537</td>\n",
       "      <td>3 years</td>\n",
       "      <td>1</td>\n",
       "    </tr>\n",
       "    <tr>\n",
       "      <th>...</th>\n",
       "      <td>...</td>\n",
       "      <td>...</td>\n",
       "      <td>...</td>\n",
       "      <td>...</td>\n",
       "    </tr>\n",
       "    <tr>\n",
       "      <th>11091448</th>\n",
       "      <td>681.0</td>\n",
       "      <td>0.5515</td>\n",
       "      <td>&lt; 1 year</td>\n",
       "      <td>0</td>\n",
       "    </tr>\n",
       "    <tr>\n",
       "      <th>11091449</th>\n",
       "      <td>531.0</td>\n",
       "      <td>0.3131</td>\n",
       "      <td>&lt; 1 year</td>\n",
       "      <td>0</td>\n",
       "    </tr>\n",
       "    <tr>\n",
       "      <th>11091450</th>\n",
       "      <td>590.0</td>\n",
       "      <td>0.4126</td>\n",
       "      <td>&lt; 1 year</td>\n",
       "      <td>0</td>\n",
       "    </tr>\n",
       "    <tr>\n",
       "      <th>11091451</th>\n",
       "      <td>686.0</td>\n",
       "      <td>0.1026</td>\n",
       "      <td>&lt; 1 year</td>\n",
       "      <td>0</td>\n",
       "    </tr>\n",
       "    <tr>\n",
       "      <th>11091452</th>\n",
       "      <td>684.0</td>\n",
       "      <td>0.1058</td>\n",
       "      <td>&lt; 1 year</td>\n",
       "      <td>0</td>\n",
       "    </tr>\n",
       "  </tbody>\n",
       "</table>\n",
       "<p>11091453 rows × 4 columns</p>\n",
       "</div>"
      ],
      "text/plain": [
       "          Risk_Score      DI Employment Length  Accepted\n",
       "0              677.0  0.0591         10+ years         1\n",
       "1              717.0  0.1606         10+ years         1\n",
       "2              697.0  0.1078         10+ years         1\n",
       "3              787.0  0.1706         10+ years         1\n",
       "4              697.0  0.2537           3 years         1\n",
       "...              ...     ...               ...       ...\n",
       "11091448       681.0  0.5515          < 1 year         0\n",
       "11091449       531.0  0.3131          < 1 year         0\n",
       "11091450       590.0  0.4126          < 1 year         0\n",
       "11091451       686.0  0.1026          < 1 year         0\n",
       "11091452       684.0  0.1058          < 1 year         0\n",
       "\n",
       "[11091453 rows x 4 columns]"
      ]
     },
     "execution_count": 18,
     "metadata": {},
     "output_type": "execute_result"
    }
   ],
   "source": [
    "combo = pd.concat([a, r], axis=0, ignore_index=True)\n",
    "combo"
   ]
  },
  {
   "cell_type": "code",
   "execution_count": null,
   "id": "7cb6beb8",
   "metadata": {},
   "outputs": [],
   "source": []
  },
  {
   "cell_type": "code",
   "execution_count": 19,
   "id": "0c388ab1",
   "metadata": {},
   "outputs": [
    {
     "data": {
      "image/png": "[encoded data removed]",
      "text/plain": [
       "<Figure size 432x288 with 1 Axes>"
      ]
     },
     "metadata": {
      "needs_background": "light"
     },
     "output_type": "display_data"
    }
   ],
   "source": [
    "sns.boxplot(data=combo, y='DI', x='Accepted', showfliers=False);"
   ]
  },
  {
   "cell_type": "code",
   "execution_count": 20,
   "id": "9ecf8c49",
   "metadata": {},
   "outputs": [
    {
     "data": {
      "image/png": "[encoded data removed]",
      "text/plain": [
       "<Figure size 432x288 with 1 Axes>"
      ]
     },
     "metadata": {
      "needs_background": "light"
     },
     "output_type": "display_data"
    }
   ],
   "source": [
    "sns.boxplot(data=combo, y='Risk_Score', x='Accepted', showfliers=False);"
   ]
  },
  {
   "cell_type": "code",
   "execution_count": null,
   "id": "28323114",
   "metadata": {},
   "outputs": [],
   "source": []
  },
  {
   "cell_type": "code",
   "execution_count": 21,
   "id": "88fbac95",
   "metadata": {},
   "outputs": [],
   "source": [
    "#Convert Employment Length to Ordinal Feature:"
   ]
  },
  {
   "cell_type": "code",
   "execution_count": 22,
   "id": "d6b62e2e",
   "metadata": {},
   "outputs": [
    {
     "data": {
      "text/plain": [
       "['1 year',\n",
       " '10+ years',\n",
       " '2 years',\n",
       " '3 years',\n",
       " '4 years',\n",
       " '5 years',\n",
       " '6 years',\n",
       " '7 years',\n",
       " '8 years',\n",
       " '9 years',\n",
       " '< 1 year']"
      ]
     },
     "execution_count": 22,
     "metadata": {},
     "output_type": "execute_result"
    }
   ],
   "source": [
    "sorted(combo['Employment Length'].unique())"
   ]
  },
  {
   "cell_type": "code",
   "execution_count": 23,
   "id": "4cdc5a49",
   "metadata": {},
   "outputs": [],
   "source": [
    "emp_ordering = [\n",
    "    '< 1 year',\n",
    "    '1 year',\n",
    "    '2 years',\n",
    "    '3 years',\n",
    "    '4 years',\n",
    "    '5 years',\n",
    "    '6 years',\n",
    "    '7 years',\n",
    "    '8 years',\n",
    "    '9 years',\n",
    "    '10+ years'\n",
    " ]"
   ]
  },
  {
   "cell_type": "code",
   "execution_count": 24,
   "id": "e20264e1",
   "metadata": {},
   "outputs": [],
   "source": [
    "def ordinal_encode(df, column, ordering):\n",
    "    df[column] = df[column].apply(lambda x: ordering.index(x))"
   ]
  },
  {
   "cell_type": "code",
   "execution_count": 25,
   "id": "f4bbfdb1",
   "metadata": {},
   "outputs": [],
   "source": [
    "ordinal_encode(combo, 'Employment Length', emp_ordering)"
   ]
  },
  {
   "cell_type": "code",
   "execution_count": 26,
   "id": "182e421a",
   "metadata": {},
   "outputs": [
    {
     "data": {
      "text/html": [
       "<div>\n",
       "<style scoped>\n",
       "    .dataframe tbody tr th:only-of-type {\n",
       "        vertical-align: middle;\n",
       "    }\n",
       "\n",
       "    .dataframe tbody tr th {\n",
       "        vertical-align: top;\n",
       "    }\n",
       "\n",
       "    .dataframe thead th {\n",
       "        text-align: right;\n",
       "    }\n",
       "</style>\n",
       "<table border=\"1\" class=\"dataframe\">\n",
       "  <thead>\n",
       "    <tr style=\"text-align: right;\">\n",
       "      <th></th>\n",
       "      <th>Risk_Score</th>\n",
       "      <th>DI</th>\n",
       "      <th>Employment Length</th>\n",
       "      <th>Accepted</th>\n",
       "    </tr>\n",
       "  </thead>\n",
       "  <tbody>\n",
       "    <tr>\n",
       "      <th>0</th>\n",
       "      <td>677.0</td>\n",
       "      <td>0.0591</td>\n",
       "      <td>10</td>\n",
       "      <td>1</td>\n",
       "    </tr>\n",
       "    <tr>\n",
       "      <th>1</th>\n",
       "      <td>717.0</td>\n",
       "      <td>0.1606</td>\n",
       "      <td>10</td>\n",
       "      <td>1</td>\n",
       "    </tr>\n",
       "    <tr>\n",
       "      <th>2</th>\n",
       "      <td>697.0</td>\n",
       "      <td>0.1078</td>\n",
       "      <td>10</td>\n",
       "      <td>1</td>\n",
       "    </tr>\n",
       "    <tr>\n",
       "      <th>3</th>\n",
       "      <td>787.0</td>\n",
       "      <td>0.1706</td>\n",
       "      <td>10</td>\n",
       "      <td>1</td>\n",
       "    </tr>\n",
       "    <tr>\n",
       "      <th>4</th>\n",
       "      <td>697.0</td>\n",
       "      <td>0.2537</td>\n",
       "      <td>3</td>\n",
       "      <td>1</td>\n",
       "    </tr>\n",
       "    <tr>\n",
       "      <th>...</th>\n",
       "      <td>...</td>\n",
       "      <td>...</td>\n",
       "      <td>...</td>\n",
       "      <td>...</td>\n",
       "    </tr>\n",
       "    <tr>\n",
       "      <th>11091448</th>\n",
       "      <td>681.0</td>\n",
       "      <td>0.5515</td>\n",
       "      <td>0</td>\n",
       "      <td>0</td>\n",
       "    </tr>\n",
       "    <tr>\n",
       "      <th>11091449</th>\n",
       "      <td>531.0</td>\n",
       "      <td>0.3131</td>\n",
       "      <td>0</td>\n",
       "      <td>0</td>\n",
       "    </tr>\n",
       "    <tr>\n",
       "      <th>11091450</th>\n",
       "      <td>590.0</td>\n",
       "      <td>0.4126</td>\n",
       "      <td>0</td>\n",
       "      <td>0</td>\n",
       "    </tr>\n",
       "    <tr>\n",
       "      <th>11091451</th>\n",
       "      <td>686.0</td>\n",
       "      <td>0.1026</td>\n",
       "      <td>0</td>\n",
       "      <td>0</td>\n",
       "    </tr>\n",
       "    <tr>\n",
       "      <th>11091452</th>\n",
       "      <td>684.0</td>\n",
       "      <td>0.1058</td>\n",
       "      <td>0</td>\n",
       "      <td>0</td>\n",
       "    </tr>\n",
       "  </tbody>\n",
       "</table>\n",
       "<p>11091453 rows × 4 columns</p>\n",
       "</div>"
      ],
      "text/plain": [
       "          Risk_Score      DI  Employment Length  Accepted\n",
       "0              677.0  0.0591                 10         1\n",
       "1              717.0  0.1606                 10         1\n",
       "2              697.0  0.1078                 10         1\n",
       "3              787.0  0.1706                 10         1\n",
       "4              697.0  0.2537                  3         1\n",
       "...              ...     ...                ...       ...\n",
       "11091448       681.0  0.5515                  0         0\n",
       "11091449       531.0  0.3131                  0         0\n",
       "11091450       590.0  0.4126                  0         0\n",
       "11091451       686.0  0.1026                  0         0\n",
       "11091452       684.0  0.1058                  0         0\n",
       "\n",
       "[11091453 rows x 4 columns]"
      ]
     },
     "execution_count": 26,
     "metadata": {},
     "output_type": "execute_result"
    }
   ],
   "source": [
    "combo"
   ]
  },
  {
   "cell_type": "code",
   "execution_count": 27,
   "id": "413efc2a",
   "metadata": {},
   "outputs": [
    {
     "data": {
      "text/plain": [
       "Risk_Score           float64\n",
       "DI                   float64\n",
       "Employment Length      int64\n",
       "Accepted               int64\n",
       "dtype: object"
      ]
     },
     "execution_count": 27,
     "metadata": {},
     "output_type": "execute_result"
    }
   ],
   "source": [
    "combo.dtypes"
   ]
  },
  {
   "cell_type": "code",
   "execution_count": 28,
   "id": "f5ea5444",
   "metadata": {},
   "outputs": [
    {
     "data": {
      "image/png": "[encoded data removed]",
      "text/plain": [
       "<Figure size 432x288 with 1 Axes>"
      ]
     },
     "metadata": {
      "needs_background": "light"
     },
     "output_type": "display_data"
    }
   ],
   "source": [
    "sns.boxplot(data=combo, y='Employment Length', x='Accepted', showfliers=False);"
   ]
  },
  {
   "cell_type": "code",
   "execution_count": 29,
   "id": "8f0cfaae",
   "metadata": {},
   "outputs": [
    {
     "data": {
      "image/png": "[encoded data removed]",
      "text/plain": [
       "<Figure size 432x288 with 1 Axes>"
      ]
     },
     "metadata": {
      "needs_background": "light"
     },
     "output_type": "display_data"
    }
   ],
   "source": [
    "sns.countplot(data=combo, x='Employment Length', hue='Accepted');"
   ]
  },
  {
   "cell_type": "code",
   "execution_count": null,
   "id": "004eaeca",
   "metadata": {},
   "outputs": [],
   "source": []
  },
  {
   "cell_type": "code",
   "execution_count": 30,
   "id": "061c89a8",
   "metadata": {},
   "outputs": [],
   "source": [
    "y = combo['Accepted']\n",
    "X = combo.drop('Accepted', axis=1)"
   ]
  },
  {
   "cell_type": "code",
   "execution_count": 31,
   "id": "dde11676",
   "metadata": {},
   "outputs": [
    {
     "data": {
      "text/html": [
       "<div>\n",
       "<style scoped>\n",
       "    .dataframe tbody tr th:only-of-type {\n",
       "        vertical-align: middle;\n",
       "    }\n",
       "\n",
       "    .dataframe tbody tr th {\n",
       "        vertical-align: top;\n",
       "    }\n",
       "\n",
       "    .dataframe thead th {\n",
       "        text-align: right;\n",
       "    }\n",
       "</style>\n",
       "<table border=\"1\" class=\"dataframe\">\n",
       "  <thead>\n",
       "    <tr style=\"text-align: right;\">\n",
       "      <th></th>\n",
       "      <th>Risk_Score</th>\n",
       "      <th>DI</th>\n",
       "      <th>Employment Length</th>\n",
       "    </tr>\n",
       "  </thead>\n",
       "  <tbody>\n",
       "    <tr>\n",
       "      <th>0</th>\n",
       "      <td>677.0</td>\n",
       "      <td>0.0591</td>\n",
       "      <td>10</td>\n",
       "    </tr>\n",
       "    <tr>\n",
       "      <th>1</th>\n",
       "      <td>717.0</td>\n",
       "      <td>0.1606</td>\n",
       "      <td>10</td>\n",
       "    </tr>\n",
       "    <tr>\n",
       "      <th>2</th>\n",
       "      <td>697.0</td>\n",
       "      <td>0.1078</td>\n",
       "      <td>10</td>\n",
       "    </tr>\n",
       "    <tr>\n",
       "      <th>3</th>\n",
       "      <td>787.0</td>\n",
       "      <td>0.1706</td>\n",
       "      <td>10</td>\n",
       "    </tr>\n",
       "    <tr>\n",
       "      <th>4</th>\n",
       "      <td>697.0</td>\n",
       "      <td>0.2537</td>\n",
       "      <td>3</td>\n",
       "    </tr>\n",
       "    <tr>\n",
       "      <th>...</th>\n",
       "      <td>...</td>\n",
       "      <td>...</td>\n",
       "      <td>...</td>\n",
       "    </tr>\n",
       "    <tr>\n",
       "      <th>11091448</th>\n",
       "      <td>681.0</td>\n",
       "      <td>0.5515</td>\n",
       "      <td>0</td>\n",
       "    </tr>\n",
       "    <tr>\n",
       "      <th>11091449</th>\n",
       "      <td>531.0</td>\n",
       "      <td>0.3131</td>\n",
       "      <td>0</td>\n",
       "    </tr>\n",
       "    <tr>\n",
       "      <th>11091450</th>\n",
       "      <td>590.0</td>\n",
       "      <td>0.4126</td>\n",
       "      <td>0</td>\n",
       "    </tr>\n",
       "    <tr>\n",
       "      <th>11091451</th>\n",
       "      <td>686.0</td>\n",
       "      <td>0.1026</td>\n",
       "      <td>0</td>\n",
       "    </tr>\n",
       "    <tr>\n",
       "      <th>11091452</th>\n",
       "      <td>684.0</td>\n",
       "      <td>0.1058</td>\n",
       "      <td>0</td>\n",
       "    </tr>\n",
       "  </tbody>\n",
       "</table>\n",
       "<p>11091453 rows × 3 columns</p>\n",
       "</div>"
      ],
      "text/plain": [
       "          Risk_Score      DI  Employment Length\n",
       "0              677.0  0.0591                 10\n",
       "1              717.0  0.1606                 10\n",
       "2              697.0  0.1078                 10\n",
       "3              787.0  0.1706                 10\n",
       "4              697.0  0.2537                  3\n",
       "...              ...     ...                ...\n",
       "11091448       681.0  0.5515                  0\n",
       "11091449       531.0  0.3131                  0\n",
       "11091450       590.0  0.4126                  0\n",
       "11091451       686.0  0.1026                  0\n",
       "11091452       684.0  0.1058                  0\n",
       "\n",
       "[11091453 rows x 3 columns]"
      ]
     },
     "execution_count": 31,
     "metadata": {},
     "output_type": "execute_result"
    }
   ],
   "source": [
    "X"
   ]
  },
  {
   "cell_type": "code",
   "execution_count": 32,
   "id": "239ec654",
   "metadata": {},
   "outputs": [
    {
     "data": {
      "text/plain": [
       "(11091453, 3)"
      ]
     },
     "execution_count": 32,
     "metadata": {},
     "output_type": "execute_result"
    }
   ],
   "source": [
    "X.shape"
   ]
  },
  {
   "cell_type": "code",
   "execution_count": 33,
   "id": "77270a6d",
   "metadata": {},
   "outputs": [
    {
     "data": {
      "text/plain": [
       "Index(['Risk_Score', 'DI', 'Employment Length'], dtype='object')"
      ]
     },
     "execution_count": 33,
     "metadata": {},
     "output_type": "execute_result"
    }
   ],
   "source": [
    "X.columns"
   ]
  },
  {
   "cell_type": "code",
   "execution_count": 34,
   "id": "a9148aa6",
   "metadata": {},
   "outputs": [],
   "source": [
    "from sklearn.preprocessing import StandardScaler\n",
    "scaler = StandardScaler()\n",
    "X_scaled = scaler.fit_transform(X)"
   ]
  },
  {
   "cell_type": "code",
   "execution_count": 35,
   "id": "bd9837b4",
   "metadata": {},
   "outputs": [
    {
     "data": {
      "text/plain": [
       "array([[ 0.4117828 , -0.00844142,  2.66841597],\n",
       "       [ 0.8714152 , -0.00780699,  2.66841597],\n",
       "       [ 0.641599  , -0.00813702,  2.66841597],\n",
       "       ...,\n",
       "       [-0.58791766, -0.00623187, -0.4889526 ],\n",
       "       [ 0.51520009, -0.00816952, -0.4889526 ],\n",
       "       [ 0.49221847, -0.00814952, -0.4889526 ]])"
      ]
     },
     "execution_count": 35,
     "metadata": {},
     "output_type": "execute_result"
    }
   ],
   "source": [
    "X_scaled"
   ]
  },
  {
   "cell_type": "code",
   "execution_count": 36,
   "id": "43144686",
   "metadata": {},
   "outputs": [
    {
     "data": {
      "text/html": [
       "<div>\n",
       "<style scoped>\n",
       "    .dataframe tbody tr th:only-of-type {\n",
       "        vertical-align: middle;\n",
       "    }\n",
       "\n",
       "    .dataframe tbody tr th {\n",
       "        vertical-align: top;\n",
       "    }\n",
       "\n",
       "    .dataframe thead th {\n",
       "        text-align: right;\n",
       "    }\n",
       "</style>\n",
       "<table border=\"1\" class=\"dataframe\">\n",
       "  <thead>\n",
       "    <tr style=\"text-align: right;\">\n",
       "      <th></th>\n",
       "      <th>Risk_Score</th>\n",
       "      <th>DI</th>\n",
       "      <th>Employment Length</th>\n",
       "    </tr>\n",
       "  </thead>\n",
       "  <tbody>\n",
       "    <tr>\n",
       "      <th>0</th>\n",
       "      <td>0.411783</td>\n",
       "      <td>-0.008441</td>\n",
       "      <td>2.668416</td>\n",
       "    </tr>\n",
       "    <tr>\n",
       "      <th>1</th>\n",
       "      <td>0.871415</td>\n",
       "      <td>-0.007807</td>\n",
       "      <td>2.668416</td>\n",
       "    </tr>\n",
       "    <tr>\n",
       "      <th>2</th>\n",
       "      <td>0.641599</td>\n",
       "      <td>-0.008137</td>\n",
       "      <td>2.668416</td>\n",
       "    </tr>\n",
       "    <tr>\n",
       "      <th>3</th>\n",
       "      <td>1.675772</td>\n",
       "      <td>-0.007744</td>\n",
       "      <td>2.668416</td>\n",
       "    </tr>\n",
       "    <tr>\n",
       "      <th>4</th>\n",
       "      <td>0.641599</td>\n",
       "      <td>-0.007225</td>\n",
       "      <td>0.458258</td>\n",
       "    </tr>\n",
       "    <tr>\n",
       "      <th>...</th>\n",
       "      <td>...</td>\n",
       "      <td>...</td>\n",
       "      <td>...</td>\n",
       "    </tr>\n",
       "    <tr>\n",
       "      <th>11091448</th>\n",
       "      <td>0.457746</td>\n",
       "      <td>-0.005364</td>\n",
       "      <td>-0.488953</td>\n",
       "    </tr>\n",
       "    <tr>\n",
       "      <th>11091449</th>\n",
       "      <td>-1.265875</td>\n",
       "      <td>-0.006854</td>\n",
       "      <td>-0.488953</td>\n",
       "    </tr>\n",
       "    <tr>\n",
       "      <th>11091450</th>\n",
       "      <td>-0.587918</td>\n",
       "      <td>-0.006232</td>\n",
       "      <td>-0.488953</td>\n",
       "    </tr>\n",
       "    <tr>\n",
       "      <th>11091451</th>\n",
       "      <td>0.515200</td>\n",
       "      <td>-0.008170</td>\n",
       "      <td>-0.488953</td>\n",
       "    </tr>\n",
       "    <tr>\n",
       "      <th>11091452</th>\n",
       "      <td>0.492218</td>\n",
       "      <td>-0.008150</td>\n",
       "      <td>-0.488953</td>\n",
       "    </tr>\n",
       "  </tbody>\n",
       "</table>\n",
       "<p>11091453 rows × 3 columns</p>\n",
       "</div>"
      ],
      "text/plain": [
       "          Risk_Score        DI  Employment Length\n",
       "0           0.411783 -0.008441           2.668416\n",
       "1           0.871415 -0.007807           2.668416\n",
       "2           0.641599 -0.008137           2.668416\n",
       "3           1.675772 -0.007744           2.668416\n",
       "4           0.641599 -0.007225           0.458258\n",
       "...              ...       ...                ...\n",
       "11091448    0.457746 -0.005364          -0.488953\n",
       "11091449   -1.265875 -0.006854          -0.488953\n",
       "11091450   -0.587918 -0.006232          -0.488953\n",
       "11091451    0.515200 -0.008170          -0.488953\n",
       "11091452    0.492218 -0.008150          -0.488953\n",
       "\n",
       "[11091453 rows x 3 columns]"
      ]
     },
     "execution_count": 36,
     "metadata": {},
     "output_type": "execute_result"
    }
   ],
   "source": [
    "X = pd.DataFrame(X_scaled, columns=X.columns)\n",
    "X"
   ]
  },
  {
   "cell_type": "code",
   "execution_count": 37,
   "id": "ee18519f",
   "metadata": {},
   "outputs": [
    {
     "data": {
      "text/plain": [
       "(11091453,)"
      ]
     },
     "execution_count": 37,
     "metadata": {},
     "output_type": "execute_result"
    }
   ],
   "source": [
    "y.shape"
   ]
  },
  {
   "cell_type": "code",
   "execution_count": 38,
   "id": "ebee2ce6",
   "metadata": {},
   "outputs": [
    {
     "data": {
      "text/plain": [
       "0           1\n",
       "1           1\n",
       "2           1\n",
       "3           1\n",
       "4           1\n",
       "           ..\n",
       "11091448    0\n",
       "11091449    0\n",
       "11091450    0\n",
       "11091451    0\n",
       "11091452    0\n",
       "Name: Accepted, Length: 11091453, dtype: int64"
      ]
     },
     "execution_count": 38,
     "metadata": {},
     "output_type": "execute_result"
    }
   ],
   "source": [
    "y"
   ]
  },
  {
   "cell_type": "code",
   "execution_count": 39,
   "id": "5fa4cf71",
   "metadata": {},
   "outputs": [
    {
     "data": {
      "text/html": [
       "<div>\n",
       "<style scoped>\n",
       "    .dataframe tbody tr th:only-of-type {\n",
       "        vertical-align: middle;\n",
       "    }\n",
       "\n",
       "    .dataframe tbody tr th {\n",
       "        vertical-align: top;\n",
       "    }\n",
       "\n",
       "    .dataframe thead th {\n",
       "        text-align: right;\n",
       "    }\n",
       "</style>\n",
       "<table border=\"1\" class=\"dataframe\">\n",
       "  <thead>\n",
       "    <tr style=\"text-align: right;\">\n",
       "      <th></th>\n",
       "      <th>Risk_Score</th>\n",
       "      <th>DI</th>\n",
       "      <th>Employment Length</th>\n",
       "      <th>Accepted</th>\n",
       "    </tr>\n",
       "  </thead>\n",
       "  <tbody>\n",
       "    <tr>\n",
       "      <th>0</th>\n",
       "      <td>0.411783</td>\n",
       "      <td>-0.008441</td>\n",
       "      <td>2.668416</td>\n",
       "      <td>1</td>\n",
       "    </tr>\n",
       "    <tr>\n",
       "      <th>1</th>\n",
       "      <td>0.871415</td>\n",
       "      <td>-0.007807</td>\n",
       "      <td>2.668416</td>\n",
       "      <td>1</td>\n",
       "    </tr>\n",
       "    <tr>\n",
       "      <th>2</th>\n",
       "      <td>0.641599</td>\n",
       "      <td>-0.008137</td>\n",
       "      <td>2.668416</td>\n",
       "      <td>1</td>\n",
       "    </tr>\n",
       "    <tr>\n",
       "      <th>3</th>\n",
       "      <td>1.675772</td>\n",
       "      <td>-0.007744</td>\n",
       "      <td>2.668416</td>\n",
       "      <td>1</td>\n",
       "    </tr>\n",
       "    <tr>\n",
       "      <th>4</th>\n",
       "      <td>0.641599</td>\n",
       "      <td>-0.007225</td>\n",
       "      <td>0.458258</td>\n",
       "      <td>1</td>\n",
       "    </tr>\n",
       "    <tr>\n",
       "      <th>...</th>\n",
       "      <td>...</td>\n",
       "      <td>...</td>\n",
       "      <td>...</td>\n",
       "      <td>...</td>\n",
       "    </tr>\n",
       "    <tr>\n",
       "      <th>11091448</th>\n",
       "      <td>0.457746</td>\n",
       "      <td>-0.005364</td>\n",
       "      <td>-0.488953</td>\n",
       "      <td>0</td>\n",
       "    </tr>\n",
       "    <tr>\n",
       "      <th>11091449</th>\n",
       "      <td>-1.265875</td>\n",
       "      <td>-0.006854</td>\n",
       "      <td>-0.488953</td>\n",
       "      <td>0</td>\n",
       "    </tr>\n",
       "    <tr>\n",
       "      <th>11091450</th>\n",
       "      <td>-0.587918</td>\n",
       "      <td>-0.006232</td>\n",
       "      <td>-0.488953</td>\n",
       "      <td>0</td>\n",
       "    </tr>\n",
       "    <tr>\n",
       "      <th>11091451</th>\n",
       "      <td>0.515200</td>\n",
       "      <td>-0.008170</td>\n",
       "      <td>-0.488953</td>\n",
       "      <td>0</td>\n",
       "    </tr>\n",
       "    <tr>\n",
       "      <th>11091452</th>\n",
       "      <td>0.492218</td>\n",
       "      <td>-0.008150</td>\n",
       "      <td>-0.488953</td>\n",
       "      <td>0</td>\n",
       "    </tr>\n",
       "  </tbody>\n",
       "</table>\n",
       "<p>11091453 rows × 4 columns</p>\n",
       "</div>"
      ],
      "text/plain": [
       "          Risk_Score        DI  Employment Length  Accepted\n",
       "0           0.411783 -0.008441           2.668416         1\n",
       "1           0.871415 -0.007807           2.668416         1\n",
       "2           0.641599 -0.008137           2.668416         1\n",
       "3           1.675772 -0.007744           2.668416         1\n",
       "4           0.641599 -0.007225           0.458258         1\n",
       "...              ...       ...                ...       ...\n",
       "11091448    0.457746 -0.005364          -0.488953         0\n",
       "11091449   -1.265875 -0.006854          -0.488953         0\n",
       "11091450   -0.587918 -0.006232          -0.488953         0\n",
       "11091451    0.515200 -0.008170          -0.488953         0\n",
       "11091452    0.492218 -0.008150          -0.488953         0\n",
       "\n",
       "[11091453 rows x 4 columns]"
      ]
     },
     "execution_count": 39,
     "metadata": {},
     "output_type": "execute_result"
    }
   ],
   "source": [
    "scaled_combo = pd.concat([X,y], axis=1)\n",
    "scaled_combo"
   ]
  },
  {
   "cell_type": "code",
   "execution_count": null,
   "id": "b6c86995",
   "metadata": {},
   "outputs": [],
   "source": []
  },
  {
   "cell_type": "code",
   "execution_count": null,
   "id": "51930e35",
   "metadata": {},
   "outputs": [],
   "source": []
  },
  {
   "cell_type": "code",
   "execution_count": 40,
   "id": "414e847a",
   "metadata": {},
   "outputs": [],
   "source": [
    "scaled_combo.to_csv('Combo_3_DropNAs.csv', index=False)"
   ]
  },
  {
   "cell_type": "code",
   "execution_count": null,
   "id": "be4921c8",
   "metadata": {},
   "outputs": [],
   "source": []
  }
 ],
 "metadata": {
  "hide_input": false,
  "kernelspec": {
   "display_name": "Python 3 (ipykernel)",
   "language": "python",
   "name": "python3"
  },
  "language_info": {
   "codemirror_mode": {
    "name": "ipython",
    "version": 3
   },
   "file_extension": ".py",
   "mimetype": "text/x-python",
   "name": "python",
   "nbconvert_exporter": "python",
   "pygments_lexer": "ipython3",
   "version": "3.8.8"
  },
  "varInspector": {
   "cols": {
    "lenName": 16,
    "lenType": 16,
    "lenVar": 40
   },
   "kernels_config": {
    "python": {
     "delete_cmd_postfix": "",
     "delete_cmd_prefix": "del ",
     "library": "var_list.py",
     "varRefreshCmd": "print(var_dic_list())"
    },
    "r": {
     "delete_cmd_postfix": ") ",
     "delete_cmd_prefix": "rm(",
     "library": "var_list.r",
     "varRefreshCmd": "cat(var_dic_list()) "
    }
   },
   "types_to_exclude": [
    "module",
    "function",
    "builtin_function_or_method",
    "instance",
    "_Feature"
   ],
   "window_display": false
  }
 },
 "nbformat": 4,
 "nbformat_minor": 5
}
