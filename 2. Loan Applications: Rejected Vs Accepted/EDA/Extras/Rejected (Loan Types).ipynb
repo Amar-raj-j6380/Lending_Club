{
 "cells": [
  {
   "cell_type": "code",
   "execution_count": 1,
   "id": "155eb4a7",
   "metadata": {},
   "outputs": [],
   "source": [
    "import pandas as pd\n",
    "import numpy as np\n",
    "import seaborn as sns\n",
    "sns.set()\n",
    "import matplotlib.pyplot as plt\n",
    "#import missingno as msnum"
   ]
  },
  {
   "cell_type": "code",
   "execution_count": 2,
   "id": "9e62cf44",
   "metadata": {},
   "outputs": [],
   "source": [
    "pd.set_option(\"display.max_columns\", 200)\n",
    "pd.set_option(\"display.max_row\", 160)\n",
    "pd.set_option('max_colwidth', 200)"
   ]
  },
  {
   "cell_type": "code",
   "execution_count": 3,
   "id": "00090d8d",
   "metadata": {},
   "outputs": [],
   "source": [
    "rejected = pd.read_csv('../../Data/rejected.csv')"
   ]
  },
  {
   "cell_type": "code",
   "execution_count": 4,
   "id": "ac394a16",
   "metadata": {},
   "outputs": [
    {
     "data": {
      "text/html": [
       "<div>\n",
       "<style scoped>\n",
       "    .dataframe tbody tr th:only-of-type {\n",
       "        vertical-align: middle;\n",
       "    }\n",
       "\n",
       "    .dataframe tbody tr th {\n",
       "        vertical-align: top;\n",
       "    }\n",
       "\n",
       "    .dataframe thead th {\n",
       "        text-align: right;\n",
       "    }\n",
       "</style>\n",
       "<table border=\"1\" class=\"dataframe\">\n",
       "  <thead>\n",
       "    <tr style=\"text-align: right;\">\n",
       "      <th></th>\n",
       "      <th>Amount Requested</th>\n",
       "      <th>Application Date</th>\n",
       "      <th>Loan Title</th>\n",
       "      <th>Risk_Score</th>\n",
       "      <th>Debt-To-Income Ratio</th>\n",
       "      <th>Zip Code</th>\n",
       "      <th>State</th>\n",
       "      <th>Employment Length</th>\n",
       "      <th>Policy Code</th>\n",
       "    </tr>\n",
       "  </thead>\n",
       "  <tbody>\n",
       "    <tr>\n",
       "      <th>0</th>\n",
       "      <td>1000.0</td>\n",
       "      <td>2007-05-26</td>\n",
       "      <td>Wedding Covered but No Honeymoon</td>\n",
       "      <td>693.0</td>\n",
       "      <td>10%</td>\n",
       "      <td>481xx</td>\n",
       "      <td>NM</td>\n",
       "      <td>4 years</td>\n",
       "      <td>0.0</td>\n",
       "    </tr>\n",
       "    <tr>\n",
       "      <th>1</th>\n",
       "      <td>1000.0</td>\n",
       "      <td>2007-05-26</td>\n",
       "      <td>Consolidating Debt</td>\n",
       "      <td>703.0</td>\n",
       "      <td>10%</td>\n",
       "      <td>010xx</td>\n",
       "      <td>MA</td>\n",
       "      <td>&lt; 1 year</td>\n",
       "      <td>0.0</td>\n",
       "    </tr>\n",
       "  </tbody>\n",
       "</table>\n",
       "</div>"
      ],
      "text/plain": [
       "   Amount Requested Application Date                        Loan Title  \\\n",
       "0            1000.0       2007-05-26  Wedding Covered but No Honeymoon   \n",
       "1            1000.0       2007-05-26                Consolidating Debt   \n",
       "\n",
       "   Risk_Score Debt-To-Income Ratio Zip Code State Employment Length  \\\n",
       "0       693.0                  10%    481xx    NM           4 years   \n",
       "1       703.0                  10%    010xx    MA          < 1 year   \n",
       "\n",
       "   Policy Code  \n",
       "0          0.0  \n",
       "1          0.0  "
      ]
     },
     "execution_count": 4,
     "metadata": {},
     "output_type": "execute_result"
    }
   ],
   "source": [
    "rejected.head(2)"
   ]
  },
  {
   "cell_type": "code",
   "execution_count": null,
   "id": "8e2b3802",
   "metadata": {},
   "outputs": [],
   "source": []
  },
  {
   "cell_type": "code",
   "execution_count": 5,
   "id": "1e21bd03",
   "metadata": {},
   "outputs": [
    {
     "data": {
      "text/plain": [
       "Debt consolidation                         6418016\n",
       "debt_consolidation                         5895211\n",
       "Other                                      2656222\n",
       "Credit card refinancing                    2298199\n",
       "other                                      2042528\n",
       "                                            ...   \n",
       "Help me get out of this mess                     1\n",
       "help with wedding expens                         1\n",
       "investing education for mobile dynamics          1\n",
       "HSBC refinance loan                              1\n",
       "Business Advertising Loan                        1\n",
       "Name: Loan Title, Length: 73928, dtype: int64"
      ]
     },
     "execution_count": 5,
     "metadata": {},
     "output_type": "execute_result"
    }
   ],
   "source": [
    "rejected['Loan Title'].value_counts()"
   ]
  },
  {
   "cell_type": "code",
   "execution_count": 8,
   "id": "0bef3611",
   "metadata": {},
   "outputs": [],
   "source": [
    "rejected['Loan Title'] = rejected['Loan Title'].replace({'debt_consolidation':'Debt consolidation',\n",
    "                                                         'Debt consolidation':'Debt Consolidation',\n",
    "                                                         'credit_card':'Credit card refinancing',\n",
    "                                                         'Credit card refinancing':'Credit Card Refinancing',\n",
    "                                                         'other':'Other',\n",
    "                                                         'car':'Car financing',\n",
    "                                                         'Car financing':'Car Financing',\n",
    "                                                         'home_improvement':'Home improvement',\n",
    "                                                         'Home improvement':'Home Improvement',\n",
    "                                                         'major_purchase':'Major purchase',\n",
    "                                                         'Major purchase':'Major Purchase',\n",
    "                                                         'moving':'Moving',\n",
    "                                                         'medical':'Medical expenses',\n",
    "                                                         'Medical expenses':'Medical Expenses',\n",
    "                                                         'Home buying':'Home Purchase',\n",
    "                                                         'small_business':'Business Loan',\n",
    "                                                         'Business':'Business Loan',\n",
    "                                                         'Moving':'Moving And relocation',\n",
    "                                                         'Moving and relocation': 'Moving And Relocation',\n",
    "                                                         'house':'Home Purchase',\n",
    "                                                         'vacation':'Vacation',\n",
    "                                                         'Business Line Of Credit':'Business Loan',\n",
    "                                                         'debt consolidation':'Debt Consolidation',\n",
    "                                                         ' ':'Other',\n",
    "                                                         'renewable_energy':'Green loan',\n",
    "                                                         'Green loan':'Green Loan',\n",
    "                                                         'Consolidation':'Debt Consolidation',\n",
    "                                                         'Debt Consolidation Loan':'Debt Consolidation',\n",
    "                                                         'personal':'Personal Loan',\n",
    "                                                         'Personal':'Personal Loan',\n",
    "                                                         'educational':'Education',\n",
    "                                                         'wedding':'Wedding',\n",
    "                                                         'personal loan':'Personal Loan',\n",
    "                                                         'consolidation':'Debt Consolidation',\n",
    "                                                         'Education':'Student Loan',\n",
    "                                                         'Small Business Loan':'Business Loan',\n",
    "                                                         'home improvement':'Home Improvement',\n",
    "                                                         'Credit Card Consolidation':'Credit Card Refinancing',\n",
    "                                                         'Loan':'Other',\n",
    "                                                         'Consolidate':'Debt Consolidation',\n",
    "                                                         'Consolidation Loan':'Debt Consolidation',\n",
    "                                                         'Credit Card Refinance':'Credit Card Refinancing',\n",
    "                                                         'student loan':'Student Loan',\n",
    "                                                         'Debt':'Other',\n",
    "                                                         'consolidate':'Debt Consolidation',\n",
    "                                                         'Credit Card Loan':'Credit Card Refinancing',\n",
    "                                                         'loan':'Other',\n",
    "                                                         'Car Loan':'Car Financing',\n",
    "                                                         'Credit Card Payoff':'Credit Card Refinancing',\n",
    "                                                         'Personal loan':'Personal Loan',\n",
    "                                                         'School':'Student Loan', \n",
    "                                                         'debt':'Other',\n",
    "                                                         'business':'Business Loan',\n",
    "                                                         'Home Improvement Loan':'Home Improvement', \n",
    "                                                         'School Loan':'Student Loan',\n",
    "                                                         'credit card refinance':'Credit Card Refinancing',\n",
    "                                                         'payoff':'Other',\n",
    "                                                         'My Loan':'Personal Loan',\n",
    "                                                         'my loan':'Personal Loan',\n",
    "                                                         'Credit Card':'Credit Card Refinancing',\n",
    "                                                         'credit card':'Credit Card Refinancing',\n",
    "                                                         'credit cards':'Credit Card Refinancing',\n",
    "                                                         'credit card payoff':'Credit Card Refinancing',\n",
    "                                                         'DEBT CONSOLIDATION':'Debt Consolidation',\n",
    "                                                         'Medical':'Medical Expenses',\n",
    "                                                         'home':'Home Improvement',\n",
    "                                                         'Credit Cards':'Credit Card Refinancing',\n",
    "                                                         'school':'Student Loan',\n",
    "                                                         'Credit Card Financing':'Credit Card Refinancing',\n",
    "                                                         'credit card consolidation':'Credit Card Refinancing',\n",
    "                                                         'consolidation loan':'Debt Consolidation',\n",
    "                                                         'pay off credit cards':'Credit Card Refinancing',\n",
    "                                                         'business loan': 'Business Loan', \n",
    "                                                         'Payoff':'Other',\n",
    "                                                         'debt consolidation loan':'Debt Consolidation',\n",
    "                                                         'Debt Consolidation ':'Debt Consolidation',\n",
    "                                                         'bills':'Other',\n",
    "                                                         'Home':'Home Improvement',\n",
    "                                                         'Small Business':'Business Loan',\n",
    "                                                         'Consolidate debt':'Debt Consolidation',\n",
    "                                                         'Consolidate Debt':'Debt Consolidation',\n",
    "                                                         'Refinance':'Other',\n",
    "                                                         'Bills':'Other',\n",
    "                                                         'freedom':'Freedom',\n",
    "                                                         'school loan':'Student Loan',\n",
    "                                                         'Wedding Loan':'Wedding',\n",
    "                                                         'Debt Free':'Other',\n",
    "                                                         'car loan':'Car Financing',\n",
    "                                                         'Other Loan':'Other',\n",
    "                                                         'Debt Loan':'Other',\n",
    "                                                         'Debt consolidation loan':'Debt Consolidation',\n",
    "                                                         'Education Loan':'Student Loan',\n",
    "                                                         'education':'Student Loan',\n",
    "                                                         'Major Purchase Loan':'Major Purchase',\n",
    "                                                         'Credit card consolidation':'Credit Card Refinancing',\n",
    "                                                         'Pay off credit cards':'Credit Card Refinancing',\n",
    "                                                         'Car':'Car Financing',\n",
    "                                                         'Auto Loan':'Car Financing',\n",
    "                                                         'Credit Card Debt':'Credit Card Refinancing',\n",
    "                                                         'major purchase':'Major Purchase',\n",
    "                                                         'Motorcycle':'Motorcycle Loan',\n",
    "                                                         'Debt consolidation':'Debt Consolidation',\n",
    "                                                         'consolidate debt':'Debt Consolidation',\n",
    "                                                         'Student Loan ':'Student Loan',\n",
    "                                                         'Student loan':'Student Loan',\n",
    "                                                         'My loan':'Personal Loan'})"
   ]
  },
  {
   "cell_type": "code",
   "execution_count": 9,
   "id": "ed231e6f",
   "metadata": {},
   "outputs": [
    {
     "data": {
      "text/plain": [
       "Debt Consolidation         12328785\n",
       "Other                       4717292\n",
       "Credit Card Refinancing     3666077\n",
       "Car Financing               1289981\n",
       "Home Improvement            1191501\n",
       "Major Purchase               957489\n",
       "Business Loan                860772\n",
       "Medical Expenses             748155\n",
       "Home Purchase                678013\n",
       "Moving And relocation        381389\n",
       "Moving And Relocation        319615\n",
       "Vacation                     309189\n",
       "Green Loan                    56811\n",
       "Wedding                       18494\n",
       "Personal Loan                  6164\n",
       "Student Loan                   5304\n",
       "NaN                            1303\n",
       "Freedom                         492\n",
       "Motorcycle Loan                 300\n",
       "Debt consolidation              148\n",
       "Name: Loan Title, dtype: int64"
      ]
     },
     "execution_count": 9,
     "metadata": {},
     "output_type": "execute_result"
    }
   ],
   "source": [
    "rejected['Loan Title'].value_counts(dropna=False).nlargest(20)"
   ]
  },
  {
   "cell_type": "code",
   "execution_count": null,
   "id": "6a5d6785",
   "metadata": {},
   "outputs": [],
   "source": []
  },
  {
   "cell_type": "code",
   "execution_count": null,
   "id": "39906262",
   "metadata": {},
   "outputs": [],
   "source": []
  },
  {
   "cell_type": "code",
   "execution_count": 10,
   "id": "93416a36",
   "metadata": {},
   "outputs": [],
   "source": [
    "rejected = rejected.rename(columns={'Loan Title':'Loan Type'})"
   ]
  },
  {
   "cell_type": "code",
   "execution_count": null,
   "id": "84f05e63",
   "metadata": {},
   "outputs": [],
   "source": []
  },
  {
   "cell_type": "code",
   "execution_count": 11,
   "id": "2c7f7f74",
   "metadata": {},
   "outputs": [
    {
     "data": {
      "image/png": "[encoded data removed]",
      "text/plain": [
       "<Figure size 720x864 with 1 Axes>"
      ]
     },
     "metadata": {},
     "output_type": "display_data"
    }
   ],
   "source": [
    "plt.figure(figsize=(10,12))\n",
    "\n",
    "sns.countplot(data=rejected, y='Loan Type', \n",
    "              order=rejected['Loan Type'].value_counts().iloc[:10].index)\n",
    "\n",
    "\n",
    "plt.title('Rejected Loans ~ Top 10 Type & Count', size=20, color='black')\n",
    "plt.xlabel('Number Of Rejected Loans (in 10x millions)', size=17)\n",
    "plt.ylabel('Loan Type', size=17)\n",
    "plt.yticks(size=15, color='black');\n"
   ]
  },
  {
   "cell_type": "code",
   "execution_count": null,
   "id": "a290a6a2",
   "metadata": {},
   "outputs": [],
   "source": []
  }
 ],
 "metadata": {
  "hide_input": false,
  "kernelspec": {
   "display_name": "Python 3 (ipykernel)",
   "language": "python",
   "name": "python3"
  },
  "language_info": {
   "codemirror_mode": {
    "name": "ipython",
    "version": 3
   },
   "file_extension": ".py",
   "mimetype": "text/x-python",
   "name": "python",
   "nbconvert_exporter": "python",
   "pygments_lexer": "ipython3",
   "version": "3.8.8"
  },
  "varInspector": {
   "cols": {
    "lenName": 16,
    "lenType": 16,
    "lenVar": 40
   },
   "kernels_config": {
    "python": {
     "delete_cmd_postfix": "",
     "delete_cmd_prefix": "del ",
     "library": "var_list.py",
     "varRefreshCmd": "print(var_dic_list())"
    },
    "r": {
     "delete_cmd_postfix": ") ",
     "delete_cmd_prefix": "rm(",
     "library": "var_list.r",
     "varRefreshCmd": "cat(var_dic_list()) "
    }
   },
   "types_to_exclude": [
    "module",
    "function",
    "builtin_function_or_method",
    "instance",
    "_Feature"
   ],
   "window_display": false
  }
 },
 "nbformat": 4,
 "nbformat_minor": 5
}
