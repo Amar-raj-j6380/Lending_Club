{
 "cells": [
  {
   "cell_type": "code",
   "execution_count": 1,
   "id": "6aed06fb",
   "metadata": {},
   "outputs": [],
   "source": [
    "import pandas as pd\n",
    "import seaborn as sns\n",
    "sns.set()\n",
    "import matplotlib.pyplot as plt\n",
    "#import missingno as msnum"
   ]
  },
  {
   "cell_type": "code",
   "execution_count": 2,
   "id": "407c8f8e",
   "metadata": {},
   "outputs": [],
   "source": [
    "pd.set_option(\"display.max_columns\", 200)\n",
    "pd.set_option(\"display.max_row\", 160)\n",
    "pd.set_option('max_colwidth', 200)"
   ]
  },
  {
   "cell_type": "code",
   "execution_count": 3,
   "id": "1cd32c42",
   "metadata": {},
   "outputs": [
    {
     "data": {
      "text/plain": [
       "(27648741, 9)"
      ]
     },
     "execution_count": 3,
     "metadata": {},
     "output_type": "execute_result"
    }
   ],
   "source": [
    "rejected = pd.read_csv('../../Data/rejected.csv')\n",
    "rejected.shape"
   ]
  },
  {
   "cell_type": "code",
   "execution_count": 4,
   "id": "58344164",
   "metadata": {},
   "outputs": [
    {
     "data": {
      "text/html": [
       "<div>\n",
       "<style scoped>\n",
       "    .dataframe tbody tr th:only-of-type {\n",
       "        vertical-align: middle;\n",
       "    }\n",
       "\n",
       "    .dataframe tbody tr th {\n",
       "        vertical-align: top;\n",
       "    }\n",
       "\n",
       "    .dataframe thead th {\n",
       "        text-align: right;\n",
       "    }\n",
       "</style>\n",
       "<table border=\"1\" class=\"dataframe\">\n",
       "  <thead>\n",
       "    <tr style=\"text-align: right;\">\n",
       "      <th></th>\n",
       "      <th>Amount Requested</th>\n",
       "      <th>Application Date</th>\n",
       "      <th>Loan Title</th>\n",
       "      <th>Risk_Score</th>\n",
       "      <th>Debt-To-Income Ratio</th>\n",
       "      <th>Zip Code</th>\n",
       "      <th>State</th>\n",
       "      <th>Employment Length</th>\n",
       "      <th>Policy Code</th>\n",
       "    </tr>\n",
       "  </thead>\n",
       "  <tbody>\n",
       "    <tr>\n",
       "      <th>0</th>\n",
       "      <td>1000.0</td>\n",
       "      <td>2007-05-26</td>\n",
       "      <td>Wedding Covered but No Honeymoon</td>\n",
       "      <td>693.0</td>\n",
       "      <td>10%</td>\n",
       "      <td>481xx</td>\n",
       "      <td>NM</td>\n",
       "      <td>4 years</td>\n",
       "      <td>0.0</td>\n",
       "    </tr>\n",
       "    <tr>\n",
       "      <th>1</th>\n",
       "      <td>1000.0</td>\n",
       "      <td>2007-05-26</td>\n",
       "      <td>Consolidating Debt</td>\n",
       "      <td>703.0</td>\n",
       "      <td>10%</td>\n",
       "      <td>010xx</td>\n",
       "      <td>MA</td>\n",
       "      <td>&lt; 1 year</td>\n",
       "      <td>0.0</td>\n",
       "    </tr>\n",
       "  </tbody>\n",
       "</table>\n",
       "</div>"
      ],
      "text/plain": [
       "   Amount Requested Application Date                        Loan Title  \\\n",
       "0            1000.0       2007-05-26  Wedding Covered but No Honeymoon   \n",
       "1            1000.0       2007-05-26                Consolidating Debt   \n",
       "\n",
       "   Risk_Score Debt-To-Income Ratio Zip Code State Employment Length  \\\n",
       "0       693.0                  10%    481xx    NM           4 years   \n",
       "1       703.0                  10%    010xx    MA          < 1 year   \n",
       "\n",
       "   Policy Code  \n",
       "0          0.0  \n",
       "1          0.0  "
      ]
     },
     "execution_count": 4,
     "metadata": {},
     "output_type": "execute_result"
    }
   ],
   "source": [
    "rejected.head(2)"
   ]
  },
  {
   "cell_type": "code",
   "execution_count": 6,
   "id": "080105e3",
   "metadata": {},
   "outputs": [
    {
     "name": "stderr",
     "output_type": "stream",
     "text": [
      "/opt/anaconda3/lib/python3.8/site-packages/IPython/core/interactiveshell.py:3444: DtypeWarning: Columns (0,19,49,59,118,129,130,131,134,135,136,139,145,146,147) have mixed types.Specify dtype option on import or set low_memory=False.\n",
      "  exec(code_obj, self.user_global_ns, self.user_ns)\n"
     ]
    },
    {
     "data": {
      "text/plain": [
       "(2260701, 151)"
      ]
     },
     "execution_count": 6,
     "metadata": {},
     "output_type": "execute_result"
    }
   ],
   "source": [
    "accepted = pd.read_csv('../../Data/accepted.csv')\n",
    "accepted.shape"
   ]
  },
  {
   "cell_type": "code",
   "execution_count": 7,
   "id": "2b2dba3c",
   "metadata": {},
   "outputs": [
    {
     "data": {
      "text/plain": [
       "29909442"
      ]
     },
     "execution_count": 7,
     "metadata": {},
     "output_type": "execute_result"
    }
   ],
   "source": [
    "rejected.shape[0] + accepted.shape[0]"
   ]
  },
  {
   "cell_type": "code",
   "execution_count": null,
   "id": "b1847182",
   "metadata": {},
   "outputs": [],
   "source": []
  },
  {
   "cell_type": "code",
   "execution_count": 8,
   "id": "9f8414c2",
   "metadata": {},
   "outputs": [
    {
     "data": {
      "text/plain": [
       "(2260701, 12)"
      ]
     },
     "execution_count": 8,
     "metadata": {},
     "output_type": "execute_result"
    }
   ],
   "source": [
    "a = accepted[['loan_amnt', 'issue_d', 'purpose', 'fico_range_low', \n",
    "          'fico_range_high', 'annual_inc', 'emp_length', 'addr_state', 'zip_code', 'policy_code']]\n",
    "\n",
    "a = a.assign(FICO = (a['fico_range_low'] + a['fico_range_high'])/2)\n",
    "a = a.assign(DI = (a['loan_amnt'] / a['annual_inc']))\n",
    "\n",
    "a.shape"
   ]
  },
  {
   "cell_type": "code",
   "execution_count": 9,
   "id": "598ab13b",
   "metadata": {},
   "outputs": [],
   "source": [
    "a = a.rename(columns={'FICO':'Risk Score', 'purpose':'Loan Title', 'loan_amnt':'Amount Requested',\n",
    "                      'policy_code':'Policy Code', 'addr_state':'State', 'zip_code':'Zip Code',\n",
    "                      'issue_d':'Application Date', 'emp_length':'Employment Length', \n",
    "                      'DI':'Debt-To-Income Ratio'})"
   ]
  },
  {
   "cell_type": "code",
   "execution_count": 10,
   "id": "85127cae",
   "metadata": {},
   "outputs": [],
   "source": [
    "a = a[['Amount Requested', 'Application Date', 'Loan Title', 'Risk Score', 'Debt-To-Income Ratio', 'Zip Code',\n",
    "   'State', 'Employment Length', 'Policy Code']]"
   ]
  },
  {
   "cell_type": "code",
   "execution_count": 11,
   "id": "7b21336c",
   "metadata": {},
   "outputs": [
    {
     "data": {
      "text/plain": [
       "(2260701, 9)"
      ]
     },
     "execution_count": 11,
     "metadata": {},
     "output_type": "execute_result"
    }
   ],
   "source": [
    "a.shape"
   ]
  },
  {
   "cell_type": "code",
   "execution_count": 12,
   "id": "55ae34fb",
   "metadata": {},
   "outputs": [
    {
     "data": {
      "text/plain": [
       "(2113756, 9)"
      ]
     },
     "execution_count": 12,
     "metadata": {},
     "output_type": "execute_result"
    }
   ],
   "source": [
    "a.dropna().shape"
   ]
  },
  {
   "cell_type": "code",
   "execution_count": null,
   "id": "00b86913",
   "metadata": {},
   "outputs": [],
   "source": []
  },
  {
   "cell_type": "code",
   "execution_count": 13,
   "id": "20c708e9",
   "metadata": {},
   "outputs": [
    {
     "data": {
      "text/plain": [
       "(27648741, 9)"
      ]
     },
     "execution_count": 13,
     "metadata": {},
     "output_type": "execute_result"
    }
   ],
   "source": [
    "rejected.shape"
   ]
  },
  {
   "cell_type": "code",
   "execution_count": 14,
   "id": "59f69fe5",
   "metadata": {},
   "outputs": [
    {
     "data": {
      "text/plain": [
       "(8992195, 9)"
      ]
     },
     "execution_count": 14,
     "metadata": {},
     "output_type": "execute_result"
    }
   ],
   "source": [
    "rejected.dropna().shape"
   ]
  },
  {
   "cell_type": "code",
   "execution_count": null,
   "id": "d59d4eee",
   "metadata": {},
   "outputs": [],
   "source": []
  },
  {
   "cell_type": "code",
   "execution_count": 15,
   "id": "99507d57",
   "metadata": {},
   "outputs": [
    {
     "data": {
      "text/plain": [
       "11105951"
      ]
     },
     "execution_count": 15,
     "metadata": {},
     "output_type": "execute_result"
    }
   ],
   "source": [
    "a.dropna().shape[0] + rejected.dropna().shape[0]"
   ]
  },
  {
   "cell_type": "code",
   "execution_count": null,
   "id": "8ce25eeb",
   "metadata": {},
   "outputs": [],
   "source": []
  },
  {
   "cell_type": "code",
   "execution_count": null,
   "id": "a4f1b4e0",
   "metadata": {},
   "outputs": [],
   "source": []
  },
  {
   "cell_type": "code",
   "execution_count": 16,
   "id": "c003e271",
   "metadata": {},
   "outputs": [
    {
     "data": {
      "text/html": [
       "<div>\n",
       "<style scoped>\n",
       "    .dataframe tbody tr th:only-of-type {\n",
       "        vertical-align: middle;\n",
       "    }\n",
       "\n",
       "    .dataframe tbody tr th {\n",
       "        vertical-align: top;\n",
       "    }\n",
       "\n",
       "    .dataframe thead th {\n",
       "        text-align: right;\n",
       "    }\n",
       "</style>\n",
       "<table border=\"1\" class=\"dataframe\">\n",
       "  <thead>\n",
       "    <tr style=\"text-align: right;\">\n",
       "      <th></th>\n",
       "      <th>Total Applications</th>\n",
       "      <th>Accepted</th>\n",
       "      <th>Rejected</th>\n",
       "    </tr>\n",
       "  </thead>\n",
       "  <tbody>\n",
       "    <tr>\n",
       "      <th>Drop NAs</th>\n",
       "      <td>11.105951</td>\n",
       "      <td>2.113756</td>\n",
       "      <td>8.992195</td>\n",
       "    </tr>\n",
       "    <tr>\n",
       "      <th>Original Data</th>\n",
       "      <td>29.909442</td>\n",
       "      <td>2.260701</td>\n",
       "      <td>27.648741</td>\n",
       "    </tr>\n",
       "  </tbody>\n",
       "</table>\n",
       "</div>"
      ],
      "text/plain": [
       "               Total Applications  Accepted   Rejected\n",
       "Drop NAs                11.105951  2.113756   8.992195\n",
       "Original Data           29.909442  2.260701  27.648741"
      ]
     },
     "execution_count": 16,
     "metadata": {},
     "output_type": "execute_result"
    }
   ],
   "source": [
    "data = {'Total Applications':[11.105951, 29.909442],\n",
    "        'Accepted':[2.113756, 2.260701],\n",
    "       'Rejected':[8.992195, 27.648741]}\n",
    "\n",
    "eda = pd.DataFrame(data, index=['Drop NAs', 'Original Data'])\n",
    "\n",
    "eda"
   ]
  },
  {
   "cell_type": "code",
   "execution_count": 17,
   "id": "d41303db",
   "metadata": {},
   "outputs": [
    {
     "data": {
      "text/plain": [
       "<Figure size 576x288 with 0 Axes>"
      ]
     },
     "metadata": {},
     "output_type": "display_data"
    },
    {
     "data": {
      "image/png": "[encoded data removed]",
      "text/plain": [
       "<Figure size 640x480 with 1 Axes>"
      ]
     },
     "metadata": {},
     "output_type": "display_data"
    }
   ],
   "source": [
    "#from matplotlib.ticker import ScalarFormatter, FormatStrFormatter\n",
    "\n",
    "plt.figure(figsize=(8,4))\n",
    "plt.style.use('default')\n",
    "plt.style.use('ggplot')\n",
    "\n",
    "#y=np.arange(len())\n",
    "\n",
    "eda[['Rejected', 'Accepted']].plot.barh(stacked=True, \n",
    "                                       color={'Rejected':'Red',\n",
    "                                              'Accepted':'Blue'}\n",
    "                                       )\n",
    "\n",
    "\n",
    "plt.title('Total Loan Applications ~ 2007 to 2019', fontsize=16, color='black')\n",
    "plt.xlabel('Total Applications (in millions)', fontsize=14, color='black')\n",
    "plt.ylabel('Treatment of Null Values', fontsize=14, color='black')\n",
    "#plt.yticks([])\n",
    "plt.legend(fontsize=12)\n",
    "#plt.ticklabel_format(style='plain')\n",
    "\n",
    "#plt.ylabel('Application Status', fontsize=14, color='blue')\n",
    "\n",
    "#plt.text(10, 0.98, '9.4%', fontsize=10)\n",
    "\n",
    "#plt.annotate('90%', xy=(10, 0.25), xytext=(10, 0.25),\n",
    "            # arrowprops=dict(facecolor='black', shrink=0.05), fontsize=14)\n",
    "\n",
    "#plt.annotate('0.7%', xy=(80000, 0.15), xytext=(90000, 0.25),\n",
    "#             arrowprops=dict(facecolor='black', shrink=0.05), fontsize=14)\n",
    "\n",
    "#plt.margins(x=0.15)\n",
    "#plt.yticks(fontsize=12)\n",
    "\n",
    "plt.tight_layout()\n",
    "plt.show();"
   ]
  },
  {
   "cell_type": "code",
   "execution_count": null,
   "id": "8d76493f",
   "metadata": {},
   "outputs": [],
   "source": []
  }
 ],
 "metadata": {
  "hide_input": false,
  "kernelspec": {
   "display_name": "Python 3 (ipykernel)",
   "language": "python",
   "name": "python3"
  },
  "language_info": {
   "codemirror_mode": {
    "name": "ipython",
    "version": 3
   },
   "file_extension": ".py",
   "mimetype": "text/x-python",
   "name": "python",
   "nbconvert_exporter": "python",
   "pygments_lexer": "ipython3",
   "version": "3.8.8"
  },
  "varInspector": {
   "cols": {
    "lenName": 16,
    "lenType": 16,
    "lenVar": 40
   },
   "kernels_config": {
    "python": {
     "delete_cmd_postfix": "",
     "delete_cmd_prefix": "del ",
     "library": "var_list.py",
     "varRefreshCmd": "print(var_dic_list())"
    },
    "r": {
     "delete_cmd_postfix": ") ",
     "delete_cmd_prefix": "rm(",
     "library": "var_list.r",
     "varRefreshCmd": "cat(var_dic_list()) "
    }
   },
   "types_to_exclude": [
    "module",
    "function",
    "builtin_function_or_method",
    "instance",
    "_Feature"
   ],
   "window_display": false
  }
 },
 "nbformat": 4,
 "nbformat_minor": 5
}
