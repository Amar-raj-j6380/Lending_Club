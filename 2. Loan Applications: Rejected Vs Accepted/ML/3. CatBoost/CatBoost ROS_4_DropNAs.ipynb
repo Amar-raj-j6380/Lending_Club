{
 "cells": [
  {
   "cell_type": "code",
   "execution_count": 1,
   "id": "cbf92949",
   "metadata": {},
   "outputs": [],
   "source": [
    "import pandas as pd\n",
    "import numpy as np\n",
    "import matplotlib.pyplot as plt\n",
    "import seaborn as sns"
   ]
  },
  {
   "cell_type": "code",
   "execution_count": 2,
   "id": "97dccbad",
   "metadata": {},
   "outputs": [],
   "source": [
    "data = pd.read_csv('../../../Data/Combo_4_DropNAs.csv')"
   ]
  },
  {
   "cell_type": "code",
   "execution_count": 3,
   "id": "26dbf3dd",
   "metadata": {},
   "outputs": [
    {
     "data": {
      "text/html": [
       "<div>\n",
       "<style scoped>\n",
       "    .dataframe tbody tr th:only-of-type {\n",
       "        vertical-align: middle;\n",
       "    }\n",
       "\n",
       "    .dataframe tbody tr th {\n",
       "        vertical-align: top;\n",
       "    }\n",
       "\n",
       "    .dataframe thead th {\n",
       "        text-align: right;\n",
       "    }\n",
       "</style>\n",
       "<table border=\"1\" class=\"dataframe\">\n",
       "  <thead>\n",
       "    <tr style=\"text-align: right;\">\n",
       "      <th></th>\n",
       "      <th>Risk_Score</th>\n",
       "      <th>DI</th>\n",
       "      <th>Loan Type</th>\n",
       "      <th>Employment Length</th>\n",
       "      <th>Accepted</th>\n",
       "    </tr>\n",
       "  </thead>\n",
       "  <tbody>\n",
       "    <tr>\n",
       "      <th>0</th>\n",
       "      <td>677.0</td>\n",
       "      <td>0.065455</td>\n",
       "      <td>Debt Consolidation</td>\n",
       "      <td>10+ years</td>\n",
       "      <td>1</td>\n",
       "    </tr>\n",
       "    <tr>\n",
       "      <th>1</th>\n",
       "      <td>717.0</td>\n",
       "      <td>0.380000</td>\n",
       "      <td>Business Loan</td>\n",
       "      <td>10+ years</td>\n",
       "      <td>1</td>\n",
       "    </tr>\n",
       "    <tr>\n",
       "      <th>2</th>\n",
       "      <td>697.0</td>\n",
       "      <td>0.317460</td>\n",
       "      <td>Home Improvement</td>\n",
       "      <td>10+ years</td>\n",
       "      <td>1</td>\n",
       "    </tr>\n",
       "    <tr>\n",
       "      <th>3</th>\n",
       "      <td>787.0</td>\n",
       "      <td>0.318182</td>\n",
       "      <td>Debt Consolidation</td>\n",
       "      <td>10+ years</td>\n",
       "      <td>1</td>\n",
       "    </tr>\n",
       "    <tr>\n",
       "      <th>4</th>\n",
       "      <td>697.0</td>\n",
       "      <td>0.099585</td>\n",
       "      <td>Major Purchase</td>\n",
       "      <td>3 years</td>\n",
       "      <td>1</td>\n",
       "    </tr>\n",
       "    <tr>\n",
       "      <th>...</th>\n",
       "      <td>...</td>\n",
       "      <td>...</td>\n",
       "      <td>...</td>\n",
       "      <td>...</td>\n",
       "      <td>...</td>\n",
       "    </tr>\n",
       "    <tr>\n",
       "      <th>11105947</th>\n",
       "      <td>681.0</td>\n",
       "      <td>0.551500</td>\n",
       "      <td>Debt Consolidation</td>\n",
       "      <td>&lt; 1 year</td>\n",
       "      <td>0</td>\n",
       "    </tr>\n",
       "    <tr>\n",
       "      <th>11105948</th>\n",
       "      <td>531.0</td>\n",
       "      <td>0.313100</td>\n",
       "      <td>Debt Consolidation</td>\n",
       "      <td>&lt; 1 year</td>\n",
       "      <td>0</td>\n",
       "    </tr>\n",
       "    <tr>\n",
       "      <th>11105949</th>\n",
       "      <td>590.0</td>\n",
       "      <td>0.412600</td>\n",
       "      <td>Debt Consolidation</td>\n",
       "      <td>&lt; 1 year</td>\n",
       "      <td>0</td>\n",
       "    </tr>\n",
       "    <tr>\n",
       "      <th>11105950</th>\n",
       "      <td>686.0</td>\n",
       "      <td>0.102600</td>\n",
       "      <td>Other</td>\n",
       "      <td>&lt; 1 year</td>\n",
       "      <td>0</td>\n",
       "    </tr>\n",
       "    <tr>\n",
       "      <th>11105951</th>\n",
       "      <td>684.0</td>\n",
       "      <td>0.105800</td>\n",
       "      <td>Business Loan</td>\n",
       "      <td>&lt; 1 year</td>\n",
       "      <td>0</td>\n",
       "    </tr>\n",
       "  </tbody>\n",
       "</table>\n",
       "<p>11105952 rows × 5 columns</p>\n",
       "</div>"
      ],
      "text/plain": [
       "          Risk_Score        DI           Loan Type Employment Length  Accepted\n",
       "0              677.0  0.065455  Debt Consolidation         10+ years         1\n",
       "1              717.0  0.380000       Business Loan         10+ years         1\n",
       "2              697.0  0.317460    Home Improvement         10+ years         1\n",
       "3              787.0  0.318182  Debt Consolidation         10+ years         1\n",
       "4              697.0  0.099585      Major Purchase           3 years         1\n",
       "...              ...       ...                 ...               ...       ...\n",
       "11105947       681.0  0.551500  Debt Consolidation          < 1 year         0\n",
       "11105948       531.0  0.313100  Debt Consolidation          < 1 year         0\n",
       "11105949       590.0  0.412600  Debt Consolidation          < 1 year         0\n",
       "11105950       686.0  0.102600               Other          < 1 year         0\n",
       "11105951       684.0  0.105800       Business Loan          < 1 year         0\n",
       "\n",
       "[11105952 rows x 5 columns]"
      ]
     },
     "execution_count": 3,
     "metadata": {},
     "output_type": "execute_result"
    }
   ],
   "source": [
    "data"
   ]
  },
  {
   "cell_type": "code",
   "execution_count": 4,
   "id": "de7c9be6",
   "metadata": {},
   "outputs": [
    {
     "data": {
      "text/plain": [
       "Risk_Score           float64\n",
       "DI                   float64\n",
       "Loan Type             object\n",
       "Employment Length     object\n",
       "Accepted               int64\n",
       "dtype: object"
      ]
     },
     "execution_count": 4,
     "metadata": {},
     "output_type": "execute_result"
    }
   ],
   "source": [
    "data.dtypes"
   ]
  },
  {
   "cell_type": "code",
   "execution_count": 5,
   "id": "e631e64c",
   "metadata": {},
   "outputs": [
    {
     "name": "stdout",
     "output_type": "stream",
     "text": [
      "['Loan Type', 'Employment Length']\n"
     ]
    }
   ],
   "source": [
    "cat_features = ['Loan Type', 'Employment Length']\n",
    "print(cat_features)"
   ]
  },
  {
   "cell_type": "code",
   "execution_count": 6,
   "id": "4084c980",
   "metadata": {},
   "outputs": [
    {
     "name": "stdout",
     "output_type": "stream",
     "text": [
      "(11105952,)\n",
      "(11105952, 4)\n"
     ]
    }
   ],
   "source": [
    "y = data.Accepted\n",
    "X = data.drop('Accepted', axis=1)\n",
    "print (y.shape)\n",
    "print (X.shape)"
   ]
  },
  {
   "cell_type": "code",
   "execution_count": 7,
   "id": "a4f53995",
   "metadata": {},
   "outputs": [
    {
     "name": "stdout",
     "output_type": "stream",
     "text": [
      "Labels: {0, 1}\n",
      "Zero count = 8992195, One count = 2113757\n",
      "Ratio of One Count = 0.1903265024015951\n"
     ]
    }
   ],
   "source": [
    "print('Labels: {}'.format(set(y)))\n",
    "print('Zero count = {}, One count = {}'.format(len(y) - sum(y), sum(y)))\n",
    "print('Ratio of One Count = {}'.format(sum(y)/len(y)))"
   ]
  },
  {
   "cell_type": "code",
   "execution_count": null,
   "id": "72568d4d",
   "metadata": {},
   "outputs": [],
   "source": []
  },
  {
   "cell_type": "code",
   "execution_count": 8,
   "id": "b745e860",
   "metadata": {},
   "outputs": [
    {
     "name": "stdout",
     "output_type": "stream",
     "text": [
      "Labels: {0, 1}\n",
      "Zero count (Train) = 6294536, One count (Train) = 1479630\n",
      "Ratio of One Count = 0.19032652505747882\n",
      "Ratio of Train to Test = 0.6999999639832767\n"
     ]
    }
   ],
   "source": [
    "from sklearn.model_selection import train_test_split\n",
    "X_train, X_test, y_train, y_test = train_test_split(X,y, test_size=0.3, stratify=y)\n",
    "print('Labels: {}'.format(set(y_train)))\n",
    "print('Zero count (Train) = {}, One count (Train) = {}'.format(len(y_train) - sum(y_train), sum(y_train)))\n",
    "print('Ratio of One Count = {}'.format(sum(y_train)/len(y_train)))\n",
    "print('Ratio of Train to Test = {}'.format(len(y_train)/(len(y_train)+len(y_test))))\n",
    "#print('Ratio of Train to Test = {}'.format(len(X_train)/(len(X_train)+len(X_test))))"
   ]
  },
  {
   "cell_type": "code",
   "execution_count": null,
   "id": "8e4af4d7",
   "metadata": {},
   "outputs": [],
   "source": []
  },
  {
   "cell_type": "code",
   "execution_count": 9,
   "id": "c845b0a4",
   "metadata": {},
   "outputs": [],
   "source": [
    "from imblearn.over_sampling import RandomOverSampler\n",
    "oversample = RandomOverSampler(sampling_strategy='minority')\n",
    "X_train_os, y_train_os = oversample.fit_resample(X_train, y_train)"
   ]
  },
  {
   "cell_type": "code",
   "execution_count": 20,
   "id": "c0eb0d86",
   "metadata": {},
   "outputs": [
    {
     "name": "stdout",
     "output_type": "stream",
     "text": [
      "Labels: {0, 1}\n",
      "Zero count = 6294536, One count = 6294536\n",
      "Ratio of One Count = 0.5\n"
     ]
    }
   ],
   "source": [
    "print('Labels: {}'.format(set(y_train_os)))\n",
    "print('Zero count = {}, One count = {}'.format(len(y_train_os) - sum(y_train_os), sum(y_train_os)))\n",
    "print('Ratio of One Count = {}'.format(sum(y_train_os)/len(y_train_os)))\n",
    "#print('Ratio of Train to Test = {}'.format(len(y_train_os)/(len(y_train_os)+len(y_test))))"
   ]
  },
  {
   "cell_type": "code",
   "execution_count": null,
   "id": "93808d69",
   "metadata": {},
   "outputs": [],
   "source": []
  },
  {
   "cell_type": "code",
   "execution_count": 21,
   "id": "5d29d290",
   "metadata": {},
   "outputs": [
    {
     "name": "stdout",
     "output_type": "stream",
     "text": [
      "Learning rate set to 0.5\n",
      "0:\tlearn: 0.3946816\ttotal: 1.71s\tremaining: 2m 49s\n",
      "10:\tlearn: 0.1343690\ttotal: 9.88s\tremaining: 1m 19s\n",
      "20:\tlearn: 0.1000296\ttotal: 17.2s\tremaining: 1m 4s\n",
      "30:\tlearn: 0.0835875\ttotal: 24.8s\tremaining: 55.1s\n",
      "40:\tlearn: 0.0780461\ttotal: 32.3s\tremaining: 46.5s\n",
      "50:\tlearn: 0.0748730\ttotal: 39.7s\tremaining: 38.1s\n",
      "60:\tlearn: 0.0729945\ttotal: 47s\tremaining: 30s\n",
      "70:\tlearn: 0.0713870\ttotal: 54.2s\tremaining: 22.2s\n",
      "80:\tlearn: 0.0701932\ttotal: 1m 1s\tremaining: 14.4s\n",
      "90:\tlearn: 0.0694562\ttotal: 1m 9s\tremaining: 6.83s\n",
      "99:\tlearn: 0.0687987\ttotal: 1m 15s\tremaining: 0us\n"
     ]
    },
    {
     "data": {
      "text/plain": [
       "<catboost.core.CatBoostClassifier at 0x7fcae6a23220>"
      ]
     },
     "execution_count": 21,
     "metadata": {},
     "output_type": "execute_result"
    }
   ],
   "source": [
    "from catboost import CatBoostClassifier\n",
    "cb = CatBoostClassifier(iterations=100)\n",
    "cb.fit(X_train_os, y_train_os, cat_features = cat_features, verbose = 10)"
   ]
  },
  {
   "cell_type": "code",
   "execution_count": null,
   "id": "dbfb8bdf",
   "metadata": {},
   "outputs": [],
   "source": []
  },
  {
   "cell_type": "code",
   "execution_count": 26,
   "id": "02864292",
   "metadata": {},
   "outputs": [],
   "source": [
    "from catboost import Pool\n",
    "#pool = Pool(data=X, label=y, cat_features = cat_features)"
   ]
  },
  {
   "cell_type": "code",
   "execution_count": 27,
   "id": "c67bf5e5",
   "metadata": {},
   "outputs": [],
   "source": [
    "train_pool = Pool(data=X_train_os, label=y_train_os, cat_features=cat_features)\n",
    "test_pool = Pool(data=X_test, label=y_test, cat_features=cat_features)"
   ]
  },
  {
   "cell_type": "code",
   "execution_count": 28,
   "id": "6b049cd7",
   "metadata": {},
   "outputs": [
    {
     "name": "stdout",
     "output_type": "stream",
     "text": [
      "Learning rate set to 0.5\n",
      "0:\tlearn: 0.3946816\ttest: 0.3967321\tbest: 0.3967321 (0)\ttotal: 1.89s\tremaining: 3m 7s\n",
      "10:\tlearn: 0.1343690\ttest: 0.1438828\tbest: 0.1438828 (10)\ttotal: 10.9s\tremaining: 1m 28s\n",
      "20:\tlearn: 0.1000296\ttest: 0.1077457\tbest: 0.1077457 (20)\ttotal: 19.2s\tremaining: 1m 12s\n",
      "30:\tlearn: 0.0835875\ttest: 0.0905605\tbest: 0.0905605 (30)\ttotal: 27.2s\tremaining: 1m\n",
      "40:\tlearn: 0.0780461\ttest: 0.0862513\tbest: 0.0862513 (40)\ttotal: 35.2s\tremaining: 50.6s\n",
      "50:\tlearn: 0.0748730\ttest: 0.0839669\tbest: 0.0839669 (50)\ttotal: 42.9s\tremaining: 41.2s\n",
      "60:\tlearn: 0.0729945\ttest: 0.0824931\tbest: 0.0824931 (60)\ttotal: 50.4s\tremaining: 32.2s\n",
      "70:\tlearn: 0.0713870\ttest: 0.0810185\tbest: 0.0810185 (70)\ttotal: 57.8s\tremaining: 23.6s\n",
      "80:\tlearn: 0.0701932\ttest: 0.0802128\tbest: 0.0802128 (80)\ttotal: 1m 5s\tremaining: 15.4s\n",
      "90:\tlearn: 0.0694562\ttest: 0.0796326\tbest: 0.0796326 (90)\ttotal: 1m 13s\tremaining: 7.26s\n",
      "99:\tlearn: 0.0687987\ttest: 0.0790256\tbest: 0.0790256 (99)\ttotal: 1m 20s\tremaining: 0us\n",
      "\n",
      "bestTest = 0.0790255739\n",
      "bestIteration = 99\n",
      "\n"
     ]
    },
    {
     "data": {
      "text/plain": [
       "<catboost.core.CatBoostClassifier at 0x7fcae6a23220>"
      ]
     },
     "execution_count": 28,
     "metadata": {},
     "output_type": "execute_result"
    }
   ],
   "source": [
    "cb.fit(train_pool, eval_set=test_pool, verbose=10)\n",
    "#Log Loss is the \"default optimizer for binary classification in CatBoost\""
   ]
  },
  {
   "cell_type": "code",
   "execution_count": 29,
   "id": "109ee539",
   "metadata": {},
   "outputs": [
    {
     "name": "stdout",
     "output_type": "stream",
     "text": [
      "Model is fitted: True\n",
      "Model params:\n",
      "{'iterations': 100}\n"
     ]
    }
   ],
   "source": [
    "print('Model is fitted: {}'.format(cb.is_fitted()))\n",
    "print('Model params:\\n{}'.format(cb.get_params()))"
   ]
  },
  {
   "cell_type": "code",
   "execution_count": null,
   "id": "3f44cdba",
   "metadata": {},
   "outputs": [],
   "source": []
  },
  {
   "cell_type": "code",
   "execution_count": 30,
   "id": "9f9f2942",
   "metadata": {},
   "outputs": [
    {
     "data": {
      "application/vnd.jupyter.widget-view+json": {
       "model_id": "aa52ddbcddc3455f85ce9eb5ea5220e2",
       "version_major": 2,
       "version_minor": 0
      },
      "text/plain": [
       "MetricVisualizer(layout=Layout(align_self='stretch', height='500px'))"
      ]
     },
     "metadata": {},
     "output_type": "display_data"
    }
   ],
   "source": [
    "cb2 = CatBoostClassifier(iterations=100, custom_loss=['AUC', 'Accuracy'])\n",
    "\n",
    "cb2.fit(train_pool, eval_set = test_pool, verbose=False, plot=True);"
   ]
  },
  {
   "cell_type": "code",
   "execution_count": 31,
   "id": "d8364781",
   "metadata": {},
   "outputs": [],
   "source": [
    "import shap"
   ]
  },
  {
   "cell_type": "code",
   "execution_count": 32,
   "id": "5e17fea3",
   "metadata": {},
   "outputs": [
    {
     "data": {
      "image/png": "[encoded data removed]",
      "text/plain": [
       "<Figure size 864x432 with 1 Axes>"
      ]
     },
     "metadata": {
      "needs_background": "light"
     },
     "output_type": "display_data"
    }
   ],
   "source": [
    "feature_importance = cb.feature_importances_\n",
    "sorted_idx = np.argsort(feature_importance)\n",
    "fig = plt.figure(figsize=(12, 6))\n",
    "plt.barh(range(len(sorted_idx)), feature_importance[sorted_idx], align='center')\n",
    "plt.yticks(range(len(sorted_idx)), np.array(X_test.columns)[sorted_idx])\n",
    "plt.title('Feature Importance');"
   ]
  },
  {
   "cell_type": "code",
   "execution_count": 33,
   "id": "bf616b42",
   "metadata": {},
   "outputs": [
    {
     "data": {
      "text/plain": [
       "array([66.56211669,  5.27449742,  4.07252497, 24.09086092])"
      ]
     },
     "execution_count": 33,
     "metadata": {},
     "output_type": "execute_result"
    }
   ],
   "source": [
    "feature_importance"
   ]
  },
  {
   "cell_type": "code",
   "execution_count": 34,
   "id": "63015598",
   "metadata": {},
   "outputs": [
    {
     "data": {
      "image/png": "[encoded data removed]",
      "text/plain": [
       "<Figure size 864x432 with 1 Axes>"
      ]
     },
     "metadata": {
      "needs_background": "light"
     },
     "output_type": "display_data"
    }
   ],
   "source": [
    "feature_importance = cb2.feature_importances_\n",
    "sorted_idx = np.argsort(feature_importance)\n",
    "fig = plt.figure(figsize=(12, 6))\n",
    "plt.barh(range(len(sorted_idx)), feature_importance[sorted_idx], align='center')\n",
    "plt.yticks(range(len(sorted_idx)), np.array(X_test.columns)[sorted_idx])\n",
    "plt.title('Feature Importance');"
   ]
  },
  {
   "cell_type": "code",
   "execution_count": null,
   "id": "a5222323",
   "metadata": {},
   "outputs": [],
   "source": []
  },
  {
   "cell_type": "code",
   "execution_count": 35,
   "id": "c2985631",
   "metadata": {},
   "outputs": [
    {
     "data": {
      "text/plain": [
       "Text(0.5, 1.0, 'SHAP Importance')"
      ]
     },
     "execution_count": 35,
     "metadata": {},
     "output_type": "execute_result"
    },
    {
     "data": {
      "image/png": "[encoded data removed]",
      "text/plain": [
       "<Figure size 864x432 with 1 Axes>"
      ]
     },
     "metadata": {
      "needs_background": "light"
     },
     "output_type": "display_data"
    }
   ],
   "source": [
    "explainer = shap.Explainer(cb)\n",
    "shap_values = explainer(X_test)\n",
    "shap_importance = shap_values.abs.mean(0).values\n",
    "sorted_idx = shap_importance.argsort()\n",
    "fig = plt.figure(figsize=(12, 6))\n",
    "plt.barh(range(len(sorted_idx)), shap_importance[sorted_idx], align='center')\n",
    "plt.yticks(range(len(sorted_idx)), np.array(X_test.columns)[sorted_idx])\n",
    "plt.title('SHAP Importance')"
   ]
  },
  {
   "cell_type": "code",
   "execution_count": 36,
   "id": "70e9116e",
   "metadata": {},
   "outputs": [
    {
     "data": {
      "text/plain": [
       "Text(0.5, 1.0, 'SHAP Importance')"
      ]
     },
     "execution_count": 36,
     "metadata": {},
     "output_type": "execute_result"
    },
    {
     "data": {
      "image/png": "[encoded data removed]",
      "text/plain": [
       "<Figure size 864x432 with 1 Axes>"
      ]
     },
     "metadata": {
      "needs_background": "light"
     },
     "output_type": "display_data"
    }
   ],
   "source": [
    "explainer = shap.Explainer(cb2)\n",
    "shap_values = explainer(X_test)\n",
    "shap_importance = shap_values.abs.mean(0).values\n",
    "sorted_idx = shap_importance.argsort()\n",
    "fig = plt.figure(figsize=(12, 6))\n",
    "plt.barh(range(len(sorted_idx)), shap_importance[sorted_idx], align='center')\n",
    "plt.yticks(range(len(sorted_idx)), np.array(X_test.columns)[sorted_idx])\n",
    "plt.title('SHAP Importance')"
   ]
  },
  {
   "cell_type": "code",
   "execution_count": null,
   "id": "9092ec68",
   "metadata": {},
   "outputs": [],
   "source": []
  },
  {
   "cell_type": "code",
   "execution_count": 37,
   "id": "78241af5",
   "metadata": {},
   "outputs": [
    {
     "data": {
      "image/png": "[encoded data removed]",
      "text/plain": [
       "<Figure size 576x252 with 1 Axes>"
      ]
     },
     "metadata": {},
     "output_type": "display_data"
    }
   ],
   "source": [
    "shap.plots.bar(shap_values, max_display=X_test.shape[0])"
   ]
  },
  {
   "cell_type": "code",
   "execution_count": 38,
   "id": "16372d1e",
   "metadata": {},
   "outputs": [
    {
     "data": {
      "image/png": "[encoded data removed]",
      "text/plain": [
       "<Figure size 576x223.2 with 2 Axes>"
      ]
     },
     "metadata": {
      "needs_background": "light"
     },
     "output_type": "display_data"
    }
   ],
   "source": [
    "shap.summary_plot(shap_values, max_display=X_test.shape[0])"
   ]
  },
  {
   "cell_type": "code",
   "execution_count": null,
   "id": "3ce8e7a4",
   "metadata": {},
   "outputs": [],
   "source": []
  }
 ],
 "metadata": {
  "hide_input": false,
  "kernelspec": {
   "display_name": "Python 3 (ipykernel)",
   "language": "python",
   "name": "python3"
  },
  "language_info": {
   "codemirror_mode": {
    "name": "ipython",
    "version": 3
   },
   "file_extension": ".py",
   "mimetype": "text/x-python",
   "name": "python",
   "nbconvert_exporter": "python",
   "pygments_lexer": "ipython3",
   "version": "3.8.8"
  },
  "varInspector": {
   "cols": {
    "lenName": 16,
    "lenType": 16,
    "lenVar": 40
   },
   "kernels_config": {
    "python": {
     "delete_cmd_postfix": "",
     "delete_cmd_prefix": "del ",
     "library": "var_list.py",
     "varRefreshCmd": "print(var_dic_list())"
    },
    "r": {
     "delete_cmd_postfix": ") ",
     "delete_cmd_prefix": "rm(",
     "library": "var_list.r",
     "varRefreshCmd": "cat(var_dic_list()) "
    }
   },
   "types_to_exclude": [
    "module",
    "function",
    "builtin_function_or_method",
    "instance",
    "_Feature"
   ],
   "window_display": false
  }
 },
 "nbformat": 4,
 "nbformat_minor": 5
}
