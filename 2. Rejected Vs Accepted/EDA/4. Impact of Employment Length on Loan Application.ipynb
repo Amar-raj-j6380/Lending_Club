{
 "cells": [
  {
   "cell_type": "code",
   "execution_count": 1,
   "id": "0a15452d",
   "metadata": {},
   "outputs": [],
   "source": [
    "import pandas as pd\n",
    "import seaborn as sns\n",
    "import matplotlib.pyplot as plt\n",
    "sns.set()"
   ]
  },
  {
   "cell_type": "code",
   "execution_count": 2,
   "id": "1829312a",
   "metadata": {},
   "outputs": [],
   "source": [
    "pd.set_option(\"display.max_columns\", 200)\n",
    "pd.set_option(\"display.max_row\", 160)\n",
    "pd.set_option('max_colwidth', 200)"
   ]
  },
  {
   "cell_type": "code",
   "execution_count": 3,
   "id": "7a296c03",
   "metadata": {},
   "outputs": [
    {
     "name": "stderr",
     "output_type": "stream",
     "text": [
      "/opt/anaconda3/lib/python3.8/site-packages/IPython/core/interactiveshell.py:3444: DtypeWarning: Columns (0) have mixed types.Specify dtype option on import or set low_memory=False.\n",
      "  exec(code_obj, self.user_global_ns, self.user_ns)\n"
     ]
    },
    {
     "data": {
      "text/plain": [
       "(29909405, 5)"
      ]
     },
     "execution_count": 3,
     "metadata": {},
     "output_type": "execute_result"
    }
   ],
   "source": [
    "combo = pd.read_csv('../Data/Combo_4_Full.csv')\n",
    "combo.shape"
   ]
  },
  {
   "cell_type": "code",
   "execution_count": 4,
   "id": "93a7061e",
   "metadata": {},
   "outputs": [
    {
     "data": {
      "text/html": [
       "<div>\n",
       "<style scoped>\n",
       "    .dataframe tbody tr th:only-of-type {\n",
       "        vertical-align: middle;\n",
       "    }\n",
       "\n",
       "    .dataframe tbody tr th {\n",
       "        vertical-align: top;\n",
       "    }\n",
       "\n",
       "    .dataframe thead th {\n",
       "        text-align: right;\n",
       "    }\n",
       "</style>\n",
       "<table border=\"1\" class=\"dataframe\">\n",
       "  <thead>\n",
       "    <tr style=\"text-align: right;\">\n",
       "      <th></th>\n",
       "      <th>Risk_Score</th>\n",
       "      <th>DI</th>\n",
       "      <th>Loan Type</th>\n",
       "      <th>Employment Length</th>\n",
       "      <th>Accepted</th>\n",
       "    </tr>\n",
       "  </thead>\n",
       "  <tbody>\n",
       "    <tr>\n",
       "      <th>0</th>\n",
       "      <td>677.0</td>\n",
       "      <td>0.065455</td>\n",
       "      <td>Debt Consolidation</td>\n",
       "      <td>10+ years</td>\n",
       "      <td>1</td>\n",
       "    </tr>\n",
       "    <tr>\n",
       "      <th>1</th>\n",
       "      <td>717.0</td>\n",
       "      <td>0.380000</td>\n",
       "      <td>Business Loan</td>\n",
       "      <td>10+ years</td>\n",
       "      <td>1</td>\n",
       "    </tr>\n",
       "    <tr>\n",
       "      <th>2</th>\n",
       "      <td>697.0</td>\n",
       "      <td>0.317460</td>\n",
       "      <td>Home Improvement</td>\n",
       "      <td>10+ years</td>\n",
       "      <td>1</td>\n",
       "    </tr>\n",
       "  </tbody>\n",
       "</table>\n",
       "</div>"
      ],
      "text/plain": [
       "  Risk_Score        DI           Loan Type Employment Length  Accepted\n",
       "0      677.0  0.065455  Debt Consolidation         10+ years         1\n",
       "1      717.0  0.380000       Business Loan         10+ years         1\n",
       "2      697.0  0.317460    Home Improvement         10+ years         1"
      ]
     },
     "execution_count": 4,
     "metadata": {},
     "output_type": "execute_result"
    }
   ],
   "source": [
    "combo.head(3)"
   ]
  },
  {
   "cell_type": "code",
   "execution_count": 5,
   "id": "13e9d115",
   "metadata": {},
   "outputs": [
    {
     "data": {
      "text/plain": [
       "Risk_Score            object\n",
       "DI                   float64\n",
       "Loan Type             object\n",
       "Employment Length     object\n",
       "Accepted               int64\n",
       "dtype: object"
      ]
     },
     "execution_count": 5,
     "metadata": {},
     "output_type": "execute_result"
    }
   ],
   "source": [
    "combo.dtypes"
   ]
  },
  {
   "cell_type": "code",
   "execution_count": 6,
   "id": "ff57d572",
   "metadata": {},
   "outputs": [
    {
     "data": {
      "text/plain": [
       "Employment Length\n",
       "< 1 year             23184299\n",
       "5 years               2419164\n",
       "10+ years             1164389\n",
       "None                  1098262\n",
       "1 year                 416243\n",
       "2 years                402881\n",
       "3 years                358097\n",
       "4 years                258228\n",
       "6 years                174253\n",
       "8 years                157879\n",
       "7 years                148361\n",
       "9 years                127349\n",
       "dtype: int64"
      ]
     },
     "execution_count": 6,
     "metadata": {},
     "output_type": "execute_result"
    }
   ],
   "source": [
    "emp = combo[['Employment Length']]\n",
    "emp.value_counts()"
   ]
  },
  {
   "cell_type": "code",
   "execution_count": null,
   "id": "d4cdd784",
   "metadata": {},
   "outputs": [],
   "source": []
  },
  {
   "cell_type": "code",
   "execution_count": null,
   "id": "c7231005",
   "metadata": {},
   "outputs": [],
   "source": []
  },
  {
   "cell_type": "code",
   "execution_count": 7,
   "id": "652f5839",
   "metadata": {},
   "outputs": [
    {
     "data": {
      "text/plain": [
       "['1 year',\n",
       " '10+ years',\n",
       " '2 years',\n",
       " '3 years',\n",
       " '4 years',\n",
       " '5 years',\n",
       " '6 years',\n",
       " '7 years',\n",
       " '8 years',\n",
       " '9 years',\n",
       " '< 1 year',\n",
       " 'None']"
      ]
     },
     "execution_count": 7,
     "metadata": {},
     "output_type": "execute_result"
    }
   ],
   "source": [
    "#Convert Employment Length to Ordinal Feature:\n",
    "sorted(combo['Employment Length'].unique())"
   ]
  },
  {
   "cell_type": "code",
   "execution_count": 8,
   "id": "962ed722",
   "metadata": {},
   "outputs": [],
   "source": [
    "emp_ordering = [\n",
    "    'None',\n",
    "    '< 1 year',\n",
    "    '1 year',\n",
    "    '2 years',\n",
    "    '3 years',\n",
    "    '4 years',\n",
    "    '5 years',\n",
    "    '6 years',\n",
    "    '7 years',\n",
    "    '8 years',\n",
    "    '9 years',\n",
    "    '10+ years',\n",
    " ]"
   ]
  },
  {
   "cell_type": "code",
   "execution_count": 9,
   "id": "b5800173",
   "metadata": {},
   "outputs": [],
   "source": [
    "def ordinal_encode(df, column, ordering):\n",
    "    df[column] = df[column].apply(lambda x: ordering.index(x))"
   ]
  },
  {
   "cell_type": "code",
   "execution_count": 10,
   "id": "b8b342f4",
   "metadata": {},
   "outputs": [],
   "source": [
    "ordinal_encode(combo, 'Employment Length', emp_ordering)"
   ]
  },
  {
   "cell_type": "code",
   "execution_count": 11,
   "id": "47d8c42a",
   "metadata": {},
   "outputs": [],
   "source": [
    "combo = combo.rename(columns={\"Accepted\":\"Loan Application\"})"
   ]
  },
  {
   "cell_type": "code",
   "execution_count": 12,
   "id": "f4d6aefb",
   "metadata": {},
   "outputs": [
    {
     "name": "stderr",
     "output_type": "stream",
     "text": [
      "/var/folders/kl/4xt5tydd0xb8yvwkgnx2mnc00000gn/T/ipykernel_2797/435546756.py:1: SettingWithCopyWarning: \n",
      "A value is trying to be set on a copy of a slice from a DataFrame\n",
      "\n",
      "See the caveats in the documentation: https://pandas.pydata.org/pandas-docs/stable/user_guide/indexing.html#returning-a-view-versus-a-copy\n",
      "  combo['Loan Application'][combo['Loan Application']==1]='Accepted'\n",
      "/var/folders/kl/4xt5tydd0xb8yvwkgnx2mnc00000gn/T/ipykernel_2797/435546756.py:2: SettingWithCopyWarning: \n",
      "A value is trying to be set on a copy of a slice from a DataFrame\n",
      "\n",
      "See the caveats in the documentation: https://pandas.pydata.org/pandas-docs/stable/user_guide/indexing.html#returning-a-view-versus-a-copy\n",
      "  combo['Loan Application'][combo['Loan Application']==0]='Rejected'\n"
     ]
    }
   ],
   "source": [
    "combo['Loan Application'][combo['Loan Application']==1]='Accepted'\n",
    "combo['Loan Application'][combo['Loan Application']==0]='Rejected'"
   ]
  },
  {
   "cell_type": "code",
   "execution_count": 13,
   "id": "52e0ad89",
   "metadata": {},
   "outputs": [
    {
     "data": {
      "text/html": [
       "<div>\n",
       "<style scoped>\n",
       "    .dataframe tbody tr th:only-of-type {\n",
       "        vertical-align: middle;\n",
       "    }\n",
       "\n",
       "    .dataframe tbody tr th {\n",
       "        vertical-align: top;\n",
       "    }\n",
       "\n",
       "    .dataframe thead th {\n",
       "        text-align: right;\n",
       "    }\n",
       "</style>\n",
       "<table border=\"1\" class=\"dataframe\">\n",
       "  <thead>\n",
       "    <tr style=\"text-align: right;\">\n",
       "      <th></th>\n",
       "      <th>Risk_Score</th>\n",
       "      <th>DI</th>\n",
       "      <th>Loan Type</th>\n",
       "      <th>Employment Length</th>\n",
       "      <th>Loan Application</th>\n",
       "    </tr>\n",
       "  </thead>\n",
       "  <tbody>\n",
       "    <tr>\n",
       "      <th>0</th>\n",
       "      <td>677.0</td>\n",
       "      <td>0.065455</td>\n",
       "      <td>Debt Consolidation</td>\n",
       "      <td>11</td>\n",
       "      <td>Accepted</td>\n",
       "    </tr>\n",
       "    <tr>\n",
       "      <th>1</th>\n",
       "      <td>717.0</td>\n",
       "      <td>0.380000</td>\n",
       "      <td>Business Loan</td>\n",
       "      <td>11</td>\n",
       "      <td>Accepted</td>\n",
       "    </tr>\n",
       "    <tr>\n",
       "      <th>2</th>\n",
       "      <td>697.0</td>\n",
       "      <td>0.317460</td>\n",
       "      <td>Home Improvement</td>\n",
       "      <td>11</td>\n",
       "      <td>Accepted</td>\n",
       "    </tr>\n",
       "    <tr>\n",
       "      <th>3</th>\n",
       "      <td>787.0</td>\n",
       "      <td>0.318182</td>\n",
       "      <td>Debt Consolidation</td>\n",
       "      <td>11</td>\n",
       "      <td>Accepted</td>\n",
       "    </tr>\n",
       "    <tr>\n",
       "      <th>4</th>\n",
       "      <td>697.0</td>\n",
       "      <td>0.099585</td>\n",
       "      <td>Major Purchase</td>\n",
       "      <td>4</td>\n",
       "      <td>Accepted</td>\n",
       "    </tr>\n",
       "    <tr>\n",
       "      <th>...</th>\n",
       "      <td>...</td>\n",
       "      <td>...</td>\n",
       "      <td>...</td>\n",
       "      <td>...</td>\n",
       "      <td>...</td>\n",
       "    </tr>\n",
       "    <tr>\n",
       "      <th>29909400</th>\n",
       "      <td>590.0</td>\n",
       "      <td>0.412600</td>\n",
       "      <td>Debt Consolidation</td>\n",
       "      <td>1</td>\n",
       "      <td>Rejected</td>\n",
       "    </tr>\n",
       "    <tr>\n",
       "      <th>29909401</th>\n",
       "      <td>None</td>\n",
       "      <td>0.014800</td>\n",
       "      <td>Moving And Relocation</td>\n",
       "      <td>6</td>\n",
       "      <td>Rejected</td>\n",
       "    </tr>\n",
       "    <tr>\n",
       "      <th>29909402</th>\n",
       "      <td>686.0</td>\n",
       "      <td>0.102600</td>\n",
       "      <td>Other</td>\n",
       "      <td>1</td>\n",
       "      <td>Rejected</td>\n",
       "    </tr>\n",
       "    <tr>\n",
       "      <th>29909403</th>\n",
       "      <td>None</td>\n",
       "      <td>0.177100</td>\n",
       "      <td>Debt Consolidation</td>\n",
       "      <td>1</td>\n",
       "      <td>Rejected</td>\n",
       "    </tr>\n",
       "    <tr>\n",
       "      <th>29909404</th>\n",
       "      <td>684.0</td>\n",
       "      <td>0.105800</td>\n",
       "      <td>Business Loan</td>\n",
       "      <td>1</td>\n",
       "      <td>Rejected</td>\n",
       "    </tr>\n",
       "  </tbody>\n",
       "</table>\n",
       "<p>29909405 rows × 5 columns</p>\n",
       "</div>"
      ],
      "text/plain": [
       "         Risk_Score        DI              Loan Type  Employment Length  \\\n",
       "0             677.0  0.065455     Debt Consolidation                 11   \n",
       "1             717.0  0.380000          Business Loan                 11   \n",
       "2             697.0  0.317460       Home Improvement                 11   \n",
       "3             787.0  0.318182     Debt Consolidation                 11   \n",
       "4             697.0  0.099585         Major Purchase                  4   \n",
       "...             ...       ...                    ...                ...   \n",
       "29909400      590.0  0.412600     Debt Consolidation                  1   \n",
       "29909401       None  0.014800  Moving And Relocation                  6   \n",
       "29909402      686.0  0.102600                  Other                  1   \n",
       "29909403       None  0.177100     Debt Consolidation                  1   \n",
       "29909404      684.0  0.105800          Business Loan                  1   \n",
       "\n",
       "         Loan Application  \n",
       "0                Accepted  \n",
       "1                Accepted  \n",
       "2                Accepted  \n",
       "3                Accepted  \n",
       "4                Accepted  \n",
       "...                   ...  \n",
       "29909400         Rejected  \n",
       "29909401         Rejected  \n",
       "29909402         Rejected  \n",
       "29909403         Rejected  \n",
       "29909404         Rejected  \n",
       "\n",
       "[29909405 rows x 5 columns]"
      ]
     },
     "execution_count": 13,
     "metadata": {},
     "output_type": "execute_result"
    }
   ],
   "source": [
    "combo"
   ]
  },
  {
   "cell_type": "code",
   "execution_count": null,
   "id": "27b8d96e",
   "metadata": {},
   "outputs": [],
   "source": []
  },
  {
   "cell_type": "code",
   "execution_count": 53,
   "id": "502697c7",
   "metadata": {},
   "outputs": [
    {
     "data": {
      "image/png": "[encoded data removed]",
      "text/plain": [
       "<Figure size 800x800 with 1 Axes>"
      ]
     },
     "metadata": {},
     "output_type": "display_data"
    }
   ],
   "source": [
    "plt.figure(figsize=(8,8))\n",
    "plt.style.use('default')\n",
    "plt.style.use('ggplot')\n",
    "\n",
    "#sns.displot(data=a, x='FICO', kind='hist', bins=15, color = 'blue', aspect=1.5)\n",
    "sns.countplot(data=combo, x='Employment Length', \n",
    "              hue='Loan Application', hue_order=['Rejected', 'Accepted'],\n",
    "              palette={'Rejected':'red','Accepted':'blue'}).set_xticklabels(['None', '0 to 1', '1', '2', '3', '4', '5', '6', '7', '8', '9', '10+ Years'], rotation=45)\n",
    "\n",
    "plt.title('Impact of Employment Length on Loan Application', fontsize=20, color='black')\n",
    "plt.xlabel('Employment Length (In Years)', fontsize=15, color='black')\n",
    "plt.ylabel('Number of Applications', fontsize=15, color='black')\n",
    "plt.ticklabel_format(style='plain', axis='y')\n",
    "\n",
    "#lg = plt.gcf().legend(title='Loan Applications', loc='center right')\n",
    "#lg.get_title().set_fontsize(14)\n",
    "#plt.legend(loc='center', fontsize=15)\n",
    "\n",
    "#plt.legend(title_fontsize='large')\n",
    "#plt.rcParams['title_fontsize'] = 15\n",
    "plt.legend(fontsize='xx-large')\n",
    "#plt.legend(fontsize=12)\n",
    "\n",
    "plt.tight_layout()\n",
    "plt.show();"
   ]
  },
  {
   "cell_type": "code",
   "execution_count": null,
   "id": "b495ca3c",
   "metadata": {},
   "outputs": [],
   "source": []
  },
  {
   "cell_type": "code",
   "execution_count": null,
   "id": "dd4057ea",
   "metadata": {},
   "outputs": [],
   "source": []
  },
  {
   "cell_type": "code",
   "execution_count": null,
   "id": "e6426fd8",
   "metadata": {},
   "outputs": [],
   "source": []
  },
  {
   "cell_type": "code",
   "execution_count": null,
   "id": "6ad3b4be",
   "metadata": {},
   "outputs": [],
   "source": []
  },
  {
   "cell_type": "code",
   "execution_count": null,
   "id": "6f0c5c8e",
   "metadata": {},
   "outputs": [],
   "source": []
  },
  {
   "cell_type": "code",
   "execution_count": null,
   "id": "9f889e80",
   "metadata": {},
   "outputs": [],
   "source": []
  },
  {
   "cell_type": "code",
   "execution_count": 15,
   "id": "b59d4a6e",
   "metadata": {},
   "outputs": [],
   "source": [
    "#Addtional Images Below for Trial and Error, Unused: "
   ]
  },
  {
   "cell_type": "code",
   "execution_count": 16,
   "id": "46cabb5b",
   "metadata": {},
   "outputs": [
    {
     "data": {
      "text/plain": [
       "<Figure size 800x800 with 0 Axes>"
      ]
     },
     "metadata": {},
     "output_type": "display_data"
    },
    {
     "data": {
      "image/png": "[encoded data removed]",
      "text/plain": [
       "<Figure size 626.736x500 with 1 Axes>"
      ]
     },
     "metadata": {},
     "output_type": "display_data"
    }
   ],
   "source": [
    "plt.figure(figsize=(8,8))\n",
    "plt.style.use('default')\n",
    "plt.style.use('ggplot')\n",
    "\n",
    "#sns.displot(data=a, x='FICO', kind='hist', bins=15, color = 'blue', aspect=1.5)\n",
    "sns.displot(data=combo, x='Employment Length', hue='Loan Application', multiple='stack', bins=11)\n",
    "\n",
    "plt.title('FICO Scores For Accepted Loans', fontsize=16, color='black')\n",
    "plt.xlabel('Employment Length', fontsize=14, color='black')\n",
    "plt.ylabel('Count', fontsize=14, color='black')\n",
    "#plt.legend(fontsize=12)\n",
    "\n",
    "plt.tight_layout()\n",
    "plt.show();"
   ]
  },
  {
   "cell_type": "code",
   "execution_count": null,
   "id": "6a9e4dc5",
   "metadata": {},
   "outputs": [],
   "source": []
  },
  {
   "cell_type": "code",
   "execution_count": 17,
   "id": "a1482c15",
   "metadata": {},
   "outputs": [
    {
     "data": {
      "text/html": [
       "<div>\n",
       "<style scoped>\n",
       "    .dataframe tbody tr th:only-of-type {\n",
       "        vertical-align: middle;\n",
       "    }\n",
       "\n",
       "    .dataframe tbody tr th {\n",
       "        vertical-align: top;\n",
       "    }\n",
       "\n",
       "    .dataframe thead th {\n",
       "        text-align: right;\n",
       "    }\n",
       "</style>\n",
       "<table border=\"1\" class=\"dataframe\">\n",
       "  <thead>\n",
       "    <tr style=\"text-align: right;\">\n",
       "      <th></th>\n",
       "      <th>Risk_Score</th>\n",
       "      <th>DI</th>\n",
       "      <th>Loan Type</th>\n",
       "      <th>Employment Length</th>\n",
       "      <th>Loan Application</th>\n",
       "    </tr>\n",
       "  </thead>\n",
       "  <tbody>\n",
       "    <tr>\n",
       "      <th>0</th>\n",
       "      <td>677.0</td>\n",
       "      <td>0.065455</td>\n",
       "      <td>Debt Consolidation</td>\n",
       "      <td>11</td>\n",
       "      <td>Accepted</td>\n",
       "    </tr>\n",
       "    <tr>\n",
       "      <th>1</th>\n",
       "      <td>717.0</td>\n",
       "      <td>0.380000</td>\n",
       "      <td>Business Loan</td>\n",
       "      <td>11</td>\n",
       "      <td>Accepted</td>\n",
       "    </tr>\n",
       "    <tr>\n",
       "      <th>2</th>\n",
       "      <td>697.0</td>\n",
       "      <td>0.317460</td>\n",
       "      <td>Home Improvement</td>\n",
       "      <td>11</td>\n",
       "      <td>Accepted</td>\n",
       "    </tr>\n",
       "    <tr>\n",
       "      <th>3</th>\n",
       "      <td>787.0</td>\n",
       "      <td>0.318182</td>\n",
       "      <td>Debt Consolidation</td>\n",
       "      <td>11</td>\n",
       "      <td>Accepted</td>\n",
       "    </tr>\n",
       "    <tr>\n",
       "      <th>4</th>\n",
       "      <td>697.0</td>\n",
       "      <td>0.099585</td>\n",
       "      <td>Major Purchase</td>\n",
       "      <td>4</td>\n",
       "      <td>Accepted</td>\n",
       "    </tr>\n",
       "    <tr>\n",
       "      <th>...</th>\n",
       "      <td>...</td>\n",
       "      <td>...</td>\n",
       "      <td>...</td>\n",
       "      <td>...</td>\n",
       "      <td>...</td>\n",
       "    </tr>\n",
       "    <tr>\n",
       "      <th>2260659</th>\n",
       "      <td>667.0</td>\n",
       "      <td>0.252632</td>\n",
       "      <td>Home Improvement</td>\n",
       "      <td>8</td>\n",
       "      <td>Accepted</td>\n",
       "    </tr>\n",
       "    <tr>\n",
       "      <th>2260660</th>\n",
       "      <td>697.0</td>\n",
       "      <td>0.222222</td>\n",
       "      <td>Debt Consolidation</td>\n",
       "      <td>11</td>\n",
       "      <td>Accepted</td>\n",
       "    </tr>\n",
       "    <tr>\n",
       "      <th>2260661</th>\n",
       "      <td>707.0</td>\n",
       "      <td>0.176211</td>\n",
       "      <td>Debt Consolidation</td>\n",
       "      <td>10</td>\n",
       "      <td>Accepted</td>\n",
       "    </tr>\n",
       "    <tr>\n",
       "      <th>2260662</th>\n",
       "      <td>662.0</td>\n",
       "      <td>0.218182</td>\n",
       "      <td>Debt Consolidation</td>\n",
       "      <td>7</td>\n",
       "      <td>Accepted</td>\n",
       "    </tr>\n",
       "    <tr>\n",
       "      <th>2260663</th>\n",
       "      <td>662.0</td>\n",
       "      <td>0.147368</td>\n",
       "      <td>Debt Consolidation</td>\n",
       "      <td>11</td>\n",
       "      <td>Accepted</td>\n",
       "    </tr>\n",
       "  </tbody>\n",
       "</table>\n",
       "<p>2260664 rows × 5 columns</p>\n",
       "</div>"
      ],
      "text/plain": [
       "        Risk_Score        DI           Loan Type  Employment Length  \\\n",
       "0            677.0  0.065455  Debt Consolidation                 11   \n",
       "1            717.0  0.380000       Business Loan                 11   \n",
       "2            697.0  0.317460    Home Improvement                 11   \n",
       "3            787.0  0.318182  Debt Consolidation                 11   \n",
       "4            697.0  0.099585      Major Purchase                  4   \n",
       "...            ...       ...                 ...                ...   \n",
       "2260659      667.0  0.252632    Home Improvement                  8   \n",
       "2260660      697.0  0.222222  Debt Consolidation                 11   \n",
       "2260661      707.0  0.176211  Debt Consolidation                 10   \n",
       "2260662      662.0  0.218182  Debt Consolidation                  7   \n",
       "2260663      662.0  0.147368  Debt Consolidation                 11   \n",
       "\n",
       "        Loan Application  \n",
       "0               Accepted  \n",
       "1               Accepted  \n",
       "2               Accepted  \n",
       "3               Accepted  \n",
       "4               Accepted  \n",
       "...                  ...  \n",
       "2260659         Accepted  \n",
       "2260660         Accepted  \n",
       "2260661         Accepted  \n",
       "2260662         Accepted  \n",
       "2260663         Accepted  \n",
       "\n",
       "[2260664 rows x 5 columns]"
      ]
     },
     "execution_count": 17,
     "metadata": {},
     "output_type": "execute_result"
    }
   ],
   "source": [
    "a = combo[combo['Loan Application']=='Accepted']\n",
    "a"
   ]
  },
  {
   "cell_type": "code",
   "execution_count": 18,
   "id": "a28634f4",
   "metadata": {},
   "outputs": [
    {
     "data": {
      "text/plain": [
       "<Figure size 800x800 with 0 Axes>"
      ]
     },
     "metadata": {},
     "output_type": "display_data"
    },
    {
     "data": {
      "image/png": "[encoded data removed]",
      "text/plain": [
       "<Figure size 500x500 with 1 Axes>"
      ]
     },
     "metadata": {},
     "output_type": "display_data"
    }
   ],
   "source": [
    "plt.figure(figsize=(8,8))\n",
    "plt.style.use('default')\n",
    "plt.style.use('ggplot')\n",
    "\n",
    "#sns.displot(data=a, x='FICO', kind='hist', bins=15, color = 'blue', aspect=1.5)\n",
    "sns.displot(data=a, x='Employment Length', bins=11)\n",
    "\n",
    "plt.title('FICO Scores For Accepted Loans', fontsize=16, color='black')\n",
    "plt.xlabel('Employment Length', fontsize=14, color='black')\n",
    "plt.ylabel('Count', fontsize=14, color='black')\n",
    "#plt.legend(fontsize=12)\n",
    "\n",
    "plt.tight_layout()\n",
    "plt.show();"
   ]
  },
  {
   "cell_type": "code",
   "execution_count": 19,
   "id": "d93d02d3",
   "metadata": {},
   "outputs": [
    {
     "data": {
      "text/html": [
       "<div>\n",
       "<style scoped>\n",
       "    .dataframe tbody tr th:only-of-type {\n",
       "        vertical-align: middle;\n",
       "    }\n",
       "\n",
       "    .dataframe tbody tr th {\n",
       "        vertical-align: top;\n",
       "    }\n",
       "\n",
       "    .dataframe thead th {\n",
       "        text-align: right;\n",
       "    }\n",
       "</style>\n",
       "<table border=\"1\" class=\"dataframe\">\n",
       "  <thead>\n",
       "    <tr style=\"text-align: right;\">\n",
       "      <th></th>\n",
       "      <th>Risk_Score</th>\n",
       "      <th>DI</th>\n",
       "      <th>Loan Type</th>\n",
       "      <th>Employment Length</th>\n",
       "      <th>Loan Application</th>\n",
       "    </tr>\n",
       "  </thead>\n",
       "  <tbody>\n",
       "    <tr>\n",
       "      <th>2260664</th>\n",
       "      <td>693.0</td>\n",
       "      <td>0.1000</td>\n",
       "      <td>Wedding Covered but No Honeymoon</td>\n",
       "      <td>5</td>\n",
       "      <td>Rejected</td>\n",
       "    </tr>\n",
       "    <tr>\n",
       "      <th>2260665</th>\n",
       "      <td>703.0</td>\n",
       "      <td>0.1000</td>\n",
       "      <td>Consolidating Debt</td>\n",
       "      <td>1</td>\n",
       "      <td>Rejected</td>\n",
       "    </tr>\n",
       "    <tr>\n",
       "      <th>2260666</th>\n",
       "      <td>715.0</td>\n",
       "      <td>0.1000</td>\n",
       "      <td>Want to consolidate my debt</td>\n",
       "      <td>2</td>\n",
       "      <td>Rejected</td>\n",
       "    </tr>\n",
       "    <tr>\n",
       "      <th>2260667</th>\n",
       "      <td>698.0</td>\n",
       "      <td>0.3864</td>\n",
       "      <td>waksman</td>\n",
       "      <td>1</td>\n",
       "      <td>Rejected</td>\n",
       "    </tr>\n",
       "    <tr>\n",
       "      <th>2260668</th>\n",
       "      <td>509.0</td>\n",
       "      <td>0.0943</td>\n",
       "      <td>mdrigo</td>\n",
       "      <td>1</td>\n",
       "      <td>Rejected</td>\n",
       "    </tr>\n",
       "    <tr>\n",
       "      <th>...</th>\n",
       "      <td>...</td>\n",
       "      <td>...</td>\n",
       "      <td>...</td>\n",
       "      <td>...</td>\n",
       "      <td>...</td>\n",
       "    </tr>\n",
       "    <tr>\n",
       "      <th>29909400</th>\n",
       "      <td>590.0</td>\n",
       "      <td>0.4126</td>\n",
       "      <td>Debt Consolidation</td>\n",
       "      <td>1</td>\n",
       "      <td>Rejected</td>\n",
       "    </tr>\n",
       "    <tr>\n",
       "      <th>29909401</th>\n",
       "      <td>None</td>\n",
       "      <td>0.0148</td>\n",
       "      <td>Moving And Relocation</td>\n",
       "      <td>6</td>\n",
       "      <td>Rejected</td>\n",
       "    </tr>\n",
       "    <tr>\n",
       "      <th>29909402</th>\n",
       "      <td>686.0</td>\n",
       "      <td>0.1026</td>\n",
       "      <td>Other</td>\n",
       "      <td>1</td>\n",
       "      <td>Rejected</td>\n",
       "    </tr>\n",
       "    <tr>\n",
       "      <th>29909403</th>\n",
       "      <td>None</td>\n",
       "      <td>0.1771</td>\n",
       "      <td>Debt Consolidation</td>\n",
       "      <td>1</td>\n",
       "      <td>Rejected</td>\n",
       "    </tr>\n",
       "    <tr>\n",
       "      <th>29909404</th>\n",
       "      <td>684.0</td>\n",
       "      <td>0.1058</td>\n",
       "      <td>Business Loan</td>\n",
       "      <td>1</td>\n",
       "      <td>Rejected</td>\n",
       "    </tr>\n",
       "  </tbody>\n",
       "</table>\n",
       "<p>27648741 rows × 5 columns</p>\n",
       "</div>"
      ],
      "text/plain": [
       "         Risk_Score      DI                         Loan Type  \\\n",
       "2260664       693.0  0.1000  Wedding Covered but No Honeymoon   \n",
       "2260665       703.0  0.1000                Consolidating Debt   \n",
       "2260666       715.0  0.1000       Want to consolidate my debt   \n",
       "2260667       698.0  0.3864                           waksman   \n",
       "2260668       509.0  0.0943                            mdrigo   \n",
       "...             ...     ...                               ...   \n",
       "29909400      590.0  0.4126                Debt Consolidation   \n",
       "29909401       None  0.0148             Moving And Relocation   \n",
       "29909402      686.0  0.1026                             Other   \n",
       "29909403       None  0.1771                Debt Consolidation   \n",
       "29909404      684.0  0.1058                     Business Loan   \n",
       "\n",
       "          Employment Length Loan Application  \n",
       "2260664                   5         Rejected  \n",
       "2260665                   1         Rejected  \n",
       "2260666                   2         Rejected  \n",
       "2260667                   1         Rejected  \n",
       "2260668                   1         Rejected  \n",
       "...                     ...              ...  \n",
       "29909400                  1         Rejected  \n",
       "29909401                  6         Rejected  \n",
       "29909402                  1         Rejected  \n",
       "29909403                  1         Rejected  \n",
       "29909404                  1         Rejected  \n",
       "\n",
       "[27648741 rows x 5 columns]"
      ]
     },
     "execution_count": 19,
     "metadata": {},
     "output_type": "execute_result"
    }
   ],
   "source": [
    "r = combo[combo['Loan Application']=='Rejected']\n",
    "r"
   ]
  },
  {
   "cell_type": "code",
   "execution_count": 20,
   "id": "07962353",
   "metadata": {},
   "outputs": [
    {
     "data": {
      "text/plain": [
       "<Figure size 800x800 with 0 Axes>"
      ]
     },
     "metadata": {},
     "output_type": "display_data"
    },
    {
     "data": {
      "image/png": "[encoded data removed]",
      "text/plain": [
       "<Figure size 500x500 with 1 Axes>"
      ]
     },
     "metadata": {},
     "output_type": "display_data"
    }
   ],
   "source": [
    "plt.figure(figsize=(8,8))\n",
    "plt.style.use('default')\n",
    "plt.style.use('ggplot')\n",
    "\n",
    "#sns.displot(data=a, x='FICO', kind='hist', bins=15, color = 'blue', aspect=1.5)\n",
    "sns.displot(data=r, x='Employment Length', bins=11)\n",
    "\n",
    "plt.title('FICO Scores For Accepted Loans', fontsize=16, color='black')\n",
    "plt.xlabel('Employment Length', fontsize=14, color='black')\n",
    "plt.ylabel('Count', fontsize=14, color='black')\n",
    "#plt.legend(fontsize=12)\n",
    "\n",
    "plt.tight_layout()\n",
    "plt.show();"
   ]
  },
  {
   "cell_type": "code",
   "execution_count": null,
   "id": "aecf9d7c",
   "metadata": {},
   "outputs": [],
   "source": []
  },
  {
   "cell_type": "code",
   "execution_count": null,
   "id": "5bc300db",
   "metadata": {},
   "outputs": [],
   "source": []
  },
  {
   "cell_type": "code",
   "execution_count": 21,
   "id": "46c86e9a",
   "metadata": {},
   "outputs": [
    {
     "data": {
      "text/plain": [
       "<Figure size 800x800 with 0 Axes>"
      ]
     },
     "metadata": {},
     "output_type": "display_data"
    },
    {
     "data": {
      "image/png": "[encoded data removed]",
      "text/plain": [
       "<Figure size 626.736x500 with 1 Axes>"
      ]
     },
     "metadata": {},
     "output_type": "display_data"
    }
   ],
   "source": [
    "plt.figure(figsize=(8,8))\n",
    "plt.style.use('default')\n",
    "plt.style.use('ggplot')\n",
    "\n",
    "#sns.displot(data=a, x='FICO', kind='hist', bins=15, color = 'blue', aspect=1.5)\n",
    "sns.displot(data=combo, x='Employment Length', hue='Loan Application', kind='kde')\n",
    "\n",
    "plt.title('FICO Scores For Accepted Loans', fontsize=16, color='black')\n",
    "plt.xlabel('Employment Length', fontsize=14, color='black')\n",
    "plt.ylabel('Count', fontsize=14, color='black')\n",
    "#plt.legend(fontsize=12)\n",
    "\n",
    "plt.tight_layout()\n",
    "plt.show();"
   ]
  },
  {
   "cell_type": "code",
   "execution_count": 22,
   "id": "bfc213b0",
   "metadata": {},
   "outputs": [
    {
     "data": {
      "text/plain": [
       "<Figure size 800x800 with 0 Axes>"
      ]
     },
     "metadata": {},
     "output_type": "display_data"
    },
    {
     "data": {
      "image/png": "[encoded data removed]",
      "text/plain": [
       "<Figure size 626.736x500 with 1 Axes>"
      ]
     },
     "metadata": {},
     "output_type": "display_data"
    }
   ],
   "source": [
    "plt.figure(figsize=(8,8))\n",
    "plt.style.use('default')\n",
    "plt.style.use('ggplot')\n",
    "\n",
    "#sns.displot(data=a, x='FICO', kind='hist', bins=15, color = 'blue', aspect=1.5)\n",
    "sns.displot(data=combo, x='Employment Length', hue='Loan Application', multiple='stack', kind='kde')\n",
    "\n",
    "plt.title('FICO Scores For Accepted Loans', fontsize=16, color='black')\n",
    "plt.xlabel('Employment Length', fontsize=14, color='black')\n",
    "plt.ylabel('Count', fontsize=14, color='black')\n",
    "#plt.legend(fontsize=12)\n",
    "\n",
    "plt.tight_layout()\n",
    "plt.show();"
   ]
  },
  {
   "cell_type": "code",
   "execution_count": null,
   "id": "3dc5420d",
   "metadata": {},
   "outputs": [],
   "source": []
  },
  {
   "cell_type": "code",
   "execution_count": null,
   "id": "c1625ebb",
   "metadata": {},
   "outputs": [],
   "source": []
  },
  {
   "cell_type": "code",
   "execution_count": 23,
   "id": "daae9541",
   "metadata": {},
   "outputs": [
    {
     "data": {
      "text/html": [
       "<div>\n",
       "<style scoped>\n",
       "    .dataframe tbody tr th:only-of-type {\n",
       "        vertical-align: middle;\n",
       "    }\n",
       "\n",
       "    .dataframe tbody tr th {\n",
       "        vertical-align: top;\n",
       "    }\n",
       "\n",
       "    .dataframe thead th {\n",
       "        text-align: right;\n",
       "    }\n",
       "</style>\n",
       "<table border=\"1\" class=\"dataframe\">\n",
       "  <thead>\n",
       "    <tr style=\"text-align: right;\">\n",
       "      <th></th>\n",
       "      <th>Risk_Score</th>\n",
       "      <th>DI</th>\n",
       "      <th>Loan Type</th>\n",
       "      <th>Employment Length</th>\n",
       "      <th>Loan Application</th>\n",
       "    </tr>\n",
       "  </thead>\n",
       "  <tbody>\n",
       "    <tr>\n",
       "      <th>16961773</th>\n",
       "      <td>None</td>\n",
       "      <td>1.0000</td>\n",
       "      <td>Debt Consolidation</td>\n",
       "      <td>1</td>\n",
       "      <td>Rejected</td>\n",
       "    </tr>\n",
       "    <tr>\n",
       "      <th>19678419</th>\n",
       "      <td>None</td>\n",
       "      <td>0.2473</td>\n",
       "      <td>Other</td>\n",
       "      <td>1</td>\n",
       "      <td>Rejected</td>\n",
       "    </tr>\n",
       "    <tr>\n",
       "      <th>11413280</th>\n",
       "      <td>642.0</td>\n",
       "      <td>0.3379</td>\n",
       "      <td>Debt Consolidation</td>\n",
       "      <td>1</td>\n",
       "      <td>Rejected</td>\n",
       "    </tr>\n",
       "    <tr>\n",
       "      <th>5172808</th>\n",
       "      <td>552.0</td>\n",
       "      <td>0.0000</td>\n",
       "      <td>Home Purchase</td>\n",
       "      <td>1</td>\n",
       "      <td>Rejected</td>\n",
       "    </tr>\n",
       "    <tr>\n",
       "      <th>3112034</th>\n",
       "      <td>639.0</td>\n",
       "      <td>0.1751</td>\n",
       "      <td>Credit Card Refinancing</td>\n",
       "      <td>1</td>\n",
       "      <td>Rejected</td>\n",
       "    </tr>\n",
       "    <tr>\n",
       "      <th>14040453</th>\n",
       "      <td>681.0</td>\n",
       "      <td>0.3977</td>\n",
       "      <td>Credit Card Refinancing</td>\n",
       "      <td>1</td>\n",
       "      <td>Rejected</td>\n",
       "    </tr>\n",
       "    <tr>\n",
       "      <th>10541366</th>\n",
       "      <td>620.0</td>\n",
       "      <td>0.3020</td>\n",
       "      <td>Debt Consolidation</td>\n",
       "      <td>1</td>\n",
       "      <td>Rejected</td>\n",
       "    </tr>\n",
       "    <tr>\n",
       "      <th>29268998</th>\n",
       "      <td>None</td>\n",
       "      <td>0.2474</td>\n",
       "      <td>Car Financing</td>\n",
       "      <td>1</td>\n",
       "      <td>Rejected</td>\n",
       "    </tr>\n",
       "    <tr>\n",
       "      <th>13989618</th>\n",
       "      <td>606.0</td>\n",
       "      <td>0.0279</td>\n",
       "      <td>Other</td>\n",
       "      <td>3</td>\n",
       "      <td>Rejected</td>\n",
       "    </tr>\n",
       "    <tr>\n",
       "      <th>26012648</th>\n",
       "      <td>None</td>\n",
       "      <td>0.1225</td>\n",
       "      <td>Credit Card Refinancing</td>\n",
       "      <td>1</td>\n",
       "      <td>Rejected</td>\n",
       "    </tr>\n",
       "    <tr>\n",
       "      <th>21640576</th>\n",
       "      <td>None</td>\n",
       "      <td>0.5115</td>\n",
       "      <td>Credit Card Refinancing</td>\n",
       "      <td>1</td>\n",
       "      <td>Rejected</td>\n",
       "    </tr>\n",
       "    <tr>\n",
       "      <th>25357877</th>\n",
       "      <td>None</td>\n",
       "      <td>0.4643</td>\n",
       "      <td>Debt Consolidation</td>\n",
       "      <td>1</td>\n",
       "      <td>Rejected</td>\n",
       "    </tr>\n",
       "    <tr>\n",
       "      <th>4310674</th>\n",
       "      <td>None</td>\n",
       "      <td>0.4036</td>\n",
       "      <td>Moving And Relocation</td>\n",
       "      <td>1</td>\n",
       "      <td>Rejected</td>\n",
       "    </tr>\n",
       "    <tr>\n",
       "      <th>21651713</th>\n",
       "      <td>None</td>\n",
       "      <td>0.2295</td>\n",
       "      <td>Debt Consolidation</td>\n",
       "      <td>1</td>\n",
       "      <td>Rejected</td>\n",
       "    </tr>\n",
       "    <tr>\n",
       "      <th>10304361</th>\n",
       "      <td>501.0</td>\n",
       "      <td>0.9453</td>\n",
       "      <td>Car Financing</td>\n",
       "      <td>1</td>\n",
       "      <td>Rejected</td>\n",
       "    </tr>\n",
       "    <tr>\n",
       "      <th>26133220</th>\n",
       "      <td>None</td>\n",
       "      <td>0.8309</td>\n",
       "      <td>Credit Card Refinancing</td>\n",
       "      <td>1</td>\n",
       "      <td>Rejected</td>\n",
       "    </tr>\n",
       "    <tr>\n",
       "      <th>24961926</th>\n",
       "      <td>None</td>\n",
       "      <td>0.3545</td>\n",
       "      <td>Debt Consolidation</td>\n",
       "      <td>1</td>\n",
       "      <td>Rejected</td>\n",
       "    </tr>\n",
       "    <tr>\n",
       "      <th>28403304</th>\n",
       "      <td>None</td>\n",
       "      <td>0.0000</td>\n",
       "      <td>Other</td>\n",
       "      <td>3</td>\n",
       "      <td>Rejected</td>\n",
       "    </tr>\n",
       "    <tr>\n",
       "      <th>11708883</th>\n",
       "      <td>727.0</td>\n",
       "      <td>0.1770</td>\n",
       "      <td>Debt Consolidation</td>\n",
       "      <td>1</td>\n",
       "      <td>Rejected</td>\n",
       "    </tr>\n",
       "    <tr>\n",
       "      <th>15124804</th>\n",
       "      <td>533.0</td>\n",
       "      <td>0.1161</td>\n",
       "      <td>Home Improvement</td>\n",
       "      <td>1</td>\n",
       "      <td>Rejected</td>\n",
       "    </tr>\n",
       "  </tbody>\n",
       "</table>\n",
       "</div>"
      ],
      "text/plain": [
       "         Risk_Score      DI                Loan Type  Employment Length  \\\n",
       "16961773       None  1.0000       Debt Consolidation                  1   \n",
       "19678419       None  0.2473                    Other                  1   \n",
       "11413280      642.0  0.3379       Debt Consolidation                  1   \n",
       "5172808       552.0  0.0000            Home Purchase                  1   \n",
       "3112034       639.0  0.1751  Credit Card Refinancing                  1   \n",
       "14040453      681.0  0.3977  Credit Card Refinancing                  1   \n",
       "10541366      620.0  0.3020       Debt Consolidation                  1   \n",
       "29268998       None  0.2474            Car Financing                  1   \n",
       "13989618      606.0  0.0279                    Other                  3   \n",
       "26012648       None  0.1225  Credit Card Refinancing                  1   \n",
       "21640576       None  0.5115  Credit Card Refinancing                  1   \n",
       "25357877       None  0.4643       Debt Consolidation                  1   \n",
       "4310674        None  0.4036    Moving And Relocation                  1   \n",
       "21651713       None  0.2295       Debt Consolidation                  1   \n",
       "10304361      501.0  0.9453            Car Financing                  1   \n",
       "26133220       None  0.8309  Credit Card Refinancing                  1   \n",
       "24961926       None  0.3545       Debt Consolidation                  1   \n",
       "28403304       None  0.0000                    Other                  3   \n",
       "11708883      727.0  0.1770       Debt Consolidation                  1   \n",
       "15124804      533.0  0.1161         Home Improvement                  1   \n",
       "\n",
       "         Loan Application  \n",
       "16961773         Rejected  \n",
       "19678419         Rejected  \n",
       "11413280         Rejected  \n",
       "5172808          Rejected  \n",
       "3112034          Rejected  \n",
       "14040453         Rejected  \n",
       "10541366         Rejected  \n",
       "29268998         Rejected  \n",
       "13989618         Rejected  \n",
       "26012648         Rejected  \n",
       "21640576         Rejected  \n",
       "25357877         Rejected  \n",
       "4310674          Rejected  \n",
       "21651713         Rejected  \n",
       "10304361         Rejected  \n",
       "26133220         Rejected  \n",
       "24961926         Rejected  \n",
       "28403304         Rejected  \n",
       "11708883         Rejected  \n",
       "15124804         Rejected  "
      ]
     },
     "execution_count": 23,
     "metadata": {},
     "output_type": "execute_result"
    }
   ],
   "source": [
    "combo.sample(20)"
   ]
  },
  {
   "cell_type": "code",
   "execution_count": 24,
   "id": "e8bed20e",
   "metadata": {},
   "outputs": [
    {
     "data": {
      "text/plain": [
       "Risk_Score            object\n",
       "DI                   float64\n",
       "Loan Type             object\n",
       "Employment Length      int64\n",
       "Loan Application      object\n",
       "dtype: object"
      ]
     },
     "execution_count": 24,
     "metadata": {},
     "output_type": "execute_result"
    }
   ],
   "source": [
    "combo.dtypes"
   ]
  },
  {
   "cell_type": "code",
   "execution_count": null,
   "id": "a745b9c6",
   "metadata": {},
   "outputs": [],
   "source": []
  },
  {
   "cell_type": "code",
   "execution_count": null,
   "id": "f09641c5",
   "metadata": {},
   "outputs": [],
   "source": []
  }
 ],
 "metadata": {
  "hide_input": false,
  "kernelspec": {
   "display_name": "Python 3 (ipykernel)",
   "language": "python",
   "name": "python3"
  },
  "language_info": {
   "codemirror_mode": {
    "name": "ipython",
    "version": 3
   },
   "file_extension": ".py",
   "mimetype": "text/x-python",
   "name": "python",
   "nbconvert_exporter": "python",
   "pygments_lexer": "ipython3",
   "version": "3.8.8"
  },
  "varInspector": {
   "cols": {
    "lenName": 16,
    "lenType": 16,
    "lenVar": 40
   },
   "kernels_config": {
    "python": {
     "delete_cmd_postfix": "",
     "delete_cmd_prefix": "del ",
     "library": "var_list.py",
     "varRefreshCmd": "print(var_dic_list())"
    },
    "r": {
     "delete_cmd_postfix": ") ",
     "delete_cmd_prefix": "rm(",
     "library": "var_list.r",
     "varRefreshCmd": "cat(var_dic_list()) "
    }
   },
   "types_to_exclude": [
    "module",
    "function",
    "builtin_function_or_method",
    "instance",
    "_Feature"
   ],
   "window_display": false
  }
 },
 "nbformat": 4,
 "nbformat_minor": 5
}
